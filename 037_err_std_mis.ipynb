{
 "cells": [
  {
   "attachments": {},
   "cell_type": "markdown",
   "id": "394f4dc0",
   "metadata": {},
   "source": [
    "(err-std_mis-notebook)=\n",
    "# L'errore standard della misurazione "
   ]
  },
  {
   "cell_type": "code",
   "execution_count": 3,
   "id": "e5ff922d",
   "metadata": {
    "tags": [
     "remove_cell"
    ],
    "vscode": {
     "languageId": "r"
    }
   },
   "outputs": [],
   "source": [
    "source(\"_common.R\")\n",
    "suppressWarnings(suppressMessages(library(\"psychometric\")))"
   ]
  },
  {
   "attachments": {},
   "cell_type": "markdown",
   "id": "e2954c4e",
   "metadata": {},
   "source": [
    "Secondo {cite:t}`lord1968statistical`, l'errore $E = X - T$ rappresenta la variabile aleatoria di primario interesse per la CTT. Infatti, poiché lo scopo della CTT è di stimare il punteggio vero di ciascun rispondente e confrontare le stime ottenute per rispondenti diversi, la grandezza dell'errore $E$ è un'informazione essenziale. La discrepanza tra il punteggio osservato e il punteggio vero può essere misurata utilizzando la deviazione standard di $E$, chiamata \"errore standard della misurazione\" o SEM. Pertanto, l'errore standard della misurazione è lo strumento utilizzato dalla CTT per stimare in che misura un punteggio osservato si discosta da un punteggio vero.\n",
    "\n",
    "In questo capitolo vedremo come si può stimare $\\sigma_E$ nel caso di un campione di osservazioni.\n",
    "\n",
    "## L'incertezza della misura \n",
    "\n",
    "In base alla CTT, è possibile stimare l'errore standard della misurazione utilizzando una formula che dipende dalla deviazione standard della distribuzione dei punteggi del test e dall'attendibilità del test. Mediante questa formula, è possibile ottenere una stima dell'errore standard associato a un singolo punteggio, il quale indica quanto il punteggio osservato può variare rispetto al vero punteggio di un individuo:\n",
    "\n",
    "$$\n",
    "\\sigma_E = \\sigma_X \\sqrt{1 -\\rho_{XX^\\prime}},\n",
    "$$ (eq-err-stnd-mis)\n",
    "\n",
    "dove $\\sigma_X$ rappresenta la deviazione standard dei punteggi ottenuti da un campione di soggetti e $\\rho_{XX^\\prime}$ è il coefficiente di attendibilità. Attraverso questo calcolo, si ottiene l'errore standard della misurazione sottraendo l'attendibilità del test da 1, quindi calcolando la radice quadrata del risultato e moltiplicandolo per la deviazione standard dei punteggi del test.\n",
    "\n",
    "La logica alla base dell'errore standard della misurazione si fonda sull'assunzione che se una persona dovesse sostenere numerosi test equivalenti, i punteggi ottenuti seguirebbero una distribuzione normale con il vero punteggio dell'individuo come media. In altre parole, possiamo immaginare che l'individuo affronti ripetutamente versioni identiche del test, in circostanze simili e senza ricordare le risposte precedenti. In tale contesto ipotetico, l'errore standard della misurazione rappresenterebbe la deviazione standard tra queste misurazioni ripetute.\n",
    "\n",
    "La formula sopra indicata evidenzia come l'errore standard della misurazione ($\\sigma_E$) sia strettamente correlato all'attendibilità del test: all'aumentare dell'attendibilità del test, l'errore standard della misurazione diminuisce. Se l'attendibilità del test si avvicina a 0, l'errore standard della misurazione tende a diventare uguale alla deviazione standard dei punteggi osservati del test. In contrasto, se l'attendibilità del test raggiunge 1, l'errore standard della misurazione si riduce a zero: in una situazione di perfetta affidabilità, in cui non vi è alcun errore di misurazione, $\\sigma_E$ assume valore zero.\n",
    "\n",
    "### Interpretazione\n",
    "\n",
    "Secondo la prospettiva di McDonald, il termine di errore ($E$) segue una \"propensity distribution\", che riflette le fluttuazioni casuali nel tempo di un individuo nel rispondere al test. Queste fluttuazioni possono derivare da variabili come l'umore, la motivazione e altri fattori. L'errore standard di misura fornisce una stima della deviazione standard di tali punteggi, rappresentando la dispersione attesa dei punteggi che un singolo individuo otterrebbe in un numero infinito di somministrazioni del test (o di test paralleli) sotto identiche condizioni, nel caso in cui il vero punteggio rimanesse costante.\n",
    "\n",
    "D'altro canto, la CTT assume che i punteggi ottenuti da un individuo in infinite somministrazioni del test, nelle stesse condizioni, seguano una distribuzione normale centrata sul vero valore. L'errore standard di misura diviene, quindi, la stima della deviazione standard di questa distribuzione teorica di punteggi. Maggiore è l'errore standard di misura, maggiore è l'incertezza introdotta nel processo di utilizzo del test per valutare l'abilità latente del rispondente.\n",
    "\n",
    "Il coefficiente di attendibilità, la varianza dell'errore e l'errore standard di misura sono tutti indicatori diretti o indiretti della precisione del test. Tuttavia, ciascuno di essi fornisce un'informazione specifica sul livello di precisione del test:\n",
    "\n",
    "-   L'errore standard di misura permette di fare inferenze sulla precisione del singolo punteggio osservato di un partecipante, mentre il coefficiente di attendibilità non ha una rappresentazione diretta in questo senso.\n",
    "-   L'errore standard di misura è espresso nella stessa unità di misura del punteggio osservato, a differenza della varianza di $E$, che è espressa in termini del quadrato del punteggio osservato.\n",
    "-   L'attendibilità rappresenta un rapporto tra varianze ed è quindi un indice adimensionale."
   ]
  },
  {
   "attachments": {},
   "cell_type": "markdown",
   "id": "5bfecdbd",
   "metadata": {},
   "source": [
    "**Esempio 1.** Consideriamo un esempio in cui un test di intelligenza fornisce un punteggio medio di 100 con una deviazione standard di 15. Supponiamo inoltre che l'attendibilità di questo test sia pari a 0.73. Vogliamo calcolare l'errore standard della misurazione.\n",
    "\n",
    "Utilizzando la formula dell'errore standard della misurazione, otteniamo:\n",
    "\n",
    "$$\n",
    "\\begin{equation}\n",
    "\\begin{aligned}\n",
    "\\sigma_E &= \\sigma_X \\sqrt{1 -\\rho_{XX^\\prime}} \\notag\\\\\n",
    "&= 15 \\sqrt{1 - 0.73} \\notag\\\\\n",
    "&= 7.79.\\notag\n",
    "\\end{aligned}\n",
    "\\end{equation}\n",
    "$$\n",
    "\n",
    "Il valore 7.79 rappresenta l'errore standard atteso nei punteggi ottenuti da un singolo individuo se il test fosse somministrato più volte sotto identiche condizioni. In altre parole, ci aspettiamo che i punteggi variino in media di circa 8 punti tra diverse somministrazioni del test.\n",
    "\n",
    "Inoltre, possiamo utilizzare l'errore standard della misurazione per calcolare un intervallo di confidenza intorno al vero punteggio del rispondente. Utilizzando la proprietà della distribuzione gaussiana, possiamo stimare che il 95% dei punteggi ottenuti da ripetute somministrazioni del test si troveranno nell'intervallo:\n",
    "\n",
    "$$\n",
    "\\text{punteggio vero del rispondente} \\pm 1.96 \\cdot \\text{errore standard della misurazione}. \n",
    "$$\n",
    "\n",
    "Nel nostro caso, questo intervallo sarebbe pari a $2 \\cdot 1.96 \\cdot 7.79 = 30.54$ punti. Quindi, ci aspettiamo che i punteggi del QI di un singolo rispondente varino all'interno di un intervallo di 30 punti se il test fosse somministrato molte volte sotto le stesse condizioni.\n",
    "\n",
    "Questo esempio dimostra che se un test ha un'attendibilità di 0.73 e una deviazione standard dei punteggi di 15, la misurazione del test su un singolo individuo risulterebbe poco affidabile a causa dell'ampio errore di misurazione. A titolo di confronto, la Full Scale IQ (FSIQ) della WAIS-IV {cite:p}`wechsler2008wechsler` ha un'attendibilità split-half di 0.98 e un errore standard di misurazione di 2.16.\n",
    "\n",
    "L'errore standard della misurazione può anche essere calcolato utilizzando la funzione `SE.Means()` del pacchetto `psychometric`."
   ]
  },
  {
   "cell_type": "code",
   "execution_count": 4,
   "id": "9ff29cc1",
   "metadata": {
    "vscode": {
     "languageId": "r"
    }
   },
   "outputs": [
    {
     "data": {
      "text/html": [
       "7.79422863405995"
      ],
      "text/latex": [
       "7.79422863405995"
      ],
      "text/markdown": [
       "7.79422863405995"
      ],
      "text/plain": [
       "[1] 7.794229"
      ]
     },
     "metadata": {},
     "output_type": "display_data"
    }
   ],
   "source": [
    "SE.Meas(15, .73)"
   ]
  },
  {
   "attachments": {},
   "cell_type": "markdown",
   "id": "0a1c1a9a",
   "metadata": {},
   "source": [
    "**Esempio 2.** Continuando con l'esempio precedente, per gli ipotetici dati riportati\n",
    "sopra, poniamoci ora la seguente domanda: qual è la probabilità che un\n",
    "rispondente ottenga un punteggio minore o uguale a 116 nel test, se il\n",
    "suo punteggio vero è uguale a 120?\n",
    "\n",
    "Il problema si risolve rendendosi conto che i punteggi del\n",
    "rispondente si distribuiscono normalmente attorno al punteggio vero di\n",
    "120, con una deviazione standard uguale a 7.79. Dobbiamo dunque trovare\n",
    "l'area sottesa alla normale $\\mathcal{N}(120, 7.79)$ nell'intervallo\n",
    "$[-\\infty, 116]$. Utilizzando , la soluzione si trova nel modo\n",
    "seguente:"
   ]
  },
  {
   "cell_type": "code",
   "execution_count": 5,
   "id": "6a767ab5",
   "metadata": {
    "vscode": {
     "languageId": "r"
    }
   },
   "outputs": [
    {
     "data": {
      "text/html": [
       "0.303808211691303"
      ],
      "text/latex": [
       "0.303808211691303"
      ],
      "text/markdown": [
       "0.303808211691303"
      ],
      "text/plain": [
       "[1] 0.3038082"
      ]
     },
     "metadata": {},
     "output_type": "display_data"
    }
   ],
   "source": [
    "pnorm(116, 120, 7.79)"
   ]
  },
  {
   "attachments": {},
   "cell_type": "markdown",
   "id": "882b66a2",
   "metadata": {},
   "source": [
    "Se la variabile aleatorie corrispondente al punteggio osservato segue\n",
    "una distribuzione $\\mathcal{N}(120, 7.79)$, la probabilità che il\n",
    "rispondente ottenga un punteggio minore o uguale a 116 è dunque uguale a\n",
    "0.30."
   ]
  },
  {
   "attachments": {},
   "cell_type": "markdown",
   "id": "18c51ca7",
   "metadata": {},
   "source": [
    "**Esempio 3.** Sempre per l'esempio discusso, poniamoci ora la seguente domanda: quale intervallo di valori centrato sul punteggio vero contiene, con una probabilità di 0.95, i punteggi che il rispondente otterrebbe in ipotetiche somministrazioni ripetute del\n",
    "test sotto le stesse identiche condizioni?\n",
    "\n",
    "Dobbiamo trovare i quantili della distribuzione $\\mathcal{N}(120, 7.79)$ a cui sono associate le probabilità di 0.025 e 0.975. La soluzione è dunque data da:"
   ]
  },
  {
   "cell_type": "code",
   "execution_count": 6,
   "id": "99fd643b",
   "metadata": {
    "vscode": {
     "languageId": "r"
    }
   },
   "outputs": [
    {
     "data": {
      "text/html": [
       "<style>\n",
       ".list-inline {list-style: none; margin:0; padding: 0}\n",
       ".list-inline>li {display: inline-block}\n",
       ".list-inline>li:not(:last-child)::after {content: \"\\00b7\"; padding: 0 .5ex}\n",
       "</style>\n",
       "<ol class=list-inline><li>104.731880560433</li><li>135.268119439567</li></ol>\n"
      ],
      "text/latex": [
       "\\begin{enumerate*}\n",
       "\\item 104.731880560433\n",
       "\\item 135.268119439567\n",
       "\\end{enumerate*}\n"
      ],
      "text/markdown": [
       "1. 104.731880560433\n",
       "2. 135.268119439567\n",
       "\n",
       "\n"
      ],
      "text/plain": [
       "[1] 104.7319 135.2681"
      ]
     },
     "metadata": {},
     "output_type": "display_data"
    }
   ],
   "source": [
    "qnorm(c(.025, .975), 120, 7.79)"
   ]
  },
  {
   "attachments": {},
   "cell_type": "markdown",
   "id": "8bbb9754",
   "metadata": {},
   "source": [
    "L'intervallo cercato è dunque $[104.7, 135.3]$."
   ]
  },
  {
   "attachments": {},
   "cell_type": "markdown",
   "id": "6fec28d9",
   "metadata": {},
   "source": [
    "**Esempio 4.** Calcoliamo ora l'errore standard di misurazione utilizzando un campione di dati grezzi. Esamineremo un set di dati discusso da {cite:t}`brown2015confirmatory`. I dati consisteono in 9 indicatori usati per misurare la depressione maggiore così come è definita nel DSM-IV:\n",
    "\n",
    "- MDD1: depressed mood;\n",
    "- MDD2: loss of interest in usual activities;\n",
    "- MDD3: weight/appetite change;\n",
    "- MDD4: sleep disturbance;\n",
    "- MDD5: psychomotor agitation/retardation;\n",
    "- MDD6: fatigue/loss of energy;\n",
    "- MDD7: feelings of worthlessness/guilt;\n",
    "- MDD8: concentration difficulties;\n",
    "- MDD9: thoughts of death/suicidality.\n",
    "\n",
    "Importiamo i dati:"
   ]
  },
  {
   "cell_type": "code",
   "execution_count": 27,
   "id": "5108e13e",
   "metadata": {
    "vscode": {
     "languageId": "r"
    }
   },
   "outputs": [],
   "source": [
    "df <- readRDS(\n",
    "    here::here(\"data\", \"mdd_sex.RDS\")\n",
    ") |>\n",
    "    dplyr::select(-sex)"
   ]
  },
  {
   "cell_type": "markdown",
   "id": "c166eb8a",
   "metadata": {},
   "source": [
    "Ci sono 750 osservazioni:"
   ]
  },
  {
   "cell_type": "code",
   "execution_count": 21,
   "id": "10933d54",
   "metadata": {
    "vscode": {
     "languageId": "r"
    }
   },
   "outputs": [
    {
     "data": {
      "text/html": [
       "<style>\n",
       ".list-inline {list-style: none; margin:0; padding: 0}\n",
       ".list-inline>li {display: inline-block}\n",
       ".list-inline>li:not(:last-child)::after {content: \"\\00b7\"; padding: 0 .5ex}\n",
       "</style>\n",
       "<ol class=list-inline><li>750</li><li>9</li></ol>\n"
      ],
      "text/latex": [
       "\\begin{enumerate*}\n",
       "\\item 750\n",
       "\\item 9\n",
       "\\end{enumerate*}\n"
      ],
      "text/markdown": [
       "1. 750\n",
       "2. 9\n",
       "\n",
       "\n"
      ],
      "text/plain": [
       "[1] 750   9"
      ]
     },
     "metadata": {},
     "output_type": "display_data"
    }
   ],
   "source": [
    "dim(df)"
   ]
  },
  {
   "cell_type": "code",
   "execution_count": 20,
   "id": "090d6726",
   "metadata": {
    "vscode": {
     "languageId": "r"
    }
   },
   "outputs": [
    {
     "data": {
      "text/html": [
       "<table class=\"dataframe\">\n",
       "<caption>A data.frame: 6 × 9</caption>\n",
       "<thead>\n",
       "\t<tr><th></th><th scope=col>mdd1</th><th scope=col>mdd2</th><th scope=col>mdd3</th><th scope=col>mdd4</th><th scope=col>mdd5</th><th scope=col>mdd6</th><th scope=col>mdd7</th><th scope=col>mdd8</th><th scope=col>mdd9</th></tr>\n",
       "\t<tr><th></th><th scope=col>&lt;int&gt;</th><th scope=col>&lt;int&gt;</th><th scope=col>&lt;int&gt;</th><th scope=col>&lt;int&gt;</th><th scope=col>&lt;int&gt;</th><th scope=col>&lt;int&gt;</th><th scope=col>&lt;int&gt;</th><th scope=col>&lt;int&gt;</th><th scope=col>&lt;int&gt;</th></tr>\n",
       "</thead>\n",
       "<tbody>\n",
       "\t<tr><th scope=row>1</th><td>5</td><td>4</td><td>1</td><td>6</td><td>5</td><td>6</td><td>5</td><td>4</td><td>2</td></tr>\n",
       "\t<tr><th scope=row>2</th><td>5</td><td>5</td><td>5</td><td>5</td><td>4</td><td>5</td><td>4</td><td>5</td><td>4</td></tr>\n",
       "\t<tr><th scope=row>3</th><td>4</td><td>5</td><td>4</td><td>2</td><td>6</td><td>6</td><td>0</td><td>0</td><td>0</td></tr>\n",
       "\t<tr><th scope=row>4</th><td>5</td><td>5</td><td>3</td><td>3</td><td>5</td><td>5</td><td>6</td><td>4</td><td>0</td></tr>\n",
       "\t<tr><th scope=row>5</th><td>5</td><td>5</td><td>0</td><td>5</td><td>0</td><td>4</td><td>6</td><td>0</td><td>0</td></tr>\n",
       "\t<tr><th scope=row>6</th><td>6</td><td>6</td><td>4</td><td>6</td><td>4</td><td>6</td><td>5</td><td>6</td><td>2</td></tr>\n",
       "</tbody>\n",
       "</table>\n"
      ],
      "text/latex": [
       "A data.frame: 6 × 9\n",
       "\\begin{tabular}{r|lllllllll}\n",
       "  & mdd1 & mdd2 & mdd3 & mdd4 & mdd5 & mdd6 & mdd7 & mdd8 & mdd9\\\\\n",
       "  & <int> & <int> & <int> & <int> & <int> & <int> & <int> & <int> & <int>\\\\\n",
       "\\hline\n",
       "\t1 & 5 & 4 & 1 & 6 & 5 & 6 & 5 & 4 & 2\\\\\n",
       "\t2 & 5 & 5 & 5 & 5 & 4 & 5 & 4 & 5 & 4\\\\\n",
       "\t3 & 4 & 5 & 4 & 2 & 6 & 6 & 0 & 0 & 0\\\\\n",
       "\t4 & 5 & 5 & 3 & 3 & 5 & 5 & 6 & 4 & 0\\\\\n",
       "\t5 & 5 & 5 & 0 & 5 & 0 & 4 & 6 & 0 & 0\\\\\n",
       "\t6 & 6 & 6 & 4 & 6 & 4 & 6 & 5 & 6 & 2\\\\\n",
       "\\end{tabular}\n"
      ],
      "text/markdown": [
       "\n",
       "A data.frame: 6 × 9\n",
       "\n",
       "| <!--/--> | mdd1 &lt;int&gt; | mdd2 &lt;int&gt; | mdd3 &lt;int&gt; | mdd4 &lt;int&gt; | mdd5 &lt;int&gt; | mdd6 &lt;int&gt; | mdd7 &lt;int&gt; | mdd8 &lt;int&gt; | mdd9 &lt;int&gt; |\n",
       "|---|---|---|---|---|---|---|---|---|---|\n",
       "| 1 | 5 | 4 | 1 | 6 | 5 | 6 | 5 | 4 | 2 |\n",
       "| 2 | 5 | 5 | 5 | 5 | 4 | 5 | 4 | 5 | 4 |\n",
       "| 3 | 4 | 5 | 4 | 2 | 6 | 6 | 0 | 0 | 0 |\n",
       "| 4 | 5 | 5 | 3 | 3 | 5 | 5 | 6 | 4 | 0 |\n",
       "| 5 | 5 | 5 | 0 | 5 | 0 | 4 | 6 | 0 | 0 |\n",
       "| 6 | 6 | 6 | 4 | 6 | 4 | 6 | 5 | 6 | 2 |\n",
       "\n"
      ],
      "text/plain": [
       "  mdd1 mdd2 mdd3 mdd4 mdd5 mdd6 mdd7 mdd8 mdd9\n",
       "1 5    4    1    6    5    6    5    4    2   \n",
       "2 5    5    5    5    4    5    4    5    4   \n",
       "3 4    5    4    2    6    6    0    0    0   \n",
       "4 5    5    3    3    5    5    6    4    0   \n",
       "5 5    5    0    5    0    4    6    0    0   \n",
       "6 6    6    4    6    4    6    5    6    2   "
      ]
     },
     "metadata": {},
     "output_type": "display_data"
    }
   ],
   "source": [
    "head(df)"
   ]
  },
  {
   "cell_type": "markdown",
   "id": "12467526",
   "metadata": {},
   "source": [
    "Calcoliamo il coefficiente di attendibilità $\\alpha$ di Cronbach con la funzione `alpha()` del pacchetto `psych`."
   ]
  },
  {
   "cell_type": "code",
   "execution_count": 40,
   "id": "e18fe4ba",
   "metadata": {
    "vscode": {
     "languageId": "r"
    }
   },
   "outputs": [
    {
     "data": {
      "text/html": [
       "0.753150463775788"
      ],
      "text/latex": [
       "0.753150463775788"
      ],
      "text/markdown": [
       "0.753150463775788"
      ],
      "text/plain": [
       "[1] 0.7531505"
      ]
     },
     "metadata": {},
     "output_type": "display_data"
    }
   ],
   "source": [
    "res <- psych::alpha(df)\n",
    "alpha <- res$total$raw_alpha\n",
    "alpha"
   ]
  },
  {
   "cell_type": "markdown",
   "id": "4102cc73",
   "metadata": {},
   "source": [
    "Calcoliamo un vettore che contiene il punteggio totale del test per ciascun individuo:"
   ]
  },
  {
   "cell_type": "code",
   "execution_count": null,
   "id": "64533f13",
   "metadata": {
    "vscode": {
     "languageId": "r"
    }
   },
   "outputs": [],
   "source": [
    "total_score <- rowSums(df)"
   ]
  },
  {
   "cell_type": "markdown",
   "id": "c73d5676",
   "metadata": {},
   "source": [
    "Infine, troviamo l'errore standard di misurazione:"
   ]
  },
  {
   "cell_type": "code",
   "execution_count": 41,
   "id": "f80f1c9e",
   "metadata": {
    "vscode": {
     "languageId": "r"
    }
   },
   "outputs": [
    {
     "data": {
      "text/html": [
       "5.29643177867088"
      ],
      "text/latex": [
       "5.29643177867088"
      ],
      "text/markdown": [
       "5.29643177867088"
      ],
      "text/plain": [
       "[1] 5.296432"
      ]
     },
     "metadata": {},
     "output_type": "display_data"
    }
   ],
   "source": [
    "sd(total_score) * sqrt(1 - alpha)"
   ]
  },
  {
   "cell_type": "markdown",
   "id": "ed60af41",
   "metadata": {},
   "source": [
    "Confrontiamo il risultato con quello ottenuto con la funzione `SE.Meas()`:"
   ]
  },
  {
   "cell_type": "code",
   "execution_count": 42,
   "id": "c9e26d7e",
   "metadata": {
    "vscode": {
     "languageId": "r"
    }
   },
   "outputs": [
    {
     "data": {
      "text/html": [
       "5.29643177867088"
      ],
      "text/latex": [
       "5.29643177867088"
      ],
      "text/markdown": [
       "5.29643177867088"
      ],
      "text/plain": [
       "[1] 5.296432"
      ]
     },
     "metadata": {},
     "output_type": "display_data"
    }
   ],
   "source": [
    "SE.Meas(sd(total_score), alpha)"
   ]
  },
  {
   "attachments": {},
   "cell_type": "markdown",
   "id": "e87bbd10",
   "metadata": {},
   "source": [
    "## Dimostrazione\n",
    "\n",
    "Esaminiamo ora la derivazione della formula per l'errore standard di misurazione, $\\sigma_E = \\sigma_X \\sqrt{1 - \\rho_{XX^\\prime}}$. Per arrivare a questa formula, seguiremo due passaggi chiave: innanzitutto, calcoleremo la varianza del vero punteggio e successivamente rappresenteremo il punteggio osservato come la somma della varianza del vero punteggio e la varianza dell'errore.\n",
    "\n",
    "Iniziamo definendo il coefficiente di attendibilità come $\\rho_{XX^\\prime} = \\frac{\\sigma^2_T}{\\sigma^2_X}$, in cui $\\sigma^2_T$ è la varianza del vero punteggio e $\\sigma^2_X$ è la varianza del punteggio osservato. Utilizzando questa definizione, possiamo riscrivere $\\sigma^2_T$ come $\\sigma^2_T = \\rho_{XX^\\prime} \\sigma^2_X$, considerando che $X$ e $X^\\prime$ sono forme parallele di un test e con proprietà simili.\n",
    "\n",
    "Dato che $\\sigma_X = \\sigma_{X^\\prime}$, possiamo semplificare l'equazione precedente in $\\sigma^2_T = \\rho_{XX^\\prime} \\sigma_X \\sigma_{X^\\prime}$. Inoltre, la covarianza tra $X$ e $X^\\prime$ è definita come $\\sigma_{XX^\\prime} = \\rho_{XX^\\prime} \\sigma_X \\sigma_{X^\\prime}$. Da qui, possiamo affermare che $\\sigma^2_T = \\sigma_{XX^\\prime}$, dato che la varianza del vero punteggio equivale alla covarianza tra due misurazioni parallele.\n",
    "\n",
    "Ora, passiamo a calcolare la varianza dell'errore, $\\sigma^2_E$. La varianza del punteggio osservato è espressa come $\\sigma^2_X = \\sigma^2_T + \\sigma^2_E$. Utilizzando la definizione di attendibilità, possiamo riscrivere questa equazione come $\\sigma^2_X = \\rho_{XX^\\prime} \\sigma^2_X + \\sigma^2_E$, da cui otteniamo:\n",
    "\n",
    "$$\n",
    "\\begin{equation}\n",
    "\\begin{aligned}\n",
    "\\sigma^2_E &= \\sigma^2_X - \\sigma^2_X \\rho_{XX^\\prime} \\\\\n",
    "&= \\sigma^2_X (1 - \\rho_{XX^\\prime}).\n",
    "\\end{aligned}\n",
    "\\end{equation}\n",
    "$$\n",
    "\n",
    "Di conseguenza, la varianza dell'errore di misurazione, $\\sigma^2_E$, può essere espressa come il prodotto di due fattori: il primo rappresenta la varianza del punteggio osservato, mentre il secondo equivale a uno meno la correlazione tra le due forme parallele del test ($\\rho_{XX^\\prime}$). In conclusione, abbiamo calcolato l'incognita $\\sigma^2_E$ in termini di due quantità osservabili, $\\sigma^2_X$ e $\\rho_{XX^\\prime}$."
   ]
  },
  {
   "attachments": {},
   "cell_type": "markdown",
   "id": "35ed4f01",
   "metadata": {},
   "source": [
    "## Intervallo di confidenza per il punteggio vero e $\\sigma_E$\n",
    "\n",
    "L'errore standard della misurazione trova molteplici applicazioni, ma uno degli impieghi più comuni è nella creazione degli intervalli di confidenza per il punteggio vero. Tuttavia, è importante sottolineare che questa pratica non è corretta {cite:p}`charter1996revisiting`. Gli intervalli di confidenza costruiti utilizzando l'errore standard della misurazione sono a volte interpretati in modo errato, dando l'idea che l'intervallo di confidenza al livello $(1 - \\alpha)%$ definisca un intervallo di valori centrato sul valore osservato. Questo intervallo, secondo l'interpretazione errata, conterrebbe i punteggi veri del test nell'$(1 - \\alpha)%$ delle ipotetiche somministrazioni ripetute del test. Tuttavia, tale interpretazione non è corretta e va chiarita. In realtà, come accennato precedentemente, l'errore standard della misurazione rappresenta la deviazione standard calcolata *rispetto al valore vero*, considerando le ipotetiche misurazioni ripetute dello stesso test. Si può ribadire questo concetto nel modo seguente: \"In spite of {cite:t}`dudek1979continuing`'s reminder that the SEM should not be used to construct confidence intervals, many test manuals, computer-scoring programs, and texts in psychology and education continue to do so. Because authors of many textbooks and manuals make these errors, it is understandable that those who learned from and look to these sources for guidance also make these errors. In summary, the SEM should not be used to construct confidence intervals for test scores\" (p. 1141).\n",
    "\n",
    "## Conclusioni\n",
    "\n",
    "Nel contesto della CTT, le stime di affidabilità si rivelano uno strumento fondamentale per valutare la coerenza dei test. Tuttavia, quando si affrontano decisioni relative al singolo individuo, come ad esempio determinare se un candidato supera un esame, diventa più vantaggioso fare riferimento all'errore standard di misurazione (SEM). Il SEM rende evidente quanto i punteggi di un test siano suscettibili di fluttuazioni casuali se lo stesso test venisse ripetuto più volte dallo stesso esaminando. In generale, un SEM più ridotto corrisponde a un intervallo di fluttuazioni casuali più stretto. Ciò implica che, grazie a un SEM più basso, i punteggi rifletteranno in modo più coerente le vere capacità dell'esaminando."
   ]
  }
 ],
 "metadata": {
  "jupytext": {
   "cell_metadata_filter": "tags,eval,-all",
   "main_language": "R",
   "notebook_metadata_filter": "-all"
  },
  "kernelspec": {
   "display_name": "R",
   "language": "R",
   "name": "ir"
  },
  "language_info": {
   "codemirror_mode": "r",
   "file_extension": ".r",
   "mimetype": "text/x-r-source",
   "name": "R",
   "pygments_lexer": "r",
   "version": "4.3.1"
  }
 },
 "nbformat": 4,
 "nbformat_minor": 5
}
