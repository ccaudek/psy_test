{
 "cells": [
  {
   "attachments": {},
   "cell_type": "markdown",
   "id": "8127fb74",
   "metadata": {},
   "source": [
    "(cat-data-notebook)=\n",
    "# Dati non gaussiani e categoriali"
   ]
  },
  {
   "cell_type": "code",
   "execution_count": 1,
   "id": "eab6ba6c",
   "metadata": {
    "tags": [
     "remove_cell"
    ],
    "vscode": {
     "languageId": "r"
    }
   },
   "outputs": [],
   "source": [
    "source(\"../_common.R\")\n",
    "suppressPackageStartupMessages({\n",
    "    library(\"lavaan\")\n",
    "    library(\"semPlot\")\n",
    "    library(\"knitr\")\n",
    "    library(\"markdown\")\n",
    "    library(\"patchwork\")\n",
    "    library(\"here\")\n",
    "})"
   ]
  },
  {
   "attachments": {},
   "cell_type": "markdown",
   "id": "ec0f4223",
   "metadata": {},
   "source": [
    "Negli esempi precedenti di questa dispensa è stato utilizzato lo stimatore di massima verosimiglianza (ML). Molti dei modelli CFA e SEM riportati nella letteratura di ricerca applicata utilizzano infatti stime di ML. Tuttavia, lo stimatore ML è appropriata solo per dati multivariati normali a livello di scala a intervalli (cioè, quando la distribuzione congiunta delle variabili continue è distribuita normalmente). Quando i dati continui si discostano marcatamente dalla normalità (cioè, mostrano una forte asimmetria o curtosi), o quando alcuni degli indicatori non sono a livello di scala a intervalli (cioè, dati binari, politomici o ordinali), allora è preferibile usare uno stimatore diverso da quello di ML.\n",
    "\n",
    "## Dati non gaussiani\n",
    "\n",
    "La ricerca ha evidenziato che la stima di massima verosimiglianza (ML) rimane robusta di fronte a piccole deviazioni dalla normalità. Tuttavia, in presenza di una non normalità più marcata, si rende necessario l'uso di stimatori alternativi a ML per garantire l'affidabilità statistica, sia in termini di accuratezza delle statistiche di bontà di adattamento sia per gli errori standard delle stime dei parametri. La stima ML è particolarmente vulnerabile in presenza di un'elevata curtosi.\n",
    "\n",
    "Utilizzare ML in condizioni di forte non normalità porta a conseguenze quali:\n",
    "\n",
    "- Sovrastima della statistica chi-quadrato ($\\chi^2$) del modello;\n",
    "- Sottostima degli indici di bontà di adattamento come TLI (Tucker-Lewis Index) e CFI (Comparative Fit Index);\n",
    "- Sottostima degli errori standard delle stime dei parametri.\n",
    "\n",
    "Questi effetti negativi sono amplificati quando la dimensione del campione è ridotta.\n",
    "\n",
    "Per mitigare queste conseguenze in situazioni di grave violazione dell'assunzione di normalità multivariata, si utilizzano stimatori differenti da ML. Tra questi, i più noti sono:\n",
    "\n",
    "Certamente, esaminerò ciascuno di questi stimatori in modo più approfondito, cercando di rendere la spiegazione tecnica più accessibile:\n",
    "\n",
    "1. **GLS (Generalized Least Squares)**: \n",
    "   - **Uso**: Adatto per dati completi senza valori mancanti.\n",
    "   - **Funzione di Discrepanza**: La funzione di discrepanza del GLS misura quanto la matrice di covarianza stimata dal modello ($\\Sigma(\\theta)$) si differenzia dalla matrice di covarianza osservata ($S$). La formula $F_{\\text{GLS}}(S, \\Sigma(\\theta)) = \\frac{1}{2} \\text{traccia}(S - \\Sigma(\\theta))^2$ utilizza la traccia (la somma degli elementi sulla diagonale principale della matrice) per quantificare questa differenza.\n",
    "   - **Interpretazione**: Un valore più basso della funzione di discrepanza indica un migliore adattamento del modello ai dati.\n",
    "\n",
    "2. **WLS (Weighted Least Squares)**: \n",
    "   - **Uso**: Conosciuto come stimatore Asintoticamente Libero da Distribuzione (ADF), utile per dati complessi.\n",
    "   - **Funzione di Discrepanza**: $F_{\\text{ADF}}(S, \\Sigma(\\theta)) = \\text{vecs}(S - \\Sigma(\\theta))'W\\text{vecs}(S - \\Sigma(\\theta))$. Qui, `vecs()` trasforma la matrice di covarianza in un vettore (prendendo solo la parte inferiore della matrice), e `W` è una matrice di pesi che dà diversa importanza ai vari elementi nel calcolo della discrepanza.\n",
    "   - **Interpretazione**: Un valore più basso indica che il modello si adatta meglio ai dati, tenendo conto della ponderazione specifica di `W`.\n",
    "\n",
    "3. **DWLS (Diagonally Weighted Least Squares)**: \n",
    "   - **Uso**: Una versione semplificata di WLS.\n",
    "   - **Funzione di Discrepanza**: $F_{\\text{DWLS}}(S, \\Sigma(\\theta)) = \\text{vecs}(S - \\Sigma(\\theta))'D\\text{vecs}(S - \\Sigma(\\theta))$, dove `D` è una matrice di pesi diagonale.\n",
    "   - **Interpretazione**: Simile a WLS, ma semplifica i calcoli usando solo una matrice di pesi diagonale, che considera solo gli elementi sulla diagonale della matrice di covarianza.\n",
    "\n",
    "4. **ULS (Unweighted Least Squares)**: \n",
    "   - **Uso**: Considerato un caso speciale di WLS.\n",
    "   - **Funzione di Discrepanza**: $F_{\\text{ULS}}(S, \\Sigma(\\theta)) = \\text{vecs}(S - \\Sigma(\\theta))'\\text{vecs}(S - \\Sigma(\\theta))$. Qui, si utilizza una matrice di identità come peso, il che significa che tutti gli elementi hanno lo stesso peso nel calcolo della discrepanza.\n",
    "   - **Interpretazione**: Un approccio più diretto rispetto a WLS, che non pondera gli elementi in modo diverso. Un valore più basso indica un migliore adattamento del modello.\n",
    "\n",
    "In sintesi, questi stimatori vengono utilizzati per valutare quanto bene un modello SEM si adatti ai dati. Differiscono nel modo in cui trattano le discrepanze tra i dati osservati e quelli stimati dal modello, e ciascuno ha specifiche situazioni in cui risulta più appropriato.\n",
    "\n",
    "Oltre ai quattro metodi di stima già menzionati (GLS, WLS, DWLS, ULS), un altro stimatore importante nel contesto del Structural Equation Modeling (SEM) è il **ML Robusto** (Robust Maximum Likelihood). Questo stimatore è una variazione della stima di massima verosimiglianza tradizionale, progettato per essere più affidabile in presenza di violazioni dell'assunzione di normalità multivariata.\n",
    "\n",
    "Il ML Robusto si adatta a situazioni in cui la distribuzione dei dati non rispetta pienamente l'ipotesi di normalità, in particolare quando si verifica un eccesso di curtosi. Questo stimatore è utile perché:\n",
    "\n",
    "- **Corregge la Sovrastima di Chi-Quadrato ($\\chi^2$):** Il ML tradizionale può portare a una sovrastima della statistica $\\chi^2$ in presenza di non normalità. Il ML Robusto fornisce una correzione a questo problema, offrendo una misura più accurata del fit del modello.\n",
    "  \n",
    "- **Errore Standard Affidabile:** Fornisce stime degli errori standard dei parametri che sono più accurate in condizioni di non normalità, a differenza del ML tradizionale che tende a sottostimarli.\n",
    "\n",
    "- **Miglioramento degli Indici di Bontà di Adattamento:** Rispetto al ML tradizionale, il ML Robusto può offrire una valutazione più accurata degli indici di bontà di adattamento, come il Tucker-Lewis Index (TLI) e il Comparative Fit Index (CFI), che sono fondamentali per valutare la qualità del modello SEM.\n",
    "\n",
    "Il ML Robusto funziona modificando la stima degli errori standard e la statistica test del $\\chi^2$ per tener conto della non normalità. Questo approccio permette agli analisti di utilizzare la metodologia SEM in una gamma più ampia di scenari di dati, rendendo l'analisi più flessibile e robusta. Per questi motivi, il ML Robusto è diventato un'opzione popolare nell'analisi SEM, soprattutto quando i dati non rispettano perfettamente le assunzioni di normalità multivariata.\n",
    "\n",
    "I due stimatori più comunemente usati per dati continui non normali sono ML robusto e minimi quadrati ponderati (WLS). L'uso di WLS non è, in generale, raccomandato, a meno che le dimensioni del campione non siano molto grandi. Al contrario, la ricerca ha dimostrato che il metodo ML robusto fornisce uno stimatore adeguato rispetto a diversi livelli di non normalità. \n",
    "\n",
    "Esaminiamo qui un esempio discusso da {cite:t}`brown2015confirmatory` nelle sue tabelle 9.5 -- 9.7. "
   ]
  },
  {
   "cell_type": "code",
   "execution_count": 3,
   "id": "b45b9c4e",
   "metadata": {
    "vscode": {
     "languageId": "r"
    }
   },
   "outputs": [
    {
     "data": {
      "text/html": [
       "<table class=\"dataframe\">\n",
       "<caption>A data.frame: 6 x 5</caption>\n",
       "<thead>\n",
       "\t<tr><th></th><th scope=col>x1</th><th scope=col>x2</th><th scope=col>x3</th><th scope=col>x4</th><th scope=col>x5</th></tr>\n",
       "\t<tr><th></th><th scope=col>&lt;int&gt;</th><th scope=col>&lt;int&gt;</th><th scope=col>&lt;int&gt;</th><th scope=col>&lt;int&gt;</th><th scope=col>&lt;int&gt;</th></tr>\n",
       "</thead>\n",
       "<tbody>\n",
       "\t<tr><th scope=row>1</th><td>0</td><td>0</td><td>0</td><td>0</td><td>0</td></tr>\n",
       "\t<tr><th scope=row>2</th><td>0</td><td>0</td><td>0</td><td>0</td><td>0</td></tr>\n",
       "\t<tr><th scope=row>3</th><td>0</td><td>0</td><td>0</td><td>0</td><td>0</td></tr>\n",
       "\t<tr><th scope=row>4</th><td>4</td><td>2</td><td>2</td><td>1</td><td>1</td></tr>\n",
       "\t<tr><th scope=row>5</th><td>1</td><td>0</td><td>1</td><td>6</td><td>0</td></tr>\n",
       "\t<tr><th scope=row>6</th><td>0</td><td>0</td><td>0</td><td>0</td><td>0</td></tr>\n",
       "</tbody>\n",
       "</table>\n"
      ],
      "text/latex": [
       "A data.frame: 6 x 5\n",
       "\\begin{tabular}{r|lllll}\n",
       "  & x1 & x2 & x3 & x4 & x5\\\\\n",
       "  & <int> & <int> & <int> & <int> & <int>\\\\\n",
       "\\hline\n",
       "\t1 & 0 & 0 & 0 & 0 & 0\\\\\n",
       "\t2 & 0 & 0 & 0 & 0 & 0\\\\\n",
       "\t3 & 0 & 0 & 0 & 0 & 0\\\\\n",
       "\t4 & 4 & 2 & 2 & 1 & 1\\\\\n",
       "\t5 & 1 & 0 & 1 & 6 & 0\\\\\n",
       "\t6 & 0 & 0 & 0 & 0 & 0\\\\\n",
       "\\end{tabular}\n"
      ],
      "text/markdown": [
       "\n",
       "A data.frame: 6 x 5\n",
       "\n",
       "| <!--/--> | x1 &lt;int&gt; | x2 &lt;int&gt; | x3 &lt;int&gt; | x4 &lt;int&gt; | x5 &lt;int&gt; |\n",
       "|---|---|---|---|---|---|\n",
       "| 1 | 0 | 0 | 0 | 0 | 0 |\n",
       "| 2 | 0 | 0 | 0 | 0 | 0 |\n",
       "| 3 | 0 | 0 | 0 | 0 | 0 |\n",
       "| 4 | 4 | 2 | 2 | 1 | 1 |\n",
       "| 5 | 1 | 0 | 1 | 6 | 0 |\n",
       "| 6 | 0 | 0 | 0 | 0 | 0 |\n",
       "\n"
      ],
      "text/plain": [
       "  x1 x2 x3 x4 x5\n",
       "1 0  0  0  0  0 \n",
       "2 0  0  0  0  0 \n",
       "3 0  0  0  0  0 \n",
       "4 4  2  2  1  1 \n",
       "5 1  0  1  6  0 \n",
       "6 0  0  0  0  0 "
      ]
     },
     "metadata": {},
     "output_type": "display_data"
    }
   ],
   "source": [
    "d <- readRDS(here::here(\"data\", \"brown_table_9_5_data.RDS\"))\n",
    "head(d)"
   ]
  },
  {
   "attachments": {},
   "cell_type": "markdown",
   "id": "f631138d",
   "metadata": {},
   "source": [
    "Le statistiche descrittive di questo campione di dati mostrano valori eccessivi di asimmetria e di curtosi."
   ]
  },
  {
   "cell_type": "code",
   "execution_count": 4,
   "id": "827d9b68",
   "metadata": {
    "vscode": {
     "languageId": "r"
    }
   },
   "outputs": [
    {
     "data": {
      "text/html": [
       "<table class=\"dataframe\">\n",
       "<caption>A psych: 5 x 13</caption>\n",
       "<thead>\n",
       "\t<tr><th></th><th scope=col>vars</th><th scope=col>n</th><th scope=col>mean</th><th scope=col>sd</th><th scope=col>median</th><th scope=col>trimmed</th><th scope=col>mad</th><th scope=col>min</th><th scope=col>max</th><th scope=col>range</th><th scope=col>skew</th><th scope=col>kurtosis</th><th scope=col>se</th></tr>\n",
       "\t<tr><th></th><th scope=col>&lt;int&gt;</th><th scope=col>&lt;dbl&gt;</th><th scope=col>&lt;dbl&gt;</th><th scope=col>&lt;dbl&gt;</th><th scope=col>&lt;dbl&gt;</th><th scope=col>&lt;dbl&gt;</th><th scope=col>&lt;dbl&gt;</th><th scope=col>&lt;dbl&gt;</th><th scope=col>&lt;dbl&gt;</th><th scope=col>&lt;dbl&gt;</th><th scope=col>&lt;dbl&gt;</th><th scope=col>&lt;dbl&gt;</th><th scope=col>&lt;dbl&gt;</th></tr>\n",
       "</thead>\n",
       "<tbody>\n",
       "\t<tr><th scope=row>x1</th><td>1</td><td>870</td><td>1.4701149</td><td>2.172832</td><td>0</td><td>1.0086207</td><td>0</td><td>0</td><td>8</td><td>8</td><td>1.506406</td><td>1.252591</td><td>0.07366591</td></tr>\n",
       "\t<tr><th scope=row>x2</th><td>2</td><td>870</td><td>0.8229885</td><td>1.601474</td><td>0</td><td>0.4152299</td><td>0</td><td>0</td><td>8</td><td>8</td><td>2.398394</td><td>5.670143</td><td>0.05429505</td></tr>\n",
       "\t<tr><th scope=row>x3</th><td>3</td><td>870</td><td>1.2655172</td><td>2.070024</td><td>0</td><td>0.7772989</td><td>0</td><td>0</td><td>8</td><td>8</td><td>1.797942</td><td>2.343203</td><td>0.07018040</td></tr>\n",
       "\t<tr><th scope=row>x4</th><td>4</td><td>870</td><td>1.0264368</td><td>1.928047</td><td>0</td><td>0.5359195</td><td>0</td><td>0</td><td>8</td><td>8</td><td>2.157445</td><td>3.977564</td><td>0.06536693</td></tr>\n",
       "\t<tr><th scope=row>x5</th><td>5</td><td>870</td><td>0.6068966</td><td>1.519175</td><td>0</td><td>0.1839080</td><td>0</td><td>0</td><td>8</td><td>8</td><td>3.103965</td><td>9.373781</td><td>0.05150485</td></tr>\n",
       "</tbody>\n",
       "</table>\n"
      ],
      "text/latex": [
       "A psych: 5 x 13\n",
       "\\begin{tabular}{r|lllllllllllll}\n",
       "  & vars & n & mean & sd & median & trimmed & mad & min & max & range & skew & kurtosis & se\\\\\n",
       "  & <int> & <dbl> & <dbl> & <dbl> & <dbl> & <dbl> & <dbl> & <dbl> & <dbl> & <dbl> & <dbl> & <dbl> & <dbl>\\\\\n",
       "\\hline\n",
       "\tx1 & 1 & 870 & 1.4701149 & 2.172832 & 0 & 1.0086207 & 0 & 0 & 8 & 8 & 1.506406 & 1.252591 & 0.07366591\\\\\n",
       "\tx2 & 2 & 870 & 0.8229885 & 1.601474 & 0 & 0.4152299 & 0 & 0 & 8 & 8 & 2.398394 & 5.670143 & 0.05429505\\\\\n",
       "\tx3 & 3 & 870 & 1.2655172 & 2.070024 & 0 & 0.7772989 & 0 & 0 & 8 & 8 & 1.797942 & 2.343203 & 0.07018040\\\\\n",
       "\tx4 & 4 & 870 & 1.0264368 & 1.928047 & 0 & 0.5359195 & 0 & 0 & 8 & 8 & 2.157445 & 3.977564 & 0.06536693\\\\\n",
       "\tx5 & 5 & 870 & 0.6068966 & 1.519175 & 0 & 0.1839080 & 0 & 0 & 8 & 8 & 3.103965 & 9.373781 & 0.05150485\\\\\n",
       "\\end{tabular}\n"
      ],
      "text/markdown": [
       "\n",
       "A psych: 5 x 13\n",
       "\n",
       "| <!--/--> | vars &lt;int&gt; | n &lt;dbl&gt; | mean &lt;dbl&gt; | sd &lt;dbl&gt; | median &lt;dbl&gt; | trimmed &lt;dbl&gt; | mad &lt;dbl&gt; | min &lt;dbl&gt; | max &lt;dbl&gt; | range &lt;dbl&gt; | skew &lt;dbl&gt; | kurtosis &lt;dbl&gt; | se &lt;dbl&gt; |\n",
       "|---|---|---|---|---|---|---|---|---|---|---|---|---|---|\n",
       "| x1 | 1 | 870 | 1.4701149 | 2.172832 | 0 | 1.0086207 | 0 | 0 | 8 | 8 | 1.506406 | 1.252591 | 0.07366591 |\n",
       "| x2 | 2 | 870 | 0.8229885 | 1.601474 | 0 | 0.4152299 | 0 | 0 | 8 | 8 | 2.398394 | 5.670143 | 0.05429505 |\n",
       "| x3 | 3 | 870 | 1.2655172 | 2.070024 | 0 | 0.7772989 | 0 | 0 | 8 | 8 | 1.797942 | 2.343203 | 0.07018040 |\n",
       "| x4 | 4 | 870 | 1.0264368 | 1.928047 | 0 | 0.5359195 | 0 | 0 | 8 | 8 | 2.157445 | 3.977564 | 0.06536693 |\n",
       "| x5 | 5 | 870 | 0.6068966 | 1.519175 | 0 | 0.1839080 | 0 | 0 | 8 | 8 | 3.103965 | 9.373781 | 0.05150485 |\n",
       "\n"
      ],
      "text/plain": [
       "   vars n   mean      sd       median trimmed   mad min max range skew    \n",
       "x1 1    870 1.4701149 2.172832 0      1.0086207 0   0   8   8     1.506406\n",
       "x2 2    870 0.8229885 1.601474 0      0.4152299 0   0   8   8     2.398394\n",
       "x3 3    870 1.2655172 2.070024 0      0.7772989 0   0   8   8     1.797942\n",
       "x4 4    870 1.0264368 1.928047 0      0.5359195 0   0   8   8     2.157445\n",
       "x5 5    870 0.6068966 1.519175 0      0.1839080 0   0   8   8     3.103965\n",
       "   kurtosis se        \n",
       "x1 1.252591 0.07366591\n",
       "x2 5.670143 0.05429505\n",
       "x3 2.343203 0.07018040\n",
       "x4 3.977564 0.06536693\n",
       "x5 9.373781 0.05150485"
      ]
     },
     "metadata": {},
     "output_type": "display_data"
    }
   ],
   "source": [
    "psych::describe(d)"
   ]
  },
  {
   "attachments": {},
   "cell_type": "markdown",
   "id": "0f176df8",
   "metadata": {},
   "source": [
    "Definiamo un modello ad un fattore e, seguendo {cite:t}`brown2015confirmatory`, aggiungiamo una correlazione residua tra gli indicatori `X1` e `X3`:"
   ]
  },
  {
   "cell_type": "code",
   "execution_count": 5,
   "id": "edf7eca8",
   "metadata": {
    "vscode": {
     "languageId": "r"
    }
   },
   "outputs": [],
   "source": [
    "model <- '\n",
    "  f1 =~ x1 + x2 + x3 + x4 + x5\n",
    "  x1 ~~ x3 \n",
    "'"
   ]
  },
  {
   "attachments": {},
   "cell_type": "markdown",
   "id": "56f53d7e",
   "metadata": {},
   "source": [
    "Procediamo alla stima dei parametri utilizzando uno stimatore di ML robusto. La sintassi `lavaan` è la seguente:"
   ]
  },
  {
   "cell_type": "code",
   "execution_count": 7,
   "id": "feb4767e",
   "metadata": {
    "vscode": {
     "languageId": "r"
    }
   },
   "outputs": [],
   "source": [
    "fit <- cfa(model, data = d, mimic = \"MPLUS\", estimator = \"MLM\")"
   ]
  },
  {
   "attachments": {},
   "cell_type": "markdown",
   "id": "9f1dccd4",
   "metadata": {},
   "source": [
    "Per esaminare la soluzione ottenuta ci focalizziamo sulla statistica $\\chi^2$ -- si consideri la soluzione robusta fornita nell'output."
   ]
  },
  {
   "cell_type": "code",
   "execution_count": 8,
   "id": "6e0cf1cc",
   "metadata": {
    "vscode": {
     "languageId": "r"
    }
   },
   "outputs": [
    {
     "name": "stdout",
     "output_type": "stream",
     "text": [
      "lavaan 0.6.16 ended normally after 28 iterations\n",
      "\n",
      "  Estimator                                         ML\n",
      "  Optimization method                           NLMINB\n",
      "  Number of model parameters                        16\n",
      "\n",
      "  Number of observations                           870\n",
      "\n",
      "Model Test User Model:\n",
      "                                               Standard      Scaled\n",
      "  Test Statistic                                 25.913      10.356\n",
      "  Degrees of freedom                                  4           4\n",
      "  P-value (Chi-square)                            0.000       0.035\n",
      "  Scaling correction factor                                   2.502\n",
      "    Satorra-Bentler correction (Mplus variant)                     \n",
      "\n",
      "Parameter Estimates:\n",
      "\n",
      "  Standard errors                           Robust.sem\n",
      "  Information                                 Expected\n",
      "  Information saturated (h1) model          Structured\n",
      "\n",
      "Latent Variables:\n",
      "                   Estimate  Std.Err  z-value  P(>|z|)\n",
      "  f1 =~                                               \n",
      "    x1                1.000                           \n",
      "    x2                0.703    0.062   11.338    0.000\n",
      "    x3                1.068    0.044   24.304    0.000\n",
      "    x4                0.918    0.063   14.638    0.000\n",
      "    x5                0.748    0.055   13.582    0.000\n",
      "\n",
      "Covariances:\n",
      "                   Estimate  Std.Err  z-value  P(>|z|)\n",
      " .x1 ~~                                               \n",
      "   .x3                0.655    0.143    4.579    0.000\n",
      "\n",
      "Intercepts:\n",
      "                   Estimate  Std.Err  z-value  P(>|z|)\n",
      "   .x1                1.470    0.074   19.968    0.000\n",
      "   .x2                0.823    0.054   15.166    0.000\n",
      "   .x3                1.266    0.070   18.043    0.000\n",
      "   .x4                1.026    0.065   15.712    0.000\n",
      "   .x5                0.607    0.051   11.790    0.000\n",
      "    f1                0.000                           \n",
      "\n",
      "Variances:\n",
      "                   Estimate  Std.Err  z-value  P(>|z|)\n",
      "   .x1                2.040    0.228    8.952    0.000\n",
      "   .x2                1.241    0.124   10.019    0.000\n",
      "   .x3                1.227    0.169    7.255    0.000\n",
      "   .x4                1.458    0.177    8.233    0.000\n",
      "   .x5                0.807    0.100    8.063    0.000\n",
      "    f1                2.675    0.289    9.273    0.000\n",
      "\n"
     ]
    }
   ],
   "source": [
    "out <- summary(fit)\n",
    "print(out)"
   ]
  },
  {
   "attachments": {},
   "cell_type": "markdown",
   "id": "1d07d515",
   "metadata": {},
   "source": [
    "Per fare un confronto, adattiamo lo stesso modello ai dati usando lo stimatore di ML."
   ]
  },
  {
   "cell_type": "code",
   "execution_count": 9,
   "id": "2c5b4dce",
   "metadata": {
    "vscode": {
     "languageId": "r"
    }
   },
   "outputs": [],
   "source": [
    "fit2 <- cfa(model, data = d)"
   ]
  },
  {
   "attachments": {},
   "cell_type": "markdown",
   "id": "b0d28f3d",
   "metadata": {},
   "source": [
    "Notiamo come il valore della statistica $\\chi^2$ ora ottenuto sia molto maggiore di quello trovato in precedenza."
   ]
  },
  {
   "cell_type": "code",
   "execution_count": 10,
   "id": "4543e474",
   "metadata": {
    "vscode": {
     "languageId": "r"
    }
   },
   "outputs": [
    {
     "name": "stdout",
     "output_type": "stream",
     "text": [
      "lavaan 0.6.16 ended normally after 28 iterations\n",
      "\n",
      "  Estimator                                         ML\n",
      "  Optimization method                           NLMINB\n",
      "  Number of model parameters                        11\n",
      "\n",
      "  Number of observations                           870\n",
      "\n",
      "Model Test User Model:\n",
      "                                                      \n",
      "  Test statistic                                25.913\n",
      "  Degrees of freedom                                 4\n",
      "  P-value (Chi-square)                           0.000\n",
      "\n",
      "Parameter Estimates:\n",
      "\n",
      "  Standard errors                             Standard\n",
      "  Information                                 Expected\n",
      "  Information saturated (h1) model          Structured\n",
      "\n",
      "Latent Variables:\n",
      "                   Estimate  Std.Err  z-value  P(>|z|)\n",
      "  f1 =~                                               \n",
      "    x1                1.000                           \n",
      "    x2                0.703    0.035   20.133    0.000\n",
      "    x3                1.068    0.034   31.730    0.000\n",
      "    x4                0.918    0.042   21.775    0.000\n",
      "    x5                0.748    0.033   22.416    0.000\n",
      "\n",
      "Covariances:\n",
      "                   Estimate  Std.Err  z-value  P(>|z|)\n",
      " .x1 ~~                                               \n",
      "   .x3                0.655    0.091    7.213    0.000\n",
      "\n",
      "Variances:\n",
      "                   Estimate  Std.Err  z-value  P(>|z|)\n",
      "   .x1                2.040    0.128   15.897    0.000\n",
      "   .x2                1.241    0.070   17.671    0.000\n",
      "   .x3                1.227    0.095   12.942    0.000\n",
      "   .x4                1.458    0.090   16.135    0.000\n",
      "   .x5                0.807    0.053   15.119    0.000\n",
      "    f1                2.675    0.220   12.154    0.000\n",
      "\n"
     ]
    }
   ],
   "source": [
    "out <- summary(fit2)\n",
    "print(out)"
   ]
  },
  {
   "attachments": {},
   "cell_type": "markdown",
   "id": "8c5bd790",
   "metadata": {},
   "source": [
    "## Dati categoriali\n",
    "\n",
    "Nella nostra discussione precedente, abbiamo esplorato il modello SEM partendo dall'ipotesi che i dati fossero continui e distribuiti secondo una normale multivariata congiunta. In questo capitolo, abbiamo allentato tale ipotesi e esaminato la stima robusta per dati non normalmente distribuiti. Tuttavia, è importante riconoscere che la maggior parte dei dati raccolti per l'analisi fattoriale confermativa (CFA) o SEM proviene da questionari e scale di tipo Likert, che generano dati categoriali (come binari, ordinali e nominali). Questi dati hanno una natura ordinale e non sono continui. \n",
    "\n",
    "Quando si lavora con almeno un indicatore categoriale (binario, politomico o ordinale), il metodo di massima verosimiglianza (ML) ordinario non dovrebbe essere impiegato per stimare i modelli CFA/SEM. Trattare variabili categoriali come se fossero continue può avere diverse conseguenze negative, tra cui:\n",
    "\n",
    "- **Stime Attenuate delle Relazioni**: Le relazioni tra gli indicatori possono risultare attenuate, specialmente in presenza di effetti pavimento o soffitto (floor or ceiling effects).\n",
    "- **Emergenza di \"Pseudo-Fattori\"**: Possono emergere fattori artefatti, non veri e propri costrutti, ma risultati del metodo statistico utilizzato.\n",
    "- **Distorsione degli Indici di Bontà di Adattamento e delle Stime degli Errori Standard**: Gli indici che valutano la qualità dell'adattamento del modello possono essere distorti, così come le stime degli errori standard.\n",
    "- **Stime Errate dei Parametri**: I parametri del modello potrebbero essere stimati in modo inaccurato.\n",
    "\n",
    "Per affrontare questi problemi, esistono vari stimatori specifici per i dati categoriali. Alcuni esempi includono:\n",
    "\n",
    "- **WLS (Weighted Least Squares)**: Adatto per dati categoriali, tenendo conto del loro peso specifico.\n",
    "- **WLSMV (Weighted Least Squares Mean and Variance Adjusted)**: Una versione modificata di WLS che si adatta meglio alle peculiarità dei dati categoriali.\n",
    "- **ULS (Unweighted Least Squares)**: Non prevede ponderazioni, utile per dati categoriali senza presupporre pesi specifici.\n",
    "\n",
    "Nelle sezioni successive, discuteremo in dettaglio l'approccio SEM per dati categoriali, evidenziando le specificità e le migliori pratiche per gestire questo tipo di dati nelle analisi SEM. Questo approccio ci permette di fare inferenze più accurate da dati categoriali, preservando l'integrità e la validità delle conclusioni tratte dalle analisi SEM.\n",
    "\n",
    "### Un esempio concreto\n",
    "\n",
    "Nell'esempio discusso da {cite:t}`brown2015confirmatory`, i ricercatori desiderano verificare un modello uni-fattoriale di dipendenza da alcol in un campione di 750 pazienti ambulatoriali. Gli indicatori di alcolismo sono item binari che riflettono la presenza/assenza di sei criteri diagnostici per l'alcolismo (0 = criterio non soddisfatto, 1 = criterio soddisfatto). I dati sono i seguenti:"
   ]
  },
  {
   "cell_type": "code",
   "execution_count": 11,
   "id": "6dacfe67",
   "metadata": {
    "vscode": {
     "languageId": "r"
    }
   },
   "outputs": [
    {
     "data": {
      "text/html": [
       "<table class=\"dataframe\">\n",
       "<caption>A data.frame: 6 x 6</caption>\n",
       "<thead>\n",
       "\t<tr><th></th><th scope=col>y1</th><th scope=col>y2</th><th scope=col>y3</th><th scope=col>y4</th><th scope=col>y5</th><th scope=col>y6</th></tr>\n",
       "\t<tr><th></th><th scope=col>&lt;int&gt;</th><th scope=col>&lt;int&gt;</th><th scope=col>&lt;int&gt;</th><th scope=col>&lt;int&gt;</th><th scope=col>&lt;int&gt;</th><th scope=col>&lt;int&gt;</th></tr>\n",
       "</thead>\n",
       "<tbody>\n",
       "\t<tr><th scope=row>1</th><td>1</td><td>1</td><td>1</td><td>1</td><td>1</td><td>1</td></tr>\n",
       "\t<tr><th scope=row>2</th><td>1</td><td>1</td><td>1</td><td>1</td><td>1</td><td>1</td></tr>\n",
       "\t<tr><th scope=row>3</th><td>1</td><td>1</td><td>1</td><td>1</td><td>1</td><td>0</td></tr>\n",
       "\t<tr><th scope=row>4</th><td>1</td><td>1</td><td>1</td><td>1</td><td>1</td><td>1</td></tr>\n",
       "\t<tr><th scope=row>5</th><td>0</td><td>0</td><td>0</td><td>0</td><td>0</td><td>0</td></tr>\n",
       "\t<tr><th scope=row>6</th><td>1</td><td>1</td><td>0</td><td>1</td><td>1</td><td>1</td></tr>\n",
       "</tbody>\n",
       "</table>\n"
      ],
      "text/latex": [
       "A data.frame: 6 x 6\n",
       "\\begin{tabular}{r|llllll}\n",
       "  & y1 & y2 & y3 & y4 & y5 & y6\\\\\n",
       "  & <int> & <int> & <int> & <int> & <int> & <int>\\\\\n",
       "\\hline\n",
       "\t1 & 1 & 1 & 1 & 1 & 1 & 1\\\\\n",
       "\t2 & 1 & 1 & 1 & 1 & 1 & 1\\\\\n",
       "\t3 & 1 & 1 & 1 & 1 & 1 & 0\\\\\n",
       "\t4 & 1 & 1 & 1 & 1 & 1 & 1\\\\\n",
       "\t5 & 0 & 0 & 0 & 0 & 0 & 0\\\\\n",
       "\t6 & 1 & 1 & 0 & 1 & 1 & 1\\\\\n",
       "\\end{tabular}\n"
      ],
      "text/markdown": [
       "\n",
       "A data.frame: 6 x 6\n",
       "\n",
       "| <!--/--> | y1 &lt;int&gt; | y2 &lt;int&gt; | y3 &lt;int&gt; | y4 &lt;int&gt; | y5 &lt;int&gt; | y6 &lt;int&gt; |\n",
       "|---|---|---|---|---|---|---|\n",
       "| 1 | 1 | 1 | 1 | 1 | 1 | 1 |\n",
       "| 2 | 1 | 1 | 1 | 1 | 1 | 1 |\n",
       "| 3 | 1 | 1 | 1 | 1 | 1 | 0 |\n",
       "| 4 | 1 | 1 | 1 | 1 | 1 | 1 |\n",
       "| 5 | 0 | 0 | 0 | 0 | 0 | 0 |\n",
       "| 6 | 1 | 1 | 0 | 1 | 1 | 1 |\n",
       "\n"
      ],
      "text/plain": [
       "  y1 y2 y3 y4 y5 y6\n",
       "1 1  1  1  1  1  1 \n",
       "2 1  1  1  1  1  1 \n",
       "3 1  1  1  1  1  0 \n",
       "4 1  1  1  1  1  1 \n",
       "5 0  0  0  0  0  0 \n",
       "6 1  1  0  1  1  1 "
      ]
     },
     "metadata": {},
     "output_type": "display_data"
    }
   ],
   "source": [
    "d1 <- readRDS(here::here(\"data\", \"brown_table_9_9_data.RDS\"))\n",
    "head(d1)"
   ]
  },
  {
   "cell_type": "markdown",
   "id": "f5077136",
   "metadata": {},
   "source": [
    "È possibile evidenziare la natura ordinale dei dati esaminando le tabelle bivariate che mostrano la frequenza di combinazioni specifiche tra due variabili. "
   ]
  },
  {
   "cell_type": "code",
   "execution_count": 17,
   "id": "480d6eb5",
   "metadata": {
    "vscode": {
     "languageId": "r"
    }
   },
   "outputs": [
    {
     "data": {
      "text/plain": [
       "   y2\n",
       "y1    0   1\n",
       "  0 103  65\n",
       "  1 156 426"
      ]
     },
     "metadata": {},
     "output_type": "display_data"
    }
   ],
   "source": [
    "xtabs(~ y1 + y2, d1)"
   ]
  },
  {
   "cell_type": "code",
   "execution_count": 18,
   "id": "229b1b2b",
   "metadata": {
    "vscode": {
     "languageId": "r"
    }
   },
   "outputs": [
    {
     "data": {
      "text/plain": [
       "   y4\n",
       "y3    0   1\n",
       "  0  41  39\n",
       "  1 119 551"
      ]
     },
     "metadata": {},
     "output_type": "display_data"
    }
   ],
   "source": [
    "xtabs(~ y3 + y4, d1)"
   ]
  },
  {
   "cell_type": "code",
   "execution_count": 19,
   "id": "5c156657",
   "metadata": {
    "vscode": {
     "languageId": "r"
    }
   },
   "outputs": [
    {
     "data": {
      "text/plain": [
       "   y6\n",
       "y5    0   1\n",
       "  0  95 168\n",
       "  1  60 427"
      ]
     },
     "metadata": {},
     "output_type": "display_data"
    }
   ],
   "source": [
    "xtabs(~ y5 + y6, d1)"
   ]
  },
  {
   "cell_type": "markdown",
   "id": "ada823d3",
   "metadata": {},
   "source": [
    "Nelle tabelle precedenti, possiamo vedere che ci sono più casi dove entrambe le variabili sono 1 rispetto a quando entrambe sono 0 o quando una è 1 e l'altra è 0. Questo indicare una relazione ordinale tra queste coppie di variabili nel dataset."
   ]
  },
  {
   "cell_type": "markdown",
   "id": "7e4efca5",
   "metadata": {},
   "source": [
    "### Il Modello Basato sulle Soglie per Risposte Categoriali Ordinate\n",
    "\n",
    "La teoria fondamentale dietro il modello basato sulle soglie per risposte categoriali ordinate si fonda sull'idea che le risposte di una variabile categoriale possano essere concepite come generate da una corrispondente variabile continua sottostante, normalmente distribuita. Questa variabile continua sottostante è una variabile latente e non osservata che rappresenta la propensione a rispondere in una certa direzione. Le risposte categoriali sono considerate misurazioni approssimative di queste variabili continue latenti non osservate.\n",
    "\n",
    "Le soglie (o punti di scala), che suddividono l'intera gamma della scala continua latente in un numero finito di categorie, sono utilizzate per definire la mappatura delle risposte di propensione latente alle risposte categoriali osservate.\n",
    "\n",
    "Per illustrare, prendiamo come esempio lo strumento di misurazione costituito da item strutturati su una scala Likert a 7 punti, rappresentando così una variabile categoriale con sette classi ordinali. Poniamo che I denoti genericamente un item, e I* rappresenti la variabile continua sottostante non osservata corrispondente a I. La relazione tra I e I* è descritta dal seguente insieme di equazioni:\n",
    "\n",
    "$$\n",
    "\\begin{align*}\n",
    "I &= 1 \\quad \\text{se} \\quad -\\infty < I^* \\leq t_1 \\\\\n",
    "I &= 2 \\quad \\text{se} \\quad t_1 < I^* \\leq t_2 \\\\\n",
    "I &= 3 \\quad \\text{se} \\quad t_2 < I^* \\leq t_3 \\\\\n",
    "I &= 4 \\quad \\text{se} \\quad t_3 < I^* \\leq t_4 \\\\\n",
    "I &= 5 \\quad \\text{se} \\quad t_4 < I^* \\leq t_5 \\\\\n",
    "I &= 6 \\quad \\text{se} \\quad t_5 < I^* \\leq t_6 \\\\\n",
    "I &= 7 \\quad \\text{se} \\quad t_6 < I^* < \\infty\n",
    "\\end{align*}\n",
    "$$\n",
    "\n",
    "dove $t_i (i = 1,\\dots,6; −\\infty <t_1 <t_2 <t_3 <t_4 <t_5 <t_6 < \\infty)$ sono soglie che definiscono regioni di I* per produrre le risposte categoriali I. Il numero di soglie è sempre uno in meno rispetto al numero di categorie, simile al numero di variabili fittizie necessarie per codificare una variabile di classificazione nell'analisi di regressione classica.\n",
    "\n",
    "Il processo di categorizzazione di I* è anche illustrato graficamente nella seguente figura. In questa figura, la variabile continua latente sottostante I* è una distribuzione normale standard rappresentata dalla curva nera. Le sei linee verticali sono le soglie ipotetiche con t1 a t6 segnate in cima alle linee. Le possibili categorie di risposta vanno da I = 1 a I = 7. Il valore di I dipende quindi dalle regioni (demarcate dalle soglie) in cui I* cade."
   ]
  },
  {
   "cell_type": "code",
   "execution_count": 23,
   "id": "d29f38a2",
   "metadata": {
    "vscode": {
     "languageId": "r"
    }
   },
   "outputs": [
    {
     "data": {
      "image/png": "[encoded data removed]",
      "text/plain": [
       "plot without title"
      ]
     },
     "metadata": {
      "image/png": {
       "height": 420,
       "width": 420
      }
     },
     "output_type": "display_data"
    }
   ],
   "source": [
    "# Definire le soglie\n",
    "thresholds <- c(-3, -2, -1, 0, 1, 2, 3)\n",
    "\n",
    "# Creare un dataframe per la curva normale\n",
    "x_values <- seq(-4, 4, length.out = 300)\n",
    "y_values <- dnorm(x_values)\n",
    "curve_data <- data.frame(x = x_values, y = y_values)\n",
    "\n",
    "# Creare il plot\n",
    "ggplot(curve_data, aes(x = x, y = y)) +\n",
    "    geom_line() +\n",
    "    geom_vline(xintercept = thresholds, col = \"red\") +\n",
    "    scale_y_continuous(breaks = NULL) +\n",
    "    scale_x_continuous(breaks = thresholds, labels = c(\"t1\", \"t2\", \"t3\", \"t4\", \"t5\", \"t6\", \"t7\")) +\n",
    "    labs(\n",
    "        title = \"Categorization of Latent Continuous Variable to Categorical Variable\",\n",
    "        x = \"Latent Continuous Variable I*\",\n",
    "        y = \"\"\n",
    "    ) +\n",
    "    theme_minimal()\n"
   ]
  },
  {
   "cell_type": "markdown",
   "id": "e767d7ff",
   "metadata": {},
   "source": [
    "La categorizzazione di I* per produrre dati su scala Likert è soggetta a errori di misurazione e campionamento. Come sottolineato da O'Brien (1985), questo processo può produrre (1) errore di categorizzazione risultante dalla divisione della scala continua nella scala categoriale, e (2) errore di trasformazione risultante da categorie di larghezze disuguali. Pertanto, le soglie dovrebbero essere stimate insieme a tutti gli altri parametri nel modello di equazioni strutturali."
   ]
  },
  {
   "cell_type": "markdown",
   "id": "7897060c",
   "metadata": {},
   "source": [
    "### Modellazione di Variabili Categoriali nei Modelli SEM\n",
    "\n",
    "Quando si modellano variabili categoriali ordinate in SEM, l'approccio comune è quello di collegarle a una variabile latente sottostante, denominata I*. Questa variabile rappresenta una sorta di \"propensione nascosta\" che determina le risposte osservate nelle variabili categoriali.  \n",
    "\n",
    "Ad esempio, la seguente equazione modella la variabile latente I* utilizzando una serie di p predittori (x1, x2, ..., xp). Ogni predittore ha un effetto, misurato dai coefficienti β1, β2, ..., βP:\n",
    "\n",
    "$$ \n",
    "I^*_i = \\beta_0 + \\beta_1 x_{1i} + \\dots + \\beta_P x_{Pi} + e_i.\n",
    "$$\n",
    "\n",
    "Qui, $ I^*_i $ rappresenta la propensione latente per l'i-esimo osservatore o risposta. $ \\beta_0 $ è un termine costante (intercetta), mentre $ \\beta_1, \\dots, \\beta_P $ sono i coefficienti che quantificano l'effetto di ciascun predittore sul livello della propensione latente. Infine, $ e_i $ è il termine di errore che cattura le variazioni non spiegate dai predittori.\n",
    "\n",
    "Quando la variabile categoriale I è un indicatore di misurazione di un fattore latente ($\\xi$) in un modello fattoriale confermativo, l'equazione si semplifica:\n",
    "\n",
    "$$ \n",
    "I^*_i = \\beta_0 + \\beta_1 \\xi_i + e_i.\n",
    "$$\n",
    "\n",
    "Qui, $ \\beta_1 $ è il carico fattoriale, che misura quanto fortemente il fattore latente $\\xi$ influisce sulla variabile latente I*. Questa equazione è strutturata in modo simile a quelle utilizzate per modellare indicatori di misurazione continui in SEM.\n",
    "\n",
    "Questo approccio di modellazione riflette la teoria che le risposte categoriali osservate possono essere viste come manifestazioni esterne di una propensione latente interna. L'uso dei minimi quadrati ponderati (WLS) come metodo di stima è appropriato per questo tipo di modellazione. Tuttavia, è fondamentale ricordare che modellare risposte categoriali ordinate può richiedere passaggi aggiuntivi per gestire accuratamente la natura ordinale dei dati. Questi dettagli aggiuntivi saranno discussi nelle sezioni successive."
   ]
  },
  {
   "attachments": {},
   "cell_type": "markdown",
   "id": "26b5a2e3",
   "metadata": {},
   "source": [
    "### Adattamento del Modello con `lmer`\n",
    "\n",
    "Specifichiamo il modello nel modo seguente:"
   ]
  },
  {
   "cell_type": "code",
   "execution_count": 12,
   "id": "5fff4bf4",
   "metadata": {
    "vscode": {
     "languageId": "r"
    }
   },
   "outputs": [],
   "source": [
    "model1 <- '\n",
    "  etoh =~ y1 + y2 + y3 + y4 + y5 + y6\n",
    "'"
   ]
  },
  {
   "attachments": {},
   "cell_type": "markdown",
   "id": "c1f98cda",
   "metadata": {},
   "source": [
    "Nel modellare i dati utilizzando scale ordinali, `lavaan` adotta un approccio mirato che considera specificamente la natura dei dati categoriali. Questo viene fatto attraverso l'impiego dello stimatore WLSMV (Weighted Least Squares Mean and Variance Adjusted). In questo contesto, la stima dei parametri avviene mediante l'utilizzo dei minimi quadrati ponderati diagonalmente (DWLS), un metodo che si concentra sull'utilizzo delle componenti diagonali della matrice di peso. Questa scelta rende lo stimatore particolarmente efficace nel trattare dati non normali.\n",
    "\n",
    "Una delle caratteristiche salienti dello stimatore WLSMV è il calcolo di errori standard robusti. Questi vengono determinati con una metodologia che assicura l'affidabilità delle stime, anche quando i dati non rispettano le classiche assunzioni di normalità. Inoltre, le statistiche di test generate da WLSMV sono opportunamente aggiustate per riflettere variazioni nella media e nella varianza dei dati. Tale aggiustamento è fondamentale per garantire l'accuratezza e la validità delle statistiche di test, soprattutto in contesti dove la distribuzione dei dati si discosta dalla normalità.\n",
    "\n",
    "In sintesi, `lavaan` propone una metodologia avanzata per la modellazione di dati categoriali, sfruttando lo stimatore WLSMV che si adatta efficacemente alle specificità di questi dati. Ciò si traduce in stime precise e statistiche di test attendibili, rendendo `lavaan` uno strumento molto adeguato per l'analisi di dati categoriali complessi."
   ]
  },
  {
   "cell_type": "code",
   "execution_count": 24,
   "id": "0f83bf36",
   "metadata": {
    "vscode": {
     "languageId": "r"
    }
   },
   "outputs": [],
   "source": [
    "fit1 <- cfa(\n",
    "  model1, \n",
    "  data = d1, \n",
    "  ordered = names(d1), \n",
    "  estimator = \"WLSMVS\", \n",
    "  mimic = \"mplus\"\n",
    ")"
   ]
  },
  {
   "attachments": {},
   "cell_type": "markdown",
   "id": "36fb6c44",
   "metadata": {},
   "source": [
    "Esaminiamo la soluzione ottenuta:"
   ]
  },
  {
   "cell_type": "code",
   "execution_count": 25,
   "id": "e7562180",
   "metadata": {
    "vscode": {
     "languageId": "r"
    }
   },
   "outputs": [
    {
     "name": "stdout",
     "output_type": "stream",
     "text": [
      "lavaan 0.6.16 ended normally after 16 iterations\n",
      "\n",
      "  Estimator                                       DWLS\n",
      "  Optimization method                           NLMINB\n",
      "  Number of model parameters                        12\n",
      "\n",
      "  Number of observations                           750\n",
      "\n",
      "Model Test User Model:\n",
      "                                                  Standard      Scaled\n",
      "  Test Statistic                                     5.651       9.540\n",
      "  Degrees of freedom                                     9           9\n",
      "  P-value (Chi-square)                               0.774       0.389\n",
      "  Scaling correction factor                                      0.592\n",
      "    mean and variance adjusted correction (WLSMV)                     \n",
      "\n",
      "Model Test Baseline Model:\n",
      "\n",
      "  Test statistic                              1155.845     694.433\n",
      "  Degrees of freedom                                15           9\n",
      "  P-value                                        0.000       0.000\n",
      "  Scaling correction factor                                  1.664\n",
      "\n",
      "User Model versus Baseline Model:\n",
      "\n",
      "  Comparative Fit Index (CFI)                    1.000       0.999\n",
      "  Tucker-Lewis Index (TLI)                       1.005       0.999\n",
      "\n",
      "Root Mean Square Error of Approximation:\n",
      "\n",
      "  RMSEA                                          0.000       0.009\n",
      "  90 Percent confidence interval - lower         0.000       0.000\n",
      "  90 Percent confidence interval - upper         0.028       0.051\n",
      "  P-value H_0: RMSEA <= 0.050                    0.999       0.944\n",
      "  P-value H_0: RMSEA >= 0.080                    0.000       0.000\n",
      "\n",
      "Standardized Root Mean Square Residual:\n",
      "\n",
      "  SRMR                                           0.031       0.031\n",
      "\n",
      "Parameter Estimates:\n",
      "\n",
      "  Standard errors                           Robust.sem\n",
      "  Information                                 Expected\n",
      "  Information saturated (h1) model        Unstructured\n",
      "\n",
      "Latent Variables:\n",
      "                   Estimate  Std.Err  z-value  P(>|z|)\n",
      "  etoh =~                                             \n",
      "    y1                1.000                           \n",
      "    y2                0.822    0.072   11.392    0.000\n",
      "    y3                0.653    0.092    7.097    0.000\n",
      "    y4                1.031    0.075   13.703    0.000\n",
      "    y5                1.002    0.072   13.861    0.000\n",
      "    y6                0.759    0.076   10.011    0.000\n",
      "\n",
      "Intercepts:\n",
      "                   Estimate  Std.Err  z-value  P(>|z|)\n",
      "   .y1                0.000                           \n",
      "   .y2                0.000                           \n",
      "   .y3                0.000                           \n",
      "   .y4                0.000                           \n",
      "   .y5                0.000                           \n",
      "   .y6                0.000                           \n",
      "    etoh              0.000                           \n",
      "\n",
      "Thresholds:\n",
      "                   Estimate  Std.Err  z-value  P(>|z|)\n",
      "    y1|t1            -0.759    0.051  -14.890    0.000\n",
      "    y2|t1            -0.398    0.047   -8.437    0.000\n",
      "    y3|t1            -1.244    0.061  -20.278    0.000\n",
      "    y4|t1            -0.795    0.051  -15.436    0.000\n",
      "    y5|t1            -0.384    0.047   -8.148    0.000\n",
      "    y6|t1            -0.818    0.052  -15.775    0.000\n",
      "\n",
      "Variances:\n",
      "                   Estimate  Std.Err  z-value  P(>|z|)\n",
      "   .y1                0.399                           \n",
      "   .y2                0.594                           \n",
      "   .y3                0.744                           \n",
      "   .y4                0.361                           \n",
      "   .y5                0.397                           \n",
      "   .y6                0.653                           \n",
      "    etoh              0.601    0.063    9.596    0.000\n",
      "\n",
      "Scales y*:\n",
      "                   Estimate  Std.Err  z-value  P(>|z|)\n",
      "    y1                1.000                           \n",
      "    y2                1.000                           \n",
      "    y3                1.000                           \n",
      "    y4                1.000                           \n",
      "    y5                1.000                           \n",
      "    y6                1.000                           \n",
      "\n"
     ]
    }
   ],
   "source": [
    "out = summary(fit1, fit.measures = TRUE)\n",
    "print(out)"
   ]
  },
  {
   "cell_type": "markdown",
   "id": "9cfd3419",
   "metadata": {},
   "source": [
    "Si presti particolare attenzione alla seguente porzione dell'output:\n",
    "\n",
    "```bash\n",
    "                   Estimate  Std.Err  z-value  P(>|z|)\n",
    "    y1|t1            -0.759    0.051  -14.890    0.000\n",
    "    y2|t1            -0.398    0.047   -8.437    0.000\n",
    "    y3|t1            -1.244    0.061  -20.278    0.000\n",
    "    y4|t1            -0.795    0.051  -15.436    0.000\n",
    "    y5|t1            -0.384    0.047   -8.148    0.000\n",
    "    y6|t1            -0.818    0.052  -15.775    0.000\n",
    "```\n",
    "\n",
    "In questa porzione dell'output di `lavaan` sono presentati i risultati per le \"soglie\" (thresholds) relative alle variabili categoriali ordinate utilizzate nel modello SEM. Ecco una spiegazione dettagliata:\n",
    "\n",
    "1. **Thresholds (Soglie)**:\n",
    "   - Ogni soglia rappresenta un punto di cutoff lungo la variabile continua latente (indicata in precedenza come I*), che determina le categorie della variabile categoriale osservata.\n",
    "   - Nell'output, `y1|t1`, `y2|t1`, ecc., rappresentano soglie per le variabili rispettive (y1, y2, ..., y6). Il termine \"t1\" si riferisce alla prima soglia per ciascuna di queste variabili.\n",
    "\n",
    "2. **Estimate (Stima)**:\n",
    "   - Questi valori indicano la posizione della soglia sulla scala della variabile continua latente. Per esempio, la soglia per y1 è a -0.759. Questo significa che la divisione tra le prime due categorie di y1 si verifica a -0.759 sulla scala della variabile latente.\n",
    "\n",
    "3. **Std.Err (Errore Standard)**:\n",
    "   - L'errore standard della stima di ogni soglia. Ad esempio, per y1, l'errore standard è 0.051. Questo offre un'idea della variabilità o incertezza nella stima della soglia.\n",
    "\n",
    "4. **z-value**:\n",
    "   - Il valore z indica il rapporto tra la stima della soglia e il suo errore standard. Un valore z elevato suggerisce che la stima della soglia è significativamente diversa da zero (ovvero, la soglia è ben definita). Per esempio, per y1, il valore z è -14.890, che è statisticamente significativo.\n",
    "\n",
    "5. **P(>|z|)**:\n",
    "   - Il p-value associato al valore z. Un p-value basso (ad esempio, 0.000) indica che la stima della soglia è statisticamente significativa. Questo significa che possiamo essere abbastanza sicuri che la posizione della soglia sulla variabile latente sia accurata e non dovuta al caso.\n",
    "\n",
    "In sintesi, queste soglie consentono di trasformare la variabile latente continua in una variabile categoriale osservata nel modello. La stima di queste soglie e la loro significatività statistica sono cruciali per comprendere come la variabile latente si traduce nelle categorie osservate. "
   ]
  },
  {
   "attachments": {},
   "cell_type": "markdown",
   "id": "af821059",
   "metadata": {},
   "source": [
    "Confrontiamo ora la soluzione ottenuta con lo stimatore WLSMVS con quella ottenuta mediante lo stimatore ML."
   ]
  },
  {
   "cell_type": "code",
   "execution_count": 15,
   "id": "9e37f6ab",
   "metadata": {
    "vscode": {
     "languageId": "r"
    }
   },
   "outputs": [],
   "source": [
    "fit2 <- cfa(\n",
    "  model1, \n",
    "  data = d1\n",
    ")"
   ]
  },
  {
   "cell_type": "code",
   "execution_count": 16,
   "id": "5e8c7b8b",
   "metadata": {
    "vscode": {
     "languageId": "r"
    }
   },
   "outputs": [
    {
     "name": "stdout",
     "output_type": "stream",
     "text": [
      "lavaan 0.6.16 ended normally after 35 iterations\n",
      "\n",
      "  Estimator                                         ML\n",
      "  Optimization method                           NLMINB\n",
      "  Number of model parameters                        12\n",
      "\n",
      "  Number of observations                           750\n",
      "\n",
      "Model Test User Model:\n",
      "                                                      \n",
      "  Test statistic                                14.182\n",
      "  Degrees of freedom                                 9\n",
      "  P-value (Chi-square)                           0.116\n",
      "\n",
      "Model Test Baseline Model:\n",
      "\n",
      "  Test statistic                               614.305\n",
      "  Degrees of freedom                                15\n",
      "  P-value                                        0.000\n",
      "\n",
      "User Model versus Baseline Model:\n",
      "\n",
      "  Comparative Fit Index (CFI)                    0.991\n",
      "  Tucker-Lewis Index (TLI)                       0.986\n",
      "\n",
      "Loglikelihood and Information Criteria:\n",
      "\n",
      "  Loglikelihood user model (H0)              -2087.600\n",
      "  Loglikelihood unrestricted model (H1)      -2080.508\n",
      "                                                      \n",
      "  Akaike (AIC)                                4199.199\n",
      "  Bayesian (BIC)                              4254.640\n",
      "  Sample-size adjusted Bayesian (SABIC)       4216.535\n",
      "\n",
      "Root Mean Square Error of Approximation:\n",
      "\n",
      "  RMSEA                                          0.028\n",
      "  90 Percent confidence interval - lower         0.000\n",
      "  90 Percent confidence interval - upper         0.054\n",
      "  P-value H_0: RMSEA <= 0.050                    0.914\n",
      "  P-value H_0: RMSEA >= 0.080                    0.000\n",
      "\n",
      "Standardized Root Mean Square Residual:\n",
      "\n",
      "  SRMR                                           0.021\n",
      "\n",
      "Parameter Estimates:\n",
      "\n",
      "  Standard errors                             Standard\n",
      "  Information                                 Expected\n",
      "  Information saturated (h1) model          Structured\n",
      "\n",
      "Latent Variables:\n",
      "                   Estimate  Std.Err  z-value  P(>|z|)\n",
      "  etoh =~                                             \n",
      "    y1                1.000                           \n",
      "    y2                0.934    0.093   10.057    0.000\n",
      "    y3                0.390    0.055    7.038    0.000\n",
      "    y4                1.008    0.087   11.541    0.000\n",
      "    y5                1.158    0.101   11.468    0.000\n",
      "    y6                0.700    0.077    9.142    0.000\n",
      "\n",
      "Variances:\n",
      "                   Estimate  Std.Err  z-value  P(>|z|)\n",
      "   .y1                0.109    0.007   14.692    0.000\n",
      "   .y2                0.169    0.010   16.781    0.000\n",
      "   .y3                0.085    0.005   18.483    0.000\n",
      "   .y4                0.102    0.007   14.285    0.000\n",
      "   .y5                0.140    0.010   14.506    0.000\n",
      "   .y6                0.132    0.008   17.514    0.000\n",
      "    etoh              0.065    0.009    7.664    0.000\n",
      "\n"
     ]
    }
   ],
   "source": [
    "out <- summary(fit2, fit.measures = TRUE)\n",
    "print(out)"
   ]
  },
  {
   "attachments": {},
   "cell_type": "markdown",
   "id": "9736bb49",
   "metadata": {},
   "source": [
    "Si noti che la soluzione ottenuta mediante lo stimatore WLSMVS produce indici di bontà di adattamento migliori e errori standard dei parametri più piccoli.\n",
    "\n",
    "## Considerazioni conclusive\n",
    "\n",
    "In questo capitolo, abbiamo illustrato la modellazione delle equazioni strutturali per dati non normalmente distribuiti. È importante sottolineare che, nella pratica analitica SEM, la presenza di dati non normalmente distribuiti dovrebbe essere considerata la norma. Di conseguenza, l'uso della massima verosimiglianza robusta (ML robusta) è raccomandato ogni volta che ci siano dubbi sulla violazione dell'assunzione di normalità dei dati. \n",
    "\n",
    "Alcune considerazioni importanti meritano attenzione. Innanzitutto, benché tutte queste versioni robuste di ML producano errori standard robusti e una statistica di test robusta (o scalata), le stime dei parametri ottenute rimangono quelle della stima ML originale. In secondo luogo, la robustezza di questi aggiustamenti riguarda la violazione dell'assunzione di normalità, ma non la presenza di valori anomali, che è un argomento a sé stante. Terzo, la robustezza di questi aggiustamenti non si estende alla violazione delle specifiche del modello, che è un altro tema studiato nella letteratura SEM.\n",
    "\n",
    "In questo capitolo, abbiamo inoltre introdotto lo stimatore WLSMV per dati categoriali, dimostrando che lo stimatore WLSMV è più efficiente con una stima dell'errore standard più piccola rispetto all'MLE di default e all'MLE robusta.\n",
    "\n",
    "Va sottolineato che lo stimatore WLSMV è un metodo generale per dati categoriali in SEM, implementato nella maggior parte dei software, come ad esempio MPlus. WLSMV è una parola chiave generale che richiede simultaneamente lo stimatore DWLS e una statistica di test del chi-quadro aggiustata per media e varianza (MV). Pertanto, in `lavaan`, possiamo semplicemente utilizzare `lavaan(..., estimator = \"WLSMV\")`, che è equivalente a `lavaan(..., estimator = \"DWLS\", se = \"robust.sem\", test = \"scaled.shifted\")`.\n",
    "\n",
    "Oltre al WLSMV, `lavaan` offre anche un estimatore sperimentale di massima verosimiglianza marginale (estimator = \"MML\"). L'MML può essere lento nella stima a causa dell'integrazione numerica associata a questo stimatore e più incline a problemi di convergenza. Un altro stimatore è l'ADF (estimator = \"WLS\"), che non fa alcuna specifica assunzione distributiva sui dati. Tuttavia, questo stimatore WLS richiede una dimensione del campione molto grande (N > 5000) affinché la stima dei parametri (cioè stime dei parametri, SE e statistiche di test) possa essere considerata affidabile.\n"
   ]
  },
  {
   "cell_type": "markdown",
   "id": "8498bade",
   "metadata": {},
   "source": [
    "## Session Info"
   ]
  },
  {
   "cell_type": "code",
   "execution_count": 2,
   "id": "4da609aa",
   "metadata": {
    "vscode": {
     "languageId": "r"
    }
   },
   "outputs": [
    {
     "data": {
      "text/plain": [
       "R version 4.3.2 (2023-10-31)\n",
       "Platform: aarch64-apple-darwin20 (64-bit)\n",
       "Running under: macOS Sonoma 14.3.1\n",
       "\n",
       "Matrix products: default\n",
       "BLAS:   /Library/Frameworks/R.framework/Versions/4.3-arm64/Resources/lib/libRblas.0.dylib \n",
       "LAPACK: /Library/Frameworks/R.framework/Versions/4.3-arm64/Resources/lib/libRlapack.dylib;  LAPACK version 3.11.0\n",
       "\n",
       "locale:\n",
       "[1] C\n",
       "\n",
       "time zone: Europe/Rome\n",
       "tzcode source: internal\n",
       "\n",
       "attached base packages:\n",
       "[1] stats     graphics  grDevices utils     datasets  methods   base     \n",
       "\n",
       "other attached packages:\n",
       " [1] ggokabeito_0.1.0  viridis_0.6.5     viridisLite_0.4.2 ggpubr_0.6.0     \n",
       " [5] ggExtra_0.10.1    bayesplot_1.11.1  gridExtra_2.3     patchwork_1.2.0  \n",
       " [9] semTools_0.5-6    semPlot_1.1.6     lavaan_0.6-17     psych_2.4.1      \n",
       "[13] scales_1.3.0      markdown_1.12     knitr_1.45        lubridate_1.9.3  \n",
       "[17] forcats_1.0.0     stringr_1.5.1     dplyr_1.1.4       purrr_1.0.2      \n",
       "[21] readr_2.1.5       tidyr_1.3.1       tibble_3.2.1      ggplot2_3.4.4    \n",
       "[25] tidyverse_2.0.0   here_1.0.1       \n",
       "\n",
       "loaded via a namespace (and not attached):\n",
       "  [1] rstudioapi_0.15.0  jsonlite_1.8.8     magrittr_2.0.3    \n",
       "  [4] TH.data_1.1-2      estimability_1.5   nloptr_2.0.3      \n",
       "  [7] rmarkdown_2.25     vctrs_0.6.5        minqa_1.2.6       \n",
       " [10] base64enc_0.1-3    rstatix_0.7.2      htmltools_0.5.7   \n",
       " [13] broom_1.0.5        Formula_1.2-5      htmlwidgets_1.6.4 \n",
       " [16] plyr_1.8.9         sandwich_3.1-0     emmeans_1.10.0    \n",
       " [19] zoo_1.8-12         uuid_1.2-0         igraph_2.0.2      \n",
       " [22] mime_0.12          lifecycle_1.0.4    pkgconfig_2.0.3   \n",
       " [25] Matrix_1.6-5       R6_2.5.1           fastmap_1.1.1     \n",
       " [28] shiny_1.8.0        digest_0.6.34      OpenMx_2.21.11    \n",
       " [31] fdrtool_1.2.17     colorspace_2.1-0   rprojroot_2.0.4   \n",
       " [34] Hmisc_5.1-1        fansi_1.0.6        timechange_0.3.0  \n",
       " [37] abind_1.4-5        compiler_4.3.2     withr_3.0.0       \n",
       " [40] glasso_1.11        htmlTable_2.4.2    backports_1.4.1   \n",
       " [43] carData_3.0-5      ggsignif_0.6.4     MASS_7.3-60.0.1   \n",
       " [46] corpcor_1.6.10     gtools_3.9.5       tools_4.3.2       \n",
       " [49] pbivnorm_0.6.0     foreign_0.8-86     zip_2.3.1         \n",
       " [52] httpuv_1.6.14      nnet_7.3-19        glue_1.7.0        \n",
       " [55] quadprog_1.5-8     nlme_3.1-164       promises_1.2.1    \n",
       " [58] lisrelToR_0.3      grid_4.3.2         pbdZMQ_0.3-11     \n",
       " [61] checkmate_2.3.1    cluster_2.1.6      reshape2_1.4.4    \n",
       " [64] generics_0.1.3     gtable_0.3.4       tzdb_0.4.0        \n",
       " [67] data.table_1.15.0  hms_1.1.3          car_3.1-2         \n",
       " [70] utf8_1.2.4         sem_3.1-15         pillar_1.9.0      \n",
       " [73] IRdisplay_1.1      rockchalk_1.8.157  later_1.3.2       \n",
       " [76] splines_4.3.2      lattice_0.22-5     survival_3.5-8    \n",
       " [79] kutils_1.73        tidyselect_1.2.0   miniUI_0.1.1.1    \n",
       " [82] pbapply_1.7-2      stats4_4.3.2       xfun_0.42         \n",
       " [85] qgraph_1.9.8       arm_1.13-1         stringi_1.8.3     \n",
       " [88] boot_1.3-29        evaluate_0.23      codetools_0.2-19  \n",
       " [91] mi_1.1             cli_3.6.2          RcppParallel_5.1.7\n",
       " [94] IRkernel_1.3.2     rpart_4.1.23       xtable_1.8-4      \n",
       " [97] repr_1.1.6         munsell_0.5.0      Rcpp_1.0.12       \n",
       "[100] coda_0.19-4.1      png_0.1-8          XML_3.99-0.16.1   \n",
       "[103] parallel_4.3.2     ellipsis_0.3.2     jpeg_0.1-10       \n",
       "[106] lme4_1.1-35.1      mvtnorm_1.2-4      openxlsx_4.2.5.2  \n",
       "[109] crayon_1.5.2       rlang_1.1.3        multcomp_1.4-25   \n",
       "[112] mnormt_2.1.1      "
      ]
     },
     "metadata": {},
     "output_type": "display_data"
    }
   ],
   "source": [
    "sessionInfo()"
   ]
  }
 ],
 "metadata": {
  "jupytext": {
   "cell_metadata_filter": "tags,-all",
   "main_language": "R",
   "notebook_metadata_filter": "-all"
  },
  "kernelspec": {
   "display_name": "R",
   "language": "R",
   "name": "ir"
  },
  "language_info": {
   "codemirror_mode": "r",
   "file_extension": ".r",
   "mimetype": "text/x-r-source",
   "name": "R",
   "pygments_lexer": "r",
   "version": "4.3.2"
  }
 },
 "nbformat": 4,
 "nbformat_minor": 5
}
