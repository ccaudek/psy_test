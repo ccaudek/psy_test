{
 "cells": [
  {
   "cell_type": "markdown",
   "metadata": {},
   "source": [
    "(interrater-reliability-notebook)=\n",
    "# L'affidabilità tra giudici"
   ]
  },
  {
   "cell_type": "markdown",
   "metadata": {},
   "source": [
    "L'affidabilità tra giudici (*Interrater Reliability*) si riferisce alla coerenza o concordanza tra due o più giudici che stanno valutando lo stesso fenomeno o campione. In altre parole, essa indica quanto siano simili i risultati ottenuti da diversi giudici quando esprimono giudizi o effettuano misurazioni simili.\n",
    "\n",
    "Ecco una proposta di modifica per integrare i suggerimenti nella sezione iniziale del capitolo:\n",
    "\n",
    "---\n",
    "\n",
    "**Introduzione**\n",
    "\n",
    "L'affidabilità tra giudici è un aspetto fondamentale in molti ambiti della psicologia e della ricerca clinica. Consideriamo il caso di una diagnosi clinica. Quando diversi specialisti valutano i sintomi di un paziente, è essenziale che le loro valutazioni siano coerenti per garantire una diagnosi accurata. Ad esempio, nella valutazione dei disturbi dell'umore, psicologi e psichiatri devono giungere a conclusioni simili basandosi su sintomi osservabili e risposte del paziente a questionari standardizzati. Un esempio nella ricerca potrebbe essere uno studio sull'efficacia di una nuova terapia per l'ansia. Qui, vari terapeuti valutano il livello di ansia dei partecipanti prima e dopo il trattamento. L'affidabilità tra le valutazioni di questi terapeuti è cruciale per validare l'efficacia del trattamento.\n",
    "\n",
    "Questi esempi illustrano l'importanza dell'affidabilità tra giudici nella pratica clinica e nella ricerca psicologica, e forniscono il contesto per la discussione che segue sui metodi per misurare e analizzare questa affidabilità.\n",
    "\n",
    "Questo capitolo esamina l'affidabilità tra giudici in due contesti: con due giudici e con giudici molteplici. Nel primo caso, analizzeremo l'accordo nominale e il Kappa di Cohen. Nel secondo caso, useremo l'ICC, l'ANOVA ad una via e l'ANOVA a due vie. In questo contesto, i modelli a effetti misti si dimostrano fondamentali per gestire disegni con giudici molteplici, catturando le variazioni tra i giudici e tra i partecipanti e fornendo una visione completa dell'affidabilità delle valutazioni."
   ]
  },
  {
   "cell_type": "code",
   "execution_count": 1,
   "metadata": {
    "vscode": {
     "languageId": "r"
    }
   },
   "outputs": [],
   "source": [
    "source(\"_common.R\")\n",
    "suppressPackageStartupMessages(library(lme4))"
   ]
  },
  {
   "cell_type": "markdown",
   "metadata": {},
   "source": [
    "@article{hirsch2022reliability,\n",
    "Nella discussione seguente useremo i dati dello studio [The Reliability and Validity of Speech-Language Pathologists’ Estimations of Intelligibility in Dysarthria](https://www.mdpi.com/2076-3425/12/8/1011/) di {cite}`hirsch2022reliability`."
   ]
  },
  {
   "cell_type": "code",
   "execution_count": 2,
   "metadata": {
    "vscode": {
     "languageId": "r"
    }
   },
   "outputs": [
    {
     "data": {
      "text/html": [
       "<table class=\"dataframe\">\n",
       "<caption>A tibble: 6 x 22</caption>\n",
       "<thead>\n",
       "\t<tr><th scope=col>Speaker</th><th scope=col>slp10</th><th scope=col>slp11</th><th scope=col>slp13</th><th scope=col>slp14</th><th scope=col>slp15</th><th scope=col>slp16</th><th scope=col>slp17</th><th scope=col>slp18</th><th scope=col>slp19</th><th scope=col>...</th><th scope=col>slp21</th><th scope=col>slp22</th><th scope=col>slp23</th><th scope=col>slp25</th><th scope=col>slp3</th><th scope=col>slp4</th><th scope=col>slp5</th><th scope=col>slp6</th><th scope=col>slp8</th><th scope=col>slp9</th></tr>\n",
       "\t<tr><th scope=col>&lt;chr&gt;</th><th scope=col>&lt;dbl&gt;</th><th scope=col>&lt;dbl&gt;</th><th scope=col>&lt;dbl&gt;</th><th scope=col>&lt;dbl&gt;</th><th scope=col>&lt;dbl&gt;</th><th scope=col>&lt;dbl&gt;</th><th scope=col>&lt;dbl&gt;</th><th scope=col>&lt;dbl&gt;</th><th scope=col>&lt;dbl&gt;</th><th scope=col>...</th><th scope=col>&lt;dbl&gt;</th><th scope=col>&lt;dbl&gt;</th><th scope=col>&lt;dbl&gt;</th><th scope=col>&lt;dbl&gt;</th><th scope=col>&lt;dbl&gt;</th><th scope=col>&lt;dbl&gt;</th><th scope=col>&lt;dbl&gt;</th><th scope=col>&lt;dbl&gt;</th><th scope=col>&lt;dbl&gt;</th><th scope=col>&lt;dbl&gt;</th></tr>\n",
       "</thead>\n",
       "<tbody>\n",
       "\t<tr><td>AF1  </td><td>96.28</td><td>100.00</td><td>96.56</td><td>99.30</td><td>100.00</td><td>12.58</td><td>100.00</td><td>88.16</td><td>52.58</td><td>...</td><td>77.42</td><td>73.64</td><td>100.00</td><td>100.00</td><td> 37.82</td><td>73.24</td><td>55.01</td><td>100.00</td><td>53.94</td><td>85.07</td></tr>\n",
       "\t<tr><td>AF9  </td><td>12.32</td><td> 34.68</td><td> 0.86</td><td> 3.52</td><td> 12.58</td><td> 0.00</td><td>  6.69</td><td> 0.00</td><td> 7.42</td><td>...</td><td>13.55</td><td> 0.00</td><td>  0.00</td><td>  2.90</td><td>  0.00</td><td>14.51</td><td> 1.72</td><td>    NA</td><td> 6.76</td><td>10.28</td></tr>\n",
       "\t<tr><td>ALSF6</td><td>   NA</td><td> 30.84</td><td> 5.73</td><td>73.94</td><td> 73.87</td><td> 4.52</td><td> 45.13</td><td>41.92</td><td>26.13</td><td>...</td><td>25.81</td><td> 8.31</td><td> 18.46</td><td> 86.77</td><td>  0.00</td><td>26.20</td><td> 3.72</td><td>    NA</td><td> 9.86</td><td>37.75</td></tr>\n",
       "\t<tr><td>ALSF7</td><td>93.98</td><td> 96.31</td><td>61.32</td><td>64.37</td><td>100.00</td><td> 7.74</td><td> 69.92</td><td>88.16</td><td>37.42</td><td>...</td><td>59.35</td><td>34.10</td><td> 90.63</td><td> 53.23</td><td> 99.71</td><td>63.10</td><td>56.73</td><td> 88.83</td><td>64.93</td><td>53.80</td></tr>\n",
       "\t<tr><td>ALSF9</td><td>29.51</td><td> 52.20</td><td>43.55</td><td>46.76</td><td> 60.65</td><td>23.87</td><td> 25.21</td><td>91.64</td><td>37.10</td><td>...</td><td>57.74</td><td>29.51</td><td> 50.14</td><td> 64.84</td><td>  0.00</td><td>31.13</td><td>40.11</td><td> 16.91</td><td> 5.92</td><td>50.00</td></tr>\n",
       "\t<tr><td>ALSM1</td><td>96.28</td><td>    NA</td><td>29.23</td><td>69.44</td><td> 99.35</td><td>82.26</td><td> 70.19</td><td>79.72</td><td>78.39</td><td>...</td><td>83.87</td><td>84.24</td><td> 92.29</td><td>100.00</td><td>100.00</td><td>18.03</td><td>58.74</td><td> 66.48</td><td>51.83</td><td>60.28</td></tr>\n",
       "</tbody>\n",
       "</table>\n"
      ],
      "text/latex": [
       "A tibble: 6 x 22\n",
       "\\begin{tabular}{lllllllllllllllllllll}\n",
       " Speaker & slp10 & slp11 & slp13 & slp14 & slp15 & slp16 & slp17 & slp18 & slp19 & ... & slp21 & slp22 & slp23 & slp25 & slp3 & slp4 & slp5 & slp6 & slp8 & slp9\\\\\n",
       " <chr> & <dbl> & <dbl> & <dbl> & <dbl> & <dbl> & <dbl> & <dbl> & <dbl> & <dbl> & ... & <dbl> & <dbl> & <dbl> & <dbl> & <dbl> & <dbl> & <dbl> & <dbl> & <dbl> & <dbl>\\\\\n",
       "\\hline\n",
       "\t AF1   & 96.28 & 100.00 & 96.56 & 99.30 & 100.00 & 12.58 & 100.00 & 88.16 & 52.58 & ... & 77.42 & 73.64 & 100.00 & 100.00 &  37.82 & 73.24 & 55.01 & 100.00 & 53.94 & 85.07\\\\\n",
       "\t AF9   & 12.32 &  34.68 &  0.86 &  3.52 &  12.58 &  0.00 &   6.69 &  0.00 &  7.42 & ... & 13.55 &  0.00 &   0.00 &   2.90 &   0.00 & 14.51 &  1.72 &     NA &  6.76 & 10.28\\\\\n",
       "\t ALSF6 &    NA &  30.84 &  5.73 & 73.94 &  73.87 &  4.52 &  45.13 & 41.92 & 26.13 & ... & 25.81 &  8.31 &  18.46 &  86.77 &   0.00 & 26.20 &  3.72 &     NA &  9.86 & 37.75\\\\\n",
       "\t ALSF7 & 93.98 &  96.31 & 61.32 & 64.37 & 100.00 &  7.74 &  69.92 & 88.16 & 37.42 & ... & 59.35 & 34.10 &  90.63 &  53.23 &  99.71 & 63.10 & 56.73 &  88.83 & 64.93 & 53.80\\\\\n",
       "\t ALSF9 & 29.51 &  52.20 & 43.55 & 46.76 &  60.65 & 23.87 &  25.21 & 91.64 & 37.10 & ... & 57.74 & 29.51 &  50.14 &  64.84 &   0.00 & 31.13 & 40.11 &  16.91 &  5.92 & 50.00\\\\\n",
       "\t ALSM1 & 96.28 &     NA & 29.23 & 69.44 &  99.35 & 82.26 &  70.19 & 79.72 & 78.39 & ... & 83.87 & 84.24 &  92.29 & 100.00 & 100.00 & 18.03 & 58.74 &  66.48 & 51.83 & 60.28\\\\\n",
       "\\end{tabular}\n"
      ],
      "text/markdown": [
       "\n",
       "A tibble: 6 x 22\n",
       "\n",
       "| Speaker &lt;chr&gt; | slp10 &lt;dbl&gt; | slp11 &lt;dbl&gt; | slp13 &lt;dbl&gt; | slp14 &lt;dbl&gt; | slp15 &lt;dbl&gt; | slp16 &lt;dbl&gt; | slp17 &lt;dbl&gt; | slp18 &lt;dbl&gt; | slp19 &lt;dbl&gt; | ... ... | slp21 &lt;dbl&gt; | slp22 &lt;dbl&gt; | slp23 &lt;dbl&gt; | slp25 &lt;dbl&gt; | slp3 &lt;dbl&gt; | slp4 &lt;dbl&gt; | slp5 &lt;dbl&gt; | slp6 &lt;dbl&gt; | slp8 &lt;dbl&gt; | slp9 &lt;dbl&gt; |\n",
       "|---|---|---|---|---|---|---|---|---|---|---|---|---|---|---|---|---|---|---|---|---|\n",
       "| AF1   | 96.28 | 100.00 | 96.56 | 99.30 | 100.00 | 12.58 | 100.00 | 88.16 | 52.58 | ... | 77.42 | 73.64 | 100.00 | 100.00 |  37.82 | 73.24 | 55.01 | 100.00 | 53.94 | 85.07 |\n",
       "| AF9   | 12.32 |  34.68 |  0.86 |  3.52 |  12.58 |  0.00 |   6.69 |  0.00 |  7.42 | ... | 13.55 |  0.00 |   0.00 |   2.90 |   0.00 | 14.51 |  1.72 |     NA |  6.76 | 10.28 |\n",
       "| ALSF6 |    NA |  30.84 |  5.73 | 73.94 |  73.87 |  4.52 |  45.13 | 41.92 | 26.13 | ... | 25.81 |  8.31 |  18.46 |  86.77 |   0.00 | 26.20 |  3.72 |     NA |  9.86 | 37.75 |\n",
       "| ALSF7 | 93.98 |  96.31 | 61.32 | 64.37 | 100.00 |  7.74 |  69.92 | 88.16 | 37.42 | ... | 59.35 | 34.10 |  90.63 |  53.23 |  99.71 | 63.10 | 56.73 |  88.83 | 64.93 | 53.80 |\n",
       "| ALSF9 | 29.51 |  52.20 | 43.55 | 46.76 |  60.65 | 23.87 |  25.21 | 91.64 | 37.10 | ... | 57.74 | 29.51 |  50.14 |  64.84 |   0.00 | 31.13 | 40.11 |  16.91 |  5.92 | 50.00 |\n",
       "| ALSM1 | 96.28 |     NA | 29.23 | 69.44 |  99.35 | 82.26 |  70.19 | 79.72 | 78.39 | ... | 83.87 | 84.24 |  92.29 | 100.00 | 100.00 | 18.03 | 58.74 |  66.48 | 51.83 | 60.28 |\n",
       "\n"
      ],
      "text/plain": [
       "  Speaker slp10 slp11  slp13 slp14 slp15  slp16 slp17  slp18 slp19 ... slp21\n",
       "1 AF1     96.28 100.00 96.56 99.30 100.00 12.58 100.00 88.16 52.58 ... 77.42\n",
       "2 AF9     12.32  34.68  0.86  3.52  12.58  0.00   6.69  0.00  7.42 ... 13.55\n",
       "3 ALSF6      NA  30.84  5.73 73.94  73.87  4.52  45.13 41.92 26.13 ... 25.81\n",
       "4 ALSF7   93.98  96.31 61.32 64.37 100.00  7.74  69.92 88.16 37.42 ... 59.35\n",
       "5 ALSF9   29.51  52.20 43.55 46.76  60.65 23.87  25.21 91.64 37.10 ... 57.74\n",
       "6 ALSM1   96.28     NA 29.23 69.44  99.35 82.26  70.19 79.72 78.39 ... 83.87\n",
       "  slp22 slp23  slp25  slp3   slp4  slp5  slp6   slp8  slp9 \n",
       "1 73.64 100.00 100.00  37.82 73.24 55.01 100.00 53.94 85.07\n",
       "2  0.00   0.00   2.90   0.00 14.51  1.72     NA  6.76 10.28\n",
       "3  8.31  18.46  86.77   0.00 26.20  3.72     NA  9.86 37.75\n",
       "4 34.10  90.63  53.23  99.71 63.10 56.73  88.83 64.93 53.80\n",
       "5 29.51  50.14  64.84   0.00 31.13 40.11  16.91  5.92 50.00\n",
       "6 84.24  92.29 100.00 100.00 18.03 58.74  66.48 51.83 60.28"
      ]
     },
     "metadata": {},
     "output_type": "display_data"
    }
   ],
   "source": [
    "slp_dat <- read.csv(\"https://osf.io/download/p9gqk/\")\n",
    "slp_vas_wide <- slp_dat |>\n",
    "    select(slpID, Speaker, slp_VAS) |>\n",
    "    pivot_wider(names_from = slpID, values_from = slp_VAS)\n",
    "head(slp_vas_wide)"
   ]
  },
  {
   "cell_type": "markdown",
   "metadata": {},
   "source": [
    "In questo studio, i giudici valutano la \"Percentuale di Intelligibilità del Discorso\" di persone affette da disartria. Questa misura soggettiva descrive la percentuale di discorso compreso durante una conversazione con un parlante che soffre di disartria, una condizione che influisce sulla chiarezza e sull'intelligibilità della parola. I giudici ascoltano e valutano le registrazioni vocali dei partecipanti affetti da disartria e stimano la percentuale di parole o frasi che sono in grado di comprendere chiaramente. Questa valutazione fornisce una misura importante dell'impatto della disartria sulla comunicazione verbale quotidiana.\n",
    "\n",
    "\n",
    "## Due giudici\n",
    "\n",
    "Selezioniamo unicamente due giudici."
   ]
  },
  {
   "cell_type": "code",
   "execution_count": 3,
   "metadata": {
    "vscode": {
     "languageId": "r"
    }
   },
   "outputs": [
    {
     "data": {
      "text/html": [
       "<table class=\"dataframe\">\n",
       "<caption>A tibble: 6 x 2</caption>\n",
       "<thead>\n",
       "\t<tr><th scope=col>slp14</th><th scope=col>slp15</th></tr>\n",
       "\t<tr><th scope=col>&lt;dbl&gt;</th><th scope=col>&lt;dbl&gt;</th></tr>\n",
       "</thead>\n",
       "<tbody>\n",
       "\t<tr><td>99.30</td><td>100.00</td></tr>\n",
       "\t<tr><td> 3.52</td><td> 12.58</td></tr>\n",
       "\t<tr><td>73.94</td><td> 73.87</td></tr>\n",
       "\t<tr><td>64.37</td><td>100.00</td></tr>\n",
       "\t<tr><td>46.76</td><td> 60.65</td></tr>\n",
       "\t<tr><td>69.44</td><td> 99.35</td></tr>\n",
       "</tbody>\n",
       "</table>\n"
      ],
      "text/latex": [
       "A tibble: 6 x 2\n",
       "\\begin{tabular}{ll}\n",
       " slp14 & slp15\\\\\n",
       " <dbl> & <dbl>\\\\\n",
       "\\hline\n",
       "\t 99.30 & 100.00\\\\\n",
       "\t  3.52 &  12.58\\\\\n",
       "\t 73.94 &  73.87\\\\\n",
       "\t 64.37 & 100.00\\\\\n",
       "\t 46.76 &  60.65\\\\\n",
       "\t 69.44 &  99.35\\\\\n",
       "\\end{tabular}\n"
      ],
      "text/markdown": [
       "\n",
       "A tibble: 6 x 2\n",
       "\n",
       "| slp14 &lt;dbl&gt; | slp15 &lt;dbl&gt; |\n",
       "|---|---|\n",
       "| 99.30 | 100.00 |\n",
       "|  3.52 |  12.58 |\n",
       "| 73.94 |  73.87 |\n",
       "| 64.37 | 100.00 |\n",
       "| 46.76 |  60.65 |\n",
       "| 69.44 |  99.35 |\n",
       "\n"
      ],
      "text/plain": [
       "  slp14 slp15 \n",
       "1 99.30 100.00\n",
       "2  3.52  12.58\n",
       "3 73.94  73.87\n",
       "4 64.37 100.00\n",
       "5 46.76  60.65\n",
       "6 69.44  99.35"
      ]
     },
     "metadata": {},
     "output_type": "display_data"
    }
   ],
   "source": [
    "slp_2rater <- slp_vas_wide |>\n",
    "    select(slp14, slp15)\n",
    "head(slp_2rater)"
   ]
  },
  {
   "cell_type": "markdown",
   "metadata": {},
   "source": [
    "### Accordo nominale\n",
    "\n",
    "Per calcolare l'accordo nominale, è necessario analizzare quali valutazioni tra i due giudici corrispondono in modo perfettamente uguale. Utilizzando questa definizione, si ottiene:"
   ]
  },
  {
   "cell_type": "code",
   "execution_count": 4,
   "metadata": {
    "vscode": {
     "languageId": "r"
    }
   },
   "outputs": [
    {
     "data": {
      "text/html": [
       "0.1"
      ],
      "text/latex": [
       "0.1"
      ],
      "text/markdown": [
       "0.1"
      ],
      "text/plain": [
       "[1] 0.1"
      ]
     },
     "metadata": {},
     "output_type": "display_data"
    }
   ],
   "source": [
    "with(slp_2rater, mean(slp14 == slp15))"
   ]
  },
  {
   "cell_type": "markdown",
   "metadata": {},
   "source": [
    "Se invece modifichiamo leggermente la definizione e affermiamo che l'accordo è raggiunto quando rimane invariato anche dopo l'arrotondamento, si ottiene:"
   ]
  },
  {
   "cell_type": "code",
   "execution_count": 5,
   "metadata": {
    "vscode": {
     "languageId": "r"
    }
   },
   "outputs": [
    {
     "data": {
      "text/plain": [
       "     slp15\n",
       "slp14 0 1 2 3 4 5 6 7 8 9 10\n",
       "   0  0 1 0 0 0 0 0 0 0 0  0\n",
       "   1  0 0 0 0 0 0 0 0 0 0  0\n",
       "   2  0 0 0 0 0 0 0 0 0 0  0\n",
       "   3  0 0 0 0 0 0 0 0 0 0  0\n",
       "   4  0 0 0 0 0 0 0 0 0 0  0\n",
       "   5  0 0 0 0 0 0 1 0 0 0  0\n",
       "   6  0 0 0 0 0 1 0 0 0 0  2\n",
       "   7  0 0 0 0 0 0 0 1 0 0  1\n",
       "   8  0 0 0 0 0 0 0 0 0 2  0\n",
       "   9  0 0 0 0 0 0 0 0 1 0  2\n",
       "   10 0 0 0 0 0 0 0 1 0 0  7"
      ]
     },
     "metadata": {},
     "output_type": "display_data"
    }
   ],
   "source": [
    "slp_2round <- round(slp_2rater / 10)\n",
    "slp_2round <- lapply(slp_2round, FUN = factor, levels = 0:10)\n",
    "# Contingency table\n",
    "table(slp_2round)"
   ]
  },
  {
   "cell_type": "code",
   "execution_count": 6,
   "metadata": {
    "vscode": {
     "languageId": "r"
    }
   },
   "outputs": [
    {
     "data": {
      "text/html": [
       "0.4"
      ],
      "text/latex": [
       "0.4"
      ],
      "text/markdown": [
       "0.4"
      ],
      "text/plain": [
       "[1] 0.4"
      ]
     },
     "metadata": {},
     "output_type": "display_data"
    }
   ],
   "source": [
    "p0 <- with(slp_2round, mean(slp14 == slp15))\n",
    "p0"
   ]
  },
  {
   "cell_type": "markdown",
   "metadata": {},
   "source": [
    "Qui, l'arrotondamento serve a ridurre la specificità delle valutazioni, permettendo un confronto più ampio e potenzialmente più flessibile tra le valutazioni dei due giudici​​. Questo approccio riflette una visione più tollerante dell'accordo, riconoscendo che piccole discrepanze nelle valutazioni potrebbero non essere significative in un contesto pratico.\n",
    "\n",
    "Nel contesto specifico descritto, l'arrotondamento implica dividere le valutazioni per 10 e poi arrotondarle al numero intero più vicino. Questo processo rende i valori leggermente diversi equivalenti. Ad esempio, se un giudice assegna una valutazione di 75 e l'altro assegna 78, dividendo per 10 otteniamo 7.5 e 7.8; arrotondando, entrambi i valori diventano 8. Così, valutazioni originalmente diverse vengono arrotondate allo stesso numero intero, permettendo un accordo più ampio tra i giudici. Questo metodo riconosce l'accordo anche in presenza di piccole variazioni nelle valutazioni, riflettendo una visione più flessibile dell'accordo tra i giudici."
   ]
  },
  {
   "cell_type": "markdown",
   "metadata": {},
   "source": [
    "### Kappa di Cohen\n",
    "\n",
    "L'indice di concordanza Kappa di Cohen è definito nel modo seguente:\n",
    "\n",
    "$$\n",
    "\\kappa = \\frac{p_o - p_c}{1 - p_c},\n",
    "$$\n",
    "\n",
    "dove:\n",
    "\n",
    "- $\\kappa$ rappresenta il coefficiente di Kappa di Cohen.\n",
    "- $p_o$ è l'indice di concordanza osservato tra gli osservatori.\n",
    "- $p_c$ è l'indice di concordanza attesa per caso.\n",
    "\n",
    "$p_o$ (indice di concordanza osservato tra gli osservatori):\n",
    "\n",
    "$$\n",
    "p_o = \\frac{{\\text{Numero di accordi osservati}}}{{\\text{Numero totale di confronti}}}\n",
    "$$\n",
    "\n",
    "In altre parole, $p_o$ è il rapporto tra il numero di volte in cui gli osservatori sono concordi (hanno dato la stessa valutazione) e il numero totale di confronti effettuati.\n",
    "\n",
    "$p_c$ è l'indice di concordanza attesa per caso:\n",
    "\n",
    "$$\n",
    "p_c = \\frac{{\\sum (\\text{Riga i-esima del totale}) \\times (\\text{Colonna i-esima del totale})}}{{\\text{Numero totale di confronti}}^2} \n",
    "$$\n",
    "\n",
    "In altre parole, $p_c$ è il rapporto atteso di concordanza tra gli osservatori nel caso in cui le loro valutazioni siano indipendenti.\n",
    "\n",
    "Queste formule vengono utilizzate per calcolare il coefficiente di Kappa di Cohen, che misura la concordanza tra osservatori che stanno misurando una variabile categoriale, tenendo conto della concordanza casuale attesa. Un valore di $\\kappa$ vicino a 1 indica un'alta concordanza, mentre un valore vicino a 0 indica una concordanza casuale e un valore negativo indica una concordanza peggiore di quella casuale."
   ]
  },
  {
   "cell_type": "code",
   "execution_count": 7,
   "metadata": {
    "vscode": {
     "languageId": "r"
    }
   },
   "outputs": [
    {
     "data": {
      "text/html": [
       "0.166666666666667"
      ],
      "text/latex": [
       "0.166666666666667"
      ],
      "text/markdown": [
       "0.166666666666667"
      ],
      "text/plain": [
       "[1] 0.1666667"
      ]
     },
     "metadata": {},
     "output_type": "display_data"
    }
   ],
   "source": [
    "slp_2tab <- table(slp_2round)\n",
    "pc <- sum(colSums(slp_2tab) * rowSums(slp_2tab)) / sum(slp_2tab)^2\n",
    "(kappa <- (p0 - pc) / (1 - pc))"
   ]
  },
  {
   "cell_type": "markdown",
   "metadata": {},
   "source": [
    "Svantaggio: Il coefficiente di Kappa tende a essere basso quando i punteggi sono distribuiti in maniera disomogenea (ad esempio, quando la maggior parte dei punteggi appartiene a determinate categorie). Questa situazione corrisponde esattamente al caso dell'esempio presente.\n",
    "\n",
    "## Giudici multipli\n",
    "\n",
    "### Coefficiente $\\alpha$\n",
    "\n",
    "Il coefficiente $\\alpha$ di Cronbach è comunemente utilizzato per misurare l'affidabilità interna di un test, cioè la coerenza con cui gli item all'interno del test misurano un costrutto comune. Tuttavia, può essere utilizzato anche per valutare l'affidabilità tra giudici in uno studio in cui più valutatori assegnano punteggi o giudizi a una serie di item.\n",
    "\n",
    "Nel contesto dell'affidabilità tra giudici, il coefficiente $\\alpha$ di Cronbach misura quanto consistentemente i diversi giudici valutano gli stessi item. Un valore di $\\alpha$ vicino a 1 indica un alto livello di consistenza (o affidabilità) tra i giudici, suggerendo che stanno valutando gli item in modo simile. Un valore più basso indica una minore coerenza nelle valutazioni tra i giudici.\n",
    "\n",
    "Per calcolare il coefficiente $\\alpha$ di Cronbach in questo contesto, si considerano i punteggi assegnati da ciascun giudice a ciascun item come se fossero item individuali di un test. Quindi, si applica la formula standard del coefficiente $\\alpha$ per valutare la coerenza interna di questi \"item\" (in questo caso, le valutazioni dei giudici)."
   ]
  },
  {
   "cell_type": "code",
   "execution_count": 5,
   "metadata": {
    "vscode": {
     "languageId": "r"
    }
   },
   "outputs": [
    {
     "name": "stderr",
     "output_type": "stream",
     "text": [
      "Number of categories should be increased  in order to count frequencies. \n",
      "\n",
      "Warning message in cor.smooth(r):\n",
      "\"Matrix was not positive definite, smoothing was done\"\n",
      "In smc, smcs > 1 were set to 1.0\n",
      "\n",
      "In smc, smcs > 1 were set to 1.0\n",
      "\n",
      "In smc, smcs < 0 were set to .0\n",
      "\n",
      "In smc, smcs > 1 were set to 1.0\n",
      "\n",
      "In smc, smcs > 1 were set to 1.0\n",
      "\n",
      "In smc, smcs > 1 were set to 1.0\n",
      "\n",
      "In smc, smcs > 1 were set to 1.0\n",
      "\n",
      "In smc, smcs > 1 were set to 1.0\n",
      "\n",
      "In smc, smcs < 0 were set to .0\n",
      "\n",
      "In smc, smcs > 1 were set to 1.0\n",
      "\n",
      "In smc, smcs < 0 were set to .0\n",
      "\n",
      "In smc, smcs > 1 were set to 1.0\n",
      "\n",
      "In smc, smcs > 1 were set to 1.0\n",
      "\n",
      "In smc, smcs > 1 were set to 1.0\n",
      "\n",
      "In smc, smcs > 1 were set to 1.0\n",
      "\n",
      "In smc, smcs > 1 were set to 1.0\n",
      "\n",
      "In smc, smcs < 0 were set to .0\n",
      "\n",
      "In smc, smcs > 1 were set to 1.0\n",
      "\n",
      "In smc, smcs > 1 were set to 1.0\n",
      "\n",
      "In smc, smcs < 0 were set to .0\n",
      "\n",
      "In smc, smcs > 1 were set to 1.0\n",
      "\n",
      "In smc, smcs < 0 were set to .0\n",
      "\n",
      "In smc, smcs > 1 were set to 1.0\n",
      "\n",
      "In smc, smcs > 1 were set to 1.0\n",
      "\n",
      "In smc, smcs > 1 were set to 1.0\n",
      "\n",
      "In smc, smcs < 0 were set to .0\n",
      "\n",
      "In smc, smcs > 1 were set to 1.0\n",
      "\n",
      "In smc, smcs < 0 were set to .0\n",
      "\n",
      "In smc, smcs > 1 were set to 1.0\n",
      "\n",
      "In smc, smcs < 0 were set to .0\n",
      "\n",
      "In smc, smcs > 1 were set to 1.0\n",
      "\n",
      "In smc, smcs > 1 were set to 1.0\n",
      "\n"
     ]
    },
    {
     "data": {
      "text/plain": [
       "\n",
       "Reliability analysis   \n",
       "Call: psych::alpha(x = slp_vas_wide[-1])\n",
       "\n",
       "  raw_alpha std.alpha G6(smc) average_r S/N    ase mean sd median_r\n",
       "      0.98      0.98    0.99      0.68  45 0.0076   62 25      0.7\n",
       "\n",
       "    95% confidence boundaries \n",
       "         lower alpha upper\n",
       "Feldt     0.96  0.98  0.99\n",
       "Duhachek  0.96  0.98  0.99\n",
       "\n",
       " Reliability if an item is dropped:\n",
       "      raw_alpha std.alpha G6(smc) average_r S/N var.r med.r\n",
       "slp10      0.97      0.98    0.98      0.68  42 0.019  0.70\n",
       "slp11      0.97      0.98    1.00      0.68  42 0.018  0.70\n",
       "slp13      0.97      0.98    0.99      0.68  42 0.019  0.70\n",
       "slp14      0.97      0.98    0.99      0.68  43 0.019  0.71\n",
       "slp15      0.97      0.98    1.00      0.68  43 0.019  0.71\n",
       "slp16      0.98      0.98    0.99      0.69  45 0.018  0.71\n",
       "slp17      0.97      0.98    0.99      0.68  42 0.019  0.69\n",
       "slp18      0.97      0.98    1.00      0.69  44 0.017  0.71\n",
       "slp19      0.97      0.98    0.99      0.68  43 0.019  0.71\n",
       "slp2       0.97      0.98    0.99      0.68  43 0.018  0.71\n",
       "slp20      0.97      0.98    0.99      0.68  42 0.019  0.69\n",
       "slp21      0.97      0.98    0.99      0.68  42 0.018  0.69\n",
       "slp22      0.97      0.98    0.99      0.68  43 0.020  0.69\n",
       "slp23      0.97      0.98    0.99      0.68  42 0.019  0.69\n",
       "slp25      0.97      0.98    0.99      0.69  44 0.018  0.71\n",
       "slp3       0.98      0.98    0.99      0.69  44 0.019  0.71\n",
       "slp4       0.97      0.98    0.99      0.69  44 0.018  0.71\n",
       "slp5       0.97      0.98    0.99      0.68  43 0.019  0.70\n",
       "slp6       0.98      0.98    0.99      0.71  48 0.011  0.71\n",
       "slp8       0.97      0.98    0.99      0.68  42 0.020  0.70\n",
       "slp9       0.97      0.98    0.99      0.68  42 0.018  0.69\n",
       "\n",
       " Item statistics \n",
       "       n raw.r std.r r.cor r.drop mean sd\n",
       "slp10 18  0.89  0.88  0.88   0.86   81 28\n",
       "slp11 18  0.89  0.91  0.92   0.90   69 33\n",
       "slp13 19  0.86  0.88  0.88   0.86   54 33\n",
       "slp14 20  0.82  0.84  0.84   0.81   80 25\n",
       "slp15 20  0.81  0.82  0.81   0.80   85 22\n",
       "slp16 20  0.77  0.76  0.76   0.73   50 42\n",
       "slp17 20  0.90  0.91  0.91   0.90   63 34\n",
       "slp18 20  0.82  0.81  0.78   0.79   70 30\n",
       "slp19 19  0.83  0.83  0.83   0.81   56 25\n",
       "slp2  20  0.83  0.82  0.82   0.80   64 32\n",
       "slp20 20  0.90  0.91  0.91   0.89   49 25\n",
       "slp21 19  0.91  0.91  0.91   0.91   59 25\n",
       "slp22 20  0.86  0.86  0.85   0.84   50 27\n",
       "slp23 20  0.89  0.88  0.88   0.86   71 32\n",
       "slp25 20  0.79  0.79  0.79   0.77   79 28\n",
       "slp3  19  0.76  0.76  0.76   0.74   52 40\n",
       "slp4  20  0.79  0.80  0.78   0.77   47 27\n",
       "slp5  19  0.82  0.82  0.81   0.81   43 23\n",
       "slp6  13  0.80  0.57  0.57   0.54   76 23\n",
       "slp8  20  0.86  0.88  0.88   0.86   53 31\n",
       "slp9  19  0.89  0.91  0.90   0.90   58 23"
      ]
     },
     "metadata": {},
     "output_type": "display_data"
    }
   ],
   "source": [
    "psych::alpha(slp_vas_wide[-1])"
   ]
  },
  {
   "cell_type": "markdown",
   "metadata": {},
   "source": [
    "Nell'esempio in discussione, il valore del coefficiente $\\alpha$ di Cronbach è 0.98. Questo indica un'altissima affidabilità interna, suggerendo che i giudici coinvolti nello studio hanno fornito delle valutazioni molto consistenti tra loro. Un valore così elevato di $\\alpha$ è raro e suggerisce che ci sia un'alta coerenza nelle valutazioni tra i giudici. In termini pratici, questo significa che si può avere un'elevata fiducia nel fatto che le valutazioni fornite dai diversi giudici siano intercambiabili e riflettano in modo affidabile la \"Percentuale di Intelligibilità del Discorso\" che viene valutata."
   ]
  },
  {
   "cell_type": "markdown",
   "metadata": {},
   "source": [
    "### Coefficiente di correlazione intraclasse\n",
    "\n",
    "Il Coefficiente di Correlazione Intraclasse (ICC) quantifica il grado di somiglianza tra le unità all'interno dello stesso gruppo. A differenza della maggior parte delle altre misure di correlazione, l'ICC viene impiegato con dati organizzati in gruppi anziché con coppie di osservazioni. Questo lo rende particolarmente idoneo per valutare la concordanza tra giudici che stanno valutando lo stesso insieme di individui o item.\n",
    "\n",
    "L'ICC si basa sul framework del modello ANOVA o del modello a effetti misti. Questi modelli statistici consentono di analizzare le variazioni dei punteggi sia all'interno dei gruppi (ovvero le differenze tra le osservazioni all'interno dello stesso gruppo) che tra i gruppi (ovvero le differenze tra i gruppi stessi). Pertanto, l'ICC tiene conto di due fonti di varianza: la varianza all'interno dei gruppi (varianza delle valutazioni dei giudici all'interno dello stesso gruppo) e la varianza tra i gruppi (varianza delle valutazioni dei giudici tra gruppi diversi). Inoltre, viene considerato l'errore casuale presente nelle valutazioni.\n",
    "\n",
    "In sintesi, l'ICC è uno strumento utile per valutare l'affidabilità delle valutazioni o misurazioni effettuate da diversi giudici su un gruppo di individui o item. Un ICC più alto indica una maggiore concordanza tra le valutazioni dei giudici, mentre un ICC più basso indica una maggiore variabilità tra le valutazioni. \n",
    "\n",
    "Per calcolare l'ICC si utilizza un modello ad effetti misti nel quale le variabili indipendenti corrispondono ai giudici valutati (ratees) e la variabile dipendente corrisponde ai Punteggi esaminati. Le fonti di varianza sono:\n",
    "\n",
    "1. Ratees (varianza di interesse)\n",
    "2. Giudici (raters)\n",
    "3. Interazione tra Ratees e Giudici\n",
    "4. Errore casuale\n",
    "\n",
    "L'indice di ICC viene calcolato dividendo la varianza dei ratees per la somma della varianza dei ratees e l'errore casuale. Questo indice misura la proporzione della varianza totale dei punteggi attribuita alla variabilità dei ratees, fornendo un'indicazione dell'affidabilità delle valutazioni effettuate dai giudici. Un ICC più alto indica una maggiore concordanza tra i giudici e quindi una maggiore affidabilità delle valutazioni.\n",
    "\n",
    "Tuttavia, ciò che viene considerato come errore dipende da diverse considerazioni, tra cui:\n",
    "\n",
    "1. Se il disegno è \"crossed\" (cioè tutti i giudici valutano ciascun individuo valutato) o \"nested\" (diversi gruppi di giudici valutano ciascun individuo o item). Nel primo caso, l'errore sarà associato alle differenze tra i giudici all'interno dello stesso gruppo di individui o item valutati, mentre nel secondo caso l'errore sarà relativo alle differenze tra i gruppi di giudici che valutano individui o item diversi.\n",
    "2. Se i giudici sono considerati \"fixed\" (non generalizzabili) o \"random\" (generalizzabili a una \"popolazione di giudici\"); questa distinzione diventa rilevante solo quando l'interazione tra giudici e individui o item può essere stimata. Nel caso in cui i giudici siano considerati \"fixed\", si presume che i giudici specifici coinvolti nello studio siano l'unica popolazione rilevante, e l'interesse è focalizzato sulla concordanza tra di loro. Nel caso in cui i giudici siano considerati \"random\", si ammette che i giudici coinvolti nello studio siano solo un campione di una popolazione più ampia di giudici, e l'interesse è sulla concordanza che può essere generalizzata a tale popolazione più vasta.\n",
    "3. La distinzione tra \"consistenza\" (decisioni relative; viene giudicato di interesse solo l'ordinamento dei punteggi) e \"accordo assoluto\" (decisioni assolute; viene giudicato di interesse il valore effettivo del punteggio). Nel contesto della valutazione dei giudici, la consistenza si riferisce al grado in cui i giudici sono concordi nell'ordine di classificazione degli individui valutati, indipendentemente dai valori numerici dei punteggi. D'altra parte, l'accordo assoluto misura il grado di concordanza tra i giudici riguardo ai valori numerici dei punteggi assegnati agli individui valutati.\n",
    "\n",
    "Queste considerazioni sono fondamentali quando si analizzano e interpretano i risultati dell'ICC o di altri metodi di valutazione dell'affidabilità tra giudici o osservatori. La scelta del modello statistico e la definizione dell'errore dipendono da queste varie considerazioni, e la comprensione di questi aspetti è essenziale per una valutazione accurata della concordanza e dell'affidabilità nelle misurazioni effettuate da più giudici o osservatori.\n",
    "\n",
    "### ANOVA ad una via per disegni nidificati\n",
    "\n",
    "Consideriamo il caso in cui i dati rappresentano i giudizi assegnati a ciascuna persona da due giudici diversi."
   ]
  },
  {
   "cell_type": "code",
   "execution_count": 6,
   "metadata": {
    "vscode": {
     "languageId": "r"
    }
   },
   "outputs": [
    {
     "data": {
      "text/html": [
       "<table class=\"dataframe\">\n",
       "<caption>A grouped_df: 6 x 7</caption>\n",
       "<thead>\n",
       "\t<tr><th scope=col>slpID</th><th scope=col>Speaker</th><th scope=col>slp_VAS</th><th scope=col>slp_VAS.Rel</th><th scope=col>slp_EST</th><th scope=col>slp_EST.Rel</th><th scope=col>SpeakerID</th></tr>\n",
       "\t<tr><th scope=col>&lt;chr&gt;</th><th scope=col>&lt;chr&gt;</th><th scope=col>&lt;dbl&gt;</th><th scope=col>&lt;dbl&gt;</th><th scope=col>&lt;int&gt;</th><th scope=col>&lt;int&gt;</th><th scope=col>&lt;dbl&gt;</th></tr>\n",
       "</thead>\n",
       "<tbody>\n",
       "\t<tr><td>slp10</td><td>AF1  </td><td> 96.28</td><td>  NA</td><td>90</td><td>NA</td><td>1</td></tr>\n",
       "\t<tr><td>slp11</td><td>AF1  </td><td>100.00</td><td>  NA</td><td>80</td><td>NA</td><td>1</td></tr>\n",
       "\t<tr><td>slp13</td><td>AF9  </td><td>  0.86</td><td>  NA</td><td>10</td><td>NA</td><td>2</td></tr>\n",
       "\t<tr><td>slp14</td><td>AF9  </td><td>  3.52</td><td>  NA</td><td>10</td><td>NA</td><td>2</td></tr>\n",
       "\t<tr><td>slp15</td><td>ALSF6</td><td> 73.87</td><td>  NA</td><td>10</td><td>NA</td><td>3</td></tr>\n",
       "\t<tr><td>slp16</td><td>ALSF6</td><td>  4.52</td><td>9.03</td><td> 5</td><td>NA</td><td>3</td></tr>\n",
       "</tbody>\n",
       "</table>\n"
      ],
      "text/latex": [
       "A grouped\\_df: 6 x 7\n",
       "\\begin{tabular}{lllllll}\n",
       " slpID & Speaker & slp\\_VAS & slp\\_VAS.Rel & slp\\_EST & slp\\_EST.Rel & SpeakerID\\\\\n",
       " <chr> & <chr> & <dbl> & <dbl> & <int> & <int> & <dbl>\\\\\n",
       "\\hline\n",
       "\t slp10 & AF1   &  96.28 &   NA & 90 & NA & 1\\\\\n",
       "\t slp11 & AF1   & 100.00 &   NA & 80 & NA & 1\\\\\n",
       "\t slp13 & AF9   &   0.86 &   NA & 10 & NA & 2\\\\\n",
       "\t slp14 & AF9   &   3.52 &   NA & 10 & NA & 2\\\\\n",
       "\t slp15 & ALSF6 &  73.87 &   NA & 10 & NA & 3\\\\\n",
       "\t slp16 & ALSF6 &   4.52 & 9.03 &  5 & NA & 3\\\\\n",
       "\\end{tabular}\n"
      ],
      "text/markdown": [
       "\n",
       "A grouped_df: 6 x 7\n",
       "\n",
       "| slpID &lt;chr&gt; | Speaker &lt;chr&gt; | slp_VAS &lt;dbl&gt; | slp_VAS.Rel &lt;dbl&gt; | slp_EST &lt;int&gt; | slp_EST.Rel &lt;int&gt; | SpeakerID &lt;dbl&gt; |\n",
       "|---|---|---|---|---|---|---|\n",
       "| slp10 | AF1   |  96.28 |   NA | 90 | NA | 1 |\n",
       "| slp11 | AF1   | 100.00 |   NA | 80 | NA | 1 |\n",
       "| slp13 | AF9   |   0.86 |   NA | 10 | NA | 2 |\n",
       "| slp14 | AF9   |   3.52 |   NA | 10 | NA | 2 |\n",
       "| slp15 | ALSF6 |  73.87 |   NA | 10 | NA | 3 |\n",
       "| slp16 | ALSF6 |   4.52 | 9.03 |  5 | NA | 3 |\n",
       "\n"
      ],
      "text/plain": [
       "  slpID Speaker slp_VAS slp_VAS.Rel slp_EST slp_EST.Rel SpeakerID\n",
       "1 slp10 AF1      96.28    NA        90      NA          1        \n",
       "2 slp11 AF1     100.00    NA        80      NA          1        \n",
       "3 slp13 AF9       0.86    NA        10      NA          2        \n",
       "4 slp14 AF9       3.52    NA        10      NA          2        \n",
       "5 slp15 ALSF6    73.87    NA        10      NA          3        \n",
       "6 slp16 ALSF6     4.52  9.03         5      NA          3        "
      ]
     },
     "metadata": {},
     "output_type": "display_data"
    }
   ],
   "source": [
    "slp_vas_nested <- slp_dat |>\n",
    "    mutate(SpeakerID = as.numeric(as.factor(Speaker))) |>\n",
    "    # Select only 10 speakers\n",
    "    filter(SpeakerID <= 10) |>\n",
    "    group_by(Speaker) |>\n",
    "    # Filter specific raters\n",
    "    filter(row_number() %in% (SpeakerID[1] * 2 - (1:0)))\n",
    "\n",
    "head(slp_vas_nested)"
   ]
  },
  {
   "cell_type": "markdown",
   "metadata": {},
   "source": [
    "In un disegno sperimentale dove i giudici valutano gruppi di soggetti, esistono due fonti principali di variazione: le differenze tra i giudici (effetto dei giudici) e le differenze casuali all'interno delle valutazioni dei singoli giudici (errore casuale). Il problema sta nel fatto che con una struttura di dati così organizzata, non è possibile separare chiaramente queste due fonti di variazione. Per questo motivo, non si può determinare con precisione quanto della variabilità osservata nei punteggi sia dovuta a differenze reali tra i giudici e quanto a variazioni casuali.\n",
    "\n",
    "Per risolvere questa problematica, si può utilizzare un'analisi della varianza a effetti casuali unici, nota come \"one-way random-effect ANOVA\". Questo approccio statistico permette di stimare separatamente la varianza attribuibile alle differenze tra i giudici e la varianza dell'errore casuale. Nell'ANOVA a effetti casuali, i giudici sono trattati come effetti casuali, partendo dall'assunzione che i giudici nello studio siano un campione rappresentativo di tutti i possibili giudici in situazioni simili. Questo permette di quantificare la variabilità nelle valutazioni attribuibile specificamente alle variazioni tra i giudici. Questo modello è anche equiparabile a un modello multilivello con intercette casuali​​. Implementiamo un tale modello con `lmer()`:"
   ]
  },
  {
   "cell_type": "code",
   "execution_count": 7,
   "metadata": {
    "vscode": {
     "languageId": "r"
    }
   },
   "outputs": [
    {
     "data": {
      "text/plain": [
       "Linear mixed model fit by REML ['lmerMod']\n",
       "Formula: slp_VAS ~ 1 + (1 | Speaker)\n",
       "   Data: slp_vas_nested\n",
       "\n",
       "REML criterion at convergence: 179.6\n",
       "\n",
       "Scaled residuals: \n",
       "     Min       1Q   Median       3Q      Max \n",
       "-1.50049 -0.77609 -0.05948  0.87584  1.35589 \n",
       "\n",
       "Random effects:\n",
       " Groups   Name        Variance Std.Dev.\n",
       " Speaker  (Intercept) 308.9    17.58   \n",
       " Residual             816.8    28.58   \n",
       "Number of obs: 19, groups:  Speaker, 10\n",
       "\n",
       "Fixed effects:\n",
       "            Estimate Std. Error t value\n",
       "(Intercept)   53.613      8.627   6.214"
      ]
     },
     "metadata": {},
     "output_type": "display_data"
    }
   ],
   "source": [
    "m1 <- lmer(slp_VAS ~ 1 + (1 | Speaker), data = slp_vas_nested)\n",
    "summary(m1)"
   ]
  },
  {
   "cell_type": "markdown",
   "metadata": {},
   "source": [
    "Per calcolare l'ICC, estraiamo le fonti di varianza:"
   ]
  },
  {
   "cell_type": "code",
   "execution_count": 8,
   "metadata": {
    "vscode": {
     "languageId": "r"
    }
   },
   "outputs": [
    {
     "data": {
      "text/html": [
       "<table class=\"dataframe\">\n",
       "<caption>A data.frame: 2 x 5</caption>\n",
       "<thead>\n",
       "\t<tr><th scope=col>grp</th><th scope=col>var1</th><th scope=col>var2</th><th scope=col>vcov</th><th scope=col>sdcor</th></tr>\n",
       "\t<tr><th scope=col>&lt;chr&gt;</th><th scope=col>&lt;chr&gt;</th><th scope=col>&lt;chr&gt;</th><th scope=col>&lt;dbl&gt;</th><th scope=col>&lt;dbl&gt;</th></tr>\n",
       "</thead>\n",
       "<tbody>\n",
       "\t<tr><td>Speaker </td><td>(Intercept)</td><td>NA</td><td>308.9062</td><td>17.57573</td></tr>\n",
       "\t<tr><td>Residual</td><td>NA         </td><td>NA</td><td>816.8141</td><td>28.57996</td></tr>\n",
       "</tbody>\n",
       "</table>\n"
      ],
      "text/latex": [
       "A data.frame: 2 x 5\n",
       "\\begin{tabular}{lllll}\n",
       " grp & var1 & var2 & vcov & sdcor\\\\\n",
       " <chr> & <chr> & <chr> & <dbl> & <dbl>\\\\\n",
       "\\hline\n",
       "\t Speaker  & (Intercept) & NA & 308.9062 & 17.57573\\\\\n",
       "\t Residual & NA          & NA & 816.8141 & 28.57996\\\\\n",
       "\\end{tabular}\n"
      ],
      "text/markdown": [
       "\n",
       "A data.frame: 2 x 5\n",
       "\n",
       "| grp &lt;chr&gt; | var1 &lt;chr&gt; | var2 &lt;chr&gt; | vcov &lt;dbl&gt; | sdcor &lt;dbl&gt; |\n",
       "|---|---|---|---|---|\n",
       "| Speaker  | (Intercept) | NA | 308.9062 | 17.57573 |\n",
       "| Residual | NA          | NA | 816.8141 | 28.57996 |\n",
       "\n"
      ],
      "text/plain": [
       "  grp      var1        var2 vcov     sdcor   \n",
       "1 Speaker  (Intercept) NA   308.9062 17.57573\n",
       "2 Residual NA          NA   816.8141 28.57996"
      ]
     },
     "metadata": {},
     "output_type": "display_data"
    }
   ],
   "source": [
    "vc_m1 <- as.data.frame(VarCorr(m1))\n",
    "vc_m1"
   ]
  },
  {
   "cell_type": "markdown",
   "metadata": {},
   "source": [
    "Calcoliamo l'ICC per una singola valutazione:\n",
    "\n",
    "$$\n",
    "ICC = \\frac{\\sigma^2_{\\text{giudici}}} {\\sigma^2_{\\text{giudici}} + \\sigma^2_E}.\n",
    "$$\n",
    "\n",
    "Nella formula, l'ICC misura la proporzione della varianza totale del punteggio `slp_VAS` che è attribuibile alla variazione tra i gruppi dei giudici (Speaker) rispetto alla variazione residua o errore."
   ]
  },
  {
   "cell_type": "code",
   "execution_count": 9,
   "metadata": {
    "vscode": {
     "languageId": "r"
    }
   },
   "outputs": [
    {
     "data": {
      "text/html": [
       "0.274407605476794"
      ],
      "text/latex": [
       "0.274407605476794"
      ],
      "text/markdown": [
       "0.274407605476794"
      ],
      "text/plain": [
       "[1] 0.2744076"
      ]
     },
     "metadata": {},
     "output_type": "display_data"
    }
   ],
   "source": [
    "vc_m1$vcov[1] / (vc_m1$vcov[1] + vc_m1$vcov[2])"
   ]
  },
  {
   "cell_type": "markdown",
   "metadata": {},
   "source": [
    "Questa formula calcola l'affidabilità per una singola valutazione da un singolo giudice. È utile quando si considera solo una valutazione per ciascun soggetto. La formula considera la varianza tra i soggetti rispetto alla varianza totale, che include sia la varianza tra i soggetti sia l'errore di misurazione.\n",
    "\n",
    "Calcoliamo l'ICC per la valutazione media:\n",
    "\n",
    "$$\n",
    "ICC = \\frac{\\sigma^2_{\\text{giudici}}} {\\sigma^2_{\\text{giudici}} + \\sigma^2_E / k},\n",
    "$$\n",
    "\n",
    "dove $k$ è il numero di giudici per ciascun individuo valutato (ratee)."
   ]
  },
  {
   "cell_type": "code",
   "execution_count": 10,
   "metadata": {
    "vscode": {
     "languageId": "r"
    }
   },
   "outputs": [
    {
     "data": {
      "text/html": [
       "0.430643389599249"
      ],
      "text/latex": [
       "0.430643389599249"
      ],
      "text/markdown": [
       "0.430643389599249"
      ],
      "text/plain": [
       "[1] 0.4306434"
      ]
     },
     "metadata": {},
     "output_type": "display_data"
    }
   ],
   "source": [
    "vc_m1$vcov[1] / (vc_m1$vcov[1] + vc_m1$vcov[2] / 2)"
   ]
  },
  {
   "cell_type": "markdown",
   "metadata": {},
   "source": [
    "Questa seconda formula calcola l'affidabilità per la media delle valutazioni di più giudici. È pertinente quando si ha a che fare con più valutazioni per ciascun soggetto e si vuole sapere l'affidabilità della media di queste valutazioni. Questa formula differisce dalla prima perché considera la riduzione dell'errore di misurazione che si verifica quando si calcola la media di più valutazioni.\n",
    "\n",
    "### ANOVA a due vie e l'Impatto del Bias dei Giudici\n",
    "\n",
    "L'ANOVA a due vie è uno strumento statistico fondamentale per analizzare l'effetto dei giudici e di altri fattori sulla variabile dipendente nelle valutazioni. È essenziale comprendere il ruolo del bias dei giudici e distinguere tra bias sistematico e variabilità intrinseca nelle valutazioni.\n",
    "\n",
    "**Bias dei Giudici**: Il bias si manifesta quando un giudice tende sistematicamente a valutare più alto o più basso degli altri. Ad esempio, in una valutazione di presentazioni orali, un giudice che costantemente assegna punteggi elevati a tutte le presentazioni, indipendentemente dalla loro qualità, introduce un bias sistematico.\n",
    "\n",
    "**Variabilità Intrinseca**: Rappresenta le differenze naturali nelle valutazioni che derivano da percezioni o interpretazioni soggettive dei giudici.\n",
    "\n",
    "**Contesto di Valutazione**: \n",
    "- In analisi di **Consistenza** (ordine di classificazione delle risposte), il bias del giudice non è considerato errore perché non influisce sull'ordine relativo delle valutazioni. \n",
    "- In analisi di **Accordo** (concordanza delle misurazioni in termini di valori assoluti), il bias è visto come errore, influenzando direttamente i valori numerici delle valutazioni.\n",
    "\n",
    "**Applicazione dell'ANOVA a due vie**: Questo modello ci permette di esaminare quanto dell'effetto osservato nelle valutazioni sia dovuto ai giudici (bias) e quanto ad altre fonti di varianza. In contesti di consistenza, il bias non altera l'ordine relativo delle valutazioni, mentre in quelli di accordo, esso è trattato come errore perché influisce sui valori numerici assoluti delle valutazioni.\n",
    "\n",
    "In conclusione, l'ANOVA a due vie ci fornisce una metodologia robusta per analizzare l'affidabilità tra giudici e distinguere l'effetto del bias dei giudici in diversi contesti di valutazione.\n",
    "\n",
    "Analizziamo i dati con `lmer()`:"
   ]
  },
  {
   "cell_type": "code",
   "execution_count": null,
   "metadata": {
    "vscode": {
     "languageId": "r"
    }
   },
   "outputs": [],
   "source": [
    "m2 <- lmer(slp_VAS ~ 1 + (1 | Speaker) + (1 | slpID), data = slp_dat)"
   ]
  },
  {
   "cell_type": "markdown",
   "metadata": {},
   "source": [
    "In questo modello:\n",
    "- `slp_VAS` è la variabile dipendente, che rappresenta le valutazioni assegnate.\n",
    "- `(1 | Speaker)` specifica un effetto casuale per `Speaker`, che rappresenta il soggetto il cui comportamento viene valutato. Questo termine modella le variazioni nella risposta `slp_VAS` attribuibili alle differenze tra i soggetti `Speaker`.\n",
    "- `(1 | slpID)` specifica un effetto casuale per `slpID`, che rappresenta il giudice che effettua la valutazione. Questo termine modella la variazione nelle risposte `slp_VAS` attribuibile alle differenze tra i giudici.\n",
    "\n",
    "In sintesi, il modello sta considerando sia la variazione tra i diversi soggetti valutati (Speaker) sia la variazione tra i giudici (slpID) nell'analisi delle valutazioni."
   ]
  },
  {
   "cell_type": "code",
   "execution_count": 14,
   "metadata": {
    "vscode": {
     "languageId": "r"
    }
   },
   "outputs": [
    {
     "data": {
      "text/plain": [
       "Linear mixed model fit by REML ['lmerMod']\n",
       "Formula: slp_VAS ~ 1 + (1 | Speaker) + (1 | slpID)\n",
       "   Data: slp_dat\n",
       "\n",
       "REML criterion at convergence: 3544.1\n",
       "\n",
       "Scaled residuals: \n",
       "    Min      1Q  Median      3Q     Max \n",
       "-3.3281 -0.5813  0.0862  0.6611  2.5747 \n",
       "\n",
       "Random effects:\n",
       " Groups   Name        Variance Std.Dev.\n",
       " slpID    (Intercept) 132.8    11.53   \n",
       " Speaker  (Intercept) 585.7    24.20   \n",
       " Residual             291.2    17.07   \n",
       "Number of obs: 403, groups:  slpID, 21; Speaker, 20\n",
       "\n",
       "Fixed effects:\n",
       "            Estimate Std. Error t value\n",
       "(Intercept)   61.882      6.028   10.27"
      ]
     },
     "metadata": {},
     "output_type": "display_data"
    }
   ],
   "source": [
    "summary(m2)"
   ]
  },
  {
   "cell_type": "markdown",
   "metadata": {},
   "source": [
    "Estraiamo le fonti di varianza:"
   ]
  },
  {
   "cell_type": "code",
   "execution_count": 16,
   "metadata": {
    "vscode": {
     "languageId": "r"
    }
   },
   "outputs": [
    {
     "data": {
      "text/html": [
       "<table class=\"dataframe\">\n",
       "<caption>A data.frame: 3 x 5</caption>\n",
       "<thead>\n",
       "\t<tr><th scope=col>grp</th><th scope=col>var1</th><th scope=col>var2</th><th scope=col>vcov</th><th scope=col>sdcor</th></tr>\n",
       "\t<tr><th scope=col>&lt;chr&gt;</th><th scope=col>&lt;chr&gt;</th><th scope=col>&lt;chr&gt;</th><th scope=col>&lt;dbl&gt;</th><th scope=col>&lt;dbl&gt;</th></tr>\n",
       "</thead>\n",
       "<tbody>\n",
       "\t<tr><td>slpID   </td><td>(Intercept)</td><td>NA</td><td>132.8257</td><td>11.52500</td></tr>\n",
       "\t<tr><td>Speaker </td><td>(Intercept)</td><td>NA</td><td>585.6568</td><td>24.20035</td></tr>\n",
       "\t<tr><td>Residual</td><td>NA         </td><td>NA</td><td>291.2401</td><td>17.06576</td></tr>\n",
       "</tbody>\n",
       "</table>\n"
      ],
      "text/latex": [
       "A data.frame: 3 x 5\n",
       "\\begin{tabular}{lllll}\n",
       " grp & var1 & var2 & vcov & sdcor\\\\\n",
       " <chr> & <chr> & <chr> & <dbl> & <dbl>\\\\\n",
       "\\hline\n",
       "\t slpID    & (Intercept) & NA & 132.8257 & 11.52500\\\\\n",
       "\t Speaker  & (Intercept) & NA & 585.6568 & 24.20035\\\\\n",
       "\t Residual & NA          & NA & 291.2401 & 17.06576\\\\\n",
       "\\end{tabular}\n"
      ],
      "text/markdown": [
       "\n",
       "A data.frame: 3 x 5\n",
       "\n",
       "| grp &lt;chr&gt; | var1 &lt;chr&gt; | var2 &lt;chr&gt; | vcov &lt;dbl&gt; | sdcor &lt;dbl&gt; |\n",
       "|---|---|---|---|---|\n",
       "| slpID    | (Intercept) | NA | 132.8257 | 11.52500 |\n",
       "| Speaker  | (Intercept) | NA | 585.6568 | 24.20035 |\n",
       "| Residual | NA          | NA | 291.2401 | 17.06576 |\n",
       "\n"
      ],
      "text/plain": [
       "  grp      var1        var2 vcov     sdcor   \n",
       "1 slpID    (Intercept) NA   132.8257 11.52500\n",
       "2 Speaker  (Intercept) NA   585.6568 24.20035\n",
       "3 Residual NA          NA   291.2401 17.06576"
      ]
     },
     "metadata": {},
     "output_type": "display_data"
    }
   ],
   "source": [
    "vc_m2 <- as.data.frame(VarCorr(m2))\n",
    "vc_m2"
   ]
  },
  {
   "cell_type": "markdown",
   "metadata": {},
   "source": [
    "**Esposizione dei Coefficienti ICC (Intraclass Correlation Coefficients)**\n",
    "\n",
    "I Coefficienti ICC sono cruciali per valutare l'affidabilità tra giudici. Ecco come interpretare i diversi valori di ICC nel contesto specifico dello studio:\n",
    "\n",
    "- **ICC per Singole Valutazioni (Single Measures)**: Questo tipo di ICC è utilizzato quando si considera la valutazione di un singolo giudice. Un ICC elevato indica che la valutazione di un giudice è affidabile e coerente con le valutazioni degli altri giudici. \n",
    "\n",
    "- **ICC per Valutazioni Medie (Average Measures)**: Quando si considerano le medie delle valutazioni di più giudici, l'ICC medio fornisce una misura dell'affidabilità complessiva. Un valore alto suggerisce che la media delle valutazioni dei giudici è consistente e affidabile.\n",
    "\n",
    "In termini di interpretazione, un ICC vicino a 1 indica un'elevata affidabilità, mentre un valore vicino a 0 suggerisce una bassa affidabilità. Nel contesto della nostra analisi, ad esempio, un ICC elevato in un contesto di valutazione delle presentazioni orali indicherebbe che i giudici hanno valutazioni consistenti su come gli oratori si sono esibiti, mentre un valore basso suggerirebbe un alto grado di disaccordo tra i giudici.\n",
    "\n",
    "Nell'analisi dell'affidabilità tra giudici, la seguente formula considera la varianza dovuta al soggetto valutato ($\\sigma^2_{\\text{ratee}}$), la varianza dovuta al giudice ($\\sigma^2_{\\text{rater}}$), e la varianza dell'errore ($\\sigma^2_E$). In questa configurazione, l'ICC misura quanto le valutazioni dei singoli giudici sono affidabili in termini di valori assoluti (\"Single_raters_absolute\").\n",
    "\n",
    "$$\n",
    "ICC = \\frac{\\sigma^2_{\\text{ratee}}} {\\sigma^2_{\\text{ratee}} + \\sigma^2_{\\text{rater}} + \\sigma^2_E}.\n",
    "$$"
   ]
  },
  {
   "cell_type": "code",
   "execution_count": 25,
   "metadata": {
    "vscode": {
     "languageId": "r"
    }
   },
   "outputs": [
    {
     "data": {
      "text/html": [
       "0.580017521785303"
      ],
      "text/latex": [
       "0.580017521785303"
      ],
      "text/markdown": [
       "0.580017521785303"
      ],
      "text/plain": [
       "[1] 0.5800175"
      ]
     },
     "metadata": {},
     "output_type": "display_data"
    }
   ],
   "source": [
    "# Note: ratee is in position 2, but may be different in different data sets\n",
    "vc_m2$vcov[2] / (vc_m2$vcov[1] + vc_m2$vcov[2] + vc_m2$vcov[3])"
   ]
  },
  {
   "cell_type": "markdown",
   "metadata": {},
   "source": [
    "La consistenza delle valutazioni dei soggetti indipendentemente dai giudici specifici coinvolti è specificata nel modo seguente:\n",
    "\n",
    "$$\n",
    "ICC = \\frac{\\sigma^2_{\\text{ratee}}} {\\sigma^2_{\\text{ratee}} + \\sigma^2_E}.\n",
    "$$"
   ]
  },
  {
   "cell_type": "markdown",
   "metadata": {},
   "source": [
    "In questa configurazione, l'ICC misura l'affidabilità tra giudici quando si assume che la varianza dovuta ai giudici sia trascurabile o non rilevante (\"Single_random_raters\")."
   ]
  },
  {
   "cell_type": "code",
   "execution_count": 26,
   "metadata": {
    "vscode": {
     "languageId": "r"
    }
   },
   "outputs": [
    {
     "data": {
      "text/html": [
       "0.667874201904038"
      ],
      "text/latex": [
       "0.667874201904038"
      ],
      "text/markdown": [
       "0.667874201904038"
      ],
      "text/plain": [
       "[1] 0.6678742"
      ]
     },
     "metadata": {},
     "output_type": "display_data"
    }
   ],
   "source": [
    "# Note: ratee is in position 2, but may be different in different data sets\n",
    "vc_m2$vcov[2] / (vc_m2$vcov[2] + vc_m2$vcov[3])"
   ]
  },
  {
   "cell_type": "markdown",
   "metadata": {},
   "source": [
    "La formula dell'accordo tra giudici \n",
    "\n",
    "$$\n",
    "Agreement = \\frac{\\sigma^2_{\\text{ratee}}} {\\sigma^2_{\\text{ratee}} + (\\sigma^2_{\\text{rater}} + \\sigma^2_E) / k}.\n",
    "$$\n",
    "\n",
    "considera sia la varianza dovuta ai soggetti valutati ($\\sigma^2_{\\text{ratee}}$) sia la varianza combinata dei giudici e dell'errore ($\\sigma^2_{\\text{rater}} + \\sigma^2_E$), divisa per il numero di giudici ($k$). Questo indice di accordo (\"Average_random_raters\") è particolarmente utile quando si calcola l'affidabilità per la media delle valutazioni di più giudici, e il termine $1/k$ riduce l'impatto della varianza dei giudici e dell'errore a mano a mano che il numero di giudici aumenta."
   ]
  },
  {
   "cell_type": "code",
   "execution_count": 27,
   "metadata": {
    "vscode": {
     "languageId": "r"
    }
   },
   "outputs": [
    {
     "data": {
      "text/html": [
       "0.966668984298676"
      ],
      "text/latex": [
       "0.966668984298676"
      ],
      "text/markdown": [
       "0.966668984298676"
      ],
      "text/plain": [
       "[1] 0.966669"
      ]
     },
     "metadata": {},
     "output_type": "display_data"
    }
   ],
   "source": [
    "# Note: ratee is in position 2, but may be different in different data sets\n",
    "vc_m2$vcov[2] / (vc_m2$vcov[2] + (vc_m2$vcov[1] + vc_m2$vcov[3]) / 21)"
   ]
  },
  {
   "cell_type": "markdown",
   "metadata": {},
   "source": [
    "$$\n",
    "Consistency = \\frac{\\sigma^2_{\\text{ratee}}} {\\sigma^2_{\\text{ratee}} + \\sigma^2_E / k}.\n",
    "$$"
   ]
  },
  {
   "cell_type": "markdown",
   "metadata": {},
   "source": [
    "L'affidabilità della media delle valutazioni effettuate da un gruppo di giudici, noto come \"Average_fixed_raters\", si calcola con la formula:\n",
    "\n",
    "$$\n",
    "ICC = \\frac{\\sigma^2_{\\text{ratee}}} {\\sigma^2_{\\text{ratee}} + \\frac{\\sigma^2_E}{k}},\n",
    "$$\n",
    "\n",
    "dove:\n",
    "- $\\sigma^2_{\\text{ratee}}$ rappresenta la varianza tra i soggetti valutati (indicata nel codice R come `vc_m2$vcov[2]`).\n",
    "- $\\sigma^2_E$ è la varianza dell'errore (indicata nel codice R come `vc_m2$vcov[3]`).\n",
    "- $k$ è il numero di giudici coinvolti nella valutazione media (nel tuo esempio, 21 giudici).\n",
    "\n",
    "Questa formula considera l'affidabilità della valutazione media quando le valutazioni di più giudici sono combinate, con una riduzione dell'errore di valutazione dovuta all'aumento del numero di giudici."
   ]
  },
  {
   "cell_type": "code",
   "execution_count": 28,
   "metadata": {
    "vscode": {
     "languageId": "r"
    }
   },
   "outputs": [
    {
     "data": {
      "text/html": [
       "0.976867409553439"
      ],
      "text/latex": [
       "0.976867409553439"
      ],
      "text/markdown": [
       "0.976867409553439"
      ],
      "text/plain": [
       "[1] 0.9768674"
      ]
     },
     "metadata": {},
     "output_type": "display_data"
    }
   ],
   "source": [
    "vc_m2$vcov[2] / (vc_m2$vcov[2] + vc_m2$vcov[3] / 21)"
   ]
  },
  {
   "cell_type": "markdown",
   "metadata": {},
   "source": [
    "Tutti questi risultati possono essere ottenuti con la funzione `psych::ICC()`. I dati devono essere in formato wide."
   ]
  },
  {
   "cell_type": "code",
   "execution_count": 29,
   "metadata": {
    "vscode": {
     "languageId": "r"
    }
   },
   "outputs": [
    {
     "data": {
      "text/plain": [
       "Call: psych::ICC(x = slp_vas_wide[-1])\n",
       "\n",
       "Intraclass correlation coefficients \n",
       "                         type  ICC  F df1 df2       p lower bound upper bound\n",
       "Single_raters_absolute   ICC1 0.58 30  19 400 1.6e-64        0.43        0.75\n",
       "Single_random_raters     ICC2 0.58 43  19 380 1.0e-82        0.43        0.75\n",
       "Single_fixed_raters      ICC3 0.67 43  19 380 1.0e-82        0.53        0.81\n",
       "Average_raters_absolute ICC1k 0.97 30  19 400 1.6e-64        0.94        0.98\n",
       "Average_random_raters   ICC2k 0.97 43  19 380 1.0e-82        0.94        0.98\n",
       "Average_fixed_raters    ICC3k 0.98 43  19 380 1.0e-82        0.96        0.99\n",
       "\n",
       " Number of subjects = 20     Number of Judges =  21\n",
       "See the help file for a discussion of the other 4 McGraw and Wong estimates,"
      ]
     },
     "metadata": {},
     "output_type": "display_data"
    }
   ],
   "source": [
    "psych::ICC(slp_vas_wide[-1])"
   ]
  },
  {
   "cell_type": "markdown",
   "metadata": {},
   "source": [
    "I tipi di Intraclass Correlation Coefficients (ICC) riportati nell'output hanno i seguenti significati:\n",
    "\n",
    "1. `Single_raters_absolute`, ICC(1, 1): Questo tipo di ICC misura l'affidabilità delle valutazioni effettuate da singoli giudici su ciascun individuo valutato in un'ANOVA unidirezionale. Si assume che ogni individuo sia valutato da un gruppo di giudici diverso. L'ICC calcolato indica la concordanza tra i giudici nelle loro valutazioni per ciascun individuo, ma non tiene conto dell'accordo tra i giudici stessi.\n",
    "\n",
    "2. `Average_raters_absolute`, ICC(1, k): Questo tipo di ICC misura l'affidabilità delle valutazioni medie ottenute da gruppi diversi di giudici per ciascun individuo valutato in un'ANOVA unidirezionale. Si assume che ogni individuo sia valutato da un gruppo di giudici diverso. L'ICC calcolato fornisce un'indicazione sulla concordanza tra i giudici considerando le medie delle valutazioni ottenute da gruppi diversi di giudici.\n",
    "\n",
    "3. `Single_random_raters`, ICC(2, 1): Questo tipo di ICC valuta l'accordo tra i giudici nelle loro valutazioni per ciascun individuo in un'ANOVA bidirezionale. Il termine \"random\" indica che i giudici sono scelti casualmente da una popolazione più ampia di giudici. In altre parole, si considera che i giudici coinvolti nel campione siano solo una selezione casuale e rappresentativa della popolazione completa di giudici. L'ANOVA bidirezionale tiene conto delle valutazioni multiple ottenute da ciascun individuo valutato dai diversi giudici.\n",
    "\n",
    "4. `Average_random_absolute`, ICC(2, k): Questo tipo di ICC misura l'accordo tra i giudici considerando le valutazioni medie ottenute da gruppi diversi di giudici per ciascun individuo in un'ANOVA bidirezionale. Anche qui, si assume che i giudici siano scelti casualmente dalla popolazione più ampia di giudici. L'ANOVA bidirezionale tiene conto delle valutazioni multiple ottenute dai diversi giudici.\n",
    "\n",
    "5. `Single_fixed_raters`, ICC(3, 1): Questo tipo di ICC misura la consistenza tra i giudici nelle loro valutazioni per ciascun individuo in un'ANOVA bidirezionale. Il termine \"fixed\" indica che i giudici sono considerati una parte fissa e specifica del campione. L'ANOVA bidirezionale tiene conto delle valutazioni multiple ottenute da ciascun individuo valutato dai diversi giudici.\n",
    "\n",
    "6. `Average_fixed_absolute`, ICC(3, k): Questo tipo di ICC misura la consistenza tra i giudici considerando le valutazioni medie ottenute da gruppi diversi di giudici per ciascun individuo in un'ANOVA bidirezionale. Anche qui, si considera che i giudici siano una parte fissa e specifica del campione. L'ANOVA bidirezionale tiene conto delle valutazioni multiple ottenute dai diversi giudici.\n",
    "\n",
    "In questo esempio, ICC(1, 1) e ICC(1, k) non sono rilevanti, poiché si tratta di un design incrociato (non nidificato).\n",
    "\n",
    "## Considerazioni conclusive\n",
    "\n",
    "In conclusione, in questo capitolo abbiamo esaminato l'affidabilità tra giudici in due contesti distinti: quello che coinvolge soltanto due giudici e quello con giudici molteplici.\n",
    "\n",
    "Nel contesto con due giudici, abbiamo affrontato l'accordo nominale e calcolato il coefficiente di Kappa di Cohen. L'accordo nominale si basa sull'assunzione che le valutazioni tra i due giudici siano esattamente uguali, o uguali dopo un arrotondamento. Al contrario, il Kappa di Cohen è una misura più appropriata dell'accordo, poiché tiene conto anche dell'errore di misurazione. \n",
    "\n",
    "Nel contesto con giudici molteplici, abbiamo utilizzato tecniche più sofisticate per affrontare la complessità dell'interazione tra più giudici. Qui abbiamo adottato l'Intraclass Correlation Coefficient (ICC), l'ANOVA ad una via e l'ANOVA a due vie.\n",
    "\n",
    "L'ICC è stato utilizzato per misurare la consistenza delle valutazioni tra giudici, considerando sia la variabilità tra i giudici sia la variabilità all'interno di ciascun giudice. Questa metodologia ci ha fornito una stima della proporzione di varianza attribuibile alle differenze tra giudici rispetto alla varianza totale delle valutazioni. È importante notare che l'ICC è strettamente correlato con i modelli a effetti misti, poiché questi modelli sono in grado di affrontare i disegni con giudici molteplici e catturare sia le variazioni tra giudici che le variazioni all'interno di ciascun giudice.\n",
    "\n",
    "L'ANOVA ad una via è stato utilizzata quando le valutazioni dei giudici erano raggruppate in un unico fattore, ad esempio le valutazioni di diversi giudici su un gruppo di partecipanti. Questo ci ha permesso di quantificare le differenze tra i giudici nelle loro valutazioni complessive. Nei modelli a effetti misti, un'analisi simile può essere eseguita includendo il giudice come effetto casuale, consentendo di considerare sia le differenze tra i giudici sia le differenze tra i partecipanti.\n",
    "\n",
    "Infine, l'ANOVA a due vie è stato adottata quando le valutazioni dei giudici sono state analizzate considerando due fattori, ad esempio giudici diversi che valutano diversi partecipanti. Questo ci ha consentito di esaminare l'effetto sia dei giudici che dei partecipanti sulle valutazioni complessive. I modelli a effetti misti possono essere estesi per gestire questa configurazione, includendo sia il giudice che il partecipante come effetti casuali, permettendo una comprensione completa delle interazioni tra i due fattori.\n",
    "\n",
    "In conclusione, abbiamo esplorato diverse metodologie per valutare l'affidabilità tra giudici in diversi contesti, sia con due giudici che con giudici molteplici. I modelli a effetti misti si rivelano preziosi strumenti statistici per analizzare i disegni con giudici molteplici, poiché ci permettono di catturare le variazioni tra i giudici e tra i partecipanti, fornendo una visione globale dell'affidabilità delle valutazioni. "
   ]
  }
 ],
 "metadata": {
  "kernelspec": {
   "display_name": "R",
   "language": "R",
   "name": "ir"
  },
  "language_info": {
   "codemirror_mode": "r",
   "file_extension": ".r",
   "mimetype": "text/x-r-source",
   "name": "R",
   "pygments_lexer": "r",
   "version": "4.3.2"
  },
  "orig_nbformat": 4
 },
 "nbformat": 4,
 "nbformat_minor": 2
}
