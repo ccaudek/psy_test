{
 "cells": [
  {
   "attachments": {},
   "cell_type": "markdown",
   "id": "faf0b592",
   "metadata": {},
   "source": [
    "(lgm-intro-notebook)=\n",
    "# Curve di crescita latente "
   ]
  },
  {
   "cell_type": "markdown",
   "id": "dbf3fda6",
   "metadata": {},
   "source": [
    "Quando si vogliono studiare le differenze tra le persone, si confrontano i loro punteggi. Ma se l'attenzione è invece sui cambiamenti all'interno di ciascuna persona, sono necessarie informazioni longitudinali, cioè raccolte nel tempo, per descrivere le traiettorie di cambiamento. Per fare questo, occorre utilizzare un modello statistico che tenga conto sia delle differenze tra le persone sia dei cambiamenti nel tempo all'interno di ciascuna persona. \n",
    "\n",
    "Le caratteristiche distintive dei dati longitudinali comprendono, ma non si limitano a, quanto segue: (i) ci sono due fonti di variabilità - variazione all'interno del soggetto o variazione intra-soggetto e variazione tra i soggetti o variazione inter-soggetto; (ii) le osservazioni all'interno del soggetto di solito non sono indipendenti; (iii) la variazione tra i soggetti potrebbe non essere costante nel tempo; e (iv) i dati longitudinali sono spesso incompleti o sbilanciati (cioè il numero di misure ripetute e gli intervalli di tempo tra i follow-up variano tra i soggetti).\n",
    "\n",
    "Sono stati sviluppati vari nuovi metodi statistici per l'analisi dei dati longitudinali. I due \n",
    "approcci principali sono i modelli misti e un'estensione del framework SEM per dati longitudinali. Nei prossimi capitoli verrà fornita una panoramica di questi due approcci, con un focus specifico sul framework SEM per dati longitudinali."
   ]
  },
  {
   "cell_type": "markdown",
   "id": "cece917d",
   "metadata": {},
   "source": [
    "## Concettualizzazioni del Tempo nei Disegni di Ricerca Longitudinali\n",
    "\n",
    "La ricerca longitudinale offre vari approcci per studiare il cambiamento umano nel tempo. Questi metodi possono essere categorizzati in cinque principali disegni di ricerca, ognuno con specifiche forze e limitazioni.\n",
    "\n",
    "1. **Disegno Trasversale (Cross-Sectional Design):**\n",
    "   - Analizza simultaneamente diverse coorti d'età, senza condurre valutazioni ripetute.\n",
    "   - Questo metodo è limitato nella capacità di descrivere cambiamenti evolutivi, poiché può solo indicare differenze di sviluppo che potrebbero essere confondibili con le differenze tra coorti.\n",
    "   - È utile per raccogliere dati preliminari, validare misure e verificare la coerenza interna delle relazioni tra costrutti, nonché per osservare se le differenze tra le coorti rispettano le aspettative legate all'età.\n",
    "   - Serve principalmente come indagine preliminare per studi longitudinali più dettagliati.\n",
    "\n",
    "2. **Disegno Longitudinale di Singola Coorte (Single-Cohort Longitudinal Design):**\n",
    "   - Questo disegno prevede la misurazione ripetuta dello stesso gruppo di individui.\n",
    "   - È analizzabile attraverso modelli di panel tradizionali, modelli di curve di crescita o modelli di cambiamento intrapersonale.\n",
    "   - I modelli di panel tradizionali valutano la variabilità delle osservazioni sequenziali, la validità dei contenuti degli indicatori e le relazioni predittive e contemporanee tra i costrutti, oltre a testare le variazioni nelle medie e nelle varianze.\n",
    "   - I modelli di curve di crescita esaminano le variazioni nel tempo, concentrandosi sulle tendenze individuali (differenze interindividuali nei cambiamenti intraindividuali).\n",
    "   - Altri modelli di cambiamento intrapersonale si focalizzano su una concezione più dinamica del cambiamento, cercando di catturare l'intera evoluzione temporale dello studio.\n",
    "\n",
    "3. **Disegno Cross-Sequenziale:**\n",
    "   - Combinazione di un approccio trasversale seguito da una sequenza longitudinale.\n",
    "   - Inizia con una valutazione trasversale e poi segue i partecipanti nel tempo.\n",
    "   - Analizza simultaneamente le coorti e i momenti di misurazione.\n",
    "   - È popolare, ma limitato nella sua capacità di esaminare le funzioni evolutive legate all'età a causa della possibile confusione tra differenze di età e le interazioni tra coorte e tempo.\n",
    "\n",
    "4. **Disegno Sequenziale di Coorte:**\n",
    "   - Equivale a ripetere l'avvio di uno studio longitudinale ogni anno con partecipanti della stessa fascia d'età.\n",
    "   - Ogni coorte attraversa lo stesso intervallo di età, il che è utile per individuare differenze di età minimizzando le distorsioni dovute alle differenze di coorte.\n",
    "   - L'effetto del tempo di misurazione viene presunto trascurabile, il che può limitare l'interpretazione dei risultati a causa delle interazioni tra età e coorte.\n",
    "\n",
    "5. **Disegno Sequenziale Temporale:**\n",
    "   - Meno comune, ma efficace per distinguere gli effetti dell'età e del tempo di misurazione.\n",
    "   - Mantenendo costante l'intervallo di età, valuta ripetutamente sia coorti nuove che esistenti.\n",
    "   - Permette di individuare cambiamenti legati all'età eliminando le distorsioni dovute al tempo di misurazione, anche se gli effetti di coorte sono completamente confusi.\n",
    "\n",
    "In conclusione, questi disegni offrono diverse strategie per analizzare i cambiamenti legati all'età, alle coorti e al tempo di misurazione, ognuno con specifiche implicazioni per l'interpretazione dei risultati e la pianificazione della ricerca."
   ]
  },
  {
   "cell_type": "markdown",
   "id": "704f886f",
   "metadata": {},
   "source": [
    "### Preoccupazioni sulla Validità Oltre gli Effetti di Coorte e Misurazione nel Tempo\n",
    "\n",
    "Rischi per la validità includono la regressione verso la media, gli effetti del retest, effetti di selezione, attrito selettivo e effetti di strumentazione.\n",
    "\n",
    "- La regressione verso la media indica che i punteggi estremi tendono a spostarsi verso la media nelle misurazioni successive. È un fenomeno di inaffidabilità nelle misure ripetute e può essere mitigato utilizzando modelli SEM a variabili latenti.\n",
    "- Gli effetti del retest emergono quando una misura è sensibile all'esposizione ripetuta. Questi effetti possono essere stimati e corretti assegnando casualmente ai partecipanti la ricezione o meno di una misurazione, o utilizzando protocolli di mancata risposta pianificata.\n",
    "- Gli effetti di selezione si verificano quando il piano di campionamento non fornisce un campione rappresentativo della popolazione di interesse. L'attrito selettivo si riferisce alla perdita di partecipanti correlata a specifiche caratteristiche del campione.\n",
    "- Gli effetti di strumentazione possono alterare le proprietà di misurazione del fenomeno studiato. Misure sensibili al cambiamento sono cruciali per rilevare i processi di cambiamento.\n",
    "\n",
    "In sintesi, gli studi longitudinali affrontano diverse sfide di validità, che richiedono metodi sofisticati per la misurazione e l'analisi dei dati. È fondamentale considerare come varie forze, come la regressione verso la media e gli effetti di retest, possano influenzare i risultati, e come strumenti di misurazione adeguati possano catturare in modo efficace i cambiamenti nel tempo."
   ]
  },
  {
   "cell_type": "markdown",
   "id": "db3c85d4",
   "metadata": {},
   "source": [
    "## Gestione dei Dati Mancanti nei Disegni Longitudinali\n",
    "\n",
    "Nella ricerca longitudinale, la gestione dei dati mancanti rappresenta una sfida significativa. I dati mancanti possono influenzare gli studi in due modi principali: causando la perdita di potenza statistica e introducendo bias nei risultati.\n",
    "\n",
    "### Perdita di Potenza Statistica\n",
    "La perdita di potenza statistica avviene quando la quantità ridotta di dati compromette la capacità di identificare effetti reali. Nei disegni longitudinali, le misurazioni ripetute sono cruciali per analizzare le dinamiche e i cambiamenti nel tempo. La diminuzione del numero di osservazioni può ostacolare l'identificazione di tendenze significative o l'efficacia di interventi specifici.\n",
    "\n",
    "### Introduzione di Bias\n",
    "Il bias si verifica quando la mancanza di dati non è distribuita casualmente tra i partecipanti. Se i dati mancanti corrispondono a determinate caratteristiche o comportamenti dei soggetti, i risultati possono non riflettere accuratamente la popolazione studiata. Questo può portare a conclusioni errate o ingannevoli.\n",
    "\n",
    "### Tecniche Tradizionali vs. Tecniche Moderne\n",
    "Metodi tradizionali, come la semplice eliminazione dei casi con dati mancanti o l'uso dell'ultimo valore osservato, possono aggravare questi problemi aumentando la perdita di potenza e il bias. Invece, tecniche moderne come l'imputazione multipla mirano a preservare la potenza statistica e ridurre il bias. L'imputazione multipla genera diversi set completi di dati, imputando i valori mancanti in modo da riflettere l'incertezza nella stima di tali valori.\n",
    "\n",
    "### Il Ruolo delle Variabili Ausiliarie\n",
    "Le variabili ausiliarie sono essenziali per spiegare i meccanismi dietro i dati mancanti e per aiutare a ridurre il bias. Una scelta accurata di queste variabili è cruciale; se correttamente selezionate, possono chiarire le ragioni della mancanza di dati, se mal selezionate, possono lasciare residui bias nei risultati. Un esempio di approccio utilizzato per includere queste variabili è il metodo MICE (Multiple Imputation by Chained Equations), che utilizza tutte le informazioni disponibili nel dataset per un'imputazione accurata.\n",
    "\n",
    "### Considerazioni sui Modelli di Analisi\n",
    "Quando si seleziona un sottoinsieme di variabili per l'analisi, è importante assicurarsi che le variabili incluse nel processo di imputazione riflettano adeguatamente il meccanismo di mancanza. Questo consente di recuperare e rappresentare le informazioni mancanti nei dati analizzati, massimizzando così la generalizzabilità e la validità delle analisi.\n",
    "\n",
    "In conclusione, una gestione efficace dei dati mancanti in studi longitudinali richiede un'attenta considerazione dei meccanismi alla base della loro assenza e l'impiego di tecniche avanzate che possano attenuare le problematiche di perdita di potenza e di bias. Questo approccio è fondamentale per assicurare la robustezza e l'affidabilità dei risultati della ricerca."
   ]
  },
  {
   "cell_type": "markdown",
   "id": "f8b845b3",
   "metadata": {},
   "source": [
    "## Obiettivi della Ricerca Longitudinale in Psicologia\n",
    "\n",
    "L'analisi di dati longitudinali in psicologia si focalizza su diverse dimensioni chiave del cambiamento individuale nel tempo. Questi aspetti includono la misurazione di come le persone cambiano rispetto a specifici tratti o comportamenti, la variabilità di questi cambiamenti tra gli individui e le dinamiche di cambiamento all'interno dello stesso individuo. Esaminiamo qui i modelli utilizzati e le principali domande di ricerca affrontate in questi studi.\n",
    "\n",
    "### Modelli e Approcci Analitici\n",
    "1. **Modelli di Crescita Media (Latent Growth Modeling, LGM):**\n",
    "   - Questi modelli quantificano come, in media, un tratto o comportamento cambia nel tempo all'interno di una popolazione.\n",
    "   - Analizzano anche la varianza di questa crescita, ossia come il ritmo di cambiamento differisce tra gli individui.\n",
    "\n",
    "2. **Modelli di Punteggio di Cambiamento Latente (Latent Change Score Models, LCSM):**\n",
    "   - Si concentrano sui cambiamenti intra-individuali, esplorando come le precedenti misurazioni di un individuo influenzino le successive.\n",
    "   - Permettono di comprendere i pattern di crescita personale nel tempo.\n",
    "\n",
    "### Domande di Ricerca Chiave\n",
    "Secondo {cite:t}`grimm2016growth`, l'uso di questi modelli in studi longitudinali mira a rispondere a cinque questioni fondamentali:\n",
    "\n",
    "1. **Identificazione di Cambiamento e Stabilità Intra-individuale:**\n",
    "   - Valutare come specifici attributi o comportamenti di un individuo variano o rimangono consistenti nel tempo.\n",
    "\n",
    "2. **Differenze Interindividuali nel Cambiamento Intra-individuale:**\n",
    "   - Esplorare se e come differenti persone mostrano pattern di cambiamento variabili in termini di velocità, direzione, o momenti di transizione.\n",
    "\n",
    "3. **Interrelazioni nel Cambiamento Comportamentale:**\n",
    "   - Analizzare come i cambiamenti in una determinata variabile possano influenzare le variazioni in altre variabili.\n",
    "\n",
    "4. **Causa del Cambiamento Intra-individuale:**\n",
    "   - Identificare i fattori dinamici e i meccanismi che guidano i cambiamenti nel tempo a livello individuale.\n",
    "\n",
    "5. **Cause delle Differenze Interindividuali nel Cambiamento Intra-individuale:**\n",
    "   - Ricerca di fattori costanti, come caratteristiche demografiche, interventi sperimentali o contesti sociali, che possono influenzare il modo in cui differenti individui esperiscono il cambiamento.\n",
    "\n",
    "Queste domande orientano gli studiosi nel comprendere non solo come le persone cambiano, ma anche le variabili che influenzano tali cambiamenti, offrendo un'analisi profonda e multidimensionale del comportamento umano attraverso il tempo. "
   ]
  }
 ],
 "metadata": {
  "jupytext": {
   "cell_metadata_filter": "tags,-all",
   "main_language": "R",
   "notebook_metadata_filter": "-all"
  },
  "kernelspec": {
   "display_name": "R",
   "language": "R",
   "name": "ir"
  },
  "language_info": {
   "codemirror_mode": "r",
   "file_extension": ".r",
   "mimetype": "text/x-r-source",
   "name": "R",
   "pygments_lexer": "r",
   "version": "4.3.0"
  }
 },
 "nbformat": 4,
 "nbformat_minor": 5
}
