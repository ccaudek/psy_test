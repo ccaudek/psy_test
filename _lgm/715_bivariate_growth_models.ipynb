{
 "cells": [
  {
   "attachments": {},
   "cell_type": "markdown",
   "id": "7840d5ba",
   "metadata": {},
   "source": [
    "(bivariate-growth-mod-notebook)=\n",
    "# Modelli di crescita latenti bivariati\n",
    "\n",
    "I ricercatori spesso studiano più costrutti nel tempo per comprendere il loro sviluppo congiunto e le correlazioni tra di loro. Esistono diversi modelli statistici per studiare il cambiamento in più entità contemporaneamente. In questo capitolo ne copriamo due: il modello di crescita multivariato (MGM), che esamina le interrelazioni tra due processi di crescita distinti, e il modello di crescita con covariata variabile nel tempo (TVC), che stima l’effetto di una variabile che cambia nel tempo sui punteggi mentre modella contemporaneamente il cambiamento in quei punteggi con un modello di crescita. Questi modelli sono comuni nella ricerca sullo sviluppo e rispondono a domande specifiche riguardo le associazioni tra entità che cambiano simultaneamente e tra i cambiamenti per individui correlati.\n",
    "\n",
    "Carichiamo i pacchetti necessari."
   ]
  },
  {
   "cell_type": "code",
   "execution_count": null,
   "id": "b7637639",
   "metadata": {
    "tags": [
     "remove_cell"
    ],
    "vscode": {
     "languageId": "r"
    }
   },
   "outputs": [],
   "source": [
    "source(\"_common.R\")\n",
    "suppressPackageStartupMessages({\n",
    "    library(\"lavaan\")\n",
    "    library(\"semPlot\")\n",
    "    library(\"knitr\")\n",
    "    library(\"markdown\")\n",
    "    library(\"patchwork\")\n",
    "    library(\"psych\")\n",
    "    library(\"DT\")\n",
    "    library(\"kableExtra\")\n",
    "    library(\"lme4\")\n",
    "})\n",
    "\n",
    "set.seed(12345)"
   ]
  },
  {
   "attachments": {},
   "cell_type": "markdown",
   "id": "c58eb458",
   "metadata": {},
   "source": [
    "Questo tutorial mostra come adattare modelli di crescita lineare multivariati (bivariati) nel framework SEM in R. I dati sono tratti dal Capitolo 8 {cite:t}`grimm2016growth`. In particolare, utilizzando il set di dati NLSY-CYA, esaminiamo come le differenze individuali nella variazione del rendimento in matematica dei bambini durante la scuola siano correlate alle differenze individuali nella variazione dell’iperattività dei bambini (valutata dagli insegnanti). Iniziamo a leggere i dati."
   ]
  },
  {
   "cell_type": "code",
   "execution_count": null,
   "id": "12d08be6",
   "metadata": {
    "vscode": {
     "languageId": "r"
    }
   },
   "outputs": [],
   "source": [
    "# set filepath for data file\n",
    "filepath <- \"https://raw.githubusercontent.com/LRI-2/Data/main/GrowthModeling/nlsy_math_hyp_long_R.dat\"\n",
    "# read in the text data file using the url() function\n",
    "dat <- read.table(\n",
    "  file = url(filepath),\n",
    "  na.strings = \".\"\n",
    ") # indicates the missing data designator\n",
    "# copy data with new name\n",
    "nlsy_math_hyp_long <- dat\n",
    "\n",
    "# Add names the columns of the data set\n",
    "names(nlsy_math_hyp_long) <- c(\n",
    "  \"id\", \"female\", \"lb_wght\", \"anti_k1\",\n",
    "  \"math\", \"comp\", \"rec\", \"bpi\", \"as\", \"anx\", \"hd\",\n",
    "  \"hyp\", \"dp\", \"wd\",\n",
    "  \"grade\", \"occ\", \"age\", \"men\", \"spring\", \"anti\"\n",
    ")\n",
    "\n",
    "# reducing to variables of interest\n",
    "nlsy_math_hyp_long <- nlsy_math_hyp_long[, c(\"id\", \"grade\", \"math\", \"hyp\")]\n",
    "\n",
    "# view the first few observations in the data set\n",
    "head(nlsy_math_hyp_long, 10)"
   ]
  },
  {
   "attachments": {},
   "cell_type": "markdown",
   "id": "8e421532",
   "metadata": {},
   "source": [
    "Il nostro interesse specifico è il cambiamento intra-individuale nelle misure ripetute di matematica e iperattività durante il periodo scolastico (`grade`)."
   ]
  },
  {
   "cell_type": "code",
   "execution_count": null,
   "id": "09e1f998",
   "metadata": {
    "vscode": {
     "languageId": "r"
    }
   },
   "outputs": [],
   "source": [
    "# intraindividual change trajetories\n",
    "ggplot(\n",
    "  data = nlsy_math_hyp_long, # data set\n",
    "  aes(x = grade, y = math, group = id)\n",
    ") + # setting variables\n",
    "  geom_point(size = .5) + # adding points to plot\n",
    "  geom_line() + # adding lines to plot\n",
    "  # setting the x-axis with breaks and labels\n",
    "  scale_x_continuous(\n",
    "    limits = c(2, 8),\n",
    "    breaks = c(2, 3, 4, 5, 6, 7, 8),\n",
    "    name = \"Grade at Testing\"\n",
    "  ) +\n",
    "  # setting the y-axis with limits breaks and labels\n",
    "  scale_y_continuous(\n",
    "    limits = c(10, 90),\n",
    "    breaks = c(10, 30, 50, 70, 90),\n",
    "    name = \"PIAT Mathematics\"\n",
    "  )"
   ]
  },
  {
   "attachments": {},
   "cell_type": "markdown",
   "id": "00724295",
   "metadata": {},
   "source": [
    "Esaminiamo i punteggi di iperattività in funzione di `grade`."
   ]
  },
  {
   "cell_type": "code",
   "execution_count": null,
   "id": "e9fe7037",
   "metadata": {
    "vscode": {
     "languageId": "r"
    }
   },
   "outputs": [],
   "source": [
    "# intraindividual change trajetories\n",
    "ggplot(\n",
    "  data = nlsy_math_hyp_long, # data set\n",
    "  aes(x = grade, y = hyp, group = id)\n",
    ") + # setting variables\n",
    "  geom_point(size = .5) + # adding points to plot\n",
    "  geom_line() + # adding lines to plot\n",
    "  # setting the x-axis with breaks and labels\n",
    "  scale_x_continuous(\n",
    "    limits = c(2, 8),\n",
    "    breaks = c(2, 3, 4, 5, 6, 7, 8),\n",
    "    name = \"Grade at Testing\"\n",
    "  ) +\n",
    "  # setting the y-axis with limits breaks and labels\n",
    "  scale_y_continuous(\n",
    "    limits = c(0, 5),\n",
    "    breaks = c(0, 1, 2, 3, 4, 5),\n",
    "    name = \"Hyperactivity\"\n",
    "  )"
   ]
  },
  {
   "attachments": {},
   "cell_type": "markdown",
   "id": "4852924f",
   "metadata": {},
   "source": [
    "Per semplicità, leggiamo i dati in formato long da file."
   ]
  },
  {
   "cell_type": "code",
   "execution_count": null,
   "id": "f1c3e598",
   "metadata": {
    "vscode": {
     "languageId": "r"
    }
   },
   "outputs": [],
   "source": [
    "# set filepath for data file\n",
    "filepath <- \"https://raw.githubusercontent.com/LRI-2/Data/main/GrowthModeling/nlsy_math_hyp_wide_R.dat\"\n",
    "# read in the text data file using the url() function\n",
    "dat <- read.table(\n",
    "  file = url(filepath),\n",
    "  na.strings = \".\"\n",
    ") # indicates the missing data designator\n",
    "# copy data with new name\n",
    "nlsy_math_hyp_wide <- dat\n",
    "\n",
    "# Add names the columns of the data set\n",
    "# Give the variable names\n",
    "names(nlsy_math_hyp_wide) <- c(\n",
    "  \"id\", \"female\", \"lb_wght\", \"anti_k1\",\n",
    "  \"math2\", \"math3\", \"math4\", \"math5\", \"math6\", \"math7\", \"math8\",\n",
    "  \"comp2\", \"comp3\", \"comp4\", \"comp5\", \"comp6\", \"comp7\", \"comp8\",\n",
    "  \"rec2\", \"rec3\", \"rec4\", \"rec5\", \"rec6\", \"rec7\", \"rec8\",\n",
    "  \"bpi2\", \"bpi3\", \"bpi4\", \"bpi5\", \"bpi6\", \"bpi7\", \"bpi8\",\n",
    "  \"asl2\", \"asl3\", \"asl4\", \"asl5\", \"asl6\", \"asl7\", \"asl8\",\n",
    "  \"ax2\", \"ax3\", \"ax4\", \"ax5\", \"ax6\", \"ax7\", \"ax8\",\n",
    "  \"hds2\", \"hds3\", \"hds4\", \"hds5\", \"hds6\", \"hds7\", \"hds8\",\n",
    "  \"hyp2\", \"hyp3\", \"hyp4\", \"hyp5\", \"hyp6\", \"hyp7\", \"hyp8\",\n",
    "  \"dpn2\", \"dpn3\", \"dpn4\", \"dpn5\", \"dpn6\", \"dpn7\", \"dpn8\",\n",
    "  \"wdn2\", \"wdn3\", \"wdn4\", \"wdn5\", \"wdn6\", \"wdn7\", \"wdn8\",\n",
    "  \"age2\", \"age3\", \"age4\", \"age5\", \"age6\", \"age7\", \"age8\",\n",
    "  \"men2\", \"men3\", \"men4\", \"men5\", \"men6\", \"men7\", \"men8\",\n",
    "  \"spring2\", \"spring3\", \"spring4\", \"spring5\", \"spring6\", \"spring7\", \"spring8\",\n",
    "  \"anti2\", \"anti3\", \"anti4\", \"anti5\", \"anti6\", \"anti7\", \"anti8\"\n",
    ")\n",
    "\n",
    "# reducing to variables of interest\n",
    "nlsy_multi_wide <- nlsy_math_hyp_wide[, c(\n",
    "  \"id\",\n",
    "  \"math2\", \"math3\", \"math4\", \"math5\", \"math6\", \"math7\", \"math8\",\n",
    "  \"hyp2\", \"hyp3\", \"hyp4\", \"hyp5\", \"hyp6\", \"hyp7\", \"hyp8\"\n",
    ")]\n",
    "\n",
    "# view the first few observations in the data set\n",
    "head(nlsy_multi_wide, 10)"
   ]
  },
  {
   "attachments": {},
   "cell_type": "markdown",
   "id": "09fd02cf",
   "metadata": {},
   "source": [
    "Per l’implementazione SEM, utilizziamo i punteggi di rendimento in matematica e iperattività e le covariate invarianti nel tempo dai dati Wide. Specifichiamo un modello di crescita lineare bivariato usando la sintassi lavaan."
   ]
  },
  {
   "cell_type": "code",
   "execution_count": null,
   "id": "b2cb8fc0",
   "metadata": {
    "vscode": {
     "languageId": "r"
    }
   },
   "outputs": [],
   "source": [
    "# writing out linear growth model in full SEM way\n",
    "bivariate_lavaan_model <- \"\n",
    "  # latent variable definitions\n",
    "      #intercept for math\n",
    "      eta_1 =~ 1*math2\n",
    "      eta_1 =~ 1*math3\n",
    "      eta_1 =~ 1*math4\n",
    "      eta_1 =~ 1*math5\n",
    "      eta_1 =~ 1*math6\n",
    "      eta_1 =~ 1*math7\n",
    "      eta_1 =~ 1*math8\n",
    "\n",
    "      #linear slope for math\n",
    "      eta_2 =~ 0*math2\n",
    "      eta_2 =~ 1*math3\n",
    "      eta_2 =~ 2*math4\n",
    "      eta_2 =~ 3*math5\n",
    "      eta_2 =~ 4*math6\n",
    "      eta_2 =~ 5*math7\n",
    "      eta_2 =~ 6*math8\n",
    "\n",
    "      #intercept for hyp\n",
    "      eta_3 =~ 1*hyp2\n",
    "      eta_3 =~ 1*hyp3\n",
    "      eta_3 =~ 1*hyp4\n",
    "      eta_3 =~ 1*hyp5\n",
    "      eta_3 =~ 1*hyp6\n",
    "      eta_3 =~ 1*hyp7\n",
    "      eta_3 =~ 1*hyp8\n",
    "\n",
    "      #linear slope for hyp\n",
    "      eta_4 =~ 0*hyp2\n",
    "      eta_4 =~ 1*hyp3\n",
    "      eta_4 =~ 2*hyp4\n",
    "      eta_4 =~ 3*hyp5\n",
    "      eta_4 =~ 4*hyp6\n",
    "      eta_4 =~ 5*hyp7\n",
    "      eta_4 =~ 6*hyp8\n",
    "\n",
    "  # factor variances\n",
    "      eta_1 ~~ eta_1\n",
    "      eta_2 ~~ eta_2\n",
    "      eta_3 ~~ eta_3\n",
    "      eta_4 ~~ eta_4\n",
    "\n",
    "  # covariances among factors\n",
    "      eta_1 ~~ eta_2 + eta_3 + eta_4\n",
    "      eta_2 ~~ eta_3 + eta_4\n",
    "      eta_3 ~~ eta_4\n",
    "\n",
    "  # factor means\n",
    "      eta_1 ~ start(35)*1\n",
    "      eta_2 ~ start(4)*1\n",
    "      eta_3 ~ start(2)*1\n",
    "      eta_4 ~ start(.1)*1\n",
    "\n",
    "  # manifest variances for math (made equivalent by naming theta1)\n",
    "      math2 ~~ theta1*math2\n",
    "      math3 ~~ theta1*math3\n",
    "      math4 ~~ theta1*math4\n",
    "      math5 ~~ theta1*math5\n",
    "      math6 ~~ theta1*math6\n",
    "      math7 ~~ theta1*math7\n",
    "      math8 ~~ theta1*math8\n",
    "\n",
    "  # manifest variances for hyp (made equivalent by naming theta2)\n",
    "      hyp2 ~~ theta2*hyp2\n",
    "      hyp3 ~~ theta2*hyp3\n",
    "      hyp4 ~~ theta2*hyp4\n",
    "      hyp5 ~~ theta2*hyp5\n",
    "      hyp6 ~~ theta2*hyp6\n",
    "      hyp7 ~~ theta2*hyp7\n",
    "      hyp8 ~~ theta2*hyp8\n",
    "\n",
    "  # residual covariances (made equivalent by naming theta12)\n",
    "      math2 ~~ theta12*hyp2\n",
    "      math3 ~~ theta12*hyp3\n",
    "      math4 ~~ theta12*hyp4\n",
    "      math5 ~~ theta12*hyp5\n",
    "      math6 ~~ theta12*hyp6\n",
    "      math7 ~~ theta12*hyp7\n",
    "      math8 ~~ theta12*hyp8\n",
    "\n",
    "  # manifest means for math (fixed at zero)\n",
    "      math2 ~ 0*1\n",
    "      math3 ~ 0*1\n",
    "      math4 ~ 0*1\n",
    "      math5 ~ 0*1\n",
    "      math6 ~ 0*1\n",
    "      math7 ~ 0*1\n",
    "      math8 ~ 0*1\n",
    "\n",
    "  # manifest means for hyp (fixed at zero)\n",
    "      hyp2 ~ 0*1\n",
    "      hyp3 ~ 0*1\n",
    "      hyp4 ~ 0*1\n",
    "      hyp5 ~ 0*1\n",
    "      hyp6 ~ 0*1\n",
    "      hyp7 ~ 0*1\n",
    "      hyp8 ~ 0*1\n",
    "\" # end of model definition"
   ]
  },
  {
   "attachments": {},
   "cell_type": "markdown",
   "id": "da144265",
   "metadata": {},
   "source": [
    "Adattiamo il modello ai dati."
   ]
  },
  {
   "cell_type": "code",
   "execution_count": null,
   "id": "2aacf776",
   "metadata": {
    "vscode": {
     "languageId": "r"
    }
   },
   "outputs": [],
   "source": [
    "bivariate_lavaan_fit <- sem(bivariate_lavaan_model,\n",
    "  data = nlsy_multi_wide,\n",
    "  meanstructure = TRUE,\n",
    "  estimator = \"ML\",\n",
    "  missing = \"fiml\"\n",
    ")"
   ]
  },
  {
   "attachments": {},
   "cell_type": "markdown",
   "id": "b3ec9be5",
   "metadata": {},
   "source": [
    "Esaminiamo i risultati."
   ]
  },
  {
   "cell_type": "code",
   "execution_count": null,
   "id": "cd805be1",
   "metadata": {
    "vscode": {
     "languageId": "r"
    }
   },
   "outputs": [],
   "source": [
    "out = summary(bivariate_lavaan_fit, fit.measures = TRUE)\n",
    "print(out)"
   ]
  },
  {
   "attachments": {},
   "cell_type": "markdown",
   "id": "de104efb",
   "metadata": {},
   "source": [
    "Il parametro principale di interesse, la covarianza pendenza-pendenza `eta_3 ~~eta_4`, non è significativamente diverso da zero.\n",
    "\n",
    "Generiamo un diagramma di percorso."
   ]
  },
  {
   "cell_type": "code",
   "execution_count": null,
   "id": "6c10378c",
   "metadata": {
    "vscode": {
     "languageId": "r"
    }
   },
   "outputs": [],
   "source": [
    "semPaths(bivariate_lavaan_fit, what = \"path\", whatLabels = \"par\")"
   ]
  },
  {
   "attachments": {},
   "cell_type": "markdown",
   "id": "5c4220d8",
   "metadata": {},
   "source": [
    "## Conclusione\n",
    "\n",
    "Questo tutorial ha presentato come il modello di crescita multivariato possa essere utilizzato per esaminare le interrelazioni nel cambiamento - in particolare la correlazione between-person tra le pendenze."
   ]
  }
 ],
 "metadata": {
  "jupytext": {
   "cell_metadata_filter": "tags,-all",
   "main_language": "R",
   "notebook_metadata_filter": "-all"
  },
  "kernelspec": {
   "display_name": "R",
   "language": "R",
   "name": "ir"
  },
  "language_info": {
   "name": "R"
  }
 },
 "nbformat": 4,
 "nbformat_minor": 5
}
