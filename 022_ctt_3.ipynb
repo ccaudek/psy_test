{
 "cells": [
  {
   "attachments": {},
   "cell_type": "markdown",
   "id": "2c19761a",
   "metadata": {},
   "source": [
    "(ctt-3-notebook)=\n",
    "# Metodi di stima dell'affidabilità "
   ]
  },
  {
   "cell_type": "code",
   "execution_count": 1,
   "id": "b58f4e19",
   "metadata": {
    "tags": [
     "remove_cell"
    ],
    "vscode": {
     "languageId": "r"
    }
   },
   "outputs": [],
   "source": [
    "source(\"_common.R\")\n",
    "suppressPackageStartupMessages(library(\"psych\"))\n",
    "suppressPackageStartupMessages(library(\"ltm\"))"
   ]
  },
  {
   "cell_type": "markdown",
   "id": "0df872bb",
   "metadata": {},
   "source": [
    "Come evidenziato nel capitolo precedente, i punteggi dei test possono variare in varie situazioni. Ad esempio, potrebbe interessare quanto i punteggi differiscano tra diversi insiemi di item o misurare l'incoerenza tra diverse somministrazioni o valutazioni. Pertanto, sono stati sviluppati vari metodi per valutare l'affidabilità, ciascuno tenendo conto di diversi tipi di errori casuali. \n",
    "\n",
    "In questo capitolo, esploreremo i coefficienti di affidabilità della CTT adatti a valutare le discrepanze o gli errori casuali derivanti dalle differenze tra gli item, le somministrazioni e le forme del test. Questi coefficienti sono noti come coefficienti di consistenza interna.\n",
    "\n",
    "Per iniziare, esamineremo tre scenari distinti che illustrano le possibili relazioni tra gli item di un test: quelli con indicatori congenerici, tau-equivalenti e paralleli. All'interno della CTT, sono disponibili due indicatori principali per valutare l'affidabilità in termini di coerenza interna, a seconda del tipo di relazione tra gli item che si presume: l'indice alpha di Cronbach per gli item tau-equivalenti e l'indice di Spearman-Brown per gli item paralleli.\n",
    "\n",
    "## Coefficienti di consistenza interna\n",
    "\n",
    "La CTT presenta il metodo delle forme parallele come un approccio parziale per stimare l'attendibilità dei test. Questo metodo prevede la somministrazione di due test distinti, indicati come $X$ e $X^\\prime$, che valutano lo stesso costrutto, a un campione di individui nello stesso momento. In questo contesto, la correlazione tra i punteggi totali dei due test, $\\rho^2_{XT} = \\rho_{XX^\\prime}$, rappresenta l'indicatore principale dell'attendibilità. Tuttavia, è cruciale che le due versioni del test siano effettivamente parallele, secondo la definizione fornita dalla teoria classica dei test, affinché questa relazione sia valida.\n",
    "\n",
    "Nella pratica, risulta impraticabile somministrare lo stesso test due volte agli stessi partecipanti \"nelle stesse condizioni\", come richiesto dal metodo delle forme parallele. Di conseguenza, la stima dell'attendibilità deve basarsi sui dati raccolti attraverso una singola somministrazione del test. La CTT risponde a questa sfida introducendo specifici indicatori di coerenza interna, mirati a valutare l'affidabilità.\n",
    "\n",
    "Questi indicatori di coerenza interna costituiscono la soluzione proposta dalla CTT per affrontare tale problematica. La loro logica si basa sull'idea che una correlazione tra i punteggi di diversi item che misurano lo stesso costrutto rifletta la varianza condivisa del punteggio reale, anziché la varianza condivisa dell'errore. Considerando che gli errori casuali dovrebbero mancare di una varianza condivisa, i coefficienti di coerenza interna riflettono la correlazione tra gli item all'interno del test, offrendo così un'indicazione dell'affidabilità generale della scala di misurazione.\n",
    "\n",
    "Oltre a questo, gli item stessi possono rappresentare una fonte di errore nei punteggi dei test. Problemi come formulazioni confuse, item non coerenti con il costrutto, linguaggio poco comprensibile o item con risposte ambigue possono emergere quando gli item non sono formulati in modo adeguato. Tali problemi possono portare a risposte inconsistenti per due ragioni: innanzitutto, i partecipanti potrebbero reagire in modi diversi agli item problematici; in secondo luogo, tali item interferiscono con la capacità dei partecipanti di esprimere il loro reale livello del costrutto.\n",
    "\n",
    "Per valutare la coerenza delle risposte tra gli item all'interno di una scala, vengono impiegati i coefficienti di consistenza interna. Questi coefficienti si basano sull'assunto che una correlazione tra due punteggi osservati, che misurano lo stesso costrutto, rifletta la varianza condivisa del punteggio reale, non la varianza condivisa dell'errore. Dal momento che gli errori casuali dovrebbero mancare di varianza condivisa, i coefficienti di consistenza interna riflettono la correlazione tra gli item del test e forniscono un'indicazione dell'affidabilità complessiva della scala.\n",
    "\n",
    "Quando si valuta l'attendibilità con una singola somministrazione del test, sono disponibili vari approcci. In questo capitolo, esamineremo due metodi proposti dalla CTT: l'indice $\\alpha$ di Cronbach e il metodo di Spearman-Brown. L'indice $\\alpha$ è l'indicatore più comunemente usato per valutare l'attendibilità in termini di coerenza interna o omogeneità. Analizzeremo come questo indice rappresenta il valore minimo possibile dell'attendibilità di un test, sotto determinate ipotesi soddisfatte, e come, allo stesso tempo, può fornire una valutazione distorta dell'attendibilità se le assunzioni che delineeremo non sono rispettate.\n",
    "\n",
    "Tuttavia, prima di esplorare dettagliatamente questi due diversi metodi di stima dell'attendibilità come coerenza interna, è essenziale distinguere tra tre diverse tipologie di relazioni tra gli item: item congenerici, item $\\tau$-equivalenti e item paralleli.\n",
    "\n",
    "### Simulazione\n",
    "\n",
    "#### Test paralleli\n",
    "\n",
    "Simuliamo i punteggi di due test paralleli."
   ]
  },
  {
   "cell_type": "code",
   "execution_count": null,
   "id": "f7953baa",
   "metadata": {
    "vscode": {
     "languageId": "r"
    }
   },
   "outputs": [],
   "source": [
    "set.seed(2237) # setting the seed ensure reproducibility\n",
    "num_person <- 1000 # number of respondents\n",
    "# True scores for Test 1\n",
    "t1 <- rnorm(num_person, mean = 20, sd = 5)\n",
    "# Error scores for Test 1\n",
    "e1 <- rnorm(num_person, mean = 0, sd = 2)\n",
    "# Observed scores for Test 1\n",
    "x1 <- t1 + e1\n",
    "# True scores for Test 2\n",
    "t2 <- t1 # parallel tests have equal true scores\n",
    "# Error scores for Test 2\n",
    "e2 <- rnorm(num_person, mean = 0, sd = 2)\n",
    "# Observed scores for Test 2\n",
    "x2 <- t2 + e2\n",
    "\n",
    "# Merge into a data frame\n",
    "test_df <- data.frame(x1, x2)\n",
    "\n",
    "mv <- datasummary(x1 + x2 ~ Mean + Var,\n",
    "    data = test_df,\n",
    "    output = \"data.frame\"\n",
    ")\n",
    "mv"
   ]
  },
  {
   "cell_type": "code",
   "execution_count": null,
   "id": "89137fae",
   "metadata": {
    "vscode": {
     "languageId": "r"
    }
   },
   "outputs": [],
   "source": [
    "# Correlation\n",
    "cor(test_df) |>\n",
    "    round(2)"
   ]
  },
  {
   "cell_type": "markdown",
   "id": "f51130bf",
   "metadata": {},
   "source": [
    "In conclusione, per test paralleli:\n",
    "- le medie e le varianze dei punteggi osservati sono statisticamente uguali;\n",
    "- la correlazione è uguale all'attendibilità.\n",
    "\n",
    "#### Test $\\tau$-equivalenti"
   ]
  },
  {
   "cell_type": "code",
   "execution_count": null,
   "id": "c1d1e72b",
   "metadata": {
    "vscode": {
     "languageId": "r"
    }
   },
   "outputs": [],
   "source": [
    "# True scores for Test 3\n",
    "t3 <- 5 + t1 # essentially tau-equivalent tests\n",
    "# Error scores for Test 3 (larger error SDs)\n",
    "e3 <- rnorm(num_person, mean = 0, sd = 4)\n",
    "# Observed scores for Test 2\n",
    "x3 <- t3 + e3\n",
    "\n",
    "# Merge into a data frame\n",
    "test_df2 <- data.frame(x1, x3)\n",
    "# Get means and variances\n",
    "mv <- datasummary(x1 + x3 ~ Mean + Var,\n",
    "    data = test_df2,\n",
    "    output = \"data.frame\"\n",
    ")\n",
    "mv"
   ]
  },
  {
   "cell_type": "code",
   "execution_count": null,
   "id": "33959865",
   "metadata": {
    "vscode": {
     "languageId": "r"
    }
   },
   "outputs": [],
   "source": [
    "# Correlation\n",
    "cor(test_df2) |>\n",
    "    round(2)"
   ]
  },
  {
   "cell_type": "markdown",
   "id": "64dcbacb",
   "metadata": {},
   "source": [
    "Se conosciamo i punteggi veri, l'attendibilità di X3 si trova come"
   ]
  },
  {
   "cell_type": "code",
   "execution_count": null,
   "id": "00081530",
   "metadata": {
    "vscode": {
     "languageId": "r"
    }
   },
   "outputs": [],
   "source": [
    "# Reliability for x3\n",
    "var(t3) / var(x3)"
   ]
  },
  {
   "cell_type": "markdown",
   "id": "38c36563",
   "metadata": {},
   "source": [
    "In conclusione, per test tau-equivalenti:\n",
    "- le medie e le varianze dei punteggi osservati sono diverse;\n",
    "- correlazione $\\neq$ attendibilità.\n",
    "\n",
    "#### Test congenerici"
   ]
  },
  {
   "cell_type": "code",
   "execution_count": null,
   "id": "6c849809",
   "metadata": {
    "vscode": {
     "languageId": "r"
    }
   },
   "outputs": [],
   "source": [
    "# True scores for Test 4\n",
    "t4 <- 2 + 0.8 * t1\n",
    "# Error scores for Test 4 (larger error SDs)\n",
    "e4 <- rnorm(num_person, mean = 0, sd = 3)\n",
    "# Observed scores for Test 2\n",
    "x4 <- t4 + e4\n",
    "\n",
    "# Merge into a data frame\n",
    "test_df3 <- data.frame(x1, x4)\n",
    "# Get means and variances\n",
    "mv <- datasummary(x1 + x4 ~ Mean + Var,\n",
    "    data = test_df3,\n",
    "    output = \"data.frame\"\n",
    ")\n",
    "mv"
   ]
  },
  {
   "cell_type": "code",
   "execution_count": null,
   "id": "0b997047",
   "metadata": {
    "vscode": {
     "languageId": "r"
    }
   },
   "outputs": [],
   "source": [
    "# Correlation\n",
    "cor(test_df3) |>\n",
    "    round(2)"
   ]
  },
  {
   "cell_type": "markdown",
   "id": "494dce11",
   "metadata": {},
   "source": [
    "Se conosciamo i punteggi veri, l'attendibilità di X4 si trova come"
   ]
  },
  {
   "cell_type": "code",
   "execution_count": null,
   "id": "10f16742",
   "metadata": {
    "vscode": {
     "languageId": "r"
    }
   },
   "outputs": [],
   "source": [
    "# Reliability for x4\n",
    "var(t4) / var(x4)"
   ]
  },
  {
   "cell_type": "markdown",
   "id": "9490adb4",
   "metadata": {},
   "source": [
    "In conclusione, per test congenerici:\n",
    "- le medie e le varianze dei punteggi osservati sono diverse;\n",
    "- correlazione $\\neq$ attendibilità;\n",
    "- sono necessari più di due test per distinguere test congenerici e test $\\tau$-equivalenti."
   ]
  },
  {
   "cell_type": "markdown",
   "id": "a1802180",
   "metadata": {},
   "source": [
    "### Coefficiente $\\alpha$ di Cronbach\n",
    "\n",
    "Il coefficiente $\\alpha$ consente la stima dell'affidabilità nel contesto di indicatori $\\tau$-equivalenti. In queste circostanze, l'attendibilità viene valutata utilizzando l'equazione:\n",
    "\n",
    "$$\n",
    "\\alpha = \\frac{{k}}{{k-1}} \\left( 1 - \\frac{{\\sum_{i=1}^{k} \\sigma_{i}^{2}}}{{\\sigma_{X}^{2}}} \\right)\n",
    "$$\n",
    "\n",
    "dove:\n",
    "- $k$ è il numero di item nel test,\n",
    "- $\\sigma_{i}^{2}$ rappresenta la varianza del punteggio dell'item \\(i\\),\n",
    "- $\\sigma_{X}^{2}$ è la varianza totale dei punteggi del test.\n",
    "\n",
    "Una derivazione della formula del coefficiente alpha di Cronbach è fornita nel capitolo {ref}`reliability-fa-notebook`.\n",
    "\n",
    "Fu Guttman nel 1945 a scoprire questo coefficiente, anche se erroneamente attribuito a Cronbach. È spesso noto come coefficiente $\\alpha$ di Guttman-Cronbach o G-C $\\alpha$.\n",
    "\n",
    "Quando il modello di $\\tau$-equivalenza è applicabile, il coefficiente $\\alpha$ costituisce un limite inferiore dell'affidabilità, in altri termini, il coefficiente $\\alpha$ offre una stima prudente dell'affidabilità. Questa caratteristica è considerata uno dei principali vantaggi di questo indice. Tuttavia, è fondamentale notare che questa natura conservativa del coefficiente $\\alpha$ vale solo se le ipotesi del modello $\\tau$-equivalente sono rispettate.\n",
    "\n",
    "Il coefficiente di attendibilità $\\alpha$ è ampiamente utilizzato nell'ambito della psicometria. Tuttavia, come menzionato in precedenza, quando l'assunzione di $\\tau$-equivalenza non è valida, $\\alpha$ può perdere la sua proprietà conservativa e sovrastimare l'attendibilità del test (Sijtsma, 2009). In tal caso, è necessario valutare attentamente l'adeguatezza dell'utilizzo del coefficiente $\\alpha$ come indicatore di affidabilità."
   ]
  },
  {
   "cell_type": "markdown",
   "id": "ac0f4f37",
   "metadata": {},
   "source": [
    "**Esempio.** Per illustrare la procedura di calcolo del coefficiente $\\omega$, useremo i dati `bfi` contenuti nel pacchetto `psych`. Il dataframe `bfi` comprende 25 item di autovalutazione della personalità. Sono riportati i dati di 2800 soggetti. Ci concentreremo qui sulla sottoscala *Openness*. \n",
    "- O1: *Am full of ideas*; \n",
    "- O2: *Avoid difficult reading material*; \n",
    "- O3: *Carry the conversation to a higher level*; \n",
    "- O4: *Spend time reflecting on things*; \n",
    "- O5: *Will not probe deeply into a subject*. \n",
    "\n",
    "Leggiamo i dati in R."
   ]
  },
  {
   "cell_type": "code",
   "execution_count": 3,
   "id": "2514c0a1",
   "metadata": {
    "vscode": {
     "languageId": "r"
    }
   },
   "outputs": [
    {
     "data": {
      "text/html": [
       "<table class=\"dataframe\">\n",
       "<caption>A data.frame: 6 × 5</caption>\n",
       "<thead>\n",
       "\t<tr><th></th><th scope=col>O1</th><th scope=col>O2</th><th scope=col>O3</th><th scope=col>O4</th><th scope=col>O5</th></tr>\n",
       "\t<tr><th></th><th scope=col>&lt;int&gt;</th><th scope=col>&lt;int&gt;</th><th scope=col>&lt;int&gt;</th><th scope=col>&lt;int&gt;</th><th scope=col>&lt;int&gt;</th></tr>\n",
       "</thead>\n",
       "<tbody>\n",
       "\t<tr><th scope=row>61617</th><td>3</td><td>6</td><td>3</td><td>4</td><td>3</td></tr>\n",
       "\t<tr><th scope=row>61618</th><td>4</td><td>2</td><td>4</td><td>3</td><td>3</td></tr>\n",
       "\t<tr><th scope=row>61620</th><td>4</td><td>2</td><td>5</td><td>5</td><td>2</td></tr>\n",
       "\t<tr><th scope=row>61621</th><td>3</td><td>3</td><td>4</td><td>3</td><td>5</td></tr>\n",
       "\t<tr><th scope=row>61622</th><td>3</td><td>3</td><td>4</td><td>3</td><td>3</td></tr>\n",
       "\t<tr><th scope=row>61623</th><td>4</td><td>3</td><td>5</td><td>6</td><td>1</td></tr>\n",
       "</tbody>\n",
       "</table>\n"
      ],
      "text/latex": [
       "A data.frame: 6 × 5\n",
       "\\begin{tabular}{r|lllll}\n",
       "  & O1 & O2 & O3 & O4 & O5\\\\\n",
       "  & <int> & <int> & <int> & <int> & <int>\\\\\n",
       "\\hline\n",
       "\t61617 & 3 & 6 & 3 & 4 & 3\\\\\n",
       "\t61618 & 4 & 2 & 4 & 3 & 3\\\\\n",
       "\t61620 & 4 & 2 & 5 & 5 & 2\\\\\n",
       "\t61621 & 3 & 3 & 4 & 3 & 5\\\\\n",
       "\t61622 & 3 & 3 & 4 & 3 & 3\\\\\n",
       "\t61623 & 4 & 3 & 5 & 6 & 1\\\\\n",
       "\\end{tabular}\n"
      ],
      "text/markdown": [
       "\n",
       "A data.frame: 6 × 5\n",
       "\n",
       "| <!--/--> | O1 &lt;int&gt; | O2 &lt;int&gt; | O3 &lt;int&gt; | O4 &lt;int&gt; | O5 &lt;int&gt; |\n",
       "|---|---|---|---|---|---|\n",
       "| 61617 | 3 | 6 | 3 | 4 | 3 |\n",
       "| 61618 | 4 | 2 | 4 | 3 | 3 |\n",
       "| 61620 | 4 | 2 | 5 | 5 | 2 |\n",
       "| 61621 | 3 | 3 | 4 | 3 | 5 |\n",
       "| 61622 | 3 | 3 | 4 | 3 | 3 |\n",
       "| 61623 | 4 | 3 | 5 | 6 | 1 |\n",
       "\n"
      ],
      "text/plain": [
       "      O1 O2 O3 O4 O5\n",
       "61617 3  6  3  4  3 \n",
       "61618 4  2  4  3  3 \n",
       "61620 4  2  5  5  2 \n",
       "61621 3  3  4  3  5 \n",
       "61622 3  3  4  3  3 \n",
       "61623 4  3  5  6  1 "
      ]
     },
     "metadata": {},
     "output_type": "display_data"
    }
   ],
   "source": [
    "data(bfi, package = \"psych\")\n",
    "head(bfi[c(\"O1\", \"O2\", \"O3\", \"O4\", \"O5\")])"
   ]
  },
  {
   "cell_type": "markdown",
   "id": "7c28ce5c",
   "metadata": {},
   "source": [
    "Esaminiamo la correlazione tra gli item della sottoscale Openness."
   ]
  },
  {
   "cell_type": "code",
   "execution_count": 4,
   "id": "6a9e877b",
   "metadata": {
    "vscode": {
     "languageId": "r"
    }
   },
   "outputs": [
    {
     "data": {
      "text/html": [
       "<table class=\"dataframe\">\n",
       "<caption>A matrix: 5 × 5 of type dbl</caption>\n",
       "<thead>\n",
       "\t<tr><th></th><th scope=col>O1</th><th scope=col>O2</th><th scope=col>O3</th><th scope=col>O4</th><th scope=col>O5</th></tr>\n",
       "</thead>\n",
       "<tbody>\n",
       "\t<tr><th scope=row>O1</th><td> 1.00</td><td>-0.21</td><td> 0.40</td><td> 0.18</td><td>-0.24</td></tr>\n",
       "\t<tr><th scope=row>O2</th><td>-0.21</td><td> 1.00</td><td>-0.26</td><td>-0.07</td><td> 0.32</td></tr>\n",
       "\t<tr><th scope=row>O3</th><td> 0.40</td><td>-0.26</td><td> 1.00</td><td> 0.19</td><td>-0.31</td></tr>\n",
       "\t<tr><th scope=row>O4</th><td> 0.18</td><td>-0.07</td><td> 0.19</td><td> 1.00</td><td>-0.18</td></tr>\n",
       "\t<tr><th scope=row>O5</th><td>-0.24</td><td> 0.32</td><td>-0.31</td><td>-0.18</td><td> 1.00</td></tr>\n",
       "</tbody>\n",
       "</table>\n"
      ],
      "text/latex": [
       "A matrix: 5 × 5 of type dbl\n",
       "\\begin{tabular}{r|lllll}\n",
       "  & O1 & O2 & O3 & O4 & O5\\\\\n",
       "\\hline\n",
       "\tO1 &  1.00 & -0.21 &  0.40 &  0.18 & -0.24\\\\\n",
       "\tO2 & -0.21 &  1.00 & -0.26 & -0.07 &  0.32\\\\\n",
       "\tO3 &  0.40 & -0.26 &  1.00 &  0.19 & -0.31\\\\\n",
       "\tO4 &  0.18 & -0.07 &  0.19 &  1.00 & -0.18\\\\\n",
       "\tO5 & -0.24 &  0.32 & -0.31 & -0.18 &  1.00\\\\\n",
       "\\end{tabular}\n"
      ],
      "text/markdown": [
       "\n",
       "A matrix: 5 × 5 of type dbl\n",
       "\n",
       "| <!--/--> | O1 | O2 | O3 | O4 | O5 |\n",
       "|---|---|---|---|---|---|\n",
       "| O1 |  1.00 | -0.21 |  0.40 |  0.18 | -0.24 |\n",
       "| O2 | -0.21 |  1.00 | -0.26 | -0.07 |  0.32 |\n",
       "| O3 |  0.40 | -0.26 |  1.00 |  0.19 | -0.31 |\n",
       "| O4 |  0.18 | -0.07 |  0.19 |  1.00 | -0.18 |\n",
       "| O5 | -0.24 |  0.32 | -0.31 | -0.18 |  1.00 |\n",
       "\n"
      ],
      "text/plain": [
       "   O1    O2    O3    O4    O5   \n",
       "O1  1.00 -0.21  0.40  0.18 -0.24\n",
       "O2 -0.21  1.00 -0.26 -0.07  0.32\n",
       "O3  0.40 -0.26  1.00  0.19 -0.31\n",
       "O4  0.18 -0.07  0.19  1.00 -0.18\n",
       "O5 -0.24  0.32 -0.31 -0.18  1.00"
      ]
     },
     "metadata": {},
     "output_type": "display_data"
    }
   ],
   "source": [
    "cor(bfi[c(\"O1\", \"O2\", \"O3\", \"O4\", \"O5\")], use = \"pairwise.complete.obs\") |>\n",
    "    round(2)"
   ]
  },
  {
   "cell_type": "markdown",
   "id": "25862f0b",
   "metadata": {},
   "source": [
    "È necessario ricodificare due item."
   ]
  },
  {
   "cell_type": "code",
   "execution_count": 5,
   "id": "2a8e3e79",
   "metadata": {
    "vscode": {
     "languageId": "r"
    }
   },
   "outputs": [],
   "source": [
    "bfi$O2r <- 7 - bfi$O2\n",
    "bfi$O5r <- 7 - bfi$O5"
   ]
  },
  {
   "cell_type": "code",
   "execution_count": 6,
   "id": "e224caf9",
   "metadata": {
    "vscode": {
     "languageId": "r"
    }
   },
   "outputs": [
    {
     "data": {
      "text/html": [
       "<table class=\"dataframe\">\n",
       "<caption>A matrix: 5 × 5 of type dbl</caption>\n",
       "<thead>\n",
       "\t<tr><th></th><th scope=col>O1</th><th scope=col>O2r</th><th scope=col>O3</th><th scope=col>O4</th><th scope=col>O5r</th></tr>\n",
       "</thead>\n",
       "<tbody>\n",
       "\t<tr><th scope=row>O1</th><td>1.00</td><td>0.21</td><td>0.40</td><td>0.18</td><td>0.24</td></tr>\n",
       "\t<tr><th scope=row>O2r</th><td>0.21</td><td>1.00</td><td>0.26</td><td>0.07</td><td>0.32</td></tr>\n",
       "\t<tr><th scope=row>O3</th><td>0.40</td><td>0.26</td><td>1.00</td><td>0.19</td><td>0.31</td></tr>\n",
       "\t<tr><th scope=row>O4</th><td>0.18</td><td>0.07</td><td>0.19</td><td>1.00</td><td>0.18</td></tr>\n",
       "\t<tr><th scope=row>O5r</th><td>0.24</td><td>0.32</td><td>0.31</td><td>0.18</td><td>1.00</td></tr>\n",
       "</tbody>\n",
       "</table>\n"
      ],
      "text/latex": [
       "A matrix: 5 × 5 of type dbl\n",
       "\\begin{tabular}{r|lllll}\n",
       "  & O1 & O2r & O3 & O4 & O5r\\\\\n",
       "\\hline\n",
       "\tO1 & 1.00 & 0.21 & 0.40 & 0.18 & 0.24\\\\\n",
       "\tO2r & 0.21 & 1.00 & 0.26 & 0.07 & 0.32\\\\\n",
       "\tO3 & 0.40 & 0.26 & 1.00 & 0.19 & 0.31\\\\\n",
       "\tO4 & 0.18 & 0.07 & 0.19 & 1.00 & 0.18\\\\\n",
       "\tO5r & 0.24 & 0.32 & 0.31 & 0.18 & 1.00\\\\\n",
       "\\end{tabular}\n"
      ],
      "text/markdown": [
       "\n",
       "A matrix: 5 × 5 of type dbl\n",
       "\n",
       "| <!--/--> | O1 | O2r | O3 | O4 | O5r |\n",
       "|---|---|---|---|---|---|\n",
       "| O1 | 1.00 | 0.21 | 0.40 | 0.18 | 0.24 |\n",
       "| O2r | 0.21 | 1.00 | 0.26 | 0.07 | 0.32 |\n",
       "| O3 | 0.40 | 0.26 | 1.00 | 0.19 | 0.31 |\n",
       "| O4 | 0.18 | 0.07 | 0.19 | 1.00 | 0.18 |\n",
       "| O5r | 0.24 | 0.32 | 0.31 | 0.18 | 1.00 |\n",
       "\n"
      ],
      "text/plain": [
       "    O1   O2r  O3   O4   O5r \n",
       "O1  1.00 0.21 0.40 0.18 0.24\n",
       "O2r 0.21 1.00 0.26 0.07 0.32\n",
       "O3  0.40 0.26 1.00 0.19 0.31\n",
       "O4  0.18 0.07 0.19 1.00 0.18\n",
       "O5r 0.24 0.32 0.31 0.18 1.00"
      ]
     },
     "metadata": {},
     "output_type": "display_data"
    }
   ],
   "source": [
    "cor(bfi[c(\"O1\", \"O2r\", \"O3\", \"O4\", \"O5r\")], use = \"pairwise.complete.obs\") |>\n",
    "    round(2)"
   ]
  },
  {
   "cell_type": "markdown",
   "id": "4007bb63",
   "metadata": {},
   "source": [
    "Consideriamo la matrice di varianze e covarianze della sottoscala Openness. "
   ]
  },
  {
   "cell_type": "code",
   "execution_count": 7,
   "id": "2dd9e307",
   "metadata": {
    "vscode": {
     "languageId": "r"
    }
   },
   "outputs": [
    {
     "data": {
      "text/html": [
       "<table class=\"dataframe\">\n",
       "<caption>A matrix: 5 × 5 of type dbl</caption>\n",
       "<thead>\n",
       "\t<tr><th></th><th scope=col>O1</th><th scope=col>O2r</th><th scope=col>O3</th><th scope=col>O4</th><th scope=col>O5r</th></tr>\n",
       "</thead>\n",
       "<tbody>\n",
       "\t<tr><th scope=row>O1</th><td>1.28</td><td>0.38</td><td>0.54</td><td>0.25</td><td>0.36</td></tr>\n",
       "\t<tr><th scope=row>O2r</th><td>0.38</td><td>2.45</td><td>0.50</td><td>0.13</td><td>0.67</td></tr>\n",
       "\t<tr><th scope=row>O3</th><td>0.54</td><td>0.50</td><td>1.49</td><td>0.29</td><td>0.50</td></tr>\n",
       "\t<tr><th scope=row>O4</th><td>0.25</td><td>0.13</td><td>0.29</td><td>1.49</td><td>0.29</td></tr>\n",
       "\t<tr><th scope=row>O5r</th><td>0.36</td><td>0.67</td><td>0.50</td><td>0.29</td><td>1.76</td></tr>\n",
       "</tbody>\n",
       "</table>\n"
      ],
      "text/latex": [
       "A matrix: 5 × 5 of type dbl\n",
       "\\begin{tabular}{r|lllll}\n",
       "  & O1 & O2r & O3 & O4 & O5r\\\\\n",
       "\\hline\n",
       "\tO1 & 1.28 & 0.38 & 0.54 & 0.25 & 0.36\\\\\n",
       "\tO2r & 0.38 & 2.45 & 0.50 & 0.13 & 0.67\\\\\n",
       "\tO3 & 0.54 & 0.50 & 1.49 & 0.29 & 0.50\\\\\n",
       "\tO4 & 0.25 & 0.13 & 0.29 & 1.49 & 0.29\\\\\n",
       "\tO5r & 0.36 & 0.67 & 0.50 & 0.29 & 1.76\\\\\n",
       "\\end{tabular}\n"
      ],
      "text/markdown": [
       "\n",
       "A matrix: 5 × 5 of type dbl\n",
       "\n",
       "| <!--/--> | O1 | O2r | O3 | O4 | O5r |\n",
       "|---|---|---|---|---|---|\n",
       "| O1 | 1.28 | 0.38 | 0.54 | 0.25 | 0.36 |\n",
       "| O2r | 0.38 | 2.45 | 0.50 | 0.13 | 0.67 |\n",
       "| O3 | 0.54 | 0.50 | 1.49 | 0.29 | 0.50 |\n",
       "| O4 | 0.25 | 0.13 | 0.29 | 1.49 | 0.29 |\n",
       "| O5r | 0.36 | 0.67 | 0.50 | 0.29 | 1.76 |\n",
       "\n"
      ],
      "text/plain": [
       "    O1   O2r  O3   O4   O5r \n",
       "O1  1.28 0.38 0.54 0.25 0.36\n",
       "O2r 0.38 2.45 0.50 0.13 0.67\n",
       "O3  0.54 0.50 1.49 0.29 0.50\n",
       "O4  0.25 0.13 0.29 1.49 0.29\n",
       "O5r 0.36 0.67 0.50 0.29 1.76"
      ]
     },
     "metadata": {},
     "output_type": "display_data"
    }
   ],
   "source": [
    "C <- cov(bfi[c(\"O1\", \"O2r\", \"O3\", \"O4\", \"O5r\")], use = \"pairwise.complete.obs\")\n",
    "C |> round(2)"
   ]
  },
  {
   "cell_type": "markdown",
   "id": "eda4755e",
   "metadata": {},
   "source": [
    "Calcoliamo alpha:"
   ]
  },
  {
   "cell_type": "code",
   "execution_count": 8,
   "id": "6ce0c3c5",
   "metadata": {
    "vscode": {
     "languageId": "r"
    }
   },
   "outputs": [
    {
     "data": {
      "text/html": [
       "0.600172514820215"
      ],
      "text/latex": [
       "0.600172514820215"
      ],
      "text/markdown": [
       "0.600172514820215"
      ],
      "text/plain": [
       "[1] 0.6001725"
      ]
     },
     "metadata": {},
     "output_type": "display_data"
    }
   ],
   "source": [
    "p <- 5\n",
    "alpha <- (p / (p - 1)) * (1 - tr(C) / sum(C))\n",
    "alpha"
   ]
  },
  {
   "cell_type": "markdown",
   "id": "c273c87d",
   "metadata": {},
   "source": [
    "Lo stesso risultato si ottiene utilizzando la funzione `alpha()`\n",
    "contenuta nel pacchetto `psych`:"
   ]
  },
  {
   "cell_type": "code",
   "execution_count": 9,
   "id": "ab490db5",
   "metadata": {
    "vscode": {
     "languageId": "r"
    }
   },
   "outputs": [
    {
     "data": {
      "text/plain": [
       "\n",
       "Reliability analysis   \n",
       "Call: psych::alpha(x = C)\n",
       "\n",
       "  raw_alpha std.alpha G6(smc) average_r S/N median_r\n",
       "       0.6      0.61    0.57      0.24 1.5     0.23\n",
       "\n",
       "    95% confidence boundaries \n",
       "      lower alpha upper\n",
       "Feldt -0.49   0.6  0.95\n",
       "\n",
       " Reliability if an item is dropped:\n",
       "    raw_alpha std.alpha G6(smc) average_r S/N  var.r med.r\n",
       "O1       0.53      0.53    0.48      0.22 1.1 0.0092  0.23\n",
       "O2r      0.57      0.57    0.51      0.25 1.3 0.0076  0.22\n",
       "O3       0.50      0.50    0.44      0.20 1.0 0.0071  0.20\n",
       "O4       0.61      0.62    0.56      0.29 1.6 0.0044  0.29\n",
       "O5r      0.51      0.53    0.47      0.22 1.1 0.0115  0.20\n",
       "\n",
       " Item statistics \n",
       "       r r.cor r.drop\n",
       "O1  0.65  0.52   0.39\n",
       "O2r 0.60  0.43   0.33\n",
       "O3  0.69  0.59   0.45\n",
       "O4  0.52  0.29   0.22\n",
       "O5r 0.66  0.52   0.42"
      ]
     },
     "metadata": {},
     "output_type": "display_data"
    }
   ],
   "source": [
    "psych::alpha(C)"
   ]
  },
  {
   "cell_type": "markdown",
   "id": "36ffeef6",
   "metadata": {},
   "source": [
    "### Metodi alternativi per la stima del coefficiente di attendibilità\n",
    "\n",
    "Ci sono altri coefficienti di consistenza interna oltre al coefficiente alpha di Cronbach. Alcuni esempi includono il coefficiente KR-20 e il coefficiente KR-21, che vengono utilizzati con item  dicotomici (ossia con risposte a due alternative, come vero/falso). \n",
    "\n",
    "#### Coefficiente KR-20\n",
    "\n",
    "La formula di Kuder-Richardson-20 (KR-20) è un caso particolare del coefficiente α. Se ogni item è dicotomico, il coefficiente α diventa il KR-20. Il coefficiente Coefficiente KR-20 si calcola con la formula:\n",
    "\n",
    "$$\n",
    "KR\\_20 = \\frac{{k}}{{k-1}} \\left( 1 - \\frac{{p(1-p)}}{{\\sigma_{X}^{2}}} \\right) \n",
    "$$\n",
    "\n",
    "dove:\n",
    "- $k$ è il numero di item nel test,\n",
    "- $p$ è la proporzione di individui che rispondono correttamente all'item,\n",
    "- $\\sigma_{X}^{2}$ è la varianza totale dei punteggi del test."
   ]
  },
  {
   "cell_type": "markdown",
   "id": "3e6d31fb",
   "metadata": {},
   "source": [
    "**Esempio.** Per fare un esempio, consideriamo il data-set `LSAT` contenuto nel pacchetto `ltm`."
   ]
  },
  {
   "cell_type": "code",
   "execution_count": 38,
   "id": "b56b3585",
   "metadata": {
    "vscode": {
     "languageId": "r"
    }
   },
   "outputs": [],
   "source": [
    "KR20 <- function(responses) {\n",
    "    # Get number of items (N) and individuals\n",
    "    n.items <- ncol(responses)\n",
    "    n.persons <- nrow(responses)\n",
    "    # get p_j for each item\n",
    "    p <- colMeans(responses)\n",
    "    # Get total scores (X)\n",
    "    x <- rowSums(responses)\n",
    "    # observed score variance\n",
    "    var.x <- var(x) * (n.persons - 1) / n.persons\n",
    "    # Apply KR-20 formula\n",
    "    rel <- (n.items / (n.items - 1)) * (1 - sum(p * (1 - p)) / var.x)\n",
    "    return(rel)\n",
    "}"
   ]
  },
  {
   "cell_type": "code",
   "execution_count": 42,
   "id": "0a3b7970",
   "metadata": {
    "vscode": {
     "languageId": "r"
    }
   },
   "outputs": [
    {
     "data": {
      "text/html": [
       "<table class=\"dataframe\">\n",
       "<caption>A data.frame: 6 × 5</caption>\n",
       "<thead>\n",
       "\t<tr><th></th><th scope=col>Item 1</th><th scope=col>Item 2</th><th scope=col>Item 3</th><th scope=col>Item 4</th><th scope=col>Item 5</th></tr>\n",
       "\t<tr><th></th><th scope=col>&lt;int&gt;</th><th scope=col>&lt;int&gt;</th><th scope=col>&lt;int&gt;</th><th scope=col>&lt;int&gt;</th><th scope=col>&lt;int&gt;</th></tr>\n",
       "</thead>\n",
       "<tbody>\n",
       "\t<tr><th scope=row>1</th><td>0</td><td>0</td><td>0</td><td>0</td><td>0</td></tr>\n",
       "\t<tr><th scope=row>2</th><td>0</td><td>0</td><td>0</td><td>0</td><td>0</td></tr>\n",
       "\t<tr><th scope=row>3</th><td>0</td><td>0</td><td>0</td><td>0</td><td>0</td></tr>\n",
       "\t<tr><th scope=row>4</th><td>0</td><td>0</td><td>0</td><td>0</td><td>1</td></tr>\n",
       "\t<tr><th scope=row>5</th><td>0</td><td>0</td><td>0</td><td>0</td><td>1</td></tr>\n",
       "\t<tr><th scope=row>6</th><td>0</td><td>0</td><td>0</td><td>0</td><td>1</td></tr>\n",
       "</tbody>\n",
       "</table>\n"
      ],
      "text/latex": [
       "A data.frame: 6 × 5\n",
       "\\begin{tabular}{r|lllll}\n",
       "  & Item 1 & Item 2 & Item 3 & Item 4 & Item 5\\\\\n",
       "  & <int> & <int> & <int> & <int> & <int>\\\\\n",
       "\\hline\n",
       "\t1 & 0 & 0 & 0 & 0 & 0\\\\\n",
       "\t2 & 0 & 0 & 0 & 0 & 0\\\\\n",
       "\t3 & 0 & 0 & 0 & 0 & 0\\\\\n",
       "\t4 & 0 & 0 & 0 & 0 & 1\\\\\n",
       "\t5 & 0 & 0 & 0 & 0 & 1\\\\\n",
       "\t6 & 0 & 0 & 0 & 0 & 1\\\\\n",
       "\\end{tabular}\n"
      ],
      "text/markdown": [
       "\n",
       "A data.frame: 6 × 5\n",
       "\n",
       "| <!--/--> | Item 1 &lt;int&gt; | Item 2 &lt;int&gt; | Item 3 &lt;int&gt; | Item 4 &lt;int&gt; | Item 5 &lt;int&gt; |\n",
       "|---|---|---|---|---|---|\n",
       "| 1 | 0 | 0 | 0 | 0 | 0 |\n",
       "| 2 | 0 | 0 | 0 | 0 | 0 |\n",
       "| 3 | 0 | 0 | 0 | 0 | 0 |\n",
       "| 4 | 0 | 0 | 0 | 0 | 1 |\n",
       "| 5 | 0 | 0 | 0 | 0 | 1 |\n",
       "| 6 | 0 | 0 | 0 | 0 | 1 |\n",
       "\n"
      ],
      "text/plain": [
       "  Item 1 Item 2 Item 3 Item 4 Item 5\n",
       "1 0      0      0      0      0     \n",
       "2 0      0      0      0      0     \n",
       "3 0      0      0      0      0     \n",
       "4 0      0      0      0      1     \n",
       "5 0      0      0      0      1     \n",
       "6 0      0      0      0      1     "
      ]
     },
     "metadata": {},
     "output_type": "display_data"
    }
   ],
   "source": [
    "data(LSAT)\n",
    "head(LSAT)"
   ]
  },
  {
   "cell_type": "code",
   "execution_count": 43,
   "id": "16cea030",
   "metadata": {
    "vscode": {
     "languageId": "r"
    }
   },
   "outputs": [
    {
     "data": {
      "text/html": [
       "0.294997192215944"
      ],
      "text/latex": [
       "0.294997192215944"
      ],
      "text/markdown": [
       "0.294997192215944"
      ],
      "text/plain": [
       "[1] 0.2949972"
      ]
     },
     "metadata": {},
     "output_type": "display_data"
    }
   ],
   "source": [
    "KR20(LSAT)"
   ]
  },
  {
   "cell_type": "markdown",
   "id": "4e206fe9",
   "metadata": {},
   "source": [
    "#### Coefficiente KR-21\n",
    "\n",
    "Il coefficiente Coefficiente KR-21 si calcola con la formula:\n",
    "\n",
    "$$\n",
    "KR\\_21 = \\frac{{k}}{{k-1}} \\left( 1 - \\frac{{\\frac{{\\sum_{i=1}^{k} p_{i}(1-p_{i})}}{{\\sigma_{X}^{2}}}}}{{1 - \\frac{{\\sum_{i=1}^{k} p_{i}}}{k}}} \\right) \n",
    "$$\n",
    "\n",
    "dove:\n",
    "- $k$ è il numero di item nel test,\n",
    "- $p_{i}$ è la proporzione di individui che rispondono correttamente all'item \\(i\\),\n",
    "- $\\sigma_{X}^{2}$ è la varianza totale dei punteggi del test."
   ]
  },
  {
   "cell_type": "markdown",
   "id": "a391d4ff",
   "metadata": {},
   "source": [
    "### La formula \"profetica\" di Spearman-Brown \n",
    "\n",
    "L'indice di Spearman-Brown stima l'attendibilità nel caso di $p$ indicatori paralleli:\n",
    "\n",
    "$$\n",
    "\\begin{equation}\n",
    "  \\rho_p = \\frac{p \\rho_1}{(p-1)\\rho_1 + 1},\n",
    "\\end{equation}\n",
    "$$ (eq-spearman-brown-der)\n",
    "\n",
    "dove $\\rho_1$ rappresenta l'attendibilità di un singolo elemento.\n",
    "\n",
    "Una derivazione della formula Spearman-Brown è fornita nel capitolo {ref}`reliability-fa-notebook`.\n",
    "\n",
    "L'equazione {eq}`eq-spearman-brown-der` esprime l'attendibilità $\\rho_p$ di un test composto da $p$ elementi paralleli in termini dell'attendibilità di un singolo elemento. Questa equazione è universalmente riconosciuta come la formula \"profetica\" di Spearman-Brown (*Spearman-Brown prophecy formula*).\n",
    "\n",
    "Per fare un esempio concreto, poniamoci il problema di calcolare l'attendibilità della sottoscala Openness utilizzando la formula di Spearman-Brown. Ipotizziamo dunque che gli item della scala Openness siano paralleli. La matrice di correlazione è:"
   ]
  },
  {
   "cell_type": "code",
   "execution_count": 11,
   "id": "b4d182e6",
   "metadata": {
    "vscode": {
     "languageId": "r"
    }
   },
   "outputs": [
    {
     "data": {
      "text/html": [
       "<table class=\"dataframe\">\n",
       "<caption>A matrix: 5 × 5 of type dbl</caption>\n",
       "<thead>\n",
       "\t<tr><th></th><th scope=col>O1</th><th scope=col>O2r</th><th scope=col>O3</th><th scope=col>O4</th><th scope=col>O5r</th></tr>\n",
       "</thead>\n",
       "<tbody>\n",
       "\t<tr><th scope=row>O1</th><td>1.00</td><td>0.21</td><td>0.40</td><td>0.18</td><td>0.24</td></tr>\n",
       "\t<tr><th scope=row>O2r</th><td>0.21</td><td>1.00</td><td>0.26</td><td>0.07</td><td>0.32</td></tr>\n",
       "\t<tr><th scope=row>O3</th><td>0.40</td><td>0.26</td><td>1.00</td><td>0.19</td><td>0.31</td></tr>\n",
       "\t<tr><th scope=row>O4</th><td>0.18</td><td>0.07</td><td>0.19</td><td>1.00</td><td>0.18</td></tr>\n",
       "\t<tr><th scope=row>O5r</th><td>0.24</td><td>0.32</td><td>0.31</td><td>0.18</td><td>1.00</td></tr>\n",
       "</tbody>\n",
       "</table>\n"
      ],
      "text/latex": [
       "A matrix: 5 × 5 of type dbl\n",
       "\\begin{tabular}{r|lllll}\n",
       "  & O1 & O2r & O3 & O4 & O5r\\\\\n",
       "\\hline\n",
       "\tO1 & 1.00 & 0.21 & 0.40 & 0.18 & 0.24\\\\\n",
       "\tO2r & 0.21 & 1.00 & 0.26 & 0.07 & 0.32\\\\\n",
       "\tO3 & 0.40 & 0.26 & 1.00 & 0.19 & 0.31\\\\\n",
       "\tO4 & 0.18 & 0.07 & 0.19 & 1.00 & 0.18\\\\\n",
       "\tO5r & 0.24 & 0.32 & 0.31 & 0.18 & 1.00\\\\\n",
       "\\end{tabular}\n"
      ],
      "text/markdown": [
       "\n",
       "A matrix: 5 × 5 of type dbl\n",
       "\n",
       "| <!--/--> | O1 | O2r | O3 | O4 | O5r |\n",
       "|---|---|---|---|---|---|\n",
       "| O1 | 1.00 | 0.21 | 0.40 | 0.18 | 0.24 |\n",
       "| O2r | 0.21 | 1.00 | 0.26 | 0.07 | 0.32 |\n",
       "| O3 | 0.40 | 0.26 | 1.00 | 0.19 | 0.31 |\n",
       "| O4 | 0.18 | 0.07 | 0.19 | 1.00 | 0.18 |\n",
       "| O5r | 0.24 | 0.32 | 0.31 | 0.18 | 1.00 |\n",
       "\n"
      ],
      "text/plain": [
       "    O1   O2r  O3   O4   O5r \n",
       "O1  1.00 0.21 0.40 0.18 0.24\n",
       "O2r 0.21 1.00 0.26 0.07 0.32\n",
       "O3  0.40 0.26 1.00 0.19 0.31\n",
       "O4  0.18 0.07 0.19 1.00 0.18\n",
       "O5r 0.24 0.32 0.31 0.18 1.00"
      ]
     },
     "metadata": {},
     "output_type": "display_data"
    }
   ],
   "source": [
    "R <- cor(bfi[c(\"O1\", \"O2r\", \"O3\", \"O4\", \"O5r\")], use = \"pairwise.complete.obs\")\n",
    "R |> round(2)"
   ]
  },
  {
   "cell_type": "markdown",
   "id": "03fa92ee",
   "metadata": {},
   "source": [
    "Supponiamo di calcolare l'attendibilità di un singolo item ($\\rho_1$) come la correlazione media tra gli item:"
   ]
  },
  {
   "cell_type": "code",
   "execution_count": 12,
   "id": "d52b4a51",
   "metadata": {
    "vscode": {
     "languageId": "r"
    }
   },
   "outputs": [
    {
     "data": {
      "text/html": [
       "0.236538319550859"
      ],
      "text/latex": [
       "0.236538319550859"
      ],
      "text/markdown": [
       "0.236538319550859"
      ],
      "text/plain": [
       "[1] 0.2365383"
      ]
     },
     "metadata": {},
     "output_type": "display_data"
    }
   ],
   "source": [
    "rr <- NULL\n",
    "p <- 5\n",
    "k <- 1\n",
    "for (i in 1:p) {\n",
    "    for (j in 1:p) {\n",
    "        if (j != i) {\n",
    "            rr[k] <- R[i, j]\n",
    "        }\n",
    "        k <- k + 1\n",
    "    }\n",
    "}\n",
    "ro_1 <- mean(rr, na.rm = TRUE)\n",
    "ro_1"
   ]
  },
  {
   "cell_type": "markdown",
   "id": "ddfcea0d",
   "metadata": {},
   "source": [
    "Applicando la formula di Spearman-Brown, la stima dell'attendibilità del\n",
    "test diventa pari a"
   ]
  },
  {
   "cell_type": "code",
   "execution_count": 13,
   "id": "61be1526",
   "metadata": {
    "vscode": {
     "languageId": "r"
    }
   },
   "outputs": [
    {
     "data": {
      "text/html": [
       "0.60770732243972"
      ],
      "text/latex": [
       "0.60770732243972"
      ],
      "text/markdown": [
       "0.60770732243972"
      ],
      "text/plain": [
       "[1] 0.6077073"
      ]
     },
     "metadata": {},
     "output_type": "display_data"
    }
   ],
   "source": [
    "(p * ro_1) / ((p - 1) * ro_1 + 1)"
   ]
  },
  {
   "attachments": {},
   "cell_type": "markdown",
   "id": "9c88acc2",
   "metadata": {},
   "source": [
    "## Forme parallele del test\n",
    "\n",
    "In alcune situazioni, è possibile avere a disposizione diverse versioni di un test che sono progettate per essere interscambiabili, in modo tale che la specifica versione del test non influenzi i punteggi ottenuti dai partecipanti. Queste forme alternative del test sono comuni soprattutto nel campo dell'educazione, dove spesso vengono preparate diverse versioni al fine di prevenire frodi o imbrogli. Inoltre, anche i ricercatori possono adottare forme alternative in studi che coinvolgono pre-test e post-test, al fine di evitare che i partecipanti beneficiino degli effetti di pratica o memoria. Tuttavia, è di fondamentale importanza determinare se i punteggi ottenuti da queste diverse versioni sono coerenti, poiché la mancanza di equivalenza tra le forme potrebbe condurre a conclusioni errate riguardo alle variazioni dei punteggi.\n",
    "\n",
    "Le principali fonti di errore di misurazione per le forme alternative di test cognitivi derivano dalle differenze nei contenuti, nella difficoltà e nella complessità cognitiva degli item. Per quanto riguarda i test non-cognitivi, le differenze nei contenuti e nell'intensità degli item sono motivo di attenzione. Gli sviluppatori di forme alternative adottano diverse procedure al fine di garantire l'equivalenza tra le varie versioni, basandosi sulla stessa tabella di specifiche che stabilisce la proporzione di item per i diversi domini di contenuto e i livelli cognitivi o non-cognitivi. Inoltre, vengono appaiati gli item in base alla loro difficoltà e alla loro capacità discriminante.\n",
    "\n",
    "I coefficienti di equivalenza, noti anche come affidabilità delle forme alternative, valutano la similitudine tra due o più versioni di un test. Per calcolare questi coefficienti, le diverse forme vengono somministrate agli stessi partecipanti e i punteggi ottenuti vengono correlati. Tuttavia, vi sono alcune considerazioni legate alla somministrazione dei test e alla possibile fatica dei partecipanti. Al fine di affrontare tali problematiche, possono essere adottate strategie come il bilanciamento dell'ordine di somministrazione e l'introduzione di un breve intervallo di tempo tra le diverse versioni. Inoltre, è importante considerare gli effetti della pratica o della memoria, i quali potrebbero influenzare i punteggi ottenuti nel secondo test somministrato. L'impiego del bilanciamento tra gruppi può contribuire a controllare tali effetti.\n",
    "\n",
    "## Attendibilità test-retest\n",
    "\n",
    "Infine, esaminiamo il concetto di \"affidabilità test-retest\", che si riferisce alla coerenza o stabilità dei punteggi di un test in diverse occasioni nel corso del tempo. Questo tipo di affidabilità riveste una particolare importanza nelle situazioni in cui i punteggi vengono ottenuti in momenti diversi e confrontati, come nel caso di test effettuati prima e dopo un intervento. Inoltre, è di rilievo quando i punteggi del test vengono utilizzati per prendere decisioni diagnostiche, di selezione o di collocazione. Tuttavia, è importante sottolineare che l'affidabilità test-retest non è adatta per valutare costrutti che non sono noti per la loro stabilità nel tempo. Ciò deriva dal fatto che l'analisi della stabilità di un test potrebbe essere influenzata da effettivi cambiamenti nei livelli veri del costrutto tra i partecipanti. Di conseguenza, è essenziale che i ricercatori siano consapevoli in anticipo della stabilità del costrutto che intendono misurare. È importante notare che molti costrutti di interesse nelle scienze sociali sono generalmente considerati stabili nel tempo, come ad esempio la creatività, l'abilità cognitiva e alcune caratteristiche della personalità.\n",
    "\n",
    "## Conclusioni\n",
    "\n",
    "In conclusione, la valutazione dell'affidabilità di un test richiede l'impiego di diversi coefficienti che tengono conto delle varie fonti di errore. I coefficienti di consistenza interna si concentrano sull'errore derivante dalle fluttuazioni delle risposte tra gli item, mentre quelli di equivalenza esaminano la coerenza dei punteggi tra diverse versioni del test. I coefficienti di stabilità misurano la coerenza dei punteggi nel corso del tempo. È di fondamentale importanza selezionare il tipo di affidabilità appropriato in base allo scopo del test, al fine di ottenere informazioni affidabili e utili per le decisioni basate sui punteggi ottenuti dal test.\n"
   ]
  },
  {
   "attachments": {},
   "cell_type": "markdown",
   "id": "455bbb23",
   "metadata": {},
   "source": [
    "<!-- [^2]: Vedremo in seguito -->\n",
    "<!--     (§ [\\[ch:err_stnd_stima\\]](#ch:err_stnd_stima){reference-type=\"ref\" -->\n",
    "<!--     reference=\"ch:err_stnd_stima\"}) come il livello di abilità latente -->\n",
    "<!--     (il punteggio vero) possa essere stimato con la formula di Kelley -->\n",
    "<!--     (1923), ovvero $$\\begin{aligned} -->\n",
    "<!--     \\hat{T}_i &= \\rho_{XT} x_i + (1 - \\rho_{XT})\\mu_x\\notag\\\\ -->\n",
    "<!--     &= \\mu_x + \\rho_{XT} (x_i - \\mu_x),\\notag\\end{aligned}$$ dove -->\n",
    "<!--     $\\mu_x$ è la media dei punteggio osservato e $\\hat{T}_i$ è la stima -->\n",
    "<!--     del punteggio vero per l'$i$-esimo rispondente. -->\n",
    "\n",
    "<!-- [^3]:  -->"
   ]
  }
 ],
 "metadata": {
  "jupytext": {
   "cell_metadata_filter": "fig.cap,tags,-all",
   "main_language": "R",
   "notebook_metadata_filter": "-all"
  },
  "kernelspec": {
   "display_name": "R",
   "language": "R",
   "name": "ir"
  },
  "language_info": {
   "codemirror_mode": "r",
   "file_extension": ".r",
   "mimetype": "text/x-r-source",
   "name": "R",
   "pygments_lexer": "r",
   "version": "4.3.1"
  }
 },
 "nbformat": 4,
 "nbformat_minor": 5
}
