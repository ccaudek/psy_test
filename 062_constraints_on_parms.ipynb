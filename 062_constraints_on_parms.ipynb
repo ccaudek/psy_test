{
 "cells": [
  {
   "attachments": {},
   "cell_type": "markdown",
   "id": "ad9e3346",
   "metadata": {},
   "source": [
    "(reliability-fa-notebook)=\n",
    "# Attendibilità e modello fattoriale "
   ]
  },
  {
   "cell_type": "code",
   "execution_count": 1,
   "id": "b3c30e25",
   "metadata": {
    "tags": [
     "remove_cell"
    ],
    "vscode": {
     "languageId": "r"
    }
   },
   "outputs": [],
   "source": [
    "source(\"_common.R\")\n",
    "suppressPackageStartupMessages({\n",
    "    library(\"psych\")\n",
    "    library(\"lavaan\")\n",
    "    library(\"modelsummary\") # for summarizing data\n",
    "})\n",
    "options(repr.plot.width=6, repr.plot.height=6)\n",
    "set.seed(42)"
   ]
  },
  {
   "attachments": {},
   "cell_type": "markdown",
   "id": "aa1a75fa",
   "metadata": {},
   "source": [
    "In questo capitolo verrà affrontato il problema di misurare l'attendibilità di uno strumento usando la tecnica dell'analisi fattoriale. Verranno distinti tre diversi modelli che descrivono le relazioni tra gli indicatori e il fattore comune latente (modello congenerico, tau-equivalente, parallelo) e verranno forniti tre diversi indici per descrivere l'attendibilità quale coerenza interna, a seconda del modello ipotizzato: l'indice omega di McDonald, l'indice alpha di Cronbach e l'indice rho che deriva dalla formula \"profetica\" di Spearman-Brown. Vedremo che l'uso dell'indice alpha di Cronbach è giustificato solo se certe specifiche condizioni sono soddisfatte -- e questo succede piuttosto raramente nei dati empirici. Per questa ragione, in generale, è più opportuno usare l'indice omega di McDonald quale misura di consistenza interna.\n",
    "\n",
    "Un secondo tema importante che verrà affrontato sarà quello dell'uso del punteggio totale del test quale misura del costrutto latente. Questa è una pratica largamente usata, ma solo in parte giustificata. Esamineremo a questo proposito le considerazioni di McNeish e Wolf (2020).\n",
    "\n",
    "## Teoria classica dei test e analisi fattoriale\n",
    "\n",
    "McDonald (2013) mostra come la teoria classica dei test possa essere messa in relazione con il modello dell'analisi fattoriale. La figura descrive nei termini del modello fattoriale la relazione che intercorre tra i punteggi $Y$ ottenuti dalla somministrazione di un test con cinque item e i punteggi veri.\n",
    "\n",
    "\n",
    "```{figure} images/factmod1.png\n",
    "---\n",
    "height: 300px\n",
    "name: lcsm1-fig\n",
    "---\n",
    "**Diagramma di percorso del modello monofattoriale.** \n",
    "```"
   ]
  },
  {
   "attachments": {},
   "cell_type": "markdown",
   "id": "f8181967",
   "metadata": {},
   "source": [
    "Il metodo delle forme parallele proposto dalla teoria classica dei test\n",
    "fornisce una risposta solo in parte soddisfacente al problema della\n",
    "stima del coefficiente di attendibilità. Ricordiamo che il metodo delle\n",
    "forme parallele consiste nel somministrare due questionari $X$ e $X^\\prime$,\n",
    "espressione dello stesso costrutto, nella stessa occasione allo stesso\n",
    "campione di soggetti. In tali circostanze $\\rho^2_{XT} =  \\rho_{XX^\\prime}$.\n",
    "Affinché la relazione definita dall'equazione precedente sia vera, le\n",
    "due forme del test devono essere parallele, nel senso descritto della\n",
    "teoria classica dei test. In pratica, però, è impossibile\n",
    "somministrare lo stesso test due volte agli stessi rispondenti *nelle\n",
    "medesime condizioni*. È dunque necessario basare la stima del\n",
    "coefficiente di attendibilità sui dati acquisiti mediante un'unica\n",
    "somministrazione del test.\n",
    "\n",
    "Vi sono vari metodi per la stima dell'attendibilità nel caso di un'unica\n",
    "somministrazione di un test. Considereremo qui tre metodi che possono\n",
    "essere applicati mediante l'utilizzo dell'analisi fattoriale: l'$\\alpha$\n",
    "di Cronbach, l'$\\omega$ di McDonald e il metodo di Spearman-Brown. Il\n",
    "coefficiente $\\alpha$ è la misura più utilizzata per la stima\n",
    "dell'attendibilità quale coerenza interna, o omogeneità. Vedremo come\n",
    "tale indice costituisca il limite inferiore dell'attendibilità di un\n",
    "test, se alcune assunzioni sono soddisfatte, mentre risulta uno\n",
    "stimatore distorto dell'attendibilità se le assunzioni che descriveremo\n",
    "risultano violate.\n",
    "\n",
    "Per discutere i diversi metodi di stima dell'attendibilità quale\n",
    "coerenza interna è prima necessario distinguere tra tre diverse forme\n",
    "che il modello mono-fattoriale può assumere. Queste tre forme sono\n",
    "quelle del modello con indicatori congenerici, $\\tau$-equivalenti e\n",
    "paralleli.\n",
    "\n",
    "## Modello fattoriale e CTT\n",
    "\n",
    "Sia $X_1, X_2, \\dots, X_p$, con $p>2$, un insieme di item osservati. I\n",
    "punteggi ottenuti su tali item sono costituiti da una componente di\n",
    "punteggio vero e da una componente d'errore: \n",
    "\n",
    "$$\n",
    "\\begin{equation}\n",
    "\\begin{aligned}\n",
    "X_1 &=T_1+E_1,\\notag\\\\ \n",
    "X_2 &=T_2+E_2,\\notag\\\\ \n",
    "&\\dots\\notag\\\\ \n",
    "X_p &=T_p+E_p.\\notag\n",
    "\\end{aligned}\n",
    "\\end{equation}\n",
    "$$\n",
    "\n",
    "Seguendo McDonald (1999), tale scomposizione in una componente vera e in una componente d'errore può essere espressa nei termini dei parametri del modello fattoriale.\n",
    "L'espressione $X_i = T_i + E_i$ può infatti essere riscritta come\n",
    "\n",
    "$$\n",
    "X_i = \\lambda_i \\xi + \\delta_i, \\quad{i=1, \\dots, p},\n",
    "$$ \n",
    "\n",
    "dove $X_i$ denota il punteggio osservato per l'item $i$-esimo, $\\lambda_i$ è il\n",
    "peso fattoriale $i$-esimo, $\\xi$ è il fattore comune e $\\delta_i$ è la\n",
    "componente erratica del punteggio osservato $i$-esimo. Valgono le\n",
    "assunzioni del modello monofattoriale. Ovvero, si assume che $\\xi$ e\n",
    "$\\delta_i$ siano incorrelati per ciascun item $i$-esimo e che $\\delta_i$\n",
    "e $\\delta_k$ siano incorrelati per ciascuna coppia $i \\neq k$.\n",
    "\n",
    "## Classi di modelli\n",
    "\n",
    "Si possono distinguere tre importanti casi del modello mono-fattoriale:\n",
    "\n",
    "- il modello con indicatori congenerici, \n",
    "- il modello con indicatori $\\tau$-equivalenti,\n",
    "- il modello con indicatori paralleli. \n",
    "\n",
    "Il modello con indicatori congenerici rappresenta il caso più generale, mentre gli\n",
    "indicatori $\\tau$-equivalenti e paralleli sono casi particolari, ovvero\n",
    "impongono restrizioni al modello con indicatori congenerici.\n",
    "\n",
    "### Indicatori congenerici\n",
    "\n",
    "Indicatori *congenerici* misurano lo stesso costrutto, ma non\n",
    "necessariamente nella stessa misura. Nel caso di indicatori congenerici,\n",
    "nel modello mono-fattoriale non viene imposto alcun vincolo né sulle\n",
    "saturazioni fattoriali né sulle specificità:\n",
    "\n",
    "$$\n",
    "\\lambda_1\\neq \\lambda_2 \\neq \\dots\\neq \\lambda_p,\n",
    "$$\n",
    "\n",
    "$$\n",
    "\\psi_{11}\\neq \\psi_{22} \\neq \\dots\\neq \\psi_{pp}.\n",
    "$$ \n",
    "\n",
    "Il modello mono-fattoriale con indicatori congenerici è dunque\n",
    "\n",
    "$$\n",
    "\\begin{equation}\n",
    "X_i = \\lambda_i \\xi + \\delta_i.\n",
    "\\end{equation}\n",
    "$$(eq-mod-tau-eq)\n",
    "\n",
    "Dalle assunzioni precedenti possiamo derivare la matrice $\\boldsymbol{\\Sigma}$ riprodotta in base al modello congenerico la quale risulta essere uguale a\n",
    "\n",
    "$$\n",
    "\\boldsymbol{\\Sigma}=\\left[\n",
    "      \\begin{array}{ c c c c }\n",
    "        \\sigma_{11} & \\sigma_{12} & \\dots & \\sigma_{1p}, \\\\\n",
    "        \\sigma_{21} & \\sigma_{22} & \\dots & \\sigma_{2p}. \\\\\n",
    "        \\vdots & \\vdots & & \\vdots\\\\\n",
    "        \\sigma_{p1} & \\sigma_{p2} & \\dots & \\sigma_{pp} \n",
    "      \\end{array} \n",
    "    \\right].\n",
    "$$ \n",
    "    \n",
    "Si noti come tutte le varianze e tutte le covarianze siano tra loro diverse.\n",
    "\n",
    "### Indicatori tau-equivalenti\n",
    "\n",
    "Nel caso di indicatori $\\tau$-equivalenti, si ha che\n",
    "\n",
    "$$\n",
    "\\lambda_1=\\lambda_2=\\dots=\\lambda_p=\\lambda,\n",
    "$$\n",
    "\n",
    "$$\n",
    "\\psi_{11}\\neq \\psi_{22} \\neq \\dots\\neq \\psi_{pp}.\n",
    "$$ \n",
    "\n",
    "Il modello monofattoriale con indicatori $\\tau$-equivalenti diventa dunque\n",
    "\n",
    "$$\n",
    "\\begin{equation}\n",
    "X_i = \\lambda \\xi + \\delta_i, \n",
    "\\end{equation}\n",
    "$$(eq-mod-tau-eq)\n",
    "\n",
    "ovvero \n",
    "\n",
    "$$\n",
    "\\begin{equation}\n",
    "X_i = \\tau + \\delta_i,\n",
    "\\end{equation}\n",
    "$$(eq-mod-tau-eq-b)\n",
    "\n",
    "dove $\\tau=\\lambda \\xi$ è l'attributo comune scalato nell'unità di misura dell'indicatore. Secondo il modello {eq}`eq-mod-tau-eq`, tutte le $p(p-1)$ covarianze tra gli item\n",
    "del test devono essere uguali, ovvero\n",
    "\n",
    "$$\n",
    "\\begin{equation}\n",
    "\\sigma_{ik} = \\lambda^2=\\sigma^2_T,\n",
    "\\end{equation}\n",
    "$$(eq-cov-tau-eq)\n",
    "\n",
    "per $i\\neq k$. Gli elementi sulla diagonale principale della matrice di varianze e covarianze saranno invece\n",
    "\n",
    "$$\n",
    "\\begin{equation}\n",
    "\\sigma_{ii} = \\lambda^2 + \\psi_{ii} =\\sigma^2_T + \\psi_{ii}.\n",
    "\\end{equation}\n",
    "$$(eq-var-tau)\n",
    "\n",
    "La matrice $\\boldsymbol{\\Sigma}$ riprodotta in base al modello $\\tau$-equivalente è dunque uguale a\n",
    "\n",
    "$$\n",
    "\\begin{equation}\n",
    "\\boldsymbol{\\Sigma}=\\left[\n",
    "      \\begin{array}{ c c c c }\n",
    "        \\sigma_{T}^2 + \\psi_{11} & \\sigma_{T}^2 & \\dots & \\sigma_{T}^2 \\\\\n",
    "        \\sigma_{T}^2 & \\sigma_{T}^2 + \\psi_{22} & \\dots & \\sigma_{T}^2 \\\\\n",
    "        \\vdots & \\vdots & & \\vdots\\\\\n",
    "        \\sigma_{T}^2 & \\sigma_{T}^2 & \\dots & \\sigma_{T}^2 + \\psi_{pp} \n",
    "      \\end{array} \n",
    "    \\right].\n",
    "\\end{equation}\n",
    "$$(eq-sigma-tau-eq)\n",
    "    \n",
    "Tutte le covarianze sono uguali, mentre le varianze sono tra loro diverse.\n",
    "\n",
    "### Indicatori paralleli\n",
    "\n",
    "Nel caso di indicatori paralleli si ha che\n",
    "\n",
    "$$\n",
    "\\lambda_1=\\lambda_2=\\dots=\\lambda_p=\\lambda,\n",
    "$$\n",
    "\n",
    "$$\n",
    "\\psi_{11}=\\psi_{22}=\\dots=\\psi_{pp}=\\psi.\n",
    "$$ \n",
    "\n",
    "Il modello costituito da indicatori paralleli impone dunque un'ulteriore restrizione che riguarda le varianze degli item, ovvero:\n",
    "\n",
    "$$\n",
    "\\sigma_{ii} = \\lambda^2 + \\psi =\\sigma^2_T + \\sigma^2.\n",
    "$$ \n",
    "\n",
    "La struttura di varianze e covarianze imposta dal modello per indicatori paralleli è\n",
    "dunque tale da richiedere l'uguaglianza tra tutte le covarianze tra gli\n",
    "item e l'uguaglianza tra tutte le varianze degli item. La matrice\n",
    "$\\boldsymbol{\\Sigma}$ riprodotta in base al modello con indicatori\n",
    "paralleli è dunque uguale a \n",
    "\n",
    "$$\n",
    "\\boldsymbol{\\Sigma}=\\left[\n",
    "      \\begin{array}{ c c c c }\n",
    "        \\sigma_{T}^2 + \\sigma^2 & \\sigma_{T}^2 & \\dots & \\sigma_{T}^2 \\\\\n",
    "        \\sigma_{T}^2 & \\sigma_{T}^2 + \\sigma^2 & \\dots & \\sigma_{T}^2 \\\\\n",
    "        \\vdots & \\vdots & & \\vdots\\\\\n",
    "        \\sigma_{T}^2 & \\sigma_{T}^2 & \\dots & \\sigma_{T}^2 +\\sigma^2 \\notag\n",
    "      \\end{array} \n",
    "    \\right].\n",
    "$$\n",
    "\n",
    "### Indicatori strettamente paralleli\n",
    "\n",
    "L'aggiunta di un ulteriore vincolo a quelli definiti dal modello\n",
    "costituito da indicatori paralleli, ovvero quello dell'eguaglianza delle\n",
    "medie, definisce gli indicatori detti *strettamente paralleli*\n",
    "(McDonald, 1999).\n",
    "\n",
    "## Metodo dei minimi quadrati non pesati\n",
    "\n",
    "Nel modello uni-fattoriale, la varianza di ciascun indicatore viene\n",
    "scomposta nella somma di due componenti: la componente $\\sigma^2_T$\n",
    "dovuta all'effetto del fattore latente comune e la componente $\\psi$\n",
    "dovuta all'effetto del fattore specifico. McDonald (2013) illustra come\n",
    "sia possibile stimare tali componenti dai dati osservati. Tali stime\n",
    "vengono poi utilizzate per calcolare la coerenza interna del test\n",
    "tramite le formule degli indici $\\alpha$ di Cronbach e $\\omega$ di\n",
    "McDonald.\n",
    "\n",
    "In precedenza abbiamo visto come la varianza del punteggio vero sia\n",
    "uguale alla covarianza tra due forme parallele dello stesso test:\n",
    "$\\sigma^2_T = \\sigma_{XX^\\prime}$. Se gli indicatori sono $\\tau$-equivalenti,\n",
    "la matrice la matrice $\\boldsymbol{\\Sigma}$ riprodotta dal modello è\n",
    "uguale a\n",
    "\n",
    "$$\n",
    "\\boldsymbol{\\Sigma}=\\left[\n",
    "      \\begin{array}{ c c c c }\n",
    "        \\sigma_{T}^2 + \\psi_{11} & \\sigma_{T}^2 & \\dots & \\sigma_{T}^2 \\\\\n",
    "        \\sigma_{T}^2 & \\sigma_{T}^2 + \\psi_{22} & \\dots & \\sigma_{T}^2 \\\\\n",
    "        \\vdots & \\vdots & & \\vdots\\\\\n",
    "        \\sigma_{T}^2 & \\sigma_{T}^2 & \\dots & \\sigma_{T}^2 + \\psi_{pp} \\notag\n",
    "      \\end{array}\n",
    "    \\right],\n",
    "$$\n",
    "\n",
    "ovvero, tutte le covarianze sono tra loro uguali. Nel\n",
    "caso di indicatori $\\tau$-equivalenti, dunque, una stima\n",
    "$\\hat{\\sigma}^2_T$ di $\\sigma^2_T$ è data dalla media delle covarianze\n",
    "della matrice **S**:\n",
    "\n",
    "$$\n",
    "\\begin{equation}\n",
    "\\hat{\\sigma}_T^2 = \\frac{1}{p(p-1)} {\\sum \\sum}_{i \\neq k} s_{ik}.\n",
    "\\end{equation}\n",
    "$$(eq-sigma-t)\n",
    "\n",
    "Tale medoto di stima di $\\sigma^2_T$ viene chiamato \"metodo dei minimi quadrati non pesati\" (McDonald, 2013).\n",
    "\n",
    "Inoltre, nel caso di indicatori $\\tau$-equivalenti, la stima di\n",
    "$\\psi_{ii}$ nella {eq}`eq-var-tau` è data da\n",
    "\n",
    "$$\n",
    "\\hat{\\psi}_{ii }= s_{ii} - \\hat{\\sigma}_T^2,\n",
    "$$\n",
    "\n",
    "per ciascun item.\n",
    "\n",
    "Nel caso di *indicatori paralleli*, la stima di $\\sigma^2_T$ è ancora\n",
    "data dalla {eq}`eq-sigma-t`, ovvero dalla media delle covarianze della\n",
    "matrice $\\boldsymbol{\\Sigma}$. La stima del valore costante $\\psi$ è\n",
    "invece data da\n",
    "\n",
    "$$\n",
    "\\begin{equation}\n",
    "\\hat{\\psi} = \\frac{1}{p} \\sum_i (s_{ii} - \\hat{\\sigma}_T^2)\n",
    "\\end{equation}\n",
    "$$(eq-psi-par-st)\n",
    "\n",
    "## Varianza del punteggio totale di un test\n",
    "\n",
    "Il punteggio totale $Y$ di un test omogeneo rappresenta la somma dei punteggi $X_i$ relativi ai $p$ item che compongono il test: $Y = \\sum_{i=1}^p X_i$. Vogliamo descrivere la varianza del punteggio totale del test utilizzando i parametri del modello uni-fattoriale.\n",
    "\n",
    "Nel caso di un modello congenerico con un unico fattore comune, il punteggio dell'item $i$-esimo può essere espresso come\n",
    "\n",
    "$$\n",
    "X_i = \\lambda_i \\xi + \\delta_i,\n",
    "$$\n",
    "\n",
    "che corrisponde all'equazione $X_i = T_i + E_i$ nella teoria classica dei test. Il punteggio totale è dato dalla somma di tutti gli item, cioè $\\sum_i \\left(\\lambda_i \\xi + \\delta_i\\right)$. La varianza del punteggio totale è quindi\n",
    "\n",
    "$$\n",
    "\\begin{equation}\n",
    "\\mathbb{V}(Y) = \\left( \\sum_i \\lambda_i\\right)^2 + \\sum_i \\psi_{ii}.\n",
    "\\end{equation}\n",
    "$$(eq-var-y)\n",
    "\n",
    "In altre parole, la varianza del punteggio totale $Y$ del test può essere decomposta in due componenti: il quadrato della somma delle saturazioni fattoriali, che rappresenta la varianza attribuibile al punteggio vero (cioè la parte di varianza derivante dall'attributo che gli item misurano), e la somma delle varianze specifiche dei $p$ indicatori, che rappresenta la varianza degli errori di misurazione del punteggio totale del test.\n",
    "\n",
    "L'eq. {eq}`eq-var-y` può essere facilmente dimostrata per un modello congenerico. Infatti, la varianza del punteggio totale $Y$ è uguale a $\\mathbb{V}\\left[ \\sum_i \\left(\\lambda_i \\xi + \\delta_i\\right) \\right]$. Espandendo otteniamo\n",
    "\n",
    "$$\n",
    "\\begin{equation}\n",
    "\\begin{aligned}\n",
    "  \\mathbb{V}(Y) &= \\mathbb{V}\\left[ \\sum_i  \\left(\\lambda_i \\xi + \\delta_i\\right)  \\right]\\notag\\\\\n",
    "  &= \\mathbb{V}\\left[  (\\lambda_1 \\xi + \\delta_1) + (\\lambda_2 \\xi + \\delta_2) + \\dots +  (\\lambda_p \\xi + \\delta_p)  \\right]\\notag\\\\\n",
    "  &= \\mathbb{V}\\left[ \\left( \\sum_i \\lambda_i\\right) \\xi + \\sum_i \\delta_i\\right]\\notag\\\\\n",
    "  &=  \\left(\\sum_i \\lambda_i\\right)^2 \\underbrace{\\mathbb{V}(\\xi)}_{=1} +  \\sum_i  \\mathbb{V}(\\delta_i)\\notag\\\\\n",
    "  &= \\left(\\sum_i \\lambda_i\\right)^2 + \\sum_i \\psi_{ii}.\\notag\n",
    "\\end{aligned}\n",
    "\\end{equation}\n",
    "$$\n",
    "\n",
    "\n",
    "## Stima dell'attendibilità\n",
    "\n",
    "### Coefficiente omega\n",
    "\n",
    "Avendo scomposto la varianza del punteggio totale di un test come\n",
    "indicato nella {eq}`eq-var-y`\n",
    "\n",
    "$$\n",
    "\\mathbb{V}(Y) = \\left( \\sum_i \\lambda_i\\right)^2 + \\sum_i \\psi_{ii}.\n",
    "$$\n",
    "\n",
    "McDonald (1999) definisce il coefficiente di attendibilità $\\omega$ come\n",
    "il rapporto tra la varianza \"vera\" (attribuibile all'attributo comune) e\n",
    "la varianza totale. Nei termini dei parametri del modello\n",
    "uni-fattoriale, il coefficiente $\\omega$ diventa:\n",
    "\n",
    "$$\n",
    "\\begin{equation}\n",
    "\\begin{aligned}\n",
    "\\omega &= \\frac{\\left( \\sum_{i=1}^p \\lambda_i \\right)^2}{\\sigma_Y^2} \\notag\\\\\n",
    "&= \\frac{\\left( \\sum_{i=1}^p \\lambda_i \\right)^2}{\\left( \\sum_{i=1}^p \\lambda_i \\right)^2  + \\sum_{i=1}^p \\psi_{ii}}\n",
    "\\end{aligned}\n",
    "\\end{equation}\n",
    "$$(eq-omega)\n",
    "\n",
    "Il coefficiente $\\omega$ consente dunque di stimare il coefficiente di attendibilità nei termini dei parametri del modello fattoriale congenerico, utilizzando i dati ottenuti in\n",
    "un'unica somministrazione del test.\n",
    "\n",
    "#### Un esempio concreto\n",
    "\n",
    "Per illustrare la procedura di calcolo del coefficiente $\\omega$, useremo i dati `bfi` contenuti nel pacchetto `psych`. Il dataframe `bfi` comprende 25 item di autovalutazione della personalità. Sono riportati i dati di 2800 soggetti. Ci concentreremo qui sulla sottoscala *Openness*. \n",
    "- O1: *Am full of ideas*; \n",
    "- O2: *Avoid difficult reading material*; \n",
    "- O3: *Carry the conversation to a higher level*; \n",
    "- O4: *Spend time reflecting on things*; \n",
    "- O5: *Will not probe deeply into a subject*. \n",
    "\n",
    "Leggiamo i dati in R."
   ]
  },
  {
   "cell_type": "code",
   "execution_count": 2,
   "id": "d3363486",
   "metadata": {
    "vscode": {
     "languageId": "r"
    }
   },
   "outputs": [
    {
     "data": {
      "text/html": [
       "<table class=\"dataframe\">\n",
       "<caption>A data.frame: 6 × 5</caption>\n",
       "<thead>\n",
       "\t<tr><th></th><th scope=col>O1</th><th scope=col>O2</th><th scope=col>O3</th><th scope=col>O4</th><th scope=col>O5</th></tr>\n",
       "\t<tr><th></th><th scope=col>&lt;int&gt;</th><th scope=col>&lt;int&gt;</th><th scope=col>&lt;int&gt;</th><th scope=col>&lt;int&gt;</th><th scope=col>&lt;int&gt;</th></tr>\n",
       "</thead>\n",
       "<tbody>\n",
       "\t<tr><th scope=row>61617</th><td>3</td><td>6</td><td>3</td><td>4</td><td>3</td></tr>\n",
       "\t<tr><th scope=row>61618</th><td>4</td><td>2</td><td>4</td><td>3</td><td>3</td></tr>\n",
       "\t<tr><th scope=row>61620</th><td>4</td><td>2</td><td>5</td><td>5</td><td>2</td></tr>\n",
       "\t<tr><th scope=row>61621</th><td>3</td><td>3</td><td>4</td><td>3</td><td>5</td></tr>\n",
       "\t<tr><th scope=row>61622</th><td>3</td><td>3</td><td>4</td><td>3</td><td>3</td></tr>\n",
       "\t<tr><th scope=row>61623</th><td>4</td><td>3</td><td>5</td><td>6</td><td>1</td></tr>\n",
       "</tbody>\n",
       "</table>\n"
      ],
      "text/latex": [
       "A data.frame: 6 × 5\n",
       "\\begin{tabular}{r|lllll}\n",
       "  & O1 & O2 & O3 & O4 & O5\\\\\n",
       "  & <int> & <int> & <int> & <int> & <int>\\\\\n",
       "\\hline\n",
       "\t61617 & 3 & 6 & 3 & 4 & 3\\\\\n",
       "\t61618 & 4 & 2 & 4 & 3 & 3\\\\\n",
       "\t61620 & 4 & 2 & 5 & 5 & 2\\\\\n",
       "\t61621 & 3 & 3 & 4 & 3 & 5\\\\\n",
       "\t61622 & 3 & 3 & 4 & 3 & 3\\\\\n",
       "\t61623 & 4 & 3 & 5 & 6 & 1\\\\\n",
       "\\end{tabular}\n"
      ],
      "text/markdown": [
       "\n",
       "A data.frame: 6 × 5\n",
       "\n",
       "| <!--/--> | O1 &lt;int&gt; | O2 &lt;int&gt; | O3 &lt;int&gt; | O4 &lt;int&gt; | O5 &lt;int&gt; |\n",
       "|---|---|---|---|---|---|\n",
       "| 61617 | 3 | 6 | 3 | 4 | 3 |\n",
       "| 61618 | 4 | 2 | 4 | 3 | 3 |\n",
       "| 61620 | 4 | 2 | 5 | 5 | 2 |\n",
       "| 61621 | 3 | 3 | 4 | 3 | 5 |\n",
       "| 61622 | 3 | 3 | 4 | 3 | 3 |\n",
       "| 61623 | 4 | 3 | 5 | 6 | 1 |\n",
       "\n"
      ],
      "text/plain": [
       "      O1 O2 O3 O4 O5\n",
       "61617 3  6  3  4  3 \n",
       "61618 4  2  4  3  3 \n",
       "61620 4  2  5  5  2 \n",
       "61621 3  3  4  3  5 \n",
       "61622 3  3  4  3  3 \n",
       "61623 4  3  5  6  1 "
      ]
     },
     "metadata": {},
     "output_type": "display_data"
    }
   ],
   "source": [
    "data(bfi, package = \"psych\")\n",
    "head(bfi[c(\"O1\", \"O2\", \"O3\", \"O4\", \"O5\")])"
   ]
  },
  {
   "cell_type": "markdown",
   "id": "a1244ad7",
   "metadata": {},
   "source": [
    "Esaminiamo la correlazione tra gli item della sottoscale Openness."
   ]
  },
  {
   "cell_type": "code",
   "execution_count": 26,
   "id": "07a6b1cc",
   "metadata": {
    "vscode": {
     "languageId": "r"
    }
   },
   "outputs": [
    {
     "data": {
      "text/html": [
       "<table class=\"dataframe\">\n",
       "<caption>A matrix: 5 × 5 of type dbl</caption>\n",
       "<thead>\n",
       "\t<tr><th></th><th scope=col>O1</th><th scope=col>O2</th><th scope=col>O3</th><th scope=col>O4</th><th scope=col>O5</th></tr>\n",
       "</thead>\n",
       "<tbody>\n",
       "\t<tr><th scope=row>O1</th><td> 1.00</td><td>-0.21</td><td> 0.40</td><td> 0.18</td><td>-0.24</td></tr>\n",
       "\t<tr><th scope=row>O2</th><td>-0.21</td><td> 1.00</td><td>-0.26</td><td>-0.07</td><td> 0.32</td></tr>\n",
       "\t<tr><th scope=row>O3</th><td> 0.40</td><td>-0.26</td><td> 1.00</td><td> 0.19</td><td>-0.31</td></tr>\n",
       "\t<tr><th scope=row>O4</th><td> 0.18</td><td>-0.07</td><td> 0.19</td><td> 1.00</td><td>-0.18</td></tr>\n",
       "\t<tr><th scope=row>O5</th><td>-0.24</td><td> 0.32</td><td>-0.31</td><td>-0.18</td><td> 1.00</td></tr>\n",
       "</tbody>\n",
       "</table>\n"
      ],
      "text/latex": [
       "A matrix: 5 × 5 of type dbl\n",
       "\\begin{tabular}{r|lllll}\n",
       "  & O1 & O2 & O3 & O4 & O5\\\\\n",
       "\\hline\n",
       "\tO1 &  1.00 & -0.21 &  0.40 &  0.18 & -0.24\\\\\n",
       "\tO2 & -0.21 &  1.00 & -0.26 & -0.07 &  0.32\\\\\n",
       "\tO3 &  0.40 & -0.26 &  1.00 &  0.19 & -0.31\\\\\n",
       "\tO4 &  0.18 & -0.07 &  0.19 &  1.00 & -0.18\\\\\n",
       "\tO5 & -0.24 &  0.32 & -0.31 & -0.18 &  1.00\\\\\n",
       "\\end{tabular}\n"
      ],
      "text/markdown": [
       "\n",
       "A matrix: 5 × 5 of type dbl\n",
       "\n",
       "| <!--/--> | O1 | O2 | O3 | O4 | O5 |\n",
       "|---|---|---|---|---|---|\n",
       "| O1 |  1.00 | -0.21 |  0.40 |  0.18 | -0.24 |\n",
       "| O2 | -0.21 |  1.00 | -0.26 | -0.07 |  0.32 |\n",
       "| O3 |  0.40 | -0.26 |  1.00 |  0.19 | -0.31 |\n",
       "| O4 |  0.18 | -0.07 |  0.19 |  1.00 | -0.18 |\n",
       "| O5 | -0.24 |  0.32 | -0.31 | -0.18 |  1.00 |\n",
       "\n"
      ],
      "text/plain": [
       "   O1    O2    O3    O4    O5   \n",
       "O1  1.00 -0.21  0.40  0.18 -0.24\n",
       "O2 -0.21  1.00 -0.26 -0.07  0.32\n",
       "O3  0.40 -0.26  1.00  0.19 -0.31\n",
       "O4  0.18 -0.07  0.19  1.00 -0.18\n",
       "O5 -0.24  0.32 -0.31 -0.18  1.00"
      ]
     },
     "metadata": {},
     "output_type": "display_data"
    }
   ],
   "source": [
    "cor(bfi[c(\"O1\", \"O2\", \"O3\", \"O4\", \"O5\")], use = \"pairwise.complete.obs\") |>\n",
    "    round(2)"
   ]
  },
  {
   "cell_type": "markdown",
   "id": "19a1a153",
   "metadata": {},
   "source": [
    "È necessario ricodificare due item."
   ]
  },
  {
   "cell_type": "code",
   "execution_count": 27,
   "id": "4d1240d5",
   "metadata": {
    "vscode": {
     "languageId": "r"
    }
   },
   "outputs": [],
   "source": [
    "bfi$O2r <- 7 - bfi$O2\n",
    "bfi$O5r <- 7 - bfi$O5"
   ]
  },
  {
   "cell_type": "code",
   "execution_count": 28,
   "id": "881fcf4d",
   "metadata": {
    "vscode": {
     "languageId": "r"
    }
   },
   "outputs": [
    {
     "data": {
      "text/html": [
       "<table class=\"dataframe\">\n",
       "<caption>A matrix: 5 × 5 of type dbl</caption>\n",
       "<thead>\n",
       "\t<tr><th></th><th scope=col>O1</th><th scope=col>O2r</th><th scope=col>O3</th><th scope=col>O4</th><th scope=col>O5r</th></tr>\n",
       "</thead>\n",
       "<tbody>\n",
       "\t<tr><th scope=row>O1</th><td>1.00</td><td>0.21</td><td>0.40</td><td>0.18</td><td>0.24</td></tr>\n",
       "\t<tr><th scope=row>O2r</th><td>0.21</td><td>1.00</td><td>0.26</td><td>0.07</td><td>0.32</td></tr>\n",
       "\t<tr><th scope=row>O3</th><td>0.40</td><td>0.26</td><td>1.00</td><td>0.19</td><td>0.31</td></tr>\n",
       "\t<tr><th scope=row>O4</th><td>0.18</td><td>0.07</td><td>0.19</td><td>1.00</td><td>0.18</td></tr>\n",
       "\t<tr><th scope=row>O5r</th><td>0.24</td><td>0.32</td><td>0.31</td><td>0.18</td><td>1.00</td></tr>\n",
       "</tbody>\n",
       "</table>\n"
      ],
      "text/latex": [
       "A matrix: 5 × 5 of type dbl\n",
       "\\begin{tabular}{r|lllll}\n",
       "  & O1 & O2r & O3 & O4 & O5r\\\\\n",
       "\\hline\n",
       "\tO1 & 1.00 & 0.21 & 0.40 & 0.18 & 0.24\\\\\n",
       "\tO2r & 0.21 & 1.00 & 0.26 & 0.07 & 0.32\\\\\n",
       "\tO3 & 0.40 & 0.26 & 1.00 & 0.19 & 0.31\\\\\n",
       "\tO4 & 0.18 & 0.07 & 0.19 & 1.00 & 0.18\\\\\n",
       "\tO5r & 0.24 & 0.32 & 0.31 & 0.18 & 1.00\\\\\n",
       "\\end{tabular}\n"
      ],
      "text/markdown": [
       "\n",
       "A matrix: 5 × 5 of type dbl\n",
       "\n",
       "| <!--/--> | O1 | O2r | O3 | O4 | O5r |\n",
       "|---|---|---|---|---|---|\n",
       "| O1 | 1.00 | 0.21 | 0.40 | 0.18 | 0.24 |\n",
       "| O2r | 0.21 | 1.00 | 0.26 | 0.07 | 0.32 |\n",
       "| O3 | 0.40 | 0.26 | 1.00 | 0.19 | 0.31 |\n",
       "| O4 | 0.18 | 0.07 | 0.19 | 1.00 | 0.18 |\n",
       "| O5r | 0.24 | 0.32 | 0.31 | 0.18 | 1.00 |\n",
       "\n"
      ],
      "text/plain": [
       "    O1   O2r  O3   O4   O5r \n",
       "O1  1.00 0.21 0.40 0.18 0.24\n",
       "O2r 0.21 1.00 0.26 0.07 0.32\n",
       "O3  0.40 0.26 1.00 0.19 0.31\n",
       "O4  0.18 0.07 0.19 1.00 0.18\n",
       "O5r 0.24 0.32 0.31 0.18 1.00"
      ]
     },
     "metadata": {},
     "output_type": "display_data"
    }
   ],
   "source": [
    "cor(bfi[c(\"O1\", \"O2r\", \"O3\", \"O4\", \"O5r\")], use = \"pairwise.complete.obs\") |>\n",
    "    round(2)"
   ]
  },
  {
   "attachments": {},
   "cell_type": "markdown",
   "id": "0ca63bed",
   "metadata": {},
   "source": [
    "Eseguiamo l'analisi fattoriale confermativa con `lavaan`."
   ]
  },
  {
   "cell_type": "code",
   "execution_count": 20,
   "id": "f872f4e5",
   "metadata": {
    "vscode": {
     "languageId": "r"
    }
   },
   "outputs": [],
   "source": [
    "mod <- \"\n",
    "    f =~ NA*O1 + O2r + O3 + O4 + O5r\n",
    "    f ~~ 1*f\n",
    "\"\n",
    "\n",
    "fit <- cfa(mod, data = bfi, std.ov = TRUE, std.lv = TRUE)\n"
   ]
  },
  {
   "attachments": {},
   "cell_type": "markdown",
   "id": "aa396f4b",
   "metadata": {},
   "source": [
    "Estraiamo le saturazioni fattoriali e le specificità dall'oggetto `fit`."
   ]
  },
  {
   "cell_type": "code",
   "execution_count": 29,
   "id": "a9b8abaf",
   "metadata": {
    "vscode": {
     "languageId": "r"
    }
   },
   "outputs": [],
   "source": [
    "lambda <- inspect(fit, what = \"std\")$lambda\n",
    "psy <- diag(inspect(fit, what = \"est\")$theta)"
   ]
  },
  {
   "cell_type": "markdown",
   "id": "b464fe85",
   "metadata": {},
   "source": [
    "Calcoliamo il coefficiente $\\omega$\n",
    "\n",
    "$$\n",
    "\\omega = \\frac{\\left( \\sum_{i=1}^p \\lambda_i \\right)^2}{\\left( \\sum_{i=1}^p \\lambda_i \\right)^2  + \\sum_{i=1}^p \\psi_{ii}}\n",
    "$$\n",
    "\n",
    "usando i parametri del modello fattoriale."
   ]
  },
  {
   "cell_type": "code",
   "execution_count": 30,
   "id": "cc5e23c8",
   "metadata": {
    "vscode": {
     "languageId": "r"
    }
   },
   "outputs": [
    {
     "data": {
      "text/html": [
       "0.618064541281703"
      ],
      "text/latex": [
       "0.618064541281703"
      ],
      "text/markdown": [
       "0.618064541281703"
      ],
      "text/plain": [
       "[1] 0.6180645"
      ]
     },
     "metadata": {},
     "output_type": "display_data"
    }
   ],
   "source": [
    "sum(lambda)^2 / (sum(lambda)^2 + sum(psy))"
   ]
  },
  {
   "cell_type": "markdown",
   "id": "d2d8e27f",
   "metadata": {},
   "source": [
    "Ripetiamo i calcoli usando la funzione `compRelSEM` del pacchetto `semTools`."
   ]
  },
  {
   "cell_type": "code",
   "execution_count": 31,
   "id": "83cd4481",
   "metadata": {
    "vscode": {
     "languageId": "r"
    }
   },
   "outputs": [
    {
     "data": {
      "text/html": [
       "<strong>f:</strong> 0.61811088980665"
      ],
      "text/latex": [
       "\\textbf{f:} 0.61811088980665"
      ],
      "text/markdown": [
       "**f:** 0.61811088980665"
      ],
      "text/plain": [
       "    f \n",
       "0.618 "
      ]
     },
     "metadata": {},
     "output_type": "display_data"
    }
   ],
   "source": [
    "semTools::compRelSEM(fit,  tau.eq = FALSE)"
   ]
  },
  {
   "attachments": {},
   "cell_type": "markdown",
   "id": "1584d5a3",
   "metadata": {},
   "source": [
    "Il coefficiente $\\omega=0.62$ può essere interpretato dicendo che il 62% della varianza del punteggio totale $Y$ della sottoscala Openness viene spiegato dal fattore comune latente.\n",
    "\n",
    "#### Coefficiente $\\omega$ e assunzioni della teoria classica dei test\n",
    "\n",
    "Il calcolo di $\\omega$ è basato sull'assunzione (tipica della teoria\n",
    "classica dei test) che $\\psi_{ik}=0$ per $i\\neq k$. Tale assunzione però\n",
    "potrebbe non essere soddisfatta nel caso di dati empirici. In tal caso,\n",
    "come indicato da Bollen (1980), la {eq}`eq-omega` diventa\n",
    "\n",
    "$$\n",
    "\\begin{equation}\n",
    "\\omega = \\frac{\\left( \\sum_{i=1}^p \\lambda_i \\right)^2}{\\left( \\sum_{i=1}^p \\lambda_i \\right)^2  + \\sum_{i=1}^p \\psi_{ii} + \\sum_{i, k, i\\neq k}^p \\psi_{ik}}.\n",
    "\\end{equation}\n",
    "$$(eq-omega2)\n",
    "\n",
    "L'appropriatezza dell'assunzione dell'incorrelazione dei fattori\n",
    "specifici può essere verificata mediante un'analisi fattoriale\n",
    "confermativa. Se vi sono molte coppie di fattori specifici correlati,\n",
    "allora può essere necessario introdurre nel modello dei fattori\n",
    "aggiuntivi che rendano conto di queste covarianze. In questo caso, la\n",
    "scala non sarà più unidimensionale: la presenza di più fattori indica la\n",
    "presenza di più sottoscale. Il problema presentato sopra, tuttavia, non\n",
    "sempre può essere risolto individuando delle sottoscale perché, anche in\n",
    "tal caso, possono rimanere delle covarianze tra i fattori specifici che\n",
    "non sono spiegate dai fattori che individuano le sottoscale. In questi\n",
    "casi, per calcolare $\\omega$ sarà necessario utilizzare l'eq. {eq}`eq-omega2`.\n",
    "\n",
    "#### Interpretazione\n",
    "\n",
    "McDonald (1999) attribuisce al coefficiente $\\omega$ le seguenti\n",
    "interpretazioni: \n",
    "- $\\omega$ è uguale al quadrato della correlazione tra la $Y$ e il fattore comune $\\xi$ o, in maniera equivalente, tra la $Y$ e il punteggio vero (in base alla definizione di attendibilità: $\\rho_{XT}^2=\\sigma^2_{\\tau}/\\sigma^2_X$); \n",
    "- $\\omega$ è uguale alla correlazione tra due test $Y$ e $Y'$ aventi la stessa somma (o media)\n",
    "delle saturazioni nel modello ad un fattore e la stessa somma (o media) delle varianze specifiche nel modello ad un fattore; \n",
    "- $\\omega$ è uguale al quadrato della correlazione tra il punteggio totale di $p$ item e il punteggio medio di un insieme infinito di item di un dominio omogeneo di cui i $p$ item costituisciono un sottoinsieme.\n",
    "\n",
    "### Coefficiente $\\alpha$ di Cronbach\n",
    "\n",
    "Il coefficiente $\\omega$ consente di stimare il coefficiente di\n",
    "attendibilità nel caso di un modello monofattoriale congenerico. Invece,\n",
    "il coefficiente $\\alpha$ fornisce una stima del coefficiente di\n",
    "attendibilità nel caso di un modello con indicatori $\\tau$-equivalenti.\n",
    "\n",
    "Se $p$ item soddisfano il modello di $\\tau$-equivalenza, la varianza di\n",
    "ciascun item può essere scomposta in una componente attribuibile al\n",
    "valore vero e in una componente d'errore, come indicato\n",
    "nella {eq}`eq-var-tau`, ovvero,\n",
    "$\\sigma_{ii} = \\lambda^2 + \\psi_{ii} =\\sigma^2_T + \\sigma^2_i$. In base\n",
    "al principio di $\\tau$-equivalenza, le varianze e covarianze riprodotte\n",
    "dal modello uni-fattoriale hanno le caratteristiche descritte nella\n",
    "matrice {eq}`eq-sigma-tau-eq`. Dato che tutti gli item hanno la stessa\n",
    "saturazione fattoriale $\\lambda$, la formula per il calcolo del\n",
    "coefficiente $\\omega$ si riduce a\n",
    "\n",
    "$$\n",
    "\\omega = \\frac{\\left( \\sum_i \\lambda_i \\right)^2}{\\left( \\sum_i\n",
    "    \\lambda_i \\right)^2  + \\sum_i \\psi_{ii}} = \\frac{p^2 \\lambda^2}{\\sigma^2_Y} = \\frac{p^2 \\sigma_T^2}{\\sigma_Y^2}\n",
    "$$\n",
    "\n",
    "dove $Y$ è il punteggio totale del test.\n",
    "\n",
    "Usando il metodo dei minimi quadrati non pesati, una stima di $\\omega$\n",
    "può essere ottenuta nel modo seguente:\n",
    "\n",
    "$$\n",
    "\\begin{equation}\n",
    "\\hat{\\omega} = \\frac{p^2 \\hat{\\sigma}_T^2}{s_Y^2}\n",
    "\\end{equation}\n",
    "$$(eq-omega-firt-part)\n",
    "\n",
    "dove una stima di $\\sigma_T^2$ viene fornita dalla {eq}`eq-sigma-t`, ovvero\n",
    "\n",
    "$$\n",
    "\\begin{equation}\n",
    "\\hat{\\sigma}_T^2 = \\frac{1}{p(p-1)} {\\sum \\sum}_{i \\neq k} s_{ik}\n",
    "\\end{equation}\n",
    "$$(eq-hat-sigma-tau2)\n",
    "\n",
    "Inserendo la {eq}`eq-hat-sigma-tau2` nella {eq}`eq-omega-firt-part`, otteniamo\n",
    "\n",
    "$$\n",
    "\\begin{equation}\n",
    "\\hat{\\omega} = \\frac{p}{p-1}\\frac{{\\sum \\sum}_{i \\neq k} s_{ik}}{s_Y^2}\n",
    "\\end{equation}\n",
    "$$\n",
    "\n",
    "In conclusione, nel caso di indicatori $\\tau$-eqivalenti, una stima del\n",
    "coefficiente $\\omega$ è data da\n",
    "\n",
    "$$\n",
    "\\begin{equation}\n",
    "\\begin{aligned}\n",
    "\\hat{\\omega} &= \\frac{p}{p-1}\\frac{{\\sum \\sum}_{i \\neq k} s_{ik}}{s_Y^2} \\notag\\\\\n",
    " &= \\frac{p}{p-1}\\left(1-\\frac{\\sum_i s_{ii}}{s_Y^2}\\right)\n",
    "\\end{aligned}\n",
    "\\end{equation}\n",
    "$$(eq-alpha-camp)\n",
    "\n",
    "La stima dell'attendibilità fornita dalla {eq}`eq-alpha-camp` trova il suo corrispettivo per i valori della popolazione nell'equazione seguente:\n",
    "\n",
    "$$\n",
    "\\begin{equation}\n",
    "\\begin{aligned}\n",
    "\\alpha &= \\frac{p}{p-1}\\left(1-\\frac{\\sum_{i=1}^p \\sigma_{ii}}{\\sigma_Y^2}\\right)\n",
    "&= \\frac{p}{p-1}\\frac{\\sum_{i\\neq k}^p \\text{Cov}(X_i, X_k)}{\\mathbb{V}(Y)}\n",
    "\\end{aligned}\n",
    "\\end{equation}\n",
    "$$(eq-alpha-pop)\n",
    "\n",
    "La {eq}`eq-alpha-pop` definisce quello che è conosciuto come il coefficiente $\\alpha$.\n",
    "\n",
    "Il coefficiente $\\alpha$ fu scoperto da Guttman nel 1945 e incorrettamente attribuito a Cronbach. Viene spesso chiamato coefficiente $\\alpha$ di Guttman-Cronbach, o G-C $\\alpha$.\n",
    "\n",
    "Se gli indicatori soddisfano i requisiti del modello di\n",
    "$\\tau$-equivalenza, i coefficienti $\\alpha$ e $\\omega$ sono uguali. Se\n",
    "il modello di $\\tau$-equivalenza è appropriato, il coefficiente $\\alpha$\n",
    "fornisce un limite inferiore del coefficiente $\\omega$ (ovvero, fornisce\n",
    "una sottostima di $\\omega$): $\\omega \\geq \\alpha$. A causa del fatto che\n",
    "fornisce una stima conservativa del coefficiente di attendibilità,\n",
    "$\\alpha$ viene preferito ad $\\omega$ da alcuni ricercatori. Si noti però\n",
    "che $\\alpha$ possiede tale carattere conservativo solo nel caso in cui\n",
    "le assunzioni del modello $\\tau$-equivalente siano soddisfatte.\n",
    "\n",
    "#### Un esempio concreto\n",
    "\n",
    "Consideriamo la matrice di varianze e covarianze della sottoscala Openness. "
   ]
  },
  {
   "cell_type": "code",
   "execution_count": 35,
   "id": "8c301c52",
   "metadata": {
    "vscode": {
     "languageId": "r"
    }
   },
   "outputs": [
    {
     "data": {
      "text/html": [
       "<table class=\"dataframe\">\n",
       "<caption>A matrix: 5 × 5 of type dbl</caption>\n",
       "<thead>\n",
       "\t<tr><th></th><th scope=col>O1</th><th scope=col>O2r</th><th scope=col>O3</th><th scope=col>O4</th><th scope=col>O5r</th></tr>\n",
       "</thead>\n",
       "<tbody>\n",
       "\t<tr><th scope=row>O1</th><td>1.28</td><td>0.38</td><td>0.54</td><td>0.25</td><td>0.36</td></tr>\n",
       "\t<tr><th scope=row>O2r</th><td>0.38</td><td>2.45</td><td>0.50</td><td>0.13</td><td>0.67</td></tr>\n",
       "\t<tr><th scope=row>O3</th><td>0.54</td><td>0.50</td><td>1.49</td><td>0.29</td><td>0.50</td></tr>\n",
       "\t<tr><th scope=row>O4</th><td>0.25</td><td>0.13</td><td>0.29</td><td>1.49</td><td>0.29</td></tr>\n",
       "\t<tr><th scope=row>O5r</th><td>0.36</td><td>0.67</td><td>0.50</td><td>0.29</td><td>1.76</td></tr>\n",
       "</tbody>\n",
       "</table>\n"
      ],
      "text/latex": [
       "A matrix: 5 × 5 of type dbl\n",
       "\\begin{tabular}{r|lllll}\n",
       "  & O1 & O2r & O3 & O4 & O5r\\\\\n",
       "\\hline\n",
       "\tO1 & 1.28 & 0.38 & 0.54 & 0.25 & 0.36\\\\\n",
       "\tO2r & 0.38 & 2.45 & 0.50 & 0.13 & 0.67\\\\\n",
       "\tO3 & 0.54 & 0.50 & 1.49 & 0.29 & 0.50\\\\\n",
       "\tO4 & 0.25 & 0.13 & 0.29 & 1.49 & 0.29\\\\\n",
       "\tO5r & 0.36 & 0.67 & 0.50 & 0.29 & 1.76\\\\\n",
       "\\end{tabular}\n"
      ],
      "text/markdown": [
       "\n",
       "A matrix: 5 × 5 of type dbl\n",
       "\n",
       "| <!--/--> | O1 | O2r | O3 | O4 | O5r |\n",
       "|---|---|---|---|---|---|\n",
       "| O1 | 1.28 | 0.38 | 0.54 | 0.25 | 0.36 |\n",
       "| O2r | 0.38 | 2.45 | 0.50 | 0.13 | 0.67 |\n",
       "| O3 | 0.54 | 0.50 | 1.49 | 0.29 | 0.50 |\n",
       "| O4 | 0.25 | 0.13 | 0.29 | 1.49 | 0.29 |\n",
       "| O5r | 0.36 | 0.67 | 0.50 | 0.29 | 1.76 |\n",
       "\n"
      ],
      "text/plain": [
       "    O1   O2r  O3   O4   O5r \n",
       "O1  1.28 0.38 0.54 0.25 0.36\n",
       "O2r 0.38 2.45 0.50 0.13 0.67\n",
       "O3  0.54 0.50 1.49 0.29 0.50\n",
       "O4  0.25 0.13 0.29 1.49 0.29\n",
       "O5r 0.36 0.67 0.50 0.29 1.76"
      ]
     },
     "metadata": {},
     "output_type": "display_data"
    }
   ],
   "source": [
    "C <- cov(bfi[c(\"O1\", \"O2r\", \"O3\", \"O4\", \"O5r\")], use = \"pairwise.complete.obs\")\n",
    "C |> round(2)"
   ]
  },
  {
   "cell_type": "markdown",
   "id": "addba824",
   "metadata": {},
   "source": [
    "Il coefficiente $\\alpha$ si calcola usando l'eq. {eq}`eq-alpha-camp` e, per i dati presenti, risulta essere uguale a"
   ]
  },
  {
   "cell_type": "code",
   "execution_count": 36,
   "id": "494388a6",
   "metadata": {
    "vscode": {
     "languageId": "r"
    }
   },
   "outputs": [
    {
     "data": {
      "text/html": [
       "0.600172514820215"
      ],
      "text/latex": [
       "0.600172514820215"
      ],
      "text/markdown": [
       "0.600172514820215"
      ],
      "text/plain": [
       "[1] 0.6001725"
      ]
     },
     "metadata": {},
     "output_type": "display_data"
    }
   ],
   "source": [
    "p <- 5\n",
    "alpha <- (p / (p - 1)) * (1 - tr(C) / sum(C))\n",
    "alpha"
   ]
  },
  {
   "attachments": {},
   "cell_type": "markdown",
   "id": "73a60194",
   "metadata": {},
   "source": [
    "Lo stesso risultato si ottiene utilizzando la funzione `alpha()`\n",
    "contenuta nel pacchetto `psych`:"
   ]
  },
  {
   "cell_type": "code",
   "execution_count": 37,
   "id": "1827c43b",
   "metadata": {
    "vscode": {
     "languageId": "r"
    }
   },
   "outputs": [
    {
     "data": {
      "text/plain": [
       "\n",
       "Reliability analysis   \n",
       "Call: alpha(x = C)\n",
       "\n",
       "  raw_alpha std.alpha G6(smc) average_r S/N median_r\n",
       "       0.6      0.61    0.57      0.24 1.5     0.23\n",
       "\n",
       "    95% confidence boundaries \n",
       "      lower alpha upper\n",
       "Feldt -0.49   0.6  0.95\n",
       "\n",
       " Reliability if an item is dropped:\n",
       "    raw_alpha std.alpha G6(smc) average_r S/N  var.r med.r\n",
       "O1       0.53      0.53    0.48      0.22 1.1 0.0092  0.23\n",
       "O2r      0.57      0.57    0.51      0.25 1.3 0.0076  0.22\n",
       "O3       0.50      0.50    0.44      0.20 1.0 0.0071  0.20\n",
       "O4       0.61      0.62    0.56      0.29 1.6 0.0044  0.29\n",
       "O5r      0.51      0.53    0.47      0.22 1.1 0.0115  0.20\n",
       "\n",
       " Item statistics \n",
       "       r r.cor r.drop\n",
       "O1  0.65  0.52   0.39\n",
       "O2r 0.60  0.43   0.33\n",
       "O3  0.69  0.59   0.45\n",
       "O4  0.52  0.29   0.22\n",
       "O5r 0.66  0.52   0.42"
      ]
     },
     "metadata": {},
     "output_type": "display_data"
    }
   ],
   "source": [
    "alpha(C)"
   ]
  },
  {
   "attachments": {},
   "cell_type": "markdown",
   "id": "c1bf5533",
   "metadata": {},
   "source": [
    "#### Violazione dell'assunto di tau-equivalenza \n",
    "\n",
    "Il coefficiente $\\alpha$, la misura di attendibilità maggiormente usata\n",
    "in psicometria, è basato sull'*assuzione che il modello di misurazione\n",
    "sia $\\tau$-equivalente*. Come indicato sopra, se tale assunzione è\n",
    "soddisfatta, $\\alpha$ fornisce un limite inferiore dell'attendibilità\n",
    "del test. Nei casi in cui tale assunzione venga violata, però, $\\alpha$\n",
    "può perdere tale carattere conservativo e può fornire una *sovrastima*\n",
    "dell'attendibilità del test (Sijtsma, 2009).\n",
    "\n",
    "NKano e Azuma (2003) riportano i risultati di una simulazione che mette\n",
    "in evidenza le conseguenze che risultano dalla violazione\n",
    "dell'assunzione di incorrelazione tra le componenti specifiche del\n",
    "modello monofattoriale. Questi autori trovano che, quando il principio\n",
    "dell'incorrelazione dei fattori specifici è violato, allora le stime\n",
    "dell'attendibilità ottenute mediante il coefficiente $\\alpha$ sono\n",
    "affette da un errore sistematico. Tale errore sistematico aumenta\n",
    "all'aumentare del numero di coppie di fattori specifici che risultano\n",
    "tra loro correlati. In queste circostanze, dunque, il coefficiente\n",
    "$\\alpha$ non fornisce più una stima conservativa dell'attendibilità.\n",
    "\n",
    "In conclusione, il coefficiente $\\omega$ fornisce una stima adeguata\n",
    "dell'attendibilità nel caso di un modello di misurazione congenerico.\n",
    "L'utilizzo del coefficiente $\\alpha$ per la stima dell'attendibilità\n",
    "richiede un modello di misurazione $\\tau$-equivalente. L'esistenza di\n",
    "fattori specifici correlati invalida sia il coefficiente $\\alpha$, sia\n",
    "il coefficiente $\\omega$ calcolato in base alla {eq}`eq:omega`. In tali circostanze l'attendibilità deve essere stimata utilizzando una diversa equazione (Kano & Azuma, 2003; Komaroff,\n",
    "1997).\n",
    "\n",
    "Questa discussione mette in evidenza un aspetto importante: il\n",
    "coefficiente $\\alpha$ fornisce una stima conservativa dell'attendibilità\n",
    "di un test solo se le variabili osservate sono associate alle variabili\n",
    "latenti come indicato dal modello di misurazione $\\tau$-equivalente. Se\n",
    "le assunzioni del modello $\\tau$-equivalente sono violate (per esempio,\n",
    "l'assunzione dell'incorrelazione degli errori), allora $\\alpha$ porta ad\n",
    "una sovrastima stima dell'attendibilità del test.\n",
    "\n",
    "Sijtsma (2009), tra gli altri, sconsiglia l'uso di $\\alpha$ per la stima\n",
    "dell'attendibilità del test in quanto, nelle applicazioni reali, *le\n",
    "assunzioni di $\\tau$-equivalenza e dell'incorrelazione degli errori\n",
    "risultano spesso violate*. La violazione dell'assunzione di\n",
    "$\\tau$-equivalenza porta ad una stima conservativa dell'attendibilità,\n",
    "mentre la violazione dell'assunzione dell'incorrelazione degli errori\n",
    "porta ad una stima liberale dell'attendibilità. In entrambi i casi,\n",
    "l'errore sistematico può essere sostanziale.\n",
    "\n",
    "Un secondo problema è che $\\alpha$ viene spesso preso quale misura della\n",
    "\"struttura interna\" di un test e quindi come evidenza che gli item del\n",
    "test \"misurino la stessa cosa.\" Tale interpretazione di $\\alpha$ è\n",
    "sbagliata, in quanto $\\alpha$ non fornisce alcuna informazione a questo\n",
    "proposito. Non è semplice fornire ad $\\alpha$ una chiara\n",
    "interpretazione, anche nel caso in cui siano soddisfatte le assunzioni\n",
    "del modello di misurazione su cui si basa.\n",
    "\n",
    "### La formula \"profetica\" di Spearman-Brown\n",
    "\n",
    "La formula \"profetica\" di Spearman-Brown viene usata per misurare l'attendibilità nel caso di un modello di misurazione costituito da indicatori paralleli. Si considerino $p$ item paralleli, tali per cui $\\lambda_1=\\lambda_2=\\dots=\\lambda_p=\\lambda$ e $\\psi_{11}=\\psi_{22}=\\dots=\\psi_{pp}=\\psi$. In tal caso, la quota di varianza del punteggio totale del test che viene spiegata dalla variabile latente è uguale a\n",
    "\n",
    "$$\n",
    "\\left(\\sum_i \\lambda_i \\right)^2 = (p \\lambda)^2 = p^2 \\lambda^2.\n",
    "$$\n",
    "\n",
    "L'attendibilità di un singolo item, che chiamerò $\\rho_1$, è data da\n",
    "\n",
    "$$\n",
    "\\rho_1 = \\frac{\\sigma_T^2}{\\sigma_T^2+ \\sigma_E^2} = \\frac{\\lambda^2}{\\lambda^2 + \\psi}.\n",
    "$$\n",
    "\n",
    "Per $p$ item paralleli avremo che \n",
    "\n",
    "$$\n",
    "\\begin{equation}\n",
    "\\begin{aligned}\n",
    "  \\rho_p &= \\frac{p^2 \\lambda^2}{p^2 \\lambda^2 + p \\psi} \\notag\\\\\n",
    "         &= \\frac{p^2 \\lambda^2}{ p (p \\lambda^2 + \\psi)} \\notag\\\\\n",
    "         &= \\frac{p \\lambda^2}{ p \\lambda^2 + \\psi} \\notag\\\\\n",
    "         &= \\frac{p \\lambda^2}{(p-1) \\lambda^2 + (\\lambda^2 + \\psi)}. \\notag\n",
    "\\end{aligned}\n",
    "\\end{equation}\n",
    "$$\n",
    "\n",
    "Ricordando che l'attendibilità di ciascun singolo item è $\\rho_1 = \\frac{\\lambda^2}{\\lambda^2 + \\psi}$, abbiamo che\n",
    "\n",
    "$$\n",
    "\\begin{equation}\n",
    "\\begin{aligned}\n",
    "  \\rho_p &= \\frac{p \\frac{\\lambda^2}{\\lambda^2+\\psi}}{(p-1) \\frac{\\lambda^2}{\\lambda^2+\\psi} + \\frac{\\lambda^2 + \\psi}{\\lambda^2+\\psi}} \\notag\\\\\n",
    "  &= \\frac{p \\rho_1}{(p-1)\\rho_1 + 1}.\n",
    "\\end{aligned}\n",
    "\\end{equation}\n",
    "$$(eq-spearman-brown-der)\n",
    "\n",
    "La {eq}`eq:spearman-brown-der` esprime l'attendibilità $\\rho_p$ di un test costituito da $p$ item paralleli come funzione dell'attendibilità che caratterizza un singolo item. La {eq}`eq:spearman-brown-der` è tradizionalmente conosciuta con il nome di formula \"profetica\" di Spearman-Brown (*Spearman-Brown prophecy formula*). Nel caso di item paralleli si ha che\n",
    "\n",
    "$$\n",
    "\\omega=\\alpha=\\rho_p.\n",
    "$$\n",
    "\n",
    "#### Un esempio concreto\n",
    "\n",
    "Poniamoci il problema di calcolare l'attendibilità della sottoscala Openness utilizzando la formula di Spearman-Brown. Ipotizziamo dunque che gli item della scala Openness siano paralleli. La matrice di correlazione è:"
   ]
  },
  {
   "cell_type": "code",
   "execution_count": 38,
   "id": "756a8169",
   "metadata": {
    "vscode": {
     "languageId": "r"
    }
   },
   "outputs": [],
   "source": [
    "R <- cor(bfi[c(\"O1\", \"O2r\", \"O3\", \"O4\", \"O5r\")], use = \"pairwise.complete.obs\")"
   ]
  },
  {
   "attachments": {},
   "cell_type": "markdown",
   "id": "534c5e3b",
   "metadata": {},
   "source": [
    "Seguendo {cite:t}`mcdonald2013test`, supponiamo di calcolare l'attendibilità di un singolo item ($\\rho_1$) come la correlazione media tra gli item:"
   ]
  },
  {
   "cell_type": "code",
   "execution_count": 39,
   "id": "4170c752",
   "metadata": {
    "vscode": {
     "languageId": "r"
    }
   },
   "outputs": [
    {
     "data": {
      "text/html": [
       "0.236538319550859"
      ],
      "text/latex": [
       "0.236538319550859"
      ],
      "text/markdown": [
       "0.236538319550859"
      ],
      "text/plain": [
       "[1] 0.2365383"
      ]
     },
     "metadata": {},
     "output_type": "display_data"
    }
   ],
   "source": [
    "rr <- NULL\n",
    "p <- 5\n",
    "k <- 1\n",
    "for (i in 1:p) {\n",
    "  for (j in 1:p) {\n",
    "    if (j != i) {\n",
    "      rr[k] <- R[i, j]\n",
    "    }\n",
    "    k <- k + 1\n",
    "  }\n",
    "}\n",
    "ro_1 <- mean(rr, na.rm = TRUE)\n",
    "ro_1"
   ]
  },
  {
   "attachments": {},
   "cell_type": "markdown",
   "id": "d330993d",
   "metadata": {},
   "source": [
    "Applicando la formula di Spearman-Brown, la stima dell'attendibilità del\n",
    "test diventa pari a"
   ]
  },
  {
   "cell_type": "code",
   "execution_count": 40,
   "id": "9ddf57a3",
   "metadata": {
    "vscode": {
     "languageId": "r"
    }
   },
   "outputs": [
    {
     "data": {
      "text/html": [
       "0.60770732243972"
      ],
      "text/latex": [
       "0.60770732243972"
      ],
      "text/markdown": [
       "0.60770732243972"
      ],
      "text/plain": [
       "[1] 0.6077073"
      ]
     },
     "metadata": {},
     "output_type": "display_data"
    }
   ],
   "source": [
    "(p * ro_1) / ((p - 1) * ro_1 + 1)"
   ]
  },
  {
   "attachments": {},
   "cell_type": "markdown",
   "id": "00d0d62a",
   "metadata": {},
   "source": [
    "## Punteggio totale e modello fattoriale parallelo\n",
    "\n",
    "McNeish e Wolf (2020) richiamano l'attenzione sul fatto che usare il punteggio totale quale misura di un costrutto è possibile solo quando i dati soddisfano i vincoli di un modello fattoriale parallelo.\n",
    "\n",
    "Consideriamo l'esempio seguente, nel quale McNeish e Wolf (2020) esaminano i dati \"classici\" di Holzinger and Swineford (1939), i quali si riferiscono ai seguenti item:\n",
    "\n",
    "- Paragraph comprehension\n",
    "- Sentence completion\n",
    "- Word definitions\n",
    "- Speeded addition\n",
    "- Speeded dot counting\n",
    "- Discrimination between curved and straight letters\n",
    "\n",
    "Leggiamo i dati in R."
   ]
  },
  {
   "cell_type": "code",
   "execution_count": null,
   "id": "319ca112",
   "metadata": {
    "vscode": {
     "languageId": "r"
    }
   },
   "outputs": [],
   "source": [
    "d <- rio::import(\n",
    "  \"data/1_Factor_Parallel.csv\"\n",
    ")"
   ]
  },
  {
   "attachments": {},
   "cell_type": "markdown",
   "id": "aa461352",
   "metadata": {},
   "source": [
    "McNeish e Wolf (2020) sottolineano il fatto che il punteggio totale \n",
    "\n",
    "$$\n",
    "\\text{Punteggio totale} = \\text{Item 1 + Item 2 + Item 3 + Item 4 + Item 5 + Item 6}\n",
    "$$\n",
    "\n",
    "rappresenta l'idea che ciasun item fornisca la stessa quantità di informazione relativamente alla misura del costrutto. Ciò può essere specificato da un modello fattoriale nel quale le saturazioni fattoriali degli item sono tutte uguali a 1. Questo corrisponde al modello parallelo che abbiamo discusso in precedenza. In tali circostanze, i punteggi fattoriali del test risultano perfettamente associati al punteggio totale (correlazione uguale a 1). Dunque, se tale modello fattoriale è giustificato dai dati, questo giustifica l'uso del punteggio totale del test quale misura del costrutto.\n",
    "\n",
    "È facile verificare tali affermazioni.  Implementiamo il modello parallelo."
   ]
  },
  {
   "cell_type": "code",
   "execution_count": null,
   "id": "c0942e65",
   "metadata": {
    "vscode": {
     "languageId": "r"
    }
   },
   "outputs": [],
   "source": [
    "m_parallel <-\n",
    "  \"\n",
    "  # all loadings are fixed to one\n",
    "  f1 =~ 1*X4 + 1*X5 + 1*X6 + 1*X7 + 1*X8 + 1*X9\n",
    "  \n",
    "  # all residual variances constrained to same value\n",
    "  X4 ~~ theta*X4\n",
    "  X5 ~~ theta*X5\n",
    "  X6 ~~ theta*X6\n",
    "  X7 ~~ theta*X7\n",
    "  X8 ~~ theta*X8\n",
    "  X9 ~~ theta*X9\n",
    "\""
   ]
  },
  {
   "attachments": {},
   "cell_type": "markdown",
   "id": "c17e3dfa",
   "metadata": {},
   "source": [
    "Adattiamo il modello parallelo ai dati forniti dagli autori."
   ]
  },
  {
   "cell_type": "code",
   "execution_count": null,
   "id": "a41046cf",
   "metadata": {
    "vscode": {
     "languageId": "r"
    }
   },
   "outputs": [],
   "source": [
    "fit_parallel <- sem(m_parallel, data=d)"
   ]
  },
  {
   "attachments": {},
   "cell_type": "markdown",
   "id": "d17eb8a3",
   "metadata": {},
   "source": [
    "Calcoliamo il punteggio totale."
   ]
  },
  {
   "cell_type": "code",
   "execution_count": null,
   "id": "7c4cffb6",
   "metadata": {
    "vscode": {
     "languageId": "r"
    }
   },
   "outputs": [],
   "source": [
    "d$ts <- with(\n",
    "  d,\n",
    "  X4 + X5 + X6 + X7 + X8 + X9\n",
    ")"
   ]
  },
  {
   "attachments": {},
   "cell_type": "markdown",
   "id": "5cf10545",
   "metadata": {},
   "source": [
    "Calcoliamo i punteggi fattoriali."
   ]
  },
  {
   "cell_type": "code",
   "execution_count": null,
   "id": "2f1fa4b5",
   "metadata": {
    "vscode": {
     "languageId": "r"
    }
   },
   "outputs": [],
   "source": [
    "scores <- lavPredict(fit_parallel, method=\"regression\")\n",
    "d$scores <- as.numeric(scores)"
   ]
  },
  {
   "attachments": {},
   "cell_type": "markdown",
   "id": "484c631d",
   "metadata": {},
   "source": [
    "Un diagramma a dispersione tra il punteggio totale e i punteggi fattoriali conferma che i due sono perfettamente associati. Quindi, usare il punteggio totale o i punteggi fattoriali è equivalente."
   ]
  },
  {
   "cell_type": "code",
   "execution_count": null,
   "id": "e9075522",
   "metadata": {
    "vscode": {
     "languageId": "r"
    }
   },
   "outputs": [],
   "source": [
    "d |> \n",
    "  ggplot(aes(x=ts, y=scores)) + \n",
    "  geom_point()"
   ]
  },
  {
   "attachments": {},
   "cell_type": "markdown",
   "id": "d232c0fb",
   "metadata": {},
   "source": [
    "Tuttavia, questa conclusione è valida solo se il modello parallelo è giustificato per i dati.  Se esaminiamo l'output di lavaan vediamo che, nel caso presente, questo non è vero."
   ]
  },
  {
   "cell_type": "code",
   "execution_count": null,
   "id": "433b70ae",
   "metadata": {
    "vscode": {
     "languageId": "r"
    }
   },
   "outputs": [],
   "source": [
    "# report output with fit measures and standardized estimates\n",
    "out = summary(fit_parallel, fit.measures = TRUE, standardized = TRUE)\n",
    "print(out)"
   ]
  },
  {
   "attachments": {},
   "cell_type": "markdown",
   "id": "4401ccd5",
   "metadata": {},
   "source": [
    "Dunque, per questi dati, il punteggio totale può ovviamente essere calcolato. Ma *non fornisce una misura adeguata del costrutto*. Dunque, il punteggio totale non dovrebbe essere usato nel caso dei dati ottenuti con questo test.\n",
    "\n",
    "Gli autori adattano ai dati un modello congenerico."
   ]
  },
  {
   "cell_type": "code",
   "execution_count": null,
   "id": "8adaef9b",
   "metadata": {
    "vscode": {
     "languageId": "r"
    }
   },
   "outputs": [],
   "source": [
    "m_congeneric <- \n",
    "'\n",
    "  #all loadings are uniquely estimated\n",
    "  f1 =~ NA*X4 + X5 + X6 + X7 + X8 + X9\n",
    "  #constrain factor variance to 1\n",
    "  f1 ~~ 1*f1\n",
    "'"
   ]
  },
  {
   "cell_type": "code",
   "execution_count": null,
   "id": "a43d5a42",
   "metadata": {
    "vscode": {
     "languageId": "r"
    }
   },
   "outputs": [],
   "source": [
    "# Fit above model\n",
    "fit_congeneric <- sem(m_congeneric, data=d)"
   ]
  },
  {
   "cell_type": "code",
   "execution_count": null,
   "id": "b6e35980",
   "metadata": {
    "vscode": {
     "languageId": "r"
    }
   },
   "outputs": [],
   "source": [
    "parameterEstimates(fit_congeneric, standardized = TRUE) %>%\n",
    "  dplyr::filter(op == \"=~\") %>%\n",
    "  dplyr::select(\n",
    "    \"Latent Factor\" = lhs,\n",
    "    Indicator = rhs,\n",
    "    B = est,\n",
    "    SE = se,\n",
    "    Z = z,\n",
    "    \"p-value\" = pvalue,\n",
    "    Beta = std.all\n",
    "  ) %>%\n",
    "  knitr::kable(\n",
    "    digits = 3, booktabs = TRUE, format = \"markdown\",\n",
    "    caption = \"Factor Loadings\"\n",
    "  )"
   ]
  },
  {
   "attachments": {},
   "cell_type": "markdown",
   "id": "e25dd634",
   "metadata": {},
   "source": [
    "Si noti che le saturazioni fattoriali standardizzate sono molto diverse tra loro, suggerendo che il punteggio del costrutto si relaziona in modo diverso con ciascun item e che sarebbe inappropriato stimare il punteggio del costrutto assegnando un peso unitario agli item.\n",
    "\n",
    "McNeish e Wolf (2020) calcolano poi i punteggi fattoriali del modello congenerico."
   ]
  },
  {
   "cell_type": "code",
   "execution_count": null,
   "id": "87aa1219",
   "metadata": {
    "vscode": {
     "languageId": "r"
    }
   },
   "outputs": [],
   "source": [
    "scores_cong <- lavPredict(fit_congeneric, method=\"regression\")\n",
    "d$scores_cong <- as.numeric(scores_cong)"
   ]
  },
  {
   "attachments": {},
   "cell_type": "markdown",
   "id": "7bdb0fe9",
   "metadata": {},
   "source": [
    "Il grafico seguente mostra la relazione tra i punteggi fattoriali e il punteggio totale."
   ]
  },
  {
   "cell_type": "code",
   "execution_count": null,
   "id": "1aa728ad",
   "metadata": {
    "vscode": {
     "languageId": "r"
    }
   },
   "outputs": [],
   "source": [
    "d |> \n",
    "  ggplot(aes(x=ts, y=scores_cong)) + \n",
    "  geom_point()"
   ]
  },
  {
   "attachments": {},
   "cell_type": "markdown",
   "id": "3670d0bc",
   "metadata": {},
   "source": [
    "Nel caso presente, il coefficiente di determinazione tra punteggio totale e punteggi fattoriali è 0.77."
   ]
  },
  {
   "cell_type": "code",
   "execution_count": null,
   "id": "89b91b74",
   "metadata": {
    "vscode": {
     "languageId": "r"
    }
   },
   "outputs": [],
   "source": [
    "cor(d$ts, d$scores_cong)^2"
   ]
  },
  {
   "attachments": {},
   "cell_type": "markdown",
   "id": "23e176df",
   "metadata": {},
   "source": [
    "Secondo gli autori, ciò significa che due persone con un punteggio totale identico potrebbero avere punteggi di modello congenerico potenzialmente diversi perché hanno raggiunto il loro particolare punteggio totale approvando item diversi. Poiché il modello congenerico assegna pesi diversi agli item, ciascun item contribuisce in modo diverso al punteggio fattoriale del modello congenerico, il che non è vero per il punteggio totale. \n",
    "\n",
    "Si noti che, per i dati di Holzinger and Swineford (1939), neppure un modello congenerico ad un fattore si dimostra adeguato."
   ]
  },
  {
   "cell_type": "code",
   "execution_count": null,
   "id": "90d1d9ce",
   "metadata": {
    "vscode": {
     "languageId": "r"
    }
   },
   "outputs": [],
   "source": [
    "out = summary(fit_congeneric, fit.measures = TRUE, standardized = TRUE)\n",
    "print(out)"
   ]
  },
  {
   "attachments": {},
   "cell_type": "markdown",
   "id": "7d37936d",
   "metadata": {},
   "source": [
    "Trascurando le considerazioni sulla struttura fattoriale e esaminando, per esempio, unicamente il coefficiente omega, finiamo per trovare una risposta accettabile, ma sbagliata."
   ]
  },
  {
   "cell_type": "code",
   "execution_count": null,
   "id": "ab69bd88",
   "metadata": {
    "lines_to_next_cell": 2,
    "vscode": {
     "languageId": "r"
    }
   },
   "outputs": [],
   "source": [
    "psych::omega(d[, 1:6])"
   ]
  },
  {
   "attachments": {},
   "cell_type": "markdown",
   "id": "d29ff9b5",
   "metadata": {},
   "source": [
    "È invece necessario ipotizzare un modello congenerico a due fattori."
   ]
  },
  {
   "cell_type": "code",
   "execution_count": null,
   "id": "9b67ae69",
   "metadata": {
    "vscode": {
     "languageId": "r"
    }
   },
   "outputs": [],
   "source": [
    "m2f_cong <- '\n",
    "  # all loadings are uniquely estimated on each factor\n",
    "  f1 =~ NA*X4 + X5 + X6\n",
    "  f2 =~ NA*X7 + X8 + X9\n",
    "  \n",
    "  # constrain factor variancse to 1\n",
    "  f1 ~~ 1*f1\n",
    "  f2 ~~ 1*f2\n",
    "  \n",
    "  # estimate factor covariance\n",
    "  f1 ~~ f2\n",
    "'"
   ]
  },
  {
   "cell_type": "code",
   "execution_count": null,
   "id": "62925039",
   "metadata": {
    "vscode": {
     "languageId": "r"
    }
   },
   "outputs": [],
   "source": [
    "# Fit above model\n",
    "fit_2f_congeneric <- sem(m2f_cong, data=d)"
   ]
  },
  {
   "attachments": {},
   "cell_type": "markdown",
   "id": "518d9644",
   "metadata": {},
   "source": [
    "Solo questo modello fornisce un adattamento adeguato ai dati."
   ]
  },
  {
   "cell_type": "code",
   "execution_count": null,
   "id": "6915838c",
   "metadata": {
    "lines_to_next_cell": 2,
    "vscode": {
     "languageId": "r"
    }
   },
   "outputs": [],
   "source": [
    "out = summary(fit_2f_congeneric, fit.measures = TRUE, standardized = TRUE)\n",
    "print(out)"
   ]
  },
  {
   "attachments": {},
   "cell_type": "markdown",
   "id": "7baabbbd",
   "metadata": {},
   "source": [
    "## Attenuazione\n",
    "\n",
    "Un altro tema importante associato alla discussione sulla struttura fattoriale e l'attenibilità è quello dell'attenuazione. All'aumentare dell'errore di misurazione, la correlazione tra due variabili tende a diminuire. L'errore di misurazione, dunque, \"maschera\" l'associazione esistente tra le variabili. Tale fenomeno va sotto il nome di *attenuazione*.\n",
    "\n",
    "Lord e Novick (1967) notano che, volendo determinare la relazione\n",
    "esistente tra due costrutti, uno psicologo può costruire opportune scale\n",
    "per misurarli. Se la relazione tra queste scale è lineare, allora il\n",
    "grado di associazione tra le scale può essere misurato dal coefficiente\n",
    "di correlazione. Le scale, però, contengono una componente di errore e,\n",
    "quindi, la correlazione empirica tra le due scale assume un valore\n",
    "minore della \"reale\" correlazione tra i costrutti. In tali circostanze,\n",
    "possono essere usate opportune formule per stimare il valore della\n",
    "correlazione disattenuata tra i tratti latenti.\n",
    "\n",
    "Si può dimostrare che la correlazione tra i punteggi veri di due\n",
    "costrutti, $T_y$ e $T_y$, può essere espressa nei termini della\n",
    "correlazione $\\rho_{XY}$ tra i punteggi osservati $X$ e $Y$, e nei\n",
    "termini dei coefficienti di attenibilità $\\rho_{XX^\\prime}$, $\\rho_{YY^\\prime}$ dei\n",
    "due test:\n",
    "\n",
    "$$\n",
    "\\begin{equation}\n",
    "\\rho(T_X, T_Y)  = \\frac{\\rho_{XY}}{\\sqrt{\\rho_{XX^\\prime} \\rho_{YY^\\prime}}}\n",
    "\\end{equation}\n",
    "$$(eq-3-9-6)\n",
    "\n",
    "Inoltre, può essere dimostrato che la correlazione tra i punteggi di un test e i punteggi veri di un secondo test può essere espressa nei termini delle correlazioni tra i punteggi osservati dei due test e del coefficiente di attendibilità del secondo test:\n",
    "\n",
    "$$\n",
    "\\begin{equation}\n",
    "\\rho(X, T_Y)  = \\frac{\\rho_{XY}}{\\sqrt{\\rho_{YY^\\prime}}}.\n",
    "\\end{equation}\n",
    "$$(eq-3-9-7)\n",
    "\n",
    "### Correlazioni disattenuate\n",
    "\n",
    "Le {eq}`eq-3-9-6` e {eq}`eq-3-9-7` consentono di calcolare le cosiddette\n",
    "*correlazioni disattenuate*. L'idea è che le correlazioni tra i punteggi\n",
    "veri di due test sono sottostimate dalle correlazioni tra i punteggi\n",
    "osservati dei test, a causa dell'errore di misura. Se le attendibilità\n",
    "dei test sono conosciute, le {eq}`eq-3-9-6` e {eq}`eq-3-9-7` possono essere usate per stimare le correlazioni tra i corrispondenti punteggi veri. La teoria dell'attenuazione\n",
    "costituisce un'ulteriore applicazione del coefficiente di attendibilità\n",
    "nell'ambito della teoria classica dei test.\n",
    "\n",
    "Le correlazioni disattenuate sono state usate già a partire dal 1904 da\n",
    "Spearman. Nell'esempio di Spearman, $X$ era una misura di\n",
    "discriminazione dell'altezza di un suono (*pitch discrimination*) e $Y$\n",
    "era una misura di intelligenza fornita da un insegnante. La correlazione\n",
    "tra queste due misure era $\\hat{\\rho}_{XY}=0.38$. Le attendibilità delle\n",
    "due misure erano pari a, rispettivamente, $\\hat{\\rho}_{XX'}= 0.25$ e\n",
    "$\\hat{\\rho}_{YY'}= 0.55$. In base\n",
    "alla {eq}`eq-3-9-7`\n",
    "\n",
    "$$\n",
    "\\rho(X, T_Y)  = \\frac{\\rho_{XY}}{\\sqrt{\\rho_{YY^\\prime}}}\n",
    "$$\n",
    "\n",
    "la correlazione predetta tra i valori veri di pitch discrimination e i valori empirici dell'intelligenza è\n",
    "\n",
    "$$\n",
    "\\hat{\\rho}(X, T_Y)  =\\frac{0.38}{\\sqrt{0.25}}=0.76.\n",
    "$$\n",
    "\n",
    "In base alla {eq}`eq-3-9-6`\n",
    "\n",
    "$$\n",
    "\\rho(T_X, T_Y)  = \\frac{\\rho_{XY}}{\\sqrt{\\rho_{XX'} \\rho_{YY'}}}\n",
    "$$\n",
    "\n",
    "la correlazione tra i valori veri di pitch discrimination e i valori veri\n",
    "dell'intelligenza è\n",
    "\n",
    "$$\n",
    "\\hat{\\rho}(T_X, T_Y)  =\\frac{0.38}{\\sqrt{0.25 \\times 0.55}}=1.025.\n",
    "$$\n",
    "\n",
    "Si noti come i limiti di questa procedura emergano già dall'esempio\n",
    "fornito da Spearman: le correlazioni disattenuate possono facilmente\n",
    "produrre una sovrastima.\n",
    "\n",
    "Questa formula originò una controversia tra Charles Spearman e Karl\n",
    "Pearson. In un suo articolo del 1904 (lo stesso anno dei famosi articoli\n",
    "di Spearman), Pearson riportò diverse correlazioni nell'intorno di 0.5\n",
    "che riguardavano la misurazione empirica di caratteristiche quali la\n",
    "vivacità e l'introspezione. Spearman criticò l'articolo di Pearson\n",
    "affermando che le osservazioni probabilmente contenevano un sostanziale\n",
    "errore di misurazione, il che determinava il fatto che fossero così\n",
    "basse. Le corrispondenti correlazioni disattenuate erano, secondo\n",
    "Spearman, probabilmente molto più alte. Tale critica venne del tutto\n",
    "ignorata da Pearson sulla base del fatto che la formula di Spearman\n",
    "poteva condurre a correlazioni maggiori di uno. Inoltre, Pearson non\n",
    "accettava i riferimenti a quantità inosservabili. Spearman, d'altra\n",
    "parte, eseguì diversi studi su variabili psicologiche alle quali applicò\n",
    "la sua formula per le correlazioni disattenuate. In molti casi, trovò\n",
    "che le correlazioni disattenuate erano vicine ad uno. Questo suggeriva\n",
    "che tali variabili psicologiche erano indicatori dello stesso fenomeno.\n",
    "Queste considerazioni spinsero Spearman a procedere in questa direzione,\n",
    "giungendo ad inventare l'analisi fattoriale così com'è riportata\n",
    "nell'articolo del 1904 *\"General intelligence\", objectively determined\n",
    "and measured*.\n",
    "\n",
    "McDonald (1999) afferma che le correlazioni disattenuate devono essere\n",
    "usate con cautela. Un metodo migliore per calcolare le correlazioni tra\n",
    "le variabili latenti (ovvero, le correlazioni non \"inquinate\" dagli\n",
    "errori di misura) è quello di costruire un modello di equazioni\n",
    "strutturali nel quale diverse ipotesi possono essere direttamente\n",
    "verificate, compresa quella della correlazione tra le variabili latenti.\n",
    "\n",
    "## Attendibilità e scala di misura\n",
    "\n",
    "McDonald (2013) fa notare che i coefficienti $\\omega$ e $\\alpha$, ma non\n",
    "il coefficiente di Spearman-Brown, dipendono dalla scala di misura degli\n",
    "item. Stimare $\\omega$ utilizzando una matrice di correlazione anziché\n",
    "una matrice di varianze e di covarianze è equivalente a stimare il\n",
    "coefficiente di attendibilità di una somma di item standardizzati. Il\n",
    "risultato ottenuto mediante $\\omega$ e $\\alpha$ non si generalizza però\n",
    "al caso in cui si voglia valutare l'attendibilità del punteggio totale\n",
    "di un test calcolato sui valori grezzi degli item.\n",
    "\n",
    "Il modello ad un fattore comune non dipende dall'unità di misura degli\n",
    "indicatori e può essere adattato sia ad una matrice di correlazione sia\n",
    "ad una matrice di varianze e di covarianze. Il calcolo dei coefficienti\n",
    "$\\omega$ e $\\alpha$, invece, deve essere fatto sulla soluzione trovata\n",
    "utilizzando una matrice di varianze e di covarianze.\n",
    "\n",
    "## Quale indice usare?\n",
    "\n",
    "L'indice di attendibilità più diffuso in letteratura è il coefficiente\n",
    "$\\alpha$ di Cronbach. Affinché $\\alpha$ fornisca una stima\n",
    "dell'attendibilità del test, però, gli item devono essere\n",
    "$\\tau$-equivalenti. Il modello di $\\tau$-equivalenza richiede\n",
    "l'unidimensionalità del tratto latente. In pratica, tale assunzione\n",
    "viene spesso violata, dato che la maggior parte dei test, oltre ad un\n",
    "fattore generale, misurano anche altri fattori. Anche nel caso di un\n",
    "test unidimensionale, le comunalità degli item non sono mai uguali tra\n",
    "loro, violando così l'assunzione di $\\tau$-equivalenza. In tali\n",
    "circostanze, se risulta soddisfatta l'assunzione di incorrelazione degli\n",
    "errori, il coefficiente $\\alpha$ sottostima l'attendibilità del test. Se\n",
    "invece l'assunzione di incorrelazione degli errori non risulta\n",
    "soddisfatta, allora il coefficiente $\\alpha$ sovrastima l'attendibilità\n",
    "del test. Per tali ragioni, l'utilità del coefficiente $\\alpha$ di\n",
    "Cronbach è molto limitata e, in generale, è preferibile usare il\n",
    "coefficiente $\\omega$ (McDonald, 1999). Altre alternative sono gli\n",
    "indici $glb$ (*Greatest Lower Bound*; si veda, ad esempio, Ten Berge e\n",
    "Sočan, 2004) e $\\beta$ (Revelle, 1979).\n",
    "\n"
   ]
  }
 ],
 "metadata": {
  "jupytext": {
   "cell_metadata_filter": "fig.cap,tags,name,out.width,-all",
   "main_language": "R",
   "notebook_metadata_filter": "-all"
  },
  "kernelspec": {
   "display_name": "R",
   "language": "R",
   "name": "ir"
  },
  "language_info": {
   "codemirror_mode": "r",
   "file_extension": ".r",
   "mimetype": "text/x-r-source",
   "name": "R",
   "pygments_lexer": "r",
   "version": "4.3.1"
  }
 },
 "nbformat": 4,
 "nbformat_minor": 5
}
