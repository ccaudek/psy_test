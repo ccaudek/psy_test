{
 "cells": [
  {
   "cell_type": "markdown",
   "metadata": {},
   "source": [
    "(multilevel-sm-notebook)=\n",
    "# Modelli di Equazioni Strutturali Multilivello"
   ]
  },
  {
   "cell_type": "code",
   "execution_count": 18,
   "metadata": {
    "vscode": {
     "languageId": "r"
    }
   },
   "outputs": [],
   "source": [
    "source(\"_common.R\")\n",
    "suppressPackageStartupMessages({\n",
    "    library(\"lavaan\")\n",
    "    library(\"semPlot\")\n",
    "    library(\"knitr\")\n",
    "    library(\"markdown\")\n",
    "    library(\"patchwork\")\n",
    "    library(\"lme4\")\n",
    "    library(\"here\")\n",
    "})\n",
    "\n",
    "set.seed(42)"
   ]
  },
  {
   "cell_type": "markdown",
   "metadata": {},
   "source": [
    "I dati prodotti dalla maggior parte delle ricerche nelle scienze sociali e nella sanità pubblica presentano strutture multi-livello, in cui i dati sono raggruppati in cluster e le osservazioni all'interno di ciascun cluster sono correlate. Nella maggior parte dei casi, se non in tutti, il modello classico di equazioni strutturali non è adatto per l'analisi di dati multi-livello o raggruppati per produrre stime valide ed efficienti, a causa delle correlazioni presenti nei dati su più livelli. Pertanto, la modellazione di equazioni strutturali dovrebbe essere estesa per incorporare la struttura dei dati multi-livello.\n",
    "\n",
    "In questo capitolo introdurremo l'implementazione in `lavaan` per l'analisi SEM multilivello. Utilizzeremo un set di dati artificiali ricavato dal sito di MPlus."
   ]
  },
  {
   "cell_type": "code",
   "execution_count": 2,
   "metadata": {
    "vscode": {
     "languageId": "r"
    }
   },
   "outputs": [
    {
     "data": {
      "text/html": [
       "<table class=\"dataframe\">\n",
       "<caption>A data.frame: 6 x 8</caption>\n",
       "<thead>\n",
       "\t<tr><th></th><th scope=col>y1</th><th scope=col>y2</th><th scope=col>y3</th><th scope=col>y4</th><th scope=col>x1</th><th scope=col>x2</th><th scope=col>w</th><th scope=col>clus</th></tr>\n",
       "\t<tr><th></th><th scope=col>&lt;dbl&gt;</th><th scope=col>&lt;dbl&gt;</th><th scope=col>&lt;dbl&gt;</th><th scope=col>&lt;dbl&gt;</th><th scope=col>&lt;dbl&gt;</th><th scope=col>&lt;dbl&gt;</th><th scope=col>&lt;dbl&gt;</th><th scope=col>&lt;int&gt;</th></tr>\n",
       "</thead>\n",
       "<tbody>\n",
       "\t<tr><th scope=row>1</th><td> 2.203250</td><td> 1.858861</td><td> 1.738477</td><td> 2.244863</td><td> 1.142800</td><td>-0.796987</td><td>-0.149501</td><td>1</td></tr>\n",
       "\t<tr><th scope=row>2</th><td> 1.934917</td><td> 2.127876</td><td> 0.083120</td><td> 2.509436</td><td> 1.949033</td><td>-0.122764</td><td>-0.149501</td><td>1</td></tr>\n",
       "\t<tr><th scope=row>3</th><td> 0.321955</td><td> 0.977231</td><td>-0.835405</td><td> 0.558367</td><td>-0.716481</td><td>-0.767064</td><td>-0.149501</td><td>1</td></tr>\n",
       "\t<tr><th scope=row>4</th><td> 0.073154</td><td>-1.743092</td><td>-2.310271</td><td>-1.514332</td><td>-2.649131</td><td> 0.637570</td><td>-0.149501</td><td>1</td></tr>\n",
       "\t<tr><th scope=row>5</th><td>-1.214906</td><td> 0.452618</td><td> 0.372610</td><td>-1.790372</td><td>-0.262916</td><td> 0.302564</td><td>-0.149501</td><td>1</td></tr>\n",
       "\t<tr><th scope=row>6</th><td> 0.298330</td><td>-1.820272</td><td> 0.561335</td><td>-2.090582</td><td>-0.944963</td><td> 1.363045</td><td> 0.319335</td><td>2</td></tr>\n",
       "</tbody>\n",
       "</table>\n"
      ],
      "text/latex": [
       "A data.frame: 6 x 8\n",
       "\\begin{tabular}{r|llllllll}\n",
       "  & y1 & y2 & y3 & y4 & x1 & x2 & w & clus\\\\\n",
       "  & <dbl> & <dbl> & <dbl> & <dbl> & <dbl> & <dbl> & <dbl> & <int>\\\\\n",
       "\\hline\n",
       "\t1 &  2.203250 &  1.858861 &  1.738477 &  2.244863 &  1.142800 & -0.796987 & -0.149501 & 1\\\\\n",
       "\t2 &  1.934917 &  2.127876 &  0.083120 &  2.509436 &  1.949033 & -0.122764 & -0.149501 & 1\\\\\n",
       "\t3 &  0.321955 &  0.977231 & -0.835405 &  0.558367 & -0.716481 & -0.767064 & -0.149501 & 1\\\\\n",
       "\t4 &  0.073154 & -1.743092 & -2.310271 & -1.514332 & -2.649131 &  0.637570 & -0.149501 & 1\\\\\n",
       "\t5 & -1.214906 &  0.452618 &  0.372610 & -1.790372 & -0.262916 &  0.302564 & -0.149501 & 1\\\\\n",
       "\t6 &  0.298330 & -1.820272 &  0.561335 & -2.090582 & -0.944963 &  1.363045 &  0.319335 & 2\\\\\n",
       "\\end{tabular}\n"
      ],
      "text/markdown": [
       "\n",
       "A data.frame: 6 x 8\n",
       "\n",
       "| <!--/--> | y1 &lt;dbl&gt; | y2 &lt;dbl&gt; | y3 &lt;dbl&gt; | y4 &lt;dbl&gt; | x1 &lt;dbl&gt; | x2 &lt;dbl&gt; | w &lt;dbl&gt; | clus &lt;int&gt; |\n",
       "|---|---|---|---|---|---|---|---|---|\n",
       "| 1 |  2.203250 |  1.858861 |  1.738477 |  2.244863 |  1.142800 | -0.796987 | -0.149501 | 1 |\n",
       "| 2 |  1.934917 |  2.127876 |  0.083120 |  2.509436 |  1.949033 | -0.122764 | -0.149501 | 1 |\n",
       "| 3 |  0.321955 |  0.977231 | -0.835405 |  0.558367 | -0.716481 | -0.767064 | -0.149501 | 1 |\n",
       "| 4 |  0.073154 | -1.743092 | -2.310271 | -1.514332 | -2.649131 |  0.637570 | -0.149501 | 1 |\n",
       "| 5 | -1.214906 |  0.452618 |  0.372610 | -1.790372 | -0.262916 |  0.302564 | -0.149501 | 1 |\n",
       "| 6 |  0.298330 | -1.820272 |  0.561335 | -2.090582 | -0.944963 |  1.363045 |  0.319335 | 2 |\n",
       "\n"
      ],
      "text/plain": [
       "  y1        y2        y3        y4        x1        x2        w         clus\n",
       "1  2.203250  1.858861  1.738477  2.244863  1.142800 -0.796987 -0.149501 1   \n",
       "2  1.934917  2.127876  0.083120  2.509436  1.949033 -0.122764 -0.149501 1   \n",
       "3  0.321955  0.977231 -0.835405  0.558367 -0.716481 -0.767064 -0.149501 1   \n",
       "4  0.073154 -1.743092 -2.310271 -1.514332 -2.649131  0.637570 -0.149501 1   \n",
       "5 -1.214906  0.452618  0.372610 -1.790372 -0.262916  0.302564 -0.149501 1   \n",
       "6  0.298330 -1.820272  0.561335 -2.090582 -0.944963  1.363045  0.319335 2   "
      ]
     },
     "metadata": {},
     "output_type": "display_data"
    }
   ],
   "source": [
    "dat <- read.table(\"http://statmodel.com/usersguide/chap9/ex9.6.dat\")\n",
    "names(dat) <- c(\"y1\", \"y2\", \"y3\", \"y4\", \"x1\", \"x2\", \"w\", \"clus\")\n",
    "head(dat)"
   ]
  },
  {
   "cell_type": "markdown",
   "metadata": {},
   "source": [
    "Il data frame è costituito da 1000 righe:"
   ]
  },
  {
   "cell_type": "code",
   "execution_count": 4,
   "metadata": {
    "vscode": {
     "languageId": "r"
    }
   },
   "outputs": [
    {
     "data": {
      "text/html": [
       "<style>\n",
       ".list-inline {list-style: none; margin:0; padding: 0}\n",
       ".list-inline>li {display: inline-block}\n",
       ".list-inline>li:not(:last-child)::after {content: \"\\00b7\"; padding: 0 .5ex}\n",
       "</style>\n",
       "<ol class=list-inline><li>1000</li><li>8</li></ol>\n"
      ],
      "text/latex": [
       "\\begin{enumerate*}\n",
       "\\item 1000\n",
       "\\item 8\n",
       "\\end{enumerate*}\n"
      ],
      "text/markdown": [
       "1. 1000\n",
       "2. 8\n",
       "\n",
       "\n"
      ],
      "text/plain": [
       "[1] 1000    8"
      ]
     },
     "metadata": {},
     "output_type": "display_data"
    }
   ],
   "source": [
    "dim(dat)"
   ]
  },
  {
   "cell_type": "markdown",
   "metadata": {},
   "source": [
    "Ci sono soltanto 110 cluster (`clus`), il che significa che ci sono misure ripetute per ciascun cluster (possiamo immaginare che i cluster corrispondano ai soggetti):"
   ]
  },
  {
   "cell_type": "code",
   "execution_count": 3,
   "metadata": {
    "vscode": {
     "languageId": "r"
    }
   },
   "outputs": [
    {
     "data": {
      "text/html": [
       "110"
      ],
      "text/latex": [
       "110"
      ],
      "text/markdown": [
       "110"
      ],
      "text/plain": [
       "[1] 110"
      ]
     },
     "metadata": {},
     "output_type": "display_data"
    }
   ],
   "source": [
    "length(unique(dat$clus))"
   ]
  },
  {
   "cell_type": "markdown",
   "metadata": {},
   "source": [
    "Analizzeremo questi dati mediante un modello di equazioni strutturali multilivello (SEM). Iniziamo a definire il modello SEM appropriato per questi dati."
   ]
  },
  {
   "cell_type": "code",
   "execution_count": null,
   "metadata": {
    "vscode": {
     "languageId": "r"
    }
   },
   "outputs": [],
   "source": [
    "model <- \"\n",
    "    level: 1\n",
    "        fw =~ y1 + y2 + y3 + y4\n",
    "        fw ~ x1 + x2\n",
    "\n",
    "    level: 2\n",
    "        fb =~ y1 + y2 + y3 + y4\n",
    "\n",
    "    # optional\n",
    "    y1 ~~ 0*y1\n",
    "    y2 ~~ 0*y2\n",
    "    y3 ~~ 0*y3\n",
    "    y4 ~~ 0*y4\n",
    "    fb ~ w\n",
    "\""
   ]
  },
  {
   "cell_type": "markdown",
   "metadata": {},
   "source": [
    "### Livelli nel Modello SEM Multilivello\n",
    "\n",
    "1. **Livello 1:** Il primo livello rappresenta le misurazioni individuali. Nel modello, `fw` è un fattore latente che viene definito dalle quattro variabili osservate `y1`, `y2`, `y3`, `y4`. Queste variabili sono influenzate da due predittori `x1` e `x2`. Questo livello cattura la variazione a livello individuale.\n",
    "\n",
    "2. **Livello 2:** Il secondo livello considera le differenze tra i gruppi o i cluster (indicati dalla variabile `clus`). Qui, `fb` è un altro fattore latente definito dalle stesse variabili osservate `y1`, `y2`, `y3`, `y4`. La variabile `w` agisce come un predittore a livello di cluster.\n",
    "\n",
    "### Coefficiente di Correlazione Intraclass (ICC)\n",
    "\n",
    "Lo scopo dell'analisi statistica è quello di calcolare il Coefficiente di Correlazione Intraclasse (ICC) che è una misura utilizzata per quantificare la somiglianza delle misurazioni all'interno dei gruppi o cluster. In un contesto multilivello, l'ICC indica quanto della varianza totale è attribuibile alle differenze tra i gruppi.\n",
    "\n",
    "#### ICC in SEM Multilivello\n",
    "\n",
    "Nel modello SEM, l'ICC può essere calcolato per ogni variabile osservata (`y1`, `y2`, `y3`, `y4`) come la proporzione della varianza tra i cluster rispetto alla varianza totale (sia tra che all'interno dei cluster). Questo aiuta a capire quanto la variazione in queste variabili sia influenzata dal gruppo di appartenenza (`clus`).\n",
    "\n",
    "#### Calcolo dell'ICC con `lmer`\n",
    "\n",
    "Per iniziare, poniamoci il problema di calcolare ICC mediante un modello lineare multilivello. Svolgeremo questi calcoli con `lmer`. Il modello `lmer` considera ogni variabile osservata separatamente, fornendo un'analisi indipendente per ciascuna. Per `y1`, per esempio, abbiamo:"
   ]
  },
  {
   "cell_type": "code",
   "execution_count": 19,
   "metadata": {
    "vscode": {
     "languageId": "r"
    }
   },
   "outputs": [],
   "source": [
    "model_lmer <- lmer(y1 ~ 1 + (1 | clus), data = dat)"
   ]
  },
  {
   "cell_type": "markdown",
   "metadata": {},
   "source": [
    "Calcoliamo l'ICC:"
   ]
  },
  {
   "cell_type": "code",
   "execution_count": 20,
   "metadata": {
    "vscode": {
     "languageId": "r"
    }
   },
   "outputs": [
    {
     "data": {
      "text/html": [
       "0.129536196128802"
      ],
      "text/latex": [
       "0.129536196128802"
      ],
      "text/markdown": [
       "0.129536196128802"
      ],
      "text/plain": [
       "[1] 0.1295362"
      ]
     },
     "metadata": {},
     "output_type": "display_data"
    }
   ],
   "source": [
    " varianza_cluster <- VarCorr(model_lmer)$clus[1]\n",
    " varianza_residua <- attr(VarCorr(model_lmer), \"sc\")^2\n",
    " ICC <- varianza_cluster / (varianza_cluster + varianza_residua)\n",
    " ICC"
   ]
  },
  {
   "cell_type": "markdown",
   "metadata": {},
   "source": [
    "Questo valore di ICC, pari a 0.129, indica che solo il 12.9% della variazione totale nelle variabili osservate può essere attribuito alle differenze tra gli studenti (considerati come cluster individuali). In altre parole, una modesta parte della variazione complessiva nei dati è spiegata dalle differenze individuali tra gli studenti. Un ICC relativamente basso, come in questo caso, suggerisce che la maggior parte della variazione nei dati non è fortemente influenzata dalle caratteristiche o dai comportamenti individuali degli studenti, ma potrebbe essere dovuta ad altri fattori. In un contesto educativo, ciò potrebbe indicare che fattori esterni agli studenti stessi, come l'ambiente scolastico, le metodologie didattiche, o le caratteristiche del programma di studi, hanno un impatto maggiore sulla variazione osservata rispetto alle differenze individuali tra gli studenti."
   ]
  },
  {
   "cell_type": "markdown",
   "metadata": {},
   "source": [
    "Calcoliamo ora l'ICC con un modello SEM multilivello."
   ]
  },
  {
   "cell_type": "code",
   "execution_count": 21,
   "metadata": {
    "vscode": {
     "languageId": "r"
    }
   },
   "outputs": [],
   "source": [
    " fit <- sem(model,\n",
    "     data = dat,\n",
    "     cluster = \"clus\",\n",
    "     fixed.x = FALSE\n",
    " )"
   ]
  },
  {
   "cell_type": "code",
   "execution_count": 14,
   "metadata": {
    "vscode": {
     "languageId": "r"
    }
   },
   "outputs": [
    {
     "name": "stdout",
     "output_type": "stream",
     "text": [
      "lavaan 0.6.16 ended normally after 32 iterations\n",
      "\n",
      "  Estimator                                         ML\n",
      "  Optimization method                           NLMINB\n",
      "  Number of model parameters                        26\n",
      "\n",
      "  Number of observations                          1000\n",
      "  Number of clusters [clus]                        110\n",
      "\n",
      "Model Test User Model:\n",
      "                                                      \n",
      "  Test statistic                                 0.000\n",
      "  Degrees of freedom                                17\n",
      "  P-value (Chi-square)                           1.000\n",
      "\n",
      "Parameter Estimates:\n",
      "\n",
      "  Standard errors                             Standard\n",
      "  Information                                 Observed\n",
      "  Observed information based on                Hessian\n",
      "\n",
      "\n",
      "Level 1 [within]:\n",
      "\n",
      "Latent Variables:\n",
      "                   Estimate  Std.Err  z-value  P(>|z|)\n",
      "  fw =~                                               \n",
      "    y1                1.000                           \n",
      "    y2                0.987    0.034   29.313    0.000\n",
      "    y3                0.988    0.035   28.501    0.000\n",
      "    y4                1.006    0.035   28.915    0.000\n",
      "\n",
      "Regressions:\n",
      "                   Estimate  Std.Err  z-value  P(>|z|)\n",
      "  fw ~                                                \n",
      "    x1                0.846    0.042   20.353    0.000\n",
      "    x2                0.467    0.038   12.177    0.000\n",
      "\n",
      "Covariances:\n",
      "                   Estimate  Std.Err  z-value  P(>|z|)\n",
      "  x1 ~~                                               \n",
      "    x2                0.032    0.032    1.014    0.311\n",
      "\n",
      "Intercepts:\n",
      "                   Estimate  Std.Err  z-value  P(>|z|)\n",
      "   .y1                0.000                           \n",
      "   .y2                0.000                           \n",
      "   .y3                0.000                           \n",
      "   .y4                0.000                           \n",
      "    x1                0.007    0.031    0.222    0.825\n",
      "    x2                0.014    0.032    0.440    0.660\n",
      "   .fw                0.000                           \n",
      "\n",
      "Variances:\n",
      "                   Estimate  Std.Err  z-value  P(>|z|)\n",
      "   .y1                0.977    0.058   16.881    0.000\n",
      "   .y2                0.948    0.056   16.856    0.000\n",
      "   .y3                1.069    0.061   17.508    0.000\n",
      "   .y4                1.020    0.060   17.050    0.000\n",
      "   .fw                1.144    0.082   14.000    0.000\n",
      "    x1                0.985    0.044   22.361    0.000\n",
      "    x2                1.017    0.045   22.361    0.000\n",
      "\n",
      "\n",
      "Level 2 [clus]:\n",
      "\n",
      "Latent Variables:\n",
      "                   Estimate  Std.Err  z-value  P(>|z|)\n",
      "  fb =~                                               \n",
      "    y1                1.000                           \n",
      "    y2                1.007    0.064   15.709    0.000\n",
      "    y3                0.960    0.064   14.903    0.000\n",
      "    y4                0.998    0.066   15.222    0.000\n",
      "\n",
      "Regressions:\n",
      "                   Estimate  Std.Err  z-value  P(>|z|)\n",
      "  fb ~                                                \n",
      "    w                 0.363    0.089    4.072    0.000\n",
      "\n",
      "Intercepts:\n",
      "                   Estimate  Std.Err  z-value  P(>|z|)\n",
      "   .y1               -0.090    0.084   -1.071    0.284\n",
      "   .y2               -0.084    0.084   -1.003    0.316\n",
      "   .y3               -0.052    0.082   -0.630    0.528\n",
      "   .y4               -0.037    0.084   -0.439    0.660\n",
      "    w                 0.006    0.086    0.070    0.944\n",
      "   .fb                0.000                           \n",
      "\n",
      "Variances:\n",
      "                   Estimate  Std.Err  z-value  P(>|z|)\n",
      "   .y1                0.000                           \n",
      "   .y2                0.000                           \n",
      "   .y3                0.000                           \n",
      "   .y4                0.000                           \n",
      "   .fb                0.520    0.104    5.021    0.000\n",
      "    w                 0.815    0.110    7.416    0.000\n",
      "\n"
     ]
    }
   ],
   "source": [
    "summary(fit) |>\n",
    "    print()"
   ]
  },
  {
   "cell_type": "code",
   "execution_count": 13,
   "metadata": {
    "vscode": {
     "languageId": "r"
    }
   },
   "outputs": [
    {
     "name": "stdout",
     "output_type": "stream",
     "text": [
      "                 npar                  fmin                 chisq \n",
      "               26.000                 3.982                 0.000 \n",
      "                   df                pvalue        baseline.chisq \n",
      "               17.000                 1.000              3075.708 \n",
      "          baseline.df       baseline.pvalue                   cfi \n",
      "               24.000                 0.000                 1.000 \n",
      "                  tli                  nnfi                   rfi \n",
      "                1.008                 1.008                 1.000 \n",
      "                  nfi                  pnfi                   ifi \n",
      "                1.000                 0.708                 1.006 \n",
      "                  rni                  logl     unrestricted.logl \n",
      "                1.006             -9596.778             -9629.425 \n",
      "                  aic                   bic                ntotal \n",
      "            19245.556             19373.158              1000.000 \n",
      "                 bic2                 rmsea        rmsea.ci.lower \n",
      "            19290.580                 0.000                 0.000 \n",
      "       rmsea.ci.upper        rmsea.ci.level          rmsea.pvalue \n",
      "                0.000                 0.900                 1.000 \n",
      "       rmsea.close.h0 rmsea.notclose.pvalue     rmsea.notclose.h0 \n",
      "                0.050                 0.000                 0.080 \n",
      "                 srmr           srmr_within          srmr_between \n",
      "                0.059                 0.042                 0.018 \n"
     ]
    }
   ],
   "source": [
    "fitMeasures(fit) |>\n",
    "    print()"
   ]
  },
  {
   "cell_type": "markdown",
   "metadata": {},
   "source": [
    "Quando calcoliamo l'ICC con lavaan, ottieniamo valori separati per ciascuna variabile osservata nel contesto del modello multilivello. Questi valori riflettono quanto la varianza in ogni variabile sia attribuibile alle differenze tra i gruppi, ma all'interno del framework più ampio delle relazioni specificate nel modello SEM. L'ICC per ciascuno dei 4 item si trova nel modo seguente:"
   ]
  },
  {
   "cell_type": "code",
   "execution_count": 17,
   "metadata": {
    "vscode": {
     "languageId": "r"
    }
   },
   "outputs": [
    {
     "name": "stdout",
     "output_type": "stream",
     "text": [
      "   y1    y2    y3    y4    x1    x2 \n",
      "0.182 0.193 0.170 0.185 0.000 0.000 \n"
     ]
    }
   ],
   "source": [
    "lavInspect(fit, \"icc\") |>\n",
    "    print()"
   ]
  },
  {
   "cell_type": "markdown",
   "metadata": {},
   "source": [
    "Nel caso di `y1`, le stime fornite da `lmer` sono simili a quelle fornite dal modello SEM multilivello.\n",
    "\n",
    "## Considerazioni Conclusive\n",
    "\n",
    "In questo capitolo, abbiamo illustrato il modello di equazioni strutturali multilivello utilizzando `lavaan`. Come evidenziato dall'esempio, l'implementazione in `lavaan` è molto diretta, richiedendo solo l'inclusione dell'opzione `cluster` nella funzione `sem`. È importante sottolineare che, al momento, `lavaan` supporta solo modelli SEM a due livelli. \n",
    "\n",
    "Nell'ambito dei modelli SEM multilivello, abbiamo visto come l'interpretazione dei coefficienti di correlazione intra-classe (ICC) possa fornire intuizioni significative sulla variazione dei dati all'interno di gruppi o cluster. Un ICC basso, come quello osservato nell'esempio (0.129), indica che una porzione minore della variazione totale è attribuibile alle differenze tra i cluster. Nel contesto specifico dei nostri dati, dove ogni studente è considerato un cluster individuale, ciò suggerisce che fattori esterni agli studenti stessi potrebbero giocare un ruolo più significativo nella variazione osservata rispetto alle caratteristiche individuali degli studenti.\n",
    "\n",
    "In conclusione, la modellazione di equazioni strutturali multilivello è uno strumento potente e flessibile nell'analisi di dati strutturati gerarchicamente. `lavaan`, sebbene limitato ai modelli a due livelli, fornisce un approccio accessibile e diretto per questi tipi di analisi. Per modelli più complessi e a più livelli, Mplus e Stata offrono soluzioni alternative che possono gestire una gamma più ampia di esigenze analitiche. "
   ]
  }
 ],
 "metadata": {
  "kernelspec": {
   "display_name": "R",
   "language": "R",
   "name": "ir"
  },
  "language_info": {
   "codemirror_mode": "r",
   "file_extension": ".r",
   "mimetype": "text/x-r-source",
   "name": "R",
   "pygments_lexer": "r",
   "version": "4.3.2"
  }
 },
 "nbformat": 4,
 "nbformat_minor": 2
}
