{
 "cells": [
  {
   "attachments": {},
   "cell_type": "markdown",
   "id": "3d6d81b5",
   "metadata": {},
   "source": [
    "(fa-model-3-notebook)=\n",
    "# Il modello multifattoriale "
   ]
  },
  {
   "cell_type": "code",
   "execution_count": 1,
   "id": "d9869c81",
   "metadata": {
    "tags": [
     "remove_cell"
    ],
    "vscode": {
     "languageId": "r"
    }
   },
   "outputs": [],
   "source": [
    "source(\"_common.R\")\n",
    "suppressPackageStartupMessages({\n",
    "    library(\"lavaan\")\n",
    "    library(\"semPlot\")\n",
    "    library(\"knitr\")\n",
    "    library(\"kableExtra\")\n",
    "    library(\"tidyr\")\n",
    "    library(\"corrplot\")\n",
    "    library(\"tidySEM\")\n",
    "})\n",
    "options(repr.plot.width=6, repr.plot.height=6)\n",
    "set.seed(42)\n"
   ]
  },
  {
   "attachments": {},
   "cell_type": "markdown",
   "id": "bed86c26",
   "metadata": {},
   "source": [
    "## Modello multifattoriale: fattori ortogonali\n",
    "\n",
    "La teoria dei due fattori ha orientato per diversi anni le ricerche\n",
    "sull'intelligenza, finché Thurstone (1945) non propose una sua modifica,\n",
    "conosciuta come teoria multifattoriale. Secondo Thurstone la\n",
    "covariazione tra le variabili manifeste non può essere spiegata da un\n",
    "unico fattore generale. Invece è necessario ipotizzare l'azione causale\n",
    "di diversi fattori, definiti comuni, i quali si riferiscono solo ad\n",
    "alcune delle variabili considerate.\n",
    "\n",
    "Il modello plurifattoriale assume che ciascuna variabile manifesta sia\n",
    "espressa come funzione lineare di un certo numero $m$ di fattori comuni,\n",
    "$\\xi_1, \\xi_2, \\dots, \\xi_m$, responsabili della correlazione con le\n",
    "altre variabili, e di un solo fattore specifico (termine d'errore),\n",
    "responsabile della variabilità della variabile stessa. Per $p$ variabili\n",
    "manifeste, $Y_1, Y_2, \\dots, Y_p$, il modello fattoriale diventa quello\n",
    "indicato dal sistema di equazioni lineari descritto di seguito.\n",
    "Idealmente, $m$ dovrebbe essere molto più piccolo di $p$ così da\n",
    "consentire una descrizione parsimoniosa delle variabili manifeste in\n",
    "funzione di pochi fattori soggiacenti.\n",
    "\n",
    "Le variabili manifeste $Y$ sono indicizzate da $i = 1, \\dots, p.$ Le\n",
    "variabili latenti $\\xi$ (fattori) sono indicizzate da $j = 1, \\dots, m.$\n",
    "I fattori specifici $\\delta$ sono indicizzati da $i = 1, \\dots, p.$ Le\n",
    "saturazioni fattoriali si distinguono dunque tramite due indici, $i$ e\n",
    "$j$: il primo indice si riferisce alle variabili manifeste, il secondo\n",
    "si riferisce ai fattori latenti.\n",
    "\n",
    "Indichiamo con $\\mu_i$, con $i=1, \\dots, p$ le medie delle $p$ variabili\n",
    "manifeste $Y_1, Y_2, \\dots, Y_p$. Se non vi è alcun effetto delle\n",
    "variabili comuni latenti, allora la variabile $Y_{ijk}$, dove $k$ è\n",
    "l'indice usato per i soggetti, sarà uguale a:\n",
    "\n",
    "$$\n",
    "\\begin{equation}\n",
    "\\begin{cases} \n",
    "  Y_{1k}    &= \\mu_1 + \\delta_{1k} \\\\\n",
    "&\\vdots\\\\\n",
    "Y_{ik}   &= \\mu_i + \\delta_{ik}\\\\\n",
    "&\\vdots\\\\\n",
    "Y_{pk}   &= \\mu_p + \\delta_{pk} \\notag\n",
    "\\end{cases}\n",
    "\\end{equation}\n",
    "$$\n",
    "\n",
    "Se invece le variabili manifeste rappresentano la somma\n",
    "dell'effetto causale di $m$ fattori comuni e di $p$ fattori specifici,\n",
    "allora possiamo scrivere: \n",
    "\n",
    "$$\n",
    "\\begin{equation}\n",
    "\\begin{cases} \n",
    "  Y_1  - \\mu_1  &= \\lambda_{11}\\xi_1 + \\dots + \\lambda_{1k}\\xi_k \\dots +\\lambda_{1m}\\xi_m + \\delta_1 \\\\\n",
    "&\\vdots\\\\\n",
    "Y_i -  \\mu_i  &= \\lambda_{i1}\\xi_1 + \\dots +  \\lambda_{ik}\\xi_k \\dots +\\lambda_{im}\\xi_m + \\delta_i\\\\\n",
    "&\\vdots\\\\\n",
    "Y_p - \\mu_p  &= \\lambda_{p1}\\xi_1 + \\dots +  \\lambda_{pk}\\xi_k \\dots +\\lambda_{pm}\\xi_m + \\delta_p \\notag\n",
    "\\end{cases}\n",
    "\\end{equation}\n",
    "$$\n",
    "\n",
    "Nel precedente sistema di equazioni lineari,\n",
    "\n",
    "-   $\\xi_j$, con $j=1, \\dots, m$, rappresenta la $j$-esima variabile\n",
    "    inosservabile a fattore comune (ossia il $j$-esimo fattore comune a\n",
    "    tutte le variabili $Y_i$);\n",
    "-   $\\lambda_{ij}$ rappresenta il parametro, detto *saturazione* o\n",
    "    *peso* fattoriale, che riflette l'importanza del $j$-esimo fattore\n",
    "    comune nella composizione della $i$-esima variabile osservabile;\n",
    "-   $\\delta_i$ rappresenta il fattore specifico (o unico) di ogni\n",
    "    variabile manifesta $Y_i$.\n",
    "\n",
    "In conclusione, secondo il modello multifattoriale, le variabili\n",
    "manifeste $Y_i$, con $i=1, \\dots, p$, sono il risultato di una\n",
    "*combinazione lineare* di $m < p$ fattori inosservabili ad esse comuni\n",
    "$\\xi_j$, con $j=1, \\dots, m$, e di $p$ fattori specifici $\\delta_i$, con\n",
    "$i=1, \\dots, p$, anch'essi inosservabili e di natura residua.\n",
    "\n",
    "### Assunzioni del modello multifattoriale\n",
    "\n",
    "Le variabili inosservabili a fattore comune $\\xi_j$, con\n",
    "$j=1, \\dots, m$, in quanto latenti, non possiedono unità di misura.\n",
    "Pertanto, per semplicità si assume che abbiano media zero,\n",
    "$\\mathbb{E}(\\xi_j)=0$, abbiano varianza unitaria,\n",
    "$\\mathbb{V} (\\xi_j)= \\mathbb{E}(\\xi_j^2) - [\\mathbb{E}(\\xi_j)]^2=1$, e siano incorrelate\n",
    "tra loro, $Cov(\\xi_j, \\xi_h)=0$, con $j, h = 1, \\dots, m; \\;j \\neq h$.\n",
    "Si assume inoltre che le variabili a fattore specifico $\\delta_i$ siano\n",
    "tra loro incorrelate, $Cov(\\delta_i,\\delta_k)=0$, con\n",
    "$i, k = 1, \\dots, p, \\; i \\neq k$, abbiano media zero,\n",
    "$\\mathbb{E}(\\delta_i)=0$, e varianza uguale a $\\mathbb{V} (\\delta_i) = \\psi_{ii}$.\n",
    "La varianza $\\psi_{ii}$ è detta *varianza specifica* o *unicità* della\n",
    "$i$-esima variabile manifesta $Y_i$. Si assume infine che i fattori\n",
    "specifici siano linearmente incorrelati con i fattori comuni, ovvero\n",
    "$Cov(\\xi_j, \\delta_i)=0$ per ogni $j=1, \\dots, m$ e per ogni\n",
    "$i=1\\dots,p$.\n",
    "\n",
    "### Interpretazione dei parametri del modello\n",
    "\n",
    "#### Covarianza tra variabili e fattori\n",
    "\n",
    "Nell'ipotesi che le variabili $Y_i$ abbiano media nulla, la covarianza\n",
    "tra $Y_i$ e $\\xi_j$ è uguale alla saturazione fattoriale $\\lambda_{ij}$:\n",
    "\n",
    "$$\n",
    "\\begin{equation}\n",
    "\\begin{aligned}\n",
    "  Cov(Y_i, \\xi_j) &= \\mathbb{E}(Y_i \\xi_j)\\notag\\\\\n",
    "  &=\\mathbb{E}\\left[(\\lambda_{i1} \\xi_1 + \\dots + \\lambda_{im} \\xi_m + \\delta_i)\\xi_j \\right]\\notag\\\\\n",
    "  &= \\lambda_{i1}\\underbrace{\\mathbb{E}(\\xi_1\\xi_j)}_{=0} + \\dots + \n",
    "\\lambda_{ij}\\underbrace{\\mathbb{E}(\\xi_j^2)}_{=1} + \\dots \\notag\\\\\n",
    "& \\; + \\lambda_{im}\\underbrace{\\mathbb{E}(\\xi_m\\xi_j)}_{=0} +\n",
    "  \\underbrace{\\mathbb{E}(\\delta_i \\xi_j)}_{=0}\\notag\\\\\n",
    "  &= \\lambda_{ij}.\\notag\n",
    "\\end{aligned}\n",
    "\\end{equation}\n",
    "$$\n",
    "\n",
    "Anche nel modello multifattoriale, dunque, le saturazioni fattoriali rappresentano le covarianze tra le variabili e i fattori:\n",
    "\n",
    "$$\n",
    "Cov(Y_i, \\xi_j) = \\lambda_{ij} \\qquad i=1, \\dots, p; \\quad j= 1, \\dots, m. \n",
    "$$\n",
    "\n",
    "Naturalmente, se le variabili sono standardizzate, le saturazioni fattoriali diventano correlazioni: \n",
    "\n",
    "$$\n",
    "r_{ij} = \\lambda_{ij}. \n",
    "$$\n",
    "\n",
    "#### Espressione fattoriale della varianza\n",
    "\n",
    "Come nel modello monofattoriale, la varianza delle variabili manifeste\n",
    "si decompone in una componente dovuta ai fattori comuni, chiamata\n",
    "*comunalità*, e in una componente specifica alle $Y_i$, chiamata\n",
    "*unicità*. Nell'ipotesi che le variabili $Y_i$ abbiano media nulla, la\n",
    "varianza di $Y_i$ è uguale a \n",
    "\n",
    "$$\n",
    "\\begin{equation}\n",
    "\\begin{aligned}\n",
    "  \\mathbb{V} (Y_i) \n",
    "  &=\\mathbb{E}\\left[ (\\lambda_{i1} \\xi_1 + \\dots +\n",
    "    \\lambda_{im} \\xi_m + \\delta_i)^2 \\right].\n",
    "\\end{aligned}\n",
    "\\end{equation}\n",
    "$$(eq-eq-var-multifatt)\n",
    "\n",
    "Come si sviluppa il polinomio precedente? Il quadrato di un polinomio è uguale alla somma\n",
    "dei quadrati di tutti i termini più il doppio prodotto di ogni termine\n",
    "per ciascuno di quelli che lo seguono. Il valore atteso del quadrato del\n",
    "primo termine è uguale a $\\lambda_{i1}^2\\mathbb{E}(\\xi_1^2)$ ma, essendo la\n",
    "varianza di $\\xi_1$ uguale a $1$, otteniamo semplicemente\n",
    "$\\lambda_{i1}^2$. Lo stesso vale per i quadrati di tutti i termini\n",
    "seguenti tranne l'ultimo. Infatti, $\\mathbb{E}(\\delta_i^2)=\\psi_{ii}$. Per quel\n",
    "che riguarda i doppi prodotti, sono tutti nulli. In primo luogo perché,\n",
    "nel caso di fattori ortogonali, la covarianza tra i fattori comuni è\n",
    "nulla, $\\mathbb{E}(\\xi_j \\xi_h)=0$, con $j \\neq h$. In secondo luogo perché il\n",
    "fattori comuni cono incorrelati con i fattori specifici, quindi\n",
    "$\\mathbb{E}(\\delta_i \\xi_j)=0$.\n",
    "\n",
    "In conclusione, \n",
    "\n",
    "$$\n",
    "\\begin{equation}\n",
    "\\begin{aligned}\n",
    "  \\mathbb{V}(Y_i) &= \\lambda_{i1}^2 + \\lambda_{i2}^2 + \\dots + \\lambda_{im}^2 + \\psi_{ii} \\notag\\\\\n",
    "  &= \\sum_{j=1}^m \\lambda_{ij}^2 + \\psi_{ii}\\notag\\\\\n",
    "  &= h_i^2 + \\psi_{ii}\\notag\\\\\n",
    "  &=\\text{communalità} + \\text{unicità},\\notag\n",
    "\\end{aligned}\n",
    "\\end{equation}\n",
    "$$\n",
    "  \n",
    "la varianza della variabile manifesta $Y_i$ è suddivisa in due parti: il\n",
    "primo addendo è definito comunalità poiché rappresenta la parte di\n",
    "variabilità della $Y_i$ spiegata dai fattori comuni; il secondo addendo\n",
    "è invece definito varianza specifica (o unicità) poiché esprime la parte\n",
    "di variabilità della $Y_i$ non spiegata dai fattori comuni.\n",
    "\n",
    "#### Espressione fattoriale della covarianza\n",
    "\n",
    "Quale esempio, consideriamo il caso di $p=5$ variabili osservabili e\n",
    "$m=2$ fattori ortogonali. Se le variabili manifeste sono 'centrate'\n",
    "(ovvero, se a ciascuna di esse sottraiamo la rispettiva media), allora\n",
    "il modello multifattoriale diventa \n",
    "\n",
    "$$\n",
    "\\begin{equation}\n",
    "\\begin{aligned}\n",
    "  Y_1 &= \\lambda_{11} \\xi_1 + \\lambda_{12} \\xi_2 + \\delta_1,\\notag\\\\\n",
    "  Y_2 &= \\lambda_{21} \\xi_1 + \\lambda_{22} \\xi_2 + \\delta_2,\\notag\\\\\n",
    "  Y_3 &= \\lambda_{31} \\xi_1 + \\lambda_{32} \\xi_2 + \\delta_3,\\notag\\\\\n",
    "  Y_4 &= \\lambda_{41} \\xi_1 + \\lambda_{42} \\xi_2 + \\delta_4,\\notag\\\\\n",
    "  Y_5 &= \\lambda_{51} \\xi_1 + \\lambda_{52} \\xi_2 + \\delta_5.\\notag\n",
    "\\end{aligned}\n",
    "\\end{equation}\n",
    "$$\n",
    "\n",
    "Nell'ipotesi che le variabili $Y_i$ abbiano media nulla, la\n",
    "covarianza tra $Y_1$ e $Y_2$, ad esempio, è uguale a: \n",
    "\n",
    "$$\n",
    "\\begin{equation}\n",
    "\\begin{aligned}\n",
    "  Cov(Y_1, Y_2) &= \\mathbb{E}\\left( Y_1 Y_2\\right) \\notag\\\\\n",
    "  &= \\mathbb{E}\\left[ \n",
    "  (\\lambda_{11} \\xi_1 + \\lambda_{12} \\xi_2 + \\delta_1)\n",
    "   (\\lambda_{21} \\xi_1 + \\lambda_{22} \\xi_2 +  \\delta_2)\n",
    "  \\right]\\notag\\\\\n",
    "  &= \\lambda_{11} \\lambda_{21} \\mathbb{E}(\\xi_1^2) +\n",
    "      \\lambda_{11} \\lambda_{22} \\mathbb{E}(\\xi_1 \\xi_2) +\\notag \n",
    "      \\lambda_{11} \\mathbb{E}(\\xi_1 \\delta_2) +\\notag\\\\\n",
    "    &\\quad \\lambda_{12} \\lambda_{21}\\mathbb{E}(\\xi_1 \\xi_2)\\, + \n",
    "      \\lambda_{12} \\lambda_{22}\\mathbb{E}(\\xi^2_2)\\, + \n",
    "      \\lambda_{12} \\mathbb{E}(\\xi_2\\delta_2) +\\notag\\\\\n",
    "    &\\quad \\lambda_{21} \\mathbb{E}(\\xi_1\\delta_1) +\\notag \n",
    "     \\lambda_{22} \\mathbb{E}(\\xi_2\\delta_1) + \\mathbb{E}(\\delta_1 \\delta_2)\\notag\\\\\n",
    "   &= \\lambda_{11} \\lambda_{21} + \\lambda_{12} \\lambda_{22}.\\notag\n",
    "\\end{aligned}\n",
    "\\end{equation}\n",
    "\n",
    "$$\n",
    "In conclusione, la covarianza tra le variabili manifeste $Y_l$ e $Y_m$\n",
    "riprodotta dal modello è data dalla somma dei prodotti delle saturazioni\n",
    "$\\lambda_l \\lambda_m$ nei due fattori.\n",
    "\n",
    "**Esempio.** Consideriamo i dati riportati da {cite:t}`brown2015confirmatory`, ovvero otto misure di personalità raccolte su un campione di 250 pazienti che hanno concluso un programma di psicoterapia. Le scale sono le seguenti:\n",
    "\n",
    "- anxiety (N1), \n",
    "- hostility (N2), \n",
    "- depression (N3), \n",
    "- self-consciousness (N4), \n",
    "- warmth (E1), \n",
    "- gregariousness (E2), \n",
    "- assertiveness (E3), \n",
    "- positive emotions (E4). \n"
   ]
  },
  {
   "cell_type": "code",
   "execution_count": 2,
   "id": "d8b2d4d6",
   "metadata": {
    "vscode": {
     "languageId": "r"
    }
   },
   "outputs": [],
   "source": [
    "varnames <- c(\"N1\", \"N2\", \"N3\", \"N4\", \"E1\", \"E2\", \"E3\", \"E4\")\n",
    "sds <- '5.7  5.6  6.4  5.7  6.0  6.2  5.7  5.6'\n",
    "\n",
    "cors <- '\n",
    " 1.000\n",
    " 0.767  1.000 \n",
    " 0.731  0.709  1.000 \n",
    " 0.778  0.738  0.762  1.000 \n",
    "-0.351  -0.302  -0.356  -0.318  1.000 \n",
    "-0.316  -0.280  -0.300  -0.267  0.675  1.000 \n",
    "-0.296  -0.289  -0.297  -0.296  0.634  0.651  1.000 \n",
    "-0.282  -0.254  -0.292  -0.245  0.534  0.593  0.566  1.000'\n",
    "\n",
    "psychot_cor_mat <- getCov(cors, names = varnames)\n",
    "n <- 250"
   ]
  },
  {
   "attachments": {},
   "cell_type": "markdown",
   "id": "1d8951e8",
   "metadata": {},
   "source": [
    "Eseguiamo l'analisi fattoriale esplorativa con il metodo della massima verosimiglianza ipotizzando due fattori comuni incorrelati:"
   ]
  },
  {
   "cell_type": "code",
   "execution_count": 3,
   "id": "d5da3a92",
   "metadata": {
    "vscode": {
     "languageId": "r"
    }
   },
   "outputs": [],
   "source": [
    "n_facs <- 2\n",
    "fit_efa <- factanal(\n",
    "  covmat = psychot_cor_mat,\n",
    "  factors = n_facs,\n",
    "  rotation = \"varimax\",\n",
    "  n.obs = n\n",
    ")"
   ]
  },
  {
   "attachments": {},
   "cell_type": "markdown",
   "id": "70000970",
   "metadata": {},
   "source": [
    "Esaminiamo le saturazioni fattoriali:"
   ]
  },
  {
   "cell_type": "code",
   "execution_count": 10,
   "id": "160aafec",
   "metadata": {
    "vscode": {
     "languageId": "r"
    }
   },
   "outputs": [
    {
     "name": "stdout",
     "output_type": "stream",
     "text": [
      "\n",
      "Loadings:\n",
      "   Factor1 Factor2\n",
      "N1  0.854  -0.228 \n",
      "N2  0.826  -0.194 \n",
      "N3  0.811  -0.233 \n",
      "N4  0.865  -0.186 \n",
      "E1 -0.202   0.773 \n",
      "E2 -0.139   0.829 \n",
      "E3 -0.158   0.771 \n",
      "E4 -0.147   0.684 \n",
      "\n",
      "               Factor1 Factor2\n",
      "SS loadings      2.923   2.526\n",
      "Proportion Var   0.365   0.316\n",
      "Cumulative Var   0.365   0.681\n"
     ]
    }
   ],
   "source": [
    "lambda <- fit_efa$loadings\n",
    "print(lambda)"
   ]
  },
  {
   "attachments": {},
   "cell_type": "markdown",
   "id": "99c50c84",
   "metadata": {},
   "source": [
    "La soluzione fattoriale conferma la presenza di due fattori: il primo fattore satura sulle scale di neutoricismo, il secono sulle scale di estroversione.\n",
    "\n",
    "La correlazione riprodotta $r_{12}$ è uguale a $\\lambda_{11}\\lambda_{21} + \\lambda_{12}\\lambda_{22}$ "
   ]
  },
  {
   "cell_type": "code",
   "execution_count": 11,
   "id": "922db63d",
   "metadata": {
    "vscode": {
     "languageId": "r"
    }
   },
   "outputs": [
    {
     "data": {
      "text/html": [
       "0.74928439937518"
      ],
      "text/latex": [
       "0.74928439937518"
      ],
      "text/markdown": [
       "0.74928439937518"
      ],
      "text/plain": [
       "[1] 0.7492844"
      ]
     },
     "metadata": {},
     "output_type": "display_data"
    }
   ],
   "source": [
    "lambda[1, 1] * lambda[2, 1] + lambda[1, 2] * lambda[2, 2]"
   ]
  },
  {
   "attachments": {},
   "cell_type": "markdown",
   "id": "24fd8a88",
   "metadata": {},
   "source": [
    "e corrisponde da vicino alla correlazione osservata 0.767.\n",
    "\n",
    "L'intera matrice di correlazioni riprodotte è\n",
    "$\\boldsymbol{\\Lambda} \\boldsymbol{\\Lambda}^{\\mathsf{T}} + \\boldsymbol{\\psi}$:"
   ]
  },
  {
   "cell_type": "code",
   "execution_count": 12,
   "id": "c71edbe4",
   "metadata": {
    "vscode": {
     "languageId": "r"
    }
   },
   "outputs": [
    {
     "data": {
      "text/html": [
       "<table class=\"dataframe\">\n",
       "<caption>A matrix: 8 × 8 of type dbl</caption>\n",
       "<thead>\n",
       "\t<tr><th></th><th scope=col>N1</th><th scope=col>N2</th><th scope=col>N3</th><th scope=col>N4</th><th scope=col>E1</th><th scope=col>E2</th><th scope=col>E3</th><th scope=col>E4</th></tr>\n",
       "</thead>\n",
       "<tbody>\n",
       "\t<tr><th scope=row>N1</th><td> 1.000</td><td> 0.749</td><td> 0.745</td><td> 0.781</td><td>-0.348</td><td>-0.307</td><td>-0.311</td><td>-0.281</td></tr>\n",
       "\t<tr><th scope=row>N2</th><td> 0.749</td><td> 1.000</td><td> 0.715</td><td> 0.751</td><td>-0.317</td><td>-0.276</td><td>-0.281</td><td>-0.254</td></tr>\n",
       "\t<tr><th scope=row>N3</th><td> 0.745</td><td> 0.715</td><td> 1.000</td><td> 0.745</td><td>-0.344</td><td>-0.306</td><td>-0.308</td><td>-0.279</td></tr>\n",
       "\t<tr><th scope=row>N4</th><td> 0.781</td><td> 0.751</td><td> 0.745</td><td> 1.000</td><td>-0.318</td><td>-0.274</td><td>-0.280</td><td>-0.254</td></tr>\n",
       "\t<tr><th scope=row>E1</th><td>-0.348</td><td>-0.317</td><td>-0.344</td><td>-0.318</td><td> 1.000</td><td> 0.669</td><td> 0.628</td><td> 0.558</td></tr>\n",
       "\t<tr><th scope=row>E2</th><td>-0.307</td><td>-0.276</td><td>-0.306</td><td>-0.274</td><td> 0.669</td><td> 1.000</td><td> 0.661</td><td> 0.587</td></tr>\n",
       "\t<tr><th scope=row>E3</th><td>-0.311</td><td>-0.281</td><td>-0.308</td><td>-0.280</td><td> 0.628</td><td> 0.661</td><td> 1.000</td><td> 0.550</td></tr>\n",
       "\t<tr><th scope=row>E4</th><td>-0.281</td><td>-0.254</td><td>-0.279</td><td>-0.254</td><td> 0.558</td><td> 0.587</td><td> 0.550</td><td> 1.000</td></tr>\n",
       "</tbody>\n",
       "</table>\n"
      ],
      "text/latex": [
       "A matrix: 8 × 8 of type dbl\n",
       "\\begin{tabular}{r|llllllll}\n",
       "  & N1 & N2 & N3 & N4 & E1 & E2 & E3 & E4\\\\\n",
       "\\hline\n",
       "\tN1 &  1.000 &  0.749 &  0.745 &  0.781 & -0.348 & -0.307 & -0.311 & -0.281\\\\\n",
       "\tN2 &  0.749 &  1.000 &  0.715 &  0.751 & -0.317 & -0.276 & -0.281 & -0.254\\\\\n",
       "\tN3 &  0.745 &  0.715 &  1.000 &  0.745 & -0.344 & -0.306 & -0.308 & -0.279\\\\\n",
       "\tN4 &  0.781 &  0.751 &  0.745 &  1.000 & -0.318 & -0.274 & -0.280 & -0.254\\\\\n",
       "\tE1 & -0.348 & -0.317 & -0.344 & -0.318 &  1.000 &  0.669 &  0.628 &  0.558\\\\\n",
       "\tE2 & -0.307 & -0.276 & -0.306 & -0.274 &  0.669 &  1.000 &  0.661 &  0.587\\\\\n",
       "\tE3 & -0.311 & -0.281 & -0.308 & -0.280 &  0.628 &  0.661 &  1.000 &  0.550\\\\\n",
       "\tE4 & -0.281 & -0.254 & -0.279 & -0.254 &  0.558 &  0.587 &  0.550 &  1.000\\\\\n",
       "\\end{tabular}\n"
      ],
      "text/markdown": [
       "\n",
       "A matrix: 8 × 8 of type dbl\n",
       "\n",
       "| <!--/--> | N1 | N2 | N3 | N4 | E1 | E2 | E3 | E4 |\n",
       "|---|---|---|---|---|---|---|---|---|\n",
       "| N1 |  1.000 |  0.749 |  0.745 |  0.781 | -0.348 | -0.307 | -0.311 | -0.281 |\n",
       "| N2 |  0.749 |  1.000 |  0.715 |  0.751 | -0.317 | -0.276 | -0.281 | -0.254 |\n",
       "| N3 |  0.745 |  0.715 |  1.000 |  0.745 | -0.344 | -0.306 | -0.308 | -0.279 |\n",
       "| N4 |  0.781 |  0.751 |  0.745 |  1.000 | -0.318 | -0.274 | -0.280 | -0.254 |\n",
       "| E1 | -0.348 | -0.317 | -0.344 | -0.318 |  1.000 |  0.669 |  0.628 |  0.558 |\n",
       "| E2 | -0.307 | -0.276 | -0.306 | -0.274 |  0.669 |  1.000 |  0.661 |  0.587 |\n",
       "| E3 | -0.311 | -0.281 | -0.308 | -0.280 |  0.628 |  0.661 |  1.000 |  0.550 |\n",
       "| E4 | -0.281 | -0.254 | -0.279 | -0.254 |  0.558 |  0.587 |  0.550 |  1.000 |\n",
       "\n"
      ],
      "text/plain": [
       "   N1     N2     N3     N4     E1     E2     E3     E4    \n",
       "N1  1.000  0.749  0.745  0.781 -0.348 -0.307 -0.311 -0.281\n",
       "N2  0.749  1.000  0.715  0.751 -0.317 -0.276 -0.281 -0.254\n",
       "N3  0.745  0.715  1.000  0.745 -0.344 -0.306 -0.308 -0.279\n",
       "N4  0.781  0.751  0.745  1.000 -0.318 -0.274 -0.280 -0.254\n",
       "E1 -0.348 -0.317 -0.344 -0.318  1.000  0.669  0.628  0.558\n",
       "E2 -0.307 -0.276 -0.306 -0.274  0.669  1.000  0.661  0.587\n",
       "E3 -0.311 -0.281 -0.308 -0.280  0.628  0.661  1.000  0.550\n",
       "E4 -0.281 -0.254 -0.279 -0.254  0.558  0.587  0.550  1.000"
      ]
     },
     "metadata": {},
     "output_type": "display_data"
    }
   ],
   "source": [
    "Rr <- lambda %*% t(lambda) + diag(fit_efa$uniq)\n",
    "Rr %>% \n",
    "  round(3)"
   ]
  },
  {
   "attachments": {},
   "cell_type": "markdown",
   "id": "41aab4e4",
   "metadata": {},
   "source": [
    "La differenza tra la matrice di correlazioni riprodotte e la matrice di\n",
    "correlazioni osservate è uguale a:"
   ]
  },
  {
   "cell_type": "code",
   "execution_count": 13,
   "id": "4fc58583",
   "metadata": {
    "lines_to_next_cell": 0,
    "vscode": {
     "languageId": "r"
    }
   },
   "outputs": [
    {
     "data": {
      "text/html": [
       "<table class=\"dataframe\">\n",
       "<caption>A matrix: 8 × 8 of type dbl</caption>\n",
       "<thead>\n",
       "\t<tr><th></th><th scope=col>N1</th><th scope=col>N2</th><th scope=col>N3</th><th scope=col>N4</th><th scope=col>E1</th><th scope=col>E2</th><th scope=col>E3</th><th scope=col>E4</th></tr>\n",
       "</thead>\n",
       "<tbody>\n",
       "\t<tr><th scope=row>N1</th><td> 0.000</td><td> 0.018</td><td>-0.014</td><td>-0.003</td><td>-0.003</td><td>-0.009</td><td> 0.015</td><td>-0.001</td></tr>\n",
       "\t<tr><th scope=row>N2</th><td> 0.018</td><td> 0.000</td><td>-0.006</td><td>-0.013</td><td> 0.015</td><td>-0.004</td><td>-0.008</td><td> 0.000</td></tr>\n",
       "\t<tr><th scope=row>N3</th><td>-0.014</td><td>-0.006</td><td> 0.000</td><td> 0.017</td><td>-0.012</td><td> 0.006</td><td> 0.011</td><td>-0.013</td></tr>\n",
       "\t<tr><th scope=row>N4</th><td>-0.003</td><td>-0.013</td><td> 0.017</td><td> 0.000</td><td> 0.000</td><td> 0.007</td><td>-0.016</td><td> 0.009</td></tr>\n",
       "\t<tr><th scope=row>E1</th><td>-0.003</td><td> 0.015</td><td>-0.012</td><td> 0.000</td><td> 0.000</td><td> 0.006</td><td> 0.006</td><td>-0.024</td></tr>\n",
       "\t<tr><th scope=row>E2</th><td>-0.009</td><td>-0.004</td><td> 0.006</td><td> 0.007</td><td> 0.006</td><td> 0.000</td><td>-0.010</td><td> 0.006</td></tr>\n",
       "\t<tr><th scope=row>E3</th><td> 0.015</td><td>-0.008</td><td> 0.011</td><td>-0.016</td><td> 0.006</td><td>-0.010</td><td> 0.000</td><td> 0.016</td></tr>\n",
       "\t<tr><th scope=row>E4</th><td>-0.001</td><td> 0.000</td><td>-0.013</td><td> 0.009</td><td>-0.024</td><td> 0.006</td><td> 0.016</td><td> 0.000</td></tr>\n",
       "</tbody>\n",
       "</table>\n"
      ],
      "text/latex": [
       "A matrix: 8 × 8 of type dbl\n",
       "\\begin{tabular}{r|llllllll}\n",
       "  & N1 & N2 & N3 & N4 & E1 & E2 & E3 & E4\\\\\n",
       "\\hline\n",
       "\tN1 &  0.000 &  0.018 & -0.014 & -0.003 & -0.003 & -0.009 &  0.015 & -0.001\\\\\n",
       "\tN2 &  0.018 &  0.000 & -0.006 & -0.013 &  0.015 & -0.004 & -0.008 &  0.000\\\\\n",
       "\tN3 & -0.014 & -0.006 &  0.000 &  0.017 & -0.012 &  0.006 &  0.011 & -0.013\\\\\n",
       "\tN4 & -0.003 & -0.013 &  0.017 &  0.000 &  0.000 &  0.007 & -0.016 &  0.009\\\\\n",
       "\tE1 & -0.003 &  0.015 & -0.012 &  0.000 &  0.000 &  0.006 &  0.006 & -0.024\\\\\n",
       "\tE2 & -0.009 & -0.004 &  0.006 &  0.007 &  0.006 &  0.000 & -0.010 &  0.006\\\\\n",
       "\tE3 &  0.015 & -0.008 &  0.011 & -0.016 &  0.006 & -0.010 &  0.000 &  0.016\\\\\n",
       "\tE4 & -0.001 &  0.000 & -0.013 &  0.009 & -0.024 &  0.006 &  0.016 &  0.000\\\\\n",
       "\\end{tabular}\n"
      ],
      "text/markdown": [
       "\n",
       "A matrix: 8 × 8 of type dbl\n",
       "\n",
       "| <!--/--> | N1 | N2 | N3 | N4 | E1 | E2 | E3 | E4 |\n",
       "|---|---|---|---|---|---|---|---|---|\n",
       "| N1 |  0.000 |  0.018 | -0.014 | -0.003 | -0.003 | -0.009 |  0.015 | -0.001 |\n",
       "| N2 |  0.018 |  0.000 | -0.006 | -0.013 |  0.015 | -0.004 | -0.008 |  0.000 |\n",
       "| N3 | -0.014 | -0.006 |  0.000 |  0.017 | -0.012 |  0.006 |  0.011 | -0.013 |\n",
       "| N4 | -0.003 | -0.013 |  0.017 |  0.000 |  0.000 |  0.007 | -0.016 |  0.009 |\n",
       "| E1 | -0.003 |  0.015 | -0.012 |  0.000 |  0.000 |  0.006 |  0.006 | -0.024 |\n",
       "| E2 | -0.009 | -0.004 |  0.006 |  0.007 |  0.006 |  0.000 | -0.010 |  0.006 |\n",
       "| E3 |  0.015 | -0.008 |  0.011 | -0.016 |  0.006 | -0.010 |  0.000 |  0.016 |\n",
       "| E4 | -0.001 |  0.000 | -0.013 |  0.009 | -0.024 |  0.006 |  0.016 |  0.000 |\n",
       "\n"
      ],
      "text/plain": [
       "   N1     N2     N3     N4     E1     E2     E3     E4    \n",
       "N1  0.000  0.018 -0.014 -0.003 -0.003 -0.009  0.015 -0.001\n",
       "N2  0.018  0.000 -0.006 -0.013  0.015 -0.004 -0.008  0.000\n",
       "N3 -0.014 -0.006  0.000  0.017 -0.012  0.006  0.011 -0.013\n",
       "N4 -0.003 -0.013  0.017  0.000  0.000  0.007 -0.016  0.009\n",
       "E1 -0.003  0.015 -0.012  0.000  0.000  0.006  0.006 -0.024\n",
       "E2 -0.009 -0.004  0.006  0.007  0.006  0.000 -0.010  0.006\n",
       "E3  0.015 -0.008  0.011 -0.016  0.006 -0.010  0.000  0.016\n",
       "E4 -0.001  0.000 -0.013  0.009 -0.024  0.006  0.016  0.000"
      ]
     },
     "metadata": {},
     "output_type": "display_data"
    }
   ],
   "source": [
    "(psychot_cor_mat - Rr) %>% \n",
    "  round(3)"
   ]
  },
  {
   "attachments": {},
   "cell_type": "markdown",
   "id": "a11a9996",
   "metadata": {},
   "source": [
    "**Esempio.** Consideriamo nuovamente i dati precedenti ma, in questo caso, eseguiamo un'analisi fattoriale confermativa. Usando `lavaan` il modello diventa:"
   ]
  },
  {
   "cell_type": "code",
   "execution_count": 4,
   "id": "e1b35ff1",
   "metadata": {
    "vscode": {
     "languageId": "r"
    }
   },
   "outputs": [],
   "source": [
    "cfa_mod <- \"\n",
    "  N =~ N1 + N2 + N3 + N4\n",
    "  E =~ E1 + E2 + E3 + E4\n",
    "\""
   ]
  },
  {
   "cell_type": "code",
   "execution_count": 5,
   "id": "48be44b1",
   "metadata": {
    "vscode": {
     "languageId": "r"
    }
   },
   "outputs": [],
   "source": [
    "fit_cfa <- lavaan::cfa(\n",
    "  cfa_mod,\n",
    "  sample.cov = psychot_cor_mat,\n",
    "  sample.nobs = n,\n",
    "  orthogonal = TRUE,\n",
    "  std.lv = TRUE\n",
    ")"
   ]
  },
  {
   "attachments": {},
   "cell_type": "markdown",
   "id": "3344e717",
   "metadata": {},
   "source": [
    "Il path diagram si ottiene nel modo seguente:"
   ]
  },
  {
   "cell_type": "code",
   "execution_count": 30,
   "id": "55b5e423",
   "metadata": {
    "vscode": {
     "languageId": "r"
    }
   },
   "outputs": [
    {
     "data": {
      "image/png": "[encoded data removed]",
      "text/plain": [
       "plot without title"
      ]
     },
     "metadata": {
      "image/png": {
       "height": 360,
       "width": 360
      }
     },
     "output_type": "display_data"
    }
   ],
   "source": [
    "semPaths(\n",
    "  fit_cfa,\n",
    "  \"std\", \n",
    "  posCol = c(\"black\"),\n",
    "  edge.label.cex = 1.2, \n",
    "  sizeMan = 7,\n",
    "  edge.label.position = 0.8 # Adjust this value to control label position\n",
    "  )"
   ]
  },
  {
   "attachments": {},
   "cell_type": "markdown",
   "id": "73bee2dc",
   "metadata": {},
   "source": [
    "Esaminiamo le saturazioni fattoriali:"
   ]
  },
  {
   "cell_type": "code",
   "execution_count": null,
   "id": "82de3a61",
   "metadata": {
    "vscode": {
     "languageId": "r"
    }
   },
   "outputs": [],
   "source": [
    "parameterEstimates(fit_cfa, standardized = TRUE) %>%\n",
    "  dplyr::filter(op == \"=~\") %>%\n",
    "  dplyr::select(\n",
    "    \"Latent Factor\" = lhs, \n",
    "    Indicator = rhs, \n",
    "    B = est, \n",
    "    SE = se, \n",
    "    Z = z, \n",
    "    \"p-value\" = pvalue, \n",
    "    Beta = std.all) %>%\n",
    "  knitr::kable(digits = 3, booktabs = TRUE, format = \"markdown\", \n",
    "               caption = \"Factor Loadings\")"
   ]
  },
  {
   "attachments": {},
   "cell_type": "markdown",
   "id": "b0989eb0",
   "metadata": {},
   "source": [
    "Il risultato sembra sensato: le saturazioni su ciascun fattore sono molto alte. Tuttavia, la matrice delle correlazioni residue"
   ]
  },
  {
   "cell_type": "code",
   "execution_count": null,
   "id": "f55c7bf7",
   "metadata": {
    "vscode": {
     "languageId": "r"
    }
   },
   "outputs": [],
   "source": [
    "cor_table <- residuals(fit_cfa, type = \"cor\")$cov\n",
    "knitr::kable(\n",
    "  cor_table, \n",
    "  digits = 3, \n",
    "  format = \"markdown\", \n",
    "  booktabs = TRUE\n",
    ")"
   ]
  },
  {
   "attachments": {},
   "cell_type": "markdown",
   "id": "e9181667",
   "metadata": {},
   "source": [
    "rivela che il modello ipotizzato dall'analisi fattoriale confermativa non è adeguato.\n",
    "\n",
    "\n",
    "## Modello fattoriale: Fattori obliqui\n",
    "\n",
    "Anche nel caso di fattori comuni correlati è possibile esprimere nei\n",
    "termini dei parametri del modello la covarianza teorica tra una\n",
    "variabile manifesta $Y_i$ e uno dei fattori comuni, la covarianza\n",
    "teorica tra due variabili manifeste, e la comunalità di ciascuna\n",
    "variabile manifesta. Dato però che i fattori comuni risultano correlati,\n",
    "l'espressione fattoriale di tali quantità è più complessa che nel caso\n",
    "di fattori comuni ortogonali.\n",
    "\n",
    "### Covarianza teorica tra variabili e fattori\n",
    "\n",
    "In base al modello multifattoriale con $m$ fattori comuni la variabile\n",
    "$Y_i$ è\n",
    "\n",
    "$$\n",
    "Y_i = \\lambda_{i1} \\xi_1 + \\dots + \\lambda_{im} \\xi_m + \\delta_i.\n",
    "(\\#eq:mod-multifact)\n",
    "$$ \n",
    "\n",
    "Poniamoci il problema di trovare la\n",
    "covarianza teorica tra la variabile manifesta $Y_i$ e il fattore comune\n",
    "$\\xi_j$. Come in precedenza, il problema si riduce a quello di trovare\n",
    "$\\mathbb{E}(Y_i \\xi_j)$. Ne segue che \n",
    "\n",
    "$$\n",
    "\\begin{equation}\n",
    "\\begin{aligned}\n",
    "  Cov(Y_i, \\xi_j) &= \\mathbb{E}(Y_i \\xi_j)\\notag\\\\\n",
    "  &=\\mathbb{E}\\left[(\\lambda_{i1} \\xi_1 + \\dots + \\lambda_{ij} \\xi_j + \\dots + \\lambda_{im} \\xi_m + \\delta_i)\\xi_j \\right]\\notag\\\\\n",
    "  &= \\lambda_{i1}\\underbrace{\\mathbb{E}(\\xi_1\\xi_j)}_{\\neq 0} + \\dots + \\lambda_{ij}\\underbrace{\\mathbb{E}(\\xi_j^2)}_{=1} + \\dots \\notag\\\\\n",
    "& \\quad + \\lambda_{im}\\underbrace{\\mathbb{E}(\\xi_m\\xi_j)}_{\\neq 0} + \\underbrace{\\mathbb{E}(\\delta_i \\xi_j)}_{=0}\\notag\\\\\n",
    "  &= \\lambda_{ij} + \\lambda_{i1} Cov(\\xi_1, \\xi_j) + \\dots + \\lambda_{im} Cov(\\xi_m, \\xi_j).\n",
    "\\end{aligned}\n",
    "\\end{equation}\n",
    "$$\n",
    "\n",
    "Ad esempio, nel caso di tre fattori comuni $\\xi_1, \\xi_2, \\xi_3$, la\n",
    "covarianza tra $Y_1$ e $\\xi_{1}$ diventa\n",
    "\n",
    "$$\n",
    "\\lambda_{11} + \\lambda_{12}Cov(\\xi_1, \\xi_2) + \\lambda_{13}Cov(\\xi_1, \\xi_3).\n",
    "$$\n",
    "\n",
    "### Espressione fattoriale della varianza\n",
    "\n",
    "Poniamoci ora il problema di trovare la varianza teorica della variabile\n",
    "manifesta $Y_i$. In base al modello fattoriale, la variabile $Y_i$ è\n",
    "specificata come nella \\@ref(eq:mod-multifact). La varianza di $Y_i$ è\n",
    "$\\mathbb{V}(Y_i) = \\mathbb{E}(Y_i^2) -[\\mathbb{E}(Y_i)]^2$. Però, avendo espresso $Y_i$ nei\n",
    "termini della differenza dalla sua media, l'espressione della varianza\n",
    "si riduce a $\\mathbb{V}(Y_i) = \\mathbb{E}(Y_i^2)$. Dobbiamo dunque sviluppare\n",
    "l'espressione\n",
    "\n",
    "$$\n",
    "\\mathbb{E}(Y_i^2) = \\mathbb{E}[(\\lambda_{i1} \\xi_1 + \\dots + \\lambda_{im} \\xi_m + \\delta_i)^2].\n",
    "$$\n",
    "\n",
    "In conclusione, la varianza teorica di $Y_i$ è uguale a \n",
    "\n",
    "$$\n",
    "\\begin{equation}\n",
    "\\begin{split}\n",
    "\\mathbb{V}(Y_i) &= \\lambda_{i1}^2 + \\lambda_{i2}^2 + \\dots + \\lambda_{im}^2  + \\\\\n",
    "&\\quad 2 \\lambda_{i1} \\lambda_{i2} Cov(\\xi_1, \\xi_2) + \\dots + 2 \\lambda_{i,m-1} \\lambda_{im} Cov(\\xi_{m-1}, \\xi_m) + \\\\\n",
    "&\\quad \\psi_{ii}.\\notag\n",
    "\\end{split}\n",
    "\\end{equation}\n",
    "$$\n",
    "\n",
    "Ad esempio, nel caso di tre fattori comuni, $\\xi_1, \\xi_2, \\xi_3$, la\n",
    "varianza di $Y_1$ è \n",
    "\n",
    "$$\n",
    "\\begin{equation}\n",
    "\\begin{split}\n",
    "\\mathbb{V}(Y_1) = &\\lambda_{11}^2 + \\lambda_{12}^2 + \\lambda_{13}^2 +\\\\ \n",
    "&\\quad 2 \\lambda_{11} \\lambda_{12} Cov(\\xi_1, \\xi_2) + \\\\ \n",
    "&\\quad 2 \\lambda_{11} \\lambda_{13} Cov(\\xi_1, \\xi_3) + \\\\ \n",
    "&\\quad 2 \\lambda_{12} \\lambda_{13} Cov(\\xi_2, \\xi_3) + \\\\ \n",
    "&\\quad \\psi_{11}. \\notag\n",
    "\\end{split}\n",
    "\\end{equation}\n",
    "$$\n",
    "\n",
    "### Covarianza teorica tra due variabili\n",
    "\n",
    "Consideriamo ora il caso più semplice di due soli fattori comuni\n",
    "correlati e calcoliamo la covarianza tra $Y_1$ e $Y_2$:\n",
    "\n",
    "$$\n",
    "\\begin{equation}\n",
    "\\begin{aligned}\n",
    "\\mathbb{E}(Y_1 Y_2) =\\mathbb{E}[(&\\lambda_{11}\\xi_1 + \\lambda_{12}\\xi_2+\\delta_1) (\\lambda_{21}\\xi_1 + \\lambda_{22}\\xi_2+\\delta_2)]\\notag\\\\\n",
    "=\\mathbb{E}( \n",
    "&\\lambda_{11}\\lambda_{21}\\xi_1^2 +\n",
    "\\lambda_{11}\\lambda_{22}\\xi_1\\xi_2 +\n",
    "\\lambda_{11}\\xi_1\\delta_2 +\\notag\\\\\n",
    "+&\\lambda_{12}\\lambda_{21}\\xi_1\\xi_2 +\n",
    "\\lambda_{12}\\lambda_{22}\\xi_2^2 +\n",
    "\\lambda_{12}\\xi_2\\delta_2 +\\notag\\\\\n",
    "+&\\lambda_{21}\\xi_1\\delta_1 +\n",
    "\\lambda_{22}\\xi_2\\delta_1 +\n",
    "\\delta_1\\delta_2).\\notag\n",
    "\\end{aligned}\n",
    "\\end{equation}\n",
    "$$\n",
    "\n",
    "Distribuendo l'operatore di valore atteso, dato che $\\mathbb{E}(\\xi^2)=1$ e $\\mathbb{E}(\\xi \\delta)=0$, otteniamo\n",
    "\n",
    "$$\n",
    "Cov(Y_1, Y_2) = \\lambda_{11} \\lambda_{21} + \\lambda_{12} \\lambda_{22} + \n",
    "\\lambda_{12} \\lambda_{21}Cov(\\xi_1, \\xi_2) +\\lambda_{11} \\lambda_{22}Cov(\\xi_1, \\xi_2).\n",
    "$$\n",
    "\n",
    "In termini matriciali si scrive \n",
    "\n",
    "$$\n",
    "\\boldsymbol{\\Sigma} =\\boldsymbol{\\Lambda} \\boldsymbol{\\Phi} \\boldsymbol{\\Lambda}^{\\mathsf{T}} + \\boldsymbol{\\Psi}, \n",
    "$$\n",
    "\n",
    "dove $\\boldsymbol{\\Phi}$ è la matrice di ordine $m \\times m$ di varianze\n",
    "e covarianze tra i fattori comuni e $\\boldsymbol{\\Psi}$ è una matrice\n",
    "diagonale di ordine $p$ con le unicità delle variabili.\n",
    "\n",
    "**Esempio.** Consideriamo nuovamente i dati esaminati negli esercizi precedenti, ma questa volta il modello consente una correlazione tra i due fattori comuni:"
   ]
  },
  {
   "cell_type": "code",
   "execution_count": 7,
   "id": "b1f01248",
   "metadata": {
    "vscode": {
     "languageId": "r"
    }
   },
   "outputs": [],
   "source": [
    "fit2_cfa <- lavaan::cfa(\n",
    "  cfa_mod,\n",
    "  sample.cov = psychot_cor_mat,\n",
    "  sample.nobs = n,\n",
    "  orthogonal = FALSE,\n",
    "  std.lv = TRUE\n",
    ")"
   ]
  },
  {
   "attachments": {},
   "cell_type": "markdown",
   "id": "1643de64",
   "metadata": {},
   "source": [
    "Visualizziamo il modello nel modo seguente:"
   ]
  },
  {
   "cell_type": "code",
   "execution_count": 27,
   "id": "4dc6e9c6",
   "metadata": {
    "vscode": {
     "languageId": "r"
    }
   },
   "outputs": [
    {
     "data": {
      "image/png": "[encoded data removed]",
      "text/plain": [
       "plot without title"
      ]
     },
     "metadata": {
      "image/png": {
       "height": 360,
       "width": 360
      }
     },
     "output_type": "display_data"
    }
   ],
   "source": [
    "semPaths(\n",
    "  fit2_cfa,\n",
    "  \"std\", \n",
    "  posCol = c(\"black\"),\n",
    "  edge.label.cex = 1, \n",
    "  sizeMan = 7,\n",
    "  edge.label.position = 0.7 # Adjust this value to control label position\n",
    ");"
   ]
  },
  {
   "attachments": {},
   "cell_type": "markdown",
   "id": "181bcb4d",
   "metadata": {},
   "source": [
    "Esaminiamo le saturazioni fattoriali:"
   ]
  },
  {
   "cell_type": "code",
   "execution_count": null,
   "id": "0ab19110",
   "metadata": {
    "vscode": {
     "languageId": "r"
    }
   },
   "outputs": [],
   "source": [
    "parameterEstimates(fit2_cfa, standardized = TRUE) %>%\n",
    "  dplyr::filter(op == \"=~\") %>%\n",
    "  dplyr::select(\n",
    "    \"Latent Factor\" = lhs, \n",
    "    Indicator = rhs, \n",
    "    B = est, \n",
    "    SE = se, \n",
    "    Z = z, \n",
    "    \"p-value\" = pvalue, \n",
    "    Beta = std.all) %>%\n",
    "  knitr::kable(digits = 3, booktabs = TRUE, format = \"markdown\", \n",
    "               caption = \"Factor Loadings\")"
   ]
  },
  {
   "attachments": {},
   "cell_type": "markdown",
   "id": "197173a3",
   "metadata": {},
   "source": [
    "Le saturazioni sono simili a quelle che abbiamo trovato in precedenza, In questo caso, però, la matrice delle correlazioni residue è adeguata:"
   ]
  },
  {
   "cell_type": "code",
   "execution_count": null,
   "id": "5bff8b2f",
   "metadata": {
    "lines_to_next_cell": 0,
    "vscode": {
     "languageId": "r"
    }
   },
   "outputs": [],
   "source": [
    "cor_table <- residuals(fit2_cfa, type = \"cor\")$cov\n",
    "knitr::kable(\n",
    "  cor_table, \n",
    "  digits = 3, \n",
    "  format = \"markdown\", \n",
    "  booktabs = TRUE\n",
    ")"
   ]
  },
  {
   "attachments": {},
   "cell_type": "markdown",
   "id": "d70ec99d",
   "metadata": {},
   "source": [
    "**Esempio.** Esaminiamo più da vicino la matrice di correlazioni riprodotta dal modello, nel caso di fattori obliqui. Le saturazioni fattoriali sono:"
   ]
  },
  {
   "cell_type": "code",
   "execution_count": null,
   "id": "8c48de0f",
   "metadata": {
    "vscode": {
     "languageId": "r"
    }
   },
   "outputs": [],
   "source": [
    "lambda <- inspect(fit2_cfa, what=\"std\")$lambda\n",
    "lambda"
   ]
  },
  {
   "attachments": {},
   "cell_type": "markdown",
   "id": "6c6f5cbf",
   "metadata": {},
   "source": [
    "La matrice di intercorrelazoni fattoriali è"
   ]
  },
  {
   "cell_type": "code",
   "execution_count": null,
   "id": "f471fc71",
   "metadata": {
    "vscode": {
     "languageId": "r"
    }
   },
   "outputs": [],
   "source": [
    "Phi <- inspect(fit2_cfa, what=\"std\")$psi\n",
    "Phi"
   ]
  },
  {
   "attachments": {},
   "cell_type": "markdown",
   "id": "fa472fdb",
   "metadata": {},
   "source": [
    "Le varianze residue sono:"
   ]
  },
  {
   "cell_type": "code",
   "execution_count": null,
   "id": "65578e65",
   "metadata": {
    "vscode": {
     "languageId": "r"
    }
   },
   "outputs": [],
   "source": [
    "Psi <- inspect(fit2_cfa, what=\"std\")$theta\n",
    "Psi"
   ]
  },
  {
   "attachments": {},
   "cell_type": "markdown",
   "id": "e812f237",
   "metadata": {},
   "source": [
    "Mediante i parametri del modello  la matrice di correlazione si riproduce nel modo seguente:\n",
    "\n",
    "$$\n",
    "\\boldsymbol{\\Sigma} =\\boldsymbol{\\Lambda} \\boldsymbol{\\Phi} \\boldsymbol{\\Lambda}^{\\mathsf{T}} + \\boldsymbol{\\Psi}. \n",
    "$$\n",
    "\n",
    "In $\\textsf{R}$ scriviamo:"
   ]
  },
  {
   "cell_type": "code",
   "execution_count": null,
   "id": "c25eccfd",
   "metadata": {
    "vscode": {
     "languageId": "r"
    }
   },
   "outputs": [],
   "source": [
    "R_hat <- lambda %*% Phi %*% t(lambda) + Psi\n",
    "R_hat %>% \n",
    "  round(3)"
   ]
  },
  {
   "attachments": {},
   "cell_type": "markdown",
   "id": "e5bcd34a",
   "metadata": {},
   "source": [
    "Le correlazioni residue sono:"
   ]
  },
  {
   "cell_type": "code",
   "execution_count": null,
   "id": "27744fa4",
   "metadata": {
    "vscode": {
     "languageId": "r"
    }
   },
   "outputs": [],
   "source": [
    "(psychot_cor_mat - R_hat) %>% \n",
    "  round(3)"
   ]
  },
  {
   "attachments": {},
   "cell_type": "markdown",
   "id": "a7b8ab05",
   "metadata": {},
   "source": [
    "Questo risultato riproduce ciò che abbiamo trovato estraendo la matrice di correlazioni residue dall'oggetto creato dal `lavaan::cfa` mediante l'istruzione `residuals(fit2_cfa, type = \"cor\")$cov`.\n",
    "\n",
    "Per fare un esempio relativo alla correlazione tra due indicatori, calcoliamo la correlazione predetta dal modello tra le variabili $Y_1$ e $Y_2$:"
   ]
  },
  {
   "cell_type": "code",
   "execution_count": null,
   "id": "a7b11e6b",
   "metadata": {
    "vscode": {
     "languageId": "r"
    }
   },
   "outputs": [],
   "source": [
    "lambda[1, 1] * lambda[2, 1] + lambda[1, 2] * lambda[2, 2] +\n",
    "  lambda[1, 1] * lambda[2, 2] * Phi[1, 2] + \n",
    "  lambda[1, 2] * lambda[2, 1] * Phi[1, 2]"
   ]
  },
  {
   "attachments": {},
   "cell_type": "markdown",
   "id": "ffaa14cd",
   "metadata": {},
   "source": [
    "Questo valore si avvicina al valore contenuto dell'elemento (1, 2) della\n",
    "matrice di correlazioni osservate:"
   ]
  },
  {
   "cell_type": "code",
   "execution_count": null,
   "id": "f6852d54",
   "metadata": {
    "vscode": {
     "languageId": "r"
    }
   },
   "outputs": [],
   "source": [
    "psychot_cor_mat[1, 2]"
   ]
  },
  {
   "attachments": {},
   "cell_type": "markdown",
   "id": "0ddf4265",
   "metadata": {},
   "source": [
    "Usando le funzonalità di `lavaan` la matrice di correlazione predetta si ottiene con:"
   ]
  },
  {
   "cell_type": "code",
   "execution_count": null,
   "id": "5ae7df11",
   "metadata": {
    "vscode": {
     "languageId": "r"
    }
   },
   "outputs": [],
   "source": [
    "fitted(fit2_cfa)$cov |>\n",
    "    print()"
   ]
  },
  {
   "attachments": {},
   "cell_type": "markdown",
   "id": "cf939bcb",
   "metadata": {},
   "source": [
    "La matrice dei residui è"
   ]
  },
  {
   "cell_type": "code",
   "execution_count": null,
   "id": "99012e77",
   "metadata": {
    "vscode": {
     "languageId": "r"
    }
   },
   "outputs": [],
   "source": [
    "resid(fit2_cfa)$cov |>\n",
    "    print()"
   ]
  },
  {
   "attachments": {},
   "cell_type": "markdown",
   "id": "b414ab14",
   "metadata": {},
   "source": [
    "La matrice dei residui standardizzati è"
   ]
  },
  {
   "cell_type": "code",
   "execution_count": null,
   "id": "7285b5e7",
   "metadata": {
    "vscode": {
     "languageId": "r"
    }
   },
   "outputs": [],
   "source": [
    "resid(fit2_cfa, type = \"standardized\")$cov |>\n",
    "    print()"
   ]
  },
  {
   "attachments": {},
   "cell_type": "markdown",
   "id": "c687512e",
   "metadata": {},
   "source": [
    "I valori precedenti possono essere considerati come punti *z*, dove i valori con un valore assoluto maggiore di 2 possono essere ritenuti problematici. Tuttavia, è importante considerare che in questo modo si stanno eseguendo molteplici confronti, pertanto, si dovrebbe considerare l'opportunità di applicare una qualche forma di correzione per i confronti multipli.\n",
    ":::\n",
    "\n",
    "## EFA con `lavaan`\n",
    "\n",
    "Una funzionalità sperimentale di `lavaan` (ancora non ufficiale) è quella che consente di svolgere l'analisi fattoriale esplorativa con la funzione `efa()`. Consideriamo nuovamente i dati di @brown2015confirmatory, ovvero otto misure di personalità raccolte su un campione di 250 pazienti che hanno concluso un programma di psicoterapia.\n",
    "\n",
    "Definiamo un modello ad un solo fattore comune."
   ]
  },
  {
   "cell_type": "code",
   "execution_count": null,
   "id": "7af209cb",
   "metadata": {
    "vscode": {
     "languageId": "r"
    }
   },
   "outputs": [],
   "source": [
    "# 1-factor model\n",
    "f1 <- '\n",
    "efa(\"efa\")*f1 =~ N1 + N2 + N3 + N4 + E1 + E2 + E3 + E4\n",
    "'"
   ]
  },
  {
   "attachments": {},
   "cell_type": "markdown",
   "id": "32d7c50a",
   "metadata": {},
   "source": [
    "Definiamo un modello con due fattori comuni."
   ]
  },
  {
   "cell_type": "code",
   "execution_count": null,
   "id": "3ff52a3e",
   "metadata": {
    "vscode": {
     "languageId": "r"
    }
   },
   "outputs": [],
   "source": [
    "# 2-factor model\n",
    "f2 <- '\n",
    "efa(\"efa\")*f1 +\n",
    "efa(\"efa\")*f2 =~ N1 + N2 + N3 + N4 + E1 + E2 + E3 + E4\n",
    "'"
   ]
  },
  {
   "attachments": {},
   "cell_type": "markdown",
   "id": "642590f9",
   "metadata": {},
   "source": [
    "Adattiamo ai dati il modello ad un fattore comune."
   ]
  },
  {
   "cell_type": "code",
   "execution_count": null,
   "id": "11100738",
   "metadata": {
    "vscode": {
     "languageId": "r"
    }
   },
   "outputs": [],
   "source": [
    "efa_f1 <-\n",
    "  cfa(\n",
    "    model = f1,\n",
    "    sample.cov = psychot_cor_mat,\n",
    "    sample.nobs = 250,\n",
    "    rotation = \"oblimin\"\n",
    "  )"
   ]
  },
  {
   "attachments": {},
   "cell_type": "markdown",
   "id": "95e1c508",
   "metadata": {},
   "source": [
    "Esaminiamo la soluzione ottenuta."
   ]
  },
  {
   "cell_type": "code",
   "execution_count": null,
   "id": "575e6251",
   "metadata": {
    "vscode": {
     "languageId": "r"
    }
   },
   "outputs": [],
   "source": [
    "summary(\n",
    "  efa_f1,\n",
    "  fit.measures = TRUE,\n",
    "  standardized = TRUE,\n",
    "  rsquare = TRUE\n",
    ") |>\n",
    "  print()"
   ]
  },
  {
   "attachments": {},
   "cell_type": "markdown",
   "id": "b52f9a40",
   "metadata": {},
   "source": [
    "Adattiamo ai dati il modello a due fattori comuni."
   ]
  },
  {
   "cell_type": "code",
   "execution_count": null,
   "id": "56a2d4a7",
   "metadata": {
    "vscode": {
     "languageId": "r"
    }
   },
   "outputs": [],
   "source": [
    "efa_f2 <-\n",
    "  cfa(\n",
    "    model = f2,\n",
    "    sample.cov = psychot_cor_mat,\n",
    "    sample.nobs = 250,\n",
    "    rotation = \"oblimin\"\n",
    "  )"
   ]
  },
  {
   "attachments": {},
   "cell_type": "markdown",
   "id": "59bf4ac9",
   "metadata": {},
   "source": [
    "Esaminiamo la soluzione ottenuta."
   ]
  },
  {
   "cell_type": "code",
   "execution_count": null,
   "id": "a3cb4ed0",
   "metadata": {
    "vscode": {
     "languageId": "r"
    }
   },
   "outputs": [],
   "source": [
    "summary(\n",
    "  efa_f2,\n",
    "  fit.measures = TRUE,\n",
    "  standardized = TRUE,\n",
    "  rsquare = TRUE\n",
    ") |>\n",
    "  print()"
   ]
  },
  {
   "attachments": {},
   "cell_type": "markdown",
   "id": "11a59073",
   "metadata": {},
   "source": [
    "Anche se abbiamo introdotto finora soltanto la misura di bontà di adattamento del chi-quadrato, aggiungiamo qui il calcolo di altre misure di bontà di adattamento che discuteremo in seguito."
   ]
  },
  {
   "cell_type": "code",
   "execution_count": null,
   "id": "2073ec9a",
   "metadata": {
    "vscode": {
     "languageId": "r"
    }
   },
   "outputs": [],
   "source": [
    "# define the fit measures\n",
    "fit_measures_robust <- c(\n",
    "  \"chisq\", \"df\", \"pvalue\", \n",
    "  \"cfi\", \"rmsea\", \"srmr\"\n",
    ")"
   ]
  },
  {
   "attachments": {},
   "cell_type": "markdown",
   "id": "0c79ac75",
   "metadata": {},
   "source": [
    "Confrontiamo le misure di bontà di adattamento del modello che ipotizza un solo fattore comune e il modello che ipotizza la presenza di due fattori comuni."
   ]
  },
  {
   "cell_type": "code",
   "execution_count": null,
   "id": "5f7363c5",
   "metadata": {
    "vscode": {
     "languageId": "r"
    }
   },
   "outputs": [],
   "source": [
    "# collect them for each model\n",
    "rbind(\n",
    "  fitmeasures(efa_f1, fit_measures_robust),\n",
    "  fitmeasures(efa_f2, fit_measures_robust)\n",
    ") %>%\n",
    "  # wrangle\n",
    "  data.frame() %>%\n",
    "  mutate(\n",
    "    chisq = round(chisq, digits = 0),\n",
    "    df = as.integer(df),\n",
    "    pvalue = ifelse(pvalue == 0, \"< .001\", pvalue)\n",
    "  ) %>%\n",
    "  mutate_at(vars(cfi:srmr), ~ round(., digits = 3))"
   ]
  },
  {
   "attachments": {},
   "cell_type": "markdown",
   "id": "af79112d",
   "metadata": {},
   "source": [
    "L'evidenza empirica supporta la superiorità del modello a due fattori rispetto a quello ad un solo fattore comune. In particolare, l'analisi fattoriale esplorativa svolta mediante la funzione `efa()` evidenzia la capacità del modello a due fattori di fornire una descrizione adeguata della struttura dei dati e di distinguere in modo sensato tra i due fattori ipotizzati."
   ]
  },
  {
   "attachments": {},
   "cell_type": "markdown",
   "id": "ca660a75",
   "metadata": {},
   "source": [
    "**Esercizio.** Si utilizzino i dati `dass21.txt` che corrispondono alla somministrazione del test DASS-21 a 334 partecipanti. Lo schema di codifica si può trovare seguendo questo [link](https://maic.qld.gov.au/wp-content/uploads/2016/07/DASS-21.pdf). Si adatti ai dati un modello a tre fattori usando l'analisi fattoriale esplorativa con la funzione `lavaan::efa()`. Usando le saturazioni fattoriali e la matrice di inter-correlazioni fattoriali, si trovi la matrice di correlazioni riprodotta dal modello. Senza usare l'albebra matriciale, si trovi la correlazione predetta tra gli indicatori DASS-1 e DASS-2.\n",
    "\n"
   ]
  }
 ],
 "metadata": {
  "jupytext": {
   "cell_metadata_filter": "tags,-all",
   "main_language": "R",
   "notebook_metadata_filter": "-all"
  },
  "kernelspec": {
   "display_name": "R",
   "language": "R",
   "name": "ir"
  },
  "language_info": {
   "codemirror_mode": "r",
   "file_extension": ".r",
   "mimetype": "text/x-r-source",
   "name": "R",
   "pygments_lexer": "r",
   "version": "4.3.1"
  }
 },
 "nbformat": 4,
 "nbformat_minor": 5
}
