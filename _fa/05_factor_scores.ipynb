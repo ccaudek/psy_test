{
 "cells": [
  {
   "attachments": {},
   "cell_type": "markdown",
   "id": "2719ef74",
   "metadata": {},
   "source": [
    "(fa-scores-notebook)\n",
    "# I punteggi fattoriali "
   ]
  },
  {
   "cell_type": "code",
   "execution_count": 1,
   "id": "8d251f35",
   "metadata": {
    "tags": [
     "remove_cell"
    ],
    "vscode": {
     "languageId": "r"
    }
   },
   "outputs": [],
   "source": [
    "source(\"_common.R\")\n",
    "suppressPackageStartupMessages({\n",
    "    library(\"lavaan\")\n",
    "    library(\"semPlot\")\n",
    "    library(\"knitr\")\n",
    "    library(\"kableExtra\")\n",
    "    library(\"tidyr\")\n",
    "    library(\"corrplot\")\n",
    "})\n",
    "set.seed(42)"
   ]
  },
  {
   "attachments": {},
   "cell_type": "markdown",
   "id": "c4791c06",
   "metadata": {},
   "source": [
    "Uno dei momenti più difficili nel processo di sviluppo di un test\n",
    "psicometrico è quello dell'interpretazione dei fattori. La verifica del\n",
    "livello di affidabilità rivela il grado di precisione delle misure\n",
    "ottenute ma non fornisce alcuna informazione sulla natura di ciò che si\n",
    "sta misurando. Non esistono specifiche indicazioni che guidino il lavoro\n",
    "interpretativo. Dipende, perciò, dalla capacità e dall'esperienza del\n",
    "ricercatore cogliere il significato comune delle variabili confluite in\n",
    "un fattore, attenendosi alla realtà delle singole variabili senza\n",
    "fornire interpretazioni fantasiose. È importante rendersi conto che sia\n",
    "la scelta del metodo di estrazione dei fattori, sia il problema del\n",
    "numero dei fattori da estrarre, sia la scelta del metodo con cui\n",
    "effettuare la rotazione, rendono molto arbitraria l'interpretazione\n",
    "della soluzione fattoriale.\n",
    "\n",
    "I passaggi teorici necessari per interpretare una matrice fattoriale\n",
    "ruotata possono essere descritti nel modo seguente.\n",
    "\n",
    "1.  Si definisce un livello arbitrario per le saturazioni che ci indichi\n",
    "    il limite oltre il quale non riteniamo le variabili sufficientemente\n",
    "    importanti per caratterizzare quel determinato fattore. Solitamente\n",
    "    si sceglie la soglia di .40. In casi particolari è possibile usare\n",
    "    valori maggiori o minori di questo, a seconda che si abbia un numero\n",
    "    ristretto o troppo ampio di variabili da interpretare.\n",
    "\n",
    "2.  Si ordinano le saturazioni delle variabili del fattore in ordine\n",
    "    decrescente (in valore assoluto), fermandosi al livello prescelto.\n",
    "\n",
    "3.  Si scrive accanto ad ogni saturazione la denominazione della\n",
    "    variabile corrispondente (o il testo dell'item).\n",
    "\n",
    "4.  Tenendo presente il dominio di indagine, le teorie di riferimento ed\n",
    "    eventuali risultati precedenti, si cerca di stabilire quale sia il\n",
    "    tratto, caratteristica o aspetto che queste variabili abbiano in\n",
    "    comune, in modo da poter in modo da poter \"nominare\" il fattore che\n",
    "    definisce questo tratto comune. In questo processo interpretativo\n",
    "    gli item con le saturazioni maggiori contribuiscono in misura\n",
    "    maggiore alla definizione del carattere comune del fattore e,\n",
    "    viceversa, ciò che è stato individuato come tratto comune delle\n",
    "    variabili deve comparire in maggior grado nelle variabili più\n",
    "    sature.\n",
    "\n",
    "5.  Il segno negativo di una saturazione indica solamente un'opposizione\n",
    "    rispetto alle saturazioni positive. Il tratto comune alle variabili\n",
    "    dovrebbe essere pensato come un continuum che passa dalla sua\n",
    "    massima presenza al suo opposto. Per procedere all'interpretazione\n",
    "    conviene iniziare dalle variabili il cui segno è più frequente e\n",
    "    considerarle come se fossero positive; di conseguenza, le altre\n",
    "    (siano esse di segno positivo o negativo) devono essere considerate\n",
    "    di segno opposto.\n",
    "\n",
    "6.  Nel caso in cui non si riesca a riscontrare nessun tratto comune\n",
    "    alle variabili del fattore, si dovrà concludere che il fattore non è\n",
    "    interpretabile e che le variabili sono state tra loro associate per\n",
    "    un errore attribuibile o al campione o alla misurazione delle\n",
    "    variabili stesse. Normalmente i \"primi\" fattori estratti sono\n",
    "    facilmente interpretabili mentre gli \"ultimi\", soprattutto se ne\n",
    "    sono stati estratti molti o se la matrice delle correlazioni\n",
    "    iniziale fra le variabili contiene molti valori bassi, sono spesso\n",
    "    difficilmente interpretabili o saturi di una sola variabile e quindi\n",
    "    fattori specifici di quella variabile. In linea di massima se i\n",
    "    fattori non interpretabili sono molti è meglio non considerare\n",
    "    affatto i risultati dell'analisi fattoriale.\n",
    "\n",
    "### Esempio di interpretazione\n",
    "\n",
    "Il WISC-III (Wechsler Intelligence Scale For Children - III) valuta\n",
    "l'abilità intellettiva di soggetti dai 6 ai 16 anni e 11 mesi. I subtest\n",
    "sono stati selezionati per valutare diverse abilità mentali, che tutte\n",
    "insieme indicano l'abilità intellettiva generale del bambino. Alcuni gli\n",
    "richiedono un ragionamento astratto, altri si focalizzano sulla memoria,\n",
    "altri ancora richiedono certe abilità percettive e così via.\n",
    "\n",
    "Si consideri la matrice di correlazione tra i subtest della scala\n",
    "WISC-III riportata dal manuale."
   ]
  },
  {
   "cell_type": "code",
   "execution_count": null,
   "id": "2b69bd60",
   "metadata": {
    "vscode": {
     "languageId": "r"
    }
   },
   "outputs": [],
   "source": [
    "lower <- '\n",
    "1\n",
    ".66      1\n",
    ".57\t.55      1\n",
    ".70\t.69\t.54       1\n",
    ".56\t.59\t.47\t.64      1\n",
    ".34\t.34\t.43\t.35\t.29      1\n",
    ".47\t.45\t.39\t.45\t.38\t.25      1\n",
    ".21\t.20\t.27\t.26\t.25\t.23\t.18      1\n",
    ".40\t.39\t.35\t.40\t.35\t.20\t.37\t.28      1\n",
    ".48\t.49\t.52\t.46\t.40\t.32\t.52\t.27\t.41      1\n",
    ".41\t.42\t.39\t.41\t.34\t.26\t.49\t.24\t.37\t.61      1\n",
    ".35\t.35\t.41\t.35\t.34\t.28\t.33\t.53\t.36\t.45\t.38      1\n",
    ".18\t.18\t.22\t.17\t.17\t.14\t.24\t.15\t.23\t.31\t.29\t.24     1\n",
    "'"
   ]
  },
  {
   "cell_type": "code",
   "execution_count": null,
   "id": "200f7429",
   "metadata": {
    "vscode": {
     "languageId": "r"
    }
   },
   "outputs": [],
   "source": [
    "wisc_III_cov <- getCov(\n",
    "  lower,\n",
    "  names = c(\n",
    "    \"INFO\", \"SIM\", \"ARITH\", \"VOC\", \"COMP\", \"DIGIT\", \"PICTCOM\",\n",
    "    \"CODING\", \"PICTARG\", \"BLOCK\", \"OBJECT\", \"SYMBOL\", \"MAZES\"\n",
    "  )\n",
    ")"
   ]
  },
  {
   "attachments": {},
   "cell_type": "markdown",
   "id": "b763e0c8",
   "metadata": {},
   "source": [
    "Eseguiamo l'analisi fattoriale con il metodo delle componenti principali\n",
    "e una rotazione Varimax:"
   ]
  },
  {
   "cell_type": "code",
   "execution_count": null,
   "id": "f79844ee",
   "metadata": {
    "vscode": {
     "languageId": "r"
    }
   },
   "outputs": [],
   "source": [
    "f_pc <- psych::principal(wisc_III_cov, nfactors = 3, rotate = \"varimax\")\n",
    "print(f_pc)"
   ]
  },
  {
   "attachments": {},
   "cell_type": "markdown",
   "id": "f71e4974",
   "metadata": {},
   "source": [
    "Si noti che i primi cinque subtest possiedono saturazioni maggiori di\n",
    "$0.6$ sul primo fattore. Dato che questi test sono tutti presentati\n",
    "verbalmente e richiedono delle risposte verbali, tale fattore può essere\n",
    "denominato *Comprensione Verbale*.\n",
    "\n",
    "I subtest \"Cifrario\" e \"Ricerca di simboli\" saturano sul secondo\n",
    "fattore. Entrambi i subtest misurano la velocità dei processi di\n",
    "codifica o ricerca. Questo fattore, dunque, può essere denominato\n",
    "*Velocità di elaborazione*.\n",
    "\n",
    "Infine, i subtest \"Completamento di figure,\" \"Disegno con i cubi,\"\n",
    "\"Riordinamento di storie figurate\" e \"Labirinti\" saturano sul terzo\n",
    "fattore. Tutti questi test condividono una componente geometrica o\n",
    "configurazionale: misurano infatti le abilità necessarie per la\n",
    "manipolazione o la disposizione di immagini, oggetti, blocchi. Questo\n",
    "fattore, dunque, può essere denominato *Organizzazione percettiva*.\n",
    "\n",
    "Nel caso di una rotazione ortogonale, la comunalità di ciascuna\n",
    "sottoscala è uguale alla somma dei coefficienti di impatto al quadrato\n",
    "della sottoscala nei fattori. Per le 13 sottoscale del WISC-III abbiamo\n",
    "dunque"
   ]
  },
  {
   "cell_type": "code",
   "execution_count": null,
   "id": "f81db43c",
   "metadata": {
    "vscode": {
     "languageId": "r"
    }
   },
   "outputs": [],
   "source": [
    "h2 <- rep(0,13)\n",
    "for (i in 1:13) {\n",
    "  h2[i] <- sum(f_pc$loadings[i, ]^2)\n",
    "}\n",
    "round(h2, 2)"
   ]
  },
  {
   "attachments": {},
   "cell_type": "markdown",
   "id": "05d02e73",
   "metadata": {},
   "source": [
    "Questi risultati replicano quelli riportati nel manuale del test\n",
    "WISC-III.\n",
    "\n",
    "## Punteggi fattoriali\n",
    "\n",
    "Fino ad ora abbiamo considerato le strategie di costruzione del modello\n",
    "basate sulla stima e sull'interpretazione delle saturazioni fattoriali e\n",
    "delle comunalità. Questo è il primo passo nella costruzione del modello\n",
    "fattoriale. È però possibile compiere un passo ulteriore, ovvero quello\n",
    "della stima dei punteggi fattoriali (*factor scores*) i quali risultano\n",
    "utili sia per interpretare i risultati dell'analisi fattoriale che per\n",
    "fare diagnostica. I punteggi fattoriali forniscono le previsioni dei\n",
    "livelli dei fattori latenti per ogni rispondente. Esistono vari metodi\n",
    "di stima dei punteggi fattoriali. Tra questi troviamo il metodo di\n",
    "Thomson basato sulla regressione e il metodo di Bartlett basato sulla\n",
    "massima verosimiglianza. Entrambi questi metodi sono implementati nel\n",
    "software .\n",
    "\n",
    "### Stima dei punteggi fattoriali\n",
    "\n",
    "Si definiscono punteggi fattoriali i valori assunti dai fattori comuni\n",
    "(inosservabili) in corrispondenza delle osservazioni campionarie. Il\n",
    "metodo di Thomson stima i punteggi fattoriali in base all'approccio\n",
    "della regressione multipla, ovvero, impiegando la matrice delle\n",
    "correlazioni tra le variabili e la matrice di struttura (ovvero, la\n",
    "matrice delle correlazioni delle variabili con i fattori). Per ottenere\n",
    "le stime dei punteggi fattoriali con il metodo di Thomson è necessario\n",
    "specificare nella funzione `factanal()` l'opzione\n",
    "`scores = \"regression\"`.\n",
    "\n",
    "### Dimostrazione di Thurstone\n",
    "\n",
    "Prima di descrivere il metodo della regressione, esaminiamo la\n",
    "dimostrazione che Thurstone (1947) ha fornito per illustrare il\n",
    "significato dei punteggi fattoriali (si veda Loehlin, 1987). L'idea è\n",
    "quella di esaminare la stima dei punteggi fattoriali in una situazione\n",
    "in cui i tali punteggi sono conosciuti, in maniera tale da potere\n",
    "controllare il risultato dell'analisi.\n",
    "\n",
    "Si consideri un insieme di 1000 scatole di cui conosciamo le dimensioni\n",
    "$x, y, z$:"
   ]
  },
  {
   "cell_type": "code",
   "execution_count": null,
   "id": "524dfd88",
   "metadata": {
    "vscode": {
     "languageId": "r"
    }
   },
   "outputs": [],
   "source": [
    "set.seed(123)\n",
    "n <- 1e3\n",
    "x <- rnorm(n, 100, 1.5)\n",
    "y <- rnorm(n, 200, 1.5)\n",
    "z <- rnorm(n, 300, 1.5)"
   ]
  },
  {
   "attachments": {},
   "cell_type": "markdown",
   "id": "954ce059",
   "metadata": {},
   "source": [
    "Il problema è quello di stimare le dimensioni delle scatole disponendo\n",
    "soltanto di una serie di misure indirette, corrotte dal rumore di\n",
    "misura. Thurstone (1947) utilizzò le seguenti trasformazioni delle\n",
    "dimensioni delle scatole (si veda Jennrich, 2007)."
   ]
  },
  {
   "cell_type": "code",
   "execution_count": null,
   "id": "17a3aeb5",
   "metadata": {
    "vscode": {
     "languageId": "r"
    }
   },
   "outputs": [],
   "source": [
    "s <- 40\n",
    "y1 <- rnorm(n, mean(x), s)\n",
    "y2 <- rnorm(n, mean(y), s)\n",
    "y3 <- rnorm(n, mean(z), s)\n",
    "y4 <- x * y + rnorm(n, 0, s)\n",
    "y5 <- x * z + rnorm(n, 0, s)\n",
    "y6 <- y * z + rnorm(n, 0, s)\n",
    "y7 <- x^2 * y + rnorm(n, 0, s)\n",
    "y8 <- x * y^2 + rnorm(n, 0, s)\n",
    "y9 <- x^2 * z + rnorm(n, 0, s)\n",
    "y10 <- x * z^2 + rnorm(n, 0, s)\n",
    "y11 <- y^2 * z + rnorm(n, 0, s)\n",
    "y12 <- y * z^2 + rnorm(n, 0, s)\n",
    "y13 <- y^2 * z + rnorm(n, 0, s)\n",
    "y14 <- y * z^2 + rnorm(n, 0, s)\n",
    "y15 <- x / y + rnorm(n, 0, s)\n",
    "y16 <- y / x + rnorm(n, 0, s)\n",
    "y17 <- x / z + rnorm(n, 0, s)\n",
    "y18 <- z / x + rnorm(n, 0, s)\n",
    "y19 <- y / z + rnorm(n, 0, s)\n",
    "y20 <- z / y + rnorm(n, 0, s)\n",
    "y21 <- 2 * x + 2*y + rnorm(n, 0, s)\n",
    "y22 <- 2 * x + 2*z + rnorm(n, 0, s)\n",
    "y23 <- 2 * y + 2*z + rnorm(n, 0, s)"
   ]
  },
  {
   "attachments": {},
   "cell_type": "markdown",
   "id": "ca2e444a",
   "metadata": {},
   "source": [
    "Eseguiamo l'analisi fattoriale con una soluzione a tre fattori sui dati\n",
    "così creati."
   ]
  },
  {
   "cell_type": "code",
   "execution_count": null,
   "id": "1efeff72",
   "metadata": {
    "vscode": {
     "languageId": "r"
    }
   },
   "outputs": [],
   "source": [
    "Y <- cbind(\n",
    "  y1, y2, y3, y4, y5, y6, y7, y8, y9, \n",
    "  y10, y11, y12, y13, y14, y15, y16, \n",
    "  y17, y18, y19, y20, y21, y22, y23\n",
    ")\n",
    "\n",
    "fa <- factanal(\n",
    "  Y, \n",
    "  factors = 3, \n",
    "  scores = \"regression\",\n",
    "  lower = 0.01\n",
    ")"
   ]
  },
  {
   "attachments": {},
   "cell_type": "markdown",
   "id": "56929536",
   "metadata": {},
   "source": [
    "L'opzione `scores = \"regression\"` richiede il calcolo dei punteggi\n",
    "fattoriali con il metodo della regressione. Nel caso di una rotazione\n",
    "Varimax (default della funzione `factanal()`), i punteggi fattoriali\n",
    "risultano ovviamente incorrelati:"
   ]
  },
  {
   "cell_type": "code",
   "execution_count": null,
   "id": "84637fdc",
   "metadata": {
    "vscode": {
     "languageId": "r"
    }
   },
   "outputs": [],
   "source": [
    "cor(\n",
    "  cbind(fa$scores[, 1], fa$scores[, 2], fa$scores[, 3])\n",
    "  ) %>% \n",
    "  round(3)"
   ]
  },
  {
   "attachments": {},
   "cell_type": "markdown",
   "id": "8b2d7763",
   "metadata": {},
   "source": [
    "Generiamo ora i diagrammi di dispersione che mettono in relazione le\n",
    "dimensioni originarie delle scatole ($x, y, z$) con i punteggi\n",
    "fattoriali sui tre fattori. Se l'analisi ha successo, ci aspettiamo\n",
    "un'alta correlazione tra i punteggi fattoriali di ogni fattore e una\n",
    "sola delle dimensioni delle scatole $x$, $y$, $z$."
   ]
  },
  {
   "cell_type": "code",
   "execution_count": null,
   "id": "f8f963a6",
   "metadata": {
    "vscode": {
     "languageId": "r"
    }
   },
   "outputs": [],
   "source": [
    "p1 <- tibble(x, fs1 = fa$scores[, 1]) %>% \n",
    "  ggplot(aes(x, fs1)) +\n",
    "  geom_point(alpha = 0.2)\n",
    "p2 <- tibble(y, fs1 = fa$scores[, 1]) %>% \n",
    "  ggplot(aes(y, fs1)) +\n",
    "  geom_point(alpha = 0.2)\n",
    "p3 <- tibble(z, fs1 = fa$scores[, 1]) %>% \n",
    "  ggplot(aes(z, fs1)) +\n",
    "  geom_point(alpha = 0.2)\n",
    "\n",
    "p4 <- tibble(x, fs2 = fa$scores[, 2]) %>% \n",
    "  ggplot(aes(x, fs2)) +\n",
    "  geom_point(alpha = 0.2)\n",
    "p5 <- tibble(y, fs2 = fa$scores[, 2]) %>% \n",
    "  ggplot(aes(y, fs2)) +\n",
    "  geom_point(alpha = 0.2)\n",
    "p6 <- tibble(z, fs2 = fa$scores[, 2]) %>% \n",
    "  ggplot(aes(z, fs2)) +\n",
    "  geom_point(alpha = 0.2)\n",
    "\n",
    "p7 <- tibble(x, fs3 = fa$scores[, 3]) %>% \n",
    "  ggplot(aes(x, fs3)) +\n",
    "  geom_point(alpha = 0.2)\n",
    "p8 <- tibble(y, fs3 = fa$scores[, 3]) %>% \n",
    "  ggplot(aes(y, fs3)) +\n",
    "  geom_point(alpha = 0.2)\n",
    "p9 <- tibble(z, fs3 = fa$scores[, 3]) %>% \n",
    "  ggplot(aes(z, fs3)) +\n",
    "  geom_point(alpha = 0.2)"
   ]
  },
  {
   "cell_type": "code",
   "execution_count": null,
   "id": "9296af8c",
   "metadata": {
    "fig.asp": 1,
    "fig.height": 7,
    "fig.width": 7,
    "vscode": {
     "languageId": "r"
    }
   },
   "outputs": [],
   "source": [
    "(p1 | p2 | p3) /\n",
    "(p4 | p5 | p6) /\n",
    "(p7 | p8 | p9) "
   ]
  },
  {
   "attachments": {},
   "cell_type": "markdown",
   "id": "ecd8a5d1",
   "metadata": {},
   "source": [
    "I risultati riportati nella figura confermano le aspettative.\n",
    "\n",
    "Il metodo della regressione pone il problema della stima dei punteggi\n",
    "fattoriali nei termini di una ideale regressione di ogni fattore\n",
    "rispetto a tutte le variabili osservate. Per il fattore $j$-esimo, si\n",
    "può scrivere la seguente equazione: \n",
    "\n",
    "$$\n",
    "\\begin{aligned}\n",
    "F_j =& \\beta_{1j}y_1 + \\dots + \\beta_{pm}y_p + \\varepsilon_j\n",
    "\\end{aligned}\n",
    "$$ \n",
    "\n",
    "dove $F_j$ sono i punteggi fattoriali e $y$ sono le variabili osservate standardizzate $(Y-\\bar{Y})/s$. In forma matriciale, il modello diventa\n",
    "\n",
    "$$\n",
    "\\textbf{F} = \\textbf{y} \\textbf{B} +\n",
    "\\boldsymbol{\\varepsilon}\n",
    "$$ \n",
    "\n",
    "I coefficienti parziali di regressione **B** sono ignoti. Tuttavia, possono essere calcolati utilizzando i metodi della regressione lineare. Nel modello di regressione, infatti, i coefficienti dei minimi quadrati possono essere calcolati utilizzando due matrici di correlazioni: la matrice $\\textbf{R}_{xx}$ (le\n",
    "correlazioni tra le variabili $X$) e la matrice $\\textbf{R}_{xy}$ (le\n",
    "correlazioni tra le variabili $X$ e la variabile $Y$:\n",
    "\n",
    "$$\n",
    "\\hat{\\textbf{B}} = \\textbf{R}_{xx}^{-1}\\textbf{R}_{xy}\n",
    "$$ \n",
    "\n",
    "Nel caso dell'analisi fattoriale, $\\textbf{R}_{xx}$ corrisponde alla\n",
    "matrice delle correlazioni tra le variabili osservate e\n",
    "$\\textbf{R}_{xy}$ corrisponde alla matrice di struttura (la matrice\n",
    "delle correlazioni tra le variabili osservate e i fattori). Se i fattori\n",
    "sono ortogonali, la matrice di struttura coincide con la matrice dei\n",
    "pesi fattoriali $\\hat{\\boldsymbol{\\Lambda}}$.\n",
    "\n",
    "I coefficienti **B** dell'equazione precedente possono dunque essere trovati nel modo seguente:\n",
    "\n",
    "$$\n",
    "\\begin{equation}\n",
    "\\hat{\\textbf{B}} = \\textbf{R}_{yy}^{-1}\\textbf{R}_{xf}=\n",
    "\\textbf{R}^{-1}\\hat{\\boldsymbol{\\Lambda}}\n",
    "\\end{equation}\n",
    "$$\n",
    "\n",
    "Una volta stimati i coefficienti $\\hat{\\textbf{B}}$, i punteggi fattoriali si calcolano allo stesso modo dei punteggi teorici del modello di regressione:\n",
    "\n",
    "$$\n",
    "\\begin{equation}\n",
    "\\hat{\\textbf{F}} = \\textbf{y} \\hat{\\textbf{B}} = \\textbf{y}\n",
    "\\textbf{R}^{-1}\\hat{\\boldsymbol{\\Lambda}},\n",
    "\\end{equation}\n",
    "$$\n",
    "\n",
    "dove $\\textbf{y}$ è la matrice delle variabili osservate standardizzate $(Y-\\bar{Y})/s$."
   ]
  },
  {
   "attachments": {},
   "cell_type": "markdown",
   "id": "a0f9ae74",
   "metadata": {},
   "source": [
    "**Esercizio.** Si utilizzino i dati `dass21.txt` che corrispondono alla somministrazione del test DASS-21 a 334 partecipanti. Lo schema di codifica si può trovare seguendo questo [link](https://maic.qld.gov.au/wp-content/uploads/2016/07/DASS-21.pdf). Ci si focalizzi sulla sottoscala Stress del DASS-21. Si trovino i punteggi fattoriali usando la funzione `factanal()` e si replichi il risultato seguendo la procedura delineata sopra.\n"
   ]
  }
 ],
 "metadata": {
  "jupytext": {
   "cell_metadata_filter": "tags,fig.asp,fig.width,fig.height,-all",
   "main_language": "R",
   "notebook_metadata_filter": "-all"
  },
  "kernelspec": {
   "display_name": "R",
   "language": "R",
   "name": "ir"
  },
  "language_info": {
   "codemirror_mode": "r",
   "file_extension": ".r",
   "mimetype": "text/x-r-source",
   "name": "R",
   "pygments_lexer": "r",
   "version": "4.3.0"
  }
 },
 "nbformat": 4,
 "nbformat_minor": 5
}
