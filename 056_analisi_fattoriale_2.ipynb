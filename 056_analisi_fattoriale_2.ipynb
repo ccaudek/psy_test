{
 "cells": [
  {
   "attachments": {},
   "cell_type": "markdown",
   "id": "d3ea71ac",
   "metadata": {},
   "source": [
    "(fa-model-2-notebook)=\n",
    "# Il modello statistico dell'analisi fattoriale "
   ]
  },
  {
   "cell_type": "code",
   "execution_count": 1,
   "id": "f0403700",
   "metadata": {
    "tags": [
     "remove_cell"
    ],
    "vscode": {
     "languageId": "r"
    }
   },
   "outputs": [],
   "source": [
    "source(\"_common.R\")\n",
    "suppressPackageStartupMessages({\n",
    "    library(\"lavaan\")\n",
    "})\n",
    "options(repr.plot.width=6, repr.plot.height=6)\n",
    "set.seed(42)\n"
   ]
  },
  {
   "attachments": {},
   "cell_type": "markdown",
   "id": "9b203066",
   "metadata": {},
   "source": [
    "## Modello monofattoriale\n",
    "\n",
    "Il punto di partenza dell'*analisi fattoriale esplorativa* è\n",
    "rappresentato da una marice di dimensioni $p \\times p$ (dove $p$ è il\n",
    "numero di variabili osservate) che contiene i coefficienti di\n",
    "correlazione (o di covarianza) tra le variabili. Il punto di arrivo è\n",
    "rappresentato da una matrice di dimensioni $p \\times k$ (dove $k$) è il\n",
    "numero di fattori comuni che contiene i coefficienti (le *saturazioni*)\n",
    "che esprimono la relazione tra i fattori e le variabili osservate.\n",
    "Considereremo ora il modello matematico dell'analisi fattoriale\n",
    "esplorativa, con un solo fattore comune, che rappresenta il caso più\n",
    "semplice.\n",
    "\n",
    "Con $p$ variabili manifeste $Y_i$, il modello ad un fattore comune può\n",
    "essere espresso algebricamente nel modo seguente:\n",
    "\n",
    "$$\n",
    "Y_i = \\mu_i + \\lambda_{i} \\xi + \\delta_i \\qquad i=1, \\dots, p\n",
    "$$ \n",
    "\n",
    "dove $\\xi$ rappresenta il fattore latente, chiamato anche *fattore comune*,\n",
    "poiché è comune a tutte le $Y_i$, i $\\delta_i$ sono invece specifici di\n",
    "ogni variabile osservata e per tale ragione vengono chiamati *fattori\n",
    "specifici* o *unici*, e infine i $\\lambda_i$ sono detti *saturazioni* (o\n",
    "*pesi*) fattoriali poiché consentono di valutare il peso del fattore\n",
    "latente su ciascuna variabile osservata. Si suole assumere per comodità\n",
    "che $\\mu=0$, il che corrisponde a considerare le variabili $Y_i$ come\n",
    "ottenute dagli scarti dalle medie $\\mu_i$ per $i = 1, \\dots, p$:\n",
    "\n",
    "$$\n",
    "Y_i -\\mu_i = \\lambda_i \\xi + \\delta_i.\n",
    "$$\n",
    "\n",
    "Si assume che il fattore comune abbia media zero, $\\mathbb{E}(\\xi)=0$, e\n",
    "varianza unitaria, $\\mathbb{V}(\\xi)=1$, che i fattori specifici abbiano media\n",
    "zero, $\\mathbb{E}(\\delta_j)=0$, e varianza $\\mathbb{V}(\\delta_j)=\\psi_{i}$, che i\n",
    "fattori specifici siano incorrelati tra loro, $\\mathbb{E}(\\delta_i \\delta_k)=0$, e che i fattori specifici siano incorrelati con il fattore comune, $\\mathbb{E}(\\delta_i \\xi)=0$.\n",
    "\n",
    "In questo modello, poiché i fattori specifici sono tra loro incorrelati,\n",
    "l'interdipendenza tra le variabili manifeste è completamente spiegata\n",
    "dal fattore comune. Dalle ipotesi precedenti è possibile ricavare la\n",
    "covarianza tra $Y_i$ e il fattore comune, la varianza della $i$-esima\n",
    "variabile manifesta $Y_i$ e la covarianza tra due variabili manifeste\n",
    "$Y_i$ e $Y_k$.\n",
    "\n",
    "## Covarianza tra un indicatore e il fattore comune\n",
    "\n",
    "Dal modello monofattoriale è possibile determinare l'espressione della\n",
    "covarianza teorica tra una variabile manifesta $Y_i$ e il fattore comune\n",
    "$\\xi$: \n",
    "\n",
    "$$\n",
    "Cov(Y_i,\\xi)=\\mathbb{E}(Y_i \\xi)-\\mathbb{E}(Y_i)\\mathbb{E}(\\xi).\n",
    "$$ \n",
    "\n",
    "Dato che $\\mathbb{E}(\\xi)=0$, possiamo scrivere \n",
    "\n",
    "$$\n",
    "\\begin{equation}\n",
    "\\begin{aligned}\n",
    "  \\mbox{Cov}(Y_i,\\xi) &= \\mathbb{E}(Y_i \\xi)=\\mathbb{E}[(\\lambda_i \\xi + \\delta_i) \\xi]\\notag\\\\\n",
    "  &=\\mathbb{E}(\\lambda_i \\xi^2 + \\delta_i \\xi)\\notag\\\\\n",
    "  &=\\lambda_i\\underbrace{\\mathbb{E}(\\xi^2)}_{\\mathbb{V}(\\xi)=1} + \\underbrace{\\mathbb{E}(\\delta_i \\xi)}_{\\mbox{Cov}(\\delta_i, \\xi)=0}\\notag\\\\\n",
    "  &= \\lambda_i.\\notag\n",
    "\\end{aligned}\n",
    "\\end{equation}\n",
    "$$\n",
    "  \n",
    "Nel modello a un solo fattore, dunque, la saturazione $\\lambda_j$ rappresenta la covarianza la variabile manifesta $Y_i$ e il fattore comune $\\xi$ e indica\n",
    "l'importanza del fattore nel determinare il punteggio osservato. Se le\n",
    "variabili $Y_i$ sono standardizzate, la saturazione fattoriale\n",
    "$\\lambda_i$ corrisponde alla correlazione tra $Y_i$ e $\\xi$.\n",
    "\n",
    "## Espressione fattoriale della varianza\n",
    "\n",
    "Nell'ipotesi che le variabili $Y_i$ abbiano media nulla, la varianza di $Y_i$\n",
    "\n",
    "$$\n",
    "\\begin{equation}\n",
    "  \\mathbb{V}(Y_i) = \\mathbb{E}(Y_i^2) -[\\mathbb{E}(Y_i)]^2 = \\mathbb{E}(Y_i^2)\\notag\n",
    "\\end{equation}\n",
    "$$\n",
    "\n",
    "è data da\n",
    "\n",
    "$$\n",
    "\\begin{equation}\n",
    "\\begin{aligned}\n",
    "  \\mathbb{V}(Y_i) &= \\mathbb{E}[(\\lambda_i \\xi + \\delta_i)^2 ]\\notag\\\\\n",
    "  &=\\lambda_i^2 \\underbrace{\\mathbb{E}(\\xi^2) }_{\\mathbb{V}(\\xi)=1} + \\underbrace{\\mathbb{E}(\\delta_i^2) }_{\\mathbb{V}(\\delta_i)=\\psi_{i}} + 2\\lambda_i \\underbrace{\\mathbb{E}(\\xi \\delta_i) }_{\\mbox{Cov}(\\xi, \\delta_{i})=0}\\notag\\\\\n",
    "  &=\\lambda^2_i + \\psi_{i}.\n",
    "\\end{aligned}\n",
    "\\end{equation}\n",
    "$$\n",
    "\n",
    "La quantità $\\lambda^2_i$ è denominata *comunalità* della $i$-esima variabile\n",
    "manifesta e corrisponde alla quota della varianza della $Y_i$ spiegata\n",
    "dal fattore comune. Di conseguenza $\\psi_{i}$ è la parte residua della\n",
    "varianza di $Y_i$ non spiegata dal fattore comune ed è denominata\n",
    "*unicità* di $Y_i$. Nel caso di variabili standardizzate, l'unicità\n",
    "diventa uguale a \n",
    "\n",
    "$$\n",
    "\\psi_{i}=1-\\lambda^2_i.\n",
    "$$ \n",
    "\n",
    "In definitiva, la varianza totale di una variabile osservata può essere divisa in una quota che ciascuna variabile condivide con le altre variabili ed è spiegata dal\n",
    "fattore comune (questa quota è chiamata *comunalità* ed è uguale uguale\n",
    "al quadrato della saturazione della variabile osservata nel fattore\n",
    "comune, ovvero $h^2_i = \\lambda_i^2$), e in una quota che è spiegata dal\n",
    "fattore specifico (questa parte è chiamata *unicità* ed è\n",
    "uguale a $u_i = \\psi_{i}$).\n",
    "\n",
    "**Esempio.** Riprendiamo l'analisi della matrice di correlazioni di Spearman.\n",
    "Nell'output prodotto dalla funzione `factanal()` viene riportata la\n",
    "quantità denominata `SS loadings`. Tale quantità indica la porzione della varianza totale delle 4 variabili manifeste che viene spiegata dal fattore comune. Ciascuna variabile\n",
    "standardizzata contribuisce con un'unità di varianza; nel caso presente,\n",
    "dunque la varianza totale è uguale a 4. Si ricordi che, nella statistica multivariata, per *varianza totale* si intende la somma delle varianze delle variabili manifeste (nel linguaggio dell'algebra matriciale questa quantità corrisponde alla *traccia* della matrice di covarianze). La quota della varianza totale spiegata dal modello, invece, è data dalla somma delle comunalità delle quattro variabili, ovvero dalla somma delle saturazioni fattoriali innalzate al quadrato."
   ]
  },
  {
   "cell_type": "code",
   "execution_count": 3,
   "id": "9052fc4e",
   "metadata": {
    "vscode": {
     "languageId": "r"
    }
   },
   "outputs": [
    {
     "name": "stdout",
     "output_type": "stream",
     "text": [
      "     C    E    M    P\n",
      "C 1.00 0.78 0.70 0.66\n",
      "E 0.78 1.00 0.64 0.54\n",
      "M 0.70 0.64 1.00 0.45\n",
      "P 0.66 0.54 0.45 1.00\n"
     ]
    }
   ],
   "source": [
    "Spearman <- matrix(c(\n",
    "  1.0, .78, .70, .66,\n",
    "  .78, 1.0, .64, .54,\n",
    "  .70, .64, 1.0, .45,\n",
    "  .66, .54, .45, 1.0\n",
    "),\n",
    "byrow = TRUE, ncol = 4\n",
    ")\n",
    "rownames(Spearman) <- c(\"C\", \"E\", \"M\", \"P\")\n",
    "colnames(Spearman) <- c(\"C\", \"E\", \"M\", \"P\")\n",
    "Spearman |>\n",
    "  print()"
   ]
  },
  {
   "attachments": {},
   "cell_type": "markdown",
   "id": "b116603e",
   "metadata": {},
   "source": [
    "Eseguiamo l'analisi fattoriale:"
   ]
  },
  {
   "cell_type": "code",
   "execution_count": 4,
   "id": "8c5a4af7",
   "metadata": {
    "vscode": {
     "languageId": "r"
    }
   },
   "outputs": [
    {
     "name": "stdout",
     "output_type": "stream",
     "text": [
      "\n",
      "Call:\n",
      "factanal(factors = 1, covmat = Spearman)\n",
      "\n",
      "Uniquenesses:\n",
      "    C     E     M     P \n",
      "0.086 0.329 0.460 0.539 \n",
      "\n",
      "Loadings:\n",
      "  Factor1\n",
      "C 0.956  \n",
      "E 0.819  \n",
      "M 0.735  \n",
      "P 0.679  \n",
      "\n",
      "               Factor1\n",
      "SS loadings      2.587\n",
      "Proportion Var   0.647\n",
      "\n",
      "The degrees of freedom for the model is 2 and the fit was 0.023 \n"
     ]
    }
   ],
   "source": [
    "fm <- factanal(covmat = Spearman, factors = 1)\n",
    "fm |>\n",
    "    print()"
   ]
  },
  {
   "attachments": {},
   "cell_type": "markdown",
   "id": "c02ae55f",
   "metadata": {},
   "source": [
    "Le saturazioni fattoriali sono:"
   ]
  },
  {
   "cell_type": "code",
   "execution_count": 5,
   "id": "832f168e",
   "metadata": {
    "vscode": {
     "languageId": "r"
    }
   },
   "outputs": [
    {
     "name": "stdout",
     "output_type": "stream",
     "text": [
      "[1] 0.9562592 0.8193902 0.7350316 0.6790212\n"
     ]
    }
   ],
   "source": [
    "L <- c(fm$load[1], fm$load[2], fm$load[3], fm$load[4])\n",
    "print(L)"
   ]
  },
  {
   "attachments": {},
   "cell_type": "markdown",
   "id": "601dc989",
   "metadata": {},
   "source": [
    "Facendo il prodotto interno otteniamo:"
   ]
  },
  {
   "cell_type": "code",
   "execution_count": 6,
   "id": "2cc38e88",
   "metadata": {
    "vscode": {
     "languageId": "r"
    }
   },
   "outputs": [
    {
     "data": {
      "text/html": [
       "<table class=\"dataframe\">\n",
       "<caption>A matrix: 1 × 1 of type dbl</caption>\n",
       "<tbody>\n",
       "\t<tr><td>2.587173</td></tr>\n",
       "</tbody>\n",
       "</table>\n"
      ],
      "text/latex": [
       "A matrix: 1 × 1 of type dbl\n",
       "\\begin{tabular}{l}\n",
       "\t 2.587173\\\\\n",
       "\\end{tabular}\n"
      ],
      "text/markdown": [
       "\n",
       "A matrix: 1 × 1 of type dbl\n",
       "\n",
       "| 2.587173 |\n",
       "\n"
      ],
      "text/plain": [
       "     [,1]    \n",
       "[1,] 2.587173"
      ]
     },
     "metadata": {},
     "output_type": "display_data"
    }
   ],
   "source": [
    "t(L) %*% L "
   ]
  },
  {
   "attachments": {},
   "cell_type": "markdown",
   "id": "af0be0a8",
   "metadata": {},
   "source": [
    "In termini proporzionali, la quota della varianza totale delle variabile manifeste che viene spiegata dal modello ad un fattore comune è dunque uguale a $2.587 / 4 = 0.647$. Questa quantità è indicata nell'output con la denominazione `Proportion Var`.\n",
    "\n",
    "Si dice unicità (*uniqueness*) la quota della varianza della variabile considerata che non viene spiegata dalla soluzione fattoriale:"
   ]
  },
  {
   "cell_type": "code",
   "execution_count": 7,
   "id": "8c585273",
   "metadata": {
    "vscode": {
     "languageId": "r"
    }
   },
   "outputs": [
    {
     "name": "stdout",
     "output_type": "stream",
     "text": [
      "    C     E     M     P \n",
      "0.086 0.329 0.460 0.539 \n"
     ]
    }
   ],
   "source": [
    "round(fm$uniqueness, 3) |>\n",
    "    print()"
   ]
  },
  {
   "attachments": {},
   "cell_type": "markdown",
   "id": "662e3e2c",
   "metadata": {},
   "source": [
    "La comunalità (ovvero, la quota di varianza di ciascuna variabile manifesta che viene spiegata dal fattore comune) può essere trovata come:"
   ]
  },
  {
   "cell_type": "code",
   "execution_count": 8,
   "id": "2c530276",
   "metadata": {
    "vscode": {
     "languageId": "r"
    }
   },
   "outputs": [
    {
     "name": "stdout",
     "output_type": "stream",
     "text": [
      "    C     E     M     P \n",
      "0.914 0.671 0.540 0.461 \n"
     ]
    }
   ],
   "source": [
    "round(1 - fm$uniqueness, 3) |>\n",
    "    print()"
   ]
  },
  {
   "attachments": {},
   "cell_type": "markdown",
   "id": "5ed0191f",
   "metadata": {},
   "source": [
    "oppure con"
   ]
  },
  {
   "cell_type": "code",
   "execution_count": 9,
   "id": "efb86a24",
   "metadata": {
    "lines_to_next_cell": 0,
    "vscode": {
     "languageId": "r"
    }
   },
   "outputs": [
    {
     "name": "stdout",
     "output_type": "stream",
     "text": [
      "[1] 0.9144316 0.6714003 0.5402714 0.4610697\n"
     ]
    }
   ],
   "source": [
    "L^2 |>\n",
    "    print()"
   ]
  },
  {
   "attachments": {},
   "cell_type": "markdown",
   "id": "8a2fe06a",
   "metadata": {},
   "source": [
    "## Covarianza tra due variabili manifeste\n",
    "\n",
    "Nell'ipotesi che le variabili $Y_i$ abbiano media nulla, la covarianza\n",
    "tra $Y_i$ e $Y_k$\n",
    "\n",
    "$$\n",
    "Cov(Y_i, Y_k)=\\mathbb{E}(Y_i Y_k) -\n",
    "\\mathbb{E}(Y_i)\\mathbb{E}(Y_k)=\\mathbb{E}(Y_i Y_k)\n",
    "$$\n",
    "\n",
    "è uguale al prodotto delle corrispondenti saturazioni fattoriali:\n",
    "\n",
    "$$\n",
    "\\begin{equation}\n",
    "\\begin{aligned}\n",
    " \\mbox{Cov}(Y_i, Y_k) &= \\mathbb{E}(Y_i Y_k) \\notag\\\\\n",
    "  & =\\mathbb{E}[(\\lambda_i \\xi + \\delta_i)(\\lambda_k \\xi +  \\delta_k)]\\notag\\\\\n",
    "  &=\\mathbb{E}(\\lambda_i\\lambda_k\\xi^2 + \\lambda_i  \\xi \\delta_k + \\lambda_k \\delta_i \\xi + \\delta_i \\delta_k)\\notag\\\\\n",
    "  &=\\lambda_i\\lambda_k\\underbrace{\\mathbb{E}(\\xi^2)}_{\\mathbb{V}(\\xi)=1}+\\lambda_i\\underbrace{\\mathbb{E}(\\xi \\delta_k)}_{\\mbox{Cov}(\\xi, \\delta_k) =0}+\\notag\\\\ \\;&+\\lambda_k\\underbrace{\\mathbb{E}(\\delta_i \\xi)}_{\\mbox{Cov}(\\delta_i, \\xi) =0} +\\underbrace{\\mathbb{E}(\\delta_i \\delta_k)}_{\\mbox{Cov}(\\delta_i, \\delta_k)=0}\\notag\\\\\n",
    "  &=\\lambda_i\\lambda_k.\n",
    "\\end{aligned}\n",
    "\\end{equation}\n",
    "$$\n",
    "\n",
    "## Correlazioni osservate e correlazioni riprodotte dal modello\n",
    "\n",
    "In generale possiamo affermare che il modello monofattoriale è adeguato\n",
    "se si verifica che $\\mbox{Cov}(Y_i, Y_k \\mid \\xi) = 0$\n",
    "($i, k = 1, \\dots,p; \\; i\\neq k$), ossia se il fattore comune spiega\n",
    "tutta la covarianza tra le variabili osservate. La matrice di\n",
    "correlazioni riprodotte dal modello è chiamata $\\boldsymbol{\\Sigma}$ e\n",
    "può essere espressa come:\n",
    "\n",
    "$$\n",
    "\\boldsymbol{\\Sigma} = \\boldsymbol{\\Lambda} \\boldsymbol{\\Lambda}^\\prime + \\boldsymbol{\\Psi}\n",
    "$$\n",
    "\n",
    "In altri termini, il modello monofattoriale è adeguato se è nulla la\n",
    "differenza tra la matrice di correlazioni osservate e la matrice di\n",
    "correlazioni riprodotte dal modello. Per i dati di Spearman, le\n",
    "correlazioni riprodotte dal modello ad un fattore sono"
   ]
  },
  {
   "cell_type": "code",
   "execution_count": null,
   "id": "6001a5e1",
   "metadata": {
    "vscode": {
     "languageId": "r"
    }
   },
   "outputs": [],
   "source": [
    "round( L %*% t(L) + diag(fm$uniq), 3) |>\n",
    "    print()"
   ]
  },
  {
   "attachments": {},
   "cell_type": "markdown",
   "id": "9c040655",
   "metadata": {},
   "source": [
    "La matrice delle differenze tra le correlazioni campionarie e quelle\n",
    "riprodotte è"
   ]
  },
  {
   "cell_type": "code",
   "execution_count": null,
   "id": "e49dcad0",
   "metadata": {
    "vscode": {
     "languageId": "r"
    }
   },
   "outputs": [],
   "source": [
    "round(Spearman - (L %*% t(L) + diag(fm$uniq)), 3) |>\n",
    "    print()"
   ]
  },
  {
   "attachments": {},
   "cell_type": "markdown",
   "id": "eda3bfbd",
   "metadata": {},
   "source": [
    "Lo scarto maggiore tra le correlazioni campionarie e quelle riprodotte è\n",
    "uguale a 0.049. Si può dunque concludere che il modello monofattoriale\n",
    "spiega in maniera ragionevole i dati di Spearman.\n",
    "\n",
    "## Bontà di adattamento del modello ai dati\n",
    "\n",
    "La verifica della bontà di adattamento del modello ai dati si determina\n",
    "mediante un test statistico che valuta la differenza tra la matrice di\n",
    "correlazioni (o di covarianze) osservata e la matrice di correlazioni (o\n",
    "covarianze) predetta dal modello fattoriale. L'ipotesi nulla che viene\n",
    "valutata è che la matrice delle correlazioni residue sia dovuta\n",
    "semplicemente agli errori di campionamento, ovvero che la matrice di\n",
    "correlazioni predetta dal modello $\\boldsymbol{\\Sigma}(\\theta)$ sia\n",
    "uguale alla matrice di correlazioni $\\boldsymbol{\\Sigma}$ nella\n",
    "popolazione.\n",
    "\n",
    "La statistica test $v$ è una funzione della differenza tra la matrice\n",
    "riprodotta $\\boldsymbol{S}(\\theta)$ e quella osservata $\\boldsymbol{S}$\n",
    "\n",
    "$$\n",
    "v = f\\left[\\boldsymbol{S}(\\theta) - \\boldsymbol{S}\\right]\n",
    "$$\n",
    "\n",
    "e si distribuisce come una $\\chi^2$ con $\\nu$ gradi di libertà\n",
    "\n",
    "$$\n",
    "\\nu = p(p+1)/ 2 - q,\n",
    "$$\n",
    "\n",
    "dove $p$ è il numero di variabili manifeste e\n",
    "$q$ è il numero di parametri stimati dal modello fattoriale (ovvero,\n",
    "$\\lambda$ e $\\psi$). \n",
    "\n",
    "La statistica $v$ assume valore 0 se i parametri del modello riproducono esattamente la matrice di correlazioni tra le variabili nella popolazione. Tanto maggiore è la statistica $v$ tanto maggiore è la discrepanza tra le correlazioni osservate e quelle\n",
    "predette dal modello fattoriale. \n",
    "\n",
    "Un risultato statisticamente significativo (es., $p$ \\< .05) -- il quale suggerisce che una tale differenza *non* è uguale a zero -- rivela dunque una discrepanza tra il modello e i dati. Il test del modello fattoriale mediante la statistica $\\chi^2$\n",
    "segue dunque una logica diversa da quella utilizzata nei normali test di\n",
    "ipotesi statistiche: *un risultato statisticamente significativo indica una mancanza di adattamento del modello ai dati*.\n",
    "\n",
    "L'applicazione del test $\\chi^2$ per valutare la bontà di adattamento del modello ai dati richiede che ciascuna variabile manifesta sia distribuita normalmente -- più precisamente, richiede che le variabili manifeste siano un campione casuale che deriva da una normale\n",
    "multivariata. Questo requisito non è facile da rispettare in pratica.\n",
    "\n",
    "Tuttavia, il limite principale della statistica $\\chi^2$ è che essa dipende fortemente dalle dimensioni del campione: al crescere delle dimensioni campionarie è più facile ottenere un risultato statisticamente significativo (ovvero, concludere che vi è un cattivo adattamento del modello ai dati). Per questa ragione, la bontà di adattamento del modello ai dati viene valutata da molteplici indici, non soltanto dalla statistica $\\chi^2$. Più comune è calcolare il rapporto $\\chi^2 / \\nu$ e usare tale rapporto per valutare la bontà dell'adattamento. Valori minori di 3 o 4 suggeriscono che il modello ben si adatta ai dati.\n",
    "\n",
    "## L'errore standard della misurazione e il modello fattoriale\n",
    "\n",
    "Per concludere, prendiamo nuovamente in esame la nozione dell'errore standard della misurazione, uno dei concetti centrali della CTT, e vediamo come tale concetto possa essere \"ripensato\" in riferimento al modello statistico dell'analisi fattoriale. Iniziamo con una dimostrazione.\n",
    "\n",
    "````{prf:proof}\n",
    "\n",
    "Secondo la CTT, il punteggio $X$ ottenuto dalla somministrazione del test è uguale a $X = T + E,$ dove $E$ è una variabile aleatorie indipendente da $T$. Se consideriamo il rispondente $i$-esimo, il modello diventa $X_i = T_i + E_i$, dove $T_i$ è il valore\n",
    "vero ed $E_i$ è una variabile aleatoria con media 0.\n",
    "\n",
    "Riscriviamo ora questa equazione nei termini di un modello monofattoriale con $p$ variabili manifeste (item). Per ciascun item avremo:\n",
    "\n",
    "$$\n",
    "\\begin{equation}\n",
    "\\begin{aligned}\n",
    " Y_{1i} &=  \\lambda_1 \\xi_i + \\delta_{1i} \\notag\\\\\n",
    " Y_{2i} &=  \\lambda_2 \\xi_i + \\delta_{2i} \\notag\\\\\n",
    "  \\dots\\notag\\\\\n",
    " Y_{pi} &=  \\lambda_p \\xi_i + \\delta_{pi} \\notag\n",
    " \\end{aligned}\n",
    " \\end{equation}\n",
    " $$\n",
    "\n",
    "Il punteggio totale $X_i$ per il rispondente $i$-esimo è dato dalla somma\n",
    "dei punteggi osservati in ciascun item, ovvero\n",
    "\n",
    "$$\n",
    "\\begin{equation}\n",
    "\\begin{aligned}\n",
    " X_i &= \\sum_{j=1}^p Y_{ji} = \\sum_{j=1}^p \\lambda_j \\xi_i + \\sum_{j=1}^p \\delta_{ji}\\notag\\\\[12pt]\n",
    "  &=  \\left( \\sum_{j=1}^p \\lambda_j \\right) \\xi_i  +  \\sum_{j=1}^p \\delta_{ji} \\notag\\\\[12pt]\n",
    "  &= T_i + E_i\\notag\n",
    "\\end{aligned}\n",
    "\\end{equation}\n",
    "$$\n",
    "\n",
    "Secondo la CTT, la varianza del punteggio osservato $X_i$ si scompone in\n",
    "due componenti: $\\sigma^2_{X_i} = \\sigma^2_{T_i} + \\sigma^2_{E_i}$. Nei\n",
    "termini del modello fattoriale, la varianza della componente vera del\n",
    "punteggio totale del test, $\\sigma^2_{T_i}$, è data dal quadrato della\n",
    "somma delle satutazioni fattoriali:\n",
    "\n",
    "$$\n",
    "\\begin{equation}\n",
    "\\begin{aligned}\n",
    " \\sigma^2_{T_i} &= \\mathbb{V}\\left[ \\left( \\sum_{j=1}^p \\lambda_j \\right) \\xi_i \\right]\\notag\\\\\n",
    " &= \\left( \\sum_{j=1}^p \\lambda_j \\right)^2 \\mathbb{V}(\\xi_i)\\notag\\\\\n",
    " &= \\left( \\sum_{j=1}^p \\lambda_j \\right)^2 \\notag\n",
    "\\end{aligned}\n",
    "\\end{equation}\n",
    "$$\n",
    "\n",
    "Nei termini del modello fattoriale, se consideriamo il punteggio totale\n",
    "del test, la varianza della componente dell'errore della misurazione,\n",
    "$\\sigma^2_{E_i}$, è data dalla somma delle unicità:\n",
    "\n",
    "$$\n",
    "\\begin{equation}\n",
    "\\begin{aligned}\n",
    " \\sigma^2_{E_i} &= \\mathbb{V}\\left( \\sum_{j=1}^p \\delta_{ji} \\right)\\notag\\\\\n",
    " &= \\sum_{j=1}^p \\mathbb{V}\\left( \\delta_{ji} \\right)\\notag\\\\\n",
    " &= \\sum_{j=1}^p \\Psi_j\\notag\n",
    "\\end{aligned}\n",
    "\\end{equation}\n",
    "$$\n",
    "\n",
    "Nei termini del modello fattoriale, dunque, una stima dell'errore standard della misurazione del punteggio totale del test è data dalla radice quadrata della quantità\n",
    "precedente, ovvero:\n",
    "\n",
    "$$\n",
    "\\begin{equation}\n",
    "\\sigma_{E} = \\sqrt{\\sum_{j=1}^p \\Psi_j}\n",
    "\\end{equation}\n",
    "$$(eq-err-stnd-meas-FA)\n",
    "````\n",
    "\n",
    "## Un esempio concreto\n",
    "\n",
    "Applichiamo ora il risultato precedente ad un caso concreto. Consideriamo i dati utilizzati nella validazione italiana del *Cognitive Style Questionnaire - Short Form* (CSQ-SF, Meins et al. 2012). Il CSQ-SF viene utilizzato per misurare la vulnerabilità all'ansia e alla depressione. È costituito da cinque sottoscale: *Internality*, *Globality*, *Stability*, *Negative consequences* e *Self-worth*. \n",
    "\n",
    "Leggiamo i dati in $\\textsf{R}$:"
   ]
  },
  {
   "cell_type": "code",
   "execution_count": null,
   "id": "6ae31540",
   "metadata": {
    "vscode": {
     "languageId": "r"
    }
   },
   "outputs": [],
   "source": [
    "csq <- rio::import(here::here(\"data\", \"csq540.csv\"))"
   ]
  },
  {
   "attachments": {},
   "cell_type": "markdown",
   "id": "30f09458",
   "metadata": {},
   "source": [
    "Il numero di partecipanti è"
   ]
  },
  {
   "cell_type": "code",
   "execution_count": null,
   "id": "e2038b8f",
   "metadata": {
    "vscode": {
     "languageId": "r"
    }
   },
   "outputs": [],
   "source": [
    "n <- nrow(csq)\n",
    "n"
   ]
  },
  {
   "attachments": {},
   "cell_type": "markdown",
   "id": "9fbdb4f0",
   "metadata": {},
   "source": [
    "Le statistiche descrittive si ottengono con la seguente istruzione:"
   ]
  },
  {
   "cell_type": "code",
   "execution_count": null,
   "id": "03129cf7",
   "metadata": {
    "vscode": {
     "languageId": "r"
    }
   },
   "outputs": [],
   "source": [
    "psych::describe(csq, type = 2) |>\n",
    "    print()"
   ]
  },
  {
   "attachments": {},
   "cell_type": "markdown",
   "id": "8832c994",
   "metadata": {},
   "source": [
    "Esaminiamo la matrice di correlazione:"
   ]
  },
  {
   "cell_type": "code",
   "execution_count": null,
   "id": "14bd5d10",
   "metadata": {
    "vscode": {
     "languageId": "r"
    }
   },
   "outputs": [],
   "source": [
    "psych::pairs.panels(csq) |>\n",
    "    print()"
   ]
  },
  {
   "attachments": {},
   "cell_type": "markdown",
   "id": "5377395d",
   "metadata": {},
   "source": [
    "La sottoscala di *Internality* è problematica, come messo anche in evidenza dall'autore del test. La consideriamo comunque in questa analisi statistica.\n",
    "\n",
    "Specifichiamo il modello unifattoriale nella sintassi di `lavaan`:"
   ]
  },
  {
   "cell_type": "code",
   "execution_count": null,
   "id": "9e19f68f",
   "metadata": {
    "vscode": {
     "languageId": "r"
    }
   },
   "outputs": [],
   "source": [
    "mod_csq <- \"\n",
    "   F =~ NA*I + G + S + N + W\n",
    "   F ~~ 1*F\n",
    "\" "
   ]
  },
  {
   "attachments": {},
   "cell_type": "markdown",
   "id": "40cfecb9",
   "metadata": {},
   "source": [
    "Adattiamo il modello ai dati:"
   ]
  },
  {
   "cell_type": "code",
   "execution_count": null,
   "id": "c1f479a2",
   "metadata": {
    "vscode": {
     "languageId": "r"
    }
   },
   "outputs": [],
   "source": [
    "fit <- lavaan:::cfa(\n",
    "  mod_csq,\n",
    "  data = csq\n",
    ")"
   ]
  },
  {
   "attachments": {},
   "cell_type": "markdown",
   "id": "6415fe53",
   "metadata": {},
   "source": [
    "Esaminiamo i risultati:"
   ]
  },
  {
   "cell_type": "code",
   "execution_count": null,
   "id": "7bcb5229",
   "metadata": {
    "vscode": {
     "languageId": "r"
    }
   },
   "outputs": [],
   "source": [
    "summary(\n",
    "  fit, \n",
    "  standardized = TRUE,\n",
    "  fit.measures = TRUE\n",
    ") |>\n",
    "    print()"
   ]
  },
  {
   "attachments": {},
   "cell_type": "markdown",
   "id": "b700657b",
   "metadata": {},
   "source": [
    "Esaminiamo solo le stime dei parametri del modello:"
   ]
  },
  {
   "cell_type": "code",
   "execution_count": null,
   "id": "ddebc7fb",
   "metadata": {
    "vscode": {
     "languageId": "r"
    }
   },
   "outputs": [],
   "source": [
    "parameterEstimates(fit) |>\n",
    "    print()"
   ]
  },
  {
   "attachments": {},
   "cell_type": "markdown",
   "id": "aff41c33",
   "metadata": {},
   "source": [
    "Recuperiamo le specificità:"
   ]
  },
  {
   "cell_type": "code",
   "execution_count": null,
   "id": "8a8a6cd4",
   "metadata": {
    "vscode": {
     "languageId": "r"
    }
   },
   "outputs": [],
   "source": [
    "psi <- parameterEstimates(fit)$est[7:11]\n",
    "psi |>\n",
    "    print()"
   ]
  },
  {
   "attachments": {},
   "cell_type": "markdown",
   "id": "072da7e7",
   "metadata": {},
   "source": [
    "Stimiamo l'errore standard della misurazione con la \\@ref(eq:err-stnd-meas-FA):"
   ]
  },
  {
   "cell_type": "code",
   "execution_count": null,
   "id": "0d3a1643",
   "metadata": {
    "vscode": {
     "languageId": "r"
    }
   },
   "outputs": [],
   "source": [
    "sqrt(sum(psi)) |>\n",
    "    print()"
   ]
  },
  {
   "attachments": {},
   "cell_type": "markdown",
   "id": "09f8e16f",
   "metadata": {},
   "source": [
    "Applichiamo ora la formula della TCT:\n",
    "\n",
    "$$\n",
    "\\sigma_E = \\sigma_X \\sqrt{1 -\\rho_{XX^\\prime}}.\n",
    "$$\n",
    "\n",
    "Per trovare $\\sigma$ calcoliamo prima il punteggio totale:\n"
   ]
  },
  {
   "cell_type": "code",
   "execution_count": null,
   "id": "fad2d7ba",
   "metadata": {
    "vscode": {
     "languageId": "r"
    }
   },
   "outputs": [],
   "source": [
    "tot_score <- rowSums(csq)"
   ]
  },
  {
   "attachments": {},
   "cell_type": "markdown",
   "id": "8786ce53",
   "metadata": {},
   "source": [
    "La deviazione standard di `tot_score` ci fornisce una stima di $\\sigma_X$:"
   ]
  },
  {
   "cell_type": "code",
   "execution_count": null,
   "id": "5e85595b",
   "metadata": {
    "vscode": {
     "languageId": "r"
    }
   },
   "outputs": [],
   "source": [
    "sigma <- sd(tot_score)\n",
    "sigma |>\n",
    "    print()"
   ]
  },
  {
   "attachments": {},
   "cell_type": "markdown",
   "id": "1064074f",
   "metadata": {},
   "source": [
    "Per applicare la formula della TCT abbiamo bisogno dell'attendibilità. La stimiamo usando la funzione `reliability` del pacchetto `semTools` dall'oggetto creato da `lavaan:::cfa()`:"
   ]
  },
  {
   "cell_type": "code",
   "execution_count": null,
   "id": "075e52ed",
   "metadata": {
    "vscode": {
     "languageId": "r"
    }
   },
   "outputs": [],
   "source": [
    "rel <- semTools::reliability(fit)\n",
    "rel |>\n",
    "    print()"
   ]
  },
  {
   "attachments": {},
   "cell_type": "markdown",
   "id": "26724144",
   "metadata": {},
   "source": [
    "Utilizzando $\\Omega$ otteniamo:"
   ]
  },
  {
   "cell_type": "code",
   "execution_count": null,
   "id": "cfe0d78d",
   "metadata": {
    "vscode": {
     "languageId": "r"
    }
   },
   "outputs": [],
   "source": [
    "sigma * sqrt(1- rel[2]) |>\n",
    "    print()"
   ]
  },
  {
   "attachments": {},
   "cell_type": "markdown",
   "id": "e08e2bbc",
   "metadata": {},
   "source": [
    "Si noti come il risultato sia molto simile a quello trovato con la formula della TCT."
   ]
  },
  {
   "attachments": {},
   "cell_type": "markdown",
   "id": "60235177",
   "metadata": {},
   "source": [
    "### Correlazioni osservate e riprodotte\n",
    "\n",
    "Le correlazioni riprodotte dal modello si ottengono nel modo seguente dall'oggetto `fit`."
   ]
  },
  {
   "cell_type": "code",
   "execution_count": null,
   "id": "611bf9a6",
   "metadata": {
    "vscode": {
     "languageId": "r"
    }
   },
   "outputs": [],
   "source": [
    "cor_mat <- lavInspect(fit, \"cor.ov\")\n",
    "cor_mat |>\n",
    "    print()"
   ]
  },
  {
   "attachments": {},
   "cell_type": "markdown",
   "id": "d868a5c0",
   "metadata": {},
   "source": [
    "Abbiamo visto come il modello unifattoriale predice che la correlazione tra due variabili manifeste sia il prodotto delle rispettive correlazioni fattoriali. Estraiamo le saturazioni fattoriali."
   ]
  },
  {
   "cell_type": "code",
   "execution_count": null,
   "id": "5601108a",
   "metadata": {
    "vscode": {
     "languageId": "r"
    }
   },
   "outputs": [],
   "source": [
    "l <- inspect(fit, what=\"std\")$lambda\n",
    "l |>\n",
    "    print()"
   ]
  },
  {
   "attachments": {},
   "cell_type": "markdown",
   "id": "3d182c37",
   "metadata": {},
   "source": [
    "Per esempio, se consideriamo `I` e `G`, la correlazione predetta dal modello fattoriale tra queste due sottoscale è data dal prodotto delle rispettive saturazioni fattoriali."
   ]
  },
  {
   "cell_type": "code",
   "execution_count": null,
   "id": "be554e3f",
   "metadata": {
    "vscode": {
     "languageId": "r"
    }
   },
   "outputs": [],
   "source": [
    "l[1] * l[2] |>\n",
    "    print()"
   ]
  },
  {
   "attachments": {},
   "cell_type": "markdown",
   "id": "714e612e",
   "metadata": {},
   "source": [
    "La matrice di correlazioni riprodotte riportata sopra mostra il risultato di questo prodotto per ciascuna coppia di variabili manifeste."
   ]
  },
  {
   "cell_type": "code",
   "execution_count": null,
   "id": "b467c107",
   "metadata": {
    "vscode": {
     "languageId": "r"
    }
   },
   "outputs": [],
   "source": [
    "l %*% t(l) |> round(3) |>\n",
    "    print()"
   ]
  },
  {
   "attachments": {},
   "cell_type": "markdown",
   "id": "602d3f3e",
   "metadata": {},
   "source": [
    "### Scomposizione della varianza\n",
    "\n",
    "Consideriamo la variabile manifesta `W`. Calcoliamo la varianza."
   ]
  },
  {
   "cell_type": "code",
   "execution_count": null,
   "id": "30abaa92",
   "metadata": {
    "vscode": {
     "languageId": "r"
    }
   },
   "outputs": [],
   "source": [
    "var(csq$W) |>\n",
    "    print()"
   ]
  },
  {
   "attachments": {},
   "cell_type": "markdown",
   "id": "8215b3be",
   "metadata": {},
   "source": [
    "La varianza *riprodotta* di questa variabile, secondo il modello fattoriale, dovrebbe esere uguale alla somma di due componenti: la varianza predetta dall'effetto causale del fattore latente e la varianza residua.  La varianza predetta dall'effetto causale del fattore latente è uguale alla saturazione elevata al quadrato:"
   ]
  },
  {
   "cell_type": "code",
   "execution_count": null,
   "id": "4d55b492",
   "metadata": {
    "vscode": {
     "languageId": "r"
    }
   },
   "outputs": [],
   "source": [
    "(-11.598)^2 "
   ]
  },
  {
   "attachments": {},
   "cell_type": "markdown",
   "id": "dcb25556",
   "metadata": {},
   "source": [
    "Calcolo ora la proporzione di varianza residua normalizzando rispetto alla varianza osservata (non a quella riprodotta dal modello):"
   ]
  },
  {
   "cell_type": "code",
   "execution_count": null,
   "id": "5ff54c40",
   "metadata": {
    "vscode": {
     "languageId": "r"
    }
   },
   "outputs": [],
   "source": [
    "1 - (-11.598)^2 / var(csq$W) |>\n",
    "    print()"
   ]
  },
  {
   "attachments": {},
   "cell_type": "markdown",
   "id": "11f1c368",
   "metadata": {},
   "source": [
    "Il valore così ottenuto è molto simile al valore della varianza residua di `W`. \n",
    "\n",
    "Ripeto i calcoli per la variabile `G`"
   ]
  },
  {
   "cell_type": "code",
   "execution_count": null,
   "id": "7e1ead0b",
   "metadata": {
    "vscode": {
     "languageId": "r"
    }
   },
   "outputs": [],
   "source": [
    "1 - (-11.322)^2 / var(csq$G) |>\n",
    "    print()"
   ]
  },
  {
   "attachments": {},
   "cell_type": "markdown",
   "id": "61cd96b5",
   "metadata": {},
   "source": [
    "e per la variabile `I`"
   ]
  },
  {
   "cell_type": "code",
   "execution_count": null,
   "id": "8c9805f1",
   "metadata": {
    "vscode": {
     "languageId": "r"
    }
   },
   "outputs": [],
   "source": [
    "1 - (0.725)^2 / var(csq$I) |>\n",
    "    print()"
   ]
  },
  {
   "attachments": {},
   "cell_type": "markdown",
   "id": "d8267a9d",
   "metadata": {},
   "source": [
    "In tutti i casi, i valori ottenuti sono molto simili alle varianze residue ipotizzate dal modello unifattoriale."
   ]
  },
  {
   "attachments": {},
   "cell_type": "markdown",
   "id": "99867cfe",
   "metadata": {},
   "source": [
    "### Correlazione tra variabili manifeste e fattore comune\n",
    "\n",
    "Un modo per verificare il fatto che, nel modello unifattoriale, la saturazione fattoriale della $i$-esima variabile manifesta è uguale alla correlazione tra i punteggi osservati sulla i$-esima variabile manifesta e il fattore latente è quella di calcolare le correlazioni tra le variabili manifeste e i punteggi fattoriali. I punteggi fattoriali rappresentano una *stima* del punteggio \"vero\", ovvero del punteggio che ciascun rispondente otterrebbe in assenza di errori di misurazione. Vedremo in seguito come si possono stimare i punteggi fattoriali. Per ora ci limitiamo a calcolarli usando `lavaan`."
   ]
  },
  {
   "cell_type": "code",
   "execution_count": null,
   "id": "6f51749a",
   "metadata": {
    "vscode": {
     "languageId": "r"
    }
   },
   "outputs": [],
   "source": [
    "head(lavPredict(fit)) |>\n",
    "    print()"
   ]
  },
  {
   "attachments": {},
   "cell_type": "markdown",
   "id": "d79d94e0",
   "metadata": {},
   "source": [
    "Abbiamo un punteggio diverso per ciascuno dei 540 individui che appartengono al campione di dati esaminato."
   ]
  },
  {
   "cell_type": "code",
   "execution_count": null,
   "id": "0cdc2158",
   "metadata": {
    "vscode": {
     "languageId": "r"
    }
   },
   "outputs": [],
   "source": [
    "dim(lavPredict(fit))"
   ]
  },
  {
   "attachments": {},
   "cell_type": "markdown",
   "id": "f7a9219d",
   "metadata": {},
   "source": [
    "Calcoliamo ora le correlazioni tra i valori osservati su ciascuna delle cinque scale del CSQ e le stime dei punteggi veri."
   ]
  },
  {
   "cell_type": "code",
   "execution_count": null,
   "id": "7823dbc5",
   "metadata": {
    "vscode": {
     "languageId": "r"
    }
   },
   "outputs": [],
   "source": [
    "c(\n",
    "  cor(csq$I, lavPredict(fit)),\n",
    "  cor(csq$G, lavPredict(fit)),\n",
    "  cor(csq$S, lavPredict(fit)),\n",
    "  cor(csq$N, lavPredict(fit)),\n",
    "  cor(csq$W, lavPredict(fit))\n",
    ") |> \n",
    "  round(3) |>\n",
    "    print()\n"
   ]
  },
  {
   "attachments": {},
   "cell_type": "markdown",
   "id": "56461eb9",
   "metadata": {},
   "source": [
    "Si noti che i valori ottenui sono molto simili ai valori delle saturazioni fattoriali. La piccola differenza tra le correlazioni ottenute e i valori delle saturazioni fattoriali dipende dal fatto che abbiamo *stimato* i punteggi fattoriali."
   ]
  },
  {
   "cell_type": "code",
   "execution_count": null,
   "id": "9063a234",
   "metadata": {
    "lines_to_next_cell": 0,
    "vscode": {
     "languageId": "r"
    }
   },
   "outputs": [],
   "source": [
    "inspect(fit, what=\"std\")$lambda |>\n",
    "    print()"
   ]
  }
 ],
 "metadata": {
  "jupytext": {
   "cell_metadata_filter": "tags,-all",
   "main_language": "R",
   "notebook_metadata_filter": "-all"
  },
  "kernelspec": {
   "display_name": "R",
   "language": "R",
   "name": "ir"
  },
  "language_info": {
   "codemirror_mode": "r",
   "file_extension": ".r",
   "mimetype": "text/x-r-source",
   "name": "R",
   "pygments_lexer": "r",
   "version": "4.3.0"
  }
 },
 "nbformat": 4,
 "nbformat_minor": 5
}
