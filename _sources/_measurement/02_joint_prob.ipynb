{
 "cells": [
  {
   "cell_type": "markdown",
   "metadata": {},
   "source": [
    "(join-probability-notebook)=\n",
    "# Probabilità congiunta "
   ]
  },
  {
   "cell_type": "markdown",
   "metadata": {},
   "source": [
    "La probabilità congiunta è la probabilità che due o più eventi si verifichino contemporaneamente. In questo capitolo ci focalizzeremo sul caso discreto."
   ]
  },
  {
   "cell_type": "code",
   "execution_count": 1,
   "metadata": {
    "vscode": {
     "languageId": "r"
    }
   },
   "outputs": [],
   "source": [
    "source(\"../_common.R\")"
   ]
  },
  {
   "attachments": {},
   "cell_type": "markdown",
   "metadata": {},
   "source": [
    "(sec-fun-join-prob)=\n",
    "## Funzione di probabilità congiunta \n",
    "\n",
    "Dopo aver trattato della distribuzione di probabilità di una singola variabile casuale, la quale associa ad ogni evento elementare dello spazio campione uno ed un solo numero reale, è naturale estendere questo concetto al caso di due o più variabili casuali. \n",
    "\n",
    "Facciamo un esempio per il caso discreto. Consideriamo l'esperimento casuale corrispondente al lancio di tre monete equilibrate. Lo spazio campione è\n",
    "\n",
    "$$\n",
    "\\Omega = \\{TTT, TTC, TCT, CTT, CCT, CTC, TCC, CCC\\}.\n",
    "$$\n",
    "\n",
    "Dato che i tre lanci sono tra loro indipendenti, non c'è ragione di aspettarci che uno degli otto risultati possibili dell'esperimento sia più probabile degli altri, dunque possiamo associare a ciascuno degli otto eventi elementari dello spazio campione la stessa probabilità, ovvero 1/8.\n",
    "\n",
    "Definiamo sullo spazio campione $\\Omega$ le seguenti variabili casuali:\n",
    "\n",
    "-   $X \\in \\{0, 1, 2, 3\\}$ = \"numero di realizzazioni con il risultato testa nei tre lanci\",\n",
    "-   $Y \\in \\{0, 1\\}$ = \"numero di realizzazioni con il risultato testa nel primo lancio\".\n",
    "\n",
    "Indicando con T = 'testa' e C = 'croce', si ottiene la situazione riportata nella {numref}`tbl-tre-monete-distr-cong-1`.\n",
    "\n",
    "```{table} Spazio campione dell'esperimento consistente nel lancio di tre monete equilibrate su cui sono state definite le variabili aleatorie $X$ = 'numero di realizzazioni con il risultato testa nei tre lanci' e $Y$ = 'numero di realizzazioni con il risultato testa nel primo lancio'.\n",
    ":name: tbl-tre-monete-distr-cong-1\n",
    "\n",
    "|     $\\omega$     | $X$ | $Y$ | $P(\\omega)$ |\n",
    "|:----------------:|:---:|:---:|:-----------:|\n",
    "| $\\omega_1$ = TTT |  3  |  1  |     1/8     |\n",
    "| $\\omega_2$ = TTC |  2  |  1  |     1/8     |\n",
    "| $\\omega_3$ = TCT |  2  |  1  |     1/8     |\n",
    "| $\\omega_4$ = CTT |  2  |  0  |     1/8     |\n",
    "| $\\omega_5$ = CCT |  1  |  0  |     1/8     |\n",
    "| $\\omega_6$ = CTC |  1  |  0  |     1/8     |\n",
    "| $\\omega_7$ = TCC |  1  |  1  |     1/8     |\n",
    "| $\\omega_8$ = CCC |  0  |  0  |     1/8     |\n",
    "```\n",
    "\n",
    "Ci poniamo il problema di associare un valore di probabilità ad ogni coppia $(x, y)$ definita su $\\Omega$. La coppia $(X = 0, Y = 0)$ si realizza in corrispondenza di un solo evento elementare, ovvero CCC; avrà dunque una probabilità pari a\n",
    "\n",
    "$$\n",
    "P(X=0, Y=0) = P(CCC) = 1/8.\n",
    "$$\n",
    "\n",
    "Nel caso della coppia $(X = 1, Y = 0)$ ci sono due eventi elementari che danno luogo al risultato considerato, ovvero, CCT e CTC. La probabilità dell'evento composto $P(X=1, Y=0)$ è dunque uguale alla somma delle probabilità dei due eventi elementari che lo costituiscono, cioé\n",
    "\n",
    "$$\n",
    "P(X=1, Y=0) = P(\\text{CCT}) + P(\\text{CTC}) = 1/8 + 1/8 = 1/4.\n",
    "$$\n",
    "\n",
    "Di seguito sono riportati i calcoli per tutte le possibili coppie $X, Y$:\n",
    "\n",
    "$$\n",
    "\\begin{align}\n",
    "P(X = 0, Y = 0) &= P(\\omega_8 = CCC) = 1/8; \\notag\\\\\n",
    "P(X = 1, Y = 0) &= P(\\omega_5 = CCT) + P(\\omega_6 = CTC) = 2/8; \\notag\\\\\n",
    "P(X = 1, Y = 1) &= P(\\omega_7 = TCC) = 1/8; \\notag\\\\\n",
    "P(X = 2, Y = 0) &= P(\\omega_4 = CTT) = 1/8; \\notag\\\\\n",
    "P(X = 2, Y = 1) &= P(\\omega_3 = TCT) + P(\\omega_2 = TTC) = 2/8; \\notag\\\\\n",
    "P(X = 3, Y = 1) &= P(\\omega_1 = TTT) = 1/8; \\notag\n",
    "\\end{align}\n",
    "$$\n",
    "\n",
    "Le probabilità così trovate sono riportate nella {numref}`tbl-distr-cong-biv-1` che descrive la *distribuzione di probabilità congiunta* delle variabili casuali $X$ (\"numero di realizzazioni con il risultato testa nei tre lanci\") e $Y$ (\"numero di realizzazioni con il risultato testa nel primo lancio\") per l'esperimento casuale che consiste nel lancio di tre monete equilibrate.\n",
    "\n",
    "```{table} Distribuzione di probabilità congiunta per i risultati dell'esperimento consistente nel lancio di tre monete equilibrate. \n",
    ":name: tbl-distr-cong-biv-1\n",
    "\n",
    "| $x /\\ y$ |  0  |  1  |\n",
    "|:--------------------:|:---:|:---:|\n",
    "|          0           | 1/8 |  0  |\n",
    "|          1           | 2/8 | 1/8 |\n",
    "|          2           | 1/8 | 2/8 |\n",
    "|          3           |  0  | 1/8 |\n",
    "```\n",
    "\n",
    "In generale, possiamo dire che, dato uno spazio campione discreto $\\Omega$, è possibile associare ad ogni evento elementare $\\omega_i$ dello spazio campione una coppia di numeri reali $(x, y)$, essendo $x = X(\\omega)$ e $y = Y(\\omega)$, il che ci conduce alla seguente definizione.\n",
    "\n",
    "```{admonition} Definizione\n",
    "Siano $X$ e $Y$ due variabili casuali. La funzione che associa ad ogni coppia $(x, y)$ un valore di probabilità prende il nome di funzione di probabilità congiunta:\n",
    "\n",
    "$$\n",
    "P(x, y) = P(X = x, Y = y).\n",
    "$$\n",
    "```\n",
    "\n",
    "Il termine \"congiunta\" deriva dal fatto che questa probabilità è legata al verificarsi di una coppia di valori, il primo associato alla variabile casuale $X$ ed il secondo alla variabile casuale $Y$. Nel caso di due sole variabili casuali si parla di *distribuzione bivariata*, mentre nel caso di più variabili casuali si parla di *distribuzione multivariata*.\n",
    "\n",
    "\n",
    "### Proprietà\n",
    "\n",
    "Una distribuzione di massa di probabilità congiunta bivariata deve soddisfare due proprietà:\n",
    "\n",
    "1.  $0 \\leq P(x_i, y_j) \\leq 1$;\n",
    "2.  la probabilità totale deve essere uguale a 1: $\\sum_{i} \\sum_{j} P(x_i, y_j) = 1.$\n",
    "\n",
    "### Eventi\n",
    "\n",
    "Si noti che dalla probabilità congiunta possiamo calcolare la probabilità di qualsiasi evento definito in base alle variabili aleatorie $X$ e $Y$. Per capire come questo possa essere fatto, consideriamo nuovamente l'esperimento casuale discusso in precedenza.\n",
    "\n",
    "```{prf:example}\n",
    ":label: join-distr-expl-1\n",
    "\n",
    "Consideriamo la distribuzione di massa di probabilità congiunta riportata nella {numref}`tbl-distr-cong-biv-1`. Si trovi la probabilità dell'evento $X+Y \\leq 1$.\n",
    "```\n",
    "\n",
    "Per trovare la probabilità richiesta dobbiamo sommare le probabilità associate a tutte le coppie $(x,y)$ che soddisfano la condizione $X+Y \\leq 1$, ovvero\n",
    "\n",
    "$$\n",
    "P_{XY}(X+Y \\leq 1) = P_{XY}(0, 0)+ P_{XY}(0, 1) + P_{XY}(1, 0) = 3/8.\n",
    "$$"
   ]
  },
  {
   "attachments": {},
   "cell_type": "markdown",
   "metadata": {},
   "source": [
    "(sec-marg-distr-discr)=\n",
    "### Funzioni di probabilità marginali \n",
    "\n",
    "La distribuzione marginale di un sottoinsieme di variabili casuali è la distribuzione di probabilità delle variabili contenute nel sottoinsieme. Come spiegato da [Wikipedia](https://it.wikipedia.org/wiki/Distribuzione_marginale): \n",
    "\n",
    "> il termine variabile marginale è usato per riferirsi a quelle variabili nel sottoinsieme delle variabili che vengono trattenute ovvero utilizzate. Questo termine, marginale, è attribuito ai valori ottenuti ad esempio sommando in una tabella di valori lungo le righe oppure lungo le colonne, trascrivendo il risultato appunto a margine rispettivamente della riga o colonna sommata. La distribuzione delle variabili marginali (la distribuzione marginale) è ottenuta mediante marginalizzazione sopra le variabili da \"scartare\", e le variabili scartate sono dette fuori marginalizzate.\n",
    "\n",
    "Nel caso di due variabili casuali discrete $X$ e $Y$ di cui conosciamo la distribuzione congiunta, la distribuzione marginale di $X$, $P(X=x)$, è dunque\n",
    "\n",
    "$$\n",
    "P(X = x) = \\sum_y P(X, Y = y) = \\sum_y P(X \\mid Y = y) P(Y = y),\n",
    "$$\n",
    "\n",
    "dove $P(X = x,Y = y)$ è la distribuzione congiunta di $X, Y$, mentre $P(X = x \\mid Y = y)$ è la distribuzione condizionata di $X$ dato $Y$.\n",
    "\n",
    "Le probabilità bivariate marginali e congiunte di variabili casuali discrete sono spesso rappresentate mediante tabelle di contingenza. Si noti che $P(X = x)$ e $P(Y = y)$ sono normalizzate:\n",
    "\n",
    "$$\n",
    "\\sum_x P(X=x) = 1.0, \\quad \\sum_y P(Y=y) = 1.0.\n",
    "$$\n",
    "\n",
    "Nel caso continuo si sostituisce l'integrazione alla somma.\n",
    "\n",
    "````{prf:example}\n",
    ":label: join-distr-expl-2\n",
    "\n",
    "Per l'esperimento casuale descritto nella {ref}`sec-fun-join-prob`, calcoliamo le probabilità marginali di $X$ e $Y$. Come indicato nella {numref}`tbl-ditr-cong-biv`, $P_X$ si ottiene sommando su ciascuna riga fissata la colonna $j$, $P_X(X = j) = \\sum_y p_{xy}(x = j, y)$ e $P_Y$ si trova sommando su ciascuna colonna fissata la riga $i,$ $P_Y (Y = i) = \\sum_x p_{xy}(x, y = i)$.\n",
    "````\n",
    "\n",
    "```{table} Distribuzione di probabilità congiunta $P(X,Y)$ per i risultati dell'esperimento consistente nel lancio di tre monete equilibrate e probabilità marginali $P(X)$ e $P(Y)$.\n",
    ":name: tbl-ditr-cong-biv\n",
    "\n",
    "| $x /\\ y$ |  0  |  1  | $P(x)$ |\n",
    "|:--------------------:|:---:|:---:|:------:|\n",
    "|          0           | 1/8 |  0  |  1/8   |\n",
    "|          1           | 2/8 | 1/8 |  3/8   |\n",
    "|          2           | 1/8 | 2/8 |  3/8   |\n",
    "|          3           |  0  | 1/8 |  1/8   |\n",
    "|        $P(y)$        | 4/8 | 4/8 |  1.0   |\n",
    "```\n",
    "\n",
    "(sec-margin-vc-cont)=\n",
    "### Marginalizzazione di variabili casuali continue \n",
    "\n",
    "Nella trattazione della statistca bayesiana useremo spesso il concetto di \"marginalizzazione\" e vedremo equazioni come la seguente:\n",
    "\n",
    "$$\n",
    "p(y) = \\int_{\\theta} p(y, \\theta) = \\int_{\\theta} p(y \\mid \\theta) p(\\theta),\n",
    "$$ (eq-ex-marg-cont)\n",
    "\n",
    "laddove $y$ e $\\theta$ sono due variabili casuali continue -- nello specifico, con $y$ denoteremo i dati e con $\\theta$ i parametri di un modello statistico. Alla luce di quanto detto sopra, è possibiile pensare al caso continuo indicato nell'eq. {eq}`eq-ex-marg-cont` come all'estensione dell'esempio discusso in questo capitolo ad un numero infinito di valori delle due variabili continue (qui $y$ e $\\theta$)."
   ]
  },
  {
   "attachments": {},
   "cell_type": "markdown",
   "metadata": {},
   "source": [
    "## Indipendenza\n",
    "\n",
    "La nozione di indipendenza per le variabili casuali è molto simile alla nozione di indipendenza per gli eventi. Due variabili casuali sono indipendenti se la conoscenza relativa a una di esse non influisce sulle probabilità dell'altra. Nel caso di due variabili casuali discrete, presentiamo qui una definizione di indipendenza formulata nei termini della loro distribuzione di massa di probabilità congiunta.\n",
    "\n",
    "```{admonition} Definizione\n",
    "Due variabili casuali $X$ e $Y$ distribuite congiuntamente si dicono indipendenti se e solo se\n",
    "\n",
    "$$\n",
    "P_{X, Y}(x, y) = P_X(x) P_Y(y).\n",
    "$$\n",
    "```\n",
    "\n",
    "A parole, se due variabili discrete $X$ e $Y$ non si influenzano, ovvero se sono statisticamente indipendenti, allora la distribuzione di massa di probabilità congiunta si ottiene come prodotto delle funzioni di probabilità marginali di $X$ e $Y$. Se $P_{X, Y}(x, y) \\neq P_X(x) P_Y(y)$, allora le due variabili si dicono associate. Lo stesso vale per le variabili casuali continue.\n",
    "\n",
    "Se due variabili causali non sono indipendenti, si dicono associate. Una misura del grado di associazione lineare tra due variabili casuali è fornita dalla covarianza (o dalla correlazione)."
   ]
  },
  {
   "attachments": {},
   "cell_type": "markdown",
   "metadata": {},
   "source": [
    "## Covarianza\n",
    "\n",
    "La covarianza quantifica la tendenza delle variabili casuali $X$ e $Y$ a \"variare assieme\". Per esempio, l'altezza e il peso delle giraffe producono una covarianza positiva perché all'aumentare di una di queste due quantità tende ad aumentare anche l'altra. La covarianza misura la forza e la direzione del legame lineare tra due variabili casuali $X$ ed $Y$. Si utilizza la notazione $Cov(X,Y)=\\sigma_{xy}$.\n",
    "\n",
    "```{admonition} Definizione\n",
    "Date due variabili casuali $X$, $Y$, chiamiamo covarianza tra $X$ ed $Y$ il numero\n",
    "\n",
    "$$\n",
    "Cov(X,Y) = \\mathbb{E}\\Bigl(\\bigl(X - \\mathbb{E}(X)\\bigr) \\bigl(Y - \\mathbb{E}(Y)\\bigr)\\Bigr),\n",
    "$$ (eq-cov-def-rv)\n",
    "\n",
    "dove $\\mathbb{E}(X)$ e $\\mathbb{E}(Y)$ sono i valori attesi di $X$ ed $Y$.\n",
    "```\n",
    "\n",
    "In maniera esplicita,\n",
    "\n",
    "$$\n",
    "Cov(X,Y) = \\sum_{(x,y) \\in \\Omega} (x - \\mu_X) (y - \\mu_Y) f(x, y).\n",
    "$$ (eq-cov_def)\n",
    "\n",
    "La definizione è analoga, algebricamente, a quella di varianza e risulta infatti\n",
    "\n",
    "$$\n",
    "\\mathbb{V}(x) = Cov(X, X)\n",
    "$$\n",
    "\n",
    "e\n",
    "\n",
    "$$\n",
    "Cov(X,Y) = \\mathbb{E}(XY) - \\mathbb{E}(Y)\\mathbb{E}(X).\n",
    "$$ (eq-cov_vc_alt)\n",
    "\n",
    "```{admonition} Dimostrazione\n",
    "L'eq. {eq}`eq-cov_vc_alt` si ricava nel modo seguente:\n",
    "\n",
    "$$\n",
    "\\begin{align}\n",
    "Cov(X,Y) &= \\mathbb{E}\\Bigl(\\bigl(X-\\mathbb{E}(X)\\bigr) \\bigl(Y-\\mathbb{E}(Y)\\bigr)\\Bigr)\\notag\\\\\n",
    "          %&= \\mathbb{E}(XY) - \\mathbb{E}(Y)X -\\mathbb{E}(X)Y + \\mathbb{E}(X)\\mathbb{E}(Y) )\\notag\\\\\n",
    "          &= \\mathbb{E}(XY) - \\mathbb{E}(Y)\\mathbb{E}(X) - \\mathbb{E}(X)\\mathbb{E}(Y) + \\mathbb{E}(X)\\mathbb{E}(Y)\\notag\\\\\n",
    "          &= \\mathbb{E}(XY) - \\mathbb{E}(Y)\\mathbb{E}(X)\\notag.\n",
    "\\end{align}\n",
    "$$\n",
    "```\n",
    "\n",
    "````{prf:example}\n",
    ":label: join-distr-expl-3\n",
    "\n",
    "Consideriamo le variabili casuali definite nell'esempio descritto nella {ref}`sec-fun-join-prob`. Poniamoci il problema di calcolare la covarianza di $X$ e $Y$.\n",
    "````\n",
    "\n",
    "Abbiamo che $\\mu_X = 1.5$ e $\\mu_Y = 0.5$. Ne segue che la covarianza di $X$ e $Y$ è:\n",
    "\n",
    "$$\n",
    "\\begin{align}\n",
    "Cov(X,Y) &= \\sum_{(x,y) \\in \\Omega} (x - \\mu_X) (y - \\mu_Y) f(x, y)\\notag\\\\\n",
    "&= (0-1.5)(0-0.5)\\cdot \\frac{1}{8} + (0-1.5)(1-0.5) \\cdot 0 \\\\\n",
    "   &\\qquad + (1-1.5)(0-0.5)\\cdot \\frac{2}{8} + (1-1.5)(1-0.5) \\cdot \\frac{1}{8} \\notag\\\\\n",
    "    &\\qquad+ (2-1.5)(0-0.5) \\cdot \\frac{1}{8} + (2-1.5)(1-0.5) \\cdot \\frac{2}{8} \\\\\n",
    "   &\\qquad+ (3-1.5)(0-0.5) \\cdot 0 +  (3-1.5)(1-0.5)\\cdot\\frac{1}{8} \\notag\\\\\n",
    "   &= \\frac{1}{4}. \\notag\n",
    " \\end{align}\n",
    "$$\n",
    "\n",
    "Lo stesso risultato può essere trovato usando l'eq. {eq}`eq-cov_vc_alt`. Iniziamo a calcolare il valore atteso del prodotto $XY$:\n",
    "\n",
    "$$\n",
    "\\mathbb{E}(XY) = 0 \\cdot\\frac{4}{8} + 1 \\cdot\\frac{1}{8} + 2 \\cdot\\frac{2}{8} + 3 \\cdot\\frac{1}{8} = 1.0.\n",
    "$$\n",
    "\n",
    "Dunque, la covarianza tra $X$ e $Y$ diventa\n",
    "\n",
    "$$\n",
    "\\begin{align}\n",
    "Cov(X,Y) &= \\mathbb{E}(XY) - \\mathbb{E}(X)\\mathbb{E}(Y)\\notag\\\\\n",
    " &= 1 -  1.5\\cdot 0.5 \\notag\\\\\n",
    " &= 0.25.\\notag\n",
    "\\end{align}\n",
    "$$\n",
    "\n",
    "Per fare un esempio con `R`, consideriamo l'esempio precedente nel quale $X$ è il numero che si ottiene dal lancio di tre monete equilibrate e $Y$ è il numero di teste al primo lancio. Troviamo $Cov(X, Y)$.\n",
    "\n",
    "Creiamo il prodotto cartesiano che si ottiene per tutti i possibili valori $X$ e i possibili valori $Y$."
   ]
  },
  {
   "cell_type": "code",
   "execution_count": 1,
   "metadata": {
    "vscode": {
     "languageId": "r"
    }
   },
   "outputs": [
    {
     "data": {
      "text/html": [
       "<table class=\"dataframe\">\n",
       "<caption>A data.frame: 8 × 3</caption>\n",
       "<thead>\n",
       "\t<tr><th scope=col>Var1</th><th scope=col>Var2</th><th scope=col>Var3</th></tr>\n",
       "\t<tr><th scope=col>&lt;dbl&gt;</th><th scope=col>&lt;dbl&gt;</th><th scope=col>&lt;dbl&gt;</th></tr>\n",
       "</thead>\n",
       "<tbody>\n",
       "\t<tr><td>0</td><td>0</td><td>0</td></tr>\n",
       "\t<tr><td>1</td><td>0</td><td>0</td></tr>\n",
       "\t<tr><td>0</td><td>1</td><td>0</td></tr>\n",
       "\t<tr><td>1</td><td>1</td><td>0</td></tr>\n",
       "\t<tr><td>0</td><td>0</td><td>1</td></tr>\n",
       "\t<tr><td>1</td><td>0</td><td>1</td></tr>\n",
       "\t<tr><td>0</td><td>1</td><td>1</td></tr>\n",
       "\t<tr><td>1</td><td>1</td><td>1</td></tr>\n",
       "</tbody>\n",
       "</table>\n"
      ],
      "text/latex": [
       "A data.frame: 8 × 3\n",
       "\\begin{tabular}{lll}\n",
       " Var1 & Var2 & Var3\\\\\n",
       " <dbl> & <dbl> & <dbl>\\\\\n",
       "\\hline\n",
       "\t 0 & 0 & 0\\\\\n",
       "\t 1 & 0 & 0\\\\\n",
       "\t 0 & 1 & 0\\\\\n",
       "\t 1 & 1 & 0\\\\\n",
       "\t 0 & 0 & 1\\\\\n",
       "\t 1 & 0 & 1\\\\\n",
       "\t 0 & 1 & 1\\\\\n",
       "\t 1 & 1 & 1\\\\\n",
       "\\end{tabular}\n"
      ],
      "text/markdown": [
       "\n",
       "A data.frame: 8 × 3\n",
       "\n",
       "| Var1 &lt;dbl&gt; | Var2 &lt;dbl&gt; | Var3 &lt;dbl&gt; |\n",
       "|---|---|---|\n",
       "| 0 | 0 | 0 |\n",
       "| 1 | 0 | 0 |\n",
       "| 0 | 1 | 0 |\n",
       "| 1 | 1 | 0 |\n",
       "| 0 | 0 | 1 |\n",
       "| 1 | 0 | 1 |\n",
       "| 0 | 1 | 1 |\n",
       "| 1 | 1 | 1 |\n",
       "\n"
      ],
      "text/plain": [
       "  Var1 Var2 Var3\n",
       "1 0    0    0   \n",
       "2 1    0    0   \n",
       "3 0    1    0   \n",
       "4 1    1    0   \n",
       "5 0    0    1   \n",
       "6 1    0    1   \n",
       "7 0    1    1   \n",
       "8 1    1    1   "
      ]
     },
     "metadata": {},
     "output_type": "display_data"
    }
   ],
   "source": [
    "# Genera tutte le combinazioni possibili per 3 lanci di moneta\n",
    "combinations <- expand.grid(c(0, 1), c(0, 1), c(0, 1))\n",
    "print(combinations)"
   ]
  },
  {
   "cell_type": "code",
   "execution_count": 2,
   "metadata": {
    "vscode": {
     "languageId": "r"
    }
   },
   "outputs": [
    {
     "data": {
      "text/html": [
       "<table class=\"dataframe\">\n",
       "<caption>A data.frame: 8 × 5</caption>\n",
       "<thead>\n",
       "\t<tr><th scope=col>Var1</th><th scope=col>Var2</th><th scope=col>Var3</th><th scope=col>X</th><th scope=col>Y</th></tr>\n",
       "\t<tr><th scope=col>&lt;dbl&gt;</th><th scope=col>&lt;dbl&gt;</th><th scope=col>&lt;dbl&gt;</th><th scope=col>&lt;dbl&gt;</th><th scope=col>&lt;dbl&gt;</th></tr>\n",
       "</thead>\n",
       "<tbody>\n",
       "\t<tr><td>0</td><td>0</td><td>0</td><td>0</td><td>0</td></tr>\n",
       "\t<tr><td>1</td><td>0</td><td>0</td><td>1</td><td>1</td></tr>\n",
       "\t<tr><td>0</td><td>1</td><td>0</td><td>1</td><td>0</td></tr>\n",
       "\t<tr><td>1</td><td>1</td><td>0</td><td>2</td><td>1</td></tr>\n",
       "\t<tr><td>0</td><td>0</td><td>1</td><td>1</td><td>0</td></tr>\n",
       "\t<tr><td>1</td><td>0</td><td>1</td><td>2</td><td>1</td></tr>\n",
       "\t<tr><td>0</td><td>1</td><td>1</td><td>2</td><td>0</td></tr>\n",
       "\t<tr><td>1</td><td>1</td><td>1</td><td>3</td><td>1</td></tr>\n",
       "</tbody>\n",
       "</table>\n"
      ],
      "text/latex": [
       "A data.frame: 8 × 5\n",
       "\\begin{tabular}{lllll}\n",
       " Var1 & Var2 & Var3 & X & Y\\\\\n",
       " <dbl> & <dbl> & <dbl> & <dbl> & <dbl>\\\\\n",
       "\\hline\n",
       "\t 0 & 0 & 0 & 0 & 0\\\\\n",
       "\t 1 & 0 & 0 & 1 & 1\\\\\n",
       "\t 0 & 1 & 0 & 1 & 0\\\\\n",
       "\t 1 & 1 & 0 & 2 & 1\\\\\n",
       "\t 0 & 0 & 1 & 1 & 0\\\\\n",
       "\t 1 & 0 & 1 & 2 & 1\\\\\n",
       "\t 0 & 1 & 1 & 2 & 0\\\\\n",
       "\t 1 & 1 & 1 & 3 & 1\\\\\n",
       "\\end{tabular}\n"
      ],
      "text/markdown": [
       "\n",
       "A data.frame: 8 × 5\n",
       "\n",
       "| Var1 &lt;dbl&gt; | Var2 &lt;dbl&gt; | Var3 &lt;dbl&gt; | X &lt;dbl&gt; | Y &lt;dbl&gt; |\n",
       "|---|---|---|---|---|\n",
       "| 0 | 0 | 0 | 0 | 0 |\n",
       "| 1 | 0 | 0 | 1 | 1 |\n",
       "| 0 | 1 | 0 | 1 | 0 |\n",
       "| 1 | 1 | 0 | 2 | 1 |\n",
       "| 0 | 0 | 1 | 1 | 0 |\n",
       "| 1 | 0 | 1 | 2 | 1 |\n",
       "| 0 | 1 | 1 | 2 | 0 |\n",
       "| 1 | 1 | 1 | 3 | 1 |\n",
       "\n"
      ],
      "text/plain": [
       "  Var1 Var2 Var3 X Y\n",
       "1 0    0    0    0 0\n",
       "2 1    0    0    1 1\n",
       "3 0    1    0    1 0\n",
       "4 1    1    0    2 1\n",
       "5 0    0    1    1 0\n",
       "6 1    0    1    2 1\n",
       "7 0    1    1    2 0\n",
       "8 1    1    1    3 1"
      ]
     },
     "metadata": {},
     "output_type": "display_data"
    }
   ],
   "source": [
    "# Calcola X e Y\n",
    "combinations$X <- rowSums(combinations)\n",
    "combinations$Y <- combinations$Var1\n",
    "print(combinations)"
   ]
  },
  {
   "cell_type": "code",
   "execution_count": 3,
   "metadata": {
    "vscode": {
     "languageId": "r"
    }
   },
   "outputs": [
    {
     "name": "stdout",
     "output_type": "stream",
     "text": [
      "  Var1 Var2 Var3 X Y     P\n",
      "1    0    0    0 0 0 0.125\n",
      "2    1    0    0 1 1 0.125\n",
      "3    0    1    0 1 0 0.125\n",
      "4    1    1    0 2 1 0.125\n",
      "5    0    0    1 1 0 0.125\n",
      "6    1    0    1 2 1 0.125\n",
      "7    0    1    1 2 0 0.125\n",
      "8    1    1    1 3 1 0.125\n"
     ]
    }
   ],
   "source": [
    "# Calcola la probabilità di ciascuna combinazione (1/8 per ciascuna combinazione)\n",
    "combinations$P <- 1 / 8\n",
    "\n",
    "# Visualizza la distribuzione congiunta\n",
    "print(combinations)"
   ]
  },
  {
   "cell_type": "markdown",
   "metadata": {},
   "source": [
    "Utilizziamo la formula della covarianza per variabili casuali discrete:\n",
    "\n",
    "$$\\text{Cov}(X, Y) = E[(X - E[X])(Y - E[Y])]$$"
   ]
  },
  {
   "cell_type": "code",
   "execution_count": 4,
   "metadata": {
    "vscode": {
     "languageId": "r"
    }
   },
   "outputs": [
    {
     "data": {
      "text/html": [
       "1.5"
      ],
      "text/latex": [
       "1.5"
      ],
      "text/markdown": [
       "1.5"
      ],
      "text/plain": [
       "[1] 1.5"
      ]
     },
     "metadata": {},
     "output_type": "display_data"
    }
   ],
   "source": [
    "# Calcola le medie di X e Y\n",
    "media_X <- sum(combinations$X * combinations$P)\n",
    "print(media_X)"
   ]
  },
  {
   "cell_type": "code",
   "execution_count": 5,
   "metadata": {
    "vscode": {
     "languageId": "r"
    }
   },
   "outputs": [
    {
     "data": {
      "text/html": [
       "0.5"
      ],
      "text/latex": [
       "0.5"
      ],
      "text/markdown": [
       "0.5"
      ],
      "text/plain": [
       "[1] 0.5"
      ]
     },
     "metadata": {},
     "output_type": "display_data"
    }
   ],
   "source": [
    "media_Y <- sum(combinations$Y * combinations$P)\n",
    "print(media_Y)"
   ]
  },
  {
   "cell_type": "code",
   "execution_count": 6,
   "metadata": {
    "vscode": {
     "languageId": "r"
    }
   },
   "outputs": [
    {
     "data": {
      "text/html": [
       "0.25"
      ],
      "text/latex": [
       "0.25"
      ],
      "text/markdown": [
       "0.25"
      ],
      "text/plain": [
       "[1] 0.25"
      ]
     },
     "metadata": {},
     "output_type": "display_data"
    }
   ],
   "source": [
    "# Calcola la covarianza\n",
    "cov_XY <- sum(combinations$P * (combinations$X - media_X) * (combinations$Y - media_Y))\n",
    "print(cov_XY)"
   ]
  },
  {
   "attachments": {},
   "cell_type": "markdown",
   "metadata": {},
   "source": [
    "La covarianza tra $X$ e $Y$ è dunque uguale a 0.25.\n",
    "\n",
    "## Correlazione\n",
    "\n",
    "La covarianza dipende dall'unità di misura delle due variabili e quindi non consente di stabilire l'intensità della relazione. Una misura standardizzata della relazione che intercorre fra due variabili è invece rappresentata dalla correlazione. La correlazione si ottiene dividendo la covarianza per le deviazioni standard delle due variabili aleatorie.\n",
    "\n",
    "```{admonition} Definizione\n",
    "Il coefficiente di correlazione tra $X$ ed $Y$ è il numero definito da\n",
    "\n",
    "$$\n",
    "\\rho(X,Y) =\\frac{Cov(X,Y)}{\\sqrt{\\mathbb{V}(X)\\mathbb{V}(Y)}}.\n",
    "$$ (eq-cor-rv-def)\n",
    "```\n",
    "\n",
    "Si può anche scrivere $\\rho_{X,Y}$ al posto di $\\rho(X,Y)$.\n",
    "\n",
    "Il coefficiente di correlazione $\\rho_{xy}$ è un numero puro, cioè non dipende dall'unità di misura delle variabili, e assume valori compresi tra -1 e +1.\n",
    "\n",
    "## Proprietà\n",
    "\n",
    "-   La covarianza tra una variabile aleatoria $X$ e una costante $c$ è nulla: $Cov(c,X) = 0;$\n",
    "-   la covarianza è simmetrica: $Cov(X,Y) = Cov(Y,X);$\n",
    "-   vale $-1 \\leq \\rho(X,Y) \\leq 1;$\n",
    "-   la correlazione non dipende dall'unità di misura: $\\rho(aX, bY) = \\rho(X,Y), \\quad \\forall a, b > 0;$\n",
    "-   se $Y = a + bX$ è una funzione lineare di $X$ con costanti $a$ e $b$, allora $\\rho(X,Y) = \\pm 1$, a seconda del segno di $b$;\n",
    "-   la covarianza tra $X$ e $Y$, ciascuna moltiplicata per una costante, è uguale al prodotto delle costanti per la covarianza tra $X$ e $Y$: $Cov(aX,bY) = ab \\;Cov(X,Y)$;\n",
    "-   vale $\\mathbb{V}(X \\pm Y) = \\mathbb{V}(X) + \\mathbb{V}(Y) \\pm 2 \\cdot Cov(X,Y)$;\n",
    "-   vale $Cov(X + Y, Z) = Cov(X,Z) + Cov(Y,Z);$\n",
    "-   per una sequenza di variabili aleatorie $X_1, \\dots, X_n$, si ha $$\\mathbb{V}\\left( \\sum_{i=1}^n X_i\\right) = \\sum_{i=1}^n \\mathbb{V}(X_i) + 2\\sum_{i,j: i<j}cov(X_i, X_j);$$\n",
    "-   vale $Cov\\left(\\sum_{i=1}^n a_i X_i, \\sum_{j=1}^m b_jY_j\\right) = \\sum_{i=1}^n \\sum_{j=1}^m a_j b_jCov(X_j, Y_j);$\n",
    "-   se $X_1, X_2, \\dots, X_n$ sono indipendenti, allora \n",
    "\n",
    "$$\n",
    "Cov\\left(\\sum_{i=1}^n a_i X_i, \\sum_{j=1}^n b_jX_j\\right) = \\sum_{i=1}^n a_i b_i \\mathbb{V}(X_i).\n",
    "$$\n",
    "\n",
    "### Incorrelazione\n",
    "\n",
    "```{admonition} Definizione\n",
    "Si dice che $X$ ed $Y$ sono incorrelate, o linermente indipendenti, se la loro covarianza è nulla,\n",
    "\n",
    "$$\n",
    "\\sigma_{XY} = \\mathbb{E} \\big[(X - \\mu_X) (y-\\mu_u) \\big] = 0,\n",
    "$$ (eq-incorrelation-def)\n",
    "\n",
    "che si può anche scrivere come\n",
    "\n",
    "$$\n",
    "\\rho_{XY} = 0, \\quad \\mathbb{E}(XY) = \\mathbb{E}(X) \\mathbb{E}(Y).\n",
    "$$\n",
    "```\n",
    "\n",
    "Si introduce così un secondo tipo di indipendenza, più debole, dopo quello di indipendenza stocastica. Viceversa, però, se $Cov(X, Y) = 0$, non è detto che $X$ ed $Y$ siano indipendenti.\n",
    "\n",
    "````{prf:example}\n",
    ":label: join-distr-expl-4\n",
    "\n",
    "Siano $X$ e $Y$ due variabili aleatorie discrete avente una distribuzione di massa di probabilità congiunta pari a\n",
    "\n",
    "$$\n",
    "f_{XY}(x,y) = \\frac{1}{4} \\quad (x,y) \\in \\{(0,0), (1,1), (1, -1), (2,0) \\}\n",
    "$$\n",
    "\n",
    "e zero altrimenti. Le due variabili aleatorie $X$ e $Y$ sono mutuamente indipendenti?\n",
    "````\n",
    "\n",
    "La distribuzione marginale della $X$ è\n",
    "\n",
    "$$\n",
    "\\begin{cases}\n",
    "X = 0, \\quad  P_X = 1/4, \\\\\n",
    "X = 1, \\quad P_X = 2/4, \\\\\n",
    "X = 2, \\quad P_X = 1/4.\n",
    "\\end{cases}\n",
    "$$\n",
    "\n",
    "$$\n",
    "\\mathbb{E}(X) = 0 \\frac{1}{4} + 1 \\frac{2}{4} + 2 \\frac{1}{4} = 1.\n",
    "$$\n",
    "\n",
    "$$\n",
    "\\mathbb{E}(X^2) = 0^2 \\frac{1}{4} + 1^2 \\frac{2}{4} + 2^2 \\frac{1}{4} = \\frac{3}{2}.\n",
    "$$\n",
    "\n",
    "$$\n",
    "\\mathbb{V}(X) = \\frac{3}{2} - 1^2 = \\frac{1}{2}.\n",
    "$$\n",
    "\n",
    "La distribuzione marginale della $Y$ è\n",
    "\n",
    "$$\n",
    "\\begin{cases}\n",
    "Y = -1, \\quad  P_Y = 1/4, \\\\\n",
    "Y = 0, \\quad P_Y = 2/4, \\\\\n",
    "Y = 1, \\quad P_Y = 1/4.\n",
    "\\end{cases}\n",
    "$$\n",
    "\n",
    "$$\n",
    "\\mathbb{E}(Y) = 0 \\frac{2}{4} + 1 \\frac{1}{4} + (-1) \\frac{1}{4} = 0.\n",
    "$$\n",
    "\n",
    "$$\n",
    "\\mathbb{E}(Y^2) = 0^2 \\frac{2}{4} + 1^2 \\frac{1}{4} + (-1)^2 \\frac{1}{4} = \\frac{1}{2}.\n",
    "$$\n",
    "\n",
    "$$\n",
    "\\mathbb{V}(X) = \\frac{1}{2} - 0^2 = \\frac{1}{2}.\n",
    "$$\n",
    "\n",
    "Calcoliamo ora la covarianza tra $X$ e $Y$:\n",
    "\n",
    "$$\n",
    "\\mathbb{E}(XY) = \\sum_x\\sum_y xy f_{XY} (x,y) =\n",
    "(0\\cdot 0)\\frac{1}{4} +\n",
    "(1\\cdot 1)\\frac{1}{4} +\n",
    "(1\\cdot -1)\\frac{1}{4} +\n",
    "(2\\cdot 0)\\frac{1}{4} = 0.\n",
    "$$\n",
    "\n",
    "$$\n",
    "Cov(X,Y) = \\mathbb{E}(XY) - \\mathbb{E}(X)\\mathbb{E}(Y) = 0 - 1\\cdot0 = 0.\n",
    "$$\n",
    "\n",
    "Quindi le due variabili aleatorie hanno covarianza pari a zero. Tuttavia, esse non sono indipendenti, in quanto non è vero che\n",
    "\n",
    "$$\n",
    "f_{XY} (x,y) = f_X(x) f_Y(y)\n",
    "$$\n",
    "\n",
    "per tutti gli $x$ e $y$.\n",
    "\n",
    "In conclusione, anche se la condizione di indipendenza implica una covarianza nulla, l'esempio precedente mostra come l'inverso non sia necessariamente vero: la covarianza può essere zero anche se due variabili casuali non sono indipendenti.\n",
    "\n",
    "\n",
    "## Commenti e considerazioni finali \n",
    "\n",
    "In alcune situazioni, ogni singolo elemento di una popolazione può essere associato a diverse variabili casuali. Ad esempio, consideriamo l'elenco di tutti gli studenti iscritti a un'università e immaginiamo di selezionare uno studente a caso per misurare la sua altezza e il suo peso. In questo caso, ogni individuo della popolazione è associato a due variabili casuali, l'altezza e il peso. Quando si hanno due o più variabili casuali associate ad ogni elemento di una popolazione, è possibile studiare la distribuzione congiunta di tali variabili casuali. In questo capitolo abbiamo esaminato come rappresentare la distribuzione di massa di probabilità congiunta di due variabili casuali discrete e come ottenere le distribuzioni marginali delle due variabili. Inoltre, abbiamo discusso i concetti di incorrelazione e indipendenza."
   ]
  },
  {
   "cell_type": "markdown",
   "metadata": {},
   "source": [
    "## Session Info"
   ]
  },
  {
   "cell_type": "code",
   "execution_count": 2,
   "metadata": {
    "vscode": {
     "languageId": "r"
    }
   },
   "outputs": [
    {
     "data": {
      "text/plain": [
       "R version 4.3.2 (2023-10-31)\n",
       "Platform: aarch64-apple-darwin20 (64-bit)\n",
       "Running under: macOS Sonoma 14.3.1\n",
       "\n",
       "Matrix products: default\n",
       "BLAS:   /Library/Frameworks/R.framework/Versions/4.3-arm64/Resources/lib/libRblas.0.dylib \n",
       "LAPACK: /Library/Frameworks/R.framework/Versions/4.3-arm64/Resources/lib/libRlapack.dylib;  LAPACK version 3.11.0\n",
       "\n",
       "locale:\n",
       "[1] C\n",
       "\n",
       "time zone: Europe/Rome\n",
       "tzcode source: internal\n",
       "\n",
       "attached base packages:\n",
       "[1] stats     graphics  grDevices utils     datasets  methods   base     \n",
       "\n",
       "other attached packages:\n",
       " [1] ggokabeito_0.1.0  viridis_0.6.5     viridisLite_0.4.2 ggpubr_0.6.0     \n",
       " [5] ggExtra_0.10.1    bayesplot_1.11.0  gridExtra_2.3     patchwork_1.2.0  \n",
       " [9] semTools_0.5-6    semPlot_1.1.6     lavaan_0.6-17     psych_2.4.1      \n",
       "[13] scales_1.3.0      markdown_1.12     knitr_1.45        lubridate_1.9.3  \n",
       "[17] forcats_1.0.0     stringr_1.5.1     dplyr_1.1.4       purrr_1.0.2      \n",
       "[21] readr_2.1.5       tidyr_1.3.1       tibble_3.2.1      ggplot2_3.4.4    \n",
       "[25] tidyverse_2.0.0   here_1.0.1       \n",
       "\n",
       "loaded via a namespace (and not attached):\n",
       "  [1] rstudioapi_0.15.0  jsonlite_1.8.8     magrittr_2.0.3    \n",
       "  [4] TH.data_1.1-2      estimability_1.4.1 nloptr_2.0.3      \n",
       "  [7] rmarkdown_2.25     vctrs_0.6.5        minqa_1.2.6       \n",
       " [10] base64enc_0.1-3    rstatix_0.7.2      htmltools_0.5.7   \n",
       " [13] broom_1.0.5        Formula_1.2-5      htmlwidgets_1.6.4 \n",
       " [16] plyr_1.8.9         sandwich_3.1-0     emmeans_1.10.0    \n",
       " [19] zoo_1.8-12         uuid_1.2-0         igraph_2.0.1.1    \n",
       " [22] mime_0.12          lifecycle_1.0.4    pkgconfig_2.0.3   \n",
       " [25] Matrix_1.6-5       R6_2.5.1           fastmap_1.1.1     \n",
       " [28] shiny_1.8.0        digest_0.6.34      OpenMx_2.21.11    \n",
       " [31] fdrtool_1.2.17     colorspace_2.1-0   rprojroot_2.0.4   \n",
       " [34] Hmisc_5.1-1        fansi_1.0.6        timechange_0.3.0  \n",
       " [37] abind_1.4-5        compiler_4.3.2     withr_3.0.0       \n",
       " [40] glasso_1.11        htmlTable_2.4.2    backports_1.4.1   \n",
       " [43] carData_3.0-5      ggsignif_0.6.4     MASS_7.3-60.0.1   \n",
       " [46] corpcor_1.6.10     gtools_3.9.5       tools_4.3.2       \n",
       " [49] pbivnorm_0.6.0     foreign_0.8-86     zip_2.3.1         \n",
       " [52] httpuv_1.6.14      nnet_7.3-19        glue_1.7.0        \n",
       " [55] quadprog_1.5-8     nlme_3.1-164       promises_1.2.1    \n",
       " [58] lisrelToR_0.3      grid_4.3.2         pbdZMQ_0.3-11     \n",
       " [61] checkmate_2.3.1    cluster_2.1.6      reshape2_1.4.4    \n",
       " [64] generics_0.1.3     gtable_0.3.4       tzdb_0.4.0        \n",
       " [67] data.table_1.15.0  hms_1.1.3          car_3.1-2         \n",
       " [70] utf8_1.2.4         sem_3.1-15         pillar_1.9.0      \n",
       " [73] IRdisplay_1.1      rockchalk_1.8.157  later_1.3.2       \n",
       " [76] splines_4.3.2      lattice_0.22-5     survival_3.5-7    \n",
       " [79] kutils_1.73        tidyselect_1.2.0   miniUI_0.1.1.1    \n",
       " [82] pbapply_1.7-2      stats4_4.3.2       xfun_0.42         \n",
       " [85] qgraph_1.9.8       arm_1.13-1         stringi_1.8.3     \n",
       " [88] boot_1.3-28.1      evaluate_0.23      codetools_0.2-19  \n",
       " [91] mi_1.1             cli_3.6.2          RcppParallel_5.1.7\n",
       " [94] IRkernel_1.3.2     rpart_4.1.23       xtable_1.8-4      \n",
       " [97] repr_1.1.6         munsell_0.5.0      Rcpp_1.0.12       \n",
       "[100] coda_0.19-4.1      png_0.1-8          XML_3.99-0.16.1   \n",
       "[103] parallel_4.3.2     ellipsis_0.3.2     jpeg_0.1-10       \n",
       "[106] lme4_1.1-35.1      mvtnorm_1.2-4      openxlsx_4.2.5.2  \n",
       "[109] crayon_1.5.2       rlang_1.1.3        multcomp_1.4-25   \n",
       "[112] mnormt_2.1.1      "
      ]
     },
     "metadata": {},
     "output_type": "display_data"
    }
   ],
   "source": [
    "sessionInfo()"
   ]
  }
 ],
 "metadata": {
  "kernelspec": {
   "display_name": "R",
   "language": "R",
   "name": "ir"
  },
  "language_info": {
   "codemirror_mode": "r",
   "file_extension": ".r",
   "mimetype": "text/x-r-source",
   "name": "R",
   "pygments_lexer": "r",
   "version": "4.3.3"
  },
  "orig_nbformat": 4,
  "vscode": {
   "interpreter": {
    "hash": "2fb22ef73048ab480306a3a8971dd9d9ae74918bef9be9e93ea3e01644b9825e"
   }
  }
 },
 "nbformat": 4,
 "nbformat_minor": 2
}
