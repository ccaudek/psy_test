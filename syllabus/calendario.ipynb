{
 "cells": [
  {
   "cell_type": "markdown",
   "metadata": {},
   "source": [
    "# Calendario \n",
    "\n",
    "Viene qui fornito un calendario delle attività didattiche. Gli esercizi presenti nella dispensa vanno svolti **prima** di ciascuna lezione. \n",
    "\n",
    "```{warning}\n",
    "Il presente calendario **non è definitivo** e potrà subire delle variazioni che saranno comunicate mediante l'aggiornamento di questa pagina web.\n",
    "```"
   ]
  },
  {
   "cell_type": "markdown",
   "metadata": {},
   "source": [
    "## Lezioni"
   ]
  },
  {
   "cell_type": "markdown",
   "metadata": {},
   "source": [
    "\n",
    "| # | Data | Argomenti |\n",
    "| - | ---- | --------- |\n",
    "| 1 | 2024-03-05 | Introduzione; misurazione; introduzione al liguaggio R |\n",
    "| 2 | 2024-03-07 | Tipologie test; norme; modello di regressione |\n",
    "| 3 | 2024-03-12 | CTT: fondamenti teorici; affidabilità; errore standard della misurazione |\n",
    "| 4 | 2024-03-14 | Stima del punteggio vero; applicazioni; modelli multilivello; affidabilità tra giudici |\n",
    "| 5 | 2024-03-19 | Generalizzabilità; validità; analisi dei percorsi |\n",
    "| 6 | 2024-03-21 | Modello unifattoriale; modello statistico dell'analisi fattoriale |\n",
    "| 7 | 2024-03-26 | Elementi di algebra lineare |\n",
    "| 8 | 2024-04-04 | Modello multifattoriale; punteggi fattoriali |\n",
    "| 9 | 2024-04-09 | Attendibilità e modello fattoriale; punteggio totale e modello fattoriale; confronto tra modelli; modello bifattoriale |\n",
    "| 10 | 2024-04-11 | Valutazione della matrice di correlazione; metodi di estrazione dei fattori; dimensionalità; rotazione fattoriale; valutare e rifinire la soluzione fattoriale |\n",
    "| 11 | 2024-04-16 | Invarianza di misura; indici di bontà di adattamento; la revisione del modello; matrici mtmm; dati non gaussiani e categoriali; dati mancanti |\n",
    "| 12 | 2024-04-18 | Modelli di equazioni strutturali |\n",
    "| 13 | 2024-04-23 | Regressione logistica; modelli IRT |\n",
    "| 14 | 2024-04-30 | Presentazioni |\n",
    "| 15 | 2024-05-02 | Approfondimento 3 CFU --  |\n",
    "| 16 | 2024-05-07 |  |\n",
    "| 17 | 2024-05-09 |  |\n",
    "| 18 | 2024-05-14 |  |\n",
    "| 19 | 2024-05-16 |  |\n",
    "| 20 | 2024-05-21 |  |\n",
    "| 21 | 2024-05-23 |  |"
   ]
  }
 ],
 "metadata": {
  "kernelspec": {
   "display_name": "pymc",
   "language": "python",
   "name": "python3"
  },
  "language_info": {
   "codemirror_mode": {
    "name": "ipython",
    "version": 3
   },
   "file_extension": ".py",
   "mimetype": "text/x-python",
   "name": "python",
   "nbconvert_exporter": "python",
   "pygments_lexer": "ipython3",
   "version": "3.11.4"
  },
  "orig_nbformat": 4,
  "vscode": {
   "interpreter": {
    "hash": "030ae53b1150d0ca6a72bb4a7a0454cbd9dab0eb2818ba119bbca0111e46e432"
   }
  }
 },
 "nbformat": 4,
 "nbformat_minor": 2
}
