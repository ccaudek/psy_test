{
 "cells": [
  {
   "attachments": {},
   "cell_type": "markdown",
   "id": "394f4dc0",
   "metadata": {},
   "source": [
    "(err-std_mis-notebook)=\n",
    "# L'errore standard della misurazione "
   ]
  },
  {
   "cell_type": "code",
   "execution_count": 1,
   "id": "e5ff922d",
   "metadata": {
    "tags": [
     "remove_cell"
    ],
    "vscode": {
     "languageId": "r"
    }
   },
   "outputs": [],
   "source": [
    "source(\"../_common.R\")\n",
    "suppressWarnings(suppressMessages(library(\"psychometric\")))"
   ]
  },
  {
   "attachments": {},
   "cell_type": "markdown",
   "id": "e2954c4e",
   "metadata": {},
   "source": [
    "I coefficienti di affidabilità che abbiamo discusso nel capitolo precedente rappresentano una misura proporzionale della varianza osservata di un test che è attribuibile alla varianza reale. Questi coefficienti sono fondamentali per confrontare l'affidabilità dei punteggi ottenuti da diverse procedure di valutazione. In generale, preferiremo selezionare il test che produce i punteggi con la migliore affidabilità. Tuttavia, una volta scelto il test, il nostro focus si sposta sull'interpretazione dei punteggi.\n",
    "\n",
    "## Errore Standard di Misurazione (SEM)\n",
    "\n",
    "L'Errore Standard di Misurazione (SEM) diventa una statistica più pratica quando l'attenzione è rivolta all'interpretazione dei punteggi di un test. Il SEM è definito come la deviazione standard della distribuzione dei punteggi che un individuo otterrebbe se fosse sottoposto a un numero infinito di forme parallele del test, costituite da item campionati casualmente dallo stesso dominio di contenuto.\n",
    "\n",
    "Per comprendere meglio, immaginiamo di creare un numero infinito di forme parallele di un test e di far svolgere queste forme alla stessa persona, senza che vi siano effetti di trasferimento. La presenza dell'errore di misurazione impedirebbe alla persona di ottenere sempre lo stesso punteggio. Anche se ogni test rappresenta ugualmente bene il dominio di contenuto, il candidato potrebbe ottenere risultati migliori in alcuni test e peggiori in altri, semplicemente a causa di errori casuali (ad esempio, la fortuna nel conoscere le risposte agli item selezionati per una versione del test ma non per un'altra). Prendendo i punteggi ottenuti in tutti questi test, si otterrebbe una distribuzione di punteggi. La media di questa distribuzione rappresenta il punteggio vero (T) dell'individuo, mentre il SEM è la deviazione standard di questa distribuzione di punteggi di errore.\n",
    "\n",
    "Ovviamente, non è possibile attuare questi procedimenti nella realtà, quindi dobbiamo stimare il SEM utilizzando le informazioni disponibili. Esamineremo qui l'approccio utilizzato dalla Teoria Classica dei Test (CTT) per raggiungere questo obiettivo. \n",
    "\n",
    "## Stima di SEM\n",
    "\n",
    "Secondo Lord (1968), l'errore $E = X - T$ rappresenta la variabile aleatoria di interesse primario nella CTT. L'obiettivo della CTT è stimare il punteggio vero di ogni rispondente e confrontare le stime ottenute per rispondenti diversi. La grandezza dell'errore $E$ fornisce informazioni essenziali in questo contesto. La discrepanza tra il punteggio osservato e il punteggio vero può essere misurata utilizzando la deviazione standard degli errori $E$, conosciuta appunto come \"Errore Standard della Misurazione\" o SEM. Il SEM è quindi lo strumento impiegato dalla CTT per stimare in che misura un punteggio osservato differisce dal punteggio vero.\n",
    "\n",
    "Nel presente capitolo esploreremo come sia possibile stimare la deviazione standard dell'errore ($\\sigma_E$) in un campione di osservazioni. Questo consente di comprendere meglio la precisione dei punteggi ottenuti attraverso un test psicometrico e di interpretare in modo più accurato i risultati.\n",
    "\n",
    "## L'incertezza della misura \n",
    "\n",
    "In base alla CTT, è possibile stimare l'errore standard della misurazione utilizzando una formula che dipende dalla deviazione standard della distribuzione dei punteggi del test e dall'attendibilità del test. Mediante questa formula, è possibile ottenere una stima dell'errore standard associato a un singolo punteggio, il quale indica quanto il punteggio osservato può variare rispetto al vero punteggio di un individuo:\n",
    "\n",
    "$$\n",
    "\\sigma_E = \\sigma_X \\sqrt{1 -\\rho_{XX^\\prime}},\n",
    "$$ (eq-err-stnd-mis)\n",
    "\n",
    "dove $\\sigma_X$ rappresenta la deviazione standard dei punteggi ottenuti da un campione di soggetti e $\\rho_{XX^\\prime}$ è il coefficiente di attendibilità. Attraverso questo calcolo, si ottiene l'errore standard della misurazione sottraendo l'attendibilità del test da 1, quindi calcolando la radice quadrata del risultato e moltiplicandolo per la deviazione standard dei punteggi del test.\n",
    "\n",
    "La logica alla base dell'errore standard della misurazione si fonda sull'assunzione che se una persona dovesse sostenere numerosi test equivalenti, i punteggi ottenuti seguirebbero una distribuzione normale con il vero punteggio dell'individuo come media. In altre parole, possiamo immaginare che l'individuo affronti ripetutamente versioni identiche del test, in circostanze simili e senza ricordare le risposte precedenti. In tale contesto ipotetico, l'errore standard della misurazione rappresenterebbe la deviazione standard tra queste misurazioni ripetute.\n",
    "\n",
    "La formula sopra indicata evidenzia come l'errore standard della misurazione ($\\sigma_E$) sia strettamente correlato all'attendibilità del test: all'aumentare dell'attendibilità del test, l'errore standard della misurazione diminuisce. Se l'attendibilità del test si avvicina a 0, l'errore standard della misurazione tende a diventare uguale alla deviazione standard dei punteggi osservati del test. In contrasto, se l'attendibilità del test raggiunge 1, l'errore standard della misurazione si riduce a zero: in una situazione di perfetta affidabilità, in cui non vi è alcun errore di misurazione, $\\sigma_E$ assume valore zero.\n",
    "\n",
    "### Interpretazione\n",
    "\n",
    "Secondo la prospettiva di McDonald, il termine di errore ($E$) segue una \"propensity distribution\", che riflette le fluttuazioni casuali nel tempo di un individuo nel rispondere al test. Queste fluttuazioni possono derivare da variabili come l'umore, la motivazione e altri fattori. L'errore standard di misura fornisce una stima della deviazione standard di tali punteggi, rappresentando la dispersione attesa dei punteggi che un singolo individuo otterrebbe in un numero infinito di somministrazioni del test (o di test paralleli) sotto identiche condizioni, nel caso in cui il vero punteggio rimanesse costante.\n",
    "\n",
    "D'altro canto, la CTT assume che i punteggi ottenuti da un individuo in infinite somministrazioni del test, nelle stesse condizioni, seguano una distribuzione normale centrata sul vero valore. L'errore standard di misura diviene, quindi, la stima della deviazione standard di questa distribuzione teorica di punteggi. Maggiore è l'errore standard di misura, maggiore è l'incertezza introdotta nel processo di utilizzo del test per valutare l'abilità latente del rispondente.\n",
    "\n",
    "Il coefficiente di attendibilità, la varianza dell'errore e l'errore standard di misura sono tutti indicatori diretti o indiretti della precisione del test. Tuttavia, ciascuno di essi fornisce un'informazione specifica sul livello di precisione del test:\n",
    "\n",
    "-   L'errore standard di misura permette di fare inferenze sulla precisione del singolo punteggio osservato di un partecipante, mentre il coefficiente di attendibilità non ha una rappresentazione diretta in questo senso.\n",
    "-   L'errore standard di misura è espresso nella stessa unità di misura del punteggio osservato, a differenza della varianza di $E$, che è espressa in termini del quadrato del punteggio osservato.\n",
    "-   L'attendibilità rappresenta un rapporto tra varianze ed è quindi un indice adimensionale."
   ]
  },
  {
   "attachments": {},
   "cell_type": "markdown",
   "id": "5bfecdbd",
   "metadata": {},
   "source": [
    "**Esempio 1.** Consideriamo un esempio in cui un test di intelligenza fornisce un punteggio medio di 100 con una deviazione standard di 15. Supponiamo inoltre che l'attendibilità di questo test sia pari a 0.73. Vogliamo calcolare l'errore standard della misurazione.\n",
    "\n",
    "Utilizzando la formula dell'errore standard della misurazione, otteniamo:\n",
    "\n",
    "$$\n",
    "\\begin{equation}\n",
    "\\begin{aligned}\n",
    "\\sigma_E &= \\sigma_X \\sqrt{1 -\\rho_{XX^\\prime}} \\notag\\\\\n",
    "&= 15 \\sqrt{1 - 0.73} \\notag\\\\\n",
    "&= 7.79.\\notag\n",
    "\\end{aligned}\n",
    "\\end{equation}\n",
    "$$\n",
    "\n",
    "Il valore 7.79 rappresenta l'errore standard atteso nei punteggi ottenuti da un singolo individuo se il test fosse somministrato più volte sotto identiche condizioni. In altre parole, ci aspettiamo che i punteggi variino in media di circa 8 punti tra diverse somministrazioni del test.\n",
    "\n",
    "Inoltre, possiamo utilizzare l'errore standard della misurazione per calcolare un intervallo di confidenza intorno al vero punteggio del rispondente. Utilizzando la proprietà della distribuzione gaussiana, possiamo stimare che il 95% dei punteggi ottenuti da ripetute somministrazioni del test si troveranno nell'intervallo:\n",
    "\n",
    "$$\n",
    "\\text{punteggio vero del rispondente} \\pm 1.96 \\cdot \\text{errore standard della misurazione}. \n",
    "$$\n",
    "\n",
    "Nel nostro caso, questo intervallo sarebbe pari a $2 \\cdot 1.96 \\cdot 7.79 = 30.54$ punti. Quindi, ci aspettiamo che i punteggi del QI di un singolo rispondente varino all'interno di un intervallo di 30 punti se il test fosse somministrato molte volte sotto le stesse condizioni.\n",
    "\n",
    "Questo esempio dimostra che se un test ha un'attendibilità di 0.73 e una deviazione standard dei punteggi di 15, la misurazione del test su un singolo individuo risulterebbe poco affidabile a causa dell'ampio errore di misurazione. A titolo di confronto, la Full Scale IQ (FSIQ) della WAIS-IV {cite:p}`wechsler2008wechsler` ha un'attendibilità split-half di 0.98 e un errore standard di misurazione di 2.16.\n",
    "\n",
    "L'errore standard della misurazione può anche essere calcolato utilizzando la funzione `SE.Means()` del pacchetto `psychometric`."
   ]
  },
  {
   "cell_type": "code",
   "execution_count": 4,
   "id": "9ff29cc1",
   "metadata": {
    "vscode": {
     "languageId": "r"
    }
   },
   "outputs": [
    {
     "data": {
      "text/html": [
       "7.79422863405995"
      ],
      "text/latex": [
       "7.79422863405995"
      ],
      "text/markdown": [
       "7.79422863405995"
      ],
      "text/plain": [
       "[1] 7.794229"
      ]
     },
     "metadata": {},
     "output_type": "display_data"
    }
   ],
   "source": [
    "SE.Meas(15, .73)"
   ]
  },
  {
   "attachments": {},
   "cell_type": "markdown",
   "id": "0a1c1a9a",
   "metadata": {},
   "source": [
    "**Esempio 2.** Continuando con l'esempio precedente, per gli ipotetici dati riportati\n",
    "sopra, poniamoci ora la seguente domanda: qual è la probabilità che un\n",
    "rispondente ottenga un punteggio minore o uguale a 116 nel test, se il\n",
    "suo punteggio vero è uguale a 120?\n",
    "\n",
    "Il problema si risolve rendendosi conto che i punteggi del\n",
    "rispondente si distribuiscono normalmente attorno al punteggio vero di\n",
    "120, con una deviazione standard uguale a 7.79. Dobbiamo dunque trovare\n",
    "l'area sottesa alla normale $\\mathcal{N}(120, 7.79)$ nell'intervallo\n",
    "$[-\\infty, 116]$. Utilizzando , la soluzione si trova nel modo\n",
    "seguente:"
   ]
  },
  {
   "cell_type": "code",
   "execution_count": 5,
   "id": "6a767ab5",
   "metadata": {
    "vscode": {
     "languageId": "r"
    }
   },
   "outputs": [
    {
     "data": {
      "text/html": [
       "0.303808211691303"
      ],
      "text/latex": [
       "0.303808211691303"
      ],
      "text/markdown": [
       "0.303808211691303"
      ],
      "text/plain": [
       "[1] 0.3038082"
      ]
     },
     "metadata": {},
     "output_type": "display_data"
    }
   ],
   "source": [
    "pnorm(116, 120, 7.79)"
   ]
  },
  {
   "attachments": {},
   "cell_type": "markdown",
   "id": "882b66a2",
   "metadata": {},
   "source": [
    "Se la variabile aleatorie corrispondente al punteggio osservato segue\n",
    "una distribuzione $\\mathcal{N}(120, 7.79)$, la probabilità che il\n",
    "rispondente ottenga un punteggio minore o uguale a 116 è dunque uguale a\n",
    "0.30."
   ]
  },
  {
   "attachments": {},
   "cell_type": "markdown",
   "id": "18c51ca7",
   "metadata": {},
   "source": [
    "**Esempio 3.** Sempre per l'esempio discusso, poniamoci ora la seguente domanda: quale intervallo di valori centrato sul punteggio vero contiene, con una probabilità di 0.95, i punteggi che il rispondente otterrebbe in ipotetiche somministrazioni ripetute del\n",
    "test sotto le stesse identiche condizioni?\n",
    "\n",
    "Dobbiamo trovare i quantili della distribuzione $\\mathcal{N}(120, 7.79)$ a cui sono associate le probabilità di 0.025 e 0.975. La soluzione è dunque data da:"
   ]
  },
  {
   "cell_type": "code",
   "execution_count": 6,
   "id": "99fd643b",
   "metadata": {
    "vscode": {
     "languageId": "r"
    }
   },
   "outputs": [
    {
     "data": {
      "text/html": [
       "<style>\n",
       ".list-inline {list-style: none; margin:0; padding: 0}\n",
       ".list-inline>li {display: inline-block}\n",
       ".list-inline>li:not(:last-child)::after {content: \"\\00b7\"; padding: 0 .5ex}\n",
       "</style>\n",
       "<ol class=list-inline><li>104.731880560433</li><li>135.268119439567</li></ol>\n"
      ],
      "text/latex": [
       "\\begin{enumerate*}\n",
       "\\item 104.731880560433\n",
       "\\item 135.268119439567\n",
       "\\end{enumerate*}\n"
      ],
      "text/markdown": [
       "1. 104.731880560433\n",
       "2. 135.268119439567\n",
       "\n",
       "\n"
      ],
      "text/plain": [
       "[1] 104.7319 135.2681"
      ]
     },
     "metadata": {},
     "output_type": "display_data"
    }
   ],
   "source": [
    "qnorm(c(.025, .975), 120, 7.79)"
   ]
  },
  {
   "attachments": {},
   "cell_type": "markdown",
   "id": "8bbb9754",
   "metadata": {},
   "source": [
    "L'intervallo cercato è dunque $[104.7, 135.3]$."
   ]
  },
  {
   "attachments": {},
   "cell_type": "markdown",
   "id": "6fec28d9",
   "metadata": {},
   "source": [
    "**Esempio 4.** Calcoliamo ora l'errore standard di misurazione utilizzando un campione di dati grezzi. Esamineremo un set di dati discusso da {cite:t}`brown2015confirmatory`. I dati consisteono in 9 indicatori usati per misurare la depressione maggiore così come è definita nel DSM-IV:\n",
    "\n",
    "- MDD1: depressed mood;\n",
    "- MDD2: loss of interest in usual activities;\n",
    "- MDD3: weight/appetite change;\n",
    "- MDD4: sleep disturbance;\n",
    "- MDD5: psychomotor agitation/retardation;\n",
    "- MDD6: fatigue/loss of energy;\n",
    "- MDD7: feelings of worthlessness/guilt;\n",
    "- MDD8: concentration difficulties;\n",
    "- MDD9: thoughts of death/suicidality.\n",
    "\n",
    "Importiamo i dati:"
   ]
  },
  {
   "cell_type": "code",
   "execution_count": 27,
   "id": "5108e13e",
   "metadata": {
    "vscode": {
     "languageId": "r"
    }
   },
   "outputs": [],
   "source": [
    "df <- readRDS(\n",
    "    here::here(\"data\", \"mdd_sex.RDS\")\n",
    ") |>\n",
    "    dplyr::select(-sex)"
   ]
  },
  {
   "cell_type": "markdown",
   "id": "c166eb8a",
   "metadata": {},
   "source": [
    "Ci sono 750 osservazioni:"
   ]
  },
  {
   "cell_type": "code",
   "execution_count": 21,
   "id": "10933d54",
   "metadata": {
    "vscode": {
     "languageId": "r"
    }
   },
   "outputs": [
    {
     "data": {
      "text/html": [
       "<style>\n",
       ".list-inline {list-style: none; margin:0; padding: 0}\n",
       ".list-inline>li {display: inline-block}\n",
       ".list-inline>li:not(:last-child)::after {content: \"\\00b7\"; padding: 0 .5ex}\n",
       "</style>\n",
       "<ol class=list-inline><li>750</li><li>9</li></ol>\n"
      ],
      "text/latex": [
       "\\begin{enumerate*}\n",
       "\\item 750\n",
       "\\item 9\n",
       "\\end{enumerate*}\n"
      ],
      "text/markdown": [
       "1. 750\n",
       "2. 9\n",
       "\n",
       "\n"
      ],
      "text/plain": [
       "[1] 750   9"
      ]
     },
     "metadata": {},
     "output_type": "display_data"
    }
   ],
   "source": [
    "dim(df)"
   ]
  },
  {
   "cell_type": "code",
   "execution_count": 20,
   "id": "090d6726",
   "metadata": {
    "vscode": {
     "languageId": "r"
    }
   },
   "outputs": [
    {
     "data": {
      "text/html": [
       "<table class=\"dataframe\">\n",
       "<caption>A data.frame: 6 × 9</caption>\n",
       "<thead>\n",
       "\t<tr><th></th><th scope=col>mdd1</th><th scope=col>mdd2</th><th scope=col>mdd3</th><th scope=col>mdd4</th><th scope=col>mdd5</th><th scope=col>mdd6</th><th scope=col>mdd7</th><th scope=col>mdd8</th><th scope=col>mdd9</th></tr>\n",
       "\t<tr><th></th><th scope=col>&lt;int&gt;</th><th scope=col>&lt;int&gt;</th><th scope=col>&lt;int&gt;</th><th scope=col>&lt;int&gt;</th><th scope=col>&lt;int&gt;</th><th scope=col>&lt;int&gt;</th><th scope=col>&lt;int&gt;</th><th scope=col>&lt;int&gt;</th><th scope=col>&lt;int&gt;</th></tr>\n",
       "</thead>\n",
       "<tbody>\n",
       "\t<tr><th scope=row>1</th><td>5</td><td>4</td><td>1</td><td>6</td><td>5</td><td>6</td><td>5</td><td>4</td><td>2</td></tr>\n",
       "\t<tr><th scope=row>2</th><td>5</td><td>5</td><td>5</td><td>5</td><td>4</td><td>5</td><td>4</td><td>5</td><td>4</td></tr>\n",
       "\t<tr><th scope=row>3</th><td>4</td><td>5</td><td>4</td><td>2</td><td>6</td><td>6</td><td>0</td><td>0</td><td>0</td></tr>\n",
       "\t<tr><th scope=row>4</th><td>5</td><td>5</td><td>3</td><td>3</td><td>5</td><td>5</td><td>6</td><td>4</td><td>0</td></tr>\n",
       "\t<tr><th scope=row>5</th><td>5</td><td>5</td><td>0</td><td>5</td><td>0</td><td>4</td><td>6</td><td>0</td><td>0</td></tr>\n",
       "\t<tr><th scope=row>6</th><td>6</td><td>6</td><td>4</td><td>6</td><td>4</td><td>6</td><td>5</td><td>6</td><td>2</td></tr>\n",
       "</tbody>\n",
       "</table>\n"
      ],
      "text/latex": [
       "A data.frame: 6 × 9\n",
       "\\begin{tabular}{r|lllllllll}\n",
       "  & mdd1 & mdd2 & mdd3 & mdd4 & mdd5 & mdd6 & mdd7 & mdd8 & mdd9\\\\\n",
       "  & <int> & <int> & <int> & <int> & <int> & <int> & <int> & <int> & <int>\\\\\n",
       "\\hline\n",
       "\t1 & 5 & 4 & 1 & 6 & 5 & 6 & 5 & 4 & 2\\\\\n",
       "\t2 & 5 & 5 & 5 & 5 & 4 & 5 & 4 & 5 & 4\\\\\n",
       "\t3 & 4 & 5 & 4 & 2 & 6 & 6 & 0 & 0 & 0\\\\\n",
       "\t4 & 5 & 5 & 3 & 3 & 5 & 5 & 6 & 4 & 0\\\\\n",
       "\t5 & 5 & 5 & 0 & 5 & 0 & 4 & 6 & 0 & 0\\\\\n",
       "\t6 & 6 & 6 & 4 & 6 & 4 & 6 & 5 & 6 & 2\\\\\n",
       "\\end{tabular}\n"
      ],
      "text/markdown": [
       "\n",
       "A data.frame: 6 × 9\n",
       "\n",
       "| <!--/--> | mdd1 &lt;int&gt; | mdd2 &lt;int&gt; | mdd3 &lt;int&gt; | mdd4 &lt;int&gt; | mdd5 &lt;int&gt; | mdd6 &lt;int&gt; | mdd7 &lt;int&gt; | mdd8 &lt;int&gt; | mdd9 &lt;int&gt; |\n",
       "|---|---|---|---|---|---|---|---|---|---|\n",
       "| 1 | 5 | 4 | 1 | 6 | 5 | 6 | 5 | 4 | 2 |\n",
       "| 2 | 5 | 5 | 5 | 5 | 4 | 5 | 4 | 5 | 4 |\n",
       "| 3 | 4 | 5 | 4 | 2 | 6 | 6 | 0 | 0 | 0 |\n",
       "| 4 | 5 | 5 | 3 | 3 | 5 | 5 | 6 | 4 | 0 |\n",
       "| 5 | 5 | 5 | 0 | 5 | 0 | 4 | 6 | 0 | 0 |\n",
       "| 6 | 6 | 6 | 4 | 6 | 4 | 6 | 5 | 6 | 2 |\n",
       "\n"
      ],
      "text/plain": [
       "  mdd1 mdd2 mdd3 mdd4 mdd5 mdd6 mdd7 mdd8 mdd9\n",
       "1 5    4    1    6    5    6    5    4    2   \n",
       "2 5    5    5    5    4    5    4    5    4   \n",
       "3 4    5    4    2    6    6    0    0    0   \n",
       "4 5    5    3    3    5    5    6    4    0   \n",
       "5 5    5    0    5    0    4    6    0    0   \n",
       "6 6    6    4    6    4    6    5    6    2   "
      ]
     },
     "metadata": {},
     "output_type": "display_data"
    }
   ],
   "source": [
    "head(df)"
   ]
  },
  {
   "cell_type": "markdown",
   "id": "12467526",
   "metadata": {},
   "source": [
    "Calcoliamo il coefficiente di attendibilità $\\alpha$ di Cronbach con la funzione `alpha()` del pacchetto `psych`."
   ]
  },
  {
   "cell_type": "code",
   "execution_count": 40,
   "id": "e18fe4ba",
   "metadata": {
    "vscode": {
     "languageId": "r"
    }
   },
   "outputs": [
    {
     "data": {
      "text/html": [
       "0.753150463775788"
      ],
      "text/latex": [
       "0.753150463775788"
      ],
      "text/markdown": [
       "0.753150463775788"
      ],
      "text/plain": [
       "[1] 0.7531505"
      ]
     },
     "metadata": {},
     "output_type": "display_data"
    }
   ],
   "source": [
    "res <- psych::alpha(df)\n",
    "alpha <- res$total$raw_alpha\n",
    "alpha"
   ]
  },
  {
   "cell_type": "markdown",
   "id": "4102cc73",
   "metadata": {},
   "source": [
    "Calcoliamo un vettore che contiene il punteggio totale del test per ciascun individuo:"
   ]
  },
  {
   "cell_type": "code",
   "execution_count": null,
   "id": "64533f13",
   "metadata": {
    "vscode": {
     "languageId": "r"
    }
   },
   "outputs": [],
   "source": [
    "total_score <- rowSums(df)"
   ]
  },
  {
   "cell_type": "markdown",
   "id": "c73d5676",
   "metadata": {},
   "source": [
    "Infine, troviamo l'errore standard di misurazione:"
   ]
  },
  {
   "cell_type": "code",
   "execution_count": 41,
   "id": "f80f1c9e",
   "metadata": {
    "vscode": {
     "languageId": "r"
    }
   },
   "outputs": [
    {
     "data": {
      "text/html": [
       "5.29643177867088"
      ],
      "text/latex": [
       "5.29643177867088"
      ],
      "text/markdown": [
       "5.29643177867088"
      ],
      "text/plain": [
       "[1] 5.296432"
      ]
     },
     "metadata": {},
     "output_type": "display_data"
    }
   ],
   "source": [
    "sd(total_score) * sqrt(1 - alpha)"
   ]
  },
  {
   "cell_type": "markdown",
   "id": "ed60af41",
   "metadata": {},
   "source": [
    "Confrontiamo il risultato con quello ottenuto con la funzione `SE.Meas()`:"
   ]
  },
  {
   "cell_type": "code",
   "execution_count": 42,
   "id": "c9e26d7e",
   "metadata": {
    "vscode": {
     "languageId": "r"
    }
   },
   "outputs": [
    {
     "data": {
      "text/html": [
       "5.29643177867088"
      ],
      "text/latex": [
       "5.29643177867088"
      ],
      "text/markdown": [
       "5.29643177867088"
      ],
      "text/plain": [
       "[1] 5.296432"
      ]
     },
     "metadata": {},
     "output_type": "display_data"
    }
   ],
   "source": [
    "SE.Meas(sd(total_score), alpha)"
   ]
  },
  {
   "attachments": {},
   "cell_type": "markdown",
   "id": "e87bbd10",
   "metadata": {},
   "source": [
    "## Dimostrazione\n",
    "\n",
    "Esaminiamo ora la derivazione della formula per l'errore standard di misurazione, $\\sigma_E = \\sigma_X \\sqrt{1 - \\rho_{XX^\\prime}}$. Per arrivare a questa formula, seguiremo due passaggi chiave: innanzitutto, calcoleremo la varianza del vero punteggio e successivamente rappresenteremo il punteggio osservato come la somma della varianza del vero punteggio e la varianza dell'errore.\n",
    "\n",
    "Iniziamo definendo il coefficiente di attendibilità come $\\rho_{XX^\\prime} = \\frac{\\sigma^2_T}{\\sigma^2_X}$, in cui $\\sigma^2_T$ è la varianza del vero punteggio e $\\sigma^2_X$ è la varianza del punteggio osservato. Utilizzando questa definizione, possiamo riscrivere $\\sigma^2_T$ come $\\sigma^2_T = \\rho_{XX^\\prime} \\sigma^2_X$, considerando che $X$ e $X^\\prime$ sono forme parallele di un test e con proprietà simili.\n",
    "\n",
    "Dato che $\\sigma_X = \\sigma_{X^\\prime}$, possiamo semplificare l'equazione precedente in $\\sigma^2_T = \\rho_{XX^\\prime} \\sigma_X \\sigma_{X^\\prime}$. Inoltre, la covarianza tra $X$ e $X^\\prime$ è definita come $\\sigma_{XX^\\prime} = \\rho_{XX^\\prime} \\sigma_X \\sigma_{X^\\prime}$. Da qui, possiamo affermare che $\\sigma^2_T = \\sigma_{XX^\\prime}$, dato che la varianza del vero punteggio equivale alla covarianza tra due misurazioni parallele.\n",
    "\n",
    "Ora, passiamo a calcolare la varianza dell'errore, $\\sigma^2_E$. La varianza del punteggio osservato è espressa come $\\sigma^2_X = \\sigma^2_T + \\sigma^2_E$. Utilizzando la definizione di attendibilità, possiamo riscrivere questa equazione come $\\sigma^2_X = \\rho_{XX^\\prime} \\sigma^2_X + \\sigma^2_E$, da cui otteniamo:\n",
    "\n",
    "$$\n",
    "\\begin{equation}\n",
    "\\begin{aligned}\n",
    "\\sigma^2_E &= \\sigma^2_X - \\sigma^2_X \\rho_{XX^\\prime} \\\\\n",
    "&= \\sigma^2_X (1 - \\rho_{XX^\\prime}).\n",
    "\\end{aligned}\n",
    "\\end{equation}\n",
    "$$\n",
    "\n",
    "Di conseguenza, la varianza dell'errore di misurazione, $\\sigma^2_E$, può essere espressa come il prodotto di due fattori: il primo rappresenta la varianza del punteggio osservato, mentre il secondo equivale a uno meno la correlazione tra le due forme parallele del test ($\\rho_{XX^\\prime}$). In conclusione, abbiamo calcolato l'incognita $\\sigma^2_E$ in termini di due quantità osservabili, $\\sigma^2_X$ e $\\rho_{XX^\\prime}$."
   ]
  },
  {
   "cell_type": "markdown",
   "id": "f0e574e7",
   "metadata": {},
   "source": [
    "## Relazione tra Affidabilità del Test e Errore Standard di Misurazione (SEM)\n",
    "\n",
    "Si osserva che, all'aumentare dell'affidabilità di un test, l'Errore Standard di Misurazione (SEM) diminuisce. Questa relazione inversa è coerente con il fatto che il coefficiente di affidabilità riflette la proporzione della varianza dei punteggi osservati dovuta alla varianza dei punteggi veri, e il SEM è una stima dell'errore presente nei punteggi del test. Quindi, maggiore è l'affidabilità dei punteggi di un test, minore è il SEM, e maggior fiducia possiamo avere nella precisione dei punteggi del test. Viceversa, minore è l'affidabilità di un test, maggiore è il SEM, e minore è la nostra fiducia nella precisione dei punteggi del test.\n",
    "\n",
    "Per esempio, con un coefficiente di affidabilità perfetto pari a 1.0, il SEM sarebbe uguale a 0, indicando l'assenza di errore nella misurazione e che il punteggio ottenuto rappresenta il punteggio vero. Un coefficiente di affidabilità pari a 0, invece, produrrebbe un SEM uguale alla deviazione standard (SD) dei punteggi ottenuti, indicando che tutta la varianza dei punteggi del test è dovuta a errori.\n",
    "\n",
    "Il SEM è tradizionalmente utilizzato nel calcolo di intervalli o bande intorno ai punteggi osservati, all'interno dei quali ci si aspetta che cada il punteggio vero. Ora passeremo a questa applicazione del SEM."
   ]
  },
  {
   "cell_type": "markdown",
   "id": "966c01fd",
   "metadata": {},
   "source": [
    "## Intervallo di Confidenza e Errore Standard di Misurazione (SEM)\n",
    "\n",
    "L'intervallo di confidenza rappresenta un range di punteggi che include il vero punteggio di un individuo con una probabilità prescritta. Generalmente, utilizziamo il SEM per calcolare gli intervalli di confidenza. Il SEM fornisce informazioni sulla distribuzione dei punteggi osservati intorno ai punteggi veri. \n",
    "\n",
    "Ad esempio, se un individuo ha un punteggio vero di 70 in un test con un SEM di 3, ci aspetteremmo che ottenga punteggi tra 67 e 73 due terzi delle volte, a patto che non ci siano cambiamenti nelle prestazioni a causa della ripetizione del test. "
   ]
  },
  {
   "cell_type": "code",
   "execution_count": 3,
   "id": "65b50bd8",
   "metadata": {
    "vscode": {
     "languageId": "r"
    }
   },
   "outputs": [
    {
     "data": {
      "text/html": [
       "0.682689492137086"
      ],
      "text/latex": [
       "0.682689492137086"
      ],
      "text/markdown": [
       "0.682689492137086"
      ],
      "text/plain": [
       "[1] 0.6826895"
      ]
     },
     "metadata": {},
     "output_type": "display_data"
    }
   ],
   "source": [
    "# Definiamo il punteggio vero e il SEM\n",
    "punteggio_vero <- 70\n",
    "SEM <- 3\n",
    "\n",
    "pnorm(73, 70, 3) - pnorm(67, 70, 3)"
   ]
  },
  {
   "cell_type": "markdown",
   "id": "b4afed65",
   "metadata": {},
   "source": [
    "Per ottenere un intervallo di confidenza del 95%, determiniamo il numero di deviazioni standard che comprendono il 95% dei punteggi in una distribuzione. Con un punteggio vero di 70 e un SEM di 3, l'intervallo di confidenza del 95% sarebbe 70 ± 3(1.96), ovvero 70 ± 5.88. Quindi, in questa situazione, ci aspetteremmo che il punteggio osservato dell'individuo sia tra 64.12 e 75.88, il 95% delle volte."
   ]
  },
  {
   "cell_type": "code",
   "execution_count": 2,
   "id": "9e0ee389",
   "metadata": {
    "vscode": {
     "languageId": "r"
    }
   },
   "outputs": [
    {
     "name": "stdout",
     "output_type": "stream",
     "text": [
      "L'intervallo di confidenza al 95% e' [ 64.12011 ,  75.87989 ]\n"
     ]
    }
   ],
   "source": [
    "# Calcoliamo il valore critico Z per il livello di confidenza del 95%\n",
    "livello_confidenza <- 0.95\n",
    "z_critico <- qnorm((1 + livello_confidenza) / 2)\n",
    "\n",
    "# Calcoliamo l'errore standard dell'intervallo\n",
    "errore_standard_intervallo <- SEM * z_critico\n",
    "\n",
    "# Calcoliamo l'intervallo di confidenza\n",
    "intervallo_confidenza_inf <- punteggio_vero - errore_standard_intervallo\n",
    "intervallo_confidenza_sup <- punteggio_vero + errore_standard_intervallo\n",
    "\n",
    "# Stampiamo l'intervallo di confidenza\n",
    "cat(\"L'intervallo di confidenza al 95% e' [\", intervallo_confidenza_inf, \", \", intervallo_confidenza_sup, \"]\\n\")\n"
   ]
  },
  {
   "attachments": {},
   "cell_type": "markdown",
   "id": "35ed4f01",
   "metadata": {},
   "source": [
    "### Relazione tra Affidabilità, SEM e Intervalli di Confidenza\n",
    "\n",
    "È utile notare la relazione tra l'affidabilità di un punteggio di test, il SEM e gli intervalli di confidenza. Ricordiamo che all'aumentare dell'affidabilità dei punteggi, il SEM diminuisce. La stessa relazione esiste tra l'affidabilità dei punteggi di test e gli intervalli di confidenza. Man mano che l'affidabilità dei punteggi di test aumenta (denotando meno errore di misurazione), gli intervalli di confidenza diventano più piccoli (denotando maggiore precisione nella misurazione).\n",
    "\n",
    "### Vantaggio del SEM e dell'Uso degli Intervalli di Confidenza\n",
    "\n",
    "Un grande vantaggio del SEM e dell'uso degli intervalli di confidenza è che essi servono a ricordarci che l'errore di misurazione è presente in tutti i punteggi e che dovremmo interpretare i punteggi con cautela. Un singolo punteggio numerico spesso viene interpretato come se fosse preciso e non comportasse errori. Ad esempio, se si riporta che Alice ha un QI totale di 113, i suoi genitori potrebbero interpretarlo come se il QI di Alice fosse esattamente 113. Anche usando test di QI di alta qualità, i punteggi ottenuti contengono un certo grado di errore e il SEM e gli intervalli di confidenza ci aiutano a illustrare questo.\n",
    "\n",
    "### Problema nel Calcolare l'Intervallo di Confidenza\n",
    "\n",
    "Un problema potenziale con l'approccio descritto sopra è che non conosciamo il vero punteggio dell'esaminato, ma solo il punteggio osservato. È comune usare il SEM per stabilire intervalli di confidenza intorno ai punteggi ottenuti. Tuttavia, è importante sottolineare che questa pratica non è corretta {cite:p}`charter1996revisiting`. \n",
    "\n",
    "> In spite of {cite:t}`dudek1979continuing`'s reminder that the SEM should not be used to construct confidence intervals, many test manuals, computer-scoring programs, and texts in psychology and education continue to do so. Because authors of many textbooks and manuals make these errors, it is understandable that those who learned from and look to these sources for guidance also make these errors. In summary, the SEM should not be used to construct confidence intervals for test scores (p. 1141).\n",
    "\n",
    "È invece possibile costruire gli intervalli di confidenza basati su punteggi veri stimati e sull'errore standard della stima (SEE). Questo approccio verrà descritto nel prossimo capitolo.\n",
    "\n",
    "## Considerazioni conclusive\n",
    "\n",
    "Nel contesto della CTT, le stime di affidabilità si rivelano uno strumento fondamentale per valutare la coerenza dei test. Tuttavia, quando si affrontano decisioni relative al singolo individuo, come ad esempio determinare se un candidato supera un esame, diventa più vantaggioso fare riferimento all'errore standard di misurazione (SEM). Il SEM rende evidente quanto i punteggi di un test siano suscettibili di fluttuazioni casuali se lo stesso test venisse ripetuto più volte dallo stesso esaminando. In generale, un SEM più ridotto corrisponde a un intervallo di fluttuazioni casuali più stretto. Ciò implica che, grazie a un SEM più basso, i punteggi rifletteranno in modo più coerente le vere capacità dell'esaminando."
   ]
  },
  {
   "cell_type": "markdown",
   "id": "3d04935b",
   "metadata": {},
   "source": [
    "## Session Info"
   ]
  },
  {
   "cell_type": "code",
   "execution_count": 2,
   "id": "3f629fc1",
   "metadata": {
    "vscode": {
     "languageId": "r"
    }
   },
   "outputs": [
    {
     "data": {
      "text/plain": [
       "R version 4.3.2 (2023-10-31)\n",
       "Platform: aarch64-apple-darwin20 (64-bit)\n",
       "Running under: macOS Sonoma 14.3.1\n",
       "\n",
       "Matrix products: default\n",
       "BLAS:   /Library/Frameworks/R.framework/Versions/4.3-arm64/Resources/lib/libRblas.0.dylib \n",
       "LAPACK: /Library/Frameworks/R.framework/Versions/4.3-arm64/Resources/lib/libRlapack.dylib;  LAPACK version 3.11.0\n",
       "\n",
       "locale:\n",
       "[1] C\n",
       "\n",
       "time zone: Europe/Rome\n",
       "tzcode source: internal\n",
       "\n",
       "attached base packages:\n",
       "[1] stats     graphics  grDevices utils     datasets  methods   base     \n",
       "\n",
       "other attached packages:\n",
       " [1] psychometric_2.4  multilevel_2.7    MASS_7.3-60.0.1   nlme_3.1-164     \n",
       " [5] ggokabeito_0.1.0  viridis_0.6.5     viridisLite_0.4.2 ggpubr_0.6.0     \n",
       " [9] ggExtra_0.10.1    bayesplot_1.11.1  gridExtra_2.3     patchwork_1.2.0  \n",
       "[13] semTools_0.5-6    semPlot_1.1.6     lavaan_0.6-17     psych_2.4.1      \n",
       "[17] scales_1.3.0      markdown_1.12     knitr_1.45        lubridate_1.9.3  \n",
       "[21] forcats_1.0.0     stringr_1.5.1     dplyr_1.1.4       purrr_1.0.2      \n",
       "[25] readr_2.1.5       tidyr_1.3.1       tibble_3.2.1      ggplot2_3.4.4    \n",
       "[29] tidyverse_2.0.0   here_1.0.1       \n",
       "\n",
       "loaded via a namespace (and not attached):\n",
       "  [1] rstudioapi_0.15.0  jsonlite_1.8.8     magrittr_2.0.3    \n",
       "  [4] TH.data_1.1-2      estimability_1.5   nloptr_2.0.3      \n",
       "  [7] rmarkdown_2.25     vctrs_0.6.5        minqa_1.2.6       \n",
       " [10] base64enc_0.1-3    rstatix_0.7.2      htmltools_0.5.7   \n",
       " [13] broom_1.0.5        Formula_1.2-5      htmlwidgets_1.6.4 \n",
       " [16] plyr_1.8.9         sandwich_3.1-0     emmeans_1.10.0    \n",
       " [19] zoo_1.8-12         uuid_1.2-0         igraph_2.0.2      \n",
       " [22] mime_0.12          lifecycle_1.0.4    pkgconfig_2.0.3   \n",
       " [25] Matrix_1.6-5       R6_2.5.1           fastmap_1.1.1     \n",
       " [28] shiny_1.8.0        digest_0.6.34      OpenMx_2.21.11    \n",
       " [31] fdrtool_1.2.17     colorspace_2.1-0   rprojroot_2.0.4   \n",
       " [34] Hmisc_5.1-1        fansi_1.0.6        timechange_0.3.0  \n",
       " [37] abind_1.4-5        compiler_4.3.2     withr_3.0.0       \n",
       " [40] glasso_1.11        htmlTable_2.4.2    backports_1.4.1   \n",
       " [43] carData_3.0-5      ggsignif_0.6.4     corpcor_1.6.10    \n",
       " [46] gtools_3.9.5       tools_4.3.2        pbivnorm_0.6.0    \n",
       " [49] foreign_0.8-86     zip_2.3.1          httpuv_1.6.14     \n",
       " [52] nnet_7.3-19        glue_1.7.0         quadprog_1.5-8    \n",
       " [55] promises_1.2.1     lisrelToR_0.3      grid_4.3.2        \n",
       " [58] pbdZMQ_0.3-11      checkmate_2.3.1    cluster_2.1.6     \n",
       " [61] reshape2_1.4.4     generics_0.1.3     gtable_0.3.4      \n",
       " [64] tzdb_0.4.0         data.table_1.15.0  hms_1.1.3         \n",
       " [67] car_3.1-2          utf8_1.2.4         sem_3.1-15        \n",
       " [70] pillar_1.9.0       IRdisplay_1.1      rockchalk_1.8.157 \n",
       " [73] later_1.3.2        splines_4.3.2      lattice_0.22-5    \n",
       " [76] survival_3.5-8     kutils_1.73        tidyselect_1.2.0  \n",
       " [79] miniUI_0.1.1.1     pbapply_1.7-2      stats4_4.3.2      \n",
       " [82] xfun_0.42          qgraph_1.9.8       arm_1.13-1        \n",
       " [85] stringi_1.8.3      boot_1.3-29        evaluate_0.23     \n",
       " [88] codetools_0.2-19   mi_1.1             cli_3.6.2         \n",
       " [91] RcppParallel_5.1.7 IRkernel_1.3.2     rpart_4.1.23      \n",
       " [94] xtable_1.8-4       repr_1.1.6         munsell_0.5.0     \n",
       " [97] Rcpp_1.0.12        coda_0.19-4.1      png_0.1-8         \n",
       "[100] XML_3.99-0.16.1    parallel_4.3.2     ellipsis_0.3.2    \n",
       "[103] jpeg_0.1-10        lme4_1.1-35.1      mvtnorm_1.2-4     \n",
       "[106] openxlsx_4.2.5.2   crayon_1.5.2       rlang_1.1.3       \n",
       "[109] multcomp_1.4-25    mnormt_2.1.1      "
      ]
     },
     "metadata": {},
     "output_type": "display_data"
    }
   ],
   "source": [
    "sessionInfo()"
   ]
  }
 ],
 "metadata": {
  "jupytext": {
   "cell_metadata_filter": "tags,eval,-all",
   "main_language": "R",
   "notebook_metadata_filter": "-all"
  },
  "kernelspec": {
   "display_name": "R",
   "language": "R",
   "name": "ir"
  },
  "language_info": {
   "codemirror_mode": "r",
   "file_extension": ".r",
   "mimetype": "text/x-r-source",
   "name": "R",
   "pygments_lexer": "r",
   "version": "4.3.2"
  }
 },
 "nbformat": 4,
 "nbformat_minor": 5
}
