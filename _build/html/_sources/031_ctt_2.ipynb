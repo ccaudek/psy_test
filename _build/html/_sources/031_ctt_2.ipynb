{
 "cells": [
  {
   "attachments": {},
   "cell_type": "markdown",
   "id": "2c19761a",
   "metadata": {},
   "source": [
    "(ctt-2-notebook)=\n",
    "# L'affidabilità del test"
   ]
  },
  {
   "cell_type": "code",
   "execution_count": null,
   "id": "b58f4e19",
   "metadata": {
    "tags": [
     "remove_cell"
    ],
    "vscode": {
     "languageId": "r"
    }
   },
   "outputs": [],
   "source": [
    "source(\"_common.R\")"
   ]
  },
  {
   "cell_type": "markdown",
   "id": "b6510d79",
   "metadata": {},
   "source": [
    "L'affidabilità è un concetto fondamentale nella teoria della misurazione, che riguarda la coerenza, la stabilità e la precisione delle misurazioni in diverse condizioni. Poiché le condizioni in cui i punteggi possono variare dipendono dal tipo di misurazione in questione, esistono diversi metodi per valutare l'affidabilità di un test.\n",
    "\n",
    "Le misure di affidabilità test-retest, note anche come coefficienti di stabilità, vengono utilizzate quando si desidera valutare la coerenza dei punteggi nel tempo. In pratica, lo stesso test viene somministrato a un gruppo di individui in due momenti diversi, e la correlazione tra i punteggi totali ottenuti fornisce una stima dell'affidabilità del test. Tuttavia, questo metodo è limitato dal fatto che le condizioni possono variare nel tempo e influenzare i risultati.\n",
    "\n",
    "Le misure di affidabilità delle forme alternative, o coefficienti di equivalenza, sono utili quando ci sono diverse versioni del test progettate per fornire punteggi equivalenti. Questo metodo permette di valutare se le diverse versioni del test producono risultati simili e coerenti tra loro.\n",
    "\n",
    "Le misure di consistenza interna riflettono il grado di correlazione tra gli elementi di un test. Questa forma di affidabilità è importante per i test che contengono più elementi, i quali vengono sommati o mediati per ottenere un punteggio totale. Un elevato grado di consistenza interna indica che gli elementi del test misurano lo stesso costrutto in modo coerente.\n",
    "\n",
    "Infine, le misure dell'accordo tra osservatori valutano la coerenza dei punteggi ottenuti da diversi osservatori. Questo tipo di affidabilità è rilevante in situazioni in cui più osservatori stanno valutando lo stesso fenomeno e si vuole verificare la coerenza dei loro giudizi.\n",
    "\n",
    "In conclusione, l'affidabilità è un aspetto cruciale per garantire la validità e la precisione delle misurazioni. Utilizzando diversi metodi per valutare l'affidabilità, è possibile ottenere una valutazione più completa e accurata delle misure effettuate."
   ]
  },
  {
   "attachments": {},
   "cell_type": "markdown",
   "id": "87139487",
   "metadata": {},
   "source": [
    "## L'attendibilità del test\n",
    "\n",
    "In questo capitolo esamineremo l'affidabilità intesa come misura di consistenza secondo la CTT. Il coefficiente di attendibilità, anche noto come affidabilità, costanza o credibilità, ci offre una stima della proporzione di varianza nei punteggi osservati attribuibile all'abilità latente o \"punteggio vero\", ovvero la parte priva di errore di misurazione. Un coefficiente di attendibilità superiore a 0.80 viene generalmente considerato soddisfacente, poiché indica che almeno l'80% della varianza nei punteggi ottenuti è dovuto all'abilità effettivamente misurata dal test, piuttosto che all'errore di misurazione.\n",
    "\n",
    "Per definire l'attendibilità, la CTT si basa su due informazioni chiave:\n",
    "\n",
    "1. La varianza dei punteggi osservati.\n",
    "2. La correlazione tra il punteggio osservato e il punteggio vero.\n",
    "\n",
    "Vedremo come ottenere queste informazioni utilizzando le assunzioni del modello statistico alla base della CTT.\n",
    "\n",
    "### La varianza del punteggio osservato\n",
    "\n",
    "La varianza del punteggio osservato $X$ è uguale alla somma della varianza del punteggio vero e della varianza dell'errore di misurazione:\n",
    "\n",
    "$$\n",
    "\\sigma^2_X =   \\sigma_T^2 + \\sigma_E^2.\n",
    "$$(eq-var-sum)\n",
    "\n",
    "La dimostrazione è la seguente. La varianza del punteggio osservato è uguale a\n",
    "\n",
    "$$\n",
    "\\sigma^2_X =  \\mathbb{V}(T+E) =  \\sigma_T^2 + \\sigma_E^2 + 2 \\sigma_{TE}.\n",
    "$$(eq-3-2-4)\n",
    "\n",
    "Dato che $\\sigma_{TE}=\\rho_{TE}\\sigma_T \\sigma_E=0$, in quanto $\\rho_{TE}=0$, ne segue che\n",
    "\n",
    "$$\n",
    "\\sigma^2_X =   \\sigma_T^2 + \\sigma_E^2.\n",
    "$$\n",
    "\n",
    "\n",
    "### La covarianza tra punteggio osservato e punteggio vero\n",
    "\n",
    "La covarianza tra punteggio osservato $X$ e punteggio vero $T$ è uguale alla varianza del punteggio vero:\n",
    "\n",
    "$$\n",
    "\\sigma_{X T} = \\sigma_T^2.\n",
    "$$(eq-cov-obs-true)\n",
    "\n",
    "La dimostrazione è la seguente. La covarianza tra punteggio osservato e punteggio vero è uguale a\n",
    "\n",
    "$$\n",
    "\\begin{aligned}\n",
    "\\sigma_{X T} &= \\mathbb{E}(XT) - \\mathbb{E}(X)\\mathbb{E}(T)\\notag\\\\\n",
    "&=  \\mathbb{E}[(T+E)T] - \\mathbb{E}(T+E)\\mathbb{E}(T)\\notag\\\\\n",
    "&=  \\mathbb{E}(T^2) + \\underbrace{\\mathbb{E}(ET)}_{=0} - [\\mathbb{E}(T)]^2 -  \\underbrace{\\mathbb{E}(E)}_{=0} \\mathbb{E}(T)\\notag\\\\\n",
    "&=\\mathbb{E}(T^2) - [\\mathbb{E}(T)]^2\\notag \\\\\n",
    "&= \\sigma_T^2.\n",
    "\\end{aligned}\n",
    "$$\n",
    "\n",
    "\n",
    "### Correlazione tra punteggio osservato e punteggio vero\n",
    "\n",
    "La correlazione tra punteggio osservato $X$ e punteggio vero $T$ è uguale al rapporto tra la covarianza tra $X$ e $T$ divisa per il prodotto delle due deviazioni standard:\n",
    "\n",
    "$$\n",
    "\\rho_{XT} = \\frac{\\sigma_{XT}}{\\sigma_X \\sigma_T} = \\frac{\\sigma^2_{T}}{\\sigma_X \\sigma_T} = \\frac{\\sigma_{T}}{\\sigma_X}.\n",
    "$$(eq-sd-ratio)\n",
    "\n",
    "Dunque, la correlazione tra il punteggio osservato e il punteggio vero è uguale al rapporto tra la deviazione standard dei punteggi veri e la deviazione standard dei punteggi osservati.\n",
    "\n",
    "### Definizione e significato dell'attendibilità\n",
    "\n",
    "Sulla base della {ref}`eq-sd-ratio` giungiamo alla definizione dell'attendibilità. \n",
    "La CTT definisce attendibilità di un test (o di un item) come il rapporto tra la varianza del punteggio vero e la varianza del punteggio osservato, ovvero come il\n",
    "quadrato della correlazione tra punteggio osservato $X$ e punteggio vero\n",
    "$T$:\n",
    "\n",
    "$$\n",
    "\\begin{equation}\n",
    "\\rho_{XT}^2 = \\frac{\\sigma_{T}^2}{\\sigma_X^2}.\n",
    "\\end{equation}\n",
    "$$(eq-reliability-1)\n",
    "\n",
    "Questa è la quantità fondamentale della CTT e misura il grado di variazione del punteggio vero rispetto alla variazione del punteggio osservato. Dato che $\\sigma^2_X = \\sigma_T^2 + \\sigma_E^2$, in base alla {ref}`eq-reliability-1` possiamo scrivere \n",
    "\n",
    "$$\n",
    "\\begin{equation}\n",
    "\\rho_{XT}^2 = \\frac{\\sigma_{T}^2}{\\sigma_X^2} =\\frac{\\sigma_{X}^2 - \\sigma^2_E}{\\sigma_X^2} = 1-\\frac{\\sigma_{E}^2}{\\sigma_X^2}.\n",
    "\\end{equation}\n",
    "$$(eq-3-2-6)\n",
    "\n",
    "La {eq}`eq-3-2-6` ci dice che il coefficiente di attendibilità assume valore $1$ se la varianza degli errori $\\sigma_{E}^2$ è nulla e assume valore $0$ se la varianza degli errori è uguale alla varianza del punteggio osservato. Il coefficiente di attendibilità è dunque un numero puro contenuto nell'intervallo compreso tra $0$ e $1$.\n",
    "\n",
    "## Attendibilità e modello di regressione lineare\n",
    "\n",
    "In parole semplici, la CTT (Teoria Classica dei Test) si basa sul modello di regressione lineare, dove i punteggi osservati sono considerati come variabile dipendente e i punteggi veri come variabile indipendente. Il coefficiente di attendibilità $\\rho_{XT}^2$ rappresenta la proporzione di varianza nella variabile dipendente spiegata dalla variabile indipendente in un modello di regressione lineare con una pendenza unitaria e un'intercetta di zero. In altre parole, il coefficiente di attendibilità è equivalente al coefficiente di determinazione del modello di regressione.\n",
    "\n",
    "### Simulazione\n",
    "\n",
    "Per dare un contenuto concreto alle affermazioni precedenti, consideriamo la seguente simulazione svolta in $\\textsf{R}$. In tale simulazione il punteggio vero $T$ e l'errore $E$ sono creati in modo tale da soddisfare i vincoli della CTT: $T$ e $E$ sono variabili casuali gaussiane tra loro incorrelate. Nella simulazione generiamo 100 coppie di valori $X$ e $T$ con i seguenti parametri: $T \\sim \\mathcal{N}(\\mu_T = 12, \\sigma^2_T = 6)$, $E \\sim \\mathcal{N}(\\mu_E = 0, \\sigma^2_T = 3)$:"
   ]
  },
  {
   "cell_type": "code",
   "execution_count": 1,
   "id": "3f24bbfe",
   "metadata": {
    "vscode": {
     "languageId": "r"
    }
   },
   "outputs": [
    {
     "data": {
      "text/html": [
       "<table class=\"dataframe\">\n",
       "<caption>A matrix: 2 × 2 of type dbl</caption>\n",
       "<tbody>\n",
       "\t<tr><td>6</td><td>0</td></tr>\n",
       "\t<tr><td>0</td><td>3</td></tr>\n",
       "</tbody>\n",
       "</table>\n"
      ],
      "text/latex": [
       "A matrix: 2 × 2 of type dbl\n",
       "\\begin{tabular}{ll}\n",
       "\t 6 & 0\\\\\n",
       "\t 0 & 3\\\\\n",
       "\\end{tabular}\n"
      ],
      "text/markdown": [
       "\n",
       "A matrix: 2 × 2 of type dbl\n",
       "\n",
       "| 6 | 0 |\n",
       "| 0 | 3 |\n",
       "\n"
      ],
      "text/plain": [
       "     [,1] [,2]\n",
       "[1,] 6    0   \n",
       "[2,] 0    3   "
      ]
     },
     "metadata": {},
     "output_type": "display_data"
    },
    {
     "data": {
      "text/html": [
       "<style>\n",
       ".list-inline {list-style: none; margin:0; padding: 0}\n",
       ".list-inline>li {display: inline-block}\n",
       ".list-inline>li:not(:last-child)::after {content: \"\\00b7\"; padding: 0 .5ex}\n",
       "</style>\n",
       "<ol class=list-inline><li>12</li><li>0</li></ol>\n"
      ],
      "text/latex": [
       "\\begin{enumerate*}\n",
       "\\item 12\n",
       "\\item 0\n",
       "\\end{enumerate*}\n"
      ],
      "text/markdown": [
       "1. 12\n",
       "2. 0\n",
       "\n",
       "\n"
      ],
      "text/plain": [
       "[1] 12  0"
      ]
     },
     "metadata": {},
     "output_type": "display_data"
    }
   ],
   "source": [
    "set.seed(12345)\n",
    "library(\"MASS\")\n",
    "\n",
    "n <- 100\n",
    "Sigma <- matrix(c(6, 0, 0, 3), byrow = TRUE, ncol = 2)\n",
    "Sigma\n",
    "mu <- c(12, 0)\n",
    "mu\n",
    "Y <- mvrnorm(n, mu, Sigma, empirical = TRUE)\n",
    "T <- Y[, 1]\n",
    "E <- Y[, 2]"
   ]
  },
  {
   "attachments": {},
   "cell_type": "markdown",
   "id": "83ad3853",
   "metadata": {},
   "source": [
    "Le istruzioni precedenti (`empirical = TRUE`) creano un campione di valori nei quali  le medie e la matrice di covarianze assumono esattamente i valori richiesti. Possiamo dunque immaginare tale insieme di dati come la \"popolazione\".\n",
    "\n",
    "Secondo la CTT, il punteggio osservato è $X = T + E$. Simuliamo dunque\n",
    "il punteggio osservato $X$ come:"
   ]
  },
  {
   "cell_type": "code",
   "execution_count": 2,
   "id": "e2e1546b",
   "metadata": {
    "vscode": {
     "languageId": "r"
    }
   },
   "outputs": [],
   "source": [
    "X <- T + E"
   ]
  },
  {
   "attachments": {},
   "cell_type": "markdown",
   "id": "9dd72f68",
   "metadata": {},
   "source": [
    "Le prime 6 osservazioni così ottenute sono:"
   ]
  },
  {
   "cell_type": "code",
   "execution_count": null,
   "id": "107c45ec",
   "metadata": {
    "vscode": {
     "languageId": "r"
    }
   },
   "outputs": [],
   "source": [
    "head(cbind(T, E, X))"
   ]
  },
  {
   "attachments": {},
   "cell_type": "markdown",
   "id": "cd05710e",
   "metadata": {},
   "source": [
    "Un diagramma di dispersione è fornito nella figura seguente:"
   ]
  },
  {
   "cell_type": "code",
   "execution_count": null,
   "id": "979d79eb",
   "metadata": {
    "fig.cap": "Simulazione della relazione tra punteggio osservato e punteggio vero per 100 individui in base alle assunzioni della CTT.",
    "vscode": {
     "languageId": "r"
    }
   },
   "outputs": [],
   "source": [
    "tibble(X, T) %>%\n",
    "  ggplot(aes(X, T)) +\n",
    "  geom_point()"
   ]
  },
  {
   "attachments": {},
   "cell_type": "markdown",
   "id": "1dc070d7",
   "metadata": {},
   "source": [
    "Secondo la CTT, il valore atteso di $T$ è uguale al valore atteso di\n",
    "$X$. Verifichiamo questa assunzione nei nostri dati:"
   ]
  },
  {
   "cell_type": "code",
   "execution_count": null,
   "id": "beac009e",
   "metadata": {
    "vscode": {
     "languageId": "r"
    }
   },
   "outputs": [],
   "source": [
    "mean(T)\n",
    "mean(X)"
   ]
  },
  {
   "attachments": {},
   "cell_type": "markdown",
   "id": "d48d6019",
   "metadata": {},
   "source": [
    "L'errore deve avere media zero, varianza $\\sigma_E^2$ e deve essere\n",
    "incorrelato con $T$:"
   ]
  },
  {
   "cell_type": "code",
   "execution_count": null,
   "id": "1731dcb9",
   "metadata": {
    "vscode": {
     "languageId": "r"
    }
   },
   "outputs": [],
   "source": [
    "mean(E)\n",
    "var(E)\n",
    "cor(T, E)"
   ]
  },
  {
   "attachments": {},
   "cell_type": "markdown",
   "id": "d9487604",
   "metadata": {},
   "source": [
    "Ricordiamo che la radice quadrata della varianza degli errori è l'errore standard della misurazione, $\\sigma_E$. La quantità $\\sqrt{\\sigma_E^2}$ fornisce una misura della dispersione del punteggio osservato attorno al valore vero, nella condizione ipotetica di ripetute somministrazioni del test:"
   ]
  },
  {
   "cell_type": "code",
   "execution_count": null,
   "id": "fc9baf7c",
   "metadata": {
    "vscode": {
     "languageId": "r"
    }
   },
   "outputs": [],
   "source": [
    "sqrt(3)"
   ]
  },
  {
   "attachments": {},
   "cell_type": "markdown",
   "id": "6b001775",
   "metadata": {},
   "source": [
    "Dato che $T$ e $E$ sono incorrelati, ne segue che la varianza del punteggio osservato $X$ è uguale alla somma della varianza del punteggio vero $T$ e della varianza degli errori $E$:"
   ]
  },
  {
   "cell_type": "code",
   "execution_count": null,
   "id": "1e8fd942",
   "metadata": {
    "vscode": {
     "languageId": "r"
    }
   },
   "outputs": [],
   "source": [
    "var(X)\n",
    "var(T) + var(E)"
   ]
  },
  {
   "attachments": {},
   "cell_type": "markdown",
   "id": "2ed0a1b0",
   "metadata": {},
   "source": [
    "La varianza del punteggio vero $T$ è uguale alla covarianza tra il\n",
    "punteggio vero $T$ e il punteggio osservato $X$:"
   ]
  },
  {
   "cell_type": "code",
   "execution_count": null,
   "id": "db1226be",
   "metadata": {
    "vscode": {
     "languageId": "r"
    }
   },
   "outputs": [],
   "source": [
    "var(T)\n",
    "cov(T, X)"
   ]
  },
  {
   "attachments": {},
   "cell_type": "markdown",
   "id": "d4fe9d0f",
   "metadata": {},
   "source": [
    "La correlazione tra punteggio osservato e punteggio vero è uguale al rapporto tra la deviazione standard del punteggio vero e la deviazione standard del punteggio osservato:"
   ]
  },
  {
   "cell_type": "code",
   "execution_count": null,
   "id": "60d7b987",
   "metadata": {
    "vscode": {
     "languageId": "r"
    }
   },
   "outputs": [],
   "source": [
    "cor(X, T)\n",
    "sd(T) / sd(X)"
   ]
  },
  {
   "attachments": {},
   "cell_type": "markdown",
   "id": "b48ed5cb",
   "metadata": {},
   "source": [
    "Per la CTT, l'attendibilità è uguale al quadrato del coefficiente di correlazione tra il punteggio vero $T$ e il punteggio osservato $X$, ovvero:"
   ]
  },
  {
   "cell_type": "code",
   "execution_count": null,
   "id": "ef9985cc",
   "metadata": {
    "vscode": {
     "languageId": "r"
    }
   },
   "outputs": [],
   "source": [
    "cor(X, T)^2"
   ]
  },
  {
   "attachments": {},
   "cell_type": "markdown",
   "id": "b56ccc47",
   "metadata": {},
   "source": [
    "La motivazione di questa simulazione è quella di mettere in relazione il\n",
    "coefficiente di attendibilità, calcolato con la formula della CTT (come abbiamo fatto sopra), con il modello di regressione lineare. Analizziamo dunque i dati della\n",
    "simulazione mediante il seguente modello di regressione lineare:\n",
    "\n",
    "$$\n",
    "X = a + b T + E.\n",
    "$$\n",
    "\n",
    "Usando $\\textsf{R}$ otteniamo:"
   ]
  },
  {
   "cell_type": "code",
   "execution_count": null,
   "id": "0d0b87c8",
   "metadata": {
    "vscode": {
     "languageId": "r"
    }
   },
   "outputs": [],
   "source": [
    "fm <- lm(X ~ T)\n",
    "summary(fm)"
   ]
  },
  {
   "attachments": {},
   "cell_type": "markdown",
   "id": "5318ee4a",
   "metadata": {},
   "source": [
    "Si noti che la retta di regressione ha intercetta 0 e pendenza 1. Questo è coerente con l'assunzione $\\mathbb{E}(X) = \\mathbb{E}(T)$. Ma il risultato più importante di questa simulazione è che il coefficiente di determinazione ($R^2$ = 0.67) del modello di regressione $X = 0 + 1 \\times T + E$ è identico al coefficiente di attendibilità calcolato con la formula $\\rho_{XT}^2 = \\frac{\\sigma_{T}^2}{\\sigma_X^2}$:"
   ]
  },
  {
   "cell_type": "code",
   "execution_count": null,
   "id": "ff93bea6",
   "metadata": {
    "vscode": {
     "languageId": "r"
    }
   },
   "outputs": [],
   "source": [
    "var(T) / var(X)"
   ]
  },
  {
   "attachments": {},
   "cell_type": "markdown",
   "id": "9c88acc2",
   "metadata": {},
   "source": [
    "Ciò ci consente di interpretare il coefficiente di attendibilità nel modo\n",
    "seguente: l'attendibilità di un test non è altro che la quota di varianza del punteggio osservato $X$ che viene spiegata dalla regressione di $X$ sul punteggio vero $T$ in un modello di regressione lineare dove $\\alpha$ = 0 e $\\beta$ = 1.\n",
    "\n",
    "## Misurazioni parallele e affidabilità\n",
    "\n",
    "L'equazione $\\rho_{XT}^2 = \\frac{\\sigma_{T}^2}{\\sigma_X^2}$ definisce il\n",
    "coefficiente di attendibilità ma non ci fornisce gli strumenti per\n",
    "calcolarlo in pratica, dato che la varianza del punteggio vero $\\sigma_{T}^2$ è una\n",
    "quantità incognita. Il metodo utilizzato dalla CTT per ottenere una\n",
    "stima empirica dell'attendibilità è quello delle *forme parallele* del\n",
    "test: se è possibile elaborare versioni alternative dello stesso test\n",
    "che risultino equivalenti tra loro in termini di contenuto, modalità di\n",
    "risposta e caratteristiche statistiche, allora diventa anche possibile\n",
    "stimare il coefficiente di attendibilità.\n",
    "\n",
    "Secondo la CTT, due test $X=T+E$ e $X^\\prime=T^\\prime+E^\\prime$ si dicono misurazioni\n",
    "parallele della stessa abilità latente se \n",
    "\n",
    "- $T = T^\\prime$,\n",
    "- $\\mathbb{V}(E) = \\mathbb{V}(E^\\prime)$.\n",
    "\n",
    "Da tali assunzioni segue che $\\mathbb{E}(X) = \\mathbb{E}(X^\\prime)$.\n",
    "\n",
    "````{prf:proof}\n",
    "Dato che $\\mathbb{E}(X) = T$ e che $\\mathbb{E}(X^\\prime) = T$, è immediato vedere che $\\mathbb{E}(X) =\\mathbb{E}(X^\\prime)$ in quanto $\\mathbb{E}(E) = \\mathbb{E}(E^\\prime) = 0$.\n",
    "````\n",
    "\n",
    "In maniera corrispondente, anche le varianze dei punteggi osservati di due misurazioni parallele devono essere uguali, $\\mathbb{V}(X) = \\mathbb{V}(X^\\prime)$.\n",
    "\n",
    "````{prf:proof}\n",
    "Per $X$ abbiamo che $\\mathbb{V}(X) = \\mathbb{V}(T + E) = \\mathbb{V}(T) + \\mathbb{V}(E)$; per $X^\\prime$ abbiamo che $\\mathbb{V}(X^\\prime) = \\mathbb{V}(T^\\prime + E^\\prime) = \\mathbb{V}(T^\\prime) + \\mathbb{V}(E^\\prime)$. Dato che $\\mathbb{V}(E) = \\mathbb{V}(E^\\prime)$ e che $T = T^\\prime$, ne segue che $\\mathbb{V}(X) = \\mathbb{V}(X^\\prime)$.\n",
    "````\n",
    "\n",
    "Per costruzione, inoltre, gli errori $E$ e $E^\\prime$ devono essere incorrelati con $T$ e tra loro.\n",
    "\n",
    "### La correlazione tra due forme parallele del test\n",
    "\n",
    "Dimostriamo ora che, in base alle assunzioni della CTT, la correlazione tra  due forme parallele del test è uguale al rapporto tra la varianza del punteggio vero e la varianza del punteggio osservato. \n",
    "\n",
    "La dimostrazione è la seguente. Assumendo, senza perdita di generalità, che $\\mathbb{E}(X)=\\mathbb{E}(X')=\\mathbb{E}(T)=0$, possiamo scrivere \n",
    "\n",
    "$$\n",
    "\\begin{equation}\n",
    "\\begin{aligned}\n",
    "\\rho_{X X^\\prime} &= \\frac{\\sigma(X, X^\\prime)}{\\sigma(X) \\sigma(X^\\prime)}\\notag\\\\\n",
    "&= \\frac{\\mathbb{E}(XX^\\prime)}{\\sigma(X) \\sigma(X^\\prime)}\\notag\\\\\n",
    "&=\\frac{\\mathbb{E}[(T+E)(T+E^\\prime)]}{\\sigma(X) \\sigma(X^\\prime)}\\notag\\\\\n",
    "&=\\frac{\\mathbb{E}(T^2)+\\mathbb{E}(TE^\\prime)+\\mathbb{E}(TE)+ \\mathbb{E}(EE^\\prime)}{\\sigma(X) \\sigma(X^\\prime)}.\\notag\n",
    "\\end{aligned}\n",
    "\\end{equation}\n",
    "$$\n",
    "\n",
    "Ma $\\mathbb{E}(TE) = \\mathbb{E}(TE^\\prime) = \\mathbb{E}(EE^\\prime)=0$. Inoltre, $\\sigma(X) =\\sigma(X^\\prime)= \\sigma_X$. Dunque,\n",
    "\n",
    "$$\n",
    "\\begin{equation}\n",
    "\\rho_{X X^\\prime} =\\frac{\\mathbb{E}(T^2)}{\\sigma_X \\sigma_X} = \\frac{\\sigma^2_T}{\\sigma^2_X}.\n",
    "(\\#eq:3-3-5)\n",
    "\\end{equation}\n",
    "$$\n",
    "\n",
    "Si noti come la \\@ref(eq:3-3-5) e l'equazione che definisce il coefficiente di attendibilità, ovvero $\\rho_{XT}^2 = \\frac{\\sigma_{T}^2}{\\sigma_X^2}$, riportano tutte e due la stessa quantità a destra dell'uguale. Otteniamo così un importante risultato: il coefficiente di attendibilità, ovvero il quadrato del coefficiente di correlazione tra il punteggio osservato e il punteggio vero, è uguale alla correlazione tra il valore osservato di due misurazioni parallele: \n",
    "\n",
    "$$\n",
    "\\begin{equation}\n",
    "\\rho^2_{XT} =  \\rho_{XX^\\prime}.\n",
    "\\end{equation}\n",
    "$$(eq-rho2xt-rhoxx)\n",
    "\n",
    "Tale risultato è importante perché consente di esprimere la quantità inosservabile $\\rho^2_{XT}$ nei termini della quantità $\\rho_{XX^\\prime}$ che può essere calcolata sulla base dei punteggi osservati di due forme parallele del test. Quindi, la stima di $\\rho^2_{XT}$ si riduce alla stima di $\\rho^2_{XX^\\prime}$. Per questa ragione, la {}ref{eq-rho2xt-rhoxx} è forse la formula più importante della CTT. Inoltre, è importante notare che l'eq. {ref}`eq:rho2xt-rhoxx` fornisce la giustificazione per l'utilizzo della correlazione split-half come misura di attendibilità.\n",
    "\n",
    "### La correlazione tra punteggio osservato e punteggio vero\n",
    "\n",
    "Consideriamo ora la correlazione tra punteggio osservato e punteggio vero. La {ref}`eq-rho2xt-rhoxx` si può scrivere come\n",
    "\n",
    "$$\n",
    "\\rho_{XT} = \\sqrt{\\rho_{XX^\\prime}}.\n",
    "$$ \n",
    "\n",
    "In altri termini: la radice quadrata del coefficiente di attendibilità è uguale alla correlazione tra il punteggio osservato e il punteggio vero.\n",
    "\n",
    "### I fattori che influenzano l'attendibilità\n",
    "\n",
    "Considerando le tre equazioni\n",
    "\n",
    "$$\n",
    "\\rho^2_{XT} = \\rho_{XX'},\\quad\n",
    "\\rho_{XT}^2 = \\frac{\\sigma_{T}^2}{\\sigma_X^2}, \\quad\n",
    "\\rho_{XT}^2 = 1-\\frac{\\sigma_{E}^2}{\\sigma_X^2},\n",
    "$$ \n",
    "\n",
    "possiamo dire che ci sono tre modi equivalenti per concludere che l'attendibilità di un test è alta. La attendibilità di un test è considerata alta se si verificano le seguenti condizioni:\n",
    "\n",
    "- La correlazione tra le forme parallele del test è alta.\n",
    "- La varianza del punteggio vero è grande rispetto alla varianza del punteggio osservato.\n",
    "- La varianza dell'errore di misura è piccola rispetto alla varianza del punteggio osservato.\n",
    " \n",
    "Queste considerazioni sono importanti per la progettazione di un test. In particolare, l'equazione $\\rho^2_{XT} = \\rho_{XX'}$ fornisce un criterio per la selezione degli item da includere nel test. Se interpretiamo $\\rho_{XX'}$ come la correlazione tra due item, allora gli item che hanno la correlazione più alta tra di loro dovrebbero essere inclusi nel test. In questo modo, l'attendibilità del test aumenta perché gli item inclusi sono maggiormente correlati con il punteggio vero.\n",
    "\n",
    "## Conclusioni\n",
    "\n",
    "L'affidabilità è un concetto centrale nella teoria della misurazione poiché riguarda il grado di coerenza dei punteggi in diverse situazioni, come diversi insiemi di elementi, forme di test o momenti di somministrazione. I punteggi ottenuti da un test rappresentano un'istantanea del comportamento misurato in un insieme limitato di condizioni specifiche. Ad esempio, quando si interpreta un punteggio basato su 20 elementi di addizione, l'insegnante non è interessato solo alla capacità degli studenti di rispondere a quei 20 elementi specifici. Piuttosto, l'insegnante è solitamente interessato ai punteggi degli studenti perché forniscono un'indicazione del loro probabile rendimento su altri elementi simili. Se tali generalizzazioni non possono essere fatte, i punteggi hanno un'utilità limitata.\n",
    "\n",
    "In questo capitolo, abbiamo esaminato le basi teoriche dell'affidabilità, che sono radicate nella CTT. Il modello CTT è semplice ma potente, in quanto ipotizza che i punteggi osservati siano composti da un punteggio vero e un punteggio di errore. Il punteggio di errore rappresenta ciò che è attribuibile a processi casuali, come la fatica, la distrazione, errori di compilazione del foglio di risposta o confusione nell'interpretazione degli elementi del test. Sebbene tali processi possano influenzare le risposte di una persona in un particolare test, gli effetti sono casuali e non si ripeterebbero nello stesso modo in un nuovo test. Il punteggio vero è ipotizzato come la media dei punteggi che una persona otterrebbe se facesse il test più volte, con la memoria azzerata dopo ogni prova. Il punteggio vero è teoricamente costante nei test ripetuti. Poiché il punteggio osservato è la somma del punteggio vero e del punteggio di errore, le fluttuazioni nei punteggi osservati derivano dalle fluttuazioni nei punteggi di errore.\n",
    "\n",
    "In teoria, l'affidabilità è definita come la correlazione tra il punteggio vero e il punteggio osservato, oppure, equivalentemente, come uno meno la correlazione tra il punteggio di errore e il punteggio osservato. Tuttavia, il punteggio vero non è direttamente osservabile nella pratica. Per ottenere un coefficiente di affidabilità effettivo, è necessario ricorrere a metodi alternativi per stimare l'affidabilità. In questo capitolo, abbiamo esplorato come ciò può essere realizzato attraverso la correlazione dei punteggi su due test paralleli. I test paralleli sono quelli con medie dei punteggi veri e varianze dei punteggi veri, di errore e osservati uguali. Poiché le assunzioni per i test paralleli sono piuttosto rigorose, sono stati sviluppati altri metodi per valutare l'affidabilità, in cui queste assunzioni sono leggermente rilassate. "
   ]
  },
  {
   "attachments": {},
   "cell_type": "markdown",
   "id": "455bbb23",
   "metadata": {},
   "source": [
    "<!-- [^2]: Vedremo in seguito -->\n",
    "<!--     (§ [\\[ch:err_stnd_stima\\]](#ch:err_stnd_stima){reference-type=\"ref\" -->\n",
    "<!--     reference=\"ch:err_stnd_stima\"}) come il livello di abilità latente -->\n",
    "<!--     (il punteggio vero) possa essere stimato con la formula di Kelley -->\n",
    "<!--     (1923), ovvero $$\\begin{aligned} -->\n",
    "<!--     \\hat{T}_i &= \\rho_{XT} x_i + (1 - \\rho_{XT})\\mu_x\\notag\\\\ -->\n",
    "<!--     &= \\mu_x + \\rho_{XT} (x_i - \\mu_x),\\notag\\end{aligned}$$ dove -->\n",
    "<!--     $\\mu_x$ è la media dei punteggio osservato e $\\hat{T}_i$ è la stima -->\n",
    "<!--     del punteggio vero per l'$i$-esimo rispondente. -->\n",
    "\n",
    "<!-- [^3]:  -->"
   ]
  }
 ],
 "metadata": {
  "jupytext": {
   "cell_metadata_filter": "fig.cap,tags,-all",
   "main_language": "R",
   "notebook_metadata_filter": "-all"
  },
  "kernelspec": {
   "display_name": "R",
   "language": "R",
   "name": "ir"
  },
  "language_info": {
   "codemirror_mode": "r",
   "file_extension": ".r",
   "mimetype": "text/x-r-source",
   "name": "R",
   "pygments_lexer": "r",
   "version": "4.3.1"
  }
 },
 "nbformat": 4,
 "nbformat_minor": 5
}
