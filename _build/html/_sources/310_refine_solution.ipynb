{
 "cells": [
  {
   "attachments": {},
   "cell_type": "markdown",
   "id": "fe5a77a2",
   "metadata": {},
   "source": [
    "(model-revision-notebook)=\n",
    "# La revisione del modello "
   ]
  },
  {
   "cell_type": "code",
   "execution_count": 1,
   "id": "cb50573e",
   "metadata": {
    "tags": [
     "remove_cell"
    ],
    "vscode": {
     "languageId": "r"
    }
   },
   "outputs": [],
   "source": [
    "source(\"_common.R\")\n",
    "suppressPackageStartupMessages({\n",
    "    library(\"lavaan\")\n",
    "    library(\"effectsize\")\n",
    "})\n",
    "options(repr.plot.width=6, repr.plot.height=6)\n",
    "set.seed(42)"
   ]
  },
  {
   "attachments": {},
   "cell_type": "markdown",
   "id": "e7e0c702",
   "metadata": {},
   "source": [
    "{cite:t}`brown2015confirmatory` discute alcune possibili cause che possono essere responsabili della mancanza di adattamento del modello EFA o CFA ai dati. In particolare, vengono esaminate le seguenti possibili cause: \n",
    "\n",
    "- il ricercatore ha ipotizzato il numero sbagliato di fattori comuni latenti, \n",
    "- un item viene ipotizzato saturare su un solo fattore comune mentre satura su diversi fattori,\n",
    "- un item viene ipotizzato saturare sul fattore comune sbagliato, \n",
    "- è possibile che vi siano correlazioni residue che il modello non ha considerato.\n",
    "\n",
    "{cite:t}`brown2015confirmatory` mostra come il ricercatore possa usare i *Modification Indices* per valutare le cause del mancato adattamento del modello ai dati. I Modification Indices sono una misura utilizzata per identificare le covariate tra le variabili del modello che potrebbero migliorare l'aderenza del modello ai dati. I modification indices indicano quale sarebbe il miglioramento nell'aderenza del modello, ad esempio, se venisse permessa la correlazione tra due variabili che attualmente non sono considerate correlate. Ciò consente di identificare le relazioni nascoste tra le variabili e può aiutare a migliorare la precisione e l'accuratezza del modello.\n",
    "\n",
    "Tuttavia, è importante tenere presente che i modification indices da soli non dovrebbero essere usati per prendere decisioni definitive sulle modifiche del modello. Invece, dovrebbero essere considerati insieme ad altre informazioni, come la conoscenza teorica, l'esperienza e altre tecniche di analisi dei dati per determinare se una modifica del modello è giustificata e in che modo.\n",
    "\n",
    "## Un numero di fattori troppo piccolo\n",
    "\n",
    "Una delle possibili fonti di mancanza di adattamento del modello può dipendere dal fatto che è stato ipotizzato un numero insufficiente di fattori latenti comuni. {cite:t}`brown2015confirmatory` discute il caso nel quale si confrontano gli indici di bontà di adattamento di un modello ad un solo fattore comune e un modello a due fattori comuni. L'esempio riguarda i dati già in precedenza discussi e relativi relativi a otto misure di personalità raccolte su un campione di 250 pazienti che hanno concluso un programma di psicoterapia. Le scale sono le seguenti:\n",
    "\n",
    "- anxiety (N1), \n",
    "- hostility (N2), \n",
    "- depression (N3), \n",
    "- self-consciousness (N4), \n",
    "- warmth (E1), \n",
    "- gregariousness (E2), \n",
    "- assertiveness (E3), \n",
    "- positive emotions (E4). \n",
    "\n",
    "Leggiamo i dati in $\\mathsf{R}$."
   ]
  },
  {
   "cell_type": "code",
   "execution_count": 2,
   "id": "6a142e16",
   "metadata": {
    "vscode": {
     "languageId": "r"
    }
   },
   "outputs": [],
   "source": [
    "varnames <- c(\"N1\", \"N2\", \"N3\", \"N4\", \"E1\", \"E2\", \"E3\", \"E4\")\n",
    "\n",
    "sds <- c(5.7,  5.6,  6.4,  5.7,  6.0,  6.2,  5.7,  5.6)\n",
    "\n",
    "cors <- '\n",
    " 1.000\n",
    " 0.767  1.000 \n",
    " 0.731  0.709  1.000 \n",
    " 0.778  0.738  0.762  1.000 \n",
    "-0.351  -0.302  -0.356  -0.318  1.000 \n",
    "-0.316  -0.280  -0.300  -0.267  0.675  1.000 \n",
    "-0.296  -0.289  -0.297  -0.296  0.634  0.651  1.000 \n",
    "-0.282  -0.254  -0.292  -0.245  0.534  0.593  0.566  1.000'\n",
    "\n",
    "psychot_cor_mat <- getCov(cors, names = varnames)\n",
    "\n",
    "n <- 250"
   ]
  },
  {
   "attachments": {},
   "cell_type": "markdown",
   "id": "c286d961",
   "metadata": {},
   "source": [
    "Supponiamo di adattare ai dati il modello \"sbagliato\" che include un unico fattore comune.  Svolgiamo qui l'analisi *fattoriale esplorativa* usando la funzione sperimentale `efa()` di `lavaan`."
   ]
  },
  {
   "cell_type": "code",
   "execution_count": 3,
   "id": "9776261a",
   "metadata": {
    "vscode": {
     "languageId": "r"
    }
   },
   "outputs": [],
   "source": [
    "# 1-factor model\n",
    "f1 <- '\n",
    "  efa(\"efa\")*f1 =~ N1 + N2 + N3 + N4 + E1 + E2 + E3 + E4\n",
    "'"
   ]
  },
  {
   "attachments": {},
   "cell_type": "markdown",
   "id": "e6c08d7e",
   "metadata": {},
   "source": [
    " Adattiamo il modello ai dati."
   ]
  },
  {
   "cell_type": "code",
   "execution_count": 4,
   "id": "6a7b57c9",
   "metadata": {
    "vscode": {
     "languageId": "r"
    }
   },
   "outputs": [],
   "source": [
    "efa_f1 <-\n",
    "  cfa(\n",
    "    model = f1,\n",
    "    sample.cov = psychot_cor_mat,\n",
    "    sample.nobs = 250,\n",
    "    rotation = \"oblimin\"\n",
    "  )"
   ]
  },
  {
   "attachments": {},
   "cell_type": "markdown",
   "id": "5d93c5e9",
   "metadata": {},
   "source": [
    "Consideriamo ora un modello a due fattori."
   ]
  },
  {
   "cell_type": "code",
   "execution_count": 5,
   "id": "a20219ff",
   "metadata": {
    "vscode": {
     "languageId": "r"
    }
   },
   "outputs": [],
   "source": [
    "f2 <- '\n",
    "  efa(\"efa\")*f1 +\n",
    "  efa(\"efa\")*f2 =~ N1 + N2 + N3 + N4 + E1 + E2 + E3 + E4\n",
    "'"
   ]
  },
  {
   "attachments": {},
   "cell_type": "markdown",
   "id": "f789ccf8",
   "metadata": {},
   "source": [
    "Adattiamo il modello ai dati."
   ]
  },
  {
   "cell_type": "code",
   "execution_count": 6,
   "id": "045eb959",
   "metadata": {
    "vscode": {
     "languageId": "r"
    }
   },
   "outputs": [],
   "source": [
    "efa_f2 <-\n",
    "  cfa(\n",
    "    model = f2,\n",
    "    sample.cov = psychot_cor_mat,\n",
    "    sample.nobs = 250,\n",
    "    rotation = \"oblimin\"\n",
    "  )"
   ]
  },
  {
   "attachments": {},
   "cell_type": "markdown",
   "id": "193c6c49",
   "metadata": {},
   "source": [
    "Esaminiamo gli indici di bontà di adattamento."
   ]
  },
  {
   "cell_type": "code",
   "execution_count": 7,
   "id": "998b4117",
   "metadata": {
    "lines_to_next_cell": 2,
    "vscode": {
     "languageId": "r"
    }
   },
   "outputs": [
    {
     "data": {
      "text/html": [
       "<table class=\"dataframe\">\n",
       "<caption>A data.frame: 2 × 7</caption>\n",
       "<thead>\n",
       "\t<tr><th scope=col>chisq</th><th scope=col>df</th><th scope=col>pvalue</th><th scope=col>cfi</th><th scope=col>tli</th><th scope=col>rmsea</th><th scope=col>srmr</th></tr>\n",
       "\t<tr><th scope=col>&lt;dbl&gt;</th><th scope=col>&lt;int&gt;</th><th scope=col>&lt;chr&gt;</th><th scope=col>&lt;dbl&gt;</th><th scope=col>&lt;dbl&gt;</th><th scope=col>&lt;dbl&gt;</th><th scope=col>&lt;dbl&gt;</th></tr>\n",
       "</thead>\n",
       "<tbody>\n",
       "\t<tr><td>375</td><td>20</td><td><span style=white-space:pre-wrap>&lt; .001           </span></td><td>0.71</td><td>0.594</td><td>0.267</td><td>0.187</td></tr>\n",
       "\t<tr><td> 10</td><td>13</td><td>0.709310449320098</td><td>1.00</td><td>1.006</td><td>0.000</td><td>0.010</td></tr>\n",
       "</tbody>\n",
       "</table>\n"
      ],
      "text/latex": [
       "A data.frame: 2 × 7\n",
       "\\begin{tabular}{lllllll}\n",
       " chisq & df & pvalue & cfi & tli & rmsea & srmr\\\\\n",
       " <dbl> & <int> & <chr> & <dbl> & <dbl> & <dbl> & <dbl>\\\\\n",
       "\\hline\n",
       "\t 375 & 20 & < .001            & 0.71 & 0.594 & 0.267 & 0.187\\\\\n",
       "\t  10 & 13 & 0.709310449320098 & 1.00 & 1.006 & 0.000 & 0.010\\\\\n",
       "\\end{tabular}\n"
      ],
      "text/markdown": [
       "\n",
       "A data.frame: 2 × 7\n",
       "\n",
       "| chisq &lt;dbl&gt; | df &lt;int&gt; | pvalue &lt;chr&gt; | cfi &lt;dbl&gt; | tli &lt;dbl&gt; | rmsea &lt;dbl&gt; | srmr &lt;dbl&gt; |\n",
       "|---|---|---|---|---|---|---|\n",
       "| 375 | 20 | &lt; .001            | 0.71 | 0.594 | 0.267 | 0.187 |\n",
       "|  10 | 13 | 0.709310449320098 | 1.00 | 1.006 | 0.000 | 0.010 |\n",
       "\n"
      ],
      "text/plain": [
       "  chisq df pvalue            cfi  tli   rmsea srmr \n",
       "1 375   20 < .001            0.71 0.594 0.267 0.187\n",
       "2  10   13 0.709310449320098 1.00 1.006 0.000 0.010"
      ]
     },
     "metadata": {},
     "output_type": "display_data"
    }
   ],
   "source": [
    "# define the fit measures\n",
    "fit_measures_robust <- c(\"chisq\", \"df\", \"pvalue\", \"cfi\", \"tli\", \"rmsea\", \"srmr\")\n",
    "\n",
    "# collect them for each model\n",
    "rbind(\n",
    "  fitmeasures(efa_f1, fit_measures_robust),\n",
    "  fitmeasures(efa_f2, fit_measures_robust)\n",
    ") %>%\n",
    "  # wrangle\n",
    "  data.frame() %>%\n",
    "  mutate(\n",
    "    chisq = round(chisq, digits = 0),\n",
    "    df = as.integer(df),\n",
    "    pvalue = ifelse(pvalue == 0, \"< .001\", pvalue)\n",
    "  ) %>%\n",
    "  mutate_at(vars(cfi:srmr), ~ round(., digits = 3))"
   ]
  },
  {
   "cell_type": "code",
   "execution_count": 10,
   "id": "05812cf9",
   "metadata": {
    "vscode": {
     "languageId": "r"
    }
   },
   "outputs": [
    {
     "name": "stdout",
     "output_type": "stream",
     "text": [
      "    Name     Value Threshold Interpretation\n",
      "1    GFI 0.6713421      0.95           poor\n",
      "2   AGFI 0.4084158      0.90           poor\n",
      "3    NFI 0.7006460      0.90           poor\n",
      "4   NNFI 0.5941736      0.90           poor\n",
      "5    CFI 0.7101240      0.90           poor\n",
      "6  RMSEA 0.2665811      0.05           poor\n",
      "7   SRMR 0.1873289      0.08           poor\n",
      "8    RFI 0.5809044      0.90           poor\n",
      "9   PNFI 0.5004614      0.50   satisfactory\n",
      "10   IFI 0.7120036      0.90           poor\n"
     ]
    }
   ],
   "source": [
    "print(effectsize::interpret(efa_f1))"
   ]
  },
  {
   "cell_type": "code",
   "execution_count": null,
   "id": "510e9730",
   "metadata": {
    "vscode": {
     "languageId": "r"
    }
   },
   "outputs": [],
   "source": [
    "print(effectsize::interpret(efa_f2))"
   ]
  },
  {
   "attachments": {},
   "cell_type": "markdown",
   "id": "3aa2814a",
   "metadata": {},
   "source": [
    "I risultati mostrano come, in un modello EFA, una soluzione a due fattori produca un adattamento adeguato, mentre ciò non si verifica con un modello ad un solo fattore."
   ]
  },
  {
   "attachments": {},
   "cell_type": "markdown",
   "id": "82acad08",
   "metadata": {},
   "source": [
    "## Specificazione errata delle relazioni tra indicatori e fattori latenti\n",
    "\n",
    "Un'altra potenziale fonte di errata specificazione del modello CFA è una designazione errata delle relazioni tra indicatori e fattori latenti.\n",
    "\n",
    "In questo esempio, un ricercatore ha sviluppato un questionario di 12 item (gli item sono valutati su scale da 0 a 8) progettato per valutare le motivazioni dei giovani adulti a consumare bevande alcoliche (Cooper, 1994). La misura aveva lo scopo di valutare tre aspetti di questo costrutto (4 item ciascuno): (1) motivazioni di coping (item 1–4), (2) motivazioni sociali (item 5–8) e (3) motivazioni di miglioramento (item 9 –12). I dati sono i seguenti."
   ]
  },
  {
   "cell_type": "code",
   "execution_count": null,
   "id": "14d6a1ea",
   "metadata": {
    "vscode": {
     "languageId": "r"
    }
   },
   "outputs": [],
   "source": [
    "sds <- c(2.06, 1.52, 1.92, 1.41, 1.73, 1.77, 2.49, 2.27, 2.68, 1.75, 2.57, 2.66)\n",
    "\n",
    "cors <- '\n",
    "  1.000 \n",
    "  0.300  1.000 \n",
    "  0.229  0.261  1.000 \n",
    "  0.411  0.406  0.429  1.000 \n",
    "  0.172  0.252  0.218  0.481  1.000 \n",
    "  0.214  0.268  0.267  0.579  0.484  1.000 \n",
    "  0.200  0.214  0.241  0.543  0.426  0.492  1.000 \n",
    "  0.185  0.230  0.185  0.545  0.463  0.548  0.522  1.000 \n",
    "  0.134  0.146  0.108  0.186  0.122  0.131  0.108  0.151  1.000 \n",
    "  0.134  0.099  0.061  0.223  0.133  0.188  0.105  0.170  0.448  1.000 \n",
    "  0.160  0.131  0.158  0.161  0.044  0.124  0.066  0.061  0.370  0.350  1.000 \n",
    "  0.087  0.088  0.101  0.198  0.077  0.177  0.128  0.112  0.356  0.359  0.507  1.000'\n",
    "\n",
    "covs <- getCov(cors, sds = sds, names = paste(\"x\", 1:12, sep = \"\"))"
   ]
  },
  {
   "attachments": {},
   "cell_type": "markdown",
   "id": "0d62fe27",
   "metadata": {},
   "source": [
    "Iniziamo con un modello che ipotizza tre fattori comuni latenti correlati, coerentemente con la motivazione che stava alla base della costruzione dello strumento."
   ]
  },
  {
   "cell_type": "code",
   "execution_count": null,
   "id": "6315929f",
   "metadata": {
    "vscode": {
     "languageId": "r"
    }
   },
   "outputs": [],
   "source": [
    "model1 <- '\n",
    "  copingm  =~ x1 + x2 + x3 + x4\n",
    "  socialm  =~ x5 + x6 + x7 + x8\n",
    "  enhancem =~ x9 + x10 + x11 + x12\n",
    "'"
   ]
  },
  {
   "attachments": {},
   "cell_type": "markdown",
   "id": "b2e929d3",
   "metadata": {},
   "source": [
    "Adattiamo il modello ai dati."
   ]
  },
  {
   "cell_type": "code",
   "execution_count": null,
   "id": "a031da6e",
   "metadata": {
    "vscode": {
     "languageId": "r"
    }
   },
   "outputs": [],
   "source": [
    "fit1 <- cfa(\n",
    "  model1, \n",
    "  sample.cov = covs, \n",
    "  sample.nobs = 500, \n",
    "  mimic = \"mplus\"\n",
    ")"
   ]
  },
  {
   "attachments": {},
   "cell_type": "markdown",
   "id": "3a3f753a",
   "metadata": {},
   "source": [
    "Esaminando le misure di adattamento potremmo concludere che il modello è adeguato."
   ]
  },
  {
   "cell_type": "code",
   "execution_count": null,
   "id": "639bdcfe",
   "metadata": {
    "vscode": {
     "languageId": "r"
    }
   },
   "outputs": [],
   "source": [
    "print(effectsize::interpret(fit1))"
   ]
  },
  {
   "attachments": {},
   "cell_type": "markdown",
   "id": "5e247c38",
   "metadata": {},
   "source": [
    "Tuttavia, un esame più attento mette in evidenza un comportamento anomalo dell'item `x4` e alcune caratteristiche anomale del modello in generale."
   ]
  },
  {
   "cell_type": "code",
   "execution_count": 9,
   "id": "b7782fea",
   "metadata": {
    "vscode": {
     "languageId": "r"
    }
   },
   "outputs": [
    {
     "ename": "ERROR",
     "evalue": "Error in eval(expr, envir, enclos): object 'fit1' not found\n",
     "output_type": "error",
     "traceback": [
      "Error in eval(expr, envir, enclos): object 'fit1' not found\nTraceback:\n",
      "1. standardizedSolution(fit1)"
     ]
    }
   ],
   "source": [
    "print(standardizedSolution(fit1))"
   ]
  },
  {
   "attachments": {},
   "cell_type": "markdown",
   "id": "ff3c959f",
   "metadata": {},
   "source": [
    "In particolare, l'item `x4` mostra una saturazione molto forte sul fattore Motivi di coping (.955) ed emerge una correlazione molto alta tra i fattori Motivi di coping e Motivi sociali (.798).\n",
    "\n",
    "{cite:t}`brown2015confirmatory` suggerisce di esaminare i *Modification Indices*. Tale esame mostra che il MI associato a `x4` è molto alto, 18.916."
   ]
  },
  {
   "cell_type": "code",
   "execution_count": null,
   "id": "5b263e23",
   "metadata": {
    "vscode": {
     "languageId": "r"
    }
   },
   "outputs": [],
   "source": [
    "print(modindices(fit1))"
   ]
  },
  {
   "attachments": {},
   "cell_type": "markdown",
   "id": "e2c1efc3",
   "metadata": {},
   "source": [
    "Le considerazioni precedenti, dunque, suggeriscono che il modello potrebbe non avere descritto in maniera adeguata le relazioni tra `x4` e i fattori comuni latenti.  In base a considerazioni teoriche, supponiamo che abbia senso pensare che `x4` saturi non solo sul fattore Motivi di coping ma anche sul fattore di Motivi Sociali. Specifichiamo dunque un nuovo modello nel modo seguente."
   ]
  },
  {
   "cell_type": "code",
   "execution_count": null,
   "id": "f847670b",
   "metadata": {
    "vscode": {
     "languageId": "r"
    }
   },
   "outputs": [],
   "source": [
    "model2 <- '\n",
    "  copingm  =~ x1 + x2 + x3 + x4\n",
    "  socialm  =~ x4 + x5 + x6 + x7 + x8\n",
    "  enhancem =~ x9 + x10 + x11 + x12\n",
    "'"
   ]
  },
  {
   "attachments": {},
   "cell_type": "markdown",
   "id": "49f7785d",
   "metadata": {},
   "source": [
    "Adattiamo il modello."
   ]
  },
  {
   "cell_type": "code",
   "execution_count": null,
   "id": "e6f003d0",
   "metadata": {
    "vscode": {
     "languageId": "r"
    }
   },
   "outputs": [],
   "source": [
    "fit2 <- cfa(\n",
    "  model2, \n",
    "  sample.cov = covs, \n",
    "  sample.nobs = 500, \n",
    "  mimic = \"mplus\"\n",
    ")"
   ]
  },
  {
   "attachments": {},
   "cell_type": "markdown",
   "id": "50a7a3ae",
   "metadata": {},
   "source": [
    "Esaminiamo gli indici di bontà di adattamento."
   ]
  },
  {
   "cell_type": "code",
   "execution_count": null,
   "id": "e066077f",
   "metadata": {
    "vscode": {
     "languageId": "r"
    }
   },
   "outputs": [],
   "source": [
    "print(effectsize::interpret(fit2))"
   ]
  },
  {
   "attachments": {},
   "cell_type": "markdown",
   "id": "b2543208",
   "metadata": {},
   "source": [
    "La bontà di adattamento è migliorata.\n",
    "\n",
    "Esaminiamo la soluzione standardizzata. Vediamo ora che sono scomparse le due anomalie trovate in precedenza."
   ]
  },
  {
   "cell_type": "code",
   "execution_count": null,
   "id": "11348752",
   "metadata": {
    "vscode": {
     "languageId": "r"
    }
   },
   "outputs": [],
   "source": [
    "print(standardizedSolution(fit2))"
   ]
  },
  {
   "attachments": {},
   "cell_type": "markdown",
   "id": "bd49aee0",
   "metadata": {},
   "source": [
    "Esaminando i MI, notiamo che il modello potrebbe migliorare se introduciamo una correlazione tra le specificità `x11` e `x12`."
   ]
  },
  {
   "cell_type": "code",
   "execution_count": null,
   "id": "e9e08a4d",
   "metadata": {
    "vscode": {
     "languageId": "r"
    }
   },
   "outputs": [],
   "source": [
    "print(modindices(fit2))"
   ]
  },
  {
   "attachments": {},
   "cell_type": "markdown",
   "id": "accbe95c",
   "metadata": {},
   "source": [
    "Il nuovo modello diventa dunque il seguente."
   ]
  },
  {
   "cell_type": "code",
   "execution_count": null,
   "id": "5c824e5b",
   "metadata": {
    "vscode": {
     "languageId": "r"
    }
   },
   "outputs": [],
   "source": [
    "model3 <- '\n",
    "  copingm  =~ x1 + x2 + x3 + x4\n",
    "  socialm  =~ x4 + x5 + x6 + x7 + x8\n",
    "  enhancem =~ x9 + x10 + x11 + x12\n",
    "  x11 ~~ x12\n",
    "'"
   ]
  },
  {
   "attachments": {},
   "cell_type": "markdown",
   "id": "68cf8893",
   "metadata": {},
   "source": [
    "Adattiamo il modello."
   ]
  },
  {
   "cell_type": "code",
   "execution_count": null,
   "id": "1bfdfb3b",
   "metadata": {
    "vscode": {
     "languageId": "r"
    }
   },
   "outputs": [],
   "source": [
    "fit3 <- cfa(\n",
    "  model3, \n",
    "  sample.cov = covs, \n",
    "  sample.nobs = 500, \n",
    "  mimic = \"mplus\"\n",
    ")"
   ]
  },
  {
   "attachments": {},
   "cell_type": "markdown",
   "id": "9bf58380",
   "metadata": {},
   "source": [
    "Un test basato sul rapporto di verosimiglianze conferma che il miglioramento di adattamento è sostanziale."
   ]
  },
  {
   "cell_type": "code",
   "execution_count": null,
   "id": "ed86ac3c",
   "metadata": {
    "vscode": {
     "languageId": "r"
    }
   },
   "outputs": [],
   "source": [
    "print(lavTestLRT(fit2, fit3))"
   ]
  },
  {
   "attachments": {},
   "cell_type": "markdown",
   "id": "1714511d",
   "metadata": {},
   "source": [
    "Esaminiamo gli indici di bontà di adattamento."
   ]
  },
  {
   "cell_type": "code",
   "execution_count": null,
   "id": "2bb610ec",
   "metadata": {
    "vscode": {
     "languageId": "r"
    }
   },
   "outputs": [],
   "source": [
    "print(summary(fit3, fit.measures = TRUE))"
   ]
  },
  {
   "attachments": {},
   "cell_type": "markdown",
   "id": "99eeeefe",
   "metadata": {},
   "source": [
    "Gli indici di fit sono migliorati.\n",
    "\n",
    "Esaminiamo la soluzione standardizzata."
   ]
  },
  {
   "cell_type": "code",
   "execution_count": null,
   "id": "c9577e42",
   "metadata": {
    "vscode": {
     "languageId": "r"
    }
   },
   "outputs": [],
   "source": [
    "print(standardizedSolution(fit3))"
   ]
  },
  {
   "attachments": {},
   "cell_type": "markdown",
   "id": "df98dc03",
   "metadata": {},
   "source": [
    "Non ci sono ulteriori motivi di preoccupazione.  {cite:t}`brown2015confirmatory` conclude che il modello più adeguato sia `model3`. \n",
    "\n",
    "Nel caso presente, a mio parare, l'introduzione della correlazione residua tra `x11` e `x12` si sarebbe anche potuta evitare, dato che il modello `model3` (con meno idiosincrasie legate al campione) si era già dimostrato adeguato.\n",
    "\n",
    "## Saturazione sul fattore sbagliato\n",
    "\n",
    "{cite:t}`brown2015confirmatory` considera anche il caso opposto, ovvero quello nel quale il ricercatore ipotizza una saturazione spuria. Per i dati in discussione, si può avere la situazione presente."
   ]
  },
  {
   "cell_type": "code",
   "execution_count": null,
   "id": "c4b1cb6e",
   "metadata": {
    "vscode": {
     "languageId": "r"
    }
   },
   "outputs": [],
   "source": [
    "model4 <- '\n",
    "  copingm  =~ x1 + x2 + x3 + x4\n",
    "  socialm  =~ x4 +x5 + x6 + x7 + x8 + x12\n",
    "  enhancem =~ x9 + x10 + x11\n",
    "'"
   ]
  },
  {
   "attachments": {},
   "cell_type": "markdown",
   "id": "7565a2e5",
   "metadata": {},
   "source": [
    "Adattiamo il modello ai dati."
   ]
  },
  {
   "cell_type": "code",
   "execution_count": null,
   "id": "010de4b1",
   "metadata": {
    "vscode": {
     "languageId": "r"
    }
   },
   "outputs": [],
   "source": [
    "fit4 <- cfa(\n",
    "  model4, \n",
    "  sample.cov = covs, \n",
    "  sample.nobs = 500, \n",
    "  mimic = \"mplus\"\n",
    ")"
   ]
  },
  {
   "attachments": {},
   "cell_type": "markdown",
   "id": "6f0e6cb0",
   "metadata": {},
   "source": [
    "Esaminiamo la soluzione ottenuta."
   ]
  },
  {
   "cell_type": "code",
   "execution_count": null,
   "id": "a96b4df8",
   "metadata": {
    "vscode": {
     "languageId": "r"
    }
   },
   "outputs": [],
   "source": [
    "print(summary(fit4, fit.measures = TRUE))"
   ]
  },
  {
   "attachments": {},
   "cell_type": "markdown",
   "id": "ae10aafe",
   "metadata": {},
   "source": [
    "È chiaro che il modello `model4` è inadeguato. Il problema emerge chiaramente anche esaminando i MI."
   ]
  },
  {
   "cell_type": "code",
   "execution_count": null,
   "id": "68e8d86e",
   "metadata": {
    "vscode": {
     "languageId": "r"
    }
   },
   "outputs": [],
   "source": [
    "print(modindices(fit4))"
   ]
  },
  {
   "attachments": {},
   "cell_type": "markdown",
   "id": "7dc22bf1",
   "metadata": {},
   "source": [
    "Il MI relativo alla saturazione di `x12` su `enhancem` è uguale a 116.781. Chiaramente, in una revisione del modello, questo problema dovrebbe deve essere affrontato.\n",
    "\n",
    "## Commenti e considerazioni finali\n",
    "\n",
    "Gli esempi discussi da {cite:t}`brown2015confirmatory` mostrano come l'uso dei MI, insieme all'esame della soluzione fattoriale, possano essere usati dallo psicologo per migliorare il modello che viene proposto.\n"
   ]
  }
 ],
 "metadata": {
  "jupytext": {
   "cell_metadata_filter": "tags,-all",
   "main_language": "R",
   "notebook_metadata_filter": "-all"
  },
  "kernelspec": {
   "display_name": "R",
   "language": "R",
   "name": "ir"
  },
  "language_info": {
   "codemirror_mode": "r",
   "file_extension": ".r",
   "mimetype": "text/x-r-source",
   "name": "R",
   "pygments_lexer": "r",
   "version": "4.3.0"
  }
 },
 "nbformat": 4,
 "nbformat_minor": 5
}
