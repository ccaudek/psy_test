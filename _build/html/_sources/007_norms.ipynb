{
 "cells": [
  {
   "cell_type": "markdown",
   "metadata": {},
   "source": [
    "(norms-notebook)=\n",
    "# Tipi di Punteggi Normativi"
   ]
  },
  {
   "cell_type": "markdown",
   "metadata": {},
   "source": [
    "I punteggi normativi vengono utilizzati nelle valutazioni educative e psicologiche per confrontare le prestazioni di un individuo rispetto a un campione normativo della popolazione. Forniscono informazioni preziose su come le prestazioni di un individuo si confrontino con quelle degli altri del gruppo. Questo capitolo discuterà vari tipi di punteggi normativi, inclusi i Punteggi Percentili, i Punteggi Standardizzati e Normalizzati, gli Stanini, gli Equivalenti alla Curva Normale e i Punteggi di Livello di Sviluppo. Forniremo anche esempi in R per illustrare ciascun tipo.\n",
    "\n"
   ]
  },
  {
   "cell_type": "code",
   "execution_count": 1,
   "metadata": {
    "vscode": {
     "languageId": "r"
    }
   },
   "outputs": [],
   "source": [
    "source(\"_common.R\")\n",
    "suppressPackageStartupMessages({\n",
    "    library(\"lavaanPlot\")\n",
    "    library(\"lavaanExtra\")\n",
    "})"
   ]
  },
  {
   "cell_type": "markdown",
   "metadata": {},
   "source": [
    "## Punteggi normati di riferimento\n",
    "\n",
    "### Punteggi Percentili\n",
    "\n",
    "I punteggi percentili indicano la percentuale di persone nel campione normativo che ha ottenuto un punteggio uguale o inferiore a quello di un individuo specifico. Ad esempio, se il punteggio percentili di uno studente è 75, significa che ha ottenuto un punteggio migliore del 75% delle persone nel gruppo di riferimento.\n",
    "Esempio in R:"
   ]
  },
  {
   "cell_type": "code",
   "execution_count": 2,
   "metadata": {
    "vscode": {
     "languageId": "r"
    }
   },
   "outputs": [
    {
     "name": "stdout",
     "output_type": "stream",
     "text": [
      "[1] \"Punteggio Percentile: 83\"\n"
     ]
    }
   ],
   "source": [
    "# Generazione di un campione casuale di punteggi\n",
    "set.seed(123)\n",
    "campione_normativo <- rnorm(100, mean = 75, sd = 10)\n",
    "\n",
    "# Calcolo del punteggio percentile per un punteggio specifico\n",
    "punteggio_individuale <- 85\n",
    "punteggio_percentile <- sum(campione_normativo <= punteggio_individuale) / length(campione_normativo) * 100\n",
    "print(paste(\"Punteggio Percentile:\", punteggio_percentile))"
   ]
  },
  {
   "cell_type": "markdown",
   "metadata": {},
   "source": [
    "### Punteggi Standardizzati e Normalizzati\n",
    "\n",
    "I punteggi standardizzati trasformano i punteggi grezzi in una scala comune con una media di 100 e una deviazione standard di 15 (o altri valori specificati). I punteggi normalizzati seguono un processo simile, ma con una media di 50 e una deviazione standard di 10. Questi punteggi consentono un confronto facile delle prestazioni tra diversi test.\n",
    "\n",
    "Esempio in R:"
   ]
  },
  {
   "cell_type": "code",
   "execution_count": 3,
   "metadata": {
    "vscode": {
     "languageId": "r"
    }
   },
   "outputs": [
    {
     "name": "stdout",
     "output_type": "stream",
     "text": [
      "[1] \"Punteggi Standardizzati:\"\n",
      "  [1]  78.07281 107.50628 110.18858  77.39331  87.49556  93.34087 108.53768\n",
      "  [8] 101.94656 113.28091 106.77931  84.47847 117.82998 113.00196 122.96443\n",
      " [15]  76.61583 127.35898 124.20760 103.99738 132.34136 121.22647  91.08625\n",
      " [22]  72.47475  76.82513 101.31287  97.65749 115.18193  91.26220  93.27612\n",
      " [29] 120.42756  81.87902  90.27466  89.30120  68.25723 102.62957 100.74959\n",
      " [36] 125.38650  88.30061  96.09370  91.84443  97.61407  97.76075 104.08056\n",
      " [43]  94.45583  99.44400 129.32868 100.00415  99.96368 109.72699  80.59066\n",
      " [50] 104.32021  88.23549  94.35233 108.36005 111.62588 107.45508 109.14889\n",
      " [57]  92.00625 121.52495 106.30701 106.83795  64.42631  83.48628  95.19037\n",
      " [64] 111.61219  97.54204 122.86528 121.60711  76.75701  90.03803  86.64344\n",
      " [71]  95.64836  97.58372  72.42635 119.82200  97.89445 102.24136  96.50283\n",
      " [78]  85.39088  82.71227 101.51940  82.02723  91.58392 128.45644  99.28534\n",
      " [85] 108.80987 110.93194  75.93602 111.98061 100.41566  94.64672  91.10673\n",
      " [92]  88.17177 118.54031 119.35491  87.21974  96.98780 110.32819 105.72125\n",
      " [99] 115.02824  95.62901\n",
      "[1] \"Punteggi Normalizzati:\"\n",
      "  [1] 35.38188 55.00419 56.79239 34.92887 41.66371 45.56058 55.69179 51.29770\n",
      "  [9] 58.85394 54.51954 39.65231 61.88666 58.66797 65.30962 34.41055 68.23932\n",
      " [17] 66.13840 52.66492 71.56091 64.15098 44.05750 31.64983 34.55009 50.87524\n",
      " [25] 48.43833 60.12129 44.17480 45.51741 63.61837 37.91935 43.51644 42.86747\n",
      " [33] 28.83816 51.75304 50.49972 66.92433 42.20041 47.39580 44.56295 48.40938\n",
      " [41] 48.50716 52.72038 46.30389 49.62933 69.55245 50.00277 49.97578 56.48466\n",
      " [49] 37.06044 52.88014 42.15700 46.23489 55.57337 57.75059 54.97005 56.09926\n",
      " [57] 44.67083 64.34996 54.20467 54.55863 26.28421 38.99085 46.79358 57.74146\n",
      " [65] 48.36136 65.24352 64.40474 34.50468 43.35869 41.09563 47.09890 48.38915\n",
      " [73] 31.61757 63.21467 48.59630 51.49424 47.66856 40.26059 38.47485 51.01294\n",
      " [81] 38.01815 44.38928 68.97096 49.52356 55.87325 57.28796 33.95734 57.98707\n",
      " [89] 50.27711 46.43115 44.07115 42.11451 62.36021 62.90327 41.47983 47.99187\n",
      " [97] 56.88546 53.81417 60.01883 47.08601\n"
     ]
    }
   ],
   "source": [
    "# Generazione di un campione casuale di punteggi grezzi\n",
    "set.seed(456)\n",
    "punteggi_grezzi <- rnorm(100, mean = 75, sd = 10)\n",
    "\n",
    "# Calcolo dei punteggi standardizzati\n",
    "punteggi_standardizzati <- (punteggi_grezzi - mean(punteggi_grezzi)) / sd(punteggi_grezzi) * 15 + 100\n",
    "\n",
    "# Calcolo dei punteggi normalizzati\n",
    "punteggi_normalizzati <- (punteggi_grezzi - mean(punteggi_grezzi)) / sd(punteggi_grezzi) * 10 + 50\n",
    "\n",
    "print(\"Punteggi Standardizzati:\")\n",
    "print(punteggi_standardizzati)\n",
    "print(\"Punteggi Normalizzati:\")\n",
    "print(punteggi_normalizzati)"
   ]
  },
  {
   "cell_type": "markdown",
   "metadata": {},
   "source": [
    "### Stanini\n",
    "\n",
    "Gli Stanini sono un tipo di punteggio standardizzato che viene suddiviso in nove intervalli, ciascuno dei quali rappresenta un range di punteggi. Essi vengono spesso utilizzati per semplificare la comprensione dei risultati, suddividendo i punteggi in categorie chiare.\n",
    "\n",
    "Esempio in R:"
   ]
  },
  {
   "cell_type": "code",
   "execution_count": 4,
   "metadata": {
    "vscode": {
     "languageId": "r"
    }
   },
   "outputs": [
    {
     "name": "stdout",
     "output_type": "stream",
     "text": [
      "[1] \"Stanini:\"\n",
      "  [1] 5 2 4 4 4 4 3 4 3 5 4 3 4 4 5 3 4 3 4 3 3 5 3 4 3 3 4 4 5 4 4 3 5 5 3 3 3\n",
      " [38] 4 3 5 4 6 6 5 5 5 1 4 5 5 4 2 5 4 3 5 5 3 5 5 4 5 4 6 4 4 3 4 3 5 5 5 5 4\n",
      " [75] 3 4 6 5 4 2 6 4 3 4 3 4 4 4 3 5 4 5 3 3 1 5 4 3 4 5\n",
      "Levels: 1 2 3 4 5 6 7 8 9\n"
     ]
    }
   ],
   "source": [
    "# Generazione di un campione casuale di punteggi grezzi\n",
    "set.seed(789)\n",
    "punteggi_grezzi <- rnorm(100, mean = 75, sd = 10)\n",
    "\n",
    "# Calcolo degli stanini\n",
    "stanini <- cut(punteggi_grezzi, breaks = c(-Inf, 50, 60, 70, 80, 90, 100, 110, 120, Inf), labels = 1:9)\n",
    "\n",
    "print(\"Stanini:\")\n",
    "print(stanini)"
   ]
  },
  {
   "cell_type": "markdown",
   "metadata": {},
   "source": [
    "### Equivalenti alla Curva Normale\n",
    "\n",
    "Gli Equivalenti alla Curva Normale sono punteggi standardizzati in modo da avere una distribuzione approssimativamente simile a una curva normale standard con media 50 e deviazione standard 10. Questi punteggi permettono di confrontare le prestazioni su diverse misure in modo più diretto.\n",
    "\n",
    "Esempio in R:"
   ]
  },
  {
   "cell_type": "code",
   "execution_count": 5,
   "metadata": {
    "vscode": {
     "languageId": "r"
    }
   },
   "outputs": [
    {
     "name": "stdout",
     "output_type": "stream",
     "text": [
      "[1] \"Equivalenti alla Curva Normale:\"\n",
      "  [1] 49.23432 52.58610 58.78187 47.86768 61.10065 40.65784 40.03046 41.04632\n",
      "  [9] 38.41045 36.60949 57.58493 40.83756 67.84258 49.71944 45.22285 48.60185\n",
      " [17] 45.14999 37.69224 45.15213 60.22051 66.59590 40.88205 33.90612 56.96134\n",
      " [25] 50.54990 38.31900 55.69330 45.60206 34.54022 46.28866 49.28871 58.83458\n",
      " [33] 69.09078 69.10773 55.86304 56.40678 46.30793 61.81849 63.02297 40.93883\n",
      " [41] 54.78283 67.28434 36.83811 40.80555 65.44788 52.22871 47.96095 65.27896\n",
      " [49] 46.91652 63.40748 65.84170 48.12899 32.48802 38.95338 51.54337 57.62650\n",
      " [57] 58.68974 58.85032 61.03822 53.87633 69.13571 57.45495 48.44132 32.50990\n",
      " [65] 37.70629 48.10947 53.78002 47.00915 56.17157 39.04596 38.31345 34.53977\n",
      " [73] 56.97385 60.49142 36.51593 55.37485 35.52521 55.42318 48.42671 51.10229\n",
      " [81] 47.35498 59.81189 50.94865 47.84008 44.35410 64.00322 39.94652 45.78238\n",
      " [89] 29.76431 68.20289 53.34665 52.21863 47.04204 50.51278 38.93734 52.24076\n",
      " [97] 37.67424 42.13148 47.66446 45.81603\n"
     ]
    }
   ],
   "source": [
    "# Generazione di un campione casuale di punteggi grezzi\n",
    "set.seed(987)\n",
    "punteggi_grezzi <- rnorm(100, mean = 75, sd = 10)\n",
    "\n",
    "# Calcolo degli equivalenti alla curva normale\n",
    "equivalenti_curva_normale <- (punteggi_grezzi - mean(punteggi_grezzi)) / sd(punteggi_grezzi) * 10 + 50\n",
    "\n",
    "print(\"Equivalenti alla Curva Normale:\")\n",
    "print(equivalenti_curva_normale)"
   ]
  },
  {
   "cell_type": "markdown",
   "metadata": {},
   "source": [
    "### Punteggi di Livello di Sviluppo\n",
    "\n",
    "I punteggi di livello di sviluppo sono spesso utilizzati per misurare il livello di competenza di un individuo rispetto a determinate abilità o compiti. Questi punteggi forniscono un'indicazione del livello di crescita o progresso di un individuo nel tempo.\n",
    "\n",
    "Esempio in R:"
   ]
  },
  {
   "cell_type": "code",
   "execution_count": null,
   "metadata": {
    "vscode": {
     "languageId": "r"
    }
   },
   "outputs": [],
   "source": [
    "# Generazione di un campione casuale di punteggi di sviluppo\n",
    "set.seed(135)\n",
    "punteggi_sviluppo <- rnorm(100, mean = 50, sd = 5)\n",
    "\n",
    "# Calcolo del punteggio di sviluppo per un individuo specifico\n",
    "punteggio_individuale <- 55\n",
    "livello_sviluppo <- punteggio_individuale - mean(punteggi_sviluppo)\n",
    "\n",
    "print(paste(\"Livello di Sviluppo:\", livello_sviluppo))"
   ]
  },
  {
   "cell_type": "markdown",
   "metadata": {},
   "source": [
    "## Punteggi normati con riferimento al criterio\n",
    "\n",
    "Il testing basato sul riferimento al criterio (criterion-referenced testing) è un altro approccio possibile, diverso da quelli discussi finora, che si basa sul confronto dei punteggi di un individuo con criteri specifici stabiliti a priori. Sebbene il riferimento al criterio non sia stato altrettanto popolare come il riferimento normativo in passato, sta guadagnando sempre più interesse nei contesti educativi. Questo perché sempre più educatori sono interessati a valutare ciò che gli studenti sanno e possono fare, anziché come si confrontano con i loro compagni.\n",
    "\n",
    "Tuttavia, il riferimento al criterio presenta alcune problematiche, tra cui la necessità di definire chiaramente il dominio di contenuto del test. A causa di questa necessità di definizioni chiare, i test basati sul riferimento al criterio tendono a coprire un campo di materiale più ristretto rispetto ai test basati sul riferimento normativo, ma a coprire questo materiale in modo più dettagliato.\n",
    "\n",
    "Nel contesto di questo capitolo, non approfondiremo i test basati sul riferimento al criterio, ma puoi fare riferimento a libri di Berk (1980) e Popham (1978) o alla revisione di Haertel (1985) per ulteriori informazioni. Da notare che molti degli indici per valutare la qualità degli elementi e del test discussi in questo libro sono stati sviluppati per l'uso con test basati sul riferimento normativo e potrebbero non fornire informazioni utili per misure basate sul riferimento al criterio. Nelle prossime parti sulle tematiche di affidabilità, validità e analisi degli elementi, questa questione sarà discussa nei contesti specifici di tali argomenti."
   ]
  },
  {
   "cell_type": "markdown",
   "metadata": {},
   "source": [
    "## Conclusione\n",
    "\n",
    "I punteggi grezzi possono essere trasformati per renderli più significativi. I due approcci di base per attribuire significato ai punteggi di un test sono il riferimento normativo e il riferimento al criterio. Nel sistema di riferimento normativo, il punteggio di un individuo viene confrontato con il punteggio medio degli altri che svolgono lo stesso test, noto come gruppo normativo. Nel sistema di riferimento al criterio, il punteggio di un individuo acquista significato relazionandolo a una quantità specifica dell'attributo, ad esempio il 70% delle domande risposte correttamente. Questo capitolo si è concentrato principalmente sui punteggi normati di riferimento. Quando si utilizzano tali punteggi, è importante che il gruppo normativo sia recente, rappresentativo e pertinente alla popolazione di interesse.\n",
    "\n",
    "Esistono molti tipi di punteggi normati di riferimento, ognuno con punti di forza e di debolezza. I punteggi percentile sono facilmente comprensibili, ma sono su una scala ordinale, il che limita il loro utilizzo in operazioni matematiche. I punteggi standardizzati come z e T-scores sono facilmente calcolabili e rappresentano un livello di misura a intervallo. Questi punteggi preservano la forma distributiva dei punteggi grezzi da cui sono stati calcolati. Se l'ottenimento di una distribuzione normale dei punteggi è di interesse, si possono ottenere punteggi normalizzati come gli stanini e gli NCE (Normal Curve Equivalents). Infine, i punteggi GE (Grade-Equivalent) e AE (Age-Equivalent) sono comunemente usati per scalare attributi che aumentano con lo sviluppo. Sebbene il fatto che siano correlati a metriche ben note come il livello di grado o età renda attraente l'uso di punteggi GE e AE, la loro interpretazione apparentemente semplice spesso porta a fraintendimenti sul loro significato."
   ]
  }
 ],
 "metadata": {
  "kernelspec": {
   "display_name": "R",
   "language": "R",
   "name": "ir"
  },
  "language_info": {
   "codemirror_mode": "r",
   "file_extension": ".r",
   "mimetype": "text/x-r-source",
   "name": "R",
   "pygments_lexer": "r",
   "version": "4.3.1"
  },
  "orig_nbformat": 4
 },
 "nbformat": 4,
 "nbformat_minor": 2
}
