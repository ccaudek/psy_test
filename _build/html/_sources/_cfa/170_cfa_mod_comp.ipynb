{
 "cells": [
  {
   "attachments": {},
   "cell_type": "markdown",
   "id": "5e8c4874",
   "metadata": {},
   "source": [
    "(model-comparison-notebook)=\n",
    "# CFA: confronto tra modelli "
   ]
  },
  {
   "cell_type": "code",
   "execution_count": 1,
   "id": "f8e6c52d",
   "metadata": {
    "tags": [
     "remove_cell"
    ],
    "vscode": {
     "languageId": "r"
    }
   },
   "outputs": [],
   "source": [
    "source(\"_common.R\")\n",
    "suppressPackageStartupMessages({\n",
    "    library(\"psych\")\n",
    "    library(\"lavaan\")\n",
    "    library(\"semPlot\")\n",
    "})\n",
    "options(repr.plot.width=6, repr.plot.height=6)\n",
    "set.seed(42)"
   ]
  },
  {
   "attachments": {},
   "cell_type": "markdown",
   "id": "4586001c",
   "metadata": {},
   "source": [
    "In un modello CFA, i parametri  possono essere stimati senza vincoli, possono essere fissi o possono essre stimati sulla base di alcuni vincoli. Un parametro libero è sconosciuto e il ricercatore consente all'algoritmo di stima di trovare il suo valore ottimale che, insime agli altri parametri del modello, riduce al minimo le differenze tra le matrici di varianze-covarianze osservate e quelle predette dal modello. Un parametro fisso è pre-specificato dal ricercatore ad un valore specifico, più comunemente 1.0 (ad esempio, per definire la metrica di una variabile latente) o 0 (ad esempio, l'assenza di saturazionoi fattoriali o di covarianze di errore). Come per un parametro libero, anche un parametro vincolato è sconosciuto; tuttavia, un tale parametro non può assumere un valore qualsiasi, ma deve rispettare le restrizioni su suoi valori che il ricercatore ha imposto. I vincoli più comuni sono i vincoli di uguaglianza, in cui i parametri non standardizzati devono assumere valori uguali (ad esempio, in diversi gruppi).\n",
    "\n",
    "Consideriamo un esempio discusso da {cite:t}`brown2015confirmatory`. Viene qui esaminato un set di dati in cui le prime tre misure osservate (X1, X2, X3) sono indicatori di un costrutto latente corrispondente alla Memoria uditiva e il secondo insieme di misure (X4, X5, X6) sono indicatori di un altro costrutto latente, Memoria visiva. Le tre misure usate quali indicatori del costrutto di memoria uditiva sono: X1 = memoria logica, X2 = associazione verbale a coppie, X3 = liste di parole; le tre misure usate come indicatori del costrutto di memoria visiva sono: X4 = immagini di facce, X5 = foto di famiglia, X6 = generiche riproduzioni visive. I dati sono i seguenti:"
   ]
  },
  {
   "cell_type": "code",
   "execution_count": 2,
   "id": "8eb37d22",
   "metadata": {
    "vscode": {
     "languageId": "r"
    }
   },
   "outputs": [],
   "source": [
    "sds <- '2.610  2.660  2.590  1.940  2.030  2.050'\n",
    "\n",
    "cors <-'\n",
    "  1.000\n",
    "  0.661  1.000\n",
    "  0.630  0.643  1.000\n",
    "  0.270  0.300  0.268  1.000\n",
    "  0.297  0.265  0.225  0.805  1.000\n",
    "  0.290  0.287  0.248  0.796  0.779  1.000'\n",
    "\n",
    "covs <- getCov(cors, sds = sds, names = paste(\"x\", 1:6, sep = \"\"))\n",
    "print(covs)"
   ]
  },
  {
   "attachments": {},
   "cell_type": "markdown",
   "id": "c3f41906",
   "metadata": {},
   "source": [
    "Adattiamo i cinque modelli discussi da {cite:t}`brown2015confirmatory`.\n",
    "\n",
    "## Modello congenerico "
   ]
  },
  {
   "cell_type": "code",
   "execution_count": 3,
   "id": "ae82fb53",
   "metadata": {
    "vscode": {
     "languageId": "r"
    }
   },
   "outputs": [],
   "source": [
    "model.congeneric <- '\n",
    "  auditorymemory =~ x1 + x2 + x3\n",
    "  visualmemory   =~ x4 + x5 + x6\n",
    "'"
   ]
  },
  {
   "cell_type": "code",
   "execution_count": 4,
   "id": "eca8c2bb",
   "metadata": {
    "vscode": {
     "languageId": "r"
    }
   },
   "outputs": [],
   "source": [
    "fit.congeneric <- cfa(\n",
    "  model.congeneric, \n",
    "  sample.cov = covs, \n",
    "  sample.nobs = 200, \n",
    "  std.lv = TRUE\n",
    ")"
   ]
  },
  {
   "attachments": {},
   "cell_type": "markdown",
   "id": "7c53545e",
   "metadata": {},
   "source": [
    "L'output si ottiene con:"
   ]
  },
  {
   "cell_type": "code",
   "execution_count": 5,
   "id": "709fb182",
   "metadata": {
    "eval": false,
    "vscode": {
     "languageId": "r"
    }
   },
   "outputs": [
    {
     "name": "stdout",
     "output_type": "stream",
     "text": [
      "lavaan 0.6.15 ended normally after 21 iterations\n",
      "\n",
      "  Estimator                                         ML\n",
      "  Optimization method                           NLMINB\n",
      "  Number of model parameters                        13\n",
      "\n",
      "  Number of observations                           200\n",
      "\n",
      "Model Test User Model:\n",
      "                                                      \n",
      "  Test statistic                                 4.877\n",
      "  Degrees of freedom                                 8\n",
      "  P-value (Chi-square)                           0.771\n",
      "\n",
      "Model Test Baseline Model:\n",
      "\n",
      "  Test statistic                               719.515\n",
      "  Degrees of freedom                                15\n",
      "  P-value                                        0.000\n",
      "\n",
      "User Model versus Baseline Model:\n",
      "\n",
      "  Comparative Fit Index (CFI)                    1.000\n",
      "  Tucker-Lewis Index (TLI)                       1.008\n",
      "\n",
      "Loglikelihood and Information Criteria:\n",
      "\n",
      "  Loglikelihood user model (H0)              -2337.980\n",
      "  Loglikelihood unrestricted model (H1)      -2335.541\n",
      "                                                      \n",
      "  Akaike (AIC)                                4701.959\n",
      "  Bayesian (BIC)                              4744.837\n",
      "  Sample-size adjusted Bayesian (SABIC)       4703.652\n",
      "\n",
      "Root Mean Square Error of Approximation:\n",
      "\n",
      "  RMSEA                                          0.000\n",
      "  90 Percent confidence interval - lower         0.000\n",
      "  90 Percent confidence interval - upper         0.057\n",
      "  P-value H_0: RMSEA <= 0.050                    0.929\n",
      "  P-value H_0: RMSEA >= 0.080                    0.010\n",
      "\n",
      "Standardized Root Mean Square Residual:\n",
      "\n",
      "  SRMR                                           0.012\n",
      "\n",
      "Parameter Estimates:\n",
      "\n",
      "  Standard errors                             Standard\n",
      "  Information                                 Expected\n",
      "  Information saturated (h1) model          Structured\n",
      "\n",
      "Latent Variables:\n",
      "                    Estimate  Std.Err  z-value  P(>|z|)   Std.lv  Std.all\n",
      "  auditorymemory =~                                                      \n",
      "    x1                 2.101    0.166   12.663    0.000    2.101    0.807\n",
      "    x2                 2.182    0.168   12.976    0.000    2.182    0.823\n",
      "    x3                 2.013    0.166   12.124    0.000    2.013    0.779\n",
      "  visualmemory =~                                                        \n",
      "    x4                 1.756    0.108   16.183    0.000    1.756    0.907\n",
      "    x5                 1.795    0.115   15.608    0.000    1.795    0.887\n",
      "    x6                 1.796    0.117   15.378    0.000    1.796    0.878\n",
      "\n",
      "Covariances:\n",
      "                    Estimate  Std.Err  z-value  P(>|z|)   Std.lv  Std.all\n",
      "  auditorymemory ~~                                                      \n",
      "    visualmemory       0.382    0.070    5.463    0.000    0.382    0.382\n",
      "\n",
      "Variances:\n",
      "                   Estimate  Std.Err  z-value  P(>|z|)   Std.lv  Std.all\n",
      "   .x1                2.366    0.372    6.365    0.000    2.366    0.349\n",
      "   .x2                2.277    0.383    5.940    0.000    2.277    0.323\n",
      "   .x3                2.621    0.373    7.027    0.000    2.621    0.393\n",
      "   .x4                0.662    0.117    5.668    0.000    0.662    0.177\n",
      "   .x5                0.877    0.134    6.554    0.000    0.877    0.214\n",
      "   .x6                0.956    0.139    6.866    0.000    0.956    0.229\n",
      "    auditorymemory    1.000                               1.000    1.000\n",
      "    visualmemory      1.000                               1.000    1.000\n",
      "\n",
      "R-Square:\n",
      "                   Estimate\n",
      "    x1                0.651\n",
      "    x2                0.677\n",
      "    x3                0.607\n",
      "    x4                0.823\n",
      "    x5                0.786\n",
      "    x6                0.771\n",
      "\n"
     ]
    }
   ],
   "source": [
    "out = summary(\n",
    "  fit.congeneric, \n",
    "  fit.measures = TRUE, \n",
    "  standardized = TRUE, \n",
    "  rsquare = TRUE\n",
    ")\n",
    "print(out)"
   ]
  },
  {
   "attachments": {},
   "cell_type": "markdown",
   "id": "77d34503",
   "metadata": {},
   "source": [
    "Il diagramma di percorso del modello è il seguente."
   ]
  },
  {
   "cell_type": "code",
   "execution_count": null,
   "id": "149ba428",
   "metadata": {
    "vscode": {
     "languageId": "r"
    }
   },
   "outputs": [],
   "source": [
    "semPaths(\n",
    "  fit.congeneric,\n",
    "  \"std\",\n",
    "  posCol = c(\"black\"),\n",
    "  edge.label.cex = 1.2,\n",
    "  sizeMan = 7\n",
    ")"
   ]
  },
  {
   "attachments": {},
   "cell_type": "markdown",
   "id": "43a70ad2",
   "metadata": {},
   "source": [
    "## Modello tau-equivalente\n",
    "\n",
    "Solo memoria auditiva:"
   ]
  },
  {
   "cell_type": "code",
   "execution_count": null,
   "id": "506a1c10",
   "metadata": {
    "vscode": {
     "languageId": "r"
    }
   },
   "outputs": [],
   "source": [
    "model.tau.a <- '\n",
    "  auditorymemory =~ x1 + v1*x1 + v1*x2 + v1*x3\n",
    "  visualmemory   =~ x4 + x5 + x6\n",
    "'"
   ]
  },
  {
   "cell_type": "code",
   "execution_count": null,
   "id": "6998fb6a",
   "metadata": {
    "vscode": {
     "languageId": "r"
    }
   },
   "outputs": [],
   "source": [
    "fit.tau.a <- cfa(\n",
    "  model.tau.a, \n",
    "  sample.cov = covs, \n",
    "  sample.nobs = 200, \n",
    "  std.lv = TRUE\n",
    ")"
   ]
  },
  {
   "attachments": {},
   "cell_type": "markdown",
   "id": "19ee330c",
   "metadata": {},
   "source": [
    "Memoria auditiva e visiva:"
   ]
  },
  {
   "cell_type": "code",
   "execution_count": null,
   "id": "67a65d7c",
   "metadata": {
    "vscode": {
     "languageId": "r"
    }
   },
   "outputs": [],
   "source": [
    "model.tau.av <- '\n",
    "  auditorymemory =~ x1 + v1*x1 + v1*x2 + v1*x3\n",
    "  visualmemory   =~ x4 + v2*x4 + v2*x5 + v2*x6\n",
    "'"
   ]
  },
  {
   "cell_type": "code",
   "execution_count": null,
   "id": "56094815",
   "metadata": {
    "vscode": {
     "languageId": "r"
    }
   },
   "outputs": [],
   "source": [
    "fit.tau.av <- cfa(\n",
    "  model.tau.av, \n",
    "  sample.cov = covs, \n",
    "  sample.nobs = 200, \n",
    "  std.lv = TRUE\n",
    ")"
   ]
  },
  {
   "cell_type": "code",
   "execution_count": null,
   "id": "9106e58f",
   "metadata": {
    "vscode": {
     "languageId": "r"
    }
   },
   "outputs": [],
   "source": [
    "semPaths(\n",
    "  fit.tau.av,\n",
    "  \"std\",\n",
    "  posCol = c(\"black\"),\n",
    "  edge.label.cex = 1.2,\n",
    "  sizeMan = 7\n",
    ")"
   ]
  },
  {
   "attachments": {},
   "cell_type": "markdown",
   "id": "87a063a2",
   "metadata": {},
   "source": [
    "## Modello parallelo\n",
    "\n",
    "Solo memoria auditiva:"
   ]
  },
  {
   "cell_type": "code",
   "execution_count": null,
   "id": "8bf090b7",
   "metadata": {
    "vscode": {
     "languageId": "r"
    }
   },
   "outputs": [],
   "source": [
    "model.parallel.a <- '\n",
    "  auditorymemory =~ x1 + v1*x1 + v1*x2 + v1*x3\n",
    "  visualmemory   =~ x4 + v2*x4 + v2*x5 + v2*x6\n",
    "  x1 ~~ v3 * x1\n",
    "  x2 ~~ v3 * x2\n",
    "  x3 ~~ v3 * x3\n",
    "'"
   ]
  },
  {
   "cell_type": "code",
   "execution_count": null,
   "id": "4f738e5b",
   "metadata": {
    "lines_to_next_cell": 2,
    "vscode": {
     "languageId": "r"
    }
   },
   "outputs": [],
   "source": [
    "fit.parallel.a <- cfa(\n",
    "  model.parallel.a, \n",
    "  sample.cov = covs, \n",
    "  sample.nobs = 200, \n",
    "  std.lv = TRUE\n",
    ")"
   ]
  },
  {
   "attachments": {},
   "cell_type": "markdown",
   "id": "60865139",
   "metadata": {},
   "source": [
    "Memoria auditiva e visiva:"
   ]
  },
  {
   "cell_type": "code",
   "execution_count": null,
   "id": "e8502ca3",
   "metadata": {
    "vscode": {
     "languageId": "r"
    }
   },
   "outputs": [],
   "source": [
    "model.parallel.av <- '\n",
    "  auditorymemory =~ x1 + v1*x1 + v1*x2 + v1*x3\n",
    "  visualmemory   =~ x4 + v2*x4 + v2*x5 + v2*x6\n",
    "  x1 ~~ v3 * x1\n",
    "  x2 ~~ v3 * x2\n",
    "  x3 ~~ v3 * x3\n",
    " \n",
    "  x4 ~~ v4 * x4\n",
    "  x5 ~~ v4 * x5\n",
    "  x6 ~~ v4 * x6\n",
    "'"
   ]
  },
  {
   "cell_type": "code",
   "execution_count": null,
   "id": "2043284b",
   "metadata": {
    "vscode": {
     "languageId": "r"
    }
   },
   "outputs": [],
   "source": [
    "fit.parallel.av <- cfa(\n",
    "  model.parallel.av, \n",
    "  sample.cov = covs, \n",
    "  sample.nobs = 200, \n",
    "  std.lv = TRUE\n",
    ")"
   ]
  },
  {
   "cell_type": "code",
   "execution_count": null,
   "id": "06ff3b91",
   "metadata": {
    "vscode": {
     "languageId": "r"
    }
   },
   "outputs": [],
   "source": [
    "semPaths(\n",
    "  fit.parallel.av,\n",
    "  \"std\",\n",
    "  posCol = c(\"black\"),\n",
    "  edge.label.cex = 1.2,\n",
    "  sizeMan = 7\n",
    ")"
   ]
  },
  {
   "attachments": {},
   "cell_type": "markdown",
   "id": "4f606291",
   "metadata": {},
   "source": [
    "## Il test del $\\chi^2$\n",
    "\n",
    "Il confronto tra modelli nidificati procede attraverso il test $\\chi^2$. Tale test si basa su una proprietà delle variabili casuali distribuite come $\\chi^2$: la differenza tra due v.c. $X_1$ e $X_2$ che seguono la distribuzione $\\chi^2$, rispettivamente con $\\nu_1$ e $\\nu_2$, con $\\nu_1 > \\nu_2$, è una variabile causale che segue la distribuzione $\\chi^2$ con gradi di libertà pari a $\\nu_1 - \\nu_2$.\n",
    "\n",
    "Un modello nidificato è un modello che impone dei vincoli sui parametri del modello di partenza. L'imposizione di vincoli sui parametri ha la conseguenza che vi sarà un numero minore di parametri da stimare. Il confronto tra i modelli si esegue valutando in maniera relativa la bontà di adattamento di ciascun modello per mezzo della statistica chi-quadrato. La statistica così calcolata avrà un numero di gradi di libertà uguale alla differenza tra i gradi di libertà dei due modelli. \n",
    "\n",
    "Nel caso dell'esempio in dicussione, abbiamo"
   ]
  },
  {
   "cell_type": "code",
   "execution_count": null,
   "id": "bcd0a9e1",
   "metadata": {
    "vscode": {
     "languageId": "r"
    }
   },
   "outputs": [],
   "source": [
    "out = anova(\n",
    "  fit.congeneric, \n",
    "  fit.tau.a, \n",
    "  fit.tau.av, \n",
    "  fit.parallel.a, \n",
    "  fit.parallel.av, \n",
    "  test = \"chisq\"\n",
    ")\n",
    "print(out)"
   ]
  },
  {
   "attachments": {},
   "cell_type": "markdown",
   "id": "cdd2646b",
   "metadata": {},
   "source": [
    "I test precedenti indicano come non vi sia una perdita di adattamento passando dal modello congenerico al modello più restrittivo (ovvero, il modello parallelo per entrambi i fattori). Per questi dati, dunque, può essere adottato il modello più semplice, cioè il modello parallelo.\n",
    "\n"
   ]
  }
 ],
 "metadata": {
  "jupytext": {
   "cell_metadata_filter": "tags,eval,-all",
   "main_language": "R",
   "notebook_metadata_filter": "-all"
  },
  "kernelspec": {
   "display_name": "R",
   "language": "R",
   "name": "ir"
  },
  "language_info": {
   "codemirror_mode": "r",
   "file_extension": ".r",
   "mimetype": "text/x-r-source",
   "name": "R",
   "pygments_lexer": "r",
   "version": "4.3.0"
  }
 },
 "nbformat": 4,
 "nbformat_minor": 5
}
