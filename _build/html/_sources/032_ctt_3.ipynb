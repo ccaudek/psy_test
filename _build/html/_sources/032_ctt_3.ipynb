{
 "cells": [
  {
   "attachments": {},
   "cell_type": "markdown",
   "id": "2c19761a",
   "metadata": {},
   "source": [
    "(ctt-3-notebook)=\n",
    "# Metodi di stima dell'affidabilità "
   ]
  },
  {
   "cell_type": "code",
   "execution_count": 41,
   "id": "b58f4e19",
   "metadata": {
    "tags": [
     "remove_cell"
    ],
    "vscode": {
     "languageId": "r"
    }
   },
   "outputs": [],
   "source": [
    "source(\"_common.R\")\n",
    "suppressPackageStartupMessages(library(\"psych\"))\n",
    "suppressPackageStartupMessages(library(\"ltm\"))"
   ]
  },
  {
   "cell_type": "markdown",
   "id": "0df872bb",
   "metadata": {},
   "source": [
    "Come evidenziato nel capitolo precedente, i punteggi dei test possono variare in molteplici situazioni. Ad esempio, si può essere interessati a valutare quanto i punteggi differiscano tra diversi insiemi di item, o a misurare l'incoerenza tra differenti momenti di somministrazione, o tra diversi valutatori. Di conseguenza, sono stati sviluppati diversi metodi per valutare l'affidabilità, ciascuno tenendo conto di differenti tipi di errore casuale. Alcuni di questi metodi si basano su assunzioni meno rigide rispetto a quelli delle misure parallele.\n",
    "\n",
    "In questo capitolo, discutiamo i coefficienti di affidabilità appropriati per valutare le discrepanze o gli errori casuali dovuti alle differenze tra gli item, i momenti di somministrazione e le forme del test. Questi coefficienti sono chiamati, rispettivamente, coefficienti di consistenza interna, coefficienti di stabilità e coefficienti di equivalenza. Infine, esaminiamo le sfide connesse alla valutazione dell'affidabilità dei punteggi di differenza. Questi punteggi rappresentano la differenza tra due misurazioni ottenute in momenti diversi e risultano di particolare interesse quando si vuole misurare la crescita o il cambiamento nel tempo.\n",
    "\n",
    "## Consistenza interna\n",
    "\n",
    "Una delle fonti di errore nei punteggi dei test è rappresentata dagli item stessi. Se gli item non vengono formulati in maniera adeguata, possono insorgere problemi come una formulazione confusa, item non pertinenti al costrutto, vocabolario sconosciuto ai partecipanti o item con risposte ambigue. Questi problemi possono portare a risposte inconsistenti per due ragioni: innanzitutto, non tutti i partecipanti saranno influenzati nello stesso modo dagli item problematici; in secondo luogo, tali item interferiscono con la capacità dei partecipanti di esprimere il loro vero livello del costrutto.\n",
    "\n",
    "Per valutare la coerenza delle risposte tra gli item all'interno di una scala, si utilizzano i coefficienti di consistenza interna. Questi coefficienti si basano sull'idea che una correlazione tra due punteggi osservati che misurano lo stesso costrutto rifletta la varianza condivisa del punteggio vero e non la varianza condivisa dell'errore. Dal momento che gli errori sono considerati casuali e non dovrebbero avere varianza condivisa, i coefficienti di consistenza interna riflettono la correlazione tra gli item del test e forniscono un'indicazione dell'affidabilità complessiva della scala. Questo approccio è alla base del coefficiente di affidabilità più noto, ovvero il coefficiente alpha di Cronbach.\n",
    "\n",
    "### coefficiente $\\alpha$ di Cronbach\n",
    "\n",
    "Il coefficiente alpha di Cronbach è calcolato come segue:\n",
    "\n",
    "$$\n",
    "\\alpha = \\frac{{k}}{{k-1}} \\left( 1 - \\frac{{\\sum_{i=1}^{k} \\sigma_{i}^{2}}}{{\\sigma_{X}^{2}}} \\right)\n",
    "$$\n",
    "\n",
    "dove:\n",
    "- $k$ è il numero di item nel test,\n",
    "- $\\sigma_{i}^{2}$ rappresenta la varianza del punteggio dell'item \\(i\\),\n",
    "- $\\sigma_{X}^{2}$ è la varianza totale dei punteggi del test.\n",
    "\n",
    "Una derivazione della formula del coefficiente alpha di Cronbach è fornita nel capitolo {ref}`reliability-fa-notebook`."
   ]
  },
  {
   "cell_type": "markdown",
   "id": "ac0f4f37",
   "metadata": {},
   "source": [
    "**Esempio.** Per illustrare la procedura di calcolo del coefficiente $\\omega$, useremo i dati `bfi` contenuti nel pacchetto `psych`. Il dataframe `bfi` comprende 25 item di autovalutazione della personalità. Sono riportati i dati di 2800 soggetti. Ci concentreremo qui sulla sottoscala *Openness*. \n",
    "- O1: *Am full of ideas*; \n",
    "- O2: *Avoid difficult reading material*; \n",
    "- O3: *Carry the conversation to a higher level*; \n",
    "- O4: *Spend time reflecting on things*; \n",
    "- O5: *Will not probe deeply into a subject*. \n",
    "\n",
    "Leggiamo i dati in R."
   ]
  },
  {
   "cell_type": "code",
   "execution_count": 19,
   "id": "2514c0a1",
   "metadata": {
    "vscode": {
     "languageId": "r"
    }
   },
   "outputs": [
    {
     "data": {
      "text/html": [
       "<table class=\"dataframe\">\n",
       "<caption>A data.frame: 6 × 5</caption>\n",
       "<thead>\n",
       "\t<tr><th></th><th scope=col>O1</th><th scope=col>O2</th><th scope=col>O3</th><th scope=col>O4</th><th scope=col>O5</th></tr>\n",
       "\t<tr><th></th><th scope=col>&lt;int&gt;</th><th scope=col>&lt;int&gt;</th><th scope=col>&lt;int&gt;</th><th scope=col>&lt;int&gt;</th><th scope=col>&lt;int&gt;</th></tr>\n",
       "</thead>\n",
       "<tbody>\n",
       "\t<tr><th scope=row>61617</th><td>3</td><td>6</td><td>3</td><td>4</td><td>3</td></tr>\n",
       "\t<tr><th scope=row>61618</th><td>4</td><td>2</td><td>4</td><td>3</td><td>3</td></tr>\n",
       "\t<tr><th scope=row>61620</th><td>4</td><td>2</td><td>5</td><td>5</td><td>2</td></tr>\n",
       "\t<tr><th scope=row>61621</th><td>3</td><td>3</td><td>4</td><td>3</td><td>5</td></tr>\n",
       "\t<tr><th scope=row>61622</th><td>3</td><td>3</td><td>4</td><td>3</td><td>3</td></tr>\n",
       "\t<tr><th scope=row>61623</th><td>4</td><td>3</td><td>5</td><td>6</td><td>1</td></tr>\n",
       "</tbody>\n",
       "</table>\n"
      ],
      "text/latex": [
       "A data.frame: 6 × 5\n",
       "\\begin{tabular}{r|lllll}\n",
       "  & O1 & O2 & O3 & O4 & O5\\\\\n",
       "  & <int> & <int> & <int> & <int> & <int>\\\\\n",
       "\\hline\n",
       "\t61617 & 3 & 6 & 3 & 4 & 3\\\\\n",
       "\t61618 & 4 & 2 & 4 & 3 & 3\\\\\n",
       "\t61620 & 4 & 2 & 5 & 5 & 2\\\\\n",
       "\t61621 & 3 & 3 & 4 & 3 & 5\\\\\n",
       "\t61622 & 3 & 3 & 4 & 3 & 3\\\\\n",
       "\t61623 & 4 & 3 & 5 & 6 & 1\\\\\n",
       "\\end{tabular}\n"
      ],
      "text/markdown": [
       "\n",
       "A data.frame: 6 × 5\n",
       "\n",
       "| <!--/--> | O1 &lt;int&gt; | O2 &lt;int&gt; | O3 &lt;int&gt; | O4 &lt;int&gt; | O5 &lt;int&gt; |\n",
       "|---|---|---|---|---|---|\n",
       "| 61617 | 3 | 6 | 3 | 4 | 3 |\n",
       "| 61618 | 4 | 2 | 4 | 3 | 3 |\n",
       "| 61620 | 4 | 2 | 5 | 5 | 2 |\n",
       "| 61621 | 3 | 3 | 4 | 3 | 5 |\n",
       "| 61622 | 3 | 3 | 4 | 3 | 3 |\n",
       "| 61623 | 4 | 3 | 5 | 6 | 1 |\n",
       "\n"
      ],
      "text/plain": [
       "      O1 O2 O3 O4 O5\n",
       "61617 3  6  3  4  3 \n",
       "61618 4  2  4  3  3 \n",
       "61620 4  2  5  5  2 \n",
       "61621 3  3  4  3  5 \n",
       "61622 3  3  4  3  3 \n",
       "61623 4  3  5  6  1 "
      ]
     },
     "metadata": {},
     "output_type": "display_data"
    }
   ],
   "source": [
    "data(bfi, package = \"psych\")\n",
    "head(bfi[c(\"O1\", \"O2\", \"O3\", \"O4\", \"O5\")])\n"
   ]
  },
  {
   "cell_type": "markdown",
   "id": "7c28ce5c",
   "metadata": {},
   "source": [
    "Esaminiamo la correlazione tra gli item della sottoscale Openness."
   ]
  },
  {
   "cell_type": "code",
   "execution_count": 20,
   "id": "6a9e877b",
   "metadata": {
    "vscode": {
     "languageId": "r"
    }
   },
   "outputs": [
    {
     "data": {
      "text/html": [
       "<table class=\"dataframe\">\n",
       "<caption>A matrix: 5 × 5 of type dbl</caption>\n",
       "<thead>\n",
       "\t<tr><th></th><th scope=col>O1</th><th scope=col>O2</th><th scope=col>O3</th><th scope=col>O4</th><th scope=col>O5</th></tr>\n",
       "</thead>\n",
       "<tbody>\n",
       "\t<tr><th scope=row>O1</th><td> 1.00</td><td>-0.21</td><td> 0.40</td><td> 0.18</td><td>-0.24</td></tr>\n",
       "\t<tr><th scope=row>O2</th><td>-0.21</td><td> 1.00</td><td>-0.26</td><td>-0.07</td><td> 0.32</td></tr>\n",
       "\t<tr><th scope=row>O3</th><td> 0.40</td><td>-0.26</td><td> 1.00</td><td> 0.19</td><td>-0.31</td></tr>\n",
       "\t<tr><th scope=row>O4</th><td> 0.18</td><td>-0.07</td><td> 0.19</td><td> 1.00</td><td>-0.18</td></tr>\n",
       "\t<tr><th scope=row>O5</th><td>-0.24</td><td> 0.32</td><td>-0.31</td><td>-0.18</td><td> 1.00</td></tr>\n",
       "</tbody>\n",
       "</table>\n"
      ],
      "text/latex": [
       "A matrix: 5 × 5 of type dbl\n",
       "\\begin{tabular}{r|lllll}\n",
       "  & O1 & O2 & O3 & O4 & O5\\\\\n",
       "\\hline\n",
       "\tO1 &  1.00 & -0.21 &  0.40 &  0.18 & -0.24\\\\\n",
       "\tO2 & -0.21 &  1.00 & -0.26 & -0.07 &  0.32\\\\\n",
       "\tO3 &  0.40 & -0.26 &  1.00 &  0.19 & -0.31\\\\\n",
       "\tO4 &  0.18 & -0.07 &  0.19 &  1.00 & -0.18\\\\\n",
       "\tO5 & -0.24 &  0.32 & -0.31 & -0.18 &  1.00\\\\\n",
       "\\end{tabular}\n"
      ],
      "text/markdown": [
       "\n",
       "A matrix: 5 × 5 of type dbl\n",
       "\n",
       "| <!--/--> | O1 | O2 | O3 | O4 | O5 |\n",
       "|---|---|---|---|---|---|\n",
       "| O1 |  1.00 | -0.21 |  0.40 |  0.18 | -0.24 |\n",
       "| O2 | -0.21 |  1.00 | -0.26 | -0.07 |  0.32 |\n",
       "| O3 |  0.40 | -0.26 |  1.00 |  0.19 | -0.31 |\n",
       "| O4 |  0.18 | -0.07 |  0.19 |  1.00 | -0.18 |\n",
       "| O5 | -0.24 |  0.32 | -0.31 | -0.18 |  1.00 |\n",
       "\n"
      ],
      "text/plain": [
       "   O1    O2    O3    O4    O5   \n",
       "O1  1.00 -0.21  0.40  0.18 -0.24\n",
       "O2 -0.21  1.00 -0.26 -0.07  0.32\n",
       "O3  0.40 -0.26  1.00  0.19 -0.31\n",
       "O4  0.18 -0.07  0.19  1.00 -0.18\n",
       "O5 -0.24  0.32 -0.31 -0.18  1.00"
      ]
     },
     "metadata": {},
     "output_type": "display_data"
    }
   ],
   "source": [
    "cor(bfi[c(\"O1\", \"O2\", \"O3\", \"O4\", \"O5\")], use = \"pairwise.complete.obs\") |>\n",
    "    round(2)"
   ]
  },
  {
   "cell_type": "markdown",
   "id": "25862f0b",
   "metadata": {},
   "source": [
    "È necessario ricodificare due item."
   ]
  },
  {
   "cell_type": "code",
   "execution_count": 21,
   "id": "2a8e3e79",
   "metadata": {
    "vscode": {
     "languageId": "r"
    }
   },
   "outputs": [],
   "source": [
    "bfi$O2r <- 7 - bfi$O2\n",
    "bfi$O5r <- 7 - bfi$O5"
   ]
  },
  {
   "cell_type": "code",
   "execution_count": 22,
   "id": "e224caf9",
   "metadata": {
    "vscode": {
     "languageId": "r"
    }
   },
   "outputs": [
    {
     "data": {
      "text/html": [
       "<table class=\"dataframe\">\n",
       "<caption>A matrix: 5 × 5 of type dbl</caption>\n",
       "<thead>\n",
       "\t<tr><th></th><th scope=col>O1</th><th scope=col>O2r</th><th scope=col>O3</th><th scope=col>O4</th><th scope=col>O5r</th></tr>\n",
       "</thead>\n",
       "<tbody>\n",
       "\t<tr><th scope=row>O1</th><td>1.00</td><td>0.21</td><td>0.40</td><td>0.18</td><td>0.24</td></tr>\n",
       "\t<tr><th scope=row>O2r</th><td>0.21</td><td>1.00</td><td>0.26</td><td>0.07</td><td>0.32</td></tr>\n",
       "\t<tr><th scope=row>O3</th><td>0.40</td><td>0.26</td><td>1.00</td><td>0.19</td><td>0.31</td></tr>\n",
       "\t<tr><th scope=row>O4</th><td>0.18</td><td>0.07</td><td>0.19</td><td>1.00</td><td>0.18</td></tr>\n",
       "\t<tr><th scope=row>O5r</th><td>0.24</td><td>0.32</td><td>0.31</td><td>0.18</td><td>1.00</td></tr>\n",
       "</tbody>\n",
       "</table>\n"
      ],
      "text/latex": [
       "A matrix: 5 × 5 of type dbl\n",
       "\\begin{tabular}{r|lllll}\n",
       "  & O1 & O2r & O3 & O4 & O5r\\\\\n",
       "\\hline\n",
       "\tO1 & 1.00 & 0.21 & 0.40 & 0.18 & 0.24\\\\\n",
       "\tO2r & 0.21 & 1.00 & 0.26 & 0.07 & 0.32\\\\\n",
       "\tO3 & 0.40 & 0.26 & 1.00 & 0.19 & 0.31\\\\\n",
       "\tO4 & 0.18 & 0.07 & 0.19 & 1.00 & 0.18\\\\\n",
       "\tO5r & 0.24 & 0.32 & 0.31 & 0.18 & 1.00\\\\\n",
       "\\end{tabular}\n"
      ],
      "text/markdown": [
       "\n",
       "A matrix: 5 × 5 of type dbl\n",
       "\n",
       "| <!--/--> | O1 | O2r | O3 | O4 | O5r |\n",
       "|---|---|---|---|---|---|\n",
       "| O1 | 1.00 | 0.21 | 0.40 | 0.18 | 0.24 |\n",
       "| O2r | 0.21 | 1.00 | 0.26 | 0.07 | 0.32 |\n",
       "| O3 | 0.40 | 0.26 | 1.00 | 0.19 | 0.31 |\n",
       "| O4 | 0.18 | 0.07 | 0.19 | 1.00 | 0.18 |\n",
       "| O5r | 0.24 | 0.32 | 0.31 | 0.18 | 1.00 |\n",
       "\n"
      ],
      "text/plain": [
       "    O1   O2r  O3   O4   O5r \n",
       "O1  1.00 0.21 0.40 0.18 0.24\n",
       "O2r 0.21 1.00 0.26 0.07 0.32\n",
       "O3  0.40 0.26 1.00 0.19 0.31\n",
       "O4  0.18 0.07 0.19 1.00 0.18\n",
       "O5r 0.24 0.32 0.31 0.18 1.00"
      ]
     },
     "metadata": {},
     "output_type": "display_data"
    }
   ],
   "source": [
    "cor(bfi[c(\"O1\", \"O2r\", \"O3\", \"O4\", \"O5r\")], use = \"pairwise.complete.obs\") |>\n",
    "    round(2)"
   ]
  },
  {
   "cell_type": "markdown",
   "id": "4007bb63",
   "metadata": {},
   "source": [
    "Consideriamo la matrice di varianze e covarianze della sottoscala Openness. "
   ]
  },
  {
   "cell_type": "code",
   "execution_count": 23,
   "id": "2dd9e307",
   "metadata": {
    "vscode": {
     "languageId": "r"
    }
   },
   "outputs": [
    {
     "data": {
      "text/html": [
       "<table class=\"dataframe\">\n",
       "<caption>A matrix: 5 × 5 of type dbl</caption>\n",
       "<thead>\n",
       "\t<tr><th></th><th scope=col>O1</th><th scope=col>O2r</th><th scope=col>O3</th><th scope=col>O4</th><th scope=col>O5r</th></tr>\n",
       "</thead>\n",
       "<tbody>\n",
       "\t<tr><th scope=row>O1</th><td>1.28</td><td>0.38</td><td>0.54</td><td>0.25</td><td>0.36</td></tr>\n",
       "\t<tr><th scope=row>O2r</th><td>0.38</td><td>2.45</td><td>0.50</td><td>0.13</td><td>0.67</td></tr>\n",
       "\t<tr><th scope=row>O3</th><td>0.54</td><td>0.50</td><td>1.49</td><td>0.29</td><td>0.50</td></tr>\n",
       "\t<tr><th scope=row>O4</th><td>0.25</td><td>0.13</td><td>0.29</td><td>1.49</td><td>0.29</td></tr>\n",
       "\t<tr><th scope=row>O5r</th><td>0.36</td><td>0.67</td><td>0.50</td><td>0.29</td><td>1.76</td></tr>\n",
       "</tbody>\n",
       "</table>\n"
      ],
      "text/latex": [
       "A matrix: 5 × 5 of type dbl\n",
       "\\begin{tabular}{r|lllll}\n",
       "  & O1 & O2r & O3 & O4 & O5r\\\\\n",
       "\\hline\n",
       "\tO1 & 1.28 & 0.38 & 0.54 & 0.25 & 0.36\\\\\n",
       "\tO2r & 0.38 & 2.45 & 0.50 & 0.13 & 0.67\\\\\n",
       "\tO3 & 0.54 & 0.50 & 1.49 & 0.29 & 0.50\\\\\n",
       "\tO4 & 0.25 & 0.13 & 0.29 & 1.49 & 0.29\\\\\n",
       "\tO5r & 0.36 & 0.67 & 0.50 & 0.29 & 1.76\\\\\n",
       "\\end{tabular}\n"
      ],
      "text/markdown": [
       "\n",
       "A matrix: 5 × 5 of type dbl\n",
       "\n",
       "| <!--/--> | O1 | O2r | O3 | O4 | O5r |\n",
       "|---|---|---|---|---|---|\n",
       "| O1 | 1.28 | 0.38 | 0.54 | 0.25 | 0.36 |\n",
       "| O2r | 0.38 | 2.45 | 0.50 | 0.13 | 0.67 |\n",
       "| O3 | 0.54 | 0.50 | 1.49 | 0.29 | 0.50 |\n",
       "| O4 | 0.25 | 0.13 | 0.29 | 1.49 | 0.29 |\n",
       "| O5r | 0.36 | 0.67 | 0.50 | 0.29 | 1.76 |\n",
       "\n"
      ],
      "text/plain": [
       "    O1   O2r  O3   O4   O5r \n",
       "O1  1.28 0.38 0.54 0.25 0.36\n",
       "O2r 0.38 2.45 0.50 0.13 0.67\n",
       "O3  0.54 0.50 1.49 0.29 0.50\n",
       "O4  0.25 0.13 0.29 1.49 0.29\n",
       "O5r 0.36 0.67 0.50 0.29 1.76"
      ]
     },
     "metadata": {},
     "output_type": "display_data"
    }
   ],
   "source": [
    "C <- cov(bfi[c(\"O1\", \"O2r\", \"O3\", \"O4\", \"O5r\")], use = \"pairwise.complete.obs\")\n",
    "C |> round(2)"
   ]
  },
  {
   "cell_type": "markdown",
   "id": "eda4755e",
   "metadata": {},
   "source": [
    "Calcoliamo alpha:"
   ]
  },
  {
   "cell_type": "code",
   "execution_count": 25,
   "id": "6ce0c3c5",
   "metadata": {
    "vscode": {
     "languageId": "r"
    }
   },
   "outputs": [
    {
     "data": {
      "text/html": [
       "0.600172514820215"
      ],
      "text/latex": [
       "0.600172514820215"
      ],
      "text/markdown": [
       "0.600172514820215"
      ],
      "text/plain": [
       "[1] 0.6001725"
      ]
     },
     "metadata": {},
     "output_type": "display_data"
    }
   ],
   "source": [
    "p <- 5\n",
    "alpha <- (p / (p - 1)) * (1 - tr(C) / sum(C))\n",
    "alpha"
   ]
  },
  {
   "cell_type": "markdown",
   "id": "c273c87d",
   "metadata": {},
   "source": [
    "Lo stesso risultato si ottiene utilizzando la funzione `alpha()`\n",
    "contenuta nel pacchetto `psych`:"
   ]
  },
  {
   "cell_type": "code",
   "execution_count": 24,
   "id": "ab490db5",
   "metadata": {
    "vscode": {
     "languageId": "r"
    }
   },
   "outputs": [
    {
     "data": {
      "text/plain": [
       "\n",
       "Reliability analysis   \n",
       "Call: psych::alpha(x = C)\n",
       "\n",
       "  raw_alpha std.alpha G6(smc) average_r S/N median_r\n",
       "       0.6      0.61    0.57      0.24 1.5     0.23\n",
       "\n",
       "    95% confidence boundaries \n",
       "      lower alpha upper\n",
       "Feldt -0.49   0.6  0.95\n",
       "\n",
       " Reliability if an item is dropped:\n",
       "    raw_alpha std.alpha G6(smc) average_r S/N  var.r med.r\n",
       "O1       0.53      0.53    0.48      0.22 1.1 0.0092  0.23\n",
       "O2r      0.57      0.57    0.51      0.25 1.3 0.0076  0.22\n",
       "O3       0.50      0.50    0.44      0.20 1.0 0.0071  0.20\n",
       "O4       0.61      0.62    0.56      0.29 1.6 0.0044  0.29\n",
       "O5r      0.51      0.53    0.47      0.22 1.1 0.0115  0.20\n",
       "\n",
       " Item statistics \n",
       "       r r.cor r.drop\n",
       "O1  0.65  0.52   0.39\n",
       "O2r 0.60  0.43   0.33\n",
       "O3  0.69  0.59   0.45\n",
       "O4  0.52  0.29   0.22\n",
       "O5r 0.66  0.52   0.42"
      ]
     },
     "metadata": {},
     "output_type": "display_data"
    }
   ],
   "source": [
    "psych::alpha(C)"
   ]
  },
  {
   "cell_type": "markdown",
   "id": "36ffeef6",
   "metadata": {},
   "source": [
    "### Metodi alternativi per la stima del coefficiente di attendibilità\n",
    "\n",
    "Ci sono altri coefficienti di consistenza interna oltre al coefficiente alpha di Cronbach. Alcuni esempi includono il coefficiente KR-20 e il coefficiente KR-21, che vengono utilizzati con item  dicotomici (ossia con risposte a due alternative, come vero/falso). \n",
    "\n",
    "#### Coefficiente KR-20\n",
    "\n",
    "La formula di Kuder-Richardson-20 (KR-20) è un caso particolare del coefficiente α. Se ogni item è dicotomico, il coefficiente α diventa il KR-20. Il coefficiente Coefficiente KR-20 si calcola con la formula:\n",
    "\n",
    "$$\n",
    "KR\\_20 = \\frac{{k}}{{k-1}} \\left( 1 - \\frac{{p(1-p)}}{{\\sigma_{X}^{2}}} \\right) \n",
    "$$\n",
    "\n",
    "dove:\n",
    "- $k$ è il numero di item nel test,\n",
    "- $p$ è la proporzione di individui che rispondono correttamente all'item,\n",
    "- $\\sigma_{X}^{2}$ è la varianza totale dei punteggi del test."
   ]
  },
  {
   "cell_type": "markdown",
   "id": "3e6d31fb",
   "metadata": {},
   "source": [
    "**Esempio.** Per fare un esempio, consideriamo il data-set `LSAT` contenuto nel pacchetto `ltm`."
   ]
  },
  {
   "cell_type": "code",
   "execution_count": 38,
   "id": "b56b3585",
   "metadata": {
    "vscode": {
     "languageId": "r"
    }
   },
   "outputs": [],
   "source": [
    "KR20 <- function(responses) {\n",
    "    # Get number of items (N) and individuals\n",
    "    n.items <- ncol(responses)\n",
    "    n.persons <- nrow(responses)\n",
    "    # get p_j for each item\n",
    "    p <- colMeans(responses)\n",
    "    # Get total scores (X)\n",
    "    x <- rowSums(responses)\n",
    "    # observed score variance\n",
    "    var.x <- var(x) * (n.persons - 1) / n.persons\n",
    "    # Apply KR-20 formula\n",
    "    rel <- (n.items / (n.items - 1)) * (1 - sum(p * (1 - p)) / var.x)\n",
    "    return(rel)\n",
    "}"
   ]
  },
  {
   "cell_type": "code",
   "execution_count": 42,
   "id": "0a3b7970",
   "metadata": {
    "vscode": {
     "languageId": "r"
    }
   },
   "outputs": [
    {
     "data": {
      "text/html": [
       "<table class=\"dataframe\">\n",
       "<caption>A data.frame: 6 × 5</caption>\n",
       "<thead>\n",
       "\t<tr><th></th><th scope=col>Item 1</th><th scope=col>Item 2</th><th scope=col>Item 3</th><th scope=col>Item 4</th><th scope=col>Item 5</th></tr>\n",
       "\t<tr><th></th><th scope=col>&lt;int&gt;</th><th scope=col>&lt;int&gt;</th><th scope=col>&lt;int&gt;</th><th scope=col>&lt;int&gt;</th><th scope=col>&lt;int&gt;</th></tr>\n",
       "</thead>\n",
       "<tbody>\n",
       "\t<tr><th scope=row>1</th><td>0</td><td>0</td><td>0</td><td>0</td><td>0</td></tr>\n",
       "\t<tr><th scope=row>2</th><td>0</td><td>0</td><td>0</td><td>0</td><td>0</td></tr>\n",
       "\t<tr><th scope=row>3</th><td>0</td><td>0</td><td>0</td><td>0</td><td>0</td></tr>\n",
       "\t<tr><th scope=row>4</th><td>0</td><td>0</td><td>0</td><td>0</td><td>1</td></tr>\n",
       "\t<tr><th scope=row>5</th><td>0</td><td>0</td><td>0</td><td>0</td><td>1</td></tr>\n",
       "\t<tr><th scope=row>6</th><td>0</td><td>0</td><td>0</td><td>0</td><td>1</td></tr>\n",
       "</tbody>\n",
       "</table>\n"
      ],
      "text/latex": [
       "A data.frame: 6 × 5\n",
       "\\begin{tabular}{r|lllll}\n",
       "  & Item 1 & Item 2 & Item 3 & Item 4 & Item 5\\\\\n",
       "  & <int> & <int> & <int> & <int> & <int>\\\\\n",
       "\\hline\n",
       "\t1 & 0 & 0 & 0 & 0 & 0\\\\\n",
       "\t2 & 0 & 0 & 0 & 0 & 0\\\\\n",
       "\t3 & 0 & 0 & 0 & 0 & 0\\\\\n",
       "\t4 & 0 & 0 & 0 & 0 & 1\\\\\n",
       "\t5 & 0 & 0 & 0 & 0 & 1\\\\\n",
       "\t6 & 0 & 0 & 0 & 0 & 1\\\\\n",
       "\\end{tabular}\n"
      ],
      "text/markdown": [
       "\n",
       "A data.frame: 6 × 5\n",
       "\n",
       "| <!--/--> | Item 1 &lt;int&gt; | Item 2 &lt;int&gt; | Item 3 &lt;int&gt; | Item 4 &lt;int&gt; | Item 5 &lt;int&gt; |\n",
       "|---|---|---|---|---|---|\n",
       "| 1 | 0 | 0 | 0 | 0 | 0 |\n",
       "| 2 | 0 | 0 | 0 | 0 | 0 |\n",
       "| 3 | 0 | 0 | 0 | 0 | 0 |\n",
       "| 4 | 0 | 0 | 0 | 0 | 1 |\n",
       "| 5 | 0 | 0 | 0 | 0 | 1 |\n",
       "| 6 | 0 | 0 | 0 | 0 | 1 |\n",
       "\n"
      ],
      "text/plain": [
       "  Item 1 Item 2 Item 3 Item 4 Item 5\n",
       "1 0      0      0      0      0     \n",
       "2 0      0      0      0      0     \n",
       "3 0      0      0      0      0     \n",
       "4 0      0      0      0      1     \n",
       "5 0      0      0      0      1     \n",
       "6 0      0      0      0      1     "
      ]
     },
     "metadata": {},
     "output_type": "display_data"
    }
   ],
   "source": [
    "data(LSAT)\n",
    "head(LSAT)"
   ]
  },
  {
   "cell_type": "code",
   "execution_count": 43,
   "id": "16cea030",
   "metadata": {
    "vscode": {
     "languageId": "r"
    }
   },
   "outputs": [
    {
     "data": {
      "text/html": [
       "0.294997192215944"
      ],
      "text/latex": [
       "0.294997192215944"
      ],
      "text/markdown": [
       "0.294997192215944"
      ],
      "text/plain": [
       "[1] 0.2949972"
      ]
     },
     "metadata": {},
     "output_type": "display_data"
    }
   ],
   "source": [
    "KR20(LSAT)"
   ]
  },
  {
   "attachments": {},
   "cell_type": "markdown",
   "id": "9c88acc2",
   "metadata": {},
   "source": [
    "#### Coefficiente KR-21\n",
    "\n",
    "Il coefficiente Coefficiente KR-21 si calcola con la formula:\n",
    "\n",
    "$$\n",
    "KR\\_21 = \\frac{{k}}{{k-1}} \\left( 1 - \\frac{{\\frac{{\\sum_{i=1}^{k} p_{i}(1-p_{i})}}{{\\sigma_{X}^{2}}}}}{{1 - \\frac{{\\sum_{i=1}^{k} p_{i}}}{k}}} \\right) \n",
    "$$\n",
    "\n",
    "dove:\n",
    "- $k$ è il numero di item nel test,\n",
    "- $p_{i}$ è la proporzione di individui che rispondono correttamente all'item \\(i\\),\n",
    "- $\\sigma_{X}^{2}$ è la varianza totale dei punteggi del test.\n",
    "\n",
    "\n",
    "## Attendibilità test-retest\n",
    "\n",
    "Il concetto di \"affidabilità test-retest\" riguarda la coerenza o stabilità dei punteggi del test in diverse occasioni nel tempo. Questo tipo di affidabilità è fondamentale per situazioni in cui i punteggi verranno ottenuti in momenti diversi e comparati, come ad esempio in situazioni di pre-test e post-test. È altrettanto importante quando i punteggi del test verranno utilizzati per prendere decisioni diagnostiche, di selezione o di collocazione. Tuttavia, l'affidabilità test-retest non è adatta per misurare costrutti che non sono noti per essere stabili. Ciò è dovuto al fatto che l'analisi della stabilità di un test potrebbe essere influenzata dai cambiamenti effettivi nei livelli veri del costrutto dei partecipanti. Pertanto, è essenziale che i ricercatori siano consapevoli in anticipo che il costrutto da misurare sia stabile. Va sottolineato che molti costrutti di interesse nelle scienze sociali sono considerati relativamente stabili nel tempo, come ad esempio la creatività, l'abilità cognitiva e alcune caratteristiche della personalità.\n",
    "\n",
    "## Forme parallele del test\n",
    "\n",
    "In alcune situazioni, si hanno a disposizione più versioni di un test progettate per essere interscambiabili, in modo che la versione specifica del test non influenzi i punteggi dei partecipanti. Queste forme alternative di test sono comuni nel campo dell'istruzione, dove spesso vengono preparate diverse versioni per prevenire frodi. Anche i ricercatori possono utilizzare forme alternative negli studi che coinvolgono pre-test e post-test, per evitare che i partecipanti traggano vantaggio da effetti di pratica o memoria. Tuttavia, è essenziale determinare se i punteggi sono coerenti tra le diverse forme, poiché la mancanza di equivalenza può portare a conclusioni errate sulla variazione dei punteggi.\n",
    "\n",
    "Le principali fonti di errore di misurazione per le forme alternative di test cognitivi sono rappresentate dalle differenze nei contenuti, nella difficoltà e nella complessità cognitiva degli item. Per i test non-cognitivi, le differenze nei contenuti e nell'intensità degli item sono di preoccupazione. Gli sviluppatori di forme alternative utilizzano diverse procedure per garantire l'equivalenza tra le forme, basandosi sulla stessa tabella di specifiche che determina la proporzione di item per i vari domini di contenuto e livelli cognitivi o non-cognitivi. Inoltre, gli item vengono abbinati per difficoltà e capacità discriminante.\n",
    "\n",
    "I coefficienti di equivalenza, noti anche come affidabilità delle forme alternative, valutano la similarità tra due o più forme di test. Per ottenere stime di questi coefficienti, le due forme vengono somministrate agli stessi partecipanti e i punteggi ottenuti vengono correlati. Tuttavia, ci sono alcune considerazioni riguardo alla somministrazione dei test e al possibile affaticamento dei partecipanti. Alcune strategie, come il bilanciamento dell'ordine di somministrazione e l'utilizzo di un breve intervallo di tempo tra le forme, possono essere adottate per mitigare tali problemi. Inoltre, è necessario considerare gli effetti della pratica o della memoria, che possono influenzare i punteggi del secondo test somministrato. L'uso del bilanciamento tra i gruppi può aiutare a controllare tali effetti.\n",
    "\n",
    "## Conclusioni\n",
    "\n",
    "In conclusione, la valutazione dell'affidabilità di un test richiede l'utilizzo di diversi coefficienti che considerano le diverse fonti di errore. I coefficienti di consistenza interna valutano l'errore derivante dalle fluttuazioni delle risposte tra gli item, mentre quelli di equivalenza esaminano la coerenza dei punteggi tra diverse forme del test. I coefficienti di stabilità misurano la coerenza dei punteggi nel tempo. È fondamentale selezionare il tipo di affidabilità adeguato allo scopo del test, al fine di ottenere informazioni attendibili e utili per le decisioni basate sui punteggi del test.\n"
   ]
  },
  {
   "attachments": {},
   "cell_type": "markdown",
   "id": "455bbb23",
   "metadata": {},
   "source": [
    "<!-- [^2]: Vedremo in seguito -->\n",
    "<!--     (§ [\\[ch:err_stnd_stima\\]](#ch:err_stnd_stima){reference-type=\"ref\" -->\n",
    "<!--     reference=\"ch:err_stnd_stima\"}) come il livello di abilità latente -->\n",
    "<!--     (il punteggio vero) possa essere stimato con la formula di Kelley -->\n",
    "<!--     (1923), ovvero $$\\begin{aligned} -->\n",
    "<!--     \\hat{T}_i &= \\rho_{XT} x_i + (1 - \\rho_{XT})\\mu_x\\notag\\\\ -->\n",
    "<!--     &= \\mu_x + \\rho_{XT} (x_i - \\mu_x),\\notag\\end{aligned}$$ dove -->\n",
    "<!--     $\\mu_x$ è la media dei punteggio osservato e $\\hat{T}_i$ è la stima -->\n",
    "<!--     del punteggio vero per l'$i$-esimo rispondente. -->\n",
    "\n",
    "<!-- [^3]:  -->"
   ]
  }
 ],
 "metadata": {
  "jupytext": {
   "cell_metadata_filter": "fig.cap,tags,-all",
   "main_language": "R",
   "notebook_metadata_filter": "-all"
  },
  "kernelspec": {
   "display_name": "R",
   "language": "R",
   "name": "ir"
  },
  "language_info": {
   "codemirror_mode": "r",
   "file_extension": ".r",
   "mimetype": "text/x-r-source",
   "name": "R",
   "pygments_lexer": "r",
   "version": "4.3.1"
  }
 },
 "nbformat": 4,
 "nbformat_minor": 5
}
