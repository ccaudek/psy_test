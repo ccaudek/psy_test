{
 "cells": [
  {
   "attachments": {},
   "cell_type": "markdown",
   "id": "756eb571",
   "metadata": {},
   "source": [
    "(factorial-invariance-notebook)=\n",
    "# Invarianza di misura  "
   ]
  },
  {
   "cell_type": "code",
   "execution_count": 40,
   "id": "a8e1a699",
   "metadata": {
    "tags": [
     "remove_cell"
    ],
    "vscode": {
     "languageId": "r"
    }
   },
   "outputs": [],
   "source": [
    "source(\"_common.R\")\n",
    "suppressPackageStartupMessages({\n",
    "    library(\"lavaan\")\n",
    "    library(\"semTools\")\n",
    "})\n",
    "set.seed(42)"
   ]
  },
  {
   "attachments": {},
   "cell_type": "markdown",
   "id": "5a68b455",
   "metadata": {},
   "source": [
    "I precedenti esempi di CFA presentati in questa dispensa sono stati stimati all'interno di un singolo gruppo, hanno utilizzato come input un'unica matrice covarianza e hanno portato alla stima dei parametri del modello sui quali non è stata imposta alcuna restrizione. In questo capitolo, le  analisi precedenti verranno estese considerando il problema dell'invarianza di misura. Quello che ci chiediamo è se sia sensato considerare la medesima struttura fattoriale in gruppi diversi. In altre parole, ci chiediamo se viene misurata la stessa variabile latente tra gruppi diversi. Questa proprietà è chiamata *invarianza di misura* {cite:p}`meredith1993measurement`. \n",
    "\n",
    "L'approccio che viene utilizzato per valutare l'invarianza di misura è quello dell'analisi fattoriale confermativa a gruppi multipli (*multiple-group confirmatory factor analysis*, MG-CFA). Questa verifica è importante perché i confronti tra le medie dei gruppi sono possibili solo se viene dimostrata l'equivalenza di misura: se lo stesso reattivo misura dimensioni diverse in gruppi diversi, i confronti tra gruppi nei termini di quella misura non sono ovviamente possibili. Nel presente Capitolo, verrà affrontato il problema dell'invarianza di misura considerando prima il caso degli indicatori continui e poi il caso ddeli indicatori categoriali.\n",
    "\n",
    "## Indicatori continui\n",
    "\n",
    "### Intercette degli item\n",
    "\n",
    "In generale, i modelli di equazioni strutturali vengono utilizzati per modellare unicamente la matrice di covarianza delle variabili osservate in un set di dati.  Ricordiamo che, quando abbiamo introdotto il modello dell'analisi fattoriale, \n",
    "\n",
    "$$\n",
    "y_i = \\mu + \\lambda_j \\xi_k + \\delta_i,\n",
    "$$\n",
    "\n",
    "per semplicità abbiamo ignorato la media $\\mu$ degli indicatori esprimendo i dati osservati nei termini degli scarti dalla media, $y_i -\\mu$, in quanto ciò lascia immutate le covarianze. Tuttavia, in alcune applicazioni (quali, appunto, l'invarianza di misura), è utile considerare anche le medie delle variabili osservate. Per includere nel modello fattoriale le informazioni sulle medie facciamo esplicito riferimento all'intercetta della precedente equazione. Usando la sintassi `lavaan`, la media di una variabile manifesta viene inserita nel modello specificando l'intercetta dell'equazione precedente come segue"
   ]
  },
  {
   "cell_type": "code",
   "execution_count": null,
   "id": "ed01294c",
   "metadata": {
    "eval": false,
    "vscode": {
     "languageId": "r"
    }
   },
   "outputs": [],
   "source": [
    "my_item ~ 1"
   ]
  },
  {
   "attachments": {},
   "cell_type": "markdown",
   "id": "a5665921",
   "metadata": {},
   "source": [
    "La parte sinistra dell'espressione precedente contiene il nome della variabile manifesta a cui si fa riferimento; la parte destra dell'espressione precedente specifica la presenza dell'intercetta. \n",
    "\n",
    "Per esempio, nella specificazione di un modello a due fattori comuni, è possibile aggiungere al modello le medie delle variabili manifeste nel modo seguente:"
   ]
  },
  {
   "cell_type": "code",
   "execution_count": 2,
   "id": "1f8ec6d2",
   "metadata": {
    "eval": false,
    "vscode": {
     "languageId": "r"
    }
   },
   "outputs": [],
   "source": [
    "mod1 <- \"\n",
    "  # two-factor model\n",
    "  f1 =~ x1 + x2 + x3\n",
    "  f2 =~ x4 + x5 + x6\n",
    "  # intercepts\n",
    "  x1 ~ 1\n",
    "  x2 ~ 1\n",
    "  x3 ~ 1\n",
    "  x4 ~ 1\n",
    "  x5 ~ 1\n",
    "  x6 ~ 1\n",
    "\""
   ]
  },
  {
   "attachments": {},
   "cell_type": "markdown",
   "id": "6cdabbcd",
   "metadata": {},
   "source": [
    "Tuttavia, è più conveniente omettere le intercette nella specificazione del modello e aggiungere l'argomento `meanstructure = TRUE` nella funzione `cfa()`."
   ]
  },
  {
   "cell_type": "code",
   "execution_count": 3,
   "id": "39df785a",
   "metadata": {
    "eval": false,
    "vscode": {
     "languageId": "r"
    }
   },
   "outputs": [],
   "source": [
    "mod2 <- \"\n",
    "  f1 =~ x1 + x2 + x3\n",
    "  f2 =~ x4 + x5 + x6\n",
    "\""
   ]
  },
  {
   "attachments": {},
   "cell_type": "markdown",
   "id": "87796df7",
   "metadata": {},
   "source": [
    "```\n",
    "fit <- cfa(\n",
    "  mod2,\n",
    "  data = d,\n",
    "  meanstructure = TRUE\n",
    ")\n",
    "```"
   ]
  },
  {
   "attachments": {},
   "cell_type": "markdown",
   "id": "07ad6684",
   "metadata": {},
   "source": [
    "Si noti che modelli con o senza `meanstructure` avranno la stessa statistica chi-quadrato e lo stesso numero di gradi di libertà. Il motivo è che, nel caso di un modello con `meanstructure`, vengono introdotti $p$ nuovi dati (ovvero, il valore della media per ciascuno dei $p$ indicatori) ma vengono anche stimati ulteriori $p$ parametri (ovvero, un'intercetta per ciascuno dei $p$ indicatori). Il risultato finale è che la bontà dell'adattamento resta immutata. In pratica, l'unico motivo per aggiungere le intercette nella sintassi del modello è quello di introdurre dei vincoli nella stima di tali parametri. \n",
    "\n",
    "### Terminologia\n",
    "\n",
    "La discussione dell'invarianza di misura nel contesto della CFA fa uso della seguente terminologia. \n",
    "\n",
    "- L'*invarianza configurale* (*configural invariance*) verifica se la struttura dei fattori sia la stessa tra i gruppi, ovvero verifica la presenza dello stesso numero di fattori e della stessa struttura fattoriale (nella CFA) tra i gruppi.\n",
    "- L'*invarianza metrica* (*metric invariance*) o *invarianza fattoriale debole* (*weak factorial invariance*) verifica inoltre se le saturazioni fattoriali rimangono invariante tra i gruppi. \n",
    "- L'*invarianza scalare* (*scalar invariance*) o *invarianza fattoriale forte* verifica inoltre se le intercette degli item rimangono invariate tra i gruppi. \n",
    "- L'*invarianza fattoriale rigorosa* (*strict factorial invariance*) verifica inoltre se i residui degli indicatori rimangono invarianti tra i gruppi.\n",
    "\n",
    "### Un esempio concreto\n",
    "\n",
    "Consideriamo qui un esempio discusso da @brown2015confirmatory. Il modello CFA riguarda un modello di misurazione per la depressione maggiore così come è definita nel DSM-IV. Il campione include 9 indicatori:\n",
    "\n",
    "- MDD1, depressed mood; \n",
    "- MDD2, loss of interest in usual activities; \n",
    "- MDD3, weight/appetite change; \n",
    "- MDD4, sleep disturbance; \n",
    "- MDD5, psychomotor agitation/retardation; \n",
    "- MDD6, fatigue/loss of energy; \n",
    "- MDD7, feelings of worthlessness/guilt; \n",
    "- MDD8, concentration difficulties; \n",
    "- MDD9, thoughts of death/suicidality.\n",
    "\n",
    "Leggiamo i dati in $\\mathsf{R}$:"
   ]
  },
  {
   "cell_type": "code",
   "execution_count": 41,
   "id": "84fffdec",
   "metadata": {
    "vscode": {
     "languageId": "r"
    }
   },
   "outputs": [],
   "source": [
    "d <- readRDS(\n",
    "  here::here(\"data\", \"mdd_sex.RDS\")\n",
    ")"
   ]
  },
  {
   "cell_type": "code",
   "execution_count": 42,
   "id": "42ba206a",
   "metadata": {
    "vscode": {
     "languageId": "r"
    }
   },
   "outputs": [
    {
     "data": {
      "text/html": [
       "<table class=\"dataframe\">\n",
       "<caption>A data.frame: 6 x 10</caption>\n",
       "<thead>\n",
       "\t<tr><th></th><th scope=col>sex</th><th scope=col>mdd1</th><th scope=col>mdd2</th><th scope=col>mdd3</th><th scope=col>mdd4</th><th scope=col>mdd5</th><th scope=col>mdd6</th><th scope=col>mdd7</th><th scope=col>mdd8</th><th scope=col>mdd9</th></tr>\n",
       "\t<tr><th></th><th scope=col>&lt;fct&gt;</th><th scope=col>&lt;int&gt;</th><th scope=col>&lt;int&gt;</th><th scope=col>&lt;int&gt;</th><th scope=col>&lt;int&gt;</th><th scope=col>&lt;int&gt;</th><th scope=col>&lt;int&gt;</th><th scope=col>&lt;int&gt;</th><th scope=col>&lt;int&gt;</th><th scope=col>&lt;int&gt;</th></tr>\n",
       "</thead>\n",
       "<tbody>\n",
       "\t<tr><th scope=row>1</th><td>female</td><td>5</td><td>4</td><td>1</td><td>6</td><td>5</td><td>6</td><td>5</td><td>4</td><td>2</td></tr>\n",
       "\t<tr><th scope=row>2</th><td>female</td><td>5</td><td>5</td><td>5</td><td>5</td><td>4</td><td>5</td><td>4</td><td>5</td><td>4</td></tr>\n",
       "\t<tr><th scope=row>3</th><td>female</td><td>4</td><td>5</td><td>4</td><td>2</td><td>6</td><td>6</td><td>0</td><td>0</td><td>0</td></tr>\n",
       "\t<tr><th scope=row>4</th><td>female</td><td>5</td><td>5</td><td>3</td><td>3</td><td>5</td><td>5</td><td>6</td><td>4</td><td>0</td></tr>\n",
       "\t<tr><th scope=row>5</th><td>female</td><td>5</td><td>5</td><td>0</td><td>5</td><td>0</td><td>4</td><td>6</td><td>0</td><td>0</td></tr>\n",
       "\t<tr><th scope=row>6</th><td>female</td><td>6</td><td>6</td><td>4</td><td>6</td><td>4</td><td>6</td><td>5</td><td>6</td><td>2</td></tr>\n",
       "</tbody>\n",
       "</table>\n"
      ],
      "text/latex": [
       "A data.frame: 6 x 10\n",
       "\\begin{tabular}{r|llllllllll}\n",
       "  & sex & mdd1 & mdd2 & mdd3 & mdd4 & mdd5 & mdd6 & mdd7 & mdd8 & mdd9\\\\\n",
       "  & <fct> & <int> & <int> & <int> & <int> & <int> & <int> & <int> & <int> & <int>\\\\\n",
       "\\hline\n",
       "\t1 & female & 5 & 4 & 1 & 6 & 5 & 6 & 5 & 4 & 2\\\\\n",
       "\t2 & female & 5 & 5 & 5 & 5 & 4 & 5 & 4 & 5 & 4\\\\\n",
       "\t3 & female & 4 & 5 & 4 & 2 & 6 & 6 & 0 & 0 & 0\\\\\n",
       "\t4 & female & 5 & 5 & 3 & 3 & 5 & 5 & 6 & 4 & 0\\\\\n",
       "\t5 & female & 5 & 5 & 0 & 5 & 0 & 4 & 6 & 0 & 0\\\\\n",
       "\t6 & female & 6 & 6 & 4 & 6 & 4 & 6 & 5 & 6 & 2\\\\\n",
       "\\end{tabular}\n"
      ],
      "text/markdown": [
       "\n",
       "A data.frame: 6 x 10\n",
       "\n",
       "| <!--/--> | sex &lt;fct&gt; | mdd1 &lt;int&gt; | mdd2 &lt;int&gt; | mdd3 &lt;int&gt; | mdd4 &lt;int&gt; | mdd5 &lt;int&gt; | mdd6 &lt;int&gt; | mdd7 &lt;int&gt; | mdd8 &lt;int&gt; | mdd9 &lt;int&gt; |\n",
       "|---|---|---|---|---|---|---|---|---|---|---|\n",
       "| 1 | female | 5 | 4 | 1 | 6 | 5 | 6 | 5 | 4 | 2 |\n",
       "| 2 | female | 5 | 5 | 5 | 5 | 4 | 5 | 4 | 5 | 4 |\n",
       "| 3 | female | 4 | 5 | 4 | 2 | 6 | 6 | 0 | 0 | 0 |\n",
       "| 4 | female | 5 | 5 | 3 | 3 | 5 | 5 | 6 | 4 | 0 |\n",
       "| 5 | female | 5 | 5 | 0 | 5 | 0 | 4 | 6 | 0 | 0 |\n",
       "| 6 | female | 6 | 6 | 4 | 6 | 4 | 6 | 5 | 6 | 2 |\n",
       "\n"
      ],
      "text/plain": [
       "  sex    mdd1 mdd2 mdd3 mdd4 mdd5 mdd6 mdd7 mdd8 mdd9\n",
       "1 female 5    4    1    6    5    6    5    4    2   \n",
       "2 female 5    5    5    5    4    5    4    5    4   \n",
       "3 female 4    5    4    2    6    6    0    0    0   \n",
       "4 female 5    5    3    3    5    5    6    4    0   \n",
       "5 female 5    5    0    5    0    4    6    0    0   \n",
       "6 female 6    6    4    6    4    6    5    6    2   "
      ]
     },
     "metadata": {},
     "output_type": "display_data"
    }
   ],
   "source": [
    "head(d)"
   ]
  },
  {
   "cell_type": "code",
   "execution_count": 45,
   "id": "89462194",
   "metadata": {
    "vscode": {
     "languageId": "r"
    }
   },
   "outputs": [
    {
     "data": {
      "image/png": "[encoded data removed]",
      "text/plain": [
       "plot without title"
      ]
     },
     "metadata": {
      "image/png": {
       "height": 360,
       "width": 360
      }
     },
     "output_type": "display_data"
    }
   ],
   "source": [
    "d_long <- d |>\n",
    "    pivot_longer(!sex, names_to = \"item\", values_to = \"value\")\n",
    "\n",
    "d_long |>\n",
    "    ggplot(aes(value, col=sex)) +\n",
    "    geom_density(linewidth=1.5) +\n",
    "    facet_wrap(~item, nrow=3, scales=\"free\") +\n",
    "    labs(x=\" \", y=\"Density\")"
   ]
  },
  {
   "attachments": {},
   "cell_type": "markdown",
   "id": "cbcef891",
   "metadata": {},
   "source": [
    "I due gruppi considerati corrispondono al genere. Il problema riguarda l'invarianza fattoriale in funzione del genere. Consideriamo il seguente modello:"
   ]
  },
  {
   "cell_type": "code",
   "execution_count": 5,
   "id": "14749259",
   "metadata": {
    "vscode": {
     "languageId": "r"
    }
   },
   "outputs": [],
   "source": [
    "model_mdd <- \"\n",
    "  MDD =~ mdd1 + mdd2 + mdd3 + mdd4 + mdd5 + mdd6 + mdd7 + mdd8 +\n",
    "         mdd9\n",
    "  mdd1 ~~ mdd2\n",
    "\""
   ]
  },
  {
   "attachments": {},
   "cell_type": "markdown",
   "id": "d954a86c",
   "metadata": {},
   "source": [
    "Si noti la presenza di una correlazione residua tra gli indicatori `mdd1` e `mdd2`.\n",
    "\n",
    "Esaminiamo dunque di seguito le varie forme di invarianza fattoriale. Si notino i vincoli che vengono via via introdotti quando vengono specificati modelli via via più restrittivi. Nella sintassi `lavaan` i vincoli vengono specificati dall'argomento `group.equal`.\n",
    "\n",
    "Le forme di invarianza fattoriale qui verificate sono leggermente diverse da quelle elencate sopra."
   ]
  },
  {
   "cell_type": "code",
   "execution_count": 6,
   "id": "722971fc",
   "metadata": {
    "vscode": {
     "languageId": "r"
    }
   },
   "outputs": [],
   "source": [
    "# configural invariance\n",
    "fit_ef <- cfa(\n",
    "  model_mdd,\n",
    "  data = d,\n",
    "  group = \"sex\",\n",
    "  meanstructure = TRUE\n",
    ")\n",
    "# plus equal factor loadings- metric invariance\n",
    "fit_efl <- update(\n",
    "  fit_ef,\n",
    "  group.equal = c(\"loadings\")\n",
    ")\n",
    "# plus equal indicator intercepts\n",
    "fit_eii <- update(\n",
    "  fit_efl,\n",
    "  group.equal = c(\"loadings\", \"intercepts\")\n",
    ")\n",
    "# plus equal indicator error variances\n",
    "fit_eir <- update(\n",
    "  fit_eii,\n",
    "  group.equal = c(\"loadings\", \"intercepts\", \"residuals\")\n",
    ")\n",
    "# plus equal factor variances\n",
    "fit_fv <- update(\n",
    "  fit_eir,\n",
    "  group.equal = c(\n",
    "    \"loadings\", \"intercepts\", \"residuals\",\n",
    "    \"lv.variances\"\n",
    "  )\n",
    ")\n",
    "# plus equal latent means\n",
    "fit_fm <- update(\n",
    "  fit_fv,\n",
    "  group.equal = c(\n",
    "    \"loadings\", \"intercepts\", \"residuals\",\n",
    "    \"lv.variances\", \"means\"\n",
    "  )\n",
    ")"
   ]
  },
  {
   "attachments": {},
   "cell_type": "markdown",
   "id": "99b3e38a",
   "metadata": {},
   "source": [
    "Confrontiamo i modelli:"
   ]
  },
  {
   "cell_type": "code",
   "execution_count": 7,
   "id": "c7ed4060",
   "metadata": {
    "vscode": {
     "languageId": "r"
    }
   },
   "outputs": [
    {
     "name": "stdout",
     "output_type": "stream",
     "text": [
      "\n",
      "Chi-Squared Difference Test\n",
      "\n",
      "        Df   AIC   BIC   Chisq Chisq diff    RMSEA Df diff Pr(>Chisq)\n",
      "fit_ef  52 27526 27784  98.911                                       \n",
      "fit_efl 60 27514 27736 102.839     3.9286 0.000000       8     0.8635\n",
      "fit_eii 68 27510 27695 115.309    12.4699 0.038600       8     0.1314\n",
      "fit_eir 77 27502 27645 125.021     9.7115 0.014520       9     0.3743\n",
      "fit_fv  78 27501 27639 125.814     0.7931 0.000000       1     0.3732\n",
      "fit_fm  79 27501 27635 127.734     1.9201 0.049533       1     0.1659\n"
     ]
    }
   ],
   "source": [
    "out = lavTestLRT(fit_ef, fit_efl, fit_eii, fit_eir, fit_fv, fit_fm)\n",
    "print(out)"
   ]
  },
  {
   "attachments": {},
   "cell_type": "markdown",
   "id": "5ebf9725",
   "metadata": {},
   "source": [
    "Il confronto tra i precedenti modelli nidificati che introducono vincoli sempre più stringenti sui parametri indica che non vi è una \"significativa\" perdita di bontà dell'adattamento passando dal modello congenerico al modello che assume l'uguaglianza delle saturazioni fattoriali, delle intercette, delle varianze residue, delle varianze delle variabili latenti e delle medie dei due gruppi. Per i dati discussi da {cite:t}`brown2015confirmatory`, dunque, possiamo concludere che vi sono forti evidenze di invarianza fattoriale tra maschi e femmine in relazione al costrutto di depressione maggiore. L'invarianza fattoriali giustifica, per questi dati, un confronto tra le medie dei punteggi totali del test calcolate nei due gruppi.\n",
    "\n",
    "\n",
    "## Indicatori a livello di scala ordinale\n",
    "\n",
    "I test di invarianza fattoriale per i dati ordinali sono diversi da quelli utilizzati con le variabili continue per due aspetti: differiscono sia per lo stimatore che viene utilizzato per la stima delle saturazioni fattoriali, sia per il tipo di analisi statistiche che vengono svolte. \n",
    "\n",
    "Le variabili ordinali sono costituite da una serie di modalità (opzioni di risposta) caratterizzate da un ordine logico; ad esempio, le modalità \"fortemente in disaccordo\" fino a \"fortemente d'accordo\"; oppure le modalità \"mai\", \"a volte\", \"spesso\", \"sempre\". Queste opzioni di risposta sono logicamente ordinate e, per convenzione, ad esse vengono assegnati valori numerici interi. Tuttavia, poiché le risposte ordinali non descrivono l'intensità della presenza di un attributo, l'assegnazione di numeri alle risposte ordinali è arbitraria. Ad esempio, alle stesse cinque opzioni di risposta ordinate possiamo assegnare valori da 0 a 4, da 1 a 5, o da 5 a 1. Pertanto, i dati ordinali non possono essere analizzati come\n",
    "se fossero continui: nel caso di dati ordinali, le medie, le varianze e le covarianze delle variabili non hanno significato. \n",
    "\n",
    "Un primo problema da affrontare è quello di come si possono calcolare le correlazioni per variabili di questo tipo. La risposta a questa domanda viene fornita dalle correlazioni policoriche. Le correlazioni policoriche si calcolano ipotizzando che vi sia una variabile continua latente normalmente distribuita che è responsabile delle frequenze osservate delle varie modalità di ciascuna variabile ordinali. Secondo questa ipotesi, ogni valore di risposta ordinale (es, \"spesso\") corrisponde ai valori della variabile continua latente sottostante compresi in un determinato intervallo di valori. Tali soglie, o cutoff, ($\\tau_1, \\tau_2, \\dots, \\tau_k$) sono concepite come dei margini verticali che suddividono l'area sottesa alla funzione di densità della distribuzione normale sottostante in $k$ sezioni, ciascuna delle quali corrisponde alla frequenza del punteggio ordinale che è stato osservato in quella categoria di risposta.\n",
    "\n",
    "Se le correlazioni tra variabili ordinali sono stimate mediante le correlazioni policoriche, allora, nel contesto dell'invarianza fattoriale, un primo problema è quello dell'invarianza delle soglie (*treshold invariance*), la quale assume che le soglie necessarie per definire le correlazioni policoriche siano invarianti tra i gruppi. \n",
    "\n",
    "Un secondo aspetto specifico che riguarda lo studio dell'invarianza fattoriale nel caso di variabili ordinali riguarda lo stimatore da usare per la stima delle saturazioni fattoriali.  Lo stimatore attualmente consigliato per i dati ordinali è quello dei *minimi quadrati ponderati* (*Weighted least squares, WLS*). \n",
    "\n",
    "### Un esempio concreto\n",
    "\n",
    "{cite:t}`wu2016identification` ritengono che la procedura per la valutazione dell'invarianza fattoriale che è stata descritta in precedenza (per dati continui) debba essere modificata se vogliamo applicarla a indicatori categoriali. La procedura usuale consiste nel definire prima un modello di riferimento e successivamente di imporre restrizioni crescenti ai parametri. Secondo {cite:t}`wu2016identification`, tale approccio non è ottimale nel caso di dati categoriali perché dipende fortemente dal modo in cui vengono definite le soglie necessarie per definire le correlazioni policoriche assegnate alle variabili continue latenti nel modello dell'invarianza configurale. Secondo {cite:t}`wu2016identification`, dunque, è prima necessario valutare l'equivalenza delle soglie tra gruppi (*threshold model*) e poi valutare il modello che ipotizza l'equivalenza delle saturazioni fattoriali tra i gruppi.\n",
    "\n",
    "Per illustrare tale procedura, replichiamo qui il tutorial messo a punto da {cite:t}`svetina2020multiple`. Questi autori utilizzano quattro item di una scala del bullismo ed esaminano i dati raccolti in tre paesi (31 = Azerbaigian; 40 = Austria; 246 = Finlandia). Tutti gli item sono misurati su una scala di tipo Likert a 4 punti, che va da 0 (mai) a 3 (almeno una volta alla settimana). Gli item chiedono al partecipante di valutare delle affermazioni relative ad episodi di bullismo. Per esempio, \"mi prendevano in giro o mi insultavano\". Per l'Azerbaigian, l'Austria e la Finlandia, le dimensioni del campione sono rispettivamente pari a 3,808, 4,457 e 4,520. \n",
    "\n",
    "Leggiamo in dati in $\\textsf{R}$:"
   ]
  },
  {
   "cell_type": "code",
   "execution_count": 8,
   "id": "97a16afa",
   "metadata": {
    "vscode": {
     "languageId": "r"
    }
   },
   "outputs": [
    {
     "data": {
      "text/html": [
       "<table class=\"dataframe\">\n",
       "<caption>A data.frame: 6 x 5</caption>\n",
       "<thead>\n",
       "\t<tr><th></th><th scope=col>IDCNTRY</th><th scope=col>R09A</th><th scope=col>R09B</th><th scope=col>R09C</th><th scope=col>R09D</th></tr>\n",
       "\t<tr><th></th><th scope=col>&lt;int&gt;</th><th scope=col>&lt;int&gt;</th><th scope=col>&lt;int&gt;</th><th scope=col>&lt;int&gt;</th><th scope=col>&lt;int&gt;</th></tr>\n",
       "</thead>\n",
       "<tbody>\n",
       "\t<tr><th scope=row>1</th><td>31</td><td>3</td><td>3</td><td>0</td><td>0</td></tr>\n",
       "\t<tr><th scope=row>2</th><td>31</td><td>0</td><td>0</td><td>0</td><td>0</td></tr>\n",
       "\t<tr><th scope=row>3</th><td>31</td><td>3</td><td>2</td><td>1</td><td>3</td></tr>\n",
       "\t<tr><th scope=row>4</th><td>31</td><td>0</td><td>0</td><td>3</td><td>0</td></tr>\n",
       "\t<tr><th scope=row>5</th><td>31</td><td>0</td><td>0</td><td>0</td><td>0</td></tr>\n",
       "\t<tr><th scope=row>6</th><td>31</td><td>0</td><td>0</td><td>0</td><td>0</td></tr>\n",
       "</tbody>\n",
       "</table>\n"
      ],
      "text/latex": [
       "A data.frame: 6 x 5\n",
       "\\begin{tabular}{r|lllll}\n",
       "  & IDCNTRY & R09A & R09B & R09C & R09D\\\\\n",
       "  & <int> & <int> & <int> & <int> & <int>\\\\\n",
       "\\hline\n",
       "\t1 & 31 & 3 & 3 & 0 & 0\\\\\n",
       "\t2 & 31 & 0 & 0 & 0 & 0\\\\\n",
       "\t3 & 31 & 3 & 2 & 1 & 3\\\\\n",
       "\t4 & 31 & 0 & 0 & 3 & 0\\\\\n",
       "\t5 & 31 & 0 & 0 & 0 & 0\\\\\n",
       "\t6 & 31 & 0 & 0 & 0 & 0\\\\\n",
       "\\end{tabular}\n"
      ],
      "text/markdown": [
       "\n",
       "A data.frame: 6 x 5\n",
       "\n",
       "| <!--/--> | IDCNTRY &lt;int&gt; | R09A &lt;int&gt; | R09B &lt;int&gt; | R09C &lt;int&gt; | R09D &lt;int&gt; |\n",
       "|---|---|---|---|---|---|\n",
       "| 1 | 31 | 3 | 3 | 0 | 0 |\n",
       "| 2 | 31 | 0 | 0 | 0 | 0 |\n",
       "| 3 | 31 | 3 | 2 | 1 | 3 |\n",
       "| 4 | 31 | 0 | 0 | 3 | 0 |\n",
       "| 5 | 31 | 0 | 0 | 0 | 0 |\n",
       "| 6 | 31 | 0 | 0 | 0 | 0 |\n",
       "\n"
      ],
      "text/plain": [
       "  IDCNTRY R09A R09B R09C R09D\n",
       "1 31      3    3    0    0   \n",
       "2 31      0    0    0    0   \n",
       "3 31      3    2    1    3   \n",
       "4 31      0    0    3    0   \n",
       "5 31      0    0    0    0   \n",
       "6 31      0    0    0    0   "
      ]
     },
     "metadata": {},
     "output_type": "display_data"
    }
   ],
   "source": [
    "dat <- read.table(\"data/BULLY.dat\", header = FALSE)\n",
    "names(dat) <- c(\"IDCNTRY\", \"R09A\", \"R09B\", \"R09C\", \"R09D\")\n",
    "head(dat)"
   ]
  },
  {
   "attachments": {},
   "cell_type": "markdown",
   "id": "6a267386",
   "metadata": {},
   "source": [
    "Viene creata la matrice `all.results` per immagazzinare i risultati dei diversi modelli che verranno confrontati, chiamati _baseline_ (nessun vincolo tra i gruppi), _proposition 4_ (equivalenza delle soglie tra i gruppi), e _proposition 7_ (equivalenza delle soglie e delle saturazioni fattoriali tra i gruppi). Gli indici di bontà dell'adattamento che verranno considerati sono: chi-square, df, p, RMSEA, CFI, e TLI. "
   ]
  },
  {
   "cell_type": "code",
   "execution_count": 9,
   "id": "ba49f1ab",
   "metadata": {
    "vscode": {
     "languageId": "r"
    }
   },
   "outputs": [],
   "source": [
    "all.results <- matrix(NA, ncol = 6, nrow = 3)"
   ]
  },
  {
   "attachments": {},
   "cell_type": "markdown",
   "id": "a50906e2",
   "metadata": {},
   "source": [
    "### Baseline model\n",
    "\n",
    "Nel _baseline model_ non viene posto alcun vincolo tra i gruppi. È quello dell'invarianza configurale."
   ]
  },
  {
   "cell_type": "code",
   "execution_count": 10,
   "id": "ff7339b8",
   "metadata": {
    "vscode": {
     "languageId": "r"
    }
   },
   "outputs": [],
   "source": [
    "mod.cat <- \"F1 =~ R09A + R09B + R09C + R09D\""
   ]
  },
  {
   "cell_type": "code",
   "execution_count": 11,
   "id": "dd42dbfd",
   "metadata": {
    "vscode": {
     "languageId": "r"
    }
   },
   "outputs": [],
   "source": [
    "baseline <- measEq.syntax(\n",
    "  configural.model = mod.cat,\n",
    "  data = dat,\n",
    "  ordered = c(\"R09A\", \"R09B\", \"R09C\", \"R09D\"),\n",
    "  parameterization = \"delta\",\n",
    "  ID.fac = \"std.lv\",\n",
    "  ID.cat = \"Wu.Estabrook.2016\",\n",
    "  group = \"IDCNTRY\",\n",
    "  group.equal = \"configural\"\n",
    ")"
   ]
  },
  {
   "attachments": {},
   "cell_type": "markdown",
   "id": "5a9fccac",
   "metadata": {},
   "source": [
    "Informazioni sul modello baseline si ottengono nel modo seguente:"
   ]
  },
  {
   "cell_type": "code",
   "execution_count": 12,
   "id": "86a721b8",
   "metadata": {
    "eval": false,
    "vscode": {
     "languageId": "r"
    }
   },
   "outputs": [
    {
     "name": "stdout",
     "output_type": "stream",
     "text": [
      "This lavaan model syntax specifies a CFA with 4 manifest indicators (4 of which are ordinal) of 1 common factor(s).\n",
      "\n",
      "To identify the location and scale of each common factor, the factor means and variances were fixed to 0 and 1, respectively, unless equality constraints on measurement parameters allow them to be freed.\n",
      "\n",
      "The location and scale of each latent item-response underlying 4 ordinal indicators were identified using the \"delta\" parameterization, and the identification constraints recommended by Wu & Estabrook (2016). For details, read:\n",
      "\n",
      "\thttps://doi.org/10.1007/s11336-016-9506-0 \n",
      "\n",
      "Pattern matrix indicating num(eric), ord(ered), and lat(ent) indicators per factor:\n",
      "\n",
      "     F1 \n",
      "R09A ord\n",
      "R09B ord\n",
      "R09C ord\n",
      "R09D ord\n",
      "\n",
      "The following types of parameter were constrained to equality across groups:\n",
      "\n",
      "\tconfigural\n",
      "\n",
      "     F1   \n",
      "R09A \"ord\"\n",
      "R09B \"ord\"\n",
      "R09C \"ord\"\n",
      "R09D \"ord\"\n"
     ]
    }
   ],
   "source": [
    "out = summary(baseline)\n",
    "print(out)"
   ]
  },
  {
   "attachments": {},
   "cell_type": "markdown",
   "id": "0e16042a",
   "metadata": {},
   "source": [
    "Le proprietà del modello possono essere esplicitate con la seguente istruzione:"
   ]
  },
  {
   "cell_type": "code",
   "execution_count": 13,
   "id": "b5c46493",
   "metadata": {
    "eval": false,
    "vscode": {
     "languageId": "r"
    }
   },
   "outputs": [
    {
     "name": "stdout",
     "output_type": "stream",
     "text": [
      "## LOADINGS:\n",
      "\n",
      "F1 =~ c(NA, NA, NA)*R09A + c(lambda.1_1.g1, lambda.1_1.g2, lambda.1_1.g3)*R09A\n",
      "F1 =~ c(NA, NA, NA)*R09B + c(lambda.2_1.g1, lambda.2_1.g2, lambda.2_1.g3)*R09B\n",
      "F1 =~ c(NA, NA, NA)*R09C + c(lambda.3_1.g1, lambda.3_1.g2, lambda.3_1.g3)*R09C\n",
      "F1 =~ c(NA, NA, NA)*R09D + c(lambda.4_1.g1, lambda.4_1.g2, lambda.4_1.g3)*R09D\n",
      "\n",
      "## THRESHOLDS:\n",
      "\n",
      "R09A | c(NA, NA, NA)*t1 + c(R09A.thr1.g1, R09A.thr1.g2, R09A.thr1.g3)*t1\n",
      "R09A | c(NA, NA, NA)*t2 + c(R09A.thr2.g1, R09A.thr2.g2, R09A.thr2.g3)*t2\n",
      "R09A | c(NA, NA, NA)*t3 + c(R09A.thr3.g1, R09A.thr3.g2, R09A.thr3.g3)*t3\n",
      "R09B | c(NA, NA, NA)*t1 + c(R09B.thr1.g1, R09B.thr1.g2, R09B.thr1.g3)*t1\n",
      "R09B | c(NA, NA, NA)*t2 + c(R09B.thr2.g1, R09B.thr2.g2, R09B.thr2.g3)*t2\n",
      "R09B | c(NA, NA, NA)*t3 + c(R09B.thr3.g1, R09B.thr3.g2, R09B.thr3.g3)*t3\n",
      "R09C | c(NA, NA, NA)*t1 + c(R09C.thr1.g1, R09C.thr1.g2, R09C.thr1.g3)*t1\n",
      "R09C | c(NA, NA, NA)*t2 + c(R09C.thr2.g1, R09C.thr2.g2, R09C.thr2.g3)*t2\n",
      "R09C | c(NA, NA, NA)*t3 + c(R09C.thr3.g1, R09C.thr3.g2, R09C.thr3.g3)*t3\n",
      "R09D | c(NA, NA, NA)*t1 + c(R09D.thr1.g1, R09D.thr1.g2, R09D.thr1.g3)*t1\n",
      "R09D | c(NA, NA, NA)*t2 + c(R09D.thr2.g1, R09D.thr2.g2, R09D.thr2.g3)*t2\n",
      "R09D | c(NA, NA, NA)*t3 + c(R09D.thr3.g1, R09D.thr3.g2, R09D.thr3.g3)*t3\n",
      "\n",
      "## INTERCEPTS:\n",
      "\n",
      "R09A ~ c(0, 0, 0)*1 + c(nu.1.g1, nu.1.g2, nu.1.g3)*1\n",
      "R09B ~ c(0, 0, 0)*1 + c(nu.2.g1, nu.2.g2, nu.2.g3)*1\n",
      "R09C ~ c(0, 0, 0)*1 + c(nu.3.g1, nu.3.g2, nu.3.g3)*1\n",
      "R09D ~ c(0, 0, 0)*1 + c(nu.4.g1, nu.4.g2, nu.4.g3)*1\n",
      "\n",
      "## SCALING FACTORS:\n",
      "\n",
      "R09A ~*~ c(1, 1, 1)*R09A\n",
      "R09B ~*~ c(1, 1, 1)*R09B\n",
      "R09C ~*~ c(1, 1, 1)*R09C\n",
      "R09D ~*~ c(1, 1, 1)*R09D\n",
      "\n",
      "\n",
      "## LATENT MEANS/INTERCEPTS:\n",
      "\n",
      "F1 ~ c(0, 0, 0)*1 + c(alpha.1.g1, alpha.1.g2, alpha.1.g3)*1\n",
      "\n",
      "## COMMON-FACTOR VARIANCES:\n",
      "\n",
      "F1 ~~ c(1, 1, 1)*F1 + c(psi.1_1.g1, psi.1_1.g2, psi.1_1.g3)*F1\n"
     ]
    }
   ],
   "source": [
    "cat(as.character(baseline))"
   ]
  },
  {
   "attachments": {},
   "cell_type": "markdown",
   "id": "830f8dd2",
   "metadata": {},
   "source": [
    "Per potere essere passato a `lavaan`, l'oggetto `baseline` deve essere in formato `char`:"
   ]
  },
  {
   "cell_type": "code",
   "execution_count": 14,
   "id": "b035ee71",
   "metadata": {
    "vscode": {
     "languageId": "r"
    }
   },
   "outputs": [],
   "source": [
    "model.baseline <- as.character(baseline)"
   ]
  },
  {
   "attachments": {},
   "cell_type": "markdown",
   "id": "0fbcc338",
   "metadata": {},
   "source": [
    "Adattiamo il modello ai dati:"
   ]
  },
  {
   "cell_type": "code",
   "execution_count": 15,
   "id": "ed070e97",
   "metadata": {
    "vscode": {
     "languageId": "r"
    }
   },
   "outputs": [],
   "source": [
    "fit.baseline <- cfa(\n",
    "  model.baseline, \n",
    "  data = dat, \n",
    "  group = \"IDCNTRY\", \n",
    "  ordered = c(\"R09A\", \"R09B\", \"R09C\", \"R09D\")\n",
    ")"
   ]
  },
  {
   "attachments": {},
   "cell_type": "markdown",
   "id": "c9f6d112",
   "metadata": {},
   "source": [
    "Salviamo i risultati:"
   ]
  },
  {
   "cell_type": "code",
   "execution_count": 16,
   "id": "55305b93",
   "metadata": {
    "lines_to_next_cell": 2,
    "vscode": {
     "languageId": "r"
    }
   },
   "outputs": [],
   "source": [
    "all.results[1, ] <-\n",
    "  round(\n",
    "    data.matrix(\n",
    "      fitmeasures(fit.baseline, fit.measures = c(\n",
    "        \"chisq.scaled\", \"df.scaled\", \"pvalue.scaled\",\n",
    "        \"rmsea.scaled\", \"cfi.scaled\", \"tli.scaled\"\n",
    "      ))\n",
    "    ),\n",
    "    digits = 3\n",
    "  )"
   ]
  },
  {
   "attachments": {},
   "cell_type": "markdown",
   "id": "78a28916",
   "metadata": {},
   "source": [
    "### Invarianza delle soglie\n",
    "\n",
    "Consideriamo ora il modello _threshold invariance_ [chiamato _Proposition 4_ da @wu2016identification]. "
   ]
  },
  {
   "cell_type": "code",
   "execution_count": 17,
   "id": "afd61edb",
   "metadata": {
    "vscode": {
     "languageId": "r"
    }
   },
   "outputs": [],
   "source": [
    "prop4 <- measEq.syntax(\n",
    "  configural.model = mod.cat,\n",
    "  data = dat,\n",
    "  ordered = c(\"R09A\", \"R09B\", \"R09C\", \"R09D\"),\n",
    "  parameterization = \"delta\",\n",
    "  ID.fac = \"std.lv\",\n",
    "  ID.cat = \"Wu.Estabrook.2016\",\n",
    "  group = \"IDCNTRY\",\n",
    "  group.equal = c(\"thresholds\")\n",
    ")"
   ]
  },
  {
   "attachments": {},
   "cell_type": "markdown",
   "id": "6924495b",
   "metadata": {},
   "source": [
    "Adattiamo il modello ai dati:"
   ]
  },
  {
   "cell_type": "code",
   "execution_count": 18,
   "id": "bda7954b",
   "metadata": {
    "vscode": {
     "languageId": "r"
    }
   },
   "outputs": [],
   "source": [
    "model.prop4 <- as.character(prop4)\n",
    "fit.prop4 <- cfa(\n",
    "  model.prop4,\n",
    "  data = dat,\n",
    "  group = \"IDCNTRY\",\n",
    "  ordered = c(\"R09A\", \"R09B\", \"R09C\", \"R09D\")\n",
    ")"
   ]
  },
  {
   "attachments": {},
   "cell_type": "markdown",
   "id": "99daec10",
   "metadata": {},
   "source": [
    "Salviamo i risulati"
   ]
  },
  {
   "cell_type": "code",
   "execution_count": 19,
   "id": "dda02af9",
   "metadata": {
    "vscode": {
     "languageId": "r"
    }
   },
   "outputs": [],
   "source": [
    "#store model fit information for proposition 4\n",
    "all.results[2, ] <-\n",
    "  round(data.matrix(\n",
    "  fitmeasures(fit.prop4,fit.measures = c(\n",
    "    \"chisq.scaled\",\"df.scaled\",\"pvalue.scaled\", \n",
    "    \"rmsea.scaled\", \"cfi.scaled\", \"tli.scaled\"))), \n",
    "  digits=3\n",
    "  )"
   ]
  },
  {
   "attachments": {},
   "cell_type": "markdown",
   "id": "6d93ecac",
   "metadata": {},
   "source": [
    "Eseguiamo il confronto tra il modello _threshold invariance_ e il modello _baseline_:"
   ]
  },
  {
   "cell_type": "code",
   "execution_count": 20,
   "id": "3b7a7f0b",
   "metadata": {
    "vscode": {
     "languageId": "r"
    }
   },
   "outputs": [
    {
     "data": {
      "text/html": [
       "<table class=\"dataframe\">\n",
       "<caption>A anova: 2 x 7</caption>\n",
       "<thead>\n",
       "\t<tr><th></th><th scope=col>Df</th><th scope=col>AIC</th><th scope=col>BIC</th><th scope=col>Chisq</th><th scope=col>Chisq diff</th><th scope=col>Df diff</th><th scope=col>Pr(&gt;Chisq)</th></tr>\n",
       "\t<tr><th></th><th scope=col>&lt;int&gt;</th><th scope=col>&lt;lgl&gt;</th><th scope=col>&lt;lgl&gt;</th><th scope=col>&lt;dbl&gt;</th><th scope=col>&lt;dbl&gt;</th><th scope=col>&lt;int&gt;</th><th scope=col>&lt;dbl&gt;</th></tr>\n",
       "</thead>\n",
       "<tbody>\n",
       "\t<tr><th scope=row>fit.baseline</th><td> 6</td><td>NA</td><td>NA</td><td>26.94149</td><td>      NA</td><td>NA</td><td>          NA</td></tr>\n",
       "\t<tr><th scope=row>fit.prop4</th><td>14</td><td>NA</td><td>NA</td><td>42.16983</td><td>61.01121</td><td> 8</td><td>2.950764e-10</td></tr>\n",
       "</tbody>\n",
       "</table>\n"
      ],
      "text/latex": [
       "A anova: 2 x 7\n",
       "\\begin{tabular}{r|lllllll}\n",
       "  & Df & AIC & BIC & Chisq & Chisq diff & Df diff & Pr(>Chisq)\\\\\n",
       "  & <int> & <lgl> & <lgl> & <dbl> & <dbl> & <int> & <dbl>\\\\\n",
       "\\hline\n",
       "\tfit.baseline &  6 & NA & NA & 26.94149 &       NA & NA &           NA\\\\\n",
       "\tfit.prop4 & 14 & NA & NA & 42.16983 & 61.01121 &  8 & 2.950764e-10\\\\\n",
       "\\end{tabular}\n"
      ],
      "text/markdown": [
       "\n",
       "A anova: 2 x 7\n",
       "\n",
       "| <!--/--> | Df &lt;int&gt; | AIC &lt;lgl&gt; | BIC &lt;lgl&gt; | Chisq &lt;dbl&gt; | Chisq diff &lt;dbl&gt; | Df diff &lt;int&gt; | Pr(&gt;Chisq) &lt;dbl&gt; |\n",
       "|---|---|---|---|---|---|---|---|\n",
       "| fit.baseline |  6 | NA | NA | 26.94149 |       NA | NA |           NA |\n",
       "| fit.prop4 | 14 | NA | NA | 42.16983 | 61.01121 |  8 | 2.950764e-10 |\n",
       "\n"
      ],
      "text/plain": [
       "             Df AIC BIC Chisq    Chisq diff Df diff Pr(>Chisq)  \n",
       "fit.baseline  6 NA  NA  26.94149       NA   NA                NA\n",
       "fit.prop4    14 NA  NA  42.16983 61.01121    8      2.950764e-10"
      ]
     },
     "metadata": {},
     "output_type": "display_data"
    }
   ],
   "source": [
    "lavTestLRT(fit.baseline, fit.prop4)"
   ]
  },
  {
   "attachments": {},
   "cell_type": "markdown",
   "id": "5511aa73",
   "metadata": {},
   "source": [
    "### Invarianza delle soglie e delle saturazioni fattoriali\n",
    "\n",
    "Consideriamo ora il modello _threshold and loading invariance_ [chiamato _Proposition 7_ da @wu2016identification]. "
   ]
  },
  {
   "cell_type": "code",
   "execution_count": 21,
   "id": "3e61525f",
   "metadata": {
    "vscode": {
     "languageId": "r"
    }
   },
   "outputs": [],
   "source": [
    "prop7 <- measEq.syntax(\n",
    "  configural.model = mod.cat,\n",
    "  data = dat,\n",
    "  ordered = c(\"R09A\", \"R09B\", \"R09C\", \"R09D\"),\n",
    "  parameterization = \"delta\",\n",
    "  ID.fac = \"std.lv\",\n",
    "  ID.cat = \"Wu.Estabrook.2016\",\n",
    "  group = \"IDCNTRY\",\n",
    "  group.equal = c(\"thresholds\", \"loadings\")\n",
    ")"
   ]
  },
  {
   "attachments": {},
   "cell_type": "markdown",
   "id": "394156a4",
   "metadata": {},
   "source": [
    "Adattiamo il modello ai dati:"
   ]
  },
  {
   "cell_type": "code",
   "execution_count": 22,
   "id": "8db24bf2",
   "metadata": {
    "vscode": {
     "languageId": "r"
    }
   },
   "outputs": [],
   "source": [
    "model.prop7 <- as.character(prop7)\n",
    "fit.prop7 <- cfa(\n",
    "  model.prop7, \n",
    "  data = dat, group = \"IDCNTRY\", \n",
    "  ordered = c(\"R09A\", \"R09B\", \"R09C\", \"R09D\")\n",
    "  )"
   ]
  },
  {
   "attachments": {},
   "cell_type": "markdown",
   "id": "4380c379",
   "metadata": {},
   "source": [
    "Salviamo i risultati:"
   ]
  },
  {
   "cell_type": "code",
   "execution_count": 24,
   "id": "cea613f3",
   "metadata": {
    "vscode": {
     "languageId": "r"
    }
   },
   "outputs": [],
   "source": [
    "all.results[3, ] <-\n",
    "  round(data.matrix(\n",
    "    fitmeasures(fit.prop7, fit.measures = c(\n",
    "      \"chisq.scaled\", \"df.scaled\", \"pvalue.scaled\",\n",
    "      \"rmsea.scaled\", \"cfi.scaled\", \"tli.scaled\"\n",
    "    ))\n",
    "  ), digits = 3)\n",
    "\n",
    "column.names <-\n",
    "  c(\n",
    "    \"chisq.scaled\", \"df.scaled\", \"pvalue.scaled\", \"rmsea.scaled\",\n",
    "    \"cfi.scaled\", \"tli.scaled\"\n",
    "  )\n",
    "\n",
    "row.names <- c(\"baseline\", \"prop4\", \"prop7\")\n",
    "\n",
    "colnames(all.results) <- column.names\n",
    "rownames(all.results) <- row.names"
   ]
  },
  {
   "attachments": {},
   "cell_type": "markdown",
   "id": "fc9031eb",
   "metadata": {},
   "source": [
    "Eseguiamo i confronti tra modelli:"
   ]
  },
  {
   "cell_type": "code",
   "execution_count": 25,
   "id": "c20399c3",
   "metadata": {
    "vscode": {
     "languageId": "r"
    }
   },
   "outputs": [
    {
     "data": {
      "text/html": [
       "<table class=\"dataframe\">\n",
       "<caption>A anova: 2 x 7</caption>\n",
       "<thead>\n",
       "\t<tr><th></th><th scope=col>Df</th><th scope=col>AIC</th><th scope=col>BIC</th><th scope=col>Chisq</th><th scope=col>Chisq diff</th><th scope=col>Df diff</th><th scope=col>Pr(&gt;Chisq)</th></tr>\n",
       "\t<tr><th></th><th scope=col>&lt;int&gt;</th><th scope=col>&lt;lgl&gt;</th><th scope=col>&lt;lgl&gt;</th><th scope=col>&lt;dbl&gt;</th><th scope=col>&lt;dbl&gt;</th><th scope=col>&lt;int&gt;</th><th scope=col>&lt;dbl&gt;</th></tr>\n",
       "</thead>\n",
       "<tbody>\n",
       "\t<tr><th scope=row>fit.prop4</th><td>14</td><td>NA</td><td>NA</td><td>42.16983</td><td>      NA</td><td>NA</td><td>          NA</td></tr>\n",
       "\t<tr><th scope=row>fit.prop7</th><td>20</td><td>NA</td><td>NA</td><td>93.11534</td><td>73.70792</td><td> 6</td><td>7.079865e-14</td></tr>\n",
       "</tbody>\n",
       "</table>\n"
      ],
      "text/latex": [
       "A anova: 2 x 7\n",
       "\\begin{tabular}{r|lllllll}\n",
       "  & Df & AIC & BIC & Chisq & Chisq diff & Df diff & Pr(>Chisq)\\\\\n",
       "  & <int> & <lgl> & <lgl> & <dbl> & <dbl> & <int> & <dbl>\\\\\n",
       "\\hline\n",
       "\tfit.prop4 & 14 & NA & NA & 42.16983 &       NA & NA &           NA\\\\\n",
       "\tfit.prop7 & 20 & NA & NA & 93.11534 & 73.70792 &  6 & 7.079865e-14\\\\\n",
       "\\end{tabular}\n"
      ],
      "text/markdown": [
       "\n",
       "A anova: 2 x 7\n",
       "\n",
       "| <!--/--> | Df &lt;int&gt; | AIC &lt;lgl&gt; | BIC &lt;lgl&gt; | Chisq &lt;dbl&gt; | Chisq diff &lt;dbl&gt; | Df diff &lt;int&gt; | Pr(&gt;Chisq) &lt;dbl&gt; |\n",
       "|---|---|---|---|---|---|---|---|\n",
       "| fit.prop4 | 14 | NA | NA | 42.16983 |       NA | NA |           NA |\n",
       "| fit.prop7 | 20 | NA | NA | 93.11534 | 73.70792 |  6 | 7.079865e-14 |\n",
       "\n"
      ],
      "text/plain": [
       "          Df AIC BIC Chisq    Chisq diff Df diff Pr(>Chisq)  \n",
       "fit.prop4 14 NA  NA  42.16983       NA   NA                NA\n",
       "fit.prop7 20 NA  NA  93.11534 73.70792    6      7.079865e-14"
      ]
     },
     "metadata": {},
     "output_type": "display_data"
    }
   ],
   "source": [
    "lavTestLRT(fit.prop4, fit.prop7)"
   ]
  },
  {
   "cell_type": "code",
   "execution_count": 26,
   "id": "9885319b",
   "metadata": {
    "vscode": {
     "languageId": "r"
    }
   },
   "outputs": [
    {
     "data": {
      "text/html": [
       "<table class=\"dataframe\">\n",
       "<caption>A anova: 2 x 7</caption>\n",
       "<thead>\n",
       "\t<tr><th></th><th scope=col>Df</th><th scope=col>AIC</th><th scope=col>BIC</th><th scope=col>Chisq</th><th scope=col>Chisq diff</th><th scope=col>Df diff</th><th scope=col>Pr(&gt;Chisq)</th></tr>\n",
       "\t<tr><th></th><th scope=col>&lt;int&gt;</th><th scope=col>&lt;lgl&gt;</th><th scope=col>&lt;lgl&gt;</th><th scope=col>&lt;dbl&gt;</th><th scope=col>&lt;dbl&gt;</th><th scope=col>&lt;int&gt;</th><th scope=col>&lt;dbl&gt;</th></tr>\n",
       "</thead>\n",
       "<tbody>\n",
       "\t<tr><th scope=row>fit.baseline</th><td> 6</td><td>NA</td><td>NA</td><td>26.94149</td><td>      NA</td><td>NA</td><td>          NA</td></tr>\n",
       "\t<tr><th scope=row>fit.prop7</th><td>20</td><td>NA</td><td>NA</td><td>93.11534</td><td>136.1424</td><td>14</td><td>4.139318e-22</td></tr>\n",
       "</tbody>\n",
       "</table>\n"
      ],
      "text/latex": [
       "A anova: 2 x 7\n",
       "\\begin{tabular}{r|lllllll}\n",
       "  & Df & AIC & BIC & Chisq & Chisq diff & Df diff & Pr(>Chisq)\\\\\n",
       "  & <int> & <lgl> & <lgl> & <dbl> & <dbl> & <int> & <dbl>\\\\\n",
       "\\hline\n",
       "\tfit.baseline &  6 & NA & NA & 26.94149 &       NA & NA &           NA\\\\\n",
       "\tfit.prop7 & 20 & NA & NA & 93.11534 & 136.1424 & 14 & 4.139318e-22\\\\\n",
       "\\end{tabular}\n"
      ],
      "text/markdown": [
       "\n",
       "A anova: 2 x 7\n",
       "\n",
       "| <!--/--> | Df &lt;int&gt; | AIC &lt;lgl&gt; | BIC &lt;lgl&gt; | Chisq &lt;dbl&gt; | Chisq diff &lt;dbl&gt; | Df diff &lt;int&gt; | Pr(&gt;Chisq) &lt;dbl&gt; |\n",
       "|---|---|---|---|---|---|---|---|\n",
       "| fit.baseline |  6 | NA | NA | 26.94149 |       NA | NA |           NA |\n",
       "| fit.prop7 | 20 | NA | NA | 93.11534 | 136.1424 | 14 | 4.139318e-22 |\n",
       "\n"
      ],
      "text/plain": [
       "             Df AIC BIC Chisq    Chisq diff Df diff Pr(>Chisq)  \n",
       "fit.baseline  6 NA  NA  26.94149       NA   NA                NA\n",
       "fit.prop7    20 NA  NA  93.11534 136.1424   14      4.139318e-22"
      ]
     },
     "metadata": {},
     "output_type": "display_data"
    }
   ],
   "source": [
    "lavTestLRT(fit.prop7, fit.baseline)"
   ]
  },
  {
   "attachments": {},
   "cell_type": "markdown",
   "id": "1f3a86d1",
   "metadata": {},
   "source": [
    "Un confronto tra gli indici di bontà di adattamento dei tre modelli è fornito di seguito:"
   ]
  },
  {
   "cell_type": "code",
   "execution_count": 27,
   "id": "ae200653",
   "metadata": {
    "vscode": {
     "languageId": "r"
    }
   },
   "outputs": [
    {
     "name": "stdout",
     "output_type": "stream",
     "text": [
      "         chisq.scaled df.scaled pvalue.scaled rmsea.scaled cfi.scaled\n",
      "baseline       50.944         6             0        0.042      0.997\n",
      "prop4         107.839        14             0        0.040      0.994\n",
      "prop7         186.542        20             0        0.044      0.989\n",
      "         tli.scaled\n",
      "baseline      0.991\n",
      "prop4         0.992\n",
      "prop7         0.990\n"
     ]
    }
   ],
   "source": [
    "print(all.results)"
   ]
  },
  {
   "attachments": {},
   "cell_type": "markdown",
   "id": "565dd84b",
   "metadata": {},
   "source": [
    "In conclusione, nel caso presente, il test del rapporto di verosimiglianza indica che non viene rispettata neppure l'invarianza delle soglie tra gruppi. Gli altri confronti, dunque, sono superflui e sono stati qui presentati solo allo scopo di illustrare la procedura.\n",
    "\n",
    "\n",
    "\n",
    "\n",
    "\n"
   ]
  }
 ],
 "metadata": {
  "jupytext": {
   "cell_metadata_filter": "tags,eval,-all",
   "main_language": "R",
   "notebook_metadata_filter": "-all"
  },
  "kernelspec": {
   "display_name": "R",
   "language": "R",
   "name": "ir"
  },
  "language_info": {
   "codemirror_mode": "r",
   "file_extension": ".r",
   "mimetype": "text/x-r-source",
   "name": "R",
   "pygments_lexer": "r",
   "version": "4.3.2"
  }
 },
 "nbformat": 4,
 "nbformat_minor": 5
}
