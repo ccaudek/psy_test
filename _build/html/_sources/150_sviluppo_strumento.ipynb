{
 "cells": [
  {
   "attachments": {},
   "cell_type": "markdown",
   "id": "24322356",
   "metadata": {},
   "source": [
    "(sviluppo-strumento-notebook)=\n",
    "# Utilizzo e costruzione di test psicometrici "
   ]
  },
  {
   "cell_type": "code",
   "execution_count": null,
   "id": "c0bfede1",
   "metadata": {
    "tags": [
     "remove_cell"
    ]
   },
   "outputs": [],
   "source": [
    "source(\"_common.R\")"
   ]
  },
  {
   "attachments": {},
   "cell_type": "markdown",
   "id": "54551573",
   "metadata": {},
   "source": [
    "La maggior parte degli psicologi che utilizzano i test non creano test ad hoc ma piuttosto utilizzano test già validati e interpretano i punteggi sulla base delle norme fornite nel manuale del test. Quando si sceglie il test più appropriato per il problema da affrontare, è necessario considerare diverse domande. Ad esempio, qual è il valore minimo di attendibilità richiesto? In altre parole, a che livello di precisione è necessario essere in grado di differenziare tra i rispondenti? Che tipo di validità è importante? Quali sono le caratteristiche della popolazione che il gruppo normativo deve rappresentare? Qual è il livello di istruzione richiesto per completare il test? Quanto tempo è disponibile per la somministrazione del test e per lo scoring dei risultati? Quali sono i costi necessari per la somministrazione del test e per lo scoring dei risultati?\n",
    "\n",
    "Dopo aver risposto a queste domande, la selezione del test si riduce solitamente ad una scelta tra poche alternative. Per prendere una decisione tra queste alternative, è importante consultare la letteratura specialistica che discute le proprietà psicometriche dei test e la loro validità. In questo modo, si può effettuare una scelta informata basata sulla conoscenza delle proprietà del test e sulla sua validità, e assicurarsi che sia adatto alla popolazione e alle esigenze specifiche del caso in questione.\n",
    "\n",
    "Ogni psicologo ha l'obbligo di dimostrare che il test che sceglie per un determinato scopo sia il miglior strumento tra quelli disponibili per giungere ad una decisione razionale e obiettiva relativamente al problema che si trova ad affrontare (come indicato dal Codice Deontologico). Se nessuno dei test disponibili risulta appropriato per misurare un tratto psicologico specifico, si procede alla costruzione di un nuovo reattivo. La costruzione di un test richiede conoscenze specialistiche sia di tipo psicometrico che del fenomeno considerato.\n",
    "\n",
    "Le fasi di costruzione dei test includono la definizione delle aree di contenuto che il test dovrà misurare; la generazione di un numero di item per ciascuna area circa tre volte superiore rispetto a quelli che si prevede faranno parte della versione finale del test; la somministrazione degli item ad un campione sufficientemente ampio (con centinaia di rispondenti selezionati in modo tale che il campione sia rappresentativo della popolazione di interesse); l'analisi degli item per selezionare quelli migliori; infine, la somministrazione della versione revisionata del test ad un nuovo campione per verificare se la versione finale del test sia soddisfacente dal punto di vista psicometrico. In caso affermativo, il campione esaminato fornisce le norme del test, e questa fase è chiamata \"standardizzazione del test\".\n",
    "\n",
    "## Caratteristiche dell'analisi fattoriale\n",
    "\n",
    "La teoria psicometrica rappresenta il principale strumento a disposizione per la creazione di strumenti di misurazione attendibili e validi nell'ambito dell'assessment psicologico e neuropsicologico. Tale disciplina si basa su due diversi approcci metodologici per la costruzione dei reattivi psicologici: la teoria classica dei test e la teoria di risposta all'item, nota come *item response theory* (IRT). Nel presente capitolo, esamineremo come l'analisi fattoriale possa essere utilizzata per rispondere alle domande che sono state affrontate nel capitolo precedente, in cui abbiamo esaminato la teoria classica dei test.\n",
    "\n",
    "<!-- Se vogliamo costruire un test psicometrico per la valutazione di un -->\n",
    "<!-- particolare deficit psicologico o neuropsicologico, prima di iniziare lo -->\n",
    "<!-- studio, dobbiamo fornire una risposta ad una serie di domande. Per -->\n",
    "<!-- esempio, come dobbiamo selezionare gli item? Gli item scelti coprono -->\n",
    "<!-- tutto il dominio del fenomeno considerato? Quanti item dobbiamo usare? A -->\n",
    "<!-- quanti soggetti dobbiamo somministrare lo strumento? Quali analisi -->\n",
    "<!-- statistiche dobbiamo svolgere sui dati raccolti? -->\n",
    "\n",
    "L'analisi fattoriale rappresenta uno strumento statistico utile per trovare le risposte alle domande sollevate in precedenza riguardo alla teoria classica dei test. Tuttavia, va sottolineato che si tratta di una tecnica statistica complessa che richiede l'uso di specifici software. Nel contesto di questo insegnamento, utilizzeremo il pacchetto \"lavaan\" del linguaggio statistico R per condurre l'analisi fattoriale.\n",
    "\n",
    "L'analisi fattoriale è una tecnica statistica che consente di identificare variabili latenti a partire da un insieme di variabili osservate. La distinzione tra variabili latenti e osservate si basa sulla loro osservabilità empirica: le prime rappresentano concetti generali o complessi che non possono essere misurati direttamente, mentre le seconde possono essere facilmente rilevate. Tuttavia, entrambe le tipologie di variabili possono essere definite in modo operazionale. Ciò significa che, anche per le variabili latenti, è possibile identificare indicatori misurabili che ne forniscono una rappresentazione concreta e quantificabile.\n",
    "\n",
    "Ma cos'è esattamente una variabile latente o un fattore? Un fattore può essere definito come una combinazione lineare di variabili osservate tra loro correlate, che rappresentano una specifica dimensione di un costrutto psicologico distinta da altre dimensioni dello stesso costrutto o da dimensioni di costrutti diversi (Tabachnick e Fidell, 2001). Ad esempio, la Wechsler Adult Intelligence Scale -- Fourth Edition (WAIS-IV) valuta le capacità cognitive di adolescenti e adulti, distinguendo tra quattro dimensioni dell'intelligenza: comprensione verbale, ragionamento visuo-percettivo, memoria di lavoro e velocità di elaborazione.\n",
    "\n",
    "L'analisi fattoriale viene impiegata per diversi scopi nel campo della psicometria, tra cui lo sviluppo e la validazione di strumenti di valutazione psicologica e la determinazione della validità di costrutto di uno strumento per una particolare popolazione. Una volta che la struttura interna di un costrutto è stata definita, l'analisi fattoriale può essere utilizzata per identificare le variabili esterne (ad esempio, il genere o il livello di istruzione) che sono associate alle diverse dimensioni del costrutto di interesse (Nunnally & Bernstein, 1994).\n",
    "\n",
    "### L'analisi fattoriale esplorativa e confermativa\n",
    "\n",
    "L'analisi fattoriale, nei suoi primi modelli matematici, era principalmente una tecnica di analisi esplorativa che permetteva di scoprire le relazioni nascoste tra un gran numero di variabili. In seguito, con lo sviluppo delle tecniche delle equazioni strutturali, l'analisi fattoriale ha dato vita ad una tecnica di analisi confermativa, che permette di verificare se i fattori ipotizzati spiegano effettivamente le variabili misurate. Più recentemente, si è notato che i vincoli posti dai modelli SEM possono essere troppo restrittivi, e pertanto le tecniche dell'analisi fattoriale esplorativa vengono integrate con i modelli di equazioni strutturali, dando vita ad un nuovo approccio alla definizione delle variabili latenti, chiamato modelli ESEM (Exploratory Structural Equation Modeling).\n",
    "\n",
    "### Assunzioni dell'analisi fattoriale\n",
    "\n",
    "L'analisi fattoriale esplorativa si basa sull'assunzione che un insieme di variabili osservate possa essere spiegato da un insieme più piccolo di fattori latenti che rappresentano le interrelazioni tra di esse. Per poter condurre l'analisi fattoriale, molte delle assunzioni che stanno alla base del calcolo delle correlazioni devono essere rispettate, come ad esempio la normalità multivariata delle variabili considerate. Tuttavia, spesso questa assunzione viene violata quando le variabili osservate derivano da risposte a questionari che utilizzano scale di tipo Likert. In questi casi, si può superare il problema utilizzando le correlazioni policoriche. In generale, l'analisi fattoriale esplorativa permette di esplorare e comprendere le relazioni nascoste tra le variabili osservate, mentre l'analisi fattoriale di tipo confermativo e i modelli ESEM consentono di verificare se i fattori ipotizzati spiegano effettivamente le variabili misurate.\n",
    "\n",
    "### Sviluppo storico dell'analisi fattoriale\n",
    "\n",
    "L'analisi fattoriale è una tecnica di analisi multivariata che, storicamente, è stata strettamente legata ai modelli psicometrici. I concetti di fonte comune e componenti principali, che sono alla base dell'analisi fattoriale, possono essere trovati nei lavori di Galton e Pearson. Tuttavia, il primo modello di analisi fattoriale è stato elaborato da Spearman, il quale ha proposto che le risposte ad un insieme di test di abilità sono riconducibili ad un unico fattore generale di intelligenza.\n",
    "\n",
    "Tra l'inizio del '900 e il 1930, diversi gruppi di psicologi inglesi e americani svilupparono una serie di tecniche statistiche per determinare le dimensioni dell'intelligenza. In Inghilterra, Spearman e i suoi colleghi svilupparono la teoria dei due fattori dell'intelligenza umana, secondo cui esiste un fattore generale (g) che esprime l'intelligenza generale, e tanti fattori specifici (s) che rappresentano l'acquisizione specifica attraverso l'apprendimento e l'esperienza. Thurstone generalizzò il modello fattoriale al caso in cui sono presenti più fattori comuni.\n",
    "\n",
    "Thurstone e i suoi collaboratori applicarono la teoria dei fattori multipli a vari problemi psicometrici, diventando ben presto il riferimento più importante per lo sviluppo delle procedure dell'analisi fattoriale. Successivamente, un numero di importanti psicometristi europei contribuì a spostare il focus dell'assessment psicologico dall'approccio esplorativo a quello confermativo. I contributi di Jöreskog e Sörbom hanno contribuito a sviluppare i modelli di equazioni strutturali (Structural Equation Models, SEM), i quali costituiscono una delle tecniche più utilizzate per l'analisi dei dati nelle discipline psicologiche e sociali.\n",
    "\n",
    "Negli anni '30, Sewall Wright sviluppò una linea di ricerca nella biometria che utilizzava modelli di equazioni simultanee per analizzare schemi di rappresentazione dei nessi di influenza tra variabili, noti come analisi dei percorsi. Negli anni '50, l'analisi fattoriale divenne uno dei metodi di analisi dati più utilizzati in psicologia, soprattutto per la costruzione dei reattivi psicologici, grazie alla diffusione dei centri calcolo. Le tradizioni di ricerca dei modelli di equazioni simultanee e di quelli strutturali rimasero separate fino agli anni '60, quando gli studiosi delle scienze sociali iniziarono a sottolineare i vantaggi della combinazione di entrambi i metodi. La path analysis rappresentava i nessi di influenza tra variabili tramite diagrammi, mentre le equazioni simultanee specificavano sia variabili osservate che latenti. La disponibilità di programmi per computer semplificò la risoluzione simultanea di sistemi di equazioni lineari con variabili latenti, rendendo più facile la diffusione dell'analisi fattoriale confermativa. Negli anni '60, l'approccio confermativo si sviluppò ulteriormente grazie a Karl Jöreskog, orientandosi soprattutto all'esame di ipotesi teoriche.\n",
    "\n",
    "L'analisi fattoriale confermativa (CFA) è vista come un modo per creare modelli di misurazione parsimoniosi, ma spesso questi modelli includono un certo livello di errore di misurazione sistemico dovuto al fatto che gli item non sono indicatori puri dei corrispondenti costrutti. Ci si può aspettare quindi una certa associazione rilevante per il costrutto anche tra item e costrutti non target ma concettualmente associati. Quando tali associazioni non sono considerate nel modello a causa dei vincoli restrittivi dell'approccio CFA, i risultati dell'analisi possono essere sistematicamente distorti, con una sovrastima delle associazioni tra i fattori. Inoltre, i vincoli eccessivamente restrittivi dei modelli CFA possono minare la bontà di adattamento dei modelli e la validità discriminante dei fattori. Per affrontare questi problemi, i modelli ESEM contemporanei sono stati sviluppati.\n",
    "\n",
    "### Fasi dell'analisi fattoriale\n",
    "\n",
    "Indipendentemente dal software statistico utilizzato e dal livello di esperienza del ricercatore, lo sviluppo di un test psicometrico inizia con l'analisi fattoriale esplorativa. Tale analisi si compone di otto stadi successivi:\n",
    "\n",
    "1.  specificazione del problema,\n",
    "2.  scelta degli item,\n",
    "3.  verifica dell'adeguatezza della matrice di correlazione,\n",
    "4.  estrazione iniziale dei fattori,\n",
    "5.  rotazione dei fattori,\n",
    "6.  ulteriore selezione degli item,\n",
    "7.  interpretazione dei risultati,\n",
    "8.  costruzione di un report della ricerca,\n",
    "9.  validazione dei risultati.\n",
    "\n",
    "Nelle seguenti dispense verranno discussi in dettaglio questi diversi stadi della costruzione e validazione di un reattivo psicologico.\n"
   ]
  }
 ],
 "metadata": {
  "jupytext": {
   "cell_metadata_filter": "tags,-all",
   "main_language": "R",
   "notebook_metadata_filter": "-all"
  },
  "language_info": {
   "name": "python"
  }
 },
 "nbformat": 4,
 "nbformat_minor": 5
}
