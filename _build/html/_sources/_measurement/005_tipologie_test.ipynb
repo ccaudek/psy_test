{
 "cells": [
  {
   "attachments": {},
   "cell_type": "markdown",
   "id": "ad7f8f81",
   "metadata": {},
   "source": [
    "(classes-test-notebook)=\n",
    "# Introduzione alla Psicometria\n",
    "\n",
    "La psicometria è quel ramo della psicologia che si occupa della misurazione e della valutazione quantitativa delle variabili psicologiche. Questa dispensa è progettata come una guida avanzata che copre una gamma di concetti, metodi e tecniche psicometriche.\n",
    "\n",
    "## La Funzione dei Test Psicometrici\n",
    "\n",
    "Un test psicometrico è uno strumento standardizzato, attento alla validità e alla affidabilità, che mira a misurare specifici costrutti psicologici o comportamentali. Ogni test è composto da una serie di item, che sono manifestazioni osservabili di variabili latenti. Questi item sono sviluppati e selezionati attraverso metodi empirici rigorosi e spesso sottoposti a analisi fattoriali per assicurare la loro validità di costrutto.\n",
    "\n",
    "## Tassonomia Psicometrica: Test, Scale e Questionari\n",
    "\n",
    "Nel linguaggio psicometrico, il termine \"test\" è spesso riservato per gli strumenti che misurano abilità cognitive o competenze specifiche. Una \"scala\" è solitamente un aggregato di item che misura una dimensione latente, come un tratto di personalità o uno stato emotivo. Un \"questionario\" è una batteria di scale o item che mirano a valutare multidimensionalmente un individuo in relazione a vari costrutti o dimensioni.\n",
    "\n",
    "## Standardizzazione e Normazione\n",
    "\n",
    "Uno dei pilastri della psicometria è la standardizzazione, che assicura che il protocollo di somministrazione e valutazione sia uniforme. Questo è fondamentale per garantire l'equivalenza dei punteggi tra diversi campioni e contesti. La normazione è un altro concetto chiave, che permette di situare i punteggi individuali all'interno di una distribuzione di riferimento, fornendo così un quadro interpretativo.\n",
    "\n",
    "## Test Orientati al Criterio vs Test Normativi\n",
    "\n",
    "Nel campo della psicometria, una distinzione fondamentale è quella tra test orientati al criterio e test normativi. I primi sono sviluppati per discriminare efficacemente tra categorie di individui basate su un criterio specifico e sono spesso utilizzati in contesti clinici o diagnostici. I test normativi, d'altra parte, forniscono una misura relativa che colloca l'individuo all'interno di una distribuzione normativa, e sono comunemente utilizzati in ricerca e valutazione educativa.\n",
    "\n",
    "## Unidimensionalità e Analisi Fattoriale\n",
    "\n",
    "La coerenza interna e l'unidimensionalità degli item sono prerequisiti per la validità di costrutto di una scala. In molti casi, l'analisi fattoriale confermativa o esplorativa è impiegata per validare la struttura fattoriale di una scala, assicurando che gli item misurino un singolo costrutto latente.\n",
    "\n",
    "In sintesi, questa dispensa si propone come una risorsa completa e tecnica per chiunque sia interessato o impegnato nella misurazione psicometrica, dallo sviluppo di strumenti alla loro applicazione in contesti di ricerca o clinici. Attraverso un'approfondita esplorazione dei principi fondamentali e delle metodologie avanzate, miriamo a fornire un quadro comprensivo e rigoroso della disciplina psicometrica.\n"
   ]
  }
 ],
 "metadata": {
  "jupytext": {
   "cell_metadata_filter": "-all",
   "main_language": "python",
   "notebook_metadata_filter": "-all"
  },
  "language_info": {
   "name": "python"
  }
 },
 "nbformat": 4,
 "nbformat_minor": 5
}
