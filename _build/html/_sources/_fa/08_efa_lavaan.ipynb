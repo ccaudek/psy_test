{
 "cells": [
  {
   "attachments": {},
   "cell_type": "markdown",
   "id": "756eb571",
   "metadata": {},
   "source": [
    "(efa-lavaan-notebook)=\n",
    "# EFA con `lavaan`"
   ]
  },
  {
   "cell_type": "markdown",
   "id": "0b474922",
   "metadata": {},
   "source": [
    "Una funzionalità sperimentale di `lavaan` (ancora non ufficiale) è quella che consente di svolgere l'analisi fattoriale esplorativa con la funzione `efa()`.  "
   ]
  },
  {
   "cell_type": "code",
   "execution_count": 1,
   "id": "a8e1a699",
   "metadata": {
    "tags": [
     "remove_cell"
    ],
    "vscode": {
     "languageId": "r"
    }
   },
   "outputs": [],
   "source": [
    "source(\"../_common.R\")\n",
    "suppressPackageStartupMessages({\n",
    "    library(\"lavaan\")\n",
    "    library(\"semTools\")\n",
    "})\n",
    "set.seed(42)"
   ]
  },
  {
   "cell_type": "markdown",
   "id": "f29c5a9b",
   "metadata": {},
   "source": [
    "## Otto Misure di Personalità\n",
    "\n",
    "Consideriamo nuovamente i dati di {cite:t}`brown2015confirmatory`, ovvero otto misure di personalità raccolte su un campione di 250 pazienti che hanno concluso un programma di psicoterapia:\n",
    "\n",
    "- anxiety (N1), \n",
    "- hostility (N2), \n",
    "- depression (N3), \n",
    "- self-consciousness (N4), \n",
    "- warmth (E1), \n",
    "- gregariousness (E2), \n",
    "- assertiveness (E3), \n",
    "- positive emotions (E4). "
   ]
  },
  {
   "cell_type": "code",
   "execution_count": 2,
   "id": "ac36d7e6",
   "metadata": {
    "vscode": {
     "languageId": "r"
    }
   },
   "outputs": [],
   "source": [
    "varnames <- c(\"N1\", \"N2\", \"N3\", \"N4\", \"E1\", \"E2\", \"E3\", \"E4\")\n",
    "sds <- \"5.7  5.6  6.4  5.7  6.0  6.2  5.7  5.6\"\n",
    "\n",
    "cors <- \"\n",
    " 1.000\n",
    " 0.767  1.000\n",
    " 0.731  0.709  1.000\n",
    " 0.778  0.738  0.762  1.000\n",
    "-0.351  -0.302  -0.356  -0.318  1.000\n",
    "-0.316  -0.280  -0.300  -0.267  0.675  1.000\n",
    "-0.296  -0.289  -0.297  -0.296  0.634  0.651  1.000\n",
    "-0.282  -0.254  -0.292  -0.245  0.534  0.593  0.566  1.000\"\n",
    "\n",
    "psychot_cor_mat <- getCov(cors, names = varnames)\n",
    "n <- 250"
   ]
  },
  {
   "cell_type": "markdown",
   "id": "fd8e436d",
   "metadata": {},
   "source": [
    "Definiamo un modello ad un solo fattore comune."
   ]
  },
  {
   "cell_type": "code",
   "execution_count": 3,
   "id": "3d21f528",
   "metadata": {
    "vscode": {
     "languageId": "r"
    }
   },
   "outputs": [],
   "source": [
    "# 1-factor model\n",
    "f1 <- '\n",
    "    efa(\"efa\")*f1 =~ N1 + N2 + N3 + N4 + E1 + E2 + E3 + E4\n",
    "'"
   ]
  },
  {
   "cell_type": "markdown",
   "id": "008dd260",
   "metadata": {},
   "source": [
    "Definiamo un modello con due fattori comuni."
   ]
  },
  {
   "cell_type": "code",
   "execution_count": 4,
   "id": "8c58573b",
   "metadata": {
    "vscode": {
     "languageId": "r"
    }
   },
   "outputs": [],
   "source": [
    "# 2-factor model\n",
    "f2 <- '\n",
    "    efa(\"efa\")*f1 +\n",
    "    efa(\"efa\")*f2 =~ N1 + N2 + N3 + N4 + E1 + E2 + E3 + E4\n",
    "'"
   ]
  },
  {
   "cell_type": "markdown",
   "id": "2d84acb4",
   "metadata": {},
   "source": [
    "Adattiamo ai dati il modello ad un fattore comune."
   ]
  },
  {
   "cell_type": "code",
   "execution_count": 5,
   "id": "9de1975b",
   "metadata": {
    "vscode": {
     "languageId": "r"
    }
   },
   "outputs": [],
   "source": [
    "efa_f1 <-cfa(\n",
    "    model = f1,\n",
    "    sample.cov = psychot_cor_mat,\n",
    "    sample.nobs = 250,\n",
    "    rotation = \"oblimin\"\n",
    ")"
   ]
  },
  {
   "cell_type": "markdown",
   "id": "0183f47c",
   "metadata": {},
   "source": [
    "Esaminiamo la soluzione ottenuta."
   ]
  },
  {
   "cell_type": "code",
   "execution_count": 6,
   "id": "05e79446",
   "metadata": {
    "vscode": {
     "languageId": "r"
    }
   },
   "outputs": [
    {
     "name": "stdout",
     "output_type": "stream",
     "text": [
      "lavaan 0.6.17 ended normally after 2 iterations\n",
      "\n",
      "  Estimator                                         ML\n",
      "  Optimization method                           NLMINB\n",
      "  Number of model parameters                        16\n",
      "\n",
      "  Rotation method                      OBLIMIN OBLIQUE\n",
      "  Oblimin gamma                                      0\n",
      "  Rotation algorithm (rstarts)                GPA (30)\n",
      "  Standardized metric                             TRUE\n",
      "  Row weights                                     None\n",
      "\n",
      "  Number of observations                           250\n",
      "\n",
      "Model Test User Model:\n",
      "                                                      \n",
      "  Test statistic                               375.327\n",
      "  Degrees of freedom                                20\n",
      "  P-value (Chi-square)                           0.000\n",
      "\n",
      "Model Test Baseline Model:\n",
      "\n",
      "  Test statistic                              1253.791\n",
      "  Degrees of freedom                                28\n",
      "  P-value                                        0.000\n",
      "\n",
      "User Model versus Baseline Model:\n",
      "\n",
      "  Comparative Fit Index (CFI)                    0.710\n",
      "  Tucker-Lewis Index (TLI)                       0.594\n",
      "\n",
      "Loglikelihood and Information Criteria:\n",
      "\n",
      "  Loglikelihood user model (H0)              -2394.637\n",
      "  Loglikelihood unrestricted model (H1)      -2206.974\n",
      "                                                      \n",
      "  Akaike (AIC)                                4821.275\n",
      "  Bayesian (BIC)                              4877.618\n",
      "  Sample-size adjusted Bayesian (SABIC)       4826.897\n",
      "\n",
      "Root Mean Square Error of Approximation:\n",
      "\n",
      "  RMSEA                                          0.267\n",
      "  90 Percent confidence interval - lower         0.243\n",
      "  90 Percent confidence interval - upper         0.291\n",
      "  P-value H_0: RMSEA <= 0.050                    0.000\n",
      "  P-value H_0: RMSEA >= 0.080                    1.000\n",
      "\n",
      "Standardized Root Mean Square Residual:\n",
      "\n",
      "  SRMR                                           0.187\n",
      "\n",
      "Parameter Estimates:\n",
      "\n",
      "  Standard errors                             Standard\n",
      "  Information                                 Expected\n",
      "  Information saturated (h1) model          Structured\n",
      "\n",
      "Latent Variables:\n",
      "                   Estimate  Std.Err  z-value  P(>|z|)   Std.lv  Std.all\n",
      "  f1 =~ efa                                                             \n",
      "    N1                0.879    0.051   17.333    0.000    0.879    0.880\n",
      "    N2                0.841    0.052   16.154    0.000    0.841    0.842\n",
      "    N3                0.841    0.052   16.175    0.000    0.841    0.843\n",
      "    N4                0.870    0.051   17.065    0.000    0.870    0.872\n",
      "    E1               -0.438    0.062   -7.041    0.000   -0.438   -0.439\n",
      "    E2               -0.398    0.063   -6.327    0.000   -0.398   -0.398\n",
      "    E3               -0.398    0.063   -6.342    0.000   -0.398   -0.399\n",
      "    E4               -0.364    0.063   -5.746    0.000   -0.364   -0.364\n",
      "\n",
      "Variances:\n",
      "                   Estimate  Std.Err  z-value  P(>|z|)   Std.lv  Std.all\n",
      "   .N1                0.224    0.028    7.915    0.000    0.224    0.225\n",
      "   .N2                0.289    0.033    8.880    0.000    0.289    0.290\n",
      "   .N3                0.288    0.032    8.866    0.000    0.288    0.289\n",
      "   .N4                0.239    0.029    8.174    0.000    0.239    0.240\n",
      "   .E1                0.804    0.073   10.963    0.000    0.804    0.807\n",
      "   .E2                0.838    0.076   11.008    0.000    0.838    0.841\n",
      "   .E3                0.837    0.076   11.007    0.000    0.837    0.841\n",
      "   .E4                0.864    0.078   11.041    0.000    0.864    0.867\n",
      "    f1                1.000                               1.000    1.000\n",
      "\n",
      "R-Square:\n",
      "                   Estimate\n",
      "    N1                0.775\n",
      "    N2                0.710\n",
      "    N3                0.711\n",
      "    N4                0.760\n",
      "    E1                0.193\n",
      "    E2                0.159\n",
      "    E3                0.159\n",
      "    E4                0.133\n",
      "\n"
     ]
    }
   ],
   "source": [
    "summary(\n",
    "    efa_f1,\n",
    "    fit.measures = TRUE,\n",
    "    standardized = TRUE,\n",
    "    rsquare = TRUE\n",
    ") |>\n",
    "    print()"
   ]
  },
  {
   "cell_type": "markdown",
   "id": "3153b2e0",
   "metadata": {},
   "source": [
    "Adattiamo ai dati il modello a due fattori comuni."
   ]
  },
  {
   "cell_type": "code",
   "execution_count": 7,
   "id": "0dc1f372",
   "metadata": {
    "vscode": {
     "languageId": "r"
    }
   },
   "outputs": [],
   "source": [
    "efa_f2 <- cfa(\n",
    "    model = f2,\n",
    "    sample.cov = psychot_cor_mat,\n",
    "    sample.nobs = 250,\n",
    "    rotation = \"oblimin\"\n",
    ")"
   ]
  },
  {
   "cell_type": "markdown",
   "id": "a24dcaa1",
   "metadata": {},
   "source": [
    "Esaminiamo la soluzione ottenuta."
   ]
  },
  {
   "cell_type": "code",
   "execution_count": 8,
   "id": "34de2cf5",
   "metadata": {
    "vscode": {
     "languageId": "r"
    }
   },
   "outputs": [
    {
     "name": "stdout",
     "output_type": "stream",
     "text": [
      "lavaan 0.6.17 ended normally after 1 iteration\n",
      "\n",
      "  Estimator                                         ML\n",
      "  Optimization method                           NLMINB\n",
      "  Number of model parameters                        23\n",
      "\n",
      "  Rotation method                      OBLIMIN OBLIQUE\n",
      "  Oblimin gamma                                      0\n",
      "  Rotation algorithm (rstarts)                GPA (30)\n",
      "  Standardized metric                             TRUE\n",
      "  Row weights                                     None\n",
      "\n",
      "  Number of observations                           250\n",
      "\n",
      "Model Test User Model:\n",
      "                                                      \n",
      "  Test statistic                                 9.811\n",
      "  Degrees of freedom                                13\n",
      "  P-value (Chi-square)                           0.709\n",
      "\n",
      "Model Test Baseline Model:\n",
      "\n",
      "  Test statistic                              1253.791\n",
      "  Degrees of freedom                                28\n",
      "  P-value                                        0.000\n",
      "\n",
      "User Model versus Baseline Model:\n",
      "\n",
      "  Comparative Fit Index (CFI)                    1.000\n",
      "  Tucker-Lewis Index (TLI)                       1.006\n",
      "\n",
      "Loglikelihood and Information Criteria:\n",
      "\n",
      "  Loglikelihood user model (H0)              -2211.879\n",
      "  Loglikelihood unrestricted model (H1)      -2206.974\n",
      "                                                      \n",
      "  Akaike (AIC)                                4469.758\n",
      "  Bayesian (BIC)                              4550.752\n",
      "  Sample-size adjusted Bayesian (SABIC)       4477.840\n",
      "\n",
      "Root Mean Square Error of Approximation:\n",
      "\n",
      "  RMSEA                                          0.000\n",
      "  90 Percent confidence interval - lower         0.000\n",
      "  90 Percent confidence interval - upper         0.048\n",
      "  P-value H_0: RMSEA <= 0.050                    0.957\n",
      "  P-value H_0: RMSEA >= 0.080                    0.001\n",
      "\n",
      "Standardized Root Mean Square Residual:\n",
      "\n",
      "  SRMR                                           0.010\n",
      "\n",
      "Parameter Estimates:\n",
      "\n",
      "  Standard errors                             Standard\n",
      "  Information                                 Expected\n",
      "  Information saturated (h1) model          Structured\n",
      "\n",
      "Latent Variables:\n",
      "                   Estimate  Std.Err  z-value  P(>|z|)   Std.lv  Std.all\n",
      "  f1 =~ efa                                                             \n",
      "    N1                0.874    0.053   16.592    0.000    0.874    0.876\n",
      "    N2                0.851    0.055   15.551    0.000    0.851    0.853\n",
      "    N3                0.826    0.054   15.179    0.000    0.826    0.828\n",
      "    N4                0.896    0.053   16.802    0.000    0.896    0.898\n",
      "    E1               -0.046    0.040   -1.138    0.255   -0.046   -0.046\n",
      "    E2                0.035    0.034    1.030    0.303    0.035    0.035\n",
      "    E3                0.000    0.040    0.010    0.992    0.000    0.000\n",
      "    E4               -0.006    0.049   -0.131    0.896   -0.006   -0.006\n",
      "  f2 =~ efa                                                             \n",
      "    N1               -0.017    0.032   -0.539    0.590   -0.017   -0.017\n",
      "    N2                0.011    0.035    0.322    0.748    0.011    0.011\n",
      "    N3               -0.035    0.036   -0.949    0.343   -0.035   -0.035\n",
      "    N4                0.031    0.031    0.994    0.320    0.031    0.031\n",
      "    E1                0.776    0.059   13.125    0.000    0.776    0.778\n",
      "    E2                0.854    0.058   14.677    0.000    0.854    0.855\n",
      "    E3                0.785    0.060   13.106    0.000    0.785    0.787\n",
      "    E4                0.695    0.063   10.955    0.000    0.695    0.697\n",
      "\n",
      "Covariances:\n",
      "                   Estimate  Std.Err  z-value  P(>|z|)   Std.lv  Std.all\n",
      "  f1 ~~                                                                 \n",
      "    f2               -0.432    0.059   -7.345    0.000   -0.432   -0.432\n",
      "\n",
      "Variances:\n",
      "                   Estimate  Std.Err  z-value  P(>|z|)   Std.lv  Std.all\n",
      "   .N1                0.218    0.028    7.790    0.000    0.218    0.219\n",
      "   .N2                0.279    0.032    8.693    0.000    0.279    0.280\n",
      "   .N3                0.287    0.032    8.907    0.000    0.287    0.289\n",
      "   .N4                0.216    0.029    7.578    0.000    0.216    0.217\n",
      "   .E1                0.361    0.044    8.226    0.000    0.361    0.362\n",
      "   .E2                0.292    0.043    6.787    0.000    0.292    0.293\n",
      "   .E3                0.379    0.046    8.315    0.000    0.379    0.381\n",
      "   .E4                0.509    0.053    9.554    0.000    0.509    0.511\n",
      "    f1                1.000                               1.000    1.000\n",
      "    f2                1.000                               1.000    1.000\n",
      "\n",
      "R-Square:\n",
      "                   Estimate\n",
      "    N1                0.781\n",
      "    N2                0.720\n",
      "    N3                0.711\n",
      "    N4                0.783\n",
      "    E1                0.638\n",
      "    E2                0.707\n",
      "    E3                0.619\n",
      "    E4                0.489\n",
      "\n"
     ]
    }
   ],
   "source": [
    "summary(\n",
    "    efa_f2,\n",
    "    fit.measures = TRUE,\n",
    "    standardized = TRUE,\n",
    "    rsquare = TRUE\n",
    ") |>\n",
    "    print()"
   ]
  },
  {
   "cell_type": "markdown",
   "id": "fb46ec11",
   "metadata": {},
   "source": [
    "Anche se abbiamo introdotto finora soltanto la misura di bontà di adattamento del chi-quadrato, aggiungiamo qui il calcolo di altre misure di bontà di adattamento che discuteremo in seguito."
   ]
  },
  {
   "cell_type": "code",
   "execution_count": 9,
   "id": "02899a9d",
   "metadata": {
    "vscode": {
     "languageId": "r"
    }
   },
   "outputs": [],
   "source": [
    "fit_measures_robust <- c(\n",
    "    \"chisq\", \"df\", \"pvalue\", \"cfi\", \"rmsea\", \"srmr\"\n",
    ")"
   ]
  },
  {
   "cell_type": "markdown",
   "id": "495ffd63",
   "metadata": {},
   "source": [
    "Confrontiamo le misure di bontà di adattamento del modello che ipotizza un solo fattore comune e il modello che ipotizza la presenza di due fattori comuni."
   ]
  },
  {
   "cell_type": "code",
   "execution_count": 10,
   "id": "f13143d7",
   "metadata": {
    "vscode": {
     "languageId": "r"
    }
   },
   "outputs": [
    {
     "data": {
      "text/html": [
       "<table class=\"dataframe\">\n",
       "<caption>A data.frame: 2 x 6</caption>\n",
       "<thead>\n",
       "\t<tr><th scope=col>chisq</th><th scope=col>df</th><th scope=col>pvalue</th><th scope=col>cfi</th><th scope=col>rmsea</th><th scope=col>srmr</th></tr>\n",
       "\t<tr><th scope=col>&lt;dbl&gt;</th><th scope=col>&lt;int&gt;</th><th scope=col>&lt;chr&gt;</th><th scope=col>&lt;dbl&gt;</th><th scope=col>&lt;dbl&gt;</th><th scope=col>&lt;dbl&gt;</th></tr>\n",
       "</thead>\n",
       "<tbody>\n",
       "\t<tr><td>375</td><td>20</td><td><span style=white-space:pre-wrap>&lt; .001           </span></td><td>0.71</td><td>0.267</td><td>0.187</td></tr>\n",
       "\t<tr><td> 10</td><td>13</td><td>0.709310449320098</td><td>1.00</td><td>0.000</td><td>0.010</td></tr>\n",
       "</tbody>\n",
       "</table>\n"
      ],
      "text/latex": [
       "A data.frame: 2 x 6\n",
       "\\begin{tabular}{llllll}\n",
       " chisq & df & pvalue & cfi & rmsea & srmr\\\\\n",
       " <dbl> & <int> & <chr> & <dbl> & <dbl> & <dbl>\\\\\n",
       "\\hline\n",
       "\t 375 & 20 & < .001            & 0.71 & 0.267 & 0.187\\\\\n",
       "\t  10 & 13 & 0.709310449320098 & 1.00 & 0.000 & 0.010\\\\\n",
       "\\end{tabular}\n"
      ],
      "text/markdown": [
       "\n",
       "A data.frame: 2 x 6\n",
       "\n",
       "| chisq &lt;dbl&gt; | df &lt;int&gt; | pvalue &lt;chr&gt; | cfi &lt;dbl&gt; | rmsea &lt;dbl&gt; | srmr &lt;dbl&gt; |\n",
       "|---|---|---|---|---|---|\n",
       "| 375 | 20 | &lt; .001            | 0.71 | 0.267 | 0.187 |\n",
       "|  10 | 13 | 0.709310449320098 | 1.00 | 0.000 | 0.010 |\n",
       "\n"
      ],
      "text/plain": [
       "  chisq df pvalue            cfi  rmsea srmr \n",
       "1 375   20 < .001            0.71 0.267 0.187\n",
       "2  10   13 0.709310449320098 1.00 0.000 0.010"
      ]
     },
     "metadata": {},
     "output_type": "display_data"
    }
   ],
   "source": [
    "# collect them for each model\n",
    "rbind(\n",
    "    fitmeasures(efa_f1, fit_measures_robust),\n",
    "    fitmeasures(efa_f2, fit_measures_robust)\n",
    ") %>%\n",
    "    # wrangle\n",
    "    data.frame() %>%\n",
    "    mutate(\n",
    "        chisq = round(chisq, digits = 0),\n",
    "        df = as.integer(df),\n",
    "        pvalue = ifelse(pvalue == 0, \"< .001\", pvalue)\n",
    "    ) %>%\n",
    "    mutate_at(vars(cfi:srmr), ~ round(., digits = 3))"
   ]
  },
  {
   "cell_type": "markdown",
   "id": "df069331",
   "metadata": {},
   "source": [
    "L'evidenza empirica supporta la superiorità del modello a due fattori rispetto a quello ad un solo fattore comune. In particolare, l'analisi fattoriale esplorativa svolta mediante la funzione `efa()` evidenzia la capacità del modello a due fattori di fornire una descrizione adeguata della struttura dei dati e di distinguere in modo sensato tra i due fattori ipotizzati."
   ]
  }
 ],
 "metadata": {
  "jupytext": {
   "cell_metadata_filter": "tags,eval,-all",
   "main_language": "R",
   "notebook_metadata_filter": "-all"
  },
  "kernelspec": {
   "display_name": "R",
   "language": "R",
   "name": "ir"
  },
  "language_info": {
   "codemirror_mode": "r",
   "file_extension": ".r",
   "mimetype": "text/x-r-source",
   "name": "R",
   "pygments_lexer": "r",
   "version": "4.3.2"
  }
 },
 "nbformat": 4,
 "nbformat_minor": 5
}
