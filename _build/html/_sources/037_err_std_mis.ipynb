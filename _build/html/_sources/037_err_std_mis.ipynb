{
 "cells": [
  {
   "attachments": {},
   "cell_type": "markdown",
   "id": "394f4dc0",
   "metadata": {},
   "source": [
    "(err-std_mis-notebook)=\n",
    "# L'errore standard della misurazione "
   ]
  },
  {
   "cell_type": "code",
   "execution_count": null,
   "id": "e5ff922d",
   "metadata": {
    "tags": [
     "remove_cell"
    ]
   },
   "outputs": [],
   "source": [
    "source(\"_common.R\")"
   ]
  },
  {
   "attachments": {},
   "cell_type": "markdown",
   "id": "e2954c4e",
   "metadata": {},
   "source": [
    "Secondo {cite:t}`lord1968statistical`, l'errore $E = X - T$ rappresenta la variabile aleatoria di primario interesse per la CTT. Infatti, poiché lo scopo della CTT è di stimare il punteggio vero di ciascun rispondente e confrontare le stime ottenute per rispondenti diversi, la grandezza dell'errore $E$ è un'informazione essenziale. La discrepanza tra il punteggio osservato e il punteggio vero può essere misurata utilizzando la deviazione standard di $E$, chiamata \"errore standard della misurazione\" o SEM. Pertanto, l'errore standard della misurazione è lo strumento utilizzato dalla CTT per stimare in che misura un punteggio osservato si discosta da un punteggio vero.\n",
    "\n",
    "In questo capitolo vedremo come si può stimare $\\sigma_E$.\n",
    "\n",
    "## L'incertezza della misura \n",
    "\n",
    "Secondo la CTT, l'errore standard della misurazione può essere stimato utilizzando una formula che richiede la conoscenza della deviazione standard della distribuzione dei punteggi del test e dell'affidabilità del test. Se questi valori sono noti (o possono essere calcolati), allora si può ottenere una stima dell'errore standard di un particolare punteggio. Tale misura di errore è utile per comprendere quanto il punteggio osservato si discosta dal vero punteggio del soggetto.\n",
    "\n",
    "Secondo la CTT, è possibile stimare l'errore standard della misurazione ($\\sigma_E$) utilizzando l'equazione:\n",
    "\n",
    "$$\n",
    "\\sigma_E = \\sigma_X \\sqrt{1 -\\rho_{XX^\\prime}},\n",
    "$$ (eq-err-stnd-mis)\n",
    "\n",
    "dove $\\sigma_X$ è la deviazione standard dei punteggi ottenuti in un campione di rispondenti e $\\rho_{XX^\\prime}$ è il coefficiente di attendibilità. Per calcolare $\\sigma_E$, si sottrae l'attendibilità del test da 1, si prende la radice quadrata della differenza e si moltiplica per la deviazione standard dei punteggi del test.\n",
    "\n",
    "L'errore standard della misurazione si basa sull'assunzione che, se una persona facesse un gran numero di test equivalenti, i punteggi di questi test sarebbero distribuiti normalmente, con il vero punteggio della persona come media. In altre parole, possiamo immaginare che la persona completi molte versioni identiche del test, senza ricordare le risposte precedenti e in condizioni simili ogni volta. In questo scenario ipotetico, l'errore standard della misurazione sarebbe semplicemente la deviazione standard di queste misurazioni ripetute.\n",
    "\n",
    "È importante notare che l'errore standard della misurazione $\\sigma_E$ è direttamente legato all'attendibilità del test: l'errore standard della misurazione diminuisce al crescere dell'attendibilità del test. Se l'attendibilità del test è uguale a 0 $\\sigma_E$ diventa uguale alla deviazione standard del punteggio osservato del test. Se l'attendibilità del test è uguale a 1 $\\sigma_E$ diventa uguale a zero: se il test è\n",
    "perfettamente affidabile non ci sono errori e $\\sigma_E$ è uguale a\n",
    "zero.\n",
    "\n",
    "### Interpretazione\n",
    "\n",
    "McDonald sostiene che il termine $E$ segue una *propensity distribution*, che rappresenta le fluttuazioni casuali nel tempo di un individuo che risponde al test. Queste fluttuazioni possono essere causate da fattori come l'umore, la motivazione, ecc. L'errore standard di misura fornisce una stima della deviazione standard di tali punteggi, ovvero una stima della deviazione standard dei punteggi che un singolo individuo otterrebbe nel caso di infinite somministrazioni del test (o di forme parallele del test) sotto le stesse identiche condizioni, se il punteggio vero rimanesse costante.\n",
    "\n",
    "D'altra parte, la teoria classica dei test (CTT) presuppone che i punteggi ottenuti da un individuo in infinite somministrazioni del test nelle stesse identiche condizioni seguano una distribuzione normale centrata sul valore vero. L'errore standard di misura è quindi la stima della deviazione standard di tale distribuzione ipotetica di punteggi. Maggiore è l'errore standard di misura, maggiore è l'errore che si commette nell'utilizzo del test per valutare l'abilità latente del rispondente.\n",
    "\n",
    "Il coefficiente di attendibilità, la varianza dell'errore e l'errore\n",
    "standard della misurazione sono tutti indicatori diretti o indiretti\n",
    "della precisione del test. Tuttavia, questi indici forniscono\n",
    "informazioni diverse sul grado di precisione del test:\n",
    "\n",
    "-   l'errore standard della misurazione ci consente di fare inferenze\n",
    "    sulla precisione del punteggio osservato di un singolo rispondente,\n",
    "    ma non è possibile assegnare tale interpretazione al coefficiente di\n",
    "    attendibilità;\n",
    "-   l'errore standard della misurazione è espresso nella stessa unità di\n",
    "    misura del punteggio osservato, mentre la varianza di $E$ è espressa\n",
    "    nei termini del quadrato del punteggio osservato;\n",
    "-   l'attendibilità corrisponde ad un rapporto tra varianze e dunque è\n",
    "    un numero puro (privo di unità di misura).\n",
    "    "
   ]
  },
  {
   "attachments": {},
   "cell_type": "markdown",
   "id": "5bfecdbd",
   "metadata": {},
   "source": [
    "**Esempio 1.** Supponiamo che un test di intelligenza produca un punteggio medio pari a\n",
    "100 con una deviazione standard di 15. Supponiamo inoltre che il test\n",
    "abbia una attendibilità pari a 0.73. Si calcoli l'errore standard della\n",
    "misurazione.\n",
    "\n",
    "Applicando la formula dell'errore standard della misurazione, otteniamo \n",
    "\n",
    "$$\n",
    "\\begin{equation}\n",
    "\\begin{aligned}\n",
    "\\sigma_E &= \\sigma_X \\sqrt{1 -\\rho_{XX^\\prime}} \\notag\\\\\n",
    "&= 15 \\sqrt{1 - 0.73} \\notag\\\\\n",
    "&= 7.79.\\notag\n",
    "\\end{aligned}\n",
    "\\end{equation}\n",
    "$$\n",
    "\n",
    "Il valore di 7.79 significa che, se immaginiamo di somministrare molte volte il test ad un rispondente, sotto le stesse identiche condizioni, ci aspettiamo che i valori\n",
    "ottenuti differiscano tra loro, in media, di circa 8 punti tra le\n",
    "successive somministrazioni del test. Inoltre, se immaginiamo di\n",
    "somministrare molte volte il test ad un rispondente, sotto le stesse\n",
    "identiche condizioni, ci aspettiamo che il 95% dei punteggi così\n",
    "ottenuti sia compreso nell'intervallo\n",
    "\n",
    "$$\n",
    "\\text{punteggio vero del rispondente} \\pm 1.96 \\cdot \\text{errore standard della misurazione}. \n",
    "$$\n",
    "\n",
    "Questa è una proprietà della distribuzione gaussiana.\n",
    "\n",
    "Per il caso presente, questo intervallo è uguale a $2 \\cdot 1.96 \\cdot 7.79 = 30.54$ punti. \n",
    "\n",
    "In altre parole, ci possiamo aspettare che, nel caso di somministrazioni ripetute del test sotto le stesse identiche condizioni, i punteggi del QI di un singolo rispondente varino tra loro all'interno di un intervallo di 30 punti. Ciò significa\n",
    "che, se il test avesse un'attendibilità pari a 0.73, e se la deviazione\n",
    "standard dei punteggi del test nella popolazione fosse pari a 15, la\n",
    "somministrazione di un tale test ad un singolo individuo sarebbe di\n",
    "scarsa utilità, a causa dell'enorme errore di misurazione. Per fare un\n",
    "confronto con i dati di questo esempio, la Full Scale IQ (FSIQ) della\n",
    "WAIS-IV {cite:p}`wechsler2008wechsler` ha un'attendibilità split-half pari a 0.98, con\n",
    "errore standard di misurazione pari a 2.16.\n",
    "\n",
    "Si noti che l'errore standard della misurazione può essere calcolato con la funzione `SE.Means()` del pacchetto `psychometric`."
   ]
  },
  {
   "cell_type": "code",
   "execution_count": null,
   "id": "9ff29cc1",
   "metadata": {},
   "outputs": [],
   "source": [
    "suppressWarnings(suppressMessages(library(\"psychometric\")))\n",
    "\n",
    "SE.Meas(15, .73)"
   ]
  },
  {
   "attachments": {},
   "cell_type": "markdown",
   "id": "0a1c1a9a",
   "metadata": {},
   "source": [
    "**Esempio 2.** Continuando con l'esempio precedente, per gli ipotetici dati riportati\n",
    "sopra, poniamoci ora la seguente domanda: qual è la probabilità che un\n",
    "rispondente ottenga un punteggio minore o uguale a 116 nel test, se il\n",
    "suo punteggio vero è uguale a 120?\n",
    "\n",
    "Il problema si risolve rendendosi conto che i punteggi del\n",
    "rispondente si distribuiscono normalmente attorno al punteggio vero di\n",
    "120, con una deviazione standard uguale a 7.79. Dobbiamo dunque trovare\n",
    "l'area sottesa alla normale $\\mathcal{N}(120, 7.79)$ nell'intervallo\n",
    "$[-\\infty, 116]$. Utilizzando , la soluzione si trova nel modo\n",
    "seguente:"
   ]
  },
  {
   "cell_type": "code",
   "execution_count": null,
   "id": "6a767ab5",
   "metadata": {},
   "outputs": [],
   "source": [
    "pnorm(116, 120, 7.79)"
   ]
  },
  {
   "attachments": {},
   "cell_type": "markdown",
   "id": "882b66a2",
   "metadata": {},
   "source": [
    "Se la variabile aleatorie corrispondente al punteggio osservato segue\n",
    "una distribuzione $\\mathcal{N}(120, 7.79)$, la probabilità che il\n",
    "rispondente ottenga un punteggio minore o uguale a 116 è dunque uguale a\n",
    "0.30."
   ]
  },
  {
   "attachments": {},
   "cell_type": "markdown",
   "id": "18c51ca7",
   "metadata": {},
   "source": [
    "**Esempio 3.** Sempre per l'esempio discusso, poniamoci ora la seguente domanda: quale intervallo di valori centrato sul punteggio vero contiene, con una probabilità di 0.95, i punteggi che il rispondente otterrebbe in ipotetiche somministrazioni ripetute del\n",
    "test sotto le stesse identiche condizioni?\n",
    "\n",
    "Dobbiamo trovare i quantili della distribuzione $\\mathcal{N}(120, 7.79)$ a cui sono associate le probabilità di 0.025 e 0.975. La soluzione è dunque data da:"
   ]
  },
  {
   "cell_type": "code",
   "execution_count": null,
   "id": "99fd643b",
   "metadata": {},
   "outputs": [],
   "source": [
    "qnorm(c(.025, .975), 120, 7.79)"
   ]
  },
  {
   "attachments": {},
   "cell_type": "markdown",
   "id": "8bbb9754",
   "metadata": {},
   "source": [
    "L'intervallo cercato è dunque $[104.7, 135.3]$."
   ]
  },
  {
   "attachments": {},
   "cell_type": "markdown",
   "id": "6fec28d9",
   "metadata": {},
   "source": [
    "**Esempio 4.** Calcoliamo ora l'errore standard di misurazione utilizzando un set di dati grezzi.\n",
    "\n",
    "Iniziamo a definire una funzione che ritorna il coefficiente di attendibilità $\\alpha$ di Cronbach (questo argomento sarà discusso in un capitolo successivo)."
   ]
  },
  {
   "cell_type": "code",
   "execution_count": null,
   "id": "dc587aaf",
   "metadata": {},
   "outputs": [],
   "source": [
    "coeff.alpha <- function(responses){\n",
    "  # Get number of items (N) and individuals\n",
    "  n.items <- ncol(responses)\n",
    "  n.persons <- nrow(responses)\n",
    "  # Get individual total scores\n",
    "  x <- rowSums(responses)\n",
    "  # Get observed-score variance of whole test (X)\n",
    "  var.x <- var(x)*(n.persons-1)/n.persons\n",
    "  # Get observed-score variance of each item (Y_j)\n",
    "  var.y <- numeric(n.items)\n",
    "  for(i in 1:n.items){\n",
    "    var.y[i] <- var(responses[,i])*(n.persons-1)/n.persons\n",
    "  }\n",
    "  # Apply the alpha formula\n",
    "  alpha <- (n.items/(n.items-1))*(1 - sum(var.y)/var.x)\n",
    "  return(alpha)\n",
    "}"
   ]
  },
  {
   "attachments": {},
   "cell_type": "markdown",
   "id": "e8a6e2f5",
   "metadata": {},
   "source": [
    "Definiamo una funzione per calcolare l'errore standard di misurazione usando la formula che abbiamo discusso in questo capitolo."
   ]
  },
  {
   "cell_type": "code",
   "execution_count": null,
   "id": "c5d349ec",
   "metadata": {},
   "outputs": [],
   "source": [
    "se.m <- function(responses, rel.est = \"alpha\") {\n",
    "  # The number of subjects\n",
    "  n.persons <- nrow(responses)\n",
    "  # Get the total score and its standard deviation\n",
    "  total <- rowSums(responses)\n",
    "  sd.x <- sqrt(var(total) * (n.persons - 1) / n.persons)\n",
    "  if (rel.est == \"alpha\") {\n",
    "    rel <- coeff.alpha(responses)\n",
    "  } else {\n",
    "    error(\"rel.est must be either alpha\")\n",
    "  }\n",
    "  se.m <- sd.x * sqrt(1 - rel)\n",
    "  return(se.m)\n",
    "}"
   ]
  },
  {
   "attachments": {},
   "cell_type": "markdown",
   "id": "31b8fa7d",
   "metadata": {},
   "source": [
    "Leggiamo ora un set di dati dal pacchetto `hemp`. Per l'installazione di `hemp` si procede nel modo seguente."
   ]
  },
  {
   "cell_type": "code",
   "execution_count": null,
   "id": "d1efb422",
   "metadata": {
    "eval": false
   },
   "outputs": [],
   "source": [
    "install.packages(\"devtools\")\n",
    "library(\"devtools\")"
   ]
  },
  {
   "cell_type": "code",
   "execution_count": null,
   "id": "e4a4ff64",
   "metadata": {
    "eval": false
   },
   "outputs": [],
   "source": [
    "install_github(\"cddesja/hemp\")"
   ]
  },
  {
   "attachments": {},
   "cell_type": "markdown",
   "id": "799fc978",
   "metadata": {},
   "source": [
    "Carichiamo `hemp` e leggiamo i dati. "
   ]
  },
  {
   "cell_type": "code",
   "execution_count": null,
   "id": "09cfdd56",
   "metadata": {},
   "outputs": [],
   "source": [
    "library(\"hemp\")\n",
    "data(SAPA)\n",
    "head(SAPA)"
   ]
  },
  {
   "attachments": {},
   "cell_type": "markdown",
   "id": "f1efa418",
   "metadata": {},
   "source": [
    "Useremo qui i dati SAPA. Il set di dati SAPA è costituito da 1525 risposte a un test di abilità a scelta multipla di 16 item tratti da un progetto di valutazione della personalità  chiamato *Synthetic Aperture Personality Assessment* (SAPA). Gli item misurano il ragionamento di base, la manipolazione di serie alfanumeriche, il ragionamento con matrici e la capacità di rotazione mentale.\n",
    "\n",
    "Iniziamo con il verificare se ci sono dati mancanti."
   ]
  },
  {
   "cell_type": "code",
   "execution_count": null,
   "id": "4b087d8a",
   "metadata": {},
   "outputs": [],
   "source": [
    "num_miss(SAPA)"
   ]
  },
  {
   "attachments": {},
   "cell_type": "markdown",
   "id": "b467be7e",
   "metadata": {},
   "source": [
    "Dato che ci sono solo pochi dati mancanti, rimuoviamo tutte le righe che contengono dati mancanti."
   ]
  },
  {
   "cell_type": "code",
   "execution_count": null,
   "id": "5c935de1",
   "metadata": {},
   "outputs": [],
   "source": [
    "df <- na.omit(SAPA)"
   ]
  },
  {
   "attachments": {},
   "cell_type": "markdown",
   "id": "ce484a44",
   "metadata": {},
   "source": [
    "Possiamo ora usare la funzione `se.m()` che abbiamo definito sopra."
   ]
  },
  {
   "cell_type": "code",
   "execution_count": null,
   "id": "c5d7445e",
   "metadata": {
    "lines_to_next_cell": 2
   },
   "outputs": [],
   "source": [
    "se.m(df, \"alpha\")"
   ]
  },
  {
   "attachments": {},
   "cell_type": "markdown",
   "id": "e0f46023",
   "metadata": {},
   "source": [
    "### Simulazione\n",
    "\n",
    "Torniamo ora alla simulazione precedente in cui abbiamo messo in relazione il modello della CTT con il modello di regressione lineare. In base a tale simulazione, poniamoci lo scopo di chiarire il significato dell'errore standard della misurazione.\n",
    "\n",
    "Impostiamo la simulazione come abbiamo fatto in precedenza. Chiamiamo $X$ il valore osservato in un test. Per la CTT, il punteggio osservato $X$ è costituito da due componenti, la componente vera $T$ e la componente d'errore $E$. Si suppone che gli errori siano gaussiani e incorrelati con la componente vera. Immaginiamo di somministrare 200 volte il test ad un individuo sotto le stesse identiche condizioni."
   ]
  },
  {
   "cell_type": "code",
   "execution_count": null,
   "id": "edd205ec",
   "metadata": {},
   "outputs": [],
   "source": [
    "library(\"MASS\")\n",
    "library(\"arm\")\n",
    "set.seed(123)\n",
    "\n",
    "n <- 200\n",
    "Sigma <- matrix(\n",
    "    c(11, 0, \n",
    "       0, 4), byrow = TRUE, ncol = 2)\n",
    "\n",
    "mu <- c(100, 0)\n",
    "\n",
    "Y <- mvrnorm(n, mu, Sigma, empirical=TRUE)\n",
    "T <- Y[, 1]\n",
    "E <- Y[, 2]"
   ]
  },
  {
   "attachments": {},
   "cell_type": "markdown",
   "id": "c1084b35",
   "metadata": {},
   "source": [
    "Verifichiamo l'incorrelazione tra $T$ ed $E$:"
   ]
  },
  {
   "cell_type": "code",
   "execution_count": null,
   "id": "c13c4874",
   "metadata": {},
   "outputs": [],
   "source": [
    "cor(T, E)"
   ]
  },
  {
   "attachments": {},
   "cell_type": "markdown",
   "id": "adc3ff22",
   "metadata": {},
   "source": [
    "I valori ottenuti sono la somma del valore vero e della componente\n",
    "d'errore:"
   ]
  },
  {
   "cell_type": "code",
   "execution_count": null,
   "id": "79f0960a",
   "metadata": {},
   "outputs": [],
   "source": [
    "X <- T + E"
   ]
  },
  {
   "attachments": {},
   "cell_type": "markdown",
   "id": "e5463405",
   "metadata": {},
   "source": [
    "Per questi dati, il coefficiente di attendibilità è uguale a:"
   ]
  },
  {
   "cell_type": "code",
   "execution_count": null,
   "id": "fc28e211",
   "metadata": {},
   "outputs": [],
   "source": [
    "rxx <- cor(X, T)^2\n",
    "rxx"
   ]
  },
  {
   "attachments": {},
   "cell_type": "markdown",
   "id": "562fe266",
   "metadata": {},
   "source": [
    "Possiamo ora calcolare l'errore standard della misurazione utilizzando\n",
    "la \\@ref(eq:err-stnd-mis):"
   ]
  },
  {
   "cell_type": "code",
   "execution_count": null,
   "id": "721ff1f1",
   "metadata": {},
   "outputs": [],
   "source": [
    "sd(X) * sqrt(1 - rxx)"
   ]
  },
  {
   "attachments": {},
   "cell_type": "markdown",
   "id": "ce6bf1b0",
   "metadata": {},
   "source": [
    "Si noti che tale valore non è altro che la deviazione standard degli\n",
    "errori della misurazione:"
   ]
  },
  {
   "cell_type": "code",
   "execution_count": null,
   "id": "7e755eac",
   "metadata": {},
   "outputs": [],
   "source": [
    "sd(E)"
   ]
  },
  {
   "attachments": {},
   "cell_type": "markdown",
   "id": "86beacfb",
   "metadata": {},
   "source": [
    "Verifichiamo ora quanto segue: nei termini del modello di regressione $X = 0 + 1 \\cdot T + E$, l'errore standard della misurazione della CTT è uguale all'errore standard\n",
    "della regressione:"
   ]
  },
  {
   "cell_type": "code",
   "execution_count": null,
   "id": "7e3da6b0",
   "metadata": {},
   "outputs": [],
   "source": [
    "fm <- lm(formula = X ~ T)\n",
    "summary(fm)"
   ]
  },
  {
   "attachments": {},
   "cell_type": "markdown",
   "id": "e87bbd10",
   "metadata": {},
   "source": [
    "## Dimostrazione\n",
    "\n",
    "Poniamoci ora il problema di derivare la formula dell'errore standard\n",
    "della misurazione. Per derivare la formula $\\sigma_E = \\sigma_X \\sqrt{1 -\\rho_{XX^\\prime}}$ sono necessari due passi: prima dobbiamo trovare la varianza del punteggio vero; poi dobbiamo esprimere il punteggio osservato come la somma della varianza del punteggio vero e la varianza dell'errore.\n",
    "\n",
    "In base alla definizione del coefficiente di attendibilità $\\rho_{XX^\\prime} = \\frac{\\sigma^2_T}{\\sigma^2_X}$ possiamo scrivere $\\sigma^2_T = \\rho_{XX^\\prime} \\sigma^2_X$, dove $X$ e $X^\\prime$ sono due forme parallele di un test. Ricordiamo che misurazioni parallele hanno le seguenti proprietà: $\\mathbb{E}(X) = \\mathbb{E}(X^\\prime)$ e $\\mathbb{V}(X) = \\mathbb{V}(X^\\prime)$. Dato che $\\sigma_{X}=\\sigma_{X^\\prime}$, l'equazione precedente diventa $\\sigma^2_T = \\rho_{XX^\\prime} \\sigma_X\\sigma_{X^\\prime}.$ Utilizzando la definizione della covarianza tra $X$ e $X^\\prime$, ovvero, $\\sigma_{XX^\\prime}=\\rho_{XX^\\prime}\\sigma_X\\sigma_{X^\\prime}$, possiamo concludere che la varianza del punteggio vero è uguale alla covarianza tra due misurazioni parallele:\n",
    "\n",
    "$$\n",
    "\\sigma^2_T =  \\sigma_{XX^\\prime}.\n",
    "$$\n",
    "\n",
    "Essendo l'attendibilità del test il rapporto tra la varianza del punteggio vero e la varianza del punteggio osservato, ed essendo che la varianza del punteggio vero\n",
    "uguale alla covarianza tra due misurazioni parallele, possiamo\n",
    "concludere che l'attendibilità aumenta all'aumentare della covarianza\n",
    "media tra gli item del test. Si noti come questo importante risultato\n",
    "della CTT dipenda dall'ipotesi di omogeneità delle varianze degli item\n",
    "del test.\n",
    "\n",
    "Calcoliamo ora la varianza di $E$. La varianza del punteggio osservato è\n",
    "uguale a $\\sigma^2_X = \\sigma^2_T + \\sigma^2_E.$ Sulla base della\n",
    "definizione di attendibilità $\\sigma^2_T = \\rho_{XX^\\prime} \\sigma^2_X$, la\n",
    "varianza del punteggio osservato si può scrivere come\n",
    "$\\sigma^2_X =\\rho_{XX^\\prime} \\sigma^2_X + \\sigma^2_E$, da cui\n",
    "\n",
    "\\begin{equation}\n",
    "\\begin{aligned}\n",
    "\\sigma^2_E &= \\sigma^2_X - \\sigma^2_X\\rho_{XX^\\prime}\\notag\\\\\n",
    "&= \\sigma^2_X (1 -\\rho_{XX^\\prime}).\n",
    "\\end{aligned}\n",
    "\\end{equation}\n",
    "\n",
    "La varianza degli errori della misurazione $\\sigma^2_E = \\sigma^2_X (1 -\\rho_{XX^\\prime})$ è dunque uguale al prodotto di due fattori: il primo fattore è la varianza del punteggio osservato; il secondo fattore è uguale a uno meno la\n",
    "correlazione tra due forme parallele del test. Possiamo così calcolare\n",
    "una quantità incognita, $\\sigma^2_E$, nei termini di due quantità\n",
    "osservabili, $\\sigma^2_X$ e $\\rho_{XX^\\prime}$."
   ]
  },
  {
   "attachments": {},
   "cell_type": "markdown",
   "id": "35ed4f01",
   "metadata": {},
   "source": [
    "## Intervallo di confidenza per il punteggio vero e $\\sigma_E$\n",
    "\n",
    "Uno degli usi che vengono fatti dell'errore standard della misurazione è\n",
    "quello di costruire, con essi, gli intervalli di confidenza per il\n",
    "punteggio vero. Tale uso, però, non è corretto {cite:p}`charter1996revisiting`.\n",
    "Gli intervalli di confidenza costruiti usando l'errore standard della\n",
    "misurazione vengono talvolta incorrettamente interpretati in modo tale\n",
    "da suggerire che l'intervallo di confidenza al $(1 - \\alpha)\\%$\n",
    "identifica una gamma di valori, _centrata sul valore osservato_, entro\n",
    "il quale cadono i punteggi veri del test nel $(1 - \\alpha)\\%$ di\n",
    "ipotetiche somministrazioni ripetute del test. Ma le cose non stanno\n",
    "così. In realtà, come abbiamo detto sopra, l'errore standard della\n",
    "misurazione è la deviazione standard, calcolata rispetto al valore\n",
    "vero, di ipotetiche misurazioni ripetute dello stesso test. Si può\n",
    "ribadire questo concetto nel modo seguente: \"In spite of {cite:t}`dudek1979continuing`'s reminder that the SEM should not be used to construct confidence intervals, many test manuals, computer-scoring programs, and texts in psychology and education continue to do so. Because authors of many textbooks and manuals make these errors, it is understandable that those who learned from and look to these sources for guidance also make these errors. In summary, the SEM should not be used to construct confidence intervals for test scores\" (p. 1141). Sembra piuttosto chiaro.\n",
    "\n",
    "## Conclusioni\n",
    "\n",
    "Le stime di affidabilità sono uno strumento utile nell'ambito della teoria classica dei test (CTT) per valutare la coerenza dei test. Tuttavia, quando si prendono decisioni importanti sul superamento o meno di un esame, ad esempio, è più utile fare ricorso all'errore standard di misurazione (SEM) per valutare la coerenza di una serie di punteggi del test. Il SEM fornisce una stima quantitativa del grado di variazione dei punteggi del test dovuto ad errori di misurazione all'interno di un insieme di punteggi.\n",
    "\n",
    "Il SEM è una stima dell'errore medio nei punteggi di tutti gli esaminati che hanno sostenuto il test. Utilizzando il SEM, possiamo calcolare fino a che punto i punteggi degli esaminati possono variare solo per caso con una certa probabilità. In particolare, possiamo prevedere che l'errore può far variare i punteggi degli esaminati all'interno di una banda di più o meno un SEM con una precisione del 68% (sulla base delle percentuali previste sotto la distribuzione normale dei punteggi dei test). Ad esempio, se il punteggio vero di un candidato è 65 e il SEM è di 2, possiamo stimare che i suoi punteggi potrebbero variare casualmente tra 63 e 67 punti (65 – 2 = 63; 65 + 2 = 67) con una precisione del 68% se dovesse sostenere il test più volte. Se vogliamo essere ancora più sicuri nella previsione dei suoi punteggi in somministrazioni ripetute, possiamo utilizzare due SEM (2 + 2 = 4) e affermare che i suoi punteggi potrebbero variare solo casualmente tra 61 e 69 punti (65 – 4 = 61; 65 + 4 = 69) con una precisione del 95%.\n",
    "\n",
    "Il SEM indica quanto i punteggi di un test possono fluttuare casualmente se lo stesso test viene ripetuto più volte dagli stessi esaminati. Un SEM di 2 punti indica che ci si può aspettare fluttuazioni relativamente basse nei punteggi, mentre un SEM di 15 punti indica fluttuazioni maggiori. In generale, più il SEM è piccolo, più stretta sarà la banda di fluttuazioni casuali, ovvero la differenza tra i punteggi veri degli esaminati e quelli osservati. Questo significa che, se il SEM è piccolo, i punteggi rappresenteranno in modo più coerente le vere abilità degli esaminati. Alcuni psicologi preferiscono utilizzare il SEM rispetto alle stime di affidabilità del test, in quanto il SEM rappresenta una banda di punteggio più facilmente interpretabile rispetto alle stime di affidabilità, che possono essere più astratte o basate sulla stabilità temporale del test."
   ]
  }
 ],
 "metadata": {
  "jupytext": {
   "cell_metadata_filter": "tags,eval,-all",
   "main_language": "R",
   "notebook_metadata_filter": "-all"
  },
  "language_info": {
   "name": "python"
  }
 },
 "nbformat": 4,
 "nbformat_minor": 5
}
