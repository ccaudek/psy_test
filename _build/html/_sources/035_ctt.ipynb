{
 "cells": [
  {
   "attachments": {},
   "cell_type": "markdown",
   "id": "2c19761a",
   "metadata": {},
   "source": [
    "(ctt-notebook)=\n",
    "# Fondamenti teorici "
   ]
  },
  {
   "cell_type": "code",
   "execution_count": null,
   "id": "b58f4e19",
   "metadata": {
    "tags": [
     "remove_cell"
    ],
    "vscode": {
     "languageId": "r"
    }
   },
   "outputs": [],
   "source": [
    "source(\"_common.R\")"
   ]
  },
  {
   "attachments": {},
   "cell_type": "markdown",
   "id": "87139487",
   "metadata": {},
   "source": [
    "## Valutazione psicometrica come ragionamento inferenziale\n",
    "\n",
    "Inizialmente, i test psicometrici possono sembrare semplici strumenti di valutazione. Tuttavia, la valutazione psicologica e neuropsicologica va ben oltre l’assegnazione di punteggi. Questa pratica implica l’analisi delle osservazioni sul comportamento, le parole e le azioni delle persone per ottenere una comprensione più profonda di aspetti che non possono essere direttamente osservati. In particolare, la valutazione psicologica e neuropsicologica utilizza modelli probabilistici per formulare spiegazioni, previsioni e conclusioni.\n",
    "\n",
    "Un secolo fa, la relazione tra le prestazioni osservate e l’abilità inosservabile del rispondente iniziò ad essere formalizzata in termini di errore di misurazione. {cite:t}`gulliksen1961measurement` descrisse il problema centrale della teoria dei test come la relazione tra l’abilità dell’individuo e il suo punteggio osservato sul test (p. 101). Questa caratterizzazione rimane valida ancora oggi, con una definizione adeguatamente ampia di “abilità” e “punteggio sul test” che possa comprendere le diverse forme di valutazione psicologica e neuropsicologica. Comprendere e rappresentare la relazione tra le prestazioni osservate e l’abilità soggiacente è quindi fondamentale per il ragionamento impiegato nella valutazione psicologica e neuropsicologica.\n",
    "\n",
    "A causa dell’errore di misurazione, il ragionamento impiegato nella valutazione psicologica e neuropsicologica è un esempio di ragionamento in condizioni di incertezza. La natura imperfetta della misurazione e l’incompletezza delle informazioni disponibili rendono le nostre inferenze incerte e sempre soggette a revisione. Il passaggio dalle osservazioni parziali (ciò che vediamo un paziente dire, fare o produrre) alle conclusioni generali (la “vera” abilità del paziente) è necessariamente incerto e le nostre inferenze sono sempre soggette ad errori.\n",
    "\n",
    "Per affrontare questa incertezza sulla relazione tra le prestazioni osservate e l’abilità soggiacente, molti progressi nella teoria psicometrica sono stati resi possibili trattando lo studio della relazione tra le risposte agli item di un test e il tratto ipotizzato di un individuo come un problema di inferenza statistica {cite:p}`lewis1986test`. {cite:p}`samejima1983constant` ha anche proposto una connessione diretta tra errore di misura e approccio probabilistico, sostenendo che la natura complessa dei fattori che influenzano le reazioni di uno studente a uno stimolo rende necessario gestire la situazione in termini di relazione probabilistica tra i due.\n",
    "\n",
    "Il punto di vista che sottolinea l’utilità di utilizzare il linguaggio e gli strumenti della teoria della probabilità per comunicare il carattere parziale dei dati e l’incertezza delle inferenze è diventato dominante nella psicometria moderna.\n",
    "\n",
    "I reattivi psicologici possono essere costruiti e validati mediante vari approcci probabilistici, tra cui la Teoria Classica dei Test (CTT) e la Teoria di Risposta all’Item (IRT). Recentemente, il problema della valutazione psicologica è stato anche formulato in un’ottica bayesiana. In questo corso esamineremo la CTT e i suoi sviluppi più recenti.\n",
    "\n",
    "## La Teoria Classica\n",
    "\n",
    "La CTT nasce alla fine dell'Ottocento (Alfred Binet e altri, 1894) allo scopo di studiare l'attendibilità (o affidabilità) e la validità dei risultati dei questionari utilizzati per valutare le caratteristiche psico-sociali, non direttamente osservabili, delle persone esaminate. \n",
    "\n",
    "```{note}\n",
    "- L'*affidabilità* è stata definita alternativamente come la correlazione al quadrato tra i punteggi veri e osservati (ad esempio, {ref:p}`lord1968statistical`, p. 61) o come il rapporto tra la varianza del punteggio vero di una scala e la sua varianza totale (ad esempio, McDonald, 1999). Queste definizioni sono matematicamente equivalenti quando la varianza del punteggio osservato è positiva, e entrambe presuppongono l'accesso alla varianza del punteggio vero di una scala. Poiché la varianza del punteggio vero è sconosciuta e può essere solo stimata dai dati osservati, la maggior parte delle stime di affidabilità si basa sull'assunzione che le covarianze osservate rappresentino necessariamente la varianza del punteggio vero.\n",
    "- La *validità* di un test psicometrico si riferisce alla misura in cui il test effettivamente misura ciò che si propone di misurare. La validità di un test è una valutazione della sua capacità di raggiungere i suoi obiettivi e può essere valutata attraverso una serie di evidenze empiriche. Alcuni tipi comuni di validità includono:\n",
    "  1. Validità di contenuto: si riferisce al grado in cui il contenuto del test rappresenta adeguatamente il costrutto che si intende misurare. \n",
    "  2. Validità di criterio: si riferisce al grado di associazione tra i punteggi del test e un criterio esterno che dovrebbe essere correlato al costrutto misurato. Può essere divisa in due sottocategorie:\n",
    "     - Validità predittiva: si riferisce alla capacità del test di predire il comportamento o il risultato futuro correlato al costrutto in esame.\n",
    "     - Validità concurrente: si riferisce alla correlazione tra i punteggi del test e il criterio esterno che è contemporaneamente misurato.\n",
    "  3. Validità di costrutto: si riferisce alla capacità del test di misurare il costrutto o la caratteristica psicologica specifica che si intende valutare. \n",
    "  4. Validità convergente e discriminante: si riferisce all'associazione del test con altre misure che dovrebbero essere correlate (validità di convergenza) o non correlate (validità di discriminazione) al costrutto misurato.\n",
    "```\n",
    "\n",
    "L'impiego su vasta scala e lo sviluppo della CTT ha inizio negli anni Trenta, anche se il modello formale su cui tale teoria si basa viene proposta da Spearman all'inizio del Novecento {cite:p}`ch1904general`. La tecnica dell'analisi fattoriale esplorativa (*Exploratory Factor Analysis*, EFA), verrà poi affinata da {cite:t}`thurstone1947multiple` alla fine della seconda guerra mondiale. Tra la fine degli anni '60 e gli inizi degli anni '70, {cite:t}`joreskog1969general` sviluppa l'analisi fattoriale confermativa (*Confirmatory Factor Analysis*, CFA). Negli anni '70, l'analisi fattoriale viene integrata con la path analysis nel lavoro di {cite:t}`joreskog1978structural` che dà origine ai modelli di equazioni strutturali (*Structural Equation Modeling*, SEM). \n",
    "\n",
    "Iniziamo qui ad esaminare queste tecniche psicometriche prendendo in esame, per prima, la teoria classica dei test. Seguiremo la trattazione proposta da {cite:t}`lord1968statistical`.\n",
    "\n",
    "L'equazione fondamentale alla quale si riconduce la teoria classica dei test è quella che ipotizza una relazione lineare e additiva tra il punteggio osservato di un test ($X$), la misura della variabile latente ($T$) e la\n",
    "componente casuale dell'errore ($E$). L'aspetto cruciale nella CTT riguarda la varianza dell'errore. Minore è la varianza dell'errore, più accuratamente il punteggio reale viene riflesso dai nostri punteggi osservati. In un mondo perfetto, tutti i valori di errore sarebbero uguali a 0. Cioè, ogni partecipante otterrebbe il punteggio esatto. Questo però non è possibile. Pertanto, abbiamo una certa varianza negli errori. La corrispondente deviazione standard di tali errori ha il un nome: si chiama *errore standard di misurazione*, indicato da $\\sigma_E$. Uno dei principali obiettivi della CTT è quello di ottenere una stima di $\\sigma_E$ in modo da potere valutare la qualità di una scala psicometrica.\n",
    "\n",
    "## Le due componenti del punteggio osservato\n",
    "\n",
    "CTT si occupa delle relazioni tra $X$, $T$ ed $E$. La CTT si basa su un\n",
    "modello relativamente semplice in cui il punteggio osservato, il\n",
    "punteggio vero (cioè l'abilità inosservabile del rispondente) e l'errore\n",
    "aleatorio di misurazione sono legati da una relazione lineare. Indicati\n",
    "con $T_{\\nu j}$ (_true score_) l'abilità latente da misurare\n",
    "dell'individuo $\\nu$ nella prova $j$, con $X_{\\nu j}$ la variabile\n",
    "osservata (_observed score_) per l'individuo $\\nu$ nella prova $j$ e con\n",
    "$E_{\\nu j}$ l'errore aleatorio di misurazione, il modello è \n",
    "\n",
    "$$\n",
    "\\begin{equation}\n",
    "X_{\\nu j} = T_{\\nu} + E_{\\nu j}. \n",
    "\\end{equation}\n",
    "$$(eq-observed-true-plus-error)\n",
    "\n",
    "Dunque, in base all'eq. {eq}`eq-observed-true-plus-error` il punteggio osservato\n",
    "$X_{\\nu j}$ differisce da quello vero $T_{\\nu j}$ a causa di una\n",
    "componente di errore casuale la quale viene assunta essere $E_{\\nu j} \\sim \\mathcal{N}(0, \\sigma_E)$. Uno degli obiettivi centrali della CTT è quello di quantificare l'entità di tale errore (ovvero, di stimare $\\sigma_E$). Vedremo come questa quantificazione verrà fornita in due forme: l'attendibilità del\n",
    "test e la stima dell'errore standard della misurazione. Si notino le similarità tra queste due misure della CTT e le misure di bontà di adattamento del modello di regressione lineare.\n",
    "\n",
    "- L'attendibilità (o affidabilità) rappresenta l'accuratezza con cui un test può misurare il punteggio vero (Coaley, 2014) e corrisponde al rapporto tra la varianza dei punteggi veri e la varianza dei punteggi osservati:\n",
    "  - se l'attendibilità è grande, $\\sigma_E$ è piccolo -- $X$ ha un piccolo errore di misurazione e sarà vicino a $T$.\n",
    "  - se l'attendibilità è piccola, $\\sigma_E$ è grande -- $X$ presenta un grande errore di misurazione e si discosterà molto da $T$.\n",
    "- La stima dell'errore standard della misurazione è una stima della deviazione standard della variabile casuale $E$ (ovvero $\\sigma_E$) che corrompe i punteggi veri.\n",
    "\n",
    "Vedremo in seguito in che senso l'attendibilità della CTT possa essere messa in relazione con il coefficiente di determinazione del modello statistico della regressione lineare e come l'errore standard della misurazione della CTT possa essere messo in relazione con l'errore standard della regressione.\n",
    "\n",
    "### Il punteggio vero\n",
    "\n",
    "L'eq. {eq}`eq-observed-true-plus-error` ci dice che il punteggio osservato è dato dalla somma di due componenti: una componente\n",
    "sistematica (il punteggio vero) e una componente aleatoria (l'errore di misurazione). Ma che cos'è il punteggio vero? CTT attribuisce diverse interpretazioni al punteggio vero. \n",
    "\n",
    "- La CTT considera un reattivo psicologico come una selezione casuale di item da un\n",
    "universo/popolazione di item attinenti al costrutto da misurare {cite:t}`nunnally1994psychometric`; {cite:t}`kline2013handbook`. Se il reattivo psicologico viene\n",
    "concepito in questo modo, il punteggio vero diventa il punteggio che un\n",
    "rispondente otterrebbe se fosse misurato su tutto l'universo degli item del costrutto. In questo senso, l'errore di misurazione riflette il grado in cui gli item che costituiscono il test non riescono a\n",
    "rappresentare l'intero universo degli item attinenti al costrutto.\n",
    "- In maniera equivalente, il punteggio vero può essere concepito come il\n",
    "punteggio non \"distorto\" da componenti estranee al costrutto, ovvero da\n",
    "effetti di apprendimento, fatica, memoria, motivazione, eccetera.\n",
    "Essendo concepita come del tutto casuale (ovvero, priva di qualunque\n",
    "natura sistematica), la componente aleatoria non introduce alcun bias\n",
    "nella tendenza centrale della misurazione (la media di $E$ viene assunta essere uguale a 0).\n",
    "- In termini puramente statistici, il punteggio vero è un punteggio inosservabile che corrisponde al valore atteso di infinite realizzazioni del punteggio\n",
    "ottenuto:\n",
    "\n",
    "$$\n",
    "T = \\mathbb{E}(X) \\equiv \\mu_X \\equiv \\mu_{T}.\n",
    "$$\n",
    "\n",
    "Combinando la seconda e la terza definizione presentate sopra, {ref:t}`lord1968statistical` concepiscono il punteggio vero come la media dei punteggi che un soggetto\n",
    "otterrebbe se il test venisse somministrato ripetutamente nelle stesse\n",
    "condizioni, in assenza di effetti di apprendimento e/o fatica.\n",
    "\n",
    "### Somministrazioni ripetute\n",
    "\n",
    "Nella formulazione del modello della CTT si possono distinguere due tipi\n",
    "di esperimenti aleatori: uno che considera l'unità di osservazione\n",
    "(l'individuo) come campionaria, l'altro che considera il punteggio, per\n",
    "un determinato individuo, come una variabile casuale. Un importante risultato è\n",
    "dato dall'unione di questi due esperimenti casuali, ovvero dalla dimostrazione che i\n",
    "risultati della CTT, la quale è stata sviluppata ipotizzando ipotetiche\n",
    "somministrazioni ripetute del test allo stesso individuo sotto le\n",
    "medesime condizioni, si generalizzano al caso di una singola\n",
    "somministrazione del test ad un campione di individui {cite:p}`allen2001introduction`. In base a questo risultato, se consideriamo la somministrazione del test ad una popolazione di individui, allora diventa più facile assegnare un contenuto empirico alle quantità discusse dalla CTT:\n",
    "\n",
    "- $\\sigma^2_X$ è la varianza del punteggio osservato nella popolazione,\n",
    "- $\\sigma^2_T$ è la varianza dei punteggio vero nella popolazione,\n",
    "- $\\sigma^2_E$ è la varianza della componente d'errore nella popolazione.\n",
    "\n",
    "### Le assunzioni sul punteggio ottenuto\n",
    "\n",
    "La CTT _assume_ che la media del punteggio osservato $X$ sia uguale alla\n",
    "media del punteggio vero, \n",
    "\n",
    "$$\n",
    "\\mu_X \\equiv \\mu_{T},\n",
    "$$ (eq-assunzione-media-x-media-t)\n",
    "\n",
    "in altri termini, assume che il punteggio osservato fornisca una stima statisticamente corretta dell'abilità latente (punteggio vero). \n",
    "\n",
    "In pratica, il punteggio osservato non sarà mai uguale all'abilità latente, ma corrisponde solo ad uno dei possibili punteggi che il soggetto può ottenere,\n",
    "subordinatamente alla sua abilità latente. L'errore della misura è la\n",
    "differenza tra il punteggio osservato e il punteggio vero:\n",
    "\n",
    "$$E \\equiv X - T.$$\n",
    "\n",
    "In base all'assunzione secondo cui il valore atteso dei punteggi è uguale alla media del valore vero, segue che\n",
    "\n",
    "$$\n",
    "\\mathbb{E}(E) = \\mathbb{E}(X - T) = \\mathbb{E}(X) - \\mathbb{E}(T) = \\mu_{T} - \\mu_{T} = 0,\n",
    "$$\n",
    "\n",
    "ovvero, il valore atteso degli errori è uguale a zero.\n",
    "\n",
    "## L'errore standard della misurazione $\\sigma_E$\n",
    "\n",
    "La radice quadrata della varianza degli errori di misurazione, ovvero la deviazione standard degli errori, $\\sigma_E$, è la quantità fondamentale della CTT ed è chiamata *errore standard della misurazione*. La stima dell'errore standard della\n",
    "misurazione costituisce uno degli obiettivi più importanti della\n",
    "CTT. \n",
    "\n",
    "Ricordiamo che la deviazione standard indica quanto i dati di una distribuzione si discostano dalla media di quella distribuzione. È simile allo scarto tipico, ovvero la distanza media tra i valori della distribuzione e la loro media. Possiamo dunque utilizzare questa proprietà per descrivere il modo in cui la CTT interpreta la quantità $\\sigma_E$: l'errore standard della misurazione $\\sigma_E$ ci dice qual è, approssimativamente, la quantità attesa di variazione del punteggio osservato, se il test venisse somministrato ripetute volte al medesimo rispondente sotto le stesse condizioni (ovvero, in assenza di effetti di apprendimento o di fatica).\n",
    "\n",
    "## Assiomi della Teoria Classica\n",
    "\n",
    "La CTT _assume_ che gli errori siano delle variabili casuali incorrelate tra loro\n",
    "\n",
    "$$\n",
    "\\rho(E_i, E_k \\mid T) = 0, \\qquad\\text{con}\\; i \\neq k,\n",
    "$$\n",
    "\n",
    "e incorrelate con il punteggio vero,\n",
    "\n",
    "$$\n",
    "\\rho(E, T) = 0,\n",
    "$$\n",
    "\n",
    "le quali seguono una distribuzione gaussiana con media zero e deviazione standard\n",
    "pari a $\\sigma_E$:\n",
    "\n",
    "$$\n",
    "E \\sim \\mathcal{N}(0, \\sigma_E).\n",
    "$$\n",
    "\n",
    "La quantità $\\sigma_E$ è appunto l'errore standard della misurazione. Sulla base di tali assunzioni la CTT deriva la formula dell'attendibilità di un test. \n",
    "\n",
    "Si noti che le assunzioni della CTT hanno una corrispondenza puntuale con le assunzioni su cui si basa il modello di regressione lineare.\n",
    "\n",
    "## L'attendibilità del test\n",
    "\n",
    "In questa sezione vedremo come il coefficiente di attendibilità (altri termini\n",
    "che vengono usati sono: affidabilità, costanza, credibilità) fornisce una\n",
    "stima della quota della varianza del punteggio osservato che può essere\n",
    "attribuita all'abilità latente (\"punteggio vero\", cioè privo di errore\n",
    "di misurazione). In generale, un coefficiente di attendibilità maggiore\n",
    "di 0.80 viene ritenuto soddisfacente perché indica che l'80% o più della\n",
    "varianza dei punteggi ottenuti è causata da ciò che il test intende\n",
    "misurare, anziché dall'errore di misurazione.\n",
    "\n",
    "Per definire l'attendibilità, la CTT si serve di due quantità:\n",
    "\n",
    "-   la varianza del punteggio osservato,\n",
    "-   la correlazione tra punteggio osservato e punteggio vero.\n",
    "\n",
    "Vediamo ora come queste quantità possano essere ottenute sulla base delle\n",
    "assunzioni del modello statistico che sta alla base della CTT.\n",
    "\n",
    "### La varianza del punteggio osservato\n",
    "\n",
    "La varianza del punteggio osservato $X$ è uguale alla somma della\n",
    "varianza del punteggio vero e della varianza dell'errore di misurazione:\n",
    "\n",
    "$$\n",
    "\\sigma^2_X =   \\sigma_T^2 + \\sigma_E^2.\n",
    "$$(eq-var-sum)\n",
    "\n",
    "````{prf:proof}\n",
    "La varianza del punteggio osservato è uguale a\n",
    "\n",
    "$$\n",
    "\\sigma^2_X =  \\mathbb{V}(T+E) =  \\sigma_T^2 + \\sigma_E^2 + 2 \\sigma_{TE}.\n",
    "$$(eq-3-2-4)\n",
    "\n",
    "Dato che $\\sigma_{TE}=\\rho_{TE}\\sigma_T \\sigma_E=0$, in quanto $\\rho_{TE}=0$, ne segue che\n",
    "\n",
    "$$\n",
    "\\sigma^2_X =   \\sigma_T^2 + \\sigma_E^2.\n",
    "$$\n",
    "````\n",
    "\n",
    "### La covarianza tra punteggio osservato e punteggio vero\n",
    "\n",
    "La covarianza tra punteggio osservato $X$ e punteggio vero $T$ è uguale alla varianza del punteggio vero:\n",
    "\n",
    "$$\n",
    "\\sigma_{X T} = \\sigma_T^2.\n",
    "$$(eq-cov-obs-true)\n",
    "\n",
    "````{prf:proof}\n",
    "La covarianza tra punteggio osservato e punteggio vero è uguale a\n",
    "\n",
    "$$\n",
    "\\begin{aligned}\n",
    "\\sigma_{X T} &= \\mathbb{E}(XT) - \\mathbb{E}(X)\\mathbb{E}(T)\\notag\\\\\n",
    "&=  \\mathbb{E}[(T+E)T] - \\mathbb{E}(T+E)\\mathbb{E}(T)\\notag\\\\\n",
    "&=  \\mathbb{E}(T^2) + \\underbrace{\\mathbb{E}(ET)}_{=0} - [\\mathbb{E}(T)]^2 -  \\underbrace{\\mathbb{E}(E)}_{=0} \\mathbb{E}(T)\\notag\\\\\n",
    "&=\\mathbb{E}(T^2) - [\\mathbb{E}(T)]^2\\notag \\\\\n",
    "&= \\sigma_T^2.\n",
    "\\end{aligned}\n",
    "$$\n",
    "````\n",
    "\n",
    "### Correlazione tra punteggio osservato e punteggio vero\n",
    "\n",
    "La correlazione tra punteggio osservato $X$ e punteggio vero $T$ è uguale al rapporto tra la covarianza tra $X$ e $T$ divisa per il prodotto delle due deviazioni standard:\n",
    "\n",
    "$$\n",
    "\\rho_{XT} = \\frac{\\sigma_{XT}}{\\sigma_X \\sigma_T} = \\frac{\\sigma^2_{T}}{\\sigma_X \\sigma_T} = \\frac{\\sigma_{T}}{\\sigma_X}.\n",
    "$$(eq-sd-ratio)\n",
    "\n",
    "Dunque, la correlazione tra il punteggio osservato e il punteggio vero è uguale al rapporto tra la deviazione standard dei punteggi veri e la deviazione standard dei punteggi osservati.\n",
    "\n",
    "### Definizione e significato dell'attendibilità\n",
    "\n",
    "Sulla base della {ref}`eq-sd-ratio` giungiamo alla definizione dell'attendibilità. \n",
    "La CTT definisce attendibilità di un test (o di un item) come il rapporto tra la varianza del punteggio vero e la varianza del punteggio osservato, ovvero come il\n",
    "quadrato della correlazione tra punteggio osservato $X$ e punteggio vero\n",
    "$T$:\n",
    "\n",
    "$$\n",
    "\\begin{equation}\n",
    "\\rho_{XT}^2 = \\frac{\\sigma_{T}^2}{\\sigma_X^2}.\n",
    "\\end{equation}\n",
    "$$(eq-reliability-1)\n",
    "\n",
    "Questa è la quantità fondamentale della CTT e misura il grado di variazione del punteggio vero rispetto alla variazione del punteggio osservato. Dato che $\\sigma^2_X = \\sigma_T^2 + \\sigma_E^2$, in base alla {ref}`eq-reliability-1` possiamo scrivere \n",
    "\n",
    "$$\n",
    "\\begin{equation}\n",
    "\\rho_{XT}^2 = \\frac{\\sigma_{T}^2}{\\sigma_X^2} =\\frac{\\sigma_{X}^2 - \\sigma^2_E}{\\sigma_X^2} = 1-\\frac{\\sigma_{E}^2}{\\sigma_X^2}.\n",
    "\\end{equation}\n",
    "$$(eq-3-2-6)\n",
    "\n",
    "La {eq}`eq-3-2-6` ci dice che il coefficiente di attendibilità assume valore $1$ se la varianza degli errori $\\sigma_{E}^2$ è nulla e assume valore $0$ se la varianza degli errori è uguale alla varianza del punteggio osservato. Il coefficiente di attendibilità è dunque un numero puro contenuto nell'intervallo compreso tra $0$ e $1$.\n",
    "\n",
    "## Attendibilità e modello di regressione lineare\n",
    "\n",
    "In parole semplici, la CTT (Teoria Classica dei Test) si basa sul modello di regressione lineare, dove i punteggi osservati sono considerati come variabile dipendente e i punteggi veri come variabile indipendente. Il coefficiente di attendibilità $\\rho_{XT}^2$ rappresenta la proporzione di varianza nella variabile dipendente spiegata dalla variabile indipendente in un modello di regressione lineare con una pendenza unitaria e un'intercetta di zero. In altre parole, il coefficiente di attendibilità è equivalente al coefficiente di determinazione del modello di regressione.\n",
    "\n",
    "### Simulazione\n",
    "\n",
    "Per dare un contenuto concreto alle affermazioni precedenti, consideriamo la seguente simulazione svolta in $\\textsf{R}$. In tale simulazione il punteggio vero $T$ e l'errore $E$ sono creati in modo tale da soddisfare i vincoli della CTT: $T$ e $E$ sono variabili casuali gaussiane tra loro incorrelate. Nella simulazione generiamo 100 coppie di valori $X$ e $T$ con i seguenti parametri: $T \\sim \\mathcal{N}(\\mu_T = 12, \\sigma^2_T = 6)$, $E \\sim \\mathcal{N}(\\mu_E = 0, \\sigma^2_T = 3)$:"
   ]
  },
  {
   "cell_type": "code",
   "execution_count": null,
   "id": "3f24bbfe",
   "metadata": {
    "vscode": {
     "languageId": "r"
    }
   },
   "outputs": [],
   "source": [
    "set.seed(12345)\n",
    "library(\"MASS\")\n",
    "\n",
    "n <- 100\n",
    "Sigma <- matrix(c(6, 0, 0, 3), byrow = TRUE, ncol = 2)\n",
    "Sigma\n",
    "mu <- c(12, 0)\n",
    "mu\n",
    "Y <- mvrnorm(n, mu, Sigma, empirical = TRUE)\n",
    "T <- Y[, 1]\n",
    "E <- Y[, 2]"
   ]
  },
  {
   "attachments": {},
   "cell_type": "markdown",
   "id": "83ad3853",
   "metadata": {},
   "source": [
    "Le istruzioni precedenti (`empirical = TRUE`) creano un campione di valori nei quali  le medie e la matrice di covarianze assumono esattamente i valori richiesti. Possiamo dunque immaginare tale insieme di dati come la \"popolazione\".\n",
    "\n",
    "Secondo la CTT, il punteggio osservato è $X = T + E$. Simuliamo dunque\n",
    "il punteggio osservato $X$ come:"
   ]
  },
  {
   "cell_type": "code",
   "execution_count": null,
   "id": "e2e1546b",
   "metadata": {
    "vscode": {
     "languageId": "r"
    }
   },
   "outputs": [],
   "source": [
    "X <- T + E"
   ]
  },
  {
   "attachments": {},
   "cell_type": "markdown",
   "id": "9dd72f68",
   "metadata": {},
   "source": [
    "Le prime 6 osservazioni così ottenute sono:"
   ]
  },
  {
   "cell_type": "code",
   "execution_count": null,
   "id": "107c45ec",
   "metadata": {
    "vscode": {
     "languageId": "r"
    }
   },
   "outputs": [],
   "source": [
    "head(cbind(T, E, X))"
   ]
  },
  {
   "attachments": {},
   "cell_type": "markdown",
   "id": "cd05710e",
   "metadata": {},
   "source": [
    "Un diagramma di dispersione è fornito nella figura seguente:"
   ]
  },
  {
   "cell_type": "code",
   "execution_count": null,
   "id": "979d79eb",
   "metadata": {
    "fig.cap": "Simulazione della relazione tra punteggio osservato e punteggio vero per 100 individui in base alle assunzioni della CTT.",
    "vscode": {
     "languageId": "r"
    }
   },
   "outputs": [],
   "source": [
    "tibble(X, T) %>%\n",
    "  ggplot(aes(X, T)) +\n",
    "  geom_point()"
   ]
  },
  {
   "attachments": {},
   "cell_type": "markdown",
   "id": "1dc070d7",
   "metadata": {},
   "source": [
    "Secondo la CTT, il valore atteso di $T$ è uguale al valore atteso di\n",
    "$X$. Verifichiamo questa assunzione nei nostri dati:"
   ]
  },
  {
   "cell_type": "code",
   "execution_count": null,
   "id": "beac009e",
   "metadata": {
    "vscode": {
     "languageId": "r"
    }
   },
   "outputs": [],
   "source": [
    "mean(T)\n",
    "mean(X)"
   ]
  },
  {
   "attachments": {},
   "cell_type": "markdown",
   "id": "d48d6019",
   "metadata": {},
   "source": [
    "L'errore deve avere media zero, varianza $\\sigma_E^2$ e deve essere\n",
    "incorrelato con $T$:"
   ]
  },
  {
   "cell_type": "code",
   "execution_count": null,
   "id": "1731dcb9",
   "metadata": {
    "vscode": {
     "languageId": "r"
    }
   },
   "outputs": [],
   "source": [
    "mean(E)\n",
    "var(E)\n",
    "cor(T, E)"
   ]
  },
  {
   "attachments": {},
   "cell_type": "markdown",
   "id": "d9487604",
   "metadata": {},
   "source": [
    "Ricordiamo che la radice quadrata della varianza degli errori è l'errore standard della misurazione, $\\sigma_E$. La quantità $\\sqrt{\\sigma_E^2}$ fornisce una misura della dispersione del punteggio osservato attorno al valore vero, nella condizione ipotetica di ripetute somministrazioni del test:"
   ]
  },
  {
   "cell_type": "code",
   "execution_count": null,
   "id": "fc9baf7c",
   "metadata": {
    "vscode": {
     "languageId": "r"
    }
   },
   "outputs": [],
   "source": [
    "sqrt(3)"
   ]
  },
  {
   "attachments": {},
   "cell_type": "markdown",
   "id": "6b001775",
   "metadata": {},
   "source": [
    "Dato che $T$ e $E$ sono incorrelati, ne segue che la varianza del punteggio osservato $X$ è uguale alla somma della varianza del punteggio vero $T$ e della varianza degli errori $E$:"
   ]
  },
  {
   "cell_type": "code",
   "execution_count": null,
   "id": "1e8fd942",
   "metadata": {
    "vscode": {
     "languageId": "r"
    }
   },
   "outputs": [],
   "source": [
    "var(X)\n",
    "var(T) + var(E)"
   ]
  },
  {
   "attachments": {},
   "cell_type": "markdown",
   "id": "2ed0a1b0",
   "metadata": {},
   "source": [
    "La varianza del punteggio vero $T$ è uguale alla covarianza tra il\n",
    "punteggio vero $T$ e il punteggio osservato $X$:"
   ]
  },
  {
   "cell_type": "code",
   "execution_count": null,
   "id": "db1226be",
   "metadata": {
    "vscode": {
     "languageId": "r"
    }
   },
   "outputs": [],
   "source": [
    "var(T)\n",
    "cov(T, X)"
   ]
  },
  {
   "attachments": {},
   "cell_type": "markdown",
   "id": "d4fe9d0f",
   "metadata": {},
   "source": [
    "La correlazione tra punteggio osservato e punteggio vero è uguale al rapporto tra la deviazione standard del punteggio vero e la deviazione standard del punteggio osservato:"
   ]
  },
  {
   "cell_type": "code",
   "execution_count": null,
   "id": "60d7b987",
   "metadata": {
    "vscode": {
     "languageId": "r"
    }
   },
   "outputs": [],
   "source": [
    "cor(X, T)\n",
    "sd(T) / sd(X)"
   ]
  },
  {
   "attachments": {},
   "cell_type": "markdown",
   "id": "b48ed5cb",
   "metadata": {},
   "source": [
    "Per la CTT, l'attendibilità è uguale al quadrato del coefficiente di correlazione tra il punteggio vero $T$ e il punteggio osservato $X$, ovvero:"
   ]
  },
  {
   "cell_type": "code",
   "execution_count": null,
   "id": "ef9985cc",
   "metadata": {
    "vscode": {
     "languageId": "r"
    }
   },
   "outputs": [],
   "source": [
    "cor(X, T)^2"
   ]
  },
  {
   "attachments": {},
   "cell_type": "markdown",
   "id": "b56ccc47",
   "metadata": {},
   "source": [
    "La motivazione di questa simulazione è quella di mettere in relazione il\n",
    "coefficiente di attendibilità, calcolato con la formula della CTT (come abbiamo fatto sopra), con il modello di regressione lineare. Analizziamo dunque i dati della\n",
    "simulazione mediante il seguente modello di regressione lineare:\n",
    "\n",
    "$$\n",
    "X = a + b T + E.\n",
    "$$\n",
    "\n",
    "Usando $\\textsf{R}$ otteniamo:"
   ]
  },
  {
   "cell_type": "code",
   "execution_count": null,
   "id": "0d0b87c8",
   "metadata": {
    "vscode": {
     "languageId": "r"
    }
   },
   "outputs": [],
   "source": [
    "fm <- lm(X ~ T)\n",
    "summary(fm)"
   ]
  },
  {
   "attachments": {},
   "cell_type": "markdown",
   "id": "5318ee4a",
   "metadata": {},
   "source": [
    "Si noti che la retta di regressione ha intercetta 0 e pendenza 1. Questo è coerente con l'assunzione $\\mathbb{E}(X) = \\mathbb{E}(T)$. Ma il risultato più importante di questa simulazione è che il coefficiente di determinazione ($R^2$ = 0.67) del modello di regressione $X = 0 + 1 \\times T + E$ è identico al coefficiente di attendibilità calcolato con la formula $\\rho_{XT}^2 = \\frac{\\sigma_{T}^2}{\\sigma_X^2}$:"
   ]
  },
  {
   "cell_type": "code",
   "execution_count": null,
   "id": "ff93bea6",
   "metadata": {
    "vscode": {
     "languageId": "r"
    }
   },
   "outputs": [],
   "source": [
    "var(T) / var(X)"
   ]
  },
  {
   "attachments": {},
   "cell_type": "markdown",
   "id": "9c88acc2",
   "metadata": {},
   "source": [
    "Ciò ci consente di interpretare il coefficiente di attendibilità nel modo\n",
    "seguente: l'attendibilità di un test non è altro che la quota di varianza del punteggio osservato $X$ che viene spiegata dalla regressione di $X$ sul punteggio vero $T$ in un modello di regressione lineare dove $\\alpha$ = 0 e $\\beta$ = 1.\n",
    "\n",
    "## Misurazioni parallele e affidabilità\n",
    "\n",
    "L'equazione $\\rho_{XT}^2 = \\frac{\\sigma_{T}^2}{\\sigma_X^2}$ definisce il\n",
    "coefficiente di attendibilità ma non ci fornisce gli strumenti per\n",
    "calcolarlo in pratica, dato che la varianza del punteggio vero $\\sigma_{T}^2$ è una\n",
    "quantità incognita. Il metodo utilizzato dalla CTT per ottenere una\n",
    "stima empirica dell'attendibilità è quello delle *forme parallele* del\n",
    "test: se è possibile elaborare versioni alternative dello stesso test\n",
    "che risultino equivalenti tra loro in termini di contenuto, modalità di\n",
    "risposta e caratteristiche statistiche, allora diventa anche possibile\n",
    "stimare il coefficiente di attendibilità.\n",
    "\n",
    "Secondo la CTT, due test $X=T+E$ e $X^\\prime=T^\\prime+E^\\prime$ si dicono misurazioni\n",
    "parallele della stessa abilità latente se \n",
    "\n",
    "- $T = T^\\prime$,\n",
    "- $\\mathbb{V}(E) = \\mathbb{V}(E^\\prime)$.\n",
    "\n",
    "Da tali assunzioni segue che $\\mathbb{E}(X) = \\mathbb{E}(X^\\prime)$.\n",
    "\n",
    "````{prf:proof}\n",
    "Dato che $\\mathbb{E}(X) = T$ e che $\\mathbb{E}(X^\\prime) = T$, è immediato vedere che $\\mathbb{E}(X) =\\mathbb{E}(X^\\prime)$ in quanto $\\mathbb{E}(E) = \\mathbb{E}(E^\\prime) = 0$.\n",
    "````\n",
    "\n",
    "In maniera corrispondente, anche le varianze dei punteggi osservati di due misurazioni parallele devono essere uguali, $\\mathbb{V}(X) = \\mathbb{V}(X^\\prime)$.\n",
    "\n",
    "````{prf:proof}\n",
    "Per $X$ abbiamo che $\\mathbb{V}(X) = \\mathbb{V}(T + E) = \\mathbb{V}(T) + \\mathbb{V}(E)$; per $X^\\prime$ abbiamo che $\\mathbb{V}(X^\\prime) = \\mathbb{V}(T^\\prime + E^\\prime) = \\mathbb{V}(T^\\prime) + \\mathbb{V}(E^\\prime)$. Dato che $\\mathbb{V}(E) = \\mathbb{V}(E^\\prime)$ e che $T = T^\\prime$, ne segue che $\\mathbb{V}(X) = \\mathbb{V}(X^\\prime)$.\n",
    "````\n",
    "\n",
    "Per costruzione, inoltre, gli errori $E$ e $E^\\prime$ devono essere incorrelati con $T$ e tra loro.\n",
    "\n",
    "### La correlazione tra due forme parallele del test\n",
    "\n",
    "Dimostriamo ora che, in base alle assunzioni della CTT, la correlazione tra  due forme parallele del test è uguale al rapporto tra la varianza del punteggio vero e la varianza del punteggio osservato. \n",
    "\n",
    "````{prf:proof}\n",
    "Assumendo, senza perdita di generalità, che $\\mathbb{E}(X)=\\mathbb{E}(X')=\\mathbb{E}(T)=0$, possiamo scrivere \n",
    "\n",
    "$$\n",
    "\\begin{equation}\n",
    "\\begin{aligned}\n",
    "\\rho_{X X^\\prime} &= \\frac{\\sigma(X, X^\\prime)}{\\sigma(X) \\sigma(X^\\prime)}\\notag\\\\\n",
    "&= \\frac{\\mathbb{E}(XX^\\prime)}{\\sigma(X) \\sigma(X^\\prime)}\\notag\\\\\n",
    "&=\\frac{\\mathbb{E}[(T+E)(T+E^\\prime)]}{\\sigma(X) \\sigma(X^\\prime)}\\notag\\\\\n",
    "&=\\frac{\\mathbb{E}(T^2)+\\mathbb{E}(TE^\\prime)+\\mathbb{E}(TE)+ \\mathbb{E}(EE^\\prime)}{\\sigma(X) \\sigma(X^\\prime)}.\\notag\n",
    "\\end{aligned}\n",
    "\\end{equation}\n",
    "$$\n",
    "\n",
    "Ma $\\mathbb{E}(TE) = \\mathbb{E}(TE^\\prime) = \\mathbb{E}(EE^\\prime)=0$. Inoltre, $\\sigma(X) =\\sigma(X^\\prime)= \\sigma_X$. Dunque,\n",
    "\n",
    "$$\n",
    "\\begin{equation}\n",
    "\\rho_{X X^\\prime} =\\frac{\\mathbb{E}(T^2)}{\\sigma_X \\sigma_X} = \\frac{\\sigma^2_T}{\\sigma^2_X}.\n",
    "(\\#eq:3-3-5)\n",
    "\\end{equation}\n",
    "$$\n",
    "````\n",
    "\n",
    "Si noti come la \\@ref(eq:3-3-5) e l'equazione che definisce il coefficiente di attendibilità, ovvero $\\rho_{XT}^2 = \\frac{\\sigma_{T}^2}{\\sigma_X^2}$, riportano tutte e due la stessa quantità a destra dell'uguale. Otteniamo così un importante risultato: il coefficiente di attendibilità, ovvero il quadrato del coefficiente di correlazione tra il punteggio osservato e il punteggio vero, è uguale alla correlazione tra il valore osservato di due misurazioni parallele: \n",
    "\n",
    "$$\n",
    "\\begin{equation}\n",
    "\\rho^2_{XT} =  \\rho_{XX^\\prime}.\n",
    "\\end{equation}\n",
    "$$(eq-rho2xt-rhoxx)\n",
    "\n",
    "Tale risultato è importante perché consente di esprimere la quantità inosservabile $\\rho^2_{XT}$ nei termini della quantità $\\rho_{XX^\\prime}$ che può essere calcolata sulla base dei punteggi osservati di due forme parallele del test. Quindi, la stima di $\\rho^2_{XT}$ si riduce alla stima di $\\rho^2_{XX^\\prime}$. Per questa ragione, la {}ref{eq-rho2xt-rhoxx} è forse la formula più importante della CTT. Inoltre, è importante notare che l'eq. {ref}`eq:rho2xt-rhoxx` fornisce la giustificazione per l'utilizzo della correlazione split-half come misura di attendibilità.\n",
    "\n",
    "### La correlazione tra punteggio osservato e punteggio vero\n",
    "\n",
    "Consideriamo ora la correlazione tra punteggio osservato e punteggio vero. La {ref}`eq-rho2xt-rhoxx` si può scrivere come\n",
    "\n",
    "$$\n",
    "\\rho_{XT} = \\sqrt{\\rho_{XX^\\prime}}.\n",
    "$$ \n",
    "\n",
    "In altri termini: la radice quadrata del coefficiente di attendibilità è uguale alla correlazione tra il punteggio osservato e il punteggio vero.\n",
    "\n",
    "### I fattori che influenzano l'attendibilità\n",
    "\n",
    "Considerando le tre equazioni\n",
    "\n",
    "$$\n",
    "\\rho^2_{XT} = \\rho_{XX'},\\quad\n",
    "\\rho_{XT}^2 = \\frac{\\sigma_{T}^2}{\\sigma_X^2}, \\quad\n",
    "\\rho_{XT}^2 = 1-\\frac{\\sigma_{E}^2}{\\sigma_X^2},\n",
    "$$ \n",
    "\n",
    "possiamo dire che ci sono tre modi equivalenti per concludere che l'attendibilità di un test è alta. La attendibilità di un test è considerata alta se si verificano le seguenti condizioni:\n",
    "\n",
    "-La correlazione tra le forme parallele del test è alta.\n",
    "- La varianza del punteggio vero è grande rispetto alla varianza del punteggio osservato.\n",
    "- La varianza dell'errore di misura è piccola rispetto alla varianza del punteggio osservato.\n",
    " \n",
    "Queste considerazioni sono importanti per la progettazione di un test. In particolare, l'equazione $\\rho^2_{XT} = \\rho_{XX'}$ fornisce un criterio per la selezione degli item da includere nel test. Se interpretiamo $\\rho_{XX'}$ come la correlazione tra due item, allora gli item che hanno la correlazione più alta tra di loro dovrebbero essere inclusi nel test. In questo modo, l'attendibilità del test aumenta perché gli item inclusi sono maggiormente correlati con il punteggio vero.\n",
    "\n",
    "## Metodi alternativi per la stima del coefficiente di attendibilità\n",
    "\n",
    "In pratica, come si stima l'affidabilità di un test? Per stimare l'affidabilità di un test, esistono diversi metodi. Uno di questi consiste nella somministrazione dello stesso test a un gruppo di individui in due momenti diversi, in modo da calcolare la correlazione dei punteggi totali ottenuti (*test-retest reliability*).Questo metodo può essere giustificato in due modi diversi {ref}`mcdonald2013test`. \n",
    "\n",
    "- Il primo si basa sull'assunzione che il valore vero non varia tra le due somministrazioni del test. In tal caso, gli errori commessi dai partecipanti durante le due somministrazioni sono indipendenti tra loro e la correlazione tra i punteggi totali ci fornisce una stima del coefficiente di correlazione tra gli item del test. Tuttavia, non è possibile distinguere questa situazione ideale dal caso in cui viene violata l'assunzione di invarianza del punteggio vero.\n",
    "- Il secondo metodo si basa sulla definizione del punteggio vero di retest come la componente del punteggio osservato che non varia tra le due somministrazioni. In questo caso, il coefficiente di attendibilità viene concepito come un coefficiente di stabilità temporale, che diminuisce all'aumentare dell'intervallo di tempo tra le due somministrazioni. \n",
    "\n",
    "Il metodo test-retest ha il limite di fornire solo un sottoinsieme delle informazioni che verrebbero raccolte da uno studio longitudinale che copre un periodo di tempo maggiore. Se fosse possibile eseguire uno studio di questo tipo, potremmo trovare la funzione che descrive la variazione del punteggio osservato in funzione del tempo. In\n",
    "generale, tale funzione non può essere descritta da un singolo\n",
    "parametro. Resta dunque aperta la domanda di quale sia relazione tra questa\n",
    "funzione e il coefficiente di attendibilità.\n",
    "\n",
    "Se sono disponibili due forme parallele dello stesso test,\n",
    "l'affidabilità può essere calcolata mediante il coefficiente di\n",
    "correlazione dei punteggi totali dei due test (_parallel-forms\n",
    "reliability_), valendo l'uguaglianza $\\rho_{XX^\\prime} = \\rho^2_{XT}$. Anche\n",
    "questo metodo, come il metodo del test-retest, non è esente da errori.\n",
    "\n",
    "Il metodo di stima più diffuso è quello dell'attendibilità come consistenza interna \n",
    "(*internal consistency reliability*), originariamente ricavato da {cite:t}`kuder1937theory` per item dicotomici e poi generalizzato da {cite:t}`cronbach1951coefficient` per item a risposte ordinali. L'idea su cui si basa consiste nel fatto che ogni singolo item del test, se confrontato con tutti gli altri, può essere usato per stimare l'affidabilità del test. L'analisi degli item valuta dunque quanto gli item del test misurano lo stesso costrutto."
   ]
  },
  {
   "attachments": {},
   "cell_type": "markdown",
   "id": "455bbb23",
   "metadata": {},
   "source": [
    "<!-- [^2]: Vedremo in seguito -->\n",
    "<!--     (§ [\\[ch:err_stnd_stima\\]](#ch:err_stnd_stima){reference-type=\"ref\" -->\n",
    "<!--     reference=\"ch:err_stnd_stima\"}) come il livello di abilità latente -->\n",
    "<!--     (il punteggio vero) possa essere stimato con la formula di Kelley -->\n",
    "<!--     (1923), ovvero $$\\begin{aligned} -->\n",
    "<!--     \\hat{T}_i &= \\rho_{XT} x_i + (1 - \\rho_{XT})\\mu_x\\notag\\\\ -->\n",
    "<!--     &= \\mu_x + \\rho_{XT} (x_i - \\mu_x),\\notag\\end{aligned}$$ dove -->\n",
    "<!--     $\\mu_x$ è la media dei punteggio osservato e $\\hat{T}_i$ è la stima -->\n",
    "<!--     del punteggio vero per l'$i$-esimo rispondente. -->\n",
    "\n",
    "<!-- [^3]:  -->"
   ]
  }
 ],
 "metadata": {
  "jupytext": {
   "cell_metadata_filter": "fig.cap,tags,-all",
   "main_language": "R",
   "notebook_metadata_filter": "-all"
  },
  "kernelspec": {
   "display_name": "R",
   "language": "R",
   "name": "ir"
  },
  "language_info": {
   "name": "R"
  }
 },
 "nbformat": 4,
 "nbformat_minor": 5
}
