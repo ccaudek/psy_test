{
 "cells": [
  {
   "attachments": {},
   "cell_type": "markdown",
   "id": "8127fb74",
   "metadata": {},
   "source": [
    "(cat-data-notebook)=\n",
    "# Dati non gaussiani e categoriali"
   ]
  },
  {
   "cell_type": "code",
   "execution_count": 1,
   "id": "eab6ba6c",
   "metadata": {
    "tags": [
     "remove_cell"
    ],
    "vscode": {
     "languageId": "r"
    }
   },
   "outputs": [],
   "source": [
    "source(\"_common.R\")\n",
    "suppressPackageStartupMessages({\n",
    "    library(\"lavaan\")\n",
    "    library(\"semPlot\")\n",
    "    library(\"knitr\")\n",
    "    library(\"markdown\")\n",
    "    library(\"patchwork\")\n",
    "    library(\"here\")\n",
    "})\n",
    "\n",
    "set.seed(42)"
   ]
  },
  {
   "attachments": {},
   "cell_type": "markdown",
   "id": "ec0f4223",
   "metadata": {},
   "source": [
    "Negli esempi precedenti di questa dispensa è stato utilizzato lo stimatore di massima verosimiglianza (ML). Molti dei modelli CFA e SEM riportati nella letteratura di ricerca applicata utilizzano infatti stime di ML. Tuttavia, lo stimatore ML è appropriata solo per dati multivariati normali a livello di scala a intervalli (cioè, quando la distribuzione congiunta delle variabili continue è distribuita normalmente). Quando i dati continui si discostano marcatamente dalla normalità (cioè, mostrano una forte asimmetria o curtosi), o quando alcuni degli indicatori non sono a livello di scala a intervalli (cioè, dati binari, politomici o ordinali), allora è preferibile usare uno stimatore diverso da quello di ML.\n",
    "\n",
    "## Dati non gaussiani\n",
    "\n",
    "La ricerca ha dimostrato che la stima di ML è robusta nel caso di piccole deviazioni nella normalità. Tuttavia, quando la non normalità è più pronunciata, è necessario utilizzare uno stimatore diverso dalla ML per ottenere risultati statistici affidabili (vale a dire, statistiche accurate sulla bontà dell'adattamento ed errori standard accurati delle stime dei parametri). La stima di ML è particolarmente sensibile ad un eccesso di curtosi.\n",
    "\n",
    "Le conseguenze dell'uso della ML in condizioni di grave non normalità includono \n",
    "\n",
    "- valori eccessivi della statistica $\\chi^2$ del modello; \n",
    "- la sottostima degli indici di bontà dell'adattamento mediante indici quali TLI e CFI;\n",
    "- la sottostima degli errori standard dei parametri.\n",
    "\n",
    "Questi effetti deleteri sono esacerbati dalla diminuzione della dimensione del campione. \n",
    "\n",
    "Allo scopo di limitare tali conseguenze indesiderate, nelle condizioni di marcata violazione dell'assunzione di normalità multivariata, vengono usati stimatori diversi dalla ML. I due stimatori più comunemente usati per dati continui non normali sono \n",
    "\n",
    "- ML robusto,\n",
    "- minimi quadrati ponderati (WLS). \n",
    "\n",
    "L'uso di WLS non è, in generale, raccomandato, a meno che le dimensioni del campione non siano molto grandi. Al contrario, la ricerca ha dimostrato che il metodo ML robusto fornisce uno stimatore adeguato rispetto a diversi livelli di non normalità. \n",
    "\n",
    "Esaminiamo qui un esempio discusso da {cite:t}`brown2015confirmatory` nelle sue tabelle 9.5 -- 9.7. "
   ]
  },
  {
   "cell_type": "code",
   "execution_count": 2,
   "id": "b45b9c4e",
   "metadata": {
    "vscode": {
     "languageId": "r"
    }
   },
   "outputs": [
    {
     "data": {
      "text/html": [
       "<table class=\"dataframe\">\n",
       "<caption>A data.frame: 6 × 5</caption>\n",
       "<thead>\n",
       "\t<tr><th></th><th scope=col>x1</th><th scope=col>x2</th><th scope=col>x3</th><th scope=col>x4</th><th scope=col>x5</th></tr>\n",
       "\t<tr><th></th><th scope=col>&lt;int&gt;</th><th scope=col>&lt;int&gt;</th><th scope=col>&lt;int&gt;</th><th scope=col>&lt;int&gt;</th><th scope=col>&lt;int&gt;</th></tr>\n",
       "</thead>\n",
       "<tbody>\n",
       "\t<tr><th scope=row>1</th><td>0</td><td>0</td><td>0</td><td>0</td><td>0</td></tr>\n",
       "\t<tr><th scope=row>2</th><td>0</td><td>0</td><td>0</td><td>0</td><td>0</td></tr>\n",
       "\t<tr><th scope=row>3</th><td>0</td><td>0</td><td>0</td><td>0</td><td>0</td></tr>\n",
       "\t<tr><th scope=row>4</th><td>4</td><td>2</td><td>2</td><td>1</td><td>1</td></tr>\n",
       "\t<tr><th scope=row>5</th><td>1</td><td>0</td><td>1</td><td>6</td><td>0</td></tr>\n",
       "\t<tr><th scope=row>6</th><td>0</td><td>0</td><td>0</td><td>0</td><td>0</td></tr>\n",
       "</tbody>\n",
       "</table>\n"
      ],
      "text/latex": [
       "A data.frame: 6 × 5\n",
       "\\begin{tabular}{r|lllll}\n",
       "  & x1 & x2 & x3 & x4 & x5\\\\\n",
       "  & <int> & <int> & <int> & <int> & <int>\\\\\n",
       "\\hline\n",
       "\t1 & 0 & 0 & 0 & 0 & 0\\\\\n",
       "\t2 & 0 & 0 & 0 & 0 & 0\\\\\n",
       "\t3 & 0 & 0 & 0 & 0 & 0\\\\\n",
       "\t4 & 4 & 2 & 2 & 1 & 1\\\\\n",
       "\t5 & 1 & 0 & 1 & 6 & 0\\\\\n",
       "\t6 & 0 & 0 & 0 & 0 & 0\\\\\n",
       "\\end{tabular}\n"
      ],
      "text/markdown": [
       "\n",
       "A data.frame: 6 × 5\n",
       "\n",
       "| <!--/--> | x1 &lt;int&gt; | x2 &lt;int&gt; | x3 &lt;int&gt; | x4 &lt;int&gt; | x5 &lt;int&gt; |\n",
       "|---|---|---|---|---|---|\n",
       "| 1 | 0 | 0 | 0 | 0 | 0 |\n",
       "| 2 | 0 | 0 | 0 | 0 | 0 |\n",
       "| 3 | 0 | 0 | 0 | 0 | 0 |\n",
       "| 4 | 4 | 2 | 2 | 1 | 1 |\n",
       "| 5 | 1 | 0 | 1 | 6 | 0 |\n",
       "| 6 | 0 | 0 | 0 | 0 | 0 |\n",
       "\n"
      ],
      "text/plain": [
       "  x1 x2 x3 x4 x5\n",
       "1 0  0  0  0  0 \n",
       "2 0  0  0  0  0 \n",
       "3 0  0  0  0  0 \n",
       "4 4  2  2  1  1 \n",
       "5 1  0  1  6  0 \n",
       "6 0  0  0  0  0 "
      ]
     },
     "metadata": {},
     "output_type": "display_data"
    }
   ],
   "source": [
    "d <- readRDS(here::here(\"data\", \"brown_table_9_5_data.RDS\"))\n",
    "head(d)"
   ]
  },
  {
   "attachments": {},
   "cell_type": "markdown",
   "id": "f631138d",
   "metadata": {},
   "source": [
    "Le statistiche descrittive di questo campione di dati mostrano valori eccessivi di asimmetria e di curtosi."
   ]
  },
  {
   "cell_type": "code",
   "execution_count": 3,
   "id": "827d9b68",
   "metadata": {
    "vscode": {
     "languageId": "r"
    }
   },
   "outputs": [
    {
     "data": {
      "text/html": [
       "<table class=\"dataframe\">\n",
       "<caption>A psych: 5 × 13</caption>\n",
       "<thead>\n",
       "\t<tr><th></th><th scope=col>vars</th><th scope=col>n</th><th scope=col>mean</th><th scope=col>sd</th><th scope=col>median</th><th scope=col>trimmed</th><th scope=col>mad</th><th scope=col>min</th><th scope=col>max</th><th scope=col>range</th><th scope=col>skew</th><th scope=col>kurtosis</th><th scope=col>se</th></tr>\n",
       "\t<tr><th></th><th scope=col>&lt;int&gt;</th><th scope=col>&lt;dbl&gt;</th><th scope=col>&lt;dbl&gt;</th><th scope=col>&lt;dbl&gt;</th><th scope=col>&lt;dbl&gt;</th><th scope=col>&lt;dbl&gt;</th><th scope=col>&lt;dbl&gt;</th><th scope=col>&lt;dbl&gt;</th><th scope=col>&lt;dbl&gt;</th><th scope=col>&lt;dbl&gt;</th><th scope=col>&lt;dbl&gt;</th><th scope=col>&lt;dbl&gt;</th><th scope=col>&lt;dbl&gt;</th></tr>\n",
       "</thead>\n",
       "<tbody>\n",
       "\t<tr><th scope=row>x1</th><td>1</td><td>870</td><td>1.4701149</td><td>2.172832</td><td>0</td><td>1.0086207</td><td>0</td><td>0</td><td>8</td><td>8</td><td>1.506406</td><td>1.252591</td><td>0.07366591</td></tr>\n",
       "\t<tr><th scope=row>x2</th><td>2</td><td>870</td><td>0.8229885</td><td>1.601474</td><td>0</td><td>0.4152299</td><td>0</td><td>0</td><td>8</td><td>8</td><td>2.398394</td><td>5.670143</td><td>0.05429505</td></tr>\n",
       "\t<tr><th scope=row>x3</th><td>3</td><td>870</td><td>1.2655172</td><td>2.070024</td><td>0</td><td>0.7772989</td><td>0</td><td>0</td><td>8</td><td>8</td><td>1.797942</td><td>2.343203</td><td>0.07018040</td></tr>\n",
       "\t<tr><th scope=row>x4</th><td>4</td><td>870</td><td>1.0264368</td><td>1.928047</td><td>0</td><td>0.5359195</td><td>0</td><td>0</td><td>8</td><td>8</td><td>2.157445</td><td>3.977564</td><td>0.06536693</td></tr>\n",
       "\t<tr><th scope=row>x5</th><td>5</td><td>870</td><td>0.6068966</td><td>1.519175</td><td>0</td><td>0.1839080</td><td>0</td><td>0</td><td>8</td><td>8</td><td>3.103965</td><td>9.373781</td><td>0.05150485</td></tr>\n",
       "</tbody>\n",
       "</table>\n"
      ],
      "text/latex": [
       "A psych: 5 × 13\n",
       "\\begin{tabular}{r|lllllllllllll}\n",
       "  & vars & n & mean & sd & median & trimmed & mad & min & max & range & skew & kurtosis & se\\\\\n",
       "  & <int> & <dbl> & <dbl> & <dbl> & <dbl> & <dbl> & <dbl> & <dbl> & <dbl> & <dbl> & <dbl> & <dbl> & <dbl>\\\\\n",
       "\\hline\n",
       "\tx1 & 1 & 870 & 1.4701149 & 2.172832 & 0 & 1.0086207 & 0 & 0 & 8 & 8 & 1.506406 & 1.252591 & 0.07366591\\\\\n",
       "\tx2 & 2 & 870 & 0.8229885 & 1.601474 & 0 & 0.4152299 & 0 & 0 & 8 & 8 & 2.398394 & 5.670143 & 0.05429505\\\\\n",
       "\tx3 & 3 & 870 & 1.2655172 & 2.070024 & 0 & 0.7772989 & 0 & 0 & 8 & 8 & 1.797942 & 2.343203 & 0.07018040\\\\\n",
       "\tx4 & 4 & 870 & 1.0264368 & 1.928047 & 0 & 0.5359195 & 0 & 0 & 8 & 8 & 2.157445 & 3.977564 & 0.06536693\\\\\n",
       "\tx5 & 5 & 870 & 0.6068966 & 1.519175 & 0 & 0.1839080 & 0 & 0 & 8 & 8 & 3.103965 & 9.373781 & 0.05150485\\\\\n",
       "\\end{tabular}\n"
      ],
      "text/markdown": [
       "\n",
       "A psych: 5 × 13\n",
       "\n",
       "| <!--/--> | vars &lt;int&gt; | n &lt;dbl&gt; | mean &lt;dbl&gt; | sd &lt;dbl&gt; | median &lt;dbl&gt; | trimmed &lt;dbl&gt; | mad &lt;dbl&gt; | min &lt;dbl&gt; | max &lt;dbl&gt; | range &lt;dbl&gt; | skew &lt;dbl&gt; | kurtosis &lt;dbl&gt; | se &lt;dbl&gt; |\n",
       "|---|---|---|---|---|---|---|---|---|---|---|---|---|---|\n",
       "| x1 | 1 | 870 | 1.4701149 | 2.172832 | 0 | 1.0086207 | 0 | 0 | 8 | 8 | 1.506406 | 1.252591 | 0.07366591 |\n",
       "| x2 | 2 | 870 | 0.8229885 | 1.601474 | 0 | 0.4152299 | 0 | 0 | 8 | 8 | 2.398394 | 5.670143 | 0.05429505 |\n",
       "| x3 | 3 | 870 | 1.2655172 | 2.070024 | 0 | 0.7772989 | 0 | 0 | 8 | 8 | 1.797942 | 2.343203 | 0.07018040 |\n",
       "| x4 | 4 | 870 | 1.0264368 | 1.928047 | 0 | 0.5359195 | 0 | 0 | 8 | 8 | 2.157445 | 3.977564 | 0.06536693 |\n",
       "| x5 | 5 | 870 | 0.6068966 | 1.519175 | 0 | 0.1839080 | 0 | 0 | 8 | 8 | 3.103965 | 9.373781 | 0.05150485 |\n",
       "\n"
      ],
      "text/plain": [
       "   vars n   mean      sd       median trimmed   mad min max range skew    \n",
       "x1 1    870 1.4701149 2.172832 0      1.0086207 0   0   8   8     1.506406\n",
       "x2 2    870 0.8229885 1.601474 0      0.4152299 0   0   8   8     2.398394\n",
       "x3 3    870 1.2655172 2.070024 0      0.7772989 0   0   8   8     1.797942\n",
       "x4 4    870 1.0264368 1.928047 0      0.5359195 0   0   8   8     2.157445\n",
       "x5 5    870 0.6068966 1.519175 0      0.1839080 0   0   8   8     3.103965\n",
       "   kurtosis se        \n",
       "x1 1.252591 0.07366591\n",
       "x2 5.670143 0.05429505\n",
       "x3 2.343203 0.07018040\n",
       "x4 3.977564 0.06536693\n",
       "x5 9.373781 0.05150485"
      ]
     },
     "metadata": {},
     "output_type": "display_data"
    }
   ],
   "source": [
    "psych::describe(d)"
   ]
  },
  {
   "attachments": {},
   "cell_type": "markdown",
   "id": "0f176df8",
   "metadata": {},
   "source": [
    "Definiamo un modello ad un fattore e, seguendo @brown2015confirmatory, aggiungiamo una correlazione residua tra gli indicatori `X1` e `X3`:"
   ]
  },
  {
   "cell_type": "code",
   "execution_count": 4,
   "id": "edf7eca8",
   "metadata": {
    "vscode": {
     "languageId": "r"
    }
   },
   "outputs": [],
   "source": [
    "model <- '\n",
    "  f1 =~ x1 + x2 + x3 + x4 + x5\n",
    "  x1 ~~ x3 \n",
    "'"
   ]
  },
  {
   "attachments": {},
   "cell_type": "markdown",
   "id": "56f53d7e",
   "metadata": {},
   "source": [
    "Procediamo alla stima dei parametri utilizzando uno stimatore di ML robusto. La sintassi `lavaan` è la seguente:"
   ]
  },
  {
   "cell_type": "code",
   "execution_count": 5,
   "id": "feb4767e",
   "metadata": {
    "vscode": {
     "languageId": "r"
    }
   },
   "outputs": [],
   "source": [
    "fit <- cfa(model, data = d, mimic = \"MPLUS\", estimator = \"MLM\")"
   ]
  },
  {
   "attachments": {},
   "cell_type": "markdown",
   "id": "9f1dccd4",
   "metadata": {},
   "source": [
    "Per esaminare la soluzione ottenuta ci focalizziamo sulla statistica $\\chi^2$ -- si consideri la soluzione robusta fornita nell'output."
   ]
  },
  {
   "cell_type": "code",
   "execution_count": 6,
   "id": "6e0cf1cc",
   "metadata": {
    "vscode": {
     "languageId": "r"
    }
   },
   "outputs": [
    {
     "name": "stdout",
     "output_type": "stream",
     "text": [
      "lavaan 0.6.15 ended normally after 28 iterations\n",
      "\n",
      "  Estimator                                         ML\n",
      "  Optimization method                           NLMINB\n",
      "  Number of model parameters                        16\n",
      "\n",
      "  Number of observations                           870\n",
      "\n",
      "Model Test User Model:\n",
      "                                               Standard      Scaled\n",
      "  Test Statistic                                 25.913      10.356\n",
      "  Degrees of freedom                                  4           4\n",
      "  P-value (Chi-square)                            0.000       0.035\n",
      "  Scaling correction factor                                   2.502\n",
      "    Satorra-Bentler correction (Mplus variant)                     \n",
      "\n",
      "Parameter Estimates:\n",
      "\n",
      "  Standard errors                           Robust.sem\n",
      "  Information                                 Expected\n",
      "  Information saturated (h1) model          Structured\n",
      "\n",
      "Latent Variables:\n",
      "                   Estimate  Std.Err  z-value  P(>|z|)\n",
      "  f1 =~                                               \n",
      "    x1                1.000                           \n",
      "    x2                0.703    0.062   11.338    0.000\n",
      "    x3                1.068    0.044   24.304    0.000\n",
      "    x4                0.918    0.063   14.638    0.000\n",
      "    x5                0.748    0.055   13.582    0.000\n",
      "\n",
      "Covariances:\n",
      "                   Estimate  Std.Err  z-value  P(>|z|)\n",
      " .x1 ~~                                               \n",
      "   .x3                0.655    0.143    4.579    0.000\n",
      "\n",
      "Intercepts:\n",
      "                   Estimate  Std.Err  z-value  P(>|z|)\n",
      "   .x1                1.470    0.074   19.968    0.000\n",
      "   .x2                0.823    0.054   15.166    0.000\n",
      "   .x3                1.266    0.070   18.043    0.000\n",
      "   .x4                1.026    0.065   15.712    0.000\n",
      "   .x5                0.607    0.051   11.790    0.000\n",
      "    f1                0.000                           \n",
      "\n",
      "Variances:\n",
      "                   Estimate  Std.Err  z-value  P(>|z|)\n",
      "   .x1                2.040    0.228    8.952    0.000\n",
      "   .x2                1.241    0.124   10.019    0.000\n",
      "   .x3                1.227    0.169    7.255    0.000\n",
      "   .x4                1.458    0.177    8.233    0.000\n",
      "   .x5                0.807    0.100    8.063    0.000\n",
      "    f1                2.675    0.289    9.273    0.000\n",
      "\n"
     ]
    }
   ],
   "source": [
    "out = summary(fit)\n",
    "print(out)"
   ]
  },
  {
   "attachments": {},
   "cell_type": "markdown",
   "id": "1d07d515",
   "metadata": {},
   "source": [
    "Per fare un confronto, adattiamo lo stesso modello ai dati usando lo stimatore di ML."
   ]
  },
  {
   "cell_type": "code",
   "execution_count": 7,
   "id": "2c5b4dce",
   "metadata": {
    "vscode": {
     "languageId": "r"
    }
   },
   "outputs": [],
   "source": [
    "fit2 <- cfa(model, data = d)"
   ]
  },
  {
   "attachments": {},
   "cell_type": "markdown",
   "id": "b0d28f3d",
   "metadata": {},
   "source": [
    "Notiamo come il valore della statistica $\\chi^2$ ora ottenuto sia molto maggiore di quello trovato in precedenza."
   ]
  },
  {
   "cell_type": "code",
   "execution_count": 8,
   "id": "4543e474",
   "metadata": {
    "vscode": {
     "languageId": "r"
    }
   },
   "outputs": [
    {
     "name": "stdout",
     "output_type": "stream",
     "text": [
      "lavaan 0.6.15 ended normally after 28 iterations\n",
      "\n",
      "  Estimator                                         ML\n",
      "  Optimization method                           NLMINB\n",
      "  Number of model parameters                        11\n",
      "\n",
      "  Number of observations                           870\n",
      "\n",
      "Model Test User Model:\n",
      "                                                      \n",
      "  Test statistic                                25.913\n",
      "  Degrees of freedom                                 4\n",
      "  P-value (Chi-square)                           0.000\n",
      "\n",
      "Parameter Estimates:\n",
      "\n",
      "  Standard errors                             Standard\n",
      "  Information                                 Expected\n",
      "  Information saturated (h1) model          Structured\n",
      "\n",
      "Latent Variables:\n",
      "                   Estimate  Std.Err  z-value  P(>|z|)\n",
      "  f1 =~                                               \n",
      "    x1                1.000                           \n",
      "    x2                0.703    0.035   20.133    0.000\n",
      "    x3                1.068    0.034   31.730    0.000\n",
      "    x4                0.918    0.042   21.775    0.000\n",
      "    x5                0.748    0.033   22.416    0.000\n",
      "\n",
      "Covariances:\n",
      "                   Estimate  Std.Err  z-value  P(>|z|)\n",
      " .x1 ~~                                               \n",
      "   .x3                0.655    0.091    7.213    0.000\n",
      "\n",
      "Variances:\n",
      "                   Estimate  Std.Err  z-value  P(>|z|)\n",
      "   .x1                2.040    0.128   15.897    0.000\n",
      "   .x2                1.241    0.070   17.671    0.000\n",
      "   .x3                1.227    0.095   12.942    0.000\n",
      "   .x4                1.458    0.090   16.135    0.000\n",
      "   .x5                0.807    0.053   15.119    0.000\n",
      "    f1                2.675    0.220   12.154    0.000\n",
      "\n"
     ]
    }
   ],
   "source": [
    "out = summary(fit2)\n",
    "print(out)"
   ]
  },
  {
   "attachments": {},
   "cell_type": "markdown",
   "id": "8c5bd790",
   "metadata": {},
   "source": [
    "## Dati categoriali\n",
    "\n",
    "Quando almeno un indicatore è categoriale (cioè binario, politomico o ordinale), il metodo ML ordinario non dovrebbe essere utilizzato per stimare i modelli CFA. Vi sono molte potenziali conseguenze del trattamento delle variabili categoriali come continue in un'analisi CFA, incluso il fatto che può tale scelta può \n",
    "\n",
    "- produrre stime attenuate delle relazioni tra gli indicatori, specialmente quando ci sono effetti pavimento o soffitto;\n",
    "- portare ad individuare \"pseudo-fattori\" che emergono come artefatti del metodo statistico;  \n",
    "- produrre distorsioni negli indici di bontà dell'adattamento e nelle stime degli errori standard;\n",
    "- produrre stime errate dei parametri.\n",
    "\n",
    "Esistono vari stimatori che possono essere utilizzati con indicatori categoriali; ad esempio, gli stimatori dei minimi quadrati ponderati (WLS), dei minimi quadrati ponderati robusti (WLSMV) e dei minimi quadrati non ponderati (ULS).\n",
    "\n",
    "### Un esempio concreto\n",
    "\n",
    "Nell'esempio discusso da @brown2015confirmatory, i ricercatori desiderano verificare un modello uni-fattoriale di dipendenza da alcol in un campione di 750 pazienti ambulatoriali. Gli indicatori di alcolismo sono item binari che riflettono la presenza/assenza di sei criteri diagnostici per l'alcolismo (0 = criterio non soddisfatto, 1 = criterio soddisfatto). I dati sono i seguenti:"
   ]
  },
  {
   "cell_type": "code",
   "execution_count": 9,
   "id": "6dacfe67",
   "metadata": {
    "vscode": {
     "languageId": "r"
    }
   },
   "outputs": [
    {
     "data": {
      "text/html": [
       "<table class=\"dataframe\">\n",
       "<caption>A data.frame: 6 × 6</caption>\n",
       "<thead>\n",
       "\t<tr><th></th><th scope=col>y1</th><th scope=col>y2</th><th scope=col>y3</th><th scope=col>y4</th><th scope=col>y5</th><th scope=col>y6</th></tr>\n",
       "\t<tr><th></th><th scope=col>&lt;int&gt;</th><th scope=col>&lt;int&gt;</th><th scope=col>&lt;int&gt;</th><th scope=col>&lt;int&gt;</th><th scope=col>&lt;int&gt;</th><th scope=col>&lt;int&gt;</th></tr>\n",
       "</thead>\n",
       "<tbody>\n",
       "\t<tr><th scope=row>1</th><td>1</td><td>1</td><td>1</td><td>1</td><td>1</td><td>1</td></tr>\n",
       "\t<tr><th scope=row>2</th><td>1</td><td>1</td><td>1</td><td>1</td><td>1</td><td>1</td></tr>\n",
       "\t<tr><th scope=row>3</th><td>1</td><td>1</td><td>1</td><td>1</td><td>1</td><td>0</td></tr>\n",
       "\t<tr><th scope=row>4</th><td>1</td><td>1</td><td>1</td><td>1</td><td>1</td><td>1</td></tr>\n",
       "\t<tr><th scope=row>5</th><td>0</td><td>0</td><td>0</td><td>0</td><td>0</td><td>0</td></tr>\n",
       "\t<tr><th scope=row>6</th><td>1</td><td>1</td><td>0</td><td>1</td><td>1</td><td>1</td></tr>\n",
       "</tbody>\n",
       "</table>\n"
      ],
      "text/latex": [
       "A data.frame: 6 × 6\n",
       "\\begin{tabular}{r|llllll}\n",
       "  & y1 & y2 & y3 & y4 & y5 & y6\\\\\n",
       "  & <int> & <int> & <int> & <int> & <int> & <int>\\\\\n",
       "\\hline\n",
       "\t1 & 1 & 1 & 1 & 1 & 1 & 1\\\\\n",
       "\t2 & 1 & 1 & 1 & 1 & 1 & 1\\\\\n",
       "\t3 & 1 & 1 & 1 & 1 & 1 & 0\\\\\n",
       "\t4 & 1 & 1 & 1 & 1 & 1 & 1\\\\\n",
       "\t5 & 0 & 0 & 0 & 0 & 0 & 0\\\\\n",
       "\t6 & 1 & 1 & 0 & 1 & 1 & 1\\\\\n",
       "\\end{tabular}\n"
      ],
      "text/markdown": [
       "\n",
       "A data.frame: 6 × 6\n",
       "\n",
       "| <!--/--> | y1 &lt;int&gt; | y2 &lt;int&gt; | y3 &lt;int&gt; | y4 &lt;int&gt; | y5 &lt;int&gt; | y6 &lt;int&gt; |\n",
       "|---|---|---|---|---|---|---|\n",
       "| 1 | 1 | 1 | 1 | 1 | 1 | 1 |\n",
       "| 2 | 1 | 1 | 1 | 1 | 1 | 1 |\n",
       "| 3 | 1 | 1 | 1 | 1 | 1 | 0 |\n",
       "| 4 | 1 | 1 | 1 | 1 | 1 | 1 |\n",
       "| 5 | 0 | 0 | 0 | 0 | 0 | 0 |\n",
       "| 6 | 1 | 1 | 0 | 1 | 1 | 1 |\n",
       "\n"
      ],
      "text/plain": [
       "  y1 y2 y3 y4 y5 y6\n",
       "1 1  1  1  1  1  1 \n",
       "2 1  1  1  1  1  1 \n",
       "3 1  1  1  1  1  0 \n",
       "4 1  1  1  1  1  1 \n",
       "5 0  0  0  0  0  0 \n",
       "6 1  1  0  1  1  1 "
      ]
     },
     "metadata": {},
     "output_type": "display_data"
    }
   ],
   "source": [
    "d1 <- readRDS(here::here(\"data\", \"brown_table_9_9_data.RDS\"))\n",
    "head(d1)"
   ]
  },
  {
   "attachments": {},
   "cell_type": "markdown",
   "id": "26b5a2e3",
   "metadata": {},
   "source": [
    "Il modello viene specificato nel modo seguente:"
   ]
  },
  {
   "cell_type": "code",
   "execution_count": 10,
   "id": "5fff4bf4",
   "metadata": {
    "vscode": {
     "languageId": "r"
    }
   },
   "outputs": [],
   "source": [
    "model1 <- '\n",
    "  etoh =~ y1 + y2 + y3 + y4 + y5 + y6\n",
    "'"
   ]
  },
  {
   "attachments": {},
   "cell_type": "markdown",
   "id": "c1f98cda",
   "metadata": {},
   "source": [
    "Adattiamo il modello specificando che i dati sono a livello di scala ordinale (stimatore WLSMVS)."
   ]
  },
  {
   "cell_type": "code",
   "execution_count": 11,
   "id": "0f83bf36",
   "metadata": {
    "vscode": {
     "languageId": "r"
    }
   },
   "outputs": [],
   "source": [
    "fit1 <- cfa(\n",
    "  model1, \n",
    "  data = d1, \n",
    "  ordered = names(d1), \n",
    "  estimator = \"WLSMVS\", \n",
    "  mimic = \"mplus\"\n",
    ")"
   ]
  },
  {
   "attachments": {},
   "cell_type": "markdown",
   "id": "36fb6c44",
   "metadata": {},
   "source": [
    "Esaminiamo la soluzione ottenuta:"
   ]
  },
  {
   "cell_type": "code",
   "execution_count": 12,
   "id": "e7562180",
   "metadata": {
    "vscode": {
     "languageId": "r"
    }
   },
   "outputs": [
    {
     "name": "stdout",
     "output_type": "stream",
     "text": [
      "lavaan 0.6.15 ended normally after 16 iterations\n",
      "\n",
      "  Estimator                                       DWLS\n",
      "  Optimization method                           NLMINB\n",
      "  Number of model parameters                        12\n",
      "\n",
      "  Number of observations                           750\n",
      "\n",
      "Model Test User Model:\n",
      "                                                  Standard      Scaled\n",
      "  Test Statistic                                     5.651       9.540\n",
      "  Degrees of freedom                                     9           9\n",
      "  P-value (Chi-square)                               0.774       0.389\n",
      "  Scaling correction factor                                      0.592\n",
      "    mean and variance adjusted correction (WLSMV)                     \n",
      "\n",
      "Model Test Baseline Model:\n",
      "\n",
      "  Test statistic                              1155.845     694.433\n",
      "  Degrees of freedom                                15           9\n",
      "  P-value                                        0.000       0.000\n",
      "  Scaling correction factor                                  1.664\n",
      "\n",
      "User Model versus Baseline Model:\n",
      "\n",
      "  Comparative Fit Index (CFI)                    1.000       0.999\n",
      "  Tucker-Lewis Index (TLI)                       1.005       0.999\n",
      "\n",
      "Root Mean Square Error of Approximation:\n",
      "\n",
      "  RMSEA                                          0.000       0.009\n",
      "  90 Percent confidence interval - lower         0.000       0.000\n",
      "  90 Percent confidence interval - upper         0.028       0.051\n",
      "  P-value H_0: RMSEA <= 0.050                    0.999       0.944\n",
      "  P-value H_0: RMSEA >= 0.080                    0.000       0.000\n",
      "\n",
      "Standardized Root Mean Square Residual:\n",
      "\n",
      "  SRMR                                           0.031       0.031\n",
      "\n",
      "Parameter Estimates:\n",
      "\n",
      "  Standard errors                           Robust.sem\n",
      "  Information                                 Expected\n",
      "  Information saturated (h1) model        Unstructured\n",
      "\n",
      "Latent Variables:\n",
      "                   Estimate  Std.Err  z-value  P(>|z|)\n",
      "  etoh =~                                             \n",
      "    y1                1.000                           \n",
      "    y2                0.822    0.072   11.392    0.000\n",
      "    y3                0.653    0.092    7.097    0.000\n",
      "    y4                1.031    0.075   13.703    0.000\n",
      "    y5                1.002    0.072   13.861    0.000\n",
      "    y6                0.759    0.076   10.011    0.000\n",
      "\n",
      "Intercepts:\n",
      "                   Estimate  Std.Err  z-value  P(>|z|)\n",
      "   .y1                0.000                           \n",
      "   .y2                0.000                           \n",
      "   .y3                0.000                           \n",
      "   .y4                0.000                           \n",
      "   .y5                0.000                           \n",
      "   .y6                0.000                           \n",
      "    etoh              0.000                           \n",
      "\n",
      "Thresholds:\n",
      "                   Estimate  Std.Err  z-value  P(>|z|)\n",
      "    y1|t1            -0.759    0.051  -14.890    0.000\n",
      "    y2|t1            -0.398    0.047   -8.437    0.000\n",
      "    y3|t1            -1.244    0.061  -20.278    0.000\n",
      "    y4|t1            -0.795    0.051  -15.436    0.000\n",
      "    y5|t1            -0.384    0.047   -8.148    0.000\n",
      "    y6|t1            -0.818    0.052  -15.775    0.000\n",
      "\n",
      "Variances:\n",
      "                   Estimate  Std.Err  z-value  P(>|z|)\n",
      "   .y1                0.399                           \n",
      "   .y2                0.594                           \n",
      "   .y3                0.744                           \n",
      "   .y4                0.361                           \n",
      "   .y5                0.397                           \n",
      "   .y6                0.653                           \n",
      "    etoh              0.601    0.063    9.596    0.000\n",
      "\n",
      "Scales y*:\n",
      "                   Estimate  Std.Err  z-value  P(>|z|)\n",
      "    y1                1.000                           \n",
      "    y2                1.000                           \n",
      "    y3                1.000                           \n",
      "    y4                1.000                           \n",
      "    y5                1.000                           \n",
      "    y6                1.000                           \n",
      "\n"
     ]
    }
   ],
   "source": [
    "out = summary(fit1, fit.measures = TRUE)\n",
    "print(out)"
   ]
  },
  {
   "attachments": {},
   "cell_type": "markdown",
   "id": "af821059",
   "metadata": {},
   "source": [
    "Confrontiamo la soluzione ottenuta con lo stimatore WLSMVS con quella ottenuta mediante lo stimatore ML."
   ]
  },
  {
   "cell_type": "code",
   "execution_count": 13,
   "id": "9e37f6ab",
   "metadata": {
    "vscode": {
     "languageId": "r"
    }
   },
   "outputs": [],
   "source": [
    "fit2 <- cfa(\n",
    "  model1, \n",
    "  data = d1\n",
    ")"
   ]
  },
  {
   "cell_type": "code",
   "execution_count": 14,
   "id": "5e8c7b8b",
   "metadata": {
    "vscode": {
     "languageId": "r"
    }
   },
   "outputs": [
    {
     "name": "stdout",
     "output_type": "stream",
     "text": [
      "lavaan 0.6.15 ended normally after 35 iterations\n",
      "\n",
      "  Estimator                                         ML\n",
      "  Optimization method                           NLMINB\n",
      "  Number of model parameters                        12\n",
      "\n",
      "  Number of observations                           750\n",
      "\n",
      "Model Test User Model:\n",
      "                                                      \n",
      "  Test statistic                                14.182\n",
      "  Degrees of freedom                                 9\n",
      "  P-value (Chi-square)                           0.116\n",
      "\n",
      "Model Test Baseline Model:\n",
      "\n",
      "  Test statistic                               614.305\n",
      "  Degrees of freedom                                15\n",
      "  P-value                                        0.000\n",
      "\n",
      "User Model versus Baseline Model:\n",
      "\n",
      "  Comparative Fit Index (CFI)                    0.991\n",
      "  Tucker-Lewis Index (TLI)                       0.986\n",
      "\n",
      "Loglikelihood and Information Criteria:\n",
      "\n",
      "  Loglikelihood user model (H0)              -2087.600\n",
      "  Loglikelihood unrestricted model (H1)      -2080.508\n",
      "                                                      \n",
      "  Akaike (AIC)                                4199.199\n",
      "  Bayesian (BIC)                              4254.640\n",
      "  Sample-size adjusted Bayesian (SABIC)       4216.535\n",
      "\n",
      "Root Mean Square Error of Approximation:\n",
      "\n",
      "  RMSEA                                          0.028\n",
      "  90 Percent confidence interval - lower         0.000\n",
      "  90 Percent confidence interval - upper         0.054\n",
      "  P-value H_0: RMSEA <= 0.050                    0.914\n",
      "  P-value H_0: RMSEA >= 0.080                    0.000\n",
      "\n",
      "Standardized Root Mean Square Residual:\n",
      "\n",
      "  SRMR                                           0.021\n",
      "\n",
      "Parameter Estimates:\n",
      "\n",
      "  Standard errors                             Standard\n",
      "  Information                                 Expected\n",
      "  Information saturated (h1) model          Structured\n",
      "\n",
      "Latent Variables:\n",
      "                   Estimate  Std.Err  z-value  P(>|z|)\n",
      "  etoh =~                                             \n",
      "    y1                1.000                           \n",
      "    y2                0.934    0.093   10.057    0.000\n",
      "    y3                0.390    0.055    7.038    0.000\n",
      "    y4                1.008    0.087   11.541    0.000\n",
      "    y5                1.158    0.101   11.468    0.000\n",
      "    y6                0.700    0.077    9.142    0.000\n",
      "\n",
      "Variances:\n",
      "                   Estimate  Std.Err  z-value  P(>|z|)\n",
      "   .y1                0.109    0.007   14.692    0.000\n",
      "   .y2                0.169    0.010   16.781    0.000\n",
      "   .y3                0.085    0.005   18.483    0.000\n",
      "   .y4                0.102    0.007   14.285    0.000\n",
      "   .y5                0.140    0.010   14.506    0.000\n",
      "   .y6                0.132    0.008   17.514    0.000\n",
      "    etoh              0.065    0.009    7.664    0.000\n",
      "\n"
     ]
    }
   ],
   "source": [
    "out = summary(fit2, fit.measures = TRUE)\n",
    "print(out)"
   ]
  },
  {
   "attachments": {},
   "cell_type": "markdown",
   "id": "9736bb49",
   "metadata": {},
   "source": [
    "Si noti che la soluzione ottenuta mediante lo stimatore WLSMVS produce indici di bontà di adattamento migliori e errori standard dei parametri più piccoli.\n"
   ]
  }
 ],
 "metadata": {
  "jupytext": {
   "cell_metadata_filter": "tags,-all",
   "main_language": "R",
   "notebook_metadata_filter": "-all"
  },
  "kernelspec": {
   "display_name": "R",
   "language": "R",
   "name": "ir"
  },
  "language_info": {
   "codemirror_mode": "r",
   "file_extension": ".r",
   "mimetype": "text/x-r-source",
   "name": "R",
   "pygments_lexer": "r",
   "version": "4.3.1"
  }
 },
 "nbformat": 4,
 "nbformat_minor": 5
}