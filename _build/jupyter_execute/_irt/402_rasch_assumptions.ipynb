{
 "cells": [
  {
   "cell_type": "markdown",
   "metadata": {},
   "source": [
    "(irt-notebook)=\n",
    "# Modelli di risposta all'item "
   ]
  },
  {
   "cell_type": "markdown",
   "metadata": {},
   "source": [
    "\n",
    "In questo capitolo, esaminiamo le proprietà importanti del modello di Rasch. Queste proprietà sono il motivo per cui il modello di Rasch è così teoricamente attraente e hanno portato al suo ampio utilizzo. Forse la proprietà più importante è il fatto che permette una misurazione oggettiva dei tratti latenti."
   ]
  },
  {
   "cell_type": "code",
   "execution_count": 1,
   "metadata": {
    "vscode": {
     "languageId": "r"
    }
   },
   "outputs": [],
   "source": [
    "suppressPackageStartupMessages({\n",
    "    library(\"tidyverse\")\n",
    "    library(\"ltm\")\n",
    "    library(\"mirt\")\n",
    "    library(\"grid\")\n",
    "    library(\"TAM\")\n",
    "    # devtools::install_github(\"masurp/ggmirt\")\n",
    "    library(\"ggmirt\")\n",
    "    library(\"latex2exp\")\n",
    "    })"
   ]
  },
  {
   "cell_type": "markdown",
   "metadata": {},
   "source": [
    "## Statistiche Sufficienti\n",
    "\n",
    "Una statistica è definita come qualsiasi funzione dei dati osservati. Tipicamente, le statistiche sono utilizzate per riassumere caratteristiche importanti dei dati. Ad esempio, la media campionaria dei valori di $ x_p $ per le persone da 1 a P,\n",
    "\n",
    "$$ \\bar{x} = \\frac{1}{P} \\sum_{p=1}^{P} x_p, $$\n",
    "\n",
    "riassume le informazioni contenute nel campione riguardo la media di una popolazione, il valore atteso. Ecco perché è spesso utilizzata per stimare il valore atteso dai campioni. Da un punto di vista statistico, diciamo che $ \\bar{x} $ è uno stimatore per il valore atteso.\n",
    "\n",
    "$ \\bar{x} $ non è l'unica statistica che potremmo usare per stimare una media di popolazione. Ad esempio, potremmo provare a utilizzare la media del primo, terzo e quinto valore, $ x^* = \\frac{1}{3} (x_1 + x_3 + x_5) $, invece di $ \\bar{x} $. Anche questa statistica stimerebbe la media della popolazione, ma sarebbe meno accurata di $ \\bar{x} $ in media. Il motivo è che $ x^* $ ignora le informazioni sulla media della popolazione portate da $ x_2, x_4, $ ecc.\n",
    "\n",
    "Si scopre che $ \\bar{x} $ estrae tutte le informazioni sulla media della popolazione contenute nel campione. Statistiche con questa proprietà sono chiamate statistiche sufficienti. Questo contrasta con statistiche come $ x^* $, che ignorano alcune delle informazioni sulla media della popolazione. Poiché le statistiche sufficienti contengono tutte le informazioni nel campione su una quantità di interesse, conoscere la statistica sufficiente rende i campioni individuali irrilevanti. Questa è la bellezza delle statistiche sufficienti: estraggono tutte le informazioni in un campione su una quantità di interesse e le riassumono usando un singolo numero.\n",
    "\n",
    "Ogni parametro sconosciuto nel modello di Rasch ha una statistica sufficiente. Il numero di item risolti correttamente dalla persona p, o punteggio totale, è una statistica sufficiente per il parametro della persona $ \\theta_p $. Possiamo calcolare il punteggio totale della persona p sommando tutte le voci nella riga p della matrice dei dati. Per questo motivo, i punteggi totali sono spesso chiamati somme di riga, e li indicheremo con $ r_p $. Allo stesso modo, il numero di persone che rispondono correttamente all'item i è una statistica sufficiente per il parametro dell'item $ \\beta_i $. Possiamo calcolare questa statistica sommando tutte le voci nella colonna i. Indicheremo la somma della colonna i con $ c_i $. Le somme di riga e colonna per il nostro esempio introduttivo sono mostrate nella Tabella seguente.\n",
    "\n",
    "|       | Item 1 | Item 2 | Item 3 | Item 4 | Somma di Righe (rp) |\n",
    "|-------|--------|--------|--------|--------|---------------------|\n",
    "| Pers. 1 |   1    |   0    |   1    |   1    |         3           |\n",
    "| Pers. 2 |   1    |   1    |   0    |   0    |         2           |\n",
    "| Pers. 3 |   0    |   1    |   1    |   1    |         3           |\n",
    "| **Somma di Colonne (ci)** |   2    |   2    |   2    |   2    |                     |\n",
    "\n",
    "Il fatto che il punteggio totale di una persona sia una statistica sufficiente per il parametro della persona $ \\theta_p $ significa che non abbiamo bisogno di sapere quali item una persona ha risolto per stimare la sua abilità, solo quanti item ha risolto. A prima vista, questo sembra contraddire il nostro requisito che la probabilità di una risposta corretta dipenda sia dall'abilità della persona sia dalla difficoltà dell'item. Se le risposte di una persona agli item di un test dipendono sia dalla sua abilità sia dalle difficoltà degli item del test, come possono le somme di riga contenere tutte le informazioni sull'abilità di una persona? Non dovrebbero contare le difficoltà degli item individuali? Tuttavia, se guardiamo al pattern di risposte corrette e errate di una persona su un intero test, ha senso che il numero totale di item risolti da una persona sia indicativo della sua abilità. Una persona con bassa abilità sarà in grado di risolvere solo item facili, mentre una persona con alta abilità sarà in grado di risolvere sia item facili sia più difficili. Di conseguenza, ci aspetteremmo che le persone con alta abilità rispondano correttamente a più item in totale.\n",
    "\n",
    "Questo non significa che le persone con maggiore abilità risponderanno sempre correttamente a più item. Il modello di Rasch descrive la relazione tra l'abilità di una persona e le sue risposte al test in modo probabilistico. Questo approccio probabilistico è stato un importante avanzamento del modello di Rasch e dei modelli correlati rispetto alla visione deterministica alla base dei pattern di risposta perfetti di una struttura di Guttman. Per questo motivo, non possiamo dire con certezza come una persona risponderà a un item individuale, anche quando conosciamo l'abilità della persona e la difficoltà dell'item. Molti fattori oltre all'abilità possono influenzare la risposta di una persona in una particolare amministrazione del test. Il modello di Rasch non tiene conto esplicitamente di questi, ma li subsume nella risposta probabilistica. In seguito verranno introdotti modelli che tengono esplicitamente conto di aspetti aggiuntivi, come il guessing negli item a scelta multipla.\n",
    "\n",
    "Il modello di Rasch afferma che in media una persona con maggiore abilità è più propensa a rispondere correttamente a un item di difficoltà data. Per illustrare questo punto, immagina una persona con maggiore abilità e una con minore abilità. Ognuna completa 100 item diversi della stessa difficoltà media. La persona con maggiore abilità risponderà probabilmente non a tutti, ma ad esempio a circa 80 di quei 100 item correttamente, e la persona con minore abilità non a nessuno, ma circa a 20, perché la risposta non è guidata deterministicamente ma probabilisticamente dall'abilità e dalla difficoltà."
   ]
  },
  {
   "cell_type": "markdown",
   "metadata": {},
   "source": [
    "## Indipendenza Stocastica Locale\n",
    "\n",
    "La maggior parte dei modelli statistici assume che gli eventi individuali siano stocasticamente indipendenti l'uno dall'altro. Ciò significa che sapere come si sviluppa uno degli eventi non ci fornisce informazioni su come si svilupperanno gli altri eventi. Un altro modo di esprimere questo è dire che conoscere l'esito di uno degli eventi non cambia le probabilità degli altri eventi. Nelle applicazioni pratiche, questa assunzione è generalmente ragionevole e rende molto più semplice calcolare la probabilità congiunta di tutti gli eventi. Ad esempio, supponiamo di voler calcolare la probabilità che, lanciando una moneta due volte, si ottengano due volte testa. Per una moneta equilibrata, c'è una probabilità del 50% di ottenere testa ad ogni lancio. Sapere che il primo lancio è risultato in testa non cambia questa probabilità.\n",
    "\n",
    "La probabilità congiunta di due eventi indipendenti è uguale al prodotto delle loro probabilità individuali. Possiamo utilizzare questo fatto per calcolare la probabilità di ottenere due teste nel nostro esempio del lancio della moneta. Poiché ogni lancio ha una probabilità del 0.5 di risultare in testa, la probabilità che entrambi i lanci diano testa è 0.5 × 0.5 = 0.25.\n",
    "\n",
    "### Item\n",
    "\n",
    "Il modello di Rasch utilizza l'assunzione di indipendenza stocastica locale per definire la probabilità congiunta delle risposte al test di una persona data la sua abilità e le difficoltà degli item. Come nell'esempio del lancio della moneta, possiamo calcolare la probabilità che una persona p risponda correttamente ai primi due item di un test moltiplicando $\\text{Pr}(U_{p1} = 1 | \\theta_p, \\beta_1)$ per $\\text{Pr}(U_{p2} = 1 | \\theta_p, \\beta_2)$. Possiamo ottenere la probabilità congiunta di un pattern arbitrario di risposte in due item con difficoltà $\\beta_1$ e $\\beta_2$ allo stesso modo, ovvero\n",
    "\n",
    "$$ \n",
    "\\text{Pr}(U_{p1} = u_{p1}, U_{p2} = u_{p2} | \\theta_p, \\beta_1, \\beta_2) = \\text{Pr}(U_{p1} = u_{p1} | \\theta_p, \\beta_1) \\times \\text{Pr}(U_{p2} = u_{p2} | \\theta_p, \\beta_2). \n",
    "$$\n",
    "\n",
    "Chiaramente, questo diventerebbe complicato da scrivere per un test di I item. Possiamo semplificare le cose usando i vettori. Un vettore è semplicemente una collezione indicizzata di numeri. Ad esempio, il vettore $\\beta = (\\beta_1, ..., \\beta_I)$ raccoglie tutti i parametri degli item, e il vettore $u_{p\\cdot} = (u_{p1}, ..., u_{pI})$ raccoglie tutte le risposte della persona p agli item del test. Gli i-esimi elementi di questi vettori sono il parametro dell'item $\\beta_i$ dell'i-esimo item e la risposta $u_{pi}$ della persona p all'item i, rispettivamente.\n",
    "\n",
    "I vettori casuali estendono questa idea alle variabili casuali. Un vettore casuale è una collezione indicizzata di variabili casuali. Ad esempio, possiamo raccogliere tutte le variabili casuali associate alle risposte della persona p ai I item in un vettore casuale $U_{p\\cdot} = (U_{p1}, ..., U_{pI})$. L'i-esimo elemento di $U_{p\\cdot}$ è $U_{pi}$, la variabile casuale associata alla risposta della persona p all'item i. Questo ci permette di semplificare\n",
    "\n",
    "$$ \n",
    "\\text{Pr}(U_{p1} = u_{p1}, ..., U_{pI} = u_{pI} | \\theta_p, \\beta_1, ..., \\beta_I) = \\text{Pr}(U_{p\\cdot} = u_{p\\cdot} | \\theta_p, \\beta) \n",
    "$$\n",
    "\n",
    "usando il fatto che due vettori sono uguali quando tutti i loro elementi sono uguali.\n",
    "\n",
    "Possiamo usare vettori casuali per calcolare la probabilità congiunta del pattern di risposte della persona p ai I item del test usando il simbolo del prodotto $\\prod_{i=1}^{I}$. La probabilità che la persona p dia il pattern di risposta $u_{p\\cdot}$ è\n",
    "\n",
    "$$ \n",
    "\\text{Pr}(U_{p\\cdot} = u_{p\\cdot} | \\theta_p, \\beta) = \\prod_{i=1}^{I} \\text{Pr}(U_{pi} = u_{pi} | \\theta_p, \\beta_i), \n",
    "$$\n",
    "\n",
    "quando tutte le risposte di p sono indipendenti. Sostituendo il lato destro dell'Equazione (2.3) per $\\text{Pr}(U_{pi} = u_{pi} | \\theta_p, \\beta_i)$, otteniamo\n",
    "\n",
    "$$ \n",
    "\\text{Pr}(U_{p\\cdot} = u_{p\\cdot} | \\theta_p, \\beta) = \\frac{\\prod_{i=1}^{I} \\exp\\{u_{pi}(\\theta_p - \\beta_i)\\}}{\\prod_{i=1}^{I} [1 + \\exp(\\theta_p - \\beta_i)]} \n",
    "$$\n",
    "\n",
    "dopo aver invertito l'ordine di moltiplicazione e divisione. Concentrandosi solo sul numeratore per ora, possiamo spingere il prodotto nell'esponenziale per ottenere\n",
    "\n",
    "$$ \\exp\\left\\{\\sum_{i=1}^{I} u_{pi}(\\theta_p - \\beta_i)\\right\\}. $$\n",
    "\n",
    "Possiamo ulteriormente semplificare il numeratore distribuendo $u_{pi}$ per ottenere\n",
    "\n",
    "$$ \n",
    "\\exp\\left\\{\\sum_{i=1}^{I} (u_{pi}\\theta_p - u_{pi}\\beta_i)\\right\\} = \\exp\\left\\{\\theta_p \\sum_{i=1}^{I} u_{pi} - \\sum_{i=1}^{I} u_{pi}\\beta_i\\right\\}. \n",
    "$$\n",
    "\n",
    "La prima somma può essere semplificata come\n",
    "\n",
    "$$ \n",
    "\\theta_p \\sum_{i=1}^{I} u_{pi}, \n",
    "$$\n",
    "\n",
    "poiché $\\theta_p$ non dipende da i. Inoltre, $\\prod_{i=1}^{I} u_{pi}$ è il numero di item correttamente risolti dalla persona p, che abbiamo denotato $r_p$. Quindi,\n",
    "\n",
    "$$ \n",
    "\\theta_p \\sum_{i=1}^{I} u_{pi} = \\theta_p r_p. \n",
    "$$\n",
    "\n",
    "Sostituendo questi risultati nell'espressione completa per $\\text{Pr}(U_{p\\cdot} = u_{p\\cdot} | \\theta_p, \\beta)$, otteniamo\n",
    "\n",
    "$$ \n",
    "\\text{Pr}(U_{p\\cdot} = u_{p\\cdot} | \\theta_p, \\beta) = \\frac{\\exp\\{\\theta_p r_p - \\sum_{i=1}^{I} u_{pi} \\beta_i\\}}{\\prod_{i=1}^{I} [1 + \\exp(\\theta_p - \\beta_i)]}. \n",
    "$$\n",
    "\n",
    "Ha senso moltiplicare le probabilità degli eventi solo quando è ragionevole assumere che gli eventi siano indipendenti. Per il modello di Rasch, ciò significa che le probabilità di risolvere i diversi item del test dipendono l'una dall'altra solo attraverso l'abilità della persona. Per una data abilità, sapere che il primo item è stato risposto correttamente non ci dà alcuna informazione su se il secondo item sia stato risposto correttamente, ecc. Il termine \"locale\" in \"indipendenza stocastica locale\" si riferisce al fatto che l'indipendenza degli item è richiesta localmente, cioè per una data abilità, e che l'indipendenza delle persone è richiesta per una data difficoltà dell'item. A volte, il termine indipendenza stocastica locale è usato anche per riferirsi solo a uno di questi due requisiti alla volta.\n",
    "\n",
    "Una situazione in cui questa assunzione è irragionevole è quando la risposta a un item del test dipende dalla risposta di una persona a un item precedente. Questo accade, ad esempio, nei test di matematica dove i calcoli richiesti per risolvere un item dipendono dai calcoli precedentemente fatti per risolvere un altro. Ad esempio, la probabilità che una persona risolva correttamente il secondo item dipende dal fatto che la persona abbia risolto correttamente il primo item, poiché la soluzione del primo item è richiesta per risolvere il secondo. Questo dimostra perché è importante formulare gli item del test in modo che possano essere risolti senza le risposte ad altri item. Senza l'indipendenza stocastica locale, il modello di Rasch non può essere applicato.\n",
    "\n",
    "L'assunzione di indipendenza locale è anche violata per i testlet. Un testlet è un gruppo di item che condividono un tema comune. Ad esempio, molti test standardizzati contengono gruppi di tipicamente due a cinque item che chiedono della stessa porzione di testo. In questo caso, le risposte agli item sul passaggio saranno correlate attraverso la comprensione della persona del passaggio. Sapere le risposte della persona a uno o più item offre informazioni su quanto bene egli o ella ha compreso il passaggio, il che influisce sulla loro probabilità di rispondere correttamente agli item rimanenti sullo stesso passaggio, anche data la loro abilità. Fortunatamente, i testlet sono dipendenti per progettazione e la loro struttura di dipendenza può essere tenuta in conto usando modelli di testlet (ad esempio, Wainer, Bradlow, & Wang, 2007).\n"
   ]
  },
  {
   "cell_type": "markdown",
   "metadata": {},
   "source": [
    "## Assunzioni Fondamentali del Modello di Rasch\n",
    "\n",
    "Il modello di Rasch si fonda su tre assunzioni essenziali che sono cruciali per la sua validità e applicabilità: unidimensionalità, monotonicità e indipendenza locale. \n",
    "\n",
    "1. **Unidimensionalità**: Questa assunzione stabilisce che un singolo tratto latente, o dimensione di attributo di una persona, predomina nell'influenzare la probabilità di risposta agli item. In pratica, ciò significa che le risposte agli item di un test sono determinate principalmente da una sola caratteristica o abilità latente. Se fossero presenti più dimensioni, il modello non sarebbe più unidimensionale e la rappresentazione grafica necessiterebbe di una struttura tridimensionale.\n",
    "\n",
    "2. **Monotonicità**: Secondo questa assunzione, all'aumentare del valore dell'attributo latente (indicato con $ \\theta $), aumenta anche la probabilità di una risposta corretta. Questo principio è intuitivo in ambito di misurazione: ci si aspetta che rispondenti con un livello più elevato dell'attributo latente tendano a ottenere punteggi più alti nel test.\n",
    "\n",
    "3. **Indipendenza Locale**: Dopo aver controllato per il tratto latente, qualsiasi correlazione tra le risposte a due item differenti dovrebbe annullarsi. Ciò implica che eventuali associazioni osservate tra le risposte a diversi item sono attribuibili esclusivamente al tratto latente misurato. In altre parole, una volta controllato per il tratto latente, la risposta a un item non dovrebbe essere influenzata né influenzare la risposta a un altro item.\n",
    "\n",
    "La violazione di una qualsiasi di queste assunzioni suggerisce che potrebbe essere necessario adottare metodologie più complesse o approcci alternativi per analizzare i dati. In tali casi, potrebbe essere richiesto un esame più approfondito dei dati o l'impiego di modelli più avanzati che possano gestire meglio la complessità dei dati osservati."
   ]
  },
  {
   "cell_type": "markdown",
   "metadata": {},
   "source": [
    "## Oggettività Specifica \n",
    "\n",
    "Un'importante caratteristica del modello di Rasch è la sua capacità di stimare la difficoltà degli item, indipendentemente dalle abilità dei partecipanti. Questo concetto è noto come \"oggettività specifica\".\n",
    "\n",
    "Nel modello di Rasch, la difficoltà di ciascun item viene determinata attraverso un metodo chiamato \"stima di massima verosimiglianza condizionale\". Questo metodo consente di valutare la difficoltà degli item senza che questa stima sia influenzata dalle capacità specifiche dei rispondenti. In altre parole, la difficoltà di ogni item viene calcolata in modo indipendente, basandosi esclusivamente sulle risposte a quel particolare item, senza essere alterata dal livello generale di abilità dei partecipanti al test.\n",
    "\n",
    "Questa proprietà del modello di Rasch è simile a ciò che avviene in una analisi di regressione, dove la pendenza e l'intercetta di una retta di regressione non cambiano a seconda del campione analizzato. Analogamente, nel modello di Rasch, i parametri di difficoltà degli item rimangono costanti e non vengono influenzati dalle competenze generali dei rispondenti. Questo significa che le valutazioni della difficoltà degli item sono stabili e affidabili, indipendentemente dalla varietà o dal livello generale di abilità del campione di rispondenti.\n",
    "\n",
    "L'oggettività specifica è particolarmente importante perché elimina la necessità di avere campioni di rispondenti normati o rappresentativi della popolazione generale. In pratica, quasi qualsiasi gruppo di persone può essere utilizzato per stabilire la difficoltà degli item, a condizione che ci sia una varietà sufficiente nelle loro risposte. Questo contrasta con l'approccio dei test convenzionali, dove è spesso necessario selezionare un campione rappresentativo e utilizzare le risposte per creare tabelle normative basate sulle percentuali di risposte corrette. "
   ]
  }
 ],
 "metadata": {
  "kernelspec": {
   "display_name": "R",
   "language": "R",
   "name": "ir"
  },
  "language_info": {
   "codemirror_mode": "r",
   "file_extension": ".r",
   "mimetype": "text/x-r-source",
   "name": "R",
   "pygments_lexer": "r",
   "version": "4.3.2"
  }
 },
 "nbformat": 4,
 "nbformat_minor": 2
}