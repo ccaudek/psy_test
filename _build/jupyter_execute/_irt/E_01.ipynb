{
 "cells": [
  {
   "cell_type": "markdown",
   "metadata": {},
   "source": [
    "(esercizi-logistic-reg)=\n",
    "# ✏️ Esercizi"
   ]
  },
  {
   "cell_type": "code",
   "execution_count": 30,
   "metadata": {
    "vscode": {
     "languageId": "r"
    }
   },
   "outputs": [],
   "source": [
    "suppressPackageStartupMessages({\n",
    "    library(\"tidyverse\")\n",
    "    library(\"car\")\n",
    "    library(\"LaplacesDemon\")\n",
    "    library(\"gmodels\")\n",
    "    library(\"effects\")\n",
    "    library(\"psych\")\n",
    "    })"
   ]
  },
  {
   "cell_type": "markdown",
   "metadata": {},
   "source": [
    "**E1.** Per chiarire il significato del coefficiente $\\beta$ nel caso della regressione logistica, si utilizzino i dati `chdage` e si ripeta l'analisi precedente dicotomizzando l'età in funzione della media."
   ]
  },
  {
   "cell_type": "code",
   "execution_count": null,
   "metadata": {
    "vscode": {
     "languageId": "r"
    }
   },
   "outputs": [],
   "source": [
    "chdage <- read.table(\"../data/logistic_reg/chdage_dat.txt\", header = TRUE)\n",
    "chdage |>\n",
    "    head()"
   ]
  },
  {
   "cell_type": "code",
   "execution_count": 17,
   "metadata": {
    "vscode": {
     "languageId": "r"
    }
   },
   "outputs": [
    {
     "data": {
      "text/plain": [
       "            \n",
       "              0  1\n",
       "  SopraMedia 16 32\n",
       "  SottoMedia 41 11"
      ]
     },
     "metadata": {},
     "output_type": "display_data"
    }
   ],
   "source": [
    "# Calcolo della media dell'età\n",
    "media_eta <- mean(chdage$age)\n",
    "\n",
    "# Creazione di una variabile dicotomica per l'età\n",
    "chdage$eta_categoria <- ifelse(chdage$age > media_eta, \"SopraMedia\", \"SottoMedia\")\n",
    "\n",
    "# Visualizzazione della tavola 2x2\n",
    "table(chdage$eta_categoria, chdage$chd)"
   ]
  },
  {
   "cell_type": "markdown",
   "metadata": {},
   "source": [
    "Analizziamo la relazione tra le due variabili categoriche (età categorizzata e CHD) utilizzando una tavola di contingenza 2x2 e il test del chi-quadrato."
   ]
  },
  {
   "cell_type": "code",
   "execution_count": 24,
   "metadata": {
    "vscode": {
     "languageId": "r"
    }
   },
   "outputs": [
    {
     "name": "stdout",
     "output_type": "stream",
     "text": [
      "\n",
      " \n",
      "   Cell Contents\n",
      "|-------------------------|\n",
      "|                       N |\n",
      "| Chi-square contribution |\n",
      "|           N / Row Total |\n",
      "|           N / Col Total |\n",
      "|         N / Table Total |\n",
      "|-------------------------|\n",
      "\n",
      " \n",
      "Total Observations in Table:  100 \n",
      "\n",
      " \n",
      "                     | chdage$chd \n",
      "chdage$eta_categoria |         0 |         1 | Row Total | \n",
      "---------------------|-----------|-----------|-----------|\n",
      "          SopraMedia |        16 |        32 |        48 | \n",
      "                     |     4.717 |     6.252 |           | \n",
      "                     |     0.333 |     0.667 |     0.480 | \n",
      "                     |     0.281 |     0.744 |           | \n",
      "                     |     0.160 |     0.320 |           | \n",
      "---------------------|-----------|-----------|-----------|\n",
      "          SottoMedia |        41 |        11 |        52 | \n",
      "                     |     4.354 |     5.771 |           | \n",
      "                     |     0.788 |     0.212 |     0.520 | \n",
      "                     |     0.719 |     0.256 |           | \n",
      "                     |     0.410 |     0.110 |           | \n",
      "---------------------|-----------|-----------|-----------|\n",
      "        Column Total |        57 |        43 |       100 | \n",
      "                     |     0.570 |     0.430 |           | \n",
      "---------------------|-----------|-----------|-----------|\n",
      "\n",
      " \n",
      "Statistics for All Table Factors\n",
      "\n",
      "\n",
      "Pearson's Chi-squared test \n",
      "------------------------------------------------------------\n",
      "Chi^2 =  21.09448     d.f. =  1     p =  4.371863e-06 \n",
      "\n",
      "Pearson's Chi-squared test with Yates' continuity correction \n",
      "------------------------------------------------------------\n",
      "Chi^2 =  19.27843     d.f. =  1     p =  1.129752e-05 \n",
      "\n",
      " \n",
      "$t\n",
      "            y\n",
      "x             0  1\n",
      "  SopraMedia 16 32\n",
      "  SottoMedia 41 11\n",
      "\n",
      "$prop.row\n",
      "            y\n",
      "x                    0         1\n",
      "  SopraMedia 0.3333333 0.6666667\n",
      "  SottoMedia 0.7884615 0.2115385\n",
      "\n",
      "$prop.col\n",
      "            y\n",
      "x                    0         1\n",
      "  SopraMedia 0.2807018 0.7441860\n",
      "  SottoMedia 0.7192982 0.2558140\n",
      "\n",
      "$prop.tbl\n",
      "            y\n",
      "x               0    1\n",
      "  SopraMedia 0.16 0.32\n",
      "  SottoMedia 0.41 0.11\n",
      "\n",
      "$chisq\n",
      "\n",
      "\tPearson's Chi-squared test\n",
      "\n",
      "data:  t\n",
      "X-squared = 21.094, df = 1, p-value = 4.372e-06\n",
      "\n",
      "\n",
      "$chisq.corr\n",
      "\n",
      "\tPearson's Chi-squared test with Yates' continuity correction\n",
      "\n",
      "data:  t\n",
      "X-squared = 19.278, df = 1, p-value = 1.13e-05\n",
      "\n",
      "\n"
     ]
    }
   ],
   "source": [
    "gmodels::CrossTable(chdage$eta_categoria, chdage$chd, chisq = TRUE, missing.include = TRUE)"
   ]
  },
  {
   "cell_type": "markdown",
   "metadata": {},
   "source": [
    "Calcoliamo l'odds ratio per valutare le probabilità relative di CHD tra le due categorie di età."
   ]
  },
  {
   "cell_type": "code",
   "execution_count": 23,
   "metadata": {
    "vscode": {
     "languageId": "r"
    }
   },
   "outputs": [
    {
     "name": "stdout",
     "output_type": "stream",
     "text": [
      "$data\n",
      "            Outcome\n",
      "Predictor     0  1 Total\n",
      "  SopraMedia 16 32    48\n",
      "  SottoMedia 41 11    52\n",
      "  Total      57 43   100\n",
      "\n",
      "$measure\n",
      "            odds ratio with 95% C.I.\n",
      "Predictor     estimate      lower     upper\n",
      "  SopraMedia 1.0000000         NA        NA\n",
      "  SottoMedia 0.1341463 0.05475114 0.3286733\n",
      "\n",
      "$p.value\n",
      "            two-sided\n",
      "Predictor      midp.exact fisher.exact   chi.square\n",
      "  SopraMedia           NA           NA           NA\n",
      "  SottoMedia 4.582028e-06 6.194004e-06 4.371863e-06\n",
      "\n",
      "$correction\n",
      "[1] FALSE\n",
      "\n",
      "attr(,\"method\")\n",
      "[1] \"Unconditional MLE & normal approximation (Wald) CI\"\n"
     ]
    }
   ],
   "source": [
    "epitools::oddsratio(chdage$eta_categoria, chdage$chd, conf.level = 0.95, method = \"wald\") |> print()"
   ]
  },
  {
   "cell_type": "markdown",
   "metadata": {},
   "source": [
    "Creiamo un modello di regressione logistica per stimare l'odds ratio, ponendo CHD come variabile dipendente e l'età categorizzata come variabile indipendente. Il coefficiente del modello sarà interpretato come log odds."
   ]
  },
  {
   "cell_type": "code",
   "execution_count": 25,
   "metadata": {
    "vscode": {
     "languageId": "r"
    }
   },
   "outputs": [
    {
     "data": {
      "text/plain": [
       "\n",
       "Call:\n",
       "glm(formula = chd ~ eta_categoria, family = binomial(link = \"logit\"), \n",
       "    data = chdage)\n",
       "\n",
       "Coefficients:\n",
       "                        Estimate Std. Error z value Pr(>|z|)    \n",
       "(Intercept)               0.6931     0.3062   2.264   0.0236 *  \n",
       "eta_categoriaSottoMedia  -2.0088     0.4572  -4.394 1.12e-05 ***\n",
       "---\n",
       "Signif. codes:  0 '***' 0.001 '**' 0.01 '*' 0.05 '.' 0.1 ' ' 1\n",
       "\n",
       "(Dispersion parameter for binomial family taken to be 1)\n",
       "\n",
       "    Null deviance: 136.66  on 99  degrees of freedom\n",
       "Residual deviance: 114.77  on 98  degrees of freedom\n",
       "AIC: 118.77\n",
       "\n",
       "Number of Fisher Scoring iterations: 4\n"
      ]
     },
     "metadata": {},
     "output_type": "display_data"
    }
   ],
   "source": [
    "logit_model <- glm(formula = chd ~ eta_categoria, data = chdage, family = binomial(link = \"logit\"))\n",
    "summary(logit_model)"
   ]
  },
  {
   "cell_type": "markdown",
   "metadata": {},
   "source": [
    "Generiamo l'intervallo di confidenza al 95%"
   ]
  },
  {
   "cell_type": "code",
   "execution_count": 26,
   "metadata": {
    "vscode": {
     "languageId": "r"
    }
   },
   "outputs": [
    {
     "name": "stderr",
     "output_type": "stream",
     "text": [
      "In attesa che venga eseguita la profilazione...\n",
      "\n"
     ]
    },
    {
     "data": {
      "text/html": [
       "<table class=\"dataframe\">\n",
       "<caption>A matrix: 2 x 2 of type dbl</caption>\n",
       "<thead>\n",
       "\t<tr><th></th><th scope=col>2.5 %</th><th scope=col>97.5 %</th></tr>\n",
       "</thead>\n",
       "<tbody>\n",
       "\t<tr><th scope=row>(Intercept)</th><td> 0.108547</td><td> 1.318141</td></tr>\n",
       "\t<tr><th scope=row>eta_categoriaSottoMedia</th><td>-2.942187</td><td>-1.140921</td></tr>\n",
       "</tbody>\n",
       "</table>\n"
      ],
      "text/latex": [
       "A matrix: 2 x 2 of type dbl\n",
       "\\begin{tabular}{r|ll}\n",
       "  & 2.5 \\% & 97.5 \\%\\\\\n",
       "\\hline\n",
       "\t(Intercept) &  0.108547 &  1.318141\\\\\n",
       "\teta\\_categoriaSottoMedia & -2.942187 & -1.140921\\\\\n",
       "\\end{tabular}\n"
      ],
      "text/markdown": [
       "\n",
       "A matrix: 2 x 2 of type dbl\n",
       "\n",
       "| <!--/--> | 2.5 % | 97.5 % |\n",
       "|---|---|---|\n",
       "| (Intercept) |  0.108547 |  1.318141 |\n",
       "| eta_categoriaSottoMedia | -2.942187 | -1.140921 |\n",
       "\n"
      ],
      "text/plain": [
       "                        2.5 %     97.5 %   \n",
       "(Intercept)              0.108547  1.318141\n",
       "eta_categoriaSottoMedia -2.942187 -1.140921"
      ]
     },
     "metadata": {},
     "output_type": "display_data"
    }
   ],
   "source": [
    "\n",
    "confint(logit_model)"
   ]
  },
  {
   "cell_type": "markdown",
   "metadata": {},
   "source": [
    "Esponenziazione dei coefficienti per ottenere l'Odds Ratio"
   ]
  },
  {
   "cell_type": "code",
   "execution_count": 27,
   "metadata": {
    "vscode": {
     "languageId": "r"
    }
   },
   "outputs": [
    {
     "data": {
      "text/html": [
       "<style>\n",
       ".dl-inline {width: auto; margin:0; padding: 0}\n",
       ".dl-inline>dt, .dl-inline>dd {float: none; width: auto; display: inline-block}\n",
       ".dl-inline>dt::after {content: \":\\0020\"; padding-right: .5ex}\n",
       ".dl-inline>dt:not(:first-of-type) {padding-left: .5ex}\n",
       "</style><dl class=dl-inline><dt>(Intercept)</dt><dd>1.99999999999959</dd><dt>eta_categoriaSottoMedia</dt><dd>0.134146341463534</dd></dl>\n"
      ],
      "text/latex": [
       "\\begin{description*}\n",
       "\\item[(Intercept)] 1.99999999999959\n",
       "\\item[eta\\textbackslash{}\\_categoriaSottoMedia] 0.134146341463534\n",
       "\\end{description*}\n"
      ],
      "text/markdown": [
       "(Intercept)\n",
       ":   1.99999999999959eta_categoriaSottoMedia\n",
       ":   0.134146341463534\n",
       "\n"
      ],
      "text/plain": [
       "            (Intercept) eta_categoriaSottoMedia \n",
       "              2.0000000               0.1341463 "
      ]
     },
     "metadata": {},
     "output_type": "display_data"
    },
    {
     "name": "stderr",
     "output_type": "stream",
     "text": [
      "In attesa che venga eseguita la profilazione...\n",
      "\n"
     ]
    },
    {
     "data": {
      "text/html": [
       "<table class=\"dataframe\">\n",
       "<caption>A matrix: 2 x 2 of type dbl</caption>\n",
       "<thead>\n",
       "\t<tr><th></th><th scope=col>2.5 %</th><th scope=col>97.5 %</th></tr>\n",
       "</thead>\n",
       "<tbody>\n",
       "\t<tr><th scope=row>(Intercept)</th><td>1.11465733</td><td>3.7364701</td></tr>\n",
       "\t<tr><th scope=row>eta_categoriaSottoMedia</th><td>0.05275022</td><td>0.3195247</td></tr>\n",
       "</tbody>\n",
       "</table>\n"
      ],
      "text/latex": [
       "A matrix: 2 x 2 of type dbl\n",
       "\\begin{tabular}{r|ll}\n",
       "  & 2.5 \\% & 97.5 \\%\\\\\n",
       "\\hline\n",
       "\t(Intercept) & 1.11465733 & 3.7364701\\\\\n",
       "\teta\\_categoriaSottoMedia & 0.05275022 & 0.3195247\\\\\n",
       "\\end{tabular}\n"
      ],
      "text/markdown": [
       "\n",
       "A matrix: 2 x 2 of type dbl\n",
       "\n",
       "| <!--/--> | 2.5 % | 97.5 % |\n",
       "|---|---|---|\n",
       "| (Intercept) | 1.11465733 | 3.7364701 |\n",
       "| eta_categoriaSottoMedia | 0.05275022 | 0.3195247 |\n",
       "\n"
      ],
      "text/plain": [
       "                        2.5 %      97.5 %   \n",
       "(Intercept)             1.11465733 3.7364701\n",
       "eta_categoriaSottoMedia 0.05275022 0.3195247"
      ]
     },
     "metadata": {},
     "output_type": "display_data"
    }
   ],
   "source": [
    "exp(coef(logit_model))     # Odds Ratio\n",
    "exp(confint(logit_model))  # 95% CI (Odds Ratio)"
   ]
  },
  {
   "cell_type": "markdown",
   "metadata": {},
   "source": [
    "Nella regressione logistica, il coefficiente $\\beta$ per la variabile esplicativa dicotomica (in questo caso, l'età categorizzata) indica la variazione dei log odds di CHD per la categoria \"SopraMedia\" rispetto alla categoria \"SottoMedia\". Esponenziando questo coefficiente, si ottiene l'odds ratio, che rappresenta la variazione relativa del rischio (o delle probabilità) di CHD tra le due categorie di età.\n",
    "\n",
    "Ricordiamo che l'interpretazione deve tenere conto del significato statistico e della grandezza dell'odds ratio, oltre che della posizione dell'intervallo di confidenza rispetto al valore neutro 1. Se l'intervallo di confidenza attraversa 1, la differenza non è statisticamente significativa.\n",
    "\n",
    "Un odds ratio di 1.13 può essere interpretato nel modo seguente: passando dalla categoria 'SottoMedia' a quella 'SopraMedia', gli odds di malattie coronariche aumentano del 13%. L'intervallo di confidenza al 95% per l'odds ratio si estende da 1.05 a 1.32. Questo significa che siamo il 95% confidenti che il vero incremento degli odds di malattie coronariche, passando dalla categoria 'SottoMedia' a 'SopraMedia', sia compreso tra il 5% e il 32%."
   ]
  },
  {
   "cell_type": "markdown",
   "metadata": {},
   "source": [
    "**E2.** Prendiamo in considerazione lo studio condotto da Cowles e Davis (1987). In questo studio, gli autori hanno intervistato un campione di 1421 studenti universitari per determinare se fossero disposti, in linea di principio, a partecipare a ulteriori ricerche. La variabile di risposta, chiamata `volunteer`, è una variabile dicotomica che indica se gli studenti erano disposti o meno a partecipare. Inoltre, hanno misurato i livelli di neuroticismo ed estroversione utilizzando l'Inventario della personalità di Eysenck. I dati relativi a questo studio sono disponibili nel data frame chiamato `Cowles` all'interno del pacchetto `R` chiamato `effects`.\n",
    "\n",
    "Il problema chiede di costruire un modello GLM (Generalized Linear Model) che possa prevedere la probabilità di essere disposti a partecipare (`volunteer`) in base al genere degli studenti, tenendo conto dei livelli di neuroticismo ed estroversione, nonché della loro interazione. Questo modello ci permetterà di comprendere come queste variabili influenzino la probabilità di partecipazione degli studenti a ulteriori ricerche.\n",
    "\n",
    "Dopo aver costruito il modello, il problema chiede interpretare i risultati ottenuti per comprendere come il genere, il neuroticismo e l'estroversione influenzino la volontà degli studenti di partecipare a ulteriori ricerche."
   ]
  },
  {
   "cell_type": "code",
   "execution_count": 34,
   "metadata": {
    "vscode": {
     "languageId": "r"
    }
   },
   "outputs": [
    {
     "data": {
      "text/html": [
       "<style>\n",
       ".list-inline {list-style: none; margin:0; padding: 0}\n",
       ".list-inline>li {display: inline-block}\n",
       ".list-inline>li:not(:last-child)::after {content: \"\\00b7\"; padding: 0 .5ex}\n",
       "</style>\n",
       "<ol class=list-inline><li>1421</li><li>4</li></ol>\n"
      ],
      "text/latex": [
       "\\begin{enumerate*}\n",
       "\\item 1421\n",
       "\\item 4\n",
       "\\end{enumerate*}\n"
      ],
      "text/markdown": [
       "1. 1421\n",
       "2. 4\n",
       "\n",
       "\n"
      ],
      "text/plain": [
       "[1] 1421    4"
      ]
     },
     "metadata": {},
     "output_type": "display_data"
    }
   ],
   "source": [
    "data(Cowles)\n",
    "dim(Cowles)"
   ]
  },
  {
   "cell_type": "code",
   "execution_count": 35,
   "metadata": {
    "vscode": {
     "languageId": "r"
    }
   },
   "outputs": [
    {
     "data": {
      "text/html": [
       "<table class=\"dataframe\">\n",
       "<caption>A data.frame: 6 x 4</caption>\n",
       "<thead>\n",
       "\t<tr><th></th><th scope=col>neuroticism</th><th scope=col>extraversion</th><th scope=col>sex</th><th scope=col>volunteer</th></tr>\n",
       "\t<tr><th></th><th scope=col>&lt;int&gt;</th><th scope=col>&lt;int&gt;</th><th scope=col>&lt;fct&gt;</th><th scope=col>&lt;fct&gt;</th></tr>\n",
       "</thead>\n",
       "<tbody>\n",
       "\t<tr><th scope=row>1</th><td>16</td><td>13</td><td>female</td><td>no</td></tr>\n",
       "\t<tr><th scope=row>2</th><td> 8</td><td>14</td><td>male  </td><td>no</td></tr>\n",
       "\t<tr><th scope=row>3</th><td> 5</td><td>16</td><td>male  </td><td>no</td></tr>\n",
       "\t<tr><th scope=row>4</th><td> 8</td><td>20</td><td>female</td><td>no</td></tr>\n",
       "\t<tr><th scope=row>5</th><td> 9</td><td>19</td><td>male  </td><td>no</td></tr>\n",
       "\t<tr><th scope=row>6</th><td> 6</td><td>15</td><td>male  </td><td>no</td></tr>\n",
       "</tbody>\n",
       "</table>\n"
      ],
      "text/latex": [
       "A data.frame: 6 x 4\n",
       "\\begin{tabular}{r|llll}\n",
       "  & neuroticism & extraversion & sex & volunteer\\\\\n",
       "  & <int> & <int> & <fct> & <fct>\\\\\n",
       "\\hline\n",
       "\t1 & 16 & 13 & female & no\\\\\n",
       "\t2 &  8 & 14 & male   & no\\\\\n",
       "\t3 &  5 & 16 & male   & no\\\\\n",
       "\t4 &  8 & 20 & female & no\\\\\n",
       "\t5 &  9 & 19 & male   & no\\\\\n",
       "\t6 &  6 & 15 & male   & no\\\\\n",
       "\\end{tabular}\n"
      ],
      "text/markdown": [
       "\n",
       "A data.frame: 6 x 4\n",
       "\n",
       "| <!--/--> | neuroticism &lt;int&gt; | extraversion &lt;int&gt; | sex &lt;fct&gt; | volunteer &lt;fct&gt; |\n",
       "|---|---|---|---|---|\n",
       "| 1 | 16 | 13 | female | no |\n",
       "| 2 |  8 | 14 | male   | no |\n",
       "| 3 |  5 | 16 | male   | no |\n",
       "| 4 |  8 | 20 | female | no |\n",
       "| 5 |  9 | 19 | male   | no |\n",
       "| 6 |  6 | 15 | male   | no |\n",
       "\n"
      ],
      "text/plain": [
       "  neuroticism extraversion sex    volunteer\n",
       "1 16          13           female no       \n",
       "2  8          14           male   no       \n",
       "3  5          16           male   no       \n",
       "4  8          20           female no       \n",
       "5  9          19           male   no       \n",
       "6  6          15           male   no       "
      ]
     },
     "metadata": {},
     "output_type": "display_data"
    }
   ],
   "source": [
    "head(Cowles)"
   ]
  },
  {
   "cell_type": "code",
   "execution_count": 56,
   "metadata": {
    "vscode": {
     "languageId": "r"
    }
   },
   "outputs": [
    {
     "data": {
      "text/html": [
       "<table class=\"dataframe\">\n",
       "<caption>A matrix: 2 x 1 of type dbl</caption>\n",
       "<thead>\n",
       "\t<tr><th></th><th scope=col>female</th></tr>\n",
       "</thead>\n",
       "<tbody>\n",
       "\t<tr><th scope=row>male</th><td>0</td></tr>\n",
       "\t<tr><th scope=row>female</th><td>1</td></tr>\n",
       "</tbody>\n",
       "</table>\n"
      ],
      "text/latex": [
       "A matrix: 2 x 1 of type dbl\n",
       "\\begin{tabular}{r|l}\n",
       "  & female\\\\\n",
       "\\hline\n",
       "\tmale & 0\\\\\n",
       "\tfemale & 1\\\\\n",
       "\\end{tabular}\n"
      ],
      "text/markdown": [
       "\n",
       "A matrix: 2 x 1 of type dbl\n",
       "\n",
       "| <!--/--> | female |\n",
       "|---|---|\n",
       "| male | 0 |\n",
       "| female | 1 |\n",
       "\n"
      ],
      "text/plain": [
       "       female\n",
       "male   0     \n",
       "female 1     "
      ]
     },
     "metadata": {},
     "output_type": "display_data"
    }
   ],
   "source": [
    "Cowles$sex <- relevel(Cowles$sex, ref = \"male\")\n",
    "contrasts(Cowles$sex)"
   ]
  },
  {
   "cell_type": "code",
   "execution_count": 57,
   "metadata": {
    "vscode": {
     "languageId": "r"
    }
   },
   "outputs": [
    {
     "data": {
      "text/plain": [
       "\n",
       "Call:\n",
       "glm(formula = volunteer ~ sex + neuroticism * extraversion, family = binomial, \n",
       "    data = Cowles)\n",
       "\n",
       "Coefficients:\n",
       "                          Estimate Std. Error z value Pr(>|z|)    \n",
       "(Intercept)              -2.605359   0.500719  -5.203 1.96e-07 ***\n",
       "sexfemale                 0.247152   0.111631   2.214  0.02683 *  \n",
       "neuroticism               0.110777   0.037648   2.942  0.00326 ** \n",
       "extraversion              0.166816   0.037719   4.423 9.75e-06 ***\n",
       "neuroticism:extraversion -0.008552   0.002934  -2.915  0.00355 ** \n",
       "---\n",
       "Signif. codes:  0 '***' 0.001 '**' 0.01 '*' 0.05 '.' 0.1 ' ' 1\n",
       "\n",
       "(Dispersion parameter for binomial family taken to be 1)\n",
       "\n",
       "    Null deviance: 1933.5  on 1420  degrees of freedom\n",
       "Residual deviance: 1897.4  on 1416  degrees of freedom\n",
       "AIC: 1907.4\n",
       "\n",
       "Number of Fisher Scoring iterations: 4\n"
      ]
     },
     "metadata": {},
     "output_type": "display_data"
    }
   ],
   "source": [
    "fit_cowles <- glm(\n",
    "    volunteer ~ sex + neuroticism*extraversion,\n",
    "    family = binomial,\n",
    "    data = Cowles\n",
    ")\n",
    "summary(fit_cowles)"
   ]
  },
  {
   "cell_type": "code",
   "execution_count": 58,
   "metadata": {
    "vscode": {
     "languageId": "r"
    }
   },
   "outputs": [
    {
     "data": {
      "image/png": "[encoded data removed]",
      "text/plain": [
       "plot without title"
      ]
     },
     "metadata": {
      "image/png": {
       "height": 420,
       "width": 420
      }
     },
     "output_type": "display_data"
    }
   ],
   "source": [
    "plot(Effect(focal.predictors = c(\"neuroticism\",\"extraversion\",\"sex\"), \n",
    "            mod = fit_cowles,\n",
    "            xlevels=list(extraversion=seq(10, 20, 2), neuroticism=10:20)),\n",
    "     multiline = TRUE)"
   ]
  },
  {
   "cell_type": "markdown",
   "metadata": {},
   "source": [
    "Calcoliamo l'Odds Ratio:"
   ]
  },
  {
   "cell_type": "code",
   "execution_count": 59,
   "metadata": {
    "vscode": {
     "languageId": "r"
    }
   },
   "outputs": [
    {
     "name": "stdout",
     "output_type": "stream",
     "text": [
      "             (Intercept)                sexfemale              neuroticism \n",
      "              0.07387658               1.28037375               1.11714535 \n",
      "            extraversion neuroticism:extraversion \n",
      "              1.18153740               0.99148400 \n"
     ]
    }
   ],
   "source": [
    "exp(coef(fit_cowles)) |> print()"
   ]
  },
  {
   "cell_type": "markdown",
   "metadata": {},
   "source": [
    "Calcoliamo il 95% CI dell'Odds Ratio:"
   ]
  },
  {
   "cell_type": "code",
   "execution_count": 60,
   "metadata": {
    "vscode": {
     "languageId": "r"
    }
   },
   "outputs": [
    {
     "name": "stderr",
     "output_type": "stream",
     "text": [
      "In attesa che venga eseguita la profilazione...\n",
      "\n"
     ]
    },
    {
     "name": "stdout",
     "output_type": "stream",
     "text": [
      "                              2.5 %    97.5 %\n",
      "(Intercept)              0.02723627 0.1943229\n",
      "sexfemale                1.02911058 1.5942774\n",
      "neuroticism              1.03815341 1.2034925\n",
      "extraversion             1.09828160 1.2735034\n",
      "neuroticism:extraversion 0.98575501 0.9971703\n"
     ]
    }
   ],
   "source": [
    "exp(confint(fit_cowles)) |> print()"
   ]
  },
  {
   "cell_type": "markdown",
   "metadata": {},
   "source": [
    "Gli odds ratio ottenuti dal modello di regressione logistica possono essere interpretati come segue: in questo campione di studio, gli odds di partecipare a ulteriori ricerche sono risultati essere 1.28 volte più alti per le femmine rispetto ai maschi, quando vengono controllati gli effetti del neuroticismo e dell'estroversione, nonché della loro interazione.\n",
    "\n",
    "L'intervallo di confidenza al 95% per l'odds ratio è compreso tra 1.03 e 1.59. Questo significa che siamo sicuri al 95% che il reale aumento degli odds di partecipare a ulteriori ricerche per le femmine rispetto ai maschi, una volta che si tengono in considerazione gli effetti del neuroticismo, dell'estroversione e della loro interazione, varia tra il 3% e il 59%.\n",
    "\n",
    "In altre parole, ci sono evidenze statistiche significative che suggeriscono che il genere ha un impatto sulla volontà di partecipare a ulteriori ricerche, e tale impatto è positivo per le femmine rispetto ai maschi, anche quando si considerano le influenze dei livelli di neuroticismo ed estroversione e della loro interazione."
   ]
  }
 ],
 "metadata": {
  "kernelspec": {
   "display_name": "R",
   "language": "R",
   "name": "ir"
  },
  "language_info": {
   "codemirror_mode": "r",
   "file_extension": ".r",
   "mimetype": "text/x-r-source",
   "name": "R",
   "pygments_lexer": "r",
   "version": "4.3.2"
  }
 },
 "nbformat": 4,
 "nbformat_minor": 2
}