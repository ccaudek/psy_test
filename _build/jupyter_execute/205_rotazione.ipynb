{
 "cells": [
  {
   "attachments": {},
   "cell_type": "markdown",
   "id": "3729a058",
   "metadata": {},
   "source": [
    "(rotazione-notebook)=\n",
    "# La rotazione fattoriale "
   ]
  },
  {
   "cell_type": "code",
   "execution_count": 1,
   "id": "fedea705",
   "metadata": {
    "tags": [
     "remove_cell"
    ],
    "vscode": {
     "languageId": "r"
    }
   },
   "outputs": [],
   "source": [
    "source(\"_common.R\")\n",
    "suppressPackageStartupMessages({\n",
    "    library(\"lavaan\")\n",
    "    library(\"psych\")\n",
    "})\n",
    "options(repr.plot.width = 6, repr.plot.height = 6)\n",
    "set.seed(42)\n"
   ]
  },
  {
   "attachments": {},
   "cell_type": "markdown",
   "id": "17ef2479",
   "metadata": {},
   "source": [
    "Nel capitolo {ref}`extraction-notebook` abbiamo visto come sia possibile ottenere la\n",
    "soluzione fattoriale non ruotata per il numero di fattori comuni che\n",
    "meglio riassume l'informazione contenuta nella matrice di correlazioni\n",
    "(o covarianze). Tuttavia, questa soluzione non garantisce l’identificazione di gruppi omogenei e interpretabili di variabili osservate. Pertanto, si ricorre alla rotazione degli assi fattoriali per ottenere una soluzione più facilmente interpretabile rispetto a quella iniziale.\n",
    "\n",
    "\n",
    "## Indeterminatezza della soluzione fattoriale\n",
    "\n",
    "La necessità di effettuare la rotazione deriva dal fatto che la matrice delle saturazioni non ha un’unica soluzione. Attraverso trasformazioni matematiche, è possibile ottenere infinite matrici dello stesso ordine. Questo fenomeno è noto come indeterminatezza della soluzione fattoriale.\n",
    "\n",
    "La matrice delle saturazioni fattoriali $\\boldsymbol{\\Lambda}$ non è univocamente definita poiché non esiste una soluzione unica per determinare le saturazioni fattoriali. Una matrice di correlazioni $\\boldsymbol{R}$ può produrre diverse soluzioni fattoriali, ovvero matrici con lo stesso numero di fattori comuni ma con diverse configurazioni di saturazioni fattoriali, o matrici di saturazioni fattoriali corrispondenti a un diverso numero di fattori comuni.\n",
    "\n",
    "**Esempio.** Siano $\\boldsymbol{\\Lambda}_1$ e $\\boldsymbol{\\Lambda}_2$ due matrici\n",
    "aventi lo stesso numero di righe e colonne, ma contenenti saturazioni\n",
    "fattoriali diverse. $\\boldsymbol{\\Lambda}_1$ è definita dai valori\n",
    "seguenti"
   ]
  },
  {
   "cell_type": "code",
   "execution_count": 2,
   "id": "4ec4ac23",
   "metadata": {
    "vscode": {
     "languageId": "r"
    }
   },
   "outputs": [],
   "source": [
    "l1 <- matrix(\n",
    "  c(\n",
    "    0.766,  -0.232,\n",
    "    0.670,  -0.203,\n",
    "    0.574,  -0.174,\n",
    "    0.454,   0.533,\n",
    "    0.389,   0.457,\n",
    "    0.324,   0.381\n",
    "  ),\n",
    "  byrow = TRUE, ncol = 2\n",
    ")\n"
   ]
  },
  {
   "attachments": {},
   "cell_type": "markdown",
   "id": "ac93f676",
   "metadata": {},
   "source": [
    "mentre per $\\boldsymbol{\\Lambda}_2$ abbiamo"
   ]
  },
  {
   "cell_type": "code",
   "execution_count": 3,
   "id": "87db0193",
   "metadata": {
    "vscode": {
     "languageId": "r"
    }
   },
   "outputs": [],
   "source": [
    "l2 <- matrix(\n",
    "  c(\n",
    "    0.783,  0.163,\n",
    "    0.685,  0.143,\n",
    "    0.587,  0.123,\n",
    "    0.143,  0.685,\n",
    "    0.123,  0.587,\n",
    "    0.102,  0.489\n",
    "  ),\n",
    "  byrow = TRUE, ncol = 2\n",
    ")\n"
   ]
  },
  {
   "attachments": {},
   "cell_type": "markdown",
   "id": "df39d74b",
   "metadata": {},
   "source": [
    "Esaminiamo la matrice delle correlazioni riprodotte dalle due matrici di\n",
    "pesi fattoriali (con le comunalità sulla diagonale di $\\boldsymbol{R}$):"
   ]
  },
  {
   "cell_type": "code",
   "execution_count": 4,
   "id": "911cb8dd",
   "metadata": {
    "vscode": {
     "languageId": "r"
    }
   },
   "outputs": [
    {
     "data": {
      "text/html": [
       "<table class=\"dataframe\">\n",
       "<caption>A matrix: 6 × 6 of type dbl</caption>\n",
       "<tbody>\n",
       "\t<tr><td>0.640580</td><td>0.560316</td><td>0.480052</td><td>0.224108</td><td>0.191950</td><td>0.159792</td></tr>\n",
       "\t<tr><td>0.560316</td><td>0.490109</td><td>0.419902</td><td>0.195981</td><td>0.167859</td><td>0.139737</td></tr>\n",
       "\t<tr><td>0.480052</td><td>0.419902</td><td>0.359752</td><td>0.167854</td><td>0.143768</td><td>0.119682</td></tr>\n",
       "\t<tr><td>0.224108</td><td>0.195981</td><td>0.167854</td><td>0.490205</td><td>0.420187</td><td>0.350169</td></tr>\n",
       "\t<tr><td>0.191950</td><td>0.167859</td><td>0.143768</td><td>0.420187</td><td>0.360170</td><td>0.300153</td></tr>\n",
       "\t<tr><td>0.159792</td><td>0.139737</td><td>0.119682</td><td>0.350169</td><td>0.300153</td><td>0.250137</td></tr>\n",
       "</tbody>\n",
       "</table>\n"
      ],
      "text/latex": [
       "A matrix: 6 × 6 of type dbl\n",
       "\\begin{tabular}{llllll}\n",
       "\t 0.640580 & 0.560316 & 0.480052 & 0.224108 & 0.191950 & 0.159792\\\\\n",
       "\t 0.560316 & 0.490109 & 0.419902 & 0.195981 & 0.167859 & 0.139737\\\\\n",
       "\t 0.480052 & 0.419902 & 0.359752 & 0.167854 & 0.143768 & 0.119682\\\\\n",
       "\t 0.224108 & 0.195981 & 0.167854 & 0.490205 & 0.420187 & 0.350169\\\\\n",
       "\t 0.191950 & 0.167859 & 0.143768 & 0.420187 & 0.360170 & 0.300153\\\\\n",
       "\t 0.159792 & 0.139737 & 0.119682 & 0.350169 & 0.300153 & 0.250137\\\\\n",
       "\\end{tabular}\n"
      ],
      "text/markdown": [
       "\n",
       "A matrix: 6 × 6 of type dbl\n",
       "\n",
       "| 0.640580 | 0.560316 | 0.480052 | 0.224108 | 0.191950 | 0.159792 |\n",
       "| 0.560316 | 0.490109 | 0.419902 | 0.195981 | 0.167859 | 0.139737 |\n",
       "| 0.480052 | 0.419902 | 0.359752 | 0.167854 | 0.143768 | 0.119682 |\n",
       "| 0.224108 | 0.195981 | 0.167854 | 0.490205 | 0.420187 | 0.350169 |\n",
       "| 0.191950 | 0.167859 | 0.143768 | 0.420187 | 0.360170 | 0.300153 |\n",
       "| 0.159792 | 0.139737 | 0.119682 | 0.350169 | 0.300153 | 0.250137 |\n",
       "\n"
      ],
      "text/plain": [
       "     [,1]     [,2]     [,3]     [,4]     [,5]     [,6]    \n",
       "[1,] 0.640580 0.560316 0.480052 0.224108 0.191950 0.159792\n",
       "[2,] 0.560316 0.490109 0.419902 0.195981 0.167859 0.139737\n",
       "[3,] 0.480052 0.419902 0.359752 0.167854 0.143768 0.119682\n",
       "[4,] 0.224108 0.195981 0.167854 0.490205 0.420187 0.350169\n",
       "[5,] 0.191950 0.167859 0.143768 0.420187 0.360170 0.300153\n",
       "[6,] 0.159792 0.139737 0.119682 0.350169 0.300153 0.250137"
      ]
     },
     "metadata": {},
     "output_type": "display_data"
    }
   ],
   "source": [
    "l1 %*% t(l1)"
   ]
  },
  {
   "cell_type": "code",
   "execution_count": 5,
   "id": "6ab3ba92",
   "metadata": {
    "vscode": {
     "languageId": "r"
    }
   },
   "outputs": [
    {
     "data": {
      "text/html": [
       "<table class=\"dataframe\">\n",
       "<caption>A matrix: 6 × 6 of type dbl</caption>\n",
       "<tbody>\n",
       "\t<tr><td>0.639658</td><td>0.559664</td><td>0.479670</td><td>0.223624</td><td>0.191990</td><td>0.159573</td></tr>\n",
       "\t<tr><td>0.559664</td><td>0.489674</td><td>0.419684</td><td>0.195910</td><td>0.168196</td><td>0.139797</td></tr>\n",
       "\t<tr><td>0.479670</td><td>0.419684</td><td>0.359698</td><td>0.168196</td><td>0.144402</td><td>0.120021</td></tr>\n",
       "\t<tr><td>0.223624</td><td>0.195910</td><td>0.168196</td><td>0.489674</td><td>0.419684</td><td>0.349551</td></tr>\n",
       "\t<tr><td>0.191990</td><td>0.168196</td><td>0.144402</td><td>0.419684</td><td>0.359698</td><td>0.299589</td></tr>\n",
       "\t<tr><td>0.159573</td><td>0.139797</td><td>0.120021</td><td>0.349551</td><td>0.299589</td><td>0.249525</td></tr>\n",
       "</tbody>\n",
       "</table>\n"
      ],
      "text/latex": [
       "A matrix: 6 × 6 of type dbl\n",
       "\\begin{tabular}{llllll}\n",
       "\t 0.639658 & 0.559664 & 0.479670 & 0.223624 & 0.191990 & 0.159573\\\\\n",
       "\t 0.559664 & 0.489674 & 0.419684 & 0.195910 & 0.168196 & 0.139797\\\\\n",
       "\t 0.479670 & 0.419684 & 0.359698 & 0.168196 & 0.144402 & 0.120021\\\\\n",
       "\t 0.223624 & 0.195910 & 0.168196 & 0.489674 & 0.419684 & 0.349551\\\\\n",
       "\t 0.191990 & 0.168196 & 0.144402 & 0.419684 & 0.359698 & 0.299589\\\\\n",
       "\t 0.159573 & 0.139797 & 0.120021 & 0.349551 & 0.299589 & 0.249525\\\\\n",
       "\\end{tabular}\n"
      ],
      "text/markdown": [
       "\n",
       "A matrix: 6 × 6 of type dbl\n",
       "\n",
       "| 0.639658 | 0.559664 | 0.479670 | 0.223624 | 0.191990 | 0.159573 |\n",
       "| 0.559664 | 0.489674 | 0.419684 | 0.195910 | 0.168196 | 0.139797 |\n",
       "| 0.479670 | 0.419684 | 0.359698 | 0.168196 | 0.144402 | 0.120021 |\n",
       "| 0.223624 | 0.195910 | 0.168196 | 0.489674 | 0.419684 | 0.349551 |\n",
       "| 0.191990 | 0.168196 | 0.144402 | 0.419684 | 0.359698 | 0.299589 |\n",
       "| 0.159573 | 0.139797 | 0.120021 | 0.349551 | 0.299589 | 0.249525 |\n",
       "\n"
      ],
      "text/plain": [
       "     [,1]     [,2]     [,3]     [,4]     [,5]     [,6]    \n",
       "[1,] 0.639658 0.559664 0.479670 0.223624 0.191990 0.159573\n",
       "[2,] 0.559664 0.489674 0.419684 0.195910 0.168196 0.139797\n",
       "[3,] 0.479670 0.419684 0.359698 0.168196 0.144402 0.120021\n",
       "[4,] 0.223624 0.195910 0.168196 0.489674 0.419684 0.349551\n",
       "[5,] 0.191990 0.168196 0.144402 0.419684 0.359698 0.299589\n",
       "[6,] 0.159573 0.139797 0.120021 0.349551 0.299589 0.249525"
      ]
     },
     "metadata": {},
     "output_type": "display_data"
    }
   ],
   "source": [
    "l2 %*% t(l2)"
   ]
  },
  {
   "attachments": {},
   "cell_type": "markdown",
   "id": "904c63e3",
   "metadata": {},
   "source": [
    "Come si vede, viene ottenuto lo stesso risultato utilizzando matrici\n",
    "$\\boldsymbol{\\Lambda}$ con lo stesso numero $m$ di colonne ma\n",
    "saturazioni fattoriali diverse.\n",
    "\n",
    "Si consideri ora il caso di matrici $\\boldsymbol{\\Lambda}$\n",
    "corrispondenti a soluzioni fattoriali con un diverso numero di fattori\n",
    "comuni. Siano $\\boldsymbol{\\Lambda}_1$ e $\\boldsymbol{\\Lambda}_2$ due\n",
    "matrici aventi lo stesso numero di righe ma un numero diverso di\n",
    "colonne:"
   ]
  },
  {
   "cell_type": "code",
   "execution_count": 6,
   "id": "a72e4a5e",
   "metadata": {
    "vscode": {
     "languageId": "r"
    }
   },
   "outputs": [],
   "source": [
    "l1 <- matrix(\n",
    "  c(\n",
    "    0.9,\n",
    "    0.7,\n",
    "    0.5,\n",
    "    0.3\n",
    "  ),\n",
    "  byrow = TRUE, ncol = 1\n",
    ")\n",
    "\n",
    "l2 <- matrix(\n",
    "  c(\n",
    "    0.78, 0.45,\n",
    "    0.61, 0.35,\n",
    "    0.43, 0.25,\n",
    "    0.25, 0.15\n",
    "  ),\n",
    "  byrow = TRUE, ncol = 2\n",
    ")\n"
   ]
  },
  {
   "attachments": {},
   "cell_type": "markdown",
   "id": "4f0f14f0",
   "metadata": {},
   "source": [
    "Si noti che la stessa matrice di correlazioni riprodotte (con le\n",
    "comunalità sulla diagonale principale) viene generata dalle saturazioni\n",
    "fattoriali corrispondenti ad un numero diverso di fattori comuni:"
   ]
  },
  {
   "cell_type": "code",
   "execution_count": 7,
   "id": "fd547347",
   "metadata": {
    "vscode": {
     "languageId": "r"
    }
   },
   "outputs": [
    {
     "data": {
      "text/html": [
       "<table class=\"dataframe\">\n",
       "<caption>A matrix: 4 × 4 of type dbl</caption>\n",
       "<tbody>\n",
       "\t<tr><td>0.81</td><td>0.63</td><td>0.45</td><td>0.27</td></tr>\n",
       "\t<tr><td>0.63</td><td>0.49</td><td>0.35</td><td>0.21</td></tr>\n",
       "\t<tr><td>0.45</td><td>0.35</td><td>0.25</td><td>0.15</td></tr>\n",
       "\t<tr><td>0.27</td><td>0.21</td><td>0.15</td><td>0.09</td></tr>\n",
       "</tbody>\n",
       "</table>\n"
      ],
      "text/latex": [
       "A matrix: 4 × 4 of type dbl\n",
       "\\begin{tabular}{llll}\n",
       "\t 0.81 & 0.63 & 0.45 & 0.27\\\\\n",
       "\t 0.63 & 0.49 & 0.35 & 0.21\\\\\n",
       "\t 0.45 & 0.35 & 0.25 & 0.15\\\\\n",
       "\t 0.27 & 0.21 & 0.15 & 0.09\\\\\n",
       "\\end{tabular}\n"
      ],
      "text/markdown": [
       "\n",
       "A matrix: 4 × 4 of type dbl\n",
       "\n",
       "| 0.81 | 0.63 | 0.45 | 0.27 |\n",
       "| 0.63 | 0.49 | 0.35 | 0.21 |\n",
       "| 0.45 | 0.35 | 0.25 | 0.15 |\n",
       "| 0.27 | 0.21 | 0.15 | 0.09 |\n",
       "\n"
      ],
      "text/plain": [
       "     [,1] [,2] [,3] [,4]\n",
       "[1,] 0.81 0.63 0.45 0.27\n",
       "[2,] 0.63 0.49 0.35 0.21\n",
       "[3,] 0.45 0.35 0.25 0.15\n",
       "[4,] 0.27 0.21 0.15 0.09"
      ]
     },
     "metadata": {},
     "output_type": "display_data"
    }
   ],
   "source": [
    "l1 %*% t(l1)"
   ]
  },
  {
   "cell_type": "code",
   "execution_count": 8,
   "id": "06f83478",
   "metadata": {
    "lines_to_next_cell": 0,
    "vscode": {
     "languageId": "r"
    }
   },
   "outputs": [
    {
     "data": {
      "text/html": [
       "<table class=\"dataframe\">\n",
       "<caption>A matrix: 4 × 4 of type dbl</caption>\n",
       "<tbody>\n",
       "\t<tr><td>0.8109</td><td>0.6333</td><td>0.4479</td><td>0.2625</td></tr>\n",
       "\t<tr><td>0.6333</td><td>0.4946</td><td>0.3498</td><td>0.2050</td></tr>\n",
       "\t<tr><td>0.4479</td><td>0.3498</td><td>0.2474</td><td>0.1450</td></tr>\n",
       "\t<tr><td>0.2625</td><td>0.2050</td><td>0.1450</td><td>0.0850</td></tr>\n",
       "</tbody>\n",
       "</table>\n"
      ],
      "text/latex": [
       "A matrix: 4 × 4 of type dbl\n",
       "\\begin{tabular}{llll}\n",
       "\t 0.8109 & 0.6333 & 0.4479 & 0.2625\\\\\n",
       "\t 0.6333 & 0.4946 & 0.3498 & 0.2050\\\\\n",
       "\t 0.4479 & 0.3498 & 0.2474 & 0.1450\\\\\n",
       "\t 0.2625 & 0.2050 & 0.1450 & 0.0850\\\\\n",
       "\\end{tabular}\n"
      ],
      "text/markdown": [
       "\n",
       "A matrix: 4 × 4 of type dbl\n",
       "\n",
       "| 0.8109 | 0.6333 | 0.4479 | 0.2625 |\n",
       "| 0.6333 | 0.4946 | 0.3498 | 0.2050 |\n",
       "| 0.4479 | 0.3498 | 0.2474 | 0.1450 |\n",
       "| 0.2625 | 0.2050 | 0.1450 | 0.0850 |\n",
       "\n"
      ],
      "text/plain": [
       "     [,1]   [,2]   [,3]   [,4]  \n",
       "[1,] 0.8109 0.6333 0.4479 0.2625\n",
       "[2,] 0.6333 0.4946 0.3498 0.2050\n",
       "[3,] 0.4479 0.3498 0.2474 0.1450\n",
       "[4,] 0.2625 0.2050 0.1450 0.0850"
      ]
     },
     "metadata": {},
     "output_type": "display_data"
    }
   ],
   "source": [
    "l2 %*% t(l2)"
   ]
  },
  {
   "attachments": {},
   "cell_type": "markdown",
   "id": "1d7d5ffa",
   "metadata": {},
   "source": [
    "## Parsimonia e semplicità\n",
    "\n",
    "Per ottenere risultati affidabili dall'analisi fattoriale, si affronta il problema dell'indeterminazione fattoriale scegliendo la soluzione che soddisfa due criteri fondamentali: il criterio della parsimonia e il criterio della semplicità.\n",
    "\n",
    "Il criterio della parsimonia richiede di scegliere il modello con il minor numero di fattori comuni che può spiegare la covarianza tra le variabili. In pratica, se ci sono due soluzioni fattoriali con un diverso numero di fattori che riproducono allo stesso modo la matrice di covarianza o di correlazione, si sceglie quella con il minor numero di fattori.\n",
    "\n",
    "In caso invece ci siano diverse soluzioni fattoriali con lo stesso numero m di fattori, il criterio della semplicità guida nella scelta della trasformazione più appropriata della matrice di saturazioni fattoriali $\\boldsymbol{\\Lambda}$. Questa trasformazione, nota come rotazione, cerca di rendere i fattori più interpretabili. Ci sono due tipi di rotazione: ortogonale e obliqua. \n",
    "\n",
    "La rotazione ortogonale assume che i fattori siano incorrelati, mentre la rotazione obliqua consente correlazioni tra i fattori. L'obiettivo della rotazione è di trovare una soluzione che renda i fattori più facilmente interpretabili e, quindi, in grado di spiegare meglio i dati.\n",
    "\n",
    "### Il criterio della struttura semplice\n",
    "\n",
    "La rotazione degli assi fattoriali è un metodo utilizzato nell'analisi fattoriale per ottenere una struttura semplice della matrice delle saturazioni fattoriali. Questa struttura si caratterizza per poche ma forti saturazioni diverse da zero e dall'assenza di variabili saturate da più di un fattore. Thurstone (1947) propose un criterio di struttura semplice che si raggiunge quando si soddisfano alcune condizioni nella matrice fattoriale ruotata, come la presenza di saturazioni nulle per ogni variabile e per ogni fattore almeno $m$ saturazioni nulle, dove $m$ è il numero di fattori comuni. \n",
    "\n",
    "In pratica, si cerca di massimizzare il numero di saturazioni nulle o quasi nulle nella matrice fattoriale ruotata per ottenere la struttura semplice e facilitare l'interpretazione dei fattori. L'esame delle saturazioni fattoriali nella matrice ruotata consente di fornire un'interpretazione ai fattori, osservando quali variabili sono maggiormente associate con essi e quanto forti sono questi legami. Se i coefficienti di impatto di un fattore sono positivi e elevati su un sottoinsieme di variabili osservate, deduciamo che il fattore rappresenta ciò che hanno in comune le variabili che saturano sul fattore. Tuttavia, l'interpretazione può diventare più complessa nel caso di variabili che saturano su più fattori.\n",
    "\n",
    "\n",
    "## Rotazione nello spazio geometrico\n",
    "\n",
    "### Rotazione ortogonale\n",
    "\n",
    "Come abbiamo visto in precedenza, la matrice delle saturazioni fattoriali non è identificabile, il che significa che esistono molteplici soluzioni equivalenti per la determinazione dei pesi fattoriali. La rotazione ortogonale consiste nell'applicare una trasformazione lineare ai pesi fattoriali, in modo tale che venga prodotta una nuova matrice di saturazioni fattoriali che soddisfa alcuni criteri di struttura semplice, come descritto in precedenza. In altre parole, l'obiettivo della rotazione ortogonale è quello di ottenere una rappresentazione più interpretabile dei dati.\n",
    "\n",
    "Geometricamente, la rotazione ortogonale corrisponde a una rotazione rigida degli assi cartesiani del sistema di coordinate che rappresenta i pesi fattoriali. Questa rotazione mantiene invariata la distanza tra i punti che rappresentano le saturazioni fattoriali, ma cambia la posizione relativa delle variabili rispetto ai fattori. In questo modo, è possibile ottenere una struttura dei pesi fattoriali più semplice e interpretabile. La rotazione ortogonale viene solitamente effettuata utilizzando la tecnica della massima verosimiglianza o del metodo dei componenti principali, al fine di massimizzare il numero di saturazioni nulle o quasi nulle nella nuova matrice delle saturazioni fattoriali.\n",
    "\n",
    "### Vincoli alla rotazione\n",
    "\n",
    "Il problema della non identificabilità di $\\hat{\\boldsymbol{\\Lambda}}$ significa che ci sono molte possibili matrici di pesi fattoriali che possono produrre gli stessi valori di correlazione tra le variabili del nostro modello. Per risolvere questo problema, è necessario impostare dei vincoli sulla rotazione dei fattori. Il criterio principale nella scelta della rotazione è quello della semplicità della matrice $\\hat{\\boldsymbol{\\Lambda}}$, ovvero la vicinanza dei suoi elementi ai valori 0 e 1. Questo rende più facile interpretare i fattori come combinazioni lineari delle variabili.\n",
    "\n",
    "Le rotazioni ortogonali non cambiano le comunalità nel caso di fattori incorrelati, perché preservano le distanze tra i punti identificati dai pesi fattoriali. Questo significa che la comunalità può essere calcolata come la somma dei quadrati dei pesi fattoriali. Tuttavia, le rotazioni non ortogonali cambiano la quota di varianza spiegata da ciascun fattore, perché la varianza spiegata è data dalla somma dei quadrati dei pesi fattoriali divisa per la traccia della matrice delle correlazioni.\n",
    "\n",
    "Ci sono diversi algoritmi per la rotazione ortogonale dei fattori. Alcuni di essi sono il metodo grafico, il metodo Quartimax e il metodo Varimax.\n",
    "\n",
    "### Metodo grafico\n",
    "\n",
    "Per ruotare il sistema degli assi, se ci sono solo $m=2$ fattori, utilizziamo un sistema di coordinate bidimensionale per ottenere la loro rappresentazione geometrica. L'ispezione visiva del diagramma delle saturazioni fattoriali può guidare nella scelta della rotazione più appropriata. Le righe di $\\hat{\\boldsymbol{\\Lambda}}$ corrispondono a coppie di pesi fattoriali, $\\hat{\\lambda}_{i1}, \\hat{\\lambda}_{i2}$, con $i=1, \\dots, p$, che possono essere interpretate come le coordinate di $p$ punti (tanti quanti le variabili manifeste). Gli assi del diagramma vengono ruotati di un angolo $\\phi$ per avvicinarli il più possibile ai punti presenti nel grafico. Le nuove coordinate ($\\hat{\\lambda}_{i1}^*, \\hat{\\lambda}_{i2}^*$) vengono calcolate come $\\hat{\\boldsymbol{\\Lambda}}^* = \\hat{\\boldsymbol{\\Lambda}} \\textbf{T}$,\n",
    "dove \n",
    "\n",
    "$$\n",
    "\\textbf{T} = \n",
    "\\left[\n",
    "  \\begin{array}{ c c }\n",
    "  \\cos{\\phi} & - \\sin{\\phi}\\\\\n",
    "  \\sin{\\phi} & \\cos{\\phi}\n",
    "  \\end{array} \n",
    "\\right] \n",
    "$$ \n",
    "\n",
    "è una matrice ortogonale $2 \\times 2$.\n",
    "\n",
    "**Esempio.** Si considerino i dati di Brown, Williams e Barlow (1984) discussi da\n",
    "{cite:t}`rencher10methods`. Ad una bambina di dodici anni è stato chiesto di\n",
    "valutare sette dei suoi conoscenti su cinque variabili: *kind*,\n",
    "*intelligent*, *happy*, *likeable* e *just*. Per queste cinque\n",
    "variabili, la matrice di correlazioni è"
   ]
  },
  {
   "cell_type": "code",
   "execution_count": 9,
   "id": "7214cc07",
   "metadata": {
    "vscode": {
     "languageId": "r"
    }
   },
   "outputs": [
    {
     "name": "stdout",
     "output_type": "stream",
     "text": [
      "      K      I      H     L     J\n",
      "K 1.000  0.296  0.881 0.995 0.545\n",
      "I 0.296  1.000 -0.022 0.326 0.837\n",
      "H 0.881 -0.022  1.000 0.867 0.130\n",
      "L 0.995  0.326  0.867 1.000 0.544\n",
      "J 0.545  0.837  0.130 0.544 1.000\n"
     ]
    }
   ],
   "source": [
    "R <- matrix(\n",
    "  c(\n",
    "    1.00, .296, .881, .995, .545,\n",
    "    .296, 1.000, -.022, .326, .837,\n",
    "    .881, -.022, 1.000, .867, .130,\n",
    "    .995, .326, .867, 1.000, .544,\n",
    "    .545, .837, .130, .544, 1.00\n",
    "  ),\n",
    "  ncol = 5, byrow = TRUE, dimnames = list(\n",
    "    c(\"K\", \"I\", \"H\", \"L\", \"J\"), c(\"K\", \"I\", \"H\", \"L\", \"J\")\n",
    "  )\n",
    ")\n",
    "\n",
    "print(R)"
   ]
  },
  {
   "attachments": {},
   "cell_type": "markdown",
   "id": "6beeb583",
   "metadata": {},
   "source": [
    "Dalla matrice **R** estraiamo due fattori con il metodo delle componenti\n",
    "principali:"
   ]
  },
  {
   "cell_type": "code",
   "execution_count": 10,
   "id": "6b317c96",
   "metadata": {
    "vscode": {
     "languageId": "r"
    }
   },
   "outputs": [
    {
     "name": "stderr",
     "output_type": "stream",
     "text": [
      "Specified rotation not found, rotate='none' used\n",
      "\n"
     ]
    },
    {
     "data": {
      "text/plain": [
       "Principal Components Analysis\n",
       "Call: principal(r = R, nfactors = 2, rotate = FALSE)\n",
       "Standardized loadings (pattern matrix) based upon correlation matrix\n",
       "   PC1   PC2   h2     u2 com\n",
       "K 0.97 -0.23 0.99 0.0067 1.1\n",
       "I 0.52  0.81 0.92 0.0792 1.7\n",
       "H 0.78 -0.59 0.96 0.0391 1.9\n",
       "L 0.97 -0.21 0.99 0.0135 1.1\n",
       "J 0.70  0.67 0.94 0.0597 2.0\n",
       "\n",
       "                       PC1  PC2\n",
       "SS loadings           3.26 1.54\n",
       "Proportion Var        0.65 0.31\n",
       "Cumulative Var        0.65 0.96\n",
       "Proportion Explained  0.68 0.32\n",
       "Cumulative Proportion 0.68 1.00\n",
       "\n",
       "Mean item complexity =  1.6\n",
       "Test of the hypothesis that 2 components are sufficient.\n",
       "\n",
       "The root mean square of the residuals (RMSR) is  0.03 \n",
       "\n",
       "Fit based upon off diagonal values = 1"
      ]
     },
     "metadata": {},
     "output_type": "display_data"
    }
   ],
   "source": [
    "f.pc <- principal(R, 2, rotate = FALSE) \n",
    "f.pc"
   ]
  },
  {
   "attachments": {},
   "cell_type": "markdown",
   "id": "713fc702",
   "metadata": {},
   "source": [
    "Si noti che i fattori sono difficili da interpretare: il primo fattore è caratterizzato da saturazioni fattoriali alte e positive su tutte le variabili manifeste; il secondo fattore è identificato dalle cinque variabili mediante una saturazione fattoriale alta e positiva, mentre le altre saturazioni fattoriali sono negative.\n",
    "\n",
    "Nella seguente figura, i punti rappresentano le cinque coppie di saturazioni\n",
    "fattoriali non ruotate (una per ciascun fattore):"
   ]
  },
  {
   "cell_type": "code",
   "execution_count": 11,
   "id": "78e144bb",
   "metadata": {
    "vscode": {
     "languageId": "r"
    }
   },
   "outputs": [
    {
     "data": {
      "image/png": "[encoded data removed]",
      "text/plain": [
       "plot without title"
      ]
     },
     "metadata": {
      "image/png": {
       "height": 360,
       "width": 360
      }
     },
     "output_type": "display_data"
    }
   ],
   "source": [
    "plot(\n",
    "  f.pc$load[, 1], f.pc$load[, 2],\n",
    "  bty = \"n\", xaxt = \"n\",\n",
    "  xlab = \"Primo Fattore\", ylab = \"Secondo Fattore\",\n",
    "  ylim = c(-.6, 1), xlim = c(0, 1), pch = 19, asp = 1\n",
    ")\n",
    "axis(1, pos = c(0, 0))\n",
    "abline(0, 0)\n"
   ]
  },
  {
   "attachments": {},
   "cell_type": "markdown",
   "id": "4de192b5",
   "metadata": {},
   "source": [
    "{cite:t}`rencher10methods` nota che, per questi dati, una rotazione ortogonale di\n",
    "$-35^{\\circ}$ porterebbe gli assi ad avvicinarsi ai punti del\n",
    "diagramma a dispersione. Per verificare questo, disegnamo sul diagramma i nuovi assi\n",
    "dopo una rotazione di $-35^{\\circ}$. Le istruzioni `R` sono le seguenti:"
   ]
  },
  {
   "cell_type": "code",
   "execution_count": 12,
   "id": "d85c292e",
   "metadata": {
    "vscode": {
     "languageId": "r"
    }
   },
   "outputs": [
    {
     "data": {
      "text/html": [
       "<table class=\"dataframe\">\n",
       "<caption>A matrix: 4 × 2 of type dbl</caption>\n",
       "<tbody>\n",
       "\t<tr><td>0.000</td><td> 0.000</td></tr>\n",
       "\t<tr><td>0.574</td><td> 0.819</td></tr>\n",
       "\t<tr><td>0.000</td><td> 0.000</td></tr>\n",
       "\t<tr><td>0.819</td><td>-0.574</td></tr>\n",
       "</tbody>\n",
       "</table>\n"
      ],
      "text/latex": [
       "A matrix: 4 × 2 of type dbl\n",
       "\\begin{tabular}{ll}\n",
       "\t 0.000 &  0.000\\\\\n",
       "\t 0.574 &  0.819\\\\\n",
       "\t 0.000 &  0.000\\\\\n",
       "\t 0.819 & -0.574\\\\\n",
       "\\end{tabular}\n"
      ],
      "text/markdown": [
       "\n",
       "A matrix: 4 × 2 of type dbl\n",
       "\n",
       "| 0.000 |  0.000 |\n",
       "| 0.574 |  0.819 |\n",
       "| 0.000 |  0.000 |\n",
       "| 0.819 | -0.574 |\n",
       "\n"
      ],
      "text/plain": [
       "     [,1]  [,2]  \n",
       "[1,] 0.000  0.000\n",
       "[2,] 0.574  0.819\n",
       "[3,] 0.000  0.000\n",
       "[4,] 0.819 -0.574"
      ]
     },
     "metadata": {},
     "output_type": "display_data"
    },
    {
     "data": {
      "image/png": "[encoded data removed]",
      "text/plain": [
       "plot without title"
      ]
     },
     "metadata": {
      "image/png": {
       "height": 360,
       "width": 360
      }
     },
     "output_type": "display_data"
    }
   ],
   "source": [
    "plot(\n",
    "  f.pc$load[, 1], f.pc$load[, 2],\n",
    "  bty = \"n\", xaxt = \"n\",\n",
    "  xlab = \"Primo Fattore\", ylab = \"Secondo Fattore\",\n",
    "  ylim = c(-.6, 1), xlim = c(0, 1), pch = 19, asp = 1\n",
    ")\n",
    "axis(1, pos = c(0, 0))\n",
    "abline(0, 0)\n",
    "\n",
    "ar <- matrix(c(\n",
    "  0, 0,\n",
    "  0, 1,\n",
    "  0, 0,\n",
    "  1, 0\n",
    "), ncol = 2, byrow = TRUE)\n",
    "\n",
    "angle <- 35\n",
    "rad <- angle * pi / 180\n",
    "T <- matrix(c(\n",
    "  cos(rad), -sin(rad),\n",
    "  sin(rad),  cos(rad)\n",
    "), ncol = 2, byrow = TRUE)\n",
    "\n",
    "round(ar %*% T, 3)\n",
    "\n",
    "arrows(0, 0, 0.574, 0.819, lwd = 2)\n",
    "arrows(0, 0, 0.819, -0.574, lwd = 2)\n"
   ]
  },
  {
   "attachments": {},
   "cell_type": "markdown",
   "id": "a417dbd3",
   "metadata": {},
   "source": [
    "Nella figura, le due frecce rappresentano gli assi ruotati. La rotazione di $-35^{\\circ}$ ha effettivamente avvicinato gli assi ai punti del diagramma. Se usiamo dunque il valore $\\phi = -35^{\\circ}$ nella matrice di rotazione, possiamo\n",
    "calcolare le saturazioni fattoriali della soluzione ruotata\n",
    "$\\hat{\\boldsymbol{\\Lambda}}^* = \\hat{\\boldsymbol{\\Lambda}} \\textbf{T}$.\n",
    "\n",
    "Le saturazioni fattoriali ruotate corrispondono alla proiezione\n",
    "ortogonale dei punti sugli assi ruotati:"
   ]
  },
  {
   "cell_type": "code",
   "execution_count": 13,
   "id": "e585adb0",
   "metadata": {
    "vscode": {
     "languageId": "r"
    }
   },
   "outputs": [
    {
     "data": {
      "text/html": [
       "<table class=\"dataframe\">\n",
       "<caption>A matrix: 5 × 2 of type dbl</caption>\n",
       "<tbody>\n",
       "\t<tr><th scope=row>K</th><td> 0.927</td><td> 0.367</td></tr>\n",
       "\t<tr><th scope=row>I</th><td>-0.037</td><td> 0.959</td></tr>\n",
       "\t<tr><th scope=row>H</th><td> 0.980</td><td>-0.031</td></tr>\n",
       "\t<tr><th scope=row>L</th><td> 0.916</td><td> 0.385</td></tr>\n",
       "\t<tr><th scope=row>J</th><td> 0.194</td><td> 0.950</td></tr>\n",
       "</tbody>\n",
       "</table>\n"
      ],
      "text/latex": [
       "A matrix: 5 × 2 of type dbl\n",
       "\\begin{tabular}{r|ll}\n",
       "\tK &  0.927 &  0.367\\\\\n",
       "\tI & -0.037 &  0.959\\\\\n",
       "\tH &  0.980 & -0.031\\\\\n",
       "\tL &  0.916 &  0.385\\\\\n",
       "\tJ &  0.194 &  0.950\\\\\n",
       "\\end{tabular}\n"
      ],
      "text/markdown": [
       "\n",
       "A matrix: 5 × 2 of type dbl\n",
       "\n",
       "| K |  0.927 |  0.367 |\n",
       "| I | -0.037 |  0.959 |\n",
       "| H |  0.980 | -0.031 |\n",
       "| L |  0.916 |  0.385 |\n",
       "| J |  0.194 |  0.950 |\n",
       "\n"
      ],
      "text/plain": [
       "  [,1]   [,2]  \n",
       "K  0.927  0.367\n",
       "I -0.037  0.959\n",
       "H  0.980 -0.031\n",
       "L  0.916  0.385\n",
       "J  0.194  0.950"
      ]
     },
     "metadata": {},
     "output_type": "display_data"
    }
   ],
   "source": [
    "angle <- -35\n",
    "rad <- angle * pi / 180\n",
    "T <- matrix(c(\n",
    "  cos(rad), -sin(rad),\n",
    "  sin(rad),  cos(rad)\n",
    "), ncol = 2, byrow = TRUE)\n",
    "round(f.pc$load %*% T, 3)\n"
   ]
  },
  {
   "attachments": {},
   "cell_type": "markdown",
   "id": "647864ff",
   "metadata": {},
   "source": [
    "La soluzione ottenuta in questo modo riproduce quanto riportato da\n",
    "{cite:t}`rencher10methods`.\n",
    "\n",
    "\n",
    "### Medodi di rotazione ortogonale\n",
    "\n",
    "Un tipo di rotazione ortogonale spesso utilizzata è la rotazione Varimax\n",
    "(Kaiser, 1958). La matrice $\\hat{\\boldsymbol{\\Lambda}}$ è semplificata\n",
    "in modo tale che le varianze dei quadrati degli elementi $\\lambda_{ij}$\n",
    "appartenenti a colonne diverse di $\\hat{\\boldsymbol{\\Lambda}}$ siano\n",
    "massime. Se le saturazioni fattoriali in una colonna di\n",
    "$\\hat{\\boldsymbol{\\Lambda}}$ sono simili tra loro, la varianza sarà\n",
    "prossima a zero. Tale varianza è tanto più grande quanto più i quadrati\n",
    "degli elementi $\\lambda_{ij}$ assumono valori prossimi a $0$ e $1$.\n",
    "Amplificando le correlazioni più alte e riducendo quelle più basse, la\n",
    "rotazione Varimax agevola l'interpretazione di ciascun fattore.\n",
    "\n",
    "Usando la funzione `factanal()` del modulo R base, la rotazione Varimax\n",
    "può essere applicata alla soluzione ottenuta mediante il metodo di\n",
    "massima verosimiglianza. Usando le funzioni `principal()` e\n",
    "`factor.pa()` disponibili nel pacchetto `psych`, la rotazione Varimax\n",
    "può essere applicata alle soluzioni ottenute mediante il metodo delle\n",
    "componenti principali e il metodo del fattore principale. \n",
    "\n",
    "Ad esempio, usando il metodo delle componenti principali otteniamo:"
   ]
  },
  {
   "cell_type": "code",
   "execution_count": 14,
   "id": "2f154cdc",
   "metadata": {
    "vscode": {
     "languageId": "r"
    }
   },
   "outputs": [
    {
     "data": {
      "text/plain": [
       "Principal Components Analysis\n",
       "Call: principal(r = R, nfactors = 2, rotate = \"varimax\", n.obs = 7)\n",
       "Standardized loadings (pattern matrix) based upon correlation matrix\n",
       "   RC1   RC2   h2     u2 com\n",
       "K 0.95  0.30 0.99 0.0067 1.2\n",
       "I 0.03  0.96 0.92 0.0792 1.0\n",
       "H 0.97 -0.10 0.96 0.0391 1.0\n",
       "L 0.94  0.32 0.99 0.0135 1.2\n",
       "J 0.26  0.93 0.94 0.0597 1.2\n",
       "\n",
       "                       RC1  RC2\n",
       "SS loadings           2.81 1.99\n",
       "Proportion Var        0.56 0.40\n",
       "Cumulative Var        0.56 0.96\n",
       "Proportion Explained  0.58 0.42\n",
       "Cumulative Proportion 0.58 1.00\n",
       "\n",
       "Mean item complexity =  1.1\n",
       "Test of the hypothesis that 2 components are sufficient.\n",
       "\n",
       "The root mean square of the residuals (RMSR) is  0.03 \n",
       " with the empirical chi square  0.12  with prob <  0.73 \n",
       "\n",
       "Fit based upon off diagonal values = 1"
      ]
     },
     "metadata": {},
     "output_type": "display_data"
    }
   ],
   "source": [
    "f_pc <- principal(R, 2, n.obs = 7, rotate = \"varimax\")\n",
    "f_pc"
   ]
  },
  {
   "attachments": {},
   "cell_type": "markdown",
   "id": "d6f59f1d",
   "metadata": {},
   "source": [
    "Un altro metodo di rotazione ortogonale è il metodo Quartimax (Neuhaus e Wringley, 1954), il quale opera una semplificazione della matrice $\\hat{\\boldsymbol{\\Lambda}}$ massimizzando le covarianze tra i quadrati degli elementi $\\lambda_{ij}$ appartenenti a righe diverse, subordinatamente alla condizione che la varianza delle righe\n",
    "rimanga inalterata.\n",
    "\n",
    "### Metodi di rotazione obliqua\n",
    "\n",
    "Il termine “rotazione obliqua” è improprio poiché una rotazione implica una trasformazione ortogonale che preserva le distanze. Secondo {cite:t}`rencher10methods`, un termine più appropriato sarebbe “trasformazione obliqua”. Tuttavia, il termine “rotazione obliqua” è di uso comune.\n",
    "\n",
    "Nella rotazione obliqua, gli assi della soluzione ruotata non devono rimanere ortogonali e quindi possono avvicinarsi più facilmente ai raggruppamenti di punti nello spazio delle saturazioni fattoriali (se esistono). Esistono vari metodi analitici per ottenere una rotazione obliqua. Per esempio, nel metodo Direct Oblimin (Jennrich e Sampson, 1966), il criterio usato è\n",
    "il seguente:\n",
    "\n",
    "$$\n",
    "\\sum_{ij} \\left(\\sum_v \\lambda_i^2 \\lambda_j^2 - w \\frac{1}{p} \\sum_v \\lambda_i^2\n",
    "\\sum_v \\lambda_j^2\\right)\n",
    "$$ \n",
    "\n",
    "dove $\\sum_{ij}$ si riferisce alla somma su tutte le coppie di fattori $ij$. In questo caso si procede ad una minimizzazione piuttosto che a una masssimizzazione."
   ]
  },
  {
   "attachments": {},
   "cell_type": "markdown",
   "id": "51af9e2b",
   "metadata": {},
   "source": [
    "## Matrice dei pesi fattoriali e matrice di struttura\n",
    "\n",
    "Nella rotazione ortogonale i fattori sono incorrelati. Si consideri la situazione presentata nella figura successiva, con due variabili latenti incorrelate\n",
    "($\\xi_1$ e $\\xi_2$) e quattro variabili manifeste ($y_1$, $y_2$, $y_3$,\n",
    "$y_4$). Siano $\\lambda_{11}$, $\\lambda_{12}$, $\\lambda_{13}$ e\n",
    "$\\lambda_{14}$ le saturazioni fattoriali delle variabili nel primo\n",
    "fattore; siano $\\lambda_{21}$, $\\lambda_{22}$, $\\lambda_{23}$ e\n",
    "$\\lambda_{24}$ le saturazioni fattoriali delle variabili nel secondo\n",
    "fattore.\n",
    "\n",
    "```{figure} images/rot_4.png\n",
    "---\n",
    "height: 300px\n",
    "name: orto-rot-fig\n",
    "---\n",
    "Rotazione ortogonale.\n",
    "```"
   ]
  },
  {
   "attachments": {},
   "cell_type": "markdown",
   "id": "e0ac8fe9",
   "metadata": {},
   "source": [
    "In un diagramma di percorso, la correlazione tra due variabili è uguale alla somma dei valori numerici di tutti i percorsi legittimi che le collegano. Se i fattori comuni sono incorrelati, c’è un unico percorso legittimo che collega ciascuna variabile manifesta a ciascun fattore comune in base alle regole di Wright. Le correlazioni tra variabili manifeste e fattori comuni sono quindi uguali alle saturazioni fattoriali. Nel caso di fattori comuni incorrelati, dunque, la matrice delle saturazioni fattoriali descrive le correlazioni tra variabili e fattori. Le saturazioni fattoriali possono essere interpretate come i pesi beta del modello di regressione multipla, ovvero come la stima del contributo specifico di ciascun fattore comune nella determinazione della varianza spiegata degli item (Tabachnick & Fidell, 2001).\n",
    "\n",
    "Nel caso della rotazione obliqua, la soluzione fattoriale ruotata produce un insieme di fattori comuni correlati tra loro. Di conseguenza, la matrice delle saturazioni fattoriali non descrive le correlazioni tra variabili e fattori. In un diagramma di percorso ci sono almeno due percorsi legittimi che collegano ciascuna variabile manifesta a ciascun fattore comune in base alle regole di Wright. Nel caso di una rotazione obliqua è quindi necessario specificare tre diverse matrici:\n",
    "\n",
    "-   la matrice delle saturazioni fattoriali, $\\hat{\\boldsymbol{\\Lambda}}$, detta\n",
    "    *matrice pattern* (*factor pattern matrix*, o \"configurazione,\" o\n",
    "    \"matrice dei modelli\");\n",
    "-   la matrice delle correlazioni tra variabili manifeste e fattori, detta *matrice di struttura* (*factor structure matrix*);\n",
    "-   la  matrice che esprime le correlazioni tra i fattori, $\\hat{\\boldsymbol{\\Phi}}$, detta *matrice di intercorrelazione fattoriale*.\n",
    "\n",
    "In questo caso, la matrice pattern rappresenta l'analogo dei coefficienti parziali di regressione della variabile sul fattore, al netto degli altri fattori. Nel caso\n",
    "della rotazione obliqua, è la matrice che viene usata per determinare in\n",
    "che grado è stata raggiunta la \"struttura semplice\".\n",
    "\n",
    "Esaminiamo in dettaglio la soluzione fattoriale prodotta da una rotazione obliqua. In questo caso, gli assi che rappresentano i fattori non sono ortogonali (ovvero, i fattori sono correlati) e, in un diagramma di percorso, le variabili manifeste sono collegate ai fattori attraverso due tipi distinti di percorsi che rappresentano l'effetto \"diretto\" e \"indiretto\" dei fattori sulle variabili. Nel caso di una rotazione obliqua, le saturazioni fattoriali non coincidono con le correlazioni tra variabili e fattori. Si consideri la figura \\@ref(fig:fact-rot5). Nel caso di una rotazione obliqua, la correlazione tra i due fattori comuni viene rappresentata mediante la freccia non direzionata $\\phi_{12}$ che collega $\\xi_1$ e $\\xi_2$. Nel diagramma di percorso della figura successiva ci sono due percorsi legittimi che, in base alle regole di Wright, consentono di collegare ciascuna variabile manifesta a un fattore comune.\n",
    "\n",
    "Ad esempio, per la variabile $y_1$ e il fattore $\\xi_1$, i percorsi sono: la freccia causale $\\lambda_{11}$ che rappresenta l'effetto diretto di $\\xi_1$ su $y_1$ e il percorso composto che rappresenta l'effetto indiretto di $\\xi_1$ su $y_1$, il cui valore numerico è uguale al prodotto $\\lambda_{21}\\phi_{12}$. Nell'analisi dei percorsi, la correlazione tra $\\xi_1$ e $y_1$ è uguale alla somma dei valori numerici dei percorsi legittimi che collegano $y_1$ a $\\xi_1$, ovvero $\\lambda_{11} + \\lambda_{21} \\phi_{12}$.\n",
    "\n",
    "```{figure} images/rot_5.png\n",
    "---\n",
    "height: 300px\n",
    "name: obl-rot-fig\n",
    "---\n",
    "Rotazione obliqua.\n",
    "```"
   ]
  },
  {
   "attachments": {},
   "cell_type": "markdown",
   "id": "3200ee6e",
   "metadata": {},
   "source": [
    "Per illustrare la rotazione obliqua, utilizziamo i dati discussi da\n",
    "{cite:t}`rencher10methods`. Si consideri la matrice di correlazione presentata qui sotto."
   ]
  },
  {
   "cell_type": "code",
   "execution_count": 15,
   "id": "3a4d2c34",
   "metadata": {
    "vscode": {
     "languageId": "r"
    }
   },
   "outputs": [
    {
     "data": {
      "text/html": [
       "<table class=\"dataframe\">\n",
       "<caption>A matrix: 4 × 4 of type dbl</caption>\n",
       "<tbody>\n",
       "\t<tr><td>1.000</td><td>0.735</td><td>0.711</td><td>0.704</td></tr>\n",
       "\t<tr><td>0.735</td><td>1.000</td><td>0.693</td><td>0.709</td></tr>\n",
       "\t<tr><td>0.711</td><td>0.693</td><td>1.000</td><td>0.839</td></tr>\n",
       "\t<tr><td>0.704</td><td>0.709</td><td>0.839</td><td>1.000</td></tr>\n",
       "</tbody>\n",
       "</table>\n"
      ],
      "text/latex": [
       "A matrix: 4 × 4 of type dbl\n",
       "\\begin{tabular}{llll}\n",
       "\t 1.000 & 0.735 & 0.711 & 0.704\\\\\n",
       "\t 0.735 & 1.000 & 0.693 & 0.709\\\\\n",
       "\t 0.711 & 0.693 & 1.000 & 0.839\\\\\n",
       "\t 0.704 & 0.709 & 0.839 & 1.000\\\\\n",
       "\\end{tabular}\n"
      ],
      "text/markdown": [
       "\n",
       "A matrix: 4 × 4 of type dbl\n",
       "\n",
       "| 1.000 | 0.735 | 0.711 | 0.704 |\n",
       "| 0.735 | 1.000 | 0.693 | 0.709 |\n",
       "| 0.711 | 0.693 | 1.000 | 0.839 |\n",
       "| 0.704 | 0.709 | 0.839 | 1.000 |\n",
       "\n"
      ],
      "text/plain": [
       "     [,1]  [,2]  [,3]  [,4] \n",
       "[1,] 1.000 0.735 0.711 0.704\n",
       "[2,] 0.735 1.000 0.693 0.709\n",
       "[3,] 0.711 0.693 1.000 0.839\n",
       "[4,] 0.704 0.709 0.839 1.000"
      ]
     },
     "metadata": {},
     "output_type": "display_data"
    }
   ],
   "source": [
    "R <- matrix(\n",
    "  c(\n",
    "    1.00,  0.735, 0.711, 0.704,\n",
    "    0.735, 1.00,  0.693, 0.709,\n",
    "    0.711, 0.693, 1.00,  0.839,\n",
    "    0.704, 0.709, 0.839, 1.00\n",
    "  ),\n",
    "  ncol = 4,\n",
    "  byrow = TRUE\n",
    ")\n",
    "R\n"
   ]
  },
  {
   "attachments": {},
   "cell_type": "markdown",
   "id": "f4b25085",
   "metadata": {},
   "source": [
    "Iniziamo calcolando la soluzione a due fattori mediante il metodo delle\n",
    "componenti principali e una rotazione Varimax (ovvero, ortogonale). Otteniamo le seguenti saturazioni fattoriali."
   ]
  },
  {
   "cell_type": "code",
   "execution_count": 16,
   "id": "6c6c327c",
   "metadata": {
    "vscode": {
     "languageId": "r"
    }
   },
   "outputs": [
    {
     "data": {
      "text/plain": [
       "Principal Components Analysis\n",
       "Call: principal(r = R, nfactors = 2, rotate = \"varimax\")\n",
       "Standardized loadings (pattern matrix) based upon correlation matrix\n",
       "   RC1  RC2   h2    u2 com\n",
       "1 0.50 0.78 0.86 0.140 1.7\n",
       "2 0.47 0.81 0.88 0.124 1.6\n",
       "3 0.90 0.33 0.92 0.078 1.3\n",
       "4 0.89 0.35 0.92 0.083 1.3\n",
       "\n",
       "                       RC1  RC2\n",
       "SS loadings           2.08 1.50\n",
       "Proportion Var        0.52 0.37\n",
       "Cumulative Var        0.52 0.89\n",
       "Proportion Explained  0.58 0.42\n",
       "Cumulative Proportion 0.58 1.00\n",
       "\n",
       "Mean item complexity =  1.5\n",
       "Test of the hypothesis that 2 components are sufficient.\n",
       "\n",
       "The root mean square of the residuals (RMSR) is  0.06 \n",
       "\n",
       "Fit based upon off diagonal values = 0.99"
      ]
     },
     "metadata": {},
     "output_type": "display_data"
    }
   ],
   "source": [
    "f1_pc <- principal(R, 2, rotate = \"varimax\") \n",
    "f1_pc"
   ]
  },
  {
   "attachments": {},
   "cell_type": "markdown",
   "id": "5f1f2e24",
   "metadata": {},
   "source": [
    "Si noti che i due fattori non sono molto distinti. Consideriamo dunque la soluzione  prodotta da una rotazione obliqua. Usiamo qui l'algoritmo Oblimin."
   ]
  },
  {
   "cell_type": "code",
   "execution_count": 17,
   "id": "1a6653c9",
   "metadata": {
    "vscode": {
     "languageId": "r"
    }
   },
   "outputs": [
    {
     "name": "stderr",
     "output_type": "stream",
     "text": [
      "Loading required namespace: GPArotation\n",
      "\n"
     ]
    }
   ],
   "source": [
    "pr_oblimin <- principal(R, 2, rotate = \"oblimin\")"
   ]
  },
  {
   "attachments": {},
   "cell_type": "markdown",
   "id": "0b8562f1",
   "metadata": {},
   "source": [
    "La matrice $\\hat{\\boldsymbol{\\Lambda}}$ delle saturazioni fattoriali si ricava come indicato di seguito."
   ]
  },
  {
   "cell_type": "code",
   "execution_count": 18,
   "id": "0eafd0fa",
   "metadata": {
    "vscode": {
     "languageId": "r"
    }
   },
   "outputs": [
    {
     "data": {
      "text/html": [
       "<table class=\"dataframe\">\n",
       "<caption>A matrix: 4 × 2 of type dbl</caption>\n",
       "<tbody>\n",
       "\t<tr><td> 0.03206780</td><td> 0.90186261</td></tr>\n",
       "\t<tr><td>-0.02543116</td><td> 0.95556536</td></tr>\n",
       "\t<tr><td> 0.96858605</td><td>-0.01096737</td></tr>\n",
       "\t<tr><td> 0.94726778</td><td> 0.01327683</td></tr>\n",
       "</tbody>\n",
       "</table>\n"
      ],
      "text/latex": [
       "A matrix: 4 × 2 of type dbl\n",
       "\\begin{tabular}{ll}\n",
       "\t  0.03206780 &  0.90186261\\\\\n",
       "\t -0.02543116 &  0.95556536\\\\\n",
       "\t  0.96858605 & -0.01096737\\\\\n",
       "\t  0.94726778 &  0.01327683\\\\\n",
       "\\end{tabular}\n"
      ],
      "text/markdown": [
       "\n",
       "A matrix: 4 × 2 of type dbl\n",
       "\n",
       "|  0.03206780 |  0.90186261 |\n",
       "| -0.02543116 |  0.95556536 |\n",
       "|  0.96858605 | -0.01096737 |\n",
       "|  0.94726778 |  0.01327683 |\n",
       "\n"
      ],
      "text/plain": [
       "     [,1]        [,2]       \n",
       "[1,]  0.03206780  0.90186261\n",
       "[2,] -0.02543116  0.95556536\n",
       "[3,]  0.96858605 -0.01096737\n",
       "[4,]  0.94726778  0.01327683"
      ]
     },
     "metadata": {},
     "output_type": "display_data"
    }
   ],
   "source": [
    "cbind(pr_oblimin$load[, 1], pr_oblimin$load[, 2])"
   ]
  },
  {
   "attachments": {},
   "cell_type": "markdown",
   "id": "9964ffce",
   "metadata": {},
   "source": [
    "La matrice $\\hat{\\boldsymbol{\\Phi}}$ di inter-correlazione fattoriale è la seguente."
   ]
  },
  {
   "cell_type": "code",
   "execution_count": 19,
   "id": "b7c77120",
   "metadata": {
    "vscode": {
     "languageId": "r"
    }
   },
   "outputs": [
    {
     "data": {
      "text/html": [
       "<table class=\"dataframe\">\n",
       "<caption>A matrix: 2 × 2 of type dbl</caption>\n",
       "<thead>\n",
       "\t<tr><th></th><th scope=col>TC1</th><th scope=col>TC2</th></tr>\n",
       "</thead>\n",
       "<tbody>\n",
       "\t<tr><th scope=row>TC1</th><td>1.0000000</td><td>0.7869776</td></tr>\n",
       "\t<tr><th scope=row>TC2</th><td>0.7869776</td><td>1.0000000</td></tr>\n",
       "</tbody>\n",
       "</table>\n"
      ],
      "text/latex": [
       "A matrix: 2 × 2 of type dbl\n",
       "\\begin{tabular}{r|ll}\n",
       "  & TC1 & TC2\\\\\n",
       "\\hline\n",
       "\tTC1 & 1.0000000 & 0.7869776\\\\\n",
       "\tTC2 & 0.7869776 & 1.0000000\\\\\n",
       "\\end{tabular}\n"
      ],
      "text/markdown": [
       "\n",
       "A matrix: 2 × 2 of type dbl\n",
       "\n",
       "| <!--/--> | TC1 | TC2 |\n",
       "|---|---|---|\n",
       "| TC1 | 1.0000000 | 0.7869776 |\n",
       "| TC2 | 0.7869776 | 1.0000000 |\n",
       "\n"
      ],
      "text/plain": [
       "    TC1       TC2      \n",
       "TC1 1.0000000 0.7869776\n",
       "TC2 0.7869776 1.0000000"
      ]
     },
     "metadata": {},
     "output_type": "display_data"
    }
   ],
   "source": [
    "pr_oblimin$Phi"
   ]
  },
  {
   "attachments": {},
   "cell_type": "markdown",
   "id": "60b37bec",
   "metadata": {},
   "source": [
    "La matrice di struttura, che riporta le correlazioni tra indicatori e fattori comuni, si ottiene pre-moltiplicando la matrice $\\boldsymbol{\\Lambda}$ delle saturazioni fattoriali alla matrice $\\boldsymbol{\\Phi}$ di inter-correlazione fattoriale.\n",
    "\n",
    "$$\n",
    "\\text{matrice di struttura} = \\boldsymbol{\\Lambda}\\boldsymbol{\\Phi}.\n",
    "$$\n",
    "\n",
    "Per esempio, la correlazione tra la prima variabile manifesta e il primo fattore si ottiene nel modo seguente."
   ]
  },
  {
   "cell_type": "code",
   "execution_count": 20,
   "id": "9f82b2dd",
   "metadata": {
    "vscode": {
     "languageId": "r"
    }
   },
   "outputs": [
    {
     "data": {
      "text/html": [
       "<strong>TC1:</strong> 0.741813471502873"
      ],
      "text/latex": [
       "\\textbf{TC1:} 0.741813471502873"
      ],
      "text/markdown": [
       "**TC1:** 0.741813471502873"
      ],
      "text/plain": [
       "      TC1 \n",
       "0.7418135 "
      ]
     },
     "metadata": {},
     "output_type": "display_data"
    }
   ],
   "source": [
    "pr_oblimin$load[1, 1] + pr_oblimin$load[1, 2] * pr_oblimin$Phi[2, 1]"
   ]
  },
  {
   "attachments": {},
   "cell_type": "markdown",
   "id": "d51991c0",
   "metadata": {},
   "source": [
    "L'intera matrice di struttura si può trovare eseguendo la moltiplicazione  $\\boldsymbol{\\Lambda}\\boldsymbol{\\Phi}$."
   ]
  },
  {
   "cell_type": "code",
   "execution_count": 21,
   "id": "a8b899a8",
   "metadata": {
    "vscode": {
     "languageId": "r"
    }
   },
   "outputs": [
    {
     "data": {
      "text/html": [
       "<table class=\"dataframe\">\n",
       "<caption>A matrix: 4 × 2 of type dbl</caption>\n",
       "<thead>\n",
       "\t<tr><th scope=col>TC1</th><th scope=col>TC2</th></tr>\n",
       "</thead>\n",
       "<tbody>\n",
       "\t<tr><td>0.742</td><td>0.927</td></tr>\n",
       "\t<tr><td>0.727</td><td>0.936</td></tr>\n",
       "\t<tr><td>0.960</td><td>0.751</td></tr>\n",
       "\t<tr><td>0.958</td><td>0.759</td></tr>\n",
       "</tbody>\n",
       "</table>\n"
      ],
      "text/latex": [
       "A matrix: 4 × 2 of type dbl\n",
       "\\begin{tabular}{ll}\n",
       " TC1 & TC2\\\\\n",
       "\\hline\n",
       "\t 0.742 & 0.927\\\\\n",
       "\t 0.727 & 0.936\\\\\n",
       "\t 0.960 & 0.751\\\\\n",
       "\t 0.958 & 0.759\\\\\n",
       "\\end{tabular}\n"
      ],
      "text/markdown": [
       "\n",
       "A matrix: 4 × 2 of type dbl\n",
       "\n",
       "| TC1 | TC2 |\n",
       "|---|---|\n",
       "| 0.742 | 0.927 |\n",
       "| 0.727 | 0.936 |\n",
       "| 0.960 | 0.751 |\n",
       "| 0.958 | 0.759 |\n",
       "\n"
      ],
      "text/plain": [
       "     TC1   TC2  \n",
       "[1,] 0.742 0.927\n",
       "[2,] 0.727 0.936\n",
       "[3,] 0.960 0.751\n",
       "[4,] 0.958 0.759"
      ]
     },
     "metadata": {},
     "output_type": "display_data"
    }
   ],
   "source": [
    "pr_oblimin$load %*% pr_oblimin$Phi %>% \n",
    "  round(3)"
   ]
  },
  {
   "attachments": {},
   "cell_type": "markdown",
   "id": "4b315fd1",
   "metadata": {},
   "source": [
    "## Esempio con `semTools`\n",
    "\n",
    "Presento qui un esempio di uso di vari metodi di estrazione fattoriale. Tra tali  metodi, la rotazione obliqua Geomin è molto popolare ed è il default di M-Plus. \n",
    "\n",
    "Iniziamo a caricare il pacchetto `semTools`."
   ]
  },
  {
   "cell_type": "code",
   "execution_count": 22,
   "id": "afc5c573",
   "metadata": {
    "vscode": {
     "languageId": "r"
    }
   },
   "outputs": [],
   "source": [
    "suppressPackageStartupMessages(library(\"semTools\")) "
   ]
  },
  {
   "attachments": {},
   "cell_type": "markdown",
   "id": "a79c92f7",
   "metadata": {},
   "source": [
    "Eseguiamo l'analisi fattoriale esplorativa del classico set di dati di Holzinger e Swineford (1939) il quale è costituito dai punteggi dei test di abilità mentale di bambini di seconda e terza media di due scuole diverse (Pasteur e Grant-White). Nel set di dati originale (disponibile nel pacchetto `MBESS`), sono forniti i punteggi di 26 test. Tuttavia, un sottoinsieme più piccolo con 9 variabili è più ampiamente utilizzato in letteratura. Questi sono i dati qui usati. \n",
    "\n",
    "Nel presente esempio, verrà eseguita l'analisi fattoriale esplorativa con l'estrazione di tre fattori. Il metodo di estrazione è `mlr`:\n",
    "\n",
    "> maximum likelihood estimation with robust (Huber-White) standard errors and a scaled test statistic that is (asymptotically) equal to the Yuan-Bentler test statistic. For both complete and incomplete data.\n",
    "\n",
    "La soluzione iniziale non è ruotata. "
   ]
  },
  {
   "cell_type": "code",
   "execution_count": 23,
   "id": "9bce9e3a",
   "metadata": {
    "vscode": {
     "languageId": "r"
    }
   },
   "outputs": [
    {
     "name": "stderr",
     "output_type": "stream",
     "text": [
      "Warning message:\n",
      "“The efaUnrotate function is deprecated, and it will cease to be included in future versions of semTools. The lavaan package itself now provides support EFA. See help('semTools-deprecated) for details.”\n"
     ]
    },
    {
     "name": "stdout",
     "output_type": "stream",
     "text": [
      "lavaan 0.6.15 ended normally after 206 iterations\n",
      "\n",
      "  Estimator                                         ML\n",
      "  Optimization method                           NLMINB\n",
      "  Number of model parameters                        36\n",
      "\n",
      "  Number of observations                           301\n",
      "\n",
      "Model Test User Model:\n",
      "                                              Standard      Scaled\n",
      "  Test Statistic                                22.897      23.864\n",
      "  Degrees of freedom                                12          12\n",
      "  P-value (Chi-square)                           0.029       0.021\n",
      "  Scaling correction factor                                  0.959\n",
      "    Yuan-Bentler correction (Mplus variant)                       \n",
      "\n",
      "Parameter Estimates:\n",
      "\n",
      "  Standard errors                             Sandwich\n",
      "  Information bread                           Observed\n",
      "  Observed information based on                Hessian\n",
      "\n",
      "Latent Variables:\n",
      "                   Estimate  Std.Err  z-value  P(>|z|)\n",
      "  factor1 =~                                          \n",
      "    x1      (l1_1)    0.653    0.083    7.909    0.000\n",
      "    x2      (l2_1)    0.353    0.079    4.481    0.000\n",
      "    x3      (l3_1)    0.415    0.086    4.832    0.000\n",
      "    x4      (l4_1)    0.926    0.067   13.762    0.000\n",
      "    x5      (l5_1)    1.014    0.067   15.176    0.000\n",
      "    x6      (l6_1)    0.868    0.062   13.887    0.000\n",
      "    x7      (l7_1)    0.283    0.091    3.113    0.002\n",
      "    x8      (l8_1)    0.340    0.083    4.096    0.000\n",
      "    x9      (l9_1)    0.460    0.078    5.881    0.000\n",
      "  factor2 =~                                          \n",
      "    x1      (l1_2)    0.349    0.124    2.814    0.005\n",
      "    x2      (l2_2)    0.242    0.159    1.523    0.128\n",
      "    x3      (l3_2)    0.497    0.132    3.766    0.000\n",
      "    x4      (l4_2)   -0.337    0.067   -5.058    0.000\n",
      "    x5      (l5_2)   -0.461    0.077   -6.008    0.000\n",
      "    x6      (l6_2)   -0.280    0.057   -4.908    0.000\n",
      "    x7      (l7_2)    0.372    0.188    1.977    0.048\n",
      "    x8      (l8_2)    0.510    0.133    3.831    0.000\n",
      "    x9      (l9_2)    0.489    0.066    7.416    0.000\n",
      "  factor3 =~                                          \n",
      "    x1      (l1_3)   -0.338    0.103   -3.276    0.001\n",
      "    x2      (l2_3)   -0.405    0.092   -4.401    0.000\n",
      "    x3      (l3_3)   -0.404    0.120   -3.355    0.001\n",
      "    x4      (l4_3)    0.049    0.098    0.503    0.615\n",
      "    x5      (l5_3)    0.122    0.105    1.154    0.248\n",
      "    x6      (l6_3)   -0.000    0.076   -0.002    0.998\n",
      "    x7      (l7_3)    0.609    0.125    4.863    0.000\n",
      "    x8      (l8_3)    0.409    0.143    2.853    0.004\n",
      "    x9      (l9_3)    0.112    0.123    0.915    0.360\n",
      "\n",
      "Covariances:\n",
      "                   Estimate  Std.Err  z-value  P(>|z|)\n",
      "  factor1 ~~                                          \n",
      "    factor2           0.000                           \n",
      "    factor3           0.000                           \n",
      "  factor2 ~~                                          \n",
      "    factor3           0.000                           \n",
      "\n",
      "Variances:\n",
      "                   Estimate  Std.Err  z-value  P(>|z|)\n",
      "    factor1           1.000                           \n",
      "    factor2           1.000                           \n",
      "    factor3           1.000                           \n",
      "   .x1                0.696    0.113    6.184    0.000\n",
      "   .x2                1.035    0.106    9.803    0.000\n",
      "   .x3                0.692    0.097    7.132    0.000\n",
      "   .x4                0.377    0.053    7.170    0.000\n",
      "   .x5                0.403    0.064    6.303    0.000\n",
      "   .x6                0.365    0.046    7.984    0.000\n",
      "   .x7                0.594    0.148    4.014    0.000\n",
      "   .x8                0.479    0.099    4.842    0.000\n",
      "   .x9                0.551    0.065    8.518    0.000\n",
      "\n",
      "Constraints:\n",
      "                                               |Slack|\n",
      "    0-(1_2*1_1+2_2*2_1+3_2*3_1+4_2*4_1+5_2*5_    0.000\n",
      "    0-(1_3*1_1+2_3*2_1+3_3*3_1+4_3*4_1+5_3*5_    0.000\n",
      "    0-(1_3*1_2+2_3*2_2+3_3*3_2+4_3*4_2+5_3*5_    0.000\n",
      "\n"
     ]
    }
   ],
   "source": [
    "unrotated <- efaUnrotate(HolzingerSwineford1939, nf = 3, varList = paste0(\"x\", 1:9), estimator = \"mlr\")\n",
    "out <- summary(unrotated)\n",
    "print(out)\n"
   ]
  },
  {
   "attachments": {},
   "cell_type": "markdown",
   "id": "57881716",
   "metadata": {},
   "source": [
    "Si noti che, in assenza di rotazione, è impossibile assegnare un significato ai fattori comuni.\n",
    "\n",
    "### Orthogonal varimax\n",
    "\n",
    "Utilizziamo ora la rotazione ortogonale Varimax."
   ]
  },
  {
   "cell_type": "code",
   "execution_count": 24,
   "id": "f2621067",
   "metadata": {
    "vscode": {
     "languageId": "r"
    }
   },
   "outputs": [
    {
     "name": "stderr",
     "output_type": "stream",
     "text": [
      "Warning message:\n",
      "“The orthRotate function is deprecated, and it will cease to be included in future versions of semTools. The lavaan package itself now provides support EFA. See help('semTools-deprecated) for details.”\n"
     ]
    },
    {
     "name": "stdout",
     "output_type": "stream",
     "text": [
      "Standardized Rotated Factor Loadings\n"
     ]
    },
    {
     "name": "stderr",
     "output_type": "stream",
     "text": [
      "Warning message in testLoadings(object):\n",
      "“The standard error is currently invalid because it does not account for the variance of the rotation function. It is simply based on the delta method.”\n"
     ]
    },
    {
     "name": "stdout",
     "output_type": "stream",
     "text": [
      "   factor1 factor2 factor3\n",
      "x1  0.320*  0.607*        \n",
      "x2          0.481*        \n",
      "x3          0.662*        \n",
      "x4  0.838*                \n",
      "x5  0.867*                \n",
      "x6  0.815*                \n",
      "x7                  0.695*\n",
      "x8                  0.704*\n",
      "x9          0.409*  0.511*\n",
      "\n",
      "Factor Correlation\n",
      "        factor1 factor2 factor3\n",
      "factor1       1       0       0\n",
      "factor2       0       1       0\n",
      "factor3       0       0       1\n",
      "\n",
      "Method of rotation:\tvarimax \n",
      "\n",
      "Test Statistics for Standardized Rotated Factor Loadings\n"
     ]
    },
    {
     "name": "stderr",
     "output_type": "stream",
     "text": [
      "Warning message in testLoadings(object):\n",
      "“The standard error is currently invalid because it does not account for the variance of the rotation function. It is simply based on the delta method.”\n"
     ]
    },
    {
     "name": "stdout",
     "output_type": "stream",
     "text": [
      "       lhs op rhs std.loading    se      z     p ci.lower ci.upper\n",
      "1  factor1 =~  x1       0.320 0.055  5.799 0.000    0.212    0.428\n",
      "2  factor1 =~  x2       0.135 0.063  2.151 0.031    0.012    0.259\n",
      "3  factor1 =~  x3       0.080 0.049  1.622 0.105   -0.017    0.176\n",
      "4  factor1 =~  x4       0.838 0.028 30.193 0.000    0.784    0.892\n",
      "5  factor1 =~  x5       0.867 0.024 36.189 0.000    0.820    0.914\n",
      "6  factor1 =~  x6       0.815 0.024 33.939 0.000    0.768    0.862\n",
      "7  factor1 =~  x7       0.102 0.049  2.058 0.040    0.005    0.199\n",
      "8  factor1 =~  x8       0.078 0.048  1.617 0.106   -0.016    0.172\n",
      "9  factor1 =~  x9       0.170 0.053  3.222 0.001    0.067    0.273\n",
      "10 factor2 =~  x1       0.607 0.075  8.138 0.000    0.461    0.753\n",
      "11 factor2 =~  x2       0.481 0.067  7.184 0.000    0.350    0.612\n",
      "12 factor2 =~  x3       0.662 0.058 11.499 0.000    0.549    0.775\n",
      "13 factor2 =~  x4       0.113 0.043  2.615 0.009    0.028    0.198\n",
      "14 factor2 =~  x5       0.032 0.040  0.802 0.422   -0.047    0.111\n",
      "15 factor2 =~  x6       0.162 0.042  3.855 0.000    0.079    0.244\n",
      "16 factor2 =~  x7      -0.062 0.047 -1.341 0.180   -0.154    0.029\n",
      "17 factor2 =~  x8       0.174 0.082  2.117 0.034    0.013    0.336\n",
      "18 factor2 =~  x9       0.409 0.079  5.173 0.000    0.254    0.564\n",
      "19 factor3 =~  x1       0.130 0.066  1.978 0.048    0.001    0.259\n",
      "20 factor3 =~  x2      -0.041 0.071 -0.578 0.563   -0.179    0.098\n",
      "21 factor3 =~  x3       0.113 0.049  2.324 0.020    0.018    0.209\n",
      "22 factor3 =~  x4       0.077 0.040  1.916 0.055   -0.002    0.155\n",
      "23 factor3 =~  x5       0.070 0.042  1.669 0.095   -0.012    0.153\n",
      "24 factor3 =~  x6       0.066 0.038  1.715 0.086   -0.009    0.141\n",
      "25 factor3 =~  x7       0.695 0.092  7.591 0.000    0.516    0.875\n",
      "26 factor3 =~  x8       0.704 0.083  8.520 0.000    0.542    0.865\n",
      "27 factor3 =~  x9       0.511 0.065  7.885 0.000    0.384    0.638\n"
     ]
    },
    {
     "name": "stdout",
     "output_type": "stream",
     "text": [
      "       lhs op rhs std.loading    se      z     p ci.lower ci.upper\n",
      "1  factor1 =~  x1       0.320 0.055  5.799 0.000    0.212    0.428\n",
      "2  factor1 =~  x2       0.135 0.063  2.151 0.031    0.012    0.259\n",
      "3  factor1 =~  x3       0.080 0.049  1.622 0.105   -0.017    0.176\n",
      "4  factor1 =~  x4       0.838 0.028 30.193 0.000    0.784    0.892\n",
      "5  factor1 =~  x5       0.867 0.024 36.189 0.000    0.820    0.914\n",
      "6  factor1 =~  x6       0.815 0.024 33.939 0.000    0.768    0.862\n",
      "7  factor1 =~  x7       0.102 0.049  2.058 0.040    0.005    0.199\n",
      "8  factor1 =~  x8       0.078 0.048  1.617 0.106   -0.016    0.172\n",
      "9  factor1 =~  x9       0.170 0.053  3.222 0.001    0.067    0.273\n",
      "10 factor2 =~  x1       0.607 0.075  8.138 0.000    0.461    0.753\n",
      "11 factor2 =~  x2       0.481 0.067  7.184 0.000    0.350    0.612\n",
      "12 factor2 =~  x3       0.662 0.058 11.499 0.000    0.549    0.775\n",
      "13 factor2 =~  x4       0.113 0.043  2.615 0.009    0.028    0.198\n",
      "14 factor2 =~  x5       0.032 0.040  0.802 0.422   -0.047    0.111\n",
      "15 factor2 =~  x6       0.162 0.042  3.855 0.000    0.079    0.244\n",
      "16 factor2 =~  x7      -0.062 0.047 -1.341 0.180   -0.154    0.029\n",
      "17 factor2 =~  x8       0.174 0.082  2.117 0.034    0.013    0.336\n",
      "18 factor2 =~  x9       0.409 0.079  5.173 0.000    0.254    0.564\n",
      "19 factor3 =~  x1       0.130 0.066  1.978 0.048    0.001    0.259\n",
      "20 factor3 =~  x2      -0.041 0.071 -0.578 0.563   -0.179    0.098\n",
      "21 factor3 =~  x3       0.113 0.049  2.324 0.020    0.018    0.209\n",
      "22 factor3 =~  x4       0.077 0.040  1.916 0.055   -0.002    0.155\n",
      "23 factor3 =~  x5       0.070 0.042  1.669 0.095   -0.012    0.153\n",
      "24 factor3 =~  x6       0.066 0.038  1.715 0.086   -0.009    0.141\n",
      "25 factor3 =~  x7       0.695 0.092  7.591 0.000    0.516    0.875\n",
      "26 factor3 =~  x8       0.704 0.083  8.520 0.000    0.542    0.865\n",
      "27 factor3 =~  x9       0.511 0.065  7.885 0.000    0.384    0.638\n"
     ]
    }
   ],
   "source": [
    "out_varimax <- orthRotate(unrotated, method = \"varimax\")\n",
    "out <- summary(out_varimax, sort = FALSE, suppress = 0.3)\n",
    "print(out)\n"
   ]
  },
  {
   "attachments": {},
   "cell_type": "markdown",
   "id": "093029f1",
   "metadata": {},
   "source": [
    "### Orthogonal Quartimin\n",
    "\n",
    "Un metodo alternativo per la rotazione ortogonale è Quartimin."
   ]
  },
  {
   "cell_type": "code",
   "execution_count": 25,
   "id": "396b048b",
   "metadata": {
    "vscode": {
     "languageId": "r"
    }
   },
   "outputs": [
    {
     "name": "stderr",
     "output_type": "stream",
     "text": [
      "Warning message:\n",
      "“The orthRotate function is deprecated, and it will cease to be included in future versions of semTools. The lavaan package itself now provides support EFA. See help('semTools-deprecated) for details.”\n"
     ]
    },
    {
     "name": "stdout",
     "output_type": "stream",
     "text": [
      "Standardized Rotated Factor Loadings\n"
     ]
    },
    {
     "name": "stderr",
     "output_type": "stream",
     "text": [
      "Warning message in testLoadings(object):\n",
      "“The standard error is currently invalid because it does not account for the variance of the rotation function. It is simply based on the delta method.”\n"
     ]
    },
    {
     "name": "stdout",
     "output_type": "stream",
     "text": [
      "   factor1 factor2 factor3\n",
      "x1  0.353*  0.590*        \n",
      "x2          0.474*        \n",
      "x3          0.657*        \n",
      "x4  0.844*                \n",
      "x5  0.869*                \n",
      "x6  0.823*                \n",
      "x7                  0.692*\n",
      "x8                  0.702*\n",
      "x9          0.397*  0.508*\n",
      "\n",
      "Factor Correlation\n",
      "        factor1 factor2 factor3\n",
      "factor1       1       0       0\n",
      "factor2       0       1       0\n",
      "factor3       0       0       1\n",
      "\n",
      "Method of rotation:\tQuartimin \n",
      "\n",
      "Test Statistics for Standardized Rotated Factor Loadings\n"
     ]
    },
    {
     "name": "stderr",
     "output_type": "stream",
     "text": [
      "Warning message in testLoadings(object):\n",
      "“The standard error is currently invalid because it does not account for the variance of the rotation function. It is simply based on the delta method.”\n"
     ]
    },
    {
     "name": "stdout",
     "output_type": "stream",
     "text": [
      "       lhs op rhs std.loading    se      z     p ci.lower ci.upper\n",
      "1  factor1 =~  x1       0.353 0.062  5.720 0.000    0.232    0.473\n",
      "2  factor1 =~  x2       0.158 0.066  2.375 0.018    0.028    0.288\n",
      "3  factor1 =~  x3       0.115 0.057  2.015 0.044    0.003    0.226\n",
      "4  factor1 =~  x4       0.844 0.027 30.814 0.000    0.790    0.898\n",
      "5  factor1 =~  x5       0.869 0.023 37.224 0.000    0.823    0.914\n",
      "6  factor1 =~  x6       0.823 0.024 35.026 0.000    0.777    0.869\n",
      "7  factor1 =~  x7       0.116 0.054  2.161 0.031    0.011    0.222\n",
      "8  factor1 =~  x8       0.104 0.054  1.914 0.056   -0.003    0.210\n",
      "9  factor1 =~  x9       0.202 0.059  3.403 0.001    0.086    0.319\n",
      "10 factor2 =~  x1       0.590 0.078  7.523 0.000    0.436    0.743\n",
      "11 factor2 =~  x2       0.474 0.068  6.935 0.000    0.340    0.608\n",
      "12 factor2 =~  x3       0.657 0.059 11.203 0.000    0.542    0.771\n",
      "13 factor2 =~  x4       0.072 0.041  1.748 0.080   -0.009    0.152\n",
      "14 factor2 =~  x5      -0.010 0.039 -0.263 0.793   -0.087    0.066\n",
      "15 factor2 =~  x6       0.122 0.040  3.008 0.003    0.042    0.201\n",
      "16 factor2 =~  x7      -0.071 0.048 -1.465 0.143   -0.166    0.024\n",
      "17 factor2 =~  x8       0.167 0.090  1.849 0.064   -0.010    0.343\n",
      "18 factor2 =~  x9       0.397 0.087  4.581 0.000    0.227    0.567\n",
      "19 factor3 =~  x1       0.124 0.071  1.740 0.082   -0.016    0.264\n",
      "20 factor3 =~  x2      -0.042 0.074 -0.574 0.566   -0.187    0.102\n",
      "21 factor3 =~  x3       0.114 0.054  2.093 0.036    0.007    0.221\n",
      "22 factor3 =~  x4       0.056 0.037  1.503 0.133   -0.017    0.128\n",
      "23 factor3 =~  x5       0.048 0.038  1.263 0.207   -0.027    0.123\n",
      "24 factor3 =~  x6       0.046 0.034  1.347 0.178   -0.021    0.112\n",
      "25 factor3 =~  x7       0.692 0.093  7.477 0.000    0.511    0.874\n",
      "26 factor3 =~  x8       0.702 0.084  8.331 0.000    0.537    0.867\n",
      "27 factor3 =~  x9       0.508 0.070  7.298 0.000    0.371    0.644\n"
     ]
    },
    {
     "name": "stdout",
     "output_type": "stream",
     "text": [
      "       lhs op rhs std.loading    se      z     p ci.lower ci.upper\n",
      "1  factor1 =~  x1       0.353 0.062  5.720 0.000    0.232    0.473\n",
      "2  factor1 =~  x2       0.158 0.066  2.375 0.018    0.028    0.288\n",
      "3  factor1 =~  x3       0.115 0.057  2.015 0.044    0.003    0.226\n",
      "4  factor1 =~  x4       0.844 0.027 30.814 0.000    0.790    0.898\n",
      "5  factor1 =~  x5       0.869 0.023 37.224 0.000    0.823    0.914\n",
      "6  factor1 =~  x6       0.823 0.024 35.026 0.000    0.777    0.869\n",
      "7  factor1 =~  x7       0.116 0.054  2.161 0.031    0.011    0.222\n",
      "8  factor1 =~  x8       0.104 0.054  1.914 0.056   -0.003    0.210\n",
      "9  factor1 =~  x9       0.202 0.059  3.403 0.001    0.086    0.319\n",
      "10 factor2 =~  x1       0.590 0.078  7.523 0.000    0.436    0.743\n",
      "11 factor2 =~  x2       0.474 0.068  6.935 0.000    0.340    0.608\n",
      "12 factor2 =~  x3       0.657 0.059 11.203 0.000    0.542    0.771\n",
      "13 factor2 =~  x4       0.072 0.041  1.748 0.080   -0.009    0.152\n",
      "14 factor2 =~  x5      -0.010 0.039 -0.263 0.793   -0.087    0.066\n",
      "15 factor2 =~  x6       0.122 0.040  3.008 0.003    0.042    0.201\n",
      "16 factor2 =~  x7      -0.071 0.048 -1.465 0.143   -0.166    0.024\n",
      "17 factor2 =~  x8       0.167 0.090  1.849 0.064   -0.010    0.343\n",
      "18 factor2 =~  x9       0.397 0.087  4.581 0.000    0.227    0.567\n",
      "19 factor3 =~  x1       0.124 0.071  1.740 0.082   -0.016    0.264\n",
      "20 factor3 =~  x2      -0.042 0.074 -0.574 0.566   -0.187    0.102\n",
      "21 factor3 =~  x3       0.114 0.054  2.093 0.036    0.007    0.221\n",
      "22 factor3 =~  x4       0.056 0.037  1.503 0.133   -0.017    0.128\n",
      "23 factor3 =~  x5       0.048 0.038  1.263 0.207   -0.027    0.123\n",
      "24 factor3 =~  x6       0.046 0.034  1.347 0.178   -0.021    0.112\n",
      "25 factor3 =~  x7       0.692 0.093  7.477 0.000    0.511    0.874\n",
      "26 factor3 =~  x8       0.702 0.084  8.331 0.000    0.537    0.867\n",
      "27 factor3 =~  x9       0.508 0.070  7.298 0.000    0.371    0.644\n"
     ]
    }
   ],
   "source": [
    "out_quartimin <- orthRotate(unrotated, method = \"quartimin\")\n",
    "out <- summary(out_quartimin, sort = FALSE, suppress = 0.3)\n",
    "print(out)\n"
   ]
  },
  {
   "attachments": {},
   "cell_type": "markdown",
   "id": "ffa3169c",
   "metadata": {},
   "source": [
    "### Oblique Quartimin\n",
    "\n",
    "L'algoritmo Quartimin può anche essere usato per una soluzione obliqua."
   ]
  },
  {
   "cell_type": "code",
   "execution_count": 26,
   "id": "b7fbbd83",
   "metadata": {
    "vscode": {
     "languageId": "r"
    }
   },
   "outputs": [
    {
     "name": "stderr",
     "output_type": "stream",
     "text": [
      "Warning message:\n",
      "“The oblqRotate function is deprecated, and it will cease to be included in future versions of semTools. The lavaan package itself now provides support EFA. See help('semTools-deprecated) for details.”\n"
     ]
    },
    {
     "name": "stdout",
     "output_type": "stream",
     "text": [
      "Standardized Rotated Factor Loadings\n"
     ]
    },
    {
     "name": "stderr",
     "output_type": "stream",
     "text": [
      "Warning message in testLoadings(object):\n",
      "“The standard error is currently invalid because it does not account for the variance of the rotation function. It is simply based on the delta method.”\n"
     ]
    },
    {
     "name": "stdout",
     "output_type": "stream",
     "text": [
      "   factor1 factor2 factor3\n",
      "x1          0.602*        \n",
      "x2          0.505*        \n",
      "x3          0.689*        \n",
      "x4  0.840*                \n",
      "x5  0.888*                \n",
      "x6  0.808*                \n",
      "x7                  0.723*\n",
      "x8                  0.701*\n",
      "x9          0.366*  0.463*\n",
      "\n",
      "Factor Correlation\n",
      "          factor1   factor2   factor3\n",
      "factor1 1.0000000 0.3257794 0.2164262\n",
      "factor2 0.3257794 1.0000000 0.2704800\n",
      "factor3 0.2164262 0.2704800 1.0000000\n",
      "\n",
      "Method of rotation:\tQuartimin \n",
      "\n",
      "Test Statistics for Standardized Rotated Factor Loadings\n"
     ]
    },
    {
     "name": "stderr",
     "output_type": "stream",
     "text": [
      "Warning message in testLoadings(object):\n",
      "“The standard error is currently invalid because it does not account for the variance of the rotation function. It is simply based on the delta method.”\n"
     ]
    },
    {
     "name": "stdout",
     "output_type": "stream",
     "text": [
      "       lhs op rhs std.loading    se      z     p ci.lower ci.upper\n",
      "1  factor1 =~  x1       0.191 0.064  2.965 0.003    0.065    0.317\n",
      "2  factor1 =~  x2       0.044 0.066  0.665 0.506   -0.085    0.172\n",
      "3  factor1 =~  x3      -0.069 0.034 -2.031 0.042   -0.137   -0.002\n",
      "4  factor1 =~  x4       0.840 0.033 25.622 0.000    0.776    0.905\n",
      "5  factor1 =~  x5       0.888 0.027 32.583 0.000    0.835    0.942\n",
      "6  factor1 =~  x6       0.808 0.028 28.441 0.000    0.752    0.863\n",
      "7  factor1 =~  x7       0.044 0.037  1.179 0.238   -0.029    0.116\n",
      "8  factor1 =~  x8      -0.033 0.036 -0.916 0.360   -0.103    0.037\n",
      "9  factor1 =~  x9       0.035 0.048  0.728 0.467   -0.059    0.129\n",
      "10 factor2 =~  x1       0.602 0.086  7.003 0.000    0.434    0.771\n",
      "11 factor2 =~  x2       0.505 0.071  7.163 0.000    0.367    0.644\n",
      "12 factor2 =~  x3       0.689 0.056 12.344 0.000    0.580    0.799\n",
      "13 factor2 =~  x4       0.022 0.045  0.483 0.629   -0.067    0.110\n",
      "14 factor2 =~  x5      -0.067 0.036 -1.890 0.059   -0.137    0.002\n",
      "15 factor2 =~  x6       0.078 0.041  1.887 0.059   -0.003    0.158\n",
      "16 factor2 =~  x7      -0.152 0.037 -4.058 0.000   -0.225   -0.078\n",
      "17 factor2 =~  x8       0.104 0.109  0.960 0.337   -0.109    0.317\n",
      "18 factor2 =~  x9       0.366 0.097  3.780 0.000    0.176    0.556\n",
      "19 factor3 =~  x1       0.031 0.062  0.500 0.617   -0.090    0.152\n",
      "20 factor3 =~  x2      -0.117 0.066 -1.776 0.076   -0.245    0.012\n",
      "21 factor3 =~  x3       0.023 0.039  0.587 0.557   -0.054    0.100\n",
      "22 factor3 =~  x4       0.005 0.042  0.128 0.898   -0.076    0.087\n",
      "23 factor3 =~  x5       0.008 0.035  0.216 0.829   -0.061    0.076\n",
      "24 factor3 =~  x6      -0.011 0.030 -0.362 0.717   -0.070    0.048\n",
      "25 factor3 =~  x7       0.723 0.087  8.328 0.000    0.553    0.893\n",
      "26 factor3 =~  x8       0.701 0.098  7.137 0.000    0.509    0.894\n",
      "27 factor3 =~  x9       0.463 0.075  6.211 0.000    0.317    0.609\n"
     ]
    },
    {
     "name": "stdout",
     "output_type": "stream",
     "text": [
      "       lhs op rhs std.loading    se      z     p ci.lower ci.upper\n",
      "1  factor1 =~  x1       0.191 0.064  2.965 0.003    0.065    0.317\n",
      "2  factor1 =~  x2       0.044 0.066  0.665 0.506   -0.085    0.172\n",
      "3  factor1 =~  x3      -0.069 0.034 -2.031 0.042   -0.137   -0.002\n",
      "4  factor1 =~  x4       0.840 0.033 25.622 0.000    0.776    0.905\n",
      "5  factor1 =~  x5       0.888 0.027 32.583 0.000    0.835    0.942\n",
      "6  factor1 =~  x6       0.808 0.028 28.441 0.000    0.752    0.863\n",
      "7  factor1 =~  x7       0.044 0.037  1.179 0.238   -0.029    0.116\n",
      "8  factor1 =~  x8      -0.033 0.036 -0.916 0.360   -0.103    0.037\n",
      "9  factor1 =~  x9       0.035 0.048  0.728 0.467   -0.059    0.129\n",
      "10 factor2 =~  x1       0.602 0.086  7.003 0.000    0.434    0.771\n",
      "11 factor2 =~  x2       0.505 0.071  7.163 0.000    0.367    0.644\n",
      "12 factor2 =~  x3       0.689 0.056 12.344 0.000    0.580    0.799\n",
      "13 factor2 =~  x4       0.022 0.045  0.483 0.629   -0.067    0.110\n",
      "14 factor2 =~  x5      -0.067 0.036 -1.890 0.059   -0.137    0.002\n",
      "15 factor2 =~  x6       0.078 0.041  1.887 0.059   -0.003    0.158\n",
      "16 factor2 =~  x7      -0.152 0.037 -4.058 0.000   -0.225   -0.078\n",
      "17 factor2 =~  x8       0.104 0.109  0.960 0.337   -0.109    0.317\n",
      "18 factor2 =~  x9       0.366 0.097  3.780 0.000    0.176    0.556\n",
      "19 factor3 =~  x1       0.031 0.062  0.500 0.617   -0.090    0.152\n",
      "20 factor3 =~  x2      -0.117 0.066 -1.776 0.076   -0.245    0.012\n",
      "21 factor3 =~  x3       0.023 0.039  0.587 0.557   -0.054    0.100\n",
      "22 factor3 =~  x4       0.005 0.042  0.128 0.898   -0.076    0.087\n",
      "23 factor3 =~  x5       0.008 0.035  0.216 0.829   -0.061    0.076\n",
      "24 factor3 =~  x6      -0.011 0.030 -0.362 0.717   -0.070    0.048\n",
      "25 factor3 =~  x7       0.723 0.087  8.328 0.000    0.553    0.893\n",
      "26 factor3 =~  x8       0.701 0.098  7.137 0.000    0.509    0.894\n",
      "27 factor3 =~  x9       0.463 0.075  6.211 0.000    0.317    0.609\n"
     ]
    }
   ],
   "source": [
    "out_oblq <- oblqRotate(unrotated, method = \"quartimin\")\n",
    "out <- summary(out_oblq, sort = FALSE, suppress = 0.3)\n",
    "print(out)\n"
   ]
  },
  {
   "attachments": {},
   "cell_type": "markdown",
   "id": "f8dba577",
   "metadata": {},
   "source": [
    "### Orthogonal Geomin\n",
    "\n",
    "Consideriamo ora la rotazione Geomin. L'algoritmo Geomin fornisce un metodo di rotazione che riduce al minimo la media geometrica delle saturazioni fattoriali innalzate al quadrato. Qui è usato per ottenere una soluzione ortogonale."
   ]
  },
  {
   "cell_type": "code",
   "execution_count": 27,
   "id": "ea68201e",
   "metadata": {
    "vscode": {
     "languageId": "r"
    }
   },
   "outputs": [
    {
     "name": "stderr",
     "output_type": "stream",
     "text": [
      "Warning message:\n",
      "“The orthRotate function is deprecated, and it will cease to be included in future versions of semTools. The lavaan package itself now provides support EFA. See help('semTools-deprecated) for details.”\n"
     ]
    },
    {
     "name": "stdout",
     "output_type": "stream",
     "text": [
      "Standardized Rotated Factor Loadings\n"
     ]
    },
    {
     "name": "stderr",
     "output_type": "stream",
     "text": [
      "Warning message in testLoadings(object):\n",
      "“The standard error is currently invalid because it does not account for the variance of the rotation function. It is simply based on the delta method.”\n"
     ]
    },
    {
     "name": "stdout",
     "output_type": "stream",
     "text": [
      "   factor1 factor2 factor3\n",
      "x1  0.315          -0.621 \n",
      "x2                 -0.474 \n",
      "x3                 -0.671 \n",
      "x4  0.838                 \n",
      "x5  0.867                 \n",
      "x6  0.814                 \n",
      "x7          0.696         \n",
      "x8          0.677         \n",
      "x9          0.456  -0.468 \n",
      "\n",
      "Factor Correlation\n",
      "        factor1 factor2 factor3\n",
      "factor1       1       0       0\n",
      "factor2       0       1       0\n",
      "factor3       0       0       1\n",
      "\n",
      "Method of rotation:\tGeomin \n",
      "\n",
      "Test Statistics for Standardized Rotated Factor Loadings\n"
     ]
    },
    {
     "name": "stderr",
     "output_type": "stream",
     "text": [
      "Warning message in testLoadings(object):\n",
      "“The standard error is currently invalid because it does not account for the variance of the rotation function. It is simply based on the delta method.”\n"
     ]
    },
    {
     "name": "stdout",
     "output_type": "stream",
     "text": [
      "       lhs op rhs std.loading     se      z     p ci.lower ci.upper\n",
      "1  factor1 =~  x1       0.315 18.335  0.017 0.986  -35.620   36.251\n",
      "2  factor1 =~  x2       0.130 15.803  0.008 0.993  -30.843   31.103\n",
      "3  factor1 =~  x3       0.074 20.141  0.004 0.997  -39.402   39.550\n",
      "4  factor1 =~  x4       0.838  3.295  0.254 0.799   -5.620    7.295\n",
      "5  factor1 =~  x5       0.867  0.785  1.105 0.269   -0.671    2.406\n",
      "6  factor1 =~  x6       0.814  4.938  0.165 0.869   -8.863   10.491\n",
      "7  factor1 =~  x7       0.112  8.390  0.013 0.989  -16.332   16.556\n",
      "8  factor1 =~  x8       0.085  0.907  0.094 0.925   -1.692    1.862\n",
      "9  factor1 =~  x9       0.172  8.417  0.020 0.984  -16.325   16.669\n",
      "10 factor2 =~  x1       0.053  7.144  0.007 0.994  -13.949   14.055\n",
      "11 factor2 =~  x2      -0.099  4.019 -0.025 0.980   -7.976    7.778\n",
      "12 factor2 =~  x3       0.033  4.239  0.008 0.994   -8.275    8.342\n",
      "13 factor2 =~  x4       0.051 11.503  0.004 0.996  -22.495   22.597\n",
      "14 factor2 =~  x5       0.054 11.508  0.005 0.996  -22.501   22.609\n",
      "15 factor2 =~  x6       0.035 11.432  0.003 0.998  -22.372   22.442\n",
      "16 factor2 =~  x7       0.696  1.519  0.458 0.647   -2.281    3.674\n",
      "17 factor2 =~  x8       0.677  2.366  0.286 0.775   -3.959    5.313\n",
      "18 factor2 =~  x9       0.456  4.541  0.101 0.920   -8.444    9.356\n",
      "19 factor3 =~  x1      -0.621  9.925 -0.063 0.950  -20.073   18.831\n",
      "20 factor3 =~  x2      -0.474  3.464 -0.137 0.891   -7.264    6.316\n",
      "21 factor3 =~  x3      -0.671  2.405 -0.279 0.780   -5.385    4.043\n",
      "22 factor3 =~  x4      -0.129 25.939 -0.005 0.996  -50.969   50.711\n",
      "23 factor3 =~  x5      -0.048 26.872 -0.002 0.999  -52.717   52.621\n",
      "24 factor3 =~  x6      -0.176 25.131 -0.007 0.994  -49.431   49.080\n",
      "25 factor3 =~  x7      -0.021  6.845 -0.003 0.998  -13.438   13.396\n",
      "26 factor3 =~  x8      -0.257  5.935 -0.043 0.965  -11.890   11.376\n",
      "27 factor3 =~  x9      -0.468  7.535 -0.062 0.950  -15.236   14.300\n"
     ]
    },
    {
     "name": "stdout",
     "output_type": "stream",
     "text": [
      "       lhs op rhs std.loading     se      z     p ci.lower ci.upper\n",
      "1  factor1 =~  x1       0.315 18.335  0.017 0.986  -35.620   36.251\n",
      "2  factor1 =~  x2       0.130 15.803  0.008 0.993  -30.843   31.103\n",
      "3  factor1 =~  x3       0.074 20.141  0.004 0.997  -39.402   39.550\n",
      "4  factor1 =~  x4       0.838  3.295  0.254 0.799   -5.620    7.295\n",
      "5  factor1 =~  x5       0.867  0.785  1.105 0.269   -0.671    2.406\n",
      "6  factor1 =~  x6       0.814  4.938  0.165 0.869   -8.863   10.491\n",
      "7  factor1 =~  x7       0.112  8.390  0.013 0.989  -16.332   16.556\n",
      "8  factor1 =~  x8       0.085  0.907  0.094 0.925   -1.692    1.862\n",
      "9  factor1 =~  x9       0.172  8.417  0.020 0.984  -16.325   16.669\n",
      "10 factor2 =~  x1       0.053  7.144  0.007 0.994  -13.949   14.055\n",
      "11 factor2 =~  x2      -0.099  4.019 -0.025 0.980   -7.976    7.778\n",
      "12 factor2 =~  x3       0.033  4.239  0.008 0.994   -8.275    8.342\n",
      "13 factor2 =~  x4       0.051 11.503  0.004 0.996  -22.495   22.597\n",
      "14 factor2 =~  x5       0.054 11.508  0.005 0.996  -22.501   22.609\n",
      "15 factor2 =~  x6       0.035 11.432  0.003 0.998  -22.372   22.442\n",
      "16 factor2 =~  x7       0.696  1.519  0.458 0.647   -2.281    3.674\n",
      "17 factor2 =~  x8       0.677  2.366  0.286 0.775   -3.959    5.313\n",
      "18 factor2 =~  x9       0.456  4.541  0.101 0.920   -8.444    9.356\n",
      "19 factor3 =~  x1      -0.621  9.925 -0.063 0.950  -20.073   18.831\n",
      "20 factor3 =~  x2      -0.474  3.464 -0.137 0.891   -7.264    6.316\n",
      "21 factor3 =~  x3      -0.671  2.405 -0.279 0.780   -5.385    4.043\n",
      "22 factor3 =~  x4      -0.129 25.939 -0.005 0.996  -50.969   50.711\n",
      "23 factor3 =~  x5      -0.048 26.872 -0.002 0.999  -52.717   52.621\n",
      "24 factor3 =~  x6      -0.176 25.131 -0.007 0.994  -49.431   49.080\n",
      "25 factor3 =~  x7      -0.021  6.845 -0.003 0.998  -13.438   13.396\n",
      "26 factor3 =~  x8      -0.257  5.935 -0.043 0.965  -11.890   11.376\n",
      "27 factor3 =~  x9      -0.468  7.535 -0.062 0.950  -15.236   14.300\n"
     ]
    }
   ],
   "source": [
    "out_geomin_orh <- orthRotate(unrotated, method = \"geomin\")\n",
    "out <- summary(out_geomin_orh, sort = FALSE, suppress = 0.3)\n",
    "print(out)\n"
   ]
  },
  {
   "attachments": {},
   "cell_type": "markdown",
   "id": "e7a1d249",
   "metadata": {},
   "source": [
    "### Oblique Geomin\n",
    "\n",
    "La rotazione Geomin può anche essere usata per ottenere una soluzione obliqua."
   ]
  },
  {
   "cell_type": "code",
   "execution_count": 28,
   "id": "ab34852c",
   "metadata": {
    "vscode": {
     "languageId": "r"
    }
   },
   "outputs": [
    {
     "name": "stderr",
     "output_type": "stream",
     "text": [
      "Warning message:\n",
      "“The oblqRotate function is deprecated, and it will cease to be included in future versions of semTools. The lavaan package itself now provides support EFA. See help('semTools-deprecated) for details.”\n"
     ]
    },
    {
     "name": "stdout",
     "output_type": "stream",
     "text": [
      "Standardized Rotated Factor Loadings\n"
     ]
    },
    {
     "name": "stderr",
     "output_type": "stream",
     "text": [
      "Warning message in testLoadings(object):\n",
      "“The standard error is currently invalid because it does not account for the variance of the rotation function. It is simply based on the delta method.”\n"
     ]
    },
    {
     "name": "stdout",
     "output_type": "stream",
     "text": [
      "   factor1 factor2 factor3\n",
      "x1                 -0.604*\n",
      "x2                 -0.507*\n",
      "x3                 -0.691*\n",
      "x4  0.839*                \n",
      "x5  0.887*                \n",
      "x6  0.806*                \n",
      "x7          0.726*        \n",
      "x8          0.703*        \n",
      "x9          0.463* -0.368*\n",
      "\n",
      "Factor Correlation\n",
      "           factor1    factor2    factor3\n",
      "factor1  1.0000000  0.2296072 -0.3271574\n",
      "factor2  0.2296072  1.0000000 -0.2776990\n",
      "factor3 -0.3271574 -0.2776990  1.0000000\n",
      "\n",
      "Method of rotation:\tGeomin \n",
      "\n",
      "Test Statistics for Standardized Rotated Factor Loadings\n"
     ]
    },
    {
     "name": "stderr",
     "output_type": "stream",
     "text": [
      "Warning message in testLoadings(object):\n",
      "“The standard error is currently invalid because it does not account for the variance of the rotation function. It is simply based on the delta method.”\n"
     ]
    },
    {
     "name": "stdout",
     "output_type": "stream",
     "text": [
      "       lhs op rhs std.loading    se       z     p ci.lower ci.upper\n",
      "1  factor1 =~  x1       0.188 0.070   2.670 0.008    0.050    0.326\n",
      "2  factor1 =~  x2       0.044 0.054   0.806 0.420   -0.062    0.150\n",
      "3  factor1 =~  x3      -0.073 0.049  -1.467 0.142   -0.170    0.024\n",
      "4  factor1 =~  x4       0.839 0.032  26.468 0.000    0.777    0.901\n",
      "5  factor1 =~  x5       0.887 0.029  30.078 0.000    0.829    0.945\n",
      "6  factor1 =~  x6       0.806 0.030  26.717 0.000    0.747    0.865\n",
      "7  factor1 =~  x7       0.031 0.034   0.914 0.360   -0.036    0.099\n",
      "8  factor1 =~  x8      -0.045 0.048  -0.948 0.343   -0.139    0.048\n",
      "9  factor1 =~  x9       0.025 0.034   0.747 0.455   -0.041    0.091\n",
      "10 factor2 =~  x1       0.029 0.051   0.567 0.571   -0.071    0.129\n",
      "11 factor2 =~  x2      -0.119 0.072  -1.663 0.096   -0.260    0.021\n",
      "12 factor2 =~  x3       0.020 0.037   0.538 0.591   -0.053    0.092\n",
      "13 factor2 =~  x4       0.007 0.043   0.174 0.862   -0.076    0.091\n",
      "14 factor2 =~  x5       0.010 0.036   0.285 0.775   -0.060    0.080\n",
      "15 factor2 =~  x6      -0.009 0.030  -0.309 0.758   -0.068    0.049\n",
      "16 factor2 =~  x7       0.726 0.072  10.079 0.000    0.585    0.867\n",
      "17 factor2 =~  x8       0.703 0.118   5.965 0.000    0.472    0.934\n",
      "18 factor2 =~  x9       0.463 0.080   5.816 0.000    0.307    0.619\n",
      "19 factor3 =~  x1      -0.604 0.081  -7.441 0.000   -0.763   -0.445\n",
      "20 factor3 =~  x2      -0.507 0.073  -6.976 0.000   -0.649   -0.364\n",
      "21 factor3 =~  x3      -0.691 0.061 -11.379 0.000   -0.810   -0.572\n",
      "22 factor3 =~  x4      -0.024 0.034  -0.702 0.483   -0.091    0.043\n",
      "23 factor3 =~  x5       0.065 0.045   1.459 0.145   -0.022    0.153\n",
      "24 factor3 =~  x6      -0.080 0.048  -1.679 0.093   -0.173    0.013\n",
      "25 factor3 =~  x7       0.150 0.107   1.399 0.162   -0.060    0.361\n",
      "26 factor3 =~  x8      -0.106 0.164  -0.645 0.519   -0.428    0.216\n",
      "27 factor3 =~  x9      -0.368 0.133  -2.772 0.006   -0.629   -0.108\n"
     ]
    },
    {
     "name": "stdout",
     "output_type": "stream",
     "text": [
      "       lhs op rhs std.loading    se       z     p ci.lower ci.upper\n",
      "1  factor1 =~  x1       0.188 0.070   2.670 0.008    0.050    0.326\n",
      "2  factor1 =~  x2       0.044 0.054   0.806 0.420   -0.062    0.150\n",
      "3  factor1 =~  x3      -0.073 0.049  -1.467 0.142   -0.170    0.024\n",
      "4  factor1 =~  x4       0.839 0.032  26.468 0.000    0.777    0.901\n",
      "5  factor1 =~  x5       0.887 0.029  30.078 0.000    0.829    0.945\n",
      "6  factor1 =~  x6       0.806 0.030  26.717 0.000    0.747    0.865\n",
      "7  factor1 =~  x7       0.031 0.034   0.914 0.360   -0.036    0.099\n",
      "8  factor1 =~  x8      -0.045 0.048  -0.948 0.343   -0.139    0.048\n",
      "9  factor1 =~  x9       0.025 0.034   0.747 0.455   -0.041    0.091\n",
      "10 factor2 =~  x1       0.029 0.051   0.567 0.571   -0.071    0.129\n",
      "11 factor2 =~  x2      -0.119 0.072  -1.663 0.096   -0.260    0.021\n",
      "12 factor2 =~  x3       0.020 0.037   0.538 0.591   -0.053    0.092\n",
      "13 factor2 =~  x4       0.007 0.043   0.174 0.862   -0.076    0.091\n",
      "14 factor2 =~  x5       0.010 0.036   0.285 0.775   -0.060    0.080\n",
      "15 factor2 =~  x6      -0.009 0.030  -0.309 0.758   -0.068    0.049\n",
      "16 factor2 =~  x7       0.726 0.072  10.079 0.000    0.585    0.867\n",
      "17 factor2 =~  x8       0.703 0.118   5.965 0.000    0.472    0.934\n",
      "18 factor2 =~  x9       0.463 0.080   5.816 0.000    0.307    0.619\n",
      "19 factor3 =~  x1      -0.604 0.081  -7.441 0.000   -0.763   -0.445\n",
      "20 factor3 =~  x2      -0.507 0.073  -6.976 0.000   -0.649   -0.364\n",
      "21 factor3 =~  x3      -0.691 0.061 -11.379 0.000   -0.810   -0.572\n",
      "22 factor3 =~  x4      -0.024 0.034  -0.702 0.483   -0.091    0.043\n",
      "23 factor3 =~  x5       0.065 0.045   1.459 0.145   -0.022    0.153\n",
      "24 factor3 =~  x6      -0.080 0.048  -1.679 0.093   -0.173    0.013\n",
      "25 factor3 =~  x7       0.150 0.107   1.399 0.162   -0.060    0.361\n",
      "26 factor3 =~  x8      -0.106 0.164  -0.645 0.519   -0.428    0.216\n",
      "27 factor3 =~  x9      -0.368 0.133  -2.772 0.006   -0.629   -0.108\n"
     ]
    }
   ],
   "source": [
    "out_geomin_obl <- oblqRotate(unrotated, method = \"geomin\")\n",
    "out <- summary(out_geomin_obl, sort = FALSE, suppress = 0.3)\n",
    "print(out)\n"
   ]
  },
  {
   "attachments": {},
   "cell_type": "markdown",
   "id": "9778991b",
   "metadata": {},
   "source": [
    "## Interpretazione \n",
    "\n",
    "Per interpretare i fattori comuni latenti, dobbiamo decidere se usare la matrice pattern o la matrice struttura. Un fattore individuato dall'analisi fattoriale è una caratteristica latente univariata che rappresenta l'essenza di un fenomeno psicologico. Dovrebbe essere interpretato come il significato semplice che si trova dietro l'intersezione dei significati delle variabili che saturano nel fattore.\n",
    "\n",
    "Nella rotazione obliqua, i fattori sono correlati ma vogliamo comunque interpretarli come dimensioni psicologiche distinte. L'etichetta che diamo al fattore $F_1$ dovrebbe aiutare a separare teoricamente il fenomeno psicologico corrispondente a $F_1$ dal fenomeno denotato dall'etichetta del fattore $F_2$, anche se sono correlati.\n",
    "\n",
    "Se questa è la strategia interpretativa, allora lo strumento principale per l'interpretazione è la matrice pattern. I coefficienti della matrice pattern mostrano l'influenza causale del fattore comune sulle variabili manifeste. La matrice struttura descrive le correlazioni tra variabili e fattori e dipende sia dai percorsi diretti che indiretti. Quindi, non descrive gli effetti diretti dei fattori comuni latenti sulle variabili manifeste ma solo la covariazione tra di loro.\n"
   ]
  }
 ],
 "metadata": {
  "jupytext": {
   "cell_metadata_filter": "tags,out.width,name,fig.cap,-all",
   "main_language": "R",
   "notebook_metadata_filter": "-all"
  },
  "kernelspec": {
   "display_name": "R",
   "language": "R",
   "name": "ir"
  },
  "language_info": {
   "codemirror_mode": "r",
   "file_extension": ".r",
   "mimetype": "text/x-r-source",
   "name": "R",
   "pygments_lexer": "r",
   "version": "4.3.1"
  }
 },
 "nbformat": 4,
 "nbformat_minor": 5
}