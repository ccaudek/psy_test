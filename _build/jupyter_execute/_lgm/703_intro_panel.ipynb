{
 "cells": [
  {
   "attachments": {},
   "cell_type": "markdown",
   "id": "faf0b592",
   "metadata": {},
   "source": [
    "(intro-panel-model-notebook)=\n",
    "# Specificare e Interpretare un Modello Longitudinale"
   ]
  },
  {
   "cell_type": "code",
   "execution_count": 1,
   "id": "40bb9875",
   "metadata": {
    "tags": [
     "remove_cell"
    ],
    "vscode": {
     "languageId": "r"
    }
   },
   "outputs": [],
   "source": [
    "source(\"../_common.R\")\n",
    "suppressPackageStartupMessages({\n",
    "    library(\"lavaan\")\n",
    "    library(\"semPlot\")\n",
    "    library(\"knitr\")\n",
    "    library(\"markdown\")\n",
    "})\n",
    "set.seed(42)"
   ]
  },
  {
   "cell_type": "markdown",
   "id": "20c03fe1",
   "metadata": {},
   "source": [
    "In questo capitolo, esploreremo come specificare e interpretare un modello panel longitudinale tradizionale, un argomento che implica la comprensione di vari aspetti della costruzione del modello. In particolare, discuteremo la struttura simplex, che è comune nei dataset longitudinali, e come affrontare il processo di \"potatura\" del modello, ossia di semplificazione e ottimizzazione. Inoltre, esamineremo le metodologie per stimare gli effetti indiretti e le strategie per includere le covariate nel modello.\n",
    "\n",
    "Il termine \"modello panel\" e \"SEM longitudinale\" vengono utilizzati qui in modo interscambiabile. Entrambi si concentrano sulle relazioni predittive tra le differenze individuali nei costrutti latenti nel tempo. Tuttavia, è importante notare che il modello panel strutturale non si focalizza sui livelli medi dei costrutti, un'analisi che viene generalmente condotta utilizzando il modello CFA. Il modello panel, quindi, si concentra più sulle relazioni tra le variabili e i loro modelli di covariazione nel tempo.\n",
    "\n",
    "Nei modelli panel, i livelli medi dei costrutti sono spesso esaminati utilizzando il modello CFA, in particolare quando si specifica un'invarianza fattoriale forte. Questo permette di testare le differenze nei livelli medi senza necessariamente adattare un modello specifico a questi livelli. D'altro canto, i modelli di curva di crescita latente tentano di modellare esplicitamente i livelli medi dei costrutti.\n",
    "\n",
    "Un aspetto cruciale dei modelli panel longitudinali è che le loro relazioni di regressione predittiva presentano un tono causale. Tuttavia, queste interpretazioni devono essere affrontate con cautela, poiché molti di questi modelli non consentono affermazioni di causalità diretta per via della natura non sperimentale dei dati. La causalità è tuttavia suggerita quando si osservano effetti predittivi affidabili e coerenti nel tempo. In questi modelli, la separazione temporale tra le misurazioni guida la direzione degli effetti predittivi.\n",
    "\n",
    "È fondamentale ricordare che il modello panel è uno strumento statistico per analizzare i dati e che, per stabilire relazioni di causalità, i dati devono essere raccolti con controlli adeguati e manipolazioni sperimentali rigorose. Solo con dati raccolti in modo appropriato si può specificare il modello statistico corretto per testare ipotesi causali.\n",
    "\n",
    "Un elemento chiave per un'inferenza valida è il controllo statistico delle variabili confondenti. In questo capitolo, verranno discussi cinque diversi metodi per includere le covariate in un modello e mostreremo come queste possano essere interpretate per dare un senso ai dati analizzati. Questi approcci aiutano a fornire una comprensione più profonda e accurata dei modelli panel e delle loro potenzialità nel fornire intuizioni significative dai dati longitudinali."
   ]
  },
  {
   "cell_type": "markdown",
   "id": "ef6f0178",
   "metadata": {},
   "source": [
    "## Basi di un Modello Panel\n",
    "\n",
    "All'inizio della costruzione di un modello panel, la maggior parte delle associazioni non direzionali nel tempo del modello CFA sono trasformate in relazioni di regressione direzionale, ovvero i collegamenti tra i costrutti vengono rimossi o fissati a 0. Le associazioni nel tempo diventano percorsi di regressione (rappresentati da linee con una freccia), stimando così le associazioni longitudinali come effetti unici, controllando tutti gli altri percorsi di regressione specificati. Le associazioni all'interno del tempo rimangono tipicamente come relazioni di covarianza non direzionali (linee curve con doppia freccia).\n",
    "\n",
    "Nel modello longitudinale, le covarianze tra le variabili al Tempo 1 sono spesso associazioni di ordine zero (cioè, quando non si controllano covariate). Nei tempi successivi, le associazioni all'interno del tempo sono considerate associazioni residue o covarianze tra fattori di disturbo. Un fattore di disturbo è semplicemente la varianza residua di un costrutto dopo aver stimato gli effetti del punto temporale precedente.\n",
    "\n",
    "La Figura successiva mostra un semplice diagramma di percorso di un modello panel con vari effetti etichettati. In questa figura, un percorso che collega una variabile latente al Tempo 1 con se stessa al Tempo 2 è chiamato percorso autoregressivo. \"Regressivo\" indica che il percorso è direzionale e predittivo, mentre \"auto\" significa che il percorso riguarda lo stesso costrutto. I collegamenti longitudinali o nel tempo tra due costrutti sono chiamati effetti incrociati ritardati. Questi termini si riferiscono al fatto che un percorso di regressione passa da un costrutto all'altro, separati da un certo intervallo di tempo. I percorsi incrociati ritardati e autoregressivi sono entrambi effetti predittivi, nei quali si controllano gli effetti di altre stime che portano allo stesso costrutto.\n",
    "\n",
    "```{figure} ../images/little_fig7_1.png\n",
    "---\n",
    "height: 550px\n",
    "name: little-fig7-1-fig\n",
    "---\n",
    "Etichette dei parametri per tre punti temporali con affetto positivo e affetto negativo: Un'analisi di base del modello panel direzionale. Nota. Come sempre, si consente l'associazione delle varianze residue tra gli indicatori corrispondenti nel tempo.  (Figura tratta da {cite:t}`little2023longitudinal`).\n",
    "```\n",
    "\n",
    "Con molteplici onde di dati, è possibile stimare un gran numero di relazioni nel tempo. Quando tutti i possibili percorsi di regressione direzionale da un punto temporale precedente a tutti i punti successivi sono stimati, il modello longitudinale è detto saturato. Un modello strutturale saturato generalmente non è molto informativo perché non riflette una rappresentazione parsimoniosa di come le associazioni predittive si sviluppano nel tempo. L'obiettivo di un SEM longitudinale è trovare un insieme ridotto di percorsi strutturali che possano spiegare il modello di associazioni nei dati nel tempo tanto bene quanto il modello saturato. Questo insieme ridotto rappresenta un modello più parsimonioso e teoricamente significativo dei processi che possono sottostare ai dati. Questo modello parsimonioso non dovrebbe differire significativamente dal modello saturo. "
   ]
  },
  {
   "cell_type": "markdown",
   "id": "c62e4a61",
   "metadata": {},
   "source": [
    "## Il Processo di Cambiamento Simplex\n",
    "\n",
    "Un modello potenzialmente efficace come punto di partenza per molti modelli panel longitudinali è il modello simplex. Questo modello si basa sull'idea che, se gli individui cambiano a un ritmo costante e le influenze esterne (ambientali o contestuali) su questo tasso di cambiamento sono minime, il pattern di correlazioni da un punto temporale all'altro seguirà un modello simplex. In altre parole, questo pattern è ciò che ci si aspetta quando il cambiamento è costante, risultato di un cambiamento graduale e coerente.\n",
    "\n",
    "**Esempi di Strutture di Correlazione Simplex**\n",
    "\n",
    "|         | T1 | T2 | T3 | T4 | T5 | T6 | T7 | T8 |\n",
    "|---------|---------|---------|---------|---------|---------|---------|---------|---------|\n",
    "| T1 |    --   |   .800  |   .640  |   .512  |   .410  |   .328  |   .262  |   .210  |\n",
    "| T2 |   .528  |    --   |   .800  |   .640  |   .512  |   .410  |   .328  |   .262  |\n",
    "| T3 |   .279  |   .528  |    --   |   .800  |   .640  |   .512  |   .410  |   .328  |\n",
    "| T4 |   .147  |   .279  |   .528  |    --   |   .800  |   .640  |   .512  |   .410  |\n",
    "| T5 |   .078  |   .147  |   .279  |   .528  |    --   |   .800  |   .640  |   .512  |\n",
    "| T6 |   .041  |   .078  |   .147  |   .279  |   .528  |    --   |   .800  |   .640  |\n",
    "| T7 |   .022  |   .041  |   .078  |   .147  |   .279  |   .528  |    --   |   .800  |\n",
    "| T8 |   .011  |   .022  |   .041  |   .078  |   .147  |   .279  |   .528  |    --   |\n",
    "\n",
    "*Nota: Le correlazioni al di sopra della diagonale si basano sull'analogia del mescolamento delle carte con una correlazione autoregressiva di .528. Le correlazioni al di sotto della diagonale sono basate su un coefficiente di stabilità più elevato (.80), indicando una persistenza più forte nel tempo.*\n",
    "\n",
    "Il modello simplex è semplice ma possiede proprietà note che spesso possono essere utilizzate come aspettative di base per un modello di cambiamento evolutivo, così come per altri costrutti che si ipotizza siano disposti lungo un continuum.\n",
    "\n",
    "Per comprendere il cambiamento costante e la struttura simplex, si può immaginare un mazzo di carte e una macchina che le mescola perfettamente, tagliando il mazzo esattamente a metà e intercalando le carte una sull'altra. Se si codifica la \"posizione\" di ogni carta nel mazzo prima della mescolata e poi si correla questa posizione con la posizione ordinata delle carte nel mazzo dopo la mescolata, la correlazione sarebbe di .528. Con una nuova mescolata perfetta, la correlazione tra l'ordine nel secondo e nel terzo mazzo sarebbe ancora di .528. La correlazione tra l'ordine delle carte nel primo e nel terzo mazzo, tuttavia, sarebbe ora di .279, perché sono avvenute due mescolate. Con tre mescolate perfette, la correlazione tra il primo e il quarto mazzo sarebbe ora di .147. Interessante notare che, con questa stabilità di mescolamento, occorrono circa sette mescolate per ritornare a un ordine essenzialmente casuale nel mazzo di carte, dove la correlazione è statisticamente 0.\n",
    "\n",
    "Nella Tabella precedente è rappresentata la struttura di correlazione simplex per il mazzo di carte dopo sette mescolate. Queste correlazioni sono riportate nel quadrante superiore sopra la diagonale. Nel quadrante inferiore sotto la diagonale, è rappresentata una struttura simplex basata su una relazione di stabilità iniziale molto più forte di .80. Lo scopo di questi due insiemi di correlazioni è dimostrare il \"tasso\" di riduzione nelle correlazioni nel tempo a seconda del livello di stabilità tra i punti temporali adiacenti e, implicitamente, la lunghezza del tempo che intercorre tra ogni occasione di misurazione.\n",
    "\n",
    "Se le occasioni di misurazione corrispondono alla velocità della macchina che mescola le carte, il modello di cambiamento stimato catturerebbe accuratamente il tasso di cambiamento indicato dal coefficiente di stabilità di .528. Molti processi di cambiamento evolutivo partono dall'assunzione di un processo di cambiamento costante. Il modello risultante da un tale processo di cambiamento è descritto come una struttura simplex di Guttman, un perfetto o quasi-simplex, o semplicemente una struttura simplex.\n",
    "\n",
    "\n",
    "```{figure} ../images/little_fig_simplex.png\n",
    "---\n",
    "height: 200px\n",
    "name: little-fig-simplex\n",
    "---\n",
    "Stime dei parametri standardizzati dal modello simplex di mazzi di carte mescolati consecutivamente. Nota. Queste stime dei parametri provengono da un modello adattato ai dati nella tabella precedente. Questo modello ha 21 gradi di libertà e un adattamento perfetto del modello. Le correlazioni tra i mazzi separati da più di una mescolata sono riprodotte tracciando i percorsi di regressione tra ciascun mazzo consecutivo. Le linee tratteggiate mostrano le correlazioni riprodotte con l'ordine iniziale del mazzo. (Figura tratta da {cite:t}`little2023longitudinal`).\n",
    "```\n",
    "\n",
    "Una struttura simplex può essere intesa come un caso specifico di struttura autoregressiva discreta di primo ordine con ritardo 1, nota come AR1. Questo modello AR1 è soltanto uno dei tanti approcci autoregressivi esplorati nell'ambito della statistica. In un modello AR1, ogni punto dati in una sequenza è correlato direttamente e unicamente con il suo immediato predecessore, il che implica che il valore corrente è influenzato principalmente da quello appena precedente. Per esemplificare, immagina un mazzo di carte: mescolandolo una volta e confrontando l'ordine risultante con quello originale, la correlazione osservata rappresenterebbe un modello AR1. In questo caso, la correlazione dipende principalmente da quanto sono state mescolate le carte rispetto alla loro disposizione iniziale.\n",
    "\n",
    "D'altra parte, se dopo una o più mescolate, l'ordine delle carte mostra una correlazione con l'ordine originale più alta di quella prevista da un modello AR1, i dati si dicono avere una struttura autoregressiva di secondo ordine (AR2). A differenza dell'AR1, dove ogni valore è legato al suo predecessore immediato, in un modello AR2, il punto dati corrente è influenzato non solo da questo ma anche dal valore che lo precede. Ciò indica che c'è una persistenza o influenza che attraversa più di una fase (o mescolata, nel nostro esempio), suggerendo una correlazione più marcata e duratura nel tempo rispetto a quella di un semplice modello AR1.\n",
    "\n",
    "Per tornare all'esempio delle carte: se, dopo due mescolate, l'ordine delle carte risulta più vicino all'ordine originale di quanto non si aspetterebbe considerando unicamente l'effetto della prima mescolata (AR1), ciò evidenzia un'influenza AR2. In pratica, questo significa che l'effetto della prima mescolata persiste e continua a influenzare l'ordine delle carte anche dopo la seconda mescolata, risultando in una correlazione più forte tra l'ordine originale e quello finale.\n",
    "\n",
    "La struttura simplex è probabilmente il modello di cambiamento più comune nelle scienze sociali e comportamentali per valutare gruppi di individui ripetutamente nel tempo. Sebbene vengano dimostrati alcuni modelli longitudinali con una struttura AR2 (e superiore), l'idea di base è che il processo evolutivo di cambiamento nelle scienze sociali e comportamentali sia il processo simplex. Nelle esemplificazioni che seguono, le influenze AR2 vengono interpretate come effetti di contesto dalle occasioni di misurazione che si verificano in due punti temporali. L'interpretazione del contesto è molto ragionevole nelle scienze sociali. Infatti, non è ancora stato visto un esempio di altre strutture autoregressive che non possano essere descritte come un processo simplex con un ulteriore effetto di contesto (o effetti multipli) sovrapposto ad esso. Indipendentemente dalla vera struttura sottostante, i vari modelli statistici descritti in questo capitolo e nei capitoli successivi possono gestire la maggior parte dei processi di cambiamento che potrebbero essere incontrati. Una buona teoria, misurazioni migliori e disegni migliorati aiuteranno a chiarire cosa cambia e come cambia; per ora, si può procedere con poca perdita di generalità."
   ]
  }
 ],
 "metadata": {
  "jupytext": {
   "cell_metadata_filter": "tags,-all",
   "main_language": "R",
   "notebook_metadata_filter": "-all"
  },
  "kernelspec": {
   "display_name": "R",
   "language": "R",
   "name": "ir"
  },
  "language_info": {
   "codemirror_mode": "r",
   "file_extension": ".r",
   "mimetype": "text/x-r-source",
   "name": "R",
   "pygments_lexer": "r",
   "version": "4.3.2"
  }
 },
 "nbformat": 4,
 "nbformat_minor": 5
}