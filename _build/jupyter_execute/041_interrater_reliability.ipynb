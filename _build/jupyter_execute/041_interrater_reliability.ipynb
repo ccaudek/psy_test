{
 "cells": [
  {
   "cell_type": "markdown",
   "metadata": {},
   "source": [
    "(interrater-reliability-notebook)=\n",
    "# L'affidabilità tra giudici"
   ]
  },
  {
   "cell_type": "markdown",
   "metadata": {},
   "source": [
    "L'affidabilità tra giudici (*Interrater Reliability*) si riferisce alla coerenza o concordanza tra due o più osservatori o giudici che stanno misurando o valutando lo stesso fenomeno o campione. In altre parole, indica quanto siano simili i risultati ottenuti da diversi osservatori o giudici quando si esprimono giudizi o misurazioni simili.\n",
    "\n",
    "Questo capitolo esamina l'affidabilità tra giudici in due contesti: con due giudici e con giudici molteplici. Nel primo caso, analizzeremo l'accordo nominale e il Kappa di Cohen. Nel secondo caso, utilizzeremo l'ICC, l'ANOVA ad una via e l'ANOVA a due vie. In questo contesto, i modelli a effetti misti si dimostrano fondamentali per gestire disegni con giudici molteplici, catturando variazioni tra i giudici e tra i partecipanti e fornendo una visione completa dell'affidabilità delle valutazioni."
   ]
  },
  {
   "cell_type": "code",
   "execution_count": 1,
   "metadata": {
    "vscode": {
     "languageId": "r"
    }
   },
   "outputs": [],
   "source": [
    "source(\"_common.R\")\n",
    "suppressPackageStartupMessages(library(lme4))"
   ]
  },
  {
   "cell_type": "markdown",
   "metadata": {},
   "source": [
    "Nella discussione seguente useremo i dati dello studio [The Reliability and Validity of Speech-Language Pathologists’ Estimations of Intelligibility in Dysarthria](https://www.mdpi.com/2076-3425/12/8/1011/) di Hirsch, Thompson, Kim e Lansford (2022)."
   ]
  },
  {
   "cell_type": "code",
   "execution_count": 2,
   "metadata": {
    "vscode": {
     "languageId": "r"
    }
   },
   "outputs": [
    {
     "data": {
      "text/html": [
       "<table class=\"dataframe\">\n",
       "<caption>A tibble: 6 × 22</caption>\n",
       "<thead>\n",
       "\t<tr><th scope=col>Speaker</th><th scope=col>slp10</th><th scope=col>slp11</th><th scope=col>slp13</th><th scope=col>slp14</th><th scope=col>slp15</th><th scope=col>slp16</th><th scope=col>slp17</th><th scope=col>slp18</th><th scope=col>slp19</th><th scope=col>⋯</th><th scope=col>slp21</th><th scope=col>slp22</th><th scope=col>slp23</th><th scope=col>slp25</th><th scope=col>slp3</th><th scope=col>slp4</th><th scope=col>slp5</th><th scope=col>slp6</th><th scope=col>slp8</th><th scope=col>slp9</th></tr>\n",
       "\t<tr><th scope=col>&lt;chr&gt;</th><th scope=col>&lt;dbl&gt;</th><th scope=col>&lt;dbl&gt;</th><th scope=col>&lt;dbl&gt;</th><th scope=col>&lt;dbl&gt;</th><th scope=col>&lt;dbl&gt;</th><th scope=col>&lt;dbl&gt;</th><th scope=col>&lt;dbl&gt;</th><th scope=col>&lt;dbl&gt;</th><th scope=col>&lt;dbl&gt;</th><th scope=col>⋯</th><th scope=col>&lt;dbl&gt;</th><th scope=col>&lt;dbl&gt;</th><th scope=col>&lt;dbl&gt;</th><th scope=col>&lt;dbl&gt;</th><th scope=col>&lt;dbl&gt;</th><th scope=col>&lt;dbl&gt;</th><th scope=col>&lt;dbl&gt;</th><th scope=col>&lt;dbl&gt;</th><th scope=col>&lt;dbl&gt;</th><th scope=col>&lt;dbl&gt;</th></tr>\n",
       "</thead>\n",
       "<tbody>\n",
       "\t<tr><td>AF1  </td><td>96.28</td><td>100.00</td><td>96.56</td><td>99.30</td><td>100.00</td><td>12.58</td><td>100.00</td><td>88.16</td><td>52.58</td><td>⋯</td><td>77.42</td><td>73.64</td><td>100.00</td><td>100.00</td><td> 37.82</td><td>73.24</td><td>55.01</td><td>100.00</td><td>53.94</td><td>85.07</td></tr>\n",
       "\t<tr><td>AF9  </td><td>12.32</td><td> 34.68</td><td> 0.86</td><td> 3.52</td><td> 12.58</td><td> 0.00</td><td>  6.69</td><td> 0.00</td><td> 7.42</td><td>⋯</td><td>13.55</td><td> 0.00</td><td>  0.00</td><td>  2.90</td><td>  0.00</td><td>14.51</td><td> 1.72</td><td>    NA</td><td> 6.76</td><td>10.28</td></tr>\n",
       "\t<tr><td>ALSF6</td><td>   NA</td><td> 30.84</td><td> 5.73</td><td>73.94</td><td> 73.87</td><td> 4.52</td><td> 45.13</td><td>41.92</td><td>26.13</td><td>⋯</td><td>25.81</td><td> 8.31</td><td> 18.46</td><td> 86.77</td><td>  0.00</td><td>26.20</td><td> 3.72</td><td>    NA</td><td> 9.86</td><td>37.75</td></tr>\n",
       "\t<tr><td>ALSF7</td><td>93.98</td><td> 96.31</td><td>61.32</td><td>64.37</td><td>100.00</td><td> 7.74</td><td> 69.92</td><td>88.16</td><td>37.42</td><td>⋯</td><td>59.35</td><td>34.10</td><td> 90.63</td><td> 53.23</td><td> 99.71</td><td>63.10</td><td>56.73</td><td> 88.83</td><td>64.93</td><td>53.80</td></tr>\n",
       "\t<tr><td>ALSF9</td><td>29.51</td><td> 52.20</td><td>43.55</td><td>46.76</td><td> 60.65</td><td>23.87</td><td> 25.21</td><td>91.64</td><td>37.10</td><td>⋯</td><td>57.74</td><td>29.51</td><td> 50.14</td><td> 64.84</td><td>  0.00</td><td>31.13</td><td>40.11</td><td> 16.91</td><td> 5.92</td><td>50.00</td></tr>\n",
       "\t<tr><td>ALSM1</td><td>96.28</td><td>    NA</td><td>29.23</td><td>69.44</td><td> 99.35</td><td>82.26</td><td> 70.19</td><td>79.72</td><td>78.39</td><td>⋯</td><td>83.87</td><td>84.24</td><td> 92.29</td><td>100.00</td><td>100.00</td><td>18.03</td><td>58.74</td><td> 66.48</td><td>51.83</td><td>60.28</td></tr>\n",
       "</tbody>\n",
       "</table>\n"
      ],
      "text/latex": [
       "A tibble: 6 × 22\n",
       "\\begin{tabular}{lllllllllllllllllllll}\n",
       " Speaker & slp10 & slp11 & slp13 & slp14 & slp15 & slp16 & slp17 & slp18 & slp19 & ⋯ & slp21 & slp22 & slp23 & slp25 & slp3 & slp4 & slp5 & slp6 & slp8 & slp9\\\\\n",
       " <chr> & <dbl> & <dbl> & <dbl> & <dbl> & <dbl> & <dbl> & <dbl> & <dbl> & <dbl> & ⋯ & <dbl> & <dbl> & <dbl> & <dbl> & <dbl> & <dbl> & <dbl> & <dbl> & <dbl> & <dbl>\\\\\n",
       "\\hline\n",
       "\t AF1   & 96.28 & 100.00 & 96.56 & 99.30 & 100.00 & 12.58 & 100.00 & 88.16 & 52.58 & ⋯ & 77.42 & 73.64 & 100.00 & 100.00 &  37.82 & 73.24 & 55.01 & 100.00 & 53.94 & 85.07\\\\\n",
       "\t AF9   & 12.32 &  34.68 &  0.86 &  3.52 &  12.58 &  0.00 &   6.69 &  0.00 &  7.42 & ⋯ & 13.55 &  0.00 &   0.00 &   2.90 &   0.00 & 14.51 &  1.72 &     NA &  6.76 & 10.28\\\\\n",
       "\t ALSF6 &    NA &  30.84 &  5.73 & 73.94 &  73.87 &  4.52 &  45.13 & 41.92 & 26.13 & ⋯ & 25.81 &  8.31 &  18.46 &  86.77 &   0.00 & 26.20 &  3.72 &     NA &  9.86 & 37.75\\\\\n",
       "\t ALSF7 & 93.98 &  96.31 & 61.32 & 64.37 & 100.00 &  7.74 &  69.92 & 88.16 & 37.42 & ⋯ & 59.35 & 34.10 &  90.63 &  53.23 &  99.71 & 63.10 & 56.73 &  88.83 & 64.93 & 53.80\\\\\n",
       "\t ALSF9 & 29.51 &  52.20 & 43.55 & 46.76 &  60.65 & 23.87 &  25.21 & 91.64 & 37.10 & ⋯ & 57.74 & 29.51 &  50.14 &  64.84 &   0.00 & 31.13 & 40.11 &  16.91 &  5.92 & 50.00\\\\\n",
       "\t ALSM1 & 96.28 &     NA & 29.23 & 69.44 &  99.35 & 82.26 &  70.19 & 79.72 & 78.39 & ⋯ & 83.87 & 84.24 &  92.29 & 100.00 & 100.00 & 18.03 & 58.74 &  66.48 & 51.83 & 60.28\\\\\n",
       "\\end{tabular}\n"
      ],
      "text/markdown": [
       "\n",
       "A tibble: 6 × 22\n",
       "\n",
       "| Speaker &lt;chr&gt; | slp10 &lt;dbl&gt; | slp11 &lt;dbl&gt; | slp13 &lt;dbl&gt; | slp14 &lt;dbl&gt; | slp15 &lt;dbl&gt; | slp16 &lt;dbl&gt; | slp17 &lt;dbl&gt; | slp18 &lt;dbl&gt; | slp19 &lt;dbl&gt; | ⋯ ⋯ | slp21 &lt;dbl&gt; | slp22 &lt;dbl&gt; | slp23 &lt;dbl&gt; | slp25 &lt;dbl&gt; | slp3 &lt;dbl&gt; | slp4 &lt;dbl&gt; | slp5 &lt;dbl&gt; | slp6 &lt;dbl&gt; | slp8 &lt;dbl&gt; | slp9 &lt;dbl&gt; |\n",
       "|---|---|---|---|---|---|---|---|---|---|---|---|---|---|---|---|---|---|---|---|---|\n",
       "| AF1   | 96.28 | 100.00 | 96.56 | 99.30 | 100.00 | 12.58 | 100.00 | 88.16 | 52.58 | ⋯ | 77.42 | 73.64 | 100.00 | 100.00 |  37.82 | 73.24 | 55.01 | 100.00 | 53.94 | 85.07 |\n",
       "| AF9   | 12.32 |  34.68 |  0.86 |  3.52 |  12.58 |  0.00 |   6.69 |  0.00 |  7.42 | ⋯ | 13.55 |  0.00 |   0.00 |   2.90 |   0.00 | 14.51 |  1.72 |     NA |  6.76 | 10.28 |\n",
       "| ALSF6 |    NA |  30.84 |  5.73 | 73.94 |  73.87 |  4.52 |  45.13 | 41.92 | 26.13 | ⋯ | 25.81 |  8.31 |  18.46 |  86.77 |   0.00 | 26.20 |  3.72 |     NA |  9.86 | 37.75 |\n",
       "| ALSF7 | 93.98 |  96.31 | 61.32 | 64.37 | 100.00 |  7.74 |  69.92 | 88.16 | 37.42 | ⋯ | 59.35 | 34.10 |  90.63 |  53.23 |  99.71 | 63.10 | 56.73 |  88.83 | 64.93 | 53.80 |\n",
       "| ALSF9 | 29.51 |  52.20 | 43.55 | 46.76 |  60.65 | 23.87 |  25.21 | 91.64 | 37.10 | ⋯ | 57.74 | 29.51 |  50.14 |  64.84 |   0.00 | 31.13 | 40.11 |  16.91 |  5.92 | 50.00 |\n",
       "| ALSM1 | 96.28 |     NA | 29.23 | 69.44 |  99.35 | 82.26 |  70.19 | 79.72 | 78.39 | ⋯ | 83.87 | 84.24 |  92.29 | 100.00 | 100.00 | 18.03 | 58.74 |  66.48 | 51.83 | 60.28 |\n",
       "\n"
      ],
      "text/plain": [
       "  Speaker slp10 slp11  slp13 slp14 slp15  slp16 slp17  slp18 slp19 ⋯ slp21\n",
       "1 AF1     96.28 100.00 96.56 99.30 100.00 12.58 100.00 88.16 52.58 ⋯ 77.42\n",
       "2 AF9     12.32  34.68  0.86  3.52  12.58  0.00   6.69  0.00  7.42 ⋯ 13.55\n",
       "3 ALSF6      NA  30.84  5.73 73.94  73.87  4.52  45.13 41.92 26.13 ⋯ 25.81\n",
       "4 ALSF7   93.98  96.31 61.32 64.37 100.00  7.74  69.92 88.16 37.42 ⋯ 59.35\n",
       "5 ALSF9   29.51  52.20 43.55 46.76  60.65 23.87  25.21 91.64 37.10 ⋯ 57.74\n",
       "6 ALSM1   96.28     NA 29.23 69.44  99.35 82.26  70.19 79.72 78.39 ⋯ 83.87\n",
       "  slp22 slp23  slp25  slp3   slp4  slp5  slp6   slp8  slp9 \n",
       "1 73.64 100.00 100.00  37.82 73.24 55.01 100.00 53.94 85.07\n",
       "2  0.00   0.00   2.90   0.00 14.51  1.72     NA  6.76 10.28\n",
       "3  8.31  18.46  86.77   0.00 26.20  3.72     NA  9.86 37.75\n",
       "4 34.10  90.63  53.23  99.71 63.10 56.73  88.83 64.93 53.80\n",
       "5 29.51  50.14  64.84   0.00 31.13 40.11  16.91  5.92 50.00\n",
       "6 84.24  92.29 100.00 100.00 18.03 58.74  66.48 51.83 60.28"
      ]
     },
     "metadata": {},
     "output_type": "display_data"
    }
   ],
   "source": [
    "slp_dat <- read.csv(\"https://osf.io/download/p9gqk/\")\n",
    "slp_vas_wide <- slp_dat |>\n",
    "    select(slpID, Speaker, slp_VAS) |>\n",
    "    pivot_wider(names_from = slpID, values_from = slp_VAS)\n",
    "head(slp_vas_wide)"
   ]
  },
  {
   "cell_type": "markdown",
   "metadata": {},
   "source": [
    "## Due giudici\n",
    "\n",
    "Selezioniamo unicamente i primi due giudici."
   ]
  },
  {
   "cell_type": "code",
   "execution_count": 3,
   "metadata": {
    "vscode": {
     "languageId": "r"
    }
   },
   "outputs": [
    {
     "data": {
      "text/html": [
       "<table class=\"dataframe\">\n",
       "<caption>A tibble: 6 × 2</caption>\n",
       "<thead>\n",
       "\t<tr><th scope=col>slp14</th><th scope=col>slp15</th></tr>\n",
       "\t<tr><th scope=col>&lt;dbl&gt;</th><th scope=col>&lt;dbl&gt;</th></tr>\n",
       "</thead>\n",
       "<tbody>\n",
       "\t<tr><td>99.30</td><td>100.00</td></tr>\n",
       "\t<tr><td> 3.52</td><td> 12.58</td></tr>\n",
       "\t<tr><td>73.94</td><td> 73.87</td></tr>\n",
       "\t<tr><td>64.37</td><td>100.00</td></tr>\n",
       "\t<tr><td>46.76</td><td> 60.65</td></tr>\n",
       "\t<tr><td>69.44</td><td> 99.35</td></tr>\n",
       "</tbody>\n",
       "</table>\n"
      ],
      "text/latex": [
       "A tibble: 6 × 2\n",
       "\\begin{tabular}{ll}\n",
       " slp14 & slp15\\\\\n",
       " <dbl> & <dbl>\\\\\n",
       "\\hline\n",
       "\t 99.30 & 100.00\\\\\n",
       "\t  3.52 &  12.58\\\\\n",
       "\t 73.94 &  73.87\\\\\n",
       "\t 64.37 & 100.00\\\\\n",
       "\t 46.76 &  60.65\\\\\n",
       "\t 69.44 &  99.35\\\\\n",
       "\\end{tabular}\n"
      ],
      "text/markdown": [
       "\n",
       "A tibble: 6 × 2\n",
       "\n",
       "| slp14 &lt;dbl&gt; | slp15 &lt;dbl&gt; |\n",
       "|---|---|\n",
       "| 99.30 | 100.00 |\n",
       "|  3.52 |  12.58 |\n",
       "| 73.94 |  73.87 |\n",
       "| 64.37 | 100.00 |\n",
       "| 46.76 |  60.65 |\n",
       "| 69.44 |  99.35 |\n",
       "\n"
      ],
      "text/plain": [
       "  slp14 slp15 \n",
       "1 99.30 100.00\n",
       "2  3.52  12.58\n",
       "3 73.94  73.87\n",
       "4 64.37 100.00\n",
       "5 46.76  60.65\n",
       "6 69.44  99.35"
      ]
     },
     "metadata": {},
     "output_type": "display_data"
    }
   ],
   "source": [
    "slp_2rater <- slp_vas_wide |>\n",
    "    select(slp14, slp15)\n",
    "head(slp_2rater)"
   ]
  },
  {
   "cell_type": "markdown",
   "metadata": {},
   "source": [
    "### Accordo nominale\n",
    "\n",
    "Per calcolare l'accordo nominale, dobbiamo considerare le valutazioni tra due giudici come esattamente uguali. Se utilizziamo questa definizione, otteniamo:"
   ]
  },
  {
   "cell_type": "code",
   "execution_count": 4,
   "metadata": {
    "vscode": {
     "languageId": "r"
    }
   },
   "outputs": [
    {
     "data": {
      "text/html": [
       "0.1"
      ],
      "text/latex": [
       "0.1"
      ],
      "text/markdown": [
       "0.1"
      ],
      "text/plain": [
       "[1] 0.1"
      ]
     },
     "metadata": {},
     "output_type": "display_data"
    }
   ],
   "source": [
    "with(slp_2rater, mean(slp14 == slp15))"
   ]
  },
  {
   "cell_type": "markdown",
   "metadata": {},
   "source": [
    "Se invece rilassiamo leggermente la definizione e diciamo che l'accordo è raggiunto se è lo stesso dopo l'arrotondamento, otteniamo:"
   ]
  },
  {
   "cell_type": "code",
   "execution_count": 5,
   "metadata": {
    "vscode": {
     "languageId": "r"
    }
   },
   "outputs": [
    {
     "data": {
      "text/plain": [
       "     slp15\n",
       "slp14 0 1 2 3 4 5 6 7 8 9 10\n",
       "   0  0 1 0 0 0 0 0 0 0 0  0\n",
       "   1  0 0 0 0 0 0 0 0 0 0  0\n",
       "   2  0 0 0 0 0 0 0 0 0 0  0\n",
       "   3  0 0 0 0 0 0 0 0 0 0  0\n",
       "   4  0 0 0 0 0 0 0 0 0 0  0\n",
       "   5  0 0 0 0 0 0 1 0 0 0  0\n",
       "   6  0 0 0 0 0 1 0 0 0 0  2\n",
       "   7  0 0 0 0 0 0 0 1 0 0  1\n",
       "   8  0 0 0 0 0 0 0 0 0 2  0\n",
       "   9  0 0 0 0 0 0 0 0 1 0  2\n",
       "   10 0 0 0 0 0 0 0 1 0 0  7"
      ]
     },
     "metadata": {},
     "output_type": "display_data"
    }
   ],
   "source": [
    "slp_2round <- round(slp_2rater / 10)\n",
    "slp_2round <- lapply(slp_2round, FUN = factor, levels = 0:10)\n",
    "# Contingency table\n",
    "table(slp_2round)"
   ]
  },
  {
   "cell_type": "code",
   "execution_count": 6,
   "metadata": {
    "vscode": {
     "languageId": "r"
    }
   },
   "outputs": [
    {
     "data": {
      "text/html": [
       "0.4"
      ],
      "text/latex": [
       "0.4"
      ],
      "text/markdown": [
       "0.4"
      ],
      "text/plain": [
       "[1] 0.4"
      ]
     },
     "metadata": {},
     "output_type": "display_data"
    }
   ],
   "source": [
    "p0 <- with(slp_2round, mean(slp14 == slp15))\n",
    "p0"
   ]
  },
  {
   "cell_type": "markdown",
   "metadata": {},
   "source": [
    "### Kappa di Cohen\n",
    "\n",
    "L'indice di concordanza Kappa di Cohen è definito nel modo seguente:\n",
    "\n",
    "$$\n",
    "\\kappa = \\frac{p_o - p_c}{1 - p_c},\n",
    "$$\n",
    "\n",
    "dove:\n",
    "\n",
    "- $\\kappa$ rappresenta il coefficiente di Kappa di Cohen.\n",
    "- $p_o$ è l'indice di concordanza osservato tra gli osservatori.\n",
    "- $p_c$ è l'indice di concordanza attesa per caso.\n",
    "\n",
    "$p_o$ (indice di concordanza osservato tra gli osservatori):\n",
    "\n",
    "$$\n",
    "p_o = \\frac{{\\text{Numero di accordi osservati}}}{{\\text{Numero totale di confronti}}}\n",
    "$$\n",
    "\n",
    "In altre parole, $p_o$ è il rapporto tra il numero di volte in cui gli osservatori sono concordi (hanno dato la stessa valutazione) e il numero totale di confronti effettuati.\n",
    "\n",
    "$p_c$ è l'indice di concordanza attesa per caso:\n",
    "\n",
    "$$\n",
    "p_c = \\frac{{\\sum (\\text{Riga i-esima del totale}) \\times (\\text{Colonna i-esima del totale})}}{{\\text{Numero totale di confronti}}^2} \n",
    "$$\n",
    "\n",
    "In altre parole, $p_c$ è il rapporto atteso di concordanza tra gli osservatori nel caso in cui le loro valutazioni siano indipendenti.\n",
    "\n",
    "Queste formule vengono utilizzate per calcolare il coefficiente di Kappa di Cohen, che misura la concordanza tra osservatori che stanno misurando una variabile categorica, tenendo conto della concordanza casuale attesa. Un valore di $\\kappa$ vicino a 1 indica un'alta concordanza, mentre un valore vicino a 0 indica una concordanza casuale e un valore negativo indica una concordanza peggiore di quella casuale."
   ]
  },
  {
   "cell_type": "code",
   "execution_count": 7,
   "metadata": {
    "vscode": {
     "languageId": "r"
    }
   },
   "outputs": [
    {
     "data": {
      "text/html": [
       "0.166666666666667"
      ],
      "text/latex": [
       "0.166666666666667"
      ],
      "text/markdown": [
       "0.166666666666667"
      ],
      "text/plain": [
       "[1] 0.1666667"
      ]
     },
     "metadata": {},
     "output_type": "display_data"
    }
   ],
   "source": [
    "slp_2tab <- table(slp_2round)\n",
    "pc <- sum(colSums(slp_2tab) * rowSums(slp_2tab)) / sum(slp_2tab)^2\n",
    "(kappa <- (p0 - pc) / (1 - pc))"
   ]
  },
  {
   "cell_type": "markdown",
   "metadata": {},
   "source": [
    "Svantaggio: Il coefficiente di Kappa tende a essere basso quando i punteggi sono distribuiti in maniera disomogenea (ad esempio, quando la maggior parte dei punteggi appartiene a determinate categorie). Questa situazione corrisponde esattamente a quella descritta sopra.\n",
    "\n",
    "## Giudici multipli\n",
    "\n",
    "### Coefficiente $\\alpha$\n",
    "\n",
    "Ciascun giudice è trattato come un \"item\"."
   ]
  },
  {
   "cell_type": "code",
   "execution_count": 8,
   "metadata": {
    "vscode": {
     "languageId": "r"
    }
   },
   "outputs": [
    {
     "name": "stderr",
     "output_type": "stream",
     "text": [
      "Number of categories should be increased  in order to count frequencies. \n",
      "\n"
     ]
    },
    {
     "name": "stderr",
     "output_type": "stream",
     "text": [
      "Warning message in cor.smooth(r):\n",
      "“Matrix was not positive definite, smoothing was done”\n"
     ]
    },
    {
     "name": "stderr",
     "output_type": "stream",
     "text": [
      "In smc, smcs > 1 were set to 1.0\n",
      "\n"
     ]
    },
    {
     "name": "stderr",
     "output_type": "stream",
     "text": [
      "In smc, smcs > 1 were set to 1.0\n",
      "\n"
     ]
    },
    {
     "name": "stderr",
     "output_type": "stream",
     "text": [
      "In smc, smcs < 0 were set to .0\n",
      "\n"
     ]
    },
    {
     "name": "stderr",
     "output_type": "stream",
     "text": [
      "In smc, smcs > 1 were set to 1.0\n",
      "\n"
     ]
    },
    {
     "name": "stderr",
     "output_type": "stream",
     "text": [
      "In smc, smcs > 1 were set to 1.0\n",
      "\n"
     ]
    },
    {
     "name": "stderr",
     "output_type": "stream",
     "text": [
      "In smc, smcs > 1 were set to 1.0\n",
      "\n"
     ]
    },
    {
     "name": "stderr",
     "output_type": "stream",
     "text": [
      "In smc, smcs > 1 were set to 1.0\n",
      "\n"
     ]
    },
    {
     "name": "stderr",
     "output_type": "stream",
     "text": [
      "In smc, smcs > 1 were set to 1.0\n",
      "\n"
     ]
    },
    {
     "name": "stderr",
     "output_type": "stream",
     "text": [
      "In smc, smcs < 0 were set to .0\n",
      "\n"
     ]
    },
    {
     "name": "stderr",
     "output_type": "stream",
     "text": [
      "In smc, smcs > 1 were set to 1.0\n",
      "\n"
     ]
    },
    {
     "name": "stderr",
     "output_type": "stream",
     "text": [
      "In smc, smcs < 0 were set to .0\n",
      "\n"
     ]
    },
    {
     "name": "stderr",
     "output_type": "stream",
     "text": [
      "In smc, smcs > 1 were set to 1.0\n",
      "\n"
     ]
    },
    {
     "name": "stderr",
     "output_type": "stream",
     "text": [
      "In smc, smcs > 1 were set to 1.0\n",
      "\n"
     ]
    },
    {
     "name": "stderr",
     "output_type": "stream",
     "text": [
      "In smc, smcs > 1 were set to 1.0\n",
      "\n"
     ]
    },
    {
     "name": "stderr",
     "output_type": "stream",
     "text": [
      "In smc, smcs > 1 were set to 1.0\n",
      "\n"
     ]
    },
    {
     "name": "stderr",
     "output_type": "stream",
     "text": [
      "In smc, smcs > 1 were set to 1.0\n",
      "\n"
     ]
    },
    {
     "name": "stderr",
     "output_type": "stream",
     "text": [
      "In smc, smcs < 0 were set to .0\n",
      "\n"
     ]
    },
    {
     "name": "stderr",
     "output_type": "stream",
     "text": [
      "In smc, smcs > 1 were set to 1.0\n",
      "\n"
     ]
    },
    {
     "name": "stderr",
     "output_type": "stream",
     "text": [
      "In smc, smcs > 1 were set to 1.0\n",
      "\n"
     ]
    },
    {
     "name": "stderr",
     "output_type": "stream",
     "text": [
      "In smc, smcs < 0 were set to .0\n",
      "\n"
     ]
    },
    {
     "name": "stderr",
     "output_type": "stream",
     "text": [
      "In smc, smcs > 1 were set to 1.0\n",
      "\n"
     ]
    },
    {
     "name": "stderr",
     "output_type": "stream",
     "text": [
      "In smc, smcs < 0 were set to .0\n",
      "\n"
     ]
    },
    {
     "name": "stderr",
     "output_type": "stream",
     "text": [
      "In smc, smcs > 1 were set to 1.0\n",
      "\n"
     ]
    },
    {
     "name": "stderr",
     "output_type": "stream",
     "text": [
      "In smc, smcs > 1 were set to 1.0\n",
      "\n"
     ]
    },
    {
     "name": "stderr",
     "output_type": "stream",
     "text": [
      "In smc, smcs > 1 were set to 1.0\n",
      "\n"
     ]
    },
    {
     "name": "stderr",
     "output_type": "stream",
     "text": [
      "In smc, smcs < 0 were set to .0\n",
      "\n"
     ]
    },
    {
     "name": "stderr",
     "output_type": "stream",
     "text": [
      "In smc, smcs > 1 were set to 1.0\n",
      "\n"
     ]
    },
    {
     "name": "stderr",
     "output_type": "stream",
     "text": [
      "In smc, smcs < 0 were set to .0\n",
      "\n"
     ]
    },
    {
     "name": "stderr",
     "output_type": "stream",
     "text": [
      "In smc, smcs > 1 were set to 1.0\n",
      "\n"
     ]
    },
    {
     "name": "stderr",
     "output_type": "stream",
     "text": [
      "In smc, smcs < 0 were set to .0\n",
      "\n"
     ]
    },
    {
     "name": "stderr",
     "output_type": "stream",
     "text": [
      "In smc, smcs > 1 were set to 1.0\n",
      "\n"
     ]
    },
    {
     "name": "stderr",
     "output_type": "stream",
     "text": [
      "In smc, smcs > 1 were set to 1.0\n",
      "\n"
     ]
    },
    {
     "data": {
      "text/plain": [
       "\n",
       "Reliability analysis   \n",
       "Call: psych::alpha(x = slp_vas_wide[-1])\n",
       "\n",
       "  raw_alpha std.alpha G6(smc) average_r S/N    ase mean sd median_r\n",
       "      0.98      0.98    0.99      0.68  45 0.0076   62 25      0.7\n",
       "\n",
       "    95% confidence boundaries \n",
       "         lower alpha upper\n",
       "Feldt     0.96  0.98  0.99\n",
       "Duhachek  0.96  0.98  0.99\n",
       "\n",
       " Reliability if an item is dropped:\n",
       "      raw_alpha std.alpha G6(smc) average_r S/N var.r med.r\n",
       "slp10      0.97      0.98    0.98      0.68  42 0.019  0.70\n",
       "slp11      0.97      0.98    1.00      0.68  42 0.018  0.70\n",
       "slp13      0.97      0.98    0.99      0.68  42 0.019  0.70\n",
       "slp14      0.97      0.98    0.99      0.68  43 0.019  0.71\n",
       "slp15      0.97      0.98    1.00      0.68  43 0.019  0.71\n",
       "slp16      0.98      0.98    0.99      0.69  45 0.018  0.71\n",
       "slp17      0.97      0.98    0.99      0.68  42 0.019  0.69\n",
       "slp18      0.97      0.98    1.00      0.69  44 0.017  0.71\n",
       "slp19      0.97      0.98    0.99      0.68  43 0.019  0.71\n",
       "slp2       0.97      0.98    0.99      0.68  43 0.018  0.71\n",
       "slp20      0.97      0.98    0.99      0.68  42 0.019  0.69\n",
       "slp21      0.97      0.98    0.99      0.68  42 0.018  0.69\n",
       "slp22      0.97      0.98    0.99      0.68  43 0.020  0.69\n",
       "slp23      0.97      0.98    0.99      0.68  42 0.019  0.69\n",
       "slp25      0.97      0.98    0.99      0.69  44 0.018  0.71\n",
       "slp3       0.98      0.98    0.99      0.69  44 0.019  0.71\n",
       "slp4       0.97      0.98    0.99      0.69  44 0.018  0.71\n",
       "slp5       0.97      0.98    0.99      0.68  43 0.019  0.70\n",
       "slp6       0.98      0.98    0.99      0.71  48 0.011  0.71\n",
       "slp8       0.97      0.98    0.99      0.68  42 0.020  0.70\n",
       "slp9       0.97      0.98    0.99      0.68  42 0.018  0.69\n",
       "\n",
       " Item statistics \n",
       "       n raw.r std.r r.cor r.drop mean sd\n",
       "slp10 18  0.89  0.88  0.88   0.86   81 28\n",
       "slp11 18  0.89  0.91  0.92   0.90   69 33\n",
       "slp13 19  0.86  0.88  0.88   0.86   54 33\n",
       "slp14 20  0.82  0.84  0.84   0.81   80 25\n",
       "slp15 20  0.81  0.82  0.81   0.80   85 22\n",
       "slp16 20  0.77  0.76  0.76   0.73   50 42\n",
       "slp17 20  0.90  0.91  0.91   0.90   63 34\n",
       "slp18 20  0.82  0.81  0.78   0.79   70 30\n",
       "slp19 19  0.83  0.83  0.83   0.81   56 25\n",
       "slp2  20  0.83  0.82  0.82   0.80   64 32\n",
       "slp20 20  0.90  0.91  0.91   0.89   49 25\n",
       "slp21 19  0.91  0.91  0.91   0.91   59 25\n",
       "slp22 20  0.86  0.86  0.85   0.84   50 27\n",
       "slp23 20  0.89  0.88  0.88   0.86   71 32\n",
       "slp25 20  0.79  0.79  0.79   0.77   79 28\n",
       "slp3  19  0.76  0.76  0.76   0.74   52 40\n",
       "slp4  20  0.79  0.80  0.78   0.77   47 27\n",
       "slp5  19  0.82  0.82  0.81   0.81   43 23\n",
       "slp6  13  0.80  0.57  0.57   0.54   76 23\n",
       "slp8  20  0.86  0.88  0.88   0.86   53 31\n",
       "slp9  19  0.89  0.91  0.90   0.90   58 23"
      ]
     },
     "metadata": {},
     "output_type": "display_data"
    }
   ],
   "source": [
    "psych::alpha(slp_vas_wide[-1])"
   ]
  },
  {
   "cell_type": "markdown",
   "metadata": {},
   "source": [
    "### Coefficiente di correlazione intraclasse\n",
    "\n",
    "Il Coefficiente di Correlazione Intraclass (ICC) è una misura statistica che descrive quanto le unità all'interno dello stesso gruppo siano simili tra loro. A differenza della maggior parte delle altre misure di correlazione, l'ICC viene utilizzato con dati organizzati in gruppi anziché coppie di osservazioni. Questo lo rende particolarmente adatto quando si desidera valutare la concordanza tra giudici o osservatori che stanno valutando lo stesso gruppo di individui.\n",
    "\n",
    "L'ICC si basa sul framework del modello ANOVA o del modello a effetti misti. Questi modelli statistici consentono di analizzare le variazioni dei punteggi sia all'interno dei gruppi (ovvero le differenze tra le unità all'interno dello stesso gruppo) che tra i gruppi (ovvero le differenze tra i gruppi stessi). Pertanto, l'ICC tiene conto di due fonti di varianza: la varianza all'interno dei gruppi (varianza delle valutazioni dei giudici all'interno dello stesso gruppo) e la varianza tra i gruppi (varianza delle valutazioni dei giudici tra gruppi diversi). Inoltre, viene considerato l'errore casuale presente nelle valutazioni.\n",
    "\n",
    "In sintesi, l'ICC è uno strumento utile per valutare l'affidabilità delle valutazioni o misurazioni effettuate da diversi giudici o osservatori su un gruppo di individui. Un ICC più alto indica una maggiore concordanza tra le valutazioni dei giudici, mentre un ICC più basso indica una maggiore variabilità tra le valutazioni. \n",
    "\n",
    "Variabili indipendenti: Giudici e individui valutati (ratees)\n",
    "Variabile dipendente: Punteggi\n",
    "Fonti di varianza:\n",
    "\n",
    "1. Ratees (varianza di interesse)\n",
    "2. Giudici (raters)\n",
    "3. Interazione tra Ratees e Giudici*\n",
    "4. Errore casuale*\n",
    "\n",
    "L'indice di ICC viene calcolato dividendo la varianza dei ratees per la somma della varianza dei ratees e l'errore casuale. Questo indice misura la proporzione della varianza totale dei punteggi attribuita alla variabilità dei ratees, fornendo un'indicazione dell'affidabilità delle valutazioni effettuate dai giudici. Un ICC più alto indica una maggiore concordanza tra i giudici e quindi una maggiore affidabilità delle valutazioni.\n",
    "\n",
    "Tuttavia, ciò che viene considerato come errore dipende da diverse considerazioni, tra cui:\n",
    "\n",
    "1. Se il design è \"crossed\" (cioè tutti i giudici valutano ciascun individuo valutato) o \"nested\" (diversi gruppi di giudici valutano ciascun individuo valutato). Nel primo caso, l'errore sarà associato alle differenze tra i giudici all'interno dello stesso gruppo di individui valutati, mentre nel secondo caso l'errore sarà relativo alle differenze tra i gruppi di giudici che valutano individui diversi.\n",
    "2. Se i giudici sono considerati \"fixed\" (non generalizzabili) o \"random\" (generalizzabili a una \"popolazione di giudici\"); questa distinzione diventa rilevante solo quando l'interazione tra giudici e individui valutati può essere stimata. Nel caso in cui i giudici siano considerati \"fixed\", si presume che i giudici specifici coinvolti nello studio siano l'unica popolazione rilevante, e l'interesse è focalizzato sulla concordanza tra di loro. Nel caso in cui i giudici siano considerati \"random\", si ammette che i giudici coinvolti nello studio siano solo un campione di una popolazione più ampia di giudici, e l'interesse è sulla concordanza che può essere generalizzata a tale popolazione più vasta.\n",
    "3. La distinzione tra \"consistenza\" (decisioni relative; è interessante solo l'ordinamento dei punteggi) e \"accordo assoluto\" (decisioni assolute; è interessante il valore effettivo del punteggio). Nel contesto della valutazione dei giudici, la consistenza si riferisce al grado in cui i giudici sono concordi nell'ordine di classificazione degli individui valutati, indipendentemente dai valori numerici dei punteggi. D'altra parte, l'accordo assoluto misura il grado di concordanza tra i giudici riguardo ai valori numerici dei punteggi assegnati agli individui valutati.\n",
    "\n",
    "Queste considerazioni sono fondamentali quando si analizzano e interpretano i risultati dell'Intraclass Correlation (ICC) o di altri metodi di valutazione dell'affidabilità tra giudici o osservatori. La scelta del modello statistico e la definizione dell'errore dipendono da queste varie considerazioni, e la comprensione di questi aspetti è essenziale per una valutazione accurata della concordanza e dell'affidabilità nelle misurazioni effettuate da più giudici o osservatori.\n",
    "\n",
    "### ANOVA ad una via per disegni nidificati\n",
    "\n",
    "Consideriamo il caso in cui i dati rappresentano i giudizi assegnati a ciascuna persona da due giudici diversi."
   ]
  },
  {
   "cell_type": "code",
   "execution_count": 9,
   "metadata": {
    "vscode": {
     "languageId": "r"
    }
   },
   "outputs": [
    {
     "data": {
      "text/html": [
       "<table class=\"dataframe\">\n",
       "<caption>A grouped_df: 6 × 7</caption>\n",
       "<thead>\n",
       "\t<tr><th scope=col>slpID</th><th scope=col>Speaker</th><th scope=col>slp_VAS</th><th scope=col>slp_VAS.Rel</th><th scope=col>slp_EST</th><th scope=col>slp_EST.Rel</th><th scope=col>SpeakerID</th></tr>\n",
       "\t<tr><th scope=col>&lt;chr&gt;</th><th scope=col>&lt;chr&gt;</th><th scope=col>&lt;dbl&gt;</th><th scope=col>&lt;dbl&gt;</th><th scope=col>&lt;int&gt;</th><th scope=col>&lt;int&gt;</th><th scope=col>&lt;dbl&gt;</th></tr>\n",
       "</thead>\n",
       "<tbody>\n",
       "\t<tr><td>slp10</td><td>AF1  </td><td> 96.28</td><td>  NA</td><td>90</td><td>NA</td><td>1</td></tr>\n",
       "\t<tr><td>slp11</td><td>AF1  </td><td>100.00</td><td>  NA</td><td>80</td><td>NA</td><td>1</td></tr>\n",
       "\t<tr><td>slp13</td><td>AF9  </td><td>  0.86</td><td>  NA</td><td>10</td><td>NA</td><td>2</td></tr>\n",
       "\t<tr><td>slp14</td><td>AF9  </td><td>  3.52</td><td>  NA</td><td>10</td><td>NA</td><td>2</td></tr>\n",
       "\t<tr><td>slp15</td><td>ALSF6</td><td> 73.87</td><td>  NA</td><td>10</td><td>NA</td><td>3</td></tr>\n",
       "\t<tr><td>slp16</td><td>ALSF6</td><td>  4.52</td><td>9.03</td><td> 5</td><td>NA</td><td>3</td></tr>\n",
       "</tbody>\n",
       "</table>\n"
      ],
      "text/latex": [
       "A grouped\\_df: 6 × 7\n",
       "\\begin{tabular}{lllllll}\n",
       " slpID & Speaker & slp\\_VAS & slp\\_VAS.Rel & slp\\_EST & slp\\_EST.Rel & SpeakerID\\\\\n",
       " <chr> & <chr> & <dbl> & <dbl> & <int> & <int> & <dbl>\\\\\n",
       "\\hline\n",
       "\t slp10 & AF1   &  96.28 &   NA & 90 & NA & 1\\\\\n",
       "\t slp11 & AF1   & 100.00 &   NA & 80 & NA & 1\\\\\n",
       "\t slp13 & AF9   &   0.86 &   NA & 10 & NA & 2\\\\\n",
       "\t slp14 & AF9   &   3.52 &   NA & 10 & NA & 2\\\\\n",
       "\t slp15 & ALSF6 &  73.87 &   NA & 10 & NA & 3\\\\\n",
       "\t slp16 & ALSF6 &   4.52 & 9.03 &  5 & NA & 3\\\\\n",
       "\\end{tabular}\n"
      ],
      "text/markdown": [
       "\n",
       "A grouped_df: 6 × 7\n",
       "\n",
       "| slpID &lt;chr&gt; | Speaker &lt;chr&gt; | slp_VAS &lt;dbl&gt; | slp_VAS.Rel &lt;dbl&gt; | slp_EST &lt;int&gt; | slp_EST.Rel &lt;int&gt; | SpeakerID &lt;dbl&gt; |\n",
       "|---|---|---|---|---|---|---|\n",
       "| slp10 | AF1   |  96.28 |   NA | 90 | NA | 1 |\n",
       "| slp11 | AF1   | 100.00 |   NA | 80 | NA | 1 |\n",
       "| slp13 | AF9   |   0.86 |   NA | 10 | NA | 2 |\n",
       "| slp14 | AF9   |   3.52 |   NA | 10 | NA | 2 |\n",
       "| slp15 | ALSF6 |  73.87 |   NA | 10 | NA | 3 |\n",
       "| slp16 | ALSF6 |   4.52 | 9.03 |  5 | NA | 3 |\n",
       "\n"
      ],
      "text/plain": [
       "  slpID Speaker slp_VAS slp_VAS.Rel slp_EST slp_EST.Rel SpeakerID\n",
       "1 slp10 AF1      96.28    NA        90      NA          1        \n",
       "2 slp11 AF1     100.00    NA        80      NA          1        \n",
       "3 slp13 AF9       0.86    NA        10      NA          2        \n",
       "4 slp14 AF9       3.52    NA        10      NA          2        \n",
       "5 slp15 ALSF6    73.87    NA        10      NA          3        \n",
       "6 slp16 ALSF6     4.52  9.03         5      NA          3        "
      ]
     },
     "metadata": {},
     "output_type": "display_data"
    }
   ],
   "source": [
    "slp_vas_nested <- slp_dat |>\n",
    "    mutate(SpeakerID = as.numeric(as.factor(Speaker))) |>\n",
    "    # Select only 10 speakers\n",
    "    filter(SpeakerID <= 10) |>\n",
    "    group_by(Speaker) |>\n",
    "    # Filter specific raters\n",
    "    filter(row_number() %in% (SpeakerID[1] * 2 - (1:0)))\n",
    "\n",
    "head(slp_vas_nested)"
   ]
  },
  {
   "cell_type": "markdown",
   "metadata": {},
   "source": [
    "Abbiamo un disegno in cui i giudici sono annidati all'interno degli individui valutati. Il disegno \"raters nested within ratees\" indica che i giudici sono organizzati in gruppi all'interno dei singoli individui valutati. In altre parole, più giudici valutano ciascun individuo, e tali gruppi di giudici sono indipendenti tra loro. Per esempio, potremmo avere vari giudici che valutano diversi studenti in una classe, e i giudici non si sovrappongono tra i diversi studenti valutati. \n",
    "\n",
    "Tuttavia, con questa struttura, non possiamo distinguere l'effetto dei giudici (cioè le differenze tra i giudici nelle loro valutazioni) dall'errore casuale (le differenze casuali che possono verificarsi tra le valutazioni dei giudici all'interno dello stesso gruppo). Questo rende difficile capire quanto della variabilità osservata nei punteggi sia dovuto a differenze reali tra i giudici e quanto sia dovuto a fluttuazioni casuali. \n",
    "\n",
    "Per affrontare questa situazione, possiamo utilizzare un'analisi della varianza a effetti casuali unici, comunemente nota come \"one-way random-effect ANOVA\". Questo modello statistico ci consente di stimare la varianza attribuibile alle differenze tra i giudici e la varianza dell'errore casuale. In pratica, il modello considera i giudici come effetti casuali, assumendo che i giudici coinvolti nel nostro studio siano un campione rappresentativo di tutti i possibili giudici che potrebbero essere coinvolti in situazioni simili. Ciò ci permette di stimare la variabilità della valutazione dovuta alla variazione tra i giudici. Questo modello è anche equivalente a un modello multilivello con intercette casuali."
   ]
  },
  {
   "cell_type": "code",
   "execution_count": 10,
   "metadata": {
    "vscode": {
     "languageId": "r"
    }
   },
   "outputs": [
    {
     "data": {
      "text/plain": [
       "Linear mixed model fit by REML ['lmerMod']\n",
       "Formula: slp_VAS ~ 1 + (1 | Speaker)\n",
       "   Data: slp_vas_nested\n",
       "\n",
       "REML criterion at convergence: 179.6\n",
       "\n",
       "Scaled residuals: \n",
       "     Min       1Q   Median       3Q      Max \n",
       "-1.50049 -0.77609 -0.05948  0.87584  1.35589 \n",
       "\n",
       "Random effects:\n",
       " Groups   Name        Variance Std.Dev.\n",
       " Speaker  (Intercept) 308.9    17.58   \n",
       " Residual             816.8    28.58   \n",
       "Number of obs: 19, groups:  Speaker, 10\n",
       "\n",
       "Fixed effects:\n",
       "            Estimate Std. Error t value\n",
       "(Intercept)   53.613      8.627   6.214"
      ]
     },
     "metadata": {},
     "output_type": "display_data"
    }
   ],
   "source": [
    "m1 <- lmer(slp_VAS ~ 1 + (1 | Speaker), data = slp_vas_nested)\n",
    "summary(m1)"
   ]
  },
  {
   "cell_type": "markdown",
   "metadata": {},
   "source": [
    "Estraiamo le fonti di varianza:"
   ]
  },
  {
   "cell_type": "code",
   "execution_count": 11,
   "metadata": {
    "vscode": {
     "languageId": "r"
    }
   },
   "outputs": [
    {
     "data": {
      "text/html": [
       "<table class=\"dataframe\">\n",
       "<caption>A data.frame: 2 × 5</caption>\n",
       "<thead>\n",
       "\t<tr><th scope=col>grp</th><th scope=col>var1</th><th scope=col>var2</th><th scope=col>vcov</th><th scope=col>sdcor</th></tr>\n",
       "\t<tr><th scope=col>&lt;chr&gt;</th><th scope=col>&lt;chr&gt;</th><th scope=col>&lt;chr&gt;</th><th scope=col>&lt;dbl&gt;</th><th scope=col>&lt;dbl&gt;</th></tr>\n",
       "</thead>\n",
       "<tbody>\n",
       "\t<tr><td>Speaker </td><td>(Intercept)</td><td>NA</td><td>308.9062</td><td>17.57573</td></tr>\n",
       "\t<tr><td>Residual</td><td>NA         </td><td>NA</td><td>816.8141</td><td>28.57996</td></tr>\n",
       "</tbody>\n",
       "</table>\n"
      ],
      "text/latex": [
       "A data.frame: 2 × 5\n",
       "\\begin{tabular}{lllll}\n",
       " grp & var1 & var2 & vcov & sdcor\\\\\n",
       " <chr> & <chr> & <chr> & <dbl> & <dbl>\\\\\n",
       "\\hline\n",
       "\t Speaker  & (Intercept) & NA & 308.9062 & 17.57573\\\\\n",
       "\t Residual & NA          & NA & 816.8141 & 28.57996\\\\\n",
       "\\end{tabular}\n"
      ],
      "text/markdown": [
       "\n",
       "A data.frame: 2 × 5\n",
       "\n",
       "| grp &lt;chr&gt; | var1 &lt;chr&gt; | var2 &lt;chr&gt; | vcov &lt;dbl&gt; | sdcor &lt;dbl&gt; |\n",
       "|---|---|---|---|---|\n",
       "| Speaker  | (Intercept) | NA | 308.9062 | 17.57573 |\n",
       "| Residual | NA          | NA | 816.8141 | 28.57996 |\n",
       "\n"
      ],
      "text/plain": [
       "  grp      var1        var2 vcov     sdcor   \n",
       "1 Speaker  (Intercept) NA   308.9062 17.57573\n",
       "2 Residual NA          NA   816.8141 28.57996"
      ]
     },
     "metadata": {},
     "output_type": "display_data"
    }
   ],
   "source": [
    "vc_m1 <- as.data.frame(VarCorr(m1))\n",
    "vc_m1"
   ]
  },
  {
   "cell_type": "markdown",
   "metadata": {},
   "source": [
    "Calcoliamo l'ICC per una singola valutazione:\n",
    "\n",
    "$$\n",
    "ICC = \\frac{\\sigma^2_{\\text{giudici}}} {\\sigma^2_{\\text{giudici}} + \\sigma^2_E}.\n",
    "$$\n",
    "\n",
    "Nella formula, l'ICC misura la proporzione della varianza totale del punteggio `slp_VAS` che è attribuibile alla variazione tra i gruppi dei giudici (Speaker) rispetto alla variazione residua o errore."
   ]
  },
  {
   "cell_type": "code",
   "execution_count": 12,
   "metadata": {
    "vscode": {
     "languageId": "r"
    }
   },
   "outputs": [
    {
     "data": {
      "text/html": [
       "0.274407605495451"
      ],
      "text/latex": [
       "0.274407605495451"
      ],
      "text/markdown": [
       "0.274407605495451"
      ],
      "text/plain": [
       "[1] 0.2744076"
      ]
     },
     "metadata": {},
     "output_type": "display_data"
    }
   ],
   "source": [
    "vc_m1$vcov[1] / (vc_m1$vcov[1] + vc_m1$vcov[2])"
   ]
  },
  {
   "cell_type": "markdown",
   "metadata": {},
   "source": [
    "Calcoliamo l'ICC per la valutazione media:\n",
    "\n",
    "$$\n",
    "ICC = \\frac{\\sigma^2_{\\text{giudici}}} {\\sigma^2_{\\text{giudici}} + \\sigma^2_E / k},\n",
    "$$\n",
    "\n",
    "dove $k$ è il numero di giudici per ciascun individui valutati (ratee)."
   ]
  },
  {
   "cell_type": "code",
   "execution_count": 13,
   "metadata": {
    "vscode": {
     "languageId": "r"
    }
   },
   "outputs": [
    {
     "data": {
      "text/html": [
       "0.430643389622223"
      ],
      "text/latex": [
       "0.430643389622223"
      ],
      "text/markdown": [
       "0.430643389622223"
      ],
      "text/plain": [
       "[1] 0.4306434"
      ]
     },
     "metadata": {},
     "output_type": "display_data"
    }
   ],
   "source": [
    "vc_m1$vcov[1] / (vc_m1$vcov[1] + vc_m1$vcov[2] / 2)"
   ]
  },
  {
   "cell_type": "markdown",
   "metadata": {},
   "source": [
    "### ANOVA a due vie\n",
    "\n",
    "L'ANOVA a due vie è una tecnica statistica che ci consente di esaminare l'effetto di due o più variabili indipendenti (fattori) sulla variabile dipendente (risposta). Nel nostro caso, stiamo analizzando l'effetto dei giudici (raters) su una variabile dipendente, come ad esempio una scala di valutazione.\n",
    "\n",
    "Nell'esaminare la consistenza delle misurazioni, ossia quando ci interessa l'ordine di classificazione delle risposte, il bias dei giudici non è considerato un errore. Ciò avviene poiché il bias, ovvero le tendenze o inclinazioni dei giudici nelle loro valutazioni, si applica in modo simile a tutti gli individui valutati e non modifica l'ordine relativo delle valutazioni. In altre parole, se un giudice tende a valutare più alti o più bassi rispetto agli altri giudici, questa tendenza si rifletterà in tutte le valutazioni, ma l'ordine dei valori rimarrà invariato.\n",
    "\n",
    "D'altra parte, quando valutiamo l'accordo tra i giudici, ossia quando ci interessa la concordanza delle misurazioni in termini di valori assoluti, il bias dei giudici è considerato un errore. Questo accade perché il bias, che potrebbe portare a differenze sistematiche nei punteggi assegnati, influisce direttamente sui valori numerici delle valutazioni. In questo caso, l'effetto del giudice contribuisce alla variabilità totale delle misurazioni, andando oltre la variabilità intrinseca delle risposte.\n",
    "\n",
    "In sintesi, il trattamento dell'effetto dei giudici come errore o non errore dipende dal contesto in cui vengono effettuate le valutazioni. Nell'analisi di consistenza (decisione relativa), dove l'ordine delle valutazioni è fondamentale, il bias del giudice non è considerato un errore. D'altro canto, nell'analisi di accordo (decisione assoluta), dove i valori numerici esatti delle misurazioni sono cruciali, il bias del giudice è trattato come errore poiché può influenzare direttamente i valori assoluti delle valutazioni."
   ]
  },
  {
   "cell_type": "code",
   "execution_count": 14,
   "metadata": {
    "vscode": {
     "languageId": "r"
    }
   },
   "outputs": [
    {
     "data": {
      "text/plain": [
       "Linear mixed model fit by REML ['lmerMod']\n",
       "Formula: slp_VAS ~ 1 + (1 | Speaker) + (1 | slpID)\n",
       "   Data: slp_dat\n",
       "\n",
       "REML criterion at convergence: 3544.1\n",
       "\n",
       "Scaled residuals: \n",
       "    Min      1Q  Median      3Q     Max \n",
       "-3.3281 -0.5813  0.0862  0.6611  2.5747 \n",
       "\n",
       "Random effects:\n",
       " Groups   Name        Variance Std.Dev.\n",
       " slpID    (Intercept) 132.8    11.53   \n",
       " Speaker  (Intercept) 585.7    24.20   \n",
       " Residual             291.2    17.07   \n",
       "Number of obs: 403, groups:  slpID, 21; Speaker, 20\n",
       "\n",
       "Fixed effects:\n",
       "            Estimate Std. Error t value\n",
       "(Intercept)   61.882      6.028   10.27"
      ]
     },
     "metadata": {},
     "output_type": "display_data"
    }
   ],
   "source": [
    "m2 <- lmer(slp_VAS ~ 1 + (1 | Speaker) + (1 | slpID), data = slp_dat)\n",
    "summary(m2)"
   ]
  },
  {
   "cell_type": "code",
   "execution_count": 15,
   "metadata": {
    "vscode": {
     "languageId": "r"
    }
   },
   "outputs": [
    {
     "data": {
      "text/plain": [
       "Call: psych::ICC(x = slp_vas_wide[-1])\n",
       "\n",
       "Intraclass correlation coefficients \n",
       "                         type  ICC  F df1 df2       p lower bound upper bound\n",
       "Single_raters_absolute   ICC1 0.58 30  19 400 1.6e-64        0.43        0.75\n",
       "Single_random_raters     ICC2 0.58 43  19 380 1.0e-82        0.43        0.75\n",
       "Single_fixed_raters      ICC3 0.67 43  19 380 1.0e-82        0.53        0.81\n",
       "Average_raters_absolute ICC1k 0.97 30  19 400 1.6e-64        0.94        0.98\n",
       "Average_random_raters   ICC2k 0.97 43  19 380 1.0e-82        0.94        0.98\n",
       "Average_fixed_raters    ICC3k 0.98 43  19 380 1.0e-82        0.96        0.99\n",
       "\n",
       " Number of subjects = 20     Number of Judges =  21\n",
       "See the help file for a discussion of the other 4 McGraw and Wong estimates,"
      ]
     },
     "metadata": {},
     "output_type": "display_data"
    }
   ],
   "source": [
    "psych::ICC(slp_vas_wide[-1])"
   ]
  },
  {
   "cell_type": "markdown",
   "metadata": {},
   "source": [
    "Estraiamo le fonti di varianza:"
   ]
  },
  {
   "cell_type": "code",
   "execution_count": 16,
   "metadata": {
    "vscode": {
     "languageId": "r"
    }
   },
   "outputs": [
    {
     "data": {
      "text/html": [
       "<table class=\"dataframe\">\n",
       "<caption>A data.frame: 3 × 5</caption>\n",
       "<thead>\n",
       "\t<tr><th scope=col>grp</th><th scope=col>var1</th><th scope=col>var2</th><th scope=col>vcov</th><th scope=col>sdcor</th></tr>\n",
       "\t<tr><th scope=col>&lt;chr&gt;</th><th scope=col>&lt;chr&gt;</th><th scope=col>&lt;chr&gt;</th><th scope=col>&lt;dbl&gt;</th><th scope=col>&lt;dbl&gt;</th></tr>\n",
       "</thead>\n",
       "<tbody>\n",
       "\t<tr><td>slpID   </td><td>(Intercept)</td><td>NA</td><td>132.8257</td><td>11.52500</td></tr>\n",
       "\t<tr><td>Speaker </td><td>(Intercept)</td><td>NA</td><td>585.6568</td><td>24.20035</td></tr>\n",
       "\t<tr><td>Residual</td><td>NA         </td><td>NA</td><td>291.2401</td><td>17.06576</td></tr>\n",
       "</tbody>\n",
       "</table>\n"
      ],
      "text/latex": [
       "A data.frame: 3 × 5\n",
       "\\begin{tabular}{lllll}\n",
       " grp & var1 & var2 & vcov & sdcor\\\\\n",
       " <chr> & <chr> & <chr> & <dbl> & <dbl>\\\\\n",
       "\\hline\n",
       "\t slpID    & (Intercept) & NA & 132.8257 & 11.52500\\\\\n",
       "\t Speaker  & (Intercept) & NA & 585.6568 & 24.20035\\\\\n",
       "\t Residual & NA          & NA & 291.2401 & 17.06576\\\\\n",
       "\\end{tabular}\n"
      ],
      "text/markdown": [
       "\n",
       "A data.frame: 3 × 5\n",
       "\n",
       "| grp &lt;chr&gt; | var1 &lt;chr&gt; | var2 &lt;chr&gt; | vcov &lt;dbl&gt; | sdcor &lt;dbl&gt; |\n",
       "|---|---|---|---|---|\n",
       "| slpID    | (Intercept) | NA | 132.8257 | 11.52500 |\n",
       "| Speaker  | (Intercept) | NA | 585.6568 | 24.20035 |\n",
       "| Residual | NA          | NA | 291.2401 | 17.06576 |\n",
       "\n"
      ],
      "text/plain": [
       "  grp      var1        var2 vcov     sdcor   \n",
       "1 slpID    (Intercept) NA   132.8257 11.52500\n",
       "2 Speaker  (Intercept) NA   585.6568 24.20035\n",
       "3 Residual NA          NA   291.2401 17.06576"
      ]
     },
     "metadata": {},
     "output_type": "display_data"
    }
   ],
   "source": [
    "vc_m2 <- as.data.frame(VarCorr(m2))\n",
    "vc_m2"
   ]
  },
  {
   "cell_type": "markdown",
   "metadata": {},
   "source": [
    "ICC for single rating:\n",
    "\n",
    "$$\n",
    "ICC = \\frac{\\sigma^2_{\\text{ratee}}} {\\sigma^2_{\\text{ratee}} + \\sigma^2_{\\text{rater}} + \\sigma^2_E}.\n",
    "$$"
   ]
  },
  {
   "cell_type": "code",
   "execution_count": 17,
   "metadata": {
    "vscode": {
     "languageId": "r"
    }
   },
   "outputs": [
    {
     "data": {
      "text/html": [
       "0.580017521785303"
      ],
      "text/latex": [
       "0.580017521785303"
      ],
      "text/markdown": [
       "0.580017521785303"
      ],
      "text/plain": [
       "[1] 0.5800175"
      ]
     },
     "metadata": {},
     "output_type": "display_data"
    }
   ],
   "source": [
    "# Note: ratee is in position 2, but may be different in different data sets\n",
    "vc_m2$vcov[2] / (vc_m2$vcov[1] + vc_m2$vcov[2] + vc_m2$vcov[3])"
   ]
  },
  {
   "cell_type": "markdown",
   "metadata": {},
   "source": [
    "Consistency:\n",
    "\n",
    "$$\n",
    "ICC = \\frac{\\sigma^2_{\\text{ratee}}} {\\sigma^2_{\\text{ratee}} + \\sigma^2_E}.\n",
    "$$"
   ]
  },
  {
   "cell_type": "code",
   "execution_count": 18,
   "metadata": {
    "vscode": {
     "languageId": "r"
    }
   },
   "outputs": [
    {
     "data": {
      "text/html": [
       "0.667874201904038"
      ],
      "text/latex": [
       "0.667874201904038"
      ],
      "text/markdown": [
       "0.667874201904038"
      ],
      "text/plain": [
       "[1] 0.6678742"
      ]
     },
     "metadata": {},
     "output_type": "display_data"
    }
   ],
   "source": [
    "# Note: ratee is in position 2, but may be different in different data sets\n",
    "vc_m2$vcov[2] / (vc_m2$vcov[2] + vc_m2$vcov[3])"
   ]
  },
  {
   "cell_type": "markdown",
   "metadata": {},
   "source": [
    "ICC for average rating:\n",
    "\n",
    "$$\n",
    "Agreement = \\frac{\\sigma^2_{\\text{ratee}}} {\\sigma^2_{\\text{ratee}} + (\\sigma^2_{\\text{rater}} + \\sigma^2_E) / k}.\n",
    "$$"
   ]
  },
  {
   "cell_type": "code",
   "execution_count": 19,
   "metadata": {
    "vscode": {
     "languageId": "r"
    }
   },
   "outputs": [
    {
     "data": {
      "text/html": [
       "0.966668984298676"
      ],
      "text/latex": [
       "0.966668984298676"
      ],
      "text/markdown": [
       "0.966668984298676"
      ],
      "text/plain": [
       "[1] 0.966669"
      ]
     },
     "metadata": {},
     "output_type": "display_data"
    }
   ],
   "source": [
    "# Note: ratee is in position 2, but may be different in different data sets\n",
    "vc_m2$vcov[2] / (vc_m2$vcov[2] + (vc_m2$vcov[1] + vc_m2$vcov[3]) / 21)"
   ]
  },
  {
   "cell_type": "markdown",
   "metadata": {},
   "source": [
    "$$\n",
    "Consistency = \\frac{\\sigma^2_{\\text{ratee}}} {\\sigma^2_{\\text{ratee}} + \\sigma^2_E / k}.\n",
    "$$"
   ]
  },
  {
   "cell_type": "code",
   "execution_count": 20,
   "metadata": {
    "vscode": {
     "languageId": "r"
    }
   },
   "outputs": [
    {
     "data": {
      "text/html": [
       "0.976867409553439"
      ],
      "text/latex": [
       "0.976867409553439"
      ],
      "text/markdown": [
       "0.976867409553439"
      ],
      "text/plain": [
       "[1] 0.9768674"
      ]
     },
     "metadata": {},
     "output_type": "display_data"
    }
   ],
   "source": [
    "vc_m2$vcov[2] / (vc_m2$vcov[2] + vc_m2$vcov[3] / 21)"
   ]
  },
  {
   "cell_type": "markdown",
   "metadata": {},
   "source": [
    "Tutti questi risultati possono essere ottenuti con la funzione `psych::ICC()`. I dati devono essere in formato wide."
   ]
  },
  {
   "cell_type": "code",
   "execution_count": 21,
   "metadata": {
    "vscode": {
     "languageId": "r"
    }
   },
   "outputs": [
    {
     "data": {
      "text/plain": [
       "Call: psych::ICC(x = slp_vas_wide[-1])\n",
       "\n",
       "Intraclass correlation coefficients \n",
       "                         type  ICC  F df1 df2       p lower bound upper bound\n",
       "Single_raters_absolute   ICC1 0.58 30  19 400 1.6e-64        0.43        0.75\n",
       "Single_random_raters     ICC2 0.58 43  19 380 1.0e-82        0.43        0.75\n",
       "Single_fixed_raters      ICC3 0.67 43  19 380 1.0e-82        0.53        0.81\n",
       "Average_raters_absolute ICC1k 0.97 30  19 400 1.6e-64        0.94        0.98\n",
       "Average_random_raters   ICC2k 0.97 43  19 380 1.0e-82        0.94        0.98\n",
       "Average_fixed_raters    ICC3k 0.98 43  19 380 1.0e-82        0.96        0.99\n",
       "\n",
       " Number of subjects = 20     Number of Judges =  21\n",
       "See the help file for a discussion of the other 4 McGraw and Wong estimates,"
      ]
     },
     "metadata": {},
     "output_type": "display_data"
    }
   ],
   "source": [
    "psych::ICC(slp_vas_wide[-1])"
   ]
  },
  {
   "cell_type": "markdown",
   "metadata": {},
   "source": [
    "I tipi di Intraclass Correlation Coefficients (ICC) riportati nell'output hanno i seguenti significati:\n",
    "\n",
    "1. `Single_raters_absolute`, ICC(1, 1): Questo tipo di ICC misura l'affidabilità delle valutazioni effettuate da singoli giudici su ciascun individuo valutato in un'ANOVA unidirezionale. Si assume che ogni individuo sia valutato da un gruppo di giudici diverso. L'ICC calcolato indica la concordanza tra i giudici nelle loro valutazioni per ciascun individuo, ma non tiene conto dell'accordo tra i giudici stessi.\n",
    "\n",
    "2. `Average_raters_absolute`, ICC(1, k): Questo tipo di ICC misura l'affidabilità delle valutazioni medie ottenute da gruppi diversi di giudici per ciascun individuo valutato in un'ANOVA unidirezionale. Si assume che ogni individuo sia valutato da un gruppo di giudici diverso. L'ICC calcolato fornisce un'indicazione sulla concordanza tra i giudici considerando le medie delle valutazioni ottenute da gruppi diversi di giudici.\n",
    "\n",
    "3. `Single_random_raters`, ICC(2, 1): Questo tipo di ICC valuta l'accordo tra i giudici nelle loro valutazioni per ciascun individuo in un'ANOVA bidirezionale. Il termine \"random\" indica che i giudici sono scelti casualmente da una popolazione più ampia di giudici. In altre parole, si considera che i giudici coinvolti nel campione siano solo una selezione casuale e rappresentativa della popolazione completa di giudici. L'ANOVA bidirezionale tiene conto delle valutazioni multiple ottenute da ciascun individuo valutato dai diversi giudici.\n",
    "\n",
    "4. `Average_random_absolute`, ICC(2, k): Questo tipo di ICC misura l'accordo tra i giudici considerando le valutazioni medie ottenute da gruppi diversi di giudici per ciascun individuo in un'ANOVA bidirezionale. Anche qui, si assume che i giudici siano scelti casualmente dalla popolazione più ampia di giudici. L'ANOVA bidirezionale tiene conto delle valutazioni multiple ottenute dai diversi giudici.\n",
    "\n",
    "5. `Single_fixed_raters`, ICC(3, 1): Questo tipo di ICC misura la consistenza tra i giudici nelle loro valutazioni per ciascun individuo in un'ANOVA bidirezionale. Il termine \"fixed\" indica che i giudici sono considerati una parte fissa e specifica del campione. L'ANOVA bidirezionale tiene conto delle valutazioni multiple ottenute da ciascun individuo valutato dai diversi giudici.\n",
    "\n",
    "6. `Average_fixed_absolute`, ICC(3, k): Questo tipo di ICC misura la consistenza tra i giudici considerando le valutazioni medie ottenute da gruppi diversi di giudici per ciascun individuo in un'ANOVA bidirezionale. Anche qui, si considera che i giudici siano una parte fissa e specifica del campione. L'ANOVA bidirezionale tiene conto delle valutazioni multiple ottenute dai diversi giudici.\n",
    "\n",
    "In questo esempio, ICC(1, 1) e ICC(1, k) non sono rilevanti, poiché si tratta di un design incrociato (non nidificato).\n",
    "\n",
    "## Considerazioni conclusive\n",
    "\n",
    "In conclusione, in questo capitolo abbiamo esaminato l'affidabilità tra giudici in due contesti distinti: quello che coinvolge soltanto due giudici e quello con giudici molteplici.\n",
    "\n",
    "Nel contesto con due giudici, abbiamo affrontato l'accordo nominale e calcolato il coefficiente di Kappa di Cohen. L'accordo nominale si basa sull'assunzione che le valutazioni tra i due giudici siano esattamente uguali, o uguali dopo un arrotondamento. Al contrario, il Kappa di Cohen è una misura più appropriata dell'accordo, poiché tiene conto anche dell'errore di misurazione. \n",
    "\n",
    "Nel contesto con giudici molteplici, abbiamo utilizzato tecniche più sofisticate per affrontare la complessità dell'interazione tra più giudici. Qui abbiamo adottato l'Intraclass Correlation Coefficient (ICC), l'ANOVA ad una via e l'ANOVA a due vie.\n",
    "\n",
    "L'ICC è stato utilizzato per misurare la consistenza delle valutazioni tra giudici, considerando sia la variabilità tra i giudici sia la variabilità all'interno di ciascun giudice. Questa metodologia ci ha fornito una stima della proporzione di varianza attribuibile alle differenze tra giudici rispetto alla varianza totale delle valutazioni. È importante notare che l'ICC è strettamente correlato con i modelli a effetti misti, poiché questi modelli sono in grado di affrontare i disegni con giudici molteplici e catturare sia le variazioni tra giudici che le variazioni all'interno di ciascun giudice.\n",
    "\n",
    "L'ANOVA ad una via è stato utilizzata quando le valutazioni dei giudici erano raggruppate in un unico fattore, ad esempio le valutazioni di diversi giudici su un gruppo di partecipanti. Questo ci ha permesso di quantificare le differenze tra i giudici nelle loro valutazioni complessive. Nei modelli a effetti misti, un'analisi simile può essere eseguita includendo il giudice come effetto casuale, consentendo di considerare sia le differenze tra i giudici sia le differenze tra i partecipanti.\n",
    "\n",
    "Infine, l'ANOVA a due vie è stato adottata quando le valutazioni dei giudici sono state analizzate considerando due fattori, ad esempio giudici diversi che valutano diversi partecipanti. Questo ci ha consentito di esaminare l'effetto sia dei giudici che dei partecipanti sulle valutazioni complessive. I modelli a effetti misti possono essere estesi per gestire questa configurazione, includendo sia il giudice che il partecipante come effetti casuali, permettendo una comprensione completa delle interazioni tra i due fattori.\n",
    "\n",
    "In conclusione, abbiamo esplorato diverse metodologie per valutare l'affidabilità tra giudici in diversi contesti, sia con due giudici che con giudici molteplici. I modelli a effetti misti si rivelano preziosi strumenti statistici per analizzare i disegni con giudici molteplici, poiché ci permettono di catturare le variazioni tra i giudici e tra i partecipanti, fornendo una visione globale dell'affidabilità delle valutazioni. "
   ]
  }
 ],
 "metadata": {
  "kernelspec": {
   "display_name": "R",
   "language": "R",
   "name": "ir"
  },
  "language_info": {
   "codemirror_mode": "r",
   "file_extension": ".r",
   "mimetype": "text/x-r-source",
   "name": "R",
   "pygments_lexer": "r",
   "version": "4.3.1"
  }
 },
 "nbformat": 4,
 "nbformat_minor": 2
}