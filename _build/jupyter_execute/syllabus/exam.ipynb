{
 "cells": [
  {
   "attachments": {},
   "cell_type": "markdown",
   "metadata": {},
   "source": [
    "# Procedure di Valutazione dell'Apprendimento\n",
    "\n",
    "L'esame sarà a libri aperti, consentendo agli studenti di sfruttare qualsiasi risorsa disponibile, sia cartacea che elettronica, sul proprio computer o online. Tuttavia, **sarà strettamente proibito l'utilizzo di strumenti di intelligenza artificiale**. Inoltre, durante la prima e la seconda prova intermedia, sarà richiesto agli studenti di lavorare in modo indipendente, e qualsiasi forma di collaborazione durante l'esame non sarà tollerata.\n",
    "\n",
    "Le prestazioni degli studenti saranno valutate in modo relativo, in base alla distribuzione delle prestazioni degli studenti che frequentano regolarmente il corso.\n",
    "\n",
    "Il contenuto dell'esame sarà identico sia per gli studenti frequentanti che per quelli non frequentanti.\n",
    "\n",
    "## Quiz Moodle\n",
    "\n",
    "- Gli esami per gli studenti frequentanti e le prove in itinere per gli studenti non frequentanti si svolgeranno tramite *quiz Moodle*.\n",
    "- Ogni quiz Moodle consisterà in domande a scelta multipla, con 5 opzioni di risposta, di cui solo una sarà corretta. Le risposte corrette saranno valutate con un punto, le risposte errate riceveranno una penalizzazione di -0,25 punti e le risposte non date avranno un punteggio di 0.\n",
    "- Durante il quiz Moodle, gli studenti dovranno rispondere alle domande in ordine sequenziale, senza possibilità di tornare indietro o saltare a domande successive.\n",
    "- I problemi assegnati a ciascuno studente saranno estratti casualmente da un database, il che comporta variazioni possibili tra gli studenti.\n",
    "- Durante il quiz Moodle, gli studenti dovranno rispondere sotto pressione temporale.\n",
    "- Per partecipare ai quiz Moodle, gli studenti dovranno utilizzare il proprio computer.\n",
    "- I quiz Moodle richiederanno l'uso di R, che dovrà essere installato sul computer dello studente. In alternativa, gli studenti potranno utilizzare R su Colab.\n",
    "\n",
    "## Studenti frequentanti\n",
    "\n",
    "Gli studenti _frequentanti_ devono soddisfare i seguenti requisiti:\n",
    "\n",
    "1. Consegnare _tutti_ i report in itinere assegnati entro le relative scadenze e ottenere un giudizio positivo su ciascuno di essi.\n",
    "2. Sostenere e superare le due prove parziali previste.\n",
    "3. Completare le attività del laboratorio didattico, le quali includono la stesura e la presentazione orale di un lavoro di gruppo basato sulla validazione di un test psicometrico.\n",
    "\n",
    "Gli studenti frequentanti saranno suddivisi in gruppi. Oltre agli esercizi presenti nella dispensa, che verranno svolti individualmente ma non saranno valutati, assegnerò periodicamente a ciascun gruppo la scrittura di un report in itinere per monitorare il lavoro svolto nel corso del semestre. È obbligatorio che gli studenti frequentanti completino tutti i report assegnati entro la scadenza prevista. Il report conterrà un breve resoconto del lavoro svolto dal gruppo nel laboratorio didattico e includerà un'appendice con i contributi individuali degli studenti del gruppo. Verrà assegnato un giudizio complessivo (pass/fail) ai report.\n",
    "\n",
    "Gli studenti che hanno ricevuto una valutazione positiva in tutti i report intermedi vedranno il loro voto finale determinato attraverso i seguenti criteri:\n",
    "\n",
    "- Partecipazione alle lezioni: Questo aspetto contribuirà con 15 punti su 100 al voto finale. Per ottenere questi punti, gli studenti devono partecipare all'80% delle lezioni.\n",
    "- Primo esame parziale: Il primo quiz parziale (svolto su Moodle) a metà corso concorrerà per 25 punti nel calcolo del voto finale.\n",
    "- Secondo esame parziale: Il secondo quiz parziale (sempre su Moodle) alla fine del corso sarà valutato fino a 30 punti per il voto finale.\n",
    "- Progetto di gruppo: La valutazione del progetto di gruppo contribuirà con 30 punti al voto finale. Tale valutazione si baserà sulla presentazione scritta e orale di un'analisi dati relativa alla validazione di un test psicometrico.\n",
    "\n",
    "Inoltre, verranno assegnati 2 punti bonus a chi sceglierà di partecipare a un'esperienza di laboratorio online (con circa 5 ore di impegno), i quali saranno aggiunti al voto ottenuto tramite i criteri sopra descritti. La partecipazione al laboratorio non è obbligatoria e non influenzerà il punteggio massimo ottenibile all'esame, ma rappresenta un'opportunità per ottenere un punteggio più alto e acquisire una comprensione pratica di un progetto di ricerca psicologico.\n",
    "\n",
    "Durante l'esperienza di laboratorio, verranno utilizzate tecniche di analisi statistica per individuare eventuali comportamenti di careless responding nei dati raccolti. Inoltre, se verranno riscontrati comportamenti scorretti, come ad esempio il cheating, gli studenti non avranno accesso ai 2 punti bonus ma saranno sottoposti a un'integrazione orale obbligatoria per superare l'esame.\n",
    "\n",
    "È importante notare che, nei precedenti anni accademici, la maggior parte degli studenti ha scelto la modalità d'esame riservata agli studenti frequentanti e ha ottenuto un esito positivo.\n",
    "\n",
    "```{tip} \n",
    "Gli studenti frequentanti che supereranno l'esame **dovranno** iscriversi al primo appello utile d'esame. Una volta iscritti, non dovranno compiere ulteriori azioni poiché mi occuperò personalmente della verbalizzazione e dell'inserimento del voto.\n",
    "```\n",
    "\n",
    "## Studenti non frequentanti\n",
    "\n",
    "L'esame per le sessioni degli esami sarà condotto tramite un quiz Moodle, simile agli esercizi presenti nella dispensa.\n",
    "\n",
    "```{warning} \n",
    "Affinché gli studenti possano partecipare all'esame, è necessario che portino con sé un computer portatile alla Torretta il giorno previsto per l'esame, come è richiesto anche per gli studenti che frequentano regolarmente le lezioni.\n",
    "```"
   ]
  }
 ],
 "metadata": {
  "kernelspec": {
   "display_name": "Python 3",
   "language": "python",
   "name": "python3"
  },
  "language_info": {
   "codemirror_mode": {
    "name": "ipython",
    "version": 3
   },
   "file_extension": ".py",
   "mimetype": "text/x-python",
   "name": "python",
   "nbconvert_exporter": "python",
   "pygments_lexer": "ipython3",
   "version": "3.11.7"
  },
  "vscode": {
   "interpreter": {
    "hash": "c300c63927c1d487b2df0ca7f55d9699efd42c18a65d5b05a5383e492fa5764c"
   }
  }
 },
 "nbformat": 4,
 "nbformat_minor": 2
}