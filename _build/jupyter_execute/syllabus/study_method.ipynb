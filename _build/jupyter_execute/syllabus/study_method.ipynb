{
 "cells": [
  {
   "cell_type": "markdown",
   "metadata": {},
   "source": [
    "# Come studiare\n",
    "\n",
    "## Flip teaching\n",
    "\n",
    "Durante questo corso, adotteremo la metodologia didattica conosciuta come flipped teaching. Questo metodo prevede due momenti distinti: durante il primo momento, gli studenti saranno tenuti a studiare i materiali didattici assegnati (disponibili sul sito dedicato) individualmente, prima della lezione. Nel secondo momento, che avverrà durante le ore in classe, gli studenti parteciperanno ad attività di discussione, esercitazioni e approfondimento degli argomenti trattati. Ciò permetterà agli studenti di consolidare e approfondire i concetti appresi e di sperimentare una logica di apprendimento basata sull’esperienza.\n",
    "\n",
    "Per ogni lezione, chiederò agli studenti di prepararsi studiando il materiale didattico assegnato e completando uno o più esercizi WarmUp. Durante le lezioni, sarà richiesta la partecipazione attiva degli studenti alla discussione e gli studenti dovranno avere a disposizione un computer per svolgere attività pratiche in 𝖱. Ciò consentirà di creare un ambiente di apprendimento interattivo e di incentivare la risoluzione cooperativa dei problemi.\n",
    "\n",
    "## Forum Moodle\n",
    "\n",
    "Il Forum Moodle rappresenta un’importante risorsa per la preparazione dell’esame. Gli studenti che hanno studiato il materiale assegnato possono utilizzare questo strumento per porre domande o chiarire eventuali dubbi. Sarà possibile che io intervenga occasionalmente sul Forum Moodle per fornire chiarimenti, ma il focus principale sarà sulla partecipazione attiva degli studenti. Infatti, inizialmente si richiederà agli studenti di rispondere ai dubbi degli altri, in modo da promuovere la discussione e lo scambio di idee tra i partecipanti. In questo modo, gli studenti potranno beneficiare di un apprendimento cooperativo e potranno consolidare le proprie conoscenze attraverso il confronto critico con i propri compagni di corso."
   ]
  }
 ],
 "metadata": {
  "language_info": {
   "codemirror_mode": {
    "name": "ipython",
    "version": 3
   },
   "file_extension": ".py",
   "mimetype": "text/x-python",
   "name": "python",
   "nbconvert_exporter": "python",
   "pygments_lexer": "ipython3",
   "version": "3.11.4"
  }
 },
 "nbformat": 4,
 "nbformat_minor": 2
}