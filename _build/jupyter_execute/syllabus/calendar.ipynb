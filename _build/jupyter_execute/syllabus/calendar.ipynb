{
 "cells": [
  {
   "cell_type": "markdown",
   "metadata": {},
   "source": [
    "# Calendario Attività Didattiche\n",
    "\n",
    "In questo programma, forniamo un calendario dettagliato per le attività didattiche. Per ottimizzare l'apprendimento e aderire al modello della *flipped classroom*, gli studenti sono invitati a seguire i seguenti passaggi prima di ogni lezione:\n",
    "\n",
    "1. **Lettura dei Materiali Didattici:**\n",
    "   - È fondamentale che gli studenti leggano attentamente i materiali didattici forniti prima di ogni lezione. Questo approccio consente agli studenti di arrivare preparati e con una base di conoscenza che facilita un apprendimento più approfondito durante la lezione.\n",
    "\n",
    "2. **Replicazione delle Procedure in R:**\n",
    "   - Gli studenti sono incoraggiati a replicare in autonomia le procedure in R descritte nella dispensa prima di ciascuna lezione. Questo esercizio di pratica indipendente consente di consolidare la comprensione delle tecniche e degli strumenti trattati, rendendo la lezione successiva più efficace e interattiva.\n",
    "\n",
    "3. **Svolgimento degli Esercizi:**\n",
    "   - Gli esercizi proposti devono essere svolti prima di ogni lezione. Questo non solo rafforza l'apprendimento ma permette anche di identificare eventuali aree di difficoltà o dubbi da chiarire in classe.\n",
    "\n",
    "Seguendo questa struttura, gli studenti possono massimizzare i benefici delle lezioni, approfondendo la loro comprensione teorica e pratica degli argomenti trattati. L'approccio dell'insegnamento capovolto mira a rendere le lezioni più dinamiche, interattive e focalizzate sulla risoluzione di problemi concreti e sulla discussione di concetti complessi.\n",
    "\n",
    "```{warning}\n",
    "Il presente calendario **non è definitivo** e potrà subire delle variazioni che saranno comunicate mediante l'aggiornamento di questa pagina web.\n",
    "```"
   ]
  },
  {
   "cell_type": "markdown",
   "metadata": {},
   "source": [
    "## Lezioni"
   ]
  },
  {
   "cell_type": "markdown",
   "metadata": {},
   "source": [
    "| #   | Argomenti      |\n",
    "| --- | ------------------------------------------------------- |\n",
    "| 1   | Presentazione dell'insegnamento; introduzione a R (1)  |\n",
    "| 2   | Introduzione a R (2); il modello di regressione  |\n",
    "| 3   | Misurazione; norme; variabili causali; probabilità congiunta  |\n",
    "| 4   | CTT: fondamenti teorici; affidabilità; errore standard della misurazione   |\n",
    "| 5   | Stima del punteggio vero; applicazioni; esercizi sulla CTT  |\n",
    "| 6   | Modelli multilivello; affidabilità tra giudici; generalizzabilità; validità; analisi dei percorsi  |\n",
    "| 7   | Modello unifattoriale; modello statistico dell'analisi fattoriale   |\n",
    "| 8   | Elementi di algebra lineare  |\n",
    "| 9   | Modello multifattoriale; punteggi fattoriali   |\n",
    "| 10  | Attendibilità e modello fattoriale; punteggio totale e modello fattoriale; confronto tra modelli; modello bifattoriale  |\n",
    "| 11  | Valutazione della matrice di correlazione; metodi di estrazione dei fattori; dimensionalità; rotazione fattoriale; rifinire la soluzione fattoriale; matrici mtmm; esercizi sull'analisi fattoriale esplorativa |\n",
    "| 12  | SEM 1: Introduzione; indici di bontà di adattamento; la revisione del modello; confronto tra modelli   |\n",
    "| 13  | SEM 2: Invarianza; dati categoriali; SEM multilivello; dati mancanti   |\n",
    "| 14  | SEM 3: applicazioni   |\n",
    "| 15  | Approfondimento 3 CFU -- IRT 1: regressione logistica; modello di Rasch  |\n",
    "| 16  | IRT 2 Stima; modelli 1PL, 2PL, 3PL; implementazione, modelli per risposte politomiche    |\n",
    "| 17  | Mokken Scaling; tutorial sviluppo test  |\n",
    "| 18  | LTM 1      |\n",
    "| 19  | LTM 2      |\n",
    "| 20  | Quiz studenti frequentanti; presentazione dei progetti di gruppo  |\n",
    "| 21  | Presentazione dei progetti di gruppo |"
   ]
  }
 ],
 "metadata": {
  "kernelspec": {
   "display_name": "pymc",
   "language": "python",
   "name": "python3"
  },
  "language_info": {
   "codemirror_mode": {
    "name": "ipython",
    "version": 3
   },
   "file_extension": ".py",
   "mimetype": "text/x-python",
   "name": "python",
   "nbconvert_exporter": "python",
   "pygments_lexer": "ipython3",
   "version": "3.11.7"
  },
  "vscode": {
   "interpreter": {
    "hash": "030ae53b1150d0ca6a72bb4a7a0454cbd9dab0eb2818ba119bbca0111e46e432"
   }
  }
 },
 "nbformat": 4,
 "nbformat_minor": 2
}