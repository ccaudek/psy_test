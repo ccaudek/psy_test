{
 "cells": [
  {
   "attachments": {},
   "cell_type": "markdown",
   "id": "2f92eec8",
   "metadata": {},
   "source": [
    "(path-analysis-notebook)=\n",
    "# Analisi dei percorsi"
   ]
  },
  {
   "cell_type": "code",
   "execution_count": 1,
   "id": "ed967924",
   "metadata": {
    "tags": [
     "remove_cell"
    ],
    "vscode": {
     "languageId": "r"
    }
   },
   "outputs": [],
   "source": [
    "# devtools::install_github(\"alishinski/lavaanPlot\")\n",
    "source(\"_common.R\")\n",
    "suppressPackageStartupMessages({\n",
    "    library(\"lavaan\")\n",
    "    library(\"semPlot\")\n",
    "    library(\"lavaanPlot\")\n",
    "    library(\"lavaanExtra\")\n",
    "    library(\"DiagrammeRsvg\")\n",
    "    library(\"rsvg\")\n",
    "    library(\"diagram\")\n",
    "})\n",
    "\n",
    "set.seed(42)\n",
    "options(repr.plot.width=6, repr.plot.height=6)"
   ]
  },
  {
   "attachments": {},
   "cell_type": "markdown",
   "id": "4c87135e",
   "metadata": {},
   "source": [
    "Le visualizzazioni rivestono un ruolo fondamentale nel comunicare in modo chiaro e sintetico le intricate relazioni tra variabili. Questo è particolarmente evidente quando si opera con modelli di equazioni strutturali (SEM) che delineano una rete di interconnessioni tra variabili sia osservabili che latenti. In tali contesti, i ricercatori frequentemente si avvalgono di strumenti grafici per agevolare la specificazione e l'esplicitazione del modello, oltre che per presentare in maniera comprensibile i risultati ottenuti.\n",
    "\n",
    "L'analisi del percorso, comunemente denominata \"path analysis,\" costituisce una metodologia finalizzata alla disassemblaggio della correlazione o covarianza esistente tra variabili, con l'obiettivo di rivelare e descrivere le intricate relazioni tra di esse. Questo approccio si fonda sulla creazione di rappresentazioni grafiche che evidenziano le interrelazioni tra le variabili, offrendo una visualizzazione visuale di come i diversi fattori si influenzino reciprocamente. Inoltre, l'analisi del percorso prevede una scomposizione delle correlazioni o covarianze utilizzando i parametri del modello, trasformando dati complessi in una struttura più comprensibile.\n",
    "\n",
    "Sewall Wright, un genetista che operava presso il Dipartimento dell'Agricoltura degli Stati Uniti, fu il precursore nello sviluppo dei diagrammi di percorso per descrivere i modelli di equazioni strutturali già negli anni '20 del secolo scorso. Questa sua innovazione ha permesso di ottenere una rappresentazione visiva delle connessioni tra variabili, aprendo la strada all'analisi del percorso.\n",
    "\n",
    "Con il trascorrere del tempo, questa metodologia è stata adottata con successo come uno strumento efficace per discriminare gli effetti diretti da quelli indiretti nelle relazioni tra variabili. Inoltre, essa si è dimostrata di grande utilità nel valutare la solidità e la validità delle relazioni causali ipotizzate all'interno dei modelli di equazioni strutturali.\n",
    "\n",
    "## Path diagram\n",
    "\n",
    "Il diagramma del percorso, noto anche come \"path diagram,\" costituisce uno strumento per la rappresentazione grafica delle relazioni tra variabili all'interno di un modello. All'interno di questo diagramma, le variabili latenti o non osservate sono rappresentate mediante cerchi o ellissi, mentre le variabili osservate sono rappresentate da quadrati o rettangoli. \n",
    "\n",
    "All'interno del path diagram, è possibile individuare due categorie di variabili: quelle che subiscono influenze da parte di altre variabili nel sistema e quelle che svolgono il ruolo di generatori di effetti. Nello specifico, le variabili esogene costituiscono elementi esterni al sistema in esame, operando in qualità di variabili indipendenti che generano effetti causalmente. Al contrario, le variabili endogene possono agire sia come risultati di altre variabili che come cause per ulteriori variabili, oppure possono essere strettamente variabili dipendenti. Le origini causali delle variabili endogene trovano collocazione all'interno del path diagram, mentre quelle delle variabili esogene si trovano esternamente al diagramma. Tale distinzione presenta affinità con la distinzione tra variabili indipendenti e dipendenti all'interno dei modelli lineari.\n",
    "\n",
    "Il diagramma di percorso mette in evidenza le interazioni tra le variabili d'interesse, sottolineando i legami causali o associativi che le connettono. Le frecce unidirezionali illustrano relazioni causali: una variabile subisce influenza da un'altra variabile collegata attraverso una freccia. Invece, le frecce curve bidirezionali denotano relazioni associative, senza implicare una causalità diretta tra le variabili. L'assenza di una freccia tra due variabili nel diagramma suggerisce l'assenza di correlazione tra di esse. Nel caso esemplificato, si illustrano le relazioni tra nove variabili osservate e tre variabili latenti mediante il path diagram.\n",
    "\n",
    "```{figure} images/path_01.png\n",
    "---\n",
    "height: 450px\n",
    "name: path_01-fig\n",
    "---\n",
    "Diagramma di percorso per un modello a tre fattori comuni.\n",
    "```"
   ]
  },
  {
   "attachments": {},
   "cell_type": "markdown",
   "id": "b79070aa",
   "metadata": {},
   "source": [
    "## Analisi dei percorsi e regressione bivariata\n",
    "\n",
    "Cominciamo esaminando l'analisi dei percorsi partendo dall'esempio più semplice, ovvero il modello di regressione lineare. Il modello di regressione bivariata si esprime tramite l'equazione seguente:\n",
    "\n",
    "$$ y_1 = b_0 + b_1 x_1 + \\epsilon_1 $$\n",
    "\n",
    "Dove $ y $ rappresenta la variabile dipendente, $ b_0 $ rappresenta l'intercetta, $ b_1 $ rappresenta la pendenza della retta di regressione, $ x $ è la variabile indipendente e $ \\epsilon $ è il termine di errore.\n",
    "\n",
    "Nell'ambito della descrizione delle relazioni tra variabili manifeste e latenti, si adotta spesso la notazione LISREL. In questa notazione, il modello presentato in precedenza può essere espresso come segue:\n",
    "\n",
    "$$ y_1 = \\alpha + \\gamma x_1 + \\zeta_1 $$\n",
    "\n",
    "Dove:\n",
    "\n",
    "- $ x_1 $: variabile esogena singola\n",
    "- $ y_1 $: variabile endogena singola\n",
    "- $ \\alpha $: intercetta di $ y_1 $\n",
    "- $ \\gamma_1 $: coefficiente di regressione\n",
    "- $ \\zeta_1 $: termine di errore di $ y_1 $\n",
    "- $ \\phi $: varianza o covarianza della variabile esogena\n",
    "- $ \\psi $: varianza o covarianza residuale della variabile endogena\n",
    "\n",
    "Il diagramma di percorso per il modello di regressione bivariata è illustrato nella figura sottostante.\n",
    "\n",
    "```{figure} images/lisrel_bivariate_reg.png\n",
    "---\n",
    "height: 225px\n",
    "name: lisrel_bivariate_reg-fig\n",
    "---\n",
    "Diagramma di percorso per il modello di regressione bivariato.\n",
    "```\n",
    "\n",
    "Facciamo un esempio numerico. Simuliamo tre variabili: x1, x2, y."
   ]
  },
  {
   "cell_type": "code",
   "execution_count": 2,
   "id": "9c256132",
   "metadata": {
    "vscode": {
     "languageId": "r"
    }
   },
   "outputs": [
    {
     "data": {
      "text/html": [
       "<table class=\"dataframe\">\n",
       "<caption>A matrix: 3 × 3 of type dbl</caption>\n",
       "<thead>\n",
       "\t<tr><th></th><th scope=col>x1</th><th scope=col>x2</th><th scope=col>y</th></tr>\n",
       "</thead>\n",
       "<tbody>\n",
       "\t<tr><th scope=row>x1</th><td>1.0000000</td><td>0.6244502</td><td>0.5493286</td></tr>\n",
       "\t<tr><th scope=row>x2</th><td>0.6244502</td><td>1.0000000</td><td>0.7992614</td></tr>\n",
       "\t<tr><th scope=row>y</th><td>0.5493286</td><td>0.7992614</td><td>1.0000000</td></tr>\n",
       "</tbody>\n",
       "</table>\n"
      ],
      "text/latex": [
       "A matrix: 3 × 3 of type dbl\n",
       "\\begin{tabular}{r|lll}\n",
       "  & x1 & x2 & y\\\\\n",
       "\\hline\n",
       "\tx1 & 1.0000000 & 0.6244502 & 0.5493286\\\\\n",
       "\tx2 & 0.6244502 & 1.0000000 & 0.7992614\\\\\n",
       "\ty & 0.5493286 & 0.7992614 & 1.0000000\\\\\n",
       "\\end{tabular}\n"
      ],
      "text/markdown": [
       "\n",
       "A matrix: 3 × 3 of type dbl\n",
       "\n",
       "| <!--/--> | x1 | x2 | y |\n",
       "|---|---|---|---|\n",
       "| x1 | 1.0000000 | 0.6244502 | 0.5493286 |\n",
       "| x2 | 0.6244502 | 1.0000000 | 0.7992614 |\n",
       "| y | 0.5493286 | 0.7992614 | 1.0000000 |\n",
       "\n"
      ],
      "text/plain": [
       "   x1        x2        y        \n",
       "x1 1.0000000 0.6244502 0.5493286\n",
       "x2 0.6244502 1.0000000 0.7992614\n",
       "y  0.5493286 0.7992614 1.0000000"
      ]
     },
     "metadata": {},
     "output_type": "display_data"
    }
   ],
   "source": [
    "set.seed(42)\n",
    "n <- 100\n",
    "x1 <- rnorm(n, 90, 20)\n",
    "x2 <- x1 + rnorm(n, 0, 30)\n",
    "y <- 25 + 0.5 * x1 + 1.0 * x2 + rnorm(n, 0, 30)\n",
    "\n",
    "cor(cbind(x1, x2, y))\n",
    "\n",
    "dat <- data.frame(\n",
    "    y, x1, x2\n",
    ")"
   ]
  },
  {
   "attachments": {},
   "cell_type": "markdown",
   "id": "4fb769ff",
   "metadata": {},
   "source": [
    "Consideriamo la relazione tra `x1` (variabile endogena) e `y` (variabile endogena). In R possiamo adattare ai dati un modello di regressione mediante la funzione `lm`."
   ]
  },
  {
   "cell_type": "code",
   "execution_count": 3,
   "id": "e64b3879",
   "metadata": {
    "vscode": {
     "languageId": "r"
    }
   },
   "outputs": [
    {
     "name": "stdout",
     "output_type": "stream",
     "text": [
      "\n",
      "Call:\n",
      "lm(formula = y ~ x1, data = dat)\n",
      "\n",
      "Residuals:\n",
      "    Min      1Q  Median      3Q     Max \n",
      "-82.462 -29.539  -3.437  29.200 122.234 \n",
      "\n",
      "Coefficients:\n",
      "            Estimate Std. Error t value Pr(>|t|)    \n",
      "(Intercept)  37.5974    18.9844   1.980   0.0505 .  \n",
      "x1            1.3286     0.2042   6.508 3.25e-09 ***\n",
      "---\n",
      "Signif. codes:  0 ‘***’ 0.001 ‘**’ 0.01 ‘*’ 0.05 ‘.’ 0.1 ‘ ’ 1\n",
      "\n",
      "Residual standard error: 42.31 on 98 degrees of freedom\n",
      "Multiple R-squared:  0.3018,\tAdjusted R-squared:  0.2946 \n",
      "F-statistic: 42.35 on 1 and 98 DF,  p-value: 3.251e-09\n",
      "\n"
     ]
    }
   ],
   "source": [
    "m1a <- lm(y ~ x1, data = dat)\n",
    "summary(m1a) |>\n",
    "    print()"
   ]
  },
  {
   "attachments": {},
   "cell_type": "markdown",
   "id": "219e3456",
   "metadata": {},
   "source": [
    "Usiamo ora lavaan per adattare lo stesso modello ai dati."
   ]
  },
  {
   "cell_type": "code",
   "execution_count": 4,
   "id": "17db7215",
   "metadata": {
    "vscode": {
     "languageId": "r"
    }
   },
   "outputs": [
    {
     "name": "stdout",
     "output_type": "stream",
     "text": [
      "  lhs op rhs      est      se      z pvalue ci.lower ci.upper\n",
      "1   y ~1       37.597  18.794  2.001  0.045    0.763   74.432\n",
      "2   y  ~  x1    1.329   0.202  6.574  0.000    0.933    1.725\n",
      "3  x1 ~~  x1  429.432  60.731  7.071  0.000  310.402  548.462\n",
      "4   y ~~   y 1754.100 248.067  7.071  0.000 1267.897 2240.303\n",
      "5  x1 ~1       90.650   2.072 43.744  0.000   86.589   94.712\n"
     ]
    }
   ],
   "source": [
    "m1b <- \"\n",
    "    y ~ 1 + x1\n",
    "    x1 ~~ x1\n",
    "\"\n",
    "fit1b <- sem(m1b, data = dat)\n",
    "parameterEstimates(fit1b) |>\n",
    "    print()\n"
   ]
  },
  {
   "attachments": {},
   "cell_type": "markdown",
   "id": "7afc816f",
   "metadata": {},
   "source": [
    "L'intercetta di `.y` (37.597) e il coefficiente di regressione di `y ~ x1` (1.329) corrispondono all'output di `lm()` con piccoli errori di arrotondamento. Si noti che il punto (.) davanti al parametro indica una variabile endogena sotto `Intercepts` e una varianza residua se sotto `Variances` o `Covariances`. L'intercetta per `x1` (90.650) non ha un punto (.) né la sua varianza (429.432), indicando che si tratta di una media ed una varianza esogena. La media ed la varianza esogene corrispondono alla media e alla varianza univariate come mostrato di seguito:"
   ]
  },
  {
   "cell_type": "code",
   "execution_count": 5,
   "id": "dcdb3fae",
   "metadata": {
    "vscode": {
     "languageId": "r"
    }
   },
   "outputs": [
    {
     "data": {
      "text/html": [
       "90.6502963122602"
      ],
      "text/latex": [
       "90.6502963122602"
      ],
      "text/markdown": [
       "90.6502963122602"
      ],
      "text/plain": [
       "[1] 90.6503"
      ]
     },
     "metadata": {},
     "output_type": "display_data"
    }
   ],
   "source": [
    "mean(dat$x1)"
   ]
  },
  {
   "cell_type": "code",
   "execution_count": 6,
   "id": "2035b212",
   "metadata": {
    "vscode": {
     "languageId": "r"
    }
   },
   "outputs": [
    {
     "data": {
      "text/html": [
       "429.432031274383"
      ],
      "text/latex": [
       "429.432031274383"
      ],
      "text/markdown": [
       "429.432031274383"
      ],
      "text/plain": [
       "[1] 429.432"
      ]
     },
     "metadata": {},
     "output_type": "display_data"
    }
   ],
   "source": [
    "var(dat$x1) * (length(dat$x1) - 1) / length(dat$x1)"
   ]
  },
  {
   "attachments": {},
   "cell_type": "markdown",
   "id": "e56dc768",
   "metadata": {},
   "source": [
    "La funzione `semPaths` consente di creare un diagramma di percorso a partire dall'oggetto creato da `sem`."
   ]
  },
  {
   "cell_type": "code",
   "execution_count": 7,
   "id": "a7d8d28e",
   "metadata": {
    "vscode": {
     "languageId": "r"
    }
   },
   "outputs": [
    {
     "data": {
      "image/png": "[encoded data removed]",
      "text/plain": [
       "plot without title"
      ]
     },
     "metadata": {
      "image/png": {
       "height": 360,
       "width": 360
      }
     },
     "output_type": "display_data"
    }
   ],
   "source": [
    "semPlot::semPaths(\n",
    "    fit1b,\n",
    "    layout = \"tree\", sizeMan = 7, sizeInt = 5, style = \"ram\", \n",
    "    residuals = TRUE, intAtSide = FALSE, edge.label.cex = 1.15,\n",
    "    whatLabels = \"est\", nCharNodes = 0, normalize = FALSE\n",
    ")\n"
   ]
  },
  {
   "attachments": {},
   "cell_type": "markdown",
   "id": "3599623d",
   "metadata": {},
   "source": [
    "## Analisi dei percorsi e regressione multipla\n",
    "\n",
    "<!-- Vi è una stretta relazione tra path analysis e regressione multipla,\n",
    "tanto che la regressione può essere considerata un caso particolare di\n",
    "path analysis. Per semplicità, si supponga che le variabili siano state\n",
    "standardizzate, anche se la stessa analisi può essere condotta per\n",
    "variabili grezze. Il path diagram mostra la relazione tra tutte le\n",
    "variabili, comprendendo anche i fattori di disturbo, e fornisce dunque\n",
    "la rappresentazione grafica di un sistema di equazioni simultanee. Nel\n",
    "caso di due regressori, il modello di regressione multipla può essere\n",
    "rappresentato tramite il path diagram riportato nella\n",
    "figura seguente. -->\n",
    "\n",
    "La regressione semplice è limitata a una sola variabile esogena. Nella pratica, un ricercatore può essere interessato a studiare come un gruppo di variabili esogene possano predire una variabile di esito. Supponiamo di avere ancora una sola variabile di esito endogena ma due predittori esogeni; questo caso è noto come regressione multipla:\n",
    "\n",
    "$$\n",
    "y_1 = \\alpha_1 + \\gamma_1 x_1 + \\gamma_2 x_2 + \\zeta_1\n",
    "$$\n",
    "\n",
    "Il diagramma di percorso mostra la relazione tra tutte le variabili, comprendendo anche i fattori di disturbo, e fornisce dunque la rappresentazione grafica dell'equazione precedente.\n",
    "\n",
    "```{figure} images/lisrel_mr.png\n",
    "---\n",
    "height: 300px\n",
    "name: lisrel_mr-fig\n",
    "---\n",
    "Diagramma di percorso per il modello di regressione multipla.\n",
    "```\n",
    "\n",
    "I coefficienti di percorso associati alle frecce orientate esprimono la portata del nesso causale e corrispondono ai pesi beta (ovvero ai coefficienti parziali di regressione standardizzati). Le frecce non orientate esprimono la portata della pura associazione tra variabili e dunque corrispondono alle correlazioni/covarianze.\n",
    "\n",
    "In un diagramma di percorso, il numero di equazioni corrisponde al numero di variabili endogene del modello. Nel caso specifico, poiché vi è una sola variabile endogena (ovvero $y$), esiste un'unica equazione che descrive le relazioni causalitiche interne al path diagram. All'interno di ciascuna equazione, inoltre, il numero di termini corrisponde al numero di frecce orientate che puntano verso la variabile endogena. Nell'esempio sopra citato, pertanto, la sola equazione del modello contiene tre termini, ciascuno associato ad una freccia orientata.\n",
    "\n",
    "Usando `lm` otteniamo la seguente stima dei coefficienti:"
   ]
  },
  {
   "cell_type": "code",
   "execution_count": 8,
   "id": "c7a84d71",
   "metadata": {
    "vscode": {
     "languageId": "r"
    }
   },
   "outputs": [
    {
     "name": "stdout",
     "output_type": "stream",
     "text": [
      "\n",
      "Call:\n",
      "lm(formula = y ~ 1 + x1 + x2, data = dat)\n",
      "\n",
      "Residuals:\n",
      "    Min      1Q  Median      3Q     Max \n",
      "-77.299 -19.856  -2.476  19.112  75.617 \n",
      "\n",
      "Coefficients:\n",
      "            Estimate Std. Error t value Pr(>|t|)    \n",
      "(Intercept)  44.4537    13.6639   3.253  0.00157 ** \n",
      "x1            0.1991     0.1879   1.060  0.29179    \n",
      "x2            1.0853     0.1127   9.628 8.54e-16 ***\n",
      "---\n",
      "Signif. codes:  0 ‘***’ 0.001 ‘**’ 0.01 ‘*’ 0.05 ‘.’ 0.1 ‘ ’ 1\n",
      "\n",
      "Residual standard error: 30.41 on 97 degrees of freedom\n",
      "Multiple R-squared:  0.643,\tAdjusted R-squared:  0.6356 \n",
      "F-statistic: 87.34 on 2 and 97 DF,  p-value: < 2.2e-16\n",
      "\n"
     ]
    }
   ],
   "source": [
    "m2a <- lm(y ~ 1 + x1 + x2, data = dat)\n",
    "fit2a <- summary(m2a) |>\n",
    "    print()"
   ]
  },
  {
   "attachments": {},
   "cell_type": "markdown",
   "id": "fef0c481",
   "metadata": {},
   "source": [
    "Gli stessi risultati si ottengono con lavaan."
   ]
  },
  {
   "cell_type": "code",
   "execution_count": 9,
   "id": "1c19ef3a",
   "metadata": {
    "vscode": {
     "languageId": "r"
    }
   },
   "outputs": [
    {
     "name": "stdout",
     "output_type": "stream",
     "text": [
      "  lhs op rhs      est      se      z pvalue ci.lower ci.upper\n",
      "1   y ~1       44.454  13.457  3.303  0.001   18.078   70.830\n",
      "2   y  ~  x1    0.199   0.185  1.076  0.282   -0.164    0.562\n",
      "3   y  ~  x2    1.085   0.111  9.775  0.000    0.868    1.303\n",
      "4  x1 ~~  x1  429.432  60.731  7.071  0.000  310.402  548.462\n",
      "5  x2 ~~  x2 1192.840 168.693  7.071  0.000  862.208 1523.472\n",
      "6  x1 ~~  x2  446.927  84.379  5.297  0.000  281.546  612.307\n",
      "7   y ~~   y  896.963 126.850  7.071  0.000  648.342 1145.584\n",
      "8  x1 ~1       90.650   2.072 43.744  0.000   86.589   94.712\n",
      "9  x2 ~1       88.026   3.454 25.487  0.000   81.257   94.795\n"
     ]
    }
   ],
   "source": [
    "m2b <- \"\n",
    "    y ~ 1 + x1 + x2\n",
    "    x1 ~~ x1\n",
    "    x2 ~~ x2\n",
    "    x1 ~~ x2\n",
    "\"\n",
    "fit2b <- sem(m2b, data = dat)\n",
    "parameterEstimates(fit2b) |>\n",
    "    print()\n"
   ]
  },
  {
   "attachments": {},
   "cell_type": "markdown",
   "id": "78b4ee5b",
   "metadata": {},
   "source": [
    "Esaminiamo il diagramma di percorso."
   ]
  },
  {
   "cell_type": "code",
   "execution_count": 10,
   "id": "826fae78",
   "metadata": {
    "vscode": {
     "languageId": "r"
    }
   },
   "outputs": [
    {
     "data": {
      "image/png": "[encoded data removed]",
      "text/plain": [
       "plot without title"
      ]
     },
     "metadata": {
      "image/png": {
       "height": 360,
       "width": 360
      }
     },
     "output_type": "display_data"
    }
   ],
   "source": [
    "semPlot::semPaths(\n",
    "    fit2b,\n",
    "    layout = \"tree\", sizeMan = 7, sizeInt = 5, style = \"ram\",\n",
    "    residuals = TRUE, intAtSide = FALSE, edge.label.cex = 1.15,\n",
    "    whatLabels = \"est\", nCharNodes = 0, normalize = FALSE\n",
    ")\n"
   ]
  },
  {
   "attachments": {},
   "cell_type": "markdown",
   "id": "c90a68ad",
   "metadata": {},
   "source": [
    "## Effetti diretti e indiretti\n",
    "\n",
    "L'analisi del percorso offre un metodo essenziale per distinguere tra diverse tipologie di effetti che influenzano le variabili in esame: l'effetto diretto, l'effetto indiretto e l'effetto totale. Gli effetti diretti rappresentano l'influenza che una variabile esercita su un'altra senza mediazione di altre variabili intermedie. Gli effetti indiretti, invece, operano attraverso l'intermediazione di almeno una variabile aggiuntiva nel processo. L'effetto totale è la somma cumulativa degli effetti diretti e indiretti.\n",
    "\n",
    "Nella figura qui di seguito, la variabile $y_1$ esercita un effetto diretto sulla variabile $y_2$. Allo stesso tempo, $y_1$ produce un effetto indiretto sulla variabile $y_3$, poiché non esiste una connessione causale diretta tra $y_1$ e $y_3$. Nel contesto rappresentato, la variabile $y_1$ agisce come variabile esogena, mentre le variabili $y_2$ e $y_3v fungono da variabili endogene.\n",
    "\n",
    "```{figure} images/path_03.png\n",
    "---\n",
    "height: 100px\n",
    "name: path_03-fig\n",
    "---\n",
    "Diagramma di percorso per un modello a catena.\n",
    "```"
   ]
  },
  {
   "attachments": {},
   "cell_type": "markdown",
   "id": "86cc1164",
   "metadata": {},
   "source": [
    "## Le regole di Wright\n",
    "\n",
    "L'obiettivo primario dell'analisi del percorso consiste nella decomposizione della correlazione (o della covarianza) in base alla somma dei vari percorsi (diretti e indiretti) che collegano due variabili mediante coefficienti noti come \"path coefficients.\" Utilizzando il diagramma del percorso, Sewall Wright (1921, 1934) formulò le regole che, tramite le \"tracing rules,\" stabiliscono il collegamento tra le correlazioni (o covarianze) delle variabili e i parametri del modello. Le tracing rules si possono esprimere nei seguenti termini:\n",
    "\n",
    "- È possibile procedere in avanti lungo una freccia e poi a ritroso, seguendo la direzione della freccia, ma non è permesso muoversi in avanti e poi tornare indietro.\n",
    "- Un percorso composto non deve attraversare più di una volta la stessa variabile, cioè non possono esserci cicli.\n",
    "- Un percorso non può contenere più di una linea curva.\n",
    "\n",
    "Il termine \"percorso\" fa riferimento al tracciato che connette due variabili e si compone di sequenze di frecce unidirezionali e curve non direzionali. A ciascun percorso valido (cioè conforme alle regole di Wright) viene assegnato un valore numerico che rappresenta il prodotto dei coefficienti presenti lungo il percorso stesso. I coefficienti di percorso possono essere coefficienti parziali di regressione standardizzati se il legame è unidirezionale, oppure coefficienti di correlazione se il legame è bidirezionale.\n",
    "\n",
    "## Scomposizione delle correlazioni/covarianze\n",
    "\n",
    "Il principio fondamentale è stato formulato da Sewall Wright (1934) nel seguente modo:\n",
    "\n",
    "> Ogni correlazione tra variabili in una rete di relazioni sequenziali può essere analizzata nei contributi provenienti da tutti i percorsi (diretti o attraverso fattori comuni) con i quali le due variabili sono connesse. Ogni contributo ha un valore pari al prodotto dei coefficienti relativi ai percorsi elementari. Se sono presenti correlazioni residue (rappresentate da frecce bidirezionali), uno (ma mai più di uno) dei coefficienti moltiplicati per ottenere il contributo del percorso di connessione può essere un coefficiente di correlazione. Gli altri sono tutti coefficienti di percorso.\n",
    "\n",
    "Da questo principio possiamo derivare la regola di scomposizione della correlazione: la correlazione o covarianza tra due variabili può essere scomposta in un numero di termini uguale al numero di percorsi che le collegano. Ogni termine è ottenuto dal prodotto dei coefficienti associati alle variabili lungo il percorso. In altre parole, è possibile decomporre la correlazione o la covarianza tra due variabili in tanti contributi quanti sono i percorsi possibili che collegano le due variabili.\n",
    "\n",
    "### Scomposizione della varianza\n",
    "\n",
    "La decomposizione della varianza di una variabile endogena può essere affrontata attraverso una suddivisione in due componenti: una componente spiegata, attribuibile alle variabili che esercitano un'influenza causale su di essa, e una componente non spiegata. La componente spiegata della varianza deriva dall'aggregazione degli effetti delle diverse variabili che sono connessi alla variabile endogena, rispettando le regole di tracciamento definite da Wright. Il numero di addendi corrisponde al numero di percorsi che collegano la variabile endogena a se stessa. In tal modo, la varianza spiegata rappresenta la parte della varianza totale della variabile endogena che può essere attribuita alle influenze delle variabili correlate attraverso i percorsi definibili all'interno del modello.\n",
    "\n",
    "### Relazioni tra variabili endogene e esogene\n",
    "\n",
    "Complessivamente, i concetti di varianza, covarianza e correlazione informano direttamente il calcolo dei coefficienti di percorso in un path diagram secondo le seguenti \"8 regole dei coefficienti di percorso\".\n",
    "\n",
    "- Regola 1: Le relazioni non specificate tra le variabili esogene sono semplicemente le loro correlazioni bivariate.\n",
    "- Regola 2: Quando due variabili sono collegate da un singolo percorso, il coefficiente di quel percorso è il coefficiente di regressione.\n",
    "- Regola 3: La forza di un percorso composto (che include più collegamenti) è il prodotto dei coefficienti individuali.\n",
    "- Regola 4: Quando le variabili sono collegate da più di un percorso, ciascun percorso è il coefficiente di regressione \"parziale\".\n",
    "- Regola 5: Gli errori sulle variabili endogene si riferiscono alle correlazioni o varianze non spiegate che derivano dalle variabili non misurate.\n",
    "- Regola 6: Le correlazioni non analizzate (residui) tra due variabili endogene sono le loro correlazioni parziali.\n",
    "- Regola 7: L'effetto totale che una variabile ha su un'altra è la somma dei suoi effetti diretti e indiretti.\n",
    "- Regola 8: L'effetto totale (compresi i percorsi non diretti) è equivalente alla correlazione totale."
   ]
  },
  {
   "attachments": {},
   "cell_type": "markdown",
   "id": "fe0e367a",
   "metadata": {},
   "source": [
    "**Esempio.** Consideriamo nuovamente il modello di regressione multipla con due variabili esogene e una sola variabile endogena che è stato presentato sopra. \n",
    "\n",
    "La la covarianza tra `y` e `x1` "
   ]
  },
  {
   "cell_type": "code",
   "execution_count": 11,
   "id": "8a045839",
   "metadata": {
    "vscode": {
     "languageId": "r"
    }
   },
   "outputs": [
    {
     "data": {
      "text/html": [
       "570.56471345413"
      ],
      "text/latex": [
       "570.56471345413"
      ],
      "text/markdown": [
       "570.56471345413"
      ],
      "text/plain": [
       "[1] 570.5647"
      ]
     },
     "metadata": {},
     "output_type": "display_data"
    }
   ],
   "source": [
    "cov(dat$y, dat$x1) * 99 / 100\n"
   ]
  },
  {
   "attachments": {},
   "cell_type": "markdown",
   "id": "b0b364a3",
   "metadata": {},
   "source": [
    "può essere ricavata usando le regole di Wright nel modo seguente:"
   ]
  },
  {
   "cell_type": "code",
   "execution_count": 12,
   "id": "321e0173",
   "metadata": {
    "vscode": {
     "languageId": "r"
    }
   },
   "outputs": [
    {
     "data": {
      "text/html": [
       "570.37562"
      ],
      "text/latex": [
       "570.37562"
      ],
      "text/markdown": [
       "570.37562"
      ],
      "text/plain": [
       "[1] 570.3756"
      ]
     },
     "metadata": {},
     "output_type": "display_data"
    }
   ],
   "source": [
    "0.199 * 429.43 + 1.085 * 446.93\n"
   ]
  },
  {
   "attachments": {},
   "cell_type": "markdown",
   "id": "3856f0ec",
   "metadata": {},
   "source": [
    "La quota di varianza non spiegata della variabile endogena è:"
   ]
  },
  {
   "cell_type": "code",
   "execution_count": 13,
   "id": "b6da4f21",
   "metadata": {
    "lines_to_next_cell": 0,
    "vscode": {
     "languageId": "r"
    }
   },
   "outputs": [
    {
     "data": {
      "text/html": [
       "897.936130308472"
      ],
      "text/latex": [
       "897.936130308472"
      ],
      "text/markdown": [
       "897.936130308472"
      ],
      "text/plain": [
       "[1] 897.9361"
      ]
     },
     "metadata": {},
     "output_type": "display_data"
    }
   ],
   "source": [
    "(var(dat$y) * 99 / 100) - (\n",
    "    0.199^2 * 429.43 + (1.085)^2 * 1192.84 + 2 * (0.199 * 1.085 * 446.93)\n",
    ")\n"
   ]
  },
  {
   "cell_type": "markdown",
   "id": "62a10f24",
   "metadata": {},
   "source": [
    "## Oltre la regressione multipla\n",
    "\n",
    "Approfondiamo l'utilizzo dell'analisi dei percorsi (path analysis) per studiare un modello di mediazione che supera i limiti della classica regressione multipla. L'analisi di mediazione è un metodo statistico ampiamente impiegato dai psicologi per esaminare le relazioni complesse tra le variabili di uno studio. Questa metodologia può essere applicata in studi osservazionali per affinare la comprensione della relazione tra variabili predittive e variabili di esito, introducendo mediatori. L'integrazione di mediatori permette di esplorare e chiarire i meccanismi sottostanti che influenzano la relazione tra le variabili principali, fornendo una visione più dettagliata e complessa degli effetti e delle interazioni in gioco.\n",
    "\n",
    "Prenderemo in esame un modello teorico specifico, ispirato alla Self Determination Theory (SDT) di Deci e Ryan (2000), una delle teorie più influenti nel campo della motivazione. In questo contesto, utilizzeremo la path analysis per valutare come la SDT possa aiutarci a comprendere i fattori psicologici e comportamentali che influenzano i sintomi bulimici in un gruppo di giovani donne adulte. Più specificamente, esamineremo come l'appagamento (soddisfazione) e l'esaurimento (frustrazione) delle risorse psicologiche essenziali, o bisogni psicologici (ad esempio, per l'autonomia, la competenza e la relazionalità), possono prevedere in modo differenziale i sintomi bulimici nelle donne attraverso due mediatori chiave, l'approvazione degli ideali culturali sulla magrezza e inflessibilità delle opinioni sul proprio corpo. Secondo la SDT, i bisogni psicologici influenzano la capacità di un individuo di autoregolarsi e far fronte alle richieste della vita quotidiana e possono rendere gli individui vulnerabili al malessere psicologico se i bisogni psicologici vengono frustrati (Vansteenkiste & Ryan, 2013). La frustrazione dei bisogni può essere psicologicamente più depauperante della mancanza di soddisfazione dei bisogni. \n",
    "\n",
    "Gli individui i cui bisogni vengono frustrati possono impegnarsi in attività malsane e comportamenti compensatori al fine di riconquistare una soddisfazione dei bisogni a breve termine. La frustrazione dei bisogni rende gli individui più vulnerabili agli ideali culturali, in quanto le risorse personali per rifiutare questi ideali sono esaurite (Pelletier & Dion, 2007).\n",
    "\n",
    "Il modello che verrà testato propone che le donne i cui bisogni psicologici sono frustrati avalleranno ideali sociali più problematici sulla magrezza rispetto alle donne i cui bisogni psicologici sono soddisfatti. La frustrazione dei bisogni sarà anche predittiva dell'inflessibilità degli schemi corporei, poiché è stato dimostrato che la frustrazione dei bisogni porta a disturbi dell'immagine corporea e a comportamenti alimentari patologici (Boone, Vansteenkiste, Soenens, Van der Kaap-Deeder e Verstuyf, 2014). Il modello propone inoltre che una maggiore approvazione degli ideali culturali sulla sarà predittiva di una maggiore inflessibilità sugli schemi corporei che, di per sé, è predittiva dei sintomi bulimici.\n",
    "\n",
    "Il campione include 192 partecipanti, in maggioranza donne, di età media 21.2 anni (SD = 6.89). Sono stati somministrati i seguenti strumenti:\n",
    "\n",
    "- *Body Image-Acceptance and Action Questionnaire* (Sandoz, Wilson, Merwin, & Kellum, 2013), per misurare l'inflessibilità relativa alla propria immagine corporea,\n",
    "- *Endorsement of Society’s Beliefs Related to Thinness and Obesity* (Boyer, 1991), per valutare l'internalizzazione degli ideali di magrezza, \n",
    "- *Basic Psychological Needs Satisfaction and Frustration Scale* (Chen et al., 2015), per misurare la soddisfazione e la frustrazione dei bisogni,\n",
    "- *Eating Disorders Inventory-2 – Bulimic Symptomology Subscale* (Garner, 1991), per misurare i sintomi bulimici.\n",
    "\n",
    "I dati sono i seguenti."
   ]
  },
  {
   "cell_type": "code",
   "execution_count": 14,
   "id": "e6efee96",
   "metadata": {
    "vscode": {
     "languageId": "r"
    }
   },
   "outputs": [],
   "source": [
    "upper <- '\n",
    "  1 0.44 -0.41 0.55 0.63\n",
    "  1 -0.37 0.45 0.44\n",
    "  1 -0.71 -0.39\n",
    "  1 0.47\n",
    "  1\n",
    "  '"
   ]
  },
  {
   "cell_type": "code",
   "execution_count": 15,
   "id": "0c99cc3f",
   "metadata": {
    "vscode": {
     "languageId": "r"
    }
   },
   "outputs": [
    {
     "data": {
      "text/html": [
       "<table class=\"dataframe\">\n",
       "<caption>A matrix: 5 × 5 of type dbl</caption>\n",
       "<thead>\n",
       "\t<tr><th></th><th scope=col>BFLX</th><th scope=col>END</th><th scope=col>MNS</th><th scope=col>MNF</th><th scope=col>BULS</th></tr>\n",
       "</thead>\n",
       "<tbody>\n",
       "\t<tr><th scope=row>BFLX</th><td> 1.00</td><td> 0.44</td><td>-0.41</td><td> 0.55</td><td> 0.63</td></tr>\n",
       "\t<tr><th scope=row>END</th><td> 0.44</td><td> 1.00</td><td>-0.37</td><td> 0.45</td><td> 0.44</td></tr>\n",
       "\t<tr><th scope=row>MNS</th><td>-0.41</td><td>-0.37</td><td> 1.00</td><td>-0.71</td><td>-0.39</td></tr>\n",
       "\t<tr><th scope=row>MNF</th><td> 0.55</td><td> 0.45</td><td>-0.71</td><td> 1.00</td><td> 0.47</td></tr>\n",
       "\t<tr><th scope=row>BULS</th><td> 0.63</td><td> 0.44</td><td>-0.39</td><td> 0.47</td><td> 1.00</td></tr>\n",
       "</tbody>\n",
       "</table>\n"
      ],
      "text/latex": [
       "A matrix: 5 × 5 of type dbl\n",
       "\\begin{tabular}{r|lllll}\n",
       "  & BFLX & END & MNS & MNF & BULS\\\\\n",
       "\\hline\n",
       "\tBFLX &  1.00 &  0.44 & -0.41 &  0.55 &  0.63\\\\\n",
       "\tEND &  0.44 &  1.00 & -0.37 &  0.45 &  0.44\\\\\n",
       "\tMNS & -0.41 & -0.37 &  1.00 & -0.71 & -0.39\\\\\n",
       "\tMNF &  0.55 &  0.45 & -0.71 &  1.00 &  0.47\\\\\n",
       "\tBULS &  0.63 &  0.44 & -0.39 &  0.47 &  1.00\\\\\n",
       "\\end{tabular}\n"
      ],
      "text/markdown": [
       "\n",
       "A matrix: 5 × 5 of type dbl\n",
       "\n",
       "| <!--/--> | BFLX | END | MNS | MNF | BULS |\n",
       "|---|---|---|---|---|---|\n",
       "| BFLX |  1.00 |  0.44 | -0.41 |  0.55 |  0.63 |\n",
       "| END |  0.44 |  1.00 | -0.37 |  0.45 |  0.44 |\n",
       "| MNS | -0.41 | -0.37 |  1.00 | -0.71 | -0.39 |\n",
       "| MNF |  0.55 |  0.45 | -0.71 |  1.00 |  0.47 |\n",
       "| BULS |  0.63 |  0.44 | -0.39 |  0.47 |  1.00 |\n",
       "\n"
      ],
      "text/plain": [
       "     BFLX  END   MNS   MNF   BULS \n",
       "BFLX  1.00  0.44 -0.41  0.55  0.63\n",
       "END   0.44  1.00 -0.37  0.45  0.44\n",
       "MNS  -0.41 -0.37  1.00 -0.71 -0.39\n",
       "MNF   0.55  0.45 -0.71  1.00  0.47\n",
       "BULS  0.63  0.44 -0.39  0.47  1.00"
      ]
     },
     "metadata": {},
     "output_type": "display_data"
    }
   ],
   "source": [
    "# BFLX – Body Inflexibility,\n",
    "# END – Endorsement of Societal Beliefs about Thinness and Obesity,\n",
    "# MNS – Mean Need Satisfaction,\n",
    "# MNF – Mean Need Frustration,\n",
    "# BULS – Bulimic Symptoms\n",
    "dat_cov <- lavaan::getCov(\n",
    "    upper,\n",
    "    lower = FALSE,\n",
    "    names = c(\"BFLX\", \"END\", \"MNS\", \"MNF\", \"BULS\")\n",
    ")\n",
    "dat_cov"
   ]
  },
  {
   "cell_type": "markdown",
   "id": "f76ed16a",
   "metadata": {},
   "source": [
    "### Modello di mediazione "
   ]
  },
  {
   "cell_type": "code",
   "execution_count": 16,
   "id": "28706c42",
   "metadata": {
    "vscode": {
     "languageId": "r"
    }
   },
   "outputs": [
    {
     "data": {
      "image/png": "[encoded data removed]",
      "text/plain": [
       "Plot with title “”"
      ]
     },
     "metadata": {
      "image/png": {
       "height": 360,
       "width": 360
      }
     },
     "output_type": "display_data"
    }
   ],
   "source": [
    "data <- c(\n",
    "    0, \"a\", 0,\n",
    "    0, 0, 0,\n",
    "    \"b\", \"c_prime\", 0\n",
    ")\n",
    "M <- matrix(nrow = 3, ncol = 3, byrow = TRUE, data = data)\n",
    "plot <- plotmat(M,\n",
    "    pos = c(1, 2),\n",
    "    name = c(\"X\", \"M\", \"Y\"),\n",
    "    box.type = \"rect\", box.size = 0.12, box.prop = 0.5, curve = 0\n",
    ")"
   ]
  },
  {
   "cell_type": "markdown",
   "id": "95576aa2",
   "metadata": {},
   "source": [
    "Nel modello di mediazione di base abbiamo tre variabili chiave: la variabile indipendente $X$, la variabile dipendente $Y$ e il mediatore $M$. La freccia da $X$ a $M$ (etichettata con 'a') rappresenta l'effetto di $X$ su $M$. La freccia da $M$ a $Y$ (etichettata con 'b') rappresenta l'effetto di $M$ su $Y$, mentre la freccia tratteggiata da $X$ a $Y$ (etichettata con \"c'\") rappresenta l'effetto diretto di $X$ su $Y$, escludendo la mediazione di $M$.\n",
    "\n",
    "Possiamo formalizzare il modello statistico di mediazione in equazioni di regressione lineare come segue:\n",
    "\n",
    "$$ M = a_0 + a \\times X + e_M $$\n",
    "\n",
    "$$ Y = b_0 + b \\times M + c' \\times X + e_Y $$\n",
    "\n",
    "Nella prima equazione lineare, $M$ è regredito su $X$ con un'intercetta $a_0$, pendenza $a$ e termine di errore $e_M$. Questa equazione rappresenta il percorso $X \\rightarrow M$ con $a$ come effetto di $X$ su $M$. Nella seconda equazione, $Y$ è regredito su $M$ e $X$ con un'intercetta $b_0$, pendenze $b$ e $c'$ e termine di errore $e_Y$. Questa equazione rappresenta due percorsi: $M \\rightarrow Y$ e $X \\rightarrow Y$, con $b$ come effetto di $M$ su $Y$ e $c'$ come effetto diretto di $X$ su $Y$.\n",
    "\n",
    "Nel contesto della modellazione di equazioni strutturali, il metodo più comune per calcolare gli effetti diretti, indiretti e totali si basa sul prodotto dei coefficienti, come riassunto nelle seguenti formule:\n",
    "\n",
    "- Effetto diretto = $c'$\n",
    "- Effetto indiretto = $b \\times a$\n",
    "- Effetto totale = $c' + b \\times a$\n",
    "\n",
    "\n",
    "### Stima degli Effetti Diretti, Indiretti e Totali\n",
    "\n",
    "Le tecniche di modellazione di equazioni strutturali permettono di stimare tutti i parametri (a, b, c') simultaneamente, date le specifiche del modello per i dati. Di conseguenza, possiamo utilizzare le seguenti formule per stimare gli effetti diretti, indiretti e totali dai dati:\n",
    "\n",
    "- Effetto diretto = $\\hat{c}'$\n",
    "- Effetto indiretto = $\\hat{b} \\times \\hat{a}$\n",
    "- Effetto totale = $\\hat{c}' + \\hat{b} \\times \\hat{a}$ \n",
    "\n",
    "dove $\\hat{a}$ è una stima di $a$, e così via. Gli errori standard stimati di questi effetti possono poi essere calcolati utilizzando metodi asintotici standard, supportato dalla maggior parte dei software SEM.\n",
    "\n",
    "### Analisi con `lavaan`\n",
    "\n",
    "Il caso presente prende in considerazione BFLX come variabile endogena, MNF come variabile esogena e END come variabile mediatrice. Utilizzando Mplus, Barbeau, Boileau, Sarr e Smith (2019) hanno identificato i seguenti coefficienti di percorso: $a = 0.37$, $b = 0.29$ e $c = 0.34$.\n",
    "\n",
    "Procediamo con l'analisi utilizzando il pacchetto `lavaan` in R. Cominciamo definendo il modello di mediazione."
   ]
  },
  {
   "cell_type": "code",
   "execution_count": 17,
   "id": "71e394ad",
   "metadata": {
    "vscode": {
     "languageId": "r"
    }
   },
   "outputs": [],
   "source": [
    "mod <- \"\n",
    "  # direct effect\n",
    "  BFLX ~ c*MNF\n",
    "  # mediator\n",
    "  BFLX ~ b*END\n",
    "  END ~ a*MNF\n",
    "\n",
    "  # indirect effect (a*b)\n",
    "  ab := a*b\n",
    "  # total effect\n",
    "  total := c + (a*b)\n",
    "\""
   ]
  },
  {
   "cell_type": "markdown",
   "id": "8fb563b5",
   "metadata": {},
   "source": [
    "Adattiamo il modello ai dati."
   ]
  },
  {
   "cell_type": "code",
   "execution_count": 18,
   "id": "7efae043",
   "metadata": {
    "vscode": {
     "languageId": "r"
    }
   },
   "outputs": [],
   "source": [
    "fit <- sem(\n",
    "    mod,\n",
    "    sample.cov = dat_cov,\n",
    "    sample.nobs = 192\n",
    ")"
   ]
  },
  {
   "cell_type": "markdown",
   "id": "172ffa00",
   "metadata": {},
   "source": [
    "Esaminiamo i risultati:"
   ]
  },
  {
   "cell_type": "code",
   "execution_count": 19,
   "id": "e953bbc0",
   "metadata": {
    "vscode": {
     "languageId": "r"
    }
   },
   "outputs": [
    {
     "name": "stdout",
     "output_type": "stream",
     "text": [
      "lavaan 0.6.16 ended normally after 1 iteration\n",
      "\n",
      "  Estimator                                         ML\n",
      "  Optimization method                           NLMINB\n",
      "  Number of model parameters                         5\n",
      "\n",
      "  Number of observations                           192\n",
      "\n",
      "Model Test User Model:\n",
      "                                                      \n",
      "  Test statistic                                 0.000\n",
      "  Degrees of freedom                                 0\n",
      "\n",
      "Model Test Baseline Model:\n",
      "\n",
      "  Test statistic                               125.849\n",
      "  Degrees of freedom                                 3\n",
      "  P-value                                        0.000\n",
      "\n",
      "User Model versus Baseline Model:\n",
      "\n",
      "  Comparative Fit Index (CFI)                    1.000\n",
      "  Tucker-Lewis Index (TLI)                       1.000\n",
      "\n",
      "Loglikelihood and Information Criteria:\n",
      "\n",
      "  Loglikelihood user model (H0)               -480.945\n",
      "  Loglikelihood unrestricted model (H1)       -480.945\n",
      "                                                      \n",
      "  Akaike (AIC)                                 971.890\n",
      "  Bayesian (BIC)                               988.178\n",
      "  Sample-size adjusted Bayesian (SABIC)        972.339\n",
      "\n",
      "Root Mean Square Error of Approximation:\n",
      "\n",
      "  RMSEA                                          0.000\n",
      "  90 Percent confidence interval - lower         0.000\n",
      "  90 Percent confidence interval - upper         0.000\n",
      "  P-value H_0: RMSEA <= 0.050                       NA\n",
      "  P-value H_0: RMSEA >= 0.080                       NA\n",
      "\n",
      "Standardized Root Mean Square Residual:\n",
      "\n",
      "  SRMR                                           0.000\n",
      "\n",
      "Parameter Estimates:\n",
      "\n",
      "  Standard errors                             Standard\n",
      "  Information                                 Expected\n",
      "  Information saturated (h1) model          Structured\n",
      "\n",
      "Regressions:\n",
      "                   Estimate  Std.Err  z-value  P(>|z|)   Std.lv  Std.all\n",
      "  BFLX ~                                                                \n",
      "    MNF        (c)    0.441    0.065    6.769    0.000    0.441    0.441\n",
      "    END        (b)    0.241    0.065    3.702    0.000    0.241    0.241\n",
      "  END ~                                                                 \n",
      "    MNF        (a)    0.450    0.064    6.982    0.000    0.450    0.450\n",
      "\n",
      "Variances:\n",
      "                   Estimate  Std.Err  z-value  P(>|z|)   Std.lv  Std.all\n",
      "   .BFLX              0.648    0.066    9.798    0.000    0.648    0.651\n",
      "   .END               0.793    0.081    9.798    0.000    0.793    0.797\n",
      "\n",
      "R-Square:\n",
      "                   Estimate\n",
      "    BFLX              0.349\n",
      "    END               0.203\n",
      "\n",
      "Defined Parameters:\n",
      "                   Estimate  Std.Err  z-value  P(>|z|)   Std.lv  Std.all\n",
      "    ab                0.109    0.033    3.271    0.001    0.109    0.109\n",
      "    total             0.550    0.060    9.125    0.000    0.550    0.550\n",
      "\n"
     ]
    }
   ],
   "source": [
    "summary(fit, fit.measures = TRUE, standardized = TRUE, rsquare = TRUE) |>\n",
    "    print()"
   ]
  },
  {
   "cell_type": "markdown",
   "id": "df8e8476",
   "metadata": {},
   "source": [
    "Generiamo un diagramma di percorso."
   ]
  },
  {
   "cell_type": "code",
   "execution_count": 20,
   "id": "a1c889ac",
   "metadata": {
    "vscode": {
     "languageId": "r"
    }
   },
   "outputs": [
    {
     "data": {
      "image/png": "[encoded data removed]",
      "text/plain": [
       "plot without title"
      ]
     },
     "metadata": {
      "image/png": {
       "height": 360,
       "width": 360
      }
     },
     "output_type": "display_data"
    }
   ],
   "source": [
    "semPlot::semPaths(\n",
    "    fit,\n",
    "    layout = \"tree\", sizeMan = 7, sizeInt = 5, style = \"ram\",\n",
    "    residuals = TRUE, intAtSide = FALSE, edge.label.cex = 1.15,\n",
    "    whatLabels = \"est\", nCharNodes = 0, normalize = FALSE\n",
    ")"
   ]
  },
  {
   "cell_type": "markdown",
   "id": "6b7f2aaa",
   "metadata": {},
   "source": [
    "I coefficienti di percorso sono simili, ma non identici, a quelli trovati con Mplus. \n",
    "\n",
    "L'effetto diretto di MNF (Need Frustration) su  BFLX (Body Inflexibility) è uguale a 0.44.  L'effetto totale è $0.44 + 0.45*0.24 = 0.55$. L'effetto di mediazione è uguale a $0.45*0.24 = 0.109$. L'outout di `lavaan` fornisce anche gli errori standard e il test che tali effetti siano uguali a zero.\n",
    "\n",
    "Le correlazioni tra le variabili sono esprimibili nei termini dei coefficienti di percorso.  Per esempio la correlazionetra BFLX e MNF è"
   ]
  },
  {
   "cell_type": "code",
   "execution_count": 21,
   "id": "a5f40a51",
   "metadata": {
    "vscode": {
     "languageId": "r"
    }
   },
   "outputs": [
    {
     "data": {
      "text/html": [
       "0.548"
      ],
      "text/latex": [
       "0.548"
      ],
      "text/markdown": [
       "0.548"
      ],
      "text/plain": [
       "[1] 0.548"
      ]
     },
     "metadata": {},
     "output_type": "display_data"
    }
   ],
   "source": [
    ".44 + .45 * .24"
   ]
  },
  {
   "cell_type": "markdown",
   "id": "f530baad",
   "metadata": {},
   "source": [
    "La correlazione tra BFLX e END è"
   ]
  },
  {
   "cell_type": "code",
   "execution_count": 22,
   "id": "0cc08f3f",
   "metadata": {
    "vscode": {
     "languageId": "r"
    }
   },
   "outputs": [
    {
     "data": {
      "text/html": [
       "0.438"
      ],
      "text/latex": [
       "0.438"
      ],
      "text/markdown": [
       "0.438"
      ],
      "text/plain": [
       "[1] 0.438"
      ]
     },
     "metadata": {},
     "output_type": "display_data"
    }
   ],
   "source": [
    ".24 + .44 * .45"
   ]
  },
  {
   "cell_type": "markdown",
   "id": "fba2fa78",
   "metadata": {},
   "source": [
    "L'output di lavaan fornisce anche la porzione di varianza che viene spiegata dalle variabili esogene per le due variabili endogene nel modello.\n",
    "\n",
    "Per esempio, la varianza spiegata di `END` è"
   ]
  },
  {
   "cell_type": "code",
   "execution_count": 23,
   "id": "156752fd",
   "metadata": {
    "vscode": {
     "languageId": "r"
    }
   },
   "outputs": [
    {
     "data": {
      "text/html": [
       "0.2025"
      ],
      "text/latex": [
       "0.2025"
      ],
      "text/markdown": [
       "0.2025"
      ],
      "text/plain": [
       "[1] 0.2025"
      ]
     },
     "metadata": {},
     "output_type": "display_data"
    }
   ],
   "source": [
    "0.45^2"
   ]
  },
  {
   "cell_type": "markdown",
   "id": "e7ea01e2",
   "metadata": {},
   "source": [
    "come riportato dall'output di lavaan.  \n",
    "\n",
    "Continuiamo con l'analisi di questi dati e esaminiamo ora un modello di path analisi più complesso (Fig. 4 di Barbeau et al., 2019). Usando la sintassi di `lavaan`, il modello diventa"
   ]
  },
  {
   "cell_type": "code",
   "execution_count": 24,
   "id": "09d2eda2",
   "metadata": {
    "vscode": {
     "languageId": "r"
    }
   },
   "outputs": [],
   "source": [
    "# BFLX – Body Inflexibility,\n",
    "# END – Endorsement of Societal Beliefs about Thinness and Obesity,\n",
    "# MNS – Mean Need Satisfaction,\n",
    "# MNF – Mean Need Frustration,\n",
    "# BULS – Bulimic Symptoms\n",
    "mod <- \"\n",
    "  BULS ~ MNF + BFLX\n",
    "  BFLX ~ END + MNF\n",
    "  END ~ MNS + MNF\n",
    "\""
   ]
  },
  {
   "cell_type": "markdown",
   "id": "cd9b9f05",
   "metadata": {},
   "source": [
    "Adattiamo il modello ai dati."
   ]
  },
  {
   "cell_type": "code",
   "execution_count": 25,
   "id": "1c352fcf",
   "metadata": {
    "vscode": {
     "languageId": "r"
    }
   },
   "outputs": [],
   "source": [
    "fit2 <- sem(\n",
    "    mod,\n",
    "    sample.cov = dat_cov,\n",
    "    sample.nobs = 192\n",
    ")"
   ]
  },
  {
   "cell_type": "markdown",
   "id": "f8849c42",
   "metadata": {},
   "source": [
    "Esaminiamo la soluzione ottenuta."
   ]
  },
  {
   "cell_type": "code",
   "execution_count": 26,
   "id": "aa4b5bca",
   "metadata": {
    "vscode": {
     "languageId": "r"
    }
   },
   "outputs": [
    {
     "name": "stdout",
     "output_type": "stream",
     "text": [
      "lavaan 0.6.16 ended normally after 1 iteration\n",
      "\n",
      "  Estimator                                         ML\n",
      "  Optimization method                           NLMINB\n",
      "  Number of model parameters                         9\n",
      "\n",
      "  Number of observations                           192\n",
      "\n",
      "Model Test User Model:\n",
      "                                                      \n",
      "  Test statistic                                 8.229\n",
      "  Degrees of freedom                                 3\n",
      "  P-value (Chi-square)                           0.042\n",
      "\n",
      "Model Test Baseline Model:\n",
      "\n",
      "  Test statistic                               239.501\n",
      "  Degrees of freedom                                 9\n",
      "  P-value                                        0.000\n",
      "\n",
      "User Model versus Baseline Model:\n",
      "\n",
      "  Comparative Fit Index (CFI)                    0.977\n",
      "  Tucker-Lewis Index (TLI)                       0.932\n",
      "\n",
      "Loglikelihood and Information Criteria:\n",
      "\n",
      "  Loglikelihood user model (H0)               -700.169\n",
      "  Loglikelihood unrestricted model (H1)       -696.054\n",
      "                                                      \n",
      "  Akaike (AIC)                                1418.338\n",
      "  Bayesian (BIC)                              1447.655\n",
      "  Sample-size adjusted Bayesian (SABIC)       1419.146\n",
      "\n",
      "Root Mean Square Error of Approximation:\n",
      "\n",
      "  RMSEA                                          0.095\n",
      "  90 Percent confidence interval - lower         0.017\n",
      "  90 Percent confidence interval - upper         0.176\n",
      "  P-value H_0: RMSEA <= 0.050                    0.130\n",
      "  P-value H_0: RMSEA >= 0.080                    0.696\n",
      "\n",
      "Standardized Root Mean Square Residual:\n",
      "\n",
      "  SRMR                                           0.035\n",
      "\n",
      "Parameter Estimates:\n",
      "\n",
      "  Standard errors                             Standard\n",
      "  Information                                 Expected\n",
      "  Information saturated (h1) model          Structured\n",
      "\n",
      "Regressions:\n",
      "                   Estimate  Std.Err  z-value  P(>|z|)   Std.lv  Std.all\n",
      "  BULS ~                                                                \n",
      "    MNF               0.177    0.066    2.688    0.007    0.177    0.177\n",
      "    BFLX              0.533    0.066    8.085    0.000    0.533    0.533\n",
      "  BFLX ~                                                                \n",
      "    END               0.241    0.065    3.702    0.000    0.241    0.241\n",
      "    MNF               0.441    0.065    6.769    0.000    0.441    0.441\n",
      "  END ~                                                                 \n",
      "    MNS              -0.102    0.091   -1.116    0.264   -0.102   -0.102\n",
      "    MNF               0.378    0.091    4.140    0.000    0.378    0.378\n",
      "\n",
      "Variances:\n",
      "                   Estimate  Std.Err  z-value  P(>|z|)   Std.lv  Std.all\n",
      "   .BULS              0.578    0.059    9.798    0.000    0.578    0.581\n",
      "   .BFLX              0.648    0.066    9.798    0.000    0.648    0.651\n",
      "   .END               0.788    0.080    9.798    0.000    0.788    0.792\n",
      "\n",
      "R-Square:\n",
      "                   Estimate\n",
      "    BULS              0.419\n",
      "    BFLX              0.349\n",
      "    END               0.208\n",
      "\n"
     ]
    }
   ],
   "source": [
    "summary(fit2, fit.measures = TRUE, standardized = TRUE, rsquare = TRUE) |>\n",
    "    print()"
   ]
  },
  {
   "cell_type": "markdown",
   "id": "b3162126",
   "metadata": {},
   "source": [
    "Generiamo il diagramma di percorso."
   ]
  },
  {
   "cell_type": "code",
   "execution_count": 27,
   "id": "abed2d4f",
   "metadata": {
    "vscode": {
     "languageId": "r"
    }
   },
   "outputs": [
    {
     "data": {
      "image/png": "[encoded data removed]",
      "text/plain": [
       "plot without title"
      ]
     },
     "metadata": {
      "image/png": {
       "height": 360,
       "width": 360
      }
     },
     "output_type": "display_data"
    }
   ],
   "source": [
    "semPlot::semPaths(\n",
    "    fit2,\n",
    "    layout = \"tree\", sizeMan = 7, sizeInt = 5, style = \"ram\",\n",
    "    residuals = TRUE, intAtSide = FALSE, edge.label.cex = 1.15,\n",
    "    whatLabels = \"est\", nCharNodes = 0, normalize = FALSE\n",
    ")"
   ]
  },
  {
   "cell_type": "markdown",
   "id": "96e36cd0",
   "metadata": {},
   "source": [
    "Anche in questo caso i coefficienti di percorso sono simili, ma non identici, a quelli riportati da Barbeau et al. (2019). Gli autori riportano una varianza spiegata di END pari a 0.209; con `lavaan` si ottiene 0.208.  Per BFLX gli autori riportano 0.292; `lavaan` ottiene 0.349. Per BULS gli autori riportano 0.478; con `lavaan` si ottiene 0.419. \n",
    "\n",
    "Calcoliamo, ad esempio, la correlazione tra MNF e BULS prevista dal modello, combinando gli effetti diretti e indiretti. Questo processo consiste nel sommare gli effetti diretti tra queste due variabili con quelli indiretti mediati da altre variabili nel modello."
   ]
  },
  {
   "cell_type": "code",
   "execution_count": 28,
   "id": "889c6012",
   "metadata": {
    "vscode": {
     "languageId": "r"
    }
   },
   "outputs": [
    {
     "data": {
      "text/html": [
       "0.4705672"
      ],
      "text/latex": [
       "0.4705672"
      ],
      "text/markdown": [
       "0.4705672"
      ],
      "text/plain": [
       "[1] 0.4705672"
      ]
     },
     "metadata": {},
     "output_type": "display_data"
    }
   ],
   "source": [
    "-.71 * -.10 * .24 * .53 +\n",
    ".38 *.24 * .53 +\n",
    ".44 * .53 +\n",
    ".18"
   ]
  },
  {
   "cell_type": "markdown",
   "id": "0f12d5f0",
   "metadata": {},
   "source": [
    "Il valore trovato corrisponde bene al valore osservato nel campione, che è pari a 0.47."
   ]
  },
  {
   "cell_type": "markdown",
   "id": "f9da6a27",
   "metadata": {},
   "source": [
    "## Commenti e considerazioni finali\n",
    "\n",
    "In questo capitolo introduttivo sull'analisi dei percorsi, abbiamo esaminato un approccio statistico per la comprensione e l'analisi delle interazioni tra variabili in un dato sistema. Utilizzando l'analisi dei percorsi per decomporre la correlazione o la covarianza, disponiamo di un metodo efficace per delineare le associazioni tra le variabili e mappare le loro potenziali connessioni causali. Questo strumento si rivela particolarmente utile per descrivere in modo chiaro e strutturato le relazioni tra diverse variabili, facilitando l'interpretazione dei loro legami e interazioni all'interno del modello considerato."
   ]
  }
 ],
 "metadata": {
  "jupytext": {
   "cell_metadata_filter": "tags,out.width,name,fig.cap,-all",
   "main_language": "R",
   "notebook_metadata_filter": "-all"
  },
  "kernelspec": {
   "display_name": "R",
   "language": "R",
   "name": "ir"
  },
  "language_info": {
   "codemirror_mode": "r",
   "file_extension": ".r",
   "mimetype": "text/x-r-source",
   "name": "R",
   "pygments_lexer": "r",
   "version": "4.3.2"
  }
 },
 "nbformat": 4,
 "nbformat_minor": 5
}