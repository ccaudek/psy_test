{
 "cells": [
  {
   "cell_type": "markdown",
   "metadata": {},
   "source": [
    "La Heartland Forgiveness Scale (HFS) è un questionario di autovalutazione composto da 18 item, progettato per valutare la disposizione al perdono di una persona (ossia la tendenza generale ad essere indulgente), anziché il perdono legato ad un evento o ad una persona specifica. La HFS è costituita da item che riflettono la propensione di una persona a perdonare se stessa (Sottoscala di Perdono di Sé), gli altri individui (Sottoscala di Perdono degli Altri) e situazioni al di là del controllo di chiunque (come ad esempio un disastro naturale; Sottoscala di Perdono delle Situazioni).\n",
    "\n",
    "Sono calcolati quattro punteggi per la HFS: un punteggio totale HFS e un punteggio per ognuna delle tre sottoscala. Il punteggio totale HFS può variare da 18 a 126, mentre i punteggi per le tre sottoscala HFS possono variare da 6 a 42.\n",
    "\n",
    "Reverse-Scoring:\n",
    "Items 2, 4, 6, 7, 9, 11, 13, 15, & 17\n",
    "\n",
    "Il Sottoscala del Perdono delle Situazioni comprende sei item, di cui tre sono formulati in maniera inversa, e si valutano su una scala a sette punti:\n",
    "\n",
    "- HFS13. Quando le cose vanno male per motivi al di là del mio controllo, rimango intrappolato in pensieri negativi a riguardo. (R)\n",
    "- HFS14. Nel tempo riesco a comprendere le circostanze negative nella mia vita.\n",
    "- HFS15. Se vengo deluso da situazioni incontrollabili nella mia vita, continuo a pensare negativamente ad esse. (R)\n",
    "- HFS16. Con il passare del tempo riesco a raggiungere una pace interiore riguardo alle situazioni negative nella mia vita.\n",
    "- HFS17. Trovo davvero difficile accettare situazioni negative che non dipendono da nessuno. (R)\n",
    "- HFS18. Col tempo lascio andare i pensieri negativi riguardo alle circostanze negative che sono al di là del controllo di chiunque.\n",
    " \n",
    "Punteggi di risposta:\n",
    "\n",
    "1 = Quasi sempre falso per me\n",
    "2 = ?\n",
    "3 = Più spesso falso per me\n",
    "4 = ?\n",
    "5 = Più spesso vero per me\n",
    "6 = ?\n",
    "7 = Quasi sempre vero per me\n"
   ]
  },
  {
   "cell_type": "code",
   "execution_count": 1,
   "metadata": {
    "vscode": {
     "languageId": "r"
    }
   },
   "outputs": [],
   "source": [
    "suppressPackageStartupMessages({\n",
    "    library(tidyverse)\n",
    "    library(rio)\n",
    "    library(lavaan)\n",
    "    library(psych)\n",
    "    library(kableExtra)\n",
    "})"
   ]
  },
  {
   "cell_type": "code",
   "execution_count": 2,
   "metadata": {
    "vscode": {
     "languageId": "r"
    }
   },
   "outputs": [],
   "source": [
    "data(bfi)\n",
    "?bfi"
   ]
  },
  {
   "cell_type": "code",
   "execution_count": 3,
   "metadata": {
    "vscode": {
     "languageId": "r"
    }
   },
   "outputs": [
    {
     "name": "stdout",
     "output_type": "stream",
     "text": [
      "Rows: 102\n",
      "Columns: 18\n",
      "$ HFS1  \u001b[3m\u001b[90m<int>\u001b[39m\u001b[23m 2, 2, 3, 5, 3, 6, 6, 3, 4, 7, 6, 7, 7, 6, 6, 2, 2, 6, 5, 3, 3, 2…\n",
      "$ HFS2  \u001b[3m\u001b[90m<int>\u001b[39m\u001b[23m 5, 5, 6, 6, 7, 3, 4, 6, 1, 1, 2, 1, 1, 3, 2, 6, 6, 3, 4, 4, 2, 7…\n",
      "$ HFS3  \u001b[3m\u001b[90m<int>\u001b[39m\u001b[23m 4, 4, 5, 6, 4, 3, 5, 5, 4, 7, 4, 7, 6, 6, 7, 4, 4, 6, 5, 6, 6, 3…\n",
      "$ HFS4  \u001b[3m\u001b[90m<int>\u001b[39m\u001b[23m 6, 6, 6, 3, 6, 6, 3, 6, 1, 2, 2, 7, 2, 2, 5, 6, 7, 5, 5, 6, 2, 6…\n",
      "$ HFS5  \u001b[3m\u001b[90m<int>\u001b[39m\u001b[23m 2, 2, 3, 5, 4, 5, 4, 4, 5, 7, 6, 7, 6, 7, 5, 4, 3, 6, 5, 6, 6, 3…\n",
      "$ HFS6  \u001b[3m\u001b[90m<int>\u001b[39m\u001b[23m 5, 5, 6, 5, 7, 6, 7, 7, 1, 2, 1, 1, 1, 2, 5, 7, 7, 4, 5, 4, 2, 7…\n",
      "$ HFS7  \u001b[3m\u001b[90m<int>\u001b[39m\u001b[23m 3, 3, 4, 2, 3, 3, 3, 4, 1, 1, 1, 2, 1, 1, 2, 2, 4, 2, 1, 4, 1, 2…\n",
      "$ HFS8  \u001b[3m\u001b[90m<int>\u001b[39m\u001b[23m 7, 7, 5, 3, 6, 6, 5, 6, 6, 7, 6, 6, 7, 7, 6, 5, 5, 7, 6, 6, 6, 7…\n",
      "$ HFS9  \u001b[3m\u001b[90m<int>\u001b[39m\u001b[23m 3, 3, 6, 4, 3, 3, 3, 2, 3, 1, 1, 2, 1, 1, 1, 3, 3, 2, 1, 4, 2, 3…\n",
      "$ HFS10 \u001b[3m\u001b[90m<int>\u001b[39m\u001b[23m 6, 6, 2, 4, 7, 5, 4, 6, 6, 5, 4, 3, 4, 7, 6, 6, 6, 6, 5, 4, 5, 7…\n",
      "$ HFS11 \u001b[3m\u001b[90m<int>\u001b[39m\u001b[23m 4, 4, 6, 4, 3, 3, 3, 2, 5, 2, 2, 6, 1, 1, 2, 4, 2, 3, 1, 3, 3, 2…\n",
      "$ HFS12 \u001b[3m\u001b[90m<int>\u001b[39m\u001b[23m 7, 7, 3, 4, 4, 6, 3, 6, 6, 7, 6, 2, 7, 6, 7, 7, 6, 6, 6, 3, 5, 7…\n",
      "$ HFS13 \u001b[3m\u001b[90m<int>\u001b[39m\u001b[23m 6, 6, 7, 1, 7, 1, 6, 4, 4, 1, 1, 2, 3, 2, 1, 5, 5, 5, 2, 5, 5, 5…\n",
      "$ HFS14 \u001b[3m\u001b[90m<int>\u001b[39m\u001b[23m 7, 7, 5, 5, 3, 6, 6, 5, 6, 7, 7, 7, 6, 7, 7, 5, 5, 6, 6, 6, 6, 5…\n",
      "$ HFS15 \u001b[3m\u001b[90m<int>\u001b[39m\u001b[23m 5, 5, 6, 4, 7, 2, 4, 4, 2, 1, 1, 2, 2, 1, 1, 5, 4, 5, 2, 4, 4, 3…\n",
      "$ HFS16 \u001b[3m\u001b[90m<int>\u001b[39m\u001b[23m 7, 7, 3, 4, 4, 7, 5, 6, 6, 7, 7, 7, 7, 7, 6, 5, 6, 6, 3, 6, 6, 6…\n",
      "$ HFS17 \u001b[3m\u001b[90m<int>\u001b[39m\u001b[23m 5, 5, 4, 1, 6, 5, 5, 6, 2, 1, 1, 1, 2, 2, 1, 3, 6, 2, 2, 4, 5, 3…\n",
      "$ HFS18 \u001b[3m\u001b[90m<int>\u001b[39m\u001b[23m 5, 5, 4, 6, 2, 6, 3, 5, 6, 7, 7, 7, 6, 7, 6, 7, 5, 6, 6, 6, 5, 7…\n"
     ]
    }
   ],
   "source": [
    "d <- rio::import(\"data/hfs_data.csv\") |>\n",
    "    dplyr::select(starts_with(\"HFS\") & -ends_with(\"r\"))\n",
    "glimpse(d)"
   ]
  },
  {
   "cell_type": "code",
   "execution_count": 4,
   "metadata": {
    "vscode": {
     "languageId": "r"
    }
   },
   "outputs": [
    {
     "data": {
      "text/html": [
       "<style>\n",
       ".list-inline {list-style: none; margin:0; padding: 0}\n",
       ".list-inline>li {display: inline-block}\n",
       ".list-inline>li:not(:last-child)::after {content: \"\\00b7\"; padding: 0 .5ex}\n",
       "</style>\n",
       "<ol class=list-inline><li>102</li><li>18</li></ol>\n"
      ],
      "text/latex": [
       "\\begin{enumerate*}\n",
       "\\item 102\n",
       "\\item 18\n",
       "\\end{enumerate*}\n"
      ],
      "text/markdown": [
       "1. 102\n",
       "2. 18\n",
       "\n",
       "\n"
      ],
      "text/plain": [
       "[1] 102  18"
      ]
     },
     "metadata": {},
     "output_type": "display_data"
    }
   ],
   "source": [
    "dim(d)"
   ]
  },
  {
   "cell_type": "code",
   "execution_count": 5,
   "metadata": {
    "vscode": {
     "languageId": "r"
    }
   },
   "outputs": [
    {
     "name": "stdout",
     "output_type": "stream",
     "text": [
      "Rows: 102\n",
      "Columns: 6\n",
      "$ HFS13 \u001b[3m\u001b[90m<int>\u001b[39m\u001b[23m 6, 6, 7, 1, 7, 1, 6, 4, 4, 1, 1, 2, 3, 2, 1, 5, 5, 5, 2, 5, 5, 5…\n",
      "$ HFS14 \u001b[3m\u001b[90m<int>\u001b[39m\u001b[23m 7, 7, 5, 5, 3, 6, 6, 5, 6, 7, 7, 7, 6, 7, 7, 5, 5, 6, 6, 6, 6, 5…\n",
      "$ HFS15 \u001b[3m\u001b[90m<int>\u001b[39m\u001b[23m 5, 5, 6, 4, 7, 2, 4, 4, 2, 1, 1, 2, 2, 1, 1, 5, 4, 5, 2, 4, 4, 3…\n",
      "$ HFS16 \u001b[3m\u001b[90m<int>\u001b[39m\u001b[23m 7, 7, 3, 4, 4, 7, 5, 6, 6, 7, 7, 7, 7, 7, 6, 5, 6, 6, 3, 6, 6, 6…\n",
      "$ HFS17 \u001b[3m\u001b[90m<int>\u001b[39m\u001b[23m 5, 5, 4, 1, 6, 5, 5, 6, 2, 1, 1, 1, 2, 2, 1, 3, 6, 2, 2, 4, 5, 3…\n",
      "$ HFS18 \u001b[3m\u001b[90m<int>\u001b[39m\u001b[23m 5, 5, 4, 6, 2, 6, 3, 5, 6, 7, 7, 7, 6, 7, 6, 7, 5, 6, 6, 6, 5, 7…\n"
     ]
    }
   ],
   "source": [
    "hfs_situations <- d |>\n",
    "    dplyr::select(HFS13:HFS18)\n",
    "glimpse(hfs_situations)"
   ]
  },
  {
   "cell_type": "markdown",
   "metadata": {},
   "source": [
    "Reverse-coding per gli item 13, 15, 17."
   ]
  },
  {
   "cell_type": "code",
   "execution_count": 6,
   "metadata": {
    "vscode": {
     "languageId": "r"
    }
   },
   "outputs": [
    {
     "name": "stdout",
     "output_type": "stream",
     "text": [
      "Rows: 102\n",
      "Columns: 6\n",
      "$ HFS13 \u001b[3m\u001b[90m<dbl>\u001b[39m\u001b[23m 2, 2, 1, 7, 1, 7, 2, 4, 4, 7, 7, 6, 5, 6, 7, 3, 3, 3, 6, 3, 3, 3…\n",
      "$ HFS14 \u001b[3m\u001b[90m<int>\u001b[39m\u001b[23m 7, 7, 5, 5, 3, 6, 6, 5, 6, 7, 7, 7, 6, 7, 7, 5, 5, 6, 6, 6, 6, 5…\n",
      "$ HFS15 \u001b[3m\u001b[90m<dbl>\u001b[39m\u001b[23m 3, 3, 2, 4, 1, 6, 4, 4, 6, 7, 7, 6, 6, 7, 7, 3, 4, 3, 6, 4, 4, 5…\n",
      "$ HFS16 \u001b[3m\u001b[90m<int>\u001b[39m\u001b[23m 7, 7, 3, 4, 4, 7, 5, 6, 6, 7, 7, 7, 7, 7, 6, 5, 6, 6, 3, 6, 6, 6…\n",
      "$ HFS17 \u001b[3m\u001b[90m<dbl>\u001b[39m\u001b[23m 3, 3, 4, 7, 2, 3, 3, 2, 6, 7, 7, 7, 6, 6, 7, 5, 2, 6, 6, 4, 3, 5…\n",
      "$ HFS18 \u001b[3m\u001b[90m<int>\u001b[39m\u001b[23m 5, 5, 4, 6, 2, 6, 3, 5, 6, 7, 7, 7, 6, 7, 6, 7, 5, 6, 6, 6, 5, 7…\n"
     ]
    }
   ],
   "source": [
    "reversed_columns <- c(\"HFS13\", \"HFS15\", \"HFS17\")\n",
    "\n",
    "hfs_situations <- hfs_situations %>%\n",
    "    mutate(across(all_of(reversed_columns), ~ 8 - .))\n",
    "\n",
    "glimpse(hfs_situations)"
   ]
  },
  {
   "cell_type": "code",
   "execution_count": 7,
   "metadata": {
    "vscode": {
     "languageId": "r"
    }
   },
   "outputs": [
    {
     "data": {
      "text/html": [
       "<table class=\"dataframe\">\n",
       "<caption>A matrix: 6 × 6 of type dbl</caption>\n",
       "<thead>\n",
       "\t<tr><th></th><th scope=col>HFS13</th><th scope=col>HFS14</th><th scope=col>HFS15</th><th scope=col>HFS16</th><th scope=col>HFS17</th><th scope=col>HFS18</th></tr>\n",
       "</thead>\n",
       "<tbody>\n",
       "\t<tr><th scope=row>HFS13</th><td>3.23</td><td>1.31</td><td>1.71</td><td>1.08</td><td>1.58</td><td>1.39</td></tr>\n",
       "\t<tr><th scope=row>HFS14</th><td>1.31</td><td>2.16</td><td>1.24</td><td>1.44</td><td>1.16</td><td>1.28</td></tr>\n",
       "\t<tr><th scope=row>HFS15</th><td>1.71</td><td>1.24</td><td>2.60</td><td>1.05</td><td>1.85</td><td>1.10</td></tr>\n",
       "\t<tr><th scope=row>HFS16</th><td>1.08</td><td>1.44</td><td>1.05</td><td>2.24</td><td>1.08</td><td>1.40</td></tr>\n",
       "\t<tr><th scope=row>HFS17</th><td>1.58</td><td>1.16</td><td>1.85</td><td>1.08</td><td>3.39</td><td>1.43</td></tr>\n",
       "\t<tr><th scope=row>HFS18</th><td>1.39</td><td>1.28</td><td>1.10</td><td>1.40</td><td>1.43</td><td>2.17</td></tr>\n",
       "</tbody>\n",
       "</table>\n"
      ],
      "text/latex": [
       "A matrix: 6 × 6 of type dbl\n",
       "\\begin{tabular}{r|llllll}\n",
       "  & HFS13 & HFS14 & HFS15 & HFS16 & HFS17 & HFS18\\\\\n",
       "\\hline\n",
       "\tHFS13 & 3.23 & 1.31 & 1.71 & 1.08 & 1.58 & 1.39\\\\\n",
       "\tHFS14 & 1.31 & 2.16 & 1.24 & 1.44 & 1.16 & 1.28\\\\\n",
       "\tHFS15 & 1.71 & 1.24 & 2.60 & 1.05 & 1.85 & 1.10\\\\\n",
       "\tHFS16 & 1.08 & 1.44 & 1.05 & 2.24 & 1.08 & 1.40\\\\\n",
       "\tHFS17 & 1.58 & 1.16 & 1.85 & 1.08 & 3.39 & 1.43\\\\\n",
       "\tHFS18 & 1.39 & 1.28 & 1.10 & 1.40 & 1.43 & 2.17\\\\\n",
       "\\end{tabular}\n"
      ],
      "text/markdown": [
       "\n",
       "A matrix: 6 × 6 of type dbl\n",
       "\n",
       "| <!--/--> | HFS13 | HFS14 | HFS15 | HFS16 | HFS17 | HFS18 |\n",
       "|---|---|---|---|---|---|---|\n",
       "| HFS13 | 3.23 | 1.31 | 1.71 | 1.08 | 1.58 | 1.39 |\n",
       "| HFS14 | 1.31 | 2.16 | 1.24 | 1.44 | 1.16 | 1.28 |\n",
       "| HFS15 | 1.71 | 1.24 | 2.60 | 1.05 | 1.85 | 1.10 |\n",
       "| HFS16 | 1.08 | 1.44 | 1.05 | 2.24 | 1.08 | 1.40 |\n",
       "| HFS17 | 1.58 | 1.16 | 1.85 | 1.08 | 3.39 | 1.43 |\n",
       "| HFS18 | 1.39 | 1.28 | 1.10 | 1.40 | 1.43 | 2.17 |\n",
       "\n"
      ],
      "text/plain": [
       "      HFS13 HFS14 HFS15 HFS16 HFS17 HFS18\n",
       "HFS13 3.23  1.31  1.71  1.08  1.58  1.39 \n",
       "HFS14 1.31  2.16  1.24  1.44  1.16  1.28 \n",
       "HFS15 1.71  1.24  2.60  1.05  1.85  1.10 \n",
       "HFS16 1.08  1.44  1.05  2.24  1.08  1.40 \n",
       "HFS17 1.58  1.16  1.85  1.08  3.39  1.43 \n",
       "HFS18 1.39  1.28  1.10  1.40  1.43  2.17 "
      ]
     },
     "metadata": {},
     "output_type": "display_data"
    }
   ],
   "source": [
    "round(cov(hfs_situations), 2)"
   ]
  },
  {
   "cell_type": "code",
   "execution_count": 8,
   "metadata": {
    "vscode": {
     "languageId": "r"
    }
   },
   "outputs": [
    {
     "data": {
      "text/html": [
       "<table class=\"dataframe\">\n",
       "<caption>A matrix: 6 × 6 of type dbl</caption>\n",
       "<thead>\n",
       "\t<tr><th></th><th scope=col>HFS13</th><th scope=col>HFS14</th><th scope=col>HFS15</th><th scope=col>HFS16</th><th scope=col>HFS17</th><th scope=col>HFS18</th></tr>\n",
       "</thead>\n",
       "<tbody>\n",
       "\t<tr><th scope=row>HFS13</th><td>1.00</td><td>0.50</td><td>0.59</td><td>0.40</td><td>0.48</td><td>0.53</td></tr>\n",
       "\t<tr><th scope=row>HFS14</th><td>0.50</td><td>1.00</td><td>0.52</td><td>0.66</td><td>0.43</td><td>0.59</td></tr>\n",
       "\t<tr><th scope=row>HFS15</th><td>0.59</td><td>0.52</td><td>1.00</td><td>0.44</td><td>0.62</td><td>0.46</td></tr>\n",
       "\t<tr><th scope=row>HFS16</th><td>0.40</td><td>0.66</td><td>0.44</td><td>1.00</td><td>0.39</td><td>0.64</td></tr>\n",
       "\t<tr><th scope=row>HFS17</th><td>0.48</td><td>0.43</td><td>0.62</td><td>0.39</td><td>1.00</td><td>0.53</td></tr>\n",
       "\t<tr><th scope=row>HFS18</th><td>0.53</td><td>0.59</td><td>0.46</td><td>0.64</td><td>0.53</td><td>1.00</td></tr>\n",
       "</tbody>\n",
       "</table>\n"
      ],
      "text/latex": [
       "A matrix: 6 × 6 of type dbl\n",
       "\\begin{tabular}{r|llllll}\n",
       "  & HFS13 & HFS14 & HFS15 & HFS16 & HFS17 & HFS18\\\\\n",
       "\\hline\n",
       "\tHFS13 & 1.00 & 0.50 & 0.59 & 0.40 & 0.48 & 0.53\\\\\n",
       "\tHFS14 & 0.50 & 1.00 & 0.52 & 0.66 & 0.43 & 0.59\\\\\n",
       "\tHFS15 & 0.59 & 0.52 & 1.00 & 0.44 & 0.62 & 0.46\\\\\n",
       "\tHFS16 & 0.40 & 0.66 & 0.44 & 1.00 & 0.39 & 0.64\\\\\n",
       "\tHFS17 & 0.48 & 0.43 & 0.62 & 0.39 & 1.00 & 0.53\\\\\n",
       "\tHFS18 & 0.53 & 0.59 & 0.46 & 0.64 & 0.53 & 1.00\\\\\n",
       "\\end{tabular}\n"
      ],
      "text/markdown": [
       "\n",
       "A matrix: 6 × 6 of type dbl\n",
       "\n",
       "| <!--/--> | HFS13 | HFS14 | HFS15 | HFS16 | HFS17 | HFS18 |\n",
       "|---|---|---|---|---|---|---|\n",
       "| HFS13 | 1.00 | 0.50 | 0.59 | 0.40 | 0.48 | 0.53 |\n",
       "| HFS14 | 0.50 | 1.00 | 0.52 | 0.66 | 0.43 | 0.59 |\n",
       "| HFS15 | 0.59 | 0.52 | 1.00 | 0.44 | 0.62 | 0.46 |\n",
       "| HFS16 | 0.40 | 0.66 | 0.44 | 1.00 | 0.39 | 0.64 |\n",
       "| HFS17 | 0.48 | 0.43 | 0.62 | 0.39 | 1.00 | 0.53 |\n",
       "| HFS18 | 0.53 | 0.59 | 0.46 | 0.64 | 0.53 | 1.00 |\n",
       "\n"
      ],
      "text/plain": [
       "      HFS13 HFS14 HFS15 HFS16 HFS17 HFS18\n",
       "HFS13 1.00  0.50  0.59  0.40  0.48  0.53 \n",
       "HFS14 0.50  1.00  0.52  0.66  0.43  0.59 \n",
       "HFS15 0.59  0.52  1.00  0.44  0.62  0.46 \n",
       "HFS16 0.40  0.66  0.44  1.00  0.39  0.64 \n",
       "HFS17 0.48  0.43  0.62  0.39  1.00  0.53 \n",
       "HFS18 0.53  0.59  0.46  0.64  0.53  1.00 "
      ]
     },
     "metadata": {},
     "output_type": "display_data"
    }
   ],
   "source": [
    "round(cor(hfs_situations), 2)"
   ]
  },
  {
   "cell_type": "code",
   "execution_count": 9,
   "metadata": {
    "vscode": {
     "languageId": "r"
    }
   },
   "outputs": [
    {
     "data": {
      "text/html": [
       "<table class=\"dataframe\">\n",
       "<caption>A tibble: 6 × 2</caption>\n",
       "<thead>\n",
       "\t<tr><th scope=col>item</th><th scope=col>score</th></tr>\n",
       "\t<tr><th scope=col>&lt;chr&gt;</th><th scope=col>&lt;dbl&gt;</th></tr>\n",
       "</thead>\n",
       "<tbody>\n",
       "\t<tr><td>HFS13</td><td>2</td></tr>\n",
       "\t<tr><td>HFS14</td><td>7</td></tr>\n",
       "\t<tr><td>HFS15</td><td>3</td></tr>\n",
       "\t<tr><td>HFS16</td><td>7</td></tr>\n",
       "\t<tr><td>HFS17</td><td>3</td></tr>\n",
       "\t<tr><td>HFS18</td><td>5</td></tr>\n",
       "</tbody>\n",
       "</table>\n"
      ],
      "text/latex": [
       "A tibble: 6 × 2\n",
       "\\begin{tabular}{ll}\n",
       " item & score\\\\\n",
       " <chr> & <dbl>\\\\\n",
       "\\hline\n",
       "\t HFS13 & 2\\\\\n",
       "\t HFS14 & 7\\\\\n",
       "\t HFS15 & 3\\\\\n",
       "\t HFS16 & 7\\\\\n",
       "\t HFS17 & 3\\\\\n",
       "\t HFS18 & 5\\\\\n",
       "\\end{tabular}\n"
      ],
      "text/markdown": [
       "\n",
       "A tibble: 6 × 2\n",
       "\n",
       "| item &lt;chr&gt; | score &lt;dbl&gt; |\n",
       "|---|---|\n",
       "| HFS13 | 2 |\n",
       "| HFS14 | 7 |\n",
       "| HFS15 | 3 |\n",
       "| HFS16 | 7 |\n",
       "| HFS17 | 3 |\n",
       "| HFS18 | 5 |\n",
       "\n"
      ],
      "text/plain": [
       "  item  score\n",
       "1 HFS13 2    \n",
       "2 HFS14 7    \n",
       "3 HFS15 3    \n",
       "4 HFS16 7    \n",
       "5 HFS17 3    \n",
       "6 HFS18 5    "
      ]
     },
     "metadata": {},
     "output_type": "display_data"
    }
   ],
   "source": [
    "hfs_sit_long <- hfs_situations %>%\n",
    "    pivot_longer(cols = starts_with(\"HFS\"), names_to = \"item\", values_to = \"score\")\n",
    "\n",
    "head(hfs_sit_long)"
   ]
  },
  {
   "cell_type": "code",
   "execution_count": 10,
   "metadata": {
    "vscode": {
     "languageId": "r"
    }
   },
   "outputs": [
    {
     "data": {
      "image/png": "[encoded data removed]",
      "text/plain": [
       "plot without title"
      ]
     },
     "metadata": {
      "image/png": {
       "height": 420,
       "width": 420
      }
     },
     "output_type": "display_data"
    }
   ],
   "source": [
    "hfs_sit_long |>\n",
    "    ggplot(aes(score)) +\n",
    "    geom_bar() +\n",
    "    facet_wrap(~item)"
   ]
  },
  {
   "cell_type": "code",
   "execution_count": 11,
   "metadata": {
    "vscode": {
     "languageId": "r"
    }
   },
   "outputs": [
    {
     "data": {
      "text/html": [
       "<table class=\"dataframe\">\n",
       "<caption>A psych: 6 × 13</caption>\n",
       "<thead>\n",
       "\t<tr><th></th><th scope=col>vars</th><th scope=col>n</th><th scope=col>mean</th><th scope=col>sd</th><th scope=col>median</th><th scope=col>trimmed</th><th scope=col>mad</th><th scope=col>min</th><th scope=col>max</th><th scope=col>range</th><th scope=col>skew</th><th scope=col>kurtosis</th><th scope=col>se</th></tr>\n",
       "\t<tr><th></th><th scope=col>&lt;dbl&gt;</th><th scope=col>&lt;dbl&gt;</th><th scope=col>&lt;dbl&gt;</th><th scope=col>&lt;dbl&gt;</th><th scope=col>&lt;dbl&gt;</th><th scope=col>&lt;dbl&gt;</th><th scope=col>&lt;dbl&gt;</th><th scope=col>&lt;dbl&gt;</th><th scope=col>&lt;dbl&gt;</th><th scope=col>&lt;dbl&gt;</th><th scope=col>&lt;dbl&gt;</th><th scope=col>&lt;dbl&gt;</th><th scope=col>&lt;dbl&gt;</th></tr>\n",
       "</thead>\n",
       "<tbody>\n",
       "\t<tr><th scope=row>HFS13</th><td>1</td><td>102</td><td>4.23</td><td>1.80</td><td>4.0</td><td>4.23</td><td>2.97</td><td>1</td><td>7</td><td>6</td><td>-0.03</td><td>-1.16</td><td>0.18</td></tr>\n",
       "\t<tr><th scope=row>HFS14</th><td>2</td><td>102</td><td>5.27</td><td>1.47</td><td>5.5</td><td>5.44</td><td>0.74</td><td>1</td><td>7</td><td>6</td><td>-0.84</td><td> 0.06</td><td>0.15</td></tr>\n",
       "\t<tr><th scope=row>HFS15</th><td>3</td><td>102</td><td>4.41</td><td>1.61</td><td>4.0</td><td>4.43</td><td>1.48</td><td>1</td><td>7</td><td>6</td><td>-0.05</td><td>-0.87</td><td>0.16</td></tr>\n",
       "\t<tr><th scope=row>HFS16</th><td>4</td><td>102</td><td>5.23</td><td>1.50</td><td>5.0</td><td>5.35</td><td>1.48</td><td>2</td><td>7</td><td>5</td><td>-0.60</td><td>-0.63</td><td>0.15</td></tr>\n",
       "\t<tr><th scope=row>HFS17</th><td>5</td><td>102</td><td>4.38</td><td>1.84</td><td>4.0</td><td>4.41</td><td>2.97</td><td>1</td><td>7</td><td>6</td><td>-0.11</td><td>-1.22</td><td>0.18</td></tr>\n",
       "\t<tr><th scope=row>HFS18</th><td>6</td><td>102</td><td>5.28</td><td>1.47</td><td>5.0</td><td>5.43</td><td>1.48</td><td>1</td><td>7</td><td>6</td><td>-0.71</td><td>-0.19</td><td>0.15</td></tr>\n",
       "</tbody>\n",
       "</table>\n"
      ],
      "text/latex": [
       "A psych: 6 × 13\n",
       "\\begin{tabular}{r|lllllllllllll}\n",
       "  & vars & n & mean & sd & median & trimmed & mad & min & max & range & skew & kurtosis & se\\\\\n",
       "  & <dbl> & <dbl> & <dbl> & <dbl> & <dbl> & <dbl> & <dbl> & <dbl> & <dbl> & <dbl> & <dbl> & <dbl> & <dbl>\\\\\n",
       "\\hline\n",
       "\tHFS13 & 1 & 102 & 4.23 & 1.80 & 4.0 & 4.23 & 2.97 & 1 & 7 & 6 & -0.03 & -1.16 & 0.18\\\\\n",
       "\tHFS14 & 2 & 102 & 5.27 & 1.47 & 5.5 & 5.44 & 0.74 & 1 & 7 & 6 & -0.84 &  0.06 & 0.15\\\\\n",
       "\tHFS15 & 3 & 102 & 4.41 & 1.61 & 4.0 & 4.43 & 1.48 & 1 & 7 & 6 & -0.05 & -0.87 & 0.16\\\\\n",
       "\tHFS16 & 4 & 102 & 5.23 & 1.50 & 5.0 & 5.35 & 1.48 & 2 & 7 & 5 & -0.60 & -0.63 & 0.15\\\\\n",
       "\tHFS17 & 5 & 102 & 4.38 & 1.84 & 4.0 & 4.41 & 2.97 & 1 & 7 & 6 & -0.11 & -1.22 & 0.18\\\\\n",
       "\tHFS18 & 6 & 102 & 5.28 & 1.47 & 5.0 & 5.43 & 1.48 & 1 & 7 & 6 & -0.71 & -0.19 & 0.15\\\\\n",
       "\\end{tabular}\n"
      ],
      "text/markdown": [
       "\n",
       "A psych: 6 × 13\n",
       "\n",
       "| <!--/--> | vars &lt;dbl&gt; | n &lt;dbl&gt; | mean &lt;dbl&gt; | sd &lt;dbl&gt; | median &lt;dbl&gt; | trimmed &lt;dbl&gt; | mad &lt;dbl&gt; | min &lt;dbl&gt; | max &lt;dbl&gt; | range &lt;dbl&gt; | skew &lt;dbl&gt; | kurtosis &lt;dbl&gt; | se &lt;dbl&gt; |\n",
       "|---|---|---|---|---|---|---|---|---|---|---|---|---|---|\n",
       "| HFS13 | 1 | 102 | 4.23 | 1.80 | 4.0 | 4.23 | 2.97 | 1 | 7 | 6 | -0.03 | -1.16 | 0.18 |\n",
       "| HFS14 | 2 | 102 | 5.27 | 1.47 | 5.5 | 5.44 | 0.74 | 1 | 7 | 6 | -0.84 |  0.06 | 0.15 |\n",
       "| HFS15 | 3 | 102 | 4.41 | 1.61 | 4.0 | 4.43 | 1.48 | 1 | 7 | 6 | -0.05 | -0.87 | 0.16 |\n",
       "| HFS16 | 4 | 102 | 5.23 | 1.50 | 5.0 | 5.35 | 1.48 | 2 | 7 | 5 | -0.60 | -0.63 | 0.15 |\n",
       "| HFS17 | 5 | 102 | 4.38 | 1.84 | 4.0 | 4.41 | 2.97 | 1 | 7 | 6 | -0.11 | -1.22 | 0.18 |\n",
       "| HFS18 | 6 | 102 | 5.28 | 1.47 | 5.0 | 5.43 | 1.48 | 1 | 7 | 6 | -0.71 | -0.19 | 0.15 |\n",
       "\n"
      ],
      "text/plain": [
       "      vars n   mean sd   median trimmed mad  min max range skew  kurtosis se  \n",
       "HFS13 1    102 4.23 1.80 4.0    4.23    2.97 1   7   6     -0.03 -1.16    0.18\n",
       "HFS14 2    102 5.27 1.47 5.5    5.44    0.74 1   7   6     -0.84  0.06    0.15\n",
       "HFS15 3    102 4.41 1.61 4.0    4.43    1.48 1   7   6     -0.05 -0.87    0.16\n",
       "HFS16 4    102 5.23 1.50 5.0    5.35    1.48 2   7   5     -0.60 -0.63    0.15\n",
       "HFS17 5    102 4.38 1.84 4.0    4.41    2.97 1   7   6     -0.11 -1.22    0.18\n",
       "HFS18 6    102 5.28 1.47 5.0    5.43    1.48 1   7   6     -0.71 -0.19    0.15"
      ]
     },
     "metadata": {},
     "output_type": "display_data"
    }
   ],
   "source": [
    "psych::describe(hfs_situations) |> round(2)"
   ]
  },
  {
   "cell_type": "code",
   "execution_count": 12,
   "metadata": {
    "vscode": {
     "languageId": "r"
    }
   },
   "outputs": [
    {
     "name": "stdout",
     "output_type": "stream",
     "text": [
      "lavaan 0.6.15 ended normally after 15 iterations\n",
      "\n",
      "  Estimator                                         ML\n",
      "  Optimization method                           NLMINB\n",
      "  Number of model parameters                        18\n",
      "\n",
      "  Number of observations                           102\n",
      "  Number of missing patterns                         1\n",
      "\n",
      "Model Test User Model:\n",
      "                                              Standard      Scaled\n",
      "  Test Statistic                                35.816      21.787\n",
      "  Degrees of freedom                                 9           9\n",
      "  P-value (Chi-square)                           0.000       0.010\n",
      "  Scaling correction factor                                  1.644\n",
      "    Yuan-Bentler correction (Mplus variant)                       \n",
      "\n",
      "Model Test Baseline Model:\n",
      "\n",
      "  Test statistic                               281.284     183.159\n",
      "  Degrees of freedom                                15          15\n",
      "  P-value                                        0.000       0.000\n",
      "  Scaling correction factor                                  1.536\n",
      "\n",
      "User Model versus Baseline Model:\n",
      "\n",
      "  Comparative Fit Index (CFI)                    0.899       0.924\n",
      "  Tucker-Lewis Index (TLI)                       0.832       0.873\n",
      "                                                                  \n",
      "  Robust Comparative Fit Index (CFI)                         0.918\n",
      "  Robust Tucker-Lewis Index (TLI)                            0.864\n",
      "\n",
      "Loglikelihood and Information Criteria:\n",
      "\n",
      "  Loglikelihood user model (H0)              -1033.102   -1033.102\n",
      "  Scaling correction factor                                  1.021\n",
      "      for the MLR correction                                      \n",
      "  Loglikelihood unrestricted model (H1)      -1015.194   -1015.194\n",
      "  Scaling correction factor                                  1.229\n",
      "      for the MLR correction                                      \n",
      "                                                                  \n",
      "  Akaike (AIC)                                2102.204    2102.204\n",
      "  Bayesian (BIC)                              2149.453    2149.453\n",
      "  Sample-size adjusted Bayesian (SABIC)       2092.598    2092.598\n",
      "\n",
      "Root Mean Square Error of Approximation:\n",
      "\n",
      "  RMSEA                                          0.171       0.118\n",
      "  90 Percent confidence interval - lower         0.115       0.069\n",
      "  90 Percent confidence interval - upper         0.231       0.168\n",
      "  P-value H_0: RMSEA <= 0.050                    0.001       0.015\n",
      "  P-value H_0: RMSEA >= 0.080                    0.995       0.906\n",
      "                                                                  \n",
      "  Robust RMSEA                                               0.153\n",
      "  90 Percent confidence interval - lower                     0.074\n",
      "  90 Percent confidence interval - upper                     0.234\n",
      "  P-value H_0: Robust RMSEA <= 0.050                         0.022\n",
      "  P-value H_0: Robust RMSEA >= 0.080                         0.938\n",
      "\n",
      "Standardized Root Mean Square Residual:\n",
      "\n",
      "  SRMR                                           0.057       0.057\n",
      "\n",
      "Parameter Estimates:\n",
      "\n",
      "  Standard errors                             Sandwich\n",
      "  Information bread                           Observed\n",
      "  Observed information based on                Hessian\n",
      "\n",
      "Latent Variables:\n",
      "                   Estimate  Std.Err  z-value  P(>|z|)   Std.lv  Std.all\n",
      "  Sit =~                                                                \n",
      "    HFS14             1.120    0.121    9.238    0.000    1.120    0.765\n",
      "    HFS16             1.080    0.133    8.117    0.000    1.080    0.726\n",
      "    HFS18             1.136    0.120    9.487    0.000    1.136    0.776\n",
      "    HFS13             1.215    0.143    8.471    0.000    1.215    0.680\n",
      "    HFS15             1.137    0.148    7.674    0.000    1.137    0.708\n",
      "    HFS17             1.215    0.156    7.777    0.000    1.215    0.663\n",
      "\n",
      "Intercepts:\n",
      "                   Estimate  Std.Err  z-value  P(>|z|)   Std.lv  Std.all\n",
      "   .HFS14             5.275    0.145   36.412    0.000    5.275    3.605\n",
      "   .HFS16             5.225    0.147   35.469    0.000    5.225    3.512\n",
      "   .HFS18             5.284    0.145   36.443    0.000    5.284    3.608\n",
      "   .HFS13             4.225    0.177   23.878    0.000    4.225    2.364\n",
      "   .HFS15             4.412    0.159   27.764    0.000    4.412    2.749\n",
      "   .HFS17             4.382    0.181   24.168    0.000    4.382    2.393\n",
      "    Sit               0.000                               0.000    0.000\n",
      "\n",
      "Variances:\n",
      "                   Estimate  Std.Err  z-value  P(>|z|)   Std.lv  Std.all\n",
      "   .HFS14             0.886    0.190    4.664    0.000    0.886    0.414\n",
      "   .HFS16             1.048    0.226    4.635    0.000    1.048    0.474\n",
      "   .HFS18             0.854    0.173    4.940    0.000    0.854    0.398\n",
      "   .HFS13             1.719    0.230    7.480    0.000    1.719    0.538\n",
      "   .HFS15             1.284    0.292    4.401    0.000    1.284    0.498\n",
      "   .HFS17             1.878    0.377    4.979    0.000    1.878    0.560\n",
      "    Sit               1.000                               1.000    1.000\n",
      "\n",
      "R-Square:\n",
      "                   Estimate\n",
      "    HFS14             0.586\n",
      "    HFS16             0.526\n",
      "    HFS18             0.602\n",
      "    HFS13             0.462\n",
      "    HFS15             0.502\n",
      "    HFS17             0.440\n",
      "\n"
     ]
    }
   ],
   "source": [
    "mod_1 <- \"\n",
    "    # SitP loadings (all estimated)\n",
    "    Sit =~ HFS14 + HFS16 + HFS18 + HFS13 + HFS15 + HFS17\n",
    "\"\n",
    "fit_1 <- sem(model = mod_1, data = hfs_situations, estimator = \"MLR\", mimic = \"mplus\", std.lv = TRUE)\n",
    "print(\n",
    "    summary(fit_1, fit.measures = TRUE, rsquare = TRUE, standardized = TRUE)\n",
    ")"
   ]
  },
  {
   "cell_type": "code",
   "execution_count": 13,
   "metadata": {
    "vscode": {
     "languageId": "r"
    }
   },
   "outputs": [
    {
     "ename": "ERROR",
     "evalue": "Error in h(simpleError(msg, call)): error in evaluating the argument 'object' in selecting a method for function 'summary': object 'model04Estimates' not found\n",
     "output_type": "error",
     "traceback": [
      "Error in h(simpleError(msg, call)): error in evaluating the argument 'object' in selecting a method for function 'summary': object 'model04Estimates' not found\nTraceback:\n",
      "1. print(summary(model04Estimates, fit.measures = TRUE, rsquare = TRUE, \n .     standardized = TRUE))",
      "2. summary(model04Estimates, fit.measures = TRUE, rsquare = TRUE, \n .     standardized = TRUE)",
      "3. .handleSimpleError(function (cond) \n . .Internal(C_tryCatchHelper(addr, 1L, cond)), \"object 'model04Estimates' not found\", \n .     base::quote(eval(expr, envir, enclos)))",
      "4. h(simpleError(msg, call))"
     ]
    }
   ],
   "source": [
    "mod_4 <- \"\n",
    "    # SitP loadings (all estimated)\n",
    "    SitP =~ HFS14 + HFS16 + HFS18\n",
    "    # SitN loadings (all estimated)\n",
    "    SitN =~ HFS13 + HFS15 + HFS17\n",
    "\"\n",
    "fit_4 <- sem(model = mod_4, data = hfs_situations, estimator = \"MLR\", mimic = \"mplus\", std.lv = TRUE)\n",
    "print(\n",
    "    summary(model04Estimates, fit.measures = TRUE, rsquare = TRUE, standardized = TRUE)\n",
    ")"
   ]
  },
  {
   "cell_type": "code",
   "execution_count": 38,
   "metadata": {
    "vscode": {
     "languageId": "r"
    }
   },
   "outputs": [
    {
     "data": {
      "text/html": [
       "<table class=\"dataframe\">\n",
       "<caption>A anova: 2 × 7</caption>\n",
       "<thead>\n",
       "\t<tr><th></th><th scope=col>Df</th><th scope=col>AIC</th><th scope=col>BIC</th><th scope=col>Chisq</th><th scope=col>Chisq diff</th><th scope=col>Df diff</th><th scope=col>Pr(&gt;Chisq)</th></tr>\n",
       "\t<tr><th></th><th scope=col>&lt;int&gt;</th><th scope=col>&lt;dbl&gt;</th><th scope=col>&lt;dbl&gt;</th><th scope=col>&lt;dbl&gt;</th><th scope=col>&lt;dbl&gt;</th><th scope=col>&lt;int&gt;</th><th scope=col>&lt;dbl&gt;</th></tr>\n",
       "</thead>\n",
       "<tbody>\n",
       "\t<tr><th scope=row>fit_4</th><td>8</td><td>2082.968</td><td>2132.842</td><td>14.57982</td><td>      NA</td><td>NA</td><td>         NA</td></tr>\n",
       "\t<tr><th scope=row>fit_1</th><td>9</td><td>2102.204</td><td>2149.453</td><td>35.81564</td><td>7.764838</td><td> 1</td><td>0.005327307</td></tr>\n",
       "</tbody>\n",
       "</table>\n"
      ],
      "text/latex": [
       "A anova: 2 × 7\n",
       "\\begin{tabular}{r|lllllll}\n",
       "  & Df & AIC & BIC & Chisq & Chisq diff & Df diff & Pr(>Chisq)\\\\\n",
       "  & <int> & <dbl> & <dbl> & <dbl> & <dbl> & <int> & <dbl>\\\\\n",
       "\\hline\n",
       "\tfit\\_4 & 8 & 2082.968 & 2132.842 & 14.57982 &       NA & NA &          NA\\\\\n",
       "\tfit\\_1 & 9 & 2102.204 & 2149.453 & 35.81564 & 7.764838 &  1 & 0.005327307\\\\\n",
       "\\end{tabular}\n"
      ],
      "text/markdown": [
       "\n",
       "A anova: 2 × 7\n",
       "\n",
       "| <!--/--> | Df &lt;int&gt; | AIC &lt;dbl&gt; | BIC &lt;dbl&gt; | Chisq &lt;dbl&gt; | Chisq diff &lt;dbl&gt; | Df diff &lt;int&gt; | Pr(&gt;Chisq) &lt;dbl&gt; |\n",
       "|---|---|---|---|---|---|---|---|\n",
       "| fit_4 | 8 | 2082.968 | 2132.842 | 14.57982 |       NA | NA |          NA |\n",
       "| fit_1 | 9 | 2102.204 | 2149.453 | 35.81564 | 7.764838 |  1 | 0.005327307 |\n",
       "\n"
      ],
      "text/plain": [
       "      Df AIC      BIC      Chisq    Chisq diff Df diff Pr(>Chisq) \n",
       "fit_4 8  2082.968 2132.842 14.57982       NA   NA               NA\n",
       "fit_1 9  2102.204 2149.453 35.81564 7.764838    1      0.005327307"
      ]
     },
     "metadata": {},
     "output_type": "display_data"
    }
   ],
   "source": [
    "anova(fit_1, fit_4)"
   ]
  }
 ],
 "metadata": {
  "kernelspec": {
   "display_name": "R",
   "language": "R",
   "name": "ir"
  },
  "language_info": {
   "codemirror_mode": "r",
   "file_extension": ".r",
   "mimetype": "text/x-r-source",
   "name": "R",
   "pygments_lexer": "r",
   "version": "4.3.1"
  }
 },
 "nbformat": 4,
 "nbformat_minor": 2
}