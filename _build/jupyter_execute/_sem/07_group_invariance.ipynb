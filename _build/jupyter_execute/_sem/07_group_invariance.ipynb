{
 "cells": [
  {
   "attachments": {},
   "cell_type": "markdown",
   "id": "756eb571",
   "metadata": {},
   "source": [
    "(factorial-invariance-notebook)=\n",
    "# Invarianza di misura  "
   ]
  },
  {
   "cell_type": "code",
   "execution_count": 1,
   "id": "a8e1a699",
   "metadata": {
    "tags": [
     "remove_cell"
    ],
    "vscode": {
     "languageId": "r"
    }
   },
   "outputs": [],
   "source": [
    "source(\"../_common.R\")\n",
    "suppressPackageStartupMessages({\n",
    "    library(\"lavaan\")\n",
    "    library(\"semTools\")\n",
    "})\n",
    "set.seed(42)"
   ]
  },
  {
   "attachments": {},
   "cell_type": "markdown",
   "id": "5a68b455",
   "metadata": {},
   "source": [
    "Gli esempi di modelli SEM che abbiamo esaminato fino ad ora sono stati calcolati all'interno di un singolo gruppo. Questi modelli hanno utilizzato come input una sola matrice di covarianza e hanno portato alla stima dei parametri del modello senza imporre restrizioni specifiche. In questo capitolo, ci occuperemo del concetto di invarianza, estendendo le analisi precedenti ad un contesto multi-gruppo.\n",
    "\n",
    "L'invarianza in un'analisi SEM multi-gruppo può riferirsi a diversi aspetti del modello. Un approccio utile è suddividere lo studio dell'invarianza in due componenti:\n",
    "\n",
    "1. **Invarianza nei modelli di misurazione**: si verifica se gli strumenti di misurazione sono invarianti o equivalenti tra diversi gruppi. Questo tipo di analisi testa l'uguaglianza dei parametri associati al modello di misurazione tra i gruppi, inclusi i carichi fattoriali, gli intercetti delle variabili di misura e le varianze e covarianze residue.\n",
    "   \n",
    "2. **Invarianza nei modelli strutturali**: si verifica se le strutture latenti sono invarianti o equivalenti tra diversi gruppi. Questa analisi testa l'uguaglianza dei parametri associati al modello di struttura latente tra i gruppi, inclusi i coefficienti di percorso, le medie e le varianze dei fattori e le covarianze tra i fattori.\n",
    "\n",
    "In generale, nella modellazione SEM multi-gruppo si cerca di ottenere la massima parsimonia (semplicità) possibile, desiderando un grado elevato di invarianza sia nelle misure che nelle strutture. Tuttavia, i modelli invarianti sono restrittivi e comportano un compromesso tra adattamento del modello e parsimonia. Pertanto, nella pratica, il ricercatore deve trovare un equilibrio tra questi due aspetti. Di conseguenza, quando si adatta un modello multi-gruppo, si tende a scegliere modelli con un certo grado di invarianza che mantengano un adeguato adattamento del modello. Questo può significare invarianza solo nella misurazione, solo nella struttura, o in un sottoinsieme di parametri in entrambi i componenti.\n",
    "\n",
    "Nel presente capitolo, per valutare l'invarianza di misura, utilizzeremo l'approccio dell'analisi fattoriale confermativa a gruppi multipli (MG-CFA). Esploreremo se sia sensato considerare la stessa struttura fattoriale in gruppi diversi, ossia se la stessa variabile latente viene misurata in modo equivalente tra i diversi gruppi. Questo aspetto, noto come *invarianza di misura*, è fondamentale perché permette di effettuare confronti tra le medie dei gruppi. Se un dato strumento di misura valuta dimensioni diverse in gruppi differenti, allora non è possibile fare confronti validi tra questi gruppi utilizzando quella misura. In questo capitolo, affronteremo la questione dell'invarianza di misura considerando prima gli indicatori continui e poi quelli categoriali.\n",
    "\n",
    "## Indicatori continui\n",
    "\n",
    "### Intercette degli item\n",
    "\n",
    "In generale, i modelli di equazioni strutturali vengono utilizzati per modellare unicamente la matrice di covarianza delle variabili osservate in un set di dati.  Ricordiamo che, quando abbiamo introdotto il modello dell'analisi fattoriale, \n",
    "\n",
    "$$\n",
    "y_i = \\mu + \\lambda_j \\xi_k + \\delta_i,\n",
    "$$\n",
    "\n",
    "per semplicità abbiamo ignorato la media $\\mu$ degli indicatori esprimendo i dati osservati nei termini degli scarti dalla media, $y_i -\\mu$, in quanto ciò lascia immutate le covarianze. Tuttavia, in alcune applicazioni (quali, appunto, l'invarianza di misura), è utile considerare anche le medie delle variabili osservate. Per includere nel modello fattoriale le informazioni sulle medie facciamo esplicito riferimento all'intercetta della precedente equazione. Usando la sintassi `lavaan`, la media di una variabile manifesta viene inserita nel modello specificando l'intercetta dell'equazione precedente come segue"
   ]
  },
  {
   "cell_type": "code",
   "execution_count": 2,
   "id": "ed01294c",
   "metadata": {
    "eval": false,
    "vscode": {
     "languageId": "r"
    }
   },
   "outputs": [
    {
     "data": {
      "text/plain": [
       "my_item ~ 1"
      ]
     },
     "metadata": {},
     "output_type": "display_data"
    }
   ],
   "source": [
    "my_item ~ 1"
   ]
  },
  {
   "attachments": {},
   "cell_type": "markdown",
   "id": "a5665921",
   "metadata": {},
   "source": [
    "La parte sinistra dell'espressione precedente contiene il nome della variabile manifesta a cui si fa riferimento; la parte destra dell'espressione precedente specifica la presenza dell'intercetta. \n",
    "\n",
    "Per esempio, nella specificazione di un modello a due fattori comuni, è possibile aggiungere al modello le medie delle variabili manifeste nel modo seguente:"
   ]
  },
  {
   "cell_type": "code",
   "execution_count": 3,
   "id": "1f8ec6d2",
   "metadata": {
    "eval": false,
    "vscode": {
     "languageId": "r"
    }
   },
   "outputs": [],
   "source": [
    "mod1 <- \"\n",
    "  # two-factor model\n",
    "  f1 =~ x1 + x2 + x3\n",
    "  f2 =~ x4 + x5 + x6\n",
    "  # intercepts\n",
    "  x1 ~ 1\n",
    "  x2 ~ 1\n",
    "  x3 ~ 1\n",
    "  x4 ~ 1\n",
    "  x5 ~ 1\n",
    "  x6 ~ 1\n",
    "\""
   ]
  },
  {
   "attachments": {},
   "cell_type": "markdown",
   "id": "6cdabbcd",
   "metadata": {},
   "source": [
    "Tuttavia, è più conveniente omettere le intercette nella specificazione del modello e aggiungere l'argomento `meanstructure = TRUE` nella funzione `cfa()`."
   ]
  },
  {
   "cell_type": "code",
   "execution_count": 4,
   "id": "39df785a",
   "metadata": {
    "eval": false,
    "vscode": {
     "languageId": "r"
    }
   },
   "outputs": [],
   "source": [
    "mod2 <- \"\n",
    "  f1 =~ x1 + x2 + x3\n",
    "  f2 =~ x4 + x5 + x6\n",
    "\""
   ]
  },
  {
   "attachments": {},
   "cell_type": "markdown",
   "id": "87796df7",
   "metadata": {},
   "source": [
    "```\n",
    "fit <- cfa(\n",
    "  mod2,\n",
    "  data = d,\n",
    "  meanstructure = TRUE\n",
    ")\n",
    "```"
   ]
  },
  {
   "attachments": {},
   "cell_type": "markdown",
   "id": "07ad6684",
   "metadata": {},
   "source": [
    "Si noti che modelli con o senza `meanstructure` avranno la stessa statistica chi-quadrato e lo stesso numero di gradi di libertà. Il motivo è che, nel caso di un modello con `meanstructure`, vengono introdotti $p$ nuovi dati (ovvero, il valore della media per ciascuno dei $p$ indicatori) ma vengono anche stimati ulteriori $p$ parametri (ovvero, un'intercetta per ciascuno dei $p$ indicatori). Il risultato finale è che la bontà dell'adattamento resta immutata. In pratica, l'unico motivo per aggiungere le intercette nella sintassi del modello è quello di introdurre dei vincoli nella stima di tali parametri. \n",
    "\n",
    "### Tipologie di Invarianza \n",
    "\n",
    "È possibile definire diversi livelli di invarianza tra gruppi nel contesto di un'analisi fattoriale confermativa (CFA) multigruppo:\n",
    "\n",
    "1. **Invarianza Configurale (fit_ef)**: Questo è il livello più basilare di invarianza. Si verifica quando la stessa struttura fattoriale si adatta a ogni gruppo. Questo significa che gli stessi fattori sono presenti in ogni gruppo e che gli stessi item misurano questi fattori in tutti i gruppi. Non si assumono ancora uguaglianze nelle saturazioni fattoriali o in altri parametri del modello.\n",
    "\n",
    "2. **Invarianza Metrica (fit_efl)**: Oltre all'invarianza configurale, si testa l'uguaglianza delle saturazioni fattoriali (\"loadings\") attraverso i gruppi. Questo passo verifica se gli item hanno lo stesso rapporto con il fattore latente in tutti i gruppi. L'invarianza metrica è fondamentale per affermare che la scala del fattore latente è la stessa tra i gruppi.\n",
    "\n",
    "3. **Invarianza delle Intercette degli Indicatori (fit_eii)**: A questo livello, si testa se le intercette degli item sono uguali tra i gruppi, oltre all'uguaglianza delle saturazioni fattoriali. Questo passo è cruciale per sostenere che i gruppi interpretano il significato dei punteggi degli item allo stesso modo.\n",
    "\n",
    "4. **Invarianza delle Varianze degli Errori degli Indicatori (fit_eir)**: Qui si aggiunge il test sull'uguaglianza delle varianze degli errori degli indicatori tra i gruppi. Questo implica che l'affidabilità di ciascun item (in termini di errore di misurazione) è la stessa in tutti i gruppi.\n",
    "\n",
    "5. **Invarianza delle Varianze dei Fattori Latenti (fit_fv)**: In questo modello, si testa l'uguaglianza delle varianze dei fattori latenti tra i gruppi, oltre ai livelli precedenti di invarianza. Questo indica che la variabilità dei fattori latenti è simile tra i gruppi.\n",
    "\n",
    "6. **Invarianza delle Medie dei Fattori Latenti (fit_fm)**: Questo è il livello più stringente di invarianza, dove si testa anche l'uguaglianza delle medie dei fattori latenti tra i gruppi. Questo significa che non solo la struttura e il funzionamento del modello sono simili tra i gruppi, ma anche che i gruppi hanno medie latenti equivalenti.\n",
    "\n",
    "Ogni livello successivo di invarianza include i vincoli del livello precedente. Il passaggio da un livello all'altro richiede un confronto degli indici di adattamento per determinare se l'aggiunta di nuovi vincoli peggiora significativamente l'adattamento del modello. Questa sequenza di modelli aiuta a comprendere in modo rigoroso se e come un costrutto misurato dal modello CFA si manifesti in modo simile o diverso tra i gruppi.\n",
    "\n",
    "\n",
    "### Un esempio concreto\n",
    "\n",
    "Consideriamo qui un esempio discusso da {cite:t}`brown2015confirmatory`. Il modello CFA riguarda un modello di misurazione per la depressione maggiore così come è definita nel DSM-IV. Il campione include 9 indicatori:\n",
    "\n",
    "- MDD1, depressed mood; \n",
    "- MDD2, loss of interest in usual activities; \n",
    "- MDD3, weight/appetite change; \n",
    "- MDD4, sleep disturbance; \n",
    "- MDD5, psychomotor agitation/retardation; \n",
    "- MDD6, fatigue/loss of energy; \n",
    "- MDD7, feelings of worthlessness/guilt; \n",
    "- MDD8, concentration difficulties; \n",
    "- MDD9, thoughts of death/suicidality.\n",
    "\n",
    "Leggiamo i dati in $\\mathsf{R}$:"
   ]
  },
  {
   "cell_type": "code",
   "execution_count": 5,
   "id": "84fffdec",
   "metadata": {
    "vscode": {
     "languageId": "r"
    }
   },
   "outputs": [],
   "source": [
    "d <- readRDS(\n",
    "  here::here(\"data\", \"mdd_sex.RDS\")\n",
    ")"
   ]
  },
  {
   "cell_type": "code",
   "execution_count": 6,
   "id": "42ba206a",
   "metadata": {
    "vscode": {
     "languageId": "r"
    }
   },
   "outputs": [
    {
     "data": {
      "text/html": [
       "<table class=\"dataframe\">\n",
       "<caption>A data.frame: 6 × 10</caption>\n",
       "<thead>\n",
       "\t<tr><th></th><th scope=col>sex</th><th scope=col>mdd1</th><th scope=col>mdd2</th><th scope=col>mdd3</th><th scope=col>mdd4</th><th scope=col>mdd5</th><th scope=col>mdd6</th><th scope=col>mdd7</th><th scope=col>mdd8</th><th scope=col>mdd9</th></tr>\n",
       "\t<tr><th></th><th scope=col>&lt;fct&gt;</th><th scope=col>&lt;int&gt;</th><th scope=col>&lt;int&gt;</th><th scope=col>&lt;int&gt;</th><th scope=col>&lt;int&gt;</th><th scope=col>&lt;int&gt;</th><th scope=col>&lt;int&gt;</th><th scope=col>&lt;int&gt;</th><th scope=col>&lt;int&gt;</th><th scope=col>&lt;int&gt;</th></tr>\n",
       "</thead>\n",
       "<tbody>\n",
       "\t<tr><th scope=row>1</th><td>female</td><td>5</td><td>4</td><td>1</td><td>6</td><td>5</td><td>6</td><td>5</td><td>4</td><td>2</td></tr>\n",
       "\t<tr><th scope=row>2</th><td>female</td><td>5</td><td>5</td><td>5</td><td>5</td><td>4</td><td>5</td><td>4</td><td>5</td><td>4</td></tr>\n",
       "\t<tr><th scope=row>3</th><td>female</td><td>4</td><td>5</td><td>4</td><td>2</td><td>6</td><td>6</td><td>0</td><td>0</td><td>0</td></tr>\n",
       "\t<tr><th scope=row>4</th><td>female</td><td>5</td><td>5</td><td>3</td><td>3</td><td>5</td><td>5</td><td>6</td><td>4</td><td>0</td></tr>\n",
       "\t<tr><th scope=row>5</th><td>female</td><td>5</td><td>5</td><td>0</td><td>5</td><td>0</td><td>4</td><td>6</td><td>0</td><td>0</td></tr>\n",
       "\t<tr><th scope=row>6</th><td>female</td><td>6</td><td>6</td><td>4</td><td>6</td><td>4</td><td>6</td><td>5</td><td>6</td><td>2</td></tr>\n",
       "</tbody>\n",
       "</table>\n"
      ],
      "text/latex": [
       "A data.frame: 6 × 10\n",
       "\\begin{tabular}{r|llllllllll}\n",
       "  & sex & mdd1 & mdd2 & mdd3 & mdd4 & mdd5 & mdd6 & mdd7 & mdd8 & mdd9\\\\\n",
       "  & <fct> & <int> & <int> & <int> & <int> & <int> & <int> & <int> & <int> & <int>\\\\\n",
       "\\hline\n",
       "\t1 & female & 5 & 4 & 1 & 6 & 5 & 6 & 5 & 4 & 2\\\\\n",
       "\t2 & female & 5 & 5 & 5 & 5 & 4 & 5 & 4 & 5 & 4\\\\\n",
       "\t3 & female & 4 & 5 & 4 & 2 & 6 & 6 & 0 & 0 & 0\\\\\n",
       "\t4 & female & 5 & 5 & 3 & 3 & 5 & 5 & 6 & 4 & 0\\\\\n",
       "\t5 & female & 5 & 5 & 0 & 5 & 0 & 4 & 6 & 0 & 0\\\\\n",
       "\t6 & female & 6 & 6 & 4 & 6 & 4 & 6 & 5 & 6 & 2\\\\\n",
       "\\end{tabular}\n"
      ],
      "text/markdown": [
       "\n",
       "A data.frame: 6 × 10\n",
       "\n",
       "| <!--/--> | sex &lt;fct&gt; | mdd1 &lt;int&gt; | mdd2 &lt;int&gt; | mdd3 &lt;int&gt; | mdd4 &lt;int&gt; | mdd5 &lt;int&gt; | mdd6 &lt;int&gt; | mdd7 &lt;int&gt; | mdd8 &lt;int&gt; | mdd9 &lt;int&gt; |\n",
       "|---|---|---|---|---|---|---|---|---|---|---|\n",
       "| 1 | female | 5 | 4 | 1 | 6 | 5 | 6 | 5 | 4 | 2 |\n",
       "| 2 | female | 5 | 5 | 5 | 5 | 4 | 5 | 4 | 5 | 4 |\n",
       "| 3 | female | 4 | 5 | 4 | 2 | 6 | 6 | 0 | 0 | 0 |\n",
       "| 4 | female | 5 | 5 | 3 | 3 | 5 | 5 | 6 | 4 | 0 |\n",
       "| 5 | female | 5 | 5 | 0 | 5 | 0 | 4 | 6 | 0 | 0 |\n",
       "| 6 | female | 6 | 6 | 4 | 6 | 4 | 6 | 5 | 6 | 2 |\n",
       "\n"
      ],
      "text/plain": [
       "  sex    mdd1 mdd2 mdd3 mdd4 mdd5 mdd6 mdd7 mdd8 mdd9\n",
       "1 female 5    4    1    6    5    6    5    4    2   \n",
       "2 female 5    5    5    5    4    5    4    5    4   \n",
       "3 female 4    5    4    2    6    6    0    0    0   \n",
       "4 female 5    5    3    3    5    5    6    4    0   \n",
       "5 female 5    5    0    5    0    4    6    0    0   \n",
       "6 female 6    6    4    6    4    6    5    6    2   "
      ]
     },
     "metadata": {},
     "output_type": "display_data"
    }
   ],
   "source": [
    "head(d)"
   ]
  },
  {
   "cell_type": "markdown",
   "id": "41a23449",
   "metadata": {},
   "source": [
    "Nel caso presente, i gruppi corrispondono al genere. Confrontiamo le distribuzioni di densità empirica degli item tra i due gruppi."
   ]
  },
  {
   "cell_type": "code",
   "execution_count": 7,
   "id": "89462194",
   "metadata": {
    "vscode": {
     "languageId": "r"
    }
   },
   "outputs": [
    {
     "data": {
      "image/png": "[encoded data removed]",
      "text/plain": [
       "plot without title"
      ]
     },
     "metadata": {
      "image/png": {
       "height": 420,
       "width": 420
      }
     },
     "output_type": "display_data"
    }
   ],
   "source": [
    "d_long <- d |>\n",
    "    pivot_longer(!sex, names_to = \"item\", values_to = \"value\")\n",
    "\n",
    "d_long |>\n",
    "    ggplot(aes(value, col=sex)) +\n",
    "    geom_density(linewidth=1.5) +\n",
    "    facet_wrap(~item, nrow=3, scales=\"free\") +\n",
    "    labs(x=\" \", y=\"Density\")"
   ]
  },
  {
   "attachments": {},
   "cell_type": "markdown",
   "id": "cbcef891",
   "metadata": {},
   "source": [
    "Ci poniamo dunque il problema di stabilire l'invarianza fattoriale in funzione del genere. Consideriamo il seguente modello:"
   ]
  },
  {
   "cell_type": "code",
   "execution_count": 8,
   "id": "14749259",
   "metadata": {
    "vscode": {
     "languageId": "r"
    }
   },
   "outputs": [],
   "source": [
    "model_mdd <- \"\n",
    "  MDD =~ mdd1 + mdd2 + mdd3 + mdd4 + mdd5 + mdd6 + mdd7 + mdd8 +\n",
    "         mdd9\n",
    "  mdd1 ~~ mdd2\n",
    "\""
   ]
  },
  {
   "attachments": {},
   "cell_type": "markdown",
   "id": "d954a86c",
   "metadata": {},
   "source": [
    "Si noti la presenza di una correlazione residua tra gli indicatori `mdd1` e `mdd2`.\n",
    "\n",
    "In precedenza, abbiamo discusso le strutture di media e covarianza dei modelli CFA nel contesto di un'analisi a singolo gruppo. La stima dei parametri del modello, data un campione, può essere effettuata selezionando o individuando il miglior insieme di stime che minimizza una funzione di discrepanza.\n",
    "\n",
    "L'estensione di questo metodo di stima per un singolo campione all'analisi CFA multi-gruppo è diretta. Prima di tutto, si definisce una funzione di discrepanza individuale per ogni gruppo o campione. Per stimare tutti i parametri in gruppi indipendenti simultaneamente, si definisce una funzione di discrepanza complessiva come somma ponderata delle funzioni di discrepanza specifiche per gruppo.\n",
    "\n",
    "Procediamo quindi con la definizione di modelli che facilitano il confronto tra diversi tipi di invarianza fattoriale. È importante prestare attenzione ai vincoli che vengono progressivamente introdotti man mano che si specificano modelli sempre più restrittivi. Nella sintassi del software `lavaan`, utilizzato per l'analisi SEM, questi vincoli vengono impostati tramite l'argomento `group.equal`."
   ]
  },
  {
   "cell_type": "code",
   "execution_count": 9,
   "id": "722971fc",
   "metadata": {
    "vscode": {
     "languageId": "r"
    }
   },
   "outputs": [],
   "source": [
    "# configural invariance\n",
    "fit_ef <- cfa(\n",
    "  model_mdd,\n",
    "  data = d,\n",
    "  group = \"sex\",\n",
    "  meanstructure = TRUE\n",
    ")\n",
    "\n",
    "# plus equal factor loadings- metric invariance\n",
    "fit_efl <- update(\n",
    "  fit_ef,\n",
    "  group.equal = c(\"loadings\")\n",
    ")\n",
    "\n",
    "# plus equal indicator intercepts\n",
    "fit_eii <- update(\n",
    "  fit_efl,\n",
    "  group.equal = c(\"loadings\", \"intercepts\")\n",
    ")\n",
    "\n",
    "# plus equal indicator error variances\n",
    "fit_eir <- update(\n",
    "  fit_eii,\n",
    "  group.equal = c(\"loadings\", \"intercepts\", \"residuals\")\n",
    ")\n",
    "\n",
    "# plus equal factor variances\n",
    "fit_fv <- update(\n",
    "  fit_eir,\n",
    "  group.equal = c(\n",
    "    \"loadings\", \"intercepts\", \"residuals\",\n",
    "    \"lv.variances\"\n",
    "  )\n",
    ")\n",
    "\n",
    "# plus equal latent means\n",
    "fit_fm <- update(\n",
    "  fit_fv,\n",
    "  group.equal = c(\n",
    "    \"loadings\", \"intercepts\", \"residuals\",\n",
    "    \"lv.variances\", \"means\"\n",
    "  )\n",
    ")"
   ]
  },
  {
   "attachments": {},
   "cell_type": "markdown",
   "id": "99b3e38a",
   "metadata": {},
   "source": [
    "Confrontiamo i modelli mediate il test del rapporto di verosimiglianze:"
   ]
  },
  {
   "cell_type": "code",
   "execution_count": 10,
   "id": "c7ed4060",
   "metadata": {
    "vscode": {
     "languageId": "r"
    }
   },
   "outputs": [
    {
     "name": "stdout",
     "output_type": "stream",
     "text": [
      "\n",
      "Chi-Squared Difference Test\n",
      "\n",
      "        Df   AIC   BIC   Chisq Chisq diff    RMSEA Df diff Pr(>Chisq)\n",
      "fit_ef  52 27526 27784  98.911                                       \n",
      "fit_efl 60 27514 27736 102.839     3.9286 0.000000       8     0.8635\n",
      "fit_eii 68 27510 27695 115.309    12.4699 0.038600       8     0.1314\n",
      "fit_eir 77 27502 27645 125.021     9.7115 0.014520       9     0.3743\n",
      "fit_fv  78 27501 27639 125.814     0.7931 0.000000       1     0.3732\n",
      "fit_fm  79 27501 27635 127.734     1.9201 0.049533       1     0.1659\n"
     ]
    }
   ],
   "source": [
    "out <- lavTestLRT(fit_ef, fit_efl, fit_eii, fit_eir, fit_fv, fit_fm)\n",
    "print(out)"
   ]
  },
  {
   "attachments": {},
   "cell_type": "markdown",
   "id": "5ebf9725",
   "metadata": {},
   "source": [
    "Il confronto tra i precedenti modelli nidificati che introducono vincoli sempre più stringenti sui parametri indica che non vi è una \"significativa\" perdita di bontà dell'adattamento passando dal modello congenerico al modello che assume l'uguaglianza delle saturazioni fattoriali, delle intercette, delle varianze residue, delle varianze delle variabili latenti e delle medie dei due gruppi. Per i dati discussi da {cite:t}`brown2015confirmatory`, dunque, possiamo concludere che vi sono forti evidenze di invarianza fattoriale tra maschi e femmine in relazione al costrutto di depressione maggiore. L'invarianza fattoriali giustifica, per questi dati, un confronto tra le medie dei punteggi totali del test calcolate nei due gruppi.\n",
    "\n",
    "\n",
    "## Indicatori a livello di scala ordinale\n",
    "\n",
    "Nell'analisi multi-gruppo per dati ordinali devono essere affrontati problemi specifici per questo tipo di dati. I dati ordinali si distinguono dalle variabili continue in due modi principali: per il metodo utilizzato nella stima delle saturazioni fattoriali e per l'approccio nell'analisi statistica.\n",
    "\n",
    "Le variabili ordinali sono formate da categorie con un ordine logico. Ad esempio, risposte come \"fortemente in disaccordo\" fino a \"fortemente d'accordo\", o \"mai\", \"a volte\", \"spesso\", \"sempre\" sono sequenze logiche. Sebbene queste categorie siano ordinate, la distanza tra di loro non è necessariamente uniforme o misurabile in termini quantitativi. Pertanto, assegnare valori numerici a queste risposte è un processo arbitrario e non riflette differenze di intensità o grandezza.\n",
    "\n",
    "Uno dei problemi principali nell'analizzare dati ordinali è come calcolare le correlazioni. Le correlazioni policoriche offrono una soluzione, presupponendo l'esistenza di una variabile latente continua e normalmente distribuita che influisce sulla distribuzione delle risposte. In questo modello, ogni categoria di risposta ordinale corrisponde a un intervallo specifico sulla variabile latente sottostante. I punti di taglio o soglie ($\\tau_1, \\tau_2, \\dots, \\tau_k$) dividono la distribuzione normale in sezioni che rappresentano le frequenze osservate per ogni categoria.\n",
    "\n",
    "Nell'ambito dell'invarianza fattoriale per dati ordinali, si pone inizialmente la questione dell'invarianza delle soglie (treshold invariance). Questo concetto presuppone che le soglie che definiscono le correlazioni policoriche rimangano costanti tra i gruppi. La stabilità di queste soglie è fondamentale per assicurare che le relazioni tra le categorie di risposta siano comparabili tra diversi gruppi.\n",
    "\n",
    "Un secondo aspetto cruciale è la scelta dello stimatore per la stima delle saturazioni fattoriali. Per i dati ordinali, lo stimatore raccomandato è quello dei minimi quadrati ponderati (Weighted Least Squares, WLS). Questo metodo è preferito perché tiene conto della natura specifica dei dati ordinali, fornendo stime più accurate e affidabili delle saturazioni fattoriali rispetto a metodi pensati per dati continui.\n",
    "\n",
    "In sintesi, l'analisi di invarianza fattoriale con dati ordinali richiede considerazioni e tecniche specifiche, che includono l'utilizzo di correlazioni policoriche e l'impiego di stimatori adeguati, per garantire risultati validi e interpretabili.\n",
    "\n",
    "### Un esempio concreto\n",
    "\n",
    "{cite:t}`wu2016identification` sostengono che la metodologia convenzionale per valutare l'invarianza fattoriale nei dati continui richiede adattamenti significativi quando applicata a indicatori categoriali. Il processo standard inizia con la definizione di un modello di base, seguito dall'applicazione di restrizioni incrementali ai parametri. Tuttavia, secondo {cite:t}`wu2016identification`, questo approccio risulta subottimale per i dati categoriali, a causa della sua dipendenza critica dalla definizione delle soglie utilizzate per stabilire le correlazioni policoriche con le variabili latenti continue nel modello configurale.\n",
    "\n",
    "{cite:t}`wu2016identification` enfatizzano che, in contesti con dati categoriali, è primario valutare prima l'equivalenza delle soglie tra i gruppi, definendo ciò che viene chiamato un \"modello di soglia\" (threshold model). Solo dopo questa valutazione preliminare è consigliabile procedere con l'analisi dell'equivalenza delle saturazioni fattoriali tra i gruppi. Questo cambiamento nell'ordine di valutazione è cruciale per garantire che le soglie, che sono fondamentali per la definizione delle correlazioni policoriche nei dati categoriali, siano coerenti e comparabili tra i gruppi prima di procedere con ulteriori analisi sull'invarianza fattoriale. In sostanza, ciò che {cite:t}`wu2016identification` propongono è una riconsiderazione della sequenza di passaggi nell'analisi dell'invarianza per dati categoriali, ponendo una maggiore enfasi sull'allineamento delle soglie prima di esplorare altre forme di equivalenza nei modelli multigruppo.\n",
    "\n",
    "Per illustrare tale procedura, replichiamo qui il tutorial messo a punto da {cite:t}`svetina2020multiple`. Questi autori utilizzano quattro item di una scala del bullismo ed esaminano i dati raccolti in tre paesi (31 = Azerbaigian; 40 = Austria; 246 = Finlandia). Tutti gli item sono misurati su una scala di tipo Likert a 4 punti, che va da 0 (mai) a 3 (almeno una volta alla settimana). Gli item chiedono al partecipante di valutare delle affermazioni relative ad episodi di bullismo. Per esempio, \"mi prendevano in giro o mi insultavano\". Per l'Azerbaigian, l'Austria e la Finlandia, le dimensioni del campione sono rispettivamente pari a 3,808, 4,457 e 4,520. \n",
    "\n",
    "Leggiamo in dati in $\\textsf{R}$:"
   ]
  },
  {
   "cell_type": "code",
   "execution_count": 11,
   "id": "97a16afa",
   "metadata": {
    "vscode": {
     "languageId": "r"
    }
   },
   "outputs": [
    {
     "data": {
      "text/html": [
       "<table class=\"dataframe\">\n",
       "<caption>A data.frame: 6 × 5</caption>\n",
       "<thead>\n",
       "\t<tr><th></th><th scope=col>IDCNTRY</th><th scope=col>R09A</th><th scope=col>R09B</th><th scope=col>R09C</th><th scope=col>R09D</th></tr>\n",
       "\t<tr><th></th><th scope=col>&lt;int&gt;</th><th scope=col>&lt;int&gt;</th><th scope=col>&lt;int&gt;</th><th scope=col>&lt;int&gt;</th><th scope=col>&lt;int&gt;</th></tr>\n",
       "</thead>\n",
       "<tbody>\n",
       "\t<tr><th scope=row>1</th><td>31</td><td>3</td><td>3</td><td>0</td><td>0</td></tr>\n",
       "\t<tr><th scope=row>2</th><td>31</td><td>0</td><td>0</td><td>0</td><td>0</td></tr>\n",
       "\t<tr><th scope=row>3</th><td>31</td><td>3</td><td>2</td><td>1</td><td>3</td></tr>\n",
       "\t<tr><th scope=row>4</th><td>31</td><td>0</td><td>0</td><td>3</td><td>0</td></tr>\n",
       "\t<tr><th scope=row>5</th><td>31</td><td>0</td><td>0</td><td>0</td><td>0</td></tr>\n",
       "\t<tr><th scope=row>6</th><td>31</td><td>0</td><td>0</td><td>0</td><td>0</td></tr>\n",
       "</tbody>\n",
       "</table>\n"
      ],
      "text/latex": [
       "A data.frame: 6 × 5\n",
       "\\begin{tabular}{r|lllll}\n",
       "  & IDCNTRY & R09A & R09B & R09C & R09D\\\\\n",
       "  & <int> & <int> & <int> & <int> & <int>\\\\\n",
       "\\hline\n",
       "\t1 & 31 & 3 & 3 & 0 & 0\\\\\n",
       "\t2 & 31 & 0 & 0 & 0 & 0\\\\\n",
       "\t3 & 31 & 3 & 2 & 1 & 3\\\\\n",
       "\t4 & 31 & 0 & 0 & 3 & 0\\\\\n",
       "\t5 & 31 & 0 & 0 & 0 & 0\\\\\n",
       "\t6 & 31 & 0 & 0 & 0 & 0\\\\\n",
       "\\end{tabular}\n"
      ],
      "text/markdown": [
       "\n",
       "A data.frame: 6 × 5\n",
       "\n",
       "| <!--/--> | IDCNTRY &lt;int&gt; | R09A &lt;int&gt; | R09B &lt;int&gt; | R09C &lt;int&gt; | R09D &lt;int&gt; |\n",
       "|---|---|---|---|---|---|\n",
       "| 1 | 31 | 3 | 3 | 0 | 0 |\n",
       "| 2 | 31 | 0 | 0 | 0 | 0 |\n",
       "| 3 | 31 | 3 | 2 | 1 | 3 |\n",
       "| 4 | 31 | 0 | 0 | 3 | 0 |\n",
       "| 5 | 31 | 0 | 0 | 0 | 0 |\n",
       "| 6 | 31 | 0 | 0 | 0 | 0 |\n",
       "\n"
      ],
      "text/plain": [
       "  IDCNTRY R09A R09B R09C R09D\n",
       "1 31      3    3    0    0   \n",
       "2 31      0    0    0    0   \n",
       "3 31      3    2    1    3   \n",
       "4 31      0    0    3    0   \n",
       "5 31      0    0    0    0   \n",
       "6 31      0    0    0    0   "
      ]
     },
     "metadata": {},
     "output_type": "display_data"
    }
   ],
   "source": [
    "dat <- read.table(\"../data/BULLY.dat\", header = FALSE)\n",
    "names(dat) <- c(\"IDCNTRY\", \"R09A\", \"R09B\", \"R09C\", \"R09D\")\n",
    "head(dat)"
   ]
  },
  {
   "attachments": {},
   "cell_type": "markdown",
   "id": "6a267386",
   "metadata": {},
   "source": [
    "Viene creata la matrice `all.results` per immagazzinare i risultati dei diversi modelli che verranno confrontati, chiamati _baseline_ (nessun vincolo tra i gruppi), _proposition 4_ (equivalenza delle soglie tra i gruppi), e _proposition 7_ (equivalenza delle soglie e delle saturazioni fattoriali tra i gruppi). Gli indici di bontà dell'adattamento che verranno considerati sono: chi-square, df, p, RMSEA, CFI, e TLI. "
   ]
  },
  {
   "cell_type": "code",
   "execution_count": 12,
   "id": "ba49f1ab",
   "metadata": {
    "vscode": {
     "languageId": "r"
    }
   },
   "outputs": [],
   "source": [
    "all.results <- matrix(NA, ncol = 6, nrow = 3)"
   ]
  },
  {
   "attachments": {},
   "cell_type": "markdown",
   "id": "a50906e2",
   "metadata": {},
   "source": [
    "### Baseline model\n",
    "\n",
    "Nel _baseline model_ non viene posto alcun vincolo tra i gruppi. È quello dell'invarianza configurale."
   ]
  },
  {
   "cell_type": "code",
   "execution_count": 13,
   "id": "ff7339b8",
   "metadata": {
    "vscode": {
     "languageId": "r"
    }
   },
   "outputs": [],
   "source": [
    "mod.cat <- \"F1 =~ R09A + R09B + R09C + R09D\""
   ]
  },
  {
   "cell_type": "code",
   "execution_count": 14,
   "id": "dd42dbfd",
   "metadata": {
    "vscode": {
     "languageId": "r"
    }
   },
   "outputs": [],
   "source": [
    "baseline <- measEq.syntax(\n",
    "  configural.model = mod.cat,\n",
    "  data = dat,\n",
    "  ordered = c(\"R09A\", \"R09B\", \"R09C\", \"R09D\"),\n",
    "  parameterization = \"delta\",\n",
    "  ID.fac = \"std.lv\",\n",
    "  ID.cat = \"Wu.Estabrook.2016\",\n",
    "  group = \"IDCNTRY\",\n",
    "  group.equal = \"configural\"\n",
    ")"
   ]
  },
  {
   "attachments": {},
   "cell_type": "markdown",
   "id": "5a9fccac",
   "metadata": {},
   "source": [
    "Informazioni sul modello baseline si ottengono nel modo seguente:"
   ]
  },
  {
   "cell_type": "code",
   "execution_count": 15,
   "id": "86a721b8",
   "metadata": {
    "eval": false,
    "vscode": {
     "languageId": "r"
    }
   },
   "outputs": [
    {
     "name": "stdout",
     "output_type": "stream",
     "text": [
      "This lavaan model syntax specifies a CFA with 4 manifest indicators (4 of which are ordinal) of 1 common factor(s).\n",
      "\n",
      "To identify the location and scale of each common factor, the factor means and variances were fixed to 0 and 1, respectively, unless equality constraints on measurement parameters allow them to be freed.\n",
      "\n",
      "The location and scale of each latent item-response underlying 4 ordinal indicators were identified using the \"delta\" parameterization, and the identification constraints recommended by Wu & Estabrook (2016). For details, read:\n",
      "\n",
      "\thttps://doi.org/10.1007/s11336-016-9506-0 \n",
      "\n",
      "Pattern matrix indicating num(eric), ord(ered), and lat(ent) indicators per factor:\n",
      "\n",
      "     F1 \n",
      "R09A ord\n",
      "R09B ord\n",
      "R09C ord\n",
      "R09D ord\n",
      "\n",
      "The following types of parameter were constrained to equality across groups:\n",
      "\n",
      "\tconfigural\n",
      "\n"
     ]
    },
    {
     "name": "stdout",
     "output_type": "stream",
     "text": [
      "     F1   \n",
      "R09A \"ord\"\n",
      "R09B \"ord\"\n",
      "R09C \"ord\"\n",
      "R09D \"ord\"\n"
     ]
    }
   ],
   "source": [
    "out <- summary(baseline)\n",
    "print(out)"
   ]
  },
  {
   "attachments": {},
   "cell_type": "markdown",
   "id": "0e16042a",
   "metadata": {},
   "source": [
    "Le proprietà del modello possono essere esplicitate con la seguente istruzione:"
   ]
  },
  {
   "cell_type": "code",
   "execution_count": 16,
   "id": "b5c46493",
   "metadata": {
    "eval": false,
    "vscode": {
     "languageId": "r"
    }
   },
   "outputs": [
    {
     "name": "stdout",
     "output_type": "stream",
     "text": [
      "## LOADINGS:\n",
      "\n",
      "F1 =~ c(NA, NA, NA)*R09A + c(lambda.1_1.g1, lambda.1_1.g2, lambda.1_1.g3)*R09A\n",
      "F1 =~ c(NA, NA, NA)*R09B + c(lambda.2_1.g1, lambda.2_1.g2, lambda.2_1.g3)*R09B\n",
      "F1 =~ c(NA, NA, NA)*R09C + c(lambda.3_1.g1, lambda.3_1.g2, lambda.3_1.g3)*R09C\n",
      "F1 =~ c(NA, NA, NA)*R09D + c(lambda.4_1.g1, lambda.4_1.g2, lambda.4_1.g3)*R09D\n",
      "\n",
      "## THRESHOLDS:\n",
      "\n",
      "R09A | c(NA, NA, NA)*t1 + c(R09A.thr1.g1, R09A.thr1.g2, R09A.thr1.g3)*t1\n",
      "R09A | c(NA, NA, NA)*t2 + c(R09A.thr2.g1, R09A.thr2.g2, R09A.thr2.g3)*t2\n",
      "R09A | c(NA, NA, NA)*t3 + c(R09A.thr3.g1, R09A.thr3.g2, R09A.thr3.g3)*t3\n",
      "R09B | c(NA, NA, NA)*t1 + c(R09B.thr1.g1, R09B.thr1.g2, R09B.thr1.g3)*t1\n",
      "R09B | c(NA, NA, NA)*t2 + c(R09B.thr2.g1, R09B.thr2.g2, R09B.thr2.g3)*t2\n",
      "R09B | c(NA, NA, NA)*t3 + c(R09B.thr3.g1, R09B.thr3.g2, R09B.thr3.g3)*t3\n",
      "R09C | c(NA, NA, NA)*t1 + c(R09C.thr1.g1, R09C.thr1.g2, R09C.thr1.g3)*t1\n",
      "R09C | c(NA, NA, NA)*t2 + c(R09C.thr2.g1, R09C.thr2.g2, R09C.thr2.g3)*t2\n",
      "R09C | c(NA, NA, NA)*t3 + c(R09C.thr3.g1, R09C.thr3.g2, R09C.thr3.g3)*t3\n",
      "R09D | c(NA, NA, NA)*t1 + c(R09D.thr1.g1, R09D.thr1.g2, R09D.thr1.g3)*t1\n",
      "R09D | c(NA, NA, NA)*t2 + c(R09D.thr2.g1, R09D.thr2.g2, R09D.thr2.g3)*t2\n",
      "R09D | c(NA, NA, NA)*t3 + c(R09D.thr3.g1, R09D.thr3.g2, R09D.thr3.g3)*t3\n",
      "\n",
      "## INTERCEPTS:\n",
      "\n",
      "R09A ~ c(0, 0, 0)*1 + c(nu.1.g1, nu.1.g2, nu.1.g3)*1\n",
      "R09B ~ c(0, 0, 0)*1 + c(nu.2.g1, nu.2.g2, nu.2.g3)*1\n",
      "R09C ~ c(0, 0, 0)*1 + c(nu.3.g1, nu.3.g2, nu.3.g3)*1\n",
      "R09D ~ c(0, 0, 0)*1 + c(nu.4.g1, nu.4.g2, nu.4.g3)*1\n",
      "\n",
      "## SCALING FACTORS:\n",
      "\n",
      "R09A ~*~ c(1, 1, 1)*R09A\n",
      "R09B ~*~ c(1, 1, 1)*R09B\n",
      "R09C ~*~ c(1, 1, 1)*R09C\n",
      "R09D ~*~ c(1, 1, 1)*R09D\n",
      "\n",
      "\n",
      "## LATENT MEANS/INTERCEPTS:\n",
      "\n",
      "F1 ~ c(0, 0, 0)*1 + c(alpha.1.g1, alpha.1.g2, alpha.1.g3)*1\n",
      "\n",
      "## COMMON-FACTOR VARIANCES:\n",
      "\n",
      "F1 ~~ c(1, 1, 1)*F1 + c(psi.1_1.g1, psi.1_1.g2, psi.1_1.g3)*F1\n"
     ]
    }
   ],
   "source": [
    "cat(as.character(baseline))"
   ]
  },
  {
   "attachments": {},
   "cell_type": "markdown",
   "id": "830f8dd2",
   "metadata": {},
   "source": [
    "Per potere essere passato a `lavaan`, l'oggetto `baseline` deve essere in formato `char`:"
   ]
  },
  {
   "cell_type": "code",
   "execution_count": 17,
   "id": "b035ee71",
   "metadata": {
    "vscode": {
     "languageId": "r"
    }
   },
   "outputs": [],
   "source": [
    "model.baseline <- as.character(baseline)"
   ]
  },
  {
   "attachments": {},
   "cell_type": "markdown",
   "id": "0fbcc338",
   "metadata": {},
   "source": [
    "Adattiamo il modello ai dati:"
   ]
  },
  {
   "cell_type": "code",
   "execution_count": 18,
   "id": "ed070e97",
   "metadata": {
    "vscode": {
     "languageId": "r"
    }
   },
   "outputs": [],
   "source": [
    "fit.baseline <- cfa(\n",
    "  model.baseline, \n",
    "  data = dat, \n",
    "  group = \"IDCNTRY\", \n",
    "  ordered = c(\"R09A\", \"R09B\", \"R09C\", \"R09D\")\n",
    ")"
   ]
  },
  {
   "attachments": {},
   "cell_type": "markdown",
   "id": "c9f6d112",
   "metadata": {},
   "source": [
    "Salviamo i risultati:"
   ]
  },
  {
   "cell_type": "code",
   "execution_count": 19,
   "id": "55305b93",
   "metadata": {
    "lines_to_next_cell": 2,
    "vscode": {
     "languageId": "r"
    }
   },
   "outputs": [],
   "source": [
    "all.results[1, ] <-\n",
    "  round(\n",
    "    data.matrix(\n",
    "      fitmeasures(fit.baseline, fit.measures = c(\n",
    "        \"chisq.scaled\", \"df.scaled\", \"pvalue.scaled\",\n",
    "        \"rmsea.scaled\", \"cfi.scaled\", \"tli.scaled\"\n",
    "      ))\n",
    "    ),\n",
    "    digits = 3\n",
    "  )"
   ]
  },
  {
   "attachments": {},
   "cell_type": "markdown",
   "id": "78a28916",
   "metadata": {},
   "source": [
    "### Invarianza delle soglie\n",
    "\n",
    "Consideriamo ora il modello _threshold invariance_ [chiamato _Proposition 4_ da @wu2016identification]. "
   ]
  },
  {
   "cell_type": "code",
   "execution_count": 20,
   "id": "afd61edb",
   "metadata": {
    "vscode": {
     "languageId": "r"
    }
   },
   "outputs": [],
   "source": [
    "prop4 <- measEq.syntax(\n",
    "  configural.model = mod.cat,\n",
    "  data = dat,\n",
    "  ordered = c(\"R09A\", \"R09B\", \"R09C\", \"R09D\"),\n",
    "  parameterization = \"delta\",\n",
    "  ID.fac = \"std.lv\",\n",
    "  ID.cat = \"Wu.Estabrook.2016\",\n",
    "  group = \"IDCNTRY\",\n",
    "  group.equal = c(\"thresholds\")\n",
    ")"
   ]
  },
  {
   "attachments": {},
   "cell_type": "markdown",
   "id": "6924495b",
   "metadata": {},
   "source": [
    "Adattiamo il modello ai dati:"
   ]
  },
  {
   "cell_type": "code",
   "execution_count": 21,
   "id": "bda7954b",
   "metadata": {
    "vscode": {
     "languageId": "r"
    }
   },
   "outputs": [],
   "source": [
    "model.prop4 <- as.character(prop4)\n",
    "fit.prop4 <- cfa(\n",
    "  model.prop4,\n",
    "  data = dat,\n",
    "  group = \"IDCNTRY\",\n",
    "  ordered = c(\"R09A\", \"R09B\", \"R09C\", \"R09D\")\n",
    ")"
   ]
  },
  {
   "attachments": {},
   "cell_type": "markdown",
   "id": "99daec10",
   "metadata": {},
   "source": [
    "Salviamo i risulati"
   ]
  },
  {
   "cell_type": "code",
   "execution_count": 22,
   "id": "dda02af9",
   "metadata": {
    "vscode": {
     "languageId": "r"
    }
   },
   "outputs": [],
   "source": [
    "#store model fit information for proposition 4\n",
    "all.results[2, ] <-\n",
    "  round(data.matrix(\n",
    "  fitmeasures(fit.prop4,fit.measures = c(\n",
    "    \"chisq.scaled\",\"df.scaled\",\"pvalue.scaled\", \n",
    "    \"rmsea.scaled\", \"cfi.scaled\", \"tli.scaled\"))), \n",
    "  digits=3\n",
    "  )"
   ]
  },
  {
   "attachments": {},
   "cell_type": "markdown",
   "id": "6d93ecac",
   "metadata": {},
   "source": [
    "Eseguiamo il confronto tra il modello _threshold invariance_ e il modello _baseline_:"
   ]
  },
  {
   "cell_type": "code",
   "execution_count": 23,
   "id": "3b7a7f0b",
   "metadata": {
    "vscode": {
     "languageId": "r"
    }
   },
   "outputs": [
    {
     "data": {
      "text/html": [
       "<table class=\"dataframe\">\n",
       "<caption>A anova: 2 × 7</caption>\n",
       "<thead>\n",
       "\t<tr><th></th><th scope=col>Df</th><th scope=col>AIC</th><th scope=col>BIC</th><th scope=col>Chisq</th><th scope=col>Chisq diff</th><th scope=col>Df diff</th><th scope=col>Pr(&gt;Chisq)</th></tr>\n",
       "\t<tr><th></th><th scope=col>&lt;int&gt;</th><th scope=col>&lt;lgl&gt;</th><th scope=col>&lt;lgl&gt;</th><th scope=col>&lt;dbl&gt;</th><th scope=col>&lt;dbl&gt;</th><th scope=col>&lt;int&gt;</th><th scope=col>&lt;dbl&gt;</th></tr>\n",
       "</thead>\n",
       "<tbody>\n",
       "\t<tr><th scope=row>fit.baseline</th><td> 6</td><td>NA</td><td>NA</td><td>26.94149</td><td>      NA</td><td>NA</td><td>          NA</td></tr>\n",
       "\t<tr><th scope=row>fit.prop4</th><td>14</td><td>NA</td><td>NA</td><td>42.16983</td><td>61.01121</td><td> 8</td><td>2.950764e-10</td></tr>\n",
       "</tbody>\n",
       "</table>\n"
      ],
      "text/latex": [
       "A anova: 2 × 7\n",
       "\\begin{tabular}{r|lllllll}\n",
       "  & Df & AIC & BIC & Chisq & Chisq diff & Df diff & Pr(>Chisq)\\\\\n",
       "  & <int> & <lgl> & <lgl> & <dbl> & <dbl> & <int> & <dbl>\\\\\n",
       "\\hline\n",
       "\tfit.baseline &  6 & NA & NA & 26.94149 &       NA & NA &           NA\\\\\n",
       "\tfit.prop4 & 14 & NA & NA & 42.16983 & 61.01121 &  8 & 2.950764e-10\\\\\n",
       "\\end{tabular}\n"
      ],
      "text/markdown": [
       "\n",
       "A anova: 2 × 7\n",
       "\n",
       "| <!--/--> | Df &lt;int&gt; | AIC &lt;lgl&gt; | BIC &lt;lgl&gt; | Chisq &lt;dbl&gt; | Chisq diff &lt;dbl&gt; | Df diff &lt;int&gt; | Pr(&gt;Chisq) &lt;dbl&gt; |\n",
       "|---|---|---|---|---|---|---|---|\n",
       "| fit.baseline |  6 | NA | NA | 26.94149 |       NA | NA |           NA |\n",
       "| fit.prop4 | 14 | NA | NA | 42.16983 | 61.01121 |  8 | 2.950764e-10 |\n",
       "\n"
      ],
      "text/plain": [
       "             Df AIC BIC Chisq    Chisq diff Df diff Pr(>Chisq)  \n",
       "fit.baseline  6 NA  NA  26.94149       NA   NA                NA\n",
       "fit.prop4    14 NA  NA  42.16983 61.01121    8      2.950764e-10"
      ]
     },
     "metadata": {},
     "output_type": "display_data"
    }
   ],
   "source": [
    "lavTestLRT(fit.baseline, fit.prop4)"
   ]
  },
  {
   "attachments": {},
   "cell_type": "markdown",
   "id": "5511aa73",
   "metadata": {},
   "source": [
    "### Invarianza delle soglie e delle saturazioni fattoriali\n",
    "\n",
    "Consideriamo ora il modello _threshold and loading invariance_ [chiamato _Proposition 7_ da @wu2016identification]. "
   ]
  },
  {
   "cell_type": "code",
   "execution_count": 24,
   "id": "3e61525f",
   "metadata": {
    "vscode": {
     "languageId": "r"
    }
   },
   "outputs": [],
   "source": [
    "prop7 <- measEq.syntax(\n",
    "  configural.model = mod.cat,\n",
    "  data = dat,\n",
    "  ordered = c(\"R09A\", \"R09B\", \"R09C\", \"R09D\"),\n",
    "  parameterization = \"delta\",\n",
    "  ID.fac = \"std.lv\",\n",
    "  ID.cat = \"Wu.Estabrook.2016\",\n",
    "  group = \"IDCNTRY\",\n",
    "  group.equal = c(\"thresholds\", \"loadings\")\n",
    ")"
   ]
  },
  {
   "attachments": {},
   "cell_type": "markdown",
   "id": "394156a4",
   "metadata": {},
   "source": [
    "Adattiamo il modello ai dati:"
   ]
  },
  {
   "cell_type": "code",
   "execution_count": 25,
   "id": "8db24bf2",
   "metadata": {
    "vscode": {
     "languageId": "r"
    }
   },
   "outputs": [],
   "source": [
    "model.prop7 <- as.character(prop7)\n",
    "fit.prop7 <- cfa(\n",
    "  model.prop7, \n",
    "  data = dat, group = \"IDCNTRY\", \n",
    "  ordered = c(\"R09A\", \"R09B\", \"R09C\", \"R09D\")\n",
    "  )"
   ]
  },
  {
   "attachments": {},
   "cell_type": "markdown",
   "id": "4380c379",
   "metadata": {},
   "source": [
    "Salviamo i risultati:"
   ]
  },
  {
   "cell_type": "code",
   "execution_count": 26,
   "id": "cea613f3",
   "metadata": {
    "vscode": {
     "languageId": "r"
    }
   },
   "outputs": [],
   "source": [
    "all.results[3, ] <-\n",
    "  round(data.matrix(\n",
    "    fitmeasures(fit.prop7, fit.measures = c(\n",
    "      \"chisq.scaled\", \"df.scaled\", \"pvalue.scaled\",\n",
    "      \"rmsea.scaled\", \"cfi.scaled\", \"tli.scaled\"\n",
    "    ))\n",
    "  ), digits = 3)\n",
    "\n",
    "column.names <-\n",
    "  c(\n",
    "    \"chisq.scaled\", \"df.scaled\", \"pvalue.scaled\", \"rmsea.scaled\",\n",
    "    \"cfi.scaled\", \"tli.scaled\"\n",
    "  )\n",
    "\n",
    "row.names <- c(\"baseline\", \"prop4\", \"prop7\")\n",
    "\n",
    "colnames(all.results) <- column.names\n",
    "rownames(all.results) <- row.names"
   ]
  },
  {
   "attachments": {},
   "cell_type": "markdown",
   "id": "fc9031eb",
   "metadata": {},
   "source": [
    "Eseguiamo i confronti tra modelli:"
   ]
  },
  {
   "cell_type": "code",
   "execution_count": 27,
   "id": "c20399c3",
   "metadata": {
    "vscode": {
     "languageId": "r"
    }
   },
   "outputs": [
    {
     "data": {
      "text/html": [
       "<table class=\"dataframe\">\n",
       "<caption>A anova: 2 × 7</caption>\n",
       "<thead>\n",
       "\t<tr><th></th><th scope=col>Df</th><th scope=col>AIC</th><th scope=col>BIC</th><th scope=col>Chisq</th><th scope=col>Chisq diff</th><th scope=col>Df diff</th><th scope=col>Pr(&gt;Chisq)</th></tr>\n",
       "\t<tr><th></th><th scope=col>&lt;int&gt;</th><th scope=col>&lt;lgl&gt;</th><th scope=col>&lt;lgl&gt;</th><th scope=col>&lt;dbl&gt;</th><th scope=col>&lt;dbl&gt;</th><th scope=col>&lt;int&gt;</th><th scope=col>&lt;dbl&gt;</th></tr>\n",
       "</thead>\n",
       "<tbody>\n",
       "\t<tr><th scope=row>fit.prop4</th><td>14</td><td>NA</td><td>NA</td><td>42.16983</td><td>      NA</td><td>NA</td><td>          NA</td></tr>\n",
       "\t<tr><th scope=row>fit.prop7</th><td>20</td><td>NA</td><td>NA</td><td>93.11534</td><td>73.70791</td><td> 6</td><td>7.079871e-14</td></tr>\n",
       "</tbody>\n",
       "</table>\n"
      ],
      "text/latex": [
       "A anova: 2 × 7\n",
       "\\begin{tabular}{r|lllllll}\n",
       "  & Df & AIC & BIC & Chisq & Chisq diff & Df diff & Pr(>Chisq)\\\\\n",
       "  & <int> & <lgl> & <lgl> & <dbl> & <dbl> & <int> & <dbl>\\\\\n",
       "\\hline\n",
       "\tfit.prop4 & 14 & NA & NA & 42.16983 &       NA & NA &           NA\\\\\n",
       "\tfit.prop7 & 20 & NA & NA & 93.11534 & 73.70791 &  6 & 7.079871e-14\\\\\n",
       "\\end{tabular}\n"
      ],
      "text/markdown": [
       "\n",
       "A anova: 2 × 7\n",
       "\n",
       "| <!--/--> | Df &lt;int&gt; | AIC &lt;lgl&gt; | BIC &lt;lgl&gt; | Chisq &lt;dbl&gt; | Chisq diff &lt;dbl&gt; | Df diff &lt;int&gt; | Pr(&gt;Chisq) &lt;dbl&gt; |\n",
       "|---|---|---|---|---|---|---|---|\n",
       "| fit.prop4 | 14 | NA | NA | 42.16983 |       NA | NA |           NA |\n",
       "| fit.prop7 | 20 | NA | NA | 93.11534 | 73.70791 |  6 | 7.079871e-14 |\n",
       "\n"
      ],
      "text/plain": [
       "          Df AIC BIC Chisq    Chisq diff Df diff Pr(>Chisq)  \n",
       "fit.prop4 14 NA  NA  42.16983       NA   NA                NA\n",
       "fit.prop7 20 NA  NA  93.11534 73.70791    6      7.079871e-14"
      ]
     },
     "metadata": {},
     "output_type": "display_data"
    }
   ],
   "source": [
    "lavTestLRT(fit.prop4, fit.prop7)"
   ]
  },
  {
   "cell_type": "code",
   "execution_count": 28,
   "id": "9885319b",
   "metadata": {
    "vscode": {
     "languageId": "r"
    }
   },
   "outputs": [
    {
     "data": {
      "text/html": [
       "<table class=\"dataframe\">\n",
       "<caption>A anova: 2 × 7</caption>\n",
       "<thead>\n",
       "\t<tr><th></th><th scope=col>Df</th><th scope=col>AIC</th><th scope=col>BIC</th><th scope=col>Chisq</th><th scope=col>Chisq diff</th><th scope=col>Df diff</th><th scope=col>Pr(&gt;Chisq)</th></tr>\n",
       "\t<tr><th></th><th scope=col>&lt;int&gt;</th><th scope=col>&lt;lgl&gt;</th><th scope=col>&lt;lgl&gt;</th><th scope=col>&lt;dbl&gt;</th><th scope=col>&lt;dbl&gt;</th><th scope=col>&lt;int&gt;</th><th scope=col>&lt;dbl&gt;</th></tr>\n",
       "</thead>\n",
       "<tbody>\n",
       "\t<tr><th scope=row>fit.baseline</th><td> 6</td><td>NA</td><td>NA</td><td>26.94149</td><td>      NA</td><td>NA</td><td>          NA</td></tr>\n",
       "\t<tr><th scope=row>fit.prop7</th><td>20</td><td>NA</td><td>NA</td><td>93.11534</td><td>136.1424</td><td>14</td><td>4.139323e-22</td></tr>\n",
       "</tbody>\n",
       "</table>\n"
      ],
      "text/latex": [
       "A anova: 2 × 7\n",
       "\\begin{tabular}{r|lllllll}\n",
       "  & Df & AIC & BIC & Chisq & Chisq diff & Df diff & Pr(>Chisq)\\\\\n",
       "  & <int> & <lgl> & <lgl> & <dbl> & <dbl> & <int> & <dbl>\\\\\n",
       "\\hline\n",
       "\tfit.baseline &  6 & NA & NA & 26.94149 &       NA & NA &           NA\\\\\n",
       "\tfit.prop7 & 20 & NA & NA & 93.11534 & 136.1424 & 14 & 4.139323e-22\\\\\n",
       "\\end{tabular}\n"
      ],
      "text/markdown": [
       "\n",
       "A anova: 2 × 7\n",
       "\n",
       "| <!--/--> | Df &lt;int&gt; | AIC &lt;lgl&gt; | BIC &lt;lgl&gt; | Chisq &lt;dbl&gt; | Chisq diff &lt;dbl&gt; | Df diff &lt;int&gt; | Pr(&gt;Chisq) &lt;dbl&gt; |\n",
       "|---|---|---|---|---|---|---|---|\n",
       "| fit.baseline |  6 | NA | NA | 26.94149 |       NA | NA |           NA |\n",
       "| fit.prop7 | 20 | NA | NA | 93.11534 | 136.1424 | 14 | 4.139323e-22 |\n",
       "\n"
      ],
      "text/plain": [
       "             Df AIC BIC Chisq    Chisq diff Df diff Pr(>Chisq)  \n",
       "fit.baseline  6 NA  NA  26.94149       NA   NA                NA\n",
       "fit.prop7    20 NA  NA  93.11534 136.1424   14      4.139323e-22"
      ]
     },
     "metadata": {},
     "output_type": "display_data"
    }
   ],
   "source": [
    "lavTestLRT(fit.prop7, fit.baseline)"
   ]
  },
  {
   "attachments": {},
   "cell_type": "markdown",
   "id": "1f3a86d1",
   "metadata": {},
   "source": [
    "Un confronto tra gli indici di bontà di adattamento dei tre modelli è fornito di seguito:"
   ]
  },
  {
   "cell_type": "code",
   "execution_count": 29,
   "id": "ae200653",
   "metadata": {
    "vscode": {
     "languageId": "r"
    }
   },
   "outputs": [
    {
     "name": "stdout",
     "output_type": "stream",
     "text": [
      "         chisq.scaled df.scaled pvalue.scaled rmsea.scaled cfi.scaled\n",
      "baseline       50.944         6             0        0.042      0.997\n",
      "prop4         107.839        14             0        0.040      0.994\n",
      "prop7         186.542        20             0        0.044      0.989\n",
      "         tli.scaled\n",
      "baseline      0.991\n",
      "prop4         0.992\n",
      "prop7         0.990\n"
     ]
    }
   ],
   "source": [
    "print(all.results)"
   ]
  },
  {
   "attachments": {},
   "cell_type": "markdown",
   "id": "565dd84b",
   "metadata": {},
   "source": [
    "In conclusione, nel caso presente, il test del rapporto di verosimiglianza indica che non viene rispettata neppure l'invarianza delle soglie tra gruppi. Gli altri confronti, dunque, sono superflui e sono stati qui presentati solo allo scopo di illustrare la procedura.\n",
    "\n",
    "\n",
    "\n",
    "\n",
    "\n"
   ]
  },
  {
   "cell_type": "markdown",
   "id": "5aab0eb5",
   "metadata": {},
   "source": [
    "## Vincoli Inter-gruppi\n",
    "\n",
    "Quando si adatta un modello di equazioni strutturali ai dati provenienti da più gruppi, è comune imporre vincoli di uguaglianza inter-gruppi su certe stime di parametri non standardizzati. Questi parametri possono riguardare effetti causali, inclusi effetti diretti, indiretti o totali, o per varianze, covarianze, medie o intercette. La scelta tra questi dovrebbe essere correlata a specifiche ipotesi riguardo le differenze tra i gruppi. Se l'adattamento del modello vincolato è molto peggiore rispetto a quello del modello non vincolato—e il modello non vincolato si adatta bene ai dati—possiamo concludere che le popolazioni da cui sono stati selezionati i gruppi possono differire rispetto ai parametri soggetti a vincoli di uguaglianza. Un'alternativa all'analisi multi-gruppo consiste nel rappresentare l'appartenenza al gruppo in un modello a singolo gruppo, adattato ai dati di tutti i gruppi combinati. Alcune variabili endogene nel modello sono regresse sul gruppo e su termini prodotto che coinvolgono il gruppo e altre variabili moderatrici presunte. I coefficienti per i termini prodotto stimano gli effetti interattivi del gruppo con altre variabili causali, e i loro valori possono essere convertiti in stime di effetti indiretti condizionali. Un inconveniente è che i modelli a singolo gruppo generalmente assumono l'omoscedasticità tra i gruppi, e le stime possono essere inesatte se tali assunzioni sono insostenibili. In contrasto, è semplice testare le ipotesi di omogeneità in un approccio multi-gruppo."
   ]
  },
  {
   "cell_type": "markdown",
   "id": "32cc2086",
   "metadata": {},
   "source": [
    "Esaminiamo un esempio discuso da {cite:t}`kline2023principles`. Lynam e colleghi (1993) hanno misurato lo status socioeconomico familiare (SES), il quoziente intellettivo verbale (QI verbale), la motivazione dell'esaminato durante il test del QI, il rendimento scolastico e i comportamenti delinquenzali in campioni di adolescenti maschi bianchi (n = 181) e neri (n = 214) di età compresa tra i 12 e i 13 anni. Erano studenti di quarta elementare in scuole pubbliche urbane negli Stati Uniti ed erano parte di uno studio longitudinale su individui ad alto rischio di forme precoci di delinquenza. \n",
    "\n",
    "La figura mostra un modello di percorso con una struttura di media (rappresentata con linee tratteggiate) basato sulle variabili dello studio. La figura rappresenta l'ipotesi che SES, motivazione e QI verbale siano cause correlate che influenzano la delinquenza sia direttamente che indirettamente attraverso il rendimento scolastico. Ad esempio, i ragazzi adolescenti con scarsa abilità verbale potrebbero essere più propensi ad abbandonare la scuola, contribuendo così alla delinquenza a causa di prospettive di impiego ridotte o del maggiore tempo non supervisionato per strada.\n",
    "\n",
    "```{figure} ../images/lynam.png\n",
    "---\n",
    "height: 450px\n",
    "name: path_01-fig\n",
    "---\n",
    "Diagramma di percorso proposto da Lynam et al. (1993).\n",
    "```\n",
    "\n",
    "Lo studio di Lynam et al. (1993) era trasversale, senza precedenza temporale nelle misurazioni, quindi l'unica base per la specificazione della direzionalità è l'argomentazione. La logica appena riassunta è soggetta a critiche. Ad esempio, Block (1995) ha sostenuto che Lynam et al. (1993) hanno trascurato il ruolo potenziale dell'impulsività come mediatore degli effetti dell'abilità verbale sulla delinquenza. Ovvero, Block (1995) ha sostenuto che non è l'abilità verbale compromessa di per sé che è causalmente correlata alla delinquenza; piuttosto, una capacità ridotta di ritardare la gratificazione, pensare prima di agire o rimanere concentrati su un obiettivo sono fattori più importanti nella delinquenza. \n",
    "\n",
    "1. Senza vincoli, il modello di percorso nella figura è \"appena identificato\" (*just identified*) e si adatterebbe perfettamente ai dati in entrambi i gruppi. Vincoli di uguaglianza inter-gruppi sono stati imposti su parametri chiave in questo esempio per testare l'ipotesi che rimanere a scuola sia un fattore protettivo relativamente più forte contro la delinquenza tra i giovani maschi neri rispetto ai giovani maschi bianchi, specialmente in aree urbane a basso SES con relativamente più famiglie monogenitoriali dove i giovani neri sono rappresentati sproporzionatamente (Lynam et al., 1993). La strategia di analisi è delineata di seguito: per il modello 1, tutti i 7 effetti diretti non standardizzati sono vincolati all'uguaglianza nei due gruppi. Ci si aspettava che il modello 1 fosse incoerente con i dati, se l'effetto del rendimento scolastico sull'illegalità è diverso tra i gruppi.\n",
    "2. Per il modello 2, il vincolo di uguaglianza per l'effetto diretto del rendimento sulla delinquenza è rilasciato, ciò che ci si aspettava migliorasse notevolmente l'adattamento rispetto a quello del modello 1.\n",
    "3. Assumendo un adattamento globale e locale soddisfacente del modello 2 in entrambi i gruppi, vengono testati due modelli aggiuntivi. Per il modello 3, l'intercetta per la regressione del rendimento su SES, sforzo nel test e QI verbale è vincolata all'uguaglianza\n",
    "4. Modello 4: l'intercetta per la regressione della delinquenza su SES, sforzo nel test, QI verbale e rendimento è vincolata all'uguaglianza. Il confronto degli adattamenti relativi dei modelli 3 e 4 con il modello 2 testa l'uguaglianza delle intercette di regressione per le variabili endogene tra i gruppi.\n",
    "\n",
    "Specifichiamo i dati."
   ]
  },
  {
   "cell_type": "code",
   "execution_count": 30,
   "id": "823dc6b1",
   "metadata": {
    "vscode": {
     "languageId": "r"
    }
   },
   "outputs": [
    {
     "data": {
      "text/html": [
       "<table class=\"dataframe\">\n",
       "<caption>A matrix: 5 × 5 of type dbl</caption>\n",
       "<thead>\n",
       "\t<tr><th></th><th scope=col>ses</th><th scope=col>effort</th><th scope=col>viq</th><th scope=col>achieve</th><th scope=col>delinq</th></tr>\n",
       "</thead>\n",
       "<tbody>\n",
       "\t<tr><th scope=row>ses</th><td> 1.00</td><td> 0.08</td><td> 0.28</td><td> 0.05</td><td>-0.11</td></tr>\n",
       "\t<tr><th scope=row>effort</th><td> 0.08</td><td> 1.00</td><td> 0.30</td><td> 0.21</td><td>-0.17</td></tr>\n",
       "\t<tr><th scope=row>viq</th><td> 0.28</td><td> 0.30</td><td> 1.00</td><td> 0.50</td><td>-0.26</td></tr>\n",
       "\t<tr><th scope=row>achieve</th><td> 0.05</td><td> 0.21</td><td> 0.50</td><td> 1.00</td><td>-0.33</td></tr>\n",
       "\t<tr><th scope=row>delinq</th><td>-0.11</td><td>-0.17</td><td>-0.26</td><td>-0.33</td><td> 1.00</td></tr>\n",
       "</tbody>\n",
       "</table>\n"
      ],
      "text/latex": [
       "A matrix: 5 × 5 of type dbl\n",
       "\\begin{tabular}{r|lllll}\n",
       "  & ses & effort & viq & achieve & delinq\\\\\n",
       "\\hline\n",
       "\tses &  1.00 &  0.08 &  0.28 &  0.05 & -0.11\\\\\n",
       "\teffort &  0.08 &  1.00 &  0.30 &  0.21 & -0.17\\\\\n",
       "\tviq &  0.28 &  0.30 &  1.00 &  0.50 & -0.26\\\\\n",
       "\tachieve &  0.05 &  0.21 &  0.50 &  1.00 & -0.33\\\\\n",
       "\tdelinq & -0.11 & -0.17 & -0.26 & -0.33 &  1.00\\\\\n",
       "\\end{tabular}\n"
      ],
      "text/markdown": [
       "\n",
       "A matrix: 5 × 5 of type dbl\n",
       "\n",
       "| <!--/--> | ses | effort | viq | achieve | delinq |\n",
       "|---|---|---|---|---|---|\n",
       "| ses |  1.00 |  0.08 |  0.28 |  0.05 | -0.11 |\n",
       "| effort |  0.08 |  1.00 |  0.30 |  0.21 | -0.17 |\n",
       "| viq |  0.28 |  0.30 |  1.00 |  0.50 | -0.26 |\n",
       "| achieve |  0.05 |  0.21 |  0.50 |  1.00 | -0.33 |\n",
       "| delinq | -0.11 | -0.17 | -0.26 | -0.33 |  1.00 |\n",
       "\n"
      ],
      "text/plain": [
       "        ses   effort viq   achieve delinq\n",
       "ses      1.00  0.08   0.28  0.05   -0.11 \n",
       "effort   0.08  1.00   0.30  0.21   -0.17 \n",
       "viq      0.28  0.30   1.00  0.50   -0.26 \n",
       "achieve  0.05  0.21   0.50  1.00   -0.33 \n",
       "delinq  -0.11 -0.17  -0.26 -0.33    1.00 "
      ]
     },
     "metadata": {},
     "output_type": "display_data"
    }
   ],
   "source": [
    "# black, n = 214\n",
    "# white, n = 181\n",
    "# input the correlations in lower diagnonal form\n",
    "\n",
    "blackLower.cor <- \"\n",
    " 1.00\n",
    "  .08 1.00\n",
    "  .28  .30 1.00\n",
    "  .05  .21  .50 1.00\n",
    " -.11 -.17 -.26 -.33 1.00 \"\n",
    "\n",
    "whiteLower.cor <- \"\n",
    " 1.00\n",
    "  .25 1.00\n",
    "  .37  .40 1.00\n",
    "  .27  .28  .61 1.00\n",
    " -.11 -.20 -.31 -.21 1.00 \"\n",
    "\n",
    "# name the variables and convert to full correlation matrix\n",
    "black.cor <- lavaan::getCov(blackLower.cor, names = c(\n",
    "    \"ses\", \"effort\", \"viq\",\n",
    "    \"achieve\", \"delinq\"\n",
    "))\n",
    "white.cor <- lavaan::getCov(whiteLower.cor, names = c(\n",
    "    \"ses\", \"effort\", \"viq\",\n",
    "    \"achieve\", \"delinq\"\n",
    "))\n",
    "\n",
    "# display the correlations\n",
    "black.cor"
   ]
  },
  {
   "cell_type": "code",
   "execution_count": 31,
   "id": "54a2c43b",
   "metadata": {
    "vscode": {
     "languageId": "r"
    }
   },
   "outputs": [
    {
     "data": {
      "text/html": [
       "<table class=\"dataframe\">\n",
       "<caption>A matrix: 5 × 5 of type dbl</caption>\n",
       "<thead>\n",
       "\t<tr><th></th><th scope=col>ses</th><th scope=col>effort</th><th scope=col>viq</th><th scope=col>achieve</th><th scope=col>delinq</th></tr>\n",
       "</thead>\n",
       "<tbody>\n",
       "\t<tr><th scope=row>ses</th><td> 1.00</td><td> 0.25</td><td> 0.37</td><td> 0.27</td><td>-0.11</td></tr>\n",
       "\t<tr><th scope=row>effort</th><td> 0.25</td><td> 1.00</td><td> 0.40</td><td> 0.28</td><td>-0.20</td></tr>\n",
       "\t<tr><th scope=row>viq</th><td> 0.37</td><td> 0.40</td><td> 1.00</td><td> 0.61</td><td>-0.31</td></tr>\n",
       "\t<tr><th scope=row>achieve</th><td> 0.27</td><td> 0.28</td><td> 0.61</td><td> 1.00</td><td>-0.21</td></tr>\n",
       "\t<tr><th scope=row>delinq</th><td>-0.11</td><td>-0.20</td><td>-0.31</td><td>-0.21</td><td> 1.00</td></tr>\n",
       "</tbody>\n",
       "</table>\n"
      ],
      "text/latex": [
       "A matrix: 5 × 5 of type dbl\n",
       "\\begin{tabular}{r|lllll}\n",
       "  & ses & effort & viq & achieve & delinq\\\\\n",
       "\\hline\n",
       "\tses &  1.00 &  0.25 &  0.37 &  0.27 & -0.11\\\\\n",
       "\teffort &  0.25 &  1.00 &  0.40 &  0.28 & -0.20\\\\\n",
       "\tviq &  0.37 &  0.40 &  1.00 &  0.61 & -0.31\\\\\n",
       "\tachieve &  0.27 &  0.28 &  0.61 &  1.00 & -0.21\\\\\n",
       "\tdelinq & -0.11 & -0.20 & -0.31 & -0.21 &  1.00\\\\\n",
       "\\end{tabular}\n"
      ],
      "text/markdown": [
       "\n",
       "A matrix: 5 × 5 of type dbl\n",
       "\n",
       "| <!--/--> | ses | effort | viq | achieve | delinq |\n",
       "|---|---|---|---|---|---|\n",
       "| ses |  1.00 |  0.25 |  0.37 |  0.27 | -0.11 |\n",
       "| effort |  0.25 |  1.00 |  0.40 |  0.28 | -0.20 |\n",
       "| viq |  0.37 |  0.40 |  1.00 |  0.61 | -0.31 |\n",
       "| achieve |  0.27 |  0.28 |  0.61 |  1.00 | -0.21 |\n",
       "| delinq | -0.11 | -0.20 | -0.31 | -0.21 |  1.00 |\n",
       "\n"
      ],
      "text/plain": [
       "        ses   effort viq   achieve delinq\n",
       "ses      1.00  0.25   0.37  0.27   -0.11 \n",
       "effort   0.25  1.00   0.40  0.28   -0.20 \n",
       "viq      0.37  0.40   1.00  0.61   -0.31 \n",
       "achieve  0.27  0.28   0.61  1.00   -0.21 \n",
       "delinq  -0.11 -0.20  -0.31 -0.21    1.00 "
      ]
     },
     "metadata": {},
     "output_type": "display_data"
    }
   ],
   "source": [
    "white.cor"
   ]
  },
  {
   "cell_type": "code",
   "execution_count": 32,
   "id": "c8f4b2c3",
   "metadata": {
    "vscode": {
     "languageId": "r"
    }
   },
   "outputs": [
    {
     "data": {
      "text/html": [
       "<table class=\"dataframe\">\n",
       "<caption>A matrix: 5 × 5 of type dbl</caption>\n",
       "<thead>\n",
       "\t<tr><th></th><th scope=col>ses</th><th scope=col>effort</th><th scope=col>viq</th><th scope=col>achieve</th><th scope=col>delinq</th></tr>\n",
       "</thead>\n",
       "<tbody>\n",
       "\t<tr><th scope=row>ses</th><td>111.936400</td><td> 1.142640</td><td> 40.347888</td><td> 0.417910</td><td>-1.896994</td></tr>\n",
       "\t<tr><th scope=row>effort</th><td>  1.142640</td><td> 1.822500</td><td>  5.516100</td><td> 0.223965</td><td>-0.374085</td></tr>\n",
       "\t<tr><th scope=row>viq</th><td> 40.347888</td><td> 5.516100</td><td>185.504400</td><td> 5.379900</td><td>-5.772156</td></tr>\n",
       "\t<tr><th scope=row>achieve</th><td>  0.417910</td><td> 0.223965</td><td>  5.379900</td><td> 0.624100</td><td>-0.424941</td></tr>\n",
       "\t<tr><th scope=row>delinq</th><td> -1.896994</td><td>-0.374085</td><td> -5.772156</td><td>-0.424941</td><td> 2.656900</td></tr>\n",
       "</tbody>\n",
       "</table>\n"
      ],
      "text/latex": [
       "A matrix: 5 × 5 of type dbl\n",
       "\\begin{tabular}{r|lllll}\n",
       "  & ses & effort & viq & achieve & delinq\\\\\n",
       "\\hline\n",
       "\tses & 111.936400 &  1.142640 &  40.347888 &  0.417910 & -1.896994\\\\\n",
       "\teffort &   1.142640 &  1.822500 &   5.516100 &  0.223965 & -0.374085\\\\\n",
       "\tviq &  40.347888 &  5.516100 & 185.504400 &  5.379900 & -5.772156\\\\\n",
       "\tachieve &   0.417910 &  0.223965 &   5.379900 &  0.624100 & -0.424941\\\\\n",
       "\tdelinq &  -1.896994 & -0.374085 &  -5.772156 & -0.424941 &  2.656900\\\\\n",
       "\\end{tabular}\n"
      ],
      "text/markdown": [
       "\n",
       "A matrix: 5 × 5 of type dbl\n",
       "\n",
       "| <!--/--> | ses | effort | viq | achieve | delinq |\n",
       "|---|---|---|---|---|---|\n",
       "| ses | 111.936400 |  1.142640 |  40.347888 |  0.417910 | -1.896994 |\n",
       "| effort |   1.142640 |  1.822500 |   5.516100 |  0.223965 | -0.374085 |\n",
       "| viq |  40.347888 |  5.516100 | 185.504400 |  5.379900 | -5.772156 |\n",
       "| achieve |   0.417910 |  0.223965 |   5.379900 |  0.624100 | -0.424941 |\n",
       "| delinq |  -1.896994 | -0.374085 |  -5.772156 | -0.424941 |  2.656900 |\n",
       "\n"
      ],
      "text/plain": [
       "        ses        effort    viq        achieve   delinq   \n",
       "ses     111.936400  1.142640  40.347888  0.417910 -1.896994\n",
       "effort    1.142640  1.822500   5.516100  0.223965 -0.374085\n",
       "viq      40.347888  5.516100 185.504400  5.379900 -5.772156\n",
       "achieve   0.417910  0.223965   5.379900  0.624100 -0.424941\n",
       "delinq   -1.896994 -0.374085  -5.772156 -0.424941  2.656900"
      ]
     },
     "metadata": {},
     "output_type": "display_data"
    }
   ],
   "source": [
    "# add the standard deviations and convert to covariances\n",
    "black.cov <- lavaan::cor2cov(black.cor, sds = c(10.58, 1.35, 13.62, .79, 1.63))\n",
    "white.cov <- lavaan::cor2cov(white.cor, sds = c(11.53, 1.32, 16.32, .96, 1.45))\n",
    "\n",
    "# input group means\n",
    "black.mean <- c(31.96, -.01, 93.76, 2.51, 1.40)\n",
    "white.mean <- c(34.64, .05, 104.18, 2.88, 1.22)\n",
    "\n",
    "# display the covariances and means\n",
    "black.cov"
   ]
  },
  {
   "cell_type": "code",
   "execution_count": 33,
   "id": "cba450cd",
   "metadata": {
    "vscode": {
     "languageId": "r"
    }
   },
   "outputs": [
    {
     "data": {
      "text/html": [
       "<style>\n",
       ".list-inline {list-style: none; margin:0; padding: 0}\n",
       ".list-inline>li {display: inline-block}\n",
       ".list-inline>li:not(:last-child)::after {content: \"\\00b7\"; padding: 0 .5ex}\n",
       "</style>\n",
       "<ol class=list-inline><li>31.96</li><li>-0.01</li><li>93.76</li><li>2.51</li><li>1.4</li></ol>\n"
      ],
      "text/latex": [
       "\\begin{enumerate*}\n",
       "\\item 31.96\n",
       "\\item -0.01\n",
       "\\item 93.76\n",
       "\\item 2.51\n",
       "\\item 1.4\n",
       "\\end{enumerate*}\n"
      ],
      "text/markdown": [
       "1. 31.96\n",
       "2. -0.01\n",
       "3. 93.76\n",
       "4. 2.51\n",
       "5. 1.4\n",
       "\n",
       "\n"
      ],
      "text/plain": [
       "[1] 31.96 -0.01 93.76  2.51  1.40"
      ]
     },
     "metadata": {},
     "output_type": "display_data"
    }
   ],
   "source": [
    "black.mean"
   ]
  },
  {
   "cell_type": "code",
   "execution_count": 34,
   "id": "8a7216d9",
   "metadata": {
    "vscode": {
     "languageId": "r"
    }
   },
   "outputs": [
    {
     "data": {
      "text/html": [
       "<table class=\"dataframe\">\n",
       "<caption>A matrix: 5 × 5 of type dbl</caption>\n",
       "<thead>\n",
       "\t<tr><th></th><th scope=col>ses</th><th scope=col>effort</th><th scope=col>viq</th><th scope=col>achieve</th><th scope=col>delinq</th></tr>\n",
       "</thead>\n",
       "<tbody>\n",
       "\t<tr><th scope=row>ses</th><td>132.940900</td><td> 3.804900</td><td> 69.622752</td><td> 2.988576</td><td>-1.839035</td></tr>\n",
       "\t<tr><th scope=row>effort</th><td>  3.804900</td><td> 1.742400</td><td>  8.616960</td><td> 0.354816</td><td>-0.382800</td></tr>\n",
       "\t<tr><th scope=row>viq</th><td> 69.622752</td><td> 8.616960</td><td>266.342400</td><td> 9.556992</td><td>-7.335840</td></tr>\n",
       "\t<tr><th scope=row>achieve</th><td>  2.988576</td><td> 0.354816</td><td>  9.556992</td><td> 0.921600</td><td>-0.292320</td></tr>\n",
       "\t<tr><th scope=row>delinq</th><td> -1.839035</td><td>-0.382800</td><td> -7.335840</td><td>-0.292320</td><td> 2.102500</td></tr>\n",
       "</tbody>\n",
       "</table>\n"
      ],
      "text/latex": [
       "A matrix: 5 × 5 of type dbl\n",
       "\\begin{tabular}{r|lllll}\n",
       "  & ses & effort & viq & achieve & delinq\\\\\n",
       "\\hline\n",
       "\tses & 132.940900 &  3.804900 &  69.622752 &  2.988576 & -1.839035\\\\\n",
       "\teffort &   3.804900 &  1.742400 &   8.616960 &  0.354816 & -0.382800\\\\\n",
       "\tviq &  69.622752 &  8.616960 & 266.342400 &  9.556992 & -7.335840\\\\\n",
       "\tachieve &   2.988576 &  0.354816 &   9.556992 &  0.921600 & -0.292320\\\\\n",
       "\tdelinq &  -1.839035 & -0.382800 &  -7.335840 & -0.292320 &  2.102500\\\\\n",
       "\\end{tabular}\n"
      ],
      "text/markdown": [
       "\n",
       "A matrix: 5 × 5 of type dbl\n",
       "\n",
       "| <!--/--> | ses | effort | viq | achieve | delinq |\n",
       "|---|---|---|---|---|---|\n",
       "| ses | 132.940900 |  3.804900 |  69.622752 |  2.988576 | -1.839035 |\n",
       "| effort |   3.804900 |  1.742400 |   8.616960 |  0.354816 | -0.382800 |\n",
       "| viq |  69.622752 |  8.616960 | 266.342400 |  9.556992 | -7.335840 |\n",
       "| achieve |   2.988576 |  0.354816 |   9.556992 |  0.921600 | -0.292320 |\n",
       "| delinq |  -1.839035 | -0.382800 |  -7.335840 | -0.292320 |  2.102500 |\n",
       "\n"
      ],
      "text/plain": [
       "        ses        effort    viq        achieve   delinq   \n",
       "ses     132.940900  3.804900  69.622752  2.988576 -1.839035\n",
       "effort    3.804900  1.742400   8.616960  0.354816 -0.382800\n",
       "viq      69.622752  8.616960 266.342400  9.556992 -7.335840\n",
       "achieve   2.988576  0.354816   9.556992  0.921600 -0.292320\n",
       "delinq   -1.839035 -0.382800  -7.335840 -0.292320  2.102500"
      ]
     },
     "metadata": {},
     "output_type": "display_data"
    }
   ],
   "source": [
    "white.cov"
   ]
  },
  {
   "cell_type": "code",
   "execution_count": 35,
   "id": "02b2ce48",
   "metadata": {
    "vscode": {
     "languageId": "r"
    }
   },
   "outputs": [
    {
     "data": {
      "text/html": [
       "<style>\n",
       ".list-inline {list-style: none; margin:0; padding: 0}\n",
       ".list-inline>li {display: inline-block}\n",
       ".list-inline>li:not(:last-child)::after {content: \"\\00b7\"; padding: 0 .5ex}\n",
       "</style>\n",
       "<ol class=list-inline><li>34.64</li><li>0.05</li><li>104.18</li><li>2.88</li><li>1.22</li></ol>\n"
      ],
      "text/latex": [
       "\\begin{enumerate*}\n",
       "\\item 34.64\n",
       "\\item 0.05\n",
       "\\item 104.18\n",
       "\\item 2.88\n",
       "\\item 1.22\n",
       "\\end{enumerate*}\n"
      ],
      "text/markdown": [
       "1. 34.64\n",
       "2. 0.05\n",
       "3. 104.18\n",
       "4. 2.88\n",
       "5. 1.22\n",
       "\n",
       "\n"
      ],
      "text/plain": [
       "[1]  34.64   0.05 104.18   2.88   1.22"
      ]
     },
     "metadata": {},
     "output_type": "display_data"
    }
   ],
   "source": [
    "white.mean"
   ]
  },
  {
   "cell_type": "code",
   "execution_count": 36,
   "id": "9ae6a5b1",
   "metadata": {
    "vscode": {
     "languageId": "r"
    }
   },
   "outputs": [],
   "source": [
    "# specify fit statistics for abbreviated output\n",
    "fit.stats <- c(\n",
    "    \"chisq\", \"df\", \"pvalue\",\n",
    "    \"rmsea\", \"rmsea.ci.lower\", \"rmsea.ci.upper\", \"cfi\", \"srmr\"\n",
    ")\n",
    "\n",
    "# combine covariances matrices, mean vectors, and group sizes\n",
    "# into single list objects\n",
    "combined.cov <- list(black = black.cov, white = white.cov)\n",
    "combined.mean <- list(black = black.mean, white = white.mean)\n",
    "combined.n <- list(black = 214, white = 181)"
   ]
  },
  {
   "cell_type": "markdown",
   "id": "971dc7e2",
   "metadata": {},
   "source": [
    "Adattiamo i quattro modelli ai dati:"
   ]
  },
  {
   "cell_type": "code",
   "execution_count": 37,
   "id": "1bb84e4b",
   "metadata": {
    "vscode": {
     "languageId": "r"
    }
   },
   "outputs": [],
   "source": [
    "# specify basic covariance model\n",
    "lynam.model <- \"\n",
    " achieve ~ ses + effort + viq\n",
    " delinq ~ achieve + ses + effort + viq \""
   ]
  },
  {
   "cell_type": "code",
   "execution_count": 38,
   "id": "b1548837",
   "metadata": {
    "vscode": {
     "languageId": "r"
    }
   },
   "outputs": [],
   "source": [
    "# model 1\n",
    "# all 7 direct effect constrained to equality\n",
    "# over groups\n",
    "lynam1 <- lavaan::sem(\n",
    "    lynam.model,\n",
    "    sample.cov = combined.cov,\n",
    "    sample.mean = combined.mean, sample.nobs = combined.n,\n",
    "    group.equal = c(\"regressions\"), fixed.x = FALSE, meanstructure = TRUE\n",
    ")"
   ]
  },
  {
   "cell_type": "code",
   "execution_count": 39,
   "id": "e09c8176",
   "metadata": {
    "vscode": {
     "languageId": "r"
    }
   },
   "outputs": [],
   "source": [
    "# model 2\n",
    "# direct effects constrained to equality over groups\n",
    "# but the constraint on achievement -> delinguency is\n",
    "# released in syntax for \"group.partial\"\n",
    "# so 6 direct effects are constrained over groups\n",
    "\n",
    "lynam2 <- lavaan::sem(\n",
    "    lynam.model,\n",
    "    sample.cov = combined.cov,\n",
    "    sample.mean = combined.mean, sample.nobs = combined.n,\n",
    "    group.equal = c(\"regressions\"), group.partial = c(\"delinq ~ achieve\"),\n",
    "    fixed.x = FALSE, meanstructure = TRUE\n",
    ")"
   ]
  },
  {
   "cell_type": "code",
   "execution_count": 40,
   "id": "1f2aee7b",
   "metadata": {
    "vscode": {
     "languageId": "r"
    }
   },
   "outputs": [],
   "source": [
    "# model 3\n",
    "# retained model\n",
    "# 6 direct effects constrained to equality over groups\n",
    "# achievement -> delinguency is a free parameter in both groups\n",
    "# intercept for achievement constrained to equality\n",
    "\n",
    "lynam3 <- lavaan::sem(lynam.model,\n",
    "    sample.cov = combined.cov,\n",
    "    sample.mean = combined.mean, sample.nobs = combined.n,\n",
    "    group.equal = c(\"regressions\", \"intercepts\"),\n",
    "    group.partial = c(\"delinq ~ achieve\", \"delinq ~ 1\"),\n",
    "    fixed.x = FALSE, meanstructure = TRUE\n",
    ")"
   ]
  },
  {
   "cell_type": "code",
   "execution_count": 41,
   "id": "fdd8974d",
   "metadata": {
    "vscode": {
     "languageId": "r"
    }
   },
   "outputs": [],
   "source": [
    "# model 4\n",
    "# 6 direct effects constrained to equality over groups\n",
    "# achievement -> delinguency is a free parameter in both groups\n",
    "# intercept for deleinquency constrained to equality\n",
    "\n",
    "lynam4 <- lavaan::sem(lynam.model,\n",
    "    sample.cov = combined.cov,\n",
    "    sample.mean = combined.mean, sample.nobs = combined.n,\n",
    "    group.equal = c(\"regressions\", \"intercepts\"),\n",
    "    group.partial = c(\"delinq ~ achieve\", \"achieve ~ 1\"),\n",
    "    fixed.x = FALSE, meanstructure = TRUE\n",
    ")"
   ]
  },
  {
   "cell_type": "markdown",
   "id": "2eecb5ed",
   "metadata": {},
   "source": [
    "Esaminiamo la bontà di adattamento."
   ]
  },
  {
   "cell_type": "code",
   "execution_count": 42,
   "id": "2cc453b8",
   "metadata": {
    "vscode": {
     "languageId": "r"
    }
   },
   "outputs": [
    {
     "name": "stdout",
     "output_type": "stream",
     "text": [
      "         chisq             df         pvalue          rmsea rmsea.ci.lower \n",
      "        11.736          7.000          0.110          0.059          0.000 \n",
      "rmsea.ci.upper            cfi           srmr \n",
      "         0.115          0.975          0.036 \n"
     ]
    }
   ],
   "source": [
    "# global fit statistics\n",
    "lavaan::fitMeasures(lynam1, fit.stats) |> print()"
   ]
  },
  {
   "cell_type": "code",
   "execution_count": 43,
   "id": "32cad246",
   "metadata": {
    "vscode": {
     "languageId": "r"
    }
   },
   "outputs": [
    {
     "name": "stdout",
     "output_type": "stream",
     "text": [
      "         chisq             df         pvalue          rmsea rmsea.ci.lower \n",
      "         6.107          6.000          0.411          0.010          0.000 \n",
      "rmsea.ci.upper            cfi           srmr \n",
      "         0.093          0.999          0.029 \n"
     ]
    }
   ],
   "source": [
    "lavaan::fitMeasures(lynam2, fit.stats) |> print()"
   ]
  },
  {
   "cell_type": "code",
   "execution_count": 44,
   "id": "93af54e1",
   "metadata": {
    "vscode": {
     "languageId": "r"
    }
   },
   "outputs": [
    {
     "name": "stdout",
     "output_type": "stream",
     "text": [
      "         chisq             df         pvalue          rmsea rmsea.ci.lower \n",
      "         6.409          7.000          0.493          0.000          0.000 \n",
      "rmsea.ci.upper            cfi           srmr \n",
      "         0.083          1.000          0.030 \n"
     ]
    }
   ],
   "source": [
    "lavaan::fitMeasures(lynam3, fit.stats) |> print()"
   ]
  },
  {
   "cell_type": "code",
   "execution_count": 45,
   "id": "bf6a7ba3",
   "metadata": {
    "vscode": {
     "languageId": "r"
    }
   },
   "outputs": [
    {
     "name": "stdout",
     "output_type": "stream",
     "text": [
      "         chisq             df         pvalue          rmsea rmsea.ci.lower \n",
      "        10.237          7.000          0.176          0.048          0.000 \n",
      "rmsea.ci.upper            cfi           srmr \n",
      "         0.107          0.983          0.033 \n"
     ]
    }
   ],
   "source": [
    "lavaan::fitMeasures(lynam4, fit.stats) |> print()"
   ]
  },
  {
   "cell_type": "markdown",
   "id": "b72375c9",
   "metadata": {},
   "source": [
    "Eseguiamo il test del rapporto tra verosimiglianze."
   ]
  },
  {
   "cell_type": "code",
   "execution_count": 46,
   "id": "0dc1574b",
   "metadata": {
    "vscode": {
     "languageId": "r"
    }
   },
   "outputs": [
    {
     "data": {
      "text/html": [
       "<table class=\"dataframe\">\n",
       "<caption>A anova: 2 × 8</caption>\n",
       "<thead>\n",
       "\t<tr><th></th><th scope=col>Df</th><th scope=col>AIC</th><th scope=col>BIC</th><th scope=col>Chisq</th><th scope=col>Chisq diff</th><th scope=col>RMSEA</th><th scope=col>Df diff</th><th scope=col>Pr(&gt;Chisq)</th></tr>\n",
       "\t<tr><th></th><th scope=col>&lt;int&gt;</th><th scope=col>&lt;dbl&gt;</th><th scope=col>&lt;dbl&gt;</th><th scope=col>&lt;dbl&gt;</th><th scope=col>&lt;dbl&gt;</th><th scope=col>&lt;dbl&gt;</th><th scope=col>&lt;int&gt;</th><th scope=col>&lt;dbl&gt;</th></tr>\n",
       "</thead>\n",
       "<tbody>\n",
       "\t<tr><th scope=row>lynam2</th><td>6</td><td>9850.196</td><td>9985.478</td><td> 6.107287</td><td>      NA</td><td>       NA</td><td>NA</td><td>        NA</td></tr>\n",
       "\t<tr><th scope=row>lynam1</th><td>7</td><td>9853.825</td><td>9985.128</td><td>11.735711</td><td>5.628424</td><td>0.1530851</td><td> 1</td><td>0.01767152</td></tr>\n",
       "</tbody>\n",
       "</table>\n"
      ],
      "text/latex": [
       "A anova: 2 × 8\n",
       "\\begin{tabular}{r|llllllll}\n",
       "  & Df & AIC & BIC & Chisq & Chisq diff & RMSEA & Df diff & Pr(>Chisq)\\\\\n",
       "  & <int> & <dbl> & <dbl> & <dbl> & <dbl> & <dbl> & <int> & <dbl>\\\\\n",
       "\\hline\n",
       "\tlynam2 & 6 & 9850.196 & 9985.478 &  6.107287 &       NA &        NA & NA &         NA\\\\\n",
       "\tlynam1 & 7 & 9853.825 & 9985.128 & 11.735711 & 5.628424 & 0.1530851 &  1 & 0.01767152\\\\\n",
       "\\end{tabular}\n"
      ],
      "text/markdown": [
       "\n",
       "A anova: 2 × 8\n",
       "\n",
       "| <!--/--> | Df &lt;int&gt; | AIC &lt;dbl&gt; | BIC &lt;dbl&gt; | Chisq &lt;dbl&gt; | Chisq diff &lt;dbl&gt; | RMSEA &lt;dbl&gt; | Df diff &lt;int&gt; | Pr(&gt;Chisq) &lt;dbl&gt; |\n",
       "|---|---|---|---|---|---|---|---|---|\n",
       "| lynam2 | 6 | 9850.196 | 9985.478 |  6.107287 |       NA |        NA | NA |         NA |\n",
       "| lynam1 | 7 | 9853.825 | 9985.128 | 11.735711 | 5.628424 | 0.1530851 |  1 | 0.01767152 |\n",
       "\n"
      ],
      "text/plain": [
       "       Df AIC      BIC      Chisq     Chisq diff RMSEA     Df diff Pr(>Chisq)\n",
       "lynam2 6  9850.196 9985.478  6.107287       NA          NA NA              NA\n",
       "lynam1 7  9853.825 9985.128 11.735711 5.628424   0.1530851  1      0.01767152"
      ]
     },
     "metadata": {},
     "output_type": "display_data"
    }
   ],
   "source": [
    "# chi square difference tests\n",
    "lavaan::anova(lynam1, lynam2)"
   ]
  },
  {
   "cell_type": "code",
   "execution_count": 47,
   "id": "89b240e1",
   "metadata": {
    "vscode": {
     "languageId": "r"
    }
   },
   "outputs": [
    {
     "data": {
      "text/html": [
       "<table class=\"dataframe\">\n",
       "<caption>A anova: 2 × 8</caption>\n",
       "<thead>\n",
       "\t<tr><th></th><th scope=col>Df</th><th scope=col>AIC</th><th scope=col>BIC</th><th scope=col>Chisq</th><th scope=col>Chisq diff</th><th scope=col>RMSEA</th><th scope=col>Df diff</th><th scope=col>Pr(&gt;Chisq)</th></tr>\n",
       "\t<tr><th></th><th scope=col>&lt;int&gt;</th><th scope=col>&lt;dbl&gt;</th><th scope=col>&lt;dbl&gt;</th><th scope=col>&lt;dbl&gt;</th><th scope=col>&lt;dbl&gt;</th><th scope=col>&lt;dbl&gt;</th><th scope=col>&lt;int&gt;</th><th scope=col>&lt;dbl&gt;</th></tr>\n",
       "</thead>\n",
       "<tbody>\n",
       "\t<tr><th scope=row>lynam2</th><td>6</td><td>9850.196</td><td>9985.478</td><td>6.107287</td><td>       NA</td><td>NA</td><td>NA</td><td>       NA</td></tr>\n",
       "\t<tr><th scope=row>lynam3</th><td>7</td><td>9848.498</td><td>9979.801</td><td>6.409026</td><td>0.3017387</td><td> 0</td><td> 1</td><td>0.5827945</td></tr>\n",
       "</tbody>\n",
       "</table>\n"
      ],
      "text/latex": [
       "A anova: 2 × 8\n",
       "\\begin{tabular}{r|llllllll}\n",
       "  & Df & AIC & BIC & Chisq & Chisq diff & RMSEA & Df diff & Pr(>Chisq)\\\\\n",
       "  & <int> & <dbl> & <dbl> & <dbl> & <dbl> & <dbl> & <int> & <dbl>\\\\\n",
       "\\hline\n",
       "\tlynam2 & 6 & 9850.196 & 9985.478 & 6.107287 &        NA & NA & NA &        NA\\\\\n",
       "\tlynam3 & 7 & 9848.498 & 9979.801 & 6.409026 & 0.3017387 &  0 &  1 & 0.5827945\\\\\n",
       "\\end{tabular}\n"
      ],
      "text/markdown": [
       "\n",
       "A anova: 2 × 8\n",
       "\n",
       "| <!--/--> | Df &lt;int&gt; | AIC &lt;dbl&gt; | BIC &lt;dbl&gt; | Chisq &lt;dbl&gt; | Chisq diff &lt;dbl&gt; | RMSEA &lt;dbl&gt; | Df diff &lt;int&gt; | Pr(&gt;Chisq) &lt;dbl&gt; |\n",
       "|---|---|---|---|---|---|---|---|---|\n",
       "| lynam2 | 6 | 9850.196 | 9985.478 | 6.107287 |        NA | NA | NA |        NA |\n",
       "| lynam3 | 7 | 9848.498 | 9979.801 | 6.409026 | 0.3017387 |  0 |  1 | 0.5827945 |\n",
       "\n"
      ],
      "text/plain": [
       "       Df AIC      BIC      Chisq    Chisq diff RMSEA Df diff Pr(>Chisq)\n",
       "lynam2 6  9850.196 9985.478 6.107287        NA  NA    NA             NA \n",
       "lynam3 7  9848.498 9979.801 6.409026 0.3017387   0     1      0.5827945 "
      ]
     },
     "metadata": {},
     "output_type": "display_data"
    }
   ],
   "source": [
    "lavaan::anova(lynam2, lynam3)"
   ]
  },
  {
   "cell_type": "code",
   "execution_count": 48,
   "id": "be402ac9",
   "metadata": {
    "vscode": {
     "languageId": "r"
    }
   },
   "outputs": [
    {
     "data": {
      "text/html": [
       "<table class=\"dataframe\">\n",
       "<caption>A anova: 2 × 8</caption>\n",
       "<thead>\n",
       "\t<tr><th></th><th scope=col>Df</th><th scope=col>AIC</th><th scope=col>BIC</th><th scope=col>Chisq</th><th scope=col>Chisq diff</th><th scope=col>RMSEA</th><th scope=col>Df diff</th><th scope=col>Pr(&gt;Chisq)</th></tr>\n",
       "\t<tr><th></th><th scope=col>&lt;int&gt;</th><th scope=col>&lt;dbl&gt;</th><th scope=col>&lt;dbl&gt;</th><th scope=col>&lt;dbl&gt;</th><th scope=col>&lt;dbl&gt;</th><th scope=col>&lt;dbl&gt;</th><th scope=col>&lt;int&gt;</th><th scope=col>&lt;dbl&gt;</th></tr>\n",
       "</thead>\n",
       "<tbody>\n",
       "\t<tr><th scope=row>lynam2</th><td>6</td><td>9850.196</td><td>9985.478</td><td> 6.107287</td><td>      NA</td><td>       NA</td><td>NA</td><td>        NA</td></tr>\n",
       "\t<tr><th scope=row>lynam4</th><td>7</td><td>9852.326</td><td>9983.629</td><td>10.236768</td><td>4.129481</td><td>0.1258788</td><td> 1</td><td>0.04214226</td></tr>\n",
       "</tbody>\n",
       "</table>\n"
      ],
      "text/latex": [
       "A anova: 2 × 8\n",
       "\\begin{tabular}{r|llllllll}\n",
       "  & Df & AIC & BIC & Chisq & Chisq diff & RMSEA & Df diff & Pr(>Chisq)\\\\\n",
       "  & <int> & <dbl> & <dbl> & <dbl> & <dbl> & <dbl> & <int> & <dbl>\\\\\n",
       "\\hline\n",
       "\tlynam2 & 6 & 9850.196 & 9985.478 &  6.107287 &       NA &        NA & NA &         NA\\\\\n",
       "\tlynam4 & 7 & 9852.326 & 9983.629 & 10.236768 & 4.129481 & 0.1258788 &  1 & 0.04214226\\\\\n",
       "\\end{tabular}\n"
      ],
      "text/markdown": [
       "\n",
       "A anova: 2 × 8\n",
       "\n",
       "| <!--/--> | Df &lt;int&gt; | AIC &lt;dbl&gt; | BIC &lt;dbl&gt; | Chisq &lt;dbl&gt; | Chisq diff &lt;dbl&gt; | RMSEA &lt;dbl&gt; | Df diff &lt;int&gt; | Pr(&gt;Chisq) &lt;dbl&gt; |\n",
       "|---|---|---|---|---|---|---|---|---|\n",
       "| lynam2 | 6 | 9850.196 | 9985.478 |  6.107287 |       NA |        NA | NA |         NA |\n",
       "| lynam4 | 7 | 9852.326 | 9983.629 | 10.236768 | 4.129481 | 0.1258788 |  1 | 0.04214226 |\n",
       "\n"
      ],
      "text/plain": [
       "       Df AIC      BIC      Chisq     Chisq diff RMSEA     Df diff Pr(>Chisq)\n",
       "lynam2 6  9850.196 9985.478  6.107287       NA          NA NA              NA\n",
       "lynam4 7  9852.326 9983.629 10.236768 4.129481   0.1258788  1      0.04214226"
      ]
     },
     "metadata": {},
     "output_type": "display_data"
    }
   ],
   "source": [
    "lavaan::anova(lynam2, lynam4)"
   ]
  },
  {
   "cell_type": "markdown",
   "id": "8cb81315",
   "metadata": {},
   "source": [
    "I risultati finora descritti sono coerenti con l'ipotesi che l'effetto diretto non standardizzato del rendimento sulla delinquenza vari in base all'appartenenza al gruppo. Tuttavia, prima di stabilire una scelta definitiva per questo esempio, consideriamo due modelli aggiuntivi. Queste analisi sono più esplorative poiché i modelli di percorso di Lynam et al. (1993) non avevano strutture di media. Il modello 3, rispetto al modello 2, presenta intercette vincolate all'uguaglianza per il rendimento. Si prevedeva che vincolare questo parametro avrebbe leggermente degradato l'adattamento globale rispetto al modello 2, in cui la stessa intercetta è liberamente stimata in entrambi i gruppi. Questo perché il modello 2 con effetti diretti uguali per le cause del rendimento - SES, sforzo nel test e QI verbale - nei due gruppi è generalmente coerente con i dati. I risultati del modello 3 supportano questa previsione. \n",
    "\n",
    "Poiché l'intercetta per il rendimento è ugualmente vincolata nel modello 3, la sua intera struttura di media non è più solo identificata; specificamente, ha gradi di libertà (df) = 1, quindi non tutte le medie previste per le variabili endogene, rendimento e delinquenza, corrisponderanno esattamente alle loro controparti osservate. I residui delle medie per le variabili esogene - SES, sforzo nel test e QI verbale - saranno tutti uguali a zero poiché nessun vincolo ha influenzato le loro medie previste. Il modello 3 prevede quindi accuratamente covarianze e medie in entrambi i gruppi, quindi viene mantenuto.\n",
    "\n",
    "Nel modello 4, l'intercetta per la regressione della delinquenza su SES, sforzo nel test, QI verbale e rendimento è vincolata all'uguaglianza nei gruppi più tutti gli effetti diretti eccetto quello del rendimento sulla delinquenza, che è liberamente stimato in entrambi i campioni. Poiché l'effetto diretto appena menzionato contribuisce all'intercetta per la delinquenza, si prevedeva che vincolare l'intercetta appena menzionata all'uguaglianza avrebbe peggiorato notevolmente l'adattamento rispetto al modello 2. Questa previsione è coerente con i risultati; in particolare, sebbene il modello 4 superi il test chi-quadrato, il suo adattamento è relativamente peggiore rispetto a quello del modello 2. Anche i residui per il modello 4 sono simili a quelli del modello 1; cioè, insoddisfacenti. Pertanto, il modello 4 viene rifiutato."
   ]
  }
 ],
 "metadata": {
  "jupytext": {
   "cell_metadata_filter": "tags,eval,-all",
   "main_language": "R",
   "notebook_metadata_filter": "-all"
  },
  "kernelspec": {
   "display_name": "R",
   "language": "R",
   "name": "ir"
  },
  "language_info": {
   "codemirror_mode": "r",
   "file_extension": ".r",
   "mimetype": "text/x-r-source",
   "name": "R",
   "pygments_lexer": "r",
   "version": "4.3.1"
  }
 },
 "nbformat": 4,
 "nbformat_minor": 5
}