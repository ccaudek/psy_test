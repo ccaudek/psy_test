{
 "cells": [
  {
   "cell_type": "markdown",
   "metadata": {},
   "source": [
    "(models-comparison-notebook)=\n",
    "# Confronto tra modelli"
   ]
  },
  {
   "cell_type": "markdown",
   "metadata": {},
   "source": [
    "I ricercatori spesso confrontano modelli alternativi di equazioni strutturali che includono le stesse variabili e sono adattati agli stessi dati. Il contesto più frequente si verifica quando un singolo modello iniziale viene testato attraverso una serie di passaggi. Ad ogni passaggio, il modello iniziale viene ridefinito aggiungendo uno o più parametri liberi, il che generalmente migliora l'adattamento, oppure eliminando (fissando a zero) uno o più parametri liberi, il che generalmente peggiora l'adattamento. Una coppia di modelli alternativi così specificata viene definita \"modelli nidificati\", poiché il modello più semplice dei due, o modello vincolato, è un sottoinsieme proprio del modello più complesso, o modello non vincolato. Un contesto diverso si verifica quando ci sono due o più modelli iniziali tali che (1) ogni modello si basa su una teoria diversa e (2) i modelli alternativi non sono nidificati nella loro relazione l'uno con l'altro. In entrambi i contesti, la scelta tra modelli concorrenti dovrebbe essere guidata tanto da basi concettuali quanto da considerazioni statistiche."
   ]
  },
  {
   "cell_type": "code",
   "execution_count": 1,
   "metadata": {
    "vscode": {
     "languageId": "r"
    }
   },
   "outputs": [
    {
     "name": "stderr",
     "output_type": "stream",
     "text": [
      "Warning message in file(filename, \"r\", encoding = encoding):\n",
      "“non è possibile aprire il file '_common.R': No such file or directory”\n"
     ]
    },
    {
     "ename": "ERROR",
     "evalue": "Error in file(filename, \"r\", encoding = encoding): non è possibile aprire la connessione\n",
     "output_type": "error",
     "traceback": [
      "Error in file(filename, \"r\", encoding = encoding): non è possibile aprire la connessione\nTraceback:\n",
      "1. source(\"_common.R\")",
      "2. file(filename, \"r\", encoding = encoding)"
     ]
    }
   ],
   "source": [
    "source(\"_common.R\")\n",
    "suppressPackageStartupMessages({\n",
    "    library(\"lavaan\")\n",
    "    library(\"lavaanExtra\")\n",
    "    library(\"lavaanPlot\")\n",
    "    library(\"psych\")\n",
    "    library(\"dplyr\") \n",
    "    library(\"tidyr\")\n",
    "    library(\"knitr\")\n",
    "    library(\"mvnormalTest\")\n",
    "    library(\"semPlot\")\n",
    "    library(\"DiagrammeRsvg\")\n",
    "    library(\"rsvg\")\n",
    "    library(\"effectsize\")\n",
    "})\n",
    "\n",
    "set.seed(42)"
   ]
  },
  {
   "cell_type": "markdown",
   "metadata": {},
   "source": [
    "## Confrontare Modelli nel SEM\n",
    "\n",
    "Nel contesto dei Modelli di Equazioni Strutturali (SEM), un aspetto critico è il confronto tra diversi modelli per determinare quale sia il più adeguato. Questo confronto si presenta frequentemente nella forma di analisi di modelli nidificati. In tale contesto, si confronta un modello considerato \"pieno\" o \"meno restrittivo\" con un altro modello che è \"ridotto\" o \"più restrittivo\". \n",
    "\n",
    "Il modello pieno include un insieme più ampio di parametri e ipotesi, offrendo una rappresentazione più complessa delle relazioni tra le variabili. Al contrario, il modello ridotto è una versione più semplificata, con meno parametri e ipotesi, risultando in una struttura più contenuta e potenzialmente più parsimoniosa. \n",
    "\n",
    "Questo tipo di confronto è cruciale per valutare l'adeguatezza dei modelli SEM, permettendo ai ricercatori di decidere se la complessità aggiuntiva del modello pieno sia giustificata rispetto al modello ridotto in termini di adattamento ai dati e coerenza con la teoria sottostante.\n",
    "\n",
    "### Analisi dei Modelli Nidificati \n",
    "\n",
    "Nell'ambito dei Modelli di Equazioni Strutturali (SEM), i modelli nidificati occupano un ruolo centrale. Due modelli sono definiti come nidificati quando soddisfano specifici criteri gerarchici, delineati come segue:\n",
    "\n",
    "1. **Formazione del Modello Vincolato:**\n",
    "   - Si crea un modello vincolato applicando una o più restrizioni a un modello non vincolato esistente. Questo processo aumenta i gradi di libertà del modello vincolato (C) rispetto a quelli del modello non vincolato (U), risultando in $ \\text{df}_C > \\text{df}_U $.\n",
    "\n",
    "2. **Differenze nei Gradi di Libertà:**\n",
    "   - La differenza $ \\text{df}_C - \\text{df}_U $ rappresenta il numero di restrizioni imposte al modello non vincolato per creare il modello vincolato, che equivale alla variazione nel numero di parametri liberi tra i due modelli.\n",
    "\n",
    "3. **Parametri Liberi e Vincolati:**\n",
    "   - I parametri liberi nel modello vincolato costituiscono un sottoinsieme di quelli presenti nel modello non vincolato. Allo stesso modo, i parametri fissi nel modello non vincolato formano un sottoinsieme di quelli nel modello vincolato.\n",
    "\n",
    "4. **Confronto dei Valori di Chi-Quadro:**\n",
    "   - Tra i due modelli, il valore di $ \\chi^2 $ è minore o uguale nel modello non vincolato rispetto a quello nel modello vincolato, ovvero $ \\chi^2_U \\leq \\chi^2_C $. Questo implica che le distribuzioni di probabilità possibili nel modello vincolato sono comprese anche nel modello non vincolato, che può tuttavia suggerire ulteriori distribuzioni non coerenti con il modello vincolato.\n",
    "\n",
    "Questo tipo di relazione gerarchica, conosciuta come annidamento dei parametri, permette di valutare l'impatto di specifiche restrizioni o aggiunte di parametri. Ad esempio, un parametro libero in un modello non vincolato può essere fissato a zero, eliminando di conseguenza l'effetto corrispondente nel modello vincolato, oppure può essere sottoposto a un vincolo specificato dal ricercatore, riducendo così il numero di parametri liberi ma mantenendo l'effetto nel modello vincolato.\n",
    "\n",
    "Consideriamo, per esempio, un modello di percorso non vincolato U con effetti diretti:\n",
    "$ X \\rightarrow Y_1 \\rightarrow Y_2 $ e $ X \\rightarrow Y_2 $.\n",
    "Ridefinendo il percorso $ X \\rightarrow Y_2 = 0 $, eliminiamo questa connessione dal modello U, generando così il modello vincolato C1, nidificato sotto U. Un'alternativa potrebbe essere imporre un vincolo di uguaglianza tra $ X \\rightarrow Y_2 $ e $ Y_1 \\rightarrow Y_2 $, indicando che gli effetti diretti non standardizzati di X e Y1 su Y2 sono identici. Questo produce un modello vincolato, C2, con un parametro libero in meno rispetto a U ma che include tutti i percorsi di U.\n",
    "\n",
    "Nelle prossime sezioni, esamineremo come testare le ipotesi inerenti a questi modelli nidificati e come valutare la loro adeguatezza nel contesto SEM.\n",
    "\n",
    "### Strategie di Costruzione e Potatura nei Modelli SEM\n",
    "\n",
    "#### Costruzione Progressiva del Modello\n",
    "La costruzione di modelli SEM inizia tipicamente con un modello iniziale semplice e vincolato, che riflette le ipotesi fondamentali basate su teorie sostanziali. Questo approccio, detto anche ricerca in avanti, implica l'aggiunta progressiva di parametri liberi che rappresentano ipotesi precedentemente escluse, in base alla loro importanza. Sebbene questo processo possa generalmente migliorare l'adattamento del modello (riduzione di chiML), un adattamento migliore non è necessariamente indicativo di una maggiore correttezza del modello. La costruzione del modello può teoricamente proseguire fino a quando non si raggiunge un modello perfettamente adatto ai dati (dfM = 0), ma è essenziale valutare la validità teorica e la parsimonia del modello in ogni passaggio.\n",
    "\n",
    "#### Potatura Retrograda del Modello\n",
    "In contrasto, la potatura del modello, o ricerca all'indietro, inizia con un modello più complesso e non vincolato. In questa fase, il ricercatore semplifica il modello eliminando parametri liberi (fissandoli a zero) o imponendo vincoli di stima. Questo processo richiede di dare priorità alle ipotesi in ordine inverso di importanza. Il modello iniziale dovrebbe essere congruente con i dati, altrimenti non ha senso restringerlo ulteriormente. Tipicamente, come si procede con la potatura, l'adattamento complessivo del modello ai dati tende a peggiorare (aumento di chiML). Il criterio per arrestare la potatura si basa sull'adattamento del modello: si ferma quando ulteriori restrizioni peggiorerebbero significativamente l'adattamento ai dati.\n",
    "\n",
    "#### Obiettivi e Considerazioni\n",
    "L'obiettivo sia nella costruzione che nella potatura di modelli è identificare un modello con una struttura di covarianza (e, se presente, anche di media) correttamente specificata e teoricamente giustificata. Idealmente, entrambi gli approcci dovrebbero convergere verso lo stesso modello ottimale, benché ciò non sia garantito. È importante evitare il rischio di formulare ipotesi post hoc (HARKing), presentando modelli scoperti in modo esplorativo come se fossero stati ipotizzati a priori. Una soluzione a questo problema è la preregistrazione del piano di analisi.\n",
    "\n",
    "#### Punti di Forza Relativi\n",
    "1. **Costruzione del Modello:** Partire da un modello più semplice può essere vantaggioso, soprattutto per i neofiti del SEM, poiché facilita l'identificazione statistica e riduce il rischio di errori nella specificazione del modello.\n",
    "2. **Potatura del Modello:** Questo approccio può essere particolarmente efficace per i modelli di misurazione, dove le variabili osservate sono usate come indicatori di un numero limitato di fattori comuni. Un modello di misurazione correttamente specificato inizialmente può rendere la potatura più efficace rispetto alla costruzione.\n",
    "\n",
    "In entrambi i casi, è cruciale basare le decisioni su solide basi teoriche oltre che su considerazioni statistiche, per assicurare che il modello finale sia non solo adatto ai dati ma anche coerente con il quadro teorico sottostante.\n",
    "\n",
    "### Strategie di Ridefinizione dei Modelli SEM: Approcci Teorici ed Empirici\n",
    "\n",
    "#### Approccio Teorico nella Ridefinizione dei Modelli\n",
    "Nel processo di costruzione o potatura dei Modelli di Equazioni Strutturali (SEM), l'approccio teorico gioca un ruolo fondamentale. Qui, le modifiche al modello sono guidate da ipotesi teoriche predefinite e specifiche. Ad esempio, considerando un modello di percorso non vincolato U con le relazioni $X \\rightarrow Y_1 \\rightarrow Y_2$ e $X \\rightarrow Y_2$, un ricercatore potrebbe ipotizzare che l'effetto di X su Y2 sia esclusivamente indiretto attraverso Y1. Questa ipotesi può essere testata vincolando il coefficiente di $X \\rightarrow Y_2$ a zero. Se l'adattamento del modello così modificato non è significativamente inferiore rispetto al modello non vincolato, l'ipotesi di un effetto indiretto viene supportata, a patto che la direzionalità delle relazioni sia corretta.\n",
    "\n",
    "Questo approccio enfatizza che le modifiche al modello dovrebbero essere effettuate sulla base di solide basi teoriche e concettuali, piuttosto che su criteri puramente statistici, come evidenziato da Jöreskog (1969): \"La decisione di smettere di aggiungere parametri non può basarsi solo su una base statistica; ciò dipende in gran parte dall'interpretazione dei dati da parte del ricercatore, basata su considerazioni teoriche e concettuali sostanziali.\"\n",
    "\n",
    "#### Approccio Empirico nella Ridefinizione dei Modelli\n",
    "Al contrario, l'approccio empirico nella costruzione o potatura dei modelli SEM si basa su criteri statistici. In questo scenario, i parametri liberi vengono aggiunti o eliminati a seconda della loro significatività statistica o di altri indicatori empirici. Per esempio, se i percorsi sono eliminati solo perché i loro coefficienti non sono statisticamente significativi, la ridefinizione del modello è guidata da considerazioni puramente empiriche. Questo approccio è analogo alla tecnica di eliminazione all'indietro nella regressione multipla, dove il software sceglie quali predittori rimuovere in base a criteri di significatività statistica.\n",
    "\n",
    "#### Implicazioni per l'Interpretazione dei Modelli\n",
    "La scelta tra un approccio teorico o empirico nella ridefinizione dei modelli SEM ha implicazioni significative per come interpretiamo i risultati. Un modello modificato in base a criteri teorici forti offre una maggiore fiducia nella validità delle sue conclusioni, mentre un modello costruito o potato basandosi principalmente su criteri empirici può essere soggetto a errori di Tipo I o II e può non essere replicabile in campioni diversi.\n",
    "\n",
    "È fondamentale che i ricercatori si avvicinino alla costruzione e alla potatura dei modelli SEM con un equilibrio tra intuizioni teoriche e risultati empirici, per assicurare che i modelli finali siano non solo statisticamente validi ma anche teoricamente giustificati e interpretativamente significativi.\n",
    "\n",
    "### Test della Differenza Chi-Quadro nel SEM\n",
    "\n",
    "#### Principi Fondamentali\n",
    "Il test della differenza Chi-Quadro (chiD) è una tecnica statistica essenziale nel contesto dei Modelli di Equazioni Strutturali (SEM) per valutare l'effetto delle modifiche ai parametri sui modelli. Questo test viene utilizzato sia nella potatura (restrizione dei parametri) che nella costruzione (aggiunta di parametri) dei modelli. Il valore chiD rappresenta la differenza tra i valori di chi-quadro (chi-quadro massima verosimiglianza, chiML) di due modelli nidificati. I gradi di libertà associati, dfD, sono determinati dalla differenza nei gradi di libertà dei due modelli ($ \\text{df}_C - \\text{df}_U $).\n",
    "\n",
    "#### Applicazione del Test\n",
    "Per applicare il test della differenza chi-quadro, si seguono questi passaggi:\n",
    "1. **Definizione dei Modelli:** Identificare il modello pieno (con tutti i parametri ritenuti rilevanti) e il modello ridotto (una versione semplificata del modello pieno con alcune restrizioni).\n",
    "2. **Stima dei Modelli:** Utilizzare metodi di massima verosimiglianza per stimare entrambi i modelli.\n",
    "3. **Calcolo del Rapporto di Verosimiglianze:** Calcolare la differenza tra i logaritmi delle funzioni di verosimiglianza dei due modelli ($ D = -2(\\ln(L_r) - \\ln(L_f)) $).\n",
    "4. **Test Statistico:** Utilizzare la distribuzione chi-quadrato per determinare il p-value. Un p-value basso indica che il modello ridotto non si adatta ai dati così come il modello pieno.\n",
    "\n",
    "#### Interpretazione dei Risultati\n",
    "Un valore piccolo di chiD suggerisce che non c'è una differenza significativa nell'adattamento tra i due modelli, mentre un valore grande indica una differenza significativa. In termini di potatura, un grande chiD implica che il modello è stato eccessivamente vincolato. Nella costruzione, un grande chiD supporta la conservazione del parametro libero aggiunto. Tuttavia, prima di trarre conclusioni definitive, è cruciale considerare l'adattamento complessivo del modello, sia a livello globale che locale.\n",
    "\n",
    "#### Considerazioni nella Stima ML Robusta\n",
    "Nel caso di stima ML robusta, la differenza tra i chi-quadri scalati non può essere interpretata come un test dell'ipotesi di adattamento uguale a causa delle distribuzioni non centrali in condizioni di non normalità. Sono disponibili metodi specifici per calcolare una statistica di differenza chi-quadro scalata che segue approssimativamente le distribuzioni chi-quadro.\n",
    "\n",
    "#### Implicazioni Teoriche ed Empiriche\n",
    "La decisione di modificare un modello basandosi su un approccio teorico o empirico ha implicazioni significative. Ad esempio, l'eliminazione di percorsi non significativi su base puramente statistica può portare a conclusioni errate se non supportate da una solida base teorica. Inoltre, è importante essere consapevoli dei rischi associati alla capitalizzazione sul caso, come errori di Tipo I e II, e del pericolo di seguire \"sentieri che si biforcano\" nelle decisioni analitiche, che possono rendere i risultati specifici del campione e difficili da replicare. Per mitigare questi rischi, è consigliabile basare le modifiche del modello più su orientamenti teorici che sui risultati dei test di significatività."
   ]
  },
  {
   "cell_type": "markdown",
   "metadata": {},
   "source": [
    "### Test della Differenza Chi-Quadro Scalato\n",
    "\n",
    "Il metodo di Satorra e Bentler (2001) permette di calcolare manualmente una statistica di differenza chi-quadro scalata quando si confrontano due modelli gerarchici nella stima ML robusta. Si presume che il modello 1 sia più vincolato rispetto al modello 2 (cioè, dfM1 > dfM2), i chi-quadri non scalati siano chiML e i chi-quadri scalati siano chiSB. La statistica di test Satorra-Bentler è definita come segue:\n",
    "1. **Calcolare la Statistica di Differenza Chi-Quadro non Scalata e i suoi Gradi di Libertà:** \n",
    "   - chiD = chiML1 - chiML2 e dfD = dfM1 - dfM2.\n",
    "2. **Recuperare il Fattore di Correzione di Scala, c, per Ogni Modello:**\n",
    "   - c1 = chiML1 / chiSB1 e c2 = chiML2 / chiSB2.\n",
    "3. **Calcolare la Statistica di Differenza Chi-Quadro Scalata, chiSD:**\n",
    "   - chiSD = chiD / ((c1 / dfM1 - c2 / dfM2) / dfD).\n",
    "   - La probabilità per chiSD (dfD) in una distribuzione chi-quadro centrale rappresenta il p-value per il test di differenza chi-quadro scalato.\n",
    "\n",
    "In campioni piccoli o quando il modello più vincolato è molto errato, il denominatore di chiSD può essere < 0, invalidando il test. Questo test è implementato nella funzione `lavTestLRT()` in `lavaan` (Rosseel et al., 2023)."
   ]
  },
  {
   "cell_type": "markdown",
   "metadata": {},
   "source": [
    "## Esempio\n",
    "\n",
    "Consideriamo nuovamente i dati discussi da {cite:t}`brown2015confirmatory` relativi al modello di misurazione per la depressione maggiore così come è definita nel DSM-IV. Ignoriamo qui le differenze di genere -- si veda il Capitolo {ref}`factorial-invariance-notebook`. Leggiamo i dati in $\\mathsf{R}$:"
   ]
  },
  {
   "cell_type": "code",
   "execution_count": 3,
   "metadata": {
    "vscode": {
     "languageId": "r"
    }
   },
   "outputs": [],
   "source": [
    "d_mdd <- readRDS(\n",
    "    here::here(\"data\", \"mdd_sex.RDS\")\n",
    ")"
   ]
  },
  {
   "cell_type": "markdown",
   "metadata": {},
   "source": [
    "Consideriamo il seguente modello:"
   ]
  },
  {
   "cell_type": "code",
   "execution_count": 4,
   "metadata": {
    "vscode": {
     "languageId": "r"
    }
   },
   "outputs": [],
   "source": [
    "model_mdd <- \"\n",
    "  MDD =~ mdd1 + mdd2 + mdd3 + mdd4 + mdd5 + mdd6 + mdd7 + mdd8 + mdd9\n",
    "\""
   ]
  },
  {
   "cell_type": "markdown",
   "metadata": {},
   "source": [
    "Adattiamo il modello ai dati."
   ]
  },
  {
   "cell_type": "code",
   "execution_count": 5,
   "metadata": {
    "vscode": {
     "languageId": "r"
    }
   },
   "outputs": [],
   "source": [
    "fit_mdd <- cfa(\n",
    "    model_mdd,\n",
    "    data = d_mdd\n",
    ")"
   ]
  },
  {
   "cell_type": "code",
   "execution_count": 6,
   "metadata": {
    "vscode": {
     "languageId": "r"
    }
   },
   "outputs": [
    {
     "data": {
      "image/png": "[encoded data removed]",
      "text/plain": [
       "plot without title"
      ]
     },
     "metadata": {
      "image/png": {
       "height": 420,
       "width": 420
      }
     },
     "output_type": "display_data"
    }
   ],
   "source": [
    "semPaths(fit_mdd,\n",
    "    whatLabels = \"std\",\n",
    "    sizeMan = 10,\n",
    "    edge.label.cex = 1.15,\n",
    "    style = \"ram\",\n",
    "    nCharNodes = 0, nCharEdges = 0\n",
    ")"
   ]
  },
  {
   "cell_type": "code",
   "execution_count": 7,
   "metadata": {
    "vscode": {
     "languageId": "r"
    }
   },
   "outputs": [
    {
     "name": "stdout",
     "output_type": "stream",
     "text": [
      "                 npar                  fmin                 chisq \n",
      "               18.000                 0.074               110.272 \n",
      "                   df                pvalue        baseline.chisq \n",
      "               27.000                 0.000              1297.618 \n",
      "          baseline.df       baseline.pvalue                   cfi \n",
      "               36.000                 0.000                 0.934 \n",
      "                  tli                  nnfi                   rfi \n",
      "                0.912                 0.912                 0.887 \n",
      "                  nfi                  pnfi                   ifi \n",
      "                0.915                 0.686                 0.934 \n",
      "                  rni                  logl     unrestricted.logl \n",
      "                0.934            -13747.192            -13692.056 \n",
      "                  aic                   bic                ntotal \n",
      "            27530.385             27613.546               750.000 \n",
      "                 bic2                 rmsea        rmsea.ci.lower \n",
      "            27556.389                 0.064                 0.052 \n",
      "       rmsea.ci.upper        rmsea.ci.level          rmsea.pvalue \n",
      "                0.077                 0.900                 0.029 \n",
      "       rmsea.close.h0 rmsea.notclose.pvalue     rmsea.notclose.h0 \n",
      "                0.050                 0.019                 0.080 \n",
      "                  rmr            rmr_nomean                  srmr \n",
      "                0.191                 0.191                 0.044 \n",
      "         srmr_bentler   srmr_bentler_nomean                  crmr \n",
      "                0.044                 0.044                 0.050 \n",
      "          crmr_nomean            srmr_mplus     srmr_mplus_nomean \n",
      "                0.050                 0.044                 0.044 \n",
      "                cn_05                 cn_01                   gfi \n",
      "              273.824               320.411                 0.964 \n",
      "                 agfi                  pgfi                   mfi \n",
      "                0.940                 0.578                 0.946 \n",
      "                 ecvi \n",
      "                0.195 \n"
     ]
    }
   ],
   "source": [
    "fitMeasures(fit_mdd) |>\n",
    "    print()"
   ]
  },
  {
   "cell_type": "markdown",
   "metadata": {},
   "source": [
    "Gli indici Comparative Fit Index (CFI) = 0.934 e Tucker-Lewis Index (TLI) = 0.912 sono superiori a 0.9, dunque sono almeno sufficienti per gli standard correnti. L'indice RMSEA = 0.064 è appena superiore alla soglia di 0.06. L'indice SRMR = 0.044 è inferiore alla soglia 0.05. Dunque, complessivamente, il modello sembra adeguato.\n",
    "\n",
    "Adattiamo ora il modello con la modifica proposta da {cite:t}`brown2015confirmatory`, ovvero"
   ]
  },
  {
   "cell_type": "code",
   "execution_count": 8,
   "metadata": {
    "vscode": {
     "languageId": "r"
    }
   },
   "outputs": [],
   "source": [
    "model2_mdd <- \"\n",
    "  MDD =~ mdd1 + mdd2 + mdd3 + mdd4 + mdd5 + mdd6 + mdd7 + mdd8 +  mdd9\n",
    "  mdd1 ~~ mdd2\n",
    "\"\n",
    "\n",
    "fit2_mdd <- cfa(\n",
    "    model2_mdd,\n",
    "    data = d_mdd\n",
    ")"
   ]
  },
  {
   "cell_type": "markdown",
   "metadata": {},
   "source": [
    "Eseguiamo il test del rapporto di verosimiglianze:"
   ]
  },
  {
   "cell_type": "code",
   "execution_count": 10,
   "metadata": {
    "vscode": {
     "languageId": "r"
    }
   },
   "outputs": [
    {
     "data": {
      "text/html": [
       "<table class=\"dataframe\">\n",
       "<caption>A anova: 2 x 8</caption>\n",
       "<thead>\n",
       "\t<tr><th></th><th scope=col>Df</th><th scope=col>AIC</th><th scope=col>BIC</th><th scope=col>Chisq</th><th scope=col>Chisq diff</th><th scope=col>RMSEA</th><th scope=col>Df diff</th><th scope=col>Pr(&gt;Chisq)</th></tr>\n",
       "\t<tr><th></th><th scope=col>&lt;int&gt;</th><th scope=col>&lt;dbl&gt;</th><th scope=col>&lt;dbl&gt;</th><th scope=col>&lt;dbl&gt;</th><th scope=col>&lt;dbl&gt;</th><th scope=col>&lt;dbl&gt;</th><th scope=col>&lt;int&gt;</th><th scope=col>&lt;dbl&gt;</th></tr>\n",
       "</thead>\n",
       "<tbody>\n",
       "\t<tr><th scope=row>fit2_mdd</th><td>26</td><td>27489.67</td><td>27577.45</td><td> 67.55856</td><td>      NA</td><td>       NA</td><td>NA</td><td>          NA</td></tr>\n",
       "\t<tr><th scope=row>fit_mdd</th><td>27</td><td>27530.38</td><td>27613.55</td><td>110.27242</td><td>42.71385</td><td>0.2358357</td><td> 1</td><td>6.336194e-11</td></tr>\n",
       "</tbody>\n",
       "</table>\n"
      ],
      "text/latex": [
       "A anova: 2 x 8\n",
       "\\begin{tabular}{r|llllllll}\n",
       "  & Df & AIC & BIC & Chisq & Chisq diff & RMSEA & Df diff & Pr(>Chisq)\\\\\n",
       "  & <int> & <dbl> & <dbl> & <dbl> & <dbl> & <dbl> & <int> & <dbl>\\\\\n",
       "\\hline\n",
       "\tfit2\\_mdd & 26 & 27489.67 & 27577.45 &  67.55856 &       NA &        NA & NA &           NA\\\\\n",
       "\tfit\\_mdd & 27 & 27530.38 & 27613.55 & 110.27242 & 42.71385 & 0.2358357 &  1 & 6.336194e-11\\\\\n",
       "\\end{tabular}\n"
      ],
      "text/markdown": [
       "\n",
       "A anova: 2 x 8\n",
       "\n",
       "| <!--/--> | Df &lt;int&gt; | AIC &lt;dbl&gt; | BIC &lt;dbl&gt; | Chisq &lt;dbl&gt; | Chisq diff &lt;dbl&gt; | RMSEA &lt;dbl&gt; | Df diff &lt;int&gt; | Pr(&gt;Chisq) &lt;dbl&gt; |\n",
       "|---|---|---|---|---|---|---|---|---|\n",
       "| fit2_mdd | 26 | 27489.67 | 27577.45 |  67.55856 |       NA |        NA | NA |           NA |\n",
       "| fit_mdd | 27 | 27530.38 | 27613.55 | 110.27242 | 42.71385 | 0.2358357 |  1 | 6.336194e-11 |\n",
       "\n"
      ],
      "text/plain": [
       "         Df AIC      BIC      Chisq     Chisq diff RMSEA     Df diff\n",
       "fit2_mdd 26 27489.67 27577.45  67.55856       NA          NA NA     \n",
       "fit_mdd  27 27530.38 27613.55 110.27242 42.71385   0.2358357  1     \n",
       "         Pr(>Chisq)  \n",
       "fit2_mdd           NA\n",
       "fit_mdd  6.336194e-11"
      ]
     },
     "metadata": {},
     "output_type": "display_data"
    }
   ],
   "source": [
    "lavTestLRT(fit_mdd, fit2_mdd)"
   ]
  },
  {
   "cell_type": "markdown",
   "metadata": {},
   "source": [
    "Il test indica che il modello alternativo si adatta meglio ai dati del modello originale.\n",
    "\n",
    "Esaminiamo gli indici di bontà di adattamento."
   ]
  },
  {
   "cell_type": "code",
   "execution_count": 11,
   "metadata": {
    "vscode": {
     "languageId": "r"
    }
   },
   "outputs": [
    {
     "data": {
      "text/html": [
       "<table class=\"dataframe\">\n",
       "<caption>A data.frame: 10 x 4</caption>\n",
       "<thead>\n",
       "\t<tr><th scope=col>Name</th><th scope=col>Value</th><th scope=col>Threshold</th><th scope=col>Interpretation</th></tr>\n",
       "\t<tr><th scope=col>&lt;chr&gt;</th><th scope=col>&lt;dbl&gt;</th><th scope=col>&lt;dbl&gt;</th><th scope=col>&lt;effctsz_&gt;</th></tr>\n",
       "</thead>\n",
       "<tbody>\n",
       "\t<tr><td>GFI  </td><td>0.97807123</td><td>0.95</td><td>satisfactory</td></tr>\n",
       "\t<tr><td>AGFI </td><td>0.96204635</td><td>0.90</td><td>satisfactory</td></tr>\n",
       "\t<tr><td>NFI  </td><td>0.94793648</td><td>0.90</td><td>satisfactory</td></tr>\n",
       "\t<tr><td>NNFI </td><td>0.95438982</td><td>0.90</td><td>satisfactory</td></tr>\n",
       "\t<tr><td>CFI  </td><td>0.96705932</td><td>0.90</td><td>satisfactory</td></tr>\n",
       "\t<tr><td>RMSEA</td><td>0.04616501</td><td>0.05</td><td>satisfactory</td></tr>\n",
       "\t<tr><td>SRMR </td><td>0.03675390</td><td>0.08</td><td>satisfactory</td></tr>\n",
       "\t<tr><td>RFI  </td><td>0.92791205</td><td>0.90</td><td>satisfactory</td></tr>\n",
       "\t<tr><td>PNFI </td><td>0.68462079</td><td>0.50</td><td>satisfactory</td></tr>\n",
       "\t<tr><td>IFI  </td><td>0.96731836</td><td>0.90</td><td>satisfactory</td></tr>\n",
       "</tbody>\n",
       "</table>\n"
      ],
      "text/latex": [
       "A data.frame: 10 x 4\n",
       "\\begin{tabular}{llll}\n",
       " Name & Value & Threshold & Interpretation\\\\\n",
       " <chr> & <dbl> & <dbl> & <effctsz\\_>\\\\\n",
       "\\hline\n",
       "\t GFI   & 0.97807123 & 0.95 & satisfactory\\\\\n",
       "\t AGFI  & 0.96204635 & 0.90 & satisfactory\\\\\n",
       "\t NFI   & 0.94793648 & 0.90 & satisfactory\\\\\n",
       "\t NNFI  & 0.95438982 & 0.90 & satisfactory\\\\\n",
       "\t CFI   & 0.96705932 & 0.90 & satisfactory\\\\\n",
       "\t RMSEA & 0.04616501 & 0.05 & satisfactory\\\\\n",
       "\t SRMR  & 0.03675390 & 0.08 & satisfactory\\\\\n",
       "\t RFI   & 0.92791205 & 0.90 & satisfactory\\\\\n",
       "\t PNFI  & 0.68462079 & 0.50 & satisfactory\\\\\n",
       "\t IFI   & 0.96731836 & 0.90 & satisfactory\\\\\n",
       "\\end{tabular}\n"
      ],
      "text/markdown": [
       "\n",
       "A data.frame: 10 x 4\n",
       "\n",
       "| Name &lt;chr&gt; | Value &lt;dbl&gt; | Threshold &lt;dbl&gt; | Interpretation &lt;effctsz_&gt; |\n",
       "|---|---|---|---|\n",
       "| GFI   | 0.97807123 | 0.95 | satisfactory |\n",
       "| AGFI  | 0.96204635 | 0.90 | satisfactory |\n",
       "| NFI   | 0.94793648 | 0.90 | satisfactory |\n",
       "| NNFI  | 0.95438982 | 0.90 | satisfactory |\n",
       "| CFI   | 0.96705932 | 0.90 | satisfactory |\n",
       "| RMSEA | 0.04616501 | 0.05 | satisfactory |\n",
       "| SRMR  | 0.03675390 | 0.08 | satisfactory |\n",
       "| RFI   | 0.92791205 | 0.90 | satisfactory |\n",
       "| PNFI  | 0.68462079 | 0.50 | satisfactory |\n",
       "| IFI   | 0.96731836 | 0.90 | satisfactory |\n",
       "\n"
      ],
      "text/plain": [
       "   Name  Value      Threshold Interpretation\n",
       "1  GFI   0.97807123 0.95      satisfactory  \n",
       "2  AGFI  0.96204635 0.90      satisfactory  \n",
       "3  NFI   0.94793648 0.90      satisfactory  \n",
       "4  NNFI  0.95438982 0.90      satisfactory  \n",
       "5  CFI   0.96705932 0.90      satisfactory  \n",
       "6  RMSEA 0.04616501 0.05      satisfactory  \n",
       "7  SRMR  0.03675390 0.08      satisfactory  \n",
       "8  RFI   0.92791205 0.90      satisfactory  \n",
       "9  PNFI  0.68462079 0.50      satisfactory  \n",
       "10 IFI   0.96731836 0.90      satisfactory  "
      ]
     },
     "metadata": {},
     "output_type": "display_data"
    }
   ],
   "source": [
    "effectsize::interpret(fit2_mdd)"
   ]
  },
  {
   "cell_type": "markdown",
   "metadata": {},
   "source": [
    "Gli indici Comparative Fit Index (CFI) = 0.967 e Tucker-Lewis Index (TLI) = 0.954 sono superiori a 0.95. L'indice RMSEA = 0.046. L'indice SRMR = 0.037. \n",
    "\n",
    "Il \"costo\" che si paga per questo miglioramento dell'adattamento è che indici di adattamento così buoni, probabilmente, non si replicheranno in un altro campione di dati, a meno che venga introdotto un qualche altro aggiustamento che, sicuramente, sarà diverso da quello usato nel campione corrente. Personalmente, non avrei introdotto il \"miglioramento\" proposto da {cite:t}`brown2015confirmatory` in quanto, anche senza un tale aggiustamento post-hoc, il modello produce un adattamento accettabile."
   ]
  },
  {
   "cell_type": "markdown",
   "metadata": {},
   "source": [
    "### Confronto di Modelli Non Annidati\n",
    "\n",
    "### Revisione del Testo: Confronto tra Modelli Non Annidati\n",
    "\n",
    "Proseguendo, analizzeremo l'adattamento di due modelli distinti, entrambi costituiti dalle stesse variabili e applicati agli stessi dati. Tuttavia, a differenza di quanto precedentemente delineato, questi modelli non sono collegati gerarchicamente, ma si configurano come modelli non annidati. Questa situazione si presenta comunemente quando i ricercatori mettono a confronto modelli basati su teorie divergenti. È possibile effettuare un confronto informale dei valori del chi-quadrato derivanti da modelli non annidati, ma la loro differenza non va interpretata come una statistica di test valida. In altre parole, i test di differenza del chi-quadrato, sia in forma scalata che non, non sono appropriati in questo contesto. La ragione risiede nel fatto che la differenza tra le statistiche di test di modelli non annidati non segue una distribuzione chi-quadrato centrale. Sebbene siano stati compiuti sforzi per elaborare test di significatività adatti al confronto di modelli non annidati, questi metodi non hanno trovato un ampio utilizzo e spesso portano a complicazioni interpretative (Levy & Hancock, 2007).\n",
    "\n",
    "Una soluzione più pragmatica è rappresentata dalla famiglia degli indici di adattamento predittivo, conosciuti anche come criteri teorico-informativi. Questi indici non sono test di significatività, poiché le loro distribuzioni di probabilità variano ampiamente a seconda del tipo di modello e dei dati considerati e, pertanto, rimangono generalmente ignote. Piuttosto, essi riflettono sia la qualità dell'adattamento del modello sia la sua complessità, bilanciando questi due aspetti. Ciò implica l'applicazione di una penalità per la complessità del modello, che consente di regolare l'adattamento in funzione del numero di parametri liberi. Per esempio, nel caso di due modelli non annidati che mostrano un adattamento simile agli stessi dati, verrà privilegiato il modello meno complesso, in quanto considerato più probabile nella generalizzazione su campioni replicati. In questo scenario, il valore del criterio informativo sarà inferiore per il modello più semplice, dato che una penalità maggiore per la complessità viene applicata all'adattamento del modello più complesso. Di conseguenza, il modello con il criterio informativo più basso è da preferire. In questo capitolo, dopo aver introdotto un problema di ricerca, esploreremo due indici di adattamento predittivo ampiamente usati (AIC e BIC).\n",
    "\n",
    "```{figure} images/romney.png\n",
    "---\n",
    "height: 550px\n",
    "name: romney-fig\n",
    "---\n",
    "Modelli alternativi non annidati di percorso ricorsivo per l'adattamento dopo un intervento chirurgico cardiaco.  (Figura tratta da {cite:t}`kline2023principles`).\n",
    "```\n",
    "\n",
    "Nella figura sono presentati due modelli di percorso che descrivono il recupero dei pazienti dopo un intervento chirurgico cardiaco (Romney et al., 1992) -- si veda {cite:t}`kline2023principles`, cap. 11. Il modello psicosomatico rappresenta le ipotesi che il morale del paziente trasmetta gli effetti della disfunzione neurologica e dello stato socioeconomico ridotto (SES) su sintomi della malattia e scarse relazioni sociali. Il modello medico rappresenta un diverso schema di relazioni causali tra le stesse variabili. In particolare, sia i sintomi della malattia sia la disfunzione neurologica sono specificati come variabili esogene con effetti diretti sul SES ridotto, basso morale e scarse relazioni. Tra queste tre variabili endogene, si ipotizza che il SES ridotto influenzi indirettamente le scarse relazioni attraverso il suo impatto precedente sul basso morale. Ci sono ulteriori effetti indiretti nel modello medico convenzionale dalle variabili esogene a quelle endogene. I due modelli nella figura non sono annidati, quindi il test della differenza del chi-quadro non può essere utilizzato per confrontarli direttamente. È dunque necessario seguire un altro approccio."
   ]
  },
  {
   "cell_type": "markdown",
   "metadata": {},
   "source": [
    "## AIC e BIC\n",
    "\n",
    "Uno degli indici di adattamento predittivo più noti basato sulla stima di massima verosimiglianza (ML) è il Criterio di Informazione di Akaike (AIC), che prende il nome dallo statistico Hirotugu Akaike. La formula per l'AIC di Akaike (1974, p. 719) è:\n",
    "\n",
    "$$ \\text{AIC} = -2 \\ln L_0 + 2q $$\n",
    "\n",
    "dove $ L_0 $ è la funzione di verosimiglianza massimizzata nella stima ML per il modello del ricercatore e $ q $ è il numero di parametri liberi del modello. Si noti che la penalità per la complessità nell'equazione precedente, $ 2q $, diventa relativamente più piccola all'aumentare della dimensione del campione (Mulaik, 2009b). \n",
    "\n",
    "Un diverso indice teorico-informativo che tiene direttamente conto della dimensione del campione è il Criterio di Informazione Bayesiano (BIC) (Raftery, 1993; Schwarz, 1978). La formula è\n",
    "\n",
    "$$ \\text{BIC} = -2 \\ln L_0 + q \\ln N $$\n",
    "\n",
    "Confrontato con l'AIC, il BIC impone una penalità relativa maggiore per la complessità del modello. \n",
    "\n",
    "Supponiamo che il numero di parametri stimati liberamente sia $ q = 10 $ e che $ N = 300 $. La penalità AIC equivale a $ 2(10) $, ovvero 20.000 (Equazione 11.4), ma la penalità BIC per lo stesso modello è $ 10 (\\ln 300) $, ovvero 50.038, più del doppio rispetto all'AIC. I valori relativi delle penalità BIC aumentano più lentamente all'aumentare della dimensione del campione; in altre parole, la sua penalità è asintotica su campioni sempre più grandi (Mulaik, 2009b).\n",
    "\n",
    "In sostanza, sia l'AIC che il BIC sono strumenti per bilanciare l'adattamento del modello con la sua complessità, ma differiscono nel modo in cui valutano e penalizzano questa complessità, soprattutto in relazione alla dimensione del campione.\n",
    "\n",
    "Utilizzando lo script fornito da {cite:t}`kline2023principles`, iniziamo a importare i dati in `R`:"
   ]
  },
  {
   "cell_type": "code",
   "execution_count": 25,
   "metadata": {
    "vscode": {
     "languageId": "r"
    }
   },
   "outputs": [],
   "source": [
    "# input the correlations in lower diagnonal form\n",
    "romneyLower.cor <- \"\n",
    " 1.00\n",
    "  .53 1.00\n",
    "  .15  .18 1.00\n",
    "  .52  .29 -.05 1.00\n",
    "  .30  .34  .23  .09 1.00 \"\n",
    "\n",
    "# name the variables and convert to full correlation matrix\n",
    "romney.cor <- lavaan::getCov(romneyLower.cor, names = c(\n",
    "    \"morale\", \"symptoms\",\n",
    "    \"dysfunction\", \"relations\", \"ses\"\n",
    "))"
   ]
  },
  {
   "cell_type": "markdown",
   "metadata": {},
   "source": [
    "Esaminiamo le matrici di correlazioni e covarianze:"
   ]
  },
  {
   "cell_type": "code",
   "execution_count": 26,
   "metadata": {
    "vscode": {
     "languageId": "r"
    }
   },
   "outputs": [
    {
     "data": {
      "text/html": [
       "<table class=\"dataframe\">\n",
       "<caption>A matrix: 5 x 5 of type dbl</caption>\n",
       "<thead>\n",
       "\t<tr><th></th><th scope=col>morale</th><th scope=col>symptoms</th><th scope=col>dysfunction</th><th scope=col>relations</th><th scope=col>ses</th></tr>\n",
       "</thead>\n",
       "<tbody>\n",
       "\t<tr><th scope=row>morale</th><td>1.00</td><td>0.53</td><td> 0.15</td><td> 0.52</td><td>0.30</td></tr>\n",
       "\t<tr><th scope=row>symptoms</th><td>0.53</td><td>1.00</td><td> 0.18</td><td> 0.29</td><td>0.34</td></tr>\n",
       "\t<tr><th scope=row>dysfunction</th><td>0.15</td><td>0.18</td><td> 1.00</td><td>-0.05</td><td>0.23</td></tr>\n",
       "\t<tr><th scope=row>relations</th><td>0.52</td><td>0.29</td><td>-0.05</td><td> 1.00</td><td>0.09</td></tr>\n",
       "\t<tr><th scope=row>ses</th><td>0.30</td><td>0.34</td><td> 0.23</td><td> 0.09</td><td>1.00</td></tr>\n",
       "</tbody>\n",
       "</table>\n"
      ],
      "text/latex": [
       "A matrix: 5 x 5 of type dbl\n",
       "\\begin{tabular}{r|lllll}\n",
       "  & morale & symptoms & dysfunction & relations & ses\\\\\n",
       "\\hline\n",
       "\tmorale & 1.00 & 0.53 &  0.15 &  0.52 & 0.30\\\\\n",
       "\tsymptoms & 0.53 & 1.00 &  0.18 &  0.29 & 0.34\\\\\n",
       "\tdysfunction & 0.15 & 0.18 &  1.00 & -0.05 & 0.23\\\\\n",
       "\trelations & 0.52 & 0.29 & -0.05 &  1.00 & 0.09\\\\\n",
       "\tses & 0.30 & 0.34 &  0.23 &  0.09 & 1.00\\\\\n",
       "\\end{tabular}\n"
      ],
      "text/markdown": [
       "\n",
       "A matrix: 5 x 5 of type dbl\n",
       "\n",
       "| <!--/--> | morale | symptoms | dysfunction | relations | ses |\n",
       "|---|---|---|---|---|---|\n",
       "| morale | 1.00 | 0.53 |  0.15 |  0.52 | 0.30 |\n",
       "| symptoms | 0.53 | 1.00 |  0.18 |  0.29 | 0.34 |\n",
       "| dysfunction | 0.15 | 0.18 |  1.00 | -0.05 | 0.23 |\n",
       "| relations | 0.52 | 0.29 | -0.05 |  1.00 | 0.09 |\n",
       "| ses | 0.30 | 0.34 |  0.23 |  0.09 | 1.00 |\n",
       "\n"
      ],
      "text/plain": [
       "            morale symptoms dysfunction relations ses \n",
       "morale      1.00   0.53      0.15        0.52     0.30\n",
       "symptoms    0.53   1.00      0.18        0.29     0.34\n",
       "dysfunction 0.15   0.18      1.00       -0.05     0.23\n",
       "relations   0.52   0.29     -0.05        1.00     0.09\n",
       "ses         0.30   0.34      0.23        0.09     1.00"
      ]
     },
     "metadata": {},
     "output_type": "display_data"
    }
   ],
   "source": [
    "# display the correlations\n",
    "romney.cor"
   ]
  },
  {
   "cell_type": "code",
   "execution_count": 27,
   "metadata": {
    "vscode": {
     "languageId": "r"
    }
   },
   "outputs": [
    {
     "data": {
      "text/html": [
       "<table class=\"dataframe\">\n",
       "<caption>A matrix: 5 x 5 of type dbl</caption>\n",
       "<thead>\n",
       "\t<tr><th></th><th scope=col>morale</th><th scope=col>symptoms</th><th scope=col>dysfunction</th><th scope=col>relations</th><th scope=col>ses</th></tr>\n",
       "</thead>\n",
       "<tbody>\n",
       "\t<tr><th scope=row>morale</th><td>14.06250</td><td> 33.7875</td><td> 10.96875</td><td> 6.8250</td><td> 27.7875</td></tr>\n",
       "\t<tr><th scope=row>symptoms</th><td>33.78750</td><td>289.0000</td><td> 59.67000</td><td>17.2550</td><td>142.7660</td></tr>\n",
       "\t<tr><th scope=row>dysfunction</th><td>10.96875</td><td> 59.6700</td><td>380.25000</td><td>-3.4125</td><td>110.7795</td></tr>\n",
       "\t<tr><th scope=row>relations</th><td> 6.82500</td><td> 17.2550</td><td> -3.41250</td><td>12.2500</td><td>  7.7805</td></tr>\n",
       "\t<tr><th scope=row>ses</th><td>27.78750</td><td>142.7660</td><td>110.77950</td><td> 7.7805</td><td>610.0900</td></tr>\n",
       "</tbody>\n",
       "</table>\n"
      ],
      "text/latex": [
       "A matrix: 5 x 5 of type dbl\n",
       "\\begin{tabular}{r|lllll}\n",
       "  & morale & symptoms & dysfunction & relations & ses\\\\\n",
       "\\hline\n",
       "\tmorale & 14.06250 &  33.7875 &  10.96875 &  6.8250 &  27.7875\\\\\n",
       "\tsymptoms & 33.78750 & 289.0000 &  59.67000 & 17.2550 & 142.7660\\\\\n",
       "\tdysfunction & 10.96875 &  59.6700 & 380.25000 & -3.4125 & 110.7795\\\\\n",
       "\trelations &  6.82500 &  17.2550 &  -3.41250 & 12.2500 &   7.7805\\\\\n",
       "\tses & 27.78750 & 142.7660 & 110.77950 &  7.7805 & 610.0900\\\\\n",
       "\\end{tabular}\n"
      ],
      "text/markdown": [
       "\n",
       "A matrix: 5 x 5 of type dbl\n",
       "\n",
       "| <!--/--> | morale | symptoms | dysfunction | relations | ses |\n",
       "|---|---|---|---|---|---|\n",
       "| morale | 14.06250 |  33.7875 |  10.96875 |  6.8250 |  27.7875 |\n",
       "| symptoms | 33.78750 | 289.0000 |  59.67000 | 17.2550 | 142.7660 |\n",
       "| dysfunction | 10.96875 |  59.6700 | 380.25000 | -3.4125 | 110.7795 |\n",
       "| relations |  6.82500 |  17.2550 |  -3.41250 | 12.2500 |   7.7805 |\n",
       "| ses | 27.78750 | 142.7660 | 110.77950 |  7.7805 | 610.0900 |\n",
       "\n"
      ],
      "text/plain": [
       "            morale   symptoms dysfunction relations ses     \n",
       "morale      14.06250  33.7875  10.96875    6.8250    27.7875\n",
       "symptoms    33.78750 289.0000  59.67000   17.2550   142.7660\n",
       "dysfunction 10.96875  59.6700 380.25000   -3.4125   110.7795\n",
       "relations    6.82500  17.2550  -3.41250   12.2500     7.7805\n",
       "ses         27.78750 142.7660 110.77950    7.7805   610.0900"
      ]
     },
     "metadata": {},
     "output_type": "display_data"
    }
   ],
   "source": [
    "# add the standard deviations and convert to covariances\n",
    "romney.cov <- lavaan::cor2cov(romney.cor, sds = c(\n",
    "    3.75, 17.00, 19.50,\n",
    "    3.50, 24.70\n",
    "))\n",
    "\n",
    "# display the covariances\n",
    "romney.cov"
   ]
  },
  {
   "cell_type": "markdown",
   "metadata": {},
   "source": [
    "Specifichiamo il modello psicosomatico."
   ]
  },
  {
   "cell_type": "code",
   "execution_count": 28,
   "metadata": {
    "vscode": {
     "languageId": "r"
    }
   },
   "outputs": [],
   "source": [
    "somatic.model <- \"\n",
    "# regressions\n",
    " morale ~ ses + dysfunction\n",
    " relations ~ morale\n",
    " symptoms ~ morale\n",
    "# without the zero constraint listed next,\n",
    "# lavaan automatically specifies correlated\n",
    "# disturbances for symptoms and relations,\n",
    "# but their disturbances are independent in\n",
    "# figure 11.1\n",
    " symptoms ~~ 0*relations\n",
    "# unanalyzed association between ses and dysfunction\n",
    "# automatically specified \""
   ]
  },
  {
   "cell_type": "markdown",
   "metadata": {},
   "source": [
    "Specifichiamo il modello medico convenzionale."
   ]
  },
  {
   "cell_type": "code",
   "execution_count": 29,
   "metadata": {
    "vscode": {
     "languageId": "r"
    }
   },
   "outputs": [],
   "source": [
    "medical.model <- \"\n",
    "# regressions\n",
    " ses ~ symptoms + dysfunction\n",
    " morale ~ symptoms + ses\n",
    " relations ~ dysfunction + morale\n",
    "# unanalyzed association between symptoms and dysfunction\n",
    "# automatically specified \""
   ]
  },
  {
   "cell_type": "markdown",
   "metadata": {},
   "source": [
    "Adattiamo ai dati il modello psicosomatico."
   ]
  },
  {
   "cell_type": "code",
   "execution_count": 30,
   "metadata": {
    "vscode": {
     "languageId": "r"
    }
   },
   "outputs": [],
   "source": [
    "somatic <- lavaan::sem(somatic.model,\n",
    "    sample.cov = romney.cov,\n",
    "    sample.nobs = 469, fixed.x = FALSE, sample.cov.rescale = FALSE\n",
    ")"
   ]
  },
  {
   "cell_type": "code",
   "execution_count": 31,
   "metadata": {
    "vscode": {
     "languageId": "r"
    }
   },
   "outputs": [
    {
     "data": {
      "image/png": "[encoded data removed]",
      "text/plain": [
       "plot without title"
      ]
     },
     "metadata": {
      "image/png": {
       "height": 420,
       "width": 420
      }
     },
     "output_type": "display_data"
    }
   ],
   "source": [
    "semPaths(somatic,\n",
    "    whatLabels = \"std\",\n",
    "    sizeMan = 10,\n",
    "    edge.label.cex = 1.15,\n",
    "    style = \"ram\",\n",
    "    nCharNodes = 0, nCharEdges = 0\n",
    ")"
   ]
  },
  {
   "cell_type": "code",
   "execution_count": 32,
   "metadata": {
    "vscode": {
     "languageId": "r"
    }
   },
   "outputs": [
    {
     "name": "stdout",
     "output_type": "stream",
     "text": [
      "lavaan 0.6.17 ended normally after 1 iteration\n",
      "\n",
      "  Estimator                                         ML\n",
      "  Optimization method                           NLMINB\n",
      "  Number of model parameters                        10\n",
      "\n",
      "  Number of observations                           469\n",
      "\n",
      "Model Test User Model:\n",
      "                                                      \n",
      "  Test statistic                                40.488\n",
      "  Degrees of freedom                                 5\n",
      "  P-value (Chi-square)                           0.000\n",
      "\n",
      "Model Test Baseline Model:\n",
      "\n",
      "  Test statistic                               390.816\n",
      "  Degrees of freedom                                 9\n",
      "  P-value                                        0.000\n",
      "\n",
      "User Model versus Baseline Model:\n",
      "\n",
      "  Comparative Fit Index (CFI)                    0.907\n",
      "  Tucker-Lewis Index (TLI)                       0.833\n",
      "\n",
      "Loglikelihood and Information Criteria:\n",
      "\n",
      "  Loglikelihood user model (H0)              -8572.844\n",
      "  Loglikelihood unrestricted model (H1)      -8552.599\n",
      "                                                      \n",
      "  Akaike (AIC)                               17165.687\n",
      "  Bayesian (BIC)                             17207.193\n",
      "  Sample-size adjusted Bayesian (SABIC)      17175.455\n",
      "\n",
      "Root Mean Square Error of Approximation:\n",
      "\n",
      "  RMSEA                                          0.123\n",
      "  90 Percent confidence interval - lower         0.090\n",
      "  90 Percent confidence interval - upper         0.159\n",
      "  P-value H_0: RMSEA <= 0.050                    0.000\n",
      "  P-value H_0: RMSEA >= 0.080                    0.982\n",
      "\n",
      "Standardized Root Mean Square Residual:\n",
      "\n",
      "  SRMR                                           0.065\n",
      "\n",
      "Parameter Estimates:\n",
      "\n",
      "  Standard errors                             Standard\n",
      "  Information                                 Expected\n",
      "  Information saturated (h1) model          Structured\n",
      "\n",
      "Regressions:\n",
      "                   Estimate  Std.Err  z-value  P(>|z|)\n",
      "  morale ~                                            \n",
      "    ses               0.043    0.007    6.217    0.000\n",
      "    dysfunction       0.016    0.009    1.897    0.058\n",
      "  relations ~                                         \n",
      "    morale            0.485    0.037   13.184    0.000\n",
      "  symptoms ~                                          \n",
      "    morale            2.403    0.178   13.535    0.000\n",
      "\n",
      "Covariances:\n",
      "                   Estimate  Std.Err  z-value  P(>|z|)\n",
      " .relations ~~                                        \n",
      "   .symptoms          0.000                           \n",
      "  ses ~~                                              \n",
      "    dysfunction     110.779   22.821    4.854    0.000\n",
      "\n",
      "Variances:\n",
      "                   Estimate  Std.Err  z-value  P(>|z|)\n",
      "   .morale           12.699    0.829   15.313    0.000\n",
      "   .relations         8.938    0.584   15.313    0.000\n",
      "   .symptoms        207.820   13.571   15.313    0.000\n",
      "    ses             610.090   39.840   15.313    0.000\n",
      "    dysfunction     380.250   24.831   15.313    0.000\n",
      "\n",
      "R-Square:\n",
      "                   Estimate\n",
      "    morale            0.097\n",
      "    relations         0.270\n",
      "    symptoms          0.281\n",
      "\n"
     ]
    }
   ],
   "source": [
    "lavaan::summary(somatic, fit.measures = TRUE, rsquare = TRUE) |> print()"
   ]
  },
  {
   "cell_type": "markdown",
   "metadata": {},
   "source": [
    "Ora approfondiamo l'analisi dei residui. Nel contesto di un modello SEM, i residui sono derivati dalle differenze tra la matrice di correlazioni (o covarianze) osservata e quella prevista dal modello. Queste differenze sono elaborate attraverso specifiche funzioni per generare i residui. Utilizzando il pacchetto `lavaan` in R, possiamo accedere a tre principali tipi di residui: `standardized.mplus`, `normalized`, e `cor.bollen`. \n",
    "\n",
    "1. **Residui Standardizzati (Standardized.mplus)**: Questo tipo di residuo è una versione standardizzata dei residui. I residui standardizzati sono ottenuti calcolando la differenza tra i valori osservati e quelli previsti dal modello, e dividendo questa differenza per uno stimatore della deviazione standard del residuo. Questo processo trasforma i residui in una scala in cui hanno una varianza approssimativamente uguale. I residui standardizzati sono utili per identificare punti dati che il modello non riesce a spiegare bene. In `lavaan`, `type = \"standardized.mplus\"` si riferisce a una particolare forma di standardizzazione dei residui, simile a quella utilizzata nel software Mplus.\n",
    "\n",
    "2. **Residui Normalizzati (Normalized)**: I residui normalizzati sono un altro tipo di residui standardizzati. Sono calcolati come i residui standardizzati ma poi vengono normalizzati. La normalizzazione qui significa che i residui vengono ulteriormente trasformati in modo che la loro distribuzione si avvicini a una distribuzione normale. Questo è utile per verificare se i residui seguono una distribuzione normale, il che è un'assunzione comune in molti modelli statistici, inclusi quelli SEM.\n",
    "\n",
    "3. **Correlazione dei Residui secondo Bollen (Cor.bollen)**: Questo tipo di residuo si riferisce alla correlazione tra i residui di due variabili diverse nel modello. Il metodo `cor.bollen` calcola la correlazione tra i residui dopo che il modello è stato adattato ai dati. Questo tipo di analisi è utile per rilevare se ci sono correlazioni non modellate tra le variabili che potrebbero influenzare la validità del modello. "
   ]
  },
  {
   "cell_type": "code",
   "execution_count": 33,
   "metadata": {
    "vscode": {
     "languageId": "r"
    }
   },
   "outputs": [
    {
     "data": {
      "text/html": [
       "<dl>\n",
       "\t<dt>$type</dt>\n",
       "\t\t<dd>'standardized.mplus'</dd>\n",
       "\t<dt>$cov</dt>\n",
       "\t\t<dd><table class=\"dataframe\">\n",
       "<caption>A lavaan.matrix.symmetric: 5 x 5 of type dbl</caption>\n",
       "<thead>\n",
       "\t<tr><th></th><th scope=col>morale</th><th scope=col>relations</th><th scope=col>symptoms</th><th scope=col>ses</th><th scope=col>dysfunction</th></tr>\n",
       "</thead>\n",
       "<tbody>\n",
       "\t<tr><th scope=row>morale</th><td> 0.000000e+00</td><td>-8.881784e-16</td><td>0.000000</td><td> 0.000000</td><td> 0.000000</td></tr>\n",
       "\t<tr><th scope=row>relations</th><td>-8.881784e-16</td><td> 1.776357e-15</td><td>0.427235</td><td>-1.776002</td><td>-3.290710</td></tr>\n",
       "\t<tr><th scope=row>symptoms</th><td> 0.000000e+00</td><td> 4.272350e-01</td><td>0.000000</td><td> 4.542284</td><td> 2.549111</td></tr>\n",
       "\t<tr><th scope=row>ses</th><td> 0.000000e+00</td><td>-1.776002e+00</td><td>4.542284</td><td> 0.000000</td><td> 0.000000</td></tr>\n",
       "\t<tr><th scope=row>dysfunction</th><td> 0.000000e+00</td><td>-3.290710e+00</td><td>2.549111</td><td> 0.000000</td><td> 0.000000</td></tr>\n",
       "</tbody>\n",
       "</table>\n",
       "</dd>\n",
       "</dl>\n"
      ],
      "text/latex": [
       "\\begin{description}\n",
       "\\item[\\$type] 'standardized.mplus'\n",
       "\\item[\\$cov] A lavaan.matrix.symmetric: 5 x 5 of type dbl\n",
       "\\begin{tabular}{r|lllll}\n",
       "  & morale & relations & symptoms & ses & dysfunction\\\\\n",
       "\\hline\n",
       "\tmorale &  0.000000e+00 & -8.881784e-16 & 0.000000 &  0.000000 &  0.000000\\\\\n",
       "\trelations & -8.881784e-16 &  1.776357e-15 & 0.427235 & -1.776002 & -3.290710\\\\\n",
       "\tsymptoms &  0.000000e+00 &  4.272350e-01 & 0.000000 &  4.542284 &  2.549111\\\\\n",
       "\tses &  0.000000e+00 & -1.776002e+00 & 4.542284 &  0.000000 &  0.000000\\\\\n",
       "\tdysfunction &  0.000000e+00 & -3.290710e+00 & 2.549111 &  0.000000 &  0.000000\\\\\n",
       "\\end{tabular}\n",
       "\n",
       "\\end{description}\n"
      ],
      "text/markdown": [
       "$type\n",
       ":   'standardized.mplus'\n",
       "$cov\n",
       ":   \n",
       "A lavaan.matrix.symmetric: 5 x 5 of type dbl\n",
       "\n",
       "| <!--/--> | morale | relations | symptoms | ses | dysfunction |\n",
       "|---|---|---|---|---|---|\n",
       "| morale |  0.000000e+00 | -8.881784e-16 | 0.000000 |  0.000000 |  0.000000 |\n",
       "| relations | -8.881784e-16 |  1.776357e-15 | 0.427235 | -1.776002 | -3.290710 |\n",
       "| symptoms |  0.000000e+00 |  4.272350e-01 | 0.000000 |  4.542284 |  2.549111 |\n",
       "| ses |  0.000000e+00 | -1.776002e+00 | 4.542284 |  0.000000 |  0.000000 |\n",
       "| dysfunction |  0.000000e+00 | -3.290710e+00 | 2.549111 |  0.000000 |  0.000000 |\n",
       "\n",
       "\n",
       "\n",
       "\n"
      ],
      "text/plain": [
       "$type\n",
       "[1] \"standardized.mplus\"\n",
       "\n",
       "$cov\n",
       "            morale reltns symptm    ses dysfnc\n",
       "morale       0.000                            \n",
       "relations    0.000  0.000                     \n",
       "symptoms     0.000  0.427  0.000              \n",
       "ses          0.000 -1.776  4.542  0.000       \n",
       "dysfunction  0.000 -3.291  2.549  0.000  0.000\n"
      ]
     },
     "metadata": {},
     "output_type": "display_data"
    },
    {
     "data": {
      "text/html": [
       "<dl>\n",
       "\t<dt>$type</dt>\n",
       "\t\t<dd>'normalized'</dd>\n",
       "\t<dt>$cov</dt>\n",
       "\t\t<dd><table class=\"dataframe\">\n",
       "<caption>A lavaan.matrix.symmetric: 5 x 5 of type dbl</caption>\n",
       "<thead>\n",
       "\t<tr><th></th><th scope=col>morale</th><th scope=col>relations</th><th scope=col>symptoms</th><th scope=col>ses</th><th scope=col>dysfunction</th></tr>\n",
       "</thead>\n",
       "<tbody>\n",
       "\t<tr><th scope=row>morale</th><td> 0.000000e+00</td><td>-8.881784e-16</td><td>0.000000</td><td> 0.000000</td><td> 0.000000</td></tr>\n",
       "\t<tr><th scope=row>relations</th><td>-8.881784e-16</td><td> 1.776357e-15</td><td>0.299512</td><td>-1.423569</td><td>-2.768562</td></tr>\n",
       "\t<tr><th scope=row>symptoms</th><td> 0.000000e+00</td><td> 2.995120e-01</td><td>0.000000</td><td> 3.711169</td><td> 2.142044</td></tr>\n",
       "\t<tr><th scope=row>ses</th><td> 0.000000e+00</td><td>-1.423569e+00</td><td>3.711169</td><td> 0.000000</td><td> 0.000000</td></tr>\n",
       "\t<tr><th scope=row>dysfunction</th><td> 0.000000e+00</td><td>-2.768562e+00</td><td>2.142044</td><td> 0.000000</td><td> 0.000000</td></tr>\n",
       "</tbody>\n",
       "</table>\n",
       "</dd>\n",
       "</dl>\n"
      ],
      "text/latex": [
       "\\begin{description}\n",
       "\\item[\\$type] 'normalized'\n",
       "\\item[\\$cov] A lavaan.matrix.symmetric: 5 x 5 of type dbl\n",
       "\\begin{tabular}{r|lllll}\n",
       "  & morale & relations & symptoms & ses & dysfunction\\\\\n",
       "\\hline\n",
       "\tmorale &  0.000000e+00 & -8.881784e-16 & 0.000000 &  0.000000 &  0.000000\\\\\n",
       "\trelations & -8.881784e-16 &  1.776357e-15 & 0.299512 & -1.423569 & -2.768562\\\\\n",
       "\tsymptoms &  0.000000e+00 &  2.995120e-01 & 0.000000 &  3.711169 &  2.142044\\\\\n",
       "\tses &  0.000000e+00 & -1.423569e+00 & 3.711169 &  0.000000 &  0.000000\\\\\n",
       "\tdysfunction &  0.000000e+00 & -2.768562e+00 & 2.142044 &  0.000000 &  0.000000\\\\\n",
       "\\end{tabular}\n",
       "\n",
       "\\end{description}\n"
      ],
      "text/markdown": [
       "$type\n",
       ":   'normalized'\n",
       "$cov\n",
       ":   \n",
       "A lavaan.matrix.symmetric: 5 x 5 of type dbl\n",
       "\n",
       "| <!--/--> | morale | relations | symptoms | ses | dysfunction |\n",
       "|---|---|---|---|---|---|\n",
       "| morale |  0.000000e+00 | -8.881784e-16 | 0.000000 |  0.000000 |  0.000000 |\n",
       "| relations | -8.881784e-16 |  1.776357e-15 | 0.299512 | -1.423569 | -2.768562 |\n",
       "| symptoms |  0.000000e+00 |  2.995120e-01 | 0.000000 |  3.711169 |  2.142044 |\n",
       "| ses |  0.000000e+00 | -1.423569e+00 | 3.711169 |  0.000000 |  0.000000 |\n",
       "| dysfunction |  0.000000e+00 | -2.768562e+00 | 2.142044 |  0.000000 |  0.000000 |\n",
       "\n",
       "\n",
       "\n",
       "\n"
      ],
      "text/plain": [
       "$type\n",
       "[1] \"normalized\"\n",
       "\n",
       "$cov\n",
       "            morale reltns symptm    ses dysfnc\n",
       "morale       0.000                            \n",
       "relations    0.000  0.000                     \n",
       "symptoms     0.000  0.300  0.000              \n",
       "ses          0.000 -1.424  3.711  0.000       \n",
       "dysfunction  0.000 -2.769  2.142  0.000  0.000\n"
      ]
     },
     "metadata": {},
     "output_type": "display_data"
    },
    {
     "data": {
      "text/html": [
       "<dl>\n",
       "\t<dt>$type</dt>\n",
       "\t\t<dd>'cor.bollen'</dd>\n",
       "\t<dt>$cov</dt>\n",
       "\t\t<dd><table class=\"dataframe\">\n",
       "<caption>A lavaan.matrix.symmetric: 5 x 5 of type dbl</caption>\n",
       "<thead>\n",
       "\t<tr><th></th><th scope=col>morale</th><th scope=col>relations</th><th scope=col>symptoms</th><th scope=col>ses</th><th scope=col>dysfunction</th></tr>\n",
       "</thead>\n",
       "<tbody>\n",
       "\t<tr><th scope=row>morale</th><td> 0.000000e+00</td><td>-1.110223e-16</td><td>0.0000</td><td> 0.000</td><td> 0.0000</td></tr>\n",
       "\t<tr><th scope=row>relations</th><td>-1.110223e-16</td><td>-3.330669e-16</td><td>0.0144</td><td>-0.066</td><td>-0.1280</td></tr>\n",
       "\t<tr><th scope=row>symptoms</th><td> 0.000000e+00</td><td> 1.440000e-02</td><td>0.0000</td><td> 0.181</td><td> 0.1005</td></tr>\n",
       "\t<tr><th scope=row>ses</th><td> 0.000000e+00</td><td>-6.600000e-02</td><td>0.1810</td><td> 0.000</td><td> 0.0000</td></tr>\n",
       "\t<tr><th scope=row>dysfunction</th><td> 0.000000e+00</td><td>-1.280000e-01</td><td>0.1005</td><td> 0.000</td><td> 0.0000</td></tr>\n",
       "</tbody>\n",
       "</table>\n",
       "</dd>\n",
       "</dl>\n"
      ],
      "text/latex": [
       "\\begin{description}\n",
       "\\item[\\$type] 'cor.bollen'\n",
       "\\item[\\$cov] A lavaan.matrix.symmetric: 5 x 5 of type dbl\n",
       "\\begin{tabular}{r|lllll}\n",
       "  & morale & relations & symptoms & ses & dysfunction\\\\\n",
       "\\hline\n",
       "\tmorale &  0.000000e+00 & -1.110223e-16 & 0.0000 &  0.000 &  0.0000\\\\\n",
       "\trelations & -1.110223e-16 & -3.330669e-16 & 0.0144 & -0.066 & -0.1280\\\\\n",
       "\tsymptoms &  0.000000e+00 &  1.440000e-02 & 0.0000 &  0.181 &  0.1005\\\\\n",
       "\tses &  0.000000e+00 & -6.600000e-02 & 0.1810 &  0.000 &  0.0000\\\\\n",
       "\tdysfunction &  0.000000e+00 & -1.280000e-01 & 0.1005 &  0.000 &  0.0000\\\\\n",
       "\\end{tabular}\n",
       "\n",
       "\\end{description}\n"
      ],
      "text/markdown": [
       "$type\n",
       ":   'cor.bollen'\n",
       "$cov\n",
       ":   \n",
       "A lavaan.matrix.symmetric: 5 x 5 of type dbl\n",
       "\n",
       "| <!--/--> | morale | relations | symptoms | ses | dysfunction |\n",
       "|---|---|---|---|---|---|\n",
       "| morale |  0.000000e+00 | -1.110223e-16 | 0.0000 |  0.000 |  0.0000 |\n",
       "| relations | -1.110223e-16 | -3.330669e-16 | 0.0144 | -0.066 | -0.1280 |\n",
       "| symptoms |  0.000000e+00 |  1.440000e-02 | 0.0000 |  0.181 |  0.1005 |\n",
       "| ses |  0.000000e+00 | -6.600000e-02 | 0.1810 |  0.000 |  0.0000 |\n",
       "| dysfunction |  0.000000e+00 | -1.280000e-01 | 0.1005 |  0.000 |  0.0000 |\n",
       "\n",
       "\n",
       "\n",
       "\n"
      ],
      "text/plain": [
       "$type\n",
       "[1] \"cor.bollen\"\n",
       "\n",
       "$cov\n",
       "            morale reltns symptm    ses dysfnc\n",
       "morale       0.000                            \n",
       "relations    0.000  0.000                     \n",
       "symptoms     0.000  0.014  0.000              \n",
       "ses          0.000 -0.066  0.181  0.000       \n",
       "dysfunction  0.000 -0.128  0.100  0.000  0.000\n"
      ]
     },
     "metadata": {},
     "output_type": "display_data"
    }
   ],
   "source": [
    "# print residuals\n",
    "lavaan::residuals(somatic, type = \"standardized.mplus\")\n",
    "lavaan::residuals(somatic, type = \"normalized\")\n",
    "lavaan::residuals(somatic, type = \"cor.bollen\")"
   ]
  },
  {
   "cell_type": "markdown",
   "metadata": {},
   "source": [
    "Adattiamo ai dati il modello medico convenzionale."
   ]
  },
  {
   "cell_type": "code",
   "execution_count": 34,
   "metadata": {
    "vscode": {
     "languageId": "r"
    }
   },
   "outputs": [],
   "source": [
    "medical <- lavaan::sem(medical.model,\n",
    "    sample.cov = romney.cov,\n",
    "    sample.nobs = 469, fixed.x = FALSE, sample.cov.rescale = FALSE\n",
    ")"
   ]
  },
  {
   "cell_type": "code",
   "execution_count": 35,
   "metadata": {
    "vscode": {
     "languageId": "r"
    }
   },
   "outputs": [
    {
     "data": {
      "image/png": "[encoded data removed]",
      "text/plain": [
       "plot without title"
      ]
     },
     "metadata": {
      "image/png": {
       "height": 420,
       "width": 420
      }
     },
     "output_type": "display_data"
    }
   ],
   "source": [
    "semPaths(medical,\n",
    "    whatLabels = \"std\",\n",
    "    sizeMan = 10,\n",
    "    edge.label.cex = 1.15,\n",
    "    style = \"ram\",\n",
    "    nCharNodes = 0, nCharEdges = 0\n",
    ")"
   ]
  },
  {
   "cell_type": "code",
   "execution_count": 36,
   "metadata": {
    "vscode": {
     "languageId": "r"
    }
   },
   "outputs": [
    {
     "name": "stdout",
     "output_type": "stream",
     "text": [
      "lavaan 0.6.17 ended normally after 1 iteration\n",
      "\n",
      "  Estimator                                         ML\n",
      "  Optimization method                           NLMINB\n",
      "  Number of model parameters                        12\n",
      "\n",
      "  Number of observations                           469\n",
      "\n",
      "Model Test User Model:\n",
      "                                                      \n",
      "  Test statistic                                 3.245\n",
      "  Degrees of freedom                                 3\n",
      "  P-value (Chi-square)                           0.355\n",
      "\n",
      "Model Test Baseline Model:\n",
      "\n",
      "  Test statistic                               400.859\n",
      "  Degrees of freedom                                 9\n",
      "  P-value                                        0.000\n",
      "\n",
      "User Model versus Baseline Model:\n",
      "\n",
      "  Comparative Fit Index (CFI)                    0.999\n",
      "  Tucker-Lewis Index (TLI)                       0.998\n",
      "\n",
      "Loglikelihood and Information Criteria:\n",
      "\n",
      "  Loglikelihood user model (H0)              -8554.222\n",
      "  Loglikelihood unrestricted model (H1)      -8552.599\n",
      "                                                      \n",
      "  Akaike (AIC)                               17132.444\n",
      "  Bayesian (BIC)                             17182.251\n",
      "  Sample-size adjusted Bayesian (SABIC)      17144.166\n",
      "\n",
      "Root Mean Square Error of Approximation:\n",
      "\n",
      "  RMSEA                                          0.013\n",
      "  90 Percent confidence interval - lower         0.000\n",
      "  90 Percent confidence interval - upper         0.080\n",
      "  P-value H_0: RMSEA <= 0.050                    0.742\n",
      "  P-value H_0: RMSEA >= 0.080                    0.050\n",
      "\n",
      "Standardized Root Mean Square Residual:\n",
      "\n",
      "  SRMR                                           0.016\n",
      "\n",
      "Parameter Estimates:\n",
      "\n",
      "  Standard errors                             Standard\n",
      "  Information                                 Expected\n",
      "  Information saturated (h1) model          Structured\n",
      "\n",
      "Regressions:\n",
      "                   Estimate  Std.Err  z-value  P(>|z|)\n",
      "  ses ~                                               \n",
      "    symptoms          0.448    0.063    7.110    0.000\n",
      "    dysfunction       0.221    0.055    4.019    0.000\n",
      "  morale ~                                            \n",
      "    symptoms          0.107    0.009   11.756    0.000\n",
      "    ses               0.021    0.006    3.291    0.001\n",
      "  relations ~                                         \n",
      "    dysfunction      -0.024    0.007   -3.335    0.001\n",
      "    morale            0.504    0.037   13.745    0.000\n",
      "\n",
      "Covariances:\n",
      "                   Estimate  Std.Err  z-value  P(>|z|)\n",
      "  symptoms ~~                                         \n",
      "    dysfunction      59.670   15.553    3.836    0.000\n",
      "\n",
      "Variances:\n",
      "                   Estimate  Std.Err  z-value  P(>|z|)\n",
      "   .ses             521.598   34.062   15.313    0.000\n",
      "   .morale            9.884    0.645   15.313    0.000\n",
      "   .relations         8.732    0.570   15.313    0.000\n",
      "    symptoms        289.000   18.872   15.313    0.000\n",
      "    dysfunction     380.250   24.831   15.313    0.000\n",
      "\n",
      "R-Square:\n",
      "                   Estimate\n",
      "    ses               0.145\n",
      "    morale            0.297\n",
      "    relations         0.290\n",
      "\n"
     ]
    }
   ],
   "source": [
    "lavaan::summary(medical, fit.measures = TRUE, rsquare = TRUE) |> print()"
   ]
  },
  {
   "cell_type": "code",
   "execution_count": 37,
   "metadata": {
    "vscode": {
     "languageId": "r"
    }
   },
   "outputs": [
    {
     "data": {
      "text/html": [
       "<dl>\n",
       "\t<dt>$type</dt>\n",
       "\t\t<dd>'standardized.mplus'</dd>\n",
       "\t<dt>$cov</dt>\n",
       "\t\t<dd><table class=\"dataframe\">\n",
       "<caption>A lavaan.matrix.symmetric: 5 x 5 of type dbl</caption>\n",
       "<thead>\n",
       "\t<tr><th></th><th scope=col>ses</th><th scope=col>morale</th><th scope=col>relations</th><th scope=col>symptoms</th><th scope=col>dysfunction</th></tr>\n",
       "</thead>\n",
       "<tbody>\n",
       "\t<tr><th scope=row>ses</th><td> 0.000000e+00</td><td> 0.000000e+00</td><td>-1.1606492</td><td>0.000000e+00</td><td>0.0000000</td></tr>\n",
       "\t<tr><th scope=row>morale</th><td> 3.552714e-15</td><td> 1.776357e-15</td><td>-1.8183928</td><td>7.105427e-15</td><td>0.8421545</td></tr>\n",
       "\t<tr><th scope=row>relations</th><td>-1.160649e+00</td><td>-1.818393e+00</td><td>        NA</td><td>8.329954e-01</td><td>0.8623327</td></tr>\n",
       "\t<tr><th scope=row>symptoms</th><td> 0.000000e+00</td><td> 7.105427e-15</td><td> 0.8329954</td><td>0.000000e+00</td><td>0.0000000</td></tr>\n",
       "\t<tr><th scope=row>dysfunction</th><td> 0.000000e+00</td><td> 8.421545e-01</td><td> 0.8623327</td><td>0.000000e+00</td><td>0.0000000</td></tr>\n",
       "</tbody>\n",
       "</table>\n",
       "</dd>\n",
       "</dl>\n"
      ],
      "text/latex": [
       "\\begin{description}\n",
       "\\item[\\$type] 'standardized.mplus'\n",
       "\\item[\\$cov] A lavaan.matrix.symmetric: 5 x 5 of type dbl\n",
       "\\begin{tabular}{r|lllll}\n",
       "  & ses & morale & relations & symptoms & dysfunction\\\\\n",
       "\\hline\n",
       "\tses &  0.000000e+00 &  0.000000e+00 & -1.1606492 & 0.000000e+00 & 0.0000000\\\\\n",
       "\tmorale &  3.552714e-15 &  1.776357e-15 & -1.8183928 & 7.105427e-15 & 0.8421545\\\\\n",
       "\trelations & -1.160649e+00 & -1.818393e+00 &         NA & 8.329954e-01 & 0.8623327\\\\\n",
       "\tsymptoms &  0.000000e+00 &  7.105427e-15 &  0.8329954 & 0.000000e+00 & 0.0000000\\\\\n",
       "\tdysfunction &  0.000000e+00 &  8.421545e-01 &  0.8623327 & 0.000000e+00 & 0.0000000\\\\\n",
       "\\end{tabular}\n",
       "\n",
       "\\end{description}\n"
      ],
      "text/markdown": [
       "$type\n",
       ":   'standardized.mplus'\n",
       "$cov\n",
       ":   \n",
       "A lavaan.matrix.symmetric: 5 x 5 of type dbl\n",
       "\n",
       "| <!--/--> | ses | morale | relations | symptoms | dysfunction |\n",
       "|---|---|---|---|---|---|\n",
       "| ses |  0.000000e+00 |  0.000000e+00 | -1.1606492 | 0.000000e+00 | 0.0000000 |\n",
       "| morale |  3.552714e-15 |  1.776357e-15 | -1.8183928 | 7.105427e-15 | 0.8421545 |\n",
       "| relations | -1.160649e+00 | -1.818393e+00 |         NA | 8.329954e-01 | 0.8623327 |\n",
       "| symptoms |  0.000000e+00 |  7.105427e-15 |  0.8329954 | 0.000000e+00 | 0.0000000 |\n",
       "| dysfunction |  0.000000e+00 |  8.421545e-01 |  0.8623327 | 0.000000e+00 | 0.0000000 |\n",
       "\n",
       "\n",
       "\n",
       "\n"
      ],
      "text/plain": [
       "$type\n",
       "[1] \"standardized.mplus\"\n",
       "\n",
       "$cov\n",
       "               ses morale reltns symptm dysfnc\n",
       "ses          0.000                            \n",
       "morale       0.000  0.000                     \n",
       "relations   -1.161 -1.818     NA              \n",
       "symptoms     0.000  0.000  0.833  0.000       \n",
       "dysfunction  0.000  0.842  0.862  0.000  0.000\n"
      ]
     },
     "metadata": {},
     "output_type": "display_data"
    },
    {
     "data": {
      "text/html": [
       "<dl>\n",
       "\t<dt>$type</dt>\n",
       "\t\t<dd>'normalized'</dd>\n",
       "\t<dt>$cov</dt>\n",
       "\t\t<dd><table class=\"dataframe\">\n",
       "<caption>A lavaan.matrix.symmetric: 5 x 5 of type dbl</caption>\n",
       "<thead>\n",
       "\t<tr><th></th><th scope=col>ses</th><th scope=col>morale</th><th scope=col>relations</th><th scope=col>symptoms</th><th scope=col>dysfunction</th></tr>\n",
       "</thead>\n",
       "<tbody>\n",
       "\t<tr><th scope=row>ses</th><td> 0.000000e+00</td><td> 0.000000e+00</td><td>-0.90105315</td><td>0.000000e+00</td><td>0.0000000</td></tr>\n",
       "\t<tr><th scope=row>morale</th><td> 3.552714e-15</td><td> 1.776357e-15</td><td>-0.07984379</td><td>7.105427e-15</td><td>0.6796519</td></tr>\n",
       "\t<tr><th scope=row>relations</th><td>-9.010531e-01</td><td>-7.984379e-02</td><td>-0.06868029</td><td>5.732348e-01</td><td>0.3704092</td></tr>\n",
       "\t<tr><th scope=row>symptoms</th><td> 0.000000e+00</td><td> 7.105427e-15</td><td> 0.57323484</td><td>0.000000e+00</td><td>0.0000000</td></tr>\n",
       "\t<tr><th scope=row>dysfunction</th><td> 0.000000e+00</td><td> 6.796519e-01</td><td> 0.37040916</td><td>0.000000e+00</td><td>0.0000000</td></tr>\n",
       "</tbody>\n",
       "</table>\n",
       "</dd>\n",
       "</dl>\n"
      ],
      "text/latex": [
       "\\begin{description}\n",
       "\\item[\\$type] 'normalized'\n",
       "\\item[\\$cov] A lavaan.matrix.symmetric: 5 x 5 of type dbl\n",
       "\\begin{tabular}{r|lllll}\n",
       "  & ses & morale & relations & symptoms & dysfunction\\\\\n",
       "\\hline\n",
       "\tses &  0.000000e+00 &  0.000000e+00 & -0.90105315 & 0.000000e+00 & 0.0000000\\\\\n",
       "\tmorale &  3.552714e-15 &  1.776357e-15 & -0.07984379 & 7.105427e-15 & 0.6796519\\\\\n",
       "\trelations & -9.010531e-01 & -7.984379e-02 & -0.06868029 & 5.732348e-01 & 0.3704092\\\\\n",
       "\tsymptoms &  0.000000e+00 &  7.105427e-15 &  0.57323484 & 0.000000e+00 & 0.0000000\\\\\n",
       "\tdysfunction &  0.000000e+00 &  6.796519e-01 &  0.37040916 & 0.000000e+00 & 0.0000000\\\\\n",
       "\\end{tabular}\n",
       "\n",
       "\\end{description}\n"
      ],
      "text/markdown": [
       "$type\n",
       ":   'normalized'\n",
       "$cov\n",
       ":   \n",
       "A lavaan.matrix.symmetric: 5 x 5 of type dbl\n",
       "\n",
       "| <!--/--> | ses | morale | relations | symptoms | dysfunction |\n",
       "|---|---|---|---|---|---|\n",
       "| ses |  0.000000e+00 |  0.000000e+00 | -0.90105315 | 0.000000e+00 | 0.0000000 |\n",
       "| morale |  3.552714e-15 |  1.776357e-15 | -0.07984379 | 7.105427e-15 | 0.6796519 |\n",
       "| relations | -9.010531e-01 | -7.984379e-02 | -0.06868029 | 5.732348e-01 | 0.3704092 |\n",
       "| symptoms |  0.000000e+00 |  7.105427e-15 |  0.57323484 | 0.000000e+00 | 0.0000000 |\n",
       "| dysfunction |  0.000000e+00 |  6.796519e-01 |  0.37040916 | 0.000000e+00 | 0.0000000 |\n",
       "\n",
       "\n",
       "\n",
       "\n"
      ],
      "text/plain": [
       "$type\n",
       "[1] \"normalized\"\n",
       "\n",
       "$cov\n",
       "               ses morale reltns symptm dysfnc\n",
       "ses          0.000                            \n",
       "morale       0.000  0.000                     \n",
       "relations   -0.901 -0.080 -0.069              \n",
       "symptoms     0.000  0.000  0.573  0.000       \n",
       "dysfunction  0.000  0.680  0.370  0.000  0.000\n"
      ]
     },
     "metadata": {},
     "output_type": "display_data"
    },
    {
     "data": {
      "text/html": [
       "<dl>\n",
       "\t<dt>$type</dt>\n",
       "\t\t<dd>'cor.bollen'</dd>\n",
       "\t<dt>$cov</dt>\n",
       "\t\t<dd><table class=\"dataframe\">\n",
       "<caption>A lavaan.matrix.symmetric: 5 x 5 of type dbl</caption>\n",
       "<thead>\n",
       "\t<tr><th></th><th scope=col>ses</th><th scope=col>morale</th><th scope=col>relations</th><th scope=col>symptoms</th><th scope=col>dysfunction</th></tr>\n",
       "</thead>\n",
       "<tbody>\n",
       "\t<tr><th scope=row>ses</th><td> 0.000000e+00</td><td>-5.551115e-17</td><td>-0.041480422</td><td>0.00000000</td><td>0.00000000</td></tr>\n",
       "\t<tr><th scope=row>morale</th><td>-5.551115e-17</td><td>-2.220446e-16</td><td>-0.002984041</td><td>0.00000000</td><td>0.03173451</td></tr>\n",
       "\t<tr><th scope=row>relations</th><td>-4.148042e-02</td><td>-2.984041e-03</td><td> 0.000000000</td><td>0.02814665</td><td>0.01697525</td></tr>\n",
       "\t<tr><th scope=row>symptoms</th><td> 0.000000e+00</td><td> 0.000000e+00</td><td> 0.028146649</td><td>0.00000000</td><td>0.00000000</td></tr>\n",
       "\t<tr><th scope=row>dysfunction</th><td> 0.000000e+00</td><td> 3.173451e-02</td><td> 0.016975249</td><td>0.00000000</td><td>0.00000000</td></tr>\n",
       "</tbody>\n",
       "</table>\n",
       "</dd>\n",
       "</dl>\n"
      ],
      "text/latex": [
       "\\begin{description}\n",
       "\\item[\\$type] 'cor.bollen'\n",
       "\\item[\\$cov] A lavaan.matrix.symmetric: 5 x 5 of type dbl\n",
       "\\begin{tabular}{r|lllll}\n",
       "  & ses & morale & relations & symptoms & dysfunction\\\\\n",
       "\\hline\n",
       "\tses &  0.000000e+00 & -5.551115e-17 & -0.041480422 & 0.00000000 & 0.00000000\\\\\n",
       "\tmorale & -5.551115e-17 & -2.220446e-16 & -0.002984041 & 0.00000000 & 0.03173451\\\\\n",
       "\trelations & -4.148042e-02 & -2.984041e-03 &  0.000000000 & 0.02814665 & 0.01697525\\\\\n",
       "\tsymptoms &  0.000000e+00 &  0.000000e+00 &  0.028146649 & 0.00000000 & 0.00000000\\\\\n",
       "\tdysfunction &  0.000000e+00 &  3.173451e-02 &  0.016975249 & 0.00000000 & 0.00000000\\\\\n",
       "\\end{tabular}\n",
       "\n",
       "\\end{description}\n"
      ],
      "text/markdown": [
       "$type\n",
       ":   'cor.bollen'\n",
       "$cov\n",
       ":   \n",
       "A lavaan.matrix.symmetric: 5 x 5 of type dbl\n",
       "\n",
       "| <!--/--> | ses | morale | relations | symptoms | dysfunction |\n",
       "|---|---|---|---|---|---|\n",
       "| ses |  0.000000e+00 | -5.551115e-17 | -0.041480422 | 0.00000000 | 0.00000000 |\n",
       "| morale | -5.551115e-17 | -2.220446e-16 | -0.002984041 | 0.00000000 | 0.03173451 |\n",
       "| relations | -4.148042e-02 | -2.984041e-03 |  0.000000000 | 0.02814665 | 0.01697525 |\n",
       "| symptoms |  0.000000e+00 |  0.000000e+00 |  0.028146649 | 0.00000000 | 0.00000000 |\n",
       "| dysfunction |  0.000000e+00 |  3.173451e-02 |  0.016975249 | 0.00000000 | 0.00000000 |\n",
       "\n",
       "\n",
       "\n",
       "\n"
      ],
      "text/plain": [
       "$type\n",
       "[1] \"cor.bollen\"\n",
       "\n",
       "$cov\n",
       "               ses morale reltns symptm dysfnc\n",
       "ses          0.000                            \n",
       "morale       0.000  0.000                     \n",
       "relations   -0.041 -0.003  0.000              \n",
       "symptoms     0.000  0.000  0.028  0.000       \n",
       "dysfunction  0.000  0.032  0.017  0.000  0.000\n"
      ]
     },
     "metadata": {},
     "output_type": "display_data"
    }
   ],
   "source": [
    "# print residuals\n",
    "lavaan::residuals(medical, type = \"standardized.mplus\")\n",
    "lavaan::residuals(medical, type = \"normalized\")\n",
    "lavaan::residuals(medical, type = \"cor.bollen\")"
   ]
  },
  {
   "cell_type": "markdown",
   "metadata": {},
   "source": [
    "In conclusione, i valori i valori degli indici di adattamento predittivo per i due modelli alternativi di Romney et al. (1992) sono stati generati seguendo le istruzioni precedentemente descritte. Non sorprende che l'adattamento globale del modello medico convenzionale, più complesso (con $ dfM = 3 $), sia migliore rispetto a quello del modello psicosomatico, più semplice (con $ dfM = 5 $). Nonostante il modello medico convenzionale sia più complesso e quindi soggetto a una penalità maggiore per il minor numero di gradi di libertà, i valori ottenuti sia nell'AIC che nel BIC sono inferiori rispetto a quelli del modello psicosomatico. Questo indica che il vantaggio in termini di adattamento del modello medico convenzionale è sufficiente a superare la penalità per la sua maggiore complessità. In base a queste analisi, il modello medico convenzionale è considerato più adatto rispetto al modello psicosomatico, come evidenziato dai valori più bassi nei criteri AIC e BIC."
   ]
  },
  {
   "cell_type": "markdown",
   "metadata": {},
   "source": [
    "## Indici di Modifica e Statistiche Correlate nel SEM\n",
    "\n",
    "Nell'elaborazione di modelli SEM (Structural Equation Modeling), esiste la possibilità di implementare modifiche attraverso processi automatizzati. Questi interventi, di carattere esplorativo, si basano sull'aggiunta o sulla rimozione di parametri seguendo criteri empirici, come la significatività statistica di un indice di modifica (MI) o di un test di punteggio. Gli indici di modifica, in particolare, sono calcolati per quei parametri che nel modello sono stati inizialmente vincolati e servono a stimare quanto il chi-quadrato del modello di massima verosimiglianza (chiML) si ridurrebbe se un dato parametro vincolato venisse liberato.\n",
    "\n",
    "Il meccanismo di modifica automatica opera liberando, ad ogni iterazione, il parametro vincolato che presenta il valore di MI più alto. Questo processo continua finché non si raggiunge un MI che è statisticamente significativo secondo i criteri stabiliti dal ricercatore. È cruciale, tuttavia, riconoscere che l'uso di questa metodologia, specialmente in campioni di piccole dimensioni, può portare alla formulazione di modelli che si basano eccessivamente sul caso. Di conseguenza, questi modelli potrebbero risultare poco robusti e difficilmente replicabili in studi successivi. L'automazione nel processo di ottimizzazione dei modelli SEM richiede dunque un'attenta valutazione del contesto e della dimensione del campione per garantire l'affidabilità e la validità dei risultati ottenuti.\n",
    "\n",
    "Un altro strumento di uso frequente nei SEM è il test di Wald, basato sulla statistica W. Questo test è progettato per valutare l'impatto che avrebbe la fissazione a zero di un parametro precedentemente stimato liberamente nel modello. In termini più tecnici, il test di Wald stima l'incremento che si verificherebbe nel chi-quadrato del modello di massima verosimiglianza (chiML) se tale parametro fosse \"potato\", ovvero escluso dal modello.\n",
    "\n",
    "Similmente ai processi di modifica automatica, l'efficacia del test di Wald può essere influenzata dalla casualità. Un aspetto cruciale da considerare è la sensibilità di questi test alla dimensione del campione. Infatti, anche piccole modifiche nella bontà di adattamento del modello possono assumere una significatività statistica notevole in campioni di ampie dimensioni.\n",
    "\n",
    "Di conseguenza, quando si valutano gli indici di modifica come il MI (Modifica Index), è essenziale che il ricercatore non si limiti a considerarne la sola significatività statistica. È importante anche valutare l'entità del cambiamento che si verificherebbe nel coefficiente del parametro se fosse liberato. Se il cambiamento previsto è minimo, la significatività statistica dell'indice di modifica potrebbe essere più indicativa della dimensione del campione che non della sostanziale rilevanza dell'effetto analizzato. Questa considerazione sottolinea l'importanza di un approccio olistico e critico nell'interpretazione dei risultati dei test diagnostici in SEM, specialmente in contesti dove la dimensione del campione può influenzare significativamente i risultati."
   ]
  },
  {
   "cell_type": "code",
   "execution_count": 38,
   "metadata": {
    "vscode": {
     "languageId": "r"
    }
   },
   "outputs": [],
   "source": [
    "fit_mdd <- cfa(\n",
    "    model_mdd,\n",
    "    data = d_mdd\n",
    ")"
   ]
  },
  {
   "cell_type": "markdown",
   "metadata": {},
   "source": [
    "Calcoliamo gli indici di modifica."
   ]
  },
  {
   "cell_type": "code",
   "execution_count": 39,
   "metadata": {
    "vscode": {
     "languageId": "r"
    }
   },
   "outputs": [
    {
     "name": "stdout",
     "output_type": "stream",
     "text": [
      "    lhs op  rhs     mi    epc sepc.lv sepc.all sepc.nox\n",
      "20 mdd1 ~~ mdd2 46.877  0.732   0.732    0.560    0.560\n",
      "21 mdd1 ~~ mdd3  4.996 -0.211  -0.211   -0.108   -0.108\n",
      "22 mdd1 ~~ mdd4  4.625 -0.215  -0.215   -0.108   -0.108\n",
      "23 mdd1 ~~ mdd5  7.797 -0.266  -0.266   -0.137   -0.137\n",
      "24 mdd1 ~~ mdd6  6.434 -0.236  -0.236   -0.132   -0.132\n",
      "25 mdd1 ~~ mdd7  0.293  0.053   0.053    0.026    0.026\n",
      "26 mdd1 ~~ mdd8  5.046 -0.219  -0.219   -0.116   -0.116\n",
      "27 mdd1 ~~ mdd9  5.385  0.187   0.187    0.111    0.111\n",
      "28 mdd2 ~~ mdd3  1.435 -0.138  -0.138   -0.055   -0.055\n",
      "29 mdd2 ~~ mdd4 10.931 -0.402  -0.402   -0.158   -0.158\n",
      "30 mdd2 ~~ mdd5  5.835 -0.281  -0.281   -0.113   -0.113\n",
      "31 mdd2 ~~ mdd6  2.235 -0.169  -0.169   -0.074   -0.074\n",
      "32 mdd2 ~~ mdd7  0.394 -0.076  -0.076   -0.029   -0.029\n",
      "33 mdd2 ~~ mdd8  0.027 -0.019  -0.019   -0.008   -0.008\n",
      "34 mdd2 ~~ mdd9  2.070 -0.142  -0.142   -0.066   -0.066\n",
      "35 mdd3 ~~ mdd4 16.199  0.591   0.591    0.155    0.155\n",
      "36 mdd3 ~~ mdd5  3.298  0.258   0.258    0.069    0.069\n",
      "37 mdd3 ~~ mdd6  6.361  0.337   0.337    0.098    0.098\n",
      "38 mdd3 ~~ mdd7  0.499 -0.106  -0.106   -0.027   -0.027\n",
      "39 mdd3 ~~ mdd8  0.014 -0.017  -0.017   -0.005   -0.005\n",
      "40 mdd3 ~~ mdd9  2.860 -0.208  -0.208   -0.064   -0.064\n",
      "41 mdd4 ~~ mdd5 12.198  0.509   0.509    0.136    0.136\n",
      "42 mdd4 ~~ mdd6 17.435  0.573   0.573    0.165    0.165\n",
      "43 mdd4 ~~ mdd7  1.272 -0.174  -0.174   -0.043   -0.043\n",
      "44 mdd4 ~~ mdd8  0.975  0.143   0.143    0.039    0.039\n",
      "45 mdd4 ~~ mdd9  1.879 -0.173  -0.173   -0.053   -0.053\n",
      "46 mdd5 ~~ mdd6  7.502  0.364   0.364    0.107    0.107\n",
      "47 mdd5 ~~ mdd7  0.096  0.046   0.046    0.012    0.012\n",
      "48 mdd5 ~~ mdd8  4.217  0.288   0.288    0.080    0.080\n",
      "49 mdd5 ~~ mdd9  0.544 -0.090  -0.090   -0.028   -0.028\n",
      "50 mdd6 ~~ mdd7  2.046 -0.201  -0.201   -0.055   -0.055\n",
      "51 mdd6 ~~ mdd8  0.877  0.124   0.124    0.037    0.037\n",
      "52 mdd6 ~~ mdd9  2.479 -0.180  -0.180   -0.061   -0.061\n",
      "53 mdd7 ~~ mdd8  0.188  0.064   0.064    0.017    0.017\n",
      "54 mdd7 ~~ mdd9 13.527  0.474   0.474    0.139    0.139\n",
      "55 mdd8 ~~ mdd9  0.322  0.069   0.069    0.022    0.022\n"
     ]
    }
   ],
   "source": [
    "modification_indices <- lavInspect(fit_mdd, \"mi\")\n",
    "modification_indices |> print()"
   ]
  },
  {
   "cell_type": "markdown",
   "metadata": {},
   "source": [
    "Nel modello che stiamo analizzando, l'indice di modifica (MI) più elevato si riferisce alla possibile modifica del parametro che governa la correlazione tra i residui degli indicatori `mm1` e `mm2`. Nel modello `model_mdd` questa correlazione residua è impostata a zero, indicando l'assenza di una correlazione diretta tra questi residui. Tuttavia, l'indice di modifica suggerisce che se permettessimo a questa correlazione di essere stimata liberamente dal modello (anziché tenerla fissa a zero), si verificherebbe un miglioramento dell'adattamento del modello ai dati osservati. Questa osservazione è in linea con il modello alternativo che è stato proposto per questi dati proposto da {cite:t}`brown2015confirmatory`. \n",
    "\n",
    "Incorporare una correlazione residua tra  `mm1` e `mm2` significa riconoscere che, oltre alla variazione spiegata dalle variabili latenti comuni, esiste una relazione unica tra questi due indicatori che non è catturata dal modello. Tale relazione potrebbe essere dovuta a fattori specifici relativi a questi indicatori o a una misurazione comune non prevista dal modello originale.\n",
    "\n",
    "È importante sottolineare che ogni modifica al modello basata sugli indici di modifica dovrebbe essere attentamente valutata per assicurarsi che sia supportata sia da giustificazioni teoriche che empiriche. Aggiungere correlazioni residue può migliorare l'adattamento del modello, ma dovrebbe essere fatto con cautela per evitare di creare un modello eccessivamente complesso che potrebbe non essere generalizzabile al di fuori del campione di dati specifico utilizzato."
   ]
  },
  {
   "cell_type": "markdown",
   "metadata": {},
   "source": [
    "## Considerazioni Conclusive\n",
    "\n",
    "Nel campo dei modelli di equazioni strutturali (SEM), è pratica comune selezionare il modello più appropriato da un insieme di alternative, tutte calibrate sugli stessi dati. È frequente il confronto tra modelli gerarchicamente collegati, in cui il modello più restrittivo è incluso, o annidato, in quello meno restrittivo. In queste situazioni, il test di differenza del chi-quadrato viene impiegato per valutare se i modelli hanno un adattamento equivalente. Utilizzare questo test e le statistiche diagnostiche correlate, come gli indici di modifica, richiede un approccio guidato dalla teoria, non solo da criteri empirici. Un eccessivo affidamento su criteri puramente empirici, come la significatività statistica, può portare a una dipendenza eccessiva dal caso.\n",
    "\n",
    "Per confrontare modelli non annidati, il test di differenza del chi-quadrato non è idoneo, ma si possono adottare gli indici di adattamento predittivo, basati sulla teoria dell'informazione, per la loro valutazione. Quando si decide di mantenere un modello, è cruciale prendere in considerazione anche altri modelli alternativi potenzialmente equivalenti. È importante fornire motivazioni solide su perché il modello selezionato dal ricercatore sia da preferire rispetto a queste alternative equivalenti.\n",
    "\n",
    "Questo approccio consente una comprensione più profonda e una scelta più informata del modello, assicurando che la selezione sia fondata su basi teoriche solide e non solamente su risultati statistici."
   ]
  }
 ],
 "metadata": {
  "kernelspec": {
   "display_name": "R",
   "language": "R",
   "name": "ir"
  },
  "language_info": {
   "codemirror_mode": "r",
   "file_extension": ".r",
   "mimetype": "text/x-r-source",
   "name": "R",
   "pygments_lexer": "r",
   "version": "4.3.2"
  }
 },
 "nbformat": 4,
 "nbformat_minor": 2
}