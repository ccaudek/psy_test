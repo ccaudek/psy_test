{
 "cells": [
  {
   "cell_type": "markdown",
   "metadata": {},
   "source": [
    "(small-samples-notebook)=\n",
    "# Modellizzazione di Piccoli Campioni"
   ]
  },
  {
   "cell_type": "markdown",
   "metadata": {},
   "source": [
    "Questo capitolo si focalizza sui modelli SEM in contesti dove i campioni sono di piccole dimensioni, una situazione che introduce sfide significative nell'utilizzo di tecniche statistiche multivariate. È noto che la maggior parte dei metodi di stima e inferenza in SEM sono basati su presupposti asintotici, cioè assumono l'esistenza di campioni casuali di grandi dimensioni. Tuttavia, in campioni più piccoli, come quelli con N < 200, emergono problematiche specifiche: i metodi iterativi possono non raggiungere la convergenza, possono verificarsi soluzioni non valide a causa dei cosiddetti casi di Heywood o altri risultati anomali difficili da interpretare, e le stime dei parametri possono risultare fortemente distorte.\n",
    "\n",
    "In risposta a queste difficoltà, alcuni ricercatori preferiscono evitare l'uso di SEM in campioni ridotti, orientandosi verso metodi più semplici. Tuttavia, è importante riconoscere che il bias legato alla dimensione ridotta del campione può essere ancora più pronunciato in tecniche come la regressione multipla o l'analisi di percorso con variabili manifeste, specialmente quando non si tiene conto dell'errore di misurazione. \n",
    "\n",
    "Questo capitolo si propone di esplorare diverse strategie per superare le sfide poste dall'uso della SEM in campioni di piccole dimensioni. Saranno presentati approcci per la specificazione del modello, la stima dei parametri e la valutazione dell'adattamento del modello. Alcune di queste metodologie sono note da tempo nel campo della statistica, mentre altre, come strategie di stima particolari e statistiche di test specifiche per campioni di dimensioni limitate, sono di più recente introduzione. L'efficacia di queste tecniche sarà illustrata attraverso l'analisi di un modello di fattore comune in un campione di piccole dimensioni."
   ]
  },
  {
   "cell_type": "code",
   "execution_count": 1,
   "metadata": {
    "vscode": {
     "languageId": "r"
    }
   },
   "outputs": [],
   "source": [
    "source(\"../_common.R\")\n",
    "suppressPackageStartupMessages({\n",
    "    library(\"lavaan\")\n",
    "    library(\"semPlot\")\n",
    "    library(\"semTools\")\n",
    "    library(\"knitr\")\n",
    "    library(\"markdown\")\n",
    "    library(\"patchwork\")\n",
    "    library(\"lme4\")\n",
    "    library(\"here\")\n",
    "    library(\"MIIVsem\")\n",
    "})\n",
    "set.seed(42)"
   ]
  },
  {
   "cell_type": "markdown",
   "metadata": {},
   "source": [
    "L'analisi di modelli a fattori comuni in campioni di piccole dimensioni si scontra con sfide notevoli, tra cui l'insorgenza di soluzioni inammissibili o il mancato raggiungimento della convergenza nelle stime iterative. Per superare questi ostacoli, {cite:t}`kline2023principles` propone diverse strategie, adatte a mitigare questi problemi:\n",
    "\n",
    "1. **Selezione di Indicatori con Elevate Caratteristiche Psicometriche**: È consigliabile utilizzare indicatori che mostrino eccellenti proprietà psicometriche, idealmente con carichi standardizzati superiori a .70 per gli indicatori continui. Questa pratica riduce il rischio di incorrere in casi di Heywood.\n",
    "\n",
    "2. **Applicazione di Restrizioni di Uguaglianza sui Carichi Non Standardizzati**: Imponendo vincoli di uguaglianza sulle saturazioni degli indicatori relativi allo stesso fattore si possono evitare soluzioni inammissibili. Questo approccio è particolarmente valido quando gli indicatori sono sulla stessa scala. Un'alternativa valida consiste nel fissare le saturazioni degli indicatori dello stesso fattore a valori costanti non nulli, che riflettano le variazioni nelle loro deviazioni standard.\n",
    "\n",
    "3. **Utilizzo di Metodi di Stima Locale**: L'adozione di metodi che analizzano una singola equazione per volta, come il MIIV-2SLS (variabili strumentali modello-implicate con metodo dei minimi quadrati in due fasi), elimina i problemi di convergenza tipici dei metodi iterativi. Questa tecnica, che non dipende dall'assunzione di normalità, può isolare in modo più efficace gli effetti dell'errore di specificazione rispetto a metodi simultanei come il Maximum Likelihood (ML).\n",
    "\n",
    "4. **Approccio Structural-After-Measurement (SAM)**: In questo metodo, la stima dei parametri del modello di misurazione avviene prima, seguita dalla stima dei parametri strutturali, mantenendo fissi i parametri di misurazione stimati inizialmente. Questo processo bifasico permette un isolamento più accurato degli errori di specificazione nel modello di misurazione.\n",
    "\n",
    "5. **SEM Basato su Compositi per Modelli Complessi in Campioni Piccoli**: L'utilizzo di metodi basati su compositi (cioè, combinazioni lineari di variabili osservate) può fornire risultati per modelli complessi che, con il SEM tradizionale, richiederebbero campioni molto più ampi. Tuttavia, è importante notare che anche i risultati del SEM basato su compositi possono essere distorti in campioni piccoli.\n",
    "\n",
    "6. **Analisi di Dati a Livello di Item in Campioni Piccoli**: Affrontare l'analisi di modelli con item come indicatori può essere complesso in campioni ridotti, specialmente quando si utilizzano metodi per dati ordinali anziché continui. Un'alternativa efficace è il parceling, che consiste nell'aggregare due o più item in pacchetti, sommando o mediando i valori degli item, e utilizzando questi pacchetti come indicatori. Sebbene il parceling possa ridurre la varianza dell'errore, è importante considerare le sue restrizioni e il fatto che i risultati possono variare notevolmente a seconda delle scelte fatte dal ricercatore durante l'analisi."
   ]
  },
  {
   "cell_type": "markdown",
   "metadata": {},
   "source": [
    "## Parceling \n",
    "\n",
    "Consideriamo un questionario di 120 item diviso in tre gruppi distinti di 40 item ciascuno, ognuno mirato a misurare un'area specifica. In un campione di 150 partecipanti, un'analisi fattoriale confermativa (CFA) con tre fattori e 40 indicatori per fattore risultante in 120 indicatori totali, può presentare sfide notevoli a causa della dimensione del campione. Per affrontare questi problemi, il ricercatore può suddividere ogni gruppo di 40 item in 4 gruppi minori (o pacchetti) di 10 item ciascuno, sommando i punteggi all'interno di ogni pacchetto. Questi punteggi aggregati sostituiscono poi gli item singoli come indicatori in un modello CFA a 3 fattori con 12 indicatori (4 pacchetti per fattore). Se i pacchetti hanno una distribuzione normale, si può ricorrere al metodo dei minimi quadrati (ML); altrimenti, si può utilizzare un estimatore ML robusto.\n",
    "\n",
    "Rioux et al. (2020) evidenziano ulteriori vantaggi del parceling, oltre alla semplice riduzione del numero di indicatori. I punteggi aggregati tendono a presentare intervalli più frequenti, ristretti e uniformi, avvicinandosi più a una scala di misurazione continua rispetto alle singole risposte, spesso codificate come valori discreti su una scala Likert. Inoltre, i punteggi aggregati sono generalmente più precisi e affidabili rispetto alle singole risposte. Anche i rapporti tra varianza comune e varianza unica, e i livelli di comunalità, sono tipicamente maggiori nei pacchetti rispetto agli item singoli, aiutando a mitigare problemi di stima in campioni piccoli. L'analisi di pacchetti può anche ridurre l'impatto di errori correlati o di carichi di indicatori su più fattori dovuti all'errore di campionamento.\n",
    "\n",
    "Tuttavia, il parceling presenta anche significative limitazioni. Esistono diverse metodologie per la creazione dei pacchetti, da quelle casuali a quelle basate su criteri logici, e la scelta può influenzare i risultati. Il parceling non è consigliabile se non si può assumere l'unidimensionalità degli item all'interno di ciascun pacchetto, poiché analizzare punteggi aggregati di set di item multidimensionali può distorcere i risultati. L'opzione più semplice è utilizzare misure consolidate con set di item noti a priori per essere unidimensionali, anche se tali condizioni ideali sono rare. Un'alternativa è verificare empiricamente l'unidimensionalità adattando modelli CFA a singolo fattore per gli item all'interno di ogni pacchetto. Tuttavia, vi sono problemi con questo approccio: dati generati da modelli multidimensionali possono apparire come coerenti con un modello a singolo fattore a causa dell'errore di campionamento e la ridefinizione dei pacchetti può sfruttare quest'errore, specialmente se si analizza un modello CFA modificato con gli stessi dati. "
   ]
  },
  {
   "cell_type": "markdown",
   "metadata": {},
   "source": [
    "## Stimatore MIIV-2SLS\n",
    "\n",
    "Lo stimatore MIIV-2SLS (Model Implied Instrumental Variable Two Stage Least Squares) è un metodo avanzato utilizzato nei modelli SEM, particolarmente utile nell'analisi di piccoli campioni.\n",
    "\n",
    "Una variabile strumentale è una variabile che non è correlata direttamente con il termine di errore in un'equazione di regressione, ma è correlata con una o più variabili indipendenti in quella equazione. Un *Model Implied Instrumental Variable* (MIIV) è una variabile strumentale che viene identificata o derivata dal modello di equazione strutturale stesso.\n",
    "\n",
    "Come suggerito dal nome, il MIIV-2SLS opera in due fasi. Nella prima fase, si utilizzano le MIIV per stimare le variabili endogene (dipendenti). Nella seconda fase, queste stime vengono utilizzate per calcolare le relazioni causali finali nel modello SEM. A differenza di altri metodi SEM, il MIIV-2SLS non richiede grandi campioni per produrre stime affidabili. È dunque particolarmente adatto per analisi con piccoli campioni. Per i piccoli campioni, altri metodi SEM possono introdurre bias significativi nelle stime; il MIIV-2SLS riduce questo problema."
   ]
  },
  {
   "cell_type": "markdown",
   "metadata": {},
   "source": [
    "## SEM in un Piccolo Campione\n",
    "\n",
    "{cite:t}`kline2023principles` discute uno studio in cui è stato applicato un modello CFA a due fattori ad un campione di 103 donne, le quali hanno compilato questionari su esperienze di origine familiare e adattamento coniugale (Sabatelli e Bartle-Haring, 2003). "
   ]
  },
  {
   "cell_type": "code",
   "execution_count": 2,
   "metadata": {
    "vscode": {
     "languageId": "r"
    }
   },
   "outputs": [],
   "source": [
    "# input the correlations in lower diagnonal form\n",
    "sabatelliLower.cor <- \"\n",
    " 1.000\n",
    "  .740 1.000\n",
    "  .265  .422 1.000\n",
    "  .305  .401  .791 1.000\n",
    "  .315  .351  .662  .587 1.000 \"\n",
    "\n",
    "# name the variables and convert to full correlation matrix\n",
    "sabatelli.cor <- lavaan::getCov(sabatelliLower.cor, names = c(\n",
    "    \"problems\", \"intimacy\", \"father\", \"mother\", \"both\"\n",
    "    )\n",
    ")\n",
    "\n",
    "# add the standard deviations and convert to covariances\n",
    "sabatelli.cov <- lavaan::cor2cov(sabatelli.cor, sds = c(\n",
    "    32.936, 22.749, 13.390, 13.679, 14.382\n",
    "    )\n",
    ")"
   ]
  },
  {
   "cell_type": "markdown",
   "metadata": {},
   "source": [
    "Il modello proposto dagli autori è specificato di seguito:"
   ]
  },
  {
   "cell_type": "code",
   "execution_count": 3,
   "metadata": {
    "vscode": {
     "languageId": "r"
    }
   },
   "outputs": [],
   "source": [
    "sabatelli_model <- \"\n",
    "    # common factors\n",
    "    # loading for intimacy constrained to equal .691\n",
    "    Marital =~ problems + intimacy\n",
    "    FOE =~ father + mother + both\n",
    "\""
   ]
  },
  {
   "cell_type": "markdown",
   "metadata": {},
   "source": [
    "In riferimento al modello specificato sopra, la soluzione fornita da `lavaan` risulta inammissibile a causa di un caso di Heywood, evidenziato da una varianza d'errore negativa per la variabile \"intimità\"."
   ]
  },
  {
   "cell_type": "code",
   "execution_count": 4,
   "metadata": {
    "vscode": {
     "languageId": "r"
    }
   },
   "outputs": [
    {
     "name": "stderr",
     "output_type": "stream",
     "text": [
      "Warning message in lav_object_post_check(object):\n",
      "“lavaan WARNING: some estimated ov variances are negative”\n"
     ]
    }
   ],
   "source": [
    "original <- lavaan::sem(sabatelli_model,\n",
    "    sample.cov = sabatelli.cov,\n",
    "    sample.nobs = 103\n",
    ")"
   ]
  },
  {
   "cell_type": "code",
   "execution_count": 5,
   "metadata": {
    "vscode": {
     "languageId": "r"
    }
   },
   "outputs": [
    {
     "name": "stdout",
     "output_type": "stream",
     "text": [
      "lavaan 0.6.17 ended normally after 141 iterations\n",
      "\n",
      "  Estimator                                         ML\n",
      "  Optimization method                           NLMINB\n",
      "  Number of model parameters                        11\n",
      "\n",
      "  Number of observations                           103\n",
      "\n",
      "Model Test User Model:\n",
      "                                                      \n",
      "  Test statistic                                 4.688\n",
      "  Degrees of freedom                                 4\n",
      "  P-value (Chi-square)                           0.321\n",
      "\n",
      "Model Test Baseline Model:\n",
      "\n",
      "  Test statistic                               271.302\n",
      "  Degrees of freedom                                10\n",
      "  P-value                                        0.000\n",
      "\n",
      "User Model versus Baseline Model:\n",
      "\n",
      "  Comparative Fit Index (CFI)                    0.997\n",
      "  Tucker-Lewis Index (TLI)                       0.993\n",
      "\n",
      "Loglikelihood and Information Criteria:\n",
      "\n",
      "  Loglikelihood user model (H0)              -2087.964\n",
      "  Loglikelihood unrestricted model (H1)      -2085.620\n",
      "                                                      \n",
      "  Akaike (AIC)                                4197.928\n",
      "  Bayesian (BIC)                              4226.910\n",
      "  Sample-size adjusted Bayesian (SABIC)       4192.163\n",
      "\n",
      "Root Mean Square Error of Approximation:\n",
      "\n",
      "  RMSEA                                          0.041\n",
      "  90 Percent confidence interval - lower         0.000\n",
      "  90 Percent confidence interval - upper         0.159\n",
      "  P-value H_0: RMSEA <= 0.050                    0.448\n",
      "  P-value H_0: RMSEA >= 0.080                    0.387\n",
      "\n",
      "Standardized Root Mean Square Residual:\n",
      "\n",
      "  SRMR                                           0.028\n",
      "\n",
      "Parameter Estimates:\n",
      "\n",
      "  Standard errors                             Standard\n",
      "  Information                                 Expected\n",
      "  Information saturated (h1) model          Structured\n",
      "\n",
      "Latent Variables:\n",
      "                   Estimate  Std.Err  z-value  P(>|z|)   Std.lv  Std.all\n",
      "  Marital =~                                                            \n",
      "    problems          1.000                              23.362    0.713\n",
      "    intimacy          1.006    0.221    4.547    0.000   23.503    1.038\n",
      "  FOE =~                                                                \n",
      "    father            1.000                              12.488    0.937\n",
      "    mother            0.919    0.089   10.320    0.000   11.480    0.843\n",
      "    both              0.808    0.098    8.206    0.000   10.088    0.705\n",
      "\n",
      "Covariances:\n",
      "                   Estimate  Std.Err  z-value  P(>|z|)   Std.lv  Std.all\n",
      "  Marital ~~                                                            \n",
      "    FOE             129.409   44.216    2.927    0.003    0.444    0.444\n",
      "\n",
      "Variances:\n",
      "                   Estimate  Std.Err  z-value  P(>|z|)   Std.lv  Std.all\n",
      "   .problems        528.472  130.514    4.049    0.000  528.472    0.492\n",
      "   .intimacy        -39.892  109.200   -0.365    0.715  -39.892   -0.078\n",
      "   .father           21.613   10.983    1.968    0.049   21.613    0.122\n",
      "   .mother           53.509   11.710    4.570    0.000   53.509    0.289\n",
      "   .both            103.075   16.168    6.375    0.000  103.075    0.503\n",
      "    Marital         545.776  169.103    3.227    0.001    1.000    1.000\n",
      "    FOE             155.939   26.732    5.833    0.000    1.000    1.000\n",
      "\n",
      "R-Square:\n",
      "                   Estimate\n",
      "    problems          0.508\n",
      "    intimacy             NA\n",
      "    father            0.878\n",
      "    mother            0.711\n",
      "    both              0.497\n",
      "\n"
     ]
    }
   ],
   "source": [
    "lavaan::summary(original,\n",
    "    fit.measures = TRUE, standardized = TRUE,\n",
    "    rsquare = TRUE\n",
    ") |> print()"
   ]
  },
  {
   "cell_type": "markdown",
   "metadata": {},
   "source": [
    "Per ovviare ad un tale problema, in una nuova analisi del modello di adattamento coniugale è stato applicato un vincolo specifico ai carichi non standardizzati degli indicatori. A causa delle differenze sostanziali nelle metriche tra le due variabili, ovvero \"intimacy\" (con una deviazione standard di 22.749) e \"problems\" (con una deviazione standard di 32.936), sono state fissate le seguenti saturazioni fattoriali: il carico per la variabile \"problemi\" è stato fissato a 1, mentre il carico per la variabile \"intimità\" è stato fissato a 0.691. Questi valori sono stati calcolati in modo da riflettere proporzionalmente la differenza nelle deviazioni standard tra le due variabili."
   ]
  },
  {
   "cell_type": "code",
   "execution_count": 6,
   "metadata": {
    "vscode": {
     "languageId": "r"
    }
   },
   "outputs": [],
   "source": [
    "# analysis with constrained loadings for indicators of marital adjustment\n",
    "# model df = 5\n",
    "\n",
    "# standard deviations for both indicators\n",
    "# of the marital factor are listed next\n",
    "# intimacy, sd = 22.749\n",
    "# problems, sd = 32.936\n",
    "# ratio = 22.749/32.936 = .691\n",
    "\n",
    "# specify model with constrained loadings for problems, intimacy\n",
    "\n",
    "proportional.model <- \"\n",
    "    # common factors\n",
    "    # loading for intimacy constrained to equal .691\n",
    "    Marital =~ 1*problems + .691*intimacy\n",
    "    FOE =~ father + mother + both \n",
    "\""
   ]
  },
  {
   "cell_type": "code",
   "execution_count": 7,
   "metadata": {
    "vscode": {
     "languageId": "r"
    }
   },
   "outputs": [],
   "source": [
    "proportional <- lavaan::sem(proportional.model,\n",
    "    sample.cov = sabatelli.cov,\n",
    "    sample.nobs = 103\n",
    ")"
   ]
  },
  {
   "cell_type": "code",
   "execution_count": 8,
   "metadata": {
    "vscode": {
     "languageId": "r"
    }
   },
   "outputs": [
    {
     "data": {
      "image/png": "[encoded data removed]",
      "text/plain": [
       "plot without title"
      ]
     },
     "metadata": {
      "image/png": {
       "height": 420,
       "width": 420
      }
     },
     "output_type": "display_data"
    }
   ],
   "source": [
    "semPlot::semPaths(proportional,\n",
    "    what = \"col\", whatLabels = \"par\", style = \"mx\", \n",
    "    layout = \"tree2\", nCharNodes = 7,\n",
    "    shapeMan = \"rectangle\", sizeMan = 8, sizeMan2 = 5\n",
    ")"
   ]
  },
  {
   "cell_type": "code",
   "execution_count": 9,
   "metadata": {
    "vscode": {
     "languageId": "r"
    }
   },
   "outputs": [
    {
     "name": "stdout",
     "output_type": "stream",
     "text": [
      "lavaan 0.6.17 ended normally after 110 iterations\n",
      "\n",
      "  Estimator                                         ML\n",
      "  Optimization method                           NLMINB\n",
      "  Number of model parameters                        10\n",
      "\n",
      "  Number of observations                           103\n",
      "\n",
      "Model Test User Model:\n",
      "                                                      \n",
      "  Test statistic                                 8.449\n",
      "  Degrees of freedom                                 5\n",
      "  P-value (Chi-square)                           0.133\n",
      "\n",
      "Model Test Baseline Model:\n",
      "\n",
      "  Test statistic                               271.302\n",
      "  Degrees of freedom                                10\n",
      "  P-value                                        0.000\n",
      "\n",
      "User Model versus Baseline Model:\n",
      "\n",
      "  Comparative Fit Index (CFI)                    0.987\n",
      "  Tucker-Lewis Index (TLI)                       0.974\n",
      "\n",
      "Loglikelihood and Information Criteria:\n",
      "\n",
      "  Loglikelihood user model (H0)              -2089.845\n",
      "  Loglikelihood unrestricted model (H1)      -2085.620\n",
      "                                                      \n",
      "  Akaike (AIC)                                4199.690\n",
      "  Bayesian (BIC)                              4226.037\n",
      "  Sample-size adjusted Bayesian (SABIC)       4194.449\n",
      "\n",
      "Root Mean Square Error of Approximation:\n",
      "\n",
      "  RMSEA                                          0.082\n",
      "  90 Percent confidence interval - lower         0.000\n",
      "  90 Percent confidence interval - upper         0.174\n",
      "  P-value H_0: RMSEA <= 0.050                    0.242\n",
      "  P-value H_0: RMSEA >= 0.080                    0.584\n",
      "\n",
      "Standardized Root Mean Square Residual:\n",
      "\n",
      "  SRMR                                           0.045\n",
      "\n",
      "Parameter Estimates:\n",
      "\n",
      "  Standard errors                             Standard\n",
      "  Information                                 Expected\n",
      "  Information saturated (h1) model          Structured\n",
      "\n",
      "Latent Variables:\n",
      "                   Estimate  Std.Err  z-value  P(>|z|)   Std.lv  Std.all\n",
      "  Marital =~                                                            \n",
      "    problems          1.000                              28.391    0.840\n",
      "    intimacy          0.691                              19.618    0.885\n",
      "  FOE =~                                                                \n",
      "    father            1.000                              12.373    0.929\n",
      "    mother            0.935    0.091   10.279    0.000   11.568    0.850\n",
      "    both              0.821    0.100    8.235    0.000   10.155    0.710\n",
      "\n",
      "Covariances:\n",
      "                   Estimate  Std.Err  z-value  P(>|z|)   Std.lv  Std.all\n",
      "  Marital ~~                                                            \n",
      "    FOE             164.822   42.788    3.852    0.000    0.469    0.469\n",
      "\n",
      "Variances:\n",
      "                   Estimate  Std.Err  z-value  P(>|z|)   Std.lv  Std.all\n",
      "   .problems        335.923   80.080    4.195    0.000  335.923    0.294\n",
      "   .intimacy        106.214   34.373    3.090    0.002  106.214    0.216\n",
      "   .father           24.457   11.060    2.211    0.027   24.457    0.138\n",
      "   .mother           51.489   11.730    4.389    0.000   51.489    0.278\n",
      "   .both            101.712   16.070    6.329    0.000  101.712    0.497\n",
      "    Marital         806.040  132.946    6.063    0.000    1.000    1.000\n",
      "    FOE             153.095   26.669    5.741    0.000    1.000    1.000\n",
      "\n",
      "R-Square:\n",
      "                   Estimate\n",
      "    problems          0.706\n",
      "    intimacy          0.784\n",
      "    father            0.862\n",
      "    mother            0.722\n",
      "    both              0.503\n",
      "\n"
     ]
    }
   ],
   "source": [
    "lavaan::summary(proportional,\n",
    "    fit.measures = TRUE, standardized = TRUE,\n",
    "    rsquare = TRUE\n",
    ") |> print()"
   ]
  },
  {
   "cell_type": "code",
   "execution_count": 10,
   "metadata": {
    "vscode": {
     "languageId": "r"
    }
   },
   "outputs": [
    {
     "name": "stdout",
     "output_type": "stream",
     "text": [
      "chisq    df   cfi   tli rmsea  srmr \n",
      "8.449 5.000 0.987 0.974 0.082 0.045 \n"
     ]
    }
   ],
   "source": [
    "fitMeasures(proportional, c(\"chisq\", \"df\", \"cfi\", \"tli\", \"rmsea\", \"srmr\")) |>\n",
    "    print()"
   ]
  },
  {
   "cell_type": "code",
   "execution_count": 11,
   "metadata": {
    "vscode": {
     "languageId": "r"
    }
   },
   "outputs": [
    {
     "name": "stdout",
     "output_type": "stream",
     "text": [
      "        lhs op      rhs     est      se      z pvalue ci.lower ci.upper\n",
      "1   Marital =~ problems   1.000   0.000     NA     NA    1.000    1.000\n",
      "2   Marital =~ intimacy   0.691   0.000     NA     NA    0.691    0.691\n",
      "3       FOE =~   father   1.000   0.000     NA     NA    1.000    1.000\n",
      "4       FOE =~   mother   0.935   0.091 10.279  0.000    0.757    1.113\n",
      "5       FOE =~     both   0.821   0.100  8.235  0.000    0.625    1.016\n",
      "6  problems ~~ problems 335.923  80.080  4.195  0.000  178.970  492.877\n",
      "7  intimacy ~~ intimacy 106.214  34.373  3.090  0.002   38.843  173.584\n",
      "8    father ~~   father  24.457  11.060  2.211  0.027    2.779   46.134\n",
      "9    mother ~~   mother  51.489  11.730  4.389  0.000   28.498   74.481\n",
      "10     both ~~     both 101.712  16.070  6.329  0.000   70.216  133.208\n",
      "11  Marital ~~  Marital 806.040 132.946  6.063  0.000  545.471 1066.608\n",
      "12      FOE ~~      FOE 153.095  26.669  5.741  0.000  100.825  205.365\n",
      "13  Marital ~~      FOE 164.822  42.788  3.852  0.000   80.959  248.684\n"
     ]
    }
   ],
   "source": [
    "lavaan::parameterEstimates(proportional) |> print()"
   ]
  },
  {
   "cell_type": "code",
   "execution_count": 12,
   "metadata": {
    "vscode": {
     "languageId": "r"
    }
   },
   "outputs": [
    {
     "name": "stdout",
     "output_type": "stream",
     "text": [
      "        lhs op      rhs est.std    se      z pvalue ci.lower ci.upper\n",
      "1   Marital =~ problems   0.840 0.036 23.439  0.000    0.770    0.910\n",
      "2   Marital =~ intimacy   0.885 0.037 24.040  0.000    0.813    0.957\n",
      "3       FOE =~   father   0.929 0.035 26.779  0.000    0.861    0.997\n",
      "4       FOE =~   mother   0.850 0.040 21.126  0.000    0.771    0.929\n",
      "5       FOE =~     both   0.710 0.055 12.800  0.000    0.601    0.818\n",
      "6  problems ~~ problems   0.294 0.060  4.884  0.000    0.176    0.412\n",
      "7  intimacy ~~ intimacy   0.216 0.065  3.317  0.001    0.088    0.344\n",
      "8    father ~~   father   0.138 0.064  2.139  0.032    0.012    0.264\n",
      "9    mother ~~   mother   0.278 0.068  4.065  0.000    0.144    0.412\n",
      "10     both ~~     both   0.497 0.079  6.313  0.000    0.342    0.651\n",
      "11  Marital ~~  Marital   1.000 0.000     NA     NA    1.000    1.000\n",
      "12      FOE ~~      FOE   1.000 0.000     NA     NA    1.000    1.000\n",
      "13  Marital ~~      FOE   0.469 0.091  5.177  0.000    0.292    0.647\n"
     ]
    }
   ],
   "source": [
    "lavaan::standardizedSolution(proportional) |> print()"
   ]
  },
  {
   "cell_type": "markdown",
   "metadata": {},
   "source": [
    "Nonostante gli indici di bontà di adattamento siano eccellenti, la potenza di questa analisi statistica risulta estremamente limitata. Per valutare questa limitazione, è possibile utilizzare la funzione `semTools::findRMSEAsamplesize()`. Questa funzione calcola la dimensione del campione necessaria per rilevare una differenza significativa tra RMSEA_0 e RMSEA_A, considerando un modello con `df` gradi di libertà.\n",
    "\n",
    "Per esempio, se desideriamo distinguere tra RMSEA_0=0.05 e RMSEA_A=0.10 utilizzando il modello attuale con 5 gradi di libertà, la funzione ci indica che sono necessarie 561 osservazioni per ottenere una potenza statistica di 0.8:"
   ]
  },
  {
   "cell_type": "code",
   "execution_count": 13,
   "metadata": {
    "vscode": {
     "languageId": "r"
    }
   },
   "outputs": [
    {
     "data": {
      "text/html": [
       "561"
      ],
      "text/latex": [
       "561"
      ],
      "text/markdown": [
       "561"
      ],
      "text/plain": [
       "[1] 561"
      ]
     },
     "metadata": {},
     "output_type": "display_data"
    }
   ],
   "source": [
    "semTools::findRMSEAsamplesize(0.05, .10, 5, .80, .05, 1)"
   ]
  },
  {
   "cell_type": "markdown",
   "metadata": {},
   "source": [
    "Per creare un grafico che rappresenti la potenza statistica per rilevare la differenza tra RMSEA_0=0.05 e RMSEA_A=0.10 (utilizzati qui come esempio) al variare della dimensione del campione, è possibile seguire la seguente procedura:"
   ]
  },
  {
   "cell_type": "code",
   "execution_count": 14,
   "metadata": {
    "vscode": {
     "languageId": "r"
    }
   },
   "outputs": [
    {
     "data": {
      "image/png": "[encoded data removed]",
      "text/plain": [
       "Plot with title “Compute Power for RMSEA”"
      ]
     },
     "metadata": {
      "image/png": {
       "height": 420,
       "width": 420
      }
     },
     "output_type": "display_data"
    }
   ],
   "source": [
    "semTools::plotRMSEApower(rmsea0 = .05, rmseaA = .10, df = 5, 50, 1000)"
   ]
  },
  {
   "cell_type": "markdown",
   "metadata": {},
   "source": [
    "Questa analisi di potenza indica che la dimensione del campione utilizzato ($n$ = 103) è del tutto inadeguata.\n",
    "\n",
    "Per migliorare il nostro giudizio sull'adattamento del modello consideriamo l'analisi dei residui."
   ]
  },
  {
   "cell_type": "code",
   "execution_count": 15,
   "metadata": {
    "vscode": {
     "languageId": "r"
    }
   },
   "outputs": [
    {
     "name": "stdout",
     "output_type": "stream",
     "text": [
      "$type\n",
      "[1] \"standardized.mplus\"\n",
      "\n",
      "$cov\n",
      "         prblms intmcy father mother   both\n",
      "problems     NA                            \n",
      "intimacy     NA  0.918                     \n",
      "father   -3.994  1.039  0.002              \n",
      "mother   -0.871  1.049  0.328  0.000       \n",
      "both      0.407  0.930  0.352 -2.776     NA\n",
      "\n"
     ]
    }
   ],
   "source": [
    "lavaan::residuals(proportional, type = \"standardized.mplus\") |> print()"
   ]
  },
  {
   "cell_type": "code",
   "execution_count": 16,
   "metadata": {
    "vscode": {
     "languageId": "r"
    }
   },
   "outputs": [
    {
     "name": "stdout",
     "output_type": "stream",
     "text": [
      "$type\n",
      "[1] \"cor.bollen\"\n",
      "\n",
      "$cov\n",
      "         prblms intmcy father mother   both\n",
      "problems  0.000                            \n",
      "intimacy -0.004  0.000                     \n",
      "father   -0.101  0.036  0.000              \n",
      "mother   -0.030  0.048  0.002  0.000       \n",
      "both      0.035  0.056  0.003 -0.016  0.000\n",
      "\n",
      "$cov.z\n",
      "         prblms intmcy father mother   both\n",
      "problems  0.000                            \n",
      "intimacy -2.524  0.000                     \n",
      "father   -2.386  1.245  0.000              \n",
      "mother   -0.586  1.134  0.881  0.000       \n",
      "both      0.523  0.936  0.507 -1.143  0.000\n",
      "\n",
      "$summary\n",
      "                           cov\n",
      "crmr                     0.044\n",
      "crmr.se                  0.015\n",
      "crmr.exactfit.z          0.504\n",
      "crmr.exactfit.pvalue     0.307\n",
      "ucrmr                    0.023\n",
      "ucrmr.se                 0.029\n",
      "ucrmr.ci.lower          -0.024\n",
      "ucrmr.cilupper           0.071\n",
      "ucrmr.closefit.h0.value  0.050\n",
      "ucrmr.closefit.z        -0.928\n",
      "ucrmr.closefit.pvalue    0.823\n",
      "\n"
     ]
    }
   ],
   "source": [
    "lavaan::lavResiduals(proportional, type = \"cor.bollen\", summary = TRUE) |> print()"
   ]
  },
  {
   "cell_type": "markdown",
   "metadata": {},
   "source": [
    "Questi sono risultati relativamente scarsi per un modello così piccolo. Il computer non è stato in grado di calcolare tutti i residui standardizzati possibili, il che non è sorprendente in un campione così ridotto."
   ]
  },
  {
   "cell_type": "markdown",
   "metadata": {},
   "source": [
    "### Stimatore MIIV-2SLS\n",
    "\n",
    "Una seconda analisi viene svolta usando lo stimatore MIIV-2SLS. Il pacchetto MIIVsem non calcola statistiche globali di adattamento. Invece, il pacchetto MIIVsem calcola il test di Sargan per ciascun indicatore previsto dal modello. Le statistiche del test di Sargan approssimano distribuzioni chi-quadro centrali con gradi di libertà che corrispondono al numero di item meno uno; quindi, df = 2. L'ipotesi nulla è che ciascun insieme di strumenti multipli sia incorrelato con il termine di errore per l'equazione. Il mancato rifiuto dell'ipotesi nulla per il test di Sargan suggerisce un'evidenza di buon adattamento del modello ai dati. "
   ]
  },
  {
   "cell_type": "code",
   "execution_count": 17,
   "metadata": {
    "vscode": {
     "languageId": "r"
    }
   },
   "outputs": [
    {
     "data": {
      "text/plain": [
       "Model Equation Information \n",
       "\n",
       " LHS        RHS        MIIVs                     \n",
       " intimacy   problems   father, mother, both      \n",
       " mother     father     problems, intimacy, both  \n",
       " both       father     problems, intimacy, mother\n",
       "\n"
      ]
     },
     "metadata": {},
     "output_type": "display_data"
    }
   ],
   "source": [
    "MIIVsem::miivs(sabatelli_model)"
   ]
  },
  {
   "cell_type": "code",
   "execution_count": 18,
   "metadata": {
    "vscode": {
     "languageId": "r"
    }
   },
   "outputs": [
    {
     "name": "stdout",
     "output_type": "stream",
     "text": [
      "MIIVsem (0.5.8) results \n",
      "\n",
      "Number of observations                                                    103\n",
      "Number of equations                                                         3\n",
      "Estimator                                                           MIIV-2SLS\n",
      "Standard Errors                                                      standard\n",
      "Missing                                                              listwise\n",
      "\n",
      "\n",
      "Parameter Estimates:\n",
      "\n",
      "\n",
      "STRUCTURAL COEFFICIENTS:\n",
      "                   Estimate  Std.Err  z-value  P(>|z|)   Sargan   df   P(Chi)\n",
      "  FOE =~                                                                     \n",
      "    father            1.000                                                  \n",
      "    mother            0.899    0.089   10.149    0.000    1.763    2    0.414\n",
      "    both              0.787    0.099    7.935    0.000    3.590    2    0.166\n",
      "  Marital =~                                                                 \n",
      "    problems          1.000                                                  \n",
      "    intimacy          0.805    0.155    5.195    0.000    4.980    2    0.083\n",
      "\n",
      "INTERCEPTS:\n",
      "                   Estimate  Std.Err  z-value  P(>|z|)   \n",
      "    both              0.000                              \n",
      "    father            0.000                              \n",
      "    intimacy          0.000                              \n",
      "    mother            0.000                              \n",
      "    problems          0.000                              \n",
      "\n",
      "VARIANCES:\n",
      "                   Estimate  Std.Err  z-value  P(>|z|)   \n",
      "    FOE             158.501                              \n",
      "    Marital         702.393                              \n",
      "    both            103.301                              \n",
      "    father           20.856                              \n",
      "    intimacy         50.871                              \n",
      "    mother           54.195                              \n",
      "    problems        422.427                              \n",
      "\n",
      "COVARIANCES:\n",
      "                   Estimate  Std.Err  z-value  P(>|z|)   \n",
      "  Marital ~~                                             \n",
      "    FOE             157.495                              \n",
      "\n",
      "R-SQUARE:\n",
      "                   Estimate\n",
      "    problems          0.624\n",
      "    intimacy          0.900\n",
      "    father            0.884\n",
      "    mother            0.703\n",
      "    both              0.487\n"
     ]
    }
   ],
   "source": [
    "sabatelli <- MIIVsem::miive(sabatelli_model,\n",
    "    sample.cov = sabatelli.cov,\n",
    "    sample.nobs = 103, var.cov = TRUE\n",
    ")\n",
    "lavaan::summary(sabatelli, rsquare = TRUE)"
   ]
  },
  {
   "cell_type": "markdown",
   "metadata": {},
   "source": [
    "Si noti che le stime standardizzate non sono calcolate nella versione del pacchetto MIIVsem utilizzata in questa analisi. I valori non standardizzati delle saturazioni fattoriali sono simili a quelli ottenuti in precedenza."
   ]
  },
  {
   "cell_type": "markdown",
   "metadata": {},
   "source": [
    "Il pacchetto MIIVsem non fornisce né le correlazioni previste dal modello per gli indicatori né i residui di correlazione. Per ottenere i residui di correlazione per l'estimatore 2SLS, è possibile utilizzare il pacchetto lavaan per specificare nuovamente il modello precedentemente adattato, ma con l'importante modifica di fissare tutti i parametri non standardizzati in modo che siano identici alle loro controparti 2SLS. Successivamente, è possibile adattare nuovamente il modello con questi parametri fissati alla matrice di covarianza. La matrice di correlazione prevista in questa analisi si basa sulle stime dei parametri 2SLS, consentendo così di ottenere i residui di correlazione desiderati."
   ]
  },
  {
   "cell_type": "code",
   "execution_count": 19,
   "metadata": {
    "vscode": {
     "languageId": "r"
    }
   },
   "outputs": [],
   "source": [
    "sabatelliFixed.model <- \"\n",
    "    # common factors\n",
    "    Marital =~ 1.0*problems + .805*intimacy\n",
    "    FOE =~ 1.0*father + .899*mother + .787*both\n",
    "    # factor variances, covariances\n",
    "    FOE ~~ 158.501*FOE\n",
    "    Marital ~~ 157.495*FOE\n",
    "    Marital ~~ 702.393*Marital\n",
    "    # indicator error variances\n",
    "    father ~~ 20.856*father\n",
    "    mother ~~ 54.195*mother\n",
    "    both ~~ 103.301*both\n",
    "    problems ~~ 422.427*problems\n",
    "    intimacy ~~ 50.781*intimacy \n",
    " \""
   ]
  },
  {
   "cell_type": "code",
   "execution_count": 20,
   "metadata": {
    "vscode": {
     "languageId": "r"
    }
   },
   "outputs": [],
   "source": [
    "sabatelliFixed <- lavaan::sem(sabatelliFixed.model,\n",
    "    sample.cov = sabatelli.cov,\n",
    "    sample.nobs = 103\n",
    ")"
   ]
  },
  {
   "cell_type": "code",
   "execution_count": 21,
   "metadata": {
    "vscode": {
     "languageId": "r"
    }
   },
   "outputs": [
    {
     "data": {
      "text/html": [
       "<table class=\"dataframe\">\n",
       "<caption>A lavaan.data.frame: 13 × 9</caption>\n",
       "<thead>\n",
       "\t<tr><th scope=col>lhs</th><th scope=col>op</th><th scope=col>rhs</th><th scope=col>est</th><th scope=col>se</th><th scope=col>z</th><th scope=col>pvalue</th><th scope=col>ci.lower</th><th scope=col>ci.upper</th></tr>\n",
       "\t<tr><th scope=col>&lt;chr&gt;</th><th scope=col>&lt;chr&gt;</th><th scope=col>&lt;chr&gt;</th><th scope=col>&lt;dbl&gt;</th><th scope=col>&lt;dbl&gt;</th><th scope=col>&lt;dbl&gt;</th><th scope=col>&lt;dbl&gt;</th><th scope=col>&lt;dbl&gt;</th><th scope=col>&lt;dbl&gt;</th></tr>\n",
       "</thead>\n",
       "<tbody>\n",
       "\t<tr><td>Marital </td><td>=~</td><td>problems</td><td>  1.000</td><td>0</td><td>NA</td><td>NA</td><td>  1.000</td><td>  1.000</td></tr>\n",
       "\t<tr><td>Marital </td><td>=~</td><td>intimacy</td><td>  0.805</td><td>0</td><td>NA</td><td>NA</td><td>  0.805</td><td>  0.805</td></tr>\n",
       "\t<tr><td>FOE     </td><td>=~</td><td>father  </td><td>  1.000</td><td>0</td><td>NA</td><td>NA</td><td>  1.000</td><td>  1.000</td></tr>\n",
       "\t<tr><td>FOE     </td><td>=~</td><td>mother  </td><td>  0.899</td><td>0</td><td>NA</td><td>NA</td><td>  0.899</td><td>  0.899</td></tr>\n",
       "\t<tr><td>FOE     </td><td>=~</td><td>both    </td><td>  0.787</td><td>0</td><td>NA</td><td>NA</td><td>  0.787</td><td>  0.787</td></tr>\n",
       "\t<tr><td>FOE     </td><td>~~</td><td>FOE     </td><td>158.501</td><td>0</td><td>NA</td><td>NA</td><td>158.501</td><td>158.501</td></tr>\n",
       "\t<tr><td>Marital </td><td>~~</td><td>FOE     </td><td>157.495</td><td>0</td><td>NA</td><td>NA</td><td>157.495</td><td>157.495</td></tr>\n",
       "\t<tr><td>Marital </td><td>~~</td><td>Marital </td><td>702.393</td><td>0</td><td>NA</td><td>NA</td><td>702.393</td><td>702.393</td></tr>\n",
       "\t<tr><td>father  </td><td>~~</td><td>father  </td><td> 20.856</td><td>0</td><td>NA</td><td>NA</td><td> 20.856</td><td> 20.856</td></tr>\n",
       "\t<tr><td>mother  </td><td>~~</td><td>mother  </td><td> 54.195</td><td>0</td><td>NA</td><td>NA</td><td> 54.195</td><td> 54.195</td></tr>\n",
       "\t<tr><td>both    </td><td>~~</td><td>both    </td><td>103.301</td><td>0</td><td>NA</td><td>NA</td><td>103.301</td><td>103.301</td></tr>\n",
       "\t<tr><td>problems</td><td>~~</td><td>problems</td><td>422.427</td><td>0</td><td>NA</td><td>NA</td><td>422.427</td><td>422.427</td></tr>\n",
       "\t<tr><td>intimacy</td><td>~~</td><td>intimacy</td><td> 50.781</td><td>0</td><td>NA</td><td>NA</td><td> 50.781</td><td> 50.781</td></tr>\n",
       "</tbody>\n",
       "</table>\n"
      ],
      "text/latex": [
       "A lavaan.data.frame: 13 × 9\n",
       "\\begin{tabular}{lllllllll}\n",
       " lhs & op & rhs & est & se & z & pvalue & ci.lower & ci.upper\\\\\n",
       " <chr> & <chr> & <chr> & <dbl> & <dbl> & <dbl> & <dbl> & <dbl> & <dbl>\\\\\n",
       "\\hline\n",
       "\t Marital  & =\\textasciitilde{} & problems &   1.000 & 0 & NA & NA &   1.000 &   1.000\\\\\n",
       "\t Marital  & =\\textasciitilde{} & intimacy &   0.805 & 0 & NA & NA &   0.805 &   0.805\\\\\n",
       "\t FOE      & =\\textasciitilde{} & father   &   1.000 & 0 & NA & NA &   1.000 &   1.000\\\\\n",
       "\t FOE      & =\\textasciitilde{} & mother   &   0.899 & 0 & NA & NA &   0.899 &   0.899\\\\\n",
       "\t FOE      & =\\textasciitilde{} & both     &   0.787 & 0 & NA & NA &   0.787 &   0.787\\\\\n",
       "\t FOE      & \\textasciitilde{}\\textasciitilde{} & FOE      & 158.501 & 0 & NA & NA & 158.501 & 158.501\\\\\n",
       "\t Marital  & \\textasciitilde{}\\textasciitilde{} & FOE      & 157.495 & 0 & NA & NA & 157.495 & 157.495\\\\\n",
       "\t Marital  & \\textasciitilde{}\\textasciitilde{} & Marital  & 702.393 & 0 & NA & NA & 702.393 & 702.393\\\\\n",
       "\t father   & \\textasciitilde{}\\textasciitilde{} & father   &  20.856 & 0 & NA & NA &  20.856 &  20.856\\\\\n",
       "\t mother   & \\textasciitilde{}\\textasciitilde{} & mother   &  54.195 & 0 & NA & NA &  54.195 &  54.195\\\\\n",
       "\t both     & \\textasciitilde{}\\textasciitilde{} & both     & 103.301 & 0 & NA & NA & 103.301 & 103.301\\\\\n",
       "\t problems & \\textasciitilde{}\\textasciitilde{} & problems & 422.427 & 0 & NA & NA & 422.427 & 422.427\\\\\n",
       "\t intimacy & \\textasciitilde{}\\textasciitilde{} & intimacy &  50.781 & 0 & NA & NA &  50.781 &  50.781\\\\\n",
       "\\end{tabular}\n"
      ],
      "text/markdown": [
       "\n",
       "A lavaan.data.frame: 13 × 9\n",
       "\n",
       "| lhs &lt;chr&gt; | op &lt;chr&gt; | rhs &lt;chr&gt; | est &lt;dbl&gt; | se &lt;dbl&gt; | z &lt;dbl&gt; | pvalue &lt;dbl&gt; | ci.lower &lt;dbl&gt; | ci.upper &lt;dbl&gt; |\n",
       "|---|---|---|---|---|---|---|---|---|\n",
       "| Marital  | =~ | problems |   1.000 | 0 | NA | NA |   1.000 |   1.000 |\n",
       "| Marital  | =~ | intimacy |   0.805 | 0 | NA | NA |   0.805 |   0.805 |\n",
       "| FOE      | =~ | father   |   1.000 | 0 | NA | NA |   1.000 |   1.000 |\n",
       "| FOE      | =~ | mother   |   0.899 | 0 | NA | NA |   0.899 |   0.899 |\n",
       "| FOE      | =~ | both     |   0.787 | 0 | NA | NA |   0.787 |   0.787 |\n",
       "| FOE      | ~~ | FOE      | 158.501 | 0 | NA | NA | 158.501 | 158.501 |\n",
       "| Marital  | ~~ | FOE      | 157.495 | 0 | NA | NA | 157.495 | 157.495 |\n",
       "| Marital  | ~~ | Marital  | 702.393 | 0 | NA | NA | 702.393 | 702.393 |\n",
       "| father   | ~~ | father   |  20.856 | 0 | NA | NA |  20.856 |  20.856 |\n",
       "| mother   | ~~ | mother   |  54.195 | 0 | NA | NA |  54.195 |  54.195 |\n",
       "| both     | ~~ | both     | 103.301 | 0 | NA | NA | 103.301 | 103.301 |\n",
       "| problems | ~~ | problems | 422.427 | 0 | NA | NA | 422.427 | 422.427 |\n",
       "| intimacy | ~~ | intimacy |  50.781 | 0 | NA | NA |  50.781 |  50.781 |\n",
       "\n"
      ],
      "text/plain": [
       "   lhs      op rhs      est     se z  pvalue ci.lower ci.upper\n",
       "1  Marital  =~ problems   1.000 0  NA NA       1.000    1.000 \n",
       "2  Marital  =~ intimacy   0.805 0  NA NA       0.805    0.805 \n",
       "3  FOE      =~ father     1.000 0  NA NA       1.000    1.000 \n",
       "4  FOE      =~ mother     0.899 0  NA NA       0.899    0.899 \n",
       "5  FOE      =~ both       0.787 0  NA NA       0.787    0.787 \n",
       "6  FOE      ~~ FOE      158.501 0  NA NA     158.501  158.501 \n",
       "7  Marital  ~~ FOE      157.495 0  NA NA     157.495  157.495 \n",
       "8  Marital  ~~ Marital  702.393 0  NA NA     702.393  702.393 \n",
       "9  father   ~~ father    20.856 0  NA NA      20.856   20.856 \n",
       "10 mother   ~~ mother    54.195 0  NA NA      54.195   54.195 \n",
       "11 both     ~~ both     103.301 0  NA NA     103.301  103.301 \n",
       "12 problems ~~ problems 422.427 0  NA NA     422.427  422.427 \n",
       "13 intimacy ~~ intimacy  50.781 0  NA NA      50.781   50.781 "
      ]
     },
     "metadata": {},
     "output_type": "display_data"
    }
   ],
   "source": [
    "# standardized parameter \"estimates\" listed\n",
    "# next are fixed to nonzero constants, and\n",
    "# standard errors are undefined\n",
    "lavaan::parameterEstimates(sabatelliFixed)"
   ]
  },
  {
   "cell_type": "code",
   "execution_count": 22,
   "metadata": {
    "vscode": {
     "languageId": "r"
    }
   },
   "outputs": [
    {
     "name": "stdout",
     "output_type": "stream",
     "text": [
      "$type\n",
      "[1] \"standardized.mplus\"\n",
      "\n",
      "$cov\n",
      "         prblms intmcy father mother   both\n",
      "problems -0.338                            \n",
      "intimacy -0.180  0.092                     \n",
      "father   -0.938  0.016 -0.073              \n",
      "mother   -0.120  0.293  0.043  0.116       \n",
      "both      0.491  0.412  0.067  0.100  0.118\n",
      "\n"
     ]
    }
   ],
   "source": [
    "lavaan::residuals(sabatelliFixed, type = \"standardized.mplus\") |> print()"
   ]
  },
  {
   "cell_type": "code",
   "execution_count": 23,
   "metadata": {
    "vscode": {
     "languageId": "r"
    }
   },
   "outputs": [
    {
     "name": "stdout",
     "output_type": "stream",
     "text": [
      "$type\n",
      "[1] \"cor.bollen\"\n",
      "\n",
      "$cov\n",
      "         prblms intmcy father mother   both\n",
      "problems  0.000                            \n",
      "intimacy -0.010  0.000                     \n",
      "father   -0.086  0.001  0.000              \n",
      "mother   -0.008  0.026  0.003  0.000       \n",
      "both      0.055  0.038  0.006  0.002  0.000\n",
      "\n"
     ]
    }
   ],
   "source": [
    "lavaan::residuals(sabatelliFixed, type = \"cor.bollen\") |> print()"
   ]
  },
  {
   "cell_type": "markdown",
   "metadata": {},
   "source": [
    "Si noti che nessuno dei residui di correlazione assoluti basati sui risultati 2SLS supera lo 0.10, compreso il residuo per la coppia di indicatori \"problems\" e \"father\". In termini di adattamento locale, dunque, in questo esempio i risultati dello stimatore 2SLS sono da preferire rispetto a quelli dello stimatore ML."
   ]
  }
 ],
 "metadata": {
  "kernelspec": {
   "display_name": "R",
   "language": "R",
   "name": "ir"
  },
  "language_info": {
   "codemirror_mode": "r",
   "file_extension": ".r",
   "mimetype": "text/x-r-source",
   "name": "R",
   "pygments_lexer": "r",
   "version": "4.3.2"
  }
 },
 "nbformat": 4,
 "nbformat_minor": 2
}