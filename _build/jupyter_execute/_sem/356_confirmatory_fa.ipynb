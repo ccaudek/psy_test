{
 "cells": [
  {
   "attachments": {},
   "cell_type": "markdown",
   "id": "756eb571",
   "metadata": {},
   "source": [
    "(confirmatory_fa-notebook)=\n",
    "# Analisti Fattoriale Confermativa"
   ]
  },
  {
   "cell_type": "markdown",
   "id": "059b2c64",
   "metadata": {},
   "source": [
    "Questo capitolo tratta l'analisi dei modelli di misurazione con fattori comuni e indicatori continui utilizzando la tecnica SEM dell'analisi fattoriale confermativa (CFA). La CFA differisce sostanzialmente dall'analisi fattoriale esplorativa (EFA) in quanto impiega un approccio più restrittivo alla modellazione dei dati. Nella CFA, il ricercatore definisce chiaramente tre aspetti cruciali del modello: (1) il numero preciso dei fattori, ad esempio tre; (2) la struttura esatta dei carichi fattoriali, determinando quale indicatore si associa a quali fattori; e (3) la potenziale presenza di errori correlati. \n",
    "\n",
    "Una caratteristica fondamentale della CFA è che ciascun indicatore è associato solo ai fattori specificati dal ricercatore, con tutte le altre possibili associazioni (saturazioni incrociate) fissate a zero. Al contrario, l'EFA, pur consentendo la specificazione del numero di fattori, analizza modelli non restrittivi dove ogni indicatore può associarsi a tutti i fattori, e il ricercatore non può disattivare questa impostazione di default, con tutti i carichi incrociati liberamente stimati.\n",
    "\n",
    "Un altro aspetto distintivo riguarda l'identificazione dei modelli: mentre i modelli EFA con più fattori richiedono una specifica rotazione dei fattori, come quella obliqua (fattori covarianti) o ortogonale (fattori non correlati), la CFA non prevede una fase di rotazione, dato che il modello deve essere già identificato. Di conseguenza, i fattori nella CFA possono tipicamente covariare. Grazie ai requisiti di identificazione, la CFA permette la stima degli errori correlati in modo più diretto rispetto all'EFA, rendendola una tecnica più adatta per l'analisi delle strutture di covarianza dell'errore. In sintesi, la CFA offre un quadro metodologico più definito e restrittivo per la modellazione dei fattori comuni e degli indicatori continui, rispetto all'approccio più aperto e flessibile dell'EFA."
   ]
  },
  {
   "cell_type": "code",
   "execution_count": 1,
   "id": "a8e1a699",
   "metadata": {
    "tags": [
     "remove_cell"
    ],
    "vscode": {
     "languageId": "r"
    }
   },
   "outputs": [],
   "source": [
    "source(\"../_common.R\")\n",
    "suppressPackageStartupMessages({\n",
    "    library(\"lavaan\")\n",
    "    library(\"semTools\")\n",
    "})\n",
    "set.seed(42)"
   ]
  },
  {
   "cell_type": "markdown",
   "id": "7eac9049",
   "metadata": {},
   "source": [
    "## EFA VERSUS CFA \n",
    "\n",
    "Sia la CFA (Confirmatory Factor Analysis) che la EFA (Exploratory Factor Analysis) si basano sul modello del fattore comune dal punto di vista della teoria classica dei test. \n",
    "\n",
    "Entrambe le tecniche suddividono la varianza osservata degli indicatori in varianza comune e varianza unica. La varianza comune è condivisa tra gli indicatori e costituisce la base per le covarianze osservate tra di essi che si discostano in modo apprezzabile da zero. I fattori che approssimano le variabili latenti sono \"costruiti\" dalla varianza comune e questi proxy sono chiamati fattori comuni. Il numero di fattori di interesse sostanziale è di solito inferiore al numero di indicatori.  La varianza unica consiste in varianza specifica e errore di misurazione casuale. La varianza specifica è variazione sistematica che non è spiegata da alcun fattore nel modello. Può essere dovuta a caratteristiche di indicatori individuali, come gli stimoli particolari che compongono un compito. Un'altra fonte è la varianza del metodo, ovvero l'uso di un particolare metodo di misurazione (ad esempio, autovalutazione) o informatore (ad esempio, genitori) per ottenere i punteggi.\n",
    "\n",
    "Poiché la EFA è meno esigente della CFA, può essere preferita in aree di ricerca più recente dove la teoria sulla misurazione è debole in termini di numero di concetti teorici che dovrebbero essere approssimati o la corrispondenza tra fattori comuni e indicatori. Le fasi iniziali nella costruzione di test psicologici o questionari, specialmente quando c'è relativamente poca guida dalla teoria, è un contesto per cui la EFA è ben adatta. Ad esempio, se potrebbero esserci fattori inaspettati, ma sostanzialmente significativi, che si relazionano fortemente a sottoinsiemi di indicatori, allora la EFA sarebbe preferita rispetto alla CFA, che è meno flessibile qui (Flora & Flake, 2017).\n",
    "\n",
    "In contrasto con il carattere guidato dai dati della EFA, la tecnica CFA è utilizzata per valutare quanto bene una soluzione fattoriale predefinita si adatta ai dati in un particolare campione. Un esempio sono le fasi successive della costruzione di test che seguono analisi più preliminari con la EFA in cui la dimensionalità di base degli indicatori è stata stabilita (Brown, 2015). Cioè, i risultati dalle precedenti applicazioni della EFA possono informare la specificazione dei modelli CFA in studi di validazione dei test successivi con dati raccolti in nuovi campioni. La tecnica della CFA può anche essere applicata per valutare l'effetto della revisione di un test consolidato aggiungendo o rimuovendo indicatori, come se la struttura fattoriale originale nel test modificato sia preservata nella revisione (Flora & Flake, 2017).\n",
    "\n",
    "È stato menzionato che le ipotesi sugli errori di misurazione correlati possono essere facilmente testate nella CFA.  Un ruolo molto più controverso per la CFA è la sua applicazione immediatamente dopo aver mantenuto un modello di fattore nella EFA con l'obiettivo di \"verificare\" o \"confermare\" i risultati della EFA. In questo caso, il modello CFA ha lo stesso numero di fattori del modello EFA, ma alcuni o tutti i carichi incrociati sono vincolati a zero nel modello CFA. Non vengono raccolti nuovi dati, quindi sia i modelli EFA che CFA sono analizzati nello stesso campione. Ci sono due problemi qui: uno è che le due tecniche, EFA e CFA, potrebbero capitalizzare sulla stessa variazione casuale in un particolare campione, specialmente se lo stesso stimatore (ad esempio, massima verosimiglianza, ML) viene utilizzato in entrambe le analisi. Se un modello CFA mantenuto in questa situazione si replicherebbe in un nuovo campione è sconosciuto. \n",
    "\n",
    "Un secondo problema è che la specificazione di un modello CFA basato sui risultati della EFA e analizzato con gli stessi dati potrebbe portare al rifiuto del modello CFA. Questo perché gli indicatori nella EFA spesso hanno carichi secondari relativamente elevati su fattori diversi da quello per cui hanno il loro carico primario. Questi carichi secondari possono rappresentare proporzioni relativamente elevate di varianza, quindi vincolarli a zero nella CFA può essere troppo conservativo. Di conseguenza, il modello CFA più restrittivo potrebbe essere incoerente con i dati (van Prooijen & van der Kloot, 2001). La specificazione errata di carichi incrociati a zero può portare a una sovrastima delle correlazioni dei fattori (Asparouhov & Muthén, 2009). La replicazione dei risultati dell'analisi fattoriale, sia EFA che CFA, in nuovi campioni è una soluzione migliore—vedi Osborne e Fitzpatrick (2012) per una guida. Per essere chiari, applicare la CFA subito dopo la EFA nello stesso campione in nessun modo verifica, conferma o replica i risultati della EFA (Flora & Flake, 2017).\n",
    "\n",
    "I due metodi alternativi di analisi fattoriale menzionati, che uniscono elementi sia della EFA (Exploratory Factor Analysis) che della CFA (Confirmatory Factor Analysis), offrono un approccio intermedio tra queste due tecniche tradizionali. Questi metodi sono:\n",
    "\n",
    "1. **Exploratory Structural Equation Modeling (ESEM)**: In ESEM, il ricercatore stabilisce in anticipo il numero esatto di fattori, una caratteristica tipica della CFA. Tuttavia, a differenza della CFA, il modello di misurazione in ESEM non è ristretto. Ciò significa che tutti i possibili carichi incrociati (ossia, l'influenza di ciascun indicatore su tutti i fattori, non solo su quello a cui si presume sia maggiormente legato) sono considerati parametri liberi. Questo permette una maggiore flessibilità nell'esplorare le relazioni tra gli indicatori e i fattori, simile a ciò che accade nella EFA.\n",
    "\n",
    "Inoltre, il modello ESEM utilizza una tecnica di rotazione, come si farebbe in EFA, per aiutare a identificare il modello più adatto. Questo approccio consente di avere una visione più chiara e dettagliata delle relazioni tra gli indicatori e i fattori.\n",
    "\n",
    "ESEM fornisce anche misure di adattamento del modello, come gli errori standard per i parametri stimati liberamente e statistiche riguardanti sia l'adattamento globale del modello (ad esempio, il chi quadrato del modello) sia l'adattamento locale (come i residui standardizzati). Queste misure aiutano a valutare quanto bene il modello si adatta ai dati osservati, fornendo una comprensione più profonda della validità e affidabilità del modello.\n",
    "\n",
    "2. **E/CFA**: Il secondo metodo alternativo di analisi fattoriale è definito come EFA in CFA (E/CFA), sviluppato da Jöreskog nel 1969. Questo approccio fonde aspetti sia dell'analisi fattoriale esplorativa (EFA) che di quella confermativa (CFA), cercando di sfruttare i vantaggi di entrambe le tecniche. \n",
    "\n",
    "In E/CFA, per ogni fattore viene selezionato un indicatore specifico che funge da variabile di riferimento. Questa scelta è cruciale perché, per l'indicatore selezionato, tutti i carichi incrociati (ossia, l'influenza di quell'indicatore sugli altri fattori) sono fissati a zero. Questo significa che l'indicatore scelto è considerato come rappresentativo principalmente del fattore a cui è associato, eliminando così la sua influenza diretta sugli altri fattori.\n",
    "\n",
    "A differenza dell'indicatore di variabile di riferimento, per tutti gli altri indicatori, i carichi incrociati sono liberamente stimati. Questo permette una maggiore flessibilità nell'analisi, poiché ogni indicatore può potenzialmente influenzare tutti i fattori, fornendo una visione più ricca e complessa delle interrelazioni all'interno del modello.\n",
    "\n",
    "Come nella EFA, anche nella E/CFA le covarianze tra i fattori sono liberamente stimate. Questo permette di esplorare e comprendere meglio come i diversi fattori possano essere correlati o influenzarsi reciprocamente all'interno del modello.\n",
    "\n",
    "Un aspetto importante di E/CFA è la possibilità di stimare le covarianze degli errori. Se si osservano residui relativamente grandi tra coppie di indicatori, ciò può suggerire la necessità di considerare e stimare le covarianze degli errori. Questo aiuta a comprendere meglio la varianza all'interno del modello che non è spiegata dai fattori comuni.\n",
    "\n",
    "In conclusione, E/CFA offre un approccio più flessibile rispetto alla CFA tradizionale, permettendo una maggiore esplorazione delle relazioni tra indicatori e fattori, simile a quella della EFA, ma con alcune restrizioni tipiche della CFA che aumentano la specificità e la chiarezza del modello. "
   ]
  },
  {
   "cell_type": "markdown",
   "id": "aba9da75",
   "metadata": {},
   "source": [
    "## Modelli di Base nella CFA\n",
    "\n",
    "I modelli di base nella Confirmatory Factor Analysis (CFA) con più fattori sono riassunti di seguito:\n",
    "\n",
    "- **Indicatori Continui e Due Cause**: Ogni indicatore è continuo e ha due cause: un fattore comune che approssima la variabile latente che l'indicatore dovrebbe misurare, e tutte le fonti di varianza unica — errore di misurazione casuale e varianza specifica non spiegata dal fattore — rappresentate dal termine di errore.\n",
    "- **Termini di Errore Indipendenti**: I termini di errore sono indipendenti l'uno dall'altro e dai fattori; ciò significa che non ci sono confondenti non misurati per nessuna coppia di indicatori, e tutte le cause omesse non sono correlate ai fattori.\n",
    "- **Relazioni Lineari e Covarianza dei Fattori**: Tutte le relazioni sono lineari e i fattori covariano (cioè, non ci sono effetti causali tra coppie di fattori).\n",
    "\n",
    "Le prime due caratteristiche specificano una misurazione unidimensionale, o l'ipotesi che ciascun indicatore misuri una singola dimensione e non condivida nulla con altri indicatori dopo aver controllato i fattori comuni. \n",
    "\n",
    "Nella {numref}`kline-14-1-fig` è presentato un modello CFA di base con due fattori e sei indicatori. Tutti i carichi incrociati sono fissati a zero. Ad esempio, non c'è un effetto causale diretto dal fattore B all'indicatore X1, che è specificato come misura dell'altro fattore (cioè, A → X1). Tuttavia, questa specificazione non implica che X1 e il fattore B siano non correlati. Al contrario, il percorso aperto nel modello, o X1 ← A B, prevede che l'indicatore X1 e il fattore B dovrebbero covariare perché B è correlato con A, una causa di X1 (l'altra causa è E1, il suo termine di errore), ma questa associazione non è causale. Allo stesso modo, si prevede che gli indicatori X1 e X4 nella figura covarino perché le loro rispettive cause, i fattori A e B, sono correlate, o X1 ← A B → X4, e questo è vero anche se X1 e X4 si presume misurino cose diverse.\n",
    "\n",
    "I valori (1) nella {numref}`kline-14-1-fig` sono costanti di scala che specificano metriche per variabili non misurate, che nei modelli CFA includono fattori comuni e termini di errore degli indicatori. \n",
    "\n",
    "```{figure} ../images/kline_14_1.png\n",
    "---\n",
    "height: 250px\n",
    "name: kline-14-1-fig\n",
    "---\n",
    "Modello di analisi fattoriali confermativa con due fattori comuni e sei indicatori. (Figura tratta da {cite:t}`kline2023principles`)\n",
    "```\n",
    "\n",
    "Ogni fattore nella {numref}`kline-14-1-fig` è scalato attraverso il metodo della variabile di riferimento -- anche chiamato metodo della variabile marker o approccio di identificazione del carico di riferimento (Newsom, 2015) — dove un vincolo ULI è imposto sul carico di un indicatore per fattore. Ad esempio, la specificazione A→X1 = 1.0 nella figura scala la varianza del fattore A nella metrica della varianza comune (spiegata) dell'indicatore X1, la variabile di riferimento per il fattore A. Con la stessa logica, il computer stima la varianza del fattore B nella metrica della varianza comune in X4, la variabile marker per questo fattore. \n",
    "\n",
    "Se più indicatori per lo stesso fattore hanno punteggi ugualmente precisi e nessuno è considerato rappresentativo in modo critico del concetto sottostante, allora è generalmente arbitrario nelle analisi a campione singolo quale indicatore è selezionato come variabile di riferimento. Questo perché la scelta non influisce tipicamente su (1) l'adattamento globale del modello, (2) la soluzione standardizzata, o (3) le stime delle varianze di errore dell'indicatore nella soluzione non standardizzata. I carichi delle variabili di riferimento fissati a 1.0 rimangono tali nella soluzione non standardizzata e non hanno errori standard perché sono costanti, non variabili. Ciò significa che non c'è un test di significatività—una deviazione normale (z), o il rapporto di una statistica sul suo errore standard—per i carichi fissi delle variabili di riferimento, che è un possibile svantaggio del metodo se si desidera un test di significatività per tutti i carichi non standardizzati. Altre opzioni per la scala dei fattori che non richiedono la selezione di variabili di riferimento sono descritte nella sezione successiva.\n",
    "\n",
    "Tutti i fattori nei modelli CFA di base sono variabili esogene che sono libere di variare e covariare. È possibile includere covariate nei modelli di misurazione, come l'età o altre caratteristiche dei partecipanti alla ricerca, che controllano potenziali confondenti o bias. Le covariate sono solitamente specificate come cause dei fattori comuni, che ridefiniscono anche tali fattori come variabili endogene con termini di disturbo (cioè, i fattori endogeni non sono liberi di variare né di covariare).\n",
    "\n",
    "### Parametri del Modello nella CFA \n",
    "\n",
    "I parametri liberi dei modelli CFA (Confirmatory Factor Analysis) con indicatori continui, quando le medie non sono analizzate, includono le varianze e le covarianze delle variabili esogene e gli effetti diretti sulle variabili endogene (Regola 7.1). Per il modello base nella {numref}`kline-14-1-fig`, i parametri liberi includono:\n",
    "\n",
    "1. **8 Varianze**: Queste comprendono le varianze di 2 fattori e dei 6 termini di errore degli indicatori.\n",
    "2. **Una Singola Covarianza**: Questa è la covarianza tra i 2 fattori.\n",
    "3. **4 Effetti Diretti dei Fattori sugli Indicatori (Carichi)**: Questi sono i carichi che non sono fissati per eguagliare le costanti di scala (ad esempio, i carichi per X2-X3 e X5-X6).\n",
    "\n",
    "Il totale complessivo dei parametri liberi è quindi 13. Con v = 6 variabili osservate, il numero totale di osservazioni quando le medie non sono analizzate è 6(7)/2, ovvero 21 (Regola 7.2), quindi dfM = 21 – 13 = 8 per la Figura 14.1.\n",
    "\n",
    "#### Requisiti di Identificazione Necessari ma Non Sufficienti nei Modelli CFA\n",
    "\n",
    "Per garantire che un modello di CFA sia correttamente specificato e possa essere utilizzato per trarre conclusioni valide, è essenziale soddisfare due requisiti fondamentali di identificazione. Questi requisiti sono considerati necessari ma non sufficienti, il che significa che, anche se soddisfatti, potrebbero non essere adeguati da soli per assicurare l'identificazione completa del modello. Ecco una spiegazione più dettagliata di questi requisiti:\n",
    "\n",
    "1. **Gradi di Libertà (dfM) Maggiori o Uguali a Zero**: \n",
    "   \n",
    "   - **Calcolo dei Gradi di Libertà**: I gradi di libertà di un modello CFA sono calcolati sottraendo il numero di parametri liberi (ad esempio, varianze, covarianze, carichi fattoriali) dal numero totale di osservazioni indipendenti nei dati. Le osservazioni indipendenti sono tipicamente rappresentate dalle varianze e covarianze degli indicatori osservati. \n",
    "   - **Significato dei Gradi di Libertà**: Un numero positivo di gradi di libertà indica che ci sono abbastanza dati per stimare i parametri del modello e per testare l'adattamento del modello stesso. Se i gradi di libertà sono zero, il modello è detto \"saturato\", il che significa che si adatterà perfettamente ai dati ma senza fornire informazioni utili per la validazione. \n",
    "   - **Importanza dei Gradi di Libertà**: Avere dfM ≥ 0 è fondamentale perché assicura che il modello non sia sottospecificato. Un modello sottospecificato potrebbe portare a stime inaccurate e conclusioni fuorvianti.\n",
    "\n",
    "2. **Scalatura di Ogni Variabile Non Misurata**: \n",
    "   \n",
    "   - **Necessità della Scalatura**: Ogni variabile latente in un modello CFA, come un fattore, deve essere scalata per definirne l'unità di misura. Senza una scala definita, il modello non può determinare come interpretare le dimensioni della variabile latente.\n",
    "   - **Metodi di Scalatura**: La scalatura può essere realizzata in diversi modi, ad esempio, fissando il carico di un indicatore per fattore a 1.0 (metodo di riferimento) o fissando la varianza del fattore a un valore specifico. \n",
    "   - **Implicazioni della Scalatura**: Fissare la scala delle variabili latenti è cruciale perché senza di essa, i parametri del modello, come i carichi fattoriali, rimarrebbero indeterminati. Questo significa che i valori stimati dipenderebbero dalle unità di misura scelte arbitrariamente, rendendo le interpretazioni relative e non generalizzabili.\n",
    "\n",
    "In conclusione, la soddisfazione di questi due requisiti è fondamentale per stabilire un modello CFA di base che sia identificabile e interpretabile. Tuttavia, l'identificazione completa del modello potrebbe richiedere ulteriori considerazioni basate sulla specifica struttura e sulle ipotesi teoriche sottostanti il modello.\n",
    "\n",
    "```{figure} ../images/kline_14_2.png\n",
    "---\n",
    "height: 450px\n",
    "name: kline-14-2-fig\n",
    "---\n",
    "Scalatura dei fattori nel metodo della variabile di riferimento con vincoli di identificazione del carico unitario (ULI) (a), metodo di standardizzazione della variabile con vincoli di identificazione della varianza unitaria (UVI) (b) e metodo di codifica degli effetti con vincoli di identificazione della codifica degli effetti (ECI) (a + b + c)/3 = (d + e + f)/3 = 1.0 (c). Modelli presentati in simbolismo grafico compatto, e tutti i termini di errore degli indicatori sono scalati tramite vincoli ULI. (Figura tratta da {cite:t}`kline2023principles`)\n",
    "```\n",
    "\n",
    "#### Requisiti Sufficienti Aggiuntivi per l'Identificazione\n",
    "\n",
    "Oltre ai requisiti base, ci sono ulteriori criteri che contribuiscono all'identificazione dei modelli CFA:\n",
    "\n",
    "1. **Regola dei Tre Indicatori per i Modelli a Singolo Fattore**: Un modello CFA con un solo fattore deve avere almeno tre indicatori per essere identificato. Questo perché con solo due indicatori, c'è una mancanza di informazione sufficiente per distinguere la varianza e i carichi specifici del fattore da quelli degli errori di misurazione. Tuttavia, un modello con solo tre indicatori avrebbe esattamente dfM = 0, il che significa che si adatterebbe perfettamente ai dati ma non fornirebbe informazioni utili per ulteriori test o validazioni. Quindi, per avere gradi di libertà positivi (dfM > 0) e quindi spazio per la validazione del modello, sarebbero necessari almeno quattro indicatori.\n",
    "\n",
    "2. **Regola dei Due Indicatori per i Modelli con Più Fattori**: Se un modello CFA ha due o più fattori, ciascun fattore deve avere almeno due indicatori. Questa regola aiuta a garantire che ogni fattore sia sufficientemente definito e differenziato dagli altri fattori nel modello. Tuttavia, i modelli con solo due indicatori per fattore possono essere problematici, specialmente in campioni piccoli, a causa di potenziali instabilità nelle stime e difficoltà nell'interpretazione.\n",
    "\n",
    "In sintesi, questi requisiti di identificazione sono cruciali per garantire che un modello CFA sia sia teoricamente significativo (attraverso una corretta scalatura delle variabili latenti) sia praticamente utile (avendo abbastanza gradi di libertà per permettere la validazione e l'interpretazione del modello). La comprensione e l'adempimento di questi requisiti sono fondamentali per l'efficacia dell'analisi CFA nel campo della ricerca quantitativa."
   ]
  },
  {
   "cell_type": "markdown",
   "id": "d20c5d4a",
   "metadata": {},
   "source": [
    "#### Altri Metodi per la Scalatura dei Fattori nei Modelli CFA\n",
    "\n",
    "La scalatura dei fattori in un modello di CFA è cruciale per assicurare la corretta identificazione e interpretazione dei fattori. Oltre al metodo della variabile di riferimento, ci sono altri due approcci principali per la scalatura dei fattori. Ecco una spiegazione più dettagliata di questi metodi:\n",
    "\n",
    "1. **Metodo di Standardizzazione della Varianza (Variance Standardization Method)**:\n",
    "   \n",
    "   - **Standardizzazione dei Fattori**: Questo metodo standardizza i fattori fissando le loro varianze a 1.0. Questo vincolo è noto come unit variance identification (UVI). \n",
    "   - **Implicazioni**: Poiché i fattori sono standardizzati, le loro varianze non sono parametri liberi, ma le covarianze dei fattori sono liberamente stimate come correlazioni di Pearson. \n",
    "   - **Carichi degli Indicatori**: In questo metodo, i carichi di tutti gli indicatori sono parametri liberi, il che significa che ogni carico ha un errore standard nella soluzione non standardizzata e può essere testato per significatività statistica. \n",
    "   - **Vantaggi e Limitazioni**: Questo approccio ha il vantaggio della semplicità e non richiede la selezione di variabili di riferimento. Tuttavia, è generalmente applicabile solo ai fattori esogeni.\n",
    "\n",
    "2. **Metodo di Codifica degli Effetti (Effects Coding Method)**:\n",
    "   \n",
    "   - **Principio di Funzionamento**: Questo metodo non richiede la selezione di variabili di riferimento e non standardizza i fattori. Si basa sulla capacità degli strumenti SEM moderni di imporre vincoli lineari su due o più stime dei parametri, in questo caso sui carichi non standardizzati per gli indicatori di un fattore comune.\n",
    "   - **Vincolo di Codifica degli Effetti (ECI)**: Si specifica un vincolo ECI, il che significa che il carico medio degli indicatori dello stesso fattore equivale a 1.0 nella soluzione non standardizzata. Questo istruisce il computer a derivare carichi ottimali per un set di indicatori che in media sono 1.0.\n",
    "   - **Stima della Varianza del Fattore**: Con questo approccio, la varianza del fattore è stimata come la varianza comune media attraverso tutti gli indicatori nella loro metrica originale, ponderata dal contributo di ciascun indicatore alla misurazione del fattore.\n",
    "   - **Vantaggi**: Tutti gli indicatori contribuiscono alla scala del loro fattore comune. Questo può essere particolarmente utile in studi dove le varianze dei fattori forniscono informazioni sostanziali, come negli studi longitudinali sui fattori di crescita latente o quando si confrontano campioni da diverse popolazioni su fattori che sottostanno agli esiti osservati.\n",
    "\n",
    "**Confronto tra i Metodi e Scelta del Metodo di Scalatura**\n",
    "\n",
    "La scelta tra questi metodi dipende dall'obiettivo della ricerca e dalle specifiche del modello CFA. Ogni metodo ha vantaggi e limitazioni:\n",
    "\n",
    "- Il **metodo di standardizzazione della varianza** è semplice e non richiede la selezione di variabili di riferimento, ma è più adatto per fattori esogeni e può non essere appropriato in tutte le situazioni.\n",
    "- Il **metodo di codifica degli effetti** offre una stima più stabile della varianza del fattore che non si basa su un singolo indicatore, rendendolo utile in situazioni dove le varianze dei fattori sono di particolare interesse.\n",
    "\n",
    "Importante notare che la scelta del metodo di scalatura non influisce sull'adattamento globale del modello, sulla soluzione standardizzata e sulle stime non standardizzate per i termini di errore. Tuttavia, le stime non standardizzate per altri parametri del modello dipendono dal metodo scelto. La decisione su quale metodo utilizzare dovrebbe essere guidata dalla natura dei dati, dagli obiettivi della ricerca e dalle specifiche teoriche del modello CFA impiegato."
   ]
  },
  {
   "cell_type": "markdown",
   "id": "fe00a9ed",
   "metadata": {},
   "source": [
    "## Modello CFA per le Abilità Cognitive\n",
    "\n",
    "La prima edizione della Kaufman Assessment Battery for Children (KABC-I) (Kaufman & Kaufman, 1983) è un test di abilità cognitive somministrato individualmente per bambini dai 2 anni e mezzo ai 12 anni e mezzo. Gli autori del test sostenevano che gli otto sottotest rappresentati nella Figura 14.3 misurassero due fattori. I tre compiti nella figura, ritenuti riflettere l'elaborazione sequenziale, richiedono tutti il richiamo corretto di stimoli uditivi (Richiamo Numerico, Ordine delle Parole) o visivi (Movimenti della Mano) in un ordine particolare. Gli altri cinque compiti — dalla Chiusura Gestaltica alla Serie Fotografica nella figura — si presume misurino un ragionamento più olistico, meno dipendente dall'ordine, o un'elaborazione simultanea. Keith (1985) ha suggerito nomi alternativi per i fattori della KABC-I, tra cui \"memoria a breve termine\" invece di \"elaborazione sequenziale\" e \"ragionamento visuo-spaziale\" invece di \"elaborazione simultanea\"."
   ]
  },
  {
   "cell_type": "code",
   "execution_count": 2,
   "id": "d5bb42c3",
   "metadata": {
    "vscode": {
     "languageId": "r"
    }
   },
   "outputs": [
    {
     "data": {
      "text/html": [
       "<table class=\"dataframe\">\n",
       "<caption>A matrix: 8 × 8 of type dbl</caption>\n",
       "<thead>\n",
       "\t<tr><th></th><th scope=col>hm</th><th scope=col>nr</th><th scope=col>wo</th><th scope=col>gc</th><th scope=col>tr</th><th scope=col>sm</th><th scope=col>ma</th><th scope=col>ps</th></tr>\n",
       "</thead>\n",
       "<tbody>\n",
       "\t<tr><th scope=row>hm</th><td>1.00</td><td>0.39</td><td>0.35</td><td>0.21</td><td>0.32</td><td>0.40</td><td>0.39</td><td>0.39</td></tr>\n",
       "\t<tr><th scope=row>nr</th><td>0.39</td><td>1.00</td><td>0.67</td><td>0.11</td><td>0.27</td><td>0.29</td><td>0.32</td><td>0.29</td></tr>\n",
       "\t<tr><th scope=row>wo</th><td>0.35</td><td>0.67</td><td>1.00</td><td>0.16</td><td>0.29</td><td>0.28</td><td>0.30</td><td>0.37</td></tr>\n",
       "\t<tr><th scope=row>gc</th><td>0.21</td><td>0.11</td><td>0.16</td><td>1.00</td><td>0.38</td><td>0.30</td><td>0.31</td><td>0.42</td></tr>\n",
       "\t<tr><th scope=row>tr</th><td>0.32</td><td>0.27</td><td>0.29</td><td>0.38</td><td>1.00</td><td>0.47</td><td>0.42</td><td>0.58</td></tr>\n",
       "\t<tr><th scope=row>sm</th><td>0.40</td><td>0.29</td><td>0.28</td><td>0.30</td><td>0.47</td><td>1.00</td><td>0.41</td><td>0.51</td></tr>\n",
       "\t<tr><th scope=row>ma</th><td>0.39</td><td>0.32</td><td>0.30</td><td>0.31</td><td>0.42</td><td>0.41</td><td>1.00</td><td>0.42</td></tr>\n",
       "\t<tr><th scope=row>ps</th><td>0.39</td><td>0.29</td><td>0.37</td><td>0.42</td><td>0.58</td><td>0.51</td><td>0.42</td><td>1.00</td></tr>\n",
       "</tbody>\n",
       "</table>\n"
      ],
      "text/latex": [
       "A matrix: 8 × 8 of type dbl\n",
       "\\begin{tabular}{r|llllllll}\n",
       "  & hm & nr & wo & gc & tr & sm & ma & ps\\\\\n",
       "\\hline\n",
       "\thm & 1.00 & 0.39 & 0.35 & 0.21 & 0.32 & 0.40 & 0.39 & 0.39\\\\\n",
       "\tnr & 0.39 & 1.00 & 0.67 & 0.11 & 0.27 & 0.29 & 0.32 & 0.29\\\\\n",
       "\two & 0.35 & 0.67 & 1.00 & 0.16 & 0.29 & 0.28 & 0.30 & 0.37\\\\\n",
       "\tgc & 0.21 & 0.11 & 0.16 & 1.00 & 0.38 & 0.30 & 0.31 & 0.42\\\\\n",
       "\ttr & 0.32 & 0.27 & 0.29 & 0.38 & 1.00 & 0.47 & 0.42 & 0.58\\\\\n",
       "\tsm & 0.40 & 0.29 & 0.28 & 0.30 & 0.47 & 1.00 & 0.41 & 0.51\\\\\n",
       "\tma & 0.39 & 0.32 & 0.30 & 0.31 & 0.42 & 0.41 & 1.00 & 0.42\\\\\n",
       "\tps & 0.39 & 0.29 & 0.37 & 0.42 & 0.58 & 0.51 & 0.42 & 1.00\\\\\n",
       "\\end{tabular}\n"
      ],
      "text/markdown": [
       "\n",
       "A matrix: 8 × 8 of type dbl\n",
       "\n",
       "| <!--/--> | hm | nr | wo | gc | tr | sm | ma | ps |\n",
       "|---|---|---|---|---|---|---|---|---|\n",
       "| hm | 1.00 | 0.39 | 0.35 | 0.21 | 0.32 | 0.40 | 0.39 | 0.39 |\n",
       "| nr | 0.39 | 1.00 | 0.67 | 0.11 | 0.27 | 0.29 | 0.32 | 0.29 |\n",
       "| wo | 0.35 | 0.67 | 1.00 | 0.16 | 0.29 | 0.28 | 0.30 | 0.37 |\n",
       "| gc | 0.21 | 0.11 | 0.16 | 1.00 | 0.38 | 0.30 | 0.31 | 0.42 |\n",
       "| tr | 0.32 | 0.27 | 0.29 | 0.38 | 1.00 | 0.47 | 0.42 | 0.58 |\n",
       "| sm | 0.40 | 0.29 | 0.28 | 0.30 | 0.47 | 1.00 | 0.41 | 0.51 |\n",
       "| ma | 0.39 | 0.32 | 0.30 | 0.31 | 0.42 | 0.41 | 1.00 | 0.42 |\n",
       "| ps | 0.39 | 0.29 | 0.37 | 0.42 | 0.58 | 0.51 | 0.42 | 1.00 |\n",
       "\n"
      ],
      "text/plain": [
       "   hm   nr   wo   gc   tr   sm   ma   ps  \n",
       "hm 1.00 0.39 0.35 0.21 0.32 0.40 0.39 0.39\n",
       "nr 0.39 1.00 0.67 0.11 0.27 0.29 0.32 0.29\n",
       "wo 0.35 0.67 1.00 0.16 0.29 0.28 0.30 0.37\n",
       "gc 0.21 0.11 0.16 1.00 0.38 0.30 0.31 0.42\n",
       "tr 0.32 0.27 0.29 0.38 1.00 0.47 0.42 0.58\n",
       "sm 0.40 0.29 0.28 0.30 0.47 1.00 0.41 0.51\n",
       "ma 0.39 0.32 0.30 0.31 0.42 0.41 1.00 0.42\n",
       "ps 0.39 0.29 0.37 0.42 0.58 0.51 0.42 1.00"
      ]
     },
     "metadata": {},
     "output_type": "display_data"
    }
   ],
   "source": [
    "# input the correlations in lower diagnonal form\n",
    "kabcLower.cor <- \"\n",
    " 1.00\n",
    " .39 1.00\n",
    " .35  .67 1.00\n",
    " .21  .11  .16 1.00\n",
    " .32  .27  .29  .38 1.00\n",
    " .40  .29  .28  .30  .47 1.00\n",
    " .39  .32  .30  .31  .42  .41 1.00\n",
    " .39  .29  .37  .42  .58  .51  .42 1.00 \"\n",
    "\n",
    "# name the variables and convert to full correlation matrix\n",
    "# hm, hand movements; nr, number recall; wo, word order; gc, gestalt closure;\n",
    "# tr, triangles; sm, spatial memory; ma, matrix analogies; ps, photo series\n",
    "kabc.cor <- lavaan::getCov(kabcLower.cor, names = c(\n",
    "    \"hm\", \"nr\", \"wo\",\n",
    "    \"gc\", \"tr\", \"sm\", \"ma\", \"ps\"\n",
    "))\n",
    "# display correlations\n",
    "kabc.cor"
   ]
  },
  {
   "cell_type": "code",
   "execution_count": 3,
   "id": "1b26582c",
   "metadata": {
    "vscode": {
     "languageId": "r"
    }
   },
   "outputs": [
    {
     "data": {
      "text/html": [
       "<table class=\"dataframe\">\n",
       "<caption>A matrix: 8 × 8 of type dbl</caption>\n",
       "<thead>\n",
       "\t<tr><th></th><th scope=col>hm</th><th scope=col>nr</th><th scope=col>wo</th><th scope=col>gc</th><th scope=col>tr</th><th scope=col>sm</th><th scope=col>ma</th><th scope=col>ps</th></tr>\n",
       "</thead>\n",
       "<tbody>\n",
       "\t<tr><th scope=row>hm</th><td>11.5600</td><td>3.1824</td><td>3.4510</td><td>1.9278</td><td>2.9376</td><td> 5.7120</td><td>3.7128</td><td>3.978</td></tr>\n",
       "\t<tr><th scope=row>nr</th><td> 3.1824</td><td>5.7600</td><td>4.6632</td><td>0.7128</td><td>1.7496</td><td> 2.9232</td><td>2.1504</td><td>2.088</td></tr>\n",
       "\t<tr><th scope=row>wo</th><td> 3.4510</td><td>4.6632</td><td>8.4100</td><td>1.2528</td><td>2.2707</td><td> 3.4104</td><td>2.4360</td><td>3.219</td></tr>\n",
       "\t<tr><th scope=row>gc</th><td> 1.9278</td><td>0.7128</td><td>1.2528</td><td>7.2900</td><td>2.7702</td><td> 3.4020</td><td>2.3436</td><td>3.402</td></tr>\n",
       "\t<tr><th scope=row>tr</th><td> 2.9376</td><td>1.7496</td><td>2.2707</td><td>2.7702</td><td>7.2900</td><td> 5.3298</td><td>3.1752</td><td>4.698</td></tr>\n",
       "\t<tr><th scope=row>sm</th><td> 5.7120</td><td>2.9232</td><td>3.4104</td><td>3.4020</td><td>5.3298</td><td>17.6400</td><td>4.8216</td><td>6.426</td></tr>\n",
       "\t<tr><th scope=row>ma</th><td> 3.7128</td><td>2.1504</td><td>2.4360</td><td>2.3436</td><td>3.1752</td><td> 4.8216</td><td>7.8400</td><td>3.528</td></tr>\n",
       "\t<tr><th scope=row>ps</th><td> 3.9780</td><td>2.0880</td><td>3.2190</td><td>3.4020</td><td>4.6980</td><td> 6.4260</td><td>3.5280</td><td>9.000</td></tr>\n",
       "</tbody>\n",
       "</table>\n"
      ],
      "text/latex": [
       "A matrix: 8 × 8 of type dbl\n",
       "\\begin{tabular}{r|llllllll}\n",
       "  & hm & nr & wo & gc & tr & sm & ma & ps\\\\\n",
       "\\hline\n",
       "\thm & 11.5600 & 3.1824 & 3.4510 & 1.9278 & 2.9376 &  5.7120 & 3.7128 & 3.978\\\\\n",
       "\tnr &  3.1824 & 5.7600 & 4.6632 & 0.7128 & 1.7496 &  2.9232 & 2.1504 & 2.088\\\\\n",
       "\two &  3.4510 & 4.6632 & 8.4100 & 1.2528 & 2.2707 &  3.4104 & 2.4360 & 3.219\\\\\n",
       "\tgc &  1.9278 & 0.7128 & 1.2528 & 7.2900 & 2.7702 &  3.4020 & 2.3436 & 3.402\\\\\n",
       "\ttr &  2.9376 & 1.7496 & 2.2707 & 2.7702 & 7.2900 &  5.3298 & 3.1752 & 4.698\\\\\n",
       "\tsm &  5.7120 & 2.9232 & 3.4104 & 3.4020 & 5.3298 & 17.6400 & 4.8216 & 6.426\\\\\n",
       "\tma &  3.7128 & 2.1504 & 2.4360 & 2.3436 & 3.1752 &  4.8216 & 7.8400 & 3.528\\\\\n",
       "\tps &  3.9780 & 2.0880 & 3.2190 & 3.4020 & 4.6980 &  6.4260 & 3.5280 & 9.000\\\\\n",
       "\\end{tabular}\n"
      ],
      "text/markdown": [
       "\n",
       "A matrix: 8 × 8 of type dbl\n",
       "\n",
       "| <!--/--> | hm | nr | wo | gc | tr | sm | ma | ps |\n",
       "|---|---|---|---|---|---|---|---|---|\n",
       "| hm | 11.5600 | 3.1824 | 3.4510 | 1.9278 | 2.9376 |  5.7120 | 3.7128 | 3.978 |\n",
       "| nr |  3.1824 | 5.7600 | 4.6632 | 0.7128 | 1.7496 |  2.9232 | 2.1504 | 2.088 |\n",
       "| wo |  3.4510 | 4.6632 | 8.4100 | 1.2528 | 2.2707 |  3.4104 | 2.4360 | 3.219 |\n",
       "| gc |  1.9278 | 0.7128 | 1.2528 | 7.2900 | 2.7702 |  3.4020 | 2.3436 | 3.402 |\n",
       "| tr |  2.9376 | 1.7496 | 2.2707 | 2.7702 | 7.2900 |  5.3298 | 3.1752 | 4.698 |\n",
       "| sm |  5.7120 | 2.9232 | 3.4104 | 3.4020 | 5.3298 | 17.6400 | 4.8216 | 6.426 |\n",
       "| ma |  3.7128 | 2.1504 | 2.4360 | 2.3436 | 3.1752 |  4.8216 | 7.8400 | 3.528 |\n",
       "| ps |  3.9780 | 2.0880 | 3.2190 | 3.4020 | 4.6980 |  6.4260 | 3.5280 | 9.000 |\n",
       "\n"
      ],
      "text/plain": [
       "   hm      nr     wo     gc     tr     sm      ma     ps   \n",
       "hm 11.5600 3.1824 3.4510 1.9278 2.9376  5.7120 3.7128 3.978\n",
       "nr  3.1824 5.7600 4.6632 0.7128 1.7496  2.9232 2.1504 2.088\n",
       "wo  3.4510 4.6632 8.4100 1.2528 2.2707  3.4104 2.4360 3.219\n",
       "gc  1.9278 0.7128 1.2528 7.2900 2.7702  3.4020 2.3436 3.402\n",
       "tr  2.9376 1.7496 2.2707 2.7702 7.2900  5.3298 3.1752 4.698\n",
       "sm  5.7120 2.9232 3.4104 3.4020 5.3298 17.6400 4.8216 6.426\n",
       "ma  3.7128 2.1504 2.4360 2.3436 3.1752  4.8216 7.8400 3.528\n",
       "ps  3.9780 2.0880 3.2190 3.4020 4.6980  6.4260 3.5280 9.000"
      ]
     },
     "metadata": {},
     "output_type": "display_data"
    }
   ],
   "source": [
    "# add the standard deviations and convert to covariances\n",
    "kabc.cov <- lavaan::cor2cov(kabc.cor, sds = c(3.40, 2.40, 2.90, 2.70, 2.70, 4.20, 2.80, 3.00))\n",
    "\n",
    "# display covariances\n",
    "kabc.cov"
   ]
  },
  {
   "cell_type": "markdown",
   "id": "f7983346",
   "metadata": {},
   "source": [
    "```{figure} ../images/kline_14_3.png\n",
    "---\n",
    "height: 250px\n",
    "name: kline-14-3-fig\n",
    "---\n",
    "Modello CFA per la Kaufman Assessment Battery for Children. (Figura tratta da {cite:t}`kline2023principles`)\n",
    "```"
   ]
  },
  {
   "cell_type": "markdown",
   "id": "dba450cc",
   "metadata": {},
   "source": [
    "#### Modello a Fattore Singolo\n",
    "\n",
    "Nell'ambito della CFA, se il modello bersaglio ha due o più fattori, spesso il primo modello analizzato è un modello a fattore singolo. Se non si può rigettare un modello a fattore singolo, non ha molto senso valutare modelli con più fattori."
   ]
  },
  {
   "cell_type": "code",
   "execution_count": 4,
   "id": "a4de644e",
   "metadata": {
    "vscode": {
     "languageId": "r"
    }
   },
   "outputs": [],
   "source": [
    "# single factor (general ability)\n",
    "# indicator hm automatically\n",
    "# specified as reference variable\n",
    "\n",
    "kabc1.model <- \"\n",
    "General =~ hm + nr + wo + gc + tr + sm + ma + ps \""
   ]
  },
  {
   "cell_type": "code",
   "execution_count": 5,
   "id": "8847c796",
   "metadata": {
    "vscode": {
     "languageId": "r"
    }
   },
   "outputs": [],
   "source": [
    "# fit model to data\n",
    "# variances calculated with N in the denominator, not N - 1\n",
    "kabc1 <- lavaan::sem(kabc1.model, sample.cov = kabc.cov, sample.nobs = 200)"
   ]
  },
  {
   "cell_type": "code",
   "execution_count": 6,
   "id": "6529405a",
   "metadata": {
    "vscode": {
     "languageId": "r"
    }
   },
   "outputs": [
    {
     "data": {
      "image/png": "[encoded data removed]",
      "text/plain": [
       "plot without title"
      ]
     },
     "metadata": {
      "image/png": {
       "height": 420,
       "width": 420
      }
     },
     "output_type": "display_data"
    }
   ],
   "source": [
    "cols <- wesanderson::wes_palette(name = \"Moonrise2\", n = 4, type = \"discrete\")\n",
    "colorlist <- list(man = cols[2], lat = cols[3])\n",
    "\n",
    "semPlot::semPaths(kabc1,\n",
    "    what = \"col\", whatLabels = \"par\", style = \"mx\", color = colorlist,\n",
    "    layout = \"tree2\", nCharNodes = 7,\n",
    "    shapeMan = \"rectangle\", sizeMan = 8, sizeMan2 = 5\n",
    ")"
   ]
  },
  {
   "cell_type": "code",
   "execution_count": 7,
   "id": "a4f4f04a",
   "metadata": {
    "vscode": {
     "languageId": "r"
    }
   },
   "outputs": [
    {
     "name": "stdout",
     "output_type": "stream",
     "text": [
      "       lhs op     rhs   est    se     z pvalue ci.lower ci.upper\n",
      "1  General =~      hm 1.000 0.000    NA     NA    1.000    1.000\n",
      "2  General =~      nr 0.636 0.111 5.708      0    0.418    0.854\n",
      "3  General =~      wo 0.805 0.136 5.910      0    0.538    1.072\n",
      "4  General =~      gc 0.659 0.123 5.361      0    0.418    0.900\n",
      "5  General =~      tr 0.963 0.138 6.984      0    0.693    1.233\n",
      "6  General =~      sm 1.433 0.211 6.796      0    1.019    1.846\n",
      "7  General =~      ma 0.883 0.137 6.459      0    0.615    1.151\n",
      "8  General =~      ps 1.166 0.159 7.324      0    0.854    1.478\n",
      "9       hm ~~      hm 7.812 0.863 9.049      0    6.120    9.504\n",
      "10      nr ~~      nr 4.240 0.456 9.294      0    3.345    5.134\n",
      "11      wo ~~      wo 5.975 0.650 9.195      0    4.702    7.249\n",
      "12      gc ~~      gc 5.652 0.599 9.432      0    4.478    6.827\n",
      "13      tr ~~      tr 3.831 0.468 8.186      0    2.914    4.748\n",
      "14      sm ~~      sm 9.979 1.179 8.463      0    7.668   12.290\n",
      "15      ma ~~      ma 4.925 0.558 8.822      0    3.831    6.020\n",
      "16      ps ~~      ps 3.936 0.531 7.410      0    2.895    4.977\n",
      "17 General ~~ General 3.690 0.921 4.008      0    1.885    5.494\n"
     ]
    }
   ],
   "source": [
    "lavaan::parameterEstimates(kabc1) |> \n",
    "    print()"
   ]
  },
  {
   "cell_type": "markdown",
   "id": "0a04539d",
   "metadata": {},
   "source": [
    "La saturazione non standardizzata per il compito \"Movimenti della Mano\" è stato fissato automaticamente a 1.0 per scalare il singolo fattore. I valori di alcune statistiche globali di adattamento per il modello a fattore singolo sono riportati di seguito:"
   ]
  },
  {
   "cell_type": "code",
   "execution_count": 8,
   "id": "a698cab6",
   "metadata": {
    "vscode": {
     "languageId": "r"
    }
   },
   "outputs": [
    {
     "data": {
      "text/plain": [
       "\n",
       "\n",
       "Table: Factor Loadings\n",
       "\n",
       "|Latent Factor |Indicator |     B|    SE|     Z| p-value|  Beta|\n",
       "|:-------------|:---------|-----:|-----:|-----:|-------:|-----:|\n",
       "|General       |hm        | 1.000| 0.000|    NA|      NA| 0.566|\n",
       "|General       |nr        | 0.636| 0.111| 5.708|       0| 0.510|\n",
       "|General       |wo        | 0.805| 0.136| 5.910|       0| 0.535|\n",
       "|General       |gc        | 0.659| 0.123| 5.361|       0| 0.470|\n",
       "|General       |tr        | 0.963| 0.138| 6.984|       0| 0.687|\n",
       "|General       |sm        | 1.433| 0.211| 6.796|       0| 0.657|\n",
       "|General       |ma        | 0.883| 0.137| 6.459|       0| 0.607|\n",
       "|General       |ps        | 1.166| 0.159| 7.324|       0| 0.749|"
      ]
     },
     "metadata": {},
     "output_type": "display_data"
    }
   ],
   "source": [
    "parameterEstimates(kabc1, standardized = TRUE) %>%\n",
    "    dplyr::filter(op == \"=~\") %>%\n",
    "    dplyr::select(\n",
    "        \"Latent Factor\" = lhs,\n",
    "        Indicator = rhs,\n",
    "        B = est,\n",
    "        SE = se,\n",
    "        Z = z,\n",
    "        \"p-value\" = pvalue,\n",
    "        Beta = std.all\n",
    "    ) %>%\n",
    "    knitr::kable(\n",
    "        digits = 3, booktabs = TRUE, format = \"markdown\",\n",
    "        caption = \"Factor Loadings\"\n",
    "    )"
   ]
  },
  {
   "cell_type": "markdown",
   "id": "979d2d80",
   "metadata": {},
   "source": [
    "Esaminiamo le misure di adattamento e i residui."
   ]
  },
  {
   "cell_type": "code",
   "execution_count": 9,
   "id": "e0ed0373",
   "metadata": {
    "vscode": {
     "languageId": "r"
    }
   },
   "outputs": [
    {
     "name": "stdout",
     "output_type": "stream",
     "text": [
      "  chisq      df     cfi     tli   rmsea    srmr \n",
      "105.427  20.000   0.818   0.746   0.146   0.084 \n"
     ]
    }
   ],
   "source": [
    "fitMeasures(kabc1, c(\"chisq\", \"df\", \"cfi\", \"tli\", \"rmsea\", \"srmr\")) |>\n",
    "    print()"
   ]
  },
  {
   "cell_type": "code",
   "execution_count": 10,
   "id": "81723e84",
   "metadata": {
    "vscode": {
     "languageId": "r"
    }
   },
   "outputs": [
    {
     "name": "stdout",
     "output_type": "stream",
     "text": [
      "$type\n",
      "[1] \"raw\"\n",
      "\n",
      "$cov\n",
      "       hm     nr     wo     gc     tr     sm     ma     ps\n",
      "hm  0.000                                                 \n",
      "nr  0.820  0.000                                          \n",
      "wo  0.462  2.751  0.000                                   \n",
      "gc -0.513 -0.836 -0.711  0.000                            \n",
      "tr -0.631 -0.519 -0.602  0.415  0.000                     \n",
      "sm  0.397 -0.452 -0.863 -0.097  0.212  0.000              \n",
      "ma  0.437  0.069 -0.199  0.186  0.022  0.131  0.000       \n",
      "ps -0.345 -0.659 -0.263  0.550  0.530  0.229 -0.289  0.000\n",
      "\n"
     ]
    }
   ],
   "source": [
    "lavaan::residuals(kabc1, type = \"raw\") |>\n",
    "    print()"
   ]
  },
  {
   "cell_type": "code",
   "execution_count": 11,
   "id": "90620220",
   "metadata": {
    "vscode": {
     "languageId": "r"
    }
   },
   "outputs": [
    {
     "name": "stdout",
     "output_type": "stream",
     "text": [
      "$type\n",
      "[1] \"standardized.mplus\"\n",
      "\n",
      "$cov\n",
      "       hm     nr     wo     gc     tr     sm     ma     ps\n",
      "hm  0.000                                                 \n",
      "nr  2.062  0.000                                          \n",
      "wo  1.026  6.218  0.000                                   \n",
      "gc -1.231 -2.727 -1.952  0.000                            \n",
      "tr -2.200 -2.364 -2.355  1.379  0.000                     \n",
      "sm  0.723 -1.188 -1.995 -0.210  0.596  0.000              \n",
      "ma  1.086  0.237 -0.601  0.544  0.089  0.313  0.000       \n",
      "ps -1.241 -3.422 -1.037  1.833  2.178  0.675 -1.375  0.000\n",
      "\n"
     ]
    }
   ],
   "source": [
    "lavaan::residuals(kabc1, type = \"standardized.mplus\") |>\n",
    "    print()"
   ]
  },
  {
   "cell_type": "code",
   "execution_count": 12,
   "id": "645468c2",
   "metadata": {
    "vscode": {
     "languageId": "r"
    }
   },
   "outputs": [
    {
     "name": "stdout",
     "output_type": "stream",
     "text": [
      "$type\n",
      "[1] \"cor.bollen\"\n",
      "\n",
      "$cov\n",
      "       hm     nr     wo     gc     tr     sm     ma     ps\n",
      "hm  0.000                                                 \n",
      "nr  0.101  0.000                                          \n",
      "wo  0.047  0.397  0.000                                   \n",
      "gc -0.056 -0.130 -0.091  0.000                            \n",
      "tr -0.069 -0.080 -0.077  0.057  0.000                     \n",
      "sm  0.028 -0.045 -0.071 -0.009  0.019  0.000              \n",
      "ma  0.046  0.010 -0.025  0.025  0.003  0.011  0.000       \n",
      "ps -0.034 -0.092 -0.030  0.068  0.066  0.018 -0.035  0.000\n",
      "\n"
     ]
    }
   ],
   "source": [
    "lavaan::residuals(kabc1, type = \"cor.bollen\") |>\n",
    "    print()"
   ]
  },
  {
   "cell_type": "markdown",
   "id": "fab93e55",
   "metadata": {},
   "source": [
    "Il modello a fattore singolo non supera il test del rapporto chi-quadro/df, e il limite inferiore dell'intervallo di confidenza al 90% del RMSEA, o .119, supera .10, che è un risultato scarso. Anche i risultati per CFI e SRMR sono sfavorevoli. Anche i residui per questa analisi indicano che l'adattamento locale è scadente. Pertanto, il modello a fattore singolo per la KABC-I è rigettato."
   ]
  },
  {
   "cell_type": "markdown",
   "id": "aab9ee95",
   "metadata": {},
   "source": [
    "#### Modello a Due Fattori\n",
    "\n",
    "In una seconda analisi, il modello a due fattori nella {numref}`kline-14-3-fig` è stato adattato ai dati. "
   ]
  },
  {
   "cell_type": "code",
   "execution_count": 13,
   "id": "2a4f52a2",
   "metadata": {
    "vscode": {
     "languageId": "r"
    }
   },
   "outputs": [],
   "source": [
    "kabc2_model <- \"\n",
    "    Sequent =~ hm + nr + wo\n",
    "    Simultan =~ gc + tr + sm + ma + ps \n",
    "\""
   ]
  },
  {
   "cell_type": "code",
   "execution_count": 14,
   "id": "f24c300a",
   "metadata": {
    "vscode": {
     "languageId": "r"
    }
   },
   "outputs": [],
   "source": [
    "kabc2 <- lavaan::sem(kabc2_model, sample.cov = kabc.cov, sample.nobs = 200)"
   ]
  },
  {
   "cell_type": "code",
   "execution_count": 15,
   "id": "19f7af1d",
   "metadata": {
    "vscode": {
     "languageId": "r"
    }
   },
   "outputs": [
    {
     "data": {
      "image/png": "[encoded data removed]",
      "text/plain": [
       "plot without title"
      ]
     },
     "metadata": {
      "image/png": {
       "height": 420,
       "width": 420
      }
     },
     "output_type": "display_data"
    }
   ],
   "source": [
    "semPlot::semPaths(kabc2,\n",
    "    what = \"col\", whatLabels = \"par\", style = \"mx\", color = colorlist,\n",
    "    layout = \"tree2\", nCharNodes = 7,\n",
    "    shapeMan = \"rectangle\", sizeMan = 8, sizeMan2 = 5\n",
    ")"
   ]
  },
  {
   "cell_type": "code",
   "execution_count": 16,
   "id": "0e12a56d",
   "metadata": {
    "vscode": {
     "languageId": "r"
    }
   },
   "outputs": [
    {
     "name": "stdout",
     "output_type": "stream",
     "text": [
      "        lhs op      rhs   est    se     z pvalue ci.lower ci.upper\n",
      "1   Sequent =~       hm 1.000 0.000    NA     NA    1.000    1.000\n",
      "2   Sequent =~       nr 1.147 0.181 6.341  0.000    0.792    1.501\n",
      "3   Sequent =~       wo 1.388 0.219 6.340  0.000    0.959    1.817\n",
      "4  Simultan =~       gc 1.000 0.000    NA     NA    1.000    1.000\n",
      "5  Simultan =~       tr 1.445 0.227 6.352  0.000    0.999    1.890\n",
      "6  Simultan =~       sm 2.029 0.335 6.062  0.000    1.373    2.685\n",
      "7  Simultan =~       ma 1.212 0.212 5.717  0.000    0.797    1.628\n",
      "8  Simultan =~       ps 1.727 0.265 6.521  0.000    1.208    2.246\n",
      "9        hm ~~       hm 8.664 0.938 9.237  0.000    6.826   10.502\n",
      "10       nr ~~       nr 1.998 0.414 4.831  0.000    1.188    2.809\n",
      "11       wo ~~       wo 2.902 0.604 4.801  0.000    1.717    4.087\n",
      "12       gc ~~       gc 5.419 0.585 9.261  0.000    4.272    6.566\n",
      "13       tr ~~       tr 3.426 0.458 7.479  0.000    2.528    4.323\n",
      "14       sm ~~       sm 9.997 1.202 8.320  0.000    7.642   12.353\n",
      "15       ma ~~       ma 5.105 0.578 8.838  0.000    3.973    6.237\n",
      "16       ps ~~       ps 3.482 0.537 6.482  0.000    2.429    4.535\n",
      "17  Sequent ~~  Sequent 2.838 0.838 3.389  0.001    1.197    4.480\n",
      "18 Simultan ~~ Simultan 1.834 0.530 3.459  0.001    0.795    2.874\n",
      "19  Sequent ~~ Simultan 1.271 0.324 3.918  0.000    0.635    1.907\n"
     ]
    }
   ],
   "source": [
    "lavaan::parameterEstimates(kabc2) |>\n",
    "    print()"
   ]
  },
  {
   "cell_type": "code",
   "execution_count": 17,
   "id": "72f71467",
   "metadata": {
    "vscode": {
     "languageId": "r"
    }
   },
   "outputs": [
    {
     "data": {
      "text/html": [
       "<table class=\"dataframe\">\n",
       "<caption>A lavaan.data.frame: 19 × 9</caption>\n",
       "<thead>\n",
       "\t<tr><th scope=col>lhs</th><th scope=col>op</th><th scope=col>rhs</th><th scope=col>est.std</th><th scope=col>se</th><th scope=col>z</th><th scope=col>pvalue</th><th scope=col>ci.lower</th><th scope=col>ci.upper</th></tr>\n",
       "\t<tr><th scope=col>&lt;chr&gt;</th><th scope=col>&lt;chr&gt;</th><th scope=col>&lt;chr&gt;</th><th scope=col>&lt;dbl&gt;</th><th scope=col>&lt;dbl&gt;</th><th scope=col>&lt;dbl&gt;</th><th scope=col>&lt;dbl&gt;</th><th scope=col>&lt;dbl&gt;</th><th scope=col>&lt;dbl&gt;</th></tr>\n",
       "</thead>\n",
       "<tbody>\n",
       "\t<tr><td>Sequent </td><td>=~</td><td>hm      </td><td>0.4967517</td><td>0.06185190</td><td> 8.031309</td><td>8.881784e-16</td><td>0.3755242</td><td>0.6179792</td></tr>\n",
       "\t<tr><td>Sequent </td><td>=~</td><td>nr      </td><td>0.8070386</td><td>0.04626958</td><td>17.442098</td><td>0.000000e+00</td><td>0.7163519</td><td>0.8977253</td></tr>\n",
       "\t<tr><td>Sequent </td><td>=~</td><td>wo      </td><td>0.8082004</td><td>0.04624070</td><td>17.478118</td><td>0.000000e+00</td><td>0.7175703</td><td>0.8988305</td></tr>\n",
       "\t<tr><td>Simultan</td><td>=~</td><td>gc      </td><td>0.5029005</td><td>0.06088027</td><td> 8.260485</td><td>2.220446e-16</td><td>0.3835774</td><td>0.6222236</td></tr>\n",
       "\t<tr><td>Simultan</td><td>=~</td><td>tr      </td><td>0.7264627</td><td>0.04412957</td><td>16.462040</td><td>0.000000e+00</td><td>0.6399703</td><td>0.8129550</td></tr>\n",
       "\t<tr><td>Simultan</td><td>=~</td><td>sm      </td><td>0.6560490</td><td>0.04959951</td><td>13.226925</td><td>0.000000e+00</td><td>0.5588358</td><td>0.7532623</td></tr>\n",
       "\t<tr><td>Simultan</td><td>=~</td><td>ma      </td><td>0.5878905</td><td>0.05485948</td><td>10.716298</td><td>0.000000e+00</td><td>0.4803679</td><td>0.6954131</td></tr>\n",
       "\t<tr><td>Simultan</td><td>=~</td><td>ps      </td><td>0.7817406</td><td>0.04012341</td><td>19.483401</td><td>0.000000e+00</td><td>0.7031001</td><td>0.8603810</td></tr>\n",
       "\t<tr><td>hm      </td><td>~~</td><td>hm      </td><td>0.7532377</td><td>0.06145007</td><td>12.257719</td><td>0.000000e+00</td><td>0.6327978</td><td>0.8736777</td></tr>\n",
       "\t<tr><td>nr      </td><td>~~</td><td>nr      </td><td>0.3486887</td><td>0.07468267</td><td> 4.668937</td><td>3.027615e-06</td><td>0.2023134</td><td>0.4950641</td></tr>\n",
       "\t<tr><td>wo      </td><td>~~</td><td>wo      </td><td>0.3468121</td><td>0.07474351</td><td> 4.640030</td><td>3.483594e-06</td><td>0.2003175</td><td>0.4933067</td></tr>\n",
       "\t<tr><td>gc      </td><td>~~</td><td>gc      </td><td>0.7470911</td><td>0.06123343</td><td>12.200705</td><td>0.000000e+00</td><td>0.6270758</td><td>0.8671064</td></tr>\n",
       "\t<tr><td>tr      </td><td>~~</td><td>tr      </td><td>0.4722520</td><td>0.06411696</td><td> 7.365476</td><td>1.765255e-13</td><td>0.3465850</td><td>0.5979189</td></tr>\n",
       "\t<tr><td>sm      </td><td>~~</td><td>sm      </td><td>0.5695997</td><td>0.06507943</td><td> 8.752377</td><td>0.000000e+00</td><td>0.4420463</td><td>0.6971530</td></tr>\n",
       "\t<tr><td>ma      </td><td>~~</td><td>ma      </td><td>0.6543848</td><td>0.06450273</td><td>10.145071</td><td>0.000000e+00</td><td>0.5279617</td><td>0.7808078</td></tr>\n",
       "\t<tr><td>ps      </td><td>~~</td><td>ps      </td><td>0.3888817</td><td>0.06273220</td><td> 6.199076</td><td>5.679559e-10</td><td>0.2659288</td><td>0.5118345</td></tr>\n",
       "\t<tr><td>Sequent </td><td>~~</td><td>Sequent </td><td>1.0000000</td><td>0.00000000</td><td>       NA</td><td>          NA</td><td>1.0000000</td><td>1.0000000</td></tr>\n",
       "\t<tr><td>Simultan</td><td>~~</td><td>Simultan</td><td>1.0000000</td><td>0.00000000</td><td>       NA</td><td>          NA</td><td>1.0000000</td><td>1.0000000</td></tr>\n",
       "\t<tr><td>Sequent </td><td>~~</td><td>Simultan</td><td>0.5569247</td><td>0.06673231</td><td> 8.345654</td><td>0.000000e+00</td><td>0.4261318</td><td>0.6877176</td></tr>\n",
       "</tbody>\n",
       "</table>\n"
      ],
      "text/latex": [
       "A lavaan.data.frame: 19 × 9\n",
       "\\begin{tabular}{lllllllll}\n",
       " lhs & op & rhs & est.std & se & z & pvalue & ci.lower & ci.upper\\\\\n",
       " <chr> & <chr> & <chr> & <dbl> & <dbl> & <dbl> & <dbl> & <dbl> & <dbl>\\\\\n",
       "\\hline\n",
       "\t Sequent  & =\\textasciitilde{} & hm       & 0.4967517 & 0.06185190 &  8.031309 & 8.881784e-16 & 0.3755242 & 0.6179792\\\\\n",
       "\t Sequent  & =\\textasciitilde{} & nr       & 0.8070386 & 0.04626958 & 17.442098 & 0.000000e+00 & 0.7163519 & 0.8977253\\\\\n",
       "\t Sequent  & =\\textasciitilde{} & wo       & 0.8082004 & 0.04624070 & 17.478118 & 0.000000e+00 & 0.7175703 & 0.8988305\\\\\n",
       "\t Simultan & =\\textasciitilde{} & gc       & 0.5029005 & 0.06088027 &  8.260485 & 2.220446e-16 & 0.3835774 & 0.6222236\\\\\n",
       "\t Simultan & =\\textasciitilde{} & tr       & 0.7264627 & 0.04412957 & 16.462040 & 0.000000e+00 & 0.6399703 & 0.8129550\\\\\n",
       "\t Simultan & =\\textasciitilde{} & sm       & 0.6560490 & 0.04959951 & 13.226925 & 0.000000e+00 & 0.5588358 & 0.7532623\\\\\n",
       "\t Simultan & =\\textasciitilde{} & ma       & 0.5878905 & 0.05485948 & 10.716298 & 0.000000e+00 & 0.4803679 & 0.6954131\\\\\n",
       "\t Simultan & =\\textasciitilde{} & ps       & 0.7817406 & 0.04012341 & 19.483401 & 0.000000e+00 & 0.7031001 & 0.8603810\\\\\n",
       "\t hm       & \\textasciitilde{}\\textasciitilde{} & hm       & 0.7532377 & 0.06145007 & 12.257719 & 0.000000e+00 & 0.6327978 & 0.8736777\\\\\n",
       "\t nr       & \\textasciitilde{}\\textasciitilde{} & nr       & 0.3486887 & 0.07468267 &  4.668937 & 3.027615e-06 & 0.2023134 & 0.4950641\\\\\n",
       "\t wo       & \\textasciitilde{}\\textasciitilde{} & wo       & 0.3468121 & 0.07474351 &  4.640030 & 3.483594e-06 & 0.2003175 & 0.4933067\\\\\n",
       "\t gc       & \\textasciitilde{}\\textasciitilde{} & gc       & 0.7470911 & 0.06123343 & 12.200705 & 0.000000e+00 & 0.6270758 & 0.8671064\\\\\n",
       "\t tr       & \\textasciitilde{}\\textasciitilde{} & tr       & 0.4722520 & 0.06411696 &  7.365476 & 1.765255e-13 & 0.3465850 & 0.5979189\\\\\n",
       "\t sm       & \\textasciitilde{}\\textasciitilde{} & sm       & 0.5695997 & 0.06507943 &  8.752377 & 0.000000e+00 & 0.4420463 & 0.6971530\\\\\n",
       "\t ma       & \\textasciitilde{}\\textasciitilde{} & ma       & 0.6543848 & 0.06450273 & 10.145071 & 0.000000e+00 & 0.5279617 & 0.7808078\\\\\n",
       "\t ps       & \\textasciitilde{}\\textasciitilde{} & ps       & 0.3888817 & 0.06273220 &  6.199076 & 5.679559e-10 & 0.2659288 & 0.5118345\\\\\n",
       "\t Sequent  & \\textasciitilde{}\\textasciitilde{} & Sequent  & 1.0000000 & 0.00000000 &        NA &           NA & 1.0000000 & 1.0000000\\\\\n",
       "\t Simultan & \\textasciitilde{}\\textasciitilde{} & Simultan & 1.0000000 & 0.00000000 &        NA &           NA & 1.0000000 & 1.0000000\\\\\n",
       "\t Sequent  & \\textasciitilde{}\\textasciitilde{} & Simultan & 0.5569247 & 0.06673231 &  8.345654 & 0.000000e+00 & 0.4261318 & 0.6877176\\\\\n",
       "\\end{tabular}\n"
      ],
      "text/markdown": [
       "\n",
       "A lavaan.data.frame: 19 × 9\n",
       "\n",
       "| lhs &lt;chr&gt; | op &lt;chr&gt; | rhs &lt;chr&gt; | est.std &lt;dbl&gt; | se &lt;dbl&gt; | z &lt;dbl&gt; | pvalue &lt;dbl&gt; | ci.lower &lt;dbl&gt; | ci.upper &lt;dbl&gt; |\n",
       "|---|---|---|---|---|---|---|---|---|\n",
       "| Sequent  | =~ | hm       | 0.4967517 | 0.06185190 |  8.031309 | 8.881784e-16 | 0.3755242 | 0.6179792 |\n",
       "| Sequent  | =~ | nr       | 0.8070386 | 0.04626958 | 17.442098 | 0.000000e+00 | 0.7163519 | 0.8977253 |\n",
       "| Sequent  | =~ | wo       | 0.8082004 | 0.04624070 | 17.478118 | 0.000000e+00 | 0.7175703 | 0.8988305 |\n",
       "| Simultan | =~ | gc       | 0.5029005 | 0.06088027 |  8.260485 | 2.220446e-16 | 0.3835774 | 0.6222236 |\n",
       "| Simultan | =~ | tr       | 0.7264627 | 0.04412957 | 16.462040 | 0.000000e+00 | 0.6399703 | 0.8129550 |\n",
       "| Simultan | =~ | sm       | 0.6560490 | 0.04959951 | 13.226925 | 0.000000e+00 | 0.5588358 | 0.7532623 |\n",
       "| Simultan | =~ | ma       | 0.5878905 | 0.05485948 | 10.716298 | 0.000000e+00 | 0.4803679 | 0.6954131 |\n",
       "| Simultan | =~ | ps       | 0.7817406 | 0.04012341 | 19.483401 | 0.000000e+00 | 0.7031001 | 0.8603810 |\n",
       "| hm       | ~~ | hm       | 0.7532377 | 0.06145007 | 12.257719 | 0.000000e+00 | 0.6327978 | 0.8736777 |\n",
       "| nr       | ~~ | nr       | 0.3486887 | 0.07468267 |  4.668937 | 3.027615e-06 | 0.2023134 | 0.4950641 |\n",
       "| wo       | ~~ | wo       | 0.3468121 | 0.07474351 |  4.640030 | 3.483594e-06 | 0.2003175 | 0.4933067 |\n",
       "| gc       | ~~ | gc       | 0.7470911 | 0.06123343 | 12.200705 | 0.000000e+00 | 0.6270758 | 0.8671064 |\n",
       "| tr       | ~~ | tr       | 0.4722520 | 0.06411696 |  7.365476 | 1.765255e-13 | 0.3465850 | 0.5979189 |\n",
       "| sm       | ~~ | sm       | 0.5695997 | 0.06507943 |  8.752377 | 0.000000e+00 | 0.4420463 | 0.6971530 |\n",
       "| ma       | ~~ | ma       | 0.6543848 | 0.06450273 | 10.145071 | 0.000000e+00 | 0.5279617 | 0.7808078 |\n",
       "| ps       | ~~ | ps       | 0.3888817 | 0.06273220 |  6.199076 | 5.679559e-10 | 0.2659288 | 0.5118345 |\n",
       "| Sequent  | ~~ | Sequent  | 1.0000000 | 0.00000000 |        NA |           NA | 1.0000000 | 1.0000000 |\n",
       "| Simultan | ~~ | Simultan | 1.0000000 | 0.00000000 |        NA |           NA | 1.0000000 | 1.0000000 |\n",
       "| Sequent  | ~~ | Simultan | 0.5569247 | 0.06673231 |  8.345654 | 0.000000e+00 | 0.4261318 | 0.6877176 |\n",
       "\n"
      ],
      "text/plain": [
       "   lhs      op rhs      est.std   se         z         pvalue       ci.lower \n",
       "1  Sequent  =~ hm       0.4967517 0.06185190  8.031309 8.881784e-16 0.3755242\n",
       "2  Sequent  =~ nr       0.8070386 0.04626958 17.442098 0.000000e+00 0.7163519\n",
       "3  Sequent  =~ wo       0.8082004 0.04624070 17.478118 0.000000e+00 0.7175703\n",
       "4  Simultan =~ gc       0.5029005 0.06088027  8.260485 2.220446e-16 0.3835774\n",
       "5  Simultan =~ tr       0.7264627 0.04412957 16.462040 0.000000e+00 0.6399703\n",
       "6  Simultan =~ sm       0.6560490 0.04959951 13.226925 0.000000e+00 0.5588358\n",
       "7  Simultan =~ ma       0.5878905 0.05485948 10.716298 0.000000e+00 0.4803679\n",
       "8  Simultan =~ ps       0.7817406 0.04012341 19.483401 0.000000e+00 0.7031001\n",
       "9  hm       ~~ hm       0.7532377 0.06145007 12.257719 0.000000e+00 0.6327978\n",
       "10 nr       ~~ nr       0.3486887 0.07468267  4.668937 3.027615e-06 0.2023134\n",
       "11 wo       ~~ wo       0.3468121 0.07474351  4.640030 3.483594e-06 0.2003175\n",
       "12 gc       ~~ gc       0.7470911 0.06123343 12.200705 0.000000e+00 0.6270758\n",
       "13 tr       ~~ tr       0.4722520 0.06411696  7.365476 1.765255e-13 0.3465850\n",
       "14 sm       ~~ sm       0.5695997 0.06507943  8.752377 0.000000e+00 0.4420463\n",
       "15 ma       ~~ ma       0.6543848 0.06450273 10.145071 0.000000e+00 0.5279617\n",
       "16 ps       ~~ ps       0.3888817 0.06273220  6.199076 5.679559e-10 0.2659288\n",
       "17 Sequent  ~~ Sequent  1.0000000 0.00000000        NA           NA 1.0000000\n",
       "18 Simultan ~~ Simultan 1.0000000 0.00000000        NA           NA 1.0000000\n",
       "19 Sequent  ~~ Simultan 0.5569247 0.06673231  8.345654 0.000000e+00 0.4261318\n",
       "   ci.upper \n",
       "1  0.6179792\n",
       "2  0.8977253\n",
       "3  0.8988305\n",
       "4  0.6222236\n",
       "5  0.8129550\n",
       "6  0.7532623\n",
       "7  0.6954131\n",
       "8  0.8603810\n",
       "9  0.8736777\n",
       "10 0.4950641\n",
       "11 0.4933067\n",
       "12 0.8671064\n",
       "13 0.5979189\n",
       "14 0.6971530\n",
       "15 0.7808078\n",
       "16 0.5118345\n",
       "17 1.0000000\n",
       "18 1.0000000\n",
       "19 0.6877176"
      ]
     },
     "metadata": {},
     "output_type": "display_data"
    }
   ],
   "source": [
    "standardizedSolution(kabc2)"
   ]
  },
  {
   "cell_type": "code",
   "execution_count": 18,
   "id": "c1749421",
   "metadata": {
    "vscode": {
     "languageId": "r"
    }
   },
   "outputs": [
    {
     "data": {
      "text/html": [
       "0.27665329149699"
      ],
      "text/latex": [
       "0.27665329149699"
      ],
      "text/markdown": [
       "0.27665329149699"
      ],
      "text/plain": [
       "[1] 0.2766533"
      ]
     },
     "metadata": {},
     "output_type": "display_data"
    },
    {
     "data": {
      "text/html": [
       "0.44945973019342"
      ],
      "text/latex": [
       "0.44945973019342"
      ],
      "text/markdown": [
       "0.44945973019342"
      ],
      "text/plain": [
       "[1] 0.4494597"
      ]
     },
     "metadata": {},
     "output_type": "display_data"
    },
    {
     "data": {
      "text/html": [
       "0.45010676530988"
      ],
      "text/latex": [
       "0.45010676530988"
      ],
      "text/markdown": [
       "0.45010676530988"
      ],
      "text/plain": [
       "[1] 0.4501068"
      ]
     },
     "metadata": {},
     "output_type": "display_data"
    }
   ],
   "source": [
    "0.4967517 * 0.5569247\n",
    "0.8070386 * 0.5569247\n",
    "0.8082004 * 0.5569247"
   ]
  },
  {
   "cell_type": "code",
   "execution_count": 19,
   "id": "035ed02a",
   "metadata": {
    "vscode": {
     "languageId": "r"
    }
   },
   "outputs": [
    {
     "name": "stdout",
     "output_type": "stream",
     "text": [
      " chisq     df    cfi    tli  rmsea   srmr \n",
      "38.325 19.000  0.959  0.939  0.071  0.072 \n"
     ]
    }
   ],
   "source": [
    "fitMeasures(kabc2, c(\"chisq\", \"df\", \"cfi\", \"tli\", \"rmsea\", \"srmr\")) |>\n",
    "    print()"
   ]
  },
  {
   "cell_type": "markdown",
   "id": "6d6a4db1",
   "metadata": {},
   "source": [
    "Un modello di analisi dei fattori confermativi (CFA) che impiega un singolo fattore può essere considerato come un caso particolare, o un \"sottoinsieme\", di modelli CFA con due o più fattori che utilizzano gli stessi indicatori e lo stesso schema di covarianza degli errori, se presente. In termini semplici, un modello a fattore singolo è una versione più restrittiva di un modello a più fattori. In questa versione più limitata, tutte le correlazioni tra i fattori sono impostate a uno, il che concettualmente li rende identici. Questo approccio trasforma effettivamente un modello con più fattori in un modello con un solo fattore.\n",
    "\n",
    "Questa relazione gerarchica tra i modelli a fattore singolo e quelli a più fattori ha la seguente implicazione: permette ai ricercatori di utilizzare il test del chi-quadro per confrontare direttamente l'adattamento di un modello CFA a fattore singolo con quello di modelli CFA a più fattori. In pratica, ciò consente di valutare se l'aggiunta di fattori aggiuntivi migliora significativamente la qualità dell'adattamento del modello ai dati, rispetto al modello più semplice a fattore singolo. Questo tipo di analisi è cruciale per determinare la complessità ottimale del modello in relazione alla struttura sottostante dei dati."
   ]
  },
  {
   "cell_type": "code",
   "execution_count": 20,
   "id": "aba9936e",
   "metadata": {
    "vscode": {
     "languageId": "r"
    }
   },
   "outputs": [
    {
     "data": {
      "text/html": [
       "<table class=\"dataframe\">\n",
       "<caption>A anova: 2 × 8</caption>\n",
       "<thead>\n",
       "\t<tr><th></th><th scope=col>Df</th><th scope=col>AIC</th><th scope=col>BIC</th><th scope=col>Chisq</th><th scope=col>Chisq diff</th><th scope=col>RMSEA</th><th scope=col>Df diff</th><th scope=col>Pr(&gt;Chisq)</th></tr>\n",
       "\t<tr><th></th><th scope=col>&lt;int&gt;</th><th scope=col>&lt;dbl&gt;</th><th scope=col>&lt;dbl&gt;</th><th scope=col>&lt;dbl&gt;</th><th scope=col>&lt;dbl&gt;</th><th scope=col>&lt;dbl&gt;</th><th scope=col>&lt;int&gt;</th><th scope=col>&lt;dbl&gt;</th></tr>\n",
       "</thead>\n",
       "<tbody>\n",
       "\t<tr><th scope=row>kabc2</th><td>19</td><td>7592.082</td><td>7648.153</td><td> 38.32476</td><td>      NA</td><td>       NA</td><td>NA</td><td>          NA</td></tr>\n",
       "\t<tr><th scope=row>kabc1</th><td>20</td><td>7657.183</td><td>7709.956</td><td>105.42664</td><td>67.10188</td><td>0.5748995</td><td> 1</td><td>2.578323e-16</td></tr>\n",
       "</tbody>\n",
       "</table>\n"
      ],
      "text/latex": [
       "A anova: 2 × 8\n",
       "\\begin{tabular}{r|llllllll}\n",
       "  & Df & AIC & BIC & Chisq & Chisq diff & RMSEA & Df diff & Pr(>Chisq)\\\\\n",
       "  & <int> & <dbl> & <dbl> & <dbl> & <dbl> & <dbl> & <int> & <dbl>\\\\\n",
       "\\hline\n",
       "\tkabc2 & 19 & 7592.082 & 7648.153 &  38.32476 &       NA &        NA & NA &           NA\\\\\n",
       "\tkabc1 & 20 & 7657.183 & 7709.956 & 105.42664 & 67.10188 & 0.5748995 &  1 & 2.578323e-16\\\\\n",
       "\\end{tabular}\n"
      ],
      "text/markdown": [
       "\n",
       "A anova: 2 × 8\n",
       "\n",
       "| <!--/--> | Df &lt;int&gt; | AIC &lt;dbl&gt; | BIC &lt;dbl&gt; | Chisq &lt;dbl&gt; | Chisq diff &lt;dbl&gt; | RMSEA &lt;dbl&gt; | Df diff &lt;int&gt; | Pr(&gt;Chisq) &lt;dbl&gt; |\n",
       "|---|---|---|---|---|---|---|---|---|\n",
       "| kabc2 | 19 | 7592.082 | 7648.153 |  38.32476 |       NA |        NA | NA |           NA |\n",
       "| kabc1 | 20 | 7657.183 | 7709.956 | 105.42664 | 67.10188 | 0.5748995 |  1 | 2.578323e-16 |\n",
       "\n"
      ],
      "text/plain": [
       "      Df AIC      BIC      Chisq     Chisq diff RMSEA     Df diff Pr(>Chisq)  \n",
       "kabc2 19 7592.082 7648.153  38.32476       NA          NA NA                NA\n",
       "kabc1 20 7657.183 7709.956 105.42664 67.10188   0.5748995  1      2.578323e-16"
      ]
     },
     "metadata": {},
     "output_type": "display_data"
    }
   ],
   "source": [
    "lavTestLRT(kabc1, kabc2)"
   ]
  },
  {
   "cell_type": "markdown",
   "id": "c8b6bf8c",
   "metadata": {},
   "source": [
    "I risultati delle analisi precedenti indicano che l'adattamento del modello con due fattori è statisticamente migliore rispetto a quello del modello a fattore singolo. \n",
    "\n",
    "Tuttavia, si noti che, anche se gli indici di fit sono in generale molto buoni, l'esame dei residui mostra un problema con l'indicatore `hm`:"
   ]
  },
  {
   "cell_type": "code",
   "execution_count": 21,
   "id": "2deefb19",
   "metadata": {
    "vscode": {
     "languageId": "r"
    }
   },
   "outputs": [
    {
     "name": "stdout",
     "output_type": "stream",
     "text": [
      "$type\n",
      "[1] \"standardized.mplus\"\n",
      "\n",
      "$cov\n",
      "       hm     nr     wo     gc     tr     sm     ma     ps\n",
      "hm  0.000                                                 \n",
      "nr -0.591  0.000                                          \n",
      "wo -3.790  1.539  0.000                                   \n",
      "gc  1.126 -2.329 -1.315     NA                            \n",
      "tr  2.046 -1.558 -1.001  0.429  0.000                     \n",
      "sm  3.464 -0.112 -0.355 -0.784 -0.267  0.000              \n",
      "ma  3.505  1.129  0.727  0.323 -0.245  0.664  0.008       \n",
      "ps  2.991 -2.002  0.524  0.910  0.677 -0.144 -1.978  0.000\n",
      "\n"
     ]
    }
   ],
   "source": [
    "lavaan::residuals(kabc2, type = \"standardized.mplus\") |>\n",
    "    print()"
   ]
  },
  {
   "cell_type": "markdown",
   "id": "ef49d38b",
   "metadata": {},
   "source": [
    "Calcoliamo dunque i *modification indices*:"
   ]
  },
  {
   "cell_type": "code",
   "execution_count": 22,
   "id": "390ab15a",
   "metadata": {
    "vscode": {
     "languageId": "r"
    }
   },
   "outputs": [
    {
     "data": {
      "text/html": [
       "<table class=\"dataframe\">\n",
       "<caption>A lavaan.data.frame: 5 × 8</caption>\n",
       "<thead>\n",
       "\t<tr><th></th><th scope=col>lhs</th><th scope=col>op</th><th scope=col>rhs</th><th scope=col>mi</th><th scope=col>epc</th><th scope=col>sepc.lv</th><th scope=col>sepc.all</th><th scope=col>sepc.nox</th></tr>\n",
       "\t<tr><th></th><th scope=col>&lt;chr&gt;</th><th scope=col>&lt;chr&gt;</th><th scope=col>&lt;chr&gt;</th><th scope=col>&lt;dbl&gt;</th><th scope=col>&lt;dbl&gt;</th><th scope=col>&lt;dbl&gt;</th><th scope=col>&lt;dbl&gt;</th><th scope=col>&lt;dbl&gt;</th></tr>\n",
       "</thead>\n",
       "<tbody>\n",
       "\t<tr><th scope=row>25</th><td>Simultan</td><td>=~</td><td>hm</td><td>20.097078</td><td> 1.0539461</td><td> 1.4275011</td><td> 0.4209070</td><td> 0.4209070</td></tr>\n",
       "\t<tr><th scope=row>35</th><td>nr      </td><td>~~</td><td>wo</td><td>20.097058</td><td> 4.7406831</td><td> 4.7406831</td><td> 1.9685321</td><td> 1.9685321</td></tr>\n",
       "\t<tr><th scope=row>26</th><td>Simultan</td><td>=~</td><td>nr</td><td> 7.013048</td><td>-0.5104555</td><td>-0.6913786</td><td>-0.2887972</td><td>-0.2887972</td></tr>\n",
       "\t<tr><th scope=row>29</th><td>hm      </td><td>~~</td><td>wo</td><td> 7.012988</td><td>-1.7458372</td><td>-1.7458372</td><td>-0.3481696</td><td>-0.3481696</td></tr>\n",
       "\t<tr><th scope=row>32</th><td>hm      </td><td>~~</td><td>sm</td><td> 4.847027</td><td> 1.6094583</td><td> 1.6094583</td><td> 0.1729329</td><td> 0.1729329</td></tr>\n",
       "</tbody>\n",
       "</table>\n"
      ],
      "text/latex": [
       "A lavaan.data.frame: 5 × 8\n",
       "\\begin{tabular}{r|llllllll}\n",
       "  & lhs & op & rhs & mi & epc & sepc.lv & sepc.all & sepc.nox\\\\\n",
       "  & <chr> & <chr> & <chr> & <dbl> & <dbl> & <dbl> & <dbl> & <dbl>\\\\\n",
       "\\hline\n",
       "\t25 & Simultan & =\\textasciitilde{} & hm & 20.097078 &  1.0539461 &  1.4275011 &  0.4209070 &  0.4209070\\\\\n",
       "\t35 & nr       & \\textasciitilde{}\\textasciitilde{} & wo & 20.097058 &  4.7406831 &  4.7406831 &  1.9685321 &  1.9685321\\\\\n",
       "\t26 & Simultan & =\\textasciitilde{} & nr &  7.013048 & -0.5104555 & -0.6913786 & -0.2887972 & -0.2887972\\\\\n",
       "\t29 & hm       & \\textasciitilde{}\\textasciitilde{} & wo &  7.012988 & -1.7458372 & -1.7458372 & -0.3481696 & -0.3481696\\\\\n",
       "\t32 & hm       & \\textasciitilde{}\\textasciitilde{} & sm &  4.847027 &  1.6094583 &  1.6094583 &  0.1729329 &  0.1729329\\\\\n",
       "\\end{tabular}\n"
      ],
      "text/markdown": [
       "\n",
       "A lavaan.data.frame: 5 × 8\n",
       "\n",
       "| <!--/--> | lhs &lt;chr&gt; | op &lt;chr&gt; | rhs &lt;chr&gt; | mi &lt;dbl&gt; | epc &lt;dbl&gt; | sepc.lv &lt;dbl&gt; | sepc.all &lt;dbl&gt; | sepc.nox &lt;dbl&gt; |\n",
       "|---|---|---|---|---|---|---|---|---|\n",
       "| 25 | Simultan | =~ | hm | 20.097078 |  1.0539461 |  1.4275011 |  0.4209070 |  0.4209070 |\n",
       "| 35 | nr       | ~~ | wo | 20.097058 |  4.7406831 |  4.7406831 |  1.9685321 |  1.9685321 |\n",
       "| 26 | Simultan | =~ | nr |  7.013048 | -0.5104555 | -0.6913786 | -0.2887972 | -0.2887972 |\n",
       "| 29 | hm       | ~~ | wo |  7.012988 | -1.7458372 | -1.7458372 | -0.3481696 | -0.3481696 |\n",
       "| 32 | hm       | ~~ | sm |  4.847027 |  1.6094583 |  1.6094583 |  0.1729329 |  0.1729329 |\n",
       "\n"
      ],
      "text/plain": [
       "   lhs      op rhs mi        epc        sepc.lv    sepc.all   sepc.nox  \n",
       "25 Simultan =~ hm  20.097078  1.0539461  1.4275011  0.4209070  0.4209070\n",
       "35 nr       ~~ wo  20.097058  4.7406831  4.7406831  1.9685321  1.9685321\n",
       "26 Simultan =~ nr   7.013048 -0.5104555 -0.6913786 -0.2887972 -0.2887972\n",
       "29 hm       ~~ wo   7.012988 -1.7458372 -1.7458372 -0.3481696 -0.3481696\n",
       "32 hm       ~~ sm   4.847027  1.6094583  1.6094583  0.1729329  0.1729329"
      ]
     },
     "metadata": {},
     "output_type": "display_data"
    }
   ],
   "source": [
    "modindices(kabc2, sort = TRUE, maximum.number = 5)"
   ]
  },
  {
   "cell_type": "markdown",
   "id": "3d239a49",
   "metadata": {},
   "source": [
    "Modifichiamo il modello:"
   ]
  },
  {
   "cell_type": "code",
   "execution_count": 23,
   "id": "708f9894",
   "metadata": {
    "vscode": {
     "languageId": "r"
    }
   },
   "outputs": [],
   "source": [
    "kabc3_model <- \"\n",
    "    Sequent =~ hm + nr + wo\n",
    "    Simultan =~ hm + gc + tr + sm + ma + ps\n",
    "\""
   ]
  },
  {
   "cell_type": "markdown",
   "id": "7968d43d",
   "metadata": {},
   "source": [
    "Il modello così modificato fornisce un buon adattamento ai dati:"
   ]
  },
  {
   "cell_type": "code",
   "execution_count": 24,
   "id": "9476526a",
   "metadata": {
    "vscode": {
     "languageId": "r"
    }
   },
   "outputs": [],
   "source": [
    "kabc3 <- lavaan::sem(kabc3_model, sample.cov = kabc.cov, sample.nobs = 200)"
   ]
  },
  {
   "cell_type": "code",
   "execution_count": 25,
   "id": "2d435527",
   "metadata": {
    "vscode": {
     "languageId": "r"
    }
   },
   "outputs": [
    {
     "data": {
      "image/png": "[encoded data removed]",
      "text/plain": [
       "plot without title"
      ]
     },
     "metadata": {
      "image/png": {
       "height": 420,
       "width": 420
      }
     },
     "output_type": "display_data"
    }
   ],
   "source": [
    "semPlot::semPaths(kabc3,\n",
    "    what = \"col\", whatLabels = \"par\", style = \"mx\", color = colorlist,\n",
    "    layout = \"tree2\", nCharNodes = 7,\n",
    "    shapeMan = \"rectangle\", sizeMan = 8, sizeMan2 = 5\n",
    ")"
   ]
  },
  {
   "cell_type": "code",
   "execution_count": 26,
   "id": "69f2283c",
   "metadata": {
    "vscode": {
     "languageId": "r"
    }
   },
   "outputs": [
    {
     "name": "stdout",
     "output_type": "stream",
     "text": [
      "        lhs op      rhs   est    se     z pvalue ci.lower ci.upper\n",
      "1   Sequent =~       hm 1.000 0.000    NA     NA    1.000    1.000\n",
      "2   Sequent =~       nr 2.285 0.777 2.941  0.003    0.762    3.808\n",
      "3   Sequent =~       wo 2.767 0.941 2.939  0.003    0.922    4.612\n",
      "4  Simultan =~       hm 1.000 0.000    NA     NA    1.000    1.000\n",
      "5  Simultan =~       gc 1.014 0.255 3.979  0.000    0.515    1.514\n",
      "6  Simultan =~       tr 1.457 0.329 4.427  0.000    0.812    2.101\n",
      "7  Simultan =~       sm 2.103 0.483 4.354  0.000    1.157    3.050\n",
      "8  Simultan =~       ma 1.259 0.298 4.229  0.000    0.675    1.842\n",
      "9  Simultan =~       ps 1.752 0.391 4.486  0.000    0.987    2.518\n",
      "10       hm ~~       hm 7.851 0.845 9.291  0.000    6.195    9.507\n",
      "11       nr ~~       nr 1.899 0.487 3.896  0.000    0.944    2.854\n",
      "12       wo ~~       wo 2.750 0.713 3.856  0.000    1.352    4.148\n",
      "13       gc ~~       gc 5.444 0.585 9.297  0.000    4.296    6.591\n",
      "14       tr ~~       tr 3.521 0.457 7.702  0.000    2.625    4.417\n",
      "15       sm ~~       sm 9.767 1.179 8.287  0.000    7.457   12.077\n",
      "16       ma ~~       ma 5.013 0.569 8.815  0.000    3.898    6.127\n",
      "17       ps ~~       ps 3.554 0.529 6.718  0.000    2.517    4.591\n",
      "18  Sequent ~~  Sequent 0.734 0.490 1.499  0.134   -0.226    1.693\n",
      "19 Simultan ~~ Simultan 1.759 0.760 2.314  0.021    0.269    3.250\n",
      "20  Sequent ~~ Simultan 0.579 0.178 3.252  0.001    0.230    0.928\n"
     ]
    }
   ],
   "source": [
    "lavaan::parameterEstimates(kabc3) |>\n",
    "    print()"
   ]
  },
  {
   "cell_type": "code",
   "execution_count": 27,
   "id": "cba5623a",
   "metadata": {
    "vscode": {
     "languageId": "r"
    }
   },
   "outputs": [
    {
     "name": "stdout",
     "output_type": "stream",
     "text": [
      " chisq     df    cfi    tli  rmsea   srmr \n",
      "18.108 18.000  1.000  1.000  0.005  0.035 \n"
     ]
    }
   ],
   "source": [
    "fitMeasures(kabc3, c(\"chisq\", \"df\", \"cfi\", \"tli\", \"rmsea\", \"srmr\")) |>\n",
    "    print()"
   ]
  },
  {
   "cell_type": "code",
   "execution_count": 28,
   "id": "760b049d",
   "metadata": {
    "vscode": {
     "languageId": "r"
    }
   },
   "outputs": [
    {
     "name": "stdout",
     "output_type": "stream",
     "text": [
      "$type\n",
      "[1] \"standardized.mplus\"\n",
      "\n",
      "$cov\n",
      "       hm     nr     wo     gc     tr     sm     ma     ps\n",
      "hm  0.000                                                 \n",
      "nr  1.165  0.000                                          \n",
      "wo -1.637  0.000  0.000                                   \n",
      "gc -1.066 -1.919 -0.939  0.000                            \n",
      "tr -1.710 -0.763 -0.247  0.603  0.000                     \n",
      "sm  1.325  0.287  0.044 -0.867 -0.304  0.000              \n",
      "ma  1.730  1.428  1.029  0.258 -0.298  0.338  0.000       \n",
      "ps -0.512 -1.059  1.285  1.035  1.088 -0.361 -2.181  0.008\n",
      "\n"
     ]
    }
   ],
   "source": [
    "lavaan::residuals(kabc3, type = \"standardized.mplus\") |>\n",
    "    print()"
   ]
  },
  {
   "cell_type": "code",
   "execution_count": 29,
   "id": "badbb14b",
   "metadata": {
    "vscode": {
     "languageId": "r"
    }
   },
   "outputs": [
    {
     "data": {
      "text/html": [
       "<table class=\"dataframe\">\n",
       "<caption>A anova: 2 × 8</caption>\n",
       "<thead>\n",
       "\t<tr><th></th><th scope=col>Df</th><th scope=col>AIC</th><th scope=col>BIC</th><th scope=col>Chisq</th><th scope=col>Chisq diff</th><th scope=col>RMSEA</th><th scope=col>Df diff</th><th scope=col>Pr(&gt;Chisq)</th></tr>\n",
       "\t<tr><th></th><th scope=col>&lt;int&gt;</th><th scope=col>&lt;dbl&gt;</th><th scope=col>&lt;dbl&gt;</th><th scope=col>&lt;dbl&gt;</th><th scope=col>&lt;dbl&gt;</th><th scope=col>&lt;dbl&gt;</th><th scope=col>&lt;int&gt;</th><th scope=col>&lt;dbl&gt;</th></tr>\n",
       "</thead>\n",
       "<tbody>\n",
       "\t<tr><th scope=row>kabc3</th><td>18</td><td>7573.864</td><td>7633.234</td><td>18.10764</td><td>      NA</td><td>       NA</td><td>NA</td><td>          NA</td></tr>\n",
       "\t<tr><th scope=row>kabc2</th><td>19</td><td>7592.082</td><td>7648.153</td><td>38.32476</td><td>20.21711</td><td>0.3099767</td><td> 1</td><td>6.913179e-06</td></tr>\n",
       "</tbody>\n",
       "</table>\n"
      ],
      "text/latex": [
       "A anova: 2 × 8\n",
       "\\begin{tabular}{r|llllllll}\n",
       "  & Df & AIC & BIC & Chisq & Chisq diff & RMSEA & Df diff & Pr(>Chisq)\\\\\n",
       "  & <int> & <dbl> & <dbl> & <dbl> & <dbl> & <dbl> & <int> & <dbl>\\\\\n",
       "\\hline\n",
       "\tkabc3 & 18 & 7573.864 & 7633.234 & 18.10764 &       NA &        NA & NA &           NA\\\\\n",
       "\tkabc2 & 19 & 7592.082 & 7648.153 & 38.32476 & 20.21711 & 0.3099767 &  1 & 6.913179e-06\\\\\n",
       "\\end{tabular}\n"
      ],
      "text/markdown": [
       "\n",
       "A anova: 2 × 8\n",
       "\n",
       "| <!--/--> | Df &lt;int&gt; | AIC &lt;dbl&gt; | BIC &lt;dbl&gt; | Chisq &lt;dbl&gt; | Chisq diff &lt;dbl&gt; | RMSEA &lt;dbl&gt; | Df diff &lt;int&gt; | Pr(&gt;Chisq) &lt;dbl&gt; |\n",
       "|---|---|---|---|---|---|---|---|---|\n",
       "| kabc3 | 18 | 7573.864 | 7633.234 | 18.10764 |       NA |        NA | NA |           NA |\n",
       "| kabc2 | 19 | 7592.082 | 7648.153 | 38.32476 | 20.21711 | 0.3099767 |  1 | 6.913179e-06 |\n",
       "\n"
      ],
      "text/plain": [
       "      Df AIC      BIC      Chisq    Chisq diff RMSEA     Df diff Pr(>Chisq)  \n",
       "kabc3 18 7573.864 7633.234 18.10764       NA          NA NA                NA\n",
       "kabc2 19 7592.082 7648.153 38.32476 20.21711   0.3099767  1      6.913179e-06"
      ]
     },
     "metadata": {},
     "output_type": "display_data"
    }
   ],
   "source": [
    "lavTestLRT(kabc2, kabc3)"
   ]
  },
  {
   "cell_type": "code",
   "execution_count": 30,
   "id": "e51a1585",
   "metadata": {
    "vscode": {
     "languageId": "r"
    }
   },
   "outputs": [
    {
     "data": {
      "text/html": [
       "<table class=\"dataframe\">\n",
       "<caption>A lavaan.data.frame: 20 × 9</caption>\n",
       "<thead>\n",
       "\t<tr><th scope=col>lhs</th><th scope=col>op</th><th scope=col>rhs</th><th scope=col>est.std</th><th scope=col>se</th><th scope=col>z</th><th scope=col>pvalue</th><th scope=col>ci.lower</th><th scope=col>ci.upper</th></tr>\n",
       "\t<tr><th scope=col>&lt;chr&gt;</th><th scope=col>&lt;chr&gt;</th><th scope=col>&lt;chr&gt;</th><th scope=col>&lt;dbl&gt;</th><th scope=col>&lt;dbl&gt;</th><th scope=col>&lt;dbl&gt;</th><th scope=col>&lt;dbl&gt;</th><th scope=col>&lt;dbl&gt;</th><th scope=col>&lt;dbl&gt;</th></tr>\n",
       "</thead>\n",
       "<tbody>\n",
       "\t<tr><td>Sequent </td><td>=~</td><td>hm      </td><td>0.2525852</td><td>0.08220770</td><td> 3.072524</td><td>2.122564e-03</td><td>0.09146104</td><td>0.4137093</td></tr>\n",
       "\t<tr><td>Sequent </td><td>=~</td><td>nr      </td><td>0.8177224</td><td>0.05332037</td><td>15.336023</td><td>0.000000e+00</td><td>0.71321642</td><td>0.9222284</td></tr>\n",
       "\t<tr><td>Sequent </td><td>=~</td><td>wo      </td><td>0.8193490</td><td>0.05332364</td><td>15.365586</td><td>0.000000e+00</td><td>0.71483657</td><td>0.9238614</td></tr>\n",
       "\t<tr><td>Simultan</td><td>=~</td><td>hm      </td><td>0.3911086</td><td>0.07920465</td><td> 4.937950</td><td>7.894795e-07</td><td>0.23587038</td><td>0.5463469</td></tr>\n",
       "\t<tr><td>Simultan</td><td>=~</td><td>gc      </td><td>0.4995366</td><td>0.06083478</td><td> 8.211366</td><td>2.220446e-16</td><td>0.38030263</td><td>0.6187706</td></tr>\n",
       "\t<tr><td>Simultan</td><td>=~</td><td>tr      </td><td>0.7173667</td><td>0.04430392</td><td>16.191948</td><td>0.000000e+00</td><td>0.63053266</td><td>0.8042008</td></tr>\n",
       "\t<tr><td>Simultan</td><td>=~</td><td>sm      </td><td>0.6659828</td><td>0.04841875</td><td>13.754648</td><td>0.000000e+00</td><td>0.57108381</td><td>0.7608818</td></tr>\n",
       "\t<tr><td>Simultan</td><td>=~</td><td>ma      </td><td>0.5978172</td><td>0.05378964</td><td>11.113985</td><td>0.000000e+00</td><td>0.49239147</td><td>0.7032430</td></tr>\n",
       "\t<tr><td>Simultan</td><td>=~</td><td>ps      </td><td>0.7766255</td><td>0.03976264</td><td>19.531536</td><td>0.000000e+00</td><td>0.69869211</td><td>0.8545588</td></tr>\n",
       "\t<tr><td>hm      </td><td>~~</td><td>hm      </td><td>0.6825459</td><td>0.06079286</td><td>11.227403</td><td>0.000000e+00</td><td>0.56339406</td><td>0.8016977</td></tr>\n",
       "\t<tr><td>nr      </td><td>~~</td><td>nr      </td><td>0.3313300</td><td>0.08720253</td><td> 3.799546</td><td>1.449613e-04</td><td>0.16041622</td><td>0.5022438</td></tr>\n",
       "\t<tr><td>wo      </td><td>~~</td><td>wo      </td><td>0.3286672</td><td>0.08738134</td><td> 3.761298</td><td>1.690341e-04</td><td>0.15740296</td><td>0.4999315</td></tr>\n",
       "\t<tr><td>gc      </td><td>~~</td><td>gc      </td><td>0.7504632</td><td>0.06077839</td><td>12.347532</td><td>0.000000e+00</td><td>0.63133972</td><td>0.8695867</td></tr>\n",
       "\t<tr><td>tr      </td><td>~~</td><td>tr      </td><td>0.4853850</td><td>0.06356431</td><td> 7.636123</td><td>2.242651e-14</td><td>0.36080119</td><td>0.6099687</td></tr>\n",
       "\t<tr><td>sm      </td><td>~~</td><td>sm      </td><td>0.5564669</td><td>0.06449211</td><td> 8.628450</td><td>0.000000e+00</td><td>0.43006469</td><td>0.6828691</td></tr>\n",
       "\t<tr><td>ma      </td><td>~~</td><td>ma      </td><td>0.6426146</td><td>0.06431274</td><td> 9.992026</td><td>0.000000e+00</td><td>0.51656392</td><td>0.7686652</td></tr>\n",
       "\t<tr><td>ps      </td><td>~~</td><td>ps      </td><td>0.3968529</td><td>0.06176136</td><td> 6.425586</td><td>1.313629e-10</td><td>0.27580286</td><td>0.5179029</td></tr>\n",
       "\t<tr><td>Sequent </td><td>~~</td><td>Sequent </td><td>1.0000000</td><td>0.00000000</td><td>       NA</td><td>          NA</td><td>1.00000000</td><td>1.0000000</td></tr>\n",
       "\t<tr><td>Simultan</td><td>~~</td><td>Simultan</td><td>1.0000000</td><td>0.00000000</td><td>       NA</td><td>          NA</td><td>1.00000000</td><td>1.0000000</td></tr>\n",
       "\t<tr><td>Sequent </td><td>~~</td><td>Simultan</td><td>0.5096198</td><td>0.07025684</td><td> 7.253668</td><td>4.056755e-13</td><td>0.37191892</td><td>0.6473207</td></tr>\n",
       "</tbody>\n",
       "</table>\n"
      ],
      "text/latex": [
       "A lavaan.data.frame: 20 × 9\n",
       "\\begin{tabular}{lllllllll}\n",
       " lhs & op & rhs & est.std & se & z & pvalue & ci.lower & ci.upper\\\\\n",
       " <chr> & <chr> & <chr> & <dbl> & <dbl> & <dbl> & <dbl> & <dbl> & <dbl>\\\\\n",
       "\\hline\n",
       "\t Sequent  & =\\textasciitilde{} & hm       & 0.2525852 & 0.08220770 &  3.072524 & 2.122564e-03 & 0.09146104 & 0.4137093\\\\\n",
       "\t Sequent  & =\\textasciitilde{} & nr       & 0.8177224 & 0.05332037 & 15.336023 & 0.000000e+00 & 0.71321642 & 0.9222284\\\\\n",
       "\t Sequent  & =\\textasciitilde{} & wo       & 0.8193490 & 0.05332364 & 15.365586 & 0.000000e+00 & 0.71483657 & 0.9238614\\\\\n",
       "\t Simultan & =\\textasciitilde{} & hm       & 0.3911086 & 0.07920465 &  4.937950 & 7.894795e-07 & 0.23587038 & 0.5463469\\\\\n",
       "\t Simultan & =\\textasciitilde{} & gc       & 0.4995366 & 0.06083478 &  8.211366 & 2.220446e-16 & 0.38030263 & 0.6187706\\\\\n",
       "\t Simultan & =\\textasciitilde{} & tr       & 0.7173667 & 0.04430392 & 16.191948 & 0.000000e+00 & 0.63053266 & 0.8042008\\\\\n",
       "\t Simultan & =\\textasciitilde{} & sm       & 0.6659828 & 0.04841875 & 13.754648 & 0.000000e+00 & 0.57108381 & 0.7608818\\\\\n",
       "\t Simultan & =\\textasciitilde{} & ma       & 0.5978172 & 0.05378964 & 11.113985 & 0.000000e+00 & 0.49239147 & 0.7032430\\\\\n",
       "\t Simultan & =\\textasciitilde{} & ps       & 0.7766255 & 0.03976264 & 19.531536 & 0.000000e+00 & 0.69869211 & 0.8545588\\\\\n",
       "\t hm       & \\textasciitilde{}\\textasciitilde{} & hm       & 0.6825459 & 0.06079286 & 11.227403 & 0.000000e+00 & 0.56339406 & 0.8016977\\\\\n",
       "\t nr       & \\textasciitilde{}\\textasciitilde{} & nr       & 0.3313300 & 0.08720253 &  3.799546 & 1.449613e-04 & 0.16041622 & 0.5022438\\\\\n",
       "\t wo       & \\textasciitilde{}\\textasciitilde{} & wo       & 0.3286672 & 0.08738134 &  3.761298 & 1.690341e-04 & 0.15740296 & 0.4999315\\\\\n",
       "\t gc       & \\textasciitilde{}\\textasciitilde{} & gc       & 0.7504632 & 0.06077839 & 12.347532 & 0.000000e+00 & 0.63133972 & 0.8695867\\\\\n",
       "\t tr       & \\textasciitilde{}\\textasciitilde{} & tr       & 0.4853850 & 0.06356431 &  7.636123 & 2.242651e-14 & 0.36080119 & 0.6099687\\\\\n",
       "\t sm       & \\textasciitilde{}\\textasciitilde{} & sm       & 0.5564669 & 0.06449211 &  8.628450 & 0.000000e+00 & 0.43006469 & 0.6828691\\\\\n",
       "\t ma       & \\textasciitilde{}\\textasciitilde{} & ma       & 0.6426146 & 0.06431274 &  9.992026 & 0.000000e+00 & 0.51656392 & 0.7686652\\\\\n",
       "\t ps       & \\textasciitilde{}\\textasciitilde{} & ps       & 0.3968529 & 0.06176136 &  6.425586 & 1.313629e-10 & 0.27580286 & 0.5179029\\\\\n",
       "\t Sequent  & \\textasciitilde{}\\textasciitilde{} & Sequent  & 1.0000000 & 0.00000000 &        NA &           NA & 1.00000000 & 1.0000000\\\\\n",
       "\t Simultan & \\textasciitilde{}\\textasciitilde{} & Simultan & 1.0000000 & 0.00000000 &        NA &           NA & 1.00000000 & 1.0000000\\\\\n",
       "\t Sequent  & \\textasciitilde{}\\textasciitilde{} & Simultan & 0.5096198 & 0.07025684 &  7.253668 & 4.056755e-13 & 0.37191892 & 0.6473207\\\\\n",
       "\\end{tabular}\n"
      ],
      "text/markdown": [
       "\n",
       "A lavaan.data.frame: 20 × 9\n",
       "\n",
       "| lhs &lt;chr&gt; | op &lt;chr&gt; | rhs &lt;chr&gt; | est.std &lt;dbl&gt; | se &lt;dbl&gt; | z &lt;dbl&gt; | pvalue &lt;dbl&gt; | ci.lower &lt;dbl&gt; | ci.upper &lt;dbl&gt; |\n",
       "|---|---|---|---|---|---|---|---|---|\n",
       "| Sequent  | =~ | hm       | 0.2525852 | 0.08220770 |  3.072524 | 2.122564e-03 | 0.09146104 | 0.4137093 |\n",
       "| Sequent  | =~ | nr       | 0.8177224 | 0.05332037 | 15.336023 | 0.000000e+00 | 0.71321642 | 0.9222284 |\n",
       "| Sequent  | =~ | wo       | 0.8193490 | 0.05332364 | 15.365586 | 0.000000e+00 | 0.71483657 | 0.9238614 |\n",
       "| Simultan | =~ | hm       | 0.3911086 | 0.07920465 |  4.937950 | 7.894795e-07 | 0.23587038 | 0.5463469 |\n",
       "| Simultan | =~ | gc       | 0.4995366 | 0.06083478 |  8.211366 | 2.220446e-16 | 0.38030263 | 0.6187706 |\n",
       "| Simultan | =~ | tr       | 0.7173667 | 0.04430392 | 16.191948 | 0.000000e+00 | 0.63053266 | 0.8042008 |\n",
       "| Simultan | =~ | sm       | 0.6659828 | 0.04841875 | 13.754648 | 0.000000e+00 | 0.57108381 | 0.7608818 |\n",
       "| Simultan | =~ | ma       | 0.5978172 | 0.05378964 | 11.113985 | 0.000000e+00 | 0.49239147 | 0.7032430 |\n",
       "| Simultan | =~ | ps       | 0.7766255 | 0.03976264 | 19.531536 | 0.000000e+00 | 0.69869211 | 0.8545588 |\n",
       "| hm       | ~~ | hm       | 0.6825459 | 0.06079286 | 11.227403 | 0.000000e+00 | 0.56339406 | 0.8016977 |\n",
       "| nr       | ~~ | nr       | 0.3313300 | 0.08720253 |  3.799546 | 1.449613e-04 | 0.16041622 | 0.5022438 |\n",
       "| wo       | ~~ | wo       | 0.3286672 | 0.08738134 |  3.761298 | 1.690341e-04 | 0.15740296 | 0.4999315 |\n",
       "| gc       | ~~ | gc       | 0.7504632 | 0.06077839 | 12.347532 | 0.000000e+00 | 0.63133972 | 0.8695867 |\n",
       "| tr       | ~~ | tr       | 0.4853850 | 0.06356431 |  7.636123 | 2.242651e-14 | 0.36080119 | 0.6099687 |\n",
       "| sm       | ~~ | sm       | 0.5564669 | 0.06449211 |  8.628450 | 0.000000e+00 | 0.43006469 | 0.6828691 |\n",
       "| ma       | ~~ | ma       | 0.6426146 | 0.06431274 |  9.992026 | 0.000000e+00 | 0.51656392 | 0.7686652 |\n",
       "| ps       | ~~ | ps       | 0.3968529 | 0.06176136 |  6.425586 | 1.313629e-10 | 0.27580286 | 0.5179029 |\n",
       "| Sequent  | ~~ | Sequent  | 1.0000000 | 0.00000000 |        NA |           NA | 1.00000000 | 1.0000000 |\n",
       "| Simultan | ~~ | Simultan | 1.0000000 | 0.00000000 |        NA |           NA | 1.00000000 | 1.0000000 |\n",
       "| Sequent  | ~~ | Simultan | 0.5096198 | 0.07025684 |  7.253668 | 4.056755e-13 | 0.37191892 | 0.6473207 |\n",
       "\n"
      ],
      "text/plain": [
       "   lhs      op rhs      est.std   se         z         pvalue       ci.lower  \n",
       "1  Sequent  =~ hm       0.2525852 0.08220770  3.072524 2.122564e-03 0.09146104\n",
       "2  Sequent  =~ nr       0.8177224 0.05332037 15.336023 0.000000e+00 0.71321642\n",
       "3  Sequent  =~ wo       0.8193490 0.05332364 15.365586 0.000000e+00 0.71483657\n",
       "4  Simultan =~ hm       0.3911086 0.07920465  4.937950 7.894795e-07 0.23587038\n",
       "5  Simultan =~ gc       0.4995366 0.06083478  8.211366 2.220446e-16 0.38030263\n",
       "6  Simultan =~ tr       0.7173667 0.04430392 16.191948 0.000000e+00 0.63053266\n",
       "7  Simultan =~ sm       0.6659828 0.04841875 13.754648 0.000000e+00 0.57108381\n",
       "8  Simultan =~ ma       0.5978172 0.05378964 11.113985 0.000000e+00 0.49239147\n",
       "9  Simultan =~ ps       0.7766255 0.03976264 19.531536 0.000000e+00 0.69869211\n",
       "10 hm       ~~ hm       0.6825459 0.06079286 11.227403 0.000000e+00 0.56339406\n",
       "11 nr       ~~ nr       0.3313300 0.08720253  3.799546 1.449613e-04 0.16041622\n",
       "12 wo       ~~ wo       0.3286672 0.08738134  3.761298 1.690341e-04 0.15740296\n",
       "13 gc       ~~ gc       0.7504632 0.06077839 12.347532 0.000000e+00 0.63133972\n",
       "14 tr       ~~ tr       0.4853850 0.06356431  7.636123 2.242651e-14 0.36080119\n",
       "15 sm       ~~ sm       0.5564669 0.06449211  8.628450 0.000000e+00 0.43006469\n",
       "16 ma       ~~ ma       0.6426146 0.06431274  9.992026 0.000000e+00 0.51656392\n",
       "17 ps       ~~ ps       0.3968529 0.06176136  6.425586 1.313629e-10 0.27580286\n",
       "18 Sequent  ~~ Sequent  1.0000000 0.00000000        NA           NA 1.00000000\n",
       "19 Simultan ~~ Simultan 1.0000000 0.00000000        NA           NA 1.00000000\n",
       "20 Sequent  ~~ Simultan 0.5096198 0.07025684  7.253668 4.056755e-13 0.37191892\n",
       "   ci.upper \n",
       "1  0.4137093\n",
       "2  0.9222284\n",
       "3  0.9238614\n",
       "4  0.5463469\n",
       "5  0.6187706\n",
       "6  0.8042008\n",
       "7  0.7608818\n",
       "8  0.7032430\n",
       "9  0.8545588\n",
       "10 0.8016977\n",
       "11 0.5022438\n",
       "12 0.4999315\n",
       "13 0.8695867\n",
       "14 0.6099687\n",
       "15 0.6828691\n",
       "16 0.7686652\n",
       "17 0.5179029\n",
       "18 1.0000000\n",
       "19 1.0000000\n",
       "20 0.6473207"
      ]
     },
     "metadata": {},
     "output_type": "display_data"
    }
   ],
   "source": [
    "standardizedSolution(kabc3)"
   ]
  },
  {
   "cell_type": "markdown",
   "id": "17cae8fb",
   "metadata": {},
   "source": [
    "Consideriamo una parametrizzazione alternativa del modello."
   ]
  },
  {
   "cell_type": "code",
   "execution_count": 31,
   "id": "f6757a0e",
   "metadata": {
    "vscode": {
     "languageId": "r"
    }
   },
   "outputs": [],
   "source": [
    "kabc3alt_model <- \"\n",
    "    Sequent =~ NA*hm + nr + wo\n",
    "    Simultan =~ NA*hm + gc + tr + sm + ma + ps\n",
    "\n",
    "    Sequent ~~ 1 * Sequent\n",
    "    Simultan ~~ 1 * Simultan\n",
    "\""
   ]
  },
  {
   "cell_type": "code",
   "execution_count": 32,
   "id": "385cb529",
   "metadata": {
    "vscode": {
     "languageId": "r"
    }
   },
   "outputs": [],
   "source": [
    "kabc3alt <- lavaan::sem(\n",
    "    kabc3alt_model, sample.cov = kabc.cov, sample.nobs = 200, std.lv = TRUE\n",
    ")"
   ]
  },
  {
   "cell_type": "code",
   "execution_count": 33,
   "id": "7c36f78d",
   "metadata": {
    "vscode": {
     "languageId": "r"
    }
   },
   "outputs": [
    {
     "data": {
      "image/png": "[encoded data removed]",
      "text/plain": [
       "plot without title"
      ]
     },
     "metadata": {
      "image/png": {
       "height": 420,
       "width": 420
      }
     },
     "output_type": "display_data"
    }
   ],
   "source": [
    "semPlot::semPaths(kabc3alt,\n",
    "    what = \"col\", whatLabels = \"par\", style = \"mx\", color = colorlist,\n",
    "    layout = \"tree2\", nCharNodes = 7,\n",
    "    shapeMan = \"rectangle\", sizeMan = 8, sizeMan2 = 5\n",
    ")"
   ]
  },
  {
   "cell_type": "code",
   "execution_count": 34,
   "id": "27c6d3a2",
   "metadata": {
    "vscode": {
     "languageId": "r"
    }
   },
   "outputs": [
    {
     "data": {
      "text/html": [
       "<table class=\"dataframe\">\n",
       "<caption>A lavaan.data.frame: 20 × 9</caption>\n",
       "<thead>\n",
       "\t<tr><th scope=col>lhs</th><th scope=col>op</th><th scope=col>rhs</th><th scope=col>est.std</th><th scope=col>se</th><th scope=col>z</th><th scope=col>pvalue</th><th scope=col>ci.lower</th><th scope=col>ci.upper</th></tr>\n",
       "\t<tr><th scope=col>&lt;chr&gt;</th><th scope=col>&lt;chr&gt;</th><th scope=col>&lt;chr&gt;</th><th scope=col>&lt;dbl&gt;</th><th scope=col>&lt;dbl&gt;</th><th scope=col>&lt;dbl&gt;</th><th scope=col>&lt;dbl&gt;</th><th scope=col>&lt;dbl&gt;</th><th scope=col>&lt;dbl&gt;</th></tr>\n",
       "</thead>\n",
       "<tbody>\n",
       "\t<tr><td>Sequent </td><td>=~</td><td>hm      </td><td>0.2525843</td><td>0.08220772</td><td> 3.072513</td><td>2.122649e-03</td><td>0.09146008</td><td>0.4137084</td></tr>\n",
       "\t<tr><td>Sequent </td><td>=~</td><td>nr      </td><td>0.8177223</td><td>0.05332042</td><td>15.336006</td><td>0.000000e+00</td><td>0.71321623</td><td>0.9222284</td></tr>\n",
       "\t<tr><td>Sequent </td><td>=~</td><td>wo      </td><td>0.8193488</td><td>0.05332369</td><td>15.365569</td><td>0.000000e+00</td><td>0.71483633</td><td>0.9238614</td></tr>\n",
       "\t<tr><td>Simultan</td><td>=~</td><td>hm      </td><td>0.3911092</td><td>0.07920463</td><td> 4.937959</td><td>7.894445e-07</td><td>0.23587098</td><td>0.5463474</td></tr>\n",
       "\t<tr><td>Simultan</td><td>=~</td><td>gc      </td><td>0.4995384</td><td>0.06083464</td><td> 8.211414</td><td>2.220446e-16</td><td>0.38030467</td><td>0.6187721</td></tr>\n",
       "\t<tr><td>Simultan</td><td>=~</td><td>tr      </td><td>0.7173674</td><td>0.04430383</td><td>16.191995</td><td>0.000000e+00</td><td>0.63053351</td><td>0.8042013</td></tr>\n",
       "\t<tr><td>Simultan</td><td>=~</td><td>sm      </td><td>0.6659822</td><td>0.04841876</td><td>13.754631</td><td>0.000000e+00</td><td>0.57108320</td><td>0.7608813</td></tr>\n",
       "\t<tr><td>Simultan</td><td>=~</td><td>ma      </td><td>0.5978175</td><td>0.05378959</td><td>11.114002</td><td>0.000000e+00</td><td>0.49239189</td><td>0.7032432</td></tr>\n",
       "\t<tr><td>Simultan</td><td>=~</td><td>ps      </td><td>0.7766261</td><td>0.03976255</td><td>19.531596</td><td>0.000000e+00</td><td>0.69869292</td><td>0.8545593</td></tr>\n",
       "\t<tr><td>Sequent </td><td>~~</td><td>Sequent </td><td>1.0000000</td><td>0.00000000</td><td>       NA</td><td>          NA</td><td>1.00000000</td><td>1.0000000</td></tr>\n",
       "\t<tr><td>Simultan</td><td>~~</td><td>Simultan</td><td>1.0000000</td><td>0.00000000</td><td>       NA</td><td>          NA</td><td>1.00000000</td><td>1.0000000</td></tr>\n",
       "\t<tr><td>hm      </td><td>~~</td><td>hm      </td><td>0.6825461</td><td>0.06079284</td><td>11.227409</td><td>0.000000e+00</td><td>0.56339433</td><td>0.8016979</td></tr>\n",
       "\t<tr><td>nr      </td><td>~~</td><td>nr      </td><td>0.3313302</td><td>0.08720260</td><td> 3.799545</td><td>1.449621e-04</td><td>0.16041623</td><td>0.5022441</td></tr>\n",
       "\t<tr><td>wo      </td><td>~~</td><td>wo      </td><td>0.3286675</td><td>0.08738141</td><td> 3.761297</td><td>1.690344e-04</td><td>0.15740304</td><td>0.4999319</td></tr>\n",
       "\t<tr><td>gc      </td><td>~~</td><td>gc      </td><td>0.7504614</td><td>0.06077847</td><td>12.347487</td><td>0.000000e+00</td><td>0.63133780</td><td>0.8695850</td></tr>\n",
       "\t<tr><td>tr      </td><td>~~</td><td>tr      </td><td>0.4853840</td><td>0.06356425</td><td> 7.636116</td><td>2.242651e-14</td><td>0.36080034</td><td>0.6099676</td></tr>\n",
       "\t<tr><td>sm      </td><td>~~</td><td>sm      </td><td>0.5564677</td><td>0.06449207</td><td> 8.628466</td><td>0.000000e+00</td><td>0.43006551</td><td>0.6828698</td></tr>\n",
       "\t<tr><td>ma      </td><td>~~</td><td>ma      </td><td>0.6426142</td><td>0.06431272</td><td> 9.992024</td><td>0.000000e+00</td><td>0.51656358</td><td>0.7686648</td></tr>\n",
       "\t<tr><td>ps      </td><td>~~</td><td>ps      </td><td>0.3968519</td><td>0.06176127</td><td> 6.425579</td><td>1.313689e-10</td><td>0.27580204</td><td>0.5179018</td></tr>\n",
       "\t<tr><td>Sequent </td><td>~~</td><td>Simultan</td><td>0.5096198</td><td>0.07025682</td><td> 7.253670</td><td>4.056755e-13</td><td>0.37191898</td><td>0.6473207</td></tr>\n",
       "</tbody>\n",
       "</table>\n"
      ],
      "text/latex": [
       "A lavaan.data.frame: 20 × 9\n",
       "\\begin{tabular}{lllllllll}\n",
       " lhs & op & rhs & est.std & se & z & pvalue & ci.lower & ci.upper\\\\\n",
       " <chr> & <chr> & <chr> & <dbl> & <dbl> & <dbl> & <dbl> & <dbl> & <dbl>\\\\\n",
       "\\hline\n",
       "\t Sequent  & =\\textasciitilde{} & hm       & 0.2525843 & 0.08220772 &  3.072513 & 2.122649e-03 & 0.09146008 & 0.4137084\\\\\n",
       "\t Sequent  & =\\textasciitilde{} & nr       & 0.8177223 & 0.05332042 & 15.336006 & 0.000000e+00 & 0.71321623 & 0.9222284\\\\\n",
       "\t Sequent  & =\\textasciitilde{} & wo       & 0.8193488 & 0.05332369 & 15.365569 & 0.000000e+00 & 0.71483633 & 0.9238614\\\\\n",
       "\t Simultan & =\\textasciitilde{} & hm       & 0.3911092 & 0.07920463 &  4.937959 & 7.894445e-07 & 0.23587098 & 0.5463474\\\\\n",
       "\t Simultan & =\\textasciitilde{} & gc       & 0.4995384 & 0.06083464 &  8.211414 & 2.220446e-16 & 0.38030467 & 0.6187721\\\\\n",
       "\t Simultan & =\\textasciitilde{} & tr       & 0.7173674 & 0.04430383 & 16.191995 & 0.000000e+00 & 0.63053351 & 0.8042013\\\\\n",
       "\t Simultan & =\\textasciitilde{} & sm       & 0.6659822 & 0.04841876 & 13.754631 & 0.000000e+00 & 0.57108320 & 0.7608813\\\\\n",
       "\t Simultan & =\\textasciitilde{} & ma       & 0.5978175 & 0.05378959 & 11.114002 & 0.000000e+00 & 0.49239189 & 0.7032432\\\\\n",
       "\t Simultan & =\\textasciitilde{} & ps       & 0.7766261 & 0.03976255 & 19.531596 & 0.000000e+00 & 0.69869292 & 0.8545593\\\\\n",
       "\t Sequent  & \\textasciitilde{}\\textasciitilde{} & Sequent  & 1.0000000 & 0.00000000 &        NA &           NA & 1.00000000 & 1.0000000\\\\\n",
       "\t Simultan & \\textasciitilde{}\\textasciitilde{} & Simultan & 1.0000000 & 0.00000000 &        NA &           NA & 1.00000000 & 1.0000000\\\\\n",
       "\t hm       & \\textasciitilde{}\\textasciitilde{} & hm       & 0.6825461 & 0.06079284 & 11.227409 & 0.000000e+00 & 0.56339433 & 0.8016979\\\\\n",
       "\t nr       & \\textasciitilde{}\\textasciitilde{} & nr       & 0.3313302 & 0.08720260 &  3.799545 & 1.449621e-04 & 0.16041623 & 0.5022441\\\\\n",
       "\t wo       & \\textasciitilde{}\\textasciitilde{} & wo       & 0.3286675 & 0.08738141 &  3.761297 & 1.690344e-04 & 0.15740304 & 0.4999319\\\\\n",
       "\t gc       & \\textasciitilde{}\\textasciitilde{} & gc       & 0.7504614 & 0.06077847 & 12.347487 & 0.000000e+00 & 0.63133780 & 0.8695850\\\\\n",
       "\t tr       & \\textasciitilde{}\\textasciitilde{} & tr       & 0.4853840 & 0.06356425 &  7.636116 & 2.242651e-14 & 0.36080034 & 0.6099676\\\\\n",
       "\t sm       & \\textasciitilde{}\\textasciitilde{} & sm       & 0.5564677 & 0.06449207 &  8.628466 & 0.000000e+00 & 0.43006551 & 0.6828698\\\\\n",
       "\t ma       & \\textasciitilde{}\\textasciitilde{} & ma       & 0.6426142 & 0.06431272 &  9.992024 & 0.000000e+00 & 0.51656358 & 0.7686648\\\\\n",
       "\t ps       & \\textasciitilde{}\\textasciitilde{} & ps       & 0.3968519 & 0.06176127 &  6.425579 & 1.313689e-10 & 0.27580204 & 0.5179018\\\\\n",
       "\t Sequent  & \\textasciitilde{}\\textasciitilde{} & Simultan & 0.5096198 & 0.07025682 &  7.253670 & 4.056755e-13 & 0.37191898 & 0.6473207\\\\\n",
       "\\end{tabular}\n"
      ],
      "text/markdown": [
       "\n",
       "A lavaan.data.frame: 20 × 9\n",
       "\n",
       "| lhs &lt;chr&gt; | op &lt;chr&gt; | rhs &lt;chr&gt; | est.std &lt;dbl&gt; | se &lt;dbl&gt; | z &lt;dbl&gt; | pvalue &lt;dbl&gt; | ci.lower &lt;dbl&gt; | ci.upper &lt;dbl&gt; |\n",
       "|---|---|---|---|---|---|---|---|---|\n",
       "| Sequent  | =~ | hm       | 0.2525843 | 0.08220772 |  3.072513 | 2.122649e-03 | 0.09146008 | 0.4137084 |\n",
       "| Sequent  | =~ | nr       | 0.8177223 | 0.05332042 | 15.336006 | 0.000000e+00 | 0.71321623 | 0.9222284 |\n",
       "| Sequent  | =~ | wo       | 0.8193488 | 0.05332369 | 15.365569 | 0.000000e+00 | 0.71483633 | 0.9238614 |\n",
       "| Simultan | =~ | hm       | 0.3911092 | 0.07920463 |  4.937959 | 7.894445e-07 | 0.23587098 | 0.5463474 |\n",
       "| Simultan | =~ | gc       | 0.4995384 | 0.06083464 |  8.211414 | 2.220446e-16 | 0.38030467 | 0.6187721 |\n",
       "| Simultan | =~ | tr       | 0.7173674 | 0.04430383 | 16.191995 | 0.000000e+00 | 0.63053351 | 0.8042013 |\n",
       "| Simultan | =~ | sm       | 0.6659822 | 0.04841876 | 13.754631 | 0.000000e+00 | 0.57108320 | 0.7608813 |\n",
       "| Simultan | =~ | ma       | 0.5978175 | 0.05378959 | 11.114002 | 0.000000e+00 | 0.49239189 | 0.7032432 |\n",
       "| Simultan | =~ | ps       | 0.7766261 | 0.03976255 | 19.531596 | 0.000000e+00 | 0.69869292 | 0.8545593 |\n",
       "| Sequent  | ~~ | Sequent  | 1.0000000 | 0.00000000 |        NA |           NA | 1.00000000 | 1.0000000 |\n",
       "| Simultan | ~~ | Simultan | 1.0000000 | 0.00000000 |        NA |           NA | 1.00000000 | 1.0000000 |\n",
       "| hm       | ~~ | hm       | 0.6825461 | 0.06079284 | 11.227409 | 0.000000e+00 | 0.56339433 | 0.8016979 |\n",
       "| nr       | ~~ | nr       | 0.3313302 | 0.08720260 |  3.799545 | 1.449621e-04 | 0.16041623 | 0.5022441 |\n",
       "| wo       | ~~ | wo       | 0.3286675 | 0.08738141 |  3.761297 | 1.690344e-04 | 0.15740304 | 0.4999319 |\n",
       "| gc       | ~~ | gc       | 0.7504614 | 0.06077847 | 12.347487 | 0.000000e+00 | 0.63133780 | 0.8695850 |\n",
       "| tr       | ~~ | tr       | 0.4853840 | 0.06356425 |  7.636116 | 2.242651e-14 | 0.36080034 | 0.6099676 |\n",
       "| sm       | ~~ | sm       | 0.5564677 | 0.06449207 |  8.628466 | 0.000000e+00 | 0.43006551 | 0.6828698 |\n",
       "| ma       | ~~ | ma       | 0.6426142 | 0.06431272 |  9.992024 | 0.000000e+00 | 0.51656358 | 0.7686648 |\n",
       "| ps       | ~~ | ps       | 0.3968519 | 0.06176127 |  6.425579 | 1.313689e-10 | 0.27580204 | 0.5179018 |\n",
       "| Sequent  | ~~ | Simultan | 0.5096198 | 0.07025682 |  7.253670 | 4.056755e-13 | 0.37191898 | 0.6473207 |\n",
       "\n"
      ],
      "text/plain": [
       "   lhs      op rhs      est.std   se         z         pvalue       ci.lower  \n",
       "1  Sequent  =~ hm       0.2525843 0.08220772  3.072513 2.122649e-03 0.09146008\n",
       "2  Sequent  =~ nr       0.8177223 0.05332042 15.336006 0.000000e+00 0.71321623\n",
       "3  Sequent  =~ wo       0.8193488 0.05332369 15.365569 0.000000e+00 0.71483633\n",
       "4  Simultan =~ hm       0.3911092 0.07920463  4.937959 7.894445e-07 0.23587098\n",
       "5  Simultan =~ gc       0.4995384 0.06083464  8.211414 2.220446e-16 0.38030467\n",
       "6  Simultan =~ tr       0.7173674 0.04430383 16.191995 0.000000e+00 0.63053351\n",
       "7  Simultan =~ sm       0.6659822 0.04841876 13.754631 0.000000e+00 0.57108320\n",
       "8  Simultan =~ ma       0.5978175 0.05378959 11.114002 0.000000e+00 0.49239189\n",
       "9  Simultan =~ ps       0.7766261 0.03976255 19.531596 0.000000e+00 0.69869292\n",
       "10 Sequent  ~~ Sequent  1.0000000 0.00000000        NA           NA 1.00000000\n",
       "11 Simultan ~~ Simultan 1.0000000 0.00000000        NA           NA 1.00000000\n",
       "12 hm       ~~ hm       0.6825461 0.06079284 11.227409 0.000000e+00 0.56339433\n",
       "13 nr       ~~ nr       0.3313302 0.08720260  3.799545 1.449621e-04 0.16041623\n",
       "14 wo       ~~ wo       0.3286675 0.08738141  3.761297 1.690344e-04 0.15740304\n",
       "15 gc       ~~ gc       0.7504614 0.06077847 12.347487 0.000000e+00 0.63133780\n",
       "16 tr       ~~ tr       0.4853840 0.06356425  7.636116 2.242651e-14 0.36080034\n",
       "17 sm       ~~ sm       0.5564677 0.06449207  8.628466 0.000000e+00 0.43006551\n",
       "18 ma       ~~ ma       0.6426142 0.06431272  9.992024 0.000000e+00 0.51656358\n",
       "19 ps       ~~ ps       0.3968519 0.06176127  6.425579 1.313689e-10 0.27580204\n",
       "20 Sequent  ~~ Simultan 0.5096198 0.07025682  7.253670 4.056755e-13 0.37191898\n",
       "   ci.upper \n",
       "1  0.4137084\n",
       "2  0.9222284\n",
       "3  0.9238614\n",
       "4  0.5463474\n",
       "5  0.6187721\n",
       "6  0.8042013\n",
       "7  0.7608813\n",
       "8  0.7032432\n",
       "9  0.8545593\n",
       "10 1.0000000\n",
       "11 1.0000000\n",
       "12 0.8016979\n",
       "13 0.5022441\n",
       "14 0.4999319\n",
       "15 0.8695850\n",
       "16 0.6099676\n",
       "17 0.6828698\n",
       "18 0.7686648\n",
       "19 0.5179018\n",
       "20 0.6473207"
      ]
     },
     "metadata": {},
     "output_type": "display_data"
    }
   ],
   "source": [
    "loadings <- standardizedSolution(kabc3alt)\n",
    "loadings"
   ]
  },
  {
   "cell_type": "code",
   "execution_count": 35,
   "id": "6078df54",
   "metadata": {
    "vscode": {
     "languageId": "r"
    }
   },
   "outputs": [
    {
     "data": {
      "text/html": [
       "<table class=\"dataframe\">\n",
       "<caption>A lavaan.data.frame: 9 × 3</caption>\n",
       "<thead>\n",
       "\t<tr><th></th><th scope=col>lhs</th><th scope=col>rhs</th><th scope=col>est.std</th></tr>\n",
       "\t<tr><th></th><th scope=col>&lt;chr&gt;</th><th scope=col>&lt;chr&gt;</th><th scope=col>&lt;dbl&gt;</th></tr>\n",
       "</thead>\n",
       "<tbody>\n",
       "\t<tr><th scope=row>1</th><td>Sequent </td><td>hm</td><td>0.2525843</td></tr>\n",
       "\t<tr><th scope=row>2</th><td>Sequent </td><td>nr</td><td>0.8177223</td></tr>\n",
       "\t<tr><th scope=row>3</th><td>Sequent </td><td>wo</td><td>0.8193488</td></tr>\n",
       "\t<tr><th scope=row>4</th><td>Simultan</td><td>hm</td><td>0.3911092</td></tr>\n",
       "\t<tr><th scope=row>5</th><td>Simultan</td><td>gc</td><td>0.4995384</td></tr>\n",
       "\t<tr><th scope=row>6</th><td>Simultan</td><td>tr</td><td>0.7173674</td></tr>\n",
       "\t<tr><th scope=row>7</th><td>Simultan</td><td>sm</td><td>0.6659822</td></tr>\n",
       "\t<tr><th scope=row>8</th><td>Simultan</td><td>ma</td><td>0.5978175</td></tr>\n",
       "\t<tr><th scope=row>9</th><td>Simultan</td><td>ps</td><td>0.7766261</td></tr>\n",
       "</tbody>\n",
       "</table>\n"
      ],
      "text/latex": [
       "A lavaan.data.frame: 9 × 3\n",
       "\\begin{tabular}{r|lll}\n",
       "  & lhs & rhs & est.std\\\\\n",
       "  & <chr> & <chr> & <dbl>\\\\\n",
       "\\hline\n",
       "\t1 & Sequent  & hm & 0.2525843\\\\\n",
       "\t2 & Sequent  & nr & 0.8177223\\\\\n",
       "\t3 & Sequent  & wo & 0.8193488\\\\\n",
       "\t4 & Simultan & hm & 0.3911092\\\\\n",
       "\t5 & Simultan & gc & 0.4995384\\\\\n",
       "\t6 & Simultan & tr & 0.7173674\\\\\n",
       "\t7 & Simultan & sm & 0.6659822\\\\\n",
       "\t8 & Simultan & ma & 0.5978175\\\\\n",
       "\t9 & Simultan & ps & 0.7766261\\\\\n",
       "\\end{tabular}\n"
      ],
      "text/markdown": [
       "\n",
       "A lavaan.data.frame: 9 × 3\n",
       "\n",
       "| <!--/--> | lhs &lt;chr&gt; | rhs &lt;chr&gt; | est.std &lt;dbl&gt; |\n",
       "|---|---|---|---|\n",
       "| 1 | Sequent  | hm | 0.2525843 |\n",
       "| 2 | Sequent  | nr | 0.8177223 |\n",
       "| 3 | Sequent  | wo | 0.8193488 |\n",
       "| 4 | Simultan | hm | 0.3911092 |\n",
       "| 5 | Simultan | gc | 0.4995384 |\n",
       "| 6 | Simultan | tr | 0.7173674 |\n",
       "| 7 | Simultan | sm | 0.6659822 |\n",
       "| 8 | Simultan | ma | 0.5978175 |\n",
       "| 9 | Simultan | ps | 0.7766261 |\n",
       "\n"
      ],
      "text/plain": [
       "  lhs      rhs est.std  \n",
       "1 Sequent  hm  0.2525843\n",
       "2 Sequent  nr  0.8177223\n",
       "3 Sequent  wo  0.8193488\n",
       "4 Simultan hm  0.3911092\n",
       "5 Simultan gc  0.4995384\n",
       "6 Simultan tr  0.7173674\n",
       "7 Simultan sm  0.6659822\n",
       "8 Simultan ma  0.5978175\n",
       "9 Simultan ps  0.7766261"
      ]
     },
     "metadata": {},
     "output_type": "display_data"
    }
   ],
   "source": [
    "relevant_loadings <- loadings[loadings$op == \"=~\", c(\"lhs\", \"rhs\", \"est.std\")]\n",
    "relevant_loadings"
   ]
  },
  {
   "cell_type": "markdown",
   "id": "0fc5d0eb",
   "metadata": {},
   "source": [
    "Idealmente, un fattore dovrebbe spiegare almeno il 50% della varianza in un indicatore continuo per sostenere l'ipotesi di validità convergente (Bagozzi & Yi, 2012). Questo significa che, idealmente, tutti gli indicatori di un fattore dovrebbero mostrare un risultato in cui il fattore spiega la maggioranza della loro varianza. Un criterio meno stringente per valutare la validità convergente è l'utilizzo della Varianza Media Estratta (AVE), che è la media dei quadrati dei carichi fattoriali standardizzati per tutti gli indicatori di un dato fattore. Un AVE superiore a 0.50 indica che, in media, il fattore comune spiega più varianza rispetto a quella residua nei termini di errore dell'indicatore, come suggerito da Hair e altri nel 2022.\n",
    "\n",
    "Nel modello a due fattori esaminato nella Tabella 14.3, i risultati sono problematici secondo il primo standard: il modello non spiega la maggioranza della varianza (R^2 > 0.50) per quattro degli otto indicatori, ovvero per metà di essi. Tuttavia, utilizzando il criterio AVE, i risultati sono leggermente migliori per il fattore sequenziale, che spiega in media circa il 52% della varianza dei suoi tre indicatori (AVE = 0.517).\n",
    "\n",
    "Tuttavia, nella pratica reale, valori di R^2 inferiori sono spesso accettabili nell'analisi fattoriale. Ad esempio, Comrey e Lee (1992) hanno proposto la seguente scala graduata di valutazione: un R^2 superiore a 0.50 è considerato eccellente, mentre valori approssimativamente uguali a 0.40, 0.30, 0.20 e 0.10 sono classificati come molto buoni, buoni, sufficienti e scarsi, rispettivamente. Seguendo queste linee guida più flessibili, i risultati per gli indicatori nel modello CFA a due fattori della KABC-I sono \"eccellenti\" (R^2 > 0.50) per tre degli otto indicatori, nessuno è classificato come \"scarso\" (R^2 intorno a 0.10), e i restanti cinque indicatori mostrano valori intermedi. È importante sottolineare che queste linee guida non dovrebbero essere applicate in modo indiscriminato in tutti i contesti di CFA o con tutti i tipi di indicatori. Gli indicatori continui, come i punteggi totali nell'esempio citato, tendono ad avere carichi fattoriali più elevati rispetto agli indicatori ordinali, come quelli basati su scale di risposta di tipo Likert. La CFA a livello categoriale sarà trattata più dettagliatamente in un capitolo successivo."
   ]
  },
  {
   "cell_type": "markdown",
   "id": "63df55b4",
   "metadata": {},
   "source": [
    "## Otto Misure di Personalità\n",
    "\n",
    "Ripetiamo qui l'esercizio che abbiamo svolg in precedenza usando l'analisi fattoriale esplorativa, questa volta usando `lavaan`. Consideriamo nuovamente i dati di {cite:t}`brown2015confirmatory` relativi a otto misure di personalità raccolte su un campione di 250 pazienti che hanno concluso un programma di psicoterapia:\n",
    "\n",
    "- anxiety (N1), \n",
    "- hostility (N2), \n",
    "- depression (N3), \n",
    "- self-consciousness (N4), \n",
    "- warmth (E1), \n",
    "- gregariousness (E2), \n",
    "- assertiveness (E3), \n",
    "- positive emotions (E4). "
   ]
  },
  {
   "cell_type": "code",
   "execution_count": 36,
   "id": "47f452e5",
   "metadata": {
    "vscode": {
     "languageId": "r"
    }
   },
   "outputs": [],
   "source": [
    "varnames <- c(\"N1\", \"N2\", \"N3\", \"N4\", \"E1\", \"E2\", \"E3\", \"E4\")\n",
    "sds <- \"5.7  5.6  6.4  5.7  6.0  6.2  5.7  5.6\"\n",
    "\n",
    "cors <- \"\n",
    " 1.000\n",
    " 0.767  1.000\n",
    " 0.731  0.709  1.000\n",
    " 0.778  0.738  0.762  1.000\n",
    "-0.351  -0.302  -0.356  -0.318  1.000\n",
    "-0.316  -0.280  -0.300  -0.267  0.675  1.000\n",
    "-0.296  -0.289  -0.297  -0.296  0.634  0.651  1.000\n",
    "-0.282  -0.254  -0.292  -0.245  0.534  0.593  0.566  1.000\"\n",
    "\n",
    "psychot_cor_mat <- getCov(cors, names = varnames)\n",
    "n <- 250"
   ]
  },
  {
   "cell_type": "markdown",
   "id": "d032e055",
   "metadata": {},
   "source": [
    "Il modello con due fattori ortogonali può essere adattato ai dati nel modo seguente."
   ]
  },
  {
   "cell_type": "code",
   "execution_count": 37,
   "id": "fe9f092d",
   "metadata": {
    "vscode": {
     "languageId": "r"
    }
   },
   "outputs": [],
   "source": [
    "cfa_mod <- \"\n",
    "  N =~ N1 + N2 + N3 + N4\n",
    "  E =~ E1 + E2 + E3 + E4\n",
    "\""
   ]
  },
  {
   "cell_type": "code",
   "execution_count": 38,
   "id": "edd93926",
   "metadata": {
    "vscode": {
     "languageId": "r"
    }
   },
   "outputs": [],
   "source": [
    "fit_cfa <- lavaan::cfa(\n",
    "    cfa_mod,\n",
    "    sample.cov = psychot_cor_mat,\n",
    "    sample.nobs = n,\n",
    "    orthogonal = TRUE,\n",
    "    std.lv = TRUE\n",
    ")"
   ]
  },
  {
   "cell_type": "code",
   "execution_count": 39,
   "id": "38cca85e",
   "metadata": {
    "vscode": {
     "languageId": "r"
    }
   },
   "outputs": [
    {
     "data": {
      "image/png": "[encoded data removed]",
      "text/plain": [
       "plot without title"
      ]
     },
     "metadata": {
      "image/png": {
       "height": 420,
       "width": 420
      }
     },
     "output_type": "display_data"
    }
   ],
   "source": [
    "cols <- wesanderson::wes_palette(name = \"Moonrise2\", n = 4, type = \"discrete\")\n",
    "colorlist <- list(man = cols[2], lat = cols[3])\n",
    "\n",
    "semPlot::semPaths(fit_cfa,\n",
    "    what = \"col\", whatLabels = \"par\", style = \"mx\", color = colorlist,\n",
    "    layout = \"tree2\", nCharNodes = 7,\n",
    "    shapeMan = \"rectangle\", sizeMan = 8, sizeMan2 = 5\n",
    ")"
   ]
  },
  {
   "cell_type": "markdown",
   "id": "7c2adc59",
   "metadata": {},
   "source": [
    "Esaminiamo le saturazioni fattoriali:"
   ]
  },
  {
   "cell_type": "code",
   "execution_count": 40,
   "id": "2a2013ce",
   "metadata": {
    "vscode": {
     "languageId": "r"
    }
   },
   "outputs": [
    {
     "data": {
      "text/plain": [
       "\n",
       "\n",
       "Table: Factor Loadings\n",
       "\n",
       "|Latent Factor |Indicator |     B|    SE|      Z| p-value|  Beta|\n",
       "|:-------------|:---------|-----:|-----:|------:|-------:|-----:|\n",
       "|N             |N1        | 0.882| 0.051| 17.422|       0| 0.884|\n",
       "|N             |N2        | 0.847| 0.052| 16.340|       0| 0.849|\n",
       "|N             |N3        | 0.840| 0.052| 16.134|       0| 0.842|\n",
       "|N             |N4        | 0.882| 0.051| 17.432|       0| 0.884|\n",
       "|E             |E1        | 0.795| 0.056| 14.276|       0| 0.796|\n",
       "|E             |E2        | 0.838| 0.054| 15.369|       0| 0.839|\n",
       "|E             |E3        | 0.788| 0.056| 14.097|       0| 0.789|\n",
       "|E             |E4        | 0.697| 0.058| 11.942|       0| 0.699|"
      ]
     },
     "metadata": {},
     "output_type": "display_data"
    }
   ],
   "source": [
    "parameterEstimates(fit_cfa, standardized = TRUE) %>%\n",
    "    dplyr::filter(op == \"=~\") %>%\n",
    "    dplyr::select(\n",
    "        \"Latent Factor\" = lhs,\n",
    "        Indicator = rhs,\n",
    "        B = est,\n",
    "        SE = se,\n",
    "        Z = z,\n",
    "        \"p-value\" = pvalue,\n",
    "        Beta = std.all\n",
    "    ) %>%\n",
    "    knitr::kable(\n",
    "        digits = 3, booktabs = TRUE, format = \"markdown\",\n",
    "        caption = \"Factor Loadings\"\n",
    "    )"
   ]
  },
  {
   "cell_type": "markdown",
   "id": "9d1c8737",
   "metadata": {},
   "source": [
    "Il risultato sembra sensato: le saturazioni su ciascun fattore sono molto alte. Tuttavia, la matrice delle correlazioni residue"
   ]
  },
  {
   "cell_type": "code",
   "execution_count": 41,
   "id": "7ce422d1",
   "metadata": {
    "vscode": {
     "languageId": "r"
    }
   },
   "outputs": [
    {
     "data": {
      "text/plain": [
       "\n",
       "\n",
       "|   |     N1|     N2|     N3|     N4|     E1|     E2|     E3|     E4|\n",
       "|:--|------:|------:|------:|------:|------:|------:|------:|------:|\n",
       "|N1 |  0.000|  0.017| -0.013| -0.003| -0.351| -0.316| -0.296| -0.282|\n",
       "|N2 |  0.017|  0.000| -0.006| -0.012| -0.302| -0.280| -0.289| -0.254|\n",
       "|N3 | -0.013| -0.006|  0.000|  0.018| -0.356| -0.300| -0.297| -0.292|\n",
       "|N4 | -0.003| -0.012|  0.018|  0.000| -0.318| -0.267| -0.296| -0.245|\n",
       "|E1 | -0.351| -0.302| -0.356| -0.318|  0.000|  0.007|  0.006| -0.022|\n",
       "|E2 | -0.316| -0.280| -0.300| -0.267|  0.007|  0.000| -0.011|  0.007|\n",
       "|E3 | -0.296| -0.289| -0.297| -0.296|  0.006| -0.011|  0.000|  0.015|\n",
       "|E4 | -0.282| -0.254| -0.292| -0.245| -0.022|  0.007|  0.015|  0.000|"
      ]
     },
     "metadata": {},
     "output_type": "display_data"
    }
   ],
   "source": [
    "cor_table <- residuals(fit_cfa, type = \"cor\")$cov\n",
    "knitr::kable(\n",
    "    cor_table,\n",
    "    digits = 3,\n",
    "    format = \"markdown\",\n",
    "    booktabs = TRUE\n",
    ")"
   ]
  },
  {
   "cell_type": "markdown",
   "id": "4657e107",
   "metadata": {},
   "source": [
    "rivela che il modello ipotizzato dall'analisi fattoriale confermativa non è adeguato."
   ]
  },
  {
   "cell_type": "markdown",
   "id": "0bd4d1a7",
   "metadata": {},
   "source": []
  },
  {
   "cell_type": "code",
   "execution_count": 42,
   "id": "42622d20",
   "metadata": {
    "vscode": {
     "languageId": "r"
    }
   },
   "outputs": [],
   "source": [
    "fit2_cfa <- lavaan::cfa(\n",
    "    cfa_mod,\n",
    "    sample.cov = psychot_cor_mat,\n",
    "    sample.nobs = n,\n",
    "    orthogonal = FALSE,\n",
    "    std.lv = TRUE\n",
    ")"
   ]
  },
  {
   "cell_type": "code",
   "execution_count": 43,
   "id": "ce3f32af",
   "metadata": {
    "vscode": {
     "languageId": "r"
    }
   },
   "outputs": [
    {
     "data": {
      "image/png": "[encoded data removed]",
      "text/plain": [
       "plot without title"
      ]
     },
     "metadata": {
      "image/png": {
       "height": 420,
       "width": 420
      }
     },
     "output_type": "display_data"
    }
   ],
   "source": [
    "semPlot::semPaths(fit2_cfa,\n",
    "    what = \"col\", whatLabels = \"par\", style = \"mx\", color = colorlist,\n",
    "    layout = \"tree2\", nCharNodes = 7,\n",
    "    shapeMan = \"rectangle\", sizeMan = 8, sizeMan2 = 5\n",
    ")"
   ]
  },
  {
   "cell_type": "markdown",
   "id": "d665e574",
   "metadata": {},
   "source": [
    "Esaminiamo le saturazioni fattoriali."
   ]
  },
  {
   "cell_type": "code",
   "execution_count": 44,
   "id": "de4db19c",
   "metadata": {
    "vscode": {
     "languageId": "r"
    }
   },
   "outputs": [
    {
     "data": {
      "text/plain": [
       "\n",
       "\n",
       "Table: Factor Loadings\n",
       "\n",
       "|Latent Factor |Indicator |     B|    SE|      Z| p-value|  Beta|\n",
       "|:-------------|:---------|-----:|-----:|------:|-------:|-----:|\n",
       "|N             |N1        | 0.883| 0.051| 17.472|       0| 0.885|\n",
       "|N             |N2        | 0.847| 0.052| 16.337|       0| 0.849|\n",
       "|N             |N3        | 0.842| 0.052| 16.190|       0| 0.844|\n",
       "|N             |N4        | 0.880| 0.051| 17.381|       0| 0.882|\n",
       "|E             |E1        | 0.800| 0.055| 14.465|       0| 0.802|\n",
       "|E             |E2        | 0.832| 0.054| 15.294|       0| 0.834|\n",
       "|E             |E3        | 0.788| 0.056| 14.150|       0| 0.789|\n",
       "|E             |E4        | 0.698| 0.058| 11.974|       0| 0.699|"
      ]
     },
     "metadata": {},
     "output_type": "display_data"
    }
   ],
   "source": [
    "parameterEstimates(fit2_cfa, standardized = TRUE) %>%\n",
    "    dplyr::filter(op == \"=~\") %>%\n",
    "    dplyr::select(\n",
    "        \"Latent Factor\" = lhs,\n",
    "        Indicator = rhs,\n",
    "        B = est,\n",
    "        SE = se,\n",
    "        Z = z,\n",
    "        \"p-value\" = pvalue,\n",
    "        Beta = std.all\n",
    "    ) %>%\n",
    "    knitr::kable(\n",
    "        digits = 3, booktabs = TRUE, format = \"markdown\",\n",
    "        caption = \"Factor Loadings\"\n",
    "    )"
   ]
  },
  {
   "cell_type": "markdown",
   "id": "ceb6cd06",
   "metadata": {},
   "source": [
    "Esaminiamo i residui."
   ]
  },
  {
   "cell_type": "code",
   "execution_count": 45,
   "id": "f9f54fdd",
   "metadata": {
    "vscode": {
     "languageId": "r"
    }
   },
   "outputs": [
    {
     "data": {
      "text/plain": [
       "\n",
       "\n",
       "|   |     N1|     N2|     N3|     N4|     E1|     E2|     E3|     E4|\n",
       "|:--|------:|------:|------:|------:|------:|------:|------:|------:|\n",
       "|N1 |  0.000|  0.016| -0.015| -0.002| -0.042|  0.005|  0.008| -0.013|\n",
       "|N2 |  0.016|  0.000| -0.007| -0.010| -0.006|  0.028|  0.002|  0.004|\n",
       "|N3 | -0.015| -0.007|  0.000|  0.018| -0.062|  0.006| -0.007| -0.035|\n",
       "|N4 | -0.002| -0.010|  0.018|  0.000| -0.010|  0.053|  0.007|  0.023|\n",
       "|E1 | -0.042| -0.006| -0.062| -0.010|  0.000|  0.006|  0.001| -0.027|\n",
       "|E2 |  0.005|  0.028|  0.006|  0.053|  0.006|  0.000| -0.007|  0.010|\n",
       "|E3 |  0.008|  0.002| -0.007|  0.007|  0.001| -0.007|  0.000|  0.014|\n",
       "|E4 | -0.013|  0.004| -0.035|  0.023| -0.027|  0.010|  0.014|  0.000|"
      ]
     },
     "metadata": {},
     "output_type": "display_data"
    }
   ],
   "source": [
    "cor_table <- residuals(fit2_cfa, type = \"cor\")$cov\n",
    "knitr::kable(\n",
    "    cor_table,\n",
    "    digits = 3,\n",
    "    format = \"markdown\",\n",
    "    booktabs = TRUE\n",
    ")"
   ]
  },
  {
   "cell_type": "markdown",
   "id": "509a9d9f",
   "metadata": {},
   "source": [
    "Sistemiamo le saturazioni fattoriali in una matrice 8 $\\times$ 2:"
   ]
  },
  {
   "cell_type": "code",
   "execution_count": 46,
   "id": "20aaddc6",
   "metadata": {
    "vscode": {
     "languageId": "r"
    }
   },
   "outputs": [
    {
     "data": {
      "text/html": [
       "<table class=\"dataframe\">\n",
       "<caption>A lavaan.matrix: 8 × 2 of type dbl</caption>\n",
       "<thead>\n",
       "\t<tr><th></th><th scope=col>N</th><th scope=col>E</th></tr>\n",
       "</thead>\n",
       "<tbody>\n",
       "\t<tr><th scope=row>N1</th><td>0.8848214</td><td>0.0000000</td></tr>\n",
       "\t<tr><th scope=row>N2</th><td>0.8485128</td><td>0.0000000</td></tr>\n",
       "\t<tr><th scope=row>N3</th><td>0.8436432</td><td>0.0000000</td></tr>\n",
       "\t<tr><th scope=row>N4</th><td>0.8819736</td><td>0.0000000</td></tr>\n",
       "\t<tr><th scope=row>E1</th><td>0.0000000</td><td>0.8018485</td></tr>\n",
       "\t<tr><th scope=row>E2</th><td>0.0000000</td><td>0.8337599</td></tr>\n",
       "\t<tr><th scope=row>E3</th><td>0.0000000</td><td>0.7894530</td></tr>\n",
       "\t<tr><th scope=row>E4</th><td>0.0000000</td><td>0.6990366</td></tr>\n",
       "</tbody>\n",
       "</table>\n"
      ],
      "text/latex": [
       "A lavaan.matrix: 8 × 2 of type dbl\n",
       "\\begin{tabular}{r|ll}\n",
       "  & N & E\\\\\n",
       "\\hline\n",
       "\tN1 & 0.8848214 & 0.0000000\\\\\n",
       "\tN2 & 0.8485128 & 0.0000000\\\\\n",
       "\tN3 & 0.8436432 & 0.0000000\\\\\n",
       "\tN4 & 0.8819736 & 0.0000000\\\\\n",
       "\tE1 & 0.0000000 & 0.8018485\\\\\n",
       "\tE2 & 0.0000000 & 0.8337599\\\\\n",
       "\tE3 & 0.0000000 & 0.7894530\\\\\n",
       "\tE4 & 0.0000000 & 0.6990366\\\\\n",
       "\\end{tabular}\n"
      ],
      "text/markdown": [
       "\n",
       "A lavaan.matrix: 8 × 2 of type dbl\n",
       "\n",
       "| <!--/--> | N | E |\n",
       "|---|---|---|\n",
       "| N1 | 0.8848214 | 0.0000000 |\n",
       "| N2 | 0.8485128 | 0.0000000 |\n",
       "| N3 | 0.8436432 | 0.0000000 |\n",
       "| N4 | 0.8819736 | 0.0000000 |\n",
       "| E1 | 0.0000000 | 0.8018485 |\n",
       "| E2 | 0.0000000 | 0.8337599 |\n",
       "| E3 | 0.0000000 | 0.7894530 |\n",
       "| E4 | 0.0000000 | 0.6990366 |\n",
       "\n"
      ],
      "text/plain": [
       "   N         E        \n",
       "N1 0.8848214 0.0000000\n",
       "N2 0.8485128 0.0000000\n",
       "N3 0.8436432 0.0000000\n",
       "N4 0.8819736 0.0000000\n",
       "E1 0.0000000 0.8018485\n",
       "E2 0.0000000 0.8337599\n",
       "E3 0.0000000 0.7894530\n",
       "E4 0.0000000 0.6990366"
      ]
     },
     "metadata": {},
     "output_type": "display_data"
    }
   ],
   "source": [
    "lambda <- inspect(fit2_cfa, what = \"std\")$lambda\n",
    "lambda"
   ]
  },
  {
   "cell_type": "markdown",
   "id": "2d4e6a09",
   "metadata": {},
   "source": [
    "Otteniamo la matrice di intercorrelazoni fattoriali."
   ]
  },
  {
   "cell_type": "code",
   "execution_count": 47,
   "id": "259c500d",
   "metadata": {
    "vscode": {
     "languageId": "r"
    }
   },
   "outputs": [
    {
     "data": {
      "text/html": [
       "<table class=\"dataframe\">\n",
       "<caption>A lavaan.matrix.symmetric: 2 × 2 of type dbl</caption>\n",
       "<thead>\n",
       "\t<tr><th></th><th scope=col>N</th><th scope=col>E</th></tr>\n",
       "</thead>\n",
       "<tbody>\n",
       "\t<tr><th scope=row>N</th><td> 1.000000</td><td>-0.434962</td></tr>\n",
       "\t<tr><th scope=row>E</th><td>-0.434962</td><td> 1.000000</td></tr>\n",
       "</tbody>\n",
       "</table>\n"
      ],
      "text/latex": [
       "A lavaan.matrix.symmetric: 2 × 2 of type dbl\n",
       "\\begin{tabular}{r|ll}\n",
       "  & N & E\\\\\n",
       "\\hline\n",
       "\tN &  1.000000 & -0.434962\\\\\n",
       "\tE & -0.434962 &  1.000000\\\\\n",
       "\\end{tabular}\n"
      ],
      "text/markdown": [
       "\n",
       "A lavaan.matrix.symmetric: 2 × 2 of type dbl\n",
       "\n",
       "| <!--/--> | N | E |\n",
       "|---|---|---|\n",
       "| N |  1.000000 | -0.434962 |\n",
       "| E | -0.434962 |  1.000000 |\n",
       "\n"
      ],
      "text/plain": [
       "  N         E        \n",
       "N  1.000000 -0.434962\n",
       "E -0.434962  1.000000"
      ]
     },
     "metadata": {},
     "output_type": "display_data"
    }
   ],
   "source": [
    "Phi <- inspect(fit2_cfa, what = \"std\")$psi\n",
    "Phi"
   ]
  },
  {
   "cell_type": "markdown",
   "id": "6f61a04d",
   "metadata": {},
   "source": [
    "Otteniamo la matrice di varianze residue."
   ]
  },
  {
   "cell_type": "code",
   "execution_count": 48,
   "id": "6fceb1ef",
   "metadata": {
    "vscode": {
     "languageId": "r"
    }
   },
   "outputs": [
    {
     "data": {
      "text/html": [
       "<table class=\"dataframe\">\n",
       "<caption>A lavaan.matrix.symmetric: 8 × 8 of type dbl</caption>\n",
       "<thead>\n",
       "\t<tr><th></th><th scope=col>N1</th><th scope=col>N2</th><th scope=col>N3</th><th scope=col>N4</th><th scope=col>E1</th><th scope=col>E2</th><th scope=col>E3</th><th scope=col>E4</th></tr>\n",
       "</thead>\n",
       "<tbody>\n",
       "\t<tr><th scope=row>N1</th><td>0.217091</td><td>0.0000000</td><td>0.0000000</td><td>0.0000000</td><td>0.000000</td><td>0.0000000</td><td>0.000000</td><td>0.0000000</td></tr>\n",
       "\t<tr><th scope=row>N2</th><td>0.000000</td><td>0.2800261</td><td>0.0000000</td><td>0.0000000</td><td>0.000000</td><td>0.0000000</td><td>0.000000</td><td>0.0000000</td></tr>\n",
       "\t<tr><th scope=row>N3</th><td>0.000000</td><td>0.0000000</td><td>0.2882661</td><td>0.0000000</td><td>0.000000</td><td>0.0000000</td><td>0.000000</td><td>0.0000000</td></tr>\n",
       "\t<tr><th scope=row>N4</th><td>0.000000</td><td>0.0000000</td><td>0.0000000</td><td>0.2221225</td><td>0.000000</td><td>0.0000000</td><td>0.000000</td><td>0.0000000</td></tr>\n",
       "\t<tr><th scope=row>E1</th><td>0.000000</td><td>0.0000000</td><td>0.0000000</td><td>0.0000000</td><td>0.357039</td><td>0.0000000</td><td>0.000000</td><td>0.0000000</td></tr>\n",
       "\t<tr><th scope=row>E2</th><td>0.000000</td><td>0.0000000</td><td>0.0000000</td><td>0.0000000</td><td>0.000000</td><td>0.3048445</td><td>0.000000</td><td>0.0000000</td></tr>\n",
       "\t<tr><th scope=row>E3</th><td>0.000000</td><td>0.0000000</td><td>0.0000000</td><td>0.0000000</td><td>0.000000</td><td>0.0000000</td><td>0.376764</td><td>0.0000000</td></tr>\n",
       "\t<tr><th scope=row>E4</th><td>0.000000</td><td>0.0000000</td><td>0.0000000</td><td>0.0000000</td><td>0.000000</td><td>0.0000000</td><td>0.000000</td><td>0.5113478</td></tr>\n",
       "</tbody>\n",
       "</table>\n"
      ],
      "text/latex": [
       "A lavaan.matrix.symmetric: 8 × 8 of type dbl\n",
       "\\begin{tabular}{r|llllllll}\n",
       "  & N1 & N2 & N3 & N4 & E1 & E2 & E3 & E4\\\\\n",
       "\\hline\n",
       "\tN1 & 0.217091 & 0.0000000 & 0.0000000 & 0.0000000 & 0.000000 & 0.0000000 & 0.000000 & 0.0000000\\\\\n",
       "\tN2 & 0.000000 & 0.2800261 & 0.0000000 & 0.0000000 & 0.000000 & 0.0000000 & 0.000000 & 0.0000000\\\\\n",
       "\tN3 & 0.000000 & 0.0000000 & 0.2882661 & 0.0000000 & 0.000000 & 0.0000000 & 0.000000 & 0.0000000\\\\\n",
       "\tN4 & 0.000000 & 0.0000000 & 0.0000000 & 0.2221225 & 0.000000 & 0.0000000 & 0.000000 & 0.0000000\\\\\n",
       "\tE1 & 0.000000 & 0.0000000 & 0.0000000 & 0.0000000 & 0.357039 & 0.0000000 & 0.000000 & 0.0000000\\\\\n",
       "\tE2 & 0.000000 & 0.0000000 & 0.0000000 & 0.0000000 & 0.000000 & 0.3048445 & 0.000000 & 0.0000000\\\\\n",
       "\tE3 & 0.000000 & 0.0000000 & 0.0000000 & 0.0000000 & 0.000000 & 0.0000000 & 0.376764 & 0.0000000\\\\\n",
       "\tE4 & 0.000000 & 0.0000000 & 0.0000000 & 0.0000000 & 0.000000 & 0.0000000 & 0.000000 & 0.5113478\\\\\n",
       "\\end{tabular}\n"
      ],
      "text/markdown": [
       "\n",
       "A lavaan.matrix.symmetric: 8 × 8 of type dbl\n",
       "\n",
       "| <!--/--> | N1 | N2 | N3 | N4 | E1 | E2 | E3 | E4 |\n",
       "|---|---|---|---|---|---|---|---|---|\n",
       "| N1 | 0.217091 | 0.0000000 | 0.0000000 | 0.0000000 | 0.000000 | 0.0000000 | 0.000000 | 0.0000000 |\n",
       "| N2 | 0.000000 | 0.2800261 | 0.0000000 | 0.0000000 | 0.000000 | 0.0000000 | 0.000000 | 0.0000000 |\n",
       "| N3 | 0.000000 | 0.0000000 | 0.2882661 | 0.0000000 | 0.000000 | 0.0000000 | 0.000000 | 0.0000000 |\n",
       "| N4 | 0.000000 | 0.0000000 | 0.0000000 | 0.2221225 | 0.000000 | 0.0000000 | 0.000000 | 0.0000000 |\n",
       "| E1 | 0.000000 | 0.0000000 | 0.0000000 | 0.0000000 | 0.357039 | 0.0000000 | 0.000000 | 0.0000000 |\n",
       "| E2 | 0.000000 | 0.0000000 | 0.0000000 | 0.0000000 | 0.000000 | 0.3048445 | 0.000000 | 0.0000000 |\n",
       "| E3 | 0.000000 | 0.0000000 | 0.0000000 | 0.0000000 | 0.000000 | 0.0000000 | 0.376764 | 0.0000000 |\n",
       "| E4 | 0.000000 | 0.0000000 | 0.0000000 | 0.0000000 | 0.000000 | 0.0000000 | 0.000000 | 0.5113478 |\n",
       "\n"
      ],
      "text/plain": [
       "   N1       N2        N3        N4        E1       E2        E3       E4       \n",
       "N1 0.217091 0.0000000 0.0000000 0.0000000 0.000000 0.0000000 0.000000 0.0000000\n",
       "N2 0.000000 0.2800261 0.0000000 0.0000000 0.000000 0.0000000 0.000000 0.0000000\n",
       "N3 0.000000 0.0000000 0.2882661 0.0000000 0.000000 0.0000000 0.000000 0.0000000\n",
       "N4 0.000000 0.0000000 0.0000000 0.2221225 0.000000 0.0000000 0.000000 0.0000000\n",
       "E1 0.000000 0.0000000 0.0000000 0.0000000 0.357039 0.0000000 0.000000 0.0000000\n",
       "E2 0.000000 0.0000000 0.0000000 0.0000000 0.000000 0.3048445 0.000000 0.0000000\n",
       "E3 0.000000 0.0000000 0.0000000 0.0000000 0.000000 0.0000000 0.376764 0.0000000\n",
       "E4 0.000000 0.0000000 0.0000000 0.0000000 0.000000 0.0000000 0.000000 0.5113478"
      ]
     },
     "metadata": {},
     "output_type": "display_data"
    }
   ],
   "source": [
    "Psi <- inspect(fit2_cfa, what = \"std\")$theta\n",
    "Psi"
   ]
  },
  {
   "cell_type": "markdown",
   "id": "22192fff",
   "metadata": {},
   "source": [
    "Mediante i parametri del modello  la matrice di correlazione si riproduce nel modo seguente:\n",
    "\n",
    "$$\n",
    "\\boldsymbol{\\Sigma} =\\boldsymbol{\\Lambda} \\boldsymbol{\\Phi} \\boldsymbol{\\Lambda}^{\\mathsf{T}} + \\boldsymbol{\\Psi}. \n",
    "$$\n",
    "\n",
    "In $\\textsf{R}$ scriviamo:"
   ]
  },
  {
   "cell_type": "code",
   "execution_count": 49,
   "id": "54629bd3",
   "metadata": {
    "vscode": {
     "languageId": "r"
    }
   },
   "outputs": [
    {
     "data": {
      "text/html": [
       "<table class=\"dataframe\">\n",
       "<caption>A lavaan.matrix.symmetric: 8 × 8 of type dbl</caption>\n",
       "<thead>\n",
       "\t<tr><th></th><th scope=col>N1</th><th scope=col>N2</th><th scope=col>N3</th><th scope=col>N4</th><th scope=col>E1</th><th scope=col>E2</th><th scope=col>E3</th><th scope=col>E4</th></tr>\n",
       "</thead>\n",
       "<tbody>\n",
       "\t<tr><th scope=row>N1</th><td> 1.000</td><td> 0.751</td><td> 0.746</td><td> 0.780</td><td>-0.309</td><td>-0.321</td><td>-0.304</td><td>-0.269</td></tr>\n",
       "\t<tr><th scope=row>N2</th><td> 0.751</td><td> 1.000</td><td> 0.716</td><td> 0.748</td><td>-0.296</td><td>-0.308</td><td>-0.291</td><td>-0.258</td></tr>\n",
       "\t<tr><th scope=row>N3</th><td> 0.746</td><td> 0.716</td><td> 1.000</td><td> 0.744</td><td>-0.294</td><td>-0.306</td><td>-0.290</td><td>-0.257</td></tr>\n",
       "\t<tr><th scope=row>N4</th><td> 0.780</td><td> 0.748</td><td> 0.744</td><td> 1.000</td><td>-0.308</td><td>-0.320</td><td>-0.303</td><td>-0.268</td></tr>\n",
       "\t<tr><th scope=row>E1</th><td>-0.309</td><td>-0.296</td><td>-0.294</td><td>-0.308</td><td> 1.000</td><td> 0.669</td><td> 0.633</td><td> 0.561</td></tr>\n",
       "\t<tr><th scope=row>E2</th><td>-0.321</td><td>-0.308</td><td>-0.306</td><td>-0.320</td><td> 0.669</td><td> 1.000</td><td> 0.658</td><td> 0.583</td></tr>\n",
       "\t<tr><th scope=row>E3</th><td>-0.304</td><td>-0.291</td><td>-0.290</td><td>-0.303</td><td> 0.633</td><td> 0.658</td><td> 1.000</td><td> 0.552</td></tr>\n",
       "\t<tr><th scope=row>E4</th><td>-0.269</td><td>-0.258</td><td>-0.257</td><td>-0.268</td><td> 0.561</td><td> 0.583</td><td> 0.552</td><td> 1.000</td></tr>\n",
       "</tbody>\n",
       "</table>\n"
      ],
      "text/latex": [
       "A lavaan.matrix.symmetric: 8 × 8 of type dbl\n",
       "\\begin{tabular}{r|llllllll}\n",
       "  & N1 & N2 & N3 & N4 & E1 & E2 & E3 & E4\\\\\n",
       "\\hline\n",
       "\tN1 &  1.000 &  0.751 &  0.746 &  0.780 & -0.309 & -0.321 & -0.304 & -0.269\\\\\n",
       "\tN2 &  0.751 &  1.000 &  0.716 &  0.748 & -0.296 & -0.308 & -0.291 & -0.258\\\\\n",
       "\tN3 &  0.746 &  0.716 &  1.000 &  0.744 & -0.294 & -0.306 & -0.290 & -0.257\\\\\n",
       "\tN4 &  0.780 &  0.748 &  0.744 &  1.000 & -0.308 & -0.320 & -0.303 & -0.268\\\\\n",
       "\tE1 & -0.309 & -0.296 & -0.294 & -0.308 &  1.000 &  0.669 &  0.633 &  0.561\\\\\n",
       "\tE2 & -0.321 & -0.308 & -0.306 & -0.320 &  0.669 &  1.000 &  0.658 &  0.583\\\\\n",
       "\tE3 & -0.304 & -0.291 & -0.290 & -0.303 &  0.633 &  0.658 &  1.000 &  0.552\\\\\n",
       "\tE4 & -0.269 & -0.258 & -0.257 & -0.268 &  0.561 &  0.583 &  0.552 &  1.000\\\\\n",
       "\\end{tabular}\n"
      ],
      "text/markdown": [
       "\n",
       "A lavaan.matrix.symmetric: 8 × 8 of type dbl\n",
       "\n",
       "| <!--/--> | N1 | N2 | N3 | N4 | E1 | E2 | E3 | E4 |\n",
       "|---|---|---|---|---|---|---|---|---|\n",
       "| N1 |  1.000 |  0.751 |  0.746 |  0.780 | -0.309 | -0.321 | -0.304 | -0.269 |\n",
       "| N2 |  0.751 |  1.000 |  0.716 |  0.748 | -0.296 | -0.308 | -0.291 | -0.258 |\n",
       "| N3 |  0.746 |  0.716 |  1.000 |  0.744 | -0.294 | -0.306 | -0.290 | -0.257 |\n",
       "| N4 |  0.780 |  0.748 |  0.744 |  1.000 | -0.308 | -0.320 | -0.303 | -0.268 |\n",
       "| E1 | -0.309 | -0.296 | -0.294 | -0.308 |  1.000 |  0.669 |  0.633 |  0.561 |\n",
       "| E2 | -0.321 | -0.308 | -0.306 | -0.320 |  0.669 |  1.000 |  0.658 |  0.583 |\n",
       "| E3 | -0.304 | -0.291 | -0.290 | -0.303 |  0.633 |  0.658 |  1.000 |  0.552 |\n",
       "| E4 | -0.269 | -0.258 | -0.257 | -0.268 |  0.561 |  0.583 |  0.552 |  1.000 |\n",
       "\n"
      ],
      "text/plain": [
       "   N1     N2     N3     N4     E1     E2     E3     E4    \n",
       "N1  1.000  0.751  0.746  0.780 -0.309 -0.321 -0.304 -0.269\n",
       "N2  0.751  1.000  0.716  0.748 -0.296 -0.308 -0.291 -0.258\n",
       "N3  0.746  0.716  1.000  0.744 -0.294 -0.306 -0.290 -0.257\n",
       "N4  0.780  0.748  0.744  1.000 -0.308 -0.320 -0.303 -0.268\n",
       "E1 -0.309 -0.296 -0.294 -0.308  1.000  0.669  0.633  0.561\n",
       "E2 -0.321 -0.308 -0.306 -0.320  0.669  1.000  0.658  0.583\n",
       "E3 -0.304 -0.291 -0.290 -0.303  0.633  0.658  1.000  0.552\n",
       "E4 -0.269 -0.258 -0.257 -0.268  0.561  0.583  0.552  1.000"
      ]
     },
     "metadata": {},
     "output_type": "display_data"
    }
   ],
   "source": [
    "R_hat <- lambda %*% Phi %*% t(lambda) + Psi\n",
    "R_hat %>%\n",
    "    round(3)"
   ]
  },
  {
   "cell_type": "markdown",
   "id": "364efde7",
   "metadata": {},
   "source": [
    "Le correlazioni residue sono:"
   ]
  },
  {
   "cell_type": "code",
   "execution_count": 50,
   "id": "87c6e1a2",
   "metadata": {
    "vscode": {
     "languageId": "r"
    }
   },
   "outputs": [
    {
     "data": {
      "text/html": [
       "<table class=\"dataframe\">\n",
       "<caption>A lavaan.matrix.symmetric: 8 × 8 of type dbl</caption>\n",
       "<thead>\n",
       "\t<tr><th></th><th scope=col>N1</th><th scope=col>N2</th><th scope=col>N3</th><th scope=col>N4</th><th scope=col>E1</th><th scope=col>E2</th><th scope=col>E3</th><th scope=col>E4</th></tr>\n",
       "</thead>\n",
       "<tbody>\n",
       "\t<tr><th scope=row>N1</th><td> 0.000</td><td> 0.016</td><td>-0.015</td><td>-0.002</td><td>-0.042</td><td> 0.005</td><td> 0.008</td><td>-0.013</td></tr>\n",
       "\t<tr><th scope=row>N2</th><td> 0.016</td><td> 0.000</td><td>-0.007</td><td>-0.010</td><td>-0.006</td><td> 0.028</td><td> 0.002</td><td> 0.004</td></tr>\n",
       "\t<tr><th scope=row>N3</th><td>-0.015</td><td>-0.007</td><td> 0.000</td><td> 0.018</td><td>-0.062</td><td> 0.006</td><td>-0.007</td><td>-0.035</td></tr>\n",
       "\t<tr><th scope=row>N4</th><td>-0.002</td><td>-0.010</td><td> 0.018</td><td> 0.000</td><td>-0.010</td><td> 0.053</td><td> 0.007</td><td> 0.023</td></tr>\n",
       "\t<tr><th scope=row>E1</th><td>-0.042</td><td>-0.006</td><td>-0.062</td><td>-0.010</td><td> 0.000</td><td> 0.006</td><td> 0.001</td><td>-0.027</td></tr>\n",
       "\t<tr><th scope=row>E2</th><td> 0.005</td><td> 0.028</td><td> 0.006</td><td> 0.053</td><td> 0.006</td><td> 0.000</td><td>-0.007</td><td> 0.010</td></tr>\n",
       "\t<tr><th scope=row>E3</th><td> 0.008</td><td> 0.002</td><td>-0.007</td><td> 0.007</td><td> 0.001</td><td>-0.007</td><td> 0.000</td><td> 0.014</td></tr>\n",
       "\t<tr><th scope=row>E4</th><td>-0.013</td><td> 0.004</td><td>-0.035</td><td> 0.023</td><td>-0.027</td><td> 0.010</td><td> 0.014</td><td> 0.000</td></tr>\n",
       "</tbody>\n",
       "</table>\n"
      ],
      "text/latex": [
       "A lavaan.matrix.symmetric: 8 × 8 of type dbl\n",
       "\\begin{tabular}{r|llllllll}\n",
       "  & N1 & N2 & N3 & N4 & E1 & E2 & E3 & E4\\\\\n",
       "\\hline\n",
       "\tN1 &  0.000 &  0.016 & -0.015 & -0.002 & -0.042 &  0.005 &  0.008 & -0.013\\\\\n",
       "\tN2 &  0.016 &  0.000 & -0.007 & -0.010 & -0.006 &  0.028 &  0.002 &  0.004\\\\\n",
       "\tN3 & -0.015 & -0.007 &  0.000 &  0.018 & -0.062 &  0.006 & -0.007 & -0.035\\\\\n",
       "\tN4 & -0.002 & -0.010 &  0.018 &  0.000 & -0.010 &  0.053 &  0.007 &  0.023\\\\\n",
       "\tE1 & -0.042 & -0.006 & -0.062 & -0.010 &  0.000 &  0.006 &  0.001 & -0.027\\\\\n",
       "\tE2 &  0.005 &  0.028 &  0.006 &  0.053 &  0.006 &  0.000 & -0.007 &  0.010\\\\\n",
       "\tE3 &  0.008 &  0.002 & -0.007 &  0.007 &  0.001 & -0.007 &  0.000 &  0.014\\\\\n",
       "\tE4 & -0.013 &  0.004 & -0.035 &  0.023 & -0.027 &  0.010 &  0.014 &  0.000\\\\\n",
       "\\end{tabular}\n"
      ],
      "text/markdown": [
       "\n",
       "A lavaan.matrix.symmetric: 8 × 8 of type dbl\n",
       "\n",
       "| <!--/--> | N1 | N2 | N3 | N4 | E1 | E2 | E3 | E4 |\n",
       "|---|---|---|---|---|---|---|---|---|\n",
       "| N1 |  0.000 |  0.016 | -0.015 | -0.002 | -0.042 |  0.005 |  0.008 | -0.013 |\n",
       "| N2 |  0.016 |  0.000 | -0.007 | -0.010 | -0.006 |  0.028 |  0.002 |  0.004 |\n",
       "| N3 | -0.015 | -0.007 |  0.000 |  0.018 | -0.062 |  0.006 | -0.007 | -0.035 |\n",
       "| N4 | -0.002 | -0.010 |  0.018 |  0.000 | -0.010 |  0.053 |  0.007 |  0.023 |\n",
       "| E1 | -0.042 | -0.006 | -0.062 | -0.010 |  0.000 |  0.006 |  0.001 | -0.027 |\n",
       "| E2 |  0.005 |  0.028 |  0.006 |  0.053 |  0.006 |  0.000 | -0.007 |  0.010 |\n",
       "| E3 |  0.008 |  0.002 | -0.007 |  0.007 |  0.001 | -0.007 |  0.000 |  0.014 |\n",
       "| E4 | -0.013 |  0.004 | -0.035 |  0.023 | -0.027 |  0.010 |  0.014 |  0.000 |\n",
       "\n"
      ],
      "text/plain": [
       "   N1     N2     N3     N4     E1     E2     E3     E4    \n",
       "N1  0.000  0.016 -0.015 -0.002 -0.042  0.005  0.008 -0.013\n",
       "N2  0.016  0.000 -0.007 -0.010 -0.006  0.028  0.002  0.004\n",
       "N3 -0.015 -0.007  0.000  0.018 -0.062  0.006 -0.007 -0.035\n",
       "N4 -0.002 -0.010  0.018  0.000 -0.010  0.053  0.007  0.023\n",
       "E1 -0.042 -0.006 -0.062 -0.010  0.000  0.006  0.001 -0.027\n",
       "E2  0.005  0.028  0.006  0.053  0.006  0.000 -0.007  0.010\n",
       "E3  0.008  0.002 -0.007  0.007  0.001 -0.007  0.000  0.014\n",
       "E4 -0.013  0.004 -0.035  0.023 -0.027  0.010  0.014  0.000"
      ]
     },
     "metadata": {},
     "output_type": "display_data"
    }
   ],
   "source": [
    "(psychot_cor_mat - R_hat) %>%\n",
    "    round(3)"
   ]
  },
  {
   "cell_type": "markdown",
   "id": "f331f23f",
   "metadata": {},
   "source": [
    "Calcoliamo la correlazione predetta dal modello tra le variabili $Y_1$ e $Y_2$:"
   ]
  },
  {
   "cell_type": "code",
   "execution_count": 51,
   "id": "b206fbc7",
   "metadata": {
    "vscode": {
     "languageId": "r"
    }
   },
   "outputs": [
    {
     "data": {
      "text/html": [
       "0.750782309575684"
      ],
      "text/latex": [
       "0.750782309575684"
      ],
      "text/markdown": [
       "0.750782309575684"
      ],
      "text/plain": [
       "[1] 0.7507823"
      ]
     },
     "metadata": {},
     "output_type": "display_data"
    }
   ],
   "source": [
    "lambda[1, 1] * lambda[2, 1] + lambda[1, 2] * lambda[2, 2] +\n",
    "    lambda[1, 1] * lambda[2, 2] * Phi[1, 2] +\n",
    "    lambda[1, 2] * lambda[2, 1] * Phi[1, 2]"
   ]
  },
  {
   "cell_type": "markdown",
   "id": "ec31abd7",
   "metadata": {},
   "source": [
    "Questo risultato è molto simile al valore contenuto dell'elemento (1, 2) della\n",
    "matrice di correlazioni osservate:"
   ]
  },
  {
   "cell_type": "code",
   "execution_count": 52,
   "id": "a54db3ab",
   "metadata": {
    "vscode": {
     "languageId": "r"
    }
   },
   "outputs": [
    {
     "data": {
      "text/html": [
       "0.767"
      ],
      "text/latex": [
       "0.767"
      ],
      "text/markdown": [
       "0.767"
      ],
      "text/plain": [
       "[1] 0.767"
      ]
     },
     "metadata": {},
     "output_type": "display_data"
    }
   ],
   "source": [
    "psychot_cor_mat[1, 2]"
   ]
  },
  {
   "cell_type": "markdown",
   "id": "f0a84f01",
   "metadata": {},
   "source": [
    "Usando le funzonalità di `lavaan` la matrice di correlazione predetta si ottiene con:"
   ]
  },
  {
   "cell_type": "code",
   "execution_count": 53,
   "id": "e4d0e8c5",
   "metadata": {
    "vscode": {
     "languageId": "r"
    }
   },
   "outputs": [
    {
     "name": "stdout",
     "output_type": "stream",
     "text": [
      "       N1     N2     N3     N4     E1     E2     E3     E4\n",
      "N1  0.996                                                 \n",
      "N2  0.748  0.996                                          \n",
      "N3  0.743  0.713  0.996                                   \n",
      "N4  0.777  0.745  0.741  0.996                            \n",
      "E1 -0.307 -0.295 -0.293 -0.306  0.996                     \n",
      "E2 -0.320 -0.306 -0.305 -0.319  0.666  0.996              \n",
      "E3 -0.303 -0.290 -0.289 -0.302  0.630  0.656  0.996       \n",
      "E4 -0.268 -0.257 -0.255 -0.267  0.558  0.580  0.550  0.996\n"
     ]
    }
   ],
   "source": [
    "fitted(fit2_cfa)$cov |>\n",
    "    print()"
   ]
  },
  {
   "cell_type": "markdown",
   "id": "7aabcfb7",
   "metadata": {},
   "source": [
    "La matrice dei residui è"
   ]
  },
  {
   "cell_type": "code",
   "execution_count": 54,
   "id": "3edeb0e8",
   "metadata": {
    "vscode": {
     "languageId": "r"
    }
   },
   "outputs": [
    {
     "name": "stdout",
     "output_type": "stream",
     "text": [
      "       N1     N2     N3     N4     E1     E2     E3     E4\n",
      "N1  0.000                                                 \n",
      "N2  0.016  0.000                                          \n",
      "N3 -0.015 -0.007  0.000                                   \n",
      "N4 -0.002 -0.010  0.018  0.000                            \n",
      "E1 -0.042 -0.006 -0.062 -0.010  0.000                     \n",
      "E2  0.005  0.028  0.006  0.053  0.006  0.000              \n",
      "E3  0.008  0.002 -0.007  0.007  0.001 -0.007  0.000       \n",
      "E4 -0.013  0.004 -0.035  0.023 -0.026  0.010  0.014  0.000\n"
     ]
    }
   ],
   "source": [
    "resid(fit2_cfa)$cov |>\n",
    "    print()"
   ]
  },
  {
   "cell_type": "markdown",
   "id": "7553eed8",
   "metadata": {},
   "source": [
    "La matrice dei residui standardizzati è"
   ]
  },
  {
   "cell_type": "code",
   "execution_count": 55,
   "id": "682ca8d8",
   "metadata": {
    "vscode": {
     "languageId": "r"
    }
   },
   "outputs": [
    {
     "name": "stdout",
     "output_type": "stream",
     "text": [
      "       N1     N2     N3     N4     E1     E2     E3     E4\n",
      "N1  0.000                                                 \n",
      "N2  1.674  0.000                                          \n",
      "N3 -1.769 -0.569  0.000                                   \n",
      "N4 -0.350 -1.152  1.746  0.000                            \n",
      "E1 -1.214 -0.161 -1.646 -0.294  0.000                     \n",
      "E2  0.154  0.794  0.168  1.626  0.637  0.000              \n",
      "E3  0.219  0.062 -0.191  0.193  0.075 -0.693  0.000       \n",
      "E4 -0.314  0.092 -0.824  0.552 -1.481  0.624  0.690  0.000\n"
     ]
    }
   ],
   "source": [
    "resid(fit2_cfa, type = \"standardized\")$cov |>\n",
    "    print()"
   ]
  },
  {
   "cell_type": "markdown",
   "id": "dee0c2c5",
   "metadata": {},
   "source": [
    "I valori precedenti possono essere considerati come punti *z*, dove i valori con un valore assoluto maggiore di 2 possono essere ritenuti problematici. Tuttavia, è importante considerare che in questo modo si stanno eseguendo molteplici confronti, pertanto, si dovrebbe considerare l'opportunità di applicare una qualche forma di correzione per i confronti multipli."
   ]
  },
  {
   "cell_type": "markdown",
   "id": "f29c5a9b",
   "metadata": {},
   "source": [
    "## EFA con `lavaan`\n",
    "\n",
    "Una funzionalità sperimentale di `lavaan` (ancora non ufficiale) è quella che consente di svolgere l'analisi fattoriale esplorativa con la funzione `efa()`. Consideriamo nuovamente i dati di @brown2015confirmatory, ovvero otto misure di personalità raccolte su un campione di 250 pazienti che hanno concluso un programma di psicoterapia.\n",
    "\n",
    "Definiamo un modello ad un solo fattore comune."
   ]
  },
  {
   "cell_type": "code",
   "execution_count": 56,
   "id": "3d21f528",
   "metadata": {
    "vscode": {
     "languageId": "r"
    }
   },
   "outputs": [],
   "source": [
    "# 1-factor model\n",
    "f1 <- '\n",
    "efa(\"efa\")*f1 =~ N1 + N2 + N3 + N4 + E1 + E2 + E3 + E4\n",
    "'"
   ]
  },
  {
   "cell_type": "markdown",
   "id": "008dd260",
   "metadata": {},
   "source": [
    "Definiamo un modello con due fattori comuni."
   ]
  },
  {
   "cell_type": "code",
   "execution_count": 57,
   "id": "8c58573b",
   "metadata": {
    "vscode": {
     "languageId": "r"
    }
   },
   "outputs": [],
   "source": [
    "# 2-factor model\n",
    "f2 <- '\n",
    "efa(\"efa\")*f1 +\n",
    "efa(\"efa\")*f2 =~ N1 + N2 + N3 + N4 + E1 + E2 + E3 + E4\n",
    "'"
   ]
  },
  {
   "cell_type": "markdown",
   "id": "2d84acb4",
   "metadata": {},
   "source": [
    "Adattiamo ai dati il modello ad un fattore comune."
   ]
  },
  {
   "cell_type": "code",
   "execution_count": 58,
   "id": "9de1975b",
   "metadata": {
    "vscode": {
     "languageId": "r"
    }
   },
   "outputs": [],
   "source": [
    "efa_f1 <-\n",
    "    cfa(\n",
    "        model = f1,\n",
    "        sample.cov = psychot_cor_mat,\n",
    "        sample.nobs = 250,\n",
    "        rotation = \"oblimin\"\n",
    "    )"
   ]
  },
  {
   "cell_type": "markdown",
   "id": "0183f47c",
   "metadata": {},
   "source": [
    "Esaminiamo la soluzione ottenuta."
   ]
  },
  {
   "cell_type": "code",
   "execution_count": 59,
   "id": "05e79446",
   "metadata": {
    "vscode": {
     "languageId": "r"
    }
   },
   "outputs": [
    {
     "name": "stdout",
     "output_type": "stream",
     "text": [
      "lavaan 0.6.17 ended normally after 2 iterations\n",
      "\n",
      "  Estimator                                         ML\n",
      "  Optimization method                           NLMINB\n",
      "  Number of model parameters                        16\n",
      "\n",
      "  Rotation method                      OBLIMIN OBLIQUE\n",
      "  Oblimin gamma                                      0\n",
      "  Rotation algorithm (rstarts)                GPA (30)\n",
      "  Standardized metric                             TRUE\n",
      "  Row weights                                     None\n",
      "\n",
      "  Number of observations                           250\n",
      "\n",
      "Model Test User Model:\n",
      "                                                      \n",
      "  Test statistic                               375.327\n",
      "  Degrees of freedom                                20\n",
      "  P-value (Chi-square)                           0.000\n",
      "\n",
      "Model Test Baseline Model:\n",
      "\n",
      "  Test statistic                              1253.791\n",
      "  Degrees of freedom                                28\n",
      "  P-value                                        0.000\n",
      "\n",
      "User Model versus Baseline Model:\n",
      "\n",
      "  Comparative Fit Index (CFI)                    0.710\n",
      "  Tucker-Lewis Index (TLI)                       0.594\n",
      "\n",
      "Loglikelihood and Information Criteria:\n",
      "\n",
      "  Loglikelihood user model (H0)              -2394.637\n",
      "  Loglikelihood unrestricted model (H1)      -2206.974\n",
      "                                                      \n",
      "  Akaike (AIC)                                4821.275\n",
      "  Bayesian (BIC)                              4877.618\n",
      "  Sample-size adjusted Bayesian (SABIC)       4826.897\n",
      "\n",
      "Root Mean Square Error of Approximation:\n",
      "\n",
      "  RMSEA                                          0.267\n",
      "  90 Percent confidence interval - lower         0.243\n",
      "  90 Percent confidence interval - upper         0.291\n",
      "  P-value H_0: RMSEA <= 0.050                    0.000\n",
      "  P-value H_0: RMSEA >= 0.080                    1.000\n",
      "\n",
      "Standardized Root Mean Square Residual:\n",
      "\n",
      "  SRMR                                           0.187\n",
      "\n",
      "Parameter Estimates:\n",
      "\n",
      "  Standard errors                             Standard\n",
      "  Information                                 Expected\n",
      "  Information saturated (h1) model          Structured\n",
      "\n",
      "Latent Variables:\n",
      "                   Estimate  Std.Err  z-value  P(>|z|)   Std.lv  Std.all\n",
      "  f1 =~ efa                                                             \n",
      "    N1                0.879    0.051   17.333    0.000    0.879    0.880\n",
      "    N2                0.841    0.052   16.154    0.000    0.841    0.842\n",
      "    N3                0.841    0.052   16.175    0.000    0.841    0.843\n",
      "    N4                0.870    0.051   17.065    0.000    0.870    0.872\n",
      "    E1               -0.438    0.062   -7.041    0.000   -0.438   -0.439\n",
      "    E2               -0.398    0.063   -6.327    0.000   -0.398   -0.398\n",
      "    E3               -0.398    0.063   -6.342    0.000   -0.398   -0.399\n",
      "    E4               -0.364    0.063   -5.746    0.000   -0.364   -0.364\n",
      "\n",
      "Variances:\n",
      "                   Estimate  Std.Err  z-value  P(>|z|)   Std.lv  Std.all\n",
      "   .N1                0.224    0.028    7.915    0.000    0.224    0.225\n",
      "   .N2                0.289    0.033    8.880    0.000    0.289    0.290\n",
      "   .N3                0.288    0.032    8.866    0.000    0.288    0.289\n",
      "   .N4                0.239    0.029    8.174    0.000    0.239    0.240\n",
      "   .E1                0.804    0.073   10.963    0.000    0.804    0.807\n",
      "   .E2                0.838    0.076   11.008    0.000    0.838    0.841\n",
      "   .E3                0.837    0.076   11.007    0.000    0.837    0.841\n",
      "   .E4                0.864    0.078   11.041    0.000    0.864    0.867\n",
      "    f1                1.000                               1.000    1.000\n",
      "\n",
      "R-Square:\n",
      "                   Estimate\n",
      "    N1                0.775\n",
      "    N2                0.710\n",
      "    N3                0.711\n",
      "    N4                0.760\n",
      "    E1                0.193\n",
      "    E2                0.159\n",
      "    E3                0.159\n",
      "    E4                0.133\n",
      "\n"
     ]
    }
   ],
   "source": [
    "summary(\n",
    "    efa_f1,\n",
    "    fit.measures = TRUE,\n",
    "    standardized = TRUE,\n",
    "    rsquare = TRUE\n",
    ") |>\n",
    "    print()"
   ]
  },
  {
   "cell_type": "markdown",
   "id": "3153b2e0",
   "metadata": {},
   "source": [
    "Adattiamo ai dati il modello a due fattori comuni."
   ]
  },
  {
   "cell_type": "code",
   "execution_count": 60,
   "id": "0dc1f372",
   "metadata": {
    "vscode": {
     "languageId": "r"
    }
   },
   "outputs": [],
   "source": [
    "efa_f2 <-\n",
    "    cfa(\n",
    "        model = f2,\n",
    "        sample.cov = psychot_cor_mat,\n",
    "        sample.nobs = 250,\n",
    "        rotation = \"oblimin\"\n",
    "    )"
   ]
  },
  {
   "cell_type": "markdown",
   "id": "a24dcaa1",
   "metadata": {},
   "source": [
    "Esaminiamo la soluzione ottenuta."
   ]
  },
  {
   "cell_type": "code",
   "execution_count": 61,
   "id": "34de2cf5",
   "metadata": {
    "vscode": {
     "languageId": "r"
    }
   },
   "outputs": [
    {
     "name": "stdout",
     "output_type": "stream",
     "text": [
      "lavaan 0.6.17 ended normally after 1 iteration\n",
      "\n",
      "  Estimator                                         ML\n",
      "  Optimization method                           NLMINB\n",
      "  Number of model parameters                        23\n",
      "\n",
      "  Rotation method                      OBLIMIN OBLIQUE\n",
      "  Oblimin gamma                                      0\n",
      "  Rotation algorithm (rstarts)                GPA (30)\n",
      "  Standardized metric                             TRUE\n",
      "  Row weights                                     None\n",
      "\n",
      "  Number of observations                           250\n",
      "\n",
      "Model Test User Model:\n",
      "                                                      \n",
      "  Test statistic                                 9.811\n",
      "  Degrees of freedom                                13\n",
      "  P-value (Chi-square)                           0.709\n",
      "\n",
      "Model Test Baseline Model:\n",
      "\n",
      "  Test statistic                              1253.791\n",
      "  Degrees of freedom                                28\n",
      "  P-value                                        0.000\n",
      "\n",
      "User Model versus Baseline Model:\n",
      "\n",
      "  Comparative Fit Index (CFI)                    1.000\n",
      "  Tucker-Lewis Index (TLI)                       1.006\n",
      "\n",
      "Loglikelihood and Information Criteria:\n",
      "\n",
      "  Loglikelihood user model (H0)              -2211.879\n",
      "  Loglikelihood unrestricted model (H1)      -2206.974\n",
      "                                                      \n",
      "  Akaike (AIC)                                4469.758\n",
      "  Bayesian (BIC)                              4550.752\n",
      "  Sample-size adjusted Bayesian (SABIC)       4477.840\n",
      "\n",
      "Root Mean Square Error of Approximation:\n",
      "\n",
      "  RMSEA                                          0.000\n",
      "  90 Percent confidence interval - lower         0.000\n",
      "  90 Percent confidence interval - upper         0.048\n",
      "  P-value H_0: RMSEA <= 0.050                    0.957\n",
      "  P-value H_0: RMSEA >= 0.080                    0.001\n",
      "\n",
      "Standardized Root Mean Square Residual:\n",
      "\n",
      "  SRMR                                           0.010\n",
      "\n",
      "Parameter Estimates:\n",
      "\n",
      "  Standard errors                             Standard\n",
      "  Information                                 Expected\n",
      "  Information saturated (h1) model          Structured\n",
      "\n",
      "Latent Variables:\n",
      "                   Estimate  Std.Err  z-value  P(>|z|)   Std.lv  Std.all\n",
      "  f1 =~ efa                                                             \n",
      "    N1                0.874    0.053   16.592    0.000    0.874    0.876\n",
      "    N2                0.851    0.055   15.551    0.000    0.851    0.853\n",
      "    N3                0.826    0.054   15.179    0.000    0.826    0.828\n",
      "    N4                0.896    0.053   16.802    0.000    0.896    0.898\n",
      "    E1               -0.046    0.040   -1.138    0.255   -0.046   -0.046\n",
      "    E2                0.035    0.034    1.030    0.303    0.035    0.035\n",
      "    E3                0.000    0.040    0.010    0.992    0.000    0.000\n",
      "    E4               -0.006    0.049   -0.131    0.896   -0.006   -0.006\n",
      "  f2 =~ efa                                                             \n",
      "    N1               -0.017    0.032   -0.539    0.590   -0.017   -0.017\n",
      "    N2                0.011    0.035    0.322    0.748    0.011    0.011\n",
      "    N3               -0.035    0.036   -0.949    0.343   -0.035   -0.035\n",
      "    N4                0.031    0.031    0.994    0.320    0.031    0.031\n",
      "    E1                0.776    0.059   13.125    0.000    0.776    0.778\n",
      "    E2                0.854    0.058   14.677    0.000    0.854    0.855\n",
      "    E3                0.785    0.060   13.106    0.000    0.785    0.787\n",
      "    E4                0.695    0.063   10.955    0.000    0.695    0.697\n",
      "\n",
      "Covariances:\n",
      "                   Estimate  Std.Err  z-value  P(>|z|)   Std.lv  Std.all\n",
      "  f1 ~~                                                                 \n",
      "    f2               -0.432    0.059   -7.345    0.000   -0.432   -0.432\n",
      "\n",
      "Variances:\n",
      "                   Estimate  Std.Err  z-value  P(>|z|)   Std.lv  Std.all\n",
      "   .N1                0.218    0.028    7.790    0.000    0.218    0.219\n",
      "   .N2                0.279    0.032    8.693    0.000    0.279    0.280\n",
      "   .N3                0.287    0.032    8.907    0.000    0.287    0.289\n",
      "   .N4                0.216    0.029    7.578    0.000    0.216    0.217\n",
      "   .E1                0.361    0.044    8.226    0.000    0.361    0.362\n",
      "   .E2                0.292    0.043    6.787    0.000    0.292    0.293\n",
      "   .E3                0.379    0.046    8.315    0.000    0.379    0.381\n",
      "   .E4                0.509    0.053    9.554    0.000    0.509    0.511\n",
      "    f1                1.000                               1.000    1.000\n",
      "    f2                1.000                               1.000    1.000\n",
      "\n",
      "R-Square:\n",
      "                   Estimate\n",
      "    N1                0.781\n",
      "    N2                0.720\n",
      "    N3                0.711\n",
      "    N4                0.783\n",
      "    E1                0.638\n",
      "    E2                0.707\n",
      "    E3                0.619\n",
      "    E4                0.489\n",
      "\n"
     ]
    }
   ],
   "source": [
    "summary(\n",
    "    efa_f2,\n",
    "    fit.measures = TRUE,\n",
    "    standardized = TRUE,\n",
    "    rsquare = TRUE\n",
    ") |>\n",
    "    print()"
   ]
  },
  {
   "cell_type": "markdown",
   "id": "fb46ec11",
   "metadata": {},
   "source": [
    "Anche se abbiamo introdotto finora soltanto la misura di bontà di adattamento del chi-quadrato, aggiungiamo qui il calcolo di altre misure di bontà di adattamento che discuteremo in seguito."
   ]
  },
  {
   "cell_type": "code",
   "execution_count": 62,
   "id": "02899a9d",
   "metadata": {
    "vscode": {
     "languageId": "r"
    }
   },
   "outputs": [],
   "source": [
    "fit_measures_robust <- c(\n",
    "    \"chisq\", \"df\", \"pvalue\", \"cfi\", \"rmsea\", \"srmr\"\n",
    ")"
   ]
  },
  {
   "cell_type": "markdown",
   "id": "495ffd63",
   "metadata": {},
   "source": [
    "Confrontiamo le misure di bontà di adattamento del modello che ipotizza un solo fattore comune e il modello che ipotizza la presenza di due fattori comuni."
   ]
  },
  {
   "cell_type": "code",
   "execution_count": 63,
   "id": "f13143d7",
   "metadata": {
    "vscode": {
     "languageId": "r"
    }
   },
   "outputs": [
    {
     "data": {
      "text/html": [
       "<table class=\"dataframe\">\n",
       "<caption>A data.frame: 2 × 6</caption>\n",
       "<thead>\n",
       "\t<tr><th scope=col>chisq</th><th scope=col>df</th><th scope=col>pvalue</th><th scope=col>cfi</th><th scope=col>rmsea</th><th scope=col>srmr</th></tr>\n",
       "\t<tr><th scope=col>&lt;dbl&gt;</th><th scope=col>&lt;int&gt;</th><th scope=col>&lt;chr&gt;</th><th scope=col>&lt;dbl&gt;</th><th scope=col>&lt;dbl&gt;</th><th scope=col>&lt;dbl&gt;</th></tr>\n",
       "</thead>\n",
       "<tbody>\n",
       "\t<tr><td>375</td><td>20</td><td><span style=white-space:pre-wrap>&lt; .001           </span></td><td>0.71</td><td>0.267</td><td>0.187</td></tr>\n",
       "\t<tr><td> 10</td><td>13</td><td>0.709310449320098</td><td>1.00</td><td>0.000</td><td>0.010</td></tr>\n",
       "</tbody>\n",
       "</table>\n"
      ],
      "text/latex": [
       "A data.frame: 2 × 6\n",
       "\\begin{tabular}{llllll}\n",
       " chisq & df & pvalue & cfi & rmsea & srmr\\\\\n",
       " <dbl> & <int> & <chr> & <dbl> & <dbl> & <dbl>\\\\\n",
       "\\hline\n",
       "\t 375 & 20 & < .001            & 0.71 & 0.267 & 0.187\\\\\n",
       "\t  10 & 13 & 0.709310449320098 & 1.00 & 0.000 & 0.010\\\\\n",
       "\\end{tabular}\n"
      ],
      "text/markdown": [
       "\n",
       "A data.frame: 2 × 6\n",
       "\n",
       "| chisq &lt;dbl&gt; | df &lt;int&gt; | pvalue &lt;chr&gt; | cfi &lt;dbl&gt; | rmsea &lt;dbl&gt; | srmr &lt;dbl&gt; |\n",
       "|---|---|---|---|---|---|\n",
       "| 375 | 20 | &lt; .001            | 0.71 | 0.267 | 0.187 |\n",
       "|  10 | 13 | 0.709310449320098 | 1.00 | 0.000 | 0.010 |\n",
       "\n"
      ],
      "text/plain": [
       "  chisq df pvalue            cfi  rmsea srmr \n",
       "1 375   20 < .001            0.71 0.267 0.187\n",
       "2  10   13 0.709310449320098 1.00 0.000 0.010"
      ]
     },
     "metadata": {},
     "output_type": "display_data"
    }
   ],
   "source": [
    "# collect them for each model\n",
    "rbind(\n",
    "    fitmeasures(efa_f1, fit_measures_robust),\n",
    "    fitmeasures(efa_f2, fit_measures_robust)\n",
    ") %>%\n",
    "    # wrangle\n",
    "    data.frame() %>%\n",
    "    mutate(\n",
    "        chisq = round(chisq, digits = 0),\n",
    "        df = as.integer(df),\n",
    "        pvalue = ifelse(pvalue == 0, \"< .001\", pvalue)\n",
    "    ) %>%\n",
    "    mutate_at(vars(cfi:srmr), ~ round(., digits = 3))"
   ]
  },
  {
   "cell_type": "markdown",
   "id": "df069331",
   "metadata": {},
   "source": [
    "L'evidenza empirica supporta la superiorità del modello a due fattori rispetto a quello ad un solo fattore comune. In particolare, l'analisi fattoriale esplorativa svolta mediante la funzione `efa()` evidenzia la capacità del modello a due fattori di fornire una descrizione adeguata della struttura dei dati e di distinguere in modo sensato tra i due fattori ipotizzati."
   ]
  },
  {
   "cell_type": "markdown",
   "id": "de4a84b2",
   "metadata": {},
   "source": [
    "## Considerazioni Finali\n",
    "\n",
    "La CFA è una tecnica fondamentale nell'ambito della ricerca psicologica e sociale, essenziale per esaminare modelli di misurazione riflessiva in cui i fattori comuni fungono da proxy per variabili teoriche. Questa tecnica si basa su un approccio predeterminato, richiedendo al ricercatore di specificare a priori il numero di fattori, la corrispondenza tra fattori e indicatori, e gli eventuali schemi di covarianza degli errori. Nei modelli CFA di base, gli indicatori continui dipendono da un singolo fattore e presentano errori indipendenti, configurando una misurazione unidimensionale. La valutazione di tali modelli con molteplici fattori consente di testare le ipotesi di validità convergente e discriminante.\n",
    "\n",
    "È anche possibile esaminare modelli CFA con covarianze di errore o indicatori che saturano su più di un fattore. Tuttavia, confrontarsi con tali modelli risulta più complesso, specialmente nella determinazione della loro identificazione, rispetto ai modelli di base. Problemi tecnici come la non convergenza o soluzioni inammissibili sono più frequenti in campioni ridotti, in particolare quando alcuni fattori sono definiti da soli due indicatori. La rielaborazione del modello può essere impegnativa, data la vasta gamma di possibili modifiche applicabili a un modello CFA specifico.\n",
    "\n",
    "Un'ulteriore problematica riguarda i modelli CFA equivalenti, che possono portare a risultati simili nonostante strutture diverse. Per affrontare efficacemente queste sfide, è fondamentale basarsi più su conoscenze sostanziali che su considerazioni statistiche. L'analisi dovrebbe essere guidata da una solida comprensione del dominio di studio. In definitiva, mentre la CFA offre strumenti potenti per l'indagine dei costrutti teorici, la sua efficacia dipende fortemente dal contesto teorico e dalla competenza metodologica del ricercatore."
   ]
  },
  {
   "cell_type": "markdown",
   "id": "a9d3be0d",
   "metadata": {},
   "source": [
    "## Esercizi \n",
    "\n",
    "**E1.** Si utilizzino i dati `dass21.txt` che corrispondono alla somministrazione del test DASS-21 a 334 partecipanti. Lo schema di codifica si può trovare seguendo questo [link](https://maic.qld.gov.au/wp-content/uploads/2016/07/DASS-21.pdf). Si adatti ai dati un modello a tre fattori usando l'analisi fattoriale esplorativa con la funzione `lavaan::efa()`. Usando le saturazioni fattoriali e la matrice di inter-correlazioni fattoriali, si trovi la matrice di correlazioni riprodotta dal modello. Senza usare l'albebra matriciale, si trovi la correlazione predetta tra gli indicatori DASS-1 e DASS-2."
   ]
  }
 ],
 "metadata": {
  "jupytext": {
   "cell_metadata_filter": "tags,eval,-all",
   "main_language": "R",
   "notebook_metadata_filter": "-all"
  },
  "kernelspec": {
   "display_name": "R",
   "language": "R",
   "name": "ir"
  },
  "language_info": {
   "codemirror_mode": "r",
   "file_extension": ".r",
   "mimetype": "text/x-r-source",
   "name": "R",
   "pygments_lexer": "r",
   "version": "4.3.2"
  }
 },
 "nbformat": 4,
 "nbformat_minor": 5
}