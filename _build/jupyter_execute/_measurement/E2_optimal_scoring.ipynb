{
 "cells": [
  {
   "cell_type": "markdown",
   "metadata": {},
   "source": [
    "(ex-optimal-scaling-notebook)=\n",
    "# ✏️ Esercizi "
   ]
  },
  {
   "cell_type": "markdown",
   "metadata": {},
   "source": [
    "## Ottimizzazione dello scoring dei dati di questionari ordinali\n",
    "\n",
    "Precedentemente, nell'Esercizio sulla scala Likert, abbiamo effettuato lo scoring del questionario *Strengths and Difficulties Questionnaire* (SDQ) utilizzando l'approccio chiamato \"Likert scaling\", in cui le categorie di risposta \"non vero\", \"un po' vero\" e \"certamente vero\" sono state assegnate ai numeri interi consecutivi 0-1-2. Oltre a riflettere il presunto grado crescente di accordo in queste opzioni di risposta, l'assegnazione dei numeri interi era arbitraria, poiché non c'era una particolare ragione per cui abbiamo assegnato 0-1-2 anziché, ad esempio, 1-2-3. Un tale modo arbitrario di valutare le risposte degli item è chiamato anche \"measurement by fiat\". In questo tutorial, cercheremo di trovare punteggi \"ottimali\" per le risposte ordinate al SDQ. \"Ottimale\" significa che i punteggi che assegniamo alle risposte non sono solo dei punteggi qualsiasi, ma sono i \"migliori\" tra tutti gli altri possibili punteggi in base a qualche criterio statistico.\n",
    "\n",
    "Esistono molti modi per \"ottimizzare\" i punteggi degli item; qui, massimizzeremo il rapporto tra la varianza del punteggio totale e la somma delle varianze dei punteggi degli item. In psicometria, il soddisfacimento di questo criterio porta alla massimizzazione della somma delle correlazioni degli item (e quindi della \"coerenza interna\" del punteggio del test misurata dall'alpha di Cronbach)."
   ]
  },
  {
   "cell_type": "code",
   "execution_count": 1,
   "metadata": {
    "vscode": {
     "languageId": "r"
    }
   },
   "outputs": [],
   "source": [
    "source(\"../_common.R\")\n",
    "library(\"aspect\")"
   ]
  },
  {
   "cell_type": "markdown",
   "metadata": {},
   "source": [
    "Importiamo nuovamente i dati del *Strengths and Difficulties Questionnaire* (SDQ)."
   ]
  },
  {
   "cell_type": "code",
   "execution_count": 2,
   "metadata": {
    "vscode": {
     "languageId": "r"
    }
   },
   "outputs": [],
   "source": [
    "load(\"../data/data_sdq/SDQ.RData\")"
   ]
  },
  {
   "cell_type": "markdown",
   "metadata": {},
   "source": [
    "Per analizzare solo gli item che misurano i Sintomi Emotivi, è conveniente creare un nuovo data frame."
   ]
  },
  {
   "cell_type": "code",
   "execution_count": 3,
   "metadata": {
    "vscode": {
     "languageId": "r"
    }
   },
   "outputs": [
    {
     "data": {
      "text/html": [
       "<table class=\"dataframe\">\n",
       "<caption>A tibble: 6 × 5</caption>\n",
       "<thead>\n",
       "\t<tr><th scope=col>somatic</th><th scope=col>worries</th><th scope=col>unhappy</th><th scope=col>clingy</th><th scope=col>afraid</th></tr>\n",
       "\t<tr><th scope=col>&lt;dbl&gt;</th><th scope=col>&lt;dbl&gt;</th><th scope=col>&lt;dbl&gt;</th><th scope=col>&lt;dbl&gt;</th><th scope=col>&lt;dbl&gt;</th></tr>\n",
       "</thead>\n",
       "<tbody>\n",
       "\t<tr><td>2</td><td>1</td><td>0</td><td>1</td><td>0</td></tr>\n",
       "\t<tr><td>2</td><td>0</td><td>0</td><td>1</td><td>0</td></tr>\n",
       "\t<tr><td>0</td><td>0</td><td>0</td><td>0</td><td>1</td></tr>\n",
       "\t<tr><td>0</td><td>0</td><td>0</td><td>1</td><td>1</td></tr>\n",
       "\t<tr><td>2</td><td>1</td><td>0</td><td>1</td><td>0</td></tr>\n",
       "\t<tr><td>1</td><td>0</td><td>0</td><td>1</td><td>0</td></tr>\n",
       "</tbody>\n",
       "</table>\n"
      ],
      "text/latex": [
       "A tibble: 6 × 5\n",
       "\\begin{tabular}{lllll}\n",
       " somatic & worries & unhappy & clingy & afraid\\\\\n",
       " <dbl> & <dbl> & <dbl> & <dbl> & <dbl>\\\\\n",
       "\\hline\n",
       "\t 2 & 1 & 0 & 1 & 0\\\\\n",
       "\t 2 & 0 & 0 & 1 & 0\\\\\n",
       "\t 0 & 0 & 0 & 0 & 1\\\\\n",
       "\t 0 & 0 & 0 & 1 & 1\\\\\n",
       "\t 2 & 1 & 0 & 1 & 0\\\\\n",
       "\t 1 & 0 & 0 & 1 & 0\\\\\n",
       "\\end{tabular}\n"
      ],
      "text/markdown": [
       "\n",
       "A tibble: 6 × 5\n",
       "\n",
       "| somatic &lt;dbl&gt; | worries &lt;dbl&gt; | unhappy &lt;dbl&gt; | clingy &lt;dbl&gt; | afraid &lt;dbl&gt; |\n",
       "|---|---|---|---|---|\n",
       "| 2 | 1 | 0 | 1 | 0 |\n",
       "| 2 | 0 | 0 | 1 | 0 |\n",
       "| 0 | 0 | 0 | 0 | 1 |\n",
       "| 0 | 0 | 0 | 1 | 1 |\n",
       "| 2 | 1 | 0 | 1 | 0 |\n",
       "| 1 | 0 | 0 | 1 | 0 |\n",
       "\n"
      ],
      "text/plain": [
       "  somatic worries unhappy clingy afraid\n",
       "1 2       1       0       1      0     \n",
       "2 2       0       0       1      0     \n",
       "3 0       0       0       0      1     \n",
       "4 0       0       0       1      1     \n",
       "5 2       1       0       1      0     \n",
       "6 1       0       0       1      0     "
      ]
     },
     "metadata": {},
     "output_type": "display_data"
    }
   ],
   "source": [
    "items_emotion <- c(\"somatic\", \"worries\", \"unhappy\", \"clingy\", \"afraid\")\n",
    "sdq_emo <- SDQ[, items_emotion]\n",
    "sdq_emo |>\n",
    "    head()"
   ]
  },
  {
   "cell_type": "markdown",
   "metadata": {},
   "source": [
    "Affrontiamo il problema dei dati mancanti come discusso in precedenza."
   ]
  },
  {
   "cell_type": "code",
   "execution_count": 4,
   "metadata": {
    "vscode": {
     "languageId": "r"
    }
   },
   "outputs": [],
   "source": [
    "sdq_emo <- sdq_emo %>%\n",
    "    mutate_at(vars(somatic:afraid), ~ ifelse(is.na(.), mean(., na.rm = TRUE), .))"
   ]
  },
  {
   "cell_type": "markdown",
   "metadata": {},
   "source": [
    "Eliminiamo i valori decimali."
   ]
  },
  {
   "cell_type": "code",
   "execution_count": 5,
   "metadata": {
    "vscode": {
     "languageId": "r"
    }
   },
   "outputs": [],
   "source": [
    "sdq_emo <- round(sdq_emo)"
   ]
  },
  {
   "cell_type": "code",
   "execution_count": 6,
   "metadata": {
    "vscode": {
     "languageId": "r"
    }
   },
   "outputs": [
    {
     "name": "stdout",
     "output_type": "stream",
     "text": [
      "[[1]]\n",
      "[1] 0 1 2\n",
      "\n",
      "[[2]]\n",
      "[1] 0 1 2\n",
      "\n",
      "[[3]]\n",
      "[1] 0 1 2\n",
      "\n",
      "[[4]]\n",
      "[1] 0 1 2\n",
      "\n",
      "[[5]]\n",
      "[1] 0 1 2\n",
      "\n"
     ]
    }
   ],
   "source": [
    "emotional_symptoms <- c(\"somatic\", \"worries\", \"unhappy\", \"clingy\", \"afraid\")\n",
    "result <- lapply(emotional_symptoms, function(x) sort(unique(sdq_emo[[x]])))\n",
    "result |> print()"
   ]
  },
  {
   "cell_type": "markdown",
   "metadata": {},
   "source": [
    "Trasformiamo il data frame in una matrice."
   ]
  },
  {
   "cell_type": "code",
   "execution_count": 7,
   "metadata": {
    "vscode": {
     "languageId": "r"
    }
   },
   "outputs": [
    {
     "data": {
      "text/html": [
       "<table class=\"dataframe\">\n",
       "<caption>A matrix: 228 × 5 of type dbl</caption>\n",
       "<thead>\n",
       "\t<tr><th scope=col>somatic</th><th scope=col>worries</th><th scope=col>unhappy</th><th scope=col>clingy</th><th scope=col>afraid</th></tr>\n",
       "</thead>\n",
       "<tbody>\n",
       "\t<tr><td>2</td><td>1</td><td>0</td><td>1</td><td>0</td></tr>\n",
       "\t<tr><td>2</td><td>0</td><td>0</td><td>1</td><td>0</td></tr>\n",
       "\t<tr><td>0</td><td>0</td><td>0</td><td>0</td><td>1</td></tr>\n",
       "\t<tr><td>0</td><td>0</td><td>0</td><td>1</td><td>1</td></tr>\n",
       "\t<tr><td>2</td><td>1</td><td>0</td><td>1</td><td>0</td></tr>\n",
       "\t<tr><td>1</td><td>0</td><td>0</td><td>1</td><td>0</td></tr>\n",
       "\t<tr><td>0</td><td>1</td><td>1</td><td>2</td><td>0</td></tr>\n",
       "\t<tr><td>0</td><td>0</td><td>0</td><td>0</td><td>0</td></tr>\n",
       "\t<tr><td>1</td><td>0</td><td>0</td><td>0</td><td>0</td></tr>\n",
       "\t<tr><td>0</td><td>0</td><td>0</td><td>0</td><td>1</td></tr>\n",
       "\t<tr><td>0</td><td>0</td><td>0</td><td>0</td><td>0</td></tr>\n",
       "\t<tr><td>2</td><td>2</td><td>1</td><td>1</td><td>2</td></tr>\n",
       "\t<tr><td>0</td><td>0</td><td>0</td><td>0</td><td>2</td></tr>\n",
       "\t<tr><td>0</td><td>1</td><td>0</td><td>2</td><td>0</td></tr>\n",
       "\t<tr><td>1</td><td>2</td><td>1</td><td>2</td><td>1</td></tr>\n",
       "\t<tr><td>2</td><td>0</td><td>0</td><td>1</td><td>1</td></tr>\n",
       "\t<tr><td>1</td><td>1</td><td>0</td><td>2</td><td>1</td></tr>\n",
       "\t<tr><td>1</td><td>1</td><td>0</td><td>0</td><td>0</td></tr>\n",
       "\t<tr><td>1</td><td>2</td><td>2</td><td>2</td><td>1</td></tr>\n",
       "\t<tr><td>1</td><td>1</td><td>1</td><td>2</td><td>1</td></tr>\n",
       "\t<tr><td>1</td><td>0</td><td>0</td><td>0</td><td>0</td></tr>\n",
       "\t<tr><td>2</td><td>1</td><td>0</td><td>0</td><td>1</td></tr>\n",
       "\t<tr><td>2</td><td>2</td><td>2</td><td>1</td><td>2</td></tr>\n",
       "\t<tr><td>0</td><td>1</td><td>1</td><td>1</td><td>1</td></tr>\n",
       "\t<tr><td>1</td><td>2</td><td>0</td><td>0</td><td>2</td></tr>\n",
       "\t<tr><td>2</td><td>2</td><td>2</td><td>2</td><td>1</td></tr>\n",
       "\t<tr><td>0</td><td>0</td><td>0</td><td>0</td><td>0</td></tr>\n",
       "\t<tr><td>1</td><td>0</td><td>0</td><td>2</td><td>0</td></tr>\n",
       "\t<tr><td>1</td><td>0</td><td>1</td><td>1</td><td>0</td></tr>\n",
       "\t<tr><td>0</td><td>0</td><td>0</td><td>1</td><td>0</td></tr>\n",
       "\t<tr><td>⋮</td><td>⋮</td><td>⋮</td><td>⋮</td><td>⋮</td></tr>\n",
       "\t<tr><td>1</td><td>0</td><td>0</td><td>1</td><td>0</td></tr>\n",
       "\t<tr><td>1</td><td>0</td><td>0</td><td>1</td><td>1</td></tr>\n",
       "\t<tr><td>1</td><td>1</td><td>0</td><td>1</td><td>1</td></tr>\n",
       "\t<tr><td>0</td><td>0</td><td>0</td><td>0</td><td>0</td></tr>\n",
       "\t<tr><td>0</td><td>2</td><td>0</td><td>0</td><td>0</td></tr>\n",
       "\t<tr><td>1</td><td>1</td><td>1</td><td>0</td><td>1</td></tr>\n",
       "\t<tr><td>1</td><td>0</td><td>0</td><td>1</td><td>0</td></tr>\n",
       "\t<tr><td>1</td><td>0</td><td>0</td><td>1</td><td>0</td></tr>\n",
       "\t<tr><td>0</td><td>0</td><td>0</td><td>1</td><td>0</td></tr>\n",
       "\t<tr><td>1</td><td>0</td><td>0</td><td>2</td><td>0</td></tr>\n",
       "\t<tr><td>0</td><td>1</td><td>0</td><td>1</td><td>0</td></tr>\n",
       "\t<tr><td>0</td><td>0</td><td>0</td><td>0</td><td>0</td></tr>\n",
       "\t<tr><td>0</td><td>1</td><td>0</td><td>0</td><td>0</td></tr>\n",
       "\t<tr><td>0</td><td>0</td><td>0</td><td>0</td><td>0</td></tr>\n",
       "\t<tr><td>0</td><td>0</td><td>0</td><td>0</td><td>0</td></tr>\n",
       "\t<tr><td>1</td><td>2</td><td>1</td><td>2</td><td>2</td></tr>\n",
       "\t<tr><td>0</td><td>1</td><td>0</td><td>0</td><td>0</td></tr>\n",
       "\t<tr><td>0</td><td>0</td><td>0</td><td>1</td><td>0</td></tr>\n",
       "\t<tr><td>0</td><td>0</td><td>0</td><td>1</td><td>1</td></tr>\n",
       "\t<tr><td>1</td><td>0</td><td>0</td><td>0</td><td>0</td></tr>\n",
       "\t<tr><td>0</td><td>0</td><td>0</td><td>2</td><td>0</td></tr>\n",
       "\t<tr><td>1</td><td>0</td><td>0</td><td>0</td><td>1</td></tr>\n",
       "\t<tr><td>1</td><td>0</td><td>1</td><td>1</td><td>1</td></tr>\n",
       "\t<tr><td>0</td><td>0</td><td>0</td><td>0</td><td>0</td></tr>\n",
       "\t<tr><td>0</td><td>0</td><td>0</td><td>0</td><td>0</td></tr>\n",
       "\t<tr><td>0</td><td>1</td><td>0</td><td>0</td><td>0</td></tr>\n",
       "\t<tr><td>1</td><td>0</td><td>0</td><td>0</td><td>1</td></tr>\n",
       "\t<tr><td>0</td><td>1</td><td>0</td><td>1</td><td>0</td></tr>\n",
       "\t<tr><td>0</td><td>1</td><td>0</td><td>0</td><td>0</td></tr>\n",
       "\t<tr><td>2</td><td>1</td><td>1</td><td>1</td><td>1</td></tr>\n",
       "</tbody>\n",
       "</table>\n"
      ],
      "text/latex": [
       "A matrix: 228 × 5 of type dbl\n",
       "\\begin{tabular}{lllll}\n",
       " somatic & worries & unhappy & clingy & afraid\\\\\n",
       "\\hline\n",
       "\t 2 & 1 & 0 & 1 & 0\\\\\n",
       "\t 2 & 0 & 0 & 1 & 0\\\\\n",
       "\t 0 & 0 & 0 & 0 & 1\\\\\n",
       "\t 0 & 0 & 0 & 1 & 1\\\\\n",
       "\t 2 & 1 & 0 & 1 & 0\\\\\n",
       "\t 1 & 0 & 0 & 1 & 0\\\\\n",
       "\t 0 & 1 & 1 & 2 & 0\\\\\n",
       "\t 0 & 0 & 0 & 0 & 0\\\\\n",
       "\t 1 & 0 & 0 & 0 & 0\\\\\n",
       "\t 0 & 0 & 0 & 0 & 1\\\\\n",
       "\t 0 & 0 & 0 & 0 & 0\\\\\n",
       "\t 2 & 2 & 1 & 1 & 2\\\\\n",
       "\t 0 & 0 & 0 & 0 & 2\\\\\n",
       "\t 0 & 1 & 0 & 2 & 0\\\\\n",
       "\t 1 & 2 & 1 & 2 & 1\\\\\n",
       "\t 2 & 0 & 0 & 1 & 1\\\\\n",
       "\t 1 & 1 & 0 & 2 & 1\\\\\n",
       "\t 1 & 1 & 0 & 0 & 0\\\\\n",
       "\t 1 & 2 & 2 & 2 & 1\\\\\n",
       "\t 1 & 1 & 1 & 2 & 1\\\\\n",
       "\t 1 & 0 & 0 & 0 & 0\\\\\n",
       "\t 2 & 1 & 0 & 0 & 1\\\\\n",
       "\t 2 & 2 & 2 & 1 & 2\\\\\n",
       "\t 0 & 1 & 1 & 1 & 1\\\\\n",
       "\t 1 & 2 & 0 & 0 & 2\\\\\n",
       "\t 2 & 2 & 2 & 2 & 1\\\\\n",
       "\t 0 & 0 & 0 & 0 & 0\\\\\n",
       "\t 1 & 0 & 0 & 2 & 0\\\\\n",
       "\t 1 & 0 & 1 & 1 & 0\\\\\n",
       "\t 0 & 0 & 0 & 1 & 0\\\\\n",
       "\t ⋮ & ⋮ & ⋮ & ⋮ & ⋮\\\\\n",
       "\t 1 & 0 & 0 & 1 & 0\\\\\n",
       "\t 1 & 0 & 0 & 1 & 1\\\\\n",
       "\t 1 & 1 & 0 & 1 & 1\\\\\n",
       "\t 0 & 0 & 0 & 0 & 0\\\\\n",
       "\t 0 & 2 & 0 & 0 & 0\\\\\n",
       "\t 1 & 1 & 1 & 0 & 1\\\\\n",
       "\t 1 & 0 & 0 & 1 & 0\\\\\n",
       "\t 1 & 0 & 0 & 1 & 0\\\\\n",
       "\t 0 & 0 & 0 & 1 & 0\\\\\n",
       "\t 1 & 0 & 0 & 2 & 0\\\\\n",
       "\t 0 & 1 & 0 & 1 & 0\\\\\n",
       "\t 0 & 0 & 0 & 0 & 0\\\\\n",
       "\t 0 & 1 & 0 & 0 & 0\\\\\n",
       "\t 0 & 0 & 0 & 0 & 0\\\\\n",
       "\t 0 & 0 & 0 & 0 & 0\\\\\n",
       "\t 1 & 2 & 1 & 2 & 2\\\\\n",
       "\t 0 & 1 & 0 & 0 & 0\\\\\n",
       "\t 0 & 0 & 0 & 1 & 0\\\\\n",
       "\t 0 & 0 & 0 & 1 & 1\\\\\n",
       "\t 1 & 0 & 0 & 0 & 0\\\\\n",
       "\t 0 & 0 & 0 & 2 & 0\\\\\n",
       "\t 1 & 0 & 0 & 0 & 1\\\\\n",
       "\t 1 & 0 & 1 & 1 & 1\\\\\n",
       "\t 0 & 0 & 0 & 0 & 0\\\\\n",
       "\t 0 & 0 & 0 & 0 & 0\\\\\n",
       "\t 0 & 1 & 0 & 0 & 0\\\\\n",
       "\t 1 & 0 & 0 & 0 & 1\\\\\n",
       "\t 0 & 1 & 0 & 1 & 0\\\\\n",
       "\t 0 & 1 & 0 & 0 & 0\\\\\n",
       "\t 2 & 1 & 1 & 1 & 1\\\\\n",
       "\\end{tabular}\n"
      ],
      "text/markdown": [
       "\n",
       "A matrix: 228 × 5 of type dbl\n",
       "\n",
       "| somatic | worries | unhappy | clingy | afraid |\n",
       "|---|---|---|---|---|\n",
       "| 2 | 1 | 0 | 1 | 0 |\n",
       "| 2 | 0 | 0 | 1 | 0 |\n",
       "| 0 | 0 | 0 | 0 | 1 |\n",
       "| 0 | 0 | 0 | 1 | 1 |\n",
       "| 2 | 1 | 0 | 1 | 0 |\n",
       "| 1 | 0 | 0 | 1 | 0 |\n",
       "| 0 | 1 | 1 | 2 | 0 |\n",
       "| 0 | 0 | 0 | 0 | 0 |\n",
       "| 1 | 0 | 0 | 0 | 0 |\n",
       "| 0 | 0 | 0 | 0 | 1 |\n",
       "| 0 | 0 | 0 | 0 | 0 |\n",
       "| 2 | 2 | 1 | 1 | 2 |\n",
       "| 0 | 0 | 0 | 0 | 2 |\n",
       "| 0 | 1 | 0 | 2 | 0 |\n",
       "| 1 | 2 | 1 | 2 | 1 |\n",
       "| 2 | 0 | 0 | 1 | 1 |\n",
       "| 1 | 1 | 0 | 2 | 1 |\n",
       "| 1 | 1 | 0 | 0 | 0 |\n",
       "| 1 | 2 | 2 | 2 | 1 |\n",
       "| 1 | 1 | 1 | 2 | 1 |\n",
       "| 1 | 0 | 0 | 0 | 0 |\n",
       "| 2 | 1 | 0 | 0 | 1 |\n",
       "| 2 | 2 | 2 | 1 | 2 |\n",
       "| 0 | 1 | 1 | 1 | 1 |\n",
       "| 1 | 2 | 0 | 0 | 2 |\n",
       "| 2 | 2 | 2 | 2 | 1 |\n",
       "| 0 | 0 | 0 | 0 | 0 |\n",
       "| 1 | 0 | 0 | 2 | 0 |\n",
       "| 1 | 0 | 1 | 1 | 0 |\n",
       "| 0 | 0 | 0 | 1 | 0 |\n",
       "| ⋮ | ⋮ | ⋮ | ⋮ | ⋮ |\n",
       "| 1 | 0 | 0 | 1 | 0 |\n",
       "| 1 | 0 | 0 | 1 | 1 |\n",
       "| 1 | 1 | 0 | 1 | 1 |\n",
       "| 0 | 0 | 0 | 0 | 0 |\n",
       "| 0 | 2 | 0 | 0 | 0 |\n",
       "| 1 | 1 | 1 | 0 | 1 |\n",
       "| 1 | 0 | 0 | 1 | 0 |\n",
       "| 1 | 0 | 0 | 1 | 0 |\n",
       "| 0 | 0 | 0 | 1 | 0 |\n",
       "| 1 | 0 | 0 | 2 | 0 |\n",
       "| 0 | 1 | 0 | 1 | 0 |\n",
       "| 0 | 0 | 0 | 0 | 0 |\n",
       "| 0 | 1 | 0 | 0 | 0 |\n",
       "| 0 | 0 | 0 | 0 | 0 |\n",
       "| 0 | 0 | 0 | 0 | 0 |\n",
       "| 1 | 2 | 1 | 2 | 2 |\n",
       "| 0 | 1 | 0 | 0 | 0 |\n",
       "| 0 | 0 | 0 | 1 | 0 |\n",
       "| 0 | 0 | 0 | 1 | 1 |\n",
       "| 1 | 0 | 0 | 0 | 0 |\n",
       "| 0 | 0 | 0 | 2 | 0 |\n",
       "| 1 | 0 | 0 | 0 | 1 |\n",
       "| 1 | 0 | 1 | 1 | 1 |\n",
       "| 0 | 0 | 0 | 0 | 0 |\n",
       "| 0 | 0 | 0 | 0 | 0 |\n",
       "| 0 | 1 | 0 | 0 | 0 |\n",
       "| 1 | 0 | 0 | 0 | 1 |\n",
       "| 0 | 1 | 0 | 1 | 0 |\n",
       "| 0 | 1 | 0 | 0 | 0 |\n",
       "| 2 | 1 | 1 | 1 | 1 |\n",
       "\n"
      ],
      "text/plain": [
       "      somatic worries unhappy clingy afraid\n",
       " [1,] 2       1       0       1      0     \n",
       " [2,] 2       0       0       1      0     \n",
       " [3,] 0       0       0       0      1     \n",
       " [4,] 0       0       0       1      1     \n",
       " [5,] 2       1       0       1      0     \n",
       " [6,] 1       0       0       1      0     \n",
       " [7,] 0       1       1       2      0     \n",
       " [8,] 0       0       0       0      0     \n",
       " [9,] 1       0       0       0      0     \n",
       "[10,] 0       0       0       0      1     \n",
       "[11,] 0       0       0       0      0     \n",
       "[12,] 2       2       1       1      2     \n",
       "[13,] 0       0       0       0      2     \n",
       "[14,] 0       1       0       2      0     \n",
       "[15,] 1       2       1       2      1     \n",
       "[16,] 2       0       0       1      1     \n",
       "[17,] 1       1       0       2      1     \n",
       "[18,] 1       1       0       0      0     \n",
       "[19,] 1       2       2       2      1     \n",
       "[20,] 1       1       1       2      1     \n",
       "[21,] 1       0       0       0      0     \n",
       "[22,] 2       1       0       0      1     \n",
       "[23,] 2       2       2       1      2     \n",
       "[24,] 0       1       1       1      1     \n",
       "[25,] 1       2       0       0      2     \n",
       "[26,] 2       2       2       2      1     \n",
       "[27,] 0       0       0       0      0     \n",
       "[28,] 1       0       0       2      0     \n",
       "[29,] 1       0       1       1      0     \n",
       "[30,] 0       0       0       1      0     \n",
       "[31,] ⋮       ⋮       ⋮       ⋮      ⋮     \n",
       "[32,] 1       0       0       1      0     \n",
       "[33,] 1       0       0       1      1     \n",
       "[34,] 1       1       0       1      1     \n",
       "[35,] 0       0       0       0      0     \n",
       "[36,] 0       2       0       0      0     \n",
       "[37,] 1       1       1       0      1     \n",
       "[38,] 1       0       0       1      0     \n",
       "[39,] 1       0       0       1      0     \n",
       "[40,] 0       0       0       1      0     \n",
       "[41,] 1       0       0       2      0     \n",
       "[42,] 0       1       0       1      0     \n",
       "[43,] 0       0       0       0      0     \n",
       "[44,] 0       1       0       0      0     \n",
       "[45,] 0       0       0       0      0     \n",
       "[46,] 0       0       0       0      0     \n",
       "[47,] 1       2       1       2      2     \n",
       "[48,] 0       1       0       0      0     \n",
       "[49,] 0       0       0       1      0     \n",
       "[50,] 0       0       0       1      1     \n",
       "[51,] 1       0       0       0      0     \n",
       "[52,] 0       0       0       2      0     \n",
       "[53,] 1       0       0       0      1     \n",
       "[54,] 1       0       1       1      1     \n",
       "[55,] 0       0       0       0      0     \n",
       "[56,] 0       0       0       0      0     \n",
       "[57,] 0       1       0       0      0     \n",
       "[58,] 1       0       0       0      1     \n",
       "[59,] 0       1       0       1      0     \n",
       "[60,] 0       1       0       0      0     \n",
       "[61,] 2       1       1       1      1     "
      ]
     },
     "metadata": {},
     "output_type": "display_data"
    }
   ],
   "source": [
    "M <- sdq_emo |> as.matrix()\n",
    "M"
   ]
  },
  {
   "cell_type": "markdown",
   "metadata": {},
   "source": [
    "Implementiamo lo scaling ottimale con la funzione `corAspect()`."
   ]
  },
  {
   "cell_type": "code",
   "execution_count": 8,
   "metadata": {
    "vscode": {
     "languageId": "r"
    }
   },
   "outputs": [],
   "source": [
    "opt <- corAspect(M, aspect = \"aspectSum\", level = \"ordinal\")"
   ]
  },
  {
   "cell_type": "markdown",
   "metadata": {},
   "source": [
    "Esaminiamo il risultato ottenuto."
   ]
  },
  {
   "cell_type": "code",
   "execution_count": 9,
   "metadata": {
    "vscode": {
     "languageId": "r"
    }
   },
   "outputs": [
    {
     "data": {
      "text/html": [
       "<dl>\n",
       "\t<dt>$names</dt>\n",
       "\t\t<dd><style>\n",
       ".list-inline {list-style: none; margin:0; padding: 0}\n",
       ".list-inline>li {display: inline-block}\n",
       ".list-inline>li:not(:last-child)::after {content: \"\\00b7\"; padding: 0 .5ex}\n",
       "</style>\n",
       "<ol class=list-inline><li>'loss'</li><li>'catscores'</li><li>'cormat'</li><li>'eigencor'</li><li>'indmat'</li><li>'scoremat'</li><li>'data'</li><li>'burtmat'</li><li>'niter'</li><li>'call'</li></ol>\n",
       "</dd>\n",
       "\t<dt>$class</dt>\n",
       "\t\t<dd>'aspect'</dd>\n",
       "</dl>\n"
      ],
      "text/latex": [
       "\\begin{description}\n",
       "\\item[\\$names] \\begin{enumerate*}\n",
       "\\item 'loss'\n",
       "\\item 'catscores'\n",
       "\\item 'cormat'\n",
       "\\item 'eigencor'\n",
       "\\item 'indmat'\n",
       "\\item 'scoremat'\n",
       "\\item 'data'\n",
       "\\item 'burtmat'\n",
       "\\item 'niter'\n",
       "\\item 'call'\n",
       "\\end{enumerate*}\n",
       "\n",
       "\\item[\\$class] 'aspect'\n",
       "\\end{description}\n"
      ],
      "text/markdown": [
       "$names\n",
       ":   1. 'loss'\n",
       "2. 'catscores'\n",
       "3. 'cormat'\n",
       "4. 'eigencor'\n",
       "5. 'indmat'\n",
       "6. 'scoremat'\n",
       "7. 'data'\n",
       "8. 'burtmat'\n",
       "9. 'niter'\n",
       "10. 'call'\n",
       "\n",
       "\n",
       "\n",
       "$class\n",
       ":   'aspect'\n",
       "\n",
       "\n"
      ],
      "text/plain": [
       "$names\n",
       " [1] \"loss\"      \"catscores\" \"cormat\"    \"eigencor\"  \"indmat\"    \"scoremat\" \n",
       " [7] \"data\"      \"burtmat\"   \"niter\"     \"call\"     \n",
       "\n",
       "$class\n",
       "[1] \"aspect\"\n"
      ]
     },
     "metadata": {},
     "output_type": "display_data"
    }
   ],
   "source": [
    "attributes(opt)"
   ]
  },
  {
   "cell_type": "code",
   "execution_count": 10,
   "metadata": {
    "vscode": {
     "languageId": "r"
    }
   },
   "outputs": [
    {
     "data": {
      "text/html": [
       "<table class=\"dataframe\">\n",
       "<caption>A matrix: 228 × 5 of type dbl</caption>\n",
       "<thead>\n",
       "\t<tr><th></th><th scope=col>somatic</th><th scope=col>worries</th><th scope=col>unhappy</th><th scope=col>clingy</th><th scope=col>afraid</th></tr>\n",
       "</thead>\n",
       "<tbody>\n",
       "\t<tr><th scope=row>1</th><td> 1.9720960</td><td> 0.4454555</td><td>-0.6009399</td><td> 0.2369782</td><td>-0.7685934</td></tr>\n",
       "\t<tr><th scope=row>2</th><td> 1.9720960</td><td>-0.8540365</td><td>-0.6009399</td><td> 0.2369782</td><td>-0.7685934</td></tr>\n",
       "\t<tr><th scope=row>3</th><td>-0.9013969</td><td>-0.8540365</td><td>-0.6009399</td><td>-1.1988603</td><td> 1.0085914</td></tr>\n",
       "\t<tr><th scope=row>4</th><td>-0.9013969</td><td>-0.8540365</td><td>-0.6009399</td><td> 0.2369782</td><td> 1.0085914</td></tr>\n",
       "\t<tr><th scope=row>5</th><td> 1.9720960</td><td> 0.4454555</td><td>-0.6009399</td><td> 0.2369782</td><td>-0.7685934</td></tr>\n",
       "\t<tr><th scope=row>6</th><td> 0.5862099</td><td>-0.8540365</td><td>-0.6009399</td><td> 0.2369782</td><td>-0.7685934</td></tr>\n",
       "\t<tr><th scope=row>7</th><td>-0.9013969</td><td> 0.4454555</td><td> 1.3931034</td><td> 1.6170823</td><td>-0.7685934</td></tr>\n",
       "\t<tr><th scope=row>8</th><td>-0.9013969</td><td>-0.8540365</td><td>-0.6009399</td><td>-1.1988603</td><td>-0.7685934</td></tr>\n",
       "\t<tr><th scope=row>9</th><td> 0.5862099</td><td>-0.8540365</td><td>-0.6009399</td><td>-1.1988603</td><td>-0.7685934</td></tr>\n",
       "\t<tr><th scope=row>10</th><td>-0.9013969</td><td>-0.8540365</td><td>-0.6009399</td><td>-1.1988603</td><td> 1.0085914</td></tr>\n",
       "\t<tr><th scope=row>11</th><td>-0.9013969</td><td>-0.8540365</td><td>-0.6009399</td><td>-1.1988603</td><td>-0.7685934</td></tr>\n",
       "\t<tr><th scope=row>12</th><td> 1.9720960</td><td> 2.0964116</td><td> 1.3931034</td><td> 0.2369782</td><td> 1.9509426</td></tr>\n",
       "\t<tr><th scope=row>13</th><td>-0.9013969</td><td>-0.8540365</td><td>-0.6009399</td><td>-1.1988603</td><td> 1.9509426</td></tr>\n",
       "\t<tr><th scope=row>14</th><td>-0.9013969</td><td> 0.4454555</td><td>-0.6009399</td><td> 1.6170823</td><td>-0.7685934</td></tr>\n",
       "\t<tr><th scope=row>15</th><td> 0.5862099</td><td> 2.0964116</td><td> 1.3931034</td><td> 1.6170823</td><td> 1.0085914</td></tr>\n",
       "\t<tr><th scope=row>16</th><td> 1.9720960</td><td>-0.8540365</td><td>-0.6009399</td><td> 0.2369782</td><td> 1.0085914</td></tr>\n",
       "\t<tr><th scope=row>17</th><td> 0.5862099</td><td> 0.4454555</td><td>-0.6009399</td><td> 1.6170823</td><td> 1.0085914</td></tr>\n",
       "\t<tr><th scope=row>18</th><td> 0.5862099</td><td> 0.4454555</td><td>-0.6009399</td><td>-1.1988603</td><td>-0.7685934</td></tr>\n",
       "\t<tr><th scope=row>19</th><td> 0.5862099</td><td> 2.0964116</td><td> 2.6586118</td><td> 1.6170823</td><td> 1.0085914</td></tr>\n",
       "\t<tr><th scope=row>20</th><td> 0.5862099</td><td> 0.4454555</td><td> 1.3931034</td><td> 1.6170823</td><td> 1.0085914</td></tr>\n",
       "\t<tr><th scope=row>21</th><td> 0.5862099</td><td>-0.8540365</td><td>-0.6009399</td><td>-1.1988603</td><td>-0.7685934</td></tr>\n",
       "\t<tr><th scope=row>22</th><td> 1.9720960</td><td> 0.4454555</td><td>-0.6009399</td><td>-1.1988603</td><td> 1.0085914</td></tr>\n",
       "\t<tr><th scope=row>23</th><td> 1.9720960</td><td> 2.0964116</td><td> 2.6586118</td><td> 0.2369782</td><td> 1.9509426</td></tr>\n",
       "\t<tr><th scope=row>24</th><td>-0.9013969</td><td> 0.4454555</td><td> 1.3931034</td><td> 0.2369782</td><td> 1.0085914</td></tr>\n",
       "\t<tr><th scope=row>25</th><td> 0.5862099</td><td> 2.0964116</td><td>-0.6009399</td><td>-1.1988603</td><td> 1.9509426</td></tr>\n",
       "\t<tr><th scope=row>26</th><td> 1.9720960</td><td> 2.0964116</td><td> 2.6586118</td><td> 1.6170823</td><td> 1.0085914</td></tr>\n",
       "\t<tr><th scope=row>27</th><td>-0.9013969</td><td>-0.8540365</td><td>-0.6009399</td><td>-1.1988603</td><td>-0.7685934</td></tr>\n",
       "\t<tr><th scope=row>28</th><td> 0.5862099</td><td>-0.8540365</td><td>-0.6009399</td><td> 1.6170823</td><td>-0.7685934</td></tr>\n",
       "\t<tr><th scope=row>29</th><td> 0.5862099</td><td>-0.8540365</td><td> 1.3931034</td><td> 0.2369782</td><td>-0.7685934</td></tr>\n",
       "\t<tr><th scope=row>30</th><td>-0.9013969</td><td>-0.8540365</td><td>-0.6009399</td><td> 0.2369782</td><td>-0.7685934</td></tr>\n",
       "\t<tr><th scope=row>⋮</th><td>⋮</td><td>⋮</td><td>⋮</td><td>⋮</td><td>⋮</td></tr>\n",
       "\t<tr><th scope=row>199</th><td> 0.5862099</td><td>-0.8540365</td><td>-0.6009399</td><td> 0.2369782</td><td>-0.7685934</td></tr>\n",
       "\t<tr><th scope=row>200</th><td> 0.5862099</td><td>-0.8540365</td><td>-0.6009399</td><td> 0.2369782</td><td> 1.0085914</td></tr>\n",
       "\t<tr><th scope=row>201</th><td> 0.5862099</td><td> 0.4454555</td><td>-0.6009399</td><td> 0.2369782</td><td> 1.0085914</td></tr>\n",
       "\t<tr><th scope=row>202</th><td>-0.9013969</td><td>-0.8540365</td><td>-0.6009399</td><td>-1.1988603</td><td>-0.7685934</td></tr>\n",
       "\t<tr><th scope=row>203</th><td>-0.9013969</td><td> 2.0964116</td><td>-0.6009399</td><td>-1.1988603</td><td>-0.7685934</td></tr>\n",
       "\t<tr><th scope=row>204</th><td> 0.5862099</td><td> 0.4454555</td><td> 1.3931034</td><td>-1.1988603</td><td> 1.0085914</td></tr>\n",
       "\t<tr><th scope=row>205</th><td> 0.5862099</td><td>-0.8540365</td><td>-0.6009399</td><td> 0.2369782</td><td>-0.7685934</td></tr>\n",
       "\t<tr><th scope=row>206</th><td> 0.5862099</td><td>-0.8540365</td><td>-0.6009399</td><td> 0.2369782</td><td>-0.7685934</td></tr>\n",
       "\t<tr><th scope=row>207</th><td>-0.9013969</td><td>-0.8540365</td><td>-0.6009399</td><td> 0.2369782</td><td>-0.7685934</td></tr>\n",
       "\t<tr><th scope=row>208</th><td> 0.5862099</td><td>-0.8540365</td><td>-0.6009399</td><td> 1.6170823</td><td>-0.7685934</td></tr>\n",
       "\t<tr><th scope=row>209</th><td>-0.9013969</td><td> 0.4454555</td><td>-0.6009399</td><td> 0.2369782</td><td>-0.7685934</td></tr>\n",
       "\t<tr><th scope=row>210</th><td>-0.9013969</td><td>-0.8540365</td><td>-0.6009399</td><td>-1.1988603</td><td>-0.7685934</td></tr>\n",
       "\t<tr><th scope=row>211</th><td>-0.9013969</td><td> 0.4454555</td><td>-0.6009399</td><td>-1.1988603</td><td>-0.7685934</td></tr>\n",
       "\t<tr><th scope=row>212</th><td>-0.9013969</td><td>-0.8540365</td><td>-0.6009399</td><td>-1.1988603</td><td>-0.7685934</td></tr>\n",
       "\t<tr><th scope=row>213</th><td>-0.9013969</td><td>-0.8540365</td><td>-0.6009399</td><td>-1.1988603</td><td>-0.7685934</td></tr>\n",
       "\t<tr><th scope=row>214</th><td> 0.5862099</td><td> 2.0964116</td><td> 1.3931034</td><td> 1.6170823</td><td> 1.9509426</td></tr>\n",
       "\t<tr><th scope=row>215</th><td>-0.9013969</td><td> 0.4454555</td><td>-0.6009399</td><td>-1.1988603</td><td>-0.7685934</td></tr>\n",
       "\t<tr><th scope=row>216</th><td>-0.9013969</td><td>-0.8540365</td><td>-0.6009399</td><td> 0.2369782</td><td>-0.7685934</td></tr>\n",
       "\t<tr><th scope=row>217</th><td>-0.9013969</td><td>-0.8540365</td><td>-0.6009399</td><td> 0.2369782</td><td> 1.0085914</td></tr>\n",
       "\t<tr><th scope=row>218</th><td> 0.5862099</td><td>-0.8540365</td><td>-0.6009399</td><td>-1.1988603</td><td>-0.7685934</td></tr>\n",
       "\t<tr><th scope=row>219</th><td>-0.9013969</td><td>-0.8540365</td><td>-0.6009399</td><td> 1.6170823</td><td>-0.7685934</td></tr>\n",
       "\t<tr><th scope=row>220</th><td> 0.5862099</td><td>-0.8540365</td><td>-0.6009399</td><td>-1.1988603</td><td> 1.0085914</td></tr>\n",
       "\t<tr><th scope=row>221</th><td> 0.5862099</td><td>-0.8540365</td><td> 1.3931034</td><td> 0.2369782</td><td> 1.0085914</td></tr>\n",
       "\t<tr><th scope=row>222</th><td>-0.9013969</td><td>-0.8540365</td><td>-0.6009399</td><td>-1.1988603</td><td>-0.7685934</td></tr>\n",
       "\t<tr><th scope=row>223</th><td>-0.9013969</td><td>-0.8540365</td><td>-0.6009399</td><td>-1.1988603</td><td>-0.7685934</td></tr>\n",
       "\t<tr><th scope=row>224</th><td>-0.9013969</td><td> 0.4454555</td><td>-0.6009399</td><td>-1.1988603</td><td>-0.7685934</td></tr>\n",
       "\t<tr><th scope=row>225</th><td> 0.5862099</td><td>-0.8540365</td><td>-0.6009399</td><td>-1.1988603</td><td> 1.0085914</td></tr>\n",
       "\t<tr><th scope=row>226</th><td>-0.9013969</td><td> 0.4454555</td><td>-0.6009399</td><td> 0.2369782</td><td>-0.7685934</td></tr>\n",
       "\t<tr><th scope=row>227</th><td>-0.9013969</td><td> 0.4454555</td><td>-0.6009399</td><td>-1.1988603</td><td>-0.7685934</td></tr>\n",
       "\t<tr><th scope=row>228</th><td> 1.9720960</td><td> 0.4454555</td><td> 1.3931034</td><td> 0.2369782</td><td> 1.0085914</td></tr>\n",
       "</tbody>\n",
       "</table>\n"
      ],
      "text/latex": [
       "A matrix: 228 × 5 of type dbl\n",
       "\\begin{tabular}{r|lllll}\n",
       "  & somatic & worries & unhappy & clingy & afraid\\\\\n",
       "\\hline\n",
       "\t1 &  1.9720960 &  0.4454555 & -0.6009399 &  0.2369782 & -0.7685934\\\\\n",
       "\t2 &  1.9720960 & -0.8540365 & -0.6009399 &  0.2369782 & -0.7685934\\\\\n",
       "\t3 & -0.9013969 & -0.8540365 & -0.6009399 & -1.1988603 &  1.0085914\\\\\n",
       "\t4 & -0.9013969 & -0.8540365 & -0.6009399 &  0.2369782 &  1.0085914\\\\\n",
       "\t5 &  1.9720960 &  0.4454555 & -0.6009399 &  0.2369782 & -0.7685934\\\\\n",
       "\t6 &  0.5862099 & -0.8540365 & -0.6009399 &  0.2369782 & -0.7685934\\\\\n",
       "\t7 & -0.9013969 &  0.4454555 &  1.3931034 &  1.6170823 & -0.7685934\\\\\n",
       "\t8 & -0.9013969 & -0.8540365 & -0.6009399 & -1.1988603 & -0.7685934\\\\\n",
       "\t9 &  0.5862099 & -0.8540365 & -0.6009399 & -1.1988603 & -0.7685934\\\\\n",
       "\t10 & -0.9013969 & -0.8540365 & -0.6009399 & -1.1988603 &  1.0085914\\\\\n",
       "\t11 & -0.9013969 & -0.8540365 & -0.6009399 & -1.1988603 & -0.7685934\\\\\n",
       "\t12 &  1.9720960 &  2.0964116 &  1.3931034 &  0.2369782 &  1.9509426\\\\\n",
       "\t13 & -0.9013969 & -0.8540365 & -0.6009399 & -1.1988603 &  1.9509426\\\\\n",
       "\t14 & -0.9013969 &  0.4454555 & -0.6009399 &  1.6170823 & -0.7685934\\\\\n",
       "\t15 &  0.5862099 &  2.0964116 &  1.3931034 &  1.6170823 &  1.0085914\\\\\n",
       "\t16 &  1.9720960 & -0.8540365 & -0.6009399 &  0.2369782 &  1.0085914\\\\\n",
       "\t17 &  0.5862099 &  0.4454555 & -0.6009399 &  1.6170823 &  1.0085914\\\\\n",
       "\t18 &  0.5862099 &  0.4454555 & -0.6009399 & -1.1988603 & -0.7685934\\\\\n",
       "\t19 &  0.5862099 &  2.0964116 &  2.6586118 &  1.6170823 &  1.0085914\\\\\n",
       "\t20 &  0.5862099 &  0.4454555 &  1.3931034 &  1.6170823 &  1.0085914\\\\\n",
       "\t21 &  0.5862099 & -0.8540365 & -0.6009399 & -1.1988603 & -0.7685934\\\\\n",
       "\t22 &  1.9720960 &  0.4454555 & -0.6009399 & -1.1988603 &  1.0085914\\\\\n",
       "\t23 &  1.9720960 &  2.0964116 &  2.6586118 &  0.2369782 &  1.9509426\\\\\n",
       "\t24 & -0.9013969 &  0.4454555 &  1.3931034 &  0.2369782 &  1.0085914\\\\\n",
       "\t25 &  0.5862099 &  2.0964116 & -0.6009399 & -1.1988603 &  1.9509426\\\\\n",
       "\t26 &  1.9720960 &  2.0964116 &  2.6586118 &  1.6170823 &  1.0085914\\\\\n",
       "\t27 & -0.9013969 & -0.8540365 & -0.6009399 & -1.1988603 & -0.7685934\\\\\n",
       "\t28 &  0.5862099 & -0.8540365 & -0.6009399 &  1.6170823 & -0.7685934\\\\\n",
       "\t29 &  0.5862099 & -0.8540365 &  1.3931034 &  0.2369782 & -0.7685934\\\\\n",
       "\t30 & -0.9013969 & -0.8540365 & -0.6009399 &  0.2369782 & -0.7685934\\\\\n",
       "\t⋮ & ⋮ & ⋮ & ⋮ & ⋮ & ⋮\\\\\n",
       "\t199 &  0.5862099 & -0.8540365 & -0.6009399 &  0.2369782 & -0.7685934\\\\\n",
       "\t200 &  0.5862099 & -0.8540365 & -0.6009399 &  0.2369782 &  1.0085914\\\\\n",
       "\t201 &  0.5862099 &  0.4454555 & -0.6009399 &  0.2369782 &  1.0085914\\\\\n",
       "\t202 & -0.9013969 & -0.8540365 & -0.6009399 & -1.1988603 & -0.7685934\\\\\n",
       "\t203 & -0.9013969 &  2.0964116 & -0.6009399 & -1.1988603 & -0.7685934\\\\\n",
       "\t204 &  0.5862099 &  0.4454555 &  1.3931034 & -1.1988603 &  1.0085914\\\\\n",
       "\t205 &  0.5862099 & -0.8540365 & -0.6009399 &  0.2369782 & -0.7685934\\\\\n",
       "\t206 &  0.5862099 & -0.8540365 & -0.6009399 &  0.2369782 & -0.7685934\\\\\n",
       "\t207 & -0.9013969 & -0.8540365 & -0.6009399 &  0.2369782 & -0.7685934\\\\\n",
       "\t208 &  0.5862099 & -0.8540365 & -0.6009399 &  1.6170823 & -0.7685934\\\\\n",
       "\t209 & -0.9013969 &  0.4454555 & -0.6009399 &  0.2369782 & -0.7685934\\\\\n",
       "\t210 & -0.9013969 & -0.8540365 & -0.6009399 & -1.1988603 & -0.7685934\\\\\n",
       "\t211 & -0.9013969 &  0.4454555 & -0.6009399 & -1.1988603 & -0.7685934\\\\\n",
       "\t212 & -0.9013969 & -0.8540365 & -0.6009399 & -1.1988603 & -0.7685934\\\\\n",
       "\t213 & -0.9013969 & -0.8540365 & -0.6009399 & -1.1988603 & -0.7685934\\\\\n",
       "\t214 &  0.5862099 &  2.0964116 &  1.3931034 &  1.6170823 &  1.9509426\\\\\n",
       "\t215 & -0.9013969 &  0.4454555 & -0.6009399 & -1.1988603 & -0.7685934\\\\\n",
       "\t216 & -0.9013969 & -0.8540365 & -0.6009399 &  0.2369782 & -0.7685934\\\\\n",
       "\t217 & -0.9013969 & -0.8540365 & -0.6009399 &  0.2369782 &  1.0085914\\\\\n",
       "\t218 &  0.5862099 & -0.8540365 & -0.6009399 & -1.1988603 & -0.7685934\\\\\n",
       "\t219 & -0.9013969 & -0.8540365 & -0.6009399 &  1.6170823 & -0.7685934\\\\\n",
       "\t220 &  0.5862099 & -0.8540365 & -0.6009399 & -1.1988603 &  1.0085914\\\\\n",
       "\t221 &  0.5862099 & -0.8540365 &  1.3931034 &  0.2369782 &  1.0085914\\\\\n",
       "\t222 & -0.9013969 & -0.8540365 & -0.6009399 & -1.1988603 & -0.7685934\\\\\n",
       "\t223 & -0.9013969 & -0.8540365 & -0.6009399 & -1.1988603 & -0.7685934\\\\\n",
       "\t224 & -0.9013969 &  0.4454555 & -0.6009399 & -1.1988603 & -0.7685934\\\\\n",
       "\t225 &  0.5862099 & -0.8540365 & -0.6009399 & -1.1988603 &  1.0085914\\\\\n",
       "\t226 & -0.9013969 &  0.4454555 & -0.6009399 &  0.2369782 & -0.7685934\\\\\n",
       "\t227 & -0.9013969 &  0.4454555 & -0.6009399 & -1.1988603 & -0.7685934\\\\\n",
       "\t228 &  1.9720960 &  0.4454555 &  1.3931034 &  0.2369782 &  1.0085914\\\\\n",
       "\\end{tabular}\n"
      ],
      "text/markdown": [
       "\n",
       "A matrix: 228 × 5 of type dbl\n",
       "\n",
       "| <!--/--> | somatic | worries | unhappy | clingy | afraid |\n",
       "|---|---|---|---|---|---|\n",
       "| 1 |  1.9720960 |  0.4454555 | -0.6009399 |  0.2369782 | -0.7685934 |\n",
       "| 2 |  1.9720960 | -0.8540365 | -0.6009399 |  0.2369782 | -0.7685934 |\n",
       "| 3 | -0.9013969 | -0.8540365 | -0.6009399 | -1.1988603 |  1.0085914 |\n",
       "| 4 | -0.9013969 | -0.8540365 | -0.6009399 |  0.2369782 |  1.0085914 |\n",
       "| 5 |  1.9720960 |  0.4454555 | -0.6009399 |  0.2369782 | -0.7685934 |\n",
       "| 6 |  0.5862099 | -0.8540365 | -0.6009399 |  0.2369782 | -0.7685934 |\n",
       "| 7 | -0.9013969 |  0.4454555 |  1.3931034 |  1.6170823 | -0.7685934 |\n",
       "| 8 | -0.9013969 | -0.8540365 | -0.6009399 | -1.1988603 | -0.7685934 |\n",
       "| 9 |  0.5862099 | -0.8540365 | -0.6009399 | -1.1988603 | -0.7685934 |\n",
       "| 10 | -0.9013969 | -0.8540365 | -0.6009399 | -1.1988603 |  1.0085914 |\n",
       "| 11 | -0.9013969 | -0.8540365 | -0.6009399 | -1.1988603 | -0.7685934 |\n",
       "| 12 |  1.9720960 |  2.0964116 |  1.3931034 |  0.2369782 |  1.9509426 |\n",
       "| 13 | -0.9013969 | -0.8540365 | -0.6009399 | -1.1988603 |  1.9509426 |\n",
       "| 14 | -0.9013969 |  0.4454555 | -0.6009399 |  1.6170823 | -0.7685934 |\n",
       "| 15 |  0.5862099 |  2.0964116 |  1.3931034 |  1.6170823 |  1.0085914 |\n",
       "| 16 |  1.9720960 | -0.8540365 | -0.6009399 |  0.2369782 |  1.0085914 |\n",
       "| 17 |  0.5862099 |  0.4454555 | -0.6009399 |  1.6170823 |  1.0085914 |\n",
       "| 18 |  0.5862099 |  0.4454555 | -0.6009399 | -1.1988603 | -0.7685934 |\n",
       "| 19 |  0.5862099 |  2.0964116 |  2.6586118 |  1.6170823 |  1.0085914 |\n",
       "| 20 |  0.5862099 |  0.4454555 |  1.3931034 |  1.6170823 |  1.0085914 |\n",
       "| 21 |  0.5862099 | -0.8540365 | -0.6009399 | -1.1988603 | -0.7685934 |\n",
       "| 22 |  1.9720960 |  0.4454555 | -0.6009399 | -1.1988603 |  1.0085914 |\n",
       "| 23 |  1.9720960 |  2.0964116 |  2.6586118 |  0.2369782 |  1.9509426 |\n",
       "| 24 | -0.9013969 |  0.4454555 |  1.3931034 |  0.2369782 |  1.0085914 |\n",
       "| 25 |  0.5862099 |  2.0964116 | -0.6009399 | -1.1988603 |  1.9509426 |\n",
       "| 26 |  1.9720960 |  2.0964116 |  2.6586118 |  1.6170823 |  1.0085914 |\n",
       "| 27 | -0.9013969 | -0.8540365 | -0.6009399 | -1.1988603 | -0.7685934 |\n",
       "| 28 |  0.5862099 | -0.8540365 | -0.6009399 |  1.6170823 | -0.7685934 |\n",
       "| 29 |  0.5862099 | -0.8540365 |  1.3931034 |  0.2369782 | -0.7685934 |\n",
       "| 30 | -0.9013969 | -0.8540365 | -0.6009399 |  0.2369782 | -0.7685934 |\n",
       "| ⋮ | ⋮ | ⋮ | ⋮ | ⋮ | ⋮ |\n",
       "| 199 |  0.5862099 | -0.8540365 | -0.6009399 |  0.2369782 | -0.7685934 |\n",
       "| 200 |  0.5862099 | -0.8540365 | -0.6009399 |  0.2369782 |  1.0085914 |\n",
       "| 201 |  0.5862099 |  0.4454555 | -0.6009399 |  0.2369782 |  1.0085914 |\n",
       "| 202 | -0.9013969 | -0.8540365 | -0.6009399 | -1.1988603 | -0.7685934 |\n",
       "| 203 | -0.9013969 |  2.0964116 | -0.6009399 | -1.1988603 | -0.7685934 |\n",
       "| 204 |  0.5862099 |  0.4454555 |  1.3931034 | -1.1988603 |  1.0085914 |\n",
       "| 205 |  0.5862099 | -0.8540365 | -0.6009399 |  0.2369782 | -0.7685934 |\n",
       "| 206 |  0.5862099 | -0.8540365 | -0.6009399 |  0.2369782 | -0.7685934 |\n",
       "| 207 | -0.9013969 | -0.8540365 | -0.6009399 |  0.2369782 | -0.7685934 |\n",
       "| 208 |  0.5862099 | -0.8540365 | -0.6009399 |  1.6170823 | -0.7685934 |\n",
       "| 209 | -0.9013969 |  0.4454555 | -0.6009399 |  0.2369782 | -0.7685934 |\n",
       "| 210 | -0.9013969 | -0.8540365 | -0.6009399 | -1.1988603 | -0.7685934 |\n",
       "| 211 | -0.9013969 |  0.4454555 | -0.6009399 | -1.1988603 | -0.7685934 |\n",
       "| 212 | -0.9013969 | -0.8540365 | -0.6009399 | -1.1988603 | -0.7685934 |\n",
       "| 213 | -0.9013969 | -0.8540365 | -0.6009399 | -1.1988603 | -0.7685934 |\n",
       "| 214 |  0.5862099 |  2.0964116 |  1.3931034 |  1.6170823 |  1.9509426 |\n",
       "| 215 | -0.9013969 |  0.4454555 | -0.6009399 | -1.1988603 | -0.7685934 |\n",
       "| 216 | -0.9013969 | -0.8540365 | -0.6009399 |  0.2369782 | -0.7685934 |\n",
       "| 217 | -0.9013969 | -0.8540365 | -0.6009399 |  0.2369782 |  1.0085914 |\n",
       "| 218 |  0.5862099 | -0.8540365 | -0.6009399 | -1.1988603 | -0.7685934 |\n",
       "| 219 | -0.9013969 | -0.8540365 | -0.6009399 |  1.6170823 | -0.7685934 |\n",
       "| 220 |  0.5862099 | -0.8540365 | -0.6009399 | -1.1988603 |  1.0085914 |\n",
       "| 221 |  0.5862099 | -0.8540365 |  1.3931034 |  0.2369782 |  1.0085914 |\n",
       "| 222 | -0.9013969 | -0.8540365 | -0.6009399 | -1.1988603 | -0.7685934 |\n",
       "| 223 | -0.9013969 | -0.8540365 | -0.6009399 | -1.1988603 | -0.7685934 |\n",
       "| 224 | -0.9013969 |  0.4454555 | -0.6009399 | -1.1988603 | -0.7685934 |\n",
       "| 225 |  0.5862099 | -0.8540365 | -0.6009399 | -1.1988603 |  1.0085914 |\n",
       "| 226 | -0.9013969 |  0.4454555 | -0.6009399 |  0.2369782 | -0.7685934 |\n",
       "| 227 | -0.9013969 |  0.4454555 | -0.6009399 | -1.1988603 | -0.7685934 |\n",
       "| 228 |  1.9720960 |  0.4454555 |  1.3931034 |  0.2369782 |  1.0085914 |\n",
       "\n"
      ],
      "text/plain": [
       "    somatic    worries    unhappy    clingy     afraid    \n",
       "1    1.9720960  0.4454555 -0.6009399  0.2369782 -0.7685934\n",
       "2    1.9720960 -0.8540365 -0.6009399  0.2369782 -0.7685934\n",
       "3   -0.9013969 -0.8540365 -0.6009399 -1.1988603  1.0085914\n",
       "4   -0.9013969 -0.8540365 -0.6009399  0.2369782  1.0085914\n",
       "5    1.9720960  0.4454555 -0.6009399  0.2369782 -0.7685934\n",
       "6    0.5862099 -0.8540365 -0.6009399  0.2369782 -0.7685934\n",
       "7   -0.9013969  0.4454555  1.3931034  1.6170823 -0.7685934\n",
       "8   -0.9013969 -0.8540365 -0.6009399 -1.1988603 -0.7685934\n",
       "9    0.5862099 -0.8540365 -0.6009399 -1.1988603 -0.7685934\n",
       "10  -0.9013969 -0.8540365 -0.6009399 -1.1988603  1.0085914\n",
       "11  -0.9013969 -0.8540365 -0.6009399 -1.1988603 -0.7685934\n",
       "12   1.9720960  2.0964116  1.3931034  0.2369782  1.9509426\n",
       "13  -0.9013969 -0.8540365 -0.6009399 -1.1988603  1.9509426\n",
       "14  -0.9013969  0.4454555 -0.6009399  1.6170823 -0.7685934\n",
       "15   0.5862099  2.0964116  1.3931034  1.6170823  1.0085914\n",
       "16   1.9720960 -0.8540365 -0.6009399  0.2369782  1.0085914\n",
       "17   0.5862099  0.4454555 -0.6009399  1.6170823  1.0085914\n",
       "18   0.5862099  0.4454555 -0.6009399 -1.1988603 -0.7685934\n",
       "19   0.5862099  2.0964116  2.6586118  1.6170823  1.0085914\n",
       "20   0.5862099  0.4454555  1.3931034  1.6170823  1.0085914\n",
       "21   0.5862099 -0.8540365 -0.6009399 -1.1988603 -0.7685934\n",
       "22   1.9720960  0.4454555 -0.6009399 -1.1988603  1.0085914\n",
       "23   1.9720960  2.0964116  2.6586118  0.2369782  1.9509426\n",
       "24  -0.9013969  0.4454555  1.3931034  0.2369782  1.0085914\n",
       "25   0.5862099  2.0964116 -0.6009399 -1.1988603  1.9509426\n",
       "26   1.9720960  2.0964116  2.6586118  1.6170823  1.0085914\n",
       "27  -0.9013969 -0.8540365 -0.6009399 -1.1988603 -0.7685934\n",
       "28   0.5862099 -0.8540365 -0.6009399  1.6170823 -0.7685934\n",
       "29   0.5862099 -0.8540365  1.3931034  0.2369782 -0.7685934\n",
       "30  -0.9013969 -0.8540365 -0.6009399  0.2369782 -0.7685934\n",
       "⋮   ⋮          ⋮          ⋮          ⋮          ⋮         \n",
       "199  0.5862099 -0.8540365 -0.6009399  0.2369782 -0.7685934\n",
       "200  0.5862099 -0.8540365 -0.6009399  0.2369782  1.0085914\n",
       "201  0.5862099  0.4454555 -0.6009399  0.2369782  1.0085914\n",
       "202 -0.9013969 -0.8540365 -0.6009399 -1.1988603 -0.7685934\n",
       "203 -0.9013969  2.0964116 -0.6009399 -1.1988603 -0.7685934\n",
       "204  0.5862099  0.4454555  1.3931034 -1.1988603  1.0085914\n",
       "205  0.5862099 -0.8540365 -0.6009399  0.2369782 -0.7685934\n",
       "206  0.5862099 -0.8540365 -0.6009399  0.2369782 -0.7685934\n",
       "207 -0.9013969 -0.8540365 -0.6009399  0.2369782 -0.7685934\n",
       "208  0.5862099 -0.8540365 -0.6009399  1.6170823 -0.7685934\n",
       "209 -0.9013969  0.4454555 -0.6009399  0.2369782 -0.7685934\n",
       "210 -0.9013969 -0.8540365 -0.6009399 -1.1988603 -0.7685934\n",
       "211 -0.9013969  0.4454555 -0.6009399 -1.1988603 -0.7685934\n",
       "212 -0.9013969 -0.8540365 -0.6009399 -1.1988603 -0.7685934\n",
       "213 -0.9013969 -0.8540365 -0.6009399 -1.1988603 -0.7685934\n",
       "214  0.5862099  2.0964116  1.3931034  1.6170823  1.9509426\n",
       "215 -0.9013969  0.4454555 -0.6009399 -1.1988603 -0.7685934\n",
       "216 -0.9013969 -0.8540365 -0.6009399  0.2369782 -0.7685934\n",
       "217 -0.9013969 -0.8540365 -0.6009399  0.2369782  1.0085914\n",
       "218  0.5862099 -0.8540365 -0.6009399 -1.1988603 -0.7685934\n",
       "219 -0.9013969 -0.8540365 -0.6009399  1.6170823 -0.7685934\n",
       "220  0.5862099 -0.8540365 -0.6009399 -1.1988603  1.0085914\n",
       "221  0.5862099 -0.8540365  1.3931034  0.2369782  1.0085914\n",
       "222 -0.9013969 -0.8540365 -0.6009399 -1.1988603 -0.7685934\n",
       "223 -0.9013969 -0.8540365 -0.6009399 -1.1988603 -0.7685934\n",
       "224 -0.9013969  0.4454555 -0.6009399 -1.1988603 -0.7685934\n",
       "225  0.5862099 -0.8540365 -0.6009399 -1.1988603  1.0085914\n",
       "226 -0.9013969  0.4454555 -0.6009399  0.2369782 -0.7685934\n",
       "227 -0.9013969  0.4454555 -0.6009399 -1.1988603 -0.7685934\n",
       "228  1.9720960  0.4454555  1.3931034  0.2369782  1.0085914"
      ]
     },
     "metadata": {},
     "output_type": "display_data"
    }
   ],
   "source": [
    "opt$scoremat"
   ]
  },
  {
   "cell_type": "markdown",
   "metadata": {},
   "source": [
    "Esaminiamo la relazione tra lo scoring basato sul metodo Likert con lo scoring ottimale."
   ]
  },
  {
   "cell_type": "code",
   "execution_count": 11,
   "metadata": {
    "vscode": {
     "languageId": "r"
    }
   },
   "outputs": [
    {
     "data": {
      "image/png": "[encoded data removed]",
      "text/plain": [
       "plot without title"
      ]
     },
     "metadata": {
      "image/png": {
       "height": 420,
       "width": 679.6117
      }
     },
     "output_type": "display_data"
    }
   ],
   "source": [
    "plot(opt$scoremat[, 1], sdq_emo$somatic)"
   ]
  },
  {
   "cell_type": "code",
   "execution_count": 12,
   "metadata": {
    "vscode": {
     "languageId": "r"
    }
   },
   "outputs": [
    {
     "data": {
      "image/png": "[encoded data removed]",
      "text/plain": [
       "plot without title"
      ]
     },
     "metadata": {
      "image/png": {
       "height": 420,
       "width": 679.6117
      }
     },
     "output_type": "display_data"
    }
   ],
   "source": [
    "plot(opt$scoremat[, 5], sdq_emo$afraid)"
   ]
  },
  {
   "cell_type": "markdown",
   "metadata": {},
   "source": [
    "Guardando ai grafici ottenuti, si può notare che 1) i punteggi per le categorie successive aumentano quasi linearmente; 2) le categorie sono approssimativamente equidistanti. Concludiamo che per la valutazione degli item ordinali nella scala dei Sintomi Emotivi del SDQ, la scala Likert è appropriata, e non si può ottenere molto di più dall'ottimizzazione della scala rispetto alla semplice scala Likert di base."
   ]
  },
  {
   "cell_type": "markdown",
   "metadata": {},
   "source": [
    "## Session Info"
   ]
  },
  {
   "cell_type": "code",
   "execution_count": 13,
   "metadata": {
    "vscode": {
     "languageId": "r"
    }
   },
   "outputs": [
    {
     "data": {
      "text/plain": [
       "R version 4.3.2 (2023-10-31)\n",
       "Platform: aarch64-apple-darwin20 (64-bit)\n",
       "Running under: macOS Sonoma 14.3.1\n",
       "\n",
       "Matrix products: default\n",
       "BLAS:   /Library/Frameworks/R.framework/Versions/4.3-arm64/Resources/lib/libRblas.0.dylib \n",
       "LAPACK: /Library/Frameworks/R.framework/Versions/4.3-arm64/Resources/lib/libRlapack.dylib;  LAPACK version 3.11.0\n",
       "\n",
       "locale:\n",
       "[1] C/UTF-8/C/C/C/C\n",
       "\n",
       "time zone: Europe/Rome\n",
       "tzcode source: internal\n",
       "\n",
       "attached base packages:\n",
       "[1] stats     graphics  grDevices utils     datasets  methods   base     \n",
       "\n",
       "other attached packages:\n",
       " [1] aspect_1.0-6      ggokabeito_0.1.0  viridis_0.6.5     viridisLite_0.4.2\n",
       " [5] ggpubr_0.6.0      ggExtra_0.10.1    bayesplot_1.11.0  gridExtra_2.3    \n",
       " [9] patchwork_1.2.0   semTools_0.5-6    semPlot_1.1.6     lavaan_0.6-17    \n",
       "[13] psych_2.4.1       scales_1.3.0      markdown_1.12     knitr_1.45       \n",
       "[17] lubridate_1.9.3   forcats_1.0.0     stringr_1.5.1     dplyr_1.1.4      \n",
       "[21] purrr_1.0.2       readr_2.1.5       tidyr_1.3.1       tibble_3.2.1     \n",
       "[25] ggplot2_3.4.4     tidyverse_2.0.0   here_1.0.1       \n",
       "\n",
       "loaded via a namespace (and not attached):\n",
       "  [1] rstudioapi_0.15.0  jsonlite_1.8.8     magrittr_2.0.3    \n",
       "  [4] TH.data_1.1-2      estimability_1.4.1 nloptr_2.0.3      \n",
       "  [7] rmarkdown_2.25     vctrs_0.6.5        minqa_1.2.6       \n",
       " [10] base64enc_0.1-3    rstatix_0.7.2      htmltools_0.5.7   \n",
       " [13] broom_1.0.5        Formula_1.2-5      htmlwidgets_1.6.4 \n",
       " [16] plyr_1.8.9         sandwich_3.1-0     emmeans_1.10.0    \n",
       " [19] zoo_1.8-12         uuid_1.2-0         igraph_2.0.1.1    \n",
       " [22] mime_0.12          lifecycle_1.0.4    pkgconfig_2.0.3   \n",
       " [25] Matrix_1.6-5       R6_2.5.1           fastmap_1.1.1     \n",
       " [28] shiny_1.8.0        digest_0.6.34      OpenMx_2.21.11    \n",
       " [31] fdrtool_1.2.17     colorspace_2.1-0   rprojroot_2.0.4   \n",
       " [34] Hmisc_5.1-1        fansi_1.0.6        timechange_0.3.0  \n",
       " [37] abind_1.4-5        compiler_4.3.2     withr_3.0.0       \n",
       " [40] glasso_1.11        htmlTable_2.4.2    backports_1.4.1   \n",
       " [43] carData_3.0-5      ggsignif_0.6.4     MASS_7.3-60.0.1   \n",
       " [46] corpcor_1.6.10     gtools_3.9.5       tools_4.3.2       \n",
       " [49] pbivnorm_0.6.0     foreign_0.8-86     zip_2.3.1         \n",
       " [52] httpuv_1.6.14      nnet_7.3-19        glue_1.7.0        \n",
       " [55] quadprog_1.5-8     nlme_3.1-164       promises_1.2.1    \n",
       " [58] lisrelToR_0.3      grid_4.3.2         pbdZMQ_0.3-11     \n",
       " [61] checkmate_2.3.1    cluster_2.1.6      reshape2_1.4.4    \n",
       " [64] generics_0.1.3     gtable_0.3.4       tzdb_0.4.0        \n",
       " [67] data.table_1.15.0  hms_1.1.3          car_3.1-2         \n",
       " [70] utf8_1.2.4         sem_3.1-15         pillar_1.9.0      \n",
       " [73] IRdisplay_1.1      rockchalk_1.8.157  later_1.3.2       \n",
       " [76] splines_4.3.2      lattice_0.22-5     survival_3.5-7    \n",
       " [79] kutils_1.73        tidyselect_1.2.0   miniUI_0.1.1.1    \n",
       " [82] pbapply_1.7-2      stats4_4.3.2       xfun_0.42         \n",
       " [85] qgraph_1.9.8       arm_1.13-1         stringi_1.8.3     \n",
       " [88] boot_1.3-28.1      evaluate_0.23      codetools_0.2-19  \n",
       " [91] mi_1.1             cli_3.6.2          RcppParallel_5.1.7\n",
       " [94] IRkernel_1.3.2     rpart_4.1.23       xtable_1.8-4      \n",
       " [97] repr_1.1.6         munsell_0.5.0      Rcpp_1.0.12       \n",
       "[100] coda_0.19-4.1      png_0.1-8          XML_3.99-0.16.1   \n",
       "[103] parallel_4.3.2     ellipsis_0.3.2     jpeg_0.1-10       \n",
       "[106] lme4_1.1-35.1      mvtnorm_1.2-4      openxlsx_4.2.5.2  \n",
       "[109] crayon_1.5.2       rlang_1.1.3        multcomp_1.4-25   \n",
       "[112] mnormt_2.1.1      "
      ]
     },
     "metadata": {},
     "output_type": "display_data"
    }
   ],
   "source": [
    "sessionInfo()"
   ]
  }
 ],
 "metadata": {
  "kernelspec": {
   "display_name": "R",
   "language": "R",
   "name": "ir"
  },
  "language_info": {
   "codemirror_mode": "r",
   "file_extension": ".r",
   "mimetype": "text/x-r-source",
   "name": "R",
   "pygments_lexer": "r",
   "version": "4.3.2"
  }
 },
 "nbformat": 4,
 "nbformat_minor": 2
}