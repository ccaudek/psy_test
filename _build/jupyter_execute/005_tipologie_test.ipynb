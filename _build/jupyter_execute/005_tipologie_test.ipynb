{
 "cells": [
  {
   "attachments": {},
   "cell_type": "markdown",
   "id": "ad7f8f81",
   "metadata": {},
   "source": [
    "(classes-test-notebook)=\n",
    "# Tipologie dei test psicometrici \n",
    "\n",
    "Prima di iniziare lo sviluppo di un test psicometrico, il ricercatore\n",
    "deve decidere quale tipologia di strumento sia più utile per affrontare\n",
    "il problema che ha di fronte. Possiamo infatti distinguere tra test\n",
    "orientati al criterio e test riferiti alla norma.\n",
    "\n",
    "### Test orientati al criterio\n",
    "\n",
    "I test orientati al criterio sono utilizzati per confrontare gruppi predefiniti di individui. Gli item del test vengono selezionati in base alla loro capacità empirica di discriminare tra gruppi criterio come malati/sani, bocciati/promossi, schizofrenici/depressi. Questi test sono costruiti utilizzando metodi empirici, piuttosto che teorici. Sebbene abbiano il vantaggio di avere una chiara utilità pratica, presentano il grande svantaggio di identificare fattori aventi una scarsa validità di costrutto, che risultano inutili per la comprensione dei processi psicologici.\n",
    "\n",
    "Il processo di sviluppo della scala è relativamente semplice, in quanto si devono selezionare gli item che mostrano punteggi differenti in gruppi-criterio noti. Tuttavia, non sempre i gruppi possono essere definiti in modo attendibile, oppure la definizione dei gruppi criterio potrebbe avere senso solo all'interno di una teoria specifica, ma non essere generalizzabile ad altre tradizioni teoriche. In questo caso, il test rischia di essere troppo specifico, dimostrandosi utile solo nelle condizioni per cui è stato sviluppato, ma con scarsa capacità di poter essere utilizzato in condizioni diverse.\n",
    "\n",
    "Lo svantaggio principale dei test orientati al criterio è che il significato psicologico dei punteggi è ignoto. Non avendo una teoria sulle variabili psicologiche che distinguono due gruppi, un buon test discriminante non ci aiuta a capire perché tali gruppi siano diversi. Non è possibile sapere quanti costrutti siano coinvolti nella determinazione di un punteggio, e due punteggi uguali non implicano la presenza dei medesimi meccanismi psicologici. Utilizzando questi test, non è possibile incrementare le nostre conoscenze in maniera incrementale.\n",
    "\n",
    "Il problema principale per lo sviluppo di questi strumenti è la definizione del criterio: qual è la variabile numerica che discrimina in modo maggiore tra i gruppi in esame (ad esempio, malati/sani)? È necessario selezionare una batteria iniziale di item sufficientemente ampia, che non richiede necessariamente una validità di contenuto o di facciata. Successivamente, gli item che discriminano efficacemente tra i gruppi o gli item fortemente associati con il punteggio criterio vengono selezionati, e la capacità discriminativa degli item selezionati viene replicata su un diverso campione.\n",
    "\n",
    "### Test basati sulla norma\n",
    "\n",
    "I test basati sulla norma forniscono una misura della posizione del rispondente in relazione alla distribuzione di punteggi ottenuti da un campione rappresentativo della popolazione di riferimento. La maggior parte dei test di personalità, attitudinali e cognitivi sono test basati sulla norma.\n",
    "\n",
    "La scala di misurazione utilizzata per il confronto può avere diverse caratteristiche. I punteggi standardizzati, con media $0$ e varianza unitaria, calcolati rispetto al gruppo di riferimento, sono spesso convertiti in una scala diversa, come quella con media $500$ e deviazione standard di $100$ per i punteggi SAT o quella con media $100$ e deviazione standard di $15$ per i punteggi WAIS-VI. La trasformazione dei punteggi è facile da eseguire. Il punteggio $Y$ di un rispondente può essere trasformato in un punteggio standard $X_i$, avente una media target $\\mu_s$ e una deviazione standard $\\sigma_s$ nel modo seguente:\n",
    "\n",
    "$$\n",
    "X_i = \\mu_s + z_i \\sigma_s\n",
    "$$\n",
    "\n",
    "dove $z$ è il punteggio standardizzato $z = \\frac{Y - \\bar{Y}}{s_Y}$.\n"
   ]
  }
 ],
 "metadata": {
  "jupytext": {
   "cell_metadata_filter": "-all",
   "main_language": "python",
   "notebook_metadata_filter": "-all"
  },
  "language_info": {
   "codemirror_mode": {
    "name": "ipython",
    "version": 3
   },
   "file_extension": ".py",
   "mimetype": "text/x-python",
   "name": "python",
   "nbconvert_exporter": "python",
   "pygments_lexer": "ipython3",
   "version": "3.11.4"
  }
 },
 "nbformat": 4,
 "nbformat_minor": 5
}