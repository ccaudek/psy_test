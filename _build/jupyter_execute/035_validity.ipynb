{
 "cells": [
  {
   "attachments": {},
   "cell_type": "markdown",
   "id": "2c19761a",
   "metadata": {},
   "source": [
    "(validity-notebook)=\n",
    "# La validità del test"
   ]
  },
  {
   "cell_type": "code",
   "execution_count": 1,
   "id": "b58f4e19",
   "metadata": {
    "tags": [
     "remove_cell"
    ],
    "vscode": {
     "languageId": "r"
    }
   },
   "outputs": [],
   "source": [
    "source(\"_common.R\")"
   ]
  },
  {
   "attachments": {},
   "cell_type": "markdown",
   "id": "9c88acc2",
   "metadata": {},
   "source": [
    "Oltre all'affidabilità, la seconda caratteristica fondamentale che uno strumento psicometrico deve possedere è la validità.\n",
    "\n",
    "La *validità* di un test psicometrico indica quanto il test misuri effettivamente ciò che si propone di misurare. La validità di un test è valutata sulla base della sua capacità di raggiungere i suoi obiettivi ed è supportata da prove empiriche.\n",
    "\n",
    "Alcuni tipi comuni di validità includono:\n",
    "1. Validità di contenuto: riguarda quanto il contenuto del test rappresenti adeguatamente il costrutto che si intende misurare.\n",
    "2. Validità di criterio: si riferisce all'associazione tra i punteggi del test e un criterio esterno che dovrebbe essere correlato al costrutto misurato. Questa può essere suddivisa in:\n",
    "   - Validità predittiva: riguarda la capacità del test di predire il comportamento o il risultato futuro correlato al costrutto in esame.\n",
    "   - Validità concurrente: riguarda la correlazione tra i punteggi del test e il criterio esterno che viene misurato contemporaneamente.\n",
    "3. Validità di costrutto: riguarda la capacità del test di misurare il costrutto o la caratteristica psicologica specifica che si intende valutare.\n",
    "4. Validità convergente e discriminante: riguarda l'associazione del test con altre misure che dovrebbero essere correlate (validità di convergenza) o non correlate (validità di discriminazione) al costrutto misurato."
   ]
  },
  {
   "attachments": {},
   "cell_type": "markdown",
   "id": "455bbb23",
   "metadata": {},
   "source": [
    "<!-- [^2]: Vedremo in seguito -->\n",
    "<!--     (§ [\\[ch:err_stnd_stima\\]](#ch:err_stnd_stima){reference-type=\"ref\" -->\n",
    "<!--     reference=\"ch:err_stnd_stima\"}) come il livello di abilità latente -->\n",
    "<!--     (il punteggio vero) possa essere stimato con la formula di Kelley -->\n",
    "<!--     (1923), ovvero $$\\begin{aligned} -->\n",
    "<!--     \\hat{T}_i &= \\rho_{XT} x_i + (1 - \\rho_{XT})\\mu_x\\notag\\\\ -->\n",
    "<!--     &= \\mu_x + \\rho_{XT} (x_i - \\mu_x),\\notag\\end{aligned}$$ dove -->\n",
    "<!--     $\\mu_x$ è la media dei punteggio osservato e $\\hat{T}_i$ è la stima -->\n",
    "<!--     del punteggio vero per l'$i$-esimo rispondente. -->\n",
    "\n",
    "<!-- [^3]:  -->"
   ]
  }
 ],
 "metadata": {
  "jupytext": {
   "cell_metadata_filter": "fig.cap,tags,-all",
   "main_language": "R",
   "notebook_metadata_filter": "-all"
  },
  "kernelspec": {
   "display_name": "R",
   "language": "R",
   "name": "ir"
  },
  "language_info": {
   "codemirror_mode": "r",
   "file_extension": ".r",
   "mimetype": "text/x-r-source",
   "name": "R",
   "pygments_lexer": "r",
   "version": "4.3.1"
  }
 },
 "nbformat": 4,
 "nbformat_minor": 5
}