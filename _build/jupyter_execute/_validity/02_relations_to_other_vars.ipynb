{
 "cells": [
  {
   "attachments": {},
   "cell_type": "markdown",
   "id": "2c19761a",
   "metadata": {},
   "source": [
    "(relations-to-other-variables-notebook)=\n",
    "# Relazioni test-criterio"
   ]
  },
  {
   "cell_type": "markdown",
   "id": "0a912017",
   "metadata": {},
   "source": [
    "In questo capitolo, ci focalizziamo su un aspetto specifico della validità precedentemente menzionato: la relazione test-criterio. Per esplorare più a fondo questo concetto, adotteremo un approccio quantitativo, utilizzando la regressione logistica come strumento di indagine. Questo metodo ci permette di valutare in modo dettagliato e preciso come i punteggi di un test possano essere correlati o predittivi rispetto a un determinato criterio esterno, offrendo così una visione più approfondita della validità di un dato strumento di valutazione psicometrica."
   ]
  },
  {
   "cell_type": "code",
   "execution_count": 1,
   "id": "b58f4e19",
   "metadata": {
    "tags": [
     "remove_cell"
    ],
    "vscode": {
     "languageId": "r"
    }
   },
   "outputs": [
    {
     "ename": "ERROR",
     "evalue": "Error in library(ROCit): non c'è alcun pacchetto chiamato ‘ROCit’\n",
     "output_type": "error",
     "traceback": [
      "Error in library(ROCit): non c'è alcun pacchetto chiamato ‘ROCit’\nTraceback:\n",
      "1. suppressPackageStartupMessages({\n .     library(readxl)\n .     library(haven)\n .     library(ROCit)\n .     library(psych)\n .     library(tidyverse)\n .     library(modelsummary)\n . })",
      "2. withCallingHandlers(expr, packageStartupMessage = function(c) tryInvokeRestart(\"muffleMessage\"))",
      "3. library(ROCit)   # at line 7 of file <text>"
     ]
    }
   ],
   "source": [
    "# Define a function for formatting numbers\n",
    "comma <- function(x, d = 2) format(x, digits = d, big.mark = \",\")\n",
    "\n",
    "suppressPackageStartupMessages({\n",
    "    library(readxl) # for reading excel data\n",
    "    library(haven) # for reading SPSS data\n",
    "    library(ROCit) # for ROC analysis\n",
    "    library(psych)\n",
    "    library(tidyverse)\n",
    "    library(modelsummary) # for summarizing data\n",
    "})\n",
    "\n",
    "options(repr.plot.width = 7, repr.plot.height = 7 / 1.618033988749895)\n"
   ]
  },
  {
   "attachments": {},
   "cell_type": "markdown",
   "id": "455bbb23",
   "metadata": {},
   "source": [
    "<!-- [^2]: Vedremo in seguito -->\n",
    "<!--     (§ [\\[ch:err_stnd_stima\\]](#ch:err_stnd_stima){reference-type=\"ref\" -->\n",
    "<!--     reference=\"ch:err_stnd_stima\"}) come il livello di abilità latente -->\n",
    "<!--     (il punteggio vero) possa essere stimato con la formula di Kelley -->\n",
    "<!--     (1923), ovvero $$\\begin{aligned} -->\n",
    "<!--     \\hat{T}_i &= \\rho_{XT} x_i + (1 - \\rho_{XT})\\mu_x\\notag\\\\ -->\n",
    "<!--     &= \\mu_x + \\rho_{XT} (x_i - \\mu_x),\\notag\\end{aligned}$$ dove -->\n",
    "<!--     $\\mu_x$ è la media dei punteggio osservato e $\\hat{T}_i$ è la stima -->\n",
    "<!--     del punteggio vero per l'$i$-esimo rispondente. -->\n",
    "\n",
    "<!-- [^3]:  -->"
   ]
  },
  {
   "cell_type": "markdown",
   "id": "0d02bc95",
   "metadata": {},
   "source": [
    "## Analisi della Relazione Test-Criterio mediante la Regressione Logistica\n",
    "\n",
    "In questo capitolo, esploriamo approfonditamente la relazione tra i punteggi dei test e vari criteri esterni, focalizzandoci su come i test possono predire o differenziare fenomeni specifici. Questo tipo di analisi è cruciale per valutare la validità dei test in contesti pratici e teorici. \n",
    "\n",
    "### Categorie di Evidenze basate su Relazioni con Altre Variabili\n",
    "\n",
    "In psicometria, vengono utilizzate diverse categorie di prove per valutare le relazioni dei punteggi dei test con altre variabili:\n",
    "\n",
    "1. **Relazioni Test-Criterio:**\n",
    "   - Queste si concentrano sull'uso dei punteggi dei test per prevedere il rendimento o lo stato attuale in vari ambiti, come l'adattamento accademico o lavorativo.\n",
    "\n",
    "2. **Differenze tra Gruppi:**\n",
    "   - Analizziamo se i test evidenziano differenze significative nei punteggi tra gruppi definiti da criteri specifici, come la presenza o assenza di una diagnosi clinica.\n",
    "\n",
    "3. **Prove di Convergenza e Discriminazione:**\n",
    "   - Esploriamo se i punteggi di un test sono correlati a quelli di altri test che misurano costrutti simili (validità convergente) e se sono meno correlati a test che misurano costrutti diversi (validità discriminante).\n",
    "\n",
    "Quando si affronta la questione delle relazioni test-criterio, un aspetto cruciale è la selezione di un criterio appropriato e la valutazione quantitativa della relazione tra il test e il criterio. In situazioni dove il criterio è di natura categorica, come il superamento o il fallimento di un test, la regressione logistica diventa uno strumento essenziale.\n",
    "\n",
    "La regressione logistica è un metodo statistico usato per analizzare la relazione tra una variabile dipendente binaria e una o più variabili indipendenti. Questa tecnica stima la probabilità che un'osservazione appartenga a una delle categorie della variabile dipendente, basandosi sui valori delle variabili indipendenti.\n",
    "\n",
    "Supponiamo che una variabile risposta $Y_i$ (per l'osservazione $i$-esima, con $i = 1, \\dots, n$) assuma due modalità, definite come successo e insuccesso. Ogni osservazione può essere associata a un vettore di variabili esplicative ($x_1, \\dots, x_p$), ma per semplicità, considereremo il caso di una singola variabile indipendente.\n",
    "\n",
    "Nella regressione logistica, il logaritmo delle probabilità delle due categorie è modellato come una funzione lineare delle variabili indipendenti. Questo ci permette di esaminare come i cambiamenti nelle variabili indipendenti influenzino la probabilità di successo o insuccesso.\n",
    "\n",
    "Nel contesto dei test psicometrici, la regressione logistica può essere usata per determinare il grado in cui i punteggi di un test sono predittivi di un risultato categorico. Ad esempio, possiamo valutare la probabilità che gli studenti con determinati punteggi ad un test di ammissione universitario riescano o meno nel loro primo anno accademico.\n",
    "\n",
    "Questo metodo fornisce un quadro più chiaro della validità di un test nel predire risultati specifici, migliorando così l'affidabilità e l'applicabilità dei test in vari contesti. Attraverso l'uso della regressione logistica, possiamo quindi formulare interpretazioni più precise e informate dei risultati dei test, contribuendo a una migliore comprensione della validità di uno strumento psicometrico.\n",
    "\n",
    "Nello specifico, possiamo dire che l'obiettivo della regressione logistica è studiare la relazione tra la probabilità di risposta\n",
    "\n",
    "$$\n",
    "Pr(Y=1 | X=x_i) \\equiv Pr(Y_i) \\equiv \\pi_i\n",
    "$$\n",
    "\n",
    "e la variabile esplicativa $x$.\n",
    "\n",
    "La componente sistematica del modello è espressa come funzione lineare del predittore\n",
    "\n",
    "$$\n",
    "\\eta_i = logit(\\pi_i) = \\alpha + \\beta x_i.\n",
    "$$\n",
    "\n",
    "La componente aleatoria del modello suppone l'esistenza di $k$ osservazioni indipendenti $y_1, y_2, \\dots, y_k$, ciascuna delle quali viene trattata come la realizzazione di una variabile casuale $Y_i$.\n",
    "Nel caso di dati ragruppati, si assume che $Y_i$ abbia una distribuzione binomiale\n",
    "\n",
    "$$\n",
    "Y_i \\sim Bin(n_i, \\pi_i),\n",
    "$$\n",
    "\n",
    "con parametri $n_i$ e $\\pi_i$. Per dati individuali (uno per ciascun valore $x_i$), $n_i=1, \\forall i$.\n",
    "\n",
    "La funzione link del modello trasforma il predittore lineare nel valore atteso della variabile risposta condizionato alla variabile $X$:\n",
    "\n",
    "$$\n",
    "\\begin{equation}\n",
    "\\pi_i = g(\\eta_i) = \\frac{e^{\\alpha + \\beta x_i}}{1+e^{\\alpha + \\beta x_i}}.\n",
    "\\end{equation}\n",
    "$$ (eq-reg-logistic-prob)\n",
    "\n",
    "In sintesi, la regressione logistica è una tecnica statistica che stima la probabilità che l'evento $Y = 1$ si verifichi per ciascun valore della variabile indipendente $X$.\n",
    "\n",
    "### Un Esempio Pratico\n",
    "\n",
    "Per fare un esempio pratico, consideriamo i dati dello studio [Pitfalls When Using Area Under the Curve to Evaluate Item Content for Early Screening Tests for Autism](https://journals.sagepub.com/doi/10.1177/07342829211067128) di Lucas, Brewer e Young (2022).\n",
    "\n",
    "Il campione raccolto da Nah et al. (2018) include 270 bambini di età compresa tra 12 e 36 mesi (M = 25.4, SD = 7.0). Sulla base di una diagnosi clinica eseguita secondo il DSM-5, 106 bambini sono stati diagnosticati con ASD (*Autism Spectrum Disorder*, Disturbo dello Spettro Autistico), 86 erano in sviluppo non tipico (non-TD) e 78 erano considerati in sviluppo tipico (TD). Qui considereremo solo i gruppi ASD e non-TD.\n",
    "\n",
    "Il test di interesse è l'*Autism Detection in Early Childhood* (ADEC). Si tratta di una checklist comportamentale composta da 16 item, appositamente sviluppata per rilevare comportamenti pre-verbali che possono essere predittivi dell'autismo nei bambini di età inferiore ai tre anni (Young, 2007).\n",
    "\n",
    "Leggiamo i dati."
   ]
  },
  {
   "cell_type": "code",
   "execution_count": 24,
   "id": "6b366c49",
   "metadata": {
    "vscode": {
     "languageId": "r"
    }
   },
   "outputs": [
    {
     "name": "stdout",
     "output_type": "stream",
     "text": [
      "Rows: 192\n",
      "Columns: 21\n",
      "$ ID                                                             \u001b[3m\u001b[90m<dbl>\u001b[39m\u001b[23m 2, 3, 4…\n",
      "$ `Sex (1=Male; 2=Female)`                                       \u001b[3m\u001b[90m<dbl>\u001b[39m\u001b[23m 1, 1, 2…\n",
      "$ `Age (in Months)`                                              \u001b[3m\u001b[90m<dbl>\u001b[39m\u001b[23m 12, 12,…\n",
      "$ ADEC_I01                                                       \u001b[3m\u001b[90m<dbl>\u001b[39m\u001b[23m 0, 2, 2…\n",
      "$ ADEC_I02                                                       \u001b[3m\u001b[90m<dbl>\u001b[39m\u001b[23m 0, 1, 2…\n",
      "$ ADEC_I03                                                       \u001b[3m\u001b[90m<dbl>\u001b[39m\u001b[23m 0, 0, 0…\n",
      "$ ADEC_I04                                                       \u001b[3m\u001b[90m<dbl>\u001b[39m\u001b[23m 0, 1, 2…\n",
      "$ ADEC_I05                                                       \u001b[3m\u001b[90m<dbl>\u001b[39m\u001b[23m 0, 1, 0…\n",
      "$ ADEC_I06                                                       \u001b[3m\u001b[90m<dbl>\u001b[39m\u001b[23m 0, 1, 2…\n",
      "$ ADEC_I07                                                       \u001b[3m\u001b[90m<dbl>\u001b[39m\u001b[23m 2, 2, 2…\n",
      "$ ADEC_I08                                                       \u001b[3m\u001b[90m<dbl>\u001b[39m\u001b[23m 0, 1, 1…\n",
      "$ ADEC_I09                                                       \u001b[3m\u001b[90m<dbl>\u001b[39m\u001b[23m 0, 0, 1…\n",
      "$ ADEC_I10                                                       \u001b[3m\u001b[90m<dbl>\u001b[39m\u001b[23m 0, 1, 2…\n",
      "$ ADEC_I11                                                       \u001b[3m\u001b[90m<dbl>\u001b[39m\u001b[23m 0, 1, 1…\n",
      "$ ADEC_I12                                                       \u001b[3m\u001b[90m<dbl>\u001b[39m\u001b[23m 1, 0, 0…\n",
      "$ ADEC_I13                                                       \u001b[3m\u001b[90m<dbl>\u001b[39m\u001b[23m 1, 1, 1…\n",
      "$ ADEC_I14                                                       \u001b[3m\u001b[90m<dbl>\u001b[39m\u001b[23m 1, 0, 1…\n",
      "$ ADEC_I15                                                       \u001b[3m\u001b[90m<dbl>\u001b[39m\u001b[23m 1, 2, 1…\n",
      "$ ADEC_I16                                                       \u001b[3m\u001b[90m<dbl>\u001b[39m\u001b[23m 0, 1, 1…\n",
      "$ `Diagnosis(1=Non-typically developing; 2=ASD; 3=Neurotypical)` \u001b[3m\u001b[90m<dbl>\u001b[39m\u001b[23m 1, 1, 1…\n",
      "$ asd                                                            \u001b[3m\u001b[90m<chr>\u001b[39m\u001b[23m \"Non-TD…\n"
     ]
    }
   ],
   "source": [
    "tmp_path <- tempfile(fileext = \"xlsx\") # temporary file\n",
    "download.file(\"https://osf.io/download/tsm7x/\", destfile = tmp_path)\n",
    "dat1 <- readxl::read_xlsx(tmp_path, na = \"NA\")\n",
    "dat1$asd <- recode(\n",
    "    dat1$`Diagnosis(1=Non-typically developing; 2=ASD; 3=Neurotypical)`,\n",
    "    `1` = \"Non-TD\",\n",
    "    `2` = \"ASD\",\n",
    "    `3` = \"TD\"\n",
    ")\n",
    "# Filter out Neurotypical\n",
    "dat1_sub <- filter(dat1, asd != \"TD\")\n",
    "glimpse(dat1_sub)\n"
   ]
  },
  {
   "cell_type": "markdown",
   "id": "e0dfd3a5",
   "metadata": {},
   "source": [
    "Iniziamo trovando il punteggio totale ADEC. Si noti che la somma sarà NA se un item è NA."
   ]
  },
  {
   "cell_type": "code",
   "execution_count": 25,
   "id": "f4c68759",
   "metadata": {
    "vscode": {
     "languageId": "r"
    }
   },
   "outputs": [],
   "source": [
    "dat1_sub$ADEC <- rowSums(select(dat1_sub, ADEC_I01:ADEC_I16)) # NA if any item is NA\n",
    "# Or treat missing as 0\n",
    "dat1_sub$ADEC_rm_na <- rowSums(select(dat1_sub, ADEC_I01:ADEC_I16), na.rm = TRUE)"
   ]
  },
  {
   "cell_type": "markdown",
   "id": "c5014b56",
   "metadata": {},
   "source": [
    "Utilizzeremo il modello di regressione logistica per esaminare la relazione tra il punteggio totale del test ADEC e la probabilità che il bambino appartenga al gruppo diagnostico ASD.\n",
    "\n",
    "Esaminiamo la distribuzione del punteggio totale di ADEC in base alla diagnosi:"
   ]
  },
  {
   "cell_type": "code",
   "execution_count": 26,
   "id": "1b3b549f",
   "metadata": {
    "vscode": {
     "languageId": "r"
    }
   },
   "outputs": [
    {
     "name": "stderr",
     "output_type": "stream",
     "text": [
      "\u001b[1m\u001b[22m`stat_bin()` using `bins = 30`. Pick better value with `binwidth`.\n",
      "Warning message:\n",
      "“\u001b[1m\u001b[22mRemoved 12 rows containing non-finite values (`stat_bin()`).”\n"
     ]
    },
    {
     "data": {
      "image/png": "[encoded data removed]",
      "text/plain": [
       "plot without title"
      ]
     },
     "metadata": {
      "image/png": {
       "height": 259.5743,
       "width": 420
      }
     },
     "output_type": "display_data"
    }
   ],
   "source": [
    "ggplot(dat1_sub, aes(x = ADEC)) +\n",
    "    geom_histogram() +\n",
    "    facet_wrap(~asd)"
   ]
  },
  {
   "cell_type": "markdown",
   "id": "652b4c1f",
   "metadata": {},
   "source": [
    "Ricodifichiamo `asd` in modo tale che assuma valore 1 per i bambini con ASD e 0 altrimenti."
   ]
  },
  {
   "cell_type": "code",
   "execution_count": 30,
   "id": "911014d3",
   "metadata": {
    "vscode": {
     "languageId": "r"
    }
   },
   "outputs": [
    {
     "data": {
      "text/html": [
       "<style>\n",
       ".list-inline {list-style: none; margin:0; padding: 0}\n",
       ".list-inline>li {display: inline-block}\n",
       ".list-inline>li:not(:last-child)::after {content: \"\\00b7\"; padding: 0 .5ex}\n",
       "</style>\n",
       "<ol class=list-inline><li>0</li><li>0</li><li>0</li><li>0</li><li>0</li><li>0</li><li>0</li><li>1</li><li>0</li><li>0</li><li>0</li><li>0</li><li>0</li><li>0</li><li>1</li><li>1</li><li>0</li><li>0</li><li>0</li><li>0</li><li>0</li><li>0</li><li>0</li><li>0</li><li>0</li><li>0</li><li>0</li><li>0</li><li>0</li><li>0</li><li>0</li><li>0</li><li>1</li><li>1</li><li>0</li><li>0</li><li>0</li><li>0</li><li>0</li><li>0</li><li>0</li><li>0</li><li>0</li><li>1</li><li>0</li><li>0</li><li>1</li><li>1</li><li>0</li><li>1</li><li>1</li><li>0</li><li>1</li><li>1</li><li>1</li><li>0</li><li>1</li><li>1</li><li>0</li><li>0</li><li>1</li><li>0</li><li>0</li><li>1</li><li>1</li><li>1</li><li>1</li><li>1</li><li>0</li><li>1</li><li>0</li><li>1</li><li>1</li><li>1</li><li>1</li><li>0</li><li>0</li><li>0</li><li>1</li><li>1</li><li>1</li><li>0</li><li>0</li><li>1</li><li>1</li><li>1</li><li>1</li><li>0</li><li>0</li><li>0</li><li>1</li><li>1</li><li>0</li><li>1</li><li>1</li><li>1</li><li>1</li><li>1</li><li>0</li><li>1</li><li>0</li><li>1</li><li>1</li><li>0</li><li>1</li><li>1</li><li>1</li><li>1</li><li>0</li><li>0</li><li>1</li><li>1</li><li>1</li><li>1</li><li>0</li><li>0</li><li>0</li><li>0</li><li>1</li><li>0</li><li>1</li><li>1</li><li>1</li><li>0</li><li>1</li><li>0</li><li>1</li><li>1</li><li>1</li><li>1</li><li>1</li><li>1</li><li>0</li><li>1</li><li>1</li><li>1</li><li>0</li><li>1</li><li>0</li><li>1</li><li>1</li><li>1</li><li>1</li><li>1</li><li>1</li><li>1</li><li>1</li><li>1</li><li>1</li><li>1</li><li>0</li><li>1</li><li>1</li><li>0</li><li>0</li><li>1</li><li>1</li><li>1</li><li>1</li><li>1</li><li>1</li><li>1</li><li>1</li><li>1</li><li>1</li><li>1</li><li>0</li><li>1</li><li>1</li><li>1</li><li>0</li><li>1</li><li>0</li><li>0</li><li>0</li><li>1</li><li>1</li><li>1</li><li>1</li><li>1</li><li>1</li><li>1</li><li>1</li><li>1</li><li>1</li><li>1</li><li>0</li><li>0</li><li>1</li><li>0</li><li>0</li><li>0</li></ol>\n"
      ],
      "text/latex": [
       "\\begin{enumerate*}\n",
       "\\item 0\n",
       "\\item 0\n",
       "\\item 0\n",
       "\\item 0\n",
       "\\item 0\n",
       "\\item 0\n",
       "\\item 0\n",
       "\\item 1\n",
       "\\item 0\n",
       "\\item 0\n",
       "\\item 0\n",
       "\\item 0\n",
       "\\item 0\n",
       "\\item 0\n",
       "\\item 1\n",
       "\\item 1\n",
       "\\item 0\n",
       "\\item 0\n",
       "\\item 0\n",
       "\\item 0\n",
       "\\item 0\n",
       "\\item 0\n",
       "\\item 0\n",
       "\\item 0\n",
       "\\item 0\n",
       "\\item 0\n",
       "\\item 0\n",
       "\\item 0\n",
       "\\item 0\n",
       "\\item 0\n",
       "\\item 0\n",
       "\\item 0\n",
       "\\item 1\n",
       "\\item 1\n",
       "\\item 0\n",
       "\\item 0\n",
       "\\item 0\n",
       "\\item 0\n",
       "\\item 0\n",
       "\\item 0\n",
       "\\item 0\n",
       "\\item 0\n",
       "\\item 0\n",
       "\\item 1\n",
       "\\item 0\n",
       "\\item 0\n",
       "\\item 1\n",
       "\\item 1\n",
       "\\item 0\n",
       "\\item 1\n",
       "\\item 1\n",
       "\\item 0\n",
       "\\item 1\n",
       "\\item 1\n",
       "\\item 1\n",
       "\\item 0\n",
       "\\item 1\n",
       "\\item 1\n",
       "\\item 0\n",
       "\\item 0\n",
       "\\item 1\n",
       "\\item 0\n",
       "\\item 0\n",
       "\\item 1\n",
       "\\item 1\n",
       "\\item 1\n",
       "\\item 1\n",
       "\\item 1\n",
       "\\item 0\n",
       "\\item 1\n",
       "\\item 0\n",
       "\\item 1\n",
       "\\item 1\n",
       "\\item 1\n",
       "\\item 1\n",
       "\\item 0\n",
       "\\item 0\n",
       "\\item 0\n",
       "\\item 1\n",
       "\\item 1\n",
       "\\item 1\n",
       "\\item 0\n",
       "\\item 0\n",
       "\\item 1\n",
       "\\item 1\n",
       "\\item 1\n",
       "\\item 1\n",
       "\\item 0\n",
       "\\item 0\n",
       "\\item 0\n",
       "\\item 1\n",
       "\\item 1\n",
       "\\item 0\n",
       "\\item 1\n",
       "\\item 1\n",
       "\\item 1\n",
       "\\item 1\n",
       "\\item 1\n",
       "\\item 0\n",
       "\\item 1\n",
       "\\item 0\n",
       "\\item 1\n",
       "\\item 1\n",
       "\\item 0\n",
       "\\item 1\n",
       "\\item 1\n",
       "\\item 1\n",
       "\\item 1\n",
       "\\item 0\n",
       "\\item 0\n",
       "\\item 1\n",
       "\\item 1\n",
       "\\item 1\n",
       "\\item 1\n",
       "\\item 0\n",
       "\\item 0\n",
       "\\item 0\n",
       "\\item 0\n",
       "\\item 1\n",
       "\\item 0\n",
       "\\item 1\n",
       "\\item 1\n",
       "\\item 1\n",
       "\\item 0\n",
       "\\item 1\n",
       "\\item 0\n",
       "\\item 1\n",
       "\\item 1\n",
       "\\item 1\n",
       "\\item 1\n",
       "\\item 1\n",
       "\\item 1\n",
       "\\item 0\n",
       "\\item 1\n",
       "\\item 1\n",
       "\\item 1\n",
       "\\item 0\n",
       "\\item 1\n",
       "\\item 0\n",
       "\\item 1\n",
       "\\item 1\n",
       "\\item 1\n",
       "\\item 1\n",
       "\\item 1\n",
       "\\item 1\n",
       "\\item 1\n",
       "\\item 1\n",
       "\\item 1\n",
       "\\item 1\n",
       "\\item 1\n",
       "\\item 0\n",
       "\\item 1\n",
       "\\item 1\n",
       "\\item 0\n",
       "\\item 0\n",
       "\\item 1\n",
       "\\item 1\n",
       "\\item 1\n",
       "\\item 1\n",
       "\\item 1\n",
       "\\item 1\n",
       "\\item 1\n",
       "\\item 1\n",
       "\\item 1\n",
       "\\item 1\n",
       "\\item 1\n",
       "\\item 0\n",
       "\\item 1\n",
       "\\item 1\n",
       "\\item 1\n",
       "\\item 0\n",
       "\\item 1\n",
       "\\item 0\n",
       "\\item 0\n",
       "\\item 0\n",
       "\\item 1\n",
       "\\item 1\n",
       "\\item 1\n",
       "\\item 1\n",
       "\\item 1\n",
       "\\item 1\n",
       "\\item 1\n",
       "\\item 1\n",
       "\\item 1\n",
       "\\item 1\n",
       "\\item 1\n",
       "\\item 0\n",
       "\\item 0\n",
       "\\item 1\n",
       "\\item 0\n",
       "\\item 0\n",
       "\\item 0\n",
       "\\end{enumerate*}\n"
      ],
      "text/markdown": [
       "1. 0\n",
       "2. 0\n",
       "3. 0\n",
       "4. 0\n",
       "5. 0\n",
       "6. 0\n",
       "7. 0\n",
       "8. 1\n",
       "9. 0\n",
       "10. 0\n",
       "11. 0\n",
       "12. 0\n",
       "13. 0\n",
       "14. 0\n",
       "15. 1\n",
       "16. 1\n",
       "17. 0\n",
       "18. 0\n",
       "19. 0\n",
       "20. 0\n",
       "21. 0\n",
       "22. 0\n",
       "23. 0\n",
       "24. 0\n",
       "25. 0\n",
       "26. 0\n",
       "27. 0\n",
       "28. 0\n",
       "29. 0\n",
       "30. 0\n",
       "31. 0\n",
       "32. 0\n",
       "33. 1\n",
       "34. 1\n",
       "35. 0\n",
       "36. 0\n",
       "37. 0\n",
       "38. 0\n",
       "39. 0\n",
       "40. 0\n",
       "41. 0\n",
       "42. 0\n",
       "43. 0\n",
       "44. 1\n",
       "45. 0\n",
       "46. 0\n",
       "47. 1\n",
       "48. 1\n",
       "49. 0\n",
       "50. 1\n",
       "51. 1\n",
       "52. 0\n",
       "53. 1\n",
       "54. 1\n",
       "55. 1\n",
       "56. 0\n",
       "57. 1\n",
       "58. 1\n",
       "59. 0\n",
       "60. 0\n",
       "61. 1\n",
       "62. 0\n",
       "63. 0\n",
       "64. 1\n",
       "65. 1\n",
       "66. 1\n",
       "67. 1\n",
       "68. 1\n",
       "69. 0\n",
       "70. 1\n",
       "71. 0\n",
       "72. 1\n",
       "73. 1\n",
       "74. 1\n",
       "75. 1\n",
       "76. 0\n",
       "77. 0\n",
       "78. 0\n",
       "79. 1\n",
       "80. 1\n",
       "81. 1\n",
       "82. 0\n",
       "83. 0\n",
       "84. 1\n",
       "85. 1\n",
       "86. 1\n",
       "87. 1\n",
       "88. 0\n",
       "89. 0\n",
       "90. 0\n",
       "91. 1\n",
       "92. 1\n",
       "93. 0\n",
       "94. 1\n",
       "95. 1\n",
       "96. 1\n",
       "97. 1\n",
       "98. 1\n",
       "99. 0\n",
       "100. 1\n",
       "101. 0\n",
       "102. 1\n",
       "103. 1\n",
       "104. 0\n",
       "105. 1\n",
       "106. 1\n",
       "107. 1\n",
       "108. 1\n",
       "109. 0\n",
       "110. 0\n",
       "111. 1\n",
       "112. 1\n",
       "113. 1\n",
       "114. 1\n",
       "115. 0\n",
       "116. 0\n",
       "117. 0\n",
       "118. 0\n",
       "119. 1\n",
       "120. 0\n",
       "121. 1\n",
       "122. 1\n",
       "123. 1\n",
       "124. 0\n",
       "125. 1\n",
       "126. 0\n",
       "127. 1\n",
       "128. 1\n",
       "129. 1\n",
       "130. 1\n",
       "131. 1\n",
       "132. 1\n",
       "133. 0\n",
       "134. 1\n",
       "135. 1\n",
       "136. 1\n",
       "137. 0\n",
       "138. 1\n",
       "139. 0\n",
       "140. 1\n",
       "141. 1\n",
       "142. 1\n",
       "143. 1\n",
       "144. 1\n",
       "145. 1\n",
       "146. 1\n",
       "147. 1\n",
       "148. 1\n",
       "149. 1\n",
       "150. 1\n",
       "151. 0\n",
       "152. 1\n",
       "153. 1\n",
       "154. 0\n",
       "155. 0\n",
       "156. 1\n",
       "157. 1\n",
       "158. 1\n",
       "159. 1\n",
       "160. 1\n",
       "161. 1\n",
       "162. 1\n",
       "163. 1\n",
       "164. 1\n",
       "165. 1\n",
       "166. 1\n",
       "167. 0\n",
       "168. 1\n",
       "169. 1\n",
       "170. 1\n",
       "171. 0\n",
       "172. 1\n",
       "173. 0\n",
       "174. 0\n",
       "175. 0\n",
       "176. 1\n",
       "177. 1\n",
       "178. 1\n",
       "179. 1\n",
       "180. 1\n",
       "181. 1\n",
       "182. 1\n",
       "183. 1\n",
       "184. 1\n",
       "185. 1\n",
       "186. 1\n",
       "187. 0\n",
       "188. 0\n",
       "189. 1\n",
       "190. 0\n",
       "191. 0\n",
       "192. 0\n",
       "\n",
       "\n"
      ],
      "text/plain": [
       "  [1] 0 0 0 0 0 0 0 1 0 0 0 0 0 0 1 1 0 0 0 0 0 0 0 0 0 0 0 0 0 0 0 0 1 1 0 0 0\n",
       " [38] 0 0 0 0 0 0 1 0 0 1 1 0 1 1 0 1 1 1 0 1 1 0 0 1 0 0 1 1 1 1 1 0 1 0 1 1 1\n",
       " [75] 1 0 0 0 1 1 1 0 0 1 1 1 1 0 0 0 1 1 0 1 1 1 1 1 0 1 0 1 1 0 1 1 1 1 0 0 1\n",
       "[112] 1 1 1 0 0 0 0 1 0 1 1 1 0 1 0 1 1 1 1 1 1 0 1 1 1 0 1 0 1 1 1 1 1 1 1 1 1\n",
       "[149] 1 1 0 1 1 0 0 1 1 1 1 1 1 1 1 1 1 1 0 1 1 1 0 1 0 0 0 1 1 1 1 1 1 1 1 1 1\n",
       "[186] 1 0 0 1 0 0 0"
      ]
     },
     "metadata": {},
     "output_type": "display_data"
    }
   ],
   "source": [
    "dat1_sub$y <- ifelse(dat1_sub$asd == \"ASD\", 1, 0)\n",
    "dat1_sub$y"
   ]
  },
  {
   "cell_type": "markdown",
   "id": "d8bfac4a",
   "metadata": {},
   "source": [
    "Eseguiamo l'analisi di regressione logistica usando la funzione ´glm()´."
   ]
  },
  {
   "cell_type": "code",
   "execution_count": null,
   "id": "825dcbeb",
   "metadata": {
    "vscode": {
     "languageId": "r"
    }
   },
   "outputs": [],
   "source": [
    "fm <- glm(y ~ ADEC, family = binomial(link=\"logit\"), data = dat1_sub)"
   ]
  },
  {
   "cell_type": "markdown",
   "id": "5e6f214b",
   "metadata": {},
   "source": [
    "Esaminiamo i risultati."
   ]
  },
  {
   "cell_type": "code",
   "execution_count": 43,
   "id": "8dc4fc74",
   "metadata": {
    "vscode": {
     "languageId": "r"
    }
   },
   "outputs": [
    {
     "data": {
      "text/plain": [
       "\n",
       "Call:\n",
       "glm(formula = y ~ ADEC, family = binomial(link = \"logit\"), data = dat1_sub)\n",
       "\n",
       "Coefficients:\n",
       "            Estimate Std. Error z value Pr(>|z|)    \n",
       "(Intercept) -3.76480    0.58071  -6.483 8.99e-11 ***\n",
       "ADEC         0.35447    0.05201   6.816 9.37e-12 ***\n",
       "---\n",
       "Signif. codes:  0 ‘***’ 0.001 ‘**’ 0.01 ‘*’ 0.05 ‘.’ 0.1 ‘ ’ 1\n",
       "\n",
       "(Dispersion parameter for binomial family taken to be 1)\n",
       "\n",
       "    Null deviance: 247.73  on 179  degrees of freedom\n",
       "Residual deviance: 131.12  on 178  degrees of freedom\n",
       "  (12 observations deleted due to missingness)\n",
       "AIC: 135.12\n",
       "\n",
       "Number of Fisher Scoring iterations: 6\n"
      ]
     },
     "metadata": {},
     "output_type": "display_data"
    }
   ],
   "source": [
    "summary(fm)"
   ]
  },
  {
   "cell_type": "markdown",
   "id": "b82527c6",
   "metadata": {},
   "source": [
    "Creiamo un grafico che mostri la relazione tra la probabilità che Y = 1 (cioè la diagnosi di ASD per il bambino), calcolata utilizzando i coefficienti del modello di regressione logistica, e il punteggio ottenuto nella scala ADEC."
   ]
  },
  {
   "cell_type": "code",
   "execution_count": 35,
   "id": "2d2d15e3",
   "metadata": {
    "vscode": {
     "languageId": "r"
    }
   },
   "outputs": [
    {
     "data": {
      "image/png": "[encoded data removed]",
      "text/plain": [
       "plot without title"
      ]
     },
     "metadata": {
      "image/png": {
       "height": 259.5743,
       "width": 420
      }
     },
     "output_type": "display_data"
    }
   ],
   "source": [
    "# Filter out rows with missing values in ADEC column\n",
    "dat1_sub <- na.omit(dat1_sub)\n",
    "# Predict the probabilities of y == 1 for the filtered data\n",
    "predictions <- predict(fm, type = \"response\")\n",
    "# Create a data frame with ADEC and the predicted probabilities\n",
    "plot_data <- data.frame(ADEC = dat1_sub$ADEC, Prob_Y_1 = predictions)\n",
    "\n",
    "# Plot the probability of y == 1 as a function of ADEC\n",
    "library(ggplot2)\n",
    "ggplot(plot_data, aes(x = ADEC, y = Prob_Y_1)) +\n",
    "    geom_line() +\n",
    "    geom_point() +\n",
    "    xlab(\"ADEC\") +\n",
    "    ylab(\"Probability of y == 1\") +\n",
    "    ggtitle(\"Probability of y == 1 vs. ADEC\")"
   ]
  },
  {
   "cell_type": "markdown",
   "id": "432a44da",
   "metadata": {},
   "source": [
    "Il grafico presenta una curva sigmoidale che illustra come, per punteggi bassi nella scala ADEC, la probabilità di una diagnosi di autismo sia bassa, mentre per punteggi alti nella scala ADEC, la probabilità di una diagnosi di autismo sia alta."
   ]
  },
  {
   "cell_type": "markdown",
   "id": "cb1b9b3e",
   "metadata": {},
   "source": [
    "### Accuratezza della classificazione\n",
    "\n",
    "Una volta compreso come il modello di regressione logistica associa a ciascun valore di $x$ la probabilità dell'evento $y = 1$, esaminiamo ora come sia possibile utilizzare questo modello per valutare l'accuratezza di una classificazione binaria. Nel nostro caso, la classificazione riguarda ciascuna osservazione nelle categorie ASD e Non-TD. In questo contesto, il modello di regressione logistica stima la probabilità di appartenenza a una delle due categorie basandosi sui valori di ADEC (eq. {eq}`eq-reg-logistic-prob`).\n",
    "\n",
    "Per effettuare la classificazione, dobbiamo stabilire un punto di taglio (cut-off) che separi le due categorie. Questo punto di taglio definisce il valore della variabile dipendente al di sopra del quale l'osservazione sarà assegnata alla categoria positiva (y = 1, ovvero ASD) e al di sotto del quale sarà assegnata alla categoria negativa (y = 0). La scelta del punto di taglio è critica poiché influisce sull'accuratezza delle previsioni del modello.\n",
    "\n",
    "I coefficienti di regressione stimati dalla regressione logistica sono i parametri del modello che descrivono la relazione tra la variabile indipendente ADEC e la probabilità di appartenenza alla categoria positiva (y = 1). Questi coefficienti ci consentono di calcolare la probabilità stimata di y = 1 per ciascuna osservazione, utilizzando l'eq. {eq}`eq-reg-logistic-prob`. Una volta calcolata la probabilità stimata di y = 1 per ogni osservazione, possiamo utilizzare un determinato punto di taglio (ad esempio, 0.5) per classificare le osservazioni nelle due categorie y = 0 e y = 1. Se la probabilità stimata è maggiore o uguale al punto di taglio, l'osservazione verrà classificata come y = 1 (positiva); altrimenti, verrà classificata come y = 0 (negativa).\n",
    "\n",
    "Tuttavia, la scelta del punto di taglio non è banale e ha un impatto diretto sulla sensibilità (la proporzione dei casi positivi effettivi che il test identifica correttamente come positivi) e specificità (la proporzione dei casi negativi effettivi che il test identifica correttamente come negativi) del modello. Un punto di taglio più alto potrebbe aumentare la specificità, ma ridurre la sensibilità, mentre un punto di taglio più basso avrebbe l'effetto opposto.\n",
    "\n",
    "Per ottenere una valutazione più completa delle prestazioni del modello, consideriamo tutti i possibili punti di taglio e visualizziamo la relazione tra sensibilità e specificità tramite la curva ROC (Receiver Operating Characteristic). Questa curva è un grafico che mostra come variano sensibilità e specificità al variare del punto di taglio. Un elemento chiave della curva ROC è l'*Area Under the Curve* (AUC), che rappresenta una misura aggregata dell'accuratezza complessiva del modello. L'AUC calcola l'area sottesa alla curva ROC e riflette la capacità del modello di discriminare tra le due categorie di risultato. L'AUC, dunque, fornisce una misura sintetica dell'accuratezza del modello su tutta la gamma di possibili punti di taglio. Un valore di AUC pari a 1 indica una perfetta capacità di discriminazione, mentre un valore pari a 0.5 indica una capacità di discriminazione casuale."
   ]
  },
  {
   "cell_type": "markdown",
   "id": "223805d8",
   "metadata": {},
   "source": [
    "Per mostrare come trovare l'AUC, iniziamo calcolando l'accuratezza della classificazione mediante un valore di cut-off pari a 0.5, ad esempio."
   ]
  },
  {
   "cell_type": "code",
   "execution_count": 42,
   "id": "0033c297",
   "metadata": {
    "vscode": {
     "languageId": "r"
    }
   },
   "outputs": [
    {
     "data": {
      "text/html": [
       "0.855555555555556"
      ],
      "text/latex": [
       "0.855555555555556"
      ],
      "text/markdown": [
       "0.855555555555556"
      ],
      "text/plain": [
       "[1] 0.8555556"
      ]
     },
     "metadata": {},
     "output_type": "display_data"
    }
   ],
   "source": [
    "# Predict the probabilities of y == 1 for the filtered data\n",
    "prob_pred <- predict(fm, type = \"response\")\n",
    "\n",
    "# Use cut-off 0.5 for classification\n",
    "classification <- ifelse(prob_pred >= 0.5, 1, 0)\n",
    "\n",
    "# Classification accuracy\n",
    "mean(classification == dat1_sub$y)\n"
   ]
  },
  {
   "cell_type": "markdown",
   "id": "f61cd885",
   "metadata": {},
   "source": [
    "Con il cut-off di 0.5, l'accuratezza è 0.855, ovvero l'86% dei casi è stato correttamente classificato dal test. Vogliamo però trovare l'accuratezza della classificazione per tutti i possibili valori di cut-off. Costruiamo dunque la curva ROC in R."
   ]
  },
  {
   "cell_type": "code",
   "execution_count": 6,
   "id": "5f55d998",
   "metadata": {
    "vscode": {
     "languageId": "r"
    }
   },
   "outputs": [
    {
     "data": {
      "image/png": "[encoded data removed]",
      "text/plain": [
       "plot without title"
      ]
     },
     "metadata": {
      "image/png": {
       "height": 259.5743,
       "width": 420
      }
     },
     "output_type": "display_data"
    }
   ],
   "source": [
    "compute_sens <- function(\n",
    "    cut, x = dat1_sub$ADEC,\n",
    "    crit = dat1_sub$asd == \"ASD\") {\n",
    "    tp <- sum(x >= cut & crit, na.rm = TRUE)\n",
    "    fn <- sum(x < cut & crit, na.rm = TRUE)\n",
    "    tp / (tp + fn)\n",
    "}\n",
    "compute_spec <- function(\n",
    "    cut, x = dat1_sub$ADEC,\n",
    "    crit = dat1_sub$asd == \"ASD\") {\n",
    "    tn <- sum(x < cut & !crit, na.rm = TRUE)\n",
    "    fp <- sum(x >= cut & !crit, na.rm = TRUE)\n",
    "    tn / (tn + fp)\n",
    "}\n",
    "sensitivity <- lapply(32:0, compute_sens) |>\n",
    "    unlist()\n",
    "specificity <- lapply(32:0, compute_spec) |>\n",
    "    unlist()\n",
    "data.frame(sensitivity, fpr = 1 - specificity) |>\n",
    "    ggplot(aes(x = fpr, y = sensitivity)) +\n",
    "    geom_point() +\n",
    "    geom_line()"
   ]
  },
  {
   "cell_type": "markdown",
   "id": "e41aaea2",
   "metadata": {},
   "source": [
    "Una volta costruita la curva ROC possiamo calcolare l'area sottesa alla curva ROC."
   ]
  },
  {
   "cell_type": "code",
   "execution_count": 11,
   "id": "eb5cf6b2",
   "metadata": {
    "vscode": {
     "languageId": "r"
    }
   },
   "outputs": [
    {
     "data": {
      "text/html": [
       "0.920626013218606"
      ],
      "text/latex": [
       "0.920626013218606"
      ],
      "text/markdown": [
       "0.920626013218606"
      ],
      "text/plain": [
       "[1] 0.920626"
      ]
     },
     "metadata": {},
     "output_type": "display_data"
    }
   ],
   "source": [
    "# AUC\n",
    "dfpr <- c(diff(1 - specificity), 0)\n",
    "dsens <- c(diff(sensitivity), 0)\n",
    "sum(sensitivity * dfpr) + sum(dsens * dfpr) / 2"
   ]
  },
  {
   "cell_type": "markdown",
   "id": "1f1d1205",
   "metadata": {},
   "source": [
    "Se consideriamo tutti i possibili valori di cut-off, l'accuratezza risulta uguale a 0.92. Questo valore indica un'ottima capacità del modello di regressione logistica nel discriminare con precisione i bambini con diagnosi di autismo da quelli senza.\n",
    "\n",
    "Questi risultati suggeriscono che la scala ADEC è uno strumento utile e valido per identificare precocemente i bambini a rischio di sviluppare un disturbo dello spettro autistico. La sua elevata accuratezza predittiva consente di fornire una valutazione tempestiva e accurata per l'intervento precoce e il supporto necessario ai bambini e alle loro famiglie. In conclusione, l'analisi di regressione logistica e il calcolo dell'AUC hanno fornito evidenze solide sulla validità predittiva della scala ADEC nella diagnosi precoce dell'autismo. \n",
    "\n",
    "#### Pacchetto ROCit\n",
    "\n",
    "Si noti che si possono ottenere gli stessi risultati trovati sopra usando le funzioni del pacchetto ROCit."
   ]
  },
  {
   "cell_type": "code",
   "execution_count": 7,
   "id": "8b612cbf",
   "metadata": {
    "vscode": {
     "languageId": "r"
    }
   },
   "outputs": [
    {
     "name": "stderr",
     "output_type": "stream",
     "text": [
      "Warning message in rocit(dat1_sub$ADEC, class = dat1_sub$asd == \"ASD\"):\n",
      "“NA(s) in score and/or class, removed from the data.”\n"
     ]
    }
   ],
   "source": [
    "roc_adec <- rocit(dat1_sub$ADEC, class = dat1_sub$asd == \"ASD\")"
   ]
  },
  {
   "cell_type": "code",
   "execution_count": 8,
   "id": "d9b541eb",
   "metadata": {
    "vscode": {
     "languageId": "r"
    }
   },
   "outputs": [
    {
     "data": {
      "image/png": "[encoded data removed]",
      "text/plain": [
       "plot without title"
      ]
     },
     "metadata": {
      "image/png": {
       "height": 259.5743,
       "width": 420
      }
     },
     "output_type": "display_data"
    }
   ],
   "source": [
    "plot(roc_adec)"
   ]
  },
  {
   "cell_type": "code",
   "execution_count": 9,
   "id": "0f8e974f",
   "metadata": {
    "vscode": {
     "languageId": "r"
    }
   },
   "outputs": [
    {
     "name": "stdout",
     "output_type": "stream",
     "text": [
      "                          \n",
      " Method used: empirical   \n",
      " Number of positive(s): 99\n",
      " Number of negative(s): 81\n",
      " Area under curve: 0.9206 \n"
     ]
    }
   ],
   "source": [
    "summary(roc_adec)"
   ]
  },
  {
   "cell_type": "code",
   "execution_count": 15,
   "id": "6ef6e4b8",
   "metadata": {
    "vscode": {
     "languageId": "r"
    }
   },
   "outputs": [
    {
     "data": {
      "text/plain": [
       "                                                          \n",
       "   estimated AUC : 0.920626013218606                      \n",
       "   AUC estimation method : empirical                      \n",
       "                                                          \n",
       "   CI of AUC                                              \n",
       "   confidence level = 95%                                 \n",
       "   lower = 0.880257283328194     upper = 0.960994743109017"
      ]
     },
     "metadata": {},
     "output_type": "display_data"
    }
   ],
   "source": [
    "ciAUC(roc_adec)"
   ]
  },
  {
   "cell_type": "markdown",
   "id": "9fd08525",
   "metadata": {},
   "source": [
    "## Considerazioni conclusive\n",
    "\n",
    "In conclusione, il capitolo ha dimostrato l'utilizzo dell'analisi di regressione logistica e del calcolo dell'Area Under the Curve (AUC) come strumenti importanti per valutare la validità di criterio di un test, specialmente quando il criterio riguarda l'appartenenza a un gruppo diagnostico specifico.\n",
    "\n",
    "L'analisi di regressione logistica e il calcolo dell'AUC forniscono una valutazione accurata della capacità del test di classificare correttamente i partecipanti in base al criterio diagnostico desiderato. Questa valutazione accurata offre una solida base per l'applicazione pratica del test, consentendo decisioni informate e mirate nell'identificazione di individui con particolari caratteristiche o condizioni. Inoltre, l'utilizzo di questi strumenti statistici rappresenta un passo importante verso la validazione dei test, garantendo la qualità delle diagnosi e facilitando l'implementazione di interventi mirati ed efficaci. La corretta valutazione della validità di criterio è essenziale per ottenere risultati affidabili e utili nella pratica clinica e nella ricerca.\n"
   ]
  }
 ],
 "metadata": {
  "jupytext": {
   "cell_metadata_filter": "fig.cap,tags,-all",
   "main_language": "R",
   "notebook_metadata_filter": "-all"
  },
  "kernelspec": {
   "display_name": "R",
   "language": "R",
   "name": "ir"
  },
  "language_info": {
   "codemirror_mode": "r",
   "file_extension": ".r",
   "mimetype": "text/x-r-source",
   "name": "R",
   "pygments_lexer": "r",
   "version": "4.3.3"
  }
 },
 "nbformat": 4,
 "nbformat_minor": 5
}