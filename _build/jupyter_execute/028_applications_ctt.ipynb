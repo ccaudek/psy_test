{
 "cells": [
  {
   "attachments": {},
   "cell_type": "markdown",
   "id": "ad9e3346",
   "metadata": {},
   "source": [
    "(applications-ctt-notebook)=\n",
    "# Applicazioni della CTT"
   ]
  },
  {
   "cell_type": "code",
   "execution_count": 1,
   "id": "b3c30e25",
   "metadata": {
    "tags": [
     "remove_cell"
    ],
    "vscode": {
     "languageId": "r"
    }
   },
   "outputs": [],
   "source": [
    "source(\"_common.R\")\n",
    "suppressPackageStartupMessages({\n",
    "    library(\"psych\")\n",
    "    library(\"lavaan\")\n",
    "    library(\"modelsummary\") # for summarizing data\n",
    "})\n",
    "options(repr.plot.width=6, repr.plot.height=6)\n",
    "set.seed(42)"
   ]
  },
  {
   "attachments": {},
   "cell_type": "markdown",
   "id": "aa1a75fa",
   "metadata": {},
   "source": [
    "Questo capitolo si propone di esaminare alcune applicazioni della CTT. Esamineremo i concetti di attenuazione e il metodo per determinare il numero di item necessari per raggiungere un determinato livello di affidabilità."
   ]
  },
  {
   "attachments": {},
   "cell_type": "markdown",
   "id": "7baabbbd",
   "metadata": {},
   "source": [
    "## Attenuazione\n",
    "\n",
    "Un importante aspetto da considerare nella discussione sull'attendibilità è il fenomeno dell'attenuazione. Con l'aumentare dell'errore di misurazione, la correlazione tra due variabili tende a ridursi. In pratica, l'errore di misurazione \"nasconde\" l'associazione reale esistente tra le variabili, generando un fenomeno noto come *attenuazione*.\n",
    "\n",
    "Lord e Novick (1967) hanno sottolineato che, quando si intende comprendere la relazione tra due costrutti, gli psicologi spesso creano scale adeguate per misurarli. Se l'associazione tra queste scale è lineare, è possibile misurare il grado di correlazione tra di esse attraverso il coefficiente di correlazione. Tuttavia, poiché le scale contengono sempre un elemento di errore, la correlazione empirica tra di esse sarà inferiore alla correlazione \"reale\" tra i costrutti. In questa situazione, si possono impiegare formule adeguate per stimare la correlazione corretta tra i tratti latenti.\n",
    "\n",
    "È dimostrabile che la correlazione tra i punteggi veri di due costrutti, $T_X$ e $T_Y$, può essere espressa attraverso la correlazione $\\rho_{XY}$ tra i punteggi osservati $X$ e $Y$, unitamente ai coefficienti di affidabilità $\\rho_{XX^\\prime}$ e $\\rho_{YY^\\prime}$ dei due test:\n",
    "\n",
    "$$\n",
    "\\begin{equation}\n",
    "\\rho(T_X, T_Y)  = \\frac{\\rho_{XY}}{\\sqrt{\\rho_{XX^\\prime} \\rho_{YY^\\prime}}}\n",
    "\\end{equation}\n",
    "$$(eq-3-9-6)\n",
    "\n",
    "Inoltre, è dimostrabile che la correlazione tra i punteggi di un test e i punteggi veri di un secondo test può essere espressa attraverso le correlazioni tra i punteggi osservati dei due test e il coefficiente di affidabilità del secondo test:\n",
    "\n",
    "$$\n",
    "\\begin{equation}\n",
    "\\rho(X, T_Y)  = \\frac{\\rho_{XY}}{\\sqrt{\\rho_{YY^\\prime}}}.\n",
    "\\end{equation}\n",
    "$$(eq-3-9-7)\n",
    "\n",
    "### Correlazioni disattenuate\n",
    "\n",
    "Un ulteriore concetto da esaminare in relazione alla struttura fattoriale e all'affidabilità è quello delle correlazioni disattenuate. Questo concetto prende in considerazione l'errore di misurazione nelle correlazioni tra variabili. Quando le correlazioni tra i punteggi veri di due test sono oscurate dalle correlazioni tra i loro punteggi osservati, si parla di attenuazione causata da tale errore di misura. Le eq. {eq}`eq-3-9-6` e {eq}`eq-3-9-7` sono strumenti che consentono di calcolare queste correlazioni disattenuate. L'idea sottostante è che, se si conoscono le affidabilità dei test, è possibile utilizzare queste equazioni per stimare le vere correlazioni tra i punteggi dei costrutti. La teoria dell'attenuazione costituisce un'applicazione ulteriore dei coefficienti di affidabilità all'interno del contesto della CTT.\n",
    "\n",
    "L'utilizzo delle correlazioni disattenuate risale già al 1904, quando Spearman le impiegò. Nell'esempio da lui presentato, $X$ rappresentava la misura della discriminazione dell'altezza del suono (*pitch discrimination*), mentre $Y$ rappresentava la misura dell'intelligenza fornita da un insegnante. La correlazione tra queste due misure era $\\hat{\\rho}_{XY}=0.38$. Le affidabilità delle due misure erano $\\hat{\\rho}_{XX'}=0.25$ e $\\hat{\\rho}_{YY'}=0.55$. Attraverso l'eq. {eq}`eq-3-9-7`, la correlazione predetta tra i valori veri di *pitch discrimination* e i valori empirici dell'intelligenza risultava essere $\\hat{\\rho}(X, T_Y) = 0.76$. D'altro canto, mediante l'eq. {eq}`eq-3-9-6`, la correlazione tra i valori veri dei due costrutti risultava essere $\\hat{\\rho}(T_X, T_Y) = 1.025$.\n",
    "\n",
    "Si osserva come i limiti di questa procedura emergano già dall'esempio di Spearman. Le correlazioni disattenuate possono facilmente portare a sovrastime.\n",
    "\n",
    "L'applicazione di questa formula scatenò una controversia tra Charles Spearman e Karl Pearson. Nel 1904, nello stesso anno in cui Spearman pubblicò i suoi articoli famosi, Pearson presentò diverse correlazioni attorno a 0.5 che coinvolgevano la misurazione empirica di caratteristiche come vivacità e introspezione. Spearman criticò l'articolo di Pearson affermando che le osservazioni probabilmente contenessero un errore di misurazione significativo, il quale causava il basso valore delle correlazioni. Secondo Spearman, le correlazioni disattenuate corrispondenti dovevano essere notevolmente più elevate. Tuttavia, Pearson ignorò completamente questa critica, basandosi sulla possibilità che la formula di Spearman potesse produrre correlazioni superiori a 1. Inoltre, Pearson non accettava il concetto di quantità inosservabili. Al contrario, Spearman condusse vari studi su variabili psicologiche, applicando la sua formula per le correlazioni disattenuate. In molti casi, riscontrò che le correlazioni disattenuate si avvicinavano a 1, suggerendo che tali variabili fossero indicatori dello stesso fenomeno. Queste osservazioni indussero Spearman a progredire in questa direzione, portandolo alla creazione dell'analisi fattoriale così come la conosciamo dall'articolo del 1904 *\"General intelligence\", objectively determined and measured*.\n",
    "\n",
    "McDonald (1999) mette in guardia sull'uso delle correlazioni disattenuate, sottolineando che richiedono cautela. Un metodo migliore per calcolare le correlazioni tra variabili latenti (cioè le correlazioni non influenzate dagli errori di misurazione) è la costruzione di modelli di equazioni strutturali, che consentono di verificare direttamente varie ipotesi, inclusa la correlazione tra variabili latenti."
   ]
  },
  {
   "cell_type": "markdown",
   "id": "ed877bfd",
   "metadata": {},
   "source": [
    "## Affidabilità e lunghezza del test\n",
    "\n",
    "La formula di Spearman-Brown può essere rielaborata per calcolare il numero di item necessari al fine di raggiungere una specifica affidabilità:\n",
    "\n",
    "$$\n",
    "\\begin{equation}\n",
    "p = \\frac{\\rho_p(1 - \\rho_1)}{\\rho_1(1 - \\rho_p)},\n",
    "\\end{equation}\n",
    "$$ (eq-spearman-brown-item-number)\n",
    "\n",
    "dove $\\rho_1$ rappresenta l'attendibilità stimata di un \"item medio\", $\\rho_p$ è il livello desiderato di affidabilità complessiva del test, e $p$ è il numero di item nel test esteso.\n",
    "\n",
    "Per esempio, supponiamo che l'attendibilità di un test composto da 5 item sia 0.824, e che $\\rho_1$ sia 0.479. Possiamo chiederci quanti item debbano essere aggiunti per raggiungere un livello di affidabilità pari a 0.95.\n",
    "\n",
    "Ponendo $\\rho_p$ a 0.95 e $\\rho_1$ a 0.479, in base all'equazione {eq}`eq-spearman-brown-item-number`, otteniamo che:"
   ]
  },
  {
   "cell_type": "code",
   "execution_count": 2,
   "id": "766bf1d1",
   "metadata": {
    "vscode": {
     "languageId": "r"
    }
   },
   "outputs": [
    {
     "data": {
      "text/html": [
       "20.6659707724426"
      ],
      "text/latex": [
       "20.6659707724426"
      ],
      "text/markdown": [
       "20.6659707724426"
      ],
      "text/plain": [
       "[1] 20.66597"
      ]
     },
     "metadata": {},
     "output_type": "display_data"
    }
   ],
   "source": [
    "rho_1 <- 0.479\n",
    "(.95 * (1 - rho_1)) / (rho_1 * (1 - .95))"
   ]
  },
  {
   "cell_type": "markdown",
   "id": "b2daaeca",
   "metadata": {},
   "source": [
    "Pertanto, per ottenere un livello di affidabilità pari a 0.95 sono necessari almeno 21 item."
   ]
  },
  {
   "cell_type": "markdown",
   "id": "84c78847",
   "metadata": {},
   "source": [
    "## Commenti e considerazioni conclusive\n",
    "\n",
    "In sintesi, il presente capitolo offre un'analisi di diverse applicazioni pratiche della CTT. Abbiamo acquisito una maggiore comprensione dei concetti di attenuazione e del metodo per calcolare il numero di item necessari per raggiungere un livello specifico di affidabilità. L'approfondimento di tali tematiche contribuisce a delineare un quadro più completo e concreto dell'uso e dell'applicazione della CTT, ampliando la nostra comprensione dei concetti fondamentali e delle implicazioni pratiche della teoria."
   ]
  }
 ],
 "metadata": {
  "jupytext": {
   "cell_metadata_filter": "fig.cap,tags,name,out.width,-all",
   "main_language": "R",
   "notebook_metadata_filter": "-all"
  },
  "kernelspec": {
   "display_name": "R",
   "language": "R",
   "name": "ir"
  },
  "language_info": {
   "codemirror_mode": "r",
   "file_extension": ".r",
   "mimetype": "text/x-r-source",
   "name": "R",
   "pygments_lexer": "r",
   "version": "4.3.1"
  }
 },
 "nbformat": 4,
 "nbformat_minor": 5
}