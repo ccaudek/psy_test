{
 "cells": [
  {
   "attachments": {},
   "cell_type": "markdown",
   "id": "3729a058",
   "metadata": {},
   "source": [
    "(rotazione-notebook)=\n",
    "# La rotazione fattoriale "
   ]
  },
  {
   "cell_type": "code",
   "execution_count": 15,
   "id": "fedea705",
   "metadata": {
    "tags": [
     "remove_cell"
    ],
    "vscode": {
     "languageId": "r"
    }
   },
   "outputs": [],
   "source": [
    "source(\"../_common.R\")\n",
    "suppressPackageStartupMessages({\n",
    "    library(\"lavaan\")\n",
    "    library(\"psych\")\n",
    "})\n",
    "options(repr.plot.width = 6, repr.plot.height = 6)\n",
    "set.seed(42)\n"
   ]
  },
  {
   "attachments": {},
   "cell_type": "markdown",
   "id": "17ef2479",
   "metadata": {},
   "source": [
    "Nel capitolo {ref}`extraction-notebook` abbiamo visto come sia possibile ottenere la\n",
    "soluzione fattoriale non ruotata per il numero di fattori comuni che\n",
    "meglio riassume l'informazione contenuta nella matrice di correlazioni\n",
    "(o covarianze). Tuttavia, questa soluzione non garantisce l’identificazione di gruppi omogenei e interpretabili di variabili osservate. Pertanto, si ricorre alla rotazione degli assi fattoriali per ottenere una soluzione più facilmente interpretabile rispetto a quella iniziale.\n",
    "\n",
    "\n",
    "## Indeterminatezza della soluzione fattoriale\n",
    "\n",
    "La necessità di effettuare la rotazione deriva dal fatto che la matrice delle saturazioni non ha un’unica soluzione. Attraverso trasformazioni matematiche, è possibile ottenere infinite matrici dello stesso ordine. Questo fenomeno è noto come indeterminatezza della soluzione fattoriale.\n",
    "\n",
    "La matrice delle saturazioni fattoriali $\\boldsymbol{\\Lambda}$ non è univocamente definita poiché non esiste una soluzione unica per determinare le saturazioni fattoriali. Una matrice di correlazioni $\\boldsymbol{R}$ può produrre diverse soluzioni fattoriali, ovvero matrici con lo stesso numero di fattori comuni ma con diverse configurazioni di saturazioni fattoriali, o matrici di saturazioni fattoriali corrispondenti a un diverso numero di fattori comuni.\n",
    "\n",
    "**Esempio.** Siano $\\boldsymbol{\\Lambda}_1$ e $\\boldsymbol{\\Lambda}_2$ due matrici\n",
    "aventi lo stesso numero di righe e colonne, ma contenenti saturazioni\n",
    "fattoriali diverse. $\\boldsymbol{\\Lambda}_1$ è definita dai valori\n",
    "seguenti"
   ]
  },
  {
   "cell_type": "code",
   "execution_count": 3,
   "id": "4ec4ac23",
   "metadata": {
    "vscode": {
     "languageId": "r"
    }
   },
   "outputs": [],
   "source": [
    "l1 <- matrix(\n",
    "  c(\n",
    "    0.766,  -0.232,\n",
    "    0.670,  -0.203,\n",
    "    0.574,  -0.174,\n",
    "    0.454,   0.533,\n",
    "    0.389,   0.457,\n",
    "    0.324,   0.381\n",
    "  ),\n",
    "  byrow = TRUE, ncol = 2\n",
    ")"
   ]
  },
  {
   "attachments": {},
   "cell_type": "markdown",
   "id": "ac93f676",
   "metadata": {},
   "source": [
    "mentre per $\\boldsymbol{\\Lambda}_2$ abbiamo"
   ]
  },
  {
   "cell_type": "code",
   "execution_count": 4,
   "id": "87db0193",
   "metadata": {
    "vscode": {
     "languageId": "r"
    }
   },
   "outputs": [],
   "source": [
    "l2 <- matrix(\n",
    "  c(\n",
    "    0.783,  0.163,\n",
    "    0.685,  0.143,\n",
    "    0.587,  0.123,\n",
    "    0.143,  0.685,\n",
    "    0.123,  0.587,\n",
    "    0.102,  0.489\n",
    "  ),\n",
    "  byrow = TRUE, ncol = 2\n",
    ")"
   ]
  },
  {
   "attachments": {},
   "cell_type": "markdown",
   "id": "df39d74b",
   "metadata": {},
   "source": [
    "Esaminiamo la matrice delle correlazioni riprodotte dalle due matrici di\n",
    "pesi fattoriali (con le comunalità sulla diagonale di $\\boldsymbol{R}$):"
   ]
  },
  {
   "cell_type": "code",
   "execution_count": 7,
   "id": "911cb8dd",
   "metadata": {
    "vscode": {
     "languageId": "r"
    }
   },
   "outputs": [
    {
     "data": {
      "text/html": [
       "<table class=\"dataframe\">\n",
       "<caption>A matrix: 6 x 6 of type dbl</caption>\n",
       "<tbody>\n",
       "\t<tr><td>0.64</td><td>0.56</td><td>0.48</td><td>0.22</td><td>0.19</td><td>0.16</td></tr>\n",
       "\t<tr><td>0.56</td><td>0.49</td><td>0.42</td><td>0.20</td><td>0.17</td><td>0.14</td></tr>\n",
       "\t<tr><td>0.48</td><td>0.42</td><td>0.36</td><td>0.17</td><td>0.14</td><td>0.12</td></tr>\n",
       "\t<tr><td>0.22</td><td>0.20</td><td>0.17</td><td>0.49</td><td>0.42</td><td>0.35</td></tr>\n",
       "\t<tr><td>0.19</td><td>0.17</td><td>0.14</td><td>0.42</td><td>0.36</td><td>0.30</td></tr>\n",
       "\t<tr><td>0.16</td><td>0.14</td><td>0.12</td><td>0.35</td><td>0.30</td><td>0.25</td></tr>\n",
       "</tbody>\n",
       "</table>\n"
      ],
      "text/latex": [
       "A matrix: 6 x 6 of type dbl\n",
       "\\begin{tabular}{llllll}\n",
       "\t 0.64 & 0.56 & 0.48 & 0.22 & 0.19 & 0.16\\\\\n",
       "\t 0.56 & 0.49 & 0.42 & 0.20 & 0.17 & 0.14\\\\\n",
       "\t 0.48 & 0.42 & 0.36 & 0.17 & 0.14 & 0.12\\\\\n",
       "\t 0.22 & 0.20 & 0.17 & 0.49 & 0.42 & 0.35\\\\\n",
       "\t 0.19 & 0.17 & 0.14 & 0.42 & 0.36 & 0.30\\\\\n",
       "\t 0.16 & 0.14 & 0.12 & 0.35 & 0.30 & 0.25\\\\\n",
       "\\end{tabular}\n"
      ],
      "text/markdown": [
       "\n",
       "A matrix: 6 x 6 of type dbl\n",
       "\n",
       "| 0.64 | 0.56 | 0.48 | 0.22 | 0.19 | 0.16 |\n",
       "| 0.56 | 0.49 | 0.42 | 0.20 | 0.17 | 0.14 |\n",
       "| 0.48 | 0.42 | 0.36 | 0.17 | 0.14 | 0.12 |\n",
       "| 0.22 | 0.20 | 0.17 | 0.49 | 0.42 | 0.35 |\n",
       "| 0.19 | 0.17 | 0.14 | 0.42 | 0.36 | 0.30 |\n",
       "| 0.16 | 0.14 | 0.12 | 0.35 | 0.30 | 0.25 |\n",
       "\n"
      ],
      "text/plain": [
       "     [,1] [,2] [,3] [,4] [,5] [,6]\n",
       "[1,] 0.64 0.56 0.48 0.22 0.19 0.16\n",
       "[2,] 0.56 0.49 0.42 0.20 0.17 0.14\n",
       "[3,] 0.48 0.42 0.36 0.17 0.14 0.12\n",
       "[4,] 0.22 0.20 0.17 0.49 0.42 0.35\n",
       "[5,] 0.19 0.17 0.14 0.42 0.36 0.30\n",
       "[6,] 0.16 0.14 0.12 0.35 0.30 0.25"
      ]
     },
     "metadata": {},
     "output_type": "display_data"
    }
   ],
   "source": [
    "l1 %*% t(l1) |> round(2)"
   ]
  },
  {
   "cell_type": "code",
   "execution_count": 8,
   "id": "6ab3ba92",
   "metadata": {
    "vscode": {
     "languageId": "r"
    }
   },
   "outputs": [
    {
     "data": {
      "text/html": [
       "<table class=\"dataframe\">\n",
       "<caption>A matrix: 6 x 6 of type dbl</caption>\n",
       "<tbody>\n",
       "\t<tr><td>0.64</td><td>0.56</td><td>0.48</td><td>0.22</td><td>0.19</td><td>0.16</td></tr>\n",
       "\t<tr><td>0.56</td><td>0.49</td><td>0.42</td><td>0.20</td><td>0.17</td><td>0.14</td></tr>\n",
       "\t<tr><td>0.48</td><td>0.42</td><td>0.36</td><td>0.17</td><td>0.14</td><td>0.12</td></tr>\n",
       "\t<tr><td>0.22</td><td>0.20</td><td>0.17</td><td>0.49</td><td>0.42</td><td>0.35</td></tr>\n",
       "\t<tr><td>0.19</td><td>0.17</td><td>0.14</td><td>0.42</td><td>0.36</td><td>0.30</td></tr>\n",
       "\t<tr><td>0.16</td><td>0.14</td><td>0.12</td><td>0.35</td><td>0.30</td><td>0.25</td></tr>\n",
       "</tbody>\n",
       "</table>\n"
      ],
      "text/latex": [
       "A matrix: 6 x 6 of type dbl\n",
       "\\begin{tabular}{llllll}\n",
       "\t 0.64 & 0.56 & 0.48 & 0.22 & 0.19 & 0.16\\\\\n",
       "\t 0.56 & 0.49 & 0.42 & 0.20 & 0.17 & 0.14\\\\\n",
       "\t 0.48 & 0.42 & 0.36 & 0.17 & 0.14 & 0.12\\\\\n",
       "\t 0.22 & 0.20 & 0.17 & 0.49 & 0.42 & 0.35\\\\\n",
       "\t 0.19 & 0.17 & 0.14 & 0.42 & 0.36 & 0.30\\\\\n",
       "\t 0.16 & 0.14 & 0.12 & 0.35 & 0.30 & 0.25\\\\\n",
       "\\end{tabular}\n"
      ],
      "text/markdown": [
       "\n",
       "A matrix: 6 x 6 of type dbl\n",
       "\n",
       "| 0.64 | 0.56 | 0.48 | 0.22 | 0.19 | 0.16 |\n",
       "| 0.56 | 0.49 | 0.42 | 0.20 | 0.17 | 0.14 |\n",
       "| 0.48 | 0.42 | 0.36 | 0.17 | 0.14 | 0.12 |\n",
       "| 0.22 | 0.20 | 0.17 | 0.49 | 0.42 | 0.35 |\n",
       "| 0.19 | 0.17 | 0.14 | 0.42 | 0.36 | 0.30 |\n",
       "| 0.16 | 0.14 | 0.12 | 0.35 | 0.30 | 0.25 |\n",
       "\n"
      ],
      "text/plain": [
       "     [,1] [,2] [,3] [,4] [,5] [,6]\n",
       "[1,] 0.64 0.56 0.48 0.22 0.19 0.16\n",
       "[2,] 0.56 0.49 0.42 0.20 0.17 0.14\n",
       "[3,] 0.48 0.42 0.36 0.17 0.14 0.12\n",
       "[4,] 0.22 0.20 0.17 0.49 0.42 0.35\n",
       "[5,] 0.19 0.17 0.14 0.42 0.36 0.30\n",
       "[6,] 0.16 0.14 0.12 0.35 0.30 0.25"
      ]
     },
     "metadata": {},
     "output_type": "display_data"
    }
   ],
   "source": [
    "l2 %*% t(l2) |> round(2)"
   ]
  },
  {
   "attachments": {},
   "cell_type": "markdown",
   "id": "904c63e3",
   "metadata": {},
   "source": [
    "Come si vede, viene ottenuto lo stesso risultato utilizzando matrici\n",
    "$\\boldsymbol{\\Lambda}$ con lo stesso numero $m$ di colonne ma\n",
    "saturazioni fattoriali diverse.\n",
    "\n",
    "Si consideri ora il caso di matrici $\\boldsymbol{\\Lambda}$\n",
    "corrispondenti a soluzioni fattoriali con un diverso numero di fattori\n",
    "comuni. Siano $\\boldsymbol{\\Lambda}_1$ e $\\boldsymbol{\\Lambda}_2$ due\n",
    "matrici aventi lo stesso numero di righe ma un numero diverso di\n",
    "colonne:"
   ]
  },
  {
   "cell_type": "code",
   "execution_count": 9,
   "id": "a72e4a5e",
   "metadata": {
    "vscode": {
     "languageId": "r"
    }
   },
   "outputs": [],
   "source": [
    "l1 <- matrix(\n",
    "  c(\n",
    "    0.9,\n",
    "    0.7,\n",
    "    0.5,\n",
    "    0.3\n",
    "  ),\n",
    "  byrow = TRUE, ncol = 1\n",
    ")\n",
    "\n",
    "l2 <- matrix(\n",
    "  c(\n",
    "    0.78, 0.45,\n",
    "    0.61, 0.35,\n",
    "    0.43, 0.25,\n",
    "    0.25, 0.15\n",
    "  ),\n",
    "  byrow = TRUE, ncol = 2\n",
    ")"
   ]
  },
  {
   "attachments": {},
   "cell_type": "markdown",
   "id": "4f0f14f0",
   "metadata": {},
   "source": [
    "Si noti che la stessa matrice di correlazioni riprodotte (con le\n",
    "comunalità sulla diagonale principale) viene generata dalle saturazioni\n",
    "fattoriali corrispondenti ad un numero diverso di fattori comuni:"
   ]
  },
  {
   "cell_type": "code",
   "execution_count": 10,
   "id": "fd547347",
   "metadata": {
    "vscode": {
     "languageId": "r"
    }
   },
   "outputs": [
    {
     "data": {
      "text/html": [
       "<table class=\"dataframe\">\n",
       "<caption>A matrix: 4 x 4 of type dbl</caption>\n",
       "<tbody>\n",
       "\t<tr><td>0.81</td><td>0.63</td><td>0.45</td><td>0.27</td></tr>\n",
       "\t<tr><td>0.63</td><td>0.49</td><td>0.35</td><td>0.21</td></tr>\n",
       "\t<tr><td>0.45</td><td>0.35</td><td>0.25</td><td>0.15</td></tr>\n",
       "\t<tr><td>0.27</td><td>0.21</td><td>0.15</td><td>0.09</td></tr>\n",
       "</tbody>\n",
       "</table>\n"
      ],
      "text/latex": [
       "A matrix: 4 x 4 of type dbl\n",
       "\\begin{tabular}{llll}\n",
       "\t 0.81 & 0.63 & 0.45 & 0.27\\\\\n",
       "\t 0.63 & 0.49 & 0.35 & 0.21\\\\\n",
       "\t 0.45 & 0.35 & 0.25 & 0.15\\\\\n",
       "\t 0.27 & 0.21 & 0.15 & 0.09\\\\\n",
       "\\end{tabular}\n"
      ],
      "text/markdown": [
       "\n",
       "A matrix: 4 x 4 of type dbl\n",
       "\n",
       "| 0.81 | 0.63 | 0.45 | 0.27 |\n",
       "| 0.63 | 0.49 | 0.35 | 0.21 |\n",
       "| 0.45 | 0.35 | 0.25 | 0.15 |\n",
       "| 0.27 | 0.21 | 0.15 | 0.09 |\n",
       "\n"
      ],
      "text/plain": [
       "     [,1] [,2] [,3] [,4]\n",
       "[1,] 0.81 0.63 0.45 0.27\n",
       "[2,] 0.63 0.49 0.35 0.21\n",
       "[3,] 0.45 0.35 0.25 0.15\n",
       "[4,] 0.27 0.21 0.15 0.09"
      ]
     },
     "metadata": {},
     "output_type": "display_data"
    }
   ],
   "source": [
    "l1 %*% t(l1) |> round(2)"
   ]
  },
  {
   "cell_type": "code",
   "execution_count": 11,
   "id": "06f83478",
   "metadata": {
    "lines_to_next_cell": 0,
    "vscode": {
     "languageId": "r"
    }
   },
   "outputs": [
    {
     "data": {
      "text/html": [
       "<table class=\"dataframe\">\n",
       "<caption>A matrix: 4 x 4 of type dbl</caption>\n",
       "<tbody>\n",
       "\t<tr><td>0.81</td><td>0.63</td><td>0.45</td><td>0.26</td></tr>\n",
       "\t<tr><td>0.63</td><td>0.49</td><td>0.35</td><td>0.20</td></tr>\n",
       "\t<tr><td>0.45</td><td>0.35</td><td>0.25</td><td>0.14</td></tr>\n",
       "\t<tr><td>0.26</td><td>0.20</td><td>0.14</td><td>0.08</td></tr>\n",
       "</tbody>\n",
       "</table>\n"
      ],
      "text/latex": [
       "A matrix: 4 x 4 of type dbl\n",
       "\\begin{tabular}{llll}\n",
       "\t 0.81 & 0.63 & 0.45 & 0.26\\\\\n",
       "\t 0.63 & 0.49 & 0.35 & 0.20\\\\\n",
       "\t 0.45 & 0.35 & 0.25 & 0.14\\\\\n",
       "\t 0.26 & 0.20 & 0.14 & 0.08\\\\\n",
       "\\end{tabular}\n"
      ],
      "text/markdown": [
       "\n",
       "A matrix: 4 x 4 of type dbl\n",
       "\n",
       "| 0.81 | 0.63 | 0.45 | 0.26 |\n",
       "| 0.63 | 0.49 | 0.35 | 0.20 |\n",
       "| 0.45 | 0.35 | 0.25 | 0.14 |\n",
       "| 0.26 | 0.20 | 0.14 | 0.08 |\n",
       "\n"
      ],
      "text/plain": [
       "     [,1] [,2] [,3] [,4]\n",
       "[1,] 0.81 0.63 0.45 0.26\n",
       "[2,] 0.63 0.49 0.35 0.20\n",
       "[3,] 0.45 0.35 0.25 0.14\n",
       "[4,] 0.26 0.20 0.14 0.08"
      ]
     },
     "metadata": {},
     "output_type": "display_data"
    }
   ],
   "source": [
    "l2 %*% t(l2) |> round(2)"
   ]
  },
  {
   "attachments": {},
   "cell_type": "markdown",
   "id": "1d7d5ffa",
   "metadata": {},
   "source": [
    "## Parsimonia e semplicità\n",
    "\n",
    "Per ottenere risultati affidabili dall'analisi fattoriale, si affronta il problema dell'indeterminazione fattoriale scegliendo la soluzione che soddisfa due criteri fondamentali: il criterio della parsimonia e il criterio della semplicità.\n",
    "\n",
    "Il criterio della parsimonia richiede di scegliere il modello con il minor numero di fattori comuni che può spiegare la covarianza tra le variabili. In pratica, se ci sono due soluzioni fattoriali con un diverso numero di fattori che riproducono allo stesso modo la matrice di covarianza o di correlazione, si sceglie quella con il minor numero di fattori.\n",
    "\n",
    "In caso invece ci siano diverse soluzioni fattoriali con lo stesso numero m di fattori, il criterio della semplicità guida nella scelta della trasformazione più appropriata della matrice di saturazioni fattoriali $\\boldsymbol{\\Lambda}$. Questa trasformazione, nota come rotazione, cerca di rendere i fattori più interpretabili. Ci sono due tipi di rotazione: ortogonale e obliqua. \n",
    "\n",
    "La rotazione ortogonale assume che i fattori siano incorrelati, mentre la rotazione obliqua consente correlazioni tra i fattori. L'obiettivo della rotazione è di trovare una soluzione che renda i fattori più facilmente interpretabili e, quindi, in grado di spiegare meglio i dati.\n",
    "\n",
    "### Il Criterio della Struttura Semplice nell'Analisi Fattoriale\n",
    "\n",
    "L'analisi fattoriale impiega la rotazione degli assi fattoriali per ottenere una \"struttura semplice\" nella matrice delle saturazioni fattoriali. Questo criterio, proposto originariamente da Thurstone nel 1947, mira a realizzare una matrice caratterizzata da un numero limitato di saturazioni (o carichi fattoriali) significative e diverse da zero, minimizzando al contempo la presenza di variabili influenzate da più di un fattore.\n",
    "\n",
    "Per raggiungere una struttura semplice, Thurstone ha delineato specifiche condizioni che la matrice fattoriale ruotata deve soddisfare:\n",
    "1. Ogni variabile deve presentare saturazioni nulle con la maggior parte dei fattori, escludendo uno o pochi con cui mostra saturazioni significative.\n",
    "2. Per ciascun fattore, devono esistere almeno $m$ saturazioni nulle, dove $m$ è il numero totale di fattori comuni.\n",
    "\n",
    "L'obiettivo della rotazione è quindi massimizzare il numero di saturazioni nulle o quasi nulle, facilitando l'interpretazione dei fattori. Analizzando la matrice ruotata, è possibile identificare le variabili che sono fortemente associate a specifici fattori e valutare l'intensità di tali associazioni.\n",
    "\n",
    "Un fattore si interpreta efficacemente quando i suoi carichi sono elevati e positivi su un gruppo ristretto di variabili; ciò suggerisce che il fattore rappresenta un tratto o una caratteristica comune a tali variabili. Tuttavia, l'interpretazione diventa più complessa quando le variabili presentano saturazioni significative con più di un fattore, poiché indica la presenza di sovrapposizioni nelle influenze fattoriali.\n",
    "\n",
    "\n",
    "## Rotazione nello Spazio Geometrico\n",
    "\n",
    "### Rotazione Ortogonale\n",
    "\n",
    "Come precedentemente osservato, la matrice delle saturazioni fattoriali non è unica, implicando l'esistenza di multiple soluzioni equivalenti per determinare i pesi fattoriali. La rotazione ortogonale è un tipo di trasformazione lineare applicata ai pesi fattoriali per produrre una nuova matrice di saturazioni fattoriali che rispetti criteri specifici di struttura semplice. Questo processo ha lo scopo di rendere i dati più facilmente interpretabili.\n",
    "\n",
    "Geometricamente parlando, la rotazione ortogonale è simile a una rotazione rigida degli assi in uno spazio cartesiano che rappresenta i pesi fattoriali. Tale rotazione conserva le distanze tra i punti (che rappresentano le saturazioni fattoriali) ma modifica la loro posizione relativa rispetto ai fattori. Di conseguenza, si ottiene una configurazione dei pesi fattoriali che è più semplice da interpretare.\n",
    "\n",
    "Le tecniche di rotazione ortogonale sono tipicamente implementate attraverso metodi come la massima verosimiglianza o l'analisi dei componenti principali, con l'obiettivo di massimizzare il numero di saturazioni nulle o quasi nulle nella matrice delle saturazioni risultante. Questo processo aiuta a chiarire quale variabile è influenzata maggiormente da quali fattori, facilitando l'interpretazione dei risultati dell'analisi fattoriale.\n",
    "\n",
    "### Vincoli alla Rotazione dei Fattori\n",
    "\n",
    "Il problema della non identificabilità della matrice dei pesi fattoriali, denotata come $\\hat{\\boldsymbol{\\Lambda}}$, indica l'esistenza di molteplici matrici equivalenti che possono produrre identiche correlazioni tra le variabili di un modello. Per affrontare questa questione, è essenziale imporre vincoli sulla rotazione dei fattori. Uno dei criteri fondamentali nella scelta del tipo di rotazione è l'ottenimento di una matrice $\\hat{\\boldsymbol{\\Lambda}}$ semplificata, i cui elementi si avvicinano il più possibile ai valori 0 e 1. Questo facilita l'interpretazione dei fattori come combinazioni lineari delle variabili.\n",
    "\n",
    "Le rotazioni ortogonali, utili in presenza di fattori non correlati, mantengono inalterate le comunalità, poiché conservano le distanze geometriche tra i punti rappresentati dai pesi fattoriali. In questo caso, le comunalità sono calcolate come la somma dei quadrati dei pesi fattoriali. Al contrario, le rotazioni non ortogonali modificano la quota di varianza spiegata da ciascun fattore, calcolata dalla somma dei quadrati dei pesi fattoriali divisa per la traccia della matrice di correlazione.\n",
    "\n",
    "Esistono vari algoritmi per eseguire la rotazione ortogonale dei fattori, tra cui il metodo grafico, il metodo Quartimax e il metodo Varimax. Ciascuno di questi metodi ha specifiche applicazioni e impatti sulla struttura della matrice risultante, facilitando così l'interpretazione dei dati analizzati.\n",
    "\n",
    "### Metodo Grafico per la Rotazione dei Fattori\n",
    "\n",
    "Quando si dispone di soli $ m=2 $ fattori, il sistema di coordinate bidimensionale è utilizzato per rappresentare geometricamente i fattori. La visualizzazione grafica delle saturazioni fattoriali permette di determinare visivamente la rotazione più appropriata. Ogni riga della matrice $\\hat{\\boldsymbol{\\Lambda}}$ rappresenta un paio di pesi fattoriali, $\\hat{\\lambda}_{i1}, \\hat{\\lambda}_{i2}$, con $i=1, \\dots, p$, che corrispondono alle coordinate di $p$ punti (equivalenti al numero di variabili manifeste). Per ottimizzare la rappresentazione, gli assi vengono ruotati di un angolo $\\phi$ per avvicinarli il più possibile alla disposizione dei punti sul grafico. Le nuove coordinate $(\\hat{\\lambda}_{i1}^*, \\hat{\\lambda}_{i2}^*)$ sono calcolate mediante la trasformazione $\\hat{\\boldsymbol{\\Lambda}}^* = \\hat{\\boldsymbol{\\Lambda}} \\textbf{T}$, dove\n",
    "\n",
    "$$\n",
    "\\textbf{T} = \n",
    "\\begin{bmatrix}\n",
    "\\cos{\\phi} & -\\sin{\\phi}\\\\\n",
    "\\sin{\\phi} & \\cos{\\phi}\n",
    "\\end{bmatrix}\n",
    "$$\n",
    "\n",
    "è una matrice ortogonale $2 \\times 2$.\n",
    "\n",
    "**Esempio:** Consideriamo un caso studiato da Brown, Williams e Barlow (1984), analizzato in {cite:t}`rencher10methods`. A una ragazza di dodici anni è stato chiesto di valutare sette suoi conoscenti su cinque attributi: *gentilezza*, *intelligenza*, *felicità*, *simpatia* e *giustizia*. Per queste variabili, la matrice di correlazione $R$ è stata analizzata per estrarre due fattori mediante il metodo delle componenti principali, senza rotazione iniziale:"
   ]
  },
  {
   "cell_type": "code",
   "execution_count": 12,
   "id": "7214cc07",
   "metadata": {
    "vscode": {
     "languageId": "r"
    }
   },
   "outputs": [
    {
     "name": "stdout",
     "output_type": "stream",
     "text": [
      "      K      I      H     L     J\n",
      "K 1.000  0.296  0.881 0.995 0.545\n",
      "I 0.296  1.000 -0.022 0.326 0.837\n",
      "H 0.881 -0.022  1.000 0.867 0.130\n",
      "L 0.995  0.326  0.867 1.000 0.544\n",
      "J 0.545  0.837  0.130 0.544 1.000\n"
     ]
    }
   ],
   "source": [
    "R <- matrix(\n",
    "  c(\n",
    "    1.00, .296, .881, .995, .545,\n",
    "    .296, 1.000, -.022, .326, .837,\n",
    "    .881, -.022, 1.000, .867, .130,\n",
    "    .995, .326, .867, 1.000, .544,\n",
    "    .545, .837, .130, .544, 1.00\n",
    "  ),\n",
    "  ncol = 5, byrow = TRUE, dimnames = list(\n",
    "    c(\"K\", \"I\", \"H\", \"L\", \"J\"), c(\"K\", \"I\", \"H\", \"L\", \"J\")\n",
    "  )\n",
    ")\n",
    "\n",
    "print(R)"
   ]
  },
  {
   "attachments": {},
   "cell_type": "markdown",
   "id": "6beeb583",
   "metadata": {},
   "source": [
    "Dalla matrice $R$, estraiamo due fattori. Si osserva che i fattori risultano difficili da interpretare: il primo fattore mostra alte saturazioni positive su tutte le variabili manifeste, mentre il secondo fattore si caratterizza per alte saturazioni positive su una variabile e negative sulle altre."
   ]
  },
  {
   "cell_type": "code",
   "execution_count": 13,
   "id": "6b317c96",
   "metadata": {
    "vscode": {
     "languageId": "r"
    }
   },
   "outputs": [
    {
     "name": "stderr",
     "output_type": "stream",
     "text": [
      "Specified rotation not found, rotate='none' used\n",
      "\n"
     ]
    },
    {
     "data": {
      "text/plain": [
       "Principal Components Analysis\n",
       "Call: principal(r = R, nfactors = 2, rotate = FALSE)\n",
       "Standardized loadings (pattern matrix) based upon correlation matrix\n",
       "   PC1   PC2   h2     u2 com\n",
       "K 0.97 -0.23 0.99 0.0067 1.1\n",
       "I 0.52  0.81 0.92 0.0792 1.7\n",
       "H 0.78 -0.59 0.96 0.0391 1.9\n",
       "L 0.97 -0.21 0.99 0.0135 1.1\n",
       "J 0.70  0.67 0.94 0.0597 2.0\n",
       "\n",
       "                       PC1  PC2\n",
       "SS loadings           3.26 1.54\n",
       "Proportion Var        0.65 0.31\n",
       "Cumulative Var        0.65 0.96\n",
       "Proportion Explained  0.68 0.32\n",
       "Cumulative Proportion 0.68 1.00\n",
       "\n",
       "Mean item complexity =  1.6\n",
       "Test of the hypothesis that 2 components are sufficient.\n",
       "\n",
       "The root mean square of the residuals (RMSR) is  0.03 \n",
       "\n",
       "Fit based upon off diagonal values = 1"
      ]
     },
     "metadata": {},
     "output_type": "display_data"
    }
   ],
   "source": [
    "f.pc <- principal(R, 2, rotate = FALSE) \n",
    "f.pc"
   ]
  },
  {
   "attachments": {},
   "cell_type": "markdown",
   "id": "713fc702",
   "metadata": {},
   "source": [
    "In un grafico delle saturazioni fattoriali, i punti rappresentano le cinque coppie di saturazioni (una per ciascun fattore):"
   ]
  },
  {
   "cell_type": "code",
   "execution_count": 16,
   "id": "78e144bb",
   "metadata": {
    "vscode": {
     "languageId": "r"
    }
   },
   "outputs": [
    {
     "data": {
      "image/png": "[encoded data removed]",
      "text/plain": [
       "plot without title"
      ]
     },
     "metadata": {
      "image/png": {
       "height": 360,
       "width": 360
      }
     },
     "output_type": "display_data"
    }
   ],
   "source": [
    "plot(\n",
    "  f.pc$load[, 1], f.pc$load[, 2],\n",
    "  bty = \"n\", xaxt = \"n\",\n",
    "  xlab = \"Primo Fattore\", ylab = \"Secondo Fattore\",\n",
    "  ylim = c(-.6, 1), xlim = c(0, 1), pch = 19, asp = 1\n",
    ")\n",
    "axis(1, pos = c(0, 0))\n",
    "abline(0, 0)"
   ]
  },
  {
   "attachments": {},
   "cell_type": "markdown",
   "id": "4de192b5",
   "metadata": {},
   "source": [
    "{cite:t}`rencher10methods` suggerisce che una rotazione ortogonale di $-35^\\circ$ avvicinerebbe efficacemente gli assi ai punti nel diagramma di dispersione. Per verificarlo, si può disegnare i nuovi assi nel grafico dopo una rotazione di $-35^\\circ$."
   ]
  },
  {
   "cell_type": "code",
   "execution_count": 17,
   "id": "d85c292e",
   "metadata": {
    "vscode": {
     "languageId": "r"
    }
   },
   "outputs": [
    {
     "data": {
      "text/html": [
       "<table class=\"dataframe\">\n",
       "<caption>A matrix: 4 x 2 of type dbl</caption>\n",
       "<tbody>\n",
       "\t<tr><td>0.000</td><td> 0.000</td></tr>\n",
       "\t<tr><td>0.574</td><td> 0.819</td></tr>\n",
       "\t<tr><td>0.000</td><td> 0.000</td></tr>\n",
       "\t<tr><td>0.819</td><td>-0.574</td></tr>\n",
       "</tbody>\n",
       "</table>\n"
      ],
      "text/latex": [
       "A matrix: 4 x 2 of type dbl\n",
       "\\begin{tabular}{ll}\n",
       "\t 0.000 &  0.000\\\\\n",
       "\t 0.574 &  0.819\\\\\n",
       "\t 0.000 &  0.000\\\\\n",
       "\t 0.819 & -0.574\\\\\n",
       "\\end{tabular}\n"
      ],
      "text/markdown": [
       "\n",
       "A matrix: 4 x 2 of type dbl\n",
       "\n",
       "| 0.000 |  0.000 |\n",
       "| 0.574 |  0.819 |\n",
       "| 0.000 |  0.000 |\n",
       "| 0.819 | -0.574 |\n",
       "\n"
      ],
      "text/plain": [
       "     [,1]  [,2]  \n",
       "[1,] 0.000  0.000\n",
       "[2,] 0.574  0.819\n",
       "[3,] 0.000  0.000\n",
       "[4,] 0.819 -0.574"
      ]
     },
     "metadata": {},
     "output_type": "display_data"
    },
    {
     "data": {
      "image/png": "[encoded data removed]",
      "text/plain": [
       "plot without title"
      ]
     },
     "metadata": {
      "image/png": {
       "height": 360,
       "width": 360
      }
     },
     "output_type": "display_data"
    }
   ],
   "source": [
    "plot(\n",
    "  f.pc$load[, 1], f.pc$load[, 2],\n",
    "  bty = \"n\", xaxt = \"n\",\n",
    "  xlab = \"Primo Fattore\", ylab = \"Secondo Fattore\",\n",
    "  ylim = c(-.6, 1), xlim = c(0, 1), pch = 19, asp = 1\n",
    ")\n",
    "axis(1, pos = c(0, 0))\n",
    "abline(0, 0)\n",
    "\n",
    "ar <- matrix(c(\n",
    "  0, 0,\n",
    "  0, 1,\n",
    "  0, 0,\n",
    "  1, 0\n",
    "), ncol = 2, byrow = TRUE)\n",
    "\n",
    "angle <- 35\n",
    "rad <- angle * pi / 180\n",
    "T <- matrix(c(\n",
    "  cos(rad), -sin(rad),\n",
    "  sin(rad),  cos(rad)\n",
    "), ncol = 2, byrow = TRUE)\n",
    "\n",
    "round(ar %*% T, 3)\n",
    "\n",
    "arrows(0, 0, 0.574, 0.819, lwd = 2)\n",
    "arrows(0, 0, 0.819, -0.574, lwd = 2)\n"
   ]
  },
  {
   "attachments": {},
   "cell_type": "markdown",
   "id": "a417dbd3",
   "metadata": {},
   "source": [
    "Nella figura, le due frecce rappresentano gli assi ruotati. La rotazione di $-35^{\\circ}$ ha effettivamente avvicinato gli assi ai punti del diagramma. Se usiamo dunque il valore $\\phi = -35^{\\circ}$ nella matrice di rotazione, possiamo\n",
    "calcolare le saturazioni fattoriali della soluzione ruotata\n",
    "$\\hat{\\boldsymbol{\\Lambda}}^* = \\hat{\\boldsymbol{\\Lambda}} \\textbf{T}$.\n",
    "\n",
    "Le saturazioni fattoriali ruotate corrispondono alla proiezione\n",
    "ortogonale dei punti sugli assi ruotati:"
   ]
  },
  {
   "cell_type": "code",
   "execution_count": 18,
   "id": "e585adb0",
   "metadata": {
    "vscode": {
     "languageId": "r"
    }
   },
   "outputs": [
    {
     "data": {
      "text/html": [
       "<table class=\"dataframe\">\n",
       "<caption>A matrix: 5 x 2 of type dbl</caption>\n",
       "<tbody>\n",
       "\t<tr><th scope=row>K</th><td> 0.927</td><td> 0.367</td></tr>\n",
       "\t<tr><th scope=row>I</th><td>-0.037</td><td> 0.959</td></tr>\n",
       "\t<tr><th scope=row>H</th><td> 0.980</td><td>-0.031</td></tr>\n",
       "\t<tr><th scope=row>L</th><td> 0.916</td><td> 0.385</td></tr>\n",
       "\t<tr><th scope=row>J</th><td> 0.194</td><td> 0.950</td></tr>\n",
       "</tbody>\n",
       "</table>\n"
      ],
      "text/latex": [
       "A matrix: 5 x 2 of type dbl\n",
       "\\begin{tabular}{r|ll}\n",
       "\tK &  0.927 &  0.367\\\\\n",
       "\tI & -0.037 &  0.959\\\\\n",
       "\tH &  0.980 & -0.031\\\\\n",
       "\tL &  0.916 &  0.385\\\\\n",
       "\tJ &  0.194 &  0.950\\\\\n",
       "\\end{tabular}\n"
      ],
      "text/markdown": [
       "\n",
       "A matrix: 5 x 2 of type dbl\n",
       "\n",
       "| K |  0.927 |  0.367 |\n",
       "| I | -0.037 |  0.959 |\n",
       "| H |  0.980 | -0.031 |\n",
       "| L |  0.916 |  0.385 |\n",
       "| J |  0.194 |  0.950 |\n",
       "\n"
      ],
      "text/plain": [
       "  [,1]   [,2]  \n",
       "K  0.927  0.367\n",
       "I -0.037  0.959\n",
       "H  0.980 -0.031\n",
       "L  0.916  0.385\n",
       "J  0.194  0.950"
      ]
     },
     "metadata": {},
     "output_type": "display_data"
    }
   ],
   "source": [
    "angle <- -35\n",
    "rad <- angle * pi / 180\n",
    "T <- matrix(c(\n",
    "  cos(rad), -sin(rad),\n",
    "  sin(rad),  cos(rad)\n",
    "), ncol = 2, byrow = TRUE)\n",
    "round(f.pc$load %*% T, 3)"
   ]
  },
  {
   "attachments": {},
   "cell_type": "markdown",
   "id": "647864ff",
   "metadata": {},
   "source": [
    "La soluzione ottenuta in questo modo riproduce quanto riportato da\n",
    "{cite:t}`rencher10methods`.\n",
    "\n",
    "\n",
    "### Medodi di rotazione ortogonale\n",
    "\n",
    "Un tipo di rotazione ortogonale spesso utilizzata è la rotazione Varimax\n",
    "(Kaiser, 1958). La matrice $\\hat{\\boldsymbol{\\Lambda}}$ è semplificata\n",
    "in modo tale che le varianze dei quadrati degli elementi $\\lambda_{ij}$\n",
    "appartenenti a colonne diverse di $\\hat{\\boldsymbol{\\Lambda}}$ siano\n",
    "massime. Se le saturazioni fattoriali in una colonna di\n",
    "$\\hat{\\boldsymbol{\\Lambda}}$ sono simili tra loro, la varianza sarà\n",
    "prossima a zero. Tale varianza è tanto più grande quanto più i quadrati\n",
    "degli elementi $\\lambda_{ij}$ assumono valori prossimi a $0$ e $1$.\n",
    "Amplificando le correlazioni più alte e riducendo quelle più basse, la\n",
    "rotazione Varimax agevola l'interpretazione di ciascun fattore.\n",
    "\n",
    "Usando la funzione `factanal()` del modulo R base, la rotazione Varimax\n",
    "può essere applicata alla soluzione ottenuta mediante il metodo di\n",
    "massima verosimiglianza. Usando le funzioni `principal()` e\n",
    "`factor.pa()` disponibili nel pacchetto `psych`, la rotazione Varimax\n",
    "può essere applicata alle soluzioni ottenute mediante il metodo delle\n",
    "componenti principali e il metodo del fattore principale. \n",
    "\n",
    "Ad esempio, usando il metodo delle componenti principali otteniamo:"
   ]
  },
  {
   "cell_type": "code",
   "execution_count": 19,
   "id": "2f154cdc",
   "metadata": {
    "vscode": {
     "languageId": "r"
    }
   },
   "outputs": [
    {
     "data": {
      "text/plain": [
       "Principal Components Analysis\n",
       "Call: principal(r = R, nfactors = 2, rotate = \"varimax\", n.obs = 7)\n",
       "Standardized loadings (pattern matrix) based upon correlation matrix\n",
       "   RC1   RC2   h2     u2 com\n",
       "K 0.95  0.30 0.99 0.0067 1.2\n",
       "I 0.03  0.96 0.92 0.0792 1.0\n",
       "H 0.97 -0.10 0.96 0.0391 1.0\n",
       "L 0.94  0.32 0.99 0.0135 1.2\n",
       "J 0.26  0.93 0.94 0.0597 1.2\n",
       "\n",
       "                       RC1  RC2\n",
       "SS loadings           2.81 1.99\n",
       "Proportion Var        0.56 0.40\n",
       "Cumulative Var        0.56 0.96\n",
       "Proportion Explained  0.58 0.42\n",
       "Cumulative Proportion 0.58 1.00\n",
       "\n",
       "Mean item complexity =  1.1\n",
       "Test of the hypothesis that 2 components are sufficient.\n",
       "\n",
       "The root mean square of the residuals (RMSR) is  0.03 \n",
       " with the empirical chi square  0.12  with prob <  0.73 \n",
       "\n",
       "Fit based upon off diagonal values = 1"
      ]
     },
     "metadata": {},
     "output_type": "display_data"
    }
   ],
   "source": [
    "f_pc <- principal(R, 2, n.obs = 7, rotate = \"varimax\")\n",
    "f_pc"
   ]
  },
  {
   "attachments": {},
   "cell_type": "markdown",
   "id": "d6f59f1d",
   "metadata": {},
   "source": [
    "Un altro metodo di rotazione ortogonale è il metodo Quartimax (Neuhaus e Wringley, 1954), il quale opera una semplificazione della matrice $\\hat{\\boldsymbol{\\Lambda}}$ massimizzando le covarianze tra i quadrati degli elementi $\\lambda_{ij}$ appartenenti a righe diverse, subordinatamente alla condizione che la varianza delle righe\n",
    "rimanga inalterata.\n",
    "\n",
    "### Metodi di Rotazione Obliqua\n",
    "\n",
    "Il termine \"rotazione obliqua\" può sembrare inappropriato, in quanto la rotazione implica generalmente una trasformazione ortogonale che preserva le distanze. Tuttavia, come evidenziato da {cite:t}`rencher10methods`, un'espressione più corretta potrebbe essere \"trasformazione obliqua\". Nonostante ciò, l'uso comune ha consolidato il termine \"rotazione obliqua\".\n",
    "\n",
    "Nel contesto della rotazione obliqua, gli assi della soluzione ruotata non sono costretti a rimanere ortogonali tra loro, permettendo così un allineamento più diretto agli agglomerati di punti nello spazio delle saturazioni fattoriali. Questo tipo di trasformazione facilita l'interpretazione dei fattori in presenza di correlazioni tra di essi.\n",
    "\n",
    "Esistono diversi approcci analitici per realizzare una rotazione obliqua. Ad esempio, il metodo Direct Oblimin, sviluppato da Jennrich e Sampson nel 1966, utilizza il seguente criterio:\n",
    "\n",
    "$$\n",
    "\\sum_{ij} \\left(\\sum_v \\lambda_i^2 \\lambda_j^2 - w \\frac{1}{p} \\sum_v \\lambda_i^2 \\sum_v \\lambda_j^2\\right)\n",
    "$$\n",
    "\n",
    "Qui, $\\sum_{ij}$ rappresenta la somma su tutte le coppie di fattori $ij$. Il processo prevede una minimizzazione, al contrario della massimizzazione tipica delle rotazioni ortogonali, riflettendo la ricerca di una soluzione che minimizzi la correlazione ridondante tra i fattori, mantenendo al contempo chiarezza interpretativa."
   ]
  },
  {
   "attachments": {},
   "cell_type": "markdown",
   "id": "51af9e2b",
   "metadata": {},
   "source": [
    "## Matrice dei Pesi Fattoriali e Matrice di Struttura\n",
    "\n",
    "### Rotazione Ortogonale\n",
    "\n",
    "Nel contesto della rotazione ortogonale, i fattori rimangono incorrelati tra loro. Consideriamo il caso di due fattori latenti non correlati ($\\xi_1$ e $\\xi_2$) e quattro variabili manifeste ($y_1, y_2, y_3, y_4$). I coefficienti $\\lambda_{11}, \\lambda_{12}, \\lambda_{13}, \\lambda_{14}$ rappresentano le saturazioni fattoriali delle variabili nel primo fattore, mentre $\\lambda_{21}, \\lambda_{22}, \\lambda_{23}, \\lambda_{24}$ sono quelle nel secondo fattore. In un modello di percorso, la correlazione tra due variabili è calcolata come la somma di tutti i percorsi validi che le collegano. Se i fattori comuni sono incorrelati, esiste un solo percorso valido che collega ciascuna variabile manifesta a ciascun fattore comune secondo le regole di Wright. Pertanto, le correlazioni tra variabili manifeste e fattori comuni sono direttamente uguali alle saturazioni fattoriali. Queste saturazioni possono essere interpretate come i pesi beta di un modello di regressione multipla, indicando il contributo specifico di ciascun fattore comune nella varianza spiegata degli item (Tabachnick & Fidell, 2001).\n",
    "\n",
    "```{figure} ../images/rot_4.png\n",
    "---\n",
    "height: 300px\n",
    "name: orto-rot-fig\n",
    "---\n",
    "Rotazione ortogonale.\n",
    "```"
   ]
  },
  {
   "attachments": {},
   "cell_type": "markdown",
   "id": "e0ac8fe9",
   "metadata": {},
   "source": [
    "### Rotazione Obliqua\n",
    "\n",
    "Nel caso della rotazione obliqua, i fattori comuni risultano correlati tra loro, rendendo la soluzione fattoriale più complessa. Pertanto, la matrice delle saturazioni fattoriali non riflette più direttamente le correlazioni tra variabili e fattori. Un modello di percorso in questa configurazione include almeno due percorsi validi che collegano ciascuna variabile manifesta a ciascun fattore comune. È necessario distinguere tra tre matrici diverse:\n",
    "\n",
    "- **Matrice Pattern ($\\hat{\\boldsymbol{\\Lambda}}$)**: Conosciuta anche come matrice dei modelli, questa matrice rappresenta i coefficienti di regressione parziali delle variabili sulle dimensioni fattoriali, escludendo l'influenza degli altri fattori.\n",
    "- **Matrice di Struttura**: Rappresenta le correlazioni complessive tra le variabili manifeste e i fattori, considerando sia gli effetti diretti che quelli indiretti dei fattori correlati.\n",
    "- **Matrice di Intercorrelazione Fattoriale ($\\hat{\\boldsymbol{\\Phi}}$)**: Indica le correlazioni tra i fattori stessi.\n",
    "\n",
    "In un modello di percorso con rotazione obliqua, gli assi che rappresentano i fattori non sono ortogonali, il che significa che i fattori sono correlati. Le variabili manifeste sono quindi collegate ai fattori attraverso percorsi che includono effetti diretti e indiretti. Ad esempio, per la variabile $y_1$ e il fattore $\\xi_1$, i percorsi includono una freccia causale $\\lambda_{11}$ per l'effetto diretto e un percorso indiretto rappresentato dal prodotto $\\lambda_{21}\\phi_{12}$. L'analisi dei percorsi dimostra che la correlazione tra $\\xi_1$ e $y_1$ è la somma dei valori numerici di questi percorsi validi, ovvero $\\lambda_{11} + \\lambda_{21} \\phi_{12}$.\n",
    "\n",
    "```{figure} ../images/rot_5.png\n",
    "---\n",
    "height: 300px\n",
    "name: obl-rot-fig\n",
    "---\n",
    "Rotazione obliqua.\n",
    "```"
   ]
  },
  {
   "attachments": {},
   "cell_type": "markdown",
   "id": "3200ee6e",
   "metadata": {},
   "source": [
    "Per illustrare la rotazione obliqua, utilizziamo i dati discussi da\n",
    "{cite:t}`rencher10methods`. Si consideri la matrice di correlazione presentata qui sotto."
   ]
  },
  {
   "cell_type": "code",
   "execution_count": null,
   "id": "3a4d2c34",
   "metadata": {
    "vscode": {
     "languageId": "r"
    }
   },
   "outputs": [],
   "source": [
    "R <- matrix(\n",
    "  c(\n",
    "    1.00,  0.735, 0.711, 0.704,\n",
    "    0.735, 1.00,  0.693, 0.709,\n",
    "    0.711, 0.693, 1.00,  0.839,\n",
    "    0.704, 0.709, 0.839, 1.00\n",
    "  ),\n",
    "  ncol = 4,\n",
    "  byrow = TRUE\n",
    ")\n",
    "R\n"
   ]
  },
  {
   "attachments": {},
   "cell_type": "markdown",
   "id": "f4b25085",
   "metadata": {},
   "source": [
    "Iniziamo calcolando la soluzione a due fattori mediante il metodo delle\n",
    "componenti principali e una rotazione Varimax (ovvero, ortogonale). Otteniamo le seguenti saturazioni fattoriali."
   ]
  },
  {
   "cell_type": "code",
   "execution_count": null,
   "id": "6c6c327c",
   "metadata": {
    "vscode": {
     "languageId": "r"
    }
   },
   "outputs": [],
   "source": [
    "f1_pc <- principal(R, 2, rotate = \"varimax\") \n",
    "f1_pc"
   ]
  },
  {
   "attachments": {},
   "cell_type": "markdown",
   "id": "5f1f2e24",
   "metadata": {},
   "source": [
    "Si noti che i due fattori non sono molto distinti. Consideriamo dunque la soluzione  prodotta da una rotazione obliqua. Usiamo qui l'algoritmo Oblimin."
   ]
  },
  {
   "cell_type": "code",
   "execution_count": null,
   "id": "1a6653c9",
   "metadata": {
    "vscode": {
     "languageId": "r"
    }
   },
   "outputs": [],
   "source": [
    "pr_oblimin <- principal(R, 2, rotate = \"oblimin\")"
   ]
  },
  {
   "attachments": {},
   "cell_type": "markdown",
   "id": "0b8562f1",
   "metadata": {},
   "source": [
    "La matrice $\\hat{\\boldsymbol{\\Lambda}}$ delle saturazioni fattoriali si ricava come indicato di seguito."
   ]
  },
  {
   "cell_type": "code",
   "execution_count": null,
   "id": "0eafd0fa",
   "metadata": {
    "vscode": {
     "languageId": "r"
    }
   },
   "outputs": [],
   "source": [
    "cbind(pr_oblimin$load[, 1], pr_oblimin$load[, 2])"
   ]
  },
  {
   "attachments": {},
   "cell_type": "markdown",
   "id": "9964ffce",
   "metadata": {},
   "source": [
    "La matrice $\\hat{\\boldsymbol{\\Phi}}$ di inter-correlazione fattoriale è la seguente."
   ]
  },
  {
   "cell_type": "code",
   "execution_count": null,
   "id": "b7c77120",
   "metadata": {
    "vscode": {
     "languageId": "r"
    }
   },
   "outputs": [],
   "source": [
    "pr_oblimin$Phi"
   ]
  },
  {
   "attachments": {},
   "cell_type": "markdown",
   "id": "60b37bec",
   "metadata": {},
   "source": [
    "La matrice di struttura, che riporta le correlazioni tra indicatori e fattori comuni, si ottiene pre-moltiplicando la matrice $\\boldsymbol{\\Lambda}$ delle saturazioni fattoriali alla matrice $\\boldsymbol{\\Phi}$ di inter-correlazione fattoriale.\n",
    "\n",
    "$$\n",
    "\\text{matrice di struttura} = \\boldsymbol{\\Lambda}\\boldsymbol{\\Phi}.\n",
    "$$\n",
    "\n",
    "Per esempio, la correlazione tra la prima variabile manifesta e il primo fattore si ottiene nel modo seguente."
   ]
  },
  {
   "cell_type": "code",
   "execution_count": null,
   "id": "9f82b2dd",
   "metadata": {
    "vscode": {
     "languageId": "r"
    }
   },
   "outputs": [],
   "source": [
    "pr_oblimin$load[1, 1] + pr_oblimin$load[1, 2] * pr_oblimin$Phi[2, 1]"
   ]
  },
  {
   "attachments": {},
   "cell_type": "markdown",
   "id": "d51991c0",
   "metadata": {},
   "source": [
    "L'intera matrice di struttura si può trovare eseguendo la moltiplicazione  $\\boldsymbol{\\Lambda}\\boldsymbol{\\Phi}$."
   ]
  },
  {
   "cell_type": "code",
   "execution_count": null,
   "id": "a8b899a8",
   "metadata": {
    "vscode": {
     "languageId": "r"
    }
   },
   "outputs": [],
   "source": [
    "pr_oblimin$load %*% pr_oblimin$Phi %>% \n",
    "  round(3)"
   ]
  },
  {
   "attachments": {},
   "cell_type": "markdown",
   "id": "4b315fd1",
   "metadata": {},
   "source": [
    "## Esempio con `semTools`\n",
    "\n",
    "Presento qui un esempio di uso di vari metodi di estrazione fattoriale. Tra tali  metodi, la rotazione obliqua Geomin è molto popolare ed è il default di M-Plus. \n",
    "\n",
    "Iniziamo a caricare il pacchetto `semTools`."
   ]
  },
  {
   "cell_type": "code",
   "execution_count": null,
   "id": "afc5c573",
   "metadata": {
    "vscode": {
     "languageId": "r"
    }
   },
   "outputs": [],
   "source": [
    "suppressPackageStartupMessages(library(\"semTools\")) "
   ]
  },
  {
   "attachments": {},
   "cell_type": "markdown",
   "id": "a79c92f7",
   "metadata": {},
   "source": [
    "Eseguiamo l'analisi fattoriale esplorativa del classico set di dati di Holzinger e Swineford (1939) il quale è costituito dai punteggi dei test di abilità mentale di bambini di seconda e terza media di due scuole diverse (Pasteur e Grant-White). Nel set di dati originale (disponibile nel pacchetto `MBESS`), sono forniti i punteggi di 26 test. Tuttavia, un sottoinsieme più piccolo con 9 variabili è più ampiamente utilizzato in letteratura. Questi sono i dati qui usati. \n",
    "\n",
    "Nel presente esempio, verrà eseguita l'analisi fattoriale esplorativa con l'estrazione di tre fattori. Il metodo di estrazione è `mlr`:\n",
    "\n",
    "> maximum likelihood estimation with robust (Huber-White) standard errors and a scaled test statistic that is (asymptotically) equal to the Yuan-Bentler test statistic. For both complete and incomplete data.\n",
    "\n",
    "La soluzione iniziale non è ruotata. "
   ]
  },
  {
   "cell_type": "code",
   "execution_count": null,
   "id": "9bce9e3a",
   "metadata": {
    "vscode": {
     "languageId": "r"
    }
   },
   "outputs": [],
   "source": [
    "unrotated <- efaUnrotate(HolzingerSwineford1939, nf = 3, varList = paste0(\"x\", 1:9), estimator = \"mlr\")\n",
    "out <- summary(unrotated)\n",
    "print(out)\n"
   ]
  },
  {
   "attachments": {},
   "cell_type": "markdown",
   "id": "57881716",
   "metadata": {},
   "source": [
    "Si noti che, in assenza di rotazione, è impossibile assegnare un significato ai fattori comuni.\n",
    "\n",
    "### Orthogonal varimax\n",
    "\n",
    "Utilizziamo ora la rotazione ortogonale Varimax."
   ]
  },
  {
   "cell_type": "code",
   "execution_count": null,
   "id": "f2621067",
   "metadata": {
    "vscode": {
     "languageId": "r"
    }
   },
   "outputs": [],
   "source": [
    "out_varimax <- orthRotate(unrotated, method = \"varimax\")\n",
    "out <- summary(out_varimax, sort = FALSE, suppress = 0.3)\n",
    "print(out)\n"
   ]
  },
  {
   "attachments": {},
   "cell_type": "markdown",
   "id": "093029f1",
   "metadata": {},
   "source": [
    "### Orthogonal Quartimin\n",
    "\n",
    "Un metodo alternativo per la rotazione ortogonale è Quartimin."
   ]
  },
  {
   "cell_type": "code",
   "execution_count": null,
   "id": "396b048b",
   "metadata": {
    "vscode": {
     "languageId": "r"
    }
   },
   "outputs": [],
   "source": [
    "out_quartimin <- orthRotate(unrotated, method = \"quartimin\")\n",
    "out <- summary(out_quartimin, sort = FALSE, suppress = 0.3)\n",
    "print(out)\n"
   ]
  },
  {
   "attachments": {},
   "cell_type": "markdown",
   "id": "ffa3169c",
   "metadata": {},
   "source": [
    "### Oblique Quartimin\n",
    "\n",
    "L'algoritmo Quartimin può anche essere usato per una soluzione obliqua."
   ]
  },
  {
   "cell_type": "code",
   "execution_count": null,
   "id": "b7fbbd83",
   "metadata": {
    "vscode": {
     "languageId": "r"
    }
   },
   "outputs": [],
   "source": [
    "out_oblq <- oblqRotate(unrotated, method = \"quartimin\")\n",
    "out <- summary(out_oblq, sort = FALSE, suppress = 0.3)\n",
    "print(out)\n"
   ]
  },
  {
   "attachments": {},
   "cell_type": "markdown",
   "id": "f8dba577",
   "metadata": {},
   "source": [
    "### Orthogonal Geomin\n",
    "\n",
    "Consideriamo ora la rotazione Geomin. L'algoritmo Geomin fornisce un metodo di rotazione che riduce al minimo la media geometrica delle saturazioni fattoriali innalzate al quadrato. Qui è usato per ottenere una soluzione ortogonale."
   ]
  },
  {
   "cell_type": "code",
   "execution_count": null,
   "id": "ea68201e",
   "metadata": {
    "vscode": {
     "languageId": "r"
    }
   },
   "outputs": [],
   "source": [
    "out_geomin_orh <- orthRotate(unrotated, method = \"geomin\")\n",
    "out <- summary(out_geomin_orh, sort = FALSE, suppress = 0.3)\n",
    "print(out)\n"
   ]
  },
  {
   "attachments": {},
   "cell_type": "markdown",
   "id": "e7a1d249",
   "metadata": {},
   "source": [
    "### Oblique Geomin\n",
    "\n",
    "La rotazione Geomin può anche essere usata per ottenere una soluzione obliqua."
   ]
  },
  {
   "cell_type": "code",
   "execution_count": null,
   "id": "ab34852c",
   "metadata": {
    "vscode": {
     "languageId": "r"
    }
   },
   "outputs": [],
   "source": [
    "out_geomin_obl <- oblqRotate(unrotated, method = \"geomin\")\n",
    "out <- summary(out_geomin_obl, sort = FALSE, suppress = 0.3)\n",
    "print(out)\n"
   ]
  },
  {
   "attachments": {},
   "cell_type": "markdown",
   "id": "9778991b",
   "metadata": {},
   "source": [
    "## Interpretazione \n",
    "\n",
    "Per interpretare i fattori comuni latenti, dobbiamo decidere se usare la matrice pattern o la matrice struttura. Un fattore individuato dall'analisi fattoriale è una caratteristica latente univariata che rappresenta l'essenza di un fenomeno psicologico. Dovrebbe essere interpretato come il significato semplice che si trova dietro l'intersezione dei significati delle variabili che saturano nel fattore.\n",
    "\n",
    "Nella rotazione obliqua, i fattori sono correlati ma vogliamo comunque interpretarli come dimensioni psicologiche distinte. L'etichetta che diamo al fattore $F_1$ dovrebbe aiutare a separare teoricamente il fenomeno psicologico corrispondente a $F_1$ dal fenomeno denotato dall'etichetta del fattore $F_2$, anche se sono correlati.\n",
    "\n",
    "Se questa è la strategia interpretativa, allora lo strumento principale per l'interpretazione è la matrice pattern. I coefficienti della matrice pattern mostrano l'influenza causale del fattore comune sulle variabili manifeste. La matrice struttura descrive le correlazioni tra variabili e fattori e dipende sia dai percorsi diretti che indiretti. Quindi, non descrive gli effetti diretti dei fattori comuni latenti sulle variabili manifeste ma solo la covariazione tra di loro.\n"
   ]
  }
 ],
 "metadata": {
  "jupytext": {
   "cell_metadata_filter": "tags,out.width,name,fig.cap,-all",
   "main_language": "R",
   "notebook_metadata_filter": "-all"
  },
  "kernelspec": {
   "display_name": "R",
   "language": "R",
   "name": "ir"
  },
  "language_info": {
   "codemirror_mode": "r",
   "file_extension": ".r",
   "mimetype": "text/x-r-source",
   "name": "R",
   "pygments_lexer": "r",
   "version": "4.3.3"
  }
 },
 "nbformat": 4,
 "nbformat_minor": 5
}