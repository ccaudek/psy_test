{
 "cells": [
  {
   "attachments": {},
   "cell_type": "markdown",
   "id": "031930ba",
   "metadata": {},
   "source": [
    "(lin-alg-notbook)=\n",
    "# Elementi di algebra lineare "
   ]
  },
  {
   "cell_type": "code",
   "execution_count": 1,
   "id": "56fa3523",
   "metadata": {
    "tags": [
     "remove_cell"
    ],
    "vscode": {
     "languageId": "r"
    }
   },
   "outputs": [],
   "source": [
    "source(\"../_common.R\")\n",
    "set.seed(42)"
   ]
  },
  {
   "attachments": {},
   "cell_type": "markdown",
   "id": "9834a15a",
   "metadata": {},
   "source": [
    "L'analisi fattoriale è una tecnica di analisi multivariata e, perciò, richiede la comprensione di almeno alcuni concetti di base dell'algebra lineare. A livello minimale è necessario capire che cosa sono i vettori e le matrici, che cosa è il determinante di una matrice, e in che modo possano essere eseguite le operazioni algebriche su vettori e matrici. Questo Capitolo si pone l'obiettivo di chiarire le nozioni elencate sopra.\n",
    "\n",
    "## Vettori \n",
    "\n",
    "### Vettori nello spazio euclideo\n",
    "\n",
    "Un vettore geometrico è un segmento orientato dotato di una lunghezza, una direzione e un verso. Spesso viene rappresentato con una freccia. Dato che i vettori non hanno posizione (ma solo direzione, verso e intensità), sono possibili rappresentazioni multiple dello stesso vettore. Nella discussione seguente, considereremo soltanto vettori che hanno origine nel punto (0, 0).  Questo verrà chiarito\n",
    "dall'esempio seguente. La posizione di un punto nel piano può essere espressa nei termini di una coppia ordinata di numeri ($x, y$), le coordinate\n",
    "di quel punto. Tale coppia di valori rappresenta la distanza verticale\n",
    "dal punto a ciascuno degli assi coordinati.\n",
    "\n",
    "Possiamo anche definire il punto $P$ specificando la distanza e la\n",
    "direzione di $P$ dall'origine, ovvero nei termini del vettore\n",
    "$\\overrightarrow{OP}$. A sua volta, questo vettore può essere espresso\n",
    "nei termini delle sue componenti nelle direzioni orizzontali e\n",
    "verticali: \n",
    "\n",
    "$$\n",
    "\\overrightarrow{OP} = \\left[ \\begin{array}{c}\n",
    "2\\\\\n",
    "3\n",
    "\\end{array}\n",
    " \\right]\n",
    "$$ \n",
    " \n",
    "Se volessimo specificare un punto in uno spazio a 3 dimensioni, avremmo: \n",
    "\n",
    "$$\n",
    "\\overrightarrow{OP} = \\left[ \\begin{array}{c}\n",
    "x\\\\\n",
    "y\\\\\n",
    "z\n",
    "\\end{array}\n",
    "\\right]\n",
    "$$ \n",
    " \n",
    "In generale, un punto $P$ in uno spazio a $n$-dimensioni sarà specificato da: \n",
    "\n",
    "$$\n",
    "\\overrightarrow{OP} = \\left[ \\begin{array}{c}\n",
    "v_1\\\\\n",
    "v_2\\\\\n",
    "\\dots\\\\\n",
    "v_n\n",
    "\\end{array}\n",
    "\\right]\n",
    "$$ \n",
    " \n",
    "Dal punto di vista geometrico, dunque, un vettore rappresenta un punto in uno spazio $n$-dimensionale.\n",
    "\n",
    "In $\\mathsf{R}$, un vettore è definito come"
   ]
  },
  {
   "cell_type": "code",
   "execution_count": 2,
   "id": "bdafdf03",
   "metadata": {
    "lines_to_next_cell": 2,
    "vscode": {
     "languageId": "r"
    }
   },
   "outputs": [
    {
     "name": "stdout",
     "output_type": "stream",
     "text": [
      "[1] 1 3 2\n"
     ]
    }
   ],
   "source": [
    "a <- c(1, 3, 2) \n",
    "a |> print()"
   ]
  },
  {
   "attachments": {},
   "cell_type": "markdown",
   "id": "85c17e03",
   "metadata": {},
   "source": [
    "### Somma e differenza di vettori\n",
    "\n",
    "La somma di due vettori è definita come\n",
    "\n",
    "$$\n",
    "(a_1, a_2) + (b_1, b_2) = (a_1 + b_1, a_2 + b_2).\n",
    "$$\n",
    "\n",
    "In $\\mathsf{R}$ abbiamo"
   ]
  },
  {
   "cell_type": "code",
   "execution_count": 3,
   "id": "79a058de",
   "metadata": {
    "lines_to_next_cell": 2,
    "vscode": {
     "languageId": "r"
    }
   },
   "outputs": [
    {
     "name": "stdout",
     "output_type": "stream",
     "text": [
      "[1] 2 8 9\n"
     ]
    },
    {
     "data": {
      "text/html": [
       "<style>\n",
       ".list-inline {list-style: none; margin:0; padding: 0}\n",
       ".list-inline>li {display: inline-block}\n",
       ".list-inline>li:not(:last-child)::after {content: \"\\00b7\"; padding: 0 .5ex}\n",
       "</style>\n",
       "<ol class=list-inline><li>3</li><li>11</li><li>11</li></ol>\n"
      ],
      "text/latex": [
       "\\begin{enumerate*}\n",
       "\\item 3\n",
       "\\item 11\n",
       "\\item 11\n",
       "\\end{enumerate*}\n"
      ],
      "text/markdown": [
       "1. 3\n",
       "2. 11\n",
       "3. 11\n",
       "\n",
       "\n"
      ],
      "text/plain": [
       "[1]  3 11 11"
      ]
     },
     "metadata": {},
     "output_type": "display_data"
    }
   ],
   "source": [
    "a <- c(1, 3, 2) \n",
    "b <- c(2, 8, 9) \n",
    "a + b |> print()"
   ]
  },
  {
   "attachments": {},
   "cell_type": "markdown",
   "id": "5dc007f0",
   "metadata": {},
   "source": [
    "La differenza di due vettori è\n",
    "\n",
    "$$\n",
    "(a_1, a_2) - (b_1, b_2) = (a_1 - b_1, b_2 - b_2).\n",
    "$$\n",
    "\n",
    "In $\\mathsf{R}$ abbiamo"
   ]
  },
  {
   "cell_type": "code",
   "execution_count": 4,
   "id": "404874fa",
   "metadata": {
    "lines_to_next_cell": 2,
    "vscode": {
     "languageId": "r"
    }
   },
   "outputs": [
    {
     "name": "stdout",
     "output_type": "stream",
     "text": [
      "[1] 2 8 9\n"
     ]
    },
    {
     "data": {
      "text/html": [
       "<style>\n",
       ".list-inline {list-style: none; margin:0; padding: 0}\n",
       ".list-inline>li {display: inline-block}\n",
       ".list-inline>li:not(:last-child)::after {content: \"\\00b7\"; padding: 0 .5ex}\n",
       "</style>\n",
       "<ol class=list-inline><li>-1</li><li>-5</li><li>-7</li></ol>\n"
      ],
      "text/latex": [
       "\\begin{enumerate*}\n",
       "\\item -1\n",
       "\\item -5\n",
       "\\item -7\n",
       "\\end{enumerate*}\n"
      ],
      "text/markdown": [
       "1. -1\n",
       "2. -5\n",
       "3. -7\n",
       "\n",
       "\n"
      ],
      "text/plain": [
       "[1] -1 -5 -7"
      ]
     },
     "metadata": {},
     "output_type": "display_data"
    }
   ],
   "source": [
    "a <- c(1, 3, 2) \n",
    "b <- c(2, 8, 9) \n",
    "a - b |> print()"
   ]
  },
  {
   "attachments": {},
   "cell_type": "markdown",
   "id": "1f0f9da5",
   "metadata": {},
   "source": [
    "### Moltiplicazione scalare\n",
    "\n",
    "La moltiplicazione scalare di un vettore per un numero reale (o scalare) è data da \n",
    "\n",
    "$$\n",
    "\\rho (a_1, a_2) = (\\rho a_1, \\rho a_2)\n",
    "$$ \n",
    "\n",
    "Dal punto di vista geometrico, la moltiplicazione scalare effettua una estensione o contrazione del vettore $\\boldsymbol{a}$, preservandone la direzione.\n",
    "\n",
    "In $\\mathsf{R}$ abbiamo"
   ]
  },
  {
   "cell_type": "code",
   "execution_count": 5,
   "id": "4228ae57",
   "metadata": {
    "vscode": {
     "languageId": "r"
    }
   },
   "outputs": [
    {
     "name": "stdout",
     "output_type": "stream",
     "text": [
      "[1] 2 8 9\n"
     ]
    },
    {
     "data": {
      "text/html": [
       "<style>\n",
       ".list-inline {list-style: none; margin:0; padding: 0}\n",
       ".list-inline>li {display: inline-block}\n",
       ".list-inline>li:not(:last-child)::after {content: \"\\00b7\"; padding: 0 .5ex}\n",
       "</style>\n",
       "<ol class=list-inline><li>4</li><li>16</li><li>18</li></ol>\n"
      ],
      "text/latex": [
       "\\begin{enumerate*}\n",
       "\\item 4\n",
       "\\item 16\n",
       "\\item 18\n",
       "\\end{enumerate*}\n"
      ],
      "text/markdown": [
       "1. 4\n",
       "2. 16\n",
       "3. 18\n",
       "\n",
       "\n"
      ],
      "text/plain": [
       "[1]  4 16 18"
      ]
     },
     "metadata": {},
     "output_type": "display_data"
    }
   ],
   "source": [
    "a <- 2\n",
    "x <- c(2, 8, 9) \n",
    "a * x |> print()"
   ]
  },
  {
   "attachments": {},
   "cell_type": "markdown",
   "id": "bb0c4b5b",
   "metadata": {},
   "source": [
    "### Combinazione lineare\n",
    "\n",
    "Se $\\mathbf{v}_{1}, \\dots, \\mathbf{v}_{n}$ sono vettori e $a_1, \\dots, a_n$ sono scalari, allora la combinazione lineare di questi vettori con questi coefficienti scalari è data da\n",
    "\n",
    "$$\n",
    "{\\displaystyle a_{1}\\mathbf {v} _{1}+a_{2}\\mathbf {v} _{2}+a_{3}\\mathbf {v} _{3}+\\cdots +a_{n}\\mathbf {v} _{n}.}\n",
    "$$\n",
    "Per esempio, in $\\mathsf{R}$ possiamo aver"
   ]
  },
  {
   "cell_type": "code",
   "execution_count": 6,
   "id": "3ab0c3f7",
   "metadata": {
    "vscode": {
     "languageId": "r"
    }
   },
   "outputs": [
    {
     "name": "stdout",
     "output_type": "stream",
     "text": [
      "[1] 20 43 17\n"
     ]
    }
   ],
   "source": [
    "a <- c(2, 3, 4)\n",
    "v1 <- c(2, 8, 3) \n",
    "v2 <- c(4, 5, 1) \n",
    "v3 <- c(1, 3, 2) \n",
    "y <- a[1] * v1 + a[2] * v2 + a[3] * v3\n",
    "y |> print()"
   ]
  },
  {
   "attachments": {},
   "cell_type": "markdown",
   "id": "1b4a5905",
   "metadata": {},
   "source": [
    "### Vettore 0 e vettore 1\n",
    "\n",
    "Il vettore 0 è costituito da $n$ elementi, tutti uguali a 0. Il vettore 1 è costituito da $n$ elementi, tutti uguali a 1. \n",
    "\n",
    "In $\\mathsf{R}$ abbiamo"
   ]
  },
  {
   "cell_type": "code",
   "execution_count": 7,
   "id": "271ded81",
   "metadata": {
    "lines_to_next_cell": 2,
    "vscode": {
     "languageId": "r"
    }
   },
   "outputs": [
    {
     "name": "stdout",
     "output_type": "stream",
     "text": [
      "[1] 0 0 0 0 0\n"
     ]
    },
    {
     "name": "stdout",
     "output_type": "stream",
     "text": [
      "[1] 1 1 1 1 1\n"
     ]
    }
   ],
   "source": [
    "x <- rep(0, 5) \n",
    "x |> print()\n",
    "y <- rep(1, 5)\n",
    "y |> print()"
   ]
  },
  {
   "attachments": {},
   "cell_type": "markdown",
   "id": "9b62cbf1",
   "metadata": {},
   "source": [
    "### Ortogonalità tra vettori\n",
    "\n",
    "Due vettori si dicono ortogonali, e si scrive $\\boldsymbol{a} \\bot \\boldsymbol{b}$, se e solo se il loro prodotto scalare è nullo:\n",
    "\n",
    "$$\n",
    "\\boldsymbol{a}'\\boldsymbol{b} = 0.\n",
    "$$\n",
    "\n",
    "In $\\mathsf{R}$ abbiamo"
   ]
  },
  {
   "cell_type": "code",
   "execution_count": 8,
   "id": "ac4bcd3c",
   "metadata": {
    "vscode": {
     "languageId": "r"
    }
   },
   "outputs": [
    {
     "name": "stdout",
     "output_type": "stream",
     "text": [
      "[1] 0\n"
     ]
    }
   ],
   "source": [
    "v1 <- c(1, 1)\n",
    "v2 <- c(-1, 1)\n",
    "sum(v1 * v2) |> print()"
   ]
  },
  {
   "attachments": {},
   "cell_type": "markdown",
   "id": "db86beb7",
   "metadata": {},
   "source": [
    "### Trasposta di un vettore\n",
    "\n",
    "In un vettore trasposto gli indici delle righe prendono il posto degli indici delle colonne, e viceversa.\n",
    "\n",
    "In $\\mathsf{R}$ abbiamo"
   ]
  },
  {
   "cell_type": "code",
   "execution_count": 9,
   "id": "3698bc81",
   "metadata": {
    "vscode": {
     "languageId": "r"
    }
   },
   "outputs": [
    {
     "name": "stdout",
     "output_type": "stream",
     "text": [
      "     [,1]\n",
      "[1,]    1\n",
      "[2,]    3\n",
      "[3,]    7\n"
     ]
    }
   ],
   "source": [
    "v1 <- c(1, 3, 7) %>% \n",
    "  as.matrix()\n",
    "v1 |> print()"
   ]
  },
  {
   "attachments": {},
   "cell_type": "markdown",
   "id": "c5e2dffe",
   "metadata": {},
   "source": [
    "Le dimensioni di `v1` sono"
   ]
  },
  {
   "cell_type": "code",
   "execution_count": 10,
   "id": "32de5a76",
   "metadata": {
    "vscode": {
     "languageId": "r"
    }
   },
   "outputs": [
    {
     "data": {
      "text/html": [
       "<style>\n",
       ".list-inline {list-style: none; margin:0; padding: 0}\n",
       ".list-inline>li {display: inline-block}\n",
       ".list-inline>li:not(:last-child)::after {content: \"\\00b7\"; padding: 0 .5ex}\n",
       "</style>\n",
       "<ol class=list-inline><li>3</li><li>1</li></ol>\n"
      ],
      "text/latex": [
       "\\begin{enumerate*}\n",
       "\\item 3\n",
       "\\item 1\n",
       "\\end{enumerate*}\n"
      ],
      "text/markdown": [
       "1. 3\n",
       "2. 1\n",
       "\n",
       "\n"
      ],
      "text/plain": [
       "[1] 3 1"
      ]
     },
     "metadata": {},
     "output_type": "display_data"
    }
   ],
   "source": [
    "dim(v1)"
   ]
  },
  {
   "attachments": {},
   "cell_type": "markdown",
   "id": "2da9f859",
   "metadata": {},
   "source": [
    "La trasposta di `v1` è"
   ]
  },
  {
   "cell_type": "code",
   "execution_count": 11,
   "id": "1dcc39cd",
   "metadata": {
    "vscode": {
     "languageId": "r"
    }
   },
   "outputs": [
    {
     "name": "stdout",
     "output_type": "stream",
     "text": [
      "     [,1] [,2] [,3]\n",
      "[1,]    1    3    7\n"
     ]
    }
   ],
   "source": [
    "v2 <- t(v1)\n",
    "v2 |> print()"
   ]
  },
  {
   "attachments": {},
   "cell_type": "markdown",
   "id": "d9244993",
   "metadata": {},
   "source": [
    "di dimensioni"
   ]
  },
  {
   "cell_type": "code",
   "execution_count": 12,
   "id": "f0a7d2d1",
   "metadata": {
    "vscode": {
     "languageId": "r"
    }
   },
   "outputs": [
    {
     "name": "stdout",
     "output_type": "stream",
     "text": [
      "[1] 1 3\n"
     ]
    }
   ],
   "source": [
    "dim(v2) |> print()"
   ]
  },
  {
   "attachments": {},
   "cell_type": "markdown",
   "id": "d98527cd",
   "metadata": {},
   "source": [
    "### Norma o lunghezza di un vettore\n",
    "\n",
    "Per il teorema di Pitagora, la norma di un vettore $(a_1,\n",
    "a_2)$ è $\\sqrt{a_1^2 + a_2^2}$ ed è denotata da $\\| (a_1,\n",
    "a_2) \\|$. Infatti, se un vettore $\\boldsymbol{a}$ (l'ipotenusa) è la\n",
    "somma di due vettori ortogonali $\\boldsymbol{a}_1$ e $\\boldsymbol{a}_2$\n",
    "(i cateti), allora la lunghezza al quadrato di $\\boldsymbol{a}$ è uguale\n",
    "alla somma dei quadrati delle lunghezze di $\\boldsymbol{a}_1$ e\n",
    "$\\boldsymbol{a}_2$.\n",
    "\n",
    "Viene detta norma di $\\boldsymbol{a}$ la radice del prodotto scalare di\n",
    "un vettore per se stesso:\n",
    "\n",
    "$$\n",
    "\\| \\boldsymbol{a} \\| = \\sqrt{\\boldsymbol{a}'\\boldsymbol{a}}.\n",
    "$$\n",
    "\n",
    "In $\\mathsf{R}$ abbiamo"
   ]
  },
  {
   "cell_type": "code",
   "execution_count": 13,
   "id": "e657978c",
   "metadata": {
    "vscode": {
     "languageId": "r"
    }
   },
   "outputs": [
    {
     "name": "stdout",
     "output_type": "stream",
     "text": [
      "         [,1]\n",
      "[1,] 7.681146\n"
     ]
    }
   ],
   "source": [
    "sqrt(t(v1) %*% v1) |> print()"
   ]
  },
  {
   "attachments": {},
   "cell_type": "markdown",
   "id": "009ecf7f",
   "metadata": {},
   "source": [
    "## Matrici \n",
    "\n",
    "Una matrice costituisce un insieme rettangolare di scalari ordinati per\n",
    "riga e colonna. Può anche essere vista come la raccolta di $m$ vettori\n",
    "colonna di dimensione $n$ o come la raccolta di $n$ vettori riga di\n",
    "dimensione $m$. Per esempio:\n",
    "\n",
    "$$\n",
    "\\boldsymbol{A} =  \\left[ \\begin{array}{c c c}\n",
    "a_{11} & a_{12} & a_{13}\\\\\n",
    "a_{21} & a_{22} & a_{23} \\end{array} \\right]\n",
    "$$\n",
    "\n",
    "In $\\mathsf{R}$ abbiamo"
   ]
  },
  {
   "cell_type": "code",
   "execution_count": 14,
   "id": "c732ed10",
   "metadata": {
    "vscode": {
     "languageId": "r"
    }
   },
   "outputs": [
    {
     "name": "stdout",
     "output_type": "stream",
     "text": [
      "     [,1] [,2] [,3]\n",
      "[1,]    1    2    3\n",
      "[2,]    4    5    6\n"
     ]
    }
   ],
   "source": [
    "M <- matrix(\n",
    "  c(1, 2, 3, 4, 5, 6), \n",
    "  ncol = 3, \n",
    "  byrow = TRUE)\n",
    "M |> print()"
   ]
  },
  {
   "attachments": {},
   "cell_type": "markdown",
   "id": "093df3e1",
   "metadata": {},
   "source": [
    "### Dimensioni della matrice\n",
    "\n",
    "I numeri interi $m$ ed $n$ si dicono dimensioni della matrice, ovvero\n",
    "$\\boldsymbol{A}$ si dice matrice di dimensioni $m \\times n$ o di ordine\n",
    "$m \\times n$. Nel caso presente, la matrice $\\boldsymbol{A}$ ha\n",
    "dimensioni $2 \\times 3$."
   ]
  },
  {
   "cell_type": "code",
   "execution_count": 15,
   "id": "96dc9fed",
   "metadata": {
    "vscode": {
     "languageId": "r"
    }
   },
   "outputs": [
    {
     "name": "stdout",
     "output_type": "stream",
     "text": [
      "[1] 2 3\n"
     ]
    }
   ],
   "source": [
    "dim(M) |> print()"
   ]
  },
  {
   "attachments": {},
   "cell_type": "markdown",
   "id": "f40157fe",
   "metadata": {},
   "source": [
    "### Matrice trasposta\n",
    "\n",
    "Si definisce *matrice trasposta* di $\\boldsymbol{A}$, e si denota con\n",
    "$\\boldsymbol{A}'$ oppure $\\boldsymbol{A}'$, la matrice\n",
    "$\\boldsymbol{B} = \\boldsymbol{A}'$ di ordine $n \\times m$ cui elementi\n",
    "sono: \n",
    "\n",
    "$$\n",
    "b_{ij} = a_{ji},  \\quad        i = 1 \\dots m, j = 1 \\dots n\n",
    "$$\n",
    "\n",
    "Per esempio, \n",
    "\n",
    "$$\n",
    "\\left[ \\begin{array}{c c}\n",
    "-2 & 5\\\\\n",
    "3 & 1\\\\\n",
    "7 & -6\n",
    "\\end{array}\n",
    " \\right]'=\n",
    "\\left[ \\begin{array}{c c c}\n",
    "-2 & 3 & 7\\\\\n",
    "5 & 1 & -6\n",
    "\\end{array}\n",
    " \\right]\n",
    " $$"
   ]
  },
  {
   "attachments": {},
   "cell_type": "markdown",
   "id": "62a75016",
   "metadata": {},
   "source": [
    "### Matrice simmetrica\n",
    "\n",
    "Se accade che $\\boldsymbol{A} = \\boldsymbol{A}'$ allora la matrice è\n",
    "detta *simmetrica*.\n",
    "\n",
    "$$\n",
    "\\boldsymbol{A} =  \\left[ \\begin{array}{c c c}\n",
    "7 & 1 & 2\\\\\n",
    "1 & 8 & 3\\\\\n",
    "2 & 3 & 9 \\end{array} \\right]\n",
    "$$\n",
    "\n",
    "-   $(\\boldsymbol{A} + \\boldsymbol{B})' = (\\boldsymbol{A})' +\n",
    "    (\\boldsymbol{B})'$\n",
    "\n",
    "-   $(\\boldsymbol{A} - \\boldsymbol{B})' = (\\boldsymbol{A})' -\n",
    "    (\\boldsymbol{B})'$\n",
    "\n",
    "-   $(\\boldsymbol{a} + \\boldsymbol{b})' = (\\boldsymbol{a})' +\n",
    "    (\\boldsymbol{b})'$\n",
    "\n",
    "-   $(\\boldsymbol{a} - \\boldsymbol{b})' = (\\boldsymbol{a})' -\n",
    "    (\\boldsymbol{b})'$\n",
    "\n",
    "### Matrice quadrata o rettangolare\n",
    "\n",
    "Se $m = n$ allora la matrice $\\boldsymbol{A}$ si dice quadrata di\n",
    "dimensione $n$ o di ordine $n$ altrimenti si dice rettangolare. Le righe\n",
    "di $\\boldsymbol{A}$ sono $[a_{11}\\ a_{12}\\ a_{13}]$ e $[a_{21}\\ a_{22}\\ a_{23}]$. Le colonne di $\\boldsymbol{A}$ sono $\\left[\\begin{array}{c} a_{11} \\\\ a_{21} \\end{array} \\right]$, $\\left[\n",
    "\\begin{array}{c} a_{12} \\\\ a_{22} \\end{array} \\right]$ e $\\left[\n",
    "\\begin{array}{c} a_{13} \\\\ a_{23} \\end{array} \\right]$.\n",
    "\n",
    "### Diagonale principale\n",
    "\n",
    "Se $i$ e $j$ sono numeri interi con $1 \\leq i \\leq m$ e $1 \\leq j\n",
    "\\leq n$ allora l'elemento della matrice $\\boldsymbol{A}$ di dimensione\n",
    "$m \\times n$ che si trova in posizione ($i, j$) viene indicato con\n",
    "$a_{ij}$. Gli elementi $a_{ij}$ di una matrice quadrata $\\boldsymbol{A}$\n",
    "di ordine $n$ tali che $i = j$ sono detti elementi principali o\n",
    "diagonali e formano la cosiddetta *diagonale principale* di\n",
    "$\\boldsymbol{A}$.\n",
    "\n",
    "$$\n",
    "\\boldsymbol{A} =  \\left[ \\begin{array}{c c c}\n",
    "a_{11} & a_{12} & a_{13}\\\\\n",
    "a_{21} &  a_{22} & a_{23}\\\\\n",
    "a_{31} & a_{32} & a_{33} \\end{array} \\right]\n",
    "$$\n",
    "\n",
    "### Matrice diagonale\n",
    "\n",
    "Se gli elementi $a_{ij}$ di una matrice quadrata $\\boldsymbol{A}$ sono\n",
    "tali che $a_{ij} =0$ e $a_{ii} \\neq 0$, allora la matrice\n",
    "$\\boldsymbol{A}$ viene detta *matrice diagonale*.\n",
    "\n",
    "$$\n",
    "\\boldsymbol{A} =  \\left[ \\begin{array}{c c c}\n",
    "a_{11} & 0 & 0\\\\\n",
    "0 & a_{22} & 0\\\\\n",
    "0 & 0 & a_{33} \\end{array} \\right]\n",
    "$$\n",
    "\n",
    "### Matrice identità\n",
    "\n",
    "Si definisce *matrice identità* di ordine $n$ la matrice quadrata\n",
    "diagonale $\\boldsymbol{I}_n$ avente tutti gli elementi principali uguali\n",
    "a $1$:\n",
    "\n",
    "$$\n",
    "\\boldsymbol{I}_3 =  \\left[ \\begin{array}{c c c}\n",
    "1 & 0 & 0\\\\\n",
    "0 & 1 & 0\\\\\n",
    "0 & 0 & 1 \\end{array} \\right]\n",
    "$$ \n",
    "\n",
    "La matrice identità ha la stessa funzione del numero \"1\" nel sistema dei numeri reali.\n",
    "\n",
    "### Matrici diagonali e triangolari\n",
    "\n",
    "Gli elementi di una matrice che si trovano al di sopra della diagonale\n",
    "principale sono detti *sopradiagonali*, mentre quelli che si trovano al\n",
    "di sotto della stessa diagonale principale sono detti *sottodiagonali*.\n",
    "Se una matrice ha tutti gli elementi sopradiagonali e sottodiagonali\n",
    "uguali a zero viene detta *matrice diagonale*. Se invece ha solo gli\n",
    "elementi sopradiagonali nulli allora viene detta *triangolare\n",
    "inferiore*. Se ha gli elementi sottodiagonali nulli allora è detta\n",
    "*triangolare superiore*.\n",
    "\n",
    "### Somma e sottrazione\n",
    "\n",
    "La somma e la sottrazione di due matrici sono operazioni definite\n",
    "*elemento per elemento*. Per sommare due matrici sommiamo gli elementi\n",
    "corrispondenti. Per sottrarre due matrici sottraiamo gli elementi\n",
    "corrispondenti. Si noti che queste operazioni hanno senso solo se le due\n",
    "matrici hanno *le stesse dimensioni* (altrimenti queste operazioni non\n",
    "sono definite). Per esempio, \n",
    "\n",
    "$$\n",
    "\\left[ \\begin{array}{c c}\n",
    "-2 & 5\\\\\n",
    "3 & 1\\\\\n",
    "7 & -6\n",
    "\\end{array}\n",
    " \\right]+\n",
    "\\left[ \\begin{array}{c c}\n",
    "3 & -2\\\\\n",
    "4 & 5\\\\\n",
    "10 & -3\n",
    "\\end{array}\n",
    " \\right]=\n",
    " \\left[ \\begin{array}{c c}\n",
    "1 & 3\\\\\n",
    "7 & 6\\\\\n",
    "17 & -9\n",
    "\\end{array}\n",
    " \\right]\n",
    " $$\n"
   ]
  },
  {
   "cell_type": "code",
   "execution_count": 16,
   "id": "bd0c9ae4",
   "metadata": {
    "vscode": {
     "languageId": "r"
    }
   },
   "outputs": [
    {
     "name": "stdout",
     "output_type": "stream",
     "text": [
      "     [,1] [,2]\n",
      "[1,]   -2    5\n",
      "[2,]    3    1\n",
      "[3,]    7   -6\n"
     ]
    }
   ],
   "source": [
    "A <- matrix(\n",
    "  c(-2, 5, 3, 1, 7, -6), nrow = 3, byrow = TRUE\n",
    ")\n",
    "A |> print()"
   ]
  },
  {
   "cell_type": "code",
   "execution_count": 17,
   "id": "6a363abb",
   "metadata": {
    "vscode": {
     "languageId": "r"
    }
   },
   "outputs": [
    {
     "name": "stdout",
     "output_type": "stream",
     "text": [
      "     [,1] [,2]\n",
      "[1,]    3   -2\n",
      "[2,]    4    5\n",
      "[3,]   10   -3\n"
     ]
    }
   ],
   "source": [
    "B <- matrix(\n",
    "  c(3, -2, 4, 5, 10, -3), nrow = 3, byrow = TRUE\n",
    ")\n",
    "B |> print()"
   ]
  },
  {
   "cell_type": "code",
   "execution_count": 18,
   "id": "972b2f3a",
   "metadata": {
    "lines_to_next_cell": 2,
    "vscode": {
     "languageId": "r"
    }
   },
   "outputs": [
    {
     "name": "stdout",
     "output_type": "stream",
     "text": [
      "     [,1] [,2]\n",
      "[1,]    1    3\n",
      "[2,]    7    6\n",
      "[3,]   17   -9\n"
     ]
    }
   ],
   "source": [
    "(A + B) |> print()"
   ]
  },
  {
   "attachments": {},
   "cell_type": "markdown",
   "id": "1795ad7a",
   "metadata": {},
   "source": [
    "$$\n",
    "\\left[ \\begin{array}{c c}\n",
    "-2 & 5\\\\\n",
    "3 & 1\\\\\n",
    "7 & -6\n",
    "\\end{array}\n",
    " \\right]-\n",
    "\\left[ \\begin{array}{c c}\n",
    "3 & -2\\\\\n",
    "4 & 5\\\\\n",
    "10 & -3\n",
    "\\end{array}\n",
    " \\right]=\n",
    " \\left[ \\begin{array}{c c}\n",
    "-5 & 7\\\\\n",
    "-1 & -4\\\\\n",
    "-3 & -3\n",
    "\\end{array}\n",
    " \\right]\n",
    " $$"
   ]
  },
  {
   "cell_type": "code",
   "execution_count": 19,
   "id": "d9cd7ba7",
   "metadata": {
    "lines_to_next_cell": 2,
    "vscode": {
     "languageId": "r"
    }
   },
   "outputs": [
    {
     "name": "stdout",
     "output_type": "stream",
     "text": [
      "     [,1] [,2]\n",
      "[1,]   -5    7\n",
      "[2,]   -1   -4\n",
      "[3,]   -3   -3\n"
     ]
    }
   ],
   "source": [
    "(A - B) |> print()"
   ]
  },
  {
   "attachments": {},
   "cell_type": "markdown",
   "id": "0317dc56",
   "metadata": {},
   "source": [
    "### Moltiplicazione di scalari e matrici\n",
    "\n",
    "L'effetto della moltiplicazione di una matrice $\\boldsymbol{A}$ di\n",
    "qualsiasi dimensione per un numero reale *b* (scalare) è quello di\n",
    "moltiplicare ciascun elemento in $\\boldsymbol{A}$ per *b*. Questo è\n",
    "equivalente a sommare $\\boldsymbol{A}$ a se stessa *b* volte. Per\n",
    "esempio,\n",
    "\n",
    "$$\n",
    "3 \\left[ \\begin{array}{c c}\n",
    "-2 & 5\\\\\n",
    "3 & 1\\\\\n",
    "7 & -6\n",
    "\\end{array}\n",
    " \\right]=\n",
    "\\left[ \\begin{array}{c c}\n",
    "-6 & 15\\\\\n",
    "9 & 3\\\\\n",
    "21 & -18\n",
    "\\end{array}\n",
    " \\right]\n",
    " $$\n"
   ]
  },
  {
   "cell_type": "code",
   "execution_count": 20,
   "id": "2c14e082",
   "metadata": {
    "vscode": {
     "languageId": "r"
    }
   },
   "outputs": [
    {
     "name": "stdout",
     "output_type": "stream",
     "text": [
      "     [,1] [,2]\n",
      "[1,]   -6   15\n",
      "[2,]    9    3\n",
      "[3,]   21  -18\n"
     ]
    }
   ],
   "source": [
    "(3 * A) |> print()"
   ]
  },
  {
   "attachments": {},
   "cell_type": "markdown",
   "id": "1c1333fc",
   "metadata": {},
   "source": [
    "### Proprietà della somma e differenza\n",
    "\n",
    "È facile verificare che la somma e la differenza cosı̀ definite godono\n",
    "delle proprietà commutativa e associativa. Siano $k$ uno scalare e $A$ e\n",
    "$B$ due matrici aventi le stesse dimensioni. Allora\n",
    "\n",
    "-   $\\boldsymbol{A}+ \\boldsymbol{B} = \\boldsymbol{B} +\n",
    "    \\boldsymbol{A}$(Proprietà commutativa)\n",
    "-   $\\boldsymbol{A} + (\\boldsymbol{B} + \\boldsymbol{C}) =\n",
    "    (\\boldsymbol{A} + \\boldsymbol{B}) + \\boldsymbol{C}$ (Proprietà\n",
    "    associativa)\n",
    "-   $k(l\\boldsymbol{A}) = (kl)\\boldsymbol{A}$\n",
    "-   $k(\\boldsymbol{A} + \\boldsymbol{B}) = k\\boldsymbol{A} +\n",
    "    k\\boldsymbol{B}$(Proprietà distributiva)\n",
    "-   $(k+l)\\boldsymbol{A} = k\\boldsymbol{A} + l\\boldsymbol{A}$\n",
    "-   $1\\boldsymbol{A} = \\boldsymbol{A}$\n",
    "\n",
    "### Prodotto di matrici\n",
    "\n",
    "La moltiplicazione di matrici non è un'operazione intuitiva come la\n",
    "somma e la differenza, ma fornisce uno strumento potente per eseguire\n",
    "una lunga serie di calcoli in un modo molto semplice. L'ordine è\n",
    "importante: il numero delle colonne della prima matrice deve essere\n",
    "uguale al numero di righe della seconda matrice. Quando ciò accade le\n",
    "matrici si dicono *conformabili*, altrimenti si dicono *non\n",
    "conformabili*.\n",
    "\n",
    "Sia $\\boldsymbol{A}$ una matrice $m \\times p$ e $\\boldsymbol{B}$ una\n",
    "matrice $p \\times n$. Il prodotto tra le due matrici\n",
    "$\\boldsymbol{C} = \\boldsymbol{AB}$ è la matrice di ordine $m\n",
    "\\times n$ il cui elemento generico è\n",
    "\n",
    "$$\n",
    "c_{ij} = \\sum_{k=1}^{p} a_{ik}a_{kj},  \\quad        i = 1 \\dots m,\n",
    "j = 1 \\dots n\n",
    "$$ \n",
    "\n",
    "Pertanto, il prodotto si effettua riga per colonna. È\n",
    "facile verificare che il prodotto tra matrici gode della proprietà\n",
    "associativa ma in generale non di quella commutativa. Vale invece la\n",
    "seguente proprietà:\n",
    "\n",
    "$$\n",
    "(\\boldsymbol{AB})' = \\boldsymbol{B}'\\boldsymbol{A}'\n",
    "$$\n",
    "\n",
    "Ad esempio, siano $\\boldsymbol{A}$ e $\\boldsymbol{B}$ le seguenti\n",
    "matrici\n",
    "\n",
    "$$\n",
    "\\left[ \\begin{array}{c c c}\n",
    "-2 & 1 & 1\\\\\n",
    "1 & 1 & 4\\\\\n",
    "2 & -3 & 2\n",
    "\\end{array}\n",
    " \\right] \\quad \\text{e} \\quad\n",
    "\\left[ \\begin{array}{c c c}\n",
    "3 & -2 &1\\\\\n",
    "4 & 5 & 0\\\\\n",
    "1 & -3 & 1\n",
    "\\end{array}\n",
    " \\right]\n",
    " $$ \n",
    " \n",
    "Calcoliamo la matrice $\\boldsymbol{C} = \\boldsymbol{AB}$.\n",
    "L'elemento $c_{ij}$ è uguale alla somma dei prodotti degli elementi\n",
    "della *i*-esima riga di $\\boldsymbol{A}$ per la *j*-esima colonna di\n",
    "$\\boldsymbol{B}$.\n",
    "\n",
    "$c_{11} = (-2) \\cdot 3 + 1 \\cdot 4 + 1 \\cdot 1 = -1$\n",
    "\n",
    "$c_{12} = (-2) \\cdot (-2) + 1 \\cdot 5 + 1 \\cdot (-3) = 6$\n",
    "\n",
    "$c_{13} = (-2) \\cdot 3 + 1 \\cdot 0 + 1 \\cdot 1 = -1$\n",
    "\n",
    "$c_{21} = 1 \\cdot 3 + 1 \\cdot 4 + 4 \\cdot 1 = 11$\n",
    "\n",
    "$c_{22} = 1 \\cdot (-2) + 1 \\cdot 5 + 4 \\cdot (-3) = -9$\n",
    "\n",
    "$c_{23} = 1 \\cdot 3 + 1 \\cdot 0 + 4 \\cdot 1 = 5$\n",
    "\n",
    "$c_{31} = 2 \\cdot 3 +(-3) \\cdot 4 + 2 \\cdot 1 = -4$\n",
    "\n",
    "$c_{32} = 2 \\cdot (-2) +(-3) \\cdot 5 + 2 \\cdot (-3) = -25$\n",
    "\n",
    "$c_{33} = 2 \\cdot 1 + (-3) \\cdot 0 + 2 \\cdot 1 = 4$\n",
    "\n",
    "In definitiva \n",
    "\n",
    "$$\n",
    "\\boldsymbol{C} =  \\left[ \\begin{array}{c c c}\n",
    "-1 & 6 & -1\\\\\n",
    "11 & -9 & 5\\\\\n",
    "-4 & -25 & 4\n",
    "\\end{array}\n",
    " \\right]\n",
    " $$"
   ]
  },
  {
   "cell_type": "code",
   "execution_count": 21,
   "id": "b965db73",
   "metadata": {
    "vscode": {
     "languageId": "r"
    }
   },
   "outputs": [
    {
     "name": "stdout",
     "output_type": "stream",
     "text": [
      "     [,1] [,2] [,3]\n",
      "[1,]   -2    1    1\n",
      "[2,]    1    1    4\n",
      "[3,]    2   -3    2\n"
     ]
    }
   ],
   "source": [
    "A = matrix(\n",
    "  c(-2, 1, 1, 1, 1, 4, 2, -3, 2), \n",
    "  nrow = 3,\n",
    "  byrow = TRUE\n",
    ")\n",
    "A |> print()"
   ]
  },
  {
   "cell_type": "code",
   "execution_count": 22,
   "id": "a01717d2",
   "metadata": {
    "lines_to_next_cell": 2,
    "vscode": {
     "languageId": "r"
    }
   },
   "outputs": [
    {
     "name": "stdout",
     "output_type": "stream",
     "text": [
      "     [,1] [,2] [,3]\n",
      "[1,]    3   -2    1\n",
      "[2,]    4    5    0\n",
      "[3,]    1   -3    1\n"
     ]
    }
   ],
   "source": [
    "B = matrix(\n",
    "  c(3, -2, 1, 4, 5, 0, 1, -3, 1), \n",
    "  nrow = 3,\n",
    "  byrow = TRUE\n",
    ")\n",
    "B |> print()"
   ]
  },
  {
   "cell_type": "code",
   "execution_count": 23,
   "id": "52f8db46",
   "metadata": {
    "vscode": {
     "languageId": "r"
    }
   },
   "outputs": [
    {
     "name": "stdout",
     "output_type": "stream",
     "text": [
      "     [,1] [,2] [,3]\n",
      "[1,]   -1    6   -1\n",
      "[2,]   11   -9    5\n",
      "[3,]   -4  -25    4\n"
     ]
    }
   ],
   "source": [
    "(A %*% B) |> print()"
   ]
  },
  {
   "attachments": {},
   "cell_type": "markdown",
   "id": "ed57a0d2",
   "metadata": {},
   "source": [
    "Calcolando il prodotto $\\boldsymbol{D} = \\boldsymbol{BA}$ si trova\n",
    "invece: \n",
    "\n",
    "$$\n",
    "\\boldsymbol{D} =  \\left[ \\begin{array}{c c c}\n",
    "-6 & -2 & -3\\\\\n",
    "-3 & 9 & 24\\\\\n",
    "-3 & -5 & -9\n",
    "\\end{array}\n",
    " \\right]\n",
    " $$ \n",
    " \n",
    "da cui risulta evidente che $\\boldsymbol{AB} \\neq \\boldsymbol{BA}$."
   ]
  },
  {
   "cell_type": "code",
   "execution_count": 24,
   "id": "893dd6c7",
   "metadata": {
    "lines_to_next_cell": 2,
    "vscode": {
     "languageId": "r"
    }
   },
   "outputs": [
    {
     "name": "stdout",
     "output_type": "stream",
     "text": [
      "     [,1] [,2] [,3]\n",
      "[1,]   -6   -2   -3\n",
      "[2,]   -3    9   24\n",
      "[3,]   -3   -5   -9\n"
     ]
    }
   ],
   "source": [
    "(B %*% A) |> print()"
   ]
  },
  {
   "attachments": {},
   "cell_type": "markdown",
   "id": "b80aff5a",
   "metadata": {},
   "source": [
    "### Proprietà del prodotto di matrici\n",
    "\n",
    "-   $\\boldsymbol{A}(\\boldsymbol{B} + \\boldsymbol{C}) = \\boldsymbol{AB} +\n",
    "        \\boldsymbol{AC}$\n",
    "-   $(\\boldsymbol{A} + \\boldsymbol{B})\\boldsymbol{C} = \\boldsymbol{AC} +\n",
    "        \\boldsymbol{BC}$\n",
    "-   Per qualunque matrice $\\boldsymbol{A}$,\n",
    "    $\\boldsymbol{A}'\\boldsymbol{A}$ sarà una matrice quadrata.\n",
    "-   $(\\boldsymbol{AB})' = \\boldsymbol{B}'\\boldsymbol{A}'$\n",
    "\n",
    "### Casi particolari\n",
    "\n",
    "La matrice identità è l'elemento neutro per il prodotto, cioè se\n",
    "$\\boldsymbol{I}$ è una matrice $n \\times n$ si ha\n",
    "\n",
    "$$\n",
    "\\boldsymbol{A} \\boldsymbol{I}_n = \\boldsymbol{I}_n \\boldsymbol{A}\n",
    "= \\boldsymbol{A}.\n",
    "$$ \n",
    "\n",
    "Per esempio, \n",
    "\n",
    "$$\n",
    "\\boldsymbol{IA} = \\left(%\n",
    "\\begin{array}{cc}\n",
    "  1 & 0 \\\\\n",
    "  0 & 1 \\\\\n",
    "\\end{array}%\n",
    "\\right)\n",
    "\\left(%\n",
    "\\begin{array}{ccc}\n",
    "  2 & 3 & -1 \\\\\n",
    "  1 & 4 & 7 \\\\\n",
    "\\end{array}%\n",
    "\\right)=\n",
    "\\left(%\n",
    "\\begin{array}{ccc}\n",
    "  2 & 3 & -1 \\\\\n",
    "  1 & 4 & 7 \\\\\n",
    "\\end{array}%\n",
    "\\right)\n",
    "$$\n",
    "\n",
    "In R la matrice identità si crea nel modo seguente."
   ]
  },
  {
   "cell_type": "code",
   "execution_count": 25,
   "id": "ab58cf23",
   "metadata": {
    "vscode": {
     "languageId": "r"
    }
   },
   "outputs": [
    {
     "data": {
      "text/html": [
       "<table class=\"dataframe\">\n",
       "<caption>A matrix: 2 × 2 of type dbl</caption>\n",
       "<tbody>\n",
       "\t<tr><td>1</td><td>0</td></tr>\n",
       "\t<tr><td>0</td><td>1</td></tr>\n",
       "</tbody>\n",
       "</table>\n"
      ],
      "text/latex": [
       "A matrix: 2 × 2 of type dbl\n",
       "\\begin{tabular}{ll}\n",
       "\t 1 & 0\\\\\n",
       "\t 0 & 1\\\\\n",
       "\\end{tabular}\n"
      ],
      "text/markdown": [
       "\n",
       "A matrix: 2 × 2 of type dbl\n",
       "\n",
       "| 1 | 0 |\n",
       "| 0 | 1 |\n",
       "\n"
      ],
      "text/plain": [
       "     [,1] [,2]\n",
       "[1,] 1    0   \n",
       "[2,] 0    1   "
      ]
     },
     "metadata": {},
     "output_type": "display_data"
    }
   ],
   "source": [
    "diag(2)"
   ]
  },
  {
   "attachments": {},
   "cell_type": "markdown",
   "id": "8276e9a0",
   "metadata": {},
   "source": [
    "Dunque"
   ]
  },
  {
   "cell_type": "code",
   "execution_count": 26,
   "id": "86de6be8",
   "metadata": {
    "vscode": {
     "languageId": "r"
    }
   },
   "outputs": [
    {
     "name": "stdout",
     "output_type": "stream",
     "text": [
      "     [,1] [,2] [,3]\n",
      "[1,]    2    3   -1\n",
      "[2,]    1    4    7\n"
     ]
    }
   ],
   "source": [
    "A <- matrix(\n",
    "  c(2, 3, -1, 1, 4, 7),\n",
    "  nrow = 2, byrow = TRUE\n",
    ")\n",
    "A |> print()"
   ]
  },
  {
   "cell_type": "code",
   "execution_count": 27,
   "id": "274b80b3",
   "metadata": {
    "vscode": {
     "languageId": "r"
    }
   },
   "outputs": [
    {
     "name": "stdout",
     "output_type": "stream",
     "text": [
      "     [,1] [,2] [,3]\n",
      "[1,]    2    3   -1\n",
      "[2,]    1    4    7\n"
     ]
    }
   ],
   "source": [
    "(diag(2) %*% A) |> print()"
   ]
  },
  {
   "cell_type": "code",
   "execution_count": 28,
   "id": "161027a1",
   "metadata": {
    "lines_to_next_cell": 2,
    "vscode": {
     "languageId": "r"
    }
   },
   "outputs": [
    {
     "name": "stdout",
     "output_type": "stream",
     "text": [
      "     [,1] [,2] [,3]\n",
      "[1,]    2    3   -1\n",
      "[2,]    1    4    7\n"
     ]
    }
   ],
   "source": [
    "(A %*% diag(3)) |> print()"
   ]
  },
  {
   "attachments": {},
   "cell_type": "markdown",
   "id": "48e603d3",
   "metadata": {},
   "source": [
    "Un secondo caso particolare si verifica quando una matrice è costituita\n",
    "da un'unica colonna o un'unica riga. Se la matrice $\\boldsymbol{A}$ si\n",
    "riduce ad una sola colonna (o una sola riga) e viene detta vettore\n",
    "colonna (o riga) ad $m$ elementi o componenti. Un vettore colonna è una\n",
    "matrice $n \\times 1$; un vettore riga è una matrice $1 \\times m$. Se\n",
    "$\\boldsymbol{a}$ è un vettore colonna di $m$ elementi allora\n",
    "$\\boldsymbol{a}'$ è un vettore riga sempre di $m$ elementi.\n",
    "\n",
    "Per le operazioni tra vettori valgono le stesse regole viste per le\n",
    "matrici, cioè la somma e la differenza sono possibili tra vettori dello\n",
    "stesso tipo e con lo stesso numero di componenti. La moltiplicazione è\n",
    "possibile tra una matrice e un vettore di dimensioni appropriate, e tra\n",
    "due vettori di dimensioni appropriate. In questo secondo caso,\n",
    "distinguiamo tra *prodotto interno* e *prodotto esterno*.\n",
    "\n",
    "### Operazioni tra vettori\n",
    "\n",
    "Il *prodotto interno* (o scalare) di un vettore $\\boldsymbol{a}'$\n",
    "$1 \\times n$ che premoltiplica un vettore $\\boldsymbol{b}$ $n \\times 1$\n",
    "produce uno scalare:\n",
    "\n",
    "$$\n",
    "\\boldsymbol{a}'\\boldsymbol{b} = \\sum_{i=1}^{n}a_i b_i\n",
    "$$\n",
    "\n",
    "Dati due vettori $\\boldsymbol{a}$, $\\boldsymbol{b}$ di ordini $n\n",
    "\\times 1$ e $m \\times 1$, il *prodotto esterno* \n",
    "$\\boldsymbol{C} = \\boldsymbol{ab}'$ è una matrice $n \\times m$ di\n",
    "elementi $c_{ij} = a_i b_j$.\n",
    "\n",
    "### Prodotto interno\n",
    "\n",
    "Siano $\\boldsymbol{a}$ e $\\boldsymbol{b}$ i seguenti vettori:\n",
    "\n",
    "$$\n",
    "\\left[ \\begin{array}{c}\n",
    "1 \\\\\n",
    "2 \\\\\n",
    "3\n",
    "\\end{array}\n",
    " \\right] \\quad e \\quad\n",
    "\\left[ \\begin{array}{c}\n",
    "-1 \\\\\n",
    "-2 \\\\\n",
    "4\n",
    "\\end{array}\n",
    " \\right]\n",
    " $$\n",
    "\n",
    "Il prodotto interno è:\n",
    "\n",
    "$$\n",
    "\\boldsymbol{a}'\\boldsymbol{b}= 1 \\cdot (-1) + 2 \\cdot (-2) + 3\n",
    "\\cdot 4 = 7\n",
    "$$ \n",
    "\n",
    "Osserviamo che tale operazione gode della proprietà\n",
    "commutativa, poichè $\\boldsymbol{b}'\\boldsymbol{a}=7$."
   ]
  },
  {
   "cell_type": "code",
   "execution_count": 29,
   "id": "8553aa4f",
   "metadata": {
    "vscode": {
     "languageId": "r"
    }
   },
   "outputs": [
    {
     "name": "stdout",
     "output_type": "stream",
     "text": [
      "     [,1]\n",
      "[1,]    1\n",
      "[2,]    2\n",
      "[3,]    3\n"
     ]
    }
   ],
   "source": [
    "a <- matrix(\n",
    "  c(1, 2, 3), \n",
    "  nrow = 3, \n",
    "  byrow = TRUE\n",
    ")\n",
    "a |> print()"
   ]
  },
  {
   "cell_type": "code",
   "execution_count": 30,
   "id": "66aaa1e8",
   "metadata": {
    "vscode": {
     "languageId": "r"
    }
   },
   "outputs": [
    {
     "name": "stdout",
     "output_type": "stream",
     "text": [
      "     [,1]\n",
      "[1,]   -1\n",
      "[2,]   -2\n",
      "[3,]    4\n"
     ]
    }
   ],
   "source": [
    "b <- matrix(\n",
    "  c(-1, -2, 4), \n",
    "  nrow = 3, \n",
    "  byrow = TRUE\n",
    ")\n",
    "b |> print()"
   ]
  },
  {
   "cell_type": "code",
   "execution_count": 31,
   "id": "56607481",
   "metadata": {
    "vscode": {
     "languageId": "r"
    }
   },
   "outputs": [
    {
     "name": "stdout",
     "output_type": "stream",
     "text": [
      "     [,1]\n",
      "[1,]    7\n"
     ]
    }
   ],
   "source": [
    "(t(a) %*% b) |> print()"
   ]
  },
  {
   "attachments": {},
   "cell_type": "markdown",
   "id": "850db5f4",
   "metadata": {},
   "source": [
    "### Prodotto esterno\n",
    "\n",
    "Il prodotto esterno è la matrice\n",
    "\n",
    "$$\n",
    "\\boldsymbol{C} = \\boldsymbol{a}\\boldsymbol{b}'= \\left[\n",
    "\\begin{array}{c c c}\n",
    "-1 & -2 & 4\\\\\n",
    "-2 & -4 & 8\\\\\n",
    "-3 & -6 & 12\n",
    "\\end{array}\n",
    " \\right]\n",
    " $$ "
   ]
  },
  {
   "cell_type": "code",
   "execution_count": 32,
   "id": "b8588643",
   "metadata": {
    "lines_to_next_cell": 2,
    "vscode": {
     "languageId": "r"
    }
   },
   "outputs": [
    {
     "name": "stdout",
     "output_type": "stream",
     "text": [
      "     [,1] [,2] [,3]\n",
      "[1,]   -1   -2    4\n",
      "[2,]   -2   -4    8\n",
      "[3,]   -3   -6   12\n"
     ]
    }
   ],
   "source": [
    "a %*% t(b) |> print()"
   ]
  },
  {
   "attachments": {},
   "cell_type": "markdown",
   "id": "666d4b79",
   "metadata": {},
   "source": [
    "Tale prodotto non gode della proprietà commutativa, infatti:\n",
    "\n",
    "$$\n",
    "\\boldsymbol{D} = \\boldsymbol{b}\\boldsymbol{a}'= \\left[\n",
    "\\begin{array}{c c c}\n",
    "-1 & -2 & -3\\\\\n",
    "-2 & -4 & -6\\\\\n",
    "4 & 8 & 12\n",
    "\\end{array}\n",
    " \\right]\n",
    "$$"
   ]
  },
  {
   "cell_type": "code",
   "execution_count": 33,
   "id": "1e2dedae",
   "metadata": {
    "vscode": {
     "languageId": "r"
    }
   },
   "outputs": [
    {
     "name": "stdout",
     "output_type": "stream",
     "text": [
      "     [,1] [,2] [,3]\n",
      "[1,]   -1   -2   -3\n",
      "[2,]   -2   -4   -6\n",
      "[3,]    4    8   12\n"
     ]
    }
   ],
   "source": [
    "b %*% t(a) |> print()"
   ]
  },
  {
   "attachments": {},
   "cell_type": "markdown",
   "id": "b80d30e7",
   "metadata": {},
   "source": [
    "### Traccia di una matrice\n",
    "\n",
    "Si definisce *traccia* di una matrice quadrata $\\boldsymbol{A}$\n",
    "$n \\times n$, e si denota con $tr(\\boldsymbol{A})$ la somma degli\n",
    "elementi sulla diagonale principale di $\\boldsymbol{A}$:\n",
    "\n",
    "$$\n",
    "tr(\\boldsymbol{A}) = \\sum_{i=1}^{n} a_{ii}\n",
    "$$\n",
    "\n",
    "La traccia gode delle seguenti proprietà: \n",
    "\n",
    "$$\n",
    "\\begin{aligned}\n",
    "&tr(\\rho \\boldsymbol{A}) = \\rho tr( \\boldsymbol{A}) \\notag \\\\\n",
    "&tr(\\boldsymbol{A} + \\boldsymbol{B}) =  tr( \\boldsymbol{A})+tr( \\boldsymbol{B}) \\notag \\\\\n",
    "&tr(\\boldsymbol{A}') =  tr( \\boldsymbol{A}) \\notag \\\\\n",
    "&tr(\\boldsymbol{AB}) =  tr( \\boldsymbol{BA}) \\notag\\end{aligned}\n",
    "$$ \n",
    "\n",
    "Per esempio, sia \n",
    "\n",
    "$$\n",
    "\\boldsymbol{A} =  \\left[ \\begin{array}{c c c}\n",
    "7 & 1 & 2\\\\\n",
    "1 & 8 & 3\\\\\n",
    "2 & 3 & 9 \\end{array} \\right]\n",
    "$$ \n",
    "\n",
    "allora\n",
    "\n",
    "$$\n",
    "tr(\\boldsymbol{A}) = 7 + 8 + 9 = 24.\n",
    "$$"
   ]
  },
  {
   "cell_type": "code",
   "execution_count": 34,
   "id": "de4978f9",
   "metadata": {
    "vscode": {
     "languageId": "r"
    }
   },
   "outputs": [
    {
     "name": "stdout",
     "output_type": "stream",
     "text": [
      "     [,1] [,2] [,3]\n",
      "[1,]    7    1    2\n",
      "[2,]    1    8    3\n",
      "[3,]    2    3    9\n"
     ]
    }
   ],
   "source": [
    "A <- matrix(\n",
    "  c(7,1, 2, 1, 8, 3, 2, 3, 9),\n",
    "  nrow = 3,\n",
    "  byrow = TRUE\n",
    ")\n",
    "A |> print()"
   ]
  },
  {
   "cell_type": "code",
   "execution_count": 35,
   "id": "00c2d579",
   "metadata": {
    "vscode": {
     "languageId": "r"
    }
   },
   "outputs": [
    {
     "name": "stdout",
     "output_type": "stream",
     "text": [
      "[1] 24\n"
     ]
    }
   ],
   "source": [
    "sum(diag(A)) |> print()"
   ]
  },
  {
   "attachments": {},
   "cell_type": "markdown",
   "id": "8b45a4cd",
   "metadata": {},
   "source": [
    "##### Dipendenza lineare\n",
    "\n",
    "Si consideri la matrice \n",
    "\n",
    "$$\n",
    "\\boldsymbol{A}=\n",
    "\\left(%\n",
    "\\begin{array}{ccc}\n",
    "  1 & 1 & 1 \\\\\n",
    "  3 & 1 & 5 \\\\\n",
    "  2 & 3 & 1 \\\\\n",
    "\\end{array}%\n",
    "\\right)\n",
    "$$ \n",
    "\n",
    "Siano $\\boldsymbol{c}_1$, $\\boldsymbol{c}_2$,\n",
    "$\\boldsymbol{c}_3$ le colonne di $\\boldsymbol{A}$. Si noti che\n",
    "\n",
    "$$\n",
    "2\\boldsymbol{c}_1 + -\\boldsymbol{c}_2 + - \\boldsymbol{c}_3 =\n",
    "\\boldsymbol{0}\n",
    "$$ \n",
    "\n",
    "dove $\\boldsymbol{0}$ è un vettore ($3 \\times 1$) di\n",
    "zeri.\n",
    "\n",
    "Dato che le 3 colonne di $\\boldsymbol{A}$ possono essere combinate\n",
    "linearmente in modo da produrre un vettore $\\boldsymbol{0}$ vi è\n",
    "chiaramente una qualche forma di relazione, o dipendenza, tra le\n",
    "informazioni nelle colonne. Detto in un altro modo, sembra esserci una\n",
    "qualche duplicazione delle informazione nelle colonne. In generale, si\n",
    "dice che $k$ colonne $\\boldsymbol{c}_1, \\boldsymbol{c}_2,\n",
    "\\dots \\boldsymbol{c}_k$ di una matrice sono *linearmente dipendenti* se\n",
    "esiste un insieme di valori scalari $\\lambda_1,\n",
    "\\dots, \\lambda_k$ tale per cui\n",
    "\n",
    "$$\n",
    "\\lambda_1 \\boldsymbol{c}_1 + \\dots + \\lambda_k \\boldsymbol{c}_k=\\boldsymbol{0}\n",
    "$$\n",
    "\n",
    "e almeno uno dei valori $\\lambda_i$ non è uguale a 0.\n",
    "\n",
    "La dipendenza lineare implica che ciascun vettore colonna è una\n",
    "combinazione degli altri. Per esempio\n",
    "\n",
    "$$\n",
    "\\boldsymbol{c}_k= -(\\lambda_1 \\boldsymbol{c}_1 + \\dots + \\lambda_{k-1}\n",
    "   \\boldsymbol{c}_{k-1})/\\lambda_k\n",
    "$$ \n",
    "   \n",
    "Questo implica che tutta \"l'informazione\" della matrice è contenuta in un sottoinsieme delle colonne -- se $k-1$ colonne sono conosciute, l'ultima resta determinata. È in questo senso che abbiamo detto che l'informazione della matrice\n",
    "veniva \"duplicata\".\n",
    "\n",
    "Se l'unico insieme di valori scalari $\\lambda_i$ che soddisfa\n",
    "l'equazione\n",
    "\n",
    "$$\n",
    "\\lambda_1 \\boldsymbol{c}_1 + \\dots + \\lambda_k \\boldsymbol{c}_k=\\boldsymbol{0}\n",
    "$$\n",
    "\n",
    "è un vettore di zeri, allora questo significa che non vi è alcuna\n",
    "relazione tra le colonne della matrice. Le colonne si dicono\n",
    "*linearmente indipendenti*, nel senso che non contengono alcuna\n",
    "\"duplicazione\" di informazione.\n",
    "\n",
    "### Rango di una matrice\n",
    "\n",
    "Il *rango della matrice* è il massimo numero di vettori colonna\n",
    "linearmente indipendenti che possono essere selezionati dalla matrice.\n",
    "In maniera equivalente, il rango di una matrice può essere definito come\n",
    "il massimo numero di vettori riga linermente indipendenti. Il rango\n",
    "minimo di una matrice è 1, il che significa che vi è una colonna tale\n",
    "per cui le altre colonne sono dei multipli di questa. Per l'esempio\n",
    "precedente, il rango della matrice $\\boldsymbol{A}$ è 2.\n",
    "\n",
    "Se la matrice è quadrata, $\\boldsymbol{A}_{n \\times n}$, ed è costituita\n",
    "da vettori tutti indipendenti tra di loro, allora il suo rango è $n$.\n",
    "Se, invece, la matrice è rettangolare, $\\boldsymbol{A}_{m \\times n}$, allora il suo rango può essere al massimo il più piccolo tra\n",
    "i due valori *m* ed *n*, cioè:\n",
    "\n",
    "$$\n",
    "r(\\boldsymbol{A}_{m \\times n}) \\leq min(m,n)\n",
    "$$\n",
    "\n",
    "### Matrice inversa\n",
    "\n",
    "L'inversa di una matrice quadrata è l'analogo del reciproco per gli\n",
    "scalari. Se $b$ è uno scalare e $b=0$, allora il reciproco di $b$, $1/b$\n",
    "*non esiste* -- non è definito. Allo stesso modo, vi sono delle matrici\n",
    "che \"si comportano come lo 0\" e per le quali l'inversa non è definita.\n",
    "Tali matrici si dicono *singolari*.\n",
    "\n",
    "Sia $\\boldsymbol{A}$ una matrice quadrata di dimensione $n$. Si\n",
    "definisce *matrice inversa* la matrice, denotata con\n",
    "$\\boldsymbol{A}^{-1}$, che premoltiplicata o postmoltiplicata per\n",
    "$\\boldsymbol{A}$ fornisce la matrice identità:\n",
    "\n",
    "$$\n",
    "\\boldsymbol{A}\\boldsymbol{A}^{-1}=\\boldsymbol{A}^{-1}\\boldsymbol{A}=\\boldsymbol{I}\n",
    "$$\n",
    "\n",
    "La condizione per l'esistenza e l'unicità di $\\boldsymbol{A}^{-1}$ è che\n",
    "le colonne di $\\boldsymbol{A}$ siano linearmente indipendenti.\n",
    "\n",
    "Nel caso di una matrice diagonale la determinazione della matrice\n",
    "inversa risulta immediata: $\\boldsymbol{D}^{-1}= diag(1/d_1, \\dots, 1/d_n)$. Nel caso di una matrice non diagonale, la matrice inversa si trova usando il computer\n",
    "dove complicate formule per matrici di qualunque dimensione sono\n",
    "implementate in vari software. Solo per matrici di piccole dimensioni\n",
    "sono disponibili semplici espressioni analitiche per il calcolo della\n",
    "matrice inversa.\n",
    "\n",
    "Per esempio, sia \n",
    "\n",
    "$$\n",
    "\\boldsymbol{A} =  \\left[ \\begin{array}{c c}\n",
    "3 & 4 \\\\\n",
    "2 & 6\n",
    "\\end{array}\n",
    " \\right]\n",
    "$$ \n",
    " \n",
    "allora \n",
    "\n",
    "$$\n",
    "\\boldsymbol{A}^{-1} =  \\left[ \\begin{array}{c c}\n",
    ".6 & -.4 \\\\\n",
    "-.2 & .3\n",
    "\\end{array}\n",
    " \\right]\n",
    "$$ \n",
    " \n",
    "e\n",
    " \n",
    "$$\n",
    "\\boldsymbol{A}\\boldsymbol{A}^{-1} =\\left[ \\begin{array}{c c}\n",
    "3 & 4 \\\\\n",
    "2 & 6\n",
    "\\end{array}\n",
    " \\right]\n",
    "\\left[ \\begin{array}{c c}\n",
    ".6 & -.4 \\\\\n",
    "-.2 & .3\n",
    "\\end{array}\n",
    " \\right] =\n",
    " \\left[ \\begin{array}{c c}\n",
    "1 & 0 \\\\\n",
    "0 & 1\n",
    "\\end{array}\n",
    " \\right]\n",
    "$$"
   ]
  },
  {
   "cell_type": "code",
   "execution_count": 36,
   "id": "40e337c3",
   "metadata": {
    "vscode": {
     "languageId": "r"
    }
   },
   "outputs": [
    {
     "name": "stdout",
     "output_type": "stream",
     "text": [
      "     [,1] [,2]\n",
      "[1,]    3    4\n",
      "[2,]    2    6\n"
     ]
    }
   ],
   "source": [
    "A <- matrix(\n",
    "  c(3, 4, 2, 6),\n",
    "  nrow = 2,\n",
    "  byrow = TRUE\n",
    ")\n",
    "A |> print()"
   ]
  },
  {
   "cell_type": "code",
   "execution_count": 37,
   "id": "bff2136d",
   "metadata": {
    "vscode": {
     "languageId": "r"
    }
   },
   "outputs": [
    {
     "name": "stdout",
     "output_type": "stream",
     "text": [
      "     [,1] [,2]\n",
      "[1,]  0.6 -0.4\n",
      "[2,] -0.2  0.3\n"
     ]
    }
   ],
   "source": [
    "solve(A) |> print()"
   ]
  },
  {
   "cell_type": "code",
   "execution_count": 38,
   "id": "b31bc9ea",
   "metadata": {
    "vscode": {
     "languageId": "r"
    }
   },
   "outputs": [
    {
     "name": "stdout",
     "output_type": "stream",
     "text": [
      "     [,1] [,2]\n",
      "[1,]    1    0\n",
      "[2,]    0    1\n"
     ]
    }
   ],
   "source": [
    "A %*% solve(A) |> print()"
   ]
  },
  {
   "cell_type": "code",
   "execution_count": 39,
   "id": "9a63798a",
   "metadata": {
    "vscode": {
     "languageId": "r"
    }
   },
   "outputs": [
    {
     "name": "stdout",
     "output_type": "stream",
     "text": [
      "     [,1] [,2]\n",
      "[1,]    1    0\n",
      "[2,]    0    1\n"
     ]
    }
   ],
   "source": [
    "solve(A) %*% A |> print()"
   ]
  },
  {
   "attachments": {},
   "cell_type": "markdown",
   "id": "61674673",
   "metadata": {},
   "source": [
    "Se $\\boldsymbol{A}$ e $\\boldsymbol{B}$ sono due matrici non singolari\n",
    "aventi le stesse dimensioni, allora l'inversa del loro prodotto è uguale\n",
    "al prodotto delle loro inverse nella sequenza opposta:\n",
    "\n",
    "$$\n",
    "(\\boldsymbol{AB})^{-1}=\\boldsymbol{B}^{-1}\\boldsymbol{A}^{-1}\n",
    "$$"
   ]
  },
  {
   "cell_type": "code",
   "execution_count": 40,
   "id": "188ddced",
   "metadata": {
    "vscode": {
     "languageId": "r"
    }
   },
   "outputs": [
    {
     "name": "stdout",
     "output_type": "stream",
     "text": [
      "     [,1] [,2]\n",
      "[1,]    1    2\n",
      "[2,]    9    7\n"
     ]
    }
   ],
   "source": [
    "B <- matrix(\n",
    "  c(1, 2, 9, 7),\n",
    "  nrow = 2,\n",
    "  byrow = TRUE\n",
    ")\n",
    "B |> print()"
   ]
  },
  {
   "cell_type": "code",
   "execution_count": 41,
   "id": "c0eff62a",
   "metadata": {
    "vscode": {
     "languageId": "r"
    }
   },
   "outputs": [
    {
     "name": "stdout",
     "output_type": "stream",
     "text": [
      "           [,1]       [,2]\n",
      "[1,] -0.4181818  0.3090909\n",
      "[2,]  0.5090909 -0.3545455\n"
     ]
    }
   ],
   "source": [
    "solve(A %*% B) |> print()"
   ]
  },
  {
   "cell_type": "code",
   "execution_count": 42,
   "id": "2546fa1c",
   "metadata": {
    "lines_to_next_cell": 2,
    "vscode": {
     "languageId": "r"
    }
   },
   "outputs": [
    {
     "name": "stdout",
     "output_type": "stream",
     "text": [
      "           [,1]       [,2]\n",
      "[1,] -0.4181818  0.3090909\n",
      "[2,]  0.5090909 -0.3545455\n"
     ]
    }
   ],
   "source": [
    "solve(B) %*% solve(A) |> print()"
   ]
  },
  {
   "attachments": {},
   "cell_type": "markdown",
   "id": "41899f80",
   "metadata": {},
   "source": [
    "L'inversa della trasposta di una matrice non singolare è uguale alla\n",
    "trasposta dell'inversa:\n",
    "\n",
    "$$\n",
    "(\\boldsymbol{A}')^{-1}=(\\boldsymbol{A}^{-1})'\n",
    "$$"
   ]
  },
  {
   "cell_type": "code",
   "execution_count": 43,
   "id": "38ae207d",
   "metadata": {
    "vscode": {
     "languageId": "r"
    }
   },
   "outputs": [
    {
     "name": "stdout",
     "output_type": "stream",
     "text": [
      "     [,1] [,2]\n",
      "[1,]  0.6 -0.2\n",
      "[2,] -0.4  0.3\n"
     ]
    }
   ],
   "source": [
    "solve(t(A)) |> print()"
   ]
  },
  {
   "cell_type": "code",
   "execution_count": 44,
   "id": "093a8f6a",
   "metadata": {
    "vscode": {
     "languageId": "r"
    }
   },
   "outputs": [
    {
     "name": "stdout",
     "output_type": "stream",
     "text": [
      "     [,1] [,2]\n",
      "[1,]  0.6 -0.2\n",
      "[2,] -0.4  0.3\n"
     ]
    }
   ],
   "source": [
    "t(solve(A)) |> print()"
   ]
  },
  {
   "attachments": {},
   "cell_type": "markdown",
   "id": "f2db6271",
   "metadata": {},
   "source": [
    "### Determinante di una matrice\n",
    "\n",
    "Sia $\\boldsymbol{A}$ una matrice quadrata. Il determinante di\n",
    "$\\boldsymbol{A}$ è uno scalare, $|\\boldsymbol{A}|$, il cui valore\n",
    "assoluto misura il volume del parallelepipedo delimitato dalle colonne\n",
    "di $\\boldsymbol{A}$. Nel caso della matrice identità il volume è pari a\n",
    "1, per cui $|\\boldsymbol{I}| =1$. Per una matrice diagonale\n",
    "$\\boldsymbol{D} = diag(d_1, \\dots,\n",
    "d_n)$ si ha\n",
    "\n",
    "$$\n",
    "|\\boldsymbol{D}| =  d_1 \\cdot d_2, \\dots, d_n = \\prod_{i=1}^{n}d_i\n",
    "$$\n",
    "\n",
    "Per una matrice $2 \\times 2$\n",
    "\n",
    "$$\n",
    "\\boldsymbol{A} =  \\left[ \\begin{array}{c c}\n",
    "a_{11}& a_{12} \\\\\n",
    "a_{21} & a_{22} \\end{array} \\right]\n",
    "$$ \n",
    "\n",
    "il determinante di $\\boldsymbol{A}$ vale: \n",
    "\n",
    "$$\n",
    "|\\boldsymbol{A}| =  a_{11}a_{22}-a_{12}a_{21}\n",
    "$$\n",
    "\n",
    "Per esempio: \n",
    "\n",
    "$$\n",
    "\\boldsymbol{A} = \\left[ \\begin{array}{c c}\n",
    "1 & -2 \\\\\n",
    "3 & 9\n",
    "\\end{array}\n",
    " \\right] \\quad |\\boldsymbol{A}| = 1\\cdot 9 - (-2) \\cdot  3 = 15\n",
    "$$\n",
    "\n",
    "Il determinante è definito anche per matrici di dimensioni superiori\n",
    "anche se, in quel caso, i calcoli sono molto più complessi (una volta\n",
    "ancora, si usi il computer!)."
   ]
  },
  {
   "cell_type": "code",
   "execution_count": 45,
   "id": "6982a927",
   "metadata": {
    "vscode": {
     "languageId": "r"
    }
   },
   "outputs": [
    {
     "name": "stdout",
     "output_type": "stream",
     "text": [
      "     [,1] [,2]\n",
      "[1,]    1   -2\n",
      "[2,]    3    9\n"
     ]
    }
   ],
   "source": [
    "A <- matrix(\n",
    "  c(1, -2, 3, 9),\n",
    "  nrow = 2, \n",
    "  byrow = TRUE\n",
    ")\n",
    "A |> print()"
   ]
  },
  {
   "cell_type": "code",
   "execution_count": 46,
   "id": "0ef61949",
   "metadata": {
    "vscode": {
     "languageId": "r"
    }
   },
   "outputs": [
    {
     "name": "stdout",
     "output_type": "stream",
     "text": [
      "[1] 15\n"
     ]
    }
   ],
   "source": [
    "det(A) |> print()"
   ]
  },
  {
   "attachments": {},
   "cell_type": "markdown",
   "id": "4a0160ab",
   "metadata": {},
   "source": [
    "### Determinante e inversa\n",
    "\n",
    "Vi è una relazione tra il determinante e l'inversa di una matrice. Se la\n",
    "matrice $\\boldsymbol{A}$ ha dimensioni $2 \\times 2$ l'inversa di $\\boldsymbol{A}$ si trova nel modo seguente\n",
    "\n",
    "$$\n",
    "\\boldsymbol{A}^{-1} = \\frac{1}{|\\boldsymbol{A}|} \\left[\n",
    "\\begin{array}{c c}\n",
    "a_{22} & -a_{12} \\\\\n",
    "-a_{21} & a_{11}\n",
    "\\end{array}\n",
    " \\right]\n",
    " $$ \n",
    " \n",
    "Anche per le matrici di dimensioni maggiori la matrice\n",
    "inversa è definita nei termini del determinante, ma le formule di\n",
    "calcolo sono molto più complesse.\n",
    "\n",
    "Per esempio, sia \n",
    "\n",
    "$$\n",
    "\\boldsymbol{A} = \\left[ \\begin{array}{c c}\n",
    "3 & 4 \\\\\n",
    "2 & 6\n",
    "\\end{array}\n",
    "\\right]\n",
    "$$ \n",
    "\n",
    "allora \n",
    "\n",
    "$$\n",
    "\\boldsymbol{A}^{-1} = \\frac{1}{10} \\left[\n",
    "\\begin{array}{c c}\n",
    "6 & -4 \\\\\n",
    "-2 & 3\n",
    "\\end{array}\n",
    "\\right]= \\left[ \\begin{array}{c c}\n",
    ".6 & -.4 \\\\\n",
    "-.2 & .3\n",
    "\\end{array}\n",
    " \\right]\n",
    " $$ \n",
    " \n",
    "In precedenza abbiamo detto che, in alcuni casi, una matrice\n",
    "\"si comporta come lo 0.\" Il *determinante* di una matrice è ci dice\n",
    "quando una matrice \"si comporta come lo 0.\" $|\\boldsymbol{A}| = 0$,\n",
    "infatti, se una riga (o una colonna) è una combinazione lineare di due\n",
    "(o più) righe (o colonne) di $\\boldsymbol{A}$.\n",
    "\n",
    "Per esempio, nel caso di una matrice ($2 \\times 2$)\n",
    "\n",
    "$$\n",
    "\\boldsymbol{A} =  \\left( \\begin{array}{c c}\n",
    "a_{11}& a_{12} \\\\\n",
    "a_{21} & a_{22} \\end{array} \\right)\n",
    "$$ \n",
    "\n",
    "supponiamo che \n",
    "\n",
    "$$\n",
    "\\left(%\n",
    "\\begin{array}{c}\n",
    "  a_{11} \\\\\n",
    "  a_{21} \\\\\n",
    "\\end{array}%\n",
    "\\right)=2\n",
    "\\left(%\n",
    "\\begin{array}{c}\n",
    "  a_{12} \\\\\n",
    "  a_{22} \\\\\n",
    "\\end{array}%\n",
    "\\right)$$ \n",
    "\n",
    "Allora \n",
    "\n",
    "$$\n",
    "\\boldsymbol{A} =  \\left( \\begin{array}{c c}\n",
    "2a_{12}& a_{12} \\\\\n",
    "2a_{22} & a_{22} \\end{array} \\right)\n",
    "$$ \n",
    "\n",
    "e\n",
    "\n",
    "$$\n",
    "|\\boldsymbol{A}| = 2a_{12}a_{22}-2a_{12}a_{22}=0\n",
    "$$ \n",
    "\n",
    "In conclusione, se il determinante è uguale a zero, allora la matrice inversa non esiste. Nel caso di una matrice ($2 \\times 2$), infatti, la formula dell'inversa richiede la divisione per $a_{11}a_{22}-a_{12}a_{21}$ che, nel caso di una matrice singolare, è uguale a zero."
   ]
  },
  {
   "cell_type": "code",
   "execution_count": 47,
   "id": "62a644f7",
   "metadata": {
    "vscode": {
     "languageId": "r"
    }
   },
   "outputs": [
    {
     "name": "stdout",
     "output_type": "stream",
     "text": [
      "     [,1] [,2]\n",
      "[1,]    2    4\n",
      "[2,]    3    6\n"
     ]
    }
   ],
   "source": [
    "A <- matrix(\n",
    "  c(2, 4, 3, 6),\n",
    "  nrow = 2,\n",
    "  byrow = TRUE\n",
    ")\n",
    "A |> print()"
   ]
  },
  {
   "cell_type": "code",
   "execution_count": 48,
   "id": "7de22d49",
   "metadata": {
    "vscode": {
     "languageId": "r"
    }
   },
   "outputs": [
    {
     "name": "stdout",
     "output_type": "stream",
     "text": [
      "[1] 0\n"
     ]
    }
   ],
   "source": [
    "det(A) |> print()"
   ]
  },
  {
   "attachments": {},
   "cell_type": "markdown",
   "id": "a4d404b5",
   "metadata": {},
   "source": [
    "### Proprietà del determinante\n",
    "\n",
    "-   $|\\boldsymbol{A}'| = |\\boldsymbol{A}|$.\n",
    "-   Se $\\boldsymbol{A}$ contiene una colonna o una riga i cui elementi\n",
    "    sono tutti 0, allora $|\\boldsymbol{A}|=0$.\n",
    "-   Se $\\boldsymbol{A}$ contiene due colonne (o righe) identiche, allora\n",
    "    $|\\boldsymbol{A}|=0$.\n",
    "-   $|\\boldsymbol{A}| = 0$ se una riga (o una colonna) è combinazione\n",
    "    lineare di due (o più) righe (o colonne) di $\\boldsymbol{A}$.\n",
    "-   $|\\boldsymbol{A}| = 1/|\\boldsymbol{A}^{-1}|$.\n",
    "-   $|\\boldsymbol{I}| = 1$.\n",
    "-   $|\\boldsymbol{A} \\boldsymbol{B}| = |\\boldsymbol{A}| |\\boldsymbol{B}|$.\n",
    "\n",
    "Per una matrice quadrata $\\boldsymbol{A}$, le seguenti affermazioni sono\n",
    "equivalenti: $\\boldsymbol{A}$ è non singolare, $|\\boldsymbol{A}|\\neq 0$,\n",
    "$\\boldsymbol{A}^{-1}$ esiste.\n",
    "\n",
    "### Radici e vettori latenti\n",
    "\n",
    "Dal determinante di una matrice si possono ricavare le *radici latenti*\n",
    "o *autovalori* (denotati da $\\lambda_i$) e i *vettori latenti* o\n",
    "*autovettori* della matrice. Alle nozioni di autovalore e autovettore\n",
    "verrà qui fornita un'interpretazione geometrica.\n",
    "\n",
    "Simuliamo di dati di due variabili associate tra loro:"
   ]
  },
  {
   "cell_type": "code",
   "execution_count": 49,
   "id": "8ec92f12",
   "metadata": {
    "vscode": {
     "languageId": "r"
    }
   },
   "outputs": [
    {
     "name": "stderr",
     "output_type": "stream",
     "text": [
      "Loading required package: carData\n",
      "\n"
     ]
    },
    {
     "name": "stderr",
     "output_type": "stream",
     "text": [
      "\n",
      "Attaching package: ‘car’\n",
      "\n",
      "\n"
     ]
    },
    {
     "name": "stderr",
     "output_type": "stream",
     "text": [
      "The following object is masked from ‘package:psych’:\n",
      "\n",
      "    logit\n",
      "\n",
      "\n"
     ]
    },
    {
     "name": "stderr",
     "output_type": "stream",
     "text": [
      "The following object is masked from ‘package:dplyr’:\n",
      "\n",
      "    recode\n",
      "\n",
      "\n"
     ]
    },
    {
     "name": "stderr",
     "output_type": "stream",
     "text": [
      "The following object is masked from ‘package:purrr’:\n",
      "\n",
      "    some\n",
      "\n",
      "\n"
     ]
    },
    {
     "name": "stdout",
     "output_type": "stream",
     "text": [
      "[1] 1.076511e-17\n"
     ]
    },
    {
     "name": "stdout",
     "output_type": "stream",
     "text": [
      "[1] -1.872959e-17\n"
     ]
    },
    {
     "name": "stdout",
     "output_type": "stream",
     "text": [
      "[1] 0.8291033\n"
     ]
    }
   ],
   "source": [
    "library(\"car\")\n",
    "set.seed(123456)\n",
    "npoints <- 20\n",
    "x <- as.numeric(scale(rnorm(npoints, 0, 1)))\n",
    "y <- as.numeric(scale(3 * x + rnorm(npoints, 0, 2)))\n",
    "mean(x) |> print()\n",
    "mean(y) |> print()\n",
    "cor(x, y) |> print()"
   ]
  },
  {
   "attachments": {},
   "cell_type": "markdown",
   "id": "a78ba3a6",
   "metadata": {},
   "source": [
    "Disegnamo il diagramma di dispersione con un ellisse che contiene la\n",
    "nube di punti:"
   ]
  },
  {
   "cell_type": "code",
   "execution_count": 50,
   "id": "9ebb5222",
   "metadata": {
    "fig.asp": 1.1,
    "fig.height": 4,
    "fig.width": 4,
    "vscode": {
     "languageId": "r"
    }
   },
   "outputs": [
    {
     "data": {
      "image/png": "[encoded data removed]",
      "text/plain": [
       "plot without title"
      ]
     },
     "metadata": {
      "image/png": {
       "height": 420,
       "width": 420
      }
     },
     "output_type": "display_data"
    }
   ],
   "source": [
    "Y <- cbind(x, y)\n",
    "car::dataEllipse(\n",
    "  Y[, 1], Y[, 2],\n",
    "  levels = 0.95,\n",
    "  lty = 2,\n",
    "  ylim = c(-3, 3),\n",
    "  xlim = c(-3, 3)\n",
    ")"
   ]
  },
  {
   "attachments": {},
   "cell_type": "markdown",
   "id": "87eefeea",
   "metadata": {},
   "source": [
    "Se racchiudiamo le osservazioni ($v_1, v_2$) con un'ellisse, allora la\n",
    "lunghezza dei semiassi maggiori e minori dell'ellisse sarà proporzionale\n",
    "a $\\sqrt{\\lambda_1}$ e $\\sqrt{\\lambda_2}$. L'asse maggiore è la linea\n",
    "passante per il punto ($\\bar{v_1}, \\bar{v_2}$) nella direzione\n",
    "determinata dal primo autovettore $\\boldsymbol{a}_1'$ con pendenza\n",
    "uguale a $a_{12}/a_{11}$. L'asse minore è la linea passante per il punto\n",
    "($\\bar{v_1}, \\bar{v_2}$) nella direzione determinata dal secondo\n",
    "autovettore $\\boldsymbol{a}_2$.\n",
    "\n",
    "Calcoliamo ora gli autovettori e gli autovalori:"
   ]
  },
  {
   "cell_type": "code",
   "execution_count": 51,
   "id": "f4cf8931",
   "metadata": {
    "vscode": {
     "languageId": "r"
    }
   },
   "outputs": [
    {
     "name": "stdout",
     "output_type": "stream",
     "text": [
      "eigen() decomposition\n",
      "$values\n",
      "[1] 1.8291033 0.1708967\n",
      "\n",
      "$vectors\n",
      "          [,1]       [,2]\n",
      "[1,] 0.7071068 -0.7071068\n",
      "[2,] 0.7071068  0.7071068\n",
      "\n"
     ]
    }
   ],
   "source": [
    "s <- cov(Y)\n",
    "ee <- eigen(s)\n",
    "ee |> print()"
   ]
  },
  {
   "cell_type": "code",
   "execution_count": 52,
   "id": "589c7348",
   "metadata": {
    "vscode": {
     "languageId": "r"
    }
   },
   "outputs": [],
   "source": [
    "# First eigenvector \n",
    "ev_1 <- ee$vectors[, 1]\n",
    "\n",
    "# Slope of the first eigenvector\n",
    "ev1_m <- ev_1[2] / ev_1[1]\n",
    "\n",
    "# Second eigenvector \n",
    "ev_2 <- ee$vectors[, 2]\n",
    "\n",
    "# Slope of the second eigenvector\n",
    "ev2_m <- ev_2[2] / ev_2[1]"
   ]
  },
  {
   "cell_type": "code",
   "execution_count": 53,
   "id": "f584e2e7",
   "metadata": {
    "vscode": {
     "languageId": "r"
    }
   },
   "outputs": [
    {
     "data": {
      "image/png": "[encoded data removed]",
      "text/plain": [
       "plot without title"
      ]
     },
     "metadata": {
      "image/png": {
       "height": 420,
       "width": 420
      }
     },
     "output_type": "display_data"
    }
   ],
   "source": [
    "# Scatter plot showing the span of both eigenvectors \n",
    "data.frame(zx=scale(x), zy=scale(y))  |>\n",
    "ggplot(aes(x = zx, y = zy)) +\n",
    "  geom_point(color = \"blue\", size = 2) +\n",
    "  geom_vline(xintercept = 0, linewidth = .5) +\n",
    "  geom_hline(yintercept = 0, linewidth = .5) +\n",
    "  geom_abline(slope = ev1_m, color = \"blue\", linewidth = 0.7) +\n",
    "  geom_abline(slope = ev2_m, color = \"red\", linewidth = 0.7) +\n",
    "  theme_classic()"
   ]
  },
  {
   "cell_type": "markdown",
   "id": "acb9095b",
   "metadata": {},
   "source": [
    "Gli autovettori sono ortogonali:"
   ]
  },
  {
   "cell_type": "code",
   "execution_count": 54,
   "id": "5987f5cd",
   "metadata": {
    "vscode": {
     "languageId": "r"
    }
   },
   "outputs": [
    {
     "name": "stdout",
     "output_type": "stream",
     "text": [
      "     [,1]\n",
      "[1,]    0\n"
     ]
    }
   ],
   "source": [
    "# Multiply both eigenvectors \n",
    "print(ev_1 %*% ev_2)"
   ]
  },
  {
   "cell_type": "markdown",
   "id": "ea1bf2a8",
   "metadata": {},
   "source": [
    "Per quanto riguarda gli autovalori, i loro valori numerici sono uguali alla somma dei quadrati delle distanze di ogni punto di dati proiettato sulla corrispondente componente principale. Questa somma dei quadrati è massimizzata nella prima componente principale.\n",
    "\n",
    "Generiamo uno Scree Plot."
   ]
  },
  {
   "cell_type": "code",
   "execution_count": 55,
   "id": "ab5634c8",
   "metadata": {
    "vscode": {
     "languageId": "r"
    }
   },
   "outputs": [
    {
     "data": {
      "image/png": "[encoded data removed]",
      "text/plain": [
       "plot without title"
      ]
     },
     "metadata": {
      "image/png": {
       "height": 420,
       "width": 420
      }
     },
     "output_type": "display_data"
    }
   ],
   "source": [
    "# Calculate the estimated variance for each eigenvalue\n",
    "e_var <- ee$values / (length(x) - 1)\n",
    "\n",
    "# Data frame with variance percentages\n",
    "var_per <- tibble(\n",
    "  PC  = c(\"PC1\", \"PC2\"),\n",
    "  PER = c(e_var) * 100 / sum(e_var) # Calculate the percentage\n",
    "    )\n",
    "\n",
    "# Scree plot \n",
    "ggplot(var_per, aes(x = PC, y = PER)) +\n",
    "  geom_col(width = 0.5, color = \"black\") +\n",
    "  xlab(\"Principal component\") +\n",
    "  ylab(\"Percentage of variation (%)\") "
   ]
  },
  {
   "cell_type": "markdown",
   "id": "53d37265",
   "metadata": {},
   "source": [
    "Verifichiamo che la somma degli autovalori sia uguale alla varianza totale."
   ]
  },
  {
   "cell_type": "code",
   "execution_count": 56,
   "id": "1997fbe2",
   "metadata": {
    "vscode": {
     "languageId": "r"
    }
   },
   "outputs": [
    {
     "data": {
      "text/html": [
       "2"
      ],
      "text/latex": [
       "2"
      ],
      "text/markdown": [
       "2"
      ],
      "text/plain": [
       "[1] 2"
      ]
     },
     "metadata": {},
     "output_type": "display_data"
    }
   ],
   "source": [
    "var(x) + var(y)"
   ]
  },
  {
   "cell_type": "code",
   "execution_count": 57,
   "id": "4a610451",
   "metadata": {
    "vscode": {
     "languageId": "r"
    }
   },
   "outputs": [
    {
     "data": {
      "text/html": [
       "2"
      ],
      "text/latex": [
       "2"
      ],
      "text/markdown": [
       "2"
      ],
      "text/plain": [
       "[1] 2"
      ]
     },
     "metadata": {},
     "output_type": "display_data"
    }
   ],
   "source": [
    "ee$values |> sum()"
   ]
  },
  {
   "cell_type": "markdown",
   "id": "2f218db7",
   "metadata": {},
   "source": [
    "Gli autovettori ottenuti utilizzando la funzione `eigen()` sono normalizzati. Ciò significa che la loro lunghezza è uguale a 1:"
   ]
  },
  {
   "cell_type": "code",
   "execution_count": 58,
   "id": "4f059f2a",
   "metadata": {
    "vscode": {
     "languageId": "r"
    }
   },
   "outputs": [
    {
     "ename": "ERROR",
     "evalue": "Error in norm(as.matrix(ev_1), \"FALSE\"): argument type[1]='FALSE' must be a character string of string length 1\n",
     "output_type": "error",
     "traceback": [
      "Error in norm(as.matrix(ev_1), \"FALSE\"): argument type[1]='FALSE' must be a character string of string length 1\nTraceback:\n",
      "1. norm(as.matrix(ev_1), \"FALSE\")"
     ]
    }
   ],
   "source": [
    "norm(as.matrix(ev_1), \"FALSE\")"
   ]
  },
  {
   "cell_type": "code",
   "execution_count": 98,
   "id": "daf14c25",
   "metadata": {
    "vscode": {
     "languageId": "r"
    }
   },
   "outputs": [
    {
     "data": {
      "text/html": [
       "1"
      ],
      "text/latex": [
       "1"
      ],
      "text/markdown": [
       "1"
      ],
      "text/plain": [
       "[1] 1"
      ]
     },
     "metadata": {},
     "output_type": "display_data"
    }
   ],
   "source": [
    "norm(as.matrix(ev_2), \"FALSE\")"
   ]
  },
  {
   "attachments": {},
   "cell_type": "markdown",
   "id": "9f643584",
   "metadata": {},
   "source": [
    "Utilizziamo le informazioni degli autovettori e degli autovalori per disegnare gli assi dell'ellisse: \n",
    "\n",
    "- gli autovettori determinano la direzione degli assi; \n",
    "- la radice quadrata degli autovalori è proporzionale alla lunghezza degli assi dell'ellisse."
   ]
  },
  {
   "cell_type": "code",
   "execution_count": 70,
   "id": "b9b4a4bb",
   "metadata": {
    "fig.asp": 1.1,
    "fig.height": 4,
    "fig.width": 4,
    "vscode": {
     "languageId": "r"
    }
   },
   "outputs": [
    {
     "data": {
      "image/png": "[encoded data removed]",
      "text/plain": [
       "plot without title"
      ]
     },
     "metadata": {
      "image/png": {
       "height": 420,
       "width": 420
      }
     },
     "output_type": "display_data"
    }
   ],
   "source": [
    "car::dataEllipse(\n",
    "  Y[, 1], Y[, 2],\n",
    "  levels = 0.95,\n",
    "  lty = 2,\n",
    "  ylim = c(-3, 3),\n",
    "  xlim = c(-3, 3)\n",
    ")\n",
    "k <- 2.65\n",
    "arrows(\n",
    "  0, 0, \n",
    "  k * sqrt(ee$values[1]) * ee$vectors[1],\n",
    "  k * sqrt(ee$values[1]) * ee$vectors[2],\n",
    "  code = 2, \n",
    "  col = \"red\", \n",
    "  lwd = 2\n",
    ")\n",
    "arrows(\n",
    "  0, 0, \n",
    "  k * sqrt(ee$values[2]) * ee$vectors[1],\n",
    "  k * sqrt(ee$values[2]) * -ee$vectors[2],\n",
    "  code = 2, \n",
    "  col = \"red\", \n",
    "  lwd = 2\n",
    ")"
   ]
  },
  {
   "attachments": {},
   "cell_type": "markdown",
   "id": "d0bc9eb6",
   "metadata": {},
   "source": [
    "Tale analisi si può estendere a qualunque numero di variabili. Per\n",
    "esempio, nel caso di tre variabili, possiamo pensare di disegnare un\n",
    "ellisoide attorno ad una nube di punti nello spazio tridimensionale.\n",
    "Anche in questo caso, gli autovalori e gli associati autovettori\n",
    "corrisponderanno agli assi dell'elissoide.\n",
    "\n",
    "### Scomposizione spettrale di una matrice\n",
    "\n",
    "Data una matrice quadrata e simmetrica di dimensione $n$,\n",
    "$\\boldsymbol{A}$, esistono una matrice diagonale $\\boldsymbol{\\Lambda}$\n",
    "e una matrice ortogonale $\\boldsymbol{V}$ tali che\n",
    "\n",
    "$$\\boldsymbol{A} =\\boldsymbol{V} \\boldsymbol{\\Lambda} \\boldsymbol{V}',$$\n",
    "dove\n",
    "\n",
    "-   $\\boldsymbol{\\Lambda}$ è una matrice diagonale i cui elementi sono\n",
    "    gli autovalori di $\\boldsymbol{A}$:\n",
    "    $\\boldsymbol{\\Lambda} = diag(\\lambda_1, \\lambda_2,\n",
    "        \\dots, \\lambda_n)$;\n",
    "-   $\\boldsymbol{V}$ è una matrice ortogonale le cui colonne\n",
    "    $(v_1, v_2, \\dots, v_p)$ sono gli autovettori di $\\boldsymbol{A}$\n",
    "    associati ai rispettivi autovalori.\n",
    "\n",
    "In maniera equivalente\n",
    "\n",
    "$$\\boldsymbol{A} \\boldsymbol{V} =  \\boldsymbol{\\Lambda} \\boldsymbol{V}'.$$\n",
    "\n",
    "Premoltiplicando entrambi i membri per $\\boldsymbol{V}'$ si ottiene\n",
    "\n",
    "$$\\boldsymbol{V}'\\boldsymbol{A} \\boldsymbol{V} =\n",
    "\\boldsymbol{\\Lambda},$$ \n",
    "\n",
    "da cui l'affermazione che la matrice degli autovettori diagonalizza $\\boldsymbol{A}$.\n",
    "\n",
    "Per esempio,"
   ]
  },
  {
   "cell_type": "code",
   "execution_count": 72,
   "id": "387a7491",
   "metadata": {
    "vscode": {
     "languageId": "r"
    }
   },
   "outputs": [
    {
     "name": "stdout",
     "output_type": "stream",
     "text": [
      "     [,1] [,2]\n",
      "[1,]  1.0 0.50\n",
      "[2,]  0.5 1.25\n"
     ]
    }
   ],
   "source": [
    "sigma <- matrix(\n",
    "  data = c(1, 0.5, 0.5, 1.25), \n",
    "  nrow = 2, \n",
    "  ncol = 2\n",
    ")\n",
    "sigma |> print()"
   ]
  },
  {
   "cell_type": "code",
   "execution_count": 73,
   "id": "1c1a1e57",
   "metadata": {
    "vscode": {
     "languageId": "r"
    }
   },
   "outputs": [
    {
     "name": "stdout",
     "output_type": "stream",
     "text": [
      "eigen() decomposition\n",
      "$values\n",
      "[1] 1.6403882 0.6096118\n",
      "\n",
      "$vectors\n",
      "          [,1]       [,2]\n",
      "[1,] 0.6154122 -0.7882054\n",
      "[2,] 0.7882054  0.6154122\n",
      "\n"
     ]
    }
   ],
   "source": [
    "out <- eigen(sigma)\n",
    "out |> print()"
   ]
  },
  {
   "cell_type": "code",
   "execution_count": 74,
   "id": "ac51824f",
   "metadata": {
    "vscode": {
     "languageId": "r"
    }
   },
   "outputs": [
    {
     "name": "stdout",
     "output_type": "stream",
     "text": [
      "         [,1]      [,2]\n",
      "[1,] 1.640388 0.0000000\n",
      "[2,] 0.000000 0.6096118\n"
     ]
    }
   ],
   "source": [
    "Lambda <- diag(out$values)\n",
    "Lambda |> print()"
   ]
  },
  {
   "cell_type": "code",
   "execution_count": 75,
   "id": "00901a8e",
   "metadata": {
    "vscode": {
     "languageId": "r"
    }
   },
   "outputs": [
    {
     "name": "stdout",
     "output_type": "stream",
     "text": [
      "          [,1]       [,2]\n",
      "[1,] 0.6154122 -0.7882054\n",
      "[2,] 0.7882054  0.6154122\n"
     ]
    }
   ],
   "source": [
    "U <- out$vectors\n",
    "U |> print()"
   ]
  },
  {
   "cell_type": "code",
   "execution_count": 76,
   "id": "3ef5848f",
   "metadata": {
    "vscode": {
     "languageId": "r"
    }
   },
   "outputs": [
    {
     "name": "stdout",
     "output_type": "stream",
     "text": [
      "     [,1] [,2]\n",
      "[1,]  1.0 0.50\n",
      "[2,]  0.5 1.25\n"
     ]
    }
   ],
   "source": [
    "U %*% Lambda %*% t(U) |> print()"
   ]
  },
  {
   "attachments": {},
   "cell_type": "markdown",
   "id": "4bada563",
   "metadata": {},
   "source": [
    "### Autovalori e determinante\n",
    "\n",
    "Il determinante di una matrice è il prodotto degli autovalori:\n",
    "\n",
    "$$\\begin{aligned}\n",
    "    |\\boldsymbol{A}| &= \\prod_{i=1}^{p} \\lambda_i. \\notag\n",
    "    \\end{aligned}$$\n",
    "\n",
    "La traccia di una matrice è uguale alla somma degli autovalori:\n",
    "\n",
    "$$\\begin{aligned}\n",
    "    tr(\\boldsymbol{A}) &= \\sum_{i=1}^{p} \\lambda_i. \\notag\n",
    "    \\end{aligned}$$"
   ]
  },
  {
   "cell_type": "code",
   "execution_count": 77,
   "id": "d7705691",
   "metadata": {
    "vscode": {
     "languageId": "r"
    }
   },
   "outputs": [
    {
     "name": "stdout",
     "output_type": "stream",
     "text": [
      "     [,1] [,2]\n",
      "[1,]  1.0  0.5\n",
      "[2,]  0.5  2.0\n",
      "eigen() decomposition\n",
      "$values\n",
      "[1] 2.2071068 0.7928932\n",
      "\n",
      "$vectors\n",
      "          [,1]       [,2]\n",
      "[1,] 0.3826834 -0.9238795\n",
      "[2,] 0.9238795  0.3826834\n",
      "\n"
     ]
    }
   ],
   "source": [
    "sigma <- matrix(data = c(1, 0.5, 0.5, 2), nrow = 2, ncol = 2)\n",
    "sigma |> print()\n",
    "\n",
    "out <- eigen(sigma)\n",
    "out |> print()"
   ]
  },
  {
   "attachments": {},
   "cell_type": "markdown",
   "id": "5d124da9",
   "metadata": {},
   "source": [
    "La traccia di una matrice è uguale alla somma degli autovalori:"
   ]
  },
  {
   "cell_type": "code",
   "execution_count": 78,
   "id": "9ab7bfde",
   "metadata": {
    "vscode": {
     "languageId": "r"
    }
   },
   "outputs": [
    {
     "name": "stdout",
     "output_type": "stream",
     "text": [
      "[1] 3\n"
     ]
    }
   ],
   "source": [
    "sum(out$values) |> print()"
   ]
  },
  {
   "attachments": {},
   "cell_type": "markdown",
   "id": "4ca4ae27",
   "metadata": {},
   "source": [
    "Il determinante di una matrice è il prodotto degli autovalori:"
   ]
  },
  {
   "cell_type": "code",
   "execution_count": 80,
   "id": "64066301",
   "metadata": {
    "vscode": {
     "languageId": "r"
    }
   },
   "outputs": [
    {
     "name": "stdout",
     "output_type": "stream",
     "text": [
      "[1] 1.75\n",
      "[1] 1.75\n"
     ]
    }
   ],
   "source": [
    "det(sigma) |> print()\n",
    "(out$values[1] * out$values[2]) |> print()"
   ]
  },
  {
   "attachments": {},
   "cell_type": "markdown",
   "id": "71fd7541",
   "metadata": {},
   "source": [
    "Gli autovalori di $\\boldsymbol{A}^{-1}$ sono i reciproci degli\n",
    "autovalori di $\\boldsymbol{A}$; gli autovettori sono coincidenti."
   ]
  },
  {
   "attachments": {},
   "cell_type": "markdown",
   "id": "8d3d92da",
   "metadata": {},
   "source": [
    "<!--chapter:end:900_lin_alg.Rmd-->\n",
    "\n"
   ]
  }
 ],
 "metadata": {
  "jupytext": {
   "cell_metadata_filter": "tags,fig.height,fig.width,fig.asp,-all",
   "main_language": "R",
   "notebook_metadata_filter": "-all"
  },
  "kernelspec": {
   "display_name": "R",
   "language": "R",
   "name": "ir"
  },
  "language_info": {
   "codemirror_mode": "r",
   "file_extension": ".r",
   "mimetype": "text/x-r-source",
   "name": "R",
   "pygments_lexer": "r",
   "version": "4.3.3"
  }
 },
 "nbformat": 4,
 "nbformat_minor": 5
}