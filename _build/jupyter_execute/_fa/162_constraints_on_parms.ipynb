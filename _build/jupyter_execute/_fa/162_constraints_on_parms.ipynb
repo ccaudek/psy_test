{
 "cells": [
  {
   "attachments": {},
   "cell_type": "markdown",
   "id": "ad9e3346",
   "metadata": {},
   "source": [
    "(reliability-fa-notebook)=\n",
    "# Attendibilità e modello fattoriale "
   ]
  },
  {
   "cell_type": "code",
   "execution_count": 1,
   "id": "b3c30e25",
   "metadata": {
    "tags": [
     "remove_cell"
    ],
    "vscode": {
     "languageId": "r"
    }
   },
   "outputs": [
    {
     "name": "stderr",
     "output_type": "stream",
     "text": [
      "Warning message in file(filename, \"r\", encoding = encoding):\n",
      "“non è possibile aprire il file '_common.R': No such file or directory”\n"
     ]
    },
    {
     "ename": "ERROR",
     "evalue": "Error in file(filename, \"r\", encoding = encoding): non è possibile aprire la connessione\n",
     "output_type": "error",
     "traceback": [
      "Error in file(filename, \"r\", encoding = encoding): non è possibile aprire la connessione\nTraceback:\n",
      "1. source(\"_common.R\")",
      "2. file(filename, \"r\", encoding = encoding)"
     ]
    }
   ],
   "source": [
    "source(\"_common.R\")\n",
    "suppressPackageStartupMessages({\n",
    "    library(\"psych\")\n",
    "    library(\"lavaan\")\n",
    "    library(\"modelsummary\") # for summarizing data\n",
    "})\n",
    "options(repr.plot.width=6, repr.plot.height=6)\n",
    "set.seed(42)"
   ]
  },
  {
   "attachments": {},
   "cell_type": "markdown",
   "id": "aa1a75fa",
   "metadata": {},
   "source": [
    "In questo capitolo esamineremo il problema relativo alla valutazione dell'affidabilità di uno strumento mediante l'impiego della tecnica dell'analisi fattoriale. Saranno differenziati tre distinti modelli che delineano le connessioni tra gli indicatori e il sottostante fattore latente comune (modelli congenerico, tau-equivalente, parallelo). Saranno presentati altresì tre diversi indici volti a caratterizzare l'affidabilità, intesa come coerenza interna, in accordo con il modello adottato. Tali indici includono l'indice omega di McDonald, l'indice alpha di Cronbach e l'indice rho, derivato dalla formula \"profetica\" di Spearman-Brown.\n",
    "\n",
    "Sarà evidente che l'utilizzo dell'indice alpha di Cronbach è giustificato soltanto se particolari condizioni specifiche vengono soddisfatte, circostanza che si verifica piuttosto raramente nei dati empirici. A causa di tale ragione, in linea generale, risulta più opportuno adottare l'indice omega di McDonald quale misura di coerenza interna.\n",
    "\n",
    "## Teoria classica dei test e analisi fattoriale\n",
    "\n",
    "{cite:t}`mcdonald2013test` illustra come la teoria classica dei test possa essere correlata al modello dell'analisi fattoriale. La figura rappresenta, attraverso i termini del modello fattoriale, la relazione che sussiste tra i punteggi $Y$, derivanti dalla somministrazione di un test composto da cinque item, e i punteggi veri.\n",
    "\n",
    "\n",
    "```{figure} images/factmod1.png\n",
    "---\n",
    "height: 300px\n",
    "name: lcsm1-fig\n",
    "---\n",
    "**Diagramma di percorso del modello monofattoriale.** \n",
    "```"
   ]
  },
  {
   "cell_type": "markdown",
   "id": "370bac7c",
   "metadata": {},
   "source": [
    "Esistono diverse strategie per stimare l'attendibilità in situazioni in cui viene somministrato un unico test. In questo contesto, analizzeremo tre metodologie che possono essere implementate attraverso l'analisi fattoriale: l'$\\alpha$ di Cronbach, l'$\\omega$ di McDonald e il metodo di Spearman-Brown.\n",
    "\n",
    "Il coefficiente $\\alpha$ rappresenta il principale indice utilizzato per quantificare l'attendibilità come misura di coerenza interna o omogeneità. Approfondiremo come questo indice rappresenti il limite inferiore dell'attendibilità di un test, a condizione che siano soddisfatte alcune ipotesi. Tuttavia, se queste assunzioni non vengono rispettate, l'$\\alpha$ si rivela un stimatore distorto dell'attendibilità.\n",
    "\n",
    "Prima di esaminare le diverse metodologie per stimare l'attendibilità in termini di coerenza interna, è essenziale distinguere tra le tre diverse forme che il modello unifattoriale può assumere. Queste tre forme corrispondono al modello con indicatori congenerici, al modello $\\tau$-equivalente e al modello parallelo.\n",
    "\n",
    "## Modello fattoriale e CTT\n",
    "\n",
    "Considerando un insieme di item osservati $X_1, X_2, \\dots, X_p$, con $p>2$, i punteggi ottenuti da questi item sono composti da due elementi distinti: una componente di punteggio reale e una componente di errore.\n",
    "\n",
    "$$\n",
    "\\begin{equation}\n",
    "\\begin{aligned}\n",
    "X_1 &=T_1+E_1,\\notag\\\\ \n",
    "X_2 &=T_2+E_2,\\notag\\\\ \n",
    "&\\dots\\notag\\\\ \n",
    "X_p &=T_p+E_p.\\notag\n",
    "\\end{aligned}\n",
    "\\end{equation}\n",
    "$$\n",
    "\n",
    "In linea con l'approccio delineato da {cite:t}`mcdonald2013test`, questa decomposizione tra la componente vera e quella di errore può essere formalizzata mediante l'utilizzo dei parametri del modello fattoriale. L'equazione $X_i = T_i + E_i$ può quindi essere riformulata come segue:\n",
    "\n",
    "$$\n",
    "X_i = \\lambda_i \\xi + \\delta_i, \\quad{i=1, \\dots, p},\n",
    "$$ \n",
    "\n",
    "In questa equazione, $X_i$ rappresenta il punteggio osservato per l'item $i$-esimo, $\\lambda_i$ è il carico fattoriale associato all'item $i$-esimo, $\\xi$ costituisce il fattore comune e $\\delta_i$ è la componente residuale del punteggio osservato per l'item $i$-esimo. Tale formulazione si basa sulle assunzioni del modello monofattoriale. Nello specifico, si ipotizza che $\\xi$ e $\\delta_i$ siano non correlati per ogni item $i$, e che $\\delta_i$ e $\\delta_k$ siano non correlati per ogni coppia $i \\neq k$.\n",
    "\n",
    "## Classi di modelli\n",
    "\n",
    "All'interno del contesto del modello monofattoriale, è possibile individuare tre distinti scenari di rilievo:\n",
    "\n",
    "1. **Modello con indicatori congenerici:** Si tratta del caso più ampio e generale, dove non sono imposte restrizioni particolari sulla struttura degli indicatori.\n",
    "\n",
    "2. **Modello con indicatori $\\tau$-equivalenti:** Questa è una situazione specifica in cui gli indicatori condividono la medesima variabilità, ma non necessariamente coincidono nei valori delle saturazioni fattoriali.\n",
    "\n",
    "3. **Modello con indicatori paralleli:** In questo caso, gli indicatori sono perfettamente equivalenti tra loro in termini di saturazioni fattoriali, evidenziando una struttura più rigida rispetto al modello congenerico.\n",
    "\n",
    "Il modello con indicatori congenerici rappresenta il caso più generale, mentre le situazioni di indicatori $\\tau$-equivalenti e paralleli costituiscono delle situazioni specifiche, prodotte dall'introduzione di vincoli e restrizioni sul modello a indicatori congenerici.\n",
    "\n",
    "### Indicatori congenerici\n",
    "\n",
    "Gli indicatori *congenerici* rappresentano misure di uno stesso costrutto, ma non è necessario che riflettano tale costrutto con la medesima intensità. Nel contesto degli indicatori congenerici all'interno del modello monofattoriale, non vengono introdotte limitazioni né sulle saturazioni fattoriali né sulle specificità:\n",
    "\n",
    "$$\n",
    "\\lambda_1\\neq \\lambda_2 \\neq \\dots\\neq \\lambda_p,\n",
    "$$\n",
    "\n",
    "$$\n",
    "\\psi_{11}\\neq \\psi_{22} \\neq \\dots\\neq \\psi_{pp}.\n",
    "$$ \n",
    "\n",
    "Il modello mono-fattoriale con indicatori congenerici è dunque\n",
    "\n",
    "$$\n",
    "\\begin{equation}\n",
    "X_i = \\lambda_i \\xi + \\delta_i.\n",
    "\\end{equation}\n",
    "$$(eq-mod-tau-eq)\n",
    "\n",
    "Dalle assunzioni precedenti possiamo derivare la matrice $\\boldsymbol{\\Sigma}$ riprodotta in base al modello congenerico la quale risulta essere uguale a\n",
    "\n",
    "$$\n",
    "\\boldsymbol{\\Sigma}=\\left[\n",
    "      \\begin{array}{ c c c c }\n",
    "        \\sigma_{11} & \\sigma_{12} & \\dots & \\sigma_{1p}, \\\\\n",
    "        \\sigma_{21} & \\sigma_{22} & \\dots & \\sigma_{2p}. \\\\\n",
    "        \\vdots & \\vdots & & \\vdots\\\\\n",
    "        \\sigma_{p1} & \\sigma_{p2} & \\dots & \\sigma_{pp} \n",
    "      \\end{array} \n",
    "    \\right].\n",
    "$$ \n",
    "    \n",
    "Si noti come tutte le varianze e tutte le covarianze siano tra loro diverse.\n",
    "\n",
    "### Indicatori tau-equivalenti\n",
    "\n",
    "Nel caso di indicatori $\\tau$-equivalenti, si ha che\n",
    "\n",
    "$$\n",
    "\\lambda_1=\\lambda_2=\\dots=\\lambda_p=\\lambda,\n",
    "$$\n",
    "\n",
    "$$\n",
    "\\psi_{11}\\neq \\psi_{22} \\neq \\dots\\neq \\psi_{pp}.\n",
    "$$ \n",
    "\n",
    "Il modello monofattoriale con indicatori $\\tau$-equivalenti diventa dunque\n",
    "\n",
    "$$\n",
    "\\begin{equation}\n",
    "X_i = \\lambda \\xi + \\delta_i, \n",
    "\\end{equation}\n",
    "$$(eq-mod-tau-eq)\n",
    "\n",
    "ovvero \n",
    "\n",
    "$$\n",
    "\\begin{equation}\n",
    "X_i = \\tau + \\delta_i,\n",
    "\\end{equation}\n",
    "$$(eq-mod-tau-eq-b)\n",
    "\n",
    "dove $\\tau=\\lambda \\xi$ è l'attributo comune scalato nell'unità di misura dell'indicatore. Secondo il modello {eq}`eq-mod-tau-eq`, tutte le $p(p-1)$ covarianze tra gli item\n",
    "del test devono essere uguali, ovvero\n",
    "\n",
    "$$\n",
    "\\begin{equation}\n",
    "\\sigma_{ik} = \\lambda^2=\\sigma^2_T,\n",
    "\\end{equation}\n",
    "$$(eq-cov-tau-eq)\n",
    "\n",
    "per $i\\neq k$. Gli elementi sulla diagonale principale della matrice di varianze e covarianze saranno invece\n",
    "\n",
    "$$\n",
    "\\begin{equation}\n",
    "\\sigma_{ii} = \\lambda^2 + \\psi_{ii} =\\sigma^2_T + \\psi_{ii}.\n",
    "\\end{equation}\n",
    "$$(eq-var-tau)\n",
    "\n",
    "La matrice $\\boldsymbol{\\Sigma}$ riprodotta in base al modello $\\tau$-equivalente è dunque uguale a\n",
    "\n",
    "$$\n",
    "\\begin{equation}\n",
    "\\boldsymbol{\\Sigma}=\\left[\n",
    "      \\begin{array}{ c c c c }\n",
    "        \\sigma_{T}^2 + \\psi_{11} & \\sigma_{T}^2 & \\dots & \\sigma_{T}^2 \\\\\n",
    "        \\sigma_{T}^2 & \\sigma_{T}^2 + \\psi_{22} & \\dots & \\sigma_{T}^2 \\\\\n",
    "        \\vdots & \\vdots & & \\vdots\\\\\n",
    "        \\sigma_{T}^2 & \\sigma_{T}^2 & \\dots & \\sigma_{T}^2 + \\psi_{pp} \n",
    "      \\end{array} \n",
    "    \\right].\n",
    "\\end{equation}\n",
    "$$(eq-sigma-tau-eq)\n",
    "    \n",
    "Tutte le covarianze sono uguali, mentre le varianze sono tra loro diverse.\n",
    "\n",
    "### Indicatori paralleli\n",
    "\n",
    "Nel caso di indicatori paralleli si ha che\n",
    "\n",
    "$$\n",
    "\\lambda_1=\\lambda_2=\\dots=\\lambda_p=\\lambda,\n",
    "$$\n",
    "\n",
    "$$\n",
    "\\psi_{11}=\\psi_{22}=\\dots=\\psi_{pp}=\\psi.\n",
    "$$ \n",
    "\n",
    "Il modello costituito da indicatori paralleli impone dunque un'ulteriore restrizione che riguarda le varianze degli item, ovvero:\n",
    "\n",
    "$$\n",
    "\\sigma_{ii} = \\lambda^2 + \\psi =\\sigma^2_T + \\sigma^2.\n",
    "$$ \n",
    "\n",
    "La struttura di varianze e covarianze imposta dal modello per indicatori paralleli è\n",
    "dunque tale da richiedere l'uguaglianza tra tutte le covarianze tra gli\n",
    "item e l'uguaglianza tra tutte le varianze degli item. La matrice\n",
    "$\\boldsymbol{\\Sigma}$ riprodotta in base al modello con indicatori\n",
    "paralleli è dunque uguale a \n",
    "\n",
    "$$\n",
    "\\boldsymbol{\\Sigma}=\\left[\n",
    "      \\begin{array}{ c c c c }\n",
    "        \\sigma_{T}^2 + \\sigma^2 & \\sigma_{T}^2 & \\dots & \\sigma_{T}^2 \\\\\n",
    "        \\sigma_{T}^2 & \\sigma_{T}^2 + \\sigma^2 & \\dots & \\sigma_{T}^2 \\\\\n",
    "        \\vdots & \\vdots & & \\vdots\\\\\n",
    "        \\sigma_{T}^2 & \\sigma_{T}^2 & \\dots & \\sigma_{T}^2 +\\sigma^2 \\notag\n",
    "      \\end{array} \n",
    "    \\right].\n",
    "$$\n"
   ]
  },
  {
   "attachments": {},
   "cell_type": "markdown",
   "id": "f8181967",
   "metadata": {},
   "source": [
    "\n",
    "## Metodo dei minimi quadrati non pesati\n",
    "\n",
    "Nel contesto del modello unifattoriale, la varianza di ciascun indicatore è decomposta in due componenti: la componente $\\sigma^2_T$, attribuibile all'effetto del fattore latente comune, e la componente $\\psi$, riferita all'influenza del fattore specifico. {cite:t}`mcdonald2013test` dimostra come sia possibile ottenere stime di tali componenti dai dati osservati. Queste stime vengono successivamente impiegate per calcolare l'affidabilità interna del test mediante le formule degli indici $\\alpha$ di Cronbach e $\\omega$ di McDonald.\n",
    "\n",
    "In precedenza, abbiamo esaminato come la varianza del punteggio vero possa essere equivalente alla covarianza tra due forme parallele dello stesso test: $\\sigma^2_T = \\sigma_{XX^\\prime}$. Nel caso di indicatori $\\tau$-equivalenti, la matrice $\\boldsymbol{\\Sigma}$ prevista dal modello risulta essere:\n",
    "\n",
    "$$\n",
    "\\boldsymbol{\\Sigma}=\\left[\n",
    "      \\begin{array}{ c c c c }\n",
    "        \\sigma_{T}^2 + \\psi_{11} & \\sigma_{T}^2 & \\dots & \\sigma_{T}^2 \\\\\n",
    "        \\sigma_{T}^2 & \\sigma_{T}^2 + \\psi_{22} & \\dots & \\sigma_{T}^2 \\\\\n",
    "        \\vdots & \\vdots & & \\vdots\\\\\n",
    "        \\sigma_{T}^2 & \\sigma_{T}^2 & \\dots & \\sigma_{T}^2 + \\psi_{pp} \\notag\n",
    "      \\end{array}\n",
    "    \\right],\n",
    "$$\n",
    "\n",
    "ossia, tutte le covarianze sono equivalenti tra loro. Nel caso degli indicatori $\\tau$-equivalenti, una stima $\\hat{\\sigma}^2_T$ di $\\sigma^2_T$ è ottenuta calcolando la media delle covarianze della matrice **S**:\n",
    "\n",
    "$$\n",
    "\\begin{equation}\n",
    "\\hat{\\sigma}_T^2 = \\frac{1}{p(p-1)} {\\sum \\sum}_{i \\neq k} s_{ik}.\n",
    "\\end{equation}\n",
    "$$ (eq-sigma-t)\n",
    "\n",
    "Questo metodo di stima di $\\sigma^2_T$ è noto come \"metodo dei minimi quadrati non pesati\" {cite:p}`mcdonald2013test`.\n",
    "\n",
    "Inoltre, nel caso di indicatori $\\tau$-equivalenti, la stima di $\\psi_{ii}$ nell'eq. {eq}`eq-var-tau` è calcolata come:\n",
    "\n",
    "$$\n",
    "\\hat{\\psi}_{ii }= s_{ii} - \\hat{\\sigma}_T^2,\n",
    "$$\n",
    "\n",
    "per ogni item $i$.\n",
    "\n",
    "Per quanto riguarda gli *indicatori paralleli*, la stima di $\\sigma^2_T$ è ancora basata sull'eq. {eq}`eq-sigma-t`, ovvero sulla media delle covarianze della matrice $\\boldsymbol{\\Sigma}$. Tuttavia, la stima del valore costante $\\psi$ è ottenuta tramite l'equazione:\n",
    "\n",
    "$$\n",
    "\\begin{equation}\n",
    "\\hat{\\psi} = \\frac{1}{p} \\sum_i (s_{ii} - \\hat{\\sigma}_T^2)\n",
    "\\end{equation}\n",
    "$$(eq-psi-par-st)\n",
    "\n",
    "## Varianza del punteggio totale di un test\n",
    "\n",
    "Il punteggio complessivo $Y$ di un test omogeneo rappresenta la somma dei punteggi $X_i$ relativi ai $p$ item che costituiscono il test: $Y = \\sum_{i=1}^p X_i$. Lo scopo è descrivere la varianza del punteggio totale del test sfruttando i parametri del modello unifattoriale.\n",
    "\n",
    "Nel contesto di un modello congenerico con un singolo fattore comune, il punteggio dell'item $i$-esimo può essere espresso come\n",
    "\n",
    "$$\n",
    "X_i = \\lambda_i \\xi + \\delta_i,\n",
    "$$\n",
    "\n",
    "questa formulazione è coerente con l'equazione $X_i = T_i + E_i$ nella teoria classica dei test. Il punteggio totale è dato dalla somma di tutti gli item, ovvero $\\sum_i \\left(\\lambda_i \\xi + \\delta_i\\right)$. Di conseguenza, la varianza del punteggio totale è\n",
    "\n",
    "$$\n",
    "\\begin{equation}\n",
    "\\mathbb{V}(Y) = \\left( \\sum_i \\lambda_i\\right)^2 + \\sum_i \\psi_{ii}.\n",
    "\\end{equation}\n",
    "$$(eq-var-y)\n",
    "\n",
    "In altre parole, la varianza del punteggio totale $Y$ del test può essere suddivisa in due componenti: il quadrato della somma delle saturazioni fattoriali, che riflette la variazione associata al vero punteggio (cioè la varianza legata all'attributo misurato dagli item), e la somma delle varianze specifiche dei $p$ indicatori, che incarna la variazione dovuta agli errori di misurazione del punteggio totale del test.\n",
    "\n",
    "L'eq. {eq}`eq-var-y` può essere facilmente dimostrata nel contesto di un modello congenerico. Infatti, la varianza del punteggio totale $Y$ equivale a $\\mathbb{V}\\left[ \\sum_i \\left(\\lambda_i \\xi + \\delta_i\\right) \\right]$. Espandendo l'espressione si ottiene\n",
    "\n",
    "$$\n",
    "\\begin{equation}\n",
    "\\begin{aligned}\n",
    "  \\mathbb{V}(Y) &= \\mathbb{V}\\left[ \\sum_i  \\left(\\lambda_i \\xi + \\delta_i\\right)  \\right]\\notag\\\\\n",
    "  &= \\mathbb{V}\\left[  (\\lambda_1 \\xi + \\delta_1) + (\\lambda_2 \\xi + \\delta_2) + \\dots +  (\\lambda_p \\xi + \\delta_p)  \\right]\\notag\\\\\n",
    "  &= \\mathbb{V}\\left[ \\left( \\sum_i \\lambda_i\\right) \\xi + \\sum_i \\delta_i\\right]\\notag\\\\\n",
    "  &=  \\left(\\sum_i \\lambda_i\\right)^2 \\underbrace{\\mathbb{V}(\\xi)}_{=1} +  \\sum_i  \\mathbb{V}(\\delta_i)\\notag\\\\\n",
    "  &= \\left(\\sum_i \\lambda_i\\right)^2 + \\sum_i \\psi_{ii}.\\notag\n",
    "\\end{aligned}\n",
    "\\end{equation}\n",
    "$$\n",
    "\n",
    "\n",
    "## Stima dell'attendibilità\n",
    "\n",
    "### Coefficiente Omega\n",
    "\n",
    "Avendo effettuato la decomposizione della varianza del punteggio totale di un test come indicato nell'eq. {eq}`eq-var-y`:\n",
    "\n",
    "$$\n",
    "\\mathbb{V}(Y) = \\left( \\sum_i \\lambda_i\\right)^2 + \\sum_i \\psi_{ii},\n",
    "$$\n",
    "\n",
    "{cite:t}`mcdonald2013test` introduce la definizione del coefficiente di affidabilità $\\omega$ quale rapporto tra la varianza \"vera\" (attribuibile all'attributo comune) e la varianza totale. Nella formulazione basata sui parametri del modello monofattoriale, il coefficiente $\\omega$ può essere espresso come:\n",
    "\n",
    "$$\n",
    "\\begin{equation}\n",
    "\\begin{aligned}\n",
    "\\omega &= \\frac{\\left( \\sum_{i=1}^p \\lambda_i \\right)^2}{\\sigma_Y^2} \\notag\\\\\n",
    "&= \\frac{\\left( \\sum_{i=1}^p \\lambda_i \\right)^2}{\\left( \\sum_{i=1}^p \\lambda_i \\right)^2  + \\sum_{i=1}^p \\psi_{ii}}\n",
    "\\end{aligned}\n",
    "\\end{equation}\n",
    "$$(eq-omega)\n",
    "\n",
    "Il coefficiente $\\omega$ fornisce pertanto una stima del grado di affidabilità, formulata sulla base dei parametri del modello fattoriale congenerico e sfruttando i dati raccolti in una singola somministrazione del test.\n",
    "\n",
    "\n",
    "#### Un esempio concreto\n",
    "\n",
    "Consideriamo nuovamente la scala *Openness* del dataframe `bfi` discussi nel capitolo {ref}`ctt-3-notebook`. Leggiamo i dati in R."
   ]
  },
  {
   "cell_type": "code",
   "execution_count": 8,
   "id": "d3363486",
   "metadata": {
    "vscode": {
     "languageId": "r"
    }
   },
   "outputs": [],
   "source": [
    "data(bfi, package = \"psych\")"
   ]
  },
  {
   "cell_type": "markdown",
   "id": "19a1a153",
   "metadata": {},
   "source": [
    "È necessario ricodificare due item."
   ]
  },
  {
   "cell_type": "code",
   "execution_count": 9,
   "id": "4d1240d5",
   "metadata": {
    "vscode": {
     "languageId": "r"
    }
   },
   "outputs": [],
   "source": [
    "bfi$O2r <- 7 - bfi$O2\n",
    "bfi$O5r <- 7 - bfi$O5"
   ]
  },
  {
   "cell_type": "code",
   "execution_count": 10,
   "id": "881fcf4d",
   "metadata": {
    "vscode": {
     "languageId": "r"
    }
   },
   "outputs": [
    {
     "data": {
      "text/html": [
       "<table class=\"dataframe\">\n",
       "<caption>A matrix: 5 × 5 of type dbl</caption>\n",
       "<thead>\n",
       "\t<tr><th></th><th scope=col>O1</th><th scope=col>O2r</th><th scope=col>O3</th><th scope=col>O4</th><th scope=col>O5r</th></tr>\n",
       "</thead>\n",
       "<tbody>\n",
       "\t<tr><th scope=row>O1</th><td>1.00</td><td>0.21</td><td>0.40</td><td>0.18</td><td>0.24</td></tr>\n",
       "\t<tr><th scope=row>O2r</th><td>0.21</td><td>1.00</td><td>0.26</td><td>0.07</td><td>0.32</td></tr>\n",
       "\t<tr><th scope=row>O3</th><td>0.40</td><td>0.26</td><td>1.00</td><td>0.19</td><td>0.31</td></tr>\n",
       "\t<tr><th scope=row>O4</th><td>0.18</td><td>0.07</td><td>0.19</td><td>1.00</td><td>0.18</td></tr>\n",
       "\t<tr><th scope=row>O5r</th><td>0.24</td><td>0.32</td><td>0.31</td><td>0.18</td><td>1.00</td></tr>\n",
       "</tbody>\n",
       "</table>\n"
      ],
      "text/latex": [
       "A matrix: 5 × 5 of type dbl\n",
       "\\begin{tabular}{r|lllll}\n",
       "  & O1 & O2r & O3 & O4 & O5r\\\\\n",
       "\\hline\n",
       "\tO1 & 1.00 & 0.21 & 0.40 & 0.18 & 0.24\\\\\n",
       "\tO2r & 0.21 & 1.00 & 0.26 & 0.07 & 0.32\\\\\n",
       "\tO3 & 0.40 & 0.26 & 1.00 & 0.19 & 0.31\\\\\n",
       "\tO4 & 0.18 & 0.07 & 0.19 & 1.00 & 0.18\\\\\n",
       "\tO5r & 0.24 & 0.32 & 0.31 & 0.18 & 1.00\\\\\n",
       "\\end{tabular}\n"
      ],
      "text/markdown": [
       "\n",
       "A matrix: 5 × 5 of type dbl\n",
       "\n",
       "| <!--/--> | O1 | O2r | O3 | O4 | O5r |\n",
       "|---|---|---|---|---|---|\n",
       "| O1 | 1.00 | 0.21 | 0.40 | 0.18 | 0.24 |\n",
       "| O2r | 0.21 | 1.00 | 0.26 | 0.07 | 0.32 |\n",
       "| O3 | 0.40 | 0.26 | 1.00 | 0.19 | 0.31 |\n",
       "| O4 | 0.18 | 0.07 | 0.19 | 1.00 | 0.18 |\n",
       "| O5r | 0.24 | 0.32 | 0.31 | 0.18 | 1.00 |\n",
       "\n"
      ],
      "text/plain": [
       "    O1   O2r  O3   O4   O5r \n",
       "O1  1.00 0.21 0.40 0.18 0.24\n",
       "O2r 0.21 1.00 0.26 0.07 0.32\n",
       "O3  0.40 0.26 1.00 0.19 0.31\n",
       "O4  0.18 0.07 0.19 1.00 0.18\n",
       "O5r 0.24 0.32 0.31 0.18 1.00"
      ]
     },
     "metadata": {},
     "output_type": "display_data"
    }
   ],
   "source": [
    "cor(bfi[c(\"O1\", \"O2r\", \"O3\", \"O4\", \"O5r\")], use = \"pairwise.complete.obs\") |>\n",
    "    round(2)"
   ]
  },
  {
   "attachments": {},
   "cell_type": "markdown",
   "id": "0ca63bed",
   "metadata": {},
   "source": [
    "Eseguiamo l'analisi fattoriale confermativa con `lavaan`."
   ]
  },
  {
   "cell_type": "code",
   "execution_count": 20,
   "id": "f872f4e5",
   "metadata": {
    "vscode": {
     "languageId": "r"
    }
   },
   "outputs": [],
   "source": [
    "mod <- \"\n",
    "    f =~ NA*O1 + O2r + O3 + O4 + O5r\n",
    "    f ~~ 1*f\n",
    "\"\n",
    "\n",
    "fit <- cfa(mod, data = bfi, std.ov = TRUE, std.lv = TRUE)\n"
   ]
  },
  {
   "attachments": {},
   "cell_type": "markdown",
   "id": "aa396f4b",
   "metadata": {},
   "source": [
    "Estraiamo le saturazioni fattoriali e le specificità dall'oggetto `fit`."
   ]
  },
  {
   "cell_type": "code",
   "execution_count": 29,
   "id": "a9b8abaf",
   "metadata": {
    "vscode": {
     "languageId": "r"
    }
   },
   "outputs": [],
   "source": [
    "lambda <- inspect(fit, what = \"std\")$lambda\n",
    "psy <- diag(inspect(fit, what = \"est\")$theta)"
   ]
  },
  {
   "cell_type": "markdown",
   "id": "b464fe85",
   "metadata": {},
   "source": [
    "Calcoliamo il coefficiente $\\omega$\n",
    "\n",
    "$$\n",
    "\\omega = \\frac{\\left( \\sum_{i=1}^p \\lambda_i \\right)^2}{\\left( \\sum_{i=1}^p \\lambda_i \\right)^2  + \\sum_{i=1}^p \\psi_{ii}}\n",
    "$$\n",
    "\n",
    "usando i parametri del modello fattoriale."
   ]
  },
  {
   "cell_type": "code",
   "execution_count": 30,
   "id": "cc5e23c8",
   "metadata": {
    "vscode": {
     "languageId": "r"
    }
   },
   "outputs": [
    {
     "data": {
      "text/html": [
       "0.618064541281703"
      ],
      "text/latex": [
       "0.618064541281703"
      ],
      "text/markdown": [
       "0.618064541281703"
      ],
      "text/plain": [
       "[1] 0.6180645"
      ]
     },
     "metadata": {},
     "output_type": "display_data"
    }
   ],
   "source": [
    "sum(lambda)^2 / (sum(lambda)^2 + sum(psy))"
   ]
  },
  {
   "cell_type": "markdown",
   "id": "d2d8e27f",
   "metadata": {},
   "source": [
    "Ripetiamo i calcoli usando la funzione `compRelSEM` del pacchetto `semTools`."
   ]
  },
  {
   "cell_type": "code",
   "execution_count": 31,
   "id": "83cd4481",
   "metadata": {
    "vscode": {
     "languageId": "r"
    }
   },
   "outputs": [
    {
     "data": {
      "text/html": [
       "<strong>f:</strong> 0.61811088980665"
      ],
      "text/latex": [
       "\\textbf{f:} 0.61811088980665"
      ],
      "text/markdown": [
       "**f:** 0.61811088980665"
      ],
      "text/plain": [
       "    f \n",
       "0.618 "
      ]
     },
     "metadata": {},
     "output_type": "display_data"
    }
   ],
   "source": [
    "semTools::compRelSEM(fit,  tau.eq = FALSE)"
   ]
  },
  {
   "attachments": {},
   "cell_type": "markdown",
   "id": "1584d5a3",
   "metadata": {},
   "source": [
    "Il coefficiente $\\omega=0.62$ può essere interpretato dicendo che il 62% della varianza del punteggio totale $Y$ della sottoscala Openness viene spiegato dal fattore comune latente.\n",
    "\n",
    "#### Coefficiente $\\omega$ e assunzioni della teoria classica dei test\n",
    "\n",
    "Il calcolo di $\\omega$ si basa sull'assunzione, conforme alla teoria classica dei test, che $\\psi_{ik}=0$ quando $i\\neq k$. Tuttavia, in situazioni di dati empirici, questa assunzione potrebbe non essere rispettata. In tali circostanze, come evidenziato da Bollen (1980), l'eq. {eq}`eq-omega` diventa:\n",
    "\n",
    "$$\n",
    "\\begin{equation}\n",
    "\\omega = \\frac{\\left( \\sum_{i=1}^p \\lambda_i \\right)^2}{\\left( \\sum_{i=1}^p \\lambda_i \\right)^2  + \\sum_{i=1}^p \\psi_{ii} + \\sum_{i, k, i\\neq k}^p \\psi_{ik}}.\n",
    "\\end{equation}\n",
    "$$(eq-omega2)\n",
    "\n",
    "La validità dell'assunzione sull'assenza di correlazione tra i fattori specifici può essere sottoposta a verifica mediante un'analisi fattoriale confermativa. Se emergono numerose coppie di fattori specifici correlati, potrebbe divenire necessario introdurre fattori aggiuntivi nel modello per tenere conto di queste covarianze. Questa eventualità potrebbe condurre a una struttura non più unidimensionale: la presenza di diversi fattori suggerisce l'esistenza di sottoscale multiple. Tuttavia, il problema esposto sopra non può sempre essere risolto con la semplice identificazione di sottoscale, poiché persino in questa situazione potrebbero permanere covarianze tra i fattori specifici che non sono spiegate dai fattori che delineano le sottoscale. In tali scenari, il calcolo di $\\omega$ richiederà l'utilizzo dell'eq. {eq}`eq-omega2`.\n",
    "\n",
    "#### Interpretazione\n",
    "\n",
    "{cite:t}`mcdonald2013test` fornisce le seguenti interpretazioni al coefficiente $\\omega$:\n",
    "- $\\omega$ rappresenta il quadrato della correlazione tra $Y$ e il fattore comune $\\xi$, o equivalentemente tra $Y$ e il punteggio vero (in accordo con la definizione di affidabilità: $\\rho_{XT}^2=\\sigma^2_{\\tau}/\\sigma^2_X$);\n",
    "- $\\omega$ corrisponde alla correlazione tra due test $Y$ e $Y'$ che condividono la stessa somma (o media) delle saturazioni nel modello a singolo fattore, e la stessa somma (o media) delle varianze specifiche nel modello a singolo fattore;\n",
    "- $\\omega$ è il quadrato della correlazione tra il punteggio totale di $p$ item e il punteggio medio di un insieme infinito di item in un dominio omogeneo, nel quale i $p$ item costituiscono un sottoinsieme.\n",
    "\n",
    "In sostanza, il coefficiente $\\omega$ offre un quadro di riferimento per comprendere il legame tra il punteggio totale del test e il fattore sottostante, sia attraverso la correlazione, sia attraverso le caratteristiche di omogeneità e consistenza riscontrabili tra diversi test.\n",
    "\n",
    "\n",
    "### Coefficienti $\\alpha$ e $\\omega$ nel modello $\\tau$-equivalente\n",
    "\n",
    "Nei modelli monofattoriali, sia il coefficiente $\\omega$ che il coefficiente $\\alpha$ forniscono stime dell'attendibilità, ma in differenti contesti. Il coefficiente $\\omega$ stima l'attendibilità nel caso di un modello con indicatori congenerici, mentre il coefficiente $\\alpha$ fornisce una stima nell'ambito di un modello con indicatori $\\tau$-equivalenti.\n",
    "\n",
    "Se consideriamo $p$ item che soddisfano il modello di $\\tau$-equivalenza, la varianza di ciascun item può essere scomposta in una componente attribuibile al valore vero e una componente d'errore, come espresso nell'eq. {eq}`eq-var-tau`, ovvero $\\sigma_{ii} = \\lambda^2 + \\psi_{ii} = \\sigma^2_T + \\sigma^2_i$. In accordo con il principio di $\\tau$-equivalenza, le varianze e covarianze generabili dal modello monofattoriale rispondono alle caratteristiche descritte nella matrice {eq}`eq-sigma-tau-eq`. Considerando che tutti gli item presentano la medesima saturazione fattoriale $\\lambda$, la formula di calcolo del coefficiente $\\omega$ si semplifica come segue:\n",
    "\n",
    "$$\n",
    "\\omega = \\frac{\\left( \\sum_i \\lambda_i \\right)^2}{\\left( \\sum_i \\lambda_i \\right)^2  + \\sum_i \\psi_{ii}} = \\frac{p^2 \\lambda^2}{\\sigma^2_Y} = \\frac{p^2 \\sigma_T^2}{\\sigma_Y^2}\n",
    "$$\n",
    "\n",
    "dove $Y$ rappresenta il punteggio totale del test.\n",
    "\n",
    "Attraverso l'uso del metodo dei minimi quadrati non pesati, possiamo ottenere la seguente stima per $\\omega$:\n",
    "\n",
    "$$\n",
    "\\begin{equation}\n",
    "\\hat{\\omega} = \\frac{p^2 \\hat{\\sigma}_T^2}{s_Y^2}\n",
    "\\end{equation}\n",
    "$$(eq-omega-firt-part)\n",
    "\n",
    "dove una stima di $\\sigma_T^2$ è data dall'eq. {eq}`eq-sigma-t`, ossia\n",
    "\n",
    "$$\n",
    "\\begin{equation}\n",
    "\\hat{\\sigma}_T^2 = \\frac{1}{p(p-1)} {\\sum \\sum}_{i \\neq k} s_{ik}\n",
    "\\end{equation}\n",
    "$$(eq-hat-sigma-tau2)\n",
    "\n",
    "Sostituendo l'eq. {eq}`eq-hat-sigma-tau2` nell'eq. {eq}`eq-omega-firt-part`, otteniamo\n",
    "\n",
    "$$\n",
    "\\begin{equation}\n",
    "\\hat{\\omega} = \\frac{p}{p-1}\\frac{{\\sum \\sum}_{i \\neq k} s_{ik}}{s_Y^2}\n",
    "\\end{equation}\n",
    "$$\n",
    "\n",
    "In sintesi, per indicatori $\\tau$-equivalenti, una stima di $\\omega$ è data da\n",
    "\n",
    "$$\n",
    "\\begin{equation}\n",
    "\\begin{aligned}\n",
    "\\hat{\\omega} &= \\frac{p}{p-1}\\frac{{\\sum \\sum}_{i \\neq k} s_{ik}}{s_Y^2} \\notag\\\\\n",
    " &= \\frac{p}{p-1}\\left(1-\\frac{\\sum_i s_{ii}}{s_Y^2}\\right)\n",
    "\\end{aligned}\n",
    "\\end{equation}\n",
    "$$(eq-alpha-camp)\n",
    "\n",
    "La stima di attendibilità fornita dall'eq. {eq}`eq-alpha-camp` trova una sua controparte nei valori di popolazione nell'equazione seguente:\n",
    "\n",
    "$$\n",
    "\\begin{equation}\n",
    "\\begin{aligned}\n",
    "\\alpha &= \\frac{p}{p-1}\\left(1-\\frac{\\sum_{i=1}^p \\sigma_{ii}}{\\sigma_Y^2}\\right)\n",
    "&= \\frac{p}{p-1}\\frac{\\sum_{i\\neq k}^p \\text{Cov}(X_i, X_k)}{\\mathbb{V}(Y)}\n",
    "\\end{aligned}\n",
    "\\end{equation}\n",
    "$$(eq-alpha-pop)\n",
    "\n",
    "L'eq. {eq}`eq-alpha-pop` definisce il coefficiente $\\alpha$.\n",
    "\n",
    "Se gli indicatori soddisfano le condizioni del modello $\\tau$-equivalente, i coefficienti $\\alpha$ e $\\omega$ coincidono. Nel contesto di un modello $\\tau$-equivalente adeguate, il coefficiente $\\alpha$ rappresenta un limite inferiore di $\\omega$ (cioè, sottostima $\\omega$): $\\omega \\geq \\alpha$. Pertanto, data la natura conservativa della stima di attendibilità fornita da $\\alpha$, alcuni studiosi preferiscono $\\alpha$ a $\\omega$. È importante notare, però, che questa caratteristica conservativa di $\\alpha$ si applica solo quando le assunzioni del modello $\\tau$-equivalente sono soddisfatte.\n",
    "\n",
    "#### Un esempio concreto\n",
    "\n",
    "Consideriamo la matrice di varianze e covarianze della sottoscala Openness. "
   ]
  },
  {
   "cell_type": "code",
   "execution_count": 6,
   "id": "8c301c52",
   "metadata": {
    "vscode": {
     "languageId": "r"
    }
   },
   "outputs": [
    {
     "data": {
      "text/html": [
       "<table class=\"dataframe\">\n",
       "<caption>A matrix: 5 × 5 of type dbl</caption>\n",
       "<thead>\n",
       "\t<tr><th></th><th scope=col>O1</th><th scope=col>O2r</th><th scope=col>O3</th><th scope=col>O4</th><th scope=col>O5r</th></tr>\n",
       "</thead>\n",
       "<tbody>\n",
       "\t<tr><th scope=row>O1</th><td>1.28</td><td>0.38</td><td>0.54</td><td>0.25</td><td>0.36</td></tr>\n",
       "\t<tr><th scope=row>O2r</th><td>0.38</td><td>2.45</td><td>0.50</td><td>0.13</td><td>0.67</td></tr>\n",
       "\t<tr><th scope=row>O3</th><td>0.54</td><td>0.50</td><td>1.49</td><td>0.29</td><td>0.50</td></tr>\n",
       "\t<tr><th scope=row>O4</th><td>0.25</td><td>0.13</td><td>0.29</td><td>1.49</td><td>0.29</td></tr>\n",
       "\t<tr><th scope=row>O5r</th><td>0.36</td><td>0.67</td><td>0.50</td><td>0.29</td><td>1.76</td></tr>\n",
       "</tbody>\n",
       "</table>\n"
      ],
      "text/latex": [
       "A matrix: 5 × 5 of type dbl\n",
       "\\begin{tabular}{r|lllll}\n",
       "  & O1 & O2r & O3 & O4 & O5r\\\\\n",
       "\\hline\n",
       "\tO1 & 1.28 & 0.38 & 0.54 & 0.25 & 0.36\\\\\n",
       "\tO2r & 0.38 & 2.45 & 0.50 & 0.13 & 0.67\\\\\n",
       "\tO3 & 0.54 & 0.50 & 1.49 & 0.29 & 0.50\\\\\n",
       "\tO4 & 0.25 & 0.13 & 0.29 & 1.49 & 0.29\\\\\n",
       "\tO5r & 0.36 & 0.67 & 0.50 & 0.29 & 1.76\\\\\n",
       "\\end{tabular}\n"
      ],
      "text/markdown": [
       "\n",
       "A matrix: 5 × 5 of type dbl\n",
       "\n",
       "| <!--/--> | O1 | O2r | O3 | O4 | O5r |\n",
       "|---|---|---|---|---|---|\n",
       "| O1 | 1.28 | 0.38 | 0.54 | 0.25 | 0.36 |\n",
       "| O2r | 0.38 | 2.45 | 0.50 | 0.13 | 0.67 |\n",
       "| O3 | 0.54 | 0.50 | 1.49 | 0.29 | 0.50 |\n",
       "| O4 | 0.25 | 0.13 | 0.29 | 1.49 | 0.29 |\n",
       "| O5r | 0.36 | 0.67 | 0.50 | 0.29 | 1.76 |\n",
       "\n"
      ],
      "text/plain": [
       "    O1   O2r  O3   O4   O5r \n",
       "O1  1.28 0.38 0.54 0.25 0.36\n",
       "O2r 0.38 2.45 0.50 0.13 0.67\n",
       "O3  0.54 0.50 1.49 0.29 0.50\n",
       "O4  0.25 0.13 0.29 1.49 0.29\n",
       "O5r 0.36 0.67 0.50 0.29 1.76"
      ]
     },
     "metadata": {},
     "output_type": "display_data"
    }
   ],
   "source": [
    "C <- cov(bfi[c(\"O1\", \"O2r\", \"O3\", \"O4\", \"O5r\")], use = \"pairwise.complete.obs\")\n",
    "C |> round(2)"
   ]
  },
  {
   "cell_type": "markdown",
   "id": "addba824",
   "metadata": {},
   "source": [
    "In precedenza abbiamo visto come calcolare il coefficiente $\\alpha$ usando l'eq. {eq}`eq-alpha-camp`:"
   ]
  },
  {
   "cell_type": "code",
   "execution_count": 7,
   "id": "494388a6",
   "metadata": {
    "vscode": {
     "languageId": "r"
    }
   },
   "outputs": [
    {
     "data": {
      "text/html": [
       "0.600172514820215"
      ],
      "text/latex": [
       "0.600172514820215"
      ],
      "text/markdown": [
       "0.600172514820215"
      ],
      "text/plain": [
       "[1] 0.6001725"
      ]
     },
     "metadata": {},
     "output_type": "display_data"
    }
   ],
   "source": [
    "p <- 5\n",
    "alpha <- (p / (p - 1)) * (1 - tr(C) / sum(C))\n",
    "alpha"
   ]
  },
  {
   "attachments": {},
   "cell_type": "markdown",
   "id": "c1bf5533",
   "metadata": {},
   "source": [
    "\n",
    "### La formula \"profetica\" di Spearman-Brown\n",
    "\n",
    "La formula profetica di Spearman-Brown è utilizzata per valutare l'affidabilità in un modello di misurazione composto da indicatori paralleli. Immaginiamo di avere $p$ item paralleli, dove $\\lambda_1=\\lambda_2=\\dots=\\lambda_p=\\lambda$ e $\\psi_{11}=\\psi_{22}=\\dots=\\psi_{pp}=\\psi$. In questa situazione, la proporzione di varianza nel punteggio totale del test spiegata dalla variabile latente è uguale a\n",
    "\n",
    "$$\n",
    "\\left(\\sum_i \\lambda_i \\right)^2 = (p \\lambda)^2 = p^2 \\lambda^2.\n",
    "$$\n",
    "\n",
    "L'affidabilità di un singolo item, che chiameremo $\\rho_1$, è definita come\n",
    "\n",
    "$$\n",
    "\\rho_1 = \\frac{\\sigma_T^2}{\\sigma_T^2+ \\sigma_E^2} = \\frac{\\lambda^2}{\\lambda^2 + \\psi}.\n",
    "$$\n",
    "\n",
    "Per $p$ item paralleli, otteniamo\n",
    "\n",
    "$$\n",
    "\\begin{equation}\n",
    "\\begin{aligned}\n",
    "  \\rho_p &= \\frac{p^2 \\lambda^2}{p^2 \\lambda^2 + p \\psi} \\notag\\\\\n",
    "         &= \\frac{p^2 \\lambda^2}{ p (p \\lambda^2 + \\psi)} \\notag\\\\\n",
    "         &= \\frac{p \\lambda^2}{ p \\lambda^2 + \\psi} \\notag\\\\\n",
    "         &= \\frac{p \\lambda^2}{(p-1) \\lambda^2 + (\\lambda^2 + \\psi)}. \\notag\n",
    "\\end{aligned}\n",
    "\\end{equation}\n",
    "$$\n",
    "\n",
    "Ricordando che l'affidabilità di un singolo item è $\\rho_1 = \\frac{\\lambda^2}{\\lambda^2 + \\psi}$, possiamo scrivere\n",
    "\n",
    "$$\n",
    "\\begin{equation}\n",
    "\\begin{aligned}\n",
    "  \\rho_p &= \\frac{p \\frac{\\lambda^2}{\\lambda^2+\\psi}}{(p-1) \\frac{\\lambda^2}{\\lambda^2+\\psi} + \\frac{\\lambda^2 + \\psi}{\\lambda^2+\\psi}} \\notag\\\\\n",
    "  &= \\frac{p \\rho_1}{(p-1)\\rho_1 + 1}.\n",
    "\\end{aligned}\n",
    "\\end{equation}\n",
    "$$(eq-spearman-brown-der)\n",
    "\n",
    "L'eq. {eq}`eq-spearman-brown-der` esprime l'affidabilità $\\rho_p$ di un test composto da $p$ item paralleli come una funzione dell'affidabilità di un singolo item. Questa formula è conosciuta come la \"formula di predizione\" di Spearman-Brown (*Spearman-Brown prophecy formula*). \n",
    "\n",
    "Nel caso di item paralleli, possiamo notare che\n",
    "\n",
    "$$\n",
    "\\omega=\\alpha=\\rho_p.\n",
    "$$\n",
    "\n",
    "#### Un esempio concreto\n",
    "\n",
    "Poniamoci il problema di calcolare l'attendibilità della sottoscala Openness utilizzando la formula di Spearman-Brown. Ipotizziamo dunque che gli item della scala Openness siano paralleli. La matrice di correlazione è:"
   ]
  },
  {
   "cell_type": "code",
   "execution_count": 38,
   "id": "756a8169",
   "metadata": {
    "vscode": {
     "languageId": "r"
    }
   },
   "outputs": [],
   "source": [
    "R <- cor(bfi[c(\"O1\", \"O2r\", \"O3\", \"O4\", \"O5r\")], use = \"pairwise.complete.obs\")"
   ]
  },
  {
   "attachments": {},
   "cell_type": "markdown",
   "id": "534c5e3b",
   "metadata": {},
   "source": [
    "Seguendo {cite:t}`mcdonald2013test`, supponiamo di calcolare l'attendibilità di un singolo item ($\\rho_1$) come la correlazione media tra gli item:"
   ]
  },
  {
   "cell_type": "code",
   "execution_count": 39,
   "id": "4170c752",
   "metadata": {
    "vscode": {
     "languageId": "r"
    }
   },
   "outputs": [
    {
     "data": {
      "text/html": [
       "0.236538319550859"
      ],
      "text/latex": [
       "0.236538319550859"
      ],
      "text/markdown": [
       "0.236538319550859"
      ],
      "text/plain": [
       "[1] 0.2365383"
      ]
     },
     "metadata": {},
     "output_type": "display_data"
    }
   ],
   "source": [
    "rr <- NULL\n",
    "p <- 5\n",
    "k <- 1\n",
    "for (i in 1:p) {\n",
    "  for (j in 1:p) {\n",
    "    if (j != i) {\n",
    "      rr[k] <- R[i, j]\n",
    "    }\n",
    "    k <- k + 1\n",
    "  }\n",
    "}\n",
    "ro_1 <- mean(rr, na.rm = TRUE)\n",
    "ro_1"
   ]
  },
  {
   "attachments": {},
   "cell_type": "markdown",
   "id": "d330993d",
   "metadata": {},
   "source": [
    "Applicando la formula di Spearman-Brown, la stima dell'attendibilità del\n",
    "test diventa pari a"
   ]
  },
  {
   "cell_type": "code",
   "execution_count": 40,
   "id": "9ddf57a3",
   "metadata": {
    "vscode": {
     "languageId": "r"
    }
   },
   "outputs": [
    {
     "data": {
      "text/html": [
       "0.60770732243972"
      ],
      "text/latex": [
       "0.60770732243972"
      ],
      "text/markdown": [
       "0.60770732243972"
      ],
      "text/plain": [
       "[1] 0.6077073"
      ]
     },
     "metadata": {},
     "output_type": "display_data"
    }
   ],
   "source": [
    "(p * ro_1) / ((p - 1) * ro_1 + 1)"
   ]
  },
  {
   "attachments": {},
   "cell_type": "markdown",
   "id": "7baabbbd",
   "metadata": {},
   "source": [
    "## Commenti e considerazioni conclusive\n",
    "\n",
    "L'indice di affidabilità ampiamente utilizzato nell'ambito della psicometria è il coefficiente $\\alpha$ di Cronbach. Tuttavia, per ottenere una stima attendibile dell'affidabilità del test tramite $\\alpha$, è necessario che gli item siano $\\tau$-equivalenti. Questo significa che il modello di $\\tau$-equivalenza richiede che il tratto latente sia unidimensionale. Tuttavia, in pratica, spesso questa assunzione viene violata, poiché molti test misurano oltre al fattore generale, anche altri fattori. Addirittura, anche nel caso di un test unidimensionale, le comunalità degli item solitamente non sono uguali, infrangendo l'ipotesi di $\\tau$-equivalenza. In situazioni del genere, se l'assunzione di incorrelazione degli errori è rispettata, il coefficiente $\\alpha$ tende a sottostimare l'affidabilità del test. D'altro canto, se l'assunzione di incorrelazione degli errori non è soddisfatta, il coefficiente $\\alpha$ può sovrastimare l'affidabilità del test.\n",
    "\n",
    "Per queste ragioni, l'utilità del coefficiente $\\alpha$ di Cronbach è limitata, e in generale, è preferibile adottare il coefficiente $\\omega$ introdotto da {cite:t}`mcdonald2013test`. Altre alternative ai coefficienti $\\alpha$ e $\\omega$ includono gli indici $glb$ (*Greatest Lower Bound*), come discusso da Ten Berge e Sočan (2004), e l'indice $\\beta$ proposto da Revelle (1979).\n"
   ]
  }
 ],
 "metadata": {
  "jupytext": {
   "cell_metadata_filter": "fig.cap,tags,name,out.width,-all",
   "main_language": "R",
   "notebook_metadata_filter": "-all"
  },
  "kernelspec": {
   "display_name": "R",
   "language": "R",
   "name": "ir"
  },
  "language_info": {
   "codemirror_mode": "r",
   "file_extension": ".r",
   "mimetype": "text/x-r-source",
   "name": "R",
   "pygments_lexer": "r",
   "version": "4.3.2"
  }
 },
 "nbformat": 4,
 "nbformat_minor": 5
}