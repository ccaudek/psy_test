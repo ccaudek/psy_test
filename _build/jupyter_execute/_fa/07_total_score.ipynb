{
 "cells": [
  {
   "attachments": {},
   "cell_type": "markdown",
   "id": "ad9e3346",
   "metadata": {},
   "source": [
    "(reliability-fa-notebook)=\n",
    "# Punteggio totale e modello fattoriale "
   ]
  },
  {
   "cell_type": "code",
   "execution_count": 1,
   "id": "b3c30e25",
   "metadata": {
    "tags": [
     "remove_cell"
    ],
    "vscode": {
     "languageId": "r"
    }
   },
   "outputs": [],
   "source": [
    "source(\"../_common.R\")\n",
    "suppressPackageStartupMessages({\n",
    "    library(\"psych\")\n",
    "    library(\"lavaan\")\n",
    "    library(\"modelsummary\") # for summarizing data\n",
    "})"
   ]
  },
  {
   "attachments": {},
   "cell_type": "markdown",
   "id": "aa1a75fa",
   "metadata": {},
   "source": [
    "In questo capitolo discute l'uso del punteggio totale del test quale misura del costrutto latente. Questa è una pratica largamente usata, ma solo in parte giustificata. Esamineremo a questo proposito le considerazioni di McNeish e Wolf (2020)."
   ]
  },
  {
   "attachments": {},
   "cell_type": "markdown",
   "id": "00d0d62a",
   "metadata": {},
   "source": [
    "## Punteggio totale e modello fattoriale parallelo\n",
    "\n",
    "McNeish e Wolf (2020) richiamano l'attenzione sul fatto che usare il punteggio totale quale misura di un costrutto è possibile solo quando i dati soddisfano i vincoli di un modello fattoriale parallelo.\n",
    "\n",
    "Consideriamo l'esempio seguente, nel quale McNeish e Wolf (2020) esaminano i dati \"classici\" di Holzinger and Swineford (1939), i quali si riferiscono ai seguenti item:\n",
    "\n",
    "- Paragraph comprehension\n",
    "- Sentence completion\n",
    "- Word definitions\n",
    "- Speeded addition\n",
    "- Speeded dot counting\n",
    "- Discrimination between curved and straight letters\n",
    "\n",
    "Leggiamo i dati in R."
   ]
  },
  {
   "cell_type": "code",
   "execution_count": 2,
   "id": "319ca112",
   "metadata": {
    "vscode": {
     "languageId": "r"
    }
   },
   "outputs": [
    {
     "ename": "ERROR",
     "evalue": "Error: No such file: data/1_Factor_Parallel.csv\n",
     "output_type": "error",
     "traceback": [
      "Error: No such file: data/1_Factor_Parallel.csv\nTraceback:\n",
      "1. rio::import(\"data/1_Factor_Parallel.csv\")",
      "2. stop(\"No such file: \", file, call. = FALSE)"
     ]
    }
   ],
   "source": [
    "d <- rio::import(\n",
    "  \"data/1_Factor_Parallel.csv\"\n",
    ")"
   ]
  },
  {
   "attachments": {},
   "cell_type": "markdown",
   "id": "aa461352",
   "metadata": {},
   "source": [
    "McNeish e Wolf (2020) sottolineano il fatto che il punteggio totale \n",
    "\n",
    "$$\n",
    "\\text{Punteggio totale} = \\text{Item 1 + Item 2 + Item 3 + Item 4 + Item 5 + Item 6}\n",
    "$$\n",
    "\n",
    "rappresenta l'idea che ciasun item fornisca la stessa quantità di informazione relativamente alla misura del costrutto. Ciò può essere specificato da un modello fattoriale nel quale le saturazioni fattoriali degli item sono tutte uguali a 1. Questo corrisponde al modello parallelo che abbiamo discusso in precedenza. In tali circostanze, i punteggi fattoriali del test risultano perfettamente associati al punteggio totale (correlazione uguale a 1). Dunque, se tale modello fattoriale è giustificato dai dati, questo giustifica l'uso del punteggio totale del test quale misura del costrutto.\n",
    "\n",
    "È facile verificare tali affermazioni.  Implementiamo il modello parallelo."
   ]
  },
  {
   "cell_type": "code",
   "execution_count": null,
   "id": "c0942e65",
   "metadata": {
    "vscode": {
     "languageId": "r"
    }
   },
   "outputs": [],
   "source": [
    "m_parallel <-\n",
    "  \"\n",
    "  # all loadings are fixed to one\n",
    "  f1 =~ 1*X4 + 1*X5 + 1*X6 + 1*X7 + 1*X8 + 1*X9\n",
    "  \n",
    "  # all residual variances constrained to same value\n",
    "  X4 ~~ theta*X4\n",
    "  X5 ~~ theta*X5\n",
    "  X6 ~~ theta*X6\n",
    "  X7 ~~ theta*X7\n",
    "  X8 ~~ theta*X8\n",
    "  X9 ~~ theta*X9\n",
    "\""
   ]
  },
  {
   "attachments": {},
   "cell_type": "markdown",
   "id": "c17e3dfa",
   "metadata": {},
   "source": [
    "Adattiamo il modello parallelo ai dati forniti dagli autori."
   ]
  },
  {
   "cell_type": "code",
   "execution_count": null,
   "id": "a41046cf",
   "metadata": {
    "vscode": {
     "languageId": "r"
    }
   },
   "outputs": [],
   "source": [
    "fit_parallel <- sem(m_parallel, data=d)"
   ]
  },
  {
   "attachments": {},
   "cell_type": "markdown",
   "id": "d17eb8a3",
   "metadata": {},
   "source": [
    "Calcoliamo il punteggio totale."
   ]
  },
  {
   "cell_type": "code",
   "execution_count": null,
   "id": "7c4cffb6",
   "metadata": {
    "vscode": {
     "languageId": "r"
    }
   },
   "outputs": [],
   "source": [
    "d$ts <- with(\n",
    "  d,\n",
    "  X4 + X5 + X6 + X7 + X8 + X9\n",
    ")"
   ]
  },
  {
   "attachments": {},
   "cell_type": "markdown",
   "id": "5cf10545",
   "metadata": {},
   "source": [
    "Calcoliamo i punteggi fattoriali."
   ]
  },
  {
   "cell_type": "code",
   "execution_count": null,
   "id": "2f1fa4b5",
   "metadata": {
    "vscode": {
     "languageId": "r"
    }
   },
   "outputs": [],
   "source": [
    "scores <- lavPredict(fit_parallel, method=\"regression\")\n",
    "d$scores <- as.numeric(scores)"
   ]
  },
  {
   "attachments": {},
   "cell_type": "markdown",
   "id": "484c631d",
   "metadata": {},
   "source": [
    "Un diagramma a dispersione tra il punteggio totale e i punteggi fattoriali conferma che i due sono perfettamente associati. Quindi, usare il punteggio totale o i punteggi fattoriali è equivalente."
   ]
  },
  {
   "cell_type": "code",
   "execution_count": null,
   "id": "e9075522",
   "metadata": {
    "vscode": {
     "languageId": "r"
    }
   },
   "outputs": [],
   "source": [
    "d |> \n",
    "  ggplot(aes(x=ts, y=scores)) + \n",
    "  geom_point()"
   ]
  },
  {
   "attachments": {},
   "cell_type": "markdown",
   "id": "d232c0fb",
   "metadata": {},
   "source": [
    "Tuttavia, questa conclusione è valida solo se il modello parallelo è giustificato per i dati.  Se esaminiamo l'output di lavaan vediamo che, nel caso presente, questo non è vero."
   ]
  },
  {
   "cell_type": "code",
   "execution_count": null,
   "id": "433b70ae",
   "metadata": {
    "vscode": {
     "languageId": "r"
    }
   },
   "outputs": [],
   "source": [
    "# report output with fit measures and standardized estimates\n",
    "out = summary(fit_parallel, fit.measures = TRUE, standardized = TRUE)\n",
    "print(out)"
   ]
  },
  {
   "attachments": {},
   "cell_type": "markdown",
   "id": "4401ccd5",
   "metadata": {},
   "source": [
    "Dunque, per questi dati, il punteggio totale può ovviamente essere calcolato. Ma *non fornisce una misura adeguata del costrutto*. Dunque, il punteggio totale non dovrebbe essere usato nel caso dei dati ottenuti con questo test.\n",
    "\n",
    "## Punteggio totale e modello fattoriale congenerico\n",
    "\n",
    "Gli autori adattano ai dati un modello congenerico."
   ]
  },
  {
   "cell_type": "code",
   "execution_count": null,
   "id": "8adaef9b",
   "metadata": {
    "vscode": {
     "languageId": "r"
    }
   },
   "outputs": [],
   "source": [
    "m_congeneric <- \n",
    "'\n",
    "  #all loadings are uniquely estimated\n",
    "  f1 =~ NA*X4 + X5 + X6 + X7 + X8 + X9\n",
    "  #constrain factor variance to 1\n",
    "  f1 ~~ 1*f1\n",
    "'"
   ]
  },
  {
   "cell_type": "code",
   "execution_count": null,
   "id": "a43d5a42",
   "metadata": {
    "vscode": {
     "languageId": "r"
    }
   },
   "outputs": [],
   "source": [
    "# Fit above model\n",
    "fit_congeneric <- sem(m_congeneric, data=d)"
   ]
  },
  {
   "cell_type": "code",
   "execution_count": null,
   "id": "b6e35980",
   "metadata": {
    "vscode": {
     "languageId": "r"
    }
   },
   "outputs": [],
   "source": [
    "parameterEstimates(fit_congeneric, standardized = TRUE) %>%\n",
    "  dplyr::filter(op == \"=~\") %>%\n",
    "  dplyr::select(\n",
    "    \"Latent Factor\" = lhs,\n",
    "    Indicator = rhs,\n",
    "    B = est,\n",
    "    SE = se,\n",
    "    Z = z,\n",
    "    \"p-value\" = pvalue,\n",
    "    Beta = std.all\n",
    "  ) %>%\n",
    "  knitr::kable(\n",
    "    digits = 3, booktabs = TRUE, format = \"markdown\",\n",
    "    caption = \"Factor Loadings\"\n",
    "  )"
   ]
  },
  {
   "attachments": {},
   "cell_type": "markdown",
   "id": "e25dd634",
   "metadata": {},
   "source": [
    "Si noti che le saturazioni fattoriali standardizzate sono molto diverse tra loro, suggerendo che il punteggio del costrutto si relaziona in modo diverso con ciascun item e che sarebbe inappropriato stimare il punteggio del costrutto assegnando un peso unitario agli item.\n",
    "\n",
    "McNeish e Wolf (2020) calcolano poi i punteggi fattoriali del modello congenerico."
   ]
  },
  {
   "cell_type": "code",
   "execution_count": null,
   "id": "87aa1219",
   "metadata": {
    "vscode": {
     "languageId": "r"
    }
   },
   "outputs": [],
   "source": [
    "scores_cong <- lavPredict(fit_congeneric, method=\"regression\")\n",
    "d$scores_cong <- as.numeric(scores_cong)"
   ]
  },
  {
   "attachments": {},
   "cell_type": "markdown",
   "id": "7bdb0fe9",
   "metadata": {},
   "source": [
    "Il grafico seguente mostra la relazione tra i punteggi fattoriali e il punteggio totale."
   ]
  },
  {
   "cell_type": "code",
   "execution_count": null,
   "id": "1aa728ad",
   "metadata": {
    "vscode": {
     "languageId": "r"
    }
   },
   "outputs": [],
   "source": [
    "d |> \n",
    "  ggplot(aes(x=ts, y=scores_cong)) + \n",
    "  geom_point()"
   ]
  },
  {
   "attachments": {},
   "cell_type": "markdown",
   "id": "3670d0bc",
   "metadata": {},
   "source": [
    "Nel caso presente, il coefficiente di determinazione tra punteggio totale e punteggi fattoriali è 0.77."
   ]
  },
  {
   "cell_type": "code",
   "execution_count": null,
   "id": "89b91b74",
   "metadata": {
    "vscode": {
     "languageId": "r"
    }
   },
   "outputs": [],
   "source": [
    "cor(d$ts, d$scores_cong)^2"
   ]
  },
  {
   "attachments": {},
   "cell_type": "markdown",
   "id": "23e176df",
   "metadata": {},
   "source": [
    "Secondo gli autori, ciò significa che due persone con un punteggio totale identico potrebbero avere punteggi di modello congenerico potenzialmente diversi perché hanno raggiunto il loro particolare punteggio totale approvando item diversi. Poiché il modello congenerico assegna pesi diversi agli item, ciascun item contribuisce in modo diverso al punteggio fattoriale del modello congenerico, il che non è vero per il punteggio totale. \n",
    "\n",
    "Si noti che, per i dati di Holzinger and Swineford (1939), neppure un modello congenerico ad un fattore si dimostra adeguato."
   ]
  },
  {
   "cell_type": "code",
   "execution_count": null,
   "id": "90d1d9ce",
   "metadata": {
    "vscode": {
     "languageId": "r"
    }
   },
   "outputs": [],
   "source": [
    "out = summary(fit_congeneric, fit.measures = TRUE, standardized = TRUE)\n",
    "print(out)"
   ]
  },
  {
   "attachments": {},
   "cell_type": "markdown",
   "id": "7d37936d",
   "metadata": {},
   "source": [
    "Trascurando le considerazioni sulla struttura fattoriale e esaminando, per esempio, unicamente il coefficiente omega, finiamo per trovare una risposta accettabile, ma sbagliata."
   ]
  },
  {
   "cell_type": "code",
   "execution_count": null,
   "id": "ab69bd88",
   "metadata": {
    "lines_to_next_cell": 2,
    "vscode": {
     "languageId": "r"
    }
   },
   "outputs": [],
   "source": [
    "psych::omega(d[, 1:6])"
   ]
  },
  {
   "attachments": {},
   "cell_type": "markdown",
   "id": "d29ff9b5",
   "metadata": {},
   "source": [
    "È invece necessario ipotizzare un modello congenerico a due fattori."
   ]
  },
  {
   "cell_type": "code",
   "execution_count": null,
   "id": "9b67ae69",
   "metadata": {
    "vscode": {
     "languageId": "r"
    }
   },
   "outputs": [],
   "source": [
    "m2f_cong <- '\n",
    "  # all loadings are uniquely estimated on each factor\n",
    "  f1 =~ NA*X4 + X5 + X6\n",
    "  f2 =~ NA*X7 + X8 + X9\n",
    "  \n",
    "  # constrain factor variancse to 1\n",
    "  f1 ~~ 1*f1\n",
    "  f2 ~~ 1*f2\n",
    "  \n",
    "  # estimate factor covariance\n",
    "  f1 ~~ f2\n",
    "'"
   ]
  },
  {
   "cell_type": "code",
   "execution_count": null,
   "id": "62925039",
   "metadata": {
    "vscode": {
     "languageId": "r"
    }
   },
   "outputs": [],
   "source": [
    "# Fit above model\n",
    "fit_2f_congeneric <- sem(m2f_cong, data=d)"
   ]
  },
  {
   "attachments": {},
   "cell_type": "markdown",
   "id": "518d9644",
   "metadata": {},
   "source": [
    "Solo questo modello fornisce un adattamento adeguato ai dati."
   ]
  },
  {
   "cell_type": "code",
   "execution_count": null,
   "id": "6915838c",
   "metadata": {
    "lines_to_next_cell": 2,
    "vscode": {
     "languageId": "r"
    }
   },
   "outputs": [],
   "source": [
    "out = summary(fit_2f_congeneric, fit.measures = TRUE, standardized = TRUE)\n",
    "print(out)"
   ]
  },
  {
   "cell_type": "markdown",
   "id": "a5f22ab2",
   "metadata": {},
   "source": [
    "Nel caso di un modello congenerico, però, l'uso del punteggio totale (somma dei punteggi degli item), non è una misura adeguata del costrutto latente."
   ]
  },
  {
   "cell_type": "markdown",
   "id": "ec8ba2cc",
   "metadata": {},
   "source": [
    "## Session Info"
   ]
  },
  {
   "cell_type": "code",
   "execution_count": 3,
   "id": "04d756f3",
   "metadata": {
    "vscode": {
     "languageId": "r"
    }
   },
   "outputs": [
    {
     "data": {
      "text/plain": [
       "R version 4.3.2 (2023-10-31)\n",
       "Platform: aarch64-apple-darwin20 (64-bit)\n",
       "Running under: macOS Sonoma 14.3.1\n",
       "\n",
       "Matrix products: default\n",
       "BLAS:   /Library/Frameworks/R.framework/Versions/4.3-arm64/Resources/lib/libRblas.0.dylib \n",
       "LAPACK: /Library/Frameworks/R.framework/Versions/4.3-arm64/Resources/lib/libRlapack.dylib;  LAPACK version 3.11.0\n",
       "\n",
       "locale:\n",
       "[1] C\n",
       "\n",
       "time zone: Europe/Rome\n",
       "tzcode source: internal\n",
       "\n",
       "attached base packages:\n",
       "[1] stats     graphics  grDevices utils     datasets  methods   base     \n",
       "\n",
       "other attached packages:\n",
       " [1] modelsummary_1.4.5 ggokabeito_0.1.0   viridis_0.6.5      viridisLite_0.4.2 \n",
       " [5] ggpubr_0.6.0       ggExtra_0.10.1     bayesplot_1.11.1   gridExtra_2.3     \n",
       " [9] patchwork_1.2.0    semTools_0.5-6     semPlot_1.1.6      lavaan_0.6-17     \n",
       "[13] psych_2.4.1        scales_1.3.0       markdown_1.12      knitr_1.45        \n",
       "[17] lubridate_1.9.3    forcats_1.0.0      stringr_1.5.1      dplyr_1.1.4       \n",
       "[21] purrr_1.0.2        readr_2.1.5        tidyr_1.3.1        tibble_3.2.1      \n",
       "[25] ggplot2_3.4.4      tidyverse_2.0.0    here_1.0.1        \n",
       "\n",
       "loaded via a namespace (and not attached):\n",
       "  [1] rstudioapi_0.15.0  jsonlite_1.8.8     magrittr_2.0.3    \n",
       "  [4] TH.data_1.1-2      estimability_1.5   nloptr_2.0.3      \n",
       "  [7] rmarkdown_2.25     vctrs_0.6.5        minqa_1.2.6       \n",
       " [10] base64enc_0.1-3    rstatix_0.7.2      htmltools_0.5.7   \n",
       " [13] broom_1.0.5        Formula_1.2-5      htmlwidgets_1.6.4 \n",
       " [16] plyr_1.8.9         sandwich_3.1-0     emmeans_1.10.0    \n",
       " [19] zoo_1.8-12         uuid_1.2-0         igraph_2.0.2      \n",
       " [22] mime_0.12          lifecycle_1.0.4    pkgconfig_2.0.3   \n",
       " [25] Matrix_1.6-5       R6_2.5.1           fastmap_1.1.1     \n",
       " [28] shiny_1.8.0        digest_0.6.34      OpenMx_2.21.11    \n",
       " [31] fdrtool_1.2.17     colorspace_2.1-0   rprojroot_2.0.4   \n",
       " [34] Hmisc_5.1-1        fansi_1.0.6        timechange_0.3.0  \n",
       " [37] abind_1.4-5        compiler_4.3.2     withr_3.0.0       \n",
       " [40] glasso_1.11        htmlTable_2.4.2    backports_1.4.1   \n",
       " [43] carData_3.0-5      ggsignif_0.6.4     MASS_7.3-60.0.1   \n",
       " [46] corpcor_1.6.10     gtools_3.9.5       tools_4.3.2       \n",
       " [49] pbivnorm_0.6.0     foreign_0.8-86     zip_2.3.1         \n",
       " [52] httpuv_1.6.14      nnet_7.3-19        glue_1.7.0        \n",
       " [55] quadprog_1.5-8     nlme_3.1-164       promises_1.2.1    \n",
       " [58] lisrelToR_0.3      grid_4.3.2         pbdZMQ_0.3-11     \n",
       " [61] checkmate_2.3.1    cluster_2.1.6      reshape2_1.4.4    \n",
       " [64] generics_0.1.3     gtable_0.3.4       tzdb_0.4.0        \n",
       " [67] data.table_1.15.0  hms_1.1.3          car_3.1-2         \n",
       " [70] utf8_1.2.4         tables_0.9.17      sem_3.1-15        \n",
       " [73] pillar_1.9.0       IRdisplay_1.1      rockchalk_1.8.157 \n",
       " [76] later_1.3.2        splines_4.3.2      lattice_0.22-5    \n",
       " [79] survival_3.5-8     kutils_1.73        tidyselect_1.2.0  \n",
       " [82] miniUI_0.1.1.1     pbapply_1.7-2      stats4_4.3.2      \n",
       " [85] xfun_0.42          qgraph_1.9.8       arm_1.13-1        \n",
       " [88] stringi_1.8.3      boot_1.3-29        evaluate_0.23     \n",
       " [91] codetools_0.2-19   mi_1.1             cli_3.6.2         \n",
       " [94] RcppParallel_5.1.7 IRkernel_1.3.2     rpart_4.1.23      \n",
       " [97] xtable_1.8-4       repr_1.1.6         munsell_0.5.0     \n",
       "[100] Rcpp_1.0.12        coda_0.19-4.1      png_0.1-8         \n",
       "[103] XML_3.99-0.16.1    parallel_4.3.2     ellipsis_0.3.2    \n",
       "[106] jpeg_0.1-10        lme4_1.1-35.1      mvtnorm_1.2-4     \n",
       "[109] insight_0.19.8     openxlsx_4.2.5.2   crayon_1.5.2      \n",
       "[112] rlang_1.1.3        multcomp_1.4-25    mnormt_2.1.1      "
      ]
     },
     "metadata": {},
     "output_type": "display_data"
    }
   ],
   "source": [
    "sessionInfo()"
   ]
  }
 ],
 "metadata": {
  "jupytext": {
   "cell_metadata_filter": "fig.cap,tags,name,out.width,-all",
   "main_language": "R",
   "notebook_metadata_filter": "-all"
  },
  "kernelspec": {
   "display_name": "R",
   "language": "R",
   "name": "ir"
  },
  "language_info": {
   "codemirror_mode": "r",
   "file_extension": ".r",
   "mimetype": "text/x-r-source",
   "name": "R",
   "pygments_lexer": "r",
   "version": "4.3.1"
  }
 },
 "nbformat": 4,
 "nbformat_minor": 5
}